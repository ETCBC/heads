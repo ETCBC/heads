{
 "cells": [
  {
   "cell_type": "markdown",
   "metadata": {},
   "source": [
    "# Testing Wordgrammar Wordsets\n",
    "\n",
    "This notebook examines the output of the wordsets pipeline to ensure that the data being produced is good."
   ]
  },
  {
   "cell_type": "code",
   "execution_count": 1,
   "metadata": {},
   "outputs": [
    {
     "name": "stdout",
     "output_type": "stream",
     "text": [
      "   |     0.00s No structure info in otext, the structure part of the T-API cannot be used\n"
     ]
    },
    {
     "data": {
      "text/html": [
       "<style>\n",
       "@font-face {\n",
       "  font-family: \"Ezra SIL\";\n",
       "  src:\n",
       "    local(\"SILEOT.ttf\"),\n",
       "    url(\"https://github.com/annotation/text-fabric/blob/master/tf/server/static/fonts/SILEOT.woff?raw=true\");\n",
       "}\n",
       ".features {\n",
       "    font-family: monospace;\n",
       "    font-size: medium;\n",
       "    font-weight: bold;\n",
       "    color: #0a6611;\n",
       "    display: flex;\n",
       "    flex-flow: column nowrap;\n",
       "    padding: 0.1em;\n",
       "    margin: 0.1em;\n",
       "    direction: ltr;\n",
       "}\n",
       ".features div,.features span {\n",
       "    padding: 0;\n",
       "    margin: -0.1rem 0;\n",
       "}\n",
       ".features .f {\n",
       "    font-family: sans-serif;\n",
       "    font-size: x-small;\n",
       "    font-weight: normal;\n",
       "    color: #5555bb;\n",
       "}\n",
       ".features .xft {\n",
       "  color: #000000;\n",
       "  background-color: #eeeeee;\n",
       "  font-size: medium;\n",
       "  margin: 0.1em 0em;\n",
       "}\n",
       ".features .xft .f {\n",
       "  color: #000000;\n",
       "  background-color: #eeeeee;\n",
       "  font-style: italic;\n",
       "  font-size: small;\n",
       "  font-weight: normal;\n",
       "}\n",
       ".ltr {\n",
       "    direction: ltr ! important;\n",
       "}\n",
       ".verse {\n",
       "    display: flex;\n",
       "    flex-flow: row wrap;\n",
       "    direction: rtl;\n",
       "}\n",
       ".vl {\n",
       "    display: flex;\n",
       "    flex-flow: column nowrap;\n",
       "    justify-content: flex-end;\n",
       "    align-items: flex-end;\n",
       "    direction: ltr;\n",
       "    width: 100%;\n",
       "}\n",
       ".outeritem {\n",
       "    display: flex;\n",
       "    flex-flow: row wrap;\n",
       "    direction: rtl;\n",
       "}\n",
       ".sentence,.clause,.phrase {\n",
       "    margin-top: -1.2em;\n",
       "    margin-left: 1em;\n",
       "    background: #ffffff none repeat scroll 0 0;\n",
       "    padding: 0 0.3em;\n",
       "    border-style: solid;\n",
       "    border-radius: 0.2em;\n",
       "    font-size: small;\n",
       "    display: block;\n",
       "    width: fit-content;\n",
       "    max-width: fit-content;\n",
       "    direction: ltr;\n",
       "}\n",
       ".atoms {\n",
       "    display: flex;\n",
       "    flex-flow: row wrap;\n",
       "    margin: 0.3em;\n",
       "    padding: 0.3em;\n",
       "    direction: rtl;\n",
       "    background-color: #ffffff;\n",
       "}\n",
       ".satom,.catom,.patom {\n",
       "    margin: 0.3em;\n",
       "    padding: 0.3em;\n",
       "    border-radius: 0.3em;\n",
       "    border-style: solid;\n",
       "    display: flex;\n",
       "    flex-flow: column nowrap;\n",
       "    direction: rtl;\n",
       "    background-color: #ffffff;\n",
       "}\n",
       ".sentence {\n",
       "    border-color: #aa3333;\n",
       "    border-width: 1px;\n",
       "}\n",
       ".clause {\n",
       "    border-color: #aaaa33;\n",
       "    border-width: 1px;\n",
       "}\n",
       ".phrase {\n",
       "    border-color: #33aaaa;\n",
       "    border-width: 1px;\n",
       "}\n",
       ".satom {\n",
       "    border-color: #aa3333;\n",
       "    border-width: 4px;\n",
       "}\n",
       ".catom {\n",
       "    border-color: #aaaa33;\n",
       "    border-width: 3px;\n",
       "}\n",
       ".patom {\n",
       "    border-color: #33aaaa;\n",
       "    border-width: 3px;\n",
       "}\n",
       ".word {\n",
       "    padding: 0.1em;\n",
       "    margin: 0.1em;\n",
       "    border-radius: 0.1em;\n",
       "    border: 1px solid #cccccc;\n",
       "    display: flex;\n",
       "    flex-flow: column nowrap;\n",
       "    direction: rtl;\n",
       "    background-color: #ffffff;\n",
       "}\n",
       ".lextp {\n",
       "    padding: 0.1em;\n",
       "    margin: 0.1em;\n",
       "    border-radius: 0.1em;\n",
       "    border: 2px solid #888888;\n",
       "    width: fit-content;\n",
       "    display: flex;\n",
       "    flex-flow: column nowrap;\n",
       "    direction: rtl;\n",
       "    background-color: #ffffff;\n",
       "}\n",
       ".occs {\n",
       "    font-size: x-small;\n",
       "}\n",
       ".satom.l,.catom.l,.patom.l {\n",
       "    border-left-style: dotted\n",
       "}\n",
       ".satom.r,.catom.r,.patom.r {\n",
       "    border-right-style: dotted\n",
       "}\n",
       ".satom.lno,.catom.lno,.patom.lno {\n",
       "    border-left-style: none\n",
       "}\n",
       ".satom.rno,.catom.rno,.patom.rno {\n",
       "    border-right-style: none\n",
       "}\n",
       ".tr,.tr a:visited,.tr a:link {\n",
       "    font-family: sans-serif;\n",
       "    font-size: large;\n",
       "    color: #000044;\n",
       "    direction: ltr;\n",
       "    text-decoration: none;\n",
       "}\n",
       ".trb,.trb a:visited,.trb a:link {\n",
       "    font-family: sans-serif;\n",
       "    font-size: normal;\n",
       "    direction: ltr;\n",
       "    text-decoration: none;\n",
       "}\n",
       ".prb,.prb a:visited,.prb a:link {\n",
       "    font-family: sans-serif;\n",
       "    font-size: large;\n",
       "    direction: ltr;\n",
       "    text-decoration: none;\n",
       "}\n",
       ".h,.h a:visited,.h a:link {\n",
       "    font-family: \"Ezra SIL\", \"SBL Hebrew\", sans-serif;\n",
       "    font-size: large;\n",
       "    color: #000044;\n",
       "    direction: rtl;\n",
       "    text-decoration: none;\n",
       "}\n",
       ".hb,.hb a:visited,.hb a:link {\n",
       "    font-family: \"Ezra SIL\", \"SBL Hebrew\", sans-serif;\n",
       "    font-size: large;\n",
       "    line-height: 2;\n",
       "    direction: rtl;\n",
       "    text-decoration: none;\n",
       "}\n",
       ".vn {\n",
       "  font-size: small !important;\n",
       "  padding-right: 1em;\n",
       "}\n",
       ".rela,.function,.typ {\n",
       "    font-family: monospace;\n",
       "    font-size: small;\n",
       "    color: #0000bb;\n",
       "}\n",
       ".pdp,.pdp a:visited,.pdp a:link {\n",
       "    font-family: monospace;\n",
       "    font-size: medium;\n",
       "    color: #0000bb;\n",
       "    text-decoration: none;\n",
       "}\n",
       ".voc_lex {\n",
       "    font-family: monospace;\n",
       "    font-size: medium;\n",
       "    color: #0000bb;\n",
       "}\n",
       ".vs {\n",
       "    font-family: monospace;\n",
       "    font-size: medium;\n",
       "    font-weight: bold;\n",
       "    color: #0000bb;\n",
       "}\n",
       ".vt {\n",
       "    font-family: monospace;\n",
       "    font-size: medium;\n",
       "    font-weight: bold;\n",
       "    color: #0000bb;\n",
       "}\n",
       ".gloss {\n",
       "    font-family: sans-serif;\n",
       "    font-size: small;\n",
       "    font-weight: normal;\n",
       "    color: #444444;\n",
       "}\n",
       ".vrs {\n",
       "    font-family: sans-serif;\n",
       "    font-size: small;\n",
       "    font-weight: bold;\n",
       "    color: #444444;\n",
       "}\n",
       ".nd {\n",
       "    font-family: monospace;\n",
       "    font-size: x-small;\n",
       "    color: #999999;\n",
       "}\n",
       ".hl {\n",
       "    background-color: #ffee66;\n",
       "}\n",
       "\n",
       "tr.tf, td.tf, th.tf {\n",
       "  text-align: left;\n",
       "}\n",
       "\n",
       "span.hldot {\n",
       "\tbackground-color: var(--hl-strong);\n",
       "\tborder: 0.2rem solid var(--hl-rim);\n",
       "\tborder-radius: 0.4rem;\n",
       "\t/*\n",
       "\tdisplay: inline-block;\n",
       "\twidth: 0.8rem;\n",
       "\theight: 0.8rem;\n",
       "\t*/\n",
       "}\n",
       "span.hl {\n",
       "\tbackground-color: var(--hl-strong);\n",
       "\tborder-width: 0;\n",
       "\tborder-radius: 0.1rem;\n",
       "\tborder-style: solid;\n",
       "}\n",
       "\n",
       "span.hlup {\n",
       "\tborder-color: var(--hl-dark);\n",
       "\tborder-width: 0.1rem;\n",
       "\tborder-style: solid;\n",
       "\tborder-radius: 0.2rem;\n",
       "  padding: 0.2rem;\n",
       "}\n",
       "\n",
       ":root {\n",
       "\t--hl-strong:        hsla( 60, 100%,  70%, 0.9  );\n",
       "\t--hl-rim:           hsla( 55, 100%,  60%, 0.9  );\n",
       "\t--hl-dark:          hsla( 55, 100%,  40%, 0.9  );\n",
       "}\n",
       "</style>"
      ],
      "text/plain": [
       "<IPython.core.display.HTML object>"
      ]
     },
     "metadata": {},
     "output_type": "display_data"
    }
   ],
   "source": [
    "import collections\n",
    "import pandas as pd\n",
    "from IPython.display import display, HTML\n",
    "import random\n",
    "import pprint\n",
    "from wordsets import WordSets\n",
    "from positions import Positions\n",
    "from context import Mom\n",
    "from tf.app import use\n",
    "A = use('bhsa', hoist=globals(), silent=True)"
   ]
  },
  {
   "cell_type": "code",
   "execution_count": 2,
   "metadata": {},
   "outputs": [
    {
     "name": "stdout",
     "output_type": "stream",
     "text": [
      "processing accents...\n",
      "\tdone\n",
      "processing quants...\n",
      "\tdone\n",
      "processing preps...\n",
      "\tdone\n",
      "processing conjunctions...\n",
      "\tdone\n",
      "processing constructs...\n",
      "\tdone\n"
     ]
    }
   ],
   "source": [
    "wsets = WordSets(A, silent=False)"
   ]
  },
  {
   "cell_type": "code",
   "execution_count": 3,
   "metadata": {},
   "outputs": [],
   "source": [
    "def beauty(text):\n",
    "    pretty = f'''\n",
    "<span style=\"font-family:Times New Roman; font-size:20pt\">\n",
    "    {text}\n",
    "</hspan>'''\n",
    "    display(HTML(pretty))"
   ]
  },
  {
   "cell_type": "code",
   "execution_count": 4,
   "metadata": {},
   "outputs": [],
   "source": [
    "def showconds(conddict):\n",
    "    '''\n",
    "    Print out results from a conddict.\n",
    "    '''\n",
    "    for node, conds in conddict:\n",
    "        print('node', node)\n",
    "        for cond, truth in conds.items():\n",
    "            print('\\t{:<25} {:>25}'.format(cond, str(truth)))"
   ]
  },
  {
   "cell_type": "markdown",
   "metadata": {},
   "source": [
    "## Context"
   ]
  },
  {
   "cell_type": "code",
   "execution_count": 5,
   "metadata": {},
   "outputs": [],
   "source": [
    "m = Mom(7, A, quants=wsets.quants, preps=wsets.preps, noms=wsets.nominals)\n",
    "m.every()"
   ]
  },
  {
   "cell_type": "code",
   "execution_count": 6,
   "metadata": {},
   "outputs": [
    {
     "name": "stdout",
     "output_type": "stream",
     "text": [
      "{'adja': ((8,\n",
      "           {\"P(0,'st') == 'a'\": True,\n",
      "            \"P(1,'nu') == P(0,'nu')\": False,\n",
      "            \"P(1,'sp') in nominals\": False}),\n",
      "          (8,\n",
      "           {\"P(0,'st') == 'a'\": True,\n",
      "            \"P(1,'nu') == P(0,'nu')\": False,\n",
      "            \"P(1,'sp vt').issubset({'verb', 'ptcp', 'ptca'})\": False}),\n",
      "          (9,\n",
      "           {\"P(0,'st') == 'a'\": True,\n",
      "            \"P(1,'sp') == 'art'\": False,\n",
      "            \"P(2,'nu') == P(0,'nu')\": False,\n",
      "            \"P(2,'sp') in nominals\": False})),\n",
      " 'const': ((8, {\"P(0,'st') == 'c'\": False, \"P(1,'sp') != 'art'\": True}),\n",
      "           (9, {\"P(0,'st') == 'c'\": False, \"P(1,'sp') == 'art'\": False})),\n",
      " 'coord': ((9,\n",
      "            {'P(0) not in preps': True,\n",
      "             \"P(1,'sp') == 'conj'\": True,\n",
      "             'P(2) not in preps': False,\n",
      "             \"P(2,'sp') in nominals\": False}),\n",
      "           (10,\n",
      "            {'P(0) not in preps': True,\n",
      "             \"P(1,'sp') == 'conj'\": True,\n",
      "             \"P(2,'sp') == 'art'\": False}),\n",
      "           (10,\n",
      "            {'P(-1) in preps': False,\n",
      "             \"P(1,'sp') == 'conj'\": True,\n",
      "             'P(2) in preps': True,\n",
      "             \"P(3,'sp') in nominals\": False}),\n",
      "           (11,\n",
      "            {\"P(-1,'sp') == 'art'\": True,\n",
      "             'P(-2) in preps': True,\n",
      "             \"P(1,'sp') == 'conj'\": True,\n",
      "             'P(2) in preps': True,\n",
      "             \"P(3,'sp') == 'art'\": True})),\n",
      " 'prep': ((8, {'P(1) in preps': False}),),\n",
      " 'quant': ((8, {'P(0) not in quants': True, 'P(1) in quants': False}),\n",
      "           (9,\n",
      "            {'P(0) not in quants': True,\n",
      "             \"P(1,'sp') == 'art'\": False,\n",
      "             'P(2) in quants': False}),\n",
      "           (6, {'P(-1) in quants': False, 'P(0) not in quants': True}),\n",
      "           (5,\n",
      "            {\"P(-1,'sp') == 'art'\": True,\n",
      "             'P(-2) in quants': False,\n",
      "             'P(0) not in quants': True}))}\n"
     ]
    }
   ],
   "source": [
    "pprint.pprint(m.explain)"
   ]
  },
  {
   "cell_type": "markdown",
   "metadata": {},
   "source": [
    "## Accents"
   ]
  },
  {
   "cell_type": "code",
   "execution_count": 4,
   "metadata": {},
   "outputs": [],
   "source": [
    "mwords = wsets.accents.mwords\n",
    "atype = wsets.accents.accenttype\n",
    "atype2set = wsets.accents.atype2set\n",
    "atype2name2set = wsets.accents.atype2name2set"
   ]
  },
  {
   "cell_type": "markdown",
   "metadata": {},
   "source": [
    "### mwords"
   ]
  },
  {
   "cell_type": "code",
   "execution_count": 5,
   "metadata": {},
   "outputs": [
    {
     "data": {
      "text/html": [
       "<table>\n",
       "<tr class=\"tf\">\n",
       "  <th class=\"tf\">n</th><th class=\"tf\">p</th>\n",
       "  <th class=\"tf\">verse</th><th>word</th><th>word</th>\n",
       "</tr>\n",
       "\n",
       "<tr class=\"tf\"><td class=\"tf\">1</td><td class=\"tf\"> <a href=\"https://shebanq.ancient-data.org/hebrew/text?book=Josua&amp;chapter=7&amp;verse=1&amp;version=c&amp;mr=m&amp;qw=q&amp;tp=txt_p&amp;tr=hb&amp;wget=v&amp;qget=v&amp;nget=vt\" title=\"show this passage in SHEBANQ\" sec=\"Joshua 7:1\">Joshua 7:1</a></td><td class=\"tf\"><span class=\"hb\"><a class=\"vn\" href=\"https://shebanq.ancient-data.org/hebrew/text?book=Josua&amp;chapter=7&amp;verse=1&amp;version=c&amp;mr=m&amp;qw=q&amp;tp=txt_p&amp;tr=hb&amp;wget=v&amp;qget=v&amp;nget=vt\" title=\"Joshua 7:1\" sec=\"Joshua 7:1\"></a><span  class=\"hl\" >וַ</span><span  class=\"hl\" >יִּמְעֲל֧וּ </span>בְנֵֽי־יִשְׂרָאֵ֛ל מַ֖עַל בַּחֵ֑רֶם וַיִּקַּ֡ח עָכָ֣ן בֶּן־כַּרְמִי֩ בֶן־זַבְדִּ֨י בֶן־זֶ֜רַח לְמַטֵּ֤ה יְהוּדָה֙ מִן־הַחֵ֔רֶם וַיִּֽחַר־אַ֥ף יְהוָ֖ה בִּבְנֵ֥י יִשְׂרָאֵֽל׃ </span></td><td class=\"tf\"><span class=\"hb\"><span  class=\"hl\" >וַ</span></span></td><td class=\"tf\"><span class=\"hb\"><span  class=\"hl\" >יִּמְעֲל֧וּ </span></span></td></tr>\n",
       "<tr class=\"tf\"><td class=\"tf\">2</td><td class=\"tf\"> <a href=\"https://shebanq.ancient-data.org/hebrew/text?book=Josua&amp;chapter=7&amp;verse=1&amp;version=c&amp;mr=m&amp;qw=q&amp;tp=txt_p&amp;tr=hb&amp;wget=v&amp;qget=v&amp;nget=vt\" title=\"show this passage in SHEBANQ\" sec=\"Joshua 7:1\">Joshua 7:1</a></td><td class=\"tf\"><span class=\"hb\"><a class=\"vn\" href=\"https://shebanq.ancient-data.org/hebrew/text?book=Josua&amp;chapter=7&amp;verse=1&amp;version=c&amp;mr=m&amp;qw=q&amp;tp=txt_p&amp;tr=hb&amp;wget=v&amp;qget=v&amp;nget=vt\" title=\"Joshua 7:1\" sec=\"Joshua 7:1\"></a><span  class=\"hl\" >וַ</span><span  class=\"hl\" >יִּמְעֲל֧וּ </span>בְנֵֽי־יִשְׂרָאֵ֛ל מַ֖עַל בַּחֵ֑רֶם וַיִּקַּ֡ח עָכָ֣ן בֶּן־כַּרְמִי֩ בֶן־זַבְדִּ֨י בֶן־זֶ֜רַח לְמַטֵּ֤ה יְהוּדָה֙ מִן־הַחֵ֔רֶם וַיִּֽחַר־אַ֥ף יְהוָ֖ה בִּבְנֵ֥י יִשְׂרָאֵֽל׃ </span></td><td class=\"tf\"><span class=\"hb\"><span  class=\"hl\" >וַ</span></span></td><td class=\"tf\"><span class=\"hb\"><span  class=\"hl\" >יִּמְעֲל֧וּ </span></span></td></tr>\n",
       "<tr class=\"tf\"><td class=\"tf\">3</td><td class=\"tf\"> <a href=\"https://shebanq.ancient-data.org/hebrew/text?book=Josua&amp;chapter=7&amp;verse=1&amp;version=c&amp;mr=m&amp;qw=q&amp;tp=txt_p&amp;tr=hb&amp;wget=v&amp;qget=v&amp;nget=vt\" title=\"show this passage in SHEBANQ\" sec=\"Joshua 7:1\">Joshua 7:1</a></td><td class=\"tf\"><span class=\"hb\"><a class=\"vn\" href=\"https://shebanq.ancient-data.org/hebrew/text?book=Josua&amp;chapter=7&amp;verse=1&amp;version=c&amp;mr=m&amp;qw=q&amp;tp=txt_p&amp;tr=hb&amp;wget=v&amp;qget=v&amp;nget=vt\" title=\"Joshua 7:1\" sec=\"Joshua 7:1\"></a>וַיִּמְעֲל֧וּ <span  class=\"hl\" >בְנֵֽי־</span><span  class=\"hl\" >יִשְׂרָאֵ֛ל </span>מַ֖עַל בַּחֵ֑רֶם וַיִּקַּ֡ח עָכָ֣ן בֶּן־כַּרְמִי֩ בֶן־זַבְדִּ֨י בֶן־זֶ֜רַח לְמַטֵּ֤ה יְהוּדָה֙ מִן־הַחֵ֔רֶם וַיִּֽחַר־אַ֥ף יְהוָ֖ה בִּבְנֵ֥י יִשְׂרָאֵֽל׃ </span></td><td class=\"tf\"><span class=\"hb\"><span  class=\"hl\" >בְנֵֽי־</span></span></td><td class=\"tf\"><span class=\"hb\"><span  class=\"hl\" >יִשְׂרָאֵ֛ל </span></span></td></tr>\n",
       "<tr class=\"tf\"><td class=\"tf\">4</td><td class=\"tf\"> <a href=\"https://shebanq.ancient-data.org/hebrew/text?book=Josua&amp;chapter=7&amp;verse=1&amp;version=c&amp;mr=m&amp;qw=q&amp;tp=txt_p&amp;tr=hb&amp;wget=v&amp;qget=v&amp;nget=vt\" title=\"show this passage in SHEBANQ\" sec=\"Joshua 7:1\">Joshua 7:1</a></td><td class=\"tf\"><span class=\"hb\"><a class=\"vn\" href=\"https://shebanq.ancient-data.org/hebrew/text?book=Josua&amp;chapter=7&amp;verse=1&amp;version=c&amp;mr=m&amp;qw=q&amp;tp=txt_p&amp;tr=hb&amp;wget=v&amp;qget=v&amp;nget=vt\" title=\"Joshua 7:1\" sec=\"Joshua 7:1\"></a>וַיִּמְעֲל֧וּ <span  class=\"hl\" >בְנֵֽי־</span><span  class=\"hl\" >יִשְׂרָאֵ֛ל </span>מַ֖עַל בַּחֵ֑רֶם וַיִּקַּ֡ח עָכָ֣ן בֶּן־כַּרְמִי֩ בֶן־זַבְדִּ֨י בֶן־זֶ֜רַח לְמַטֵּ֤ה יְהוּדָה֙ מִן־הַחֵ֔רֶם וַיִּֽחַר־אַ֥ף יְהוָ֖ה בִּבְנֵ֥י יִשְׂרָאֵֽל׃ </span></td><td class=\"tf\"><span class=\"hb\"><span  class=\"hl\" >בְנֵֽי־</span></span></td><td class=\"tf\"><span class=\"hb\"><span  class=\"hl\" >יִשְׂרָאֵ֛ל </span></span></td></tr>\n",
       "<tr class=\"tf\"><td class=\"tf\">5</td><td class=\"tf\"> <a href=\"https://shebanq.ancient-data.org/hebrew/text?book=Josua&amp;chapter=7&amp;verse=1&amp;version=c&amp;mr=m&amp;qw=q&amp;tp=txt_p&amp;tr=hb&amp;wget=v&amp;qget=v&amp;nget=vt\" title=\"show this passage in SHEBANQ\" sec=\"Joshua 7:1\">Joshua 7:1</a></td><td class=\"tf\"><span class=\"hb\"><a class=\"vn\" href=\"https://shebanq.ancient-data.org/hebrew/text?book=Josua&amp;chapter=7&amp;verse=1&amp;version=c&amp;mr=m&amp;qw=q&amp;tp=txt_p&amp;tr=hb&amp;wget=v&amp;qget=v&amp;nget=vt\" title=\"Joshua 7:1\" sec=\"Joshua 7:1\"></a>וַיִּמְעֲל֧וּ בְנֵֽי־יִשְׂרָאֵ֛ל <span  class=\"hl\" >מַ֖עַל </span>בַּחֵ֑רֶם וַיִּקַּ֡ח עָכָ֣ן בֶּן־כַּרְמִי֩ בֶן־זַבְדִּ֨י בֶן־זֶ֜רַח לְמַטֵּ֤ה יְהוּדָה֙ מִן־הַחֵ֔רֶם וַיִּֽחַר־אַ֥ף יְהוָ֖ה בִּבְנֵ֥י יִשְׂרָאֵֽל׃ </span></td><td class=\"tf\"><span class=\"hb\"><span  class=\"hl\" >מַ֖עַל </span></span></td></tr>\n",
       "<tr class=\"tf\"><td class=\"tf\">6</td><td class=\"tf\"> <a href=\"https://shebanq.ancient-data.org/hebrew/text?book=Josua&amp;chapter=7&amp;verse=1&amp;version=c&amp;mr=m&amp;qw=q&amp;tp=txt_p&amp;tr=hb&amp;wget=v&amp;qget=v&amp;nget=vt\" title=\"show this passage in SHEBANQ\" sec=\"Joshua 7:1\">Joshua 7:1</a></td><td class=\"tf\"><span class=\"hb\"><a class=\"vn\" href=\"https://shebanq.ancient-data.org/hebrew/text?book=Josua&amp;chapter=7&amp;verse=1&amp;version=c&amp;mr=m&amp;qw=q&amp;tp=txt_p&amp;tr=hb&amp;wget=v&amp;qget=v&amp;nget=vt\" title=\"Joshua 7:1\" sec=\"Joshua 7:1\"></a>וַיִּמְעֲל֧וּ בְנֵֽי־יִשְׂרָאֵ֛ל מַ֖עַל <span  class=\"hl\" >בַּ</span><span  class=\"hl\" ></span><span  class=\"hl\" >חֵ֑רֶם </span>וַיִּקַּ֡ח עָכָ֣ן בֶּן־כַּרְמִי֩ בֶן־זַבְדִּ֨י בֶן־זֶ֜רַח לְמַטֵּ֤ה יְהוּדָה֙ מִן־הַחֵ֔רֶם וַיִּֽחַר־אַ֥ף יְהוָ֖ה בִּבְנֵ֥י יִשְׂרָאֵֽל׃ </span></td><td class=\"tf\"><span class=\"hb\"><span  class=\"hl\" >בַּ</span></span></td><td class=\"tf\"><span class=\"hb\"><span  class=\"hl\" ></span></span></td><td class=\"tf\"><span class=\"hb\"><span  class=\"hl\" >חֵ֑רֶם </span></span></td></tr>\n",
       "<tr class=\"tf\"><td class=\"tf\">7</td><td class=\"tf\"> <a href=\"https://shebanq.ancient-data.org/hebrew/text?book=Josua&amp;chapter=7&amp;verse=1&amp;version=c&amp;mr=m&amp;qw=q&amp;tp=txt_p&amp;tr=hb&amp;wget=v&amp;qget=v&amp;nget=vt\" title=\"show this passage in SHEBANQ\" sec=\"Joshua 7:1\">Joshua 7:1</a></td><td class=\"tf\"><span class=\"hb\"><a class=\"vn\" href=\"https://shebanq.ancient-data.org/hebrew/text?book=Josua&amp;chapter=7&amp;verse=1&amp;version=c&amp;mr=m&amp;qw=q&amp;tp=txt_p&amp;tr=hb&amp;wget=v&amp;qget=v&amp;nget=vt\" title=\"Joshua 7:1\" sec=\"Joshua 7:1\"></a>וַיִּמְעֲל֧וּ בְנֵֽי־יִשְׂרָאֵ֛ל מַ֖עַל <span  class=\"hl\" >בַּ</span><span  class=\"hl\" ></span><span  class=\"hl\" >חֵ֑רֶם </span>וַיִּקַּ֡ח עָכָ֣ן בֶּן־כַּרְמִי֩ בֶן־זַבְדִּ֨י בֶן־זֶ֜רַח לְמַטֵּ֤ה יְהוּדָה֙ מִן־הַחֵ֔רֶם וַיִּֽחַר־אַ֥ף יְהוָ֖ה בִּבְנֵ֥י יִשְׂרָאֵֽל׃ </span></td><td class=\"tf\"><span class=\"hb\"><span  class=\"hl\" >בַּ</span></span></td><td class=\"tf\"><span class=\"hb\"><span  class=\"hl\" ></span></span></td><td class=\"tf\"><span class=\"hb\"><span  class=\"hl\" >חֵ֑רֶם </span></span></td></tr>\n",
       "<tr class=\"tf\"><td class=\"tf\">8</td><td class=\"tf\"> <a href=\"https://shebanq.ancient-data.org/hebrew/text?book=Josua&amp;chapter=7&amp;verse=1&amp;version=c&amp;mr=m&amp;qw=q&amp;tp=txt_p&amp;tr=hb&amp;wget=v&amp;qget=v&amp;nget=vt\" title=\"show this passage in SHEBANQ\" sec=\"Joshua 7:1\">Joshua 7:1</a></td><td class=\"tf\"><span class=\"hb\"><a class=\"vn\" href=\"https://shebanq.ancient-data.org/hebrew/text?book=Josua&amp;chapter=7&amp;verse=1&amp;version=c&amp;mr=m&amp;qw=q&amp;tp=txt_p&amp;tr=hb&amp;wget=v&amp;qget=v&amp;nget=vt\" title=\"Joshua 7:1\" sec=\"Joshua 7:1\"></a>וַיִּמְעֲל֧וּ בְנֵֽי־יִשְׂרָאֵ֛ל מַ֖עַל <span  class=\"hl\" >בַּ</span><span  class=\"hl\" ></span><span  class=\"hl\" >חֵ֑רֶם </span>וַיִּקַּ֡ח עָכָ֣ן בֶּן־כַּרְמִי֩ בֶן־זַבְדִּ֨י בֶן־זֶ֜רַח לְמַטֵּ֤ה יְהוּדָה֙ מִן־הַחֵ֔רֶם וַיִּֽחַר־אַ֥ף יְהוָ֖ה בִּבְנֵ֥י יִשְׂרָאֵֽל׃ </span></td><td class=\"tf\"><span class=\"hb\"><span  class=\"hl\" >בַּ</span></span></td><td class=\"tf\"><span class=\"hb\"><span  class=\"hl\" ></span></span></td><td class=\"tf\"><span class=\"hb\"><span  class=\"hl\" >חֵ֑רֶם </span></span></td></tr>\n",
       "<tr class=\"tf\"><td class=\"tf\">9</td><td class=\"tf\"> <a href=\"https://shebanq.ancient-data.org/hebrew/text?book=Josua&amp;chapter=7&amp;verse=1&amp;version=c&amp;mr=m&amp;qw=q&amp;tp=txt_p&amp;tr=hb&amp;wget=v&amp;qget=v&amp;nget=vt\" title=\"show this passage in SHEBANQ\" sec=\"Joshua 7:1\">Joshua 7:1</a></td><td class=\"tf\"><span class=\"hb\"><a class=\"vn\" href=\"https://shebanq.ancient-data.org/hebrew/text?book=Josua&amp;chapter=7&amp;verse=1&amp;version=c&amp;mr=m&amp;qw=q&amp;tp=txt_p&amp;tr=hb&amp;wget=v&amp;qget=v&amp;nget=vt\" title=\"Joshua 7:1\" sec=\"Joshua 7:1\"></a>וַיִּמְעֲל֧וּ בְנֵֽי־יִשְׂרָאֵ֛ל מַ֖עַל בַּחֵ֑רֶם <span  class=\"hl\" >וַ</span><span  class=\"hl\" >יִּקַּ֡ח </span>עָכָ֣ן בֶּן־כַּרְמִי֩ בֶן־זַבְדִּ֨י בֶן־זֶ֜רַח לְמַטֵּ֤ה יְהוּדָה֙ מִן־הַחֵ֔רֶם וַיִּֽחַר־אַ֥ף יְהוָ֖ה בִּבְנֵ֥י יִשְׂרָאֵֽל׃ </span></td><td class=\"tf\"><span class=\"hb\"><span  class=\"hl\" >וַ</span></span></td><td class=\"tf\"><span class=\"hb\"><span  class=\"hl\" >יִּקַּ֡ח </span></span></td></tr>\n",
       "<tr class=\"tf\"><td class=\"tf\">10</td><td class=\"tf\"> <a href=\"https://shebanq.ancient-data.org/hebrew/text?book=Josua&amp;chapter=7&amp;verse=1&amp;version=c&amp;mr=m&amp;qw=q&amp;tp=txt_p&amp;tr=hb&amp;wget=v&amp;qget=v&amp;nget=vt\" title=\"show this passage in SHEBANQ\" sec=\"Joshua 7:1\">Joshua 7:1</a></td><td class=\"tf\"><span class=\"hb\"><a class=\"vn\" href=\"https://shebanq.ancient-data.org/hebrew/text?book=Josua&amp;chapter=7&amp;verse=1&amp;version=c&amp;mr=m&amp;qw=q&amp;tp=txt_p&amp;tr=hb&amp;wget=v&amp;qget=v&amp;nget=vt\" title=\"Joshua 7:1\" sec=\"Joshua 7:1\"></a>וַיִּמְעֲל֧וּ בְנֵֽי־יִשְׂרָאֵ֛ל מַ֖עַל בַּחֵ֑רֶם <span  class=\"hl\" >וַ</span><span  class=\"hl\" >יִּקַּ֡ח </span>עָכָ֣ן בֶּן־כַּרְמִי֩ בֶן־זַבְדִּ֨י בֶן־זֶ֜רַח לְמַטֵּ֤ה יְהוּדָה֙ מִן־הַחֵ֔רֶם וַיִּֽחַר־אַ֥ף יְהוָ֖ה בִּבְנֵ֥י יִשְׂרָאֵֽל׃ </span></td><td class=\"tf\"><span class=\"hb\"><span  class=\"hl\" >וַ</span></span></td><td class=\"tf\"><span class=\"hb\"><span  class=\"hl\" >יִּקַּ֡ח </span></span></td></tr>\n",
       "<tr class=\"tf\"><td class=\"tf\">11</td><td class=\"tf\"> <a href=\"https://shebanq.ancient-data.org/hebrew/text?book=Josua&amp;chapter=7&amp;verse=1&amp;version=c&amp;mr=m&amp;qw=q&amp;tp=txt_p&amp;tr=hb&amp;wget=v&amp;qget=v&amp;nget=vt\" title=\"show this passage in SHEBANQ\" sec=\"Joshua 7:1\">Joshua 7:1</a></td><td class=\"tf\"><span class=\"hb\"><a class=\"vn\" href=\"https://shebanq.ancient-data.org/hebrew/text?book=Josua&amp;chapter=7&amp;verse=1&amp;version=c&amp;mr=m&amp;qw=q&amp;tp=txt_p&amp;tr=hb&amp;wget=v&amp;qget=v&amp;nget=vt\" title=\"Joshua 7:1\" sec=\"Joshua 7:1\"></a>וַיִּמְעֲל֧וּ בְנֵֽי־יִשְׂרָאֵ֛ל מַ֖עַל בַּחֵ֑רֶם וַיִּקַּ֡ח <span  class=\"hl\" >עָכָ֣ן </span>בֶּן־כַּרְמִי֩ בֶן־זַבְדִּ֨י בֶן־זֶ֜רַח לְמַטֵּ֤ה יְהוּדָה֙ מִן־הַחֵ֔רֶם וַיִּֽחַר־אַ֥ף יְהוָ֖ה בִּבְנֵ֥י יִשְׂרָאֵֽל׃ </span></td><td class=\"tf\"><span class=\"hb\"><span  class=\"hl\" >עָכָ֣ן </span></span></td></tr>\n",
       "<tr class=\"tf\"><td class=\"tf\">12</td><td class=\"tf\"> <a href=\"https://shebanq.ancient-data.org/hebrew/text?book=Josua&amp;chapter=7&amp;verse=1&amp;version=c&amp;mr=m&amp;qw=q&amp;tp=txt_p&amp;tr=hb&amp;wget=v&amp;qget=v&amp;nget=vt\" title=\"show this passage in SHEBANQ\" sec=\"Joshua 7:1\">Joshua 7:1</a></td><td class=\"tf\"><span class=\"hb\"><a class=\"vn\" href=\"https://shebanq.ancient-data.org/hebrew/text?book=Josua&amp;chapter=7&amp;verse=1&amp;version=c&amp;mr=m&amp;qw=q&amp;tp=txt_p&amp;tr=hb&amp;wget=v&amp;qget=v&amp;nget=vt\" title=\"Joshua 7:1\" sec=\"Joshua 7:1\"></a>וַיִּמְעֲל֧וּ בְנֵֽי־יִשְׂרָאֵ֛ל מַ֖עַל בַּחֵ֑רֶם וַיִּקַּ֡ח עָכָ֣ן <span  class=\"hl\" >בֶּן־</span><span  class=\"hl\" >כַּרְמִי֩ </span>בֶן־זַבְדִּ֨י בֶן־זֶ֜רַח לְמַטֵּ֤ה יְהוּדָה֙ מִן־הַחֵ֔רֶם וַיִּֽחַר־אַ֥ף יְהוָ֖ה בִּבְנֵ֥י יִשְׂרָאֵֽל׃ </span></td><td class=\"tf\"><span class=\"hb\"><span  class=\"hl\" >בֶּן־</span></span></td><td class=\"tf\"><span class=\"hb\"><span  class=\"hl\" >כַּרְמִי֩ </span></span></td></tr>\n",
       "<tr class=\"tf\"><td class=\"tf\">13</td><td class=\"tf\"> <a href=\"https://shebanq.ancient-data.org/hebrew/text?book=Josua&amp;chapter=7&amp;verse=1&amp;version=c&amp;mr=m&amp;qw=q&amp;tp=txt_p&amp;tr=hb&amp;wget=v&amp;qget=v&amp;nget=vt\" title=\"show this passage in SHEBANQ\" sec=\"Joshua 7:1\">Joshua 7:1</a></td><td class=\"tf\"><span class=\"hb\"><a class=\"vn\" href=\"https://shebanq.ancient-data.org/hebrew/text?book=Josua&amp;chapter=7&amp;verse=1&amp;version=c&amp;mr=m&amp;qw=q&amp;tp=txt_p&amp;tr=hb&amp;wget=v&amp;qget=v&amp;nget=vt\" title=\"Joshua 7:1\" sec=\"Joshua 7:1\"></a>וַיִּמְעֲל֧וּ בְנֵֽי־יִשְׂרָאֵ֛ל מַ֖עַל בַּחֵ֑רֶם וַיִּקַּ֡ח עָכָ֣ן <span  class=\"hl\" >בֶּן־</span><span  class=\"hl\" >כַּרְמִי֩ </span>בֶן־זַבְדִּ֨י בֶן־זֶ֜רַח לְמַטֵּ֤ה יְהוּדָה֙ מִן־הַחֵ֔רֶם וַיִּֽחַר־אַ֥ף יְהוָ֖ה בִּבְנֵ֥י יִשְׂרָאֵֽל׃ </span></td><td class=\"tf\"><span class=\"hb\"><span  class=\"hl\" >בֶּן־</span></span></td><td class=\"tf\"><span class=\"hb\"><span  class=\"hl\" >כַּרְמִי֩ </span></span></td></tr>\n",
       "<tr class=\"tf\"><td class=\"tf\">14</td><td class=\"tf\"> <a href=\"https://shebanq.ancient-data.org/hebrew/text?book=Josua&amp;chapter=7&amp;verse=1&amp;version=c&amp;mr=m&amp;qw=q&amp;tp=txt_p&amp;tr=hb&amp;wget=v&amp;qget=v&amp;nget=vt\" title=\"show this passage in SHEBANQ\" sec=\"Joshua 7:1\">Joshua 7:1</a></td><td class=\"tf\"><span class=\"hb\"><a class=\"vn\" href=\"https://shebanq.ancient-data.org/hebrew/text?book=Josua&amp;chapter=7&amp;verse=1&amp;version=c&amp;mr=m&amp;qw=q&amp;tp=txt_p&amp;tr=hb&amp;wget=v&amp;qget=v&amp;nget=vt\" title=\"Joshua 7:1\" sec=\"Joshua 7:1\"></a>וַיִּמְעֲל֧וּ בְנֵֽי־יִשְׂרָאֵ֛ל מַ֖עַל בַּחֵ֑רֶם וַיִּקַּ֡ח עָכָ֣ן בֶּן־כַּרְמִי֩ <span  class=\"hl\" >בֶן־</span><span  class=\"hl\" >זַבְדִּ֨י </span>בֶן־זֶ֜רַח לְמַטֵּ֤ה יְהוּדָה֙ מִן־הַחֵ֔רֶם וַיִּֽחַר־אַ֥ף יְהוָ֖ה בִּבְנֵ֥י יִשְׂרָאֵֽל׃ </span></td><td class=\"tf\"><span class=\"hb\"><span  class=\"hl\" >בֶן־</span></span></td><td class=\"tf\"><span class=\"hb\"><span  class=\"hl\" >זַבְדִּ֨י </span></span></td></tr>\n",
       "<tr class=\"tf\"><td class=\"tf\">15</td><td class=\"tf\"> <a href=\"https://shebanq.ancient-data.org/hebrew/text?book=Josua&amp;chapter=7&amp;verse=1&amp;version=c&amp;mr=m&amp;qw=q&amp;tp=txt_p&amp;tr=hb&amp;wget=v&amp;qget=v&amp;nget=vt\" title=\"show this passage in SHEBANQ\" sec=\"Joshua 7:1\">Joshua 7:1</a></td><td class=\"tf\"><span class=\"hb\"><a class=\"vn\" href=\"https://shebanq.ancient-data.org/hebrew/text?book=Josua&amp;chapter=7&amp;verse=1&amp;version=c&amp;mr=m&amp;qw=q&amp;tp=txt_p&amp;tr=hb&amp;wget=v&amp;qget=v&amp;nget=vt\" title=\"Joshua 7:1\" sec=\"Joshua 7:1\"></a>וַיִּמְעֲל֧וּ בְנֵֽי־יִשְׂרָאֵ֛ל מַ֖עַל בַּחֵ֑רֶם וַיִּקַּ֡ח עָכָ֣ן בֶּן־כַּרְמִי֩ <span  class=\"hl\" >בֶן־</span><span  class=\"hl\" >זַבְדִּ֨י </span>בֶן־זֶ֜רַח לְמַטֵּ֤ה יְהוּדָה֙ מִן־הַחֵ֔רֶם וַיִּֽחַר־אַ֥ף יְהוָ֖ה בִּבְנֵ֥י יִשְׂרָאֵֽל׃ </span></td><td class=\"tf\"><span class=\"hb\"><span  class=\"hl\" >בֶן־</span></span></td><td class=\"tf\"><span class=\"hb\"><span  class=\"hl\" >זַבְדִּ֨י </span></span></td></tr>\n",
       "<tr class=\"tf\"><td class=\"tf\">16</td><td class=\"tf\"> <a href=\"https://shebanq.ancient-data.org/hebrew/text?book=Josua&amp;chapter=7&amp;verse=1&amp;version=c&amp;mr=m&amp;qw=q&amp;tp=txt_p&amp;tr=hb&amp;wget=v&amp;qget=v&amp;nget=vt\" title=\"show this passage in SHEBANQ\" sec=\"Joshua 7:1\">Joshua 7:1</a></td><td class=\"tf\"><span class=\"hb\"><a class=\"vn\" href=\"https://shebanq.ancient-data.org/hebrew/text?book=Josua&amp;chapter=7&amp;verse=1&amp;version=c&amp;mr=m&amp;qw=q&amp;tp=txt_p&amp;tr=hb&amp;wget=v&amp;qget=v&amp;nget=vt\" title=\"Joshua 7:1\" sec=\"Joshua 7:1\"></a>וַיִּמְעֲל֧וּ בְנֵֽי־יִשְׂרָאֵ֛ל מַ֖עַל בַּחֵ֑רֶם וַיִּקַּ֡ח עָכָ֣ן בֶּן־כַּרְמִי֩ בֶן־זַבְדִּ֨י <span  class=\"hl\" >בֶן־</span><span  class=\"hl\" >זֶ֜רַח </span>לְמַטֵּ֤ה יְהוּדָה֙ מִן־הַחֵ֔רֶם וַיִּֽחַר־אַ֥ף יְהוָ֖ה בִּבְנֵ֥י יִשְׂרָאֵֽל׃ </span></td><td class=\"tf\"><span class=\"hb\"><span  class=\"hl\" >בֶן־</span></span></td><td class=\"tf\"><span class=\"hb\"><span  class=\"hl\" >זֶ֜רַח </span></span></td></tr>\n",
       "<tr class=\"tf\"><td class=\"tf\">17</td><td class=\"tf\"> <a href=\"https://shebanq.ancient-data.org/hebrew/text?book=Josua&amp;chapter=7&amp;verse=1&amp;version=c&amp;mr=m&amp;qw=q&amp;tp=txt_p&amp;tr=hb&amp;wget=v&amp;qget=v&amp;nget=vt\" title=\"show this passage in SHEBANQ\" sec=\"Joshua 7:1\">Joshua 7:1</a></td><td class=\"tf\"><span class=\"hb\"><a class=\"vn\" href=\"https://shebanq.ancient-data.org/hebrew/text?book=Josua&amp;chapter=7&amp;verse=1&amp;version=c&amp;mr=m&amp;qw=q&amp;tp=txt_p&amp;tr=hb&amp;wget=v&amp;qget=v&amp;nget=vt\" title=\"Joshua 7:1\" sec=\"Joshua 7:1\"></a>וַיִּמְעֲל֧וּ בְנֵֽי־יִשְׂרָאֵ֛ל מַ֖עַל בַּחֵ֑רֶם וַיִּקַּ֡ח עָכָ֣ן בֶּן־כַּרְמִי֩ בֶן־זַבְדִּ֨י <span  class=\"hl\" >בֶן־</span><span  class=\"hl\" >זֶ֜רַח </span>לְמַטֵּ֤ה יְהוּדָה֙ מִן־הַחֵ֔רֶם וַיִּֽחַר־אַ֥ף יְהוָ֖ה בִּבְנֵ֥י יִשְׂרָאֵֽל׃ </span></td><td class=\"tf\"><span class=\"hb\"><span  class=\"hl\" >בֶן־</span></span></td><td class=\"tf\"><span class=\"hb\"><span  class=\"hl\" >זֶ֜רַח </span></span></td></tr>\n",
       "<tr class=\"tf\"><td class=\"tf\">18</td><td class=\"tf\"> <a href=\"https://shebanq.ancient-data.org/hebrew/text?book=Josua&amp;chapter=7&amp;verse=1&amp;version=c&amp;mr=m&amp;qw=q&amp;tp=txt_p&amp;tr=hb&amp;wget=v&amp;qget=v&amp;nget=vt\" title=\"show this passage in SHEBANQ\" sec=\"Joshua 7:1\">Joshua 7:1</a></td><td class=\"tf\"><span class=\"hb\"><a class=\"vn\" href=\"https://shebanq.ancient-data.org/hebrew/text?book=Josua&amp;chapter=7&amp;verse=1&amp;version=c&amp;mr=m&amp;qw=q&amp;tp=txt_p&amp;tr=hb&amp;wget=v&amp;qget=v&amp;nget=vt\" title=\"Joshua 7:1\" sec=\"Joshua 7:1\"></a>וַיִּמְעֲל֧וּ בְנֵֽי־יִשְׂרָאֵ֛ל מַ֖עַל בַּחֵ֑רֶם וַיִּקַּ֡ח עָכָ֣ן בֶּן־כַּרְמִי֩ בֶן־זַבְדִּ֨י בֶן־זֶ֜רַח <span  class=\"hl\" >לְ</span><span  class=\"hl\" >מַטֵּ֤ה </span>יְהוּדָה֙ מִן־הַחֵ֔רֶם וַיִּֽחַר־אַ֥ף יְהוָ֖ה בִּבְנֵ֥י יִשְׂרָאֵֽל׃ </span></td><td class=\"tf\"><span class=\"hb\"><span  class=\"hl\" >לְ</span></span></td><td class=\"tf\"><span class=\"hb\"><span  class=\"hl\" >מַטֵּ֤ה </span></span></td></tr>\n",
       "<tr class=\"tf\"><td class=\"tf\">19</td><td class=\"tf\"> <a href=\"https://shebanq.ancient-data.org/hebrew/text?book=Josua&amp;chapter=7&amp;verse=1&amp;version=c&amp;mr=m&amp;qw=q&amp;tp=txt_p&amp;tr=hb&amp;wget=v&amp;qget=v&amp;nget=vt\" title=\"show this passage in SHEBANQ\" sec=\"Joshua 7:1\">Joshua 7:1</a></td><td class=\"tf\"><span class=\"hb\"><a class=\"vn\" href=\"https://shebanq.ancient-data.org/hebrew/text?book=Josua&amp;chapter=7&amp;verse=1&amp;version=c&amp;mr=m&amp;qw=q&amp;tp=txt_p&amp;tr=hb&amp;wget=v&amp;qget=v&amp;nget=vt\" title=\"Joshua 7:1\" sec=\"Joshua 7:1\"></a>וַיִּמְעֲל֧וּ בְנֵֽי־יִשְׂרָאֵ֛ל מַ֖עַל בַּחֵ֑רֶם וַיִּקַּ֡ח עָכָ֣ן בֶּן־כַּרְמִי֩ בֶן־זַבְדִּ֨י בֶן־זֶ֜רַח <span  class=\"hl\" >לְ</span><span  class=\"hl\" >מַטֵּ֤ה </span>יְהוּדָה֙ מִן־הַחֵ֔רֶם וַיִּֽחַר־אַ֥ף יְהוָ֖ה בִּבְנֵ֥י יִשְׂרָאֵֽל׃ </span></td><td class=\"tf\"><span class=\"hb\"><span  class=\"hl\" >לְ</span></span></td><td class=\"tf\"><span class=\"hb\"><span  class=\"hl\" >מַטֵּ֤ה </span></span></td></tr>\n",
       "<tr class=\"tf\"><td class=\"tf\">20</td><td class=\"tf\"> <a href=\"https://shebanq.ancient-data.org/hebrew/text?book=Josua&amp;chapter=7&amp;verse=1&amp;version=c&amp;mr=m&amp;qw=q&amp;tp=txt_p&amp;tr=hb&amp;wget=v&amp;qget=v&amp;nget=vt\" title=\"show this passage in SHEBANQ\" sec=\"Joshua 7:1\">Joshua 7:1</a></td><td class=\"tf\"><span class=\"hb\"><a class=\"vn\" href=\"https://shebanq.ancient-data.org/hebrew/text?book=Josua&amp;chapter=7&amp;verse=1&amp;version=c&amp;mr=m&amp;qw=q&amp;tp=txt_p&amp;tr=hb&amp;wget=v&amp;qget=v&amp;nget=vt\" title=\"Joshua 7:1\" sec=\"Joshua 7:1\"></a>וַיִּמְעֲל֧וּ בְנֵֽי־יִשְׂרָאֵ֛ל מַ֖עַל בַּחֵ֑רֶם וַיִּקַּ֡ח עָכָ֣ן בֶּן־כַּרְמִי֩ בֶן־זַבְדִּ֨י בֶן־זֶ֜רַח לְמַטֵּ֤ה <span  class=\"hl\" >יְהוּדָה֙ </span>מִן־הַחֵ֔רֶם וַיִּֽחַר־אַ֥ף יְהוָ֖ה בִּבְנֵ֥י יִשְׂרָאֵֽל׃ </span></td><td class=\"tf\"><span class=\"hb\"><span  class=\"hl\" >יְהוּדָה֙ </span></span></td></tr>\n",
       "<tr class=\"tf\"><td class=\"tf\">21</td><td class=\"tf\"> <a href=\"https://shebanq.ancient-data.org/hebrew/text?book=Josua&amp;chapter=7&amp;verse=1&amp;version=c&amp;mr=m&amp;qw=q&amp;tp=txt_p&amp;tr=hb&amp;wget=v&amp;qget=v&amp;nget=vt\" title=\"show this passage in SHEBANQ\" sec=\"Joshua 7:1\">Joshua 7:1</a></td><td class=\"tf\"><span class=\"hb\"><a class=\"vn\" href=\"https://shebanq.ancient-data.org/hebrew/text?book=Josua&amp;chapter=7&amp;verse=1&amp;version=c&amp;mr=m&amp;qw=q&amp;tp=txt_p&amp;tr=hb&amp;wget=v&amp;qget=v&amp;nget=vt\" title=\"Joshua 7:1\" sec=\"Joshua 7:1\"></a>וַיִּמְעֲל֧וּ בְנֵֽי־יִשְׂרָאֵ֛ל מַ֖עַל בַּחֵ֑רֶם וַיִּקַּ֡ח עָכָ֣ן בֶּן־כַּרְמִי֩ בֶן־זַבְדִּ֨י בֶן־זֶ֜רַח לְמַטֵּ֤ה יְהוּדָה֙ <span  class=\"hl\" >מִן־</span><span  class=\"hl\" >הַ</span><span  class=\"hl\" >חֵ֔רֶם </span>וַיִּֽחַר־אַ֥ף יְהוָ֖ה בִּבְנֵ֥י יִשְׂרָאֵֽל׃ </span></td><td class=\"tf\"><span class=\"hb\"><span  class=\"hl\" >מִן־</span></span></td><td class=\"tf\"><span class=\"hb\"><span  class=\"hl\" >הַ</span></span></td><td class=\"tf\"><span class=\"hb\"><span  class=\"hl\" >חֵ֔רֶם </span></span></td></tr>\n",
       "<tr class=\"tf\"><td class=\"tf\">22</td><td class=\"tf\"> <a href=\"https://shebanq.ancient-data.org/hebrew/text?book=Josua&amp;chapter=7&amp;verse=1&amp;version=c&amp;mr=m&amp;qw=q&amp;tp=txt_p&amp;tr=hb&amp;wget=v&amp;qget=v&amp;nget=vt\" title=\"show this passage in SHEBANQ\" sec=\"Joshua 7:1\">Joshua 7:1</a></td><td class=\"tf\"><span class=\"hb\"><a class=\"vn\" href=\"https://shebanq.ancient-data.org/hebrew/text?book=Josua&amp;chapter=7&amp;verse=1&amp;version=c&amp;mr=m&amp;qw=q&amp;tp=txt_p&amp;tr=hb&amp;wget=v&amp;qget=v&amp;nget=vt\" title=\"Joshua 7:1\" sec=\"Joshua 7:1\"></a>וַיִּמְעֲל֧וּ בְנֵֽי־יִשְׂרָאֵ֛ל מַ֖עַל בַּחֵ֑רֶם וַיִּקַּ֡ח עָכָ֣ן בֶּן־כַּרְמִי֩ בֶן־זַבְדִּ֨י בֶן־זֶ֜רַח לְמַטֵּ֤ה יְהוּדָה֙ <span  class=\"hl\" >מִן־</span><span  class=\"hl\" >הַ</span><span  class=\"hl\" >חֵ֔רֶם </span>וַיִּֽחַר־אַ֥ף יְהוָ֖ה בִּבְנֵ֥י יִשְׂרָאֵֽל׃ </span></td><td class=\"tf\"><span class=\"hb\"><span  class=\"hl\" >מִן־</span></span></td><td class=\"tf\"><span class=\"hb\"><span  class=\"hl\" >הַ</span></span></td><td class=\"tf\"><span class=\"hb\"><span  class=\"hl\" >חֵ֔רֶם </span></span></td></tr>\n",
       "<tr class=\"tf\"><td class=\"tf\">23</td><td class=\"tf\"> <a href=\"https://shebanq.ancient-data.org/hebrew/text?book=Josua&amp;chapter=7&amp;verse=1&amp;version=c&amp;mr=m&amp;qw=q&amp;tp=txt_p&amp;tr=hb&amp;wget=v&amp;qget=v&amp;nget=vt\" title=\"show this passage in SHEBANQ\" sec=\"Joshua 7:1\">Joshua 7:1</a></td><td class=\"tf\"><span class=\"hb\"><a class=\"vn\" href=\"https://shebanq.ancient-data.org/hebrew/text?book=Josua&amp;chapter=7&amp;verse=1&amp;version=c&amp;mr=m&amp;qw=q&amp;tp=txt_p&amp;tr=hb&amp;wget=v&amp;qget=v&amp;nget=vt\" title=\"Joshua 7:1\" sec=\"Joshua 7:1\"></a>וַיִּמְעֲל֧וּ בְנֵֽי־יִשְׂרָאֵ֛ל מַ֖עַל בַּחֵ֑רֶם וַיִּקַּ֡ח עָכָ֣ן בֶּן־כַּרְמִי֩ בֶן־זַבְדִּ֨י בֶן־זֶ֜רַח לְמַטֵּ֤ה יְהוּדָה֙ <span  class=\"hl\" >מִן־</span><span  class=\"hl\" >הַ</span><span  class=\"hl\" >חֵ֔רֶם </span>וַיִּֽחַר־אַ֥ף יְהוָ֖ה בִּבְנֵ֥י יִשְׂרָאֵֽל׃ </span></td><td class=\"tf\"><span class=\"hb\"><span  class=\"hl\" >מִן־</span></span></td><td class=\"tf\"><span class=\"hb\"><span  class=\"hl\" >הַ</span></span></td><td class=\"tf\"><span class=\"hb\"><span  class=\"hl\" >חֵ֔רֶם </span></span></td></tr>\n",
       "<tr class=\"tf\"><td class=\"tf\">24</td><td class=\"tf\"> <a href=\"https://shebanq.ancient-data.org/hebrew/text?book=Josua&amp;chapter=7&amp;verse=1&amp;version=c&amp;mr=m&amp;qw=q&amp;tp=txt_p&amp;tr=hb&amp;wget=v&amp;qget=v&amp;nget=vt\" title=\"show this passage in SHEBANQ\" sec=\"Joshua 7:1\">Joshua 7:1</a></td><td class=\"tf\"><span class=\"hb\"><a class=\"vn\" href=\"https://shebanq.ancient-data.org/hebrew/text?book=Josua&amp;chapter=7&amp;verse=1&amp;version=c&amp;mr=m&amp;qw=q&amp;tp=txt_p&amp;tr=hb&amp;wget=v&amp;qget=v&amp;nget=vt\" title=\"Joshua 7:1\" sec=\"Joshua 7:1\"></a>וַיִּמְעֲל֧וּ בְנֵֽי־יִשְׂרָאֵ֛ל מַ֖עַל בַּחֵ֑רֶם וַיִּקַּ֡ח עָכָ֣ן בֶּן־כַּרְמִי֩ בֶן־זַבְדִּ֨י בֶן־זֶ֜רַח לְמַטֵּ֤ה יְהוּדָה֙ מִן־הַחֵ֔רֶם <span  class=\"hl\" >וַ</span><span  class=\"hl\" >יִּֽחַר־</span><span  class=\"hl\" >אַ֥ף </span>יְהוָ֖ה בִּבְנֵ֥י יִשְׂרָאֵֽל׃ </span></td><td class=\"tf\"><span class=\"hb\"><span  class=\"hl\" >וַ</span></span></td><td class=\"tf\"><span class=\"hb\"><span  class=\"hl\" >יִּֽחַר־</span></span></td><td class=\"tf\"><span class=\"hb\"><span  class=\"hl\" >אַ֥ף </span></span></td></tr>\n",
       "<tr class=\"tf\"><td class=\"tf\">25</td><td class=\"tf\"> <a href=\"https://shebanq.ancient-data.org/hebrew/text?book=Josua&amp;chapter=7&amp;verse=1&amp;version=c&amp;mr=m&amp;qw=q&amp;tp=txt_p&amp;tr=hb&amp;wget=v&amp;qget=v&amp;nget=vt\" title=\"show this passage in SHEBANQ\" sec=\"Joshua 7:1\">Joshua 7:1</a></td><td class=\"tf\"><span class=\"hb\"><a class=\"vn\" href=\"https://shebanq.ancient-data.org/hebrew/text?book=Josua&amp;chapter=7&amp;verse=1&amp;version=c&amp;mr=m&amp;qw=q&amp;tp=txt_p&amp;tr=hb&amp;wget=v&amp;qget=v&amp;nget=vt\" title=\"Joshua 7:1\" sec=\"Joshua 7:1\"></a>וַיִּמְעֲל֧וּ בְנֵֽי־יִשְׂרָאֵ֛ל מַ֖עַל בַּחֵ֑רֶם וַיִּקַּ֡ח עָכָ֣ן בֶּן־כַּרְמִי֩ בֶן־זַבְדִּ֨י בֶן־זֶ֜רַח לְמַטֵּ֤ה יְהוּדָה֙ מִן־הַחֵ֔רֶם <span  class=\"hl\" >וַ</span><span  class=\"hl\" >יִּֽחַר־</span><span  class=\"hl\" >אַ֥ף </span>יְהוָ֖ה בִּבְנֵ֥י יִשְׂרָאֵֽל׃ </span></td><td class=\"tf\"><span class=\"hb\"><span  class=\"hl\" >וַ</span></span></td><td class=\"tf\"><span class=\"hb\"><span  class=\"hl\" >יִּֽחַר־</span></span></td><td class=\"tf\"><span class=\"hb\"><span  class=\"hl\" >אַ֥ף </span></span></td></tr>\n",
       "<tr class=\"tf\"><td class=\"tf\">26</td><td class=\"tf\"> <a href=\"https://shebanq.ancient-data.org/hebrew/text?book=Josua&amp;chapter=7&amp;verse=1&amp;version=c&amp;mr=m&amp;qw=q&amp;tp=txt_p&amp;tr=hb&amp;wget=v&amp;qget=v&amp;nget=vt\" title=\"show this passage in SHEBANQ\" sec=\"Joshua 7:1\">Joshua 7:1</a></td><td class=\"tf\"><span class=\"hb\"><a class=\"vn\" href=\"https://shebanq.ancient-data.org/hebrew/text?book=Josua&amp;chapter=7&amp;verse=1&amp;version=c&amp;mr=m&amp;qw=q&amp;tp=txt_p&amp;tr=hb&amp;wget=v&amp;qget=v&amp;nget=vt\" title=\"Joshua 7:1\" sec=\"Joshua 7:1\"></a>וַיִּמְעֲל֧וּ בְנֵֽי־יִשְׂרָאֵ֛ל מַ֖עַל בַּחֵ֑רֶם וַיִּקַּ֡ח עָכָ֣ן בֶּן־כַּרְמִי֩ בֶן־זַבְדִּ֨י בֶן־זֶ֜רַח לְמַטֵּ֤ה יְהוּדָה֙ מִן־הַחֵ֔רֶם <span  class=\"hl\" >וַ</span><span  class=\"hl\" >יִּֽחַר־</span><span  class=\"hl\" >אַ֥ף </span>יְהוָ֖ה בִּבְנֵ֥י יִשְׂרָאֵֽל׃ </span></td><td class=\"tf\"><span class=\"hb\"><span  class=\"hl\" >וַ</span></span></td><td class=\"tf\"><span class=\"hb\"><span  class=\"hl\" >יִּֽחַר־</span></span></td><td class=\"tf\"><span class=\"hb\"><span  class=\"hl\" >אַ֥ף </span></span></td></tr>\n",
       "<tr class=\"tf\"><td class=\"tf\">27</td><td class=\"tf\"> <a href=\"https://shebanq.ancient-data.org/hebrew/text?book=Josua&amp;chapter=7&amp;verse=1&amp;version=c&amp;mr=m&amp;qw=q&amp;tp=txt_p&amp;tr=hb&amp;wget=v&amp;qget=v&amp;nget=vt\" title=\"show this passage in SHEBANQ\" sec=\"Joshua 7:1\">Joshua 7:1</a></td><td class=\"tf\"><span class=\"hb\"><a class=\"vn\" href=\"https://shebanq.ancient-data.org/hebrew/text?book=Josua&amp;chapter=7&amp;verse=1&amp;version=c&amp;mr=m&amp;qw=q&amp;tp=txt_p&amp;tr=hb&amp;wget=v&amp;qget=v&amp;nget=vt\" title=\"Joshua 7:1\" sec=\"Joshua 7:1\"></a>וַיִּמְעֲל֧וּ בְנֵֽי־יִשְׂרָאֵ֛ל מַ֖עַל בַּחֵ֑רֶם וַיִּקַּ֡ח עָכָ֣ן בֶּן־כַּרְמִי֩ בֶן־זַבְדִּ֨י בֶן־זֶ֜רַח לְמַטֵּ֤ה יְהוּדָה֙ מִן־הַחֵ֔רֶם וַיִּֽחַר־אַ֥ף <span  class=\"hl\" >יְהוָ֖ה </span>בִּבְנֵ֥י יִשְׂרָאֵֽל׃ </span></td><td class=\"tf\"><span class=\"hb\"><span  class=\"hl\" >יְהוָ֖ה </span></span></td></tr>\n",
       "<tr class=\"tf\"><td class=\"tf\">28</td><td class=\"tf\"> <a href=\"https://shebanq.ancient-data.org/hebrew/text?book=Josua&amp;chapter=7&amp;verse=1&amp;version=c&amp;mr=m&amp;qw=q&amp;tp=txt_p&amp;tr=hb&amp;wget=v&amp;qget=v&amp;nget=vt\" title=\"show this passage in SHEBANQ\" sec=\"Joshua 7:1\">Joshua 7:1</a></td><td class=\"tf\"><span class=\"hb\"><a class=\"vn\" href=\"https://shebanq.ancient-data.org/hebrew/text?book=Josua&amp;chapter=7&amp;verse=1&amp;version=c&amp;mr=m&amp;qw=q&amp;tp=txt_p&amp;tr=hb&amp;wget=v&amp;qget=v&amp;nget=vt\" title=\"Joshua 7:1\" sec=\"Joshua 7:1\"></a>וַיִּמְעֲל֧וּ בְנֵֽי־יִשְׂרָאֵ֛ל מַ֖עַל בַּחֵ֑רֶם וַיִּקַּ֡ח עָכָ֣ן בֶּן־כַּרְמִי֩ בֶן־זַבְדִּ֨י בֶן־זֶ֜רַח לְמַטֵּ֤ה יְהוּדָה֙ מִן־הַחֵ֔רֶם וַיִּֽחַר־אַ֥ף יְהוָ֖ה <span  class=\"hl\" >בִּ</span><span  class=\"hl\" >בְנֵ֥י </span>יִשְׂרָאֵֽל׃ </span></td><td class=\"tf\"><span class=\"hb\"><span  class=\"hl\" >בִּ</span></span></td><td class=\"tf\"><span class=\"hb\"><span  class=\"hl\" >בְנֵ֥י </span></span></td></tr>\n",
       "<tr class=\"tf\"><td class=\"tf\">29</td><td class=\"tf\"> <a href=\"https://shebanq.ancient-data.org/hebrew/text?book=Josua&amp;chapter=7&amp;verse=1&amp;version=c&amp;mr=m&amp;qw=q&amp;tp=txt_p&amp;tr=hb&amp;wget=v&amp;qget=v&amp;nget=vt\" title=\"show this passage in SHEBANQ\" sec=\"Joshua 7:1\">Joshua 7:1</a></td><td class=\"tf\"><span class=\"hb\"><a class=\"vn\" href=\"https://shebanq.ancient-data.org/hebrew/text?book=Josua&amp;chapter=7&amp;verse=1&amp;version=c&amp;mr=m&amp;qw=q&amp;tp=txt_p&amp;tr=hb&amp;wget=v&amp;qget=v&amp;nget=vt\" title=\"Joshua 7:1\" sec=\"Joshua 7:1\"></a>וַיִּמְעֲל֧וּ בְנֵֽי־יִשְׂרָאֵ֛ל מַ֖עַל בַּחֵ֑רֶם וַיִּקַּ֡ח עָכָ֣ן בֶּן־כַּרְמִי֩ בֶן־זַבְדִּ֨י בֶן־זֶ֜רַח לְמַטֵּ֤ה יְהוּדָה֙ מִן־הַחֵ֔רֶם וַיִּֽחַר־אַ֥ף יְהוָ֖ה <span  class=\"hl\" >בִּ</span><span  class=\"hl\" >בְנֵ֥י </span>יִשְׂרָאֵֽל׃ </span></td><td class=\"tf\"><span class=\"hb\"><span  class=\"hl\" >בִּ</span></span></td><td class=\"tf\"><span class=\"hb\"><span  class=\"hl\" >בְנֵ֥י </span></span></td></tr>\n",
       "<tr class=\"tf\"><td class=\"tf\">30</td><td class=\"tf\"> <a href=\"https://shebanq.ancient-data.org/hebrew/text?book=Josua&amp;chapter=7&amp;verse=1&amp;version=c&amp;mr=m&amp;qw=q&amp;tp=txt_p&amp;tr=hb&amp;wget=v&amp;qget=v&amp;nget=vt\" title=\"show this passage in SHEBANQ\" sec=\"Joshua 7:1\">Joshua 7:1</a></td><td class=\"tf\"><span class=\"hb\"><a class=\"vn\" href=\"https://shebanq.ancient-data.org/hebrew/text?book=Josua&amp;chapter=7&amp;verse=1&amp;version=c&amp;mr=m&amp;qw=q&amp;tp=txt_p&amp;tr=hb&amp;wget=v&amp;qget=v&amp;nget=vt\" title=\"Joshua 7:1\" sec=\"Joshua 7:1\"></a>וַיִּמְעֲל֧וּ בְנֵֽי־יִשְׂרָאֵ֛ל מַ֖עַל בַּחֵ֑רֶם וַיִּקַּ֡ח עָכָ֣ן בֶּן־כַּרְמִי֩ בֶן־זַבְדִּ֨י בֶן־זֶ֜רַח לְמַטֵּ֤ה יְהוּדָה֙ מִן־הַחֵ֔רֶם וַיִּֽחַר־אַ֥ף יְהוָ֖ה בִּבְנֵ֥י <span  class=\"hl\" >יִשְׂרָאֵֽל׃ </span></span></td><td class=\"tf\"><span class=\"hb\"><span  class=\"hl\" >יִשְׂרָאֵֽל׃ </span></span></td></tr>\n",
       "<tr class=\"tf\"><td class=\"tf\">31</td><td class=\"tf\"> <a href=\"https://shebanq.ancient-data.org/hebrew/text?book=Josua&amp;chapter=7&amp;verse=2&amp;version=c&amp;mr=m&amp;qw=q&amp;tp=txt_p&amp;tr=hb&amp;wget=v&amp;qget=v&amp;nget=vt\" title=\"show this passage in SHEBANQ\" sec=\"Joshua 7:2\">Joshua 7:2</a></td><td class=\"tf\"><span class=\"hb\"><a class=\"vn\" href=\"https://shebanq.ancient-data.org/hebrew/text?book=Josua&amp;chapter=7&amp;verse=2&amp;version=c&amp;mr=m&amp;qw=q&amp;tp=txt_p&amp;tr=hb&amp;wget=v&amp;qget=v&amp;nget=vt\" title=\"Joshua 7:2\" sec=\"Joshua 7:2\"></a><span  class=\"hl\" >וַ</span><span  class=\"hl\" >יִּשְׁלַח֩ </span>יְהֹושֻׁ֨עַ אֲנָשִׁ֜ים מִֽירִיחֹ֗ו הָעַ֞י אֲשֶׁ֨ר עִם־בֵּ֥ית אָ֨וֶן֙ מִקֶּ֣דֶם לְבֵֽית־אֵ֔ל וַיֹּ֤אמֶר אֲלֵיהֶם֙ לֵאמֹ֔ר עֲל֖וּ וְרַגְּל֣וּ אֶת־הָאָ֑רֶץ וַֽיַּעֲלוּ֙ הָאֲנָשִׁ֔ים וַֽיְרַגְּל֖וּ אֶת־הָעָֽי׃ </span></td><td class=\"tf\"><span class=\"hb\"><span  class=\"hl\" >וַ</span></span></td><td class=\"tf\"><span class=\"hb\"><span  class=\"hl\" >יִּשְׁלַח֩ </span></span></td></tr>\n",
       "<tr class=\"tf\"><td class=\"tf\">32</td><td class=\"tf\"> <a href=\"https://shebanq.ancient-data.org/hebrew/text?book=Josua&amp;chapter=7&amp;verse=2&amp;version=c&amp;mr=m&amp;qw=q&amp;tp=txt_p&amp;tr=hb&amp;wget=v&amp;qget=v&amp;nget=vt\" title=\"show this passage in SHEBANQ\" sec=\"Joshua 7:2\">Joshua 7:2</a></td><td class=\"tf\"><span class=\"hb\"><a class=\"vn\" href=\"https://shebanq.ancient-data.org/hebrew/text?book=Josua&amp;chapter=7&amp;verse=2&amp;version=c&amp;mr=m&amp;qw=q&amp;tp=txt_p&amp;tr=hb&amp;wget=v&amp;qget=v&amp;nget=vt\" title=\"Joshua 7:2\" sec=\"Joshua 7:2\"></a><span  class=\"hl\" >וַ</span><span  class=\"hl\" >יִּשְׁלַח֩ </span>יְהֹושֻׁ֨עַ אֲנָשִׁ֜ים מִֽירִיחֹ֗ו הָעַ֞י אֲשֶׁ֨ר עִם־בֵּ֥ית אָ֨וֶן֙ מִקֶּ֣דֶם לְבֵֽית־אֵ֔ל וַיֹּ֤אמֶר אֲלֵיהֶם֙ לֵאמֹ֔ר עֲל֖וּ וְרַגְּל֣וּ אֶת־הָאָ֑רֶץ וַֽיַּעֲלוּ֙ הָאֲנָשִׁ֔ים וַֽיְרַגְּל֖וּ אֶת־הָעָֽי׃ </span></td><td class=\"tf\"><span class=\"hb\"><span  class=\"hl\" >וַ</span></span></td><td class=\"tf\"><span class=\"hb\"><span  class=\"hl\" >יִּשְׁלַח֩ </span></span></td></tr>\n",
       "<tr class=\"tf\"><td class=\"tf\">33</td><td class=\"tf\"> <a href=\"https://shebanq.ancient-data.org/hebrew/text?book=Josua&amp;chapter=7&amp;verse=2&amp;version=c&amp;mr=m&amp;qw=q&amp;tp=txt_p&amp;tr=hb&amp;wget=v&amp;qget=v&amp;nget=vt\" title=\"show this passage in SHEBANQ\" sec=\"Joshua 7:2\">Joshua 7:2</a></td><td class=\"tf\"><span class=\"hb\"><a class=\"vn\" href=\"https://shebanq.ancient-data.org/hebrew/text?book=Josua&amp;chapter=7&amp;verse=2&amp;version=c&amp;mr=m&amp;qw=q&amp;tp=txt_p&amp;tr=hb&amp;wget=v&amp;qget=v&amp;nget=vt\" title=\"Joshua 7:2\" sec=\"Joshua 7:2\"></a>וַיִּשְׁלַח֩ <span  class=\"hl\" >יְהֹושֻׁ֨עַ </span>אֲנָשִׁ֜ים מִֽירִיחֹ֗ו הָעַ֞י אֲשֶׁ֨ר עִם־בֵּ֥ית אָ֨וֶן֙ מִקֶּ֣דֶם לְבֵֽית־אֵ֔ל וַיֹּ֤אמֶר אֲלֵיהֶם֙ לֵאמֹ֔ר עֲל֖וּ וְרַגְּל֣וּ אֶת־הָאָ֑רֶץ וַֽיַּעֲלוּ֙ הָאֲנָשִׁ֔ים וַֽיְרַגְּל֖וּ אֶת־הָעָֽי׃ </span></td><td class=\"tf\"><span class=\"hb\"><span  class=\"hl\" >יְהֹושֻׁ֨עַ </span></span></td></tr>\n",
       "<tr class=\"tf\"><td class=\"tf\">34</td><td class=\"tf\"> <a href=\"https://shebanq.ancient-data.org/hebrew/text?book=Josua&amp;chapter=7&amp;verse=2&amp;version=c&amp;mr=m&amp;qw=q&amp;tp=txt_p&amp;tr=hb&amp;wget=v&amp;qget=v&amp;nget=vt\" title=\"show this passage in SHEBANQ\" sec=\"Joshua 7:2\">Joshua 7:2</a></td><td class=\"tf\"><span class=\"hb\"><a class=\"vn\" href=\"https://shebanq.ancient-data.org/hebrew/text?book=Josua&amp;chapter=7&amp;verse=2&amp;version=c&amp;mr=m&amp;qw=q&amp;tp=txt_p&amp;tr=hb&amp;wget=v&amp;qget=v&amp;nget=vt\" title=\"Joshua 7:2\" sec=\"Joshua 7:2\"></a>וַיִּשְׁלַח֩ יְהֹושֻׁ֨עַ <span  class=\"hl\" >אֲנָשִׁ֜ים </span>מִֽירִיחֹ֗ו הָעַ֞י אֲשֶׁ֨ר עִם־בֵּ֥ית אָ֨וֶן֙ מִקֶּ֣דֶם לְבֵֽית־אֵ֔ל וַיֹּ֤אמֶר אֲלֵיהֶם֙ לֵאמֹ֔ר עֲל֖וּ וְרַגְּל֣וּ אֶת־הָאָ֑רֶץ וַֽיַּעֲלוּ֙ הָאֲנָשִׁ֔ים וַֽיְרַגְּל֖וּ אֶת־הָעָֽי׃ </span></td><td class=\"tf\"><span class=\"hb\"><span  class=\"hl\" >אֲנָשִׁ֜ים </span></span></td></tr>\n",
       "<tr class=\"tf\"><td class=\"tf\">35</td><td class=\"tf\"> <a href=\"https://shebanq.ancient-data.org/hebrew/text?book=Josua&amp;chapter=7&amp;verse=2&amp;version=c&amp;mr=m&amp;qw=q&amp;tp=txt_p&amp;tr=hb&amp;wget=v&amp;qget=v&amp;nget=vt\" title=\"show this passage in SHEBANQ\" sec=\"Joshua 7:2\">Joshua 7:2</a></td><td class=\"tf\"><span class=\"hb\"><a class=\"vn\" href=\"https://shebanq.ancient-data.org/hebrew/text?book=Josua&amp;chapter=7&amp;verse=2&amp;version=c&amp;mr=m&amp;qw=q&amp;tp=txt_p&amp;tr=hb&amp;wget=v&amp;qget=v&amp;nget=vt\" title=\"Joshua 7:2\" sec=\"Joshua 7:2\"></a>וַיִּשְׁלַח֩ יְהֹושֻׁ֨עַ אֲנָשִׁ֜ים <span  class=\"hl\" >מִֽ</span><span  class=\"hl\" >ירִיחֹ֗ו </span>הָעַ֞י אֲשֶׁ֨ר עִם־בֵּ֥ית אָ֨וֶן֙ מִקֶּ֣דֶם לְבֵֽית־אֵ֔ל וַיֹּ֤אמֶר אֲלֵיהֶם֙ לֵאמֹ֔ר עֲל֖וּ וְרַגְּל֣וּ אֶת־הָאָ֑רֶץ וַֽיַּעֲלוּ֙ הָאֲנָשִׁ֔ים וַֽיְרַגְּל֖וּ אֶת־הָעָֽי׃ </span></td><td class=\"tf\"><span class=\"hb\"><span  class=\"hl\" >מִֽ</span></span></td><td class=\"tf\"><span class=\"hb\"><span  class=\"hl\" >ירִיחֹ֗ו </span></span></td></tr>\n",
       "<tr class=\"tf\"><td class=\"tf\">36</td><td class=\"tf\"> <a href=\"https://shebanq.ancient-data.org/hebrew/text?book=Josua&amp;chapter=7&amp;verse=2&amp;version=c&amp;mr=m&amp;qw=q&amp;tp=txt_p&amp;tr=hb&amp;wget=v&amp;qget=v&amp;nget=vt\" title=\"show this passage in SHEBANQ\" sec=\"Joshua 7:2\">Joshua 7:2</a></td><td class=\"tf\"><span class=\"hb\"><a class=\"vn\" href=\"https://shebanq.ancient-data.org/hebrew/text?book=Josua&amp;chapter=7&amp;verse=2&amp;version=c&amp;mr=m&amp;qw=q&amp;tp=txt_p&amp;tr=hb&amp;wget=v&amp;qget=v&amp;nget=vt\" title=\"Joshua 7:2\" sec=\"Joshua 7:2\"></a>וַיִּשְׁלַח֩ יְהֹושֻׁ֨עַ אֲנָשִׁ֜ים <span  class=\"hl\" >מִֽ</span><span  class=\"hl\" >ירִיחֹ֗ו </span>הָעַ֞י אֲשֶׁ֨ר עִם־בֵּ֥ית אָ֨וֶן֙ מִקֶּ֣דֶם לְבֵֽית־אֵ֔ל וַיֹּ֤אמֶר אֲלֵיהֶם֙ לֵאמֹ֔ר עֲל֖וּ וְרַגְּל֣וּ אֶת־הָאָ֑רֶץ וַֽיַּעֲלוּ֙ הָאֲנָשִׁ֔ים וַֽיְרַגְּל֖וּ אֶת־הָעָֽי׃ </span></td><td class=\"tf\"><span class=\"hb\"><span  class=\"hl\" >מִֽ</span></span></td><td class=\"tf\"><span class=\"hb\"><span  class=\"hl\" >ירִיחֹ֗ו </span></span></td></tr>\n",
       "<tr class=\"tf\"><td class=\"tf\">37</td><td class=\"tf\"> <a href=\"https://shebanq.ancient-data.org/hebrew/text?book=Josua&amp;chapter=7&amp;verse=2&amp;version=c&amp;mr=m&amp;qw=q&amp;tp=txt_p&amp;tr=hb&amp;wget=v&amp;qget=v&amp;nget=vt\" title=\"show this passage in SHEBANQ\" sec=\"Joshua 7:2\">Joshua 7:2</a></td><td class=\"tf\"><span class=\"hb\"><a class=\"vn\" href=\"https://shebanq.ancient-data.org/hebrew/text?book=Josua&amp;chapter=7&amp;verse=2&amp;version=c&amp;mr=m&amp;qw=q&amp;tp=txt_p&amp;tr=hb&amp;wget=v&amp;qget=v&amp;nget=vt\" title=\"Joshua 7:2\" sec=\"Joshua 7:2\"></a>וַיִּשְׁלַח֩ יְהֹושֻׁ֨עַ אֲנָשִׁ֜ים מִֽירִיחֹ֗ו <span  class=\"hl\" >הָ</span><span  class=\"hl\" >עַ֞י </span>אֲשֶׁ֨ר עִם־בֵּ֥ית אָ֨וֶן֙ מִקֶּ֣דֶם לְבֵֽית־אֵ֔ל וַיֹּ֤אמֶר אֲלֵיהֶם֙ לֵאמֹ֔ר עֲל֖וּ וְרַגְּל֣וּ אֶת־הָאָ֑רֶץ וַֽיַּעֲלוּ֙ הָאֲנָשִׁ֔ים וַֽיְרַגְּל֖וּ אֶת־הָעָֽי׃ </span></td><td class=\"tf\"><span class=\"hb\"><span  class=\"hl\" >הָ</span></span></td><td class=\"tf\"><span class=\"hb\"><span  class=\"hl\" >עַ֞י </span></span></td></tr>\n",
       "<tr class=\"tf\"><td class=\"tf\">38</td><td class=\"tf\"> <a href=\"https://shebanq.ancient-data.org/hebrew/text?book=Josua&amp;chapter=7&amp;verse=2&amp;version=c&amp;mr=m&amp;qw=q&amp;tp=txt_p&amp;tr=hb&amp;wget=v&amp;qget=v&amp;nget=vt\" title=\"show this passage in SHEBANQ\" sec=\"Joshua 7:2\">Joshua 7:2</a></td><td class=\"tf\"><span class=\"hb\"><a class=\"vn\" href=\"https://shebanq.ancient-data.org/hebrew/text?book=Josua&amp;chapter=7&amp;verse=2&amp;version=c&amp;mr=m&amp;qw=q&amp;tp=txt_p&amp;tr=hb&amp;wget=v&amp;qget=v&amp;nget=vt\" title=\"Joshua 7:2\" sec=\"Joshua 7:2\"></a>וַיִּשְׁלַח֩ יְהֹושֻׁ֨עַ אֲנָשִׁ֜ים מִֽירִיחֹ֗ו <span  class=\"hl\" >הָ</span><span  class=\"hl\" >עַ֞י </span>אֲשֶׁ֨ר עִם־בֵּ֥ית אָ֨וֶן֙ מִקֶּ֣דֶם לְבֵֽית־אֵ֔ל וַיֹּ֤אמֶר אֲלֵיהֶם֙ לֵאמֹ֔ר עֲל֖וּ וְרַגְּל֣וּ אֶת־הָאָ֑רֶץ וַֽיַּעֲלוּ֙ הָאֲנָשִׁ֔ים וַֽיְרַגְּל֖וּ אֶת־הָעָֽי׃ </span></td><td class=\"tf\"><span class=\"hb\"><span  class=\"hl\" >הָ</span></span></td><td class=\"tf\"><span class=\"hb\"><span  class=\"hl\" >עַ֞י </span></span></td></tr>\n",
       "<tr class=\"tf\"><td class=\"tf\">39</td><td class=\"tf\"> <a href=\"https://shebanq.ancient-data.org/hebrew/text?book=Josua&amp;chapter=7&amp;verse=2&amp;version=c&amp;mr=m&amp;qw=q&amp;tp=txt_p&amp;tr=hb&amp;wget=v&amp;qget=v&amp;nget=vt\" title=\"show this passage in SHEBANQ\" sec=\"Joshua 7:2\">Joshua 7:2</a></td><td class=\"tf\"><span class=\"hb\"><a class=\"vn\" href=\"https://shebanq.ancient-data.org/hebrew/text?book=Josua&amp;chapter=7&amp;verse=2&amp;version=c&amp;mr=m&amp;qw=q&amp;tp=txt_p&amp;tr=hb&amp;wget=v&amp;qget=v&amp;nget=vt\" title=\"Joshua 7:2\" sec=\"Joshua 7:2\"></a>וַיִּשְׁלַח֩ יְהֹושֻׁ֨עַ אֲנָשִׁ֜ים מִֽירִיחֹ֗ו הָעַ֞י <span  class=\"hl\" >אֲשֶׁ֨ר </span>עִם־בֵּ֥ית אָ֨וֶן֙ מִקֶּ֣דֶם לְבֵֽית־אֵ֔ל וַיֹּ֤אמֶר אֲלֵיהֶם֙ לֵאמֹ֔ר עֲל֖וּ וְרַגְּל֣וּ אֶת־הָאָ֑רֶץ וַֽיַּעֲלוּ֙ הָאֲנָשִׁ֔ים וַֽיְרַגְּל֖וּ אֶת־הָעָֽי׃ </span></td><td class=\"tf\"><span class=\"hb\"><span  class=\"hl\" >אֲשֶׁ֨ר </span></span></td></tr>\n",
       "<tr class=\"tf\"><td class=\"tf\">40</td><td class=\"tf\"> <a href=\"https://shebanq.ancient-data.org/hebrew/text?book=Josua&amp;chapter=7&amp;verse=2&amp;version=c&amp;mr=m&amp;qw=q&amp;tp=txt_p&amp;tr=hb&amp;wget=v&amp;qget=v&amp;nget=vt\" title=\"show this passage in SHEBANQ\" sec=\"Joshua 7:2\">Joshua 7:2</a></td><td class=\"tf\"><span class=\"hb\"><a class=\"vn\" href=\"https://shebanq.ancient-data.org/hebrew/text?book=Josua&amp;chapter=7&amp;verse=2&amp;version=c&amp;mr=m&amp;qw=q&amp;tp=txt_p&amp;tr=hb&amp;wget=v&amp;qget=v&amp;nget=vt\" title=\"Joshua 7:2\" sec=\"Joshua 7:2\"></a>וַיִּשְׁלַח֩ יְהֹושֻׁ֨עַ אֲנָשִׁ֜ים מִֽירִיחֹ֗ו הָעַ֞י אֲשֶׁ֨ר <span  class=\"hl\" >עִם־</span><span  class=\"hl\" >בֵּ֥ית אָ֨וֶן֙ </span>מִקֶּ֣דֶם לְבֵֽית־אֵ֔ל וַיֹּ֤אמֶר אֲלֵיהֶם֙ לֵאמֹ֔ר עֲל֖וּ וְרַגְּל֣וּ אֶת־הָאָ֑רֶץ וַֽיַּעֲלוּ֙ הָאֲנָשִׁ֔ים וַֽיְרַגְּל֖וּ אֶת־הָעָֽי׃ </span></td><td class=\"tf\"><span class=\"hb\"><span  class=\"hl\" >עִם־</span></span></td><td class=\"tf\"><span class=\"hb\"><span  class=\"hl\" >בֵּ֥ית אָ֨וֶן֙ </span></span></td></tr>\n",
       "<tr class=\"tf\"><td class=\"tf\">41</td><td class=\"tf\"> <a href=\"https://shebanq.ancient-data.org/hebrew/text?book=Josua&amp;chapter=7&amp;verse=2&amp;version=c&amp;mr=m&amp;qw=q&amp;tp=txt_p&amp;tr=hb&amp;wget=v&amp;qget=v&amp;nget=vt\" title=\"show this passage in SHEBANQ\" sec=\"Joshua 7:2\">Joshua 7:2</a></td><td class=\"tf\"><span class=\"hb\"><a class=\"vn\" href=\"https://shebanq.ancient-data.org/hebrew/text?book=Josua&amp;chapter=7&amp;verse=2&amp;version=c&amp;mr=m&amp;qw=q&amp;tp=txt_p&amp;tr=hb&amp;wget=v&amp;qget=v&amp;nget=vt\" title=\"Joshua 7:2\" sec=\"Joshua 7:2\"></a>וַיִּשְׁלַח֩ יְהֹושֻׁ֨עַ אֲנָשִׁ֜ים מִֽירִיחֹ֗ו הָעַ֞י אֲשֶׁ֨ר <span  class=\"hl\" >עִם־</span><span  class=\"hl\" >בֵּ֥ית אָ֨וֶן֙ </span>מִקֶּ֣דֶם לְבֵֽית־אֵ֔ל וַיֹּ֤אמֶר אֲלֵיהֶם֙ לֵאמֹ֔ר עֲל֖וּ וְרַגְּל֣וּ אֶת־הָאָ֑רֶץ וַֽיַּעֲלוּ֙ הָאֲנָשִׁ֔ים וַֽיְרַגְּל֖וּ אֶת־הָעָֽי׃ </span></td><td class=\"tf\"><span class=\"hb\"><span  class=\"hl\" >עִם־</span></span></td><td class=\"tf\"><span class=\"hb\"><span  class=\"hl\" >בֵּ֥ית אָ֨וֶן֙ </span></span></td></tr>\n",
       "<tr class=\"tf\"><td class=\"tf\">42</td><td class=\"tf\"> <a href=\"https://shebanq.ancient-data.org/hebrew/text?book=Josua&amp;chapter=7&amp;verse=2&amp;version=c&amp;mr=m&amp;qw=q&amp;tp=txt_p&amp;tr=hb&amp;wget=v&amp;qget=v&amp;nget=vt\" title=\"show this passage in SHEBANQ\" sec=\"Joshua 7:2\">Joshua 7:2</a></td><td class=\"tf\"><span class=\"hb\"><a class=\"vn\" href=\"https://shebanq.ancient-data.org/hebrew/text?book=Josua&amp;chapter=7&amp;verse=2&amp;version=c&amp;mr=m&amp;qw=q&amp;tp=txt_p&amp;tr=hb&amp;wget=v&amp;qget=v&amp;nget=vt\" title=\"Joshua 7:2\" sec=\"Joshua 7:2\"></a>וַיִּשְׁלַח֩ יְהֹושֻׁ֨עַ אֲנָשִׁ֜ים מִֽירִיחֹ֗ו הָעַ֞י אֲשֶׁ֨ר עִם־בֵּ֥ית אָ֨וֶן֙ <span  class=\"hl\" >מִ</span><span  class=\"hl\" >קֶּ֣דֶם </span>לְבֵֽית־אֵ֔ל וַיֹּ֤אמֶר אֲלֵיהֶם֙ לֵאמֹ֔ר עֲל֖וּ וְרַגְּל֣וּ אֶת־הָאָ֑רֶץ וַֽיַּעֲלוּ֙ הָאֲנָשִׁ֔ים וַֽיְרַגְּל֖וּ אֶת־הָעָֽי׃ </span></td><td class=\"tf\"><span class=\"hb\"><span  class=\"hl\" >מִ</span></span></td><td class=\"tf\"><span class=\"hb\"><span  class=\"hl\" >קֶּ֣דֶם </span></span></td></tr>\n",
       "<tr class=\"tf\"><td class=\"tf\">43</td><td class=\"tf\"> <a href=\"https://shebanq.ancient-data.org/hebrew/text?book=Josua&amp;chapter=7&amp;verse=2&amp;version=c&amp;mr=m&amp;qw=q&amp;tp=txt_p&amp;tr=hb&amp;wget=v&amp;qget=v&amp;nget=vt\" title=\"show this passage in SHEBANQ\" sec=\"Joshua 7:2\">Joshua 7:2</a></td><td class=\"tf\"><span class=\"hb\"><a class=\"vn\" href=\"https://shebanq.ancient-data.org/hebrew/text?book=Josua&amp;chapter=7&amp;verse=2&amp;version=c&amp;mr=m&amp;qw=q&amp;tp=txt_p&amp;tr=hb&amp;wget=v&amp;qget=v&amp;nget=vt\" title=\"Joshua 7:2\" sec=\"Joshua 7:2\"></a>וַיִּשְׁלַח֩ יְהֹושֻׁ֨עַ אֲנָשִׁ֜ים מִֽירִיחֹ֗ו הָעַ֞י אֲשֶׁ֨ר עִם־בֵּ֥ית אָ֨וֶן֙ <span  class=\"hl\" >מִ</span><span  class=\"hl\" >קֶּ֣דֶם </span>לְבֵֽית־אֵ֔ל וַיֹּ֤אמֶר אֲלֵיהֶם֙ לֵאמֹ֔ר עֲל֖וּ וְרַגְּל֣וּ אֶת־הָאָ֑רֶץ וַֽיַּעֲלוּ֙ הָאֲנָשִׁ֔ים וַֽיְרַגְּל֖וּ אֶת־הָעָֽי׃ </span></td><td class=\"tf\"><span class=\"hb\"><span  class=\"hl\" >מִ</span></span></td><td class=\"tf\"><span class=\"hb\"><span  class=\"hl\" >קֶּ֣דֶם </span></span></td></tr>\n",
       "<tr class=\"tf\"><td class=\"tf\">44</td><td class=\"tf\"> <a href=\"https://shebanq.ancient-data.org/hebrew/text?book=Josua&amp;chapter=7&amp;verse=2&amp;version=c&amp;mr=m&amp;qw=q&amp;tp=txt_p&amp;tr=hb&amp;wget=v&amp;qget=v&amp;nget=vt\" title=\"show this passage in SHEBANQ\" sec=\"Joshua 7:2\">Joshua 7:2</a></td><td class=\"tf\"><span class=\"hb\"><a class=\"vn\" href=\"https://shebanq.ancient-data.org/hebrew/text?book=Josua&amp;chapter=7&amp;verse=2&amp;version=c&amp;mr=m&amp;qw=q&amp;tp=txt_p&amp;tr=hb&amp;wget=v&amp;qget=v&amp;nget=vt\" title=\"Joshua 7:2\" sec=\"Joshua 7:2\"></a>וַיִּשְׁלַח֩ יְהֹושֻׁ֨עַ אֲנָשִׁ֜ים מִֽירִיחֹ֗ו הָעַ֞י אֲשֶׁ֨ר עִם־בֵּ֥ית אָ֨וֶן֙ מִקֶּ֣דֶם <span  class=\"hl\" >לְ</span><span  class=\"hl\" >בֵֽית־אֵ֔ל </span>וַיֹּ֤אמֶר אֲלֵיהֶם֙ לֵאמֹ֔ר עֲל֖וּ וְרַגְּל֣וּ אֶת־הָאָ֑רֶץ וַֽיַּעֲלוּ֙ הָאֲנָשִׁ֔ים וַֽיְרַגְּל֖וּ אֶת־הָעָֽי׃ </span></td><td class=\"tf\"><span class=\"hb\"><span  class=\"hl\" >לְ</span></span></td><td class=\"tf\"><span class=\"hb\"><span  class=\"hl\" >בֵֽית־אֵ֔ל </span></span></td></tr>\n",
       "<tr class=\"tf\"><td class=\"tf\">45</td><td class=\"tf\"> <a href=\"https://shebanq.ancient-data.org/hebrew/text?book=Josua&amp;chapter=7&amp;verse=2&amp;version=c&amp;mr=m&amp;qw=q&amp;tp=txt_p&amp;tr=hb&amp;wget=v&amp;qget=v&amp;nget=vt\" title=\"show this passage in SHEBANQ\" sec=\"Joshua 7:2\">Joshua 7:2</a></td><td class=\"tf\"><span class=\"hb\"><a class=\"vn\" href=\"https://shebanq.ancient-data.org/hebrew/text?book=Josua&amp;chapter=7&amp;verse=2&amp;version=c&amp;mr=m&amp;qw=q&amp;tp=txt_p&amp;tr=hb&amp;wget=v&amp;qget=v&amp;nget=vt\" title=\"Joshua 7:2\" sec=\"Joshua 7:2\"></a>וַיִּשְׁלַח֩ יְהֹושֻׁ֨עַ אֲנָשִׁ֜ים מִֽירִיחֹ֗ו הָעַ֞י אֲשֶׁ֨ר עִם־בֵּ֥ית אָ֨וֶן֙ מִקֶּ֣דֶם <span  class=\"hl\" >לְ</span><span  class=\"hl\" >בֵֽית־אֵ֔ל </span>וַיֹּ֤אמֶר אֲלֵיהֶם֙ לֵאמֹ֔ר עֲל֖וּ וְרַגְּל֣וּ אֶת־הָאָ֑רֶץ וַֽיַּעֲלוּ֙ הָאֲנָשִׁ֔ים וַֽיְרַגְּל֖וּ אֶת־הָעָֽי׃ </span></td><td class=\"tf\"><span class=\"hb\"><span  class=\"hl\" >לְ</span></span></td><td class=\"tf\"><span class=\"hb\"><span  class=\"hl\" >בֵֽית־אֵ֔ל </span></span></td></tr>\n",
       "<tr class=\"tf\"><td class=\"tf\">46</td><td class=\"tf\"> <a href=\"https://shebanq.ancient-data.org/hebrew/text?book=Josua&amp;chapter=7&amp;verse=2&amp;version=c&amp;mr=m&amp;qw=q&amp;tp=txt_p&amp;tr=hb&amp;wget=v&amp;qget=v&amp;nget=vt\" title=\"show this passage in SHEBANQ\" sec=\"Joshua 7:2\">Joshua 7:2</a></td><td class=\"tf\"><span class=\"hb\"><a class=\"vn\" href=\"https://shebanq.ancient-data.org/hebrew/text?book=Josua&amp;chapter=7&amp;verse=2&amp;version=c&amp;mr=m&amp;qw=q&amp;tp=txt_p&amp;tr=hb&amp;wget=v&amp;qget=v&amp;nget=vt\" title=\"Joshua 7:2\" sec=\"Joshua 7:2\"></a>וַיִּשְׁלַח֩ יְהֹושֻׁ֨עַ אֲנָשִׁ֜ים מִֽירִיחֹ֗ו הָעַ֞י אֲשֶׁ֨ר עִם־בֵּ֥ית אָ֨וֶן֙ מִקֶּ֣דֶם לְבֵֽית־אֵ֔ל <span  class=\"hl\" >וַ</span><span  class=\"hl\" >יֹּ֤אמֶר </span>אֲלֵיהֶם֙ לֵאמֹ֔ר עֲל֖וּ וְרַגְּל֣וּ אֶת־הָאָ֑רֶץ וַֽיַּעֲלוּ֙ הָאֲנָשִׁ֔ים וַֽיְרַגְּל֖וּ אֶת־הָעָֽי׃ </span></td><td class=\"tf\"><span class=\"hb\"><span  class=\"hl\" >וַ</span></span></td><td class=\"tf\"><span class=\"hb\"><span  class=\"hl\" >יֹּ֤אמֶר </span></span></td></tr>\n",
       "<tr class=\"tf\"><td class=\"tf\">47</td><td class=\"tf\"> <a href=\"https://shebanq.ancient-data.org/hebrew/text?book=Josua&amp;chapter=7&amp;verse=2&amp;version=c&amp;mr=m&amp;qw=q&amp;tp=txt_p&amp;tr=hb&amp;wget=v&amp;qget=v&amp;nget=vt\" title=\"show this passage in SHEBANQ\" sec=\"Joshua 7:2\">Joshua 7:2</a></td><td class=\"tf\"><span class=\"hb\"><a class=\"vn\" href=\"https://shebanq.ancient-data.org/hebrew/text?book=Josua&amp;chapter=7&amp;verse=2&amp;version=c&amp;mr=m&amp;qw=q&amp;tp=txt_p&amp;tr=hb&amp;wget=v&amp;qget=v&amp;nget=vt\" title=\"Joshua 7:2\" sec=\"Joshua 7:2\"></a>וַיִּשְׁלַח֩ יְהֹושֻׁ֨עַ אֲנָשִׁ֜ים מִֽירִיחֹ֗ו הָעַ֞י אֲשֶׁ֨ר עִם־בֵּ֥ית אָ֨וֶן֙ מִקֶּ֣דֶם לְבֵֽית־אֵ֔ל <span  class=\"hl\" >וַ</span><span  class=\"hl\" >יֹּ֤אמֶר </span>אֲלֵיהֶם֙ לֵאמֹ֔ר עֲל֖וּ וְרַגְּל֣וּ אֶת־הָאָ֑רֶץ וַֽיַּעֲלוּ֙ הָאֲנָשִׁ֔ים וַֽיְרַגְּל֖וּ אֶת־הָעָֽי׃ </span></td><td class=\"tf\"><span class=\"hb\"><span  class=\"hl\" >וַ</span></span></td><td class=\"tf\"><span class=\"hb\"><span  class=\"hl\" >יֹּ֤אמֶר </span></span></td></tr>\n",
       "<tr class=\"tf\"><td class=\"tf\">48</td><td class=\"tf\"> <a href=\"https://shebanq.ancient-data.org/hebrew/text?book=Josua&amp;chapter=7&amp;verse=2&amp;version=c&amp;mr=m&amp;qw=q&amp;tp=txt_p&amp;tr=hb&amp;wget=v&amp;qget=v&amp;nget=vt\" title=\"show this passage in SHEBANQ\" sec=\"Joshua 7:2\">Joshua 7:2</a></td><td class=\"tf\"><span class=\"hb\"><a class=\"vn\" href=\"https://shebanq.ancient-data.org/hebrew/text?book=Josua&amp;chapter=7&amp;verse=2&amp;version=c&amp;mr=m&amp;qw=q&amp;tp=txt_p&amp;tr=hb&amp;wget=v&amp;qget=v&amp;nget=vt\" title=\"Joshua 7:2\" sec=\"Joshua 7:2\"></a>וַיִּשְׁלַח֩ יְהֹושֻׁ֨עַ אֲנָשִׁ֜ים מִֽירִיחֹ֗ו הָעַ֞י אֲשֶׁ֨ר עִם־בֵּ֥ית אָ֨וֶן֙ מִקֶּ֣דֶם לְבֵֽית־אֵ֔ל וַיֹּ֤אמֶר <span  class=\"hl\" >אֲלֵיהֶם֙ </span>לֵאמֹ֔ר עֲל֖וּ וְרַגְּל֣וּ אֶת־הָאָ֑רֶץ וַֽיַּעֲלוּ֙ הָאֲנָשִׁ֔ים וַֽיְרַגְּל֖וּ אֶת־הָעָֽי׃ </span></td><td class=\"tf\"><span class=\"hb\"><span  class=\"hl\" >אֲלֵיהֶם֙ </span></span></td></tr>\n",
       "<tr class=\"tf\"><td class=\"tf\">49</td><td class=\"tf\"> <a href=\"https://shebanq.ancient-data.org/hebrew/text?book=Josua&amp;chapter=7&amp;verse=2&amp;version=c&amp;mr=m&amp;qw=q&amp;tp=txt_p&amp;tr=hb&amp;wget=v&amp;qget=v&amp;nget=vt\" title=\"show this passage in SHEBANQ\" sec=\"Joshua 7:2\">Joshua 7:2</a></td><td class=\"tf\"><span class=\"hb\"><a class=\"vn\" href=\"https://shebanq.ancient-data.org/hebrew/text?book=Josua&amp;chapter=7&amp;verse=2&amp;version=c&amp;mr=m&amp;qw=q&amp;tp=txt_p&amp;tr=hb&amp;wget=v&amp;qget=v&amp;nget=vt\" title=\"Joshua 7:2\" sec=\"Joshua 7:2\"></a>וַיִּשְׁלַח֩ יְהֹושֻׁ֨עַ אֲנָשִׁ֜ים מִֽירִיחֹ֗ו הָעַ֞י אֲשֶׁ֨ר עִם־בֵּ֥ית אָ֨וֶן֙ מִקֶּ֣דֶם לְבֵֽית־אֵ֔ל וַיֹּ֤אמֶר אֲלֵיהֶם֙ <span  class=\"hl\" >לֵ</span><span  class=\"hl\" >אמֹ֔ר </span>עֲל֖וּ וְרַגְּל֣וּ אֶת־הָאָ֑רֶץ וַֽיַּעֲלוּ֙ הָאֲנָשִׁ֔ים וַֽיְרַגְּל֖וּ אֶת־הָעָֽי׃ </span></td><td class=\"tf\"><span class=\"hb\"><span  class=\"hl\" >לֵ</span></span></td><td class=\"tf\"><span class=\"hb\"><span  class=\"hl\" >אמֹ֔ר </span></span></td></tr>\n",
       "<tr class=\"tf\"><td class=\"tf\">50</td><td class=\"tf\"> <a href=\"https://shebanq.ancient-data.org/hebrew/text?book=Josua&amp;chapter=7&amp;verse=2&amp;version=c&amp;mr=m&amp;qw=q&amp;tp=txt_p&amp;tr=hb&amp;wget=v&amp;qget=v&amp;nget=vt\" title=\"show this passage in SHEBANQ\" sec=\"Joshua 7:2\">Joshua 7:2</a></td><td class=\"tf\"><span class=\"hb\"><a class=\"vn\" href=\"https://shebanq.ancient-data.org/hebrew/text?book=Josua&amp;chapter=7&amp;verse=2&amp;version=c&amp;mr=m&amp;qw=q&amp;tp=txt_p&amp;tr=hb&amp;wget=v&amp;qget=v&amp;nget=vt\" title=\"Joshua 7:2\" sec=\"Joshua 7:2\"></a>וַיִּשְׁלַח֩ יְהֹושֻׁ֨עַ אֲנָשִׁ֜ים מִֽירִיחֹ֗ו הָעַ֞י אֲשֶׁ֨ר עִם־בֵּ֥ית אָ֨וֶן֙ מִקֶּ֣דֶם לְבֵֽית־אֵ֔ל וַיֹּ֤אמֶר אֲלֵיהֶם֙ <span  class=\"hl\" >לֵ</span><span  class=\"hl\" >אמֹ֔ר </span>עֲל֖וּ וְרַגְּל֣וּ אֶת־הָאָ֑רֶץ וַֽיַּעֲלוּ֙ הָאֲנָשִׁ֔ים וַֽיְרַגְּל֖וּ אֶת־הָעָֽי׃ </span></td><td class=\"tf\"><span class=\"hb\"><span  class=\"hl\" >לֵ</span></span></td><td class=\"tf\"><span class=\"hb\"><span  class=\"hl\" >אמֹ֔ר </span></span></td></tr>\n",
       "<tr class=\"tf\"><td class=\"tf\">51</td><td class=\"tf\"> <a href=\"https://shebanq.ancient-data.org/hebrew/text?book=Josua&amp;chapter=7&amp;verse=2&amp;version=c&amp;mr=m&amp;qw=q&amp;tp=txt_p&amp;tr=hb&amp;wget=v&amp;qget=v&amp;nget=vt\" title=\"show this passage in SHEBANQ\" sec=\"Joshua 7:2\">Joshua 7:2</a></td><td class=\"tf\"><span class=\"hb\"><a class=\"vn\" href=\"https://shebanq.ancient-data.org/hebrew/text?book=Josua&amp;chapter=7&amp;verse=2&amp;version=c&amp;mr=m&amp;qw=q&amp;tp=txt_p&amp;tr=hb&amp;wget=v&amp;qget=v&amp;nget=vt\" title=\"Joshua 7:2\" sec=\"Joshua 7:2\"></a>וַיִּשְׁלַח֩ יְהֹושֻׁ֨עַ אֲנָשִׁ֜ים מִֽירִיחֹ֗ו הָעַ֞י אֲשֶׁ֨ר עִם־בֵּ֥ית אָ֨וֶן֙ מִקֶּ֣דֶם לְבֵֽית־אֵ֔ל וַיֹּ֤אמֶר אֲלֵיהֶם֙ לֵאמֹ֔ר <span  class=\"hl\" >עֲל֖וּ </span>וְרַגְּל֣וּ אֶת־הָאָ֑רֶץ וַֽיַּעֲלוּ֙ הָאֲנָשִׁ֔ים וַֽיְרַגְּל֖וּ אֶת־הָעָֽי׃ </span></td><td class=\"tf\"><span class=\"hb\"><span  class=\"hl\" >עֲל֖וּ </span></span></td></tr>\n",
       "<tr class=\"tf\"><td class=\"tf\">52</td><td class=\"tf\"> <a href=\"https://shebanq.ancient-data.org/hebrew/text?book=Josua&amp;chapter=7&amp;verse=2&amp;version=c&amp;mr=m&amp;qw=q&amp;tp=txt_p&amp;tr=hb&amp;wget=v&amp;qget=v&amp;nget=vt\" title=\"show this passage in SHEBANQ\" sec=\"Joshua 7:2\">Joshua 7:2</a></td><td class=\"tf\"><span class=\"hb\"><a class=\"vn\" href=\"https://shebanq.ancient-data.org/hebrew/text?book=Josua&amp;chapter=7&amp;verse=2&amp;version=c&amp;mr=m&amp;qw=q&amp;tp=txt_p&amp;tr=hb&amp;wget=v&amp;qget=v&amp;nget=vt\" title=\"Joshua 7:2\" sec=\"Joshua 7:2\"></a>וַיִּשְׁלַח֩ יְהֹושֻׁ֨עַ אֲנָשִׁ֜ים מִֽירִיחֹ֗ו הָעַ֞י אֲשֶׁ֨ר עִם־בֵּ֥ית אָ֨וֶן֙ מִקֶּ֣דֶם לְבֵֽית־אֵ֔ל וַיֹּ֤אמֶר אֲלֵיהֶם֙ לֵאמֹ֔ר עֲל֖וּ <span  class=\"hl\" >וְ</span><span  class=\"hl\" >רַגְּל֣וּ </span>אֶת־הָאָ֑רֶץ וַֽיַּעֲלוּ֙ הָאֲנָשִׁ֔ים וַֽיְרַגְּל֖וּ אֶת־הָעָֽי׃ </span></td><td class=\"tf\"><span class=\"hb\"><span  class=\"hl\" >וְ</span></span></td><td class=\"tf\"><span class=\"hb\"><span  class=\"hl\" >רַגְּל֣וּ </span></span></td></tr>\n",
       "<tr class=\"tf\"><td class=\"tf\">53</td><td class=\"tf\"> <a href=\"https://shebanq.ancient-data.org/hebrew/text?book=Josua&amp;chapter=7&amp;verse=2&amp;version=c&amp;mr=m&amp;qw=q&amp;tp=txt_p&amp;tr=hb&amp;wget=v&amp;qget=v&amp;nget=vt\" title=\"show this passage in SHEBANQ\" sec=\"Joshua 7:2\">Joshua 7:2</a></td><td class=\"tf\"><span class=\"hb\"><a class=\"vn\" href=\"https://shebanq.ancient-data.org/hebrew/text?book=Josua&amp;chapter=7&amp;verse=2&amp;version=c&amp;mr=m&amp;qw=q&amp;tp=txt_p&amp;tr=hb&amp;wget=v&amp;qget=v&amp;nget=vt\" title=\"Joshua 7:2\" sec=\"Joshua 7:2\"></a>וַיִּשְׁלַח֩ יְהֹושֻׁ֨עַ אֲנָשִׁ֜ים מִֽירִיחֹ֗ו הָעַ֞י אֲשֶׁ֨ר עִם־בֵּ֥ית אָ֨וֶן֙ מִקֶּ֣דֶם לְבֵֽית־אֵ֔ל וַיֹּ֤אמֶר אֲלֵיהֶם֙ לֵאמֹ֔ר עֲל֖וּ <span  class=\"hl\" >וְ</span><span  class=\"hl\" >רַגְּל֣וּ </span>אֶת־הָאָ֑רֶץ וַֽיַּעֲלוּ֙ הָאֲנָשִׁ֔ים וַֽיְרַגְּל֖וּ אֶת־הָעָֽי׃ </span></td><td class=\"tf\"><span class=\"hb\"><span  class=\"hl\" >וְ</span></span></td><td class=\"tf\"><span class=\"hb\"><span  class=\"hl\" >רַגְּל֣וּ </span></span></td></tr>\n",
       "<tr class=\"tf\"><td class=\"tf\">54</td><td class=\"tf\"> <a href=\"https://shebanq.ancient-data.org/hebrew/text?book=Josua&amp;chapter=7&amp;verse=2&amp;version=c&amp;mr=m&amp;qw=q&amp;tp=txt_p&amp;tr=hb&amp;wget=v&amp;qget=v&amp;nget=vt\" title=\"show this passage in SHEBANQ\" sec=\"Joshua 7:2\">Joshua 7:2</a></td><td class=\"tf\"><span class=\"hb\"><a class=\"vn\" href=\"https://shebanq.ancient-data.org/hebrew/text?book=Josua&amp;chapter=7&amp;verse=2&amp;version=c&amp;mr=m&amp;qw=q&amp;tp=txt_p&amp;tr=hb&amp;wget=v&amp;qget=v&amp;nget=vt\" title=\"Joshua 7:2\" sec=\"Joshua 7:2\"></a>וַיִּשְׁלַח֩ יְהֹושֻׁ֨עַ אֲנָשִׁ֜ים מִֽירִיחֹ֗ו הָעַ֞י אֲשֶׁ֨ר עִם־בֵּ֥ית אָ֨וֶן֙ מִקֶּ֣דֶם לְבֵֽית־אֵ֔ל וַיֹּ֤אמֶר אֲלֵיהֶם֙ לֵאמֹ֔ר עֲל֖וּ וְרַגְּל֣וּ <span  class=\"hl\" >אֶת־</span><span  class=\"hl\" >הָ</span><span  class=\"hl\" >אָ֑רֶץ </span>וַֽיַּעֲלוּ֙ הָאֲנָשִׁ֔ים וַֽיְרַגְּל֖וּ אֶת־הָעָֽי׃ </span></td><td class=\"tf\"><span class=\"hb\"><span  class=\"hl\" >אֶת־</span></span></td><td class=\"tf\"><span class=\"hb\"><span  class=\"hl\" >הָ</span></span></td><td class=\"tf\"><span class=\"hb\"><span  class=\"hl\" >אָ֑רֶץ </span></span></td></tr>\n",
       "<tr class=\"tf\"><td class=\"tf\">55</td><td class=\"tf\"> <a href=\"https://shebanq.ancient-data.org/hebrew/text?book=Josua&amp;chapter=7&amp;verse=2&amp;version=c&amp;mr=m&amp;qw=q&amp;tp=txt_p&amp;tr=hb&amp;wget=v&amp;qget=v&amp;nget=vt\" title=\"show this passage in SHEBANQ\" sec=\"Joshua 7:2\">Joshua 7:2</a></td><td class=\"tf\"><span class=\"hb\"><a class=\"vn\" href=\"https://shebanq.ancient-data.org/hebrew/text?book=Josua&amp;chapter=7&amp;verse=2&amp;version=c&amp;mr=m&amp;qw=q&amp;tp=txt_p&amp;tr=hb&amp;wget=v&amp;qget=v&amp;nget=vt\" title=\"Joshua 7:2\" sec=\"Joshua 7:2\"></a>וַיִּשְׁלַח֩ יְהֹושֻׁ֨עַ אֲנָשִׁ֜ים מִֽירִיחֹ֗ו הָעַ֞י אֲשֶׁ֨ר עִם־בֵּ֥ית אָ֨וֶן֙ מִקֶּ֣דֶם לְבֵֽית־אֵ֔ל וַיֹּ֤אמֶר אֲלֵיהֶם֙ לֵאמֹ֔ר עֲל֖וּ וְרַגְּל֣וּ <span  class=\"hl\" >אֶת־</span><span  class=\"hl\" >הָ</span><span  class=\"hl\" >אָ֑רֶץ </span>וַֽיַּעֲלוּ֙ הָאֲנָשִׁ֔ים וַֽיְרַגְּל֖וּ אֶת־הָעָֽי׃ </span></td><td class=\"tf\"><span class=\"hb\"><span  class=\"hl\" >אֶת־</span></span></td><td class=\"tf\"><span class=\"hb\"><span  class=\"hl\" >הָ</span></span></td><td class=\"tf\"><span class=\"hb\"><span  class=\"hl\" >אָ֑רֶץ </span></span></td></tr>\n",
       "<tr class=\"tf\"><td class=\"tf\">56</td><td class=\"tf\"> <a href=\"https://shebanq.ancient-data.org/hebrew/text?book=Josua&amp;chapter=7&amp;verse=2&amp;version=c&amp;mr=m&amp;qw=q&amp;tp=txt_p&amp;tr=hb&amp;wget=v&amp;qget=v&amp;nget=vt\" title=\"show this passage in SHEBANQ\" sec=\"Joshua 7:2\">Joshua 7:2</a></td><td class=\"tf\"><span class=\"hb\"><a class=\"vn\" href=\"https://shebanq.ancient-data.org/hebrew/text?book=Josua&amp;chapter=7&amp;verse=2&amp;version=c&amp;mr=m&amp;qw=q&amp;tp=txt_p&amp;tr=hb&amp;wget=v&amp;qget=v&amp;nget=vt\" title=\"Joshua 7:2\" sec=\"Joshua 7:2\"></a>וַיִּשְׁלַח֩ יְהֹושֻׁ֨עַ אֲנָשִׁ֜ים מִֽירִיחֹ֗ו הָעַ֞י אֲשֶׁ֨ר עִם־בֵּ֥ית אָ֨וֶן֙ מִקֶּ֣דֶם לְבֵֽית־אֵ֔ל וַיֹּ֤אמֶר אֲלֵיהֶם֙ לֵאמֹ֔ר עֲל֖וּ וְרַגְּל֣וּ <span  class=\"hl\" >אֶת־</span><span  class=\"hl\" >הָ</span><span  class=\"hl\" >אָ֑רֶץ </span>וַֽיַּעֲלוּ֙ הָאֲנָשִׁ֔ים וַֽיְרַגְּל֖וּ אֶת־הָעָֽי׃ </span></td><td class=\"tf\"><span class=\"hb\"><span  class=\"hl\" >אֶת־</span></span></td><td class=\"tf\"><span class=\"hb\"><span  class=\"hl\" >הָ</span></span></td><td class=\"tf\"><span class=\"hb\"><span  class=\"hl\" >אָ֑רֶץ </span></span></td></tr>\n",
       "<tr class=\"tf\"><td class=\"tf\">57</td><td class=\"tf\"> <a href=\"https://shebanq.ancient-data.org/hebrew/text?book=Josua&amp;chapter=7&amp;verse=2&amp;version=c&amp;mr=m&amp;qw=q&amp;tp=txt_p&amp;tr=hb&amp;wget=v&amp;qget=v&amp;nget=vt\" title=\"show this passage in SHEBANQ\" sec=\"Joshua 7:2\">Joshua 7:2</a></td><td class=\"tf\"><span class=\"hb\"><a class=\"vn\" href=\"https://shebanq.ancient-data.org/hebrew/text?book=Josua&amp;chapter=7&amp;verse=2&amp;version=c&amp;mr=m&amp;qw=q&amp;tp=txt_p&amp;tr=hb&amp;wget=v&amp;qget=v&amp;nget=vt\" title=\"Joshua 7:2\" sec=\"Joshua 7:2\"></a>וַיִּשְׁלַח֩ יְהֹושֻׁ֨עַ אֲנָשִׁ֜ים מִֽירִיחֹ֗ו הָעַ֞י אֲשֶׁ֨ר עִם־בֵּ֥ית אָ֨וֶן֙ מִקֶּ֣דֶם לְבֵֽית־אֵ֔ל וַיֹּ֤אמֶר אֲלֵיהֶם֙ לֵאמֹ֔ר עֲל֖וּ וְרַגְּל֣וּ אֶת־הָאָ֑רֶץ <span  class=\"hl\" >וַֽ</span><span  class=\"hl\" >יַּעֲלוּ֙ </span>הָאֲנָשִׁ֔ים וַֽיְרַגְּל֖וּ אֶת־הָעָֽי׃ </span></td><td class=\"tf\"><span class=\"hb\"><span  class=\"hl\" >וַֽ</span></span></td><td class=\"tf\"><span class=\"hb\"><span  class=\"hl\" >יַּעֲלוּ֙ </span></span></td></tr>\n",
       "<tr class=\"tf\"><td class=\"tf\">58</td><td class=\"tf\"> <a href=\"https://shebanq.ancient-data.org/hebrew/text?book=Josua&amp;chapter=7&amp;verse=2&amp;version=c&amp;mr=m&amp;qw=q&amp;tp=txt_p&amp;tr=hb&amp;wget=v&amp;qget=v&amp;nget=vt\" title=\"show this passage in SHEBANQ\" sec=\"Joshua 7:2\">Joshua 7:2</a></td><td class=\"tf\"><span class=\"hb\"><a class=\"vn\" href=\"https://shebanq.ancient-data.org/hebrew/text?book=Josua&amp;chapter=7&amp;verse=2&amp;version=c&amp;mr=m&amp;qw=q&amp;tp=txt_p&amp;tr=hb&amp;wget=v&amp;qget=v&amp;nget=vt\" title=\"Joshua 7:2\" sec=\"Joshua 7:2\"></a>וַיִּשְׁלַח֩ יְהֹושֻׁ֨עַ אֲנָשִׁ֜ים מִֽירִיחֹ֗ו הָעַ֞י אֲשֶׁ֨ר עִם־בֵּ֥ית אָ֨וֶן֙ מִקֶּ֣דֶם לְבֵֽית־אֵ֔ל וַיֹּ֤אמֶר אֲלֵיהֶם֙ לֵאמֹ֔ר עֲל֖וּ וְרַגְּל֣וּ אֶת־הָאָ֑רֶץ <span  class=\"hl\" >וַֽ</span><span  class=\"hl\" >יַּעֲלוּ֙ </span>הָאֲנָשִׁ֔ים וַֽיְרַגְּל֖וּ אֶת־הָעָֽי׃ </span></td><td class=\"tf\"><span class=\"hb\"><span  class=\"hl\" >וַֽ</span></span></td><td class=\"tf\"><span class=\"hb\"><span  class=\"hl\" >יַּעֲלוּ֙ </span></span></td></tr>\n",
       "<tr class=\"tf\"><td class=\"tf\">59</td><td class=\"tf\"> <a href=\"https://shebanq.ancient-data.org/hebrew/text?book=Josua&amp;chapter=7&amp;verse=2&amp;version=c&amp;mr=m&amp;qw=q&amp;tp=txt_p&amp;tr=hb&amp;wget=v&amp;qget=v&amp;nget=vt\" title=\"show this passage in SHEBANQ\" sec=\"Joshua 7:2\">Joshua 7:2</a></td><td class=\"tf\"><span class=\"hb\"><a class=\"vn\" href=\"https://shebanq.ancient-data.org/hebrew/text?book=Josua&amp;chapter=7&amp;verse=2&amp;version=c&amp;mr=m&amp;qw=q&amp;tp=txt_p&amp;tr=hb&amp;wget=v&amp;qget=v&amp;nget=vt\" title=\"Joshua 7:2\" sec=\"Joshua 7:2\"></a>וַיִּשְׁלַח֩ יְהֹושֻׁ֨עַ אֲנָשִׁ֜ים מִֽירִיחֹ֗ו הָעַ֞י אֲשֶׁ֨ר עִם־בֵּ֥ית אָ֨וֶן֙ מִקֶּ֣דֶם לְבֵֽית־אֵ֔ל וַיֹּ֤אמֶר אֲלֵיהֶם֙ לֵאמֹ֔ר עֲל֖וּ וְרַגְּל֣וּ אֶת־הָאָ֑רֶץ וַֽיַּעֲלוּ֙ <span  class=\"hl\" >הָ</span><span  class=\"hl\" >אֲנָשִׁ֔ים </span>וַֽיְרַגְּל֖וּ אֶת־הָעָֽי׃ </span></td><td class=\"tf\"><span class=\"hb\"><span  class=\"hl\" >הָ</span></span></td><td class=\"tf\"><span class=\"hb\"><span  class=\"hl\" >אֲנָשִׁ֔ים </span></span></td></tr>\n",
       "<tr class=\"tf\"><td class=\"tf\">60</td><td class=\"tf\"> <a href=\"https://shebanq.ancient-data.org/hebrew/text?book=Josua&amp;chapter=7&amp;verse=2&amp;version=c&amp;mr=m&amp;qw=q&amp;tp=txt_p&amp;tr=hb&amp;wget=v&amp;qget=v&amp;nget=vt\" title=\"show this passage in SHEBANQ\" sec=\"Joshua 7:2\">Joshua 7:2</a></td><td class=\"tf\"><span class=\"hb\"><a class=\"vn\" href=\"https://shebanq.ancient-data.org/hebrew/text?book=Josua&amp;chapter=7&amp;verse=2&amp;version=c&amp;mr=m&amp;qw=q&amp;tp=txt_p&amp;tr=hb&amp;wget=v&amp;qget=v&amp;nget=vt\" title=\"Joshua 7:2\" sec=\"Joshua 7:2\"></a>וַיִּשְׁלַח֩ יְהֹושֻׁ֨עַ אֲנָשִׁ֜ים מִֽירִיחֹ֗ו הָעַ֞י אֲשֶׁ֨ר עִם־בֵּ֥ית אָ֨וֶן֙ מִקֶּ֣דֶם לְבֵֽית־אֵ֔ל וַיֹּ֤אמֶר אֲלֵיהֶם֙ לֵאמֹ֔ר עֲל֖וּ וְרַגְּל֣וּ אֶת־הָאָ֑רֶץ וַֽיַּעֲלוּ֙ <span  class=\"hl\" >הָ</span><span  class=\"hl\" >אֲנָשִׁ֔ים </span>וַֽיְרַגְּל֖וּ אֶת־הָעָֽי׃ </span></td><td class=\"tf\"><span class=\"hb\"><span  class=\"hl\" >הָ</span></span></td><td class=\"tf\"><span class=\"hb\"><span  class=\"hl\" >אֲנָשִׁ֔ים </span></span></td></tr>\n",
       "<tr class=\"tf\"><td class=\"tf\">61</td><td class=\"tf\"> <a href=\"https://shebanq.ancient-data.org/hebrew/text?book=Josua&amp;chapter=7&amp;verse=2&amp;version=c&amp;mr=m&amp;qw=q&amp;tp=txt_p&amp;tr=hb&amp;wget=v&amp;qget=v&amp;nget=vt\" title=\"show this passage in SHEBANQ\" sec=\"Joshua 7:2\">Joshua 7:2</a></td><td class=\"tf\"><span class=\"hb\"><a class=\"vn\" href=\"https://shebanq.ancient-data.org/hebrew/text?book=Josua&amp;chapter=7&amp;verse=2&amp;version=c&amp;mr=m&amp;qw=q&amp;tp=txt_p&amp;tr=hb&amp;wget=v&amp;qget=v&amp;nget=vt\" title=\"Joshua 7:2\" sec=\"Joshua 7:2\"></a>וַיִּשְׁלַח֩ יְהֹושֻׁ֨עַ אֲנָשִׁ֜ים מִֽירִיחֹ֗ו הָעַ֞י אֲשֶׁ֨ר עִם־בֵּ֥ית אָ֨וֶן֙ מִקֶּ֣דֶם לְבֵֽית־אֵ֔ל וַיֹּ֤אמֶר אֲלֵיהֶם֙ לֵאמֹ֔ר עֲל֖וּ וְרַגְּל֣וּ אֶת־הָאָ֑רֶץ וַֽיַּעֲלוּ֙ הָאֲנָשִׁ֔ים <span  class=\"hl\" >וַֽ</span><span  class=\"hl\" >יְרַגְּל֖וּ </span>אֶת־הָעָֽי׃ </span></td><td class=\"tf\"><span class=\"hb\"><span  class=\"hl\" >וַֽ</span></span></td><td class=\"tf\"><span class=\"hb\"><span  class=\"hl\" >יְרַגְּל֖וּ </span></span></td></tr>\n",
       "<tr class=\"tf\"><td class=\"tf\">62</td><td class=\"tf\"> <a href=\"https://shebanq.ancient-data.org/hebrew/text?book=Josua&amp;chapter=7&amp;verse=2&amp;version=c&amp;mr=m&amp;qw=q&amp;tp=txt_p&amp;tr=hb&amp;wget=v&amp;qget=v&amp;nget=vt\" title=\"show this passage in SHEBANQ\" sec=\"Joshua 7:2\">Joshua 7:2</a></td><td class=\"tf\"><span class=\"hb\"><a class=\"vn\" href=\"https://shebanq.ancient-data.org/hebrew/text?book=Josua&amp;chapter=7&amp;verse=2&amp;version=c&amp;mr=m&amp;qw=q&amp;tp=txt_p&amp;tr=hb&amp;wget=v&amp;qget=v&amp;nget=vt\" title=\"Joshua 7:2\" sec=\"Joshua 7:2\"></a>וַיִּשְׁלַח֩ יְהֹושֻׁ֨עַ אֲנָשִׁ֜ים מִֽירִיחֹ֗ו הָעַ֞י אֲשֶׁ֨ר עִם־בֵּ֥ית אָ֨וֶן֙ מִקֶּ֣דֶם לְבֵֽית־אֵ֔ל וַיֹּ֤אמֶר אֲלֵיהֶם֙ לֵאמֹ֔ר עֲל֖וּ וְרַגְּל֣וּ אֶת־הָאָ֑רֶץ וַֽיַּעֲלוּ֙ הָאֲנָשִׁ֔ים <span  class=\"hl\" >וַֽ</span><span  class=\"hl\" >יְרַגְּל֖וּ </span>אֶת־הָעָֽי׃ </span></td><td class=\"tf\"><span class=\"hb\"><span  class=\"hl\" >וַֽ</span></span></td><td class=\"tf\"><span class=\"hb\"><span  class=\"hl\" >יְרַגְּל֖וּ </span></span></td></tr>\n",
       "<tr class=\"tf\"><td class=\"tf\">63</td><td class=\"tf\"> <a href=\"https://shebanq.ancient-data.org/hebrew/text?book=Josua&amp;chapter=7&amp;verse=2&amp;version=c&amp;mr=m&amp;qw=q&amp;tp=txt_p&amp;tr=hb&amp;wget=v&amp;qget=v&amp;nget=vt\" title=\"show this passage in SHEBANQ\" sec=\"Joshua 7:2\">Joshua 7:2</a></td><td class=\"tf\"><span class=\"hb\"><a class=\"vn\" href=\"https://shebanq.ancient-data.org/hebrew/text?book=Josua&amp;chapter=7&amp;verse=2&amp;version=c&amp;mr=m&amp;qw=q&amp;tp=txt_p&amp;tr=hb&amp;wget=v&amp;qget=v&amp;nget=vt\" title=\"Joshua 7:2\" sec=\"Joshua 7:2\"></a>וַיִּשְׁלַח֩ יְהֹושֻׁ֨עַ אֲנָשִׁ֜ים מִֽירִיחֹ֗ו הָעַ֞י אֲשֶׁ֨ר עִם־בֵּ֥ית אָ֨וֶן֙ מִקֶּ֣דֶם לְבֵֽית־אֵ֔ל וַיֹּ֤אמֶר אֲלֵיהֶם֙ לֵאמֹ֔ר עֲל֖וּ וְרַגְּל֣וּ אֶת־הָאָ֑רֶץ וַֽיַּעֲלוּ֙ הָאֲנָשִׁ֔ים וַֽיְרַגְּל֖וּ <span  class=\"hl\" >אֶת־</span><span  class=\"hl\" >הָ</span><span  class=\"hl\" >עָֽי׃ </span></span></td><td class=\"tf\"><span class=\"hb\"><span  class=\"hl\" >אֶת־</span></span></td><td class=\"tf\"><span class=\"hb\"><span  class=\"hl\" >הָ</span></span></td><td class=\"tf\"><span class=\"hb\"><span  class=\"hl\" >עָֽי׃ </span></span></td></tr>\n",
       "<tr class=\"tf\"><td class=\"tf\">64</td><td class=\"tf\"> <a href=\"https://shebanq.ancient-data.org/hebrew/text?book=Josua&amp;chapter=7&amp;verse=2&amp;version=c&amp;mr=m&amp;qw=q&amp;tp=txt_p&amp;tr=hb&amp;wget=v&amp;qget=v&amp;nget=vt\" title=\"show this passage in SHEBANQ\" sec=\"Joshua 7:2\">Joshua 7:2</a></td><td class=\"tf\"><span class=\"hb\"><a class=\"vn\" href=\"https://shebanq.ancient-data.org/hebrew/text?book=Josua&amp;chapter=7&amp;verse=2&amp;version=c&amp;mr=m&amp;qw=q&amp;tp=txt_p&amp;tr=hb&amp;wget=v&amp;qget=v&amp;nget=vt\" title=\"Joshua 7:2\" sec=\"Joshua 7:2\"></a>וַיִּשְׁלַח֩ יְהֹושֻׁ֨עַ אֲנָשִׁ֜ים מִֽירִיחֹ֗ו הָעַ֞י אֲשֶׁ֨ר עִם־בֵּ֥ית אָ֨וֶן֙ מִקֶּ֣דֶם לְבֵֽית־אֵ֔ל וַיֹּ֤אמֶר אֲלֵיהֶם֙ לֵאמֹ֔ר עֲל֖וּ וְרַגְּל֣וּ אֶת־הָאָ֑רֶץ וַֽיַּעֲלוּ֙ הָאֲנָשִׁ֔ים וַֽיְרַגְּל֖וּ <span  class=\"hl\" >אֶת־</span><span  class=\"hl\" >הָ</span><span  class=\"hl\" >עָֽי׃ </span></span></td><td class=\"tf\"><span class=\"hb\"><span  class=\"hl\" >אֶת־</span></span></td><td class=\"tf\"><span class=\"hb\"><span  class=\"hl\" >הָ</span></span></td><td class=\"tf\"><span class=\"hb\"><span  class=\"hl\" >עָֽי׃ </span></span></td></tr>\n",
       "<tr class=\"tf\"><td class=\"tf\">65</td><td class=\"tf\"> <a href=\"https://shebanq.ancient-data.org/hebrew/text?book=Josua&amp;chapter=7&amp;verse=2&amp;version=c&amp;mr=m&amp;qw=q&amp;tp=txt_p&amp;tr=hb&amp;wget=v&amp;qget=v&amp;nget=vt\" title=\"show this passage in SHEBANQ\" sec=\"Joshua 7:2\">Joshua 7:2</a></td><td class=\"tf\"><span class=\"hb\"><a class=\"vn\" href=\"https://shebanq.ancient-data.org/hebrew/text?book=Josua&amp;chapter=7&amp;verse=2&amp;version=c&amp;mr=m&amp;qw=q&amp;tp=txt_p&amp;tr=hb&amp;wget=v&amp;qget=v&amp;nget=vt\" title=\"Joshua 7:2\" sec=\"Joshua 7:2\"></a>וַיִּשְׁלַח֩ יְהֹושֻׁ֨עַ אֲנָשִׁ֜ים מִֽירִיחֹ֗ו הָעַ֞י אֲשֶׁ֨ר עִם־בֵּ֥ית אָ֨וֶן֙ מִקֶּ֣דֶם לְבֵֽית־אֵ֔ל וַיֹּ֤אמֶר אֲלֵיהֶם֙ לֵאמֹ֔ר עֲל֖וּ וְרַגְּל֣וּ אֶת־הָאָ֑רֶץ וַֽיַּעֲלוּ֙ הָאֲנָשִׁ֔ים וַֽיְרַגְּל֖וּ <span  class=\"hl\" >אֶת־</span><span  class=\"hl\" >הָ</span><span  class=\"hl\" >עָֽי׃ </span></span></td><td class=\"tf\"><span class=\"hb\"><span  class=\"hl\" >אֶת־</span></span></td><td class=\"tf\"><span class=\"hb\"><span  class=\"hl\" >הָ</span></span></td><td class=\"tf\"><span class=\"hb\"><span  class=\"hl\" >עָֽי׃ </span></span></td></tr>\n",
       "<tr class=\"tf\"><td class=\"tf\">66</td><td class=\"tf\"> <a href=\"https://shebanq.ancient-data.org/hebrew/text?book=Josua&amp;chapter=7&amp;verse=3&amp;version=c&amp;mr=m&amp;qw=q&amp;tp=txt_p&amp;tr=hb&amp;wget=v&amp;qget=v&amp;nget=vt\" title=\"show this passage in SHEBANQ\" sec=\"Joshua 7:3\">Joshua 7:3</a></td><td class=\"tf\"><span class=\"hb\"><a class=\"vn\" href=\"https://shebanq.ancient-data.org/hebrew/text?book=Josua&amp;chapter=7&amp;verse=3&amp;version=c&amp;mr=m&amp;qw=q&amp;tp=txt_p&amp;tr=hb&amp;wget=v&amp;qget=v&amp;nget=vt\" title=\"Joshua 7:3\" sec=\"Joshua 7:3\"></a><span  class=\"hl\" >וַ</span><span  class=\"hl\" >יָּשֻׁ֣בוּ </span>אֶל־יְהֹושֻׁ֗עַ וַיֹּאמְר֣וּ אֵלָיו֮ אַל־יַ֣עַל כָּל־הָעָם֒ כְּאַלְפַּ֣יִם אִ֗ישׁ אֹ֚ו כִּשְׁלֹ֣שֶׁת אֲלָפִ֣ים אִ֔ישׁ יַעֲל֖וּ וְיַכּ֣וּ אֶת־הָעָ֑י אַל־תְּיַגַּע־שָׁ֨מָּה֙ אֶת־כָּל־הָעָ֔ם כִּ֥י מְעַ֖ט הֵֽמָּה׃ </span></td><td class=\"tf\"><span class=\"hb\"><span  class=\"hl\" >וַ</span></span></td><td class=\"tf\"><span class=\"hb\"><span  class=\"hl\" >יָּשֻׁ֣בוּ </span></span></td></tr>\n",
       "<tr class=\"tf\"><td class=\"tf\">67</td><td class=\"tf\"> <a href=\"https://shebanq.ancient-data.org/hebrew/text?book=Josua&amp;chapter=7&amp;verse=3&amp;version=c&amp;mr=m&amp;qw=q&amp;tp=txt_p&amp;tr=hb&amp;wget=v&amp;qget=v&amp;nget=vt\" title=\"show this passage in SHEBANQ\" sec=\"Joshua 7:3\">Joshua 7:3</a></td><td class=\"tf\"><span class=\"hb\"><a class=\"vn\" href=\"https://shebanq.ancient-data.org/hebrew/text?book=Josua&amp;chapter=7&amp;verse=3&amp;version=c&amp;mr=m&amp;qw=q&amp;tp=txt_p&amp;tr=hb&amp;wget=v&amp;qget=v&amp;nget=vt\" title=\"Joshua 7:3\" sec=\"Joshua 7:3\"></a><span  class=\"hl\" >וַ</span><span  class=\"hl\" >יָּשֻׁ֣בוּ </span>אֶל־יְהֹושֻׁ֗עַ וַיֹּאמְר֣וּ אֵלָיו֮ אַל־יַ֣עַל כָּל־הָעָם֒ כְּאַלְפַּ֣יִם אִ֗ישׁ אֹ֚ו כִּשְׁלֹ֣שֶׁת אֲלָפִ֣ים אִ֔ישׁ יַעֲל֖וּ וְיַכּ֣וּ אֶת־הָעָ֑י אַל־תְּיַגַּע־שָׁ֨מָּה֙ אֶת־כָּל־הָעָ֔ם כִּ֥י מְעַ֖ט הֵֽמָּה׃ </span></td><td class=\"tf\"><span class=\"hb\"><span  class=\"hl\" >וַ</span></span></td><td class=\"tf\"><span class=\"hb\"><span  class=\"hl\" >יָּשֻׁ֣בוּ </span></span></td></tr>\n",
       "<tr class=\"tf\"><td class=\"tf\">68</td><td class=\"tf\"> <a href=\"https://shebanq.ancient-data.org/hebrew/text?book=Josua&amp;chapter=7&amp;verse=3&amp;version=c&amp;mr=m&amp;qw=q&amp;tp=txt_p&amp;tr=hb&amp;wget=v&amp;qget=v&amp;nget=vt\" title=\"show this passage in SHEBANQ\" sec=\"Joshua 7:3\">Joshua 7:3</a></td><td class=\"tf\"><span class=\"hb\"><a class=\"vn\" href=\"https://shebanq.ancient-data.org/hebrew/text?book=Josua&amp;chapter=7&amp;verse=3&amp;version=c&amp;mr=m&amp;qw=q&amp;tp=txt_p&amp;tr=hb&amp;wget=v&amp;qget=v&amp;nget=vt\" title=\"Joshua 7:3\" sec=\"Joshua 7:3\"></a>וַיָּשֻׁ֣בוּ <span  class=\"hl\" >אֶל־</span><span  class=\"hl\" >יְהֹושֻׁ֗עַ </span>וַיֹּאמְר֣וּ אֵלָיו֮ אַל־יַ֣עַל כָּל־הָעָם֒ כְּאַלְפַּ֣יִם אִ֗ישׁ אֹ֚ו כִּשְׁלֹ֣שֶׁת אֲלָפִ֣ים אִ֔ישׁ יַעֲל֖וּ וְיַכּ֣וּ אֶת־הָעָ֑י אַל־תְּיַגַּע־שָׁ֨מָּה֙ אֶת־כָּל־הָעָ֔ם כִּ֥י מְעַ֖ט הֵֽמָּה׃ </span></td><td class=\"tf\"><span class=\"hb\"><span  class=\"hl\" >אֶל־</span></span></td><td class=\"tf\"><span class=\"hb\"><span  class=\"hl\" >יְהֹושֻׁ֗עַ </span></span></td></tr>\n",
       "<tr class=\"tf\"><td class=\"tf\">69</td><td class=\"tf\"> <a href=\"https://shebanq.ancient-data.org/hebrew/text?book=Josua&amp;chapter=7&amp;verse=3&amp;version=c&amp;mr=m&amp;qw=q&amp;tp=txt_p&amp;tr=hb&amp;wget=v&amp;qget=v&amp;nget=vt\" title=\"show this passage in SHEBANQ\" sec=\"Joshua 7:3\">Joshua 7:3</a></td><td class=\"tf\"><span class=\"hb\"><a class=\"vn\" href=\"https://shebanq.ancient-data.org/hebrew/text?book=Josua&amp;chapter=7&amp;verse=3&amp;version=c&amp;mr=m&amp;qw=q&amp;tp=txt_p&amp;tr=hb&amp;wget=v&amp;qget=v&amp;nget=vt\" title=\"Joshua 7:3\" sec=\"Joshua 7:3\"></a>וַיָּשֻׁ֣בוּ <span  class=\"hl\" >אֶל־</span><span  class=\"hl\" >יְהֹושֻׁ֗עַ </span>וַיֹּאמְר֣וּ אֵלָיו֮ אַל־יַ֣עַל כָּל־הָעָם֒ כְּאַלְפַּ֣יִם אִ֗ישׁ אֹ֚ו כִּשְׁלֹ֣שֶׁת אֲלָפִ֣ים אִ֔ישׁ יַעֲל֖וּ וְיַכּ֣וּ אֶת־הָעָ֑י אַל־תְּיַגַּע־שָׁ֨מָּה֙ אֶת־כָּל־הָעָ֔ם כִּ֥י מְעַ֖ט הֵֽמָּה׃ </span></td><td class=\"tf\"><span class=\"hb\"><span  class=\"hl\" >אֶל־</span></span></td><td class=\"tf\"><span class=\"hb\"><span  class=\"hl\" >יְהֹושֻׁ֗עַ </span></span></td></tr>\n",
       "<tr class=\"tf\"><td class=\"tf\">70</td><td class=\"tf\"> <a href=\"https://shebanq.ancient-data.org/hebrew/text?book=Josua&amp;chapter=7&amp;verse=3&amp;version=c&amp;mr=m&amp;qw=q&amp;tp=txt_p&amp;tr=hb&amp;wget=v&amp;qget=v&amp;nget=vt\" title=\"show this passage in SHEBANQ\" sec=\"Joshua 7:3\">Joshua 7:3</a></td><td class=\"tf\"><span class=\"hb\"><a class=\"vn\" href=\"https://shebanq.ancient-data.org/hebrew/text?book=Josua&amp;chapter=7&amp;verse=3&amp;version=c&amp;mr=m&amp;qw=q&amp;tp=txt_p&amp;tr=hb&amp;wget=v&amp;qget=v&amp;nget=vt\" title=\"Joshua 7:3\" sec=\"Joshua 7:3\"></a>וַיָּשֻׁ֣בוּ אֶל־יְהֹושֻׁ֗עַ <span  class=\"hl\" >וַ</span><span  class=\"hl\" >יֹּאמְר֣וּ </span>אֵלָיו֮ אַל־יַ֣עַל כָּל־הָעָם֒ כְּאַלְפַּ֣יִם אִ֗ישׁ אֹ֚ו כִּשְׁלֹ֣שֶׁת אֲלָפִ֣ים אִ֔ישׁ יַעֲל֖וּ וְיַכּ֣וּ אֶת־הָעָ֑י אַל־תְּיַגַּע־שָׁ֨מָּה֙ אֶת־כָּל־הָעָ֔ם כִּ֥י מְעַ֖ט הֵֽמָּה׃ </span></td><td class=\"tf\"><span class=\"hb\"><span  class=\"hl\" >וַ</span></span></td><td class=\"tf\"><span class=\"hb\"><span  class=\"hl\" >יֹּאמְר֣וּ </span></span></td></tr>\n",
       "<tr class=\"tf\"><td class=\"tf\">71</td><td class=\"tf\"> <a href=\"https://shebanq.ancient-data.org/hebrew/text?book=Josua&amp;chapter=7&amp;verse=3&amp;version=c&amp;mr=m&amp;qw=q&amp;tp=txt_p&amp;tr=hb&amp;wget=v&amp;qget=v&amp;nget=vt\" title=\"show this passage in SHEBANQ\" sec=\"Joshua 7:3\">Joshua 7:3</a></td><td class=\"tf\"><span class=\"hb\"><a class=\"vn\" href=\"https://shebanq.ancient-data.org/hebrew/text?book=Josua&amp;chapter=7&amp;verse=3&amp;version=c&amp;mr=m&amp;qw=q&amp;tp=txt_p&amp;tr=hb&amp;wget=v&amp;qget=v&amp;nget=vt\" title=\"Joshua 7:3\" sec=\"Joshua 7:3\"></a>וַיָּשֻׁ֣בוּ אֶל־יְהֹושֻׁ֗עַ <span  class=\"hl\" >וַ</span><span  class=\"hl\" >יֹּאמְר֣וּ </span>אֵלָיו֮ אַל־יַ֣עַל כָּל־הָעָם֒ כְּאַלְפַּ֣יִם אִ֗ישׁ אֹ֚ו כִּשְׁלֹ֣שֶׁת אֲלָפִ֣ים אִ֔ישׁ יַעֲל֖וּ וְיַכּ֣וּ אֶת־הָעָ֑י אַל־תְּיַגַּע־שָׁ֨מָּה֙ אֶת־כָּל־הָעָ֔ם כִּ֥י מְעַ֖ט הֵֽמָּה׃ </span></td><td class=\"tf\"><span class=\"hb\"><span  class=\"hl\" >וַ</span></span></td><td class=\"tf\"><span class=\"hb\"><span  class=\"hl\" >יֹּאמְר֣וּ </span></span></td></tr>\n",
       "<tr class=\"tf\"><td class=\"tf\">72</td><td class=\"tf\"> <a href=\"https://shebanq.ancient-data.org/hebrew/text?book=Josua&amp;chapter=7&amp;verse=3&amp;version=c&amp;mr=m&amp;qw=q&amp;tp=txt_p&amp;tr=hb&amp;wget=v&amp;qget=v&amp;nget=vt\" title=\"show this passage in SHEBANQ\" sec=\"Joshua 7:3\">Joshua 7:3</a></td><td class=\"tf\"><span class=\"hb\"><a class=\"vn\" href=\"https://shebanq.ancient-data.org/hebrew/text?book=Josua&amp;chapter=7&amp;verse=3&amp;version=c&amp;mr=m&amp;qw=q&amp;tp=txt_p&amp;tr=hb&amp;wget=v&amp;qget=v&amp;nget=vt\" title=\"Joshua 7:3\" sec=\"Joshua 7:3\"></a>וַיָּשֻׁ֣בוּ אֶל־יְהֹושֻׁ֗עַ וַיֹּאמְר֣וּ <span  class=\"hl\" >אֵלָיו֮ </span>אַל־יַ֣עַל כָּל־הָעָם֒ כְּאַלְפַּ֣יִם אִ֗ישׁ אֹ֚ו כִּשְׁלֹ֣שֶׁת אֲלָפִ֣ים אִ֔ישׁ יַעֲל֖וּ וְיַכּ֣וּ אֶת־הָעָ֑י אַל־תְּיַגַּע־שָׁ֨מָּה֙ אֶת־כָּל־הָעָ֔ם כִּ֥י מְעַ֖ט הֵֽמָּה׃ </span></td><td class=\"tf\"><span class=\"hb\"><span  class=\"hl\" >אֵלָיו֮ </span></span></td></tr>\n",
       "<tr class=\"tf\"><td class=\"tf\">73</td><td class=\"tf\"> <a href=\"https://shebanq.ancient-data.org/hebrew/text?book=Josua&amp;chapter=7&amp;verse=3&amp;version=c&amp;mr=m&amp;qw=q&amp;tp=txt_p&amp;tr=hb&amp;wget=v&amp;qget=v&amp;nget=vt\" title=\"show this passage in SHEBANQ\" sec=\"Joshua 7:3\">Joshua 7:3</a></td><td class=\"tf\"><span class=\"hb\"><a class=\"vn\" href=\"https://shebanq.ancient-data.org/hebrew/text?book=Josua&amp;chapter=7&amp;verse=3&amp;version=c&amp;mr=m&amp;qw=q&amp;tp=txt_p&amp;tr=hb&amp;wget=v&amp;qget=v&amp;nget=vt\" title=\"Joshua 7:3\" sec=\"Joshua 7:3\"></a>וַיָּשֻׁ֣בוּ אֶל־יְהֹושֻׁ֗עַ וַיֹּאמְר֣וּ אֵלָיו֮ <span  class=\"hl\" >אַל־</span><span  class=\"hl\" >יַ֣עַל </span>כָּל־הָעָם֒ כְּאַלְפַּ֣יִם אִ֗ישׁ אֹ֚ו כִּשְׁלֹ֣שֶׁת אֲלָפִ֣ים אִ֔ישׁ יַעֲל֖וּ וְיַכּ֣וּ אֶת־הָעָ֑י אַל־תְּיַגַּע־שָׁ֨מָּה֙ אֶת־כָּל־הָעָ֔ם כִּ֥י מְעַ֖ט הֵֽמָּה׃ </span></td><td class=\"tf\"><span class=\"hb\"><span  class=\"hl\" >אַל־</span></span></td><td class=\"tf\"><span class=\"hb\"><span  class=\"hl\" >יַ֣עַל </span></span></td></tr>\n",
       "<tr class=\"tf\"><td class=\"tf\">74</td><td class=\"tf\"> <a href=\"https://shebanq.ancient-data.org/hebrew/text?book=Josua&amp;chapter=7&amp;verse=3&amp;version=c&amp;mr=m&amp;qw=q&amp;tp=txt_p&amp;tr=hb&amp;wget=v&amp;qget=v&amp;nget=vt\" title=\"show this passage in SHEBANQ\" sec=\"Joshua 7:3\">Joshua 7:3</a></td><td class=\"tf\"><span class=\"hb\"><a class=\"vn\" href=\"https://shebanq.ancient-data.org/hebrew/text?book=Josua&amp;chapter=7&amp;verse=3&amp;version=c&amp;mr=m&amp;qw=q&amp;tp=txt_p&amp;tr=hb&amp;wget=v&amp;qget=v&amp;nget=vt\" title=\"Joshua 7:3\" sec=\"Joshua 7:3\"></a>וַיָּשֻׁ֣בוּ אֶל־יְהֹושֻׁ֗עַ וַיֹּאמְר֣וּ אֵלָיו֮ <span  class=\"hl\" >אַל־</span><span  class=\"hl\" >יַ֣עַל </span>כָּל־הָעָם֒ כְּאַלְפַּ֣יִם אִ֗ישׁ אֹ֚ו כִּשְׁלֹ֣שֶׁת אֲלָפִ֣ים אִ֔ישׁ יַעֲל֖וּ וְיַכּ֣וּ אֶת־הָעָ֑י אַל־תְּיַגַּע־שָׁ֨מָּה֙ אֶת־כָּל־הָעָ֔ם כִּ֥י מְעַ֖ט הֵֽמָּה׃ </span></td><td class=\"tf\"><span class=\"hb\"><span  class=\"hl\" >אַל־</span></span></td><td class=\"tf\"><span class=\"hb\"><span  class=\"hl\" >יַ֣עַל </span></span></td></tr>\n",
       "<tr class=\"tf\"><td class=\"tf\">75</td><td class=\"tf\"> <a href=\"https://shebanq.ancient-data.org/hebrew/text?book=Josua&amp;chapter=7&amp;verse=3&amp;version=c&amp;mr=m&amp;qw=q&amp;tp=txt_p&amp;tr=hb&amp;wget=v&amp;qget=v&amp;nget=vt\" title=\"show this passage in SHEBANQ\" sec=\"Joshua 7:3\">Joshua 7:3</a></td><td class=\"tf\"><span class=\"hb\"><a class=\"vn\" href=\"https://shebanq.ancient-data.org/hebrew/text?book=Josua&amp;chapter=7&amp;verse=3&amp;version=c&amp;mr=m&amp;qw=q&amp;tp=txt_p&amp;tr=hb&amp;wget=v&amp;qget=v&amp;nget=vt\" title=\"Joshua 7:3\" sec=\"Joshua 7:3\"></a>וַיָּשֻׁ֣בוּ אֶל־יְהֹושֻׁ֗עַ וַיֹּאמְר֣וּ אֵלָיו֮ אַל־יַ֣עַל <span  class=\"hl\" >כָּל־</span><span  class=\"hl\" >הָ</span><span  class=\"hl\" >עָם֒ </span>כְּאַלְפַּ֣יִם אִ֗ישׁ אֹ֚ו כִּשְׁלֹ֣שֶׁת אֲלָפִ֣ים אִ֔ישׁ יַעֲל֖וּ וְיַכּ֣וּ אֶת־הָעָ֑י אַל־תְּיַגַּע־שָׁ֨מָּה֙ אֶת־כָּל־הָעָ֔ם כִּ֥י מְעַ֖ט הֵֽמָּה׃ </span></td><td class=\"tf\"><span class=\"hb\"><span  class=\"hl\" >כָּל־</span></span></td><td class=\"tf\"><span class=\"hb\"><span  class=\"hl\" >הָ</span></span></td><td class=\"tf\"><span class=\"hb\"><span  class=\"hl\" >עָם֒ </span></span></td></tr>\n",
       "<tr class=\"tf\"><td class=\"tf\">76</td><td class=\"tf\"> <a href=\"https://shebanq.ancient-data.org/hebrew/text?book=Josua&amp;chapter=7&amp;verse=3&amp;version=c&amp;mr=m&amp;qw=q&amp;tp=txt_p&amp;tr=hb&amp;wget=v&amp;qget=v&amp;nget=vt\" title=\"show this passage in SHEBANQ\" sec=\"Joshua 7:3\">Joshua 7:3</a></td><td class=\"tf\"><span class=\"hb\"><a class=\"vn\" href=\"https://shebanq.ancient-data.org/hebrew/text?book=Josua&amp;chapter=7&amp;verse=3&amp;version=c&amp;mr=m&amp;qw=q&amp;tp=txt_p&amp;tr=hb&amp;wget=v&amp;qget=v&amp;nget=vt\" title=\"Joshua 7:3\" sec=\"Joshua 7:3\"></a>וַיָּשֻׁ֣בוּ אֶל־יְהֹושֻׁ֗עַ וַיֹּאמְר֣וּ אֵלָיו֮ אַל־יַ֣עַל <span  class=\"hl\" >כָּל־</span><span  class=\"hl\" >הָ</span><span  class=\"hl\" >עָם֒ </span>כְּאַלְפַּ֣יִם אִ֗ישׁ אֹ֚ו כִּשְׁלֹ֣שֶׁת אֲלָפִ֣ים אִ֔ישׁ יַעֲל֖וּ וְיַכּ֣וּ אֶת־הָעָ֑י אַל־תְּיַגַּע־שָׁ֨מָּה֙ אֶת־כָּל־הָעָ֔ם כִּ֥י מְעַ֖ט הֵֽמָּה׃ </span></td><td class=\"tf\"><span class=\"hb\"><span  class=\"hl\" >כָּל־</span></span></td><td class=\"tf\"><span class=\"hb\"><span  class=\"hl\" >הָ</span></span></td><td class=\"tf\"><span class=\"hb\"><span  class=\"hl\" >עָם֒ </span></span></td></tr>\n",
       "<tr class=\"tf\"><td class=\"tf\">77</td><td class=\"tf\"> <a href=\"https://shebanq.ancient-data.org/hebrew/text?book=Josua&amp;chapter=7&amp;verse=3&amp;version=c&amp;mr=m&amp;qw=q&amp;tp=txt_p&amp;tr=hb&amp;wget=v&amp;qget=v&amp;nget=vt\" title=\"show this passage in SHEBANQ\" sec=\"Joshua 7:3\">Joshua 7:3</a></td><td class=\"tf\"><span class=\"hb\"><a class=\"vn\" href=\"https://shebanq.ancient-data.org/hebrew/text?book=Josua&amp;chapter=7&amp;verse=3&amp;version=c&amp;mr=m&amp;qw=q&amp;tp=txt_p&amp;tr=hb&amp;wget=v&amp;qget=v&amp;nget=vt\" title=\"Joshua 7:3\" sec=\"Joshua 7:3\"></a>וַיָּשֻׁ֣בוּ אֶל־יְהֹושֻׁ֗עַ וַיֹּאמְר֣וּ אֵלָיו֮ אַל־יַ֣עַל <span  class=\"hl\" >כָּל־</span><span  class=\"hl\" >הָ</span><span  class=\"hl\" >עָם֒ </span>כְּאַלְפַּ֣יִם אִ֗ישׁ אֹ֚ו כִּשְׁלֹ֣שֶׁת אֲלָפִ֣ים אִ֔ישׁ יַעֲל֖וּ וְיַכּ֣וּ אֶת־הָעָ֑י אַל־תְּיַגַּע־שָׁ֨מָּה֙ אֶת־כָּל־הָעָ֔ם כִּ֥י מְעַ֖ט הֵֽמָּה׃ </span></td><td class=\"tf\"><span class=\"hb\"><span  class=\"hl\" >כָּל־</span></span></td><td class=\"tf\"><span class=\"hb\"><span  class=\"hl\" >הָ</span></span></td><td class=\"tf\"><span class=\"hb\"><span  class=\"hl\" >עָם֒ </span></span></td></tr>\n",
       "<tr class=\"tf\"><td class=\"tf\">78</td><td class=\"tf\"> <a href=\"https://shebanq.ancient-data.org/hebrew/text?book=Josua&amp;chapter=7&amp;verse=3&amp;version=c&amp;mr=m&amp;qw=q&amp;tp=txt_p&amp;tr=hb&amp;wget=v&amp;qget=v&amp;nget=vt\" title=\"show this passage in SHEBANQ\" sec=\"Joshua 7:3\">Joshua 7:3</a></td><td class=\"tf\"><span class=\"hb\"><a class=\"vn\" href=\"https://shebanq.ancient-data.org/hebrew/text?book=Josua&amp;chapter=7&amp;verse=3&amp;version=c&amp;mr=m&amp;qw=q&amp;tp=txt_p&amp;tr=hb&amp;wget=v&amp;qget=v&amp;nget=vt\" title=\"Joshua 7:3\" sec=\"Joshua 7:3\"></a>וַיָּשֻׁ֣בוּ אֶל־יְהֹושֻׁ֗עַ וַיֹּאמְר֣וּ אֵלָיו֮ אַל־יַ֣עַל כָּל־הָעָם֒ <span  class=\"hl\" >כְּ</span><span  class=\"hl\" >אַלְפַּ֣יִם </span>אִ֗ישׁ אֹ֚ו כִּשְׁלֹ֣שֶׁת אֲלָפִ֣ים אִ֔ישׁ יַעֲל֖וּ וְיַכּ֣וּ אֶת־הָעָ֑י אַל־תְּיַגַּע־שָׁ֨מָּה֙ אֶת־כָּל־הָעָ֔ם כִּ֥י מְעַ֖ט הֵֽמָּה׃ </span></td><td class=\"tf\"><span class=\"hb\"><span  class=\"hl\" >כְּ</span></span></td><td class=\"tf\"><span class=\"hb\"><span  class=\"hl\" >אַלְפַּ֣יִם </span></span></td></tr>\n",
       "<tr class=\"tf\"><td class=\"tf\">79</td><td class=\"tf\"> <a href=\"https://shebanq.ancient-data.org/hebrew/text?book=Josua&amp;chapter=7&amp;verse=3&amp;version=c&amp;mr=m&amp;qw=q&amp;tp=txt_p&amp;tr=hb&amp;wget=v&amp;qget=v&amp;nget=vt\" title=\"show this passage in SHEBANQ\" sec=\"Joshua 7:3\">Joshua 7:3</a></td><td class=\"tf\"><span class=\"hb\"><a class=\"vn\" href=\"https://shebanq.ancient-data.org/hebrew/text?book=Josua&amp;chapter=7&amp;verse=3&amp;version=c&amp;mr=m&amp;qw=q&amp;tp=txt_p&amp;tr=hb&amp;wget=v&amp;qget=v&amp;nget=vt\" title=\"Joshua 7:3\" sec=\"Joshua 7:3\"></a>וַיָּשֻׁ֣בוּ אֶל־יְהֹושֻׁ֗עַ וַיֹּאמְר֣וּ אֵלָיו֮ אַל־יַ֣עַל כָּל־הָעָם֒ <span  class=\"hl\" >כְּ</span><span  class=\"hl\" >אַלְפַּ֣יִם </span>אִ֗ישׁ אֹ֚ו כִּשְׁלֹ֣שֶׁת אֲלָפִ֣ים אִ֔ישׁ יַעֲל֖וּ וְיַכּ֣וּ אֶת־הָעָ֑י אַל־תְּיַגַּע־שָׁ֨מָּה֙ אֶת־כָּל־הָעָ֔ם כִּ֥י מְעַ֖ט הֵֽמָּה׃ </span></td><td class=\"tf\"><span class=\"hb\"><span  class=\"hl\" >כְּ</span></span></td><td class=\"tf\"><span class=\"hb\"><span  class=\"hl\" >אַלְפַּ֣יִם </span></span></td></tr>\n",
       "<tr class=\"tf\"><td class=\"tf\">80</td><td class=\"tf\"> <a href=\"https://shebanq.ancient-data.org/hebrew/text?book=Josua&amp;chapter=7&amp;verse=3&amp;version=c&amp;mr=m&amp;qw=q&amp;tp=txt_p&amp;tr=hb&amp;wget=v&amp;qget=v&amp;nget=vt\" title=\"show this passage in SHEBANQ\" sec=\"Joshua 7:3\">Joshua 7:3</a></td><td class=\"tf\"><span class=\"hb\"><a class=\"vn\" href=\"https://shebanq.ancient-data.org/hebrew/text?book=Josua&amp;chapter=7&amp;verse=3&amp;version=c&amp;mr=m&amp;qw=q&amp;tp=txt_p&amp;tr=hb&amp;wget=v&amp;qget=v&amp;nget=vt\" title=\"Joshua 7:3\" sec=\"Joshua 7:3\"></a>וַיָּשֻׁ֣בוּ אֶל־יְהֹושֻׁ֗עַ וַיֹּאמְר֣וּ אֵלָיו֮ אַל־יַ֣עַל כָּל־הָעָם֒ כְּאַלְפַּ֣יִם <span  class=\"hl\" >אִ֗ישׁ </span>אֹ֚ו כִּשְׁלֹ֣שֶׁת אֲלָפִ֣ים אִ֔ישׁ יַעֲל֖וּ וְיַכּ֣וּ אֶת־הָעָ֑י אַל־תְּיַגַּע־שָׁ֨מָּה֙ אֶת־כָּל־הָעָ֔ם כִּ֥י מְעַ֖ט הֵֽמָּה׃ </span></td><td class=\"tf\"><span class=\"hb\"><span  class=\"hl\" >אִ֗ישׁ </span></span></td></tr>\n",
       "<tr class=\"tf\"><td class=\"tf\">81</td><td class=\"tf\"> <a href=\"https://shebanq.ancient-data.org/hebrew/text?book=Josua&amp;chapter=7&amp;verse=3&amp;version=c&amp;mr=m&amp;qw=q&amp;tp=txt_p&amp;tr=hb&amp;wget=v&amp;qget=v&amp;nget=vt\" title=\"show this passage in SHEBANQ\" sec=\"Joshua 7:3\">Joshua 7:3</a></td><td class=\"tf\"><span class=\"hb\"><a class=\"vn\" href=\"https://shebanq.ancient-data.org/hebrew/text?book=Josua&amp;chapter=7&amp;verse=3&amp;version=c&amp;mr=m&amp;qw=q&amp;tp=txt_p&amp;tr=hb&amp;wget=v&amp;qget=v&amp;nget=vt\" title=\"Joshua 7:3\" sec=\"Joshua 7:3\"></a>וַיָּשֻׁ֣בוּ אֶל־יְהֹושֻׁ֗עַ וַיֹּאמְר֣וּ אֵלָיו֮ אַל־יַ֣עַל כָּל־הָעָם֒ כְּאַלְפַּ֣יִם אִ֗ישׁ <span  class=\"hl\" >אֹ֚ו </span>כִּשְׁלֹ֣שֶׁת אֲלָפִ֣ים אִ֔ישׁ יַעֲל֖וּ וְיַכּ֣וּ אֶת־הָעָ֑י אַל־תְּיַגַּע־שָׁ֨מָּה֙ אֶת־כָּל־הָעָ֔ם כִּ֥י מְעַ֖ט הֵֽמָּה׃ </span></td><td class=\"tf\"><span class=\"hb\"><span  class=\"hl\" >אֹ֚ו </span></span></td></tr>\n",
       "<tr class=\"tf\"><td class=\"tf\">82</td><td class=\"tf\"> <a href=\"https://shebanq.ancient-data.org/hebrew/text?book=Josua&amp;chapter=7&amp;verse=3&amp;version=c&amp;mr=m&amp;qw=q&amp;tp=txt_p&amp;tr=hb&amp;wget=v&amp;qget=v&amp;nget=vt\" title=\"show this passage in SHEBANQ\" sec=\"Joshua 7:3\">Joshua 7:3</a></td><td class=\"tf\"><span class=\"hb\"><a class=\"vn\" href=\"https://shebanq.ancient-data.org/hebrew/text?book=Josua&amp;chapter=7&amp;verse=3&amp;version=c&amp;mr=m&amp;qw=q&amp;tp=txt_p&amp;tr=hb&amp;wget=v&amp;qget=v&amp;nget=vt\" title=\"Joshua 7:3\" sec=\"Joshua 7:3\"></a>וַיָּשֻׁ֣בוּ אֶל־יְהֹושֻׁ֗עַ וַיֹּאמְר֣וּ אֵלָיו֮ אַל־יַ֣עַל כָּל־הָעָם֒ כְּאַלְפַּ֣יִם אִ֗ישׁ אֹ֚ו <span  class=\"hl\" >כִּ</span><span  class=\"hl\" >שְׁלֹ֣שֶׁת </span>אֲלָפִ֣ים אִ֔ישׁ יַעֲל֖וּ וְיַכּ֣וּ אֶת־הָעָ֑י אַל־תְּיַגַּע־שָׁ֨מָּה֙ אֶת־כָּל־הָעָ֔ם כִּ֥י מְעַ֖ט הֵֽמָּה׃ </span></td><td class=\"tf\"><span class=\"hb\"><span  class=\"hl\" >כִּ</span></span></td><td class=\"tf\"><span class=\"hb\"><span  class=\"hl\" >שְׁלֹ֣שֶׁת </span></span></td></tr>\n",
       "<tr class=\"tf\"><td class=\"tf\">83</td><td class=\"tf\"> <a href=\"https://shebanq.ancient-data.org/hebrew/text?book=Josua&amp;chapter=7&amp;verse=3&amp;version=c&amp;mr=m&amp;qw=q&amp;tp=txt_p&amp;tr=hb&amp;wget=v&amp;qget=v&amp;nget=vt\" title=\"show this passage in SHEBANQ\" sec=\"Joshua 7:3\">Joshua 7:3</a></td><td class=\"tf\"><span class=\"hb\"><a class=\"vn\" href=\"https://shebanq.ancient-data.org/hebrew/text?book=Josua&amp;chapter=7&amp;verse=3&amp;version=c&amp;mr=m&amp;qw=q&amp;tp=txt_p&amp;tr=hb&amp;wget=v&amp;qget=v&amp;nget=vt\" title=\"Joshua 7:3\" sec=\"Joshua 7:3\"></a>וַיָּשֻׁ֣בוּ אֶל־יְהֹושֻׁ֗עַ וַיֹּאמְר֣וּ אֵלָיו֮ אַל־יַ֣עַל כָּל־הָעָם֒ כְּאַלְפַּ֣יִם אִ֗ישׁ אֹ֚ו <span  class=\"hl\" >כִּ</span><span  class=\"hl\" >שְׁלֹ֣שֶׁת </span>אֲלָפִ֣ים אִ֔ישׁ יַעֲל֖וּ וְיַכּ֣וּ אֶת־הָעָ֑י אַל־תְּיַגַּע־שָׁ֨מָּה֙ אֶת־כָּל־הָעָ֔ם כִּ֥י מְעַ֖ט הֵֽמָּה׃ </span></td><td class=\"tf\"><span class=\"hb\"><span  class=\"hl\" >כִּ</span></span></td><td class=\"tf\"><span class=\"hb\"><span  class=\"hl\" >שְׁלֹ֣שֶׁת </span></span></td></tr>\n",
       "<tr class=\"tf\"><td class=\"tf\">84</td><td class=\"tf\"> <a href=\"https://shebanq.ancient-data.org/hebrew/text?book=Josua&amp;chapter=7&amp;verse=3&amp;version=c&amp;mr=m&amp;qw=q&amp;tp=txt_p&amp;tr=hb&amp;wget=v&amp;qget=v&amp;nget=vt\" title=\"show this passage in SHEBANQ\" sec=\"Joshua 7:3\">Joshua 7:3</a></td><td class=\"tf\"><span class=\"hb\"><a class=\"vn\" href=\"https://shebanq.ancient-data.org/hebrew/text?book=Josua&amp;chapter=7&amp;verse=3&amp;version=c&amp;mr=m&amp;qw=q&amp;tp=txt_p&amp;tr=hb&amp;wget=v&amp;qget=v&amp;nget=vt\" title=\"Joshua 7:3\" sec=\"Joshua 7:3\"></a>וַיָּשֻׁ֣בוּ אֶל־יְהֹושֻׁ֗עַ וַיֹּאמְר֣וּ אֵלָיו֮ אַל־יַ֣עַל כָּל־הָעָם֒ כְּאַלְפַּ֣יִם אִ֗ישׁ אֹ֚ו כִּשְׁלֹ֣שֶׁת <span  class=\"hl\" >אֲלָפִ֣ים </span>אִ֔ישׁ יַעֲל֖וּ וְיַכּ֣וּ אֶת־הָעָ֑י אַל־תְּיַגַּע־שָׁ֨מָּה֙ אֶת־כָּל־הָעָ֔ם כִּ֥י מְעַ֖ט הֵֽמָּה׃ </span></td><td class=\"tf\"><span class=\"hb\"><span  class=\"hl\" >אֲלָפִ֣ים </span></span></td></tr>\n",
       "<tr class=\"tf\"><td class=\"tf\">85</td><td class=\"tf\"> <a href=\"https://shebanq.ancient-data.org/hebrew/text?book=Josua&amp;chapter=7&amp;verse=3&amp;version=c&amp;mr=m&amp;qw=q&amp;tp=txt_p&amp;tr=hb&amp;wget=v&amp;qget=v&amp;nget=vt\" title=\"show this passage in SHEBANQ\" sec=\"Joshua 7:3\">Joshua 7:3</a></td><td class=\"tf\"><span class=\"hb\"><a class=\"vn\" href=\"https://shebanq.ancient-data.org/hebrew/text?book=Josua&amp;chapter=7&amp;verse=3&amp;version=c&amp;mr=m&amp;qw=q&amp;tp=txt_p&amp;tr=hb&amp;wget=v&amp;qget=v&amp;nget=vt\" title=\"Joshua 7:3\" sec=\"Joshua 7:3\"></a>וַיָּשֻׁ֣בוּ אֶל־יְהֹושֻׁ֗עַ וַיֹּאמְר֣וּ אֵלָיו֮ אַל־יַ֣עַל כָּל־הָעָם֒ כְּאַלְפַּ֣יִם אִ֗ישׁ אֹ֚ו כִּשְׁלֹ֣שֶׁת אֲלָפִ֣ים <span  class=\"hl\" >אִ֔ישׁ </span>יַעֲל֖וּ וְיַכּ֣וּ אֶת־הָעָ֑י אַל־תְּיַגַּע־שָׁ֨מָּה֙ אֶת־כָּל־הָעָ֔ם כִּ֥י מְעַ֖ט הֵֽמָּה׃ </span></td><td class=\"tf\"><span class=\"hb\"><span  class=\"hl\" >אִ֔ישׁ </span></span></td></tr>\n",
       "<tr class=\"tf\"><td class=\"tf\">86</td><td class=\"tf\"> <a href=\"https://shebanq.ancient-data.org/hebrew/text?book=Josua&amp;chapter=7&amp;verse=3&amp;version=c&amp;mr=m&amp;qw=q&amp;tp=txt_p&amp;tr=hb&amp;wget=v&amp;qget=v&amp;nget=vt\" title=\"show this passage in SHEBANQ\" sec=\"Joshua 7:3\">Joshua 7:3</a></td><td class=\"tf\"><span class=\"hb\"><a class=\"vn\" href=\"https://shebanq.ancient-data.org/hebrew/text?book=Josua&amp;chapter=7&amp;verse=3&amp;version=c&amp;mr=m&amp;qw=q&amp;tp=txt_p&amp;tr=hb&amp;wget=v&amp;qget=v&amp;nget=vt\" title=\"Joshua 7:3\" sec=\"Joshua 7:3\"></a>וַיָּשֻׁ֣בוּ אֶל־יְהֹושֻׁ֗עַ וַיֹּאמְר֣וּ אֵלָיו֮ אַל־יַ֣עַל כָּל־הָעָם֒ כְּאַלְפַּ֣יִם אִ֗ישׁ אֹ֚ו כִּשְׁלֹ֣שֶׁת אֲלָפִ֣ים אִ֔ישׁ <span  class=\"hl\" >יַעֲל֖וּ </span>וְיַכּ֣וּ אֶת־הָעָ֑י אַל־תְּיַגַּע־שָׁ֨מָּה֙ אֶת־כָּל־הָעָ֔ם כִּ֥י מְעַ֖ט הֵֽמָּה׃ </span></td><td class=\"tf\"><span class=\"hb\"><span  class=\"hl\" >יַעֲל֖וּ </span></span></td></tr>\n",
       "<tr class=\"tf\"><td class=\"tf\">87</td><td class=\"tf\"> <a href=\"https://shebanq.ancient-data.org/hebrew/text?book=Josua&amp;chapter=7&amp;verse=3&amp;version=c&amp;mr=m&amp;qw=q&amp;tp=txt_p&amp;tr=hb&amp;wget=v&amp;qget=v&amp;nget=vt\" title=\"show this passage in SHEBANQ\" sec=\"Joshua 7:3\">Joshua 7:3</a></td><td class=\"tf\"><span class=\"hb\"><a class=\"vn\" href=\"https://shebanq.ancient-data.org/hebrew/text?book=Josua&amp;chapter=7&amp;verse=3&amp;version=c&amp;mr=m&amp;qw=q&amp;tp=txt_p&amp;tr=hb&amp;wget=v&amp;qget=v&amp;nget=vt\" title=\"Joshua 7:3\" sec=\"Joshua 7:3\"></a>וַיָּשֻׁ֣בוּ אֶל־יְהֹושֻׁ֗עַ וַיֹּאמְר֣וּ אֵלָיו֮ אַל־יַ֣עַל כָּל־הָעָם֒ כְּאַלְפַּ֣יִם אִ֗ישׁ אֹ֚ו כִּשְׁלֹ֣שֶׁת אֲלָפִ֣ים אִ֔ישׁ יַעֲל֖וּ <span  class=\"hl\" >וְ</span><span  class=\"hl\" >יַכּ֣וּ </span>אֶת־הָעָ֑י אַל־תְּיַגַּע־שָׁ֨מָּה֙ אֶת־כָּל־הָעָ֔ם כִּ֥י מְעַ֖ט הֵֽמָּה׃ </span></td><td class=\"tf\"><span class=\"hb\"><span  class=\"hl\" >וְ</span></span></td><td class=\"tf\"><span class=\"hb\"><span  class=\"hl\" >יַכּ֣וּ </span></span></td></tr>\n",
       "<tr class=\"tf\"><td class=\"tf\">88</td><td class=\"tf\"> <a href=\"https://shebanq.ancient-data.org/hebrew/text?book=Josua&amp;chapter=7&amp;verse=3&amp;version=c&amp;mr=m&amp;qw=q&amp;tp=txt_p&amp;tr=hb&amp;wget=v&amp;qget=v&amp;nget=vt\" title=\"show this passage in SHEBANQ\" sec=\"Joshua 7:3\">Joshua 7:3</a></td><td class=\"tf\"><span class=\"hb\"><a class=\"vn\" href=\"https://shebanq.ancient-data.org/hebrew/text?book=Josua&amp;chapter=7&amp;verse=3&amp;version=c&amp;mr=m&amp;qw=q&amp;tp=txt_p&amp;tr=hb&amp;wget=v&amp;qget=v&amp;nget=vt\" title=\"Joshua 7:3\" sec=\"Joshua 7:3\"></a>וַיָּשֻׁ֣בוּ אֶל־יְהֹושֻׁ֗עַ וַיֹּאמְר֣וּ אֵלָיו֮ אַל־יַ֣עַל כָּל־הָעָם֒ כְּאַלְפַּ֣יִם אִ֗ישׁ אֹ֚ו כִּשְׁלֹ֣שֶׁת אֲלָפִ֣ים אִ֔ישׁ יַעֲל֖וּ <span  class=\"hl\" >וְ</span><span  class=\"hl\" >יַכּ֣וּ </span>אֶת־הָעָ֑י אַל־תְּיַגַּע־שָׁ֨מָּה֙ אֶת־כָּל־הָעָ֔ם כִּ֥י מְעַ֖ט הֵֽמָּה׃ </span></td><td class=\"tf\"><span class=\"hb\"><span  class=\"hl\" >וְ</span></span></td><td class=\"tf\"><span class=\"hb\"><span  class=\"hl\" >יַכּ֣וּ </span></span></td></tr>\n",
       "<tr class=\"tf\"><td class=\"tf\">89</td><td class=\"tf\"> <a href=\"https://shebanq.ancient-data.org/hebrew/text?book=Josua&amp;chapter=7&amp;verse=3&amp;version=c&amp;mr=m&amp;qw=q&amp;tp=txt_p&amp;tr=hb&amp;wget=v&amp;qget=v&amp;nget=vt\" title=\"show this passage in SHEBANQ\" sec=\"Joshua 7:3\">Joshua 7:3</a></td><td class=\"tf\"><span class=\"hb\"><a class=\"vn\" href=\"https://shebanq.ancient-data.org/hebrew/text?book=Josua&amp;chapter=7&amp;verse=3&amp;version=c&amp;mr=m&amp;qw=q&amp;tp=txt_p&amp;tr=hb&amp;wget=v&amp;qget=v&amp;nget=vt\" title=\"Joshua 7:3\" sec=\"Joshua 7:3\"></a>וַיָּשֻׁ֣בוּ אֶל־יְהֹושֻׁ֗עַ וַיֹּאמְר֣וּ אֵלָיו֮ אַל־יַ֣עַל כָּל־הָעָם֒ כְּאַלְפַּ֣יִם אִ֗ישׁ אֹ֚ו כִּשְׁלֹ֣שֶׁת אֲלָפִ֣ים אִ֔ישׁ יַעֲל֖וּ וְיַכּ֣וּ <span  class=\"hl\" >אֶת־</span><span  class=\"hl\" >הָ</span><span  class=\"hl\" >עָ֑י </span>אַל־תְּיַגַּע־שָׁ֨מָּה֙ אֶת־כָּל־הָעָ֔ם כִּ֥י מְעַ֖ט הֵֽמָּה׃ </span></td><td class=\"tf\"><span class=\"hb\"><span  class=\"hl\" >אֶת־</span></span></td><td class=\"tf\"><span class=\"hb\"><span  class=\"hl\" >הָ</span></span></td><td class=\"tf\"><span class=\"hb\"><span  class=\"hl\" >עָ֑י </span></span></td></tr>\n",
       "<tr class=\"tf\"><td class=\"tf\">90</td><td class=\"tf\"> <a href=\"https://shebanq.ancient-data.org/hebrew/text?book=Josua&amp;chapter=7&amp;verse=3&amp;version=c&amp;mr=m&amp;qw=q&amp;tp=txt_p&amp;tr=hb&amp;wget=v&amp;qget=v&amp;nget=vt\" title=\"show this passage in SHEBANQ\" sec=\"Joshua 7:3\">Joshua 7:3</a></td><td class=\"tf\"><span class=\"hb\"><a class=\"vn\" href=\"https://shebanq.ancient-data.org/hebrew/text?book=Josua&amp;chapter=7&amp;verse=3&amp;version=c&amp;mr=m&amp;qw=q&amp;tp=txt_p&amp;tr=hb&amp;wget=v&amp;qget=v&amp;nget=vt\" title=\"Joshua 7:3\" sec=\"Joshua 7:3\"></a>וַיָּשֻׁ֣בוּ אֶל־יְהֹושֻׁ֗עַ וַיֹּאמְר֣וּ אֵלָיו֮ אַל־יַ֣עַל כָּל־הָעָם֒ כְּאַלְפַּ֣יִם אִ֗ישׁ אֹ֚ו כִּשְׁלֹ֣שֶׁת אֲלָפִ֣ים אִ֔ישׁ יַעֲל֖וּ וְיַכּ֣וּ <span  class=\"hl\" >אֶת־</span><span  class=\"hl\" >הָ</span><span  class=\"hl\" >עָ֑י </span>אַל־תְּיַגַּע־שָׁ֨מָּה֙ אֶת־כָּל־הָעָ֔ם כִּ֥י מְעַ֖ט הֵֽמָּה׃ </span></td><td class=\"tf\"><span class=\"hb\"><span  class=\"hl\" >אֶת־</span></span></td><td class=\"tf\"><span class=\"hb\"><span  class=\"hl\" >הָ</span></span></td><td class=\"tf\"><span class=\"hb\"><span  class=\"hl\" >עָ֑י </span></span></td></tr>\n",
       "<tr class=\"tf\"><td class=\"tf\">91</td><td class=\"tf\"> <a href=\"https://shebanq.ancient-data.org/hebrew/text?book=Josua&amp;chapter=7&amp;verse=3&amp;version=c&amp;mr=m&amp;qw=q&amp;tp=txt_p&amp;tr=hb&amp;wget=v&amp;qget=v&amp;nget=vt\" title=\"show this passage in SHEBANQ\" sec=\"Joshua 7:3\">Joshua 7:3</a></td><td class=\"tf\"><span class=\"hb\"><a class=\"vn\" href=\"https://shebanq.ancient-data.org/hebrew/text?book=Josua&amp;chapter=7&amp;verse=3&amp;version=c&amp;mr=m&amp;qw=q&amp;tp=txt_p&amp;tr=hb&amp;wget=v&amp;qget=v&amp;nget=vt\" title=\"Joshua 7:3\" sec=\"Joshua 7:3\"></a>וַיָּשֻׁ֣בוּ אֶל־יְהֹושֻׁ֗עַ וַיֹּאמְר֣וּ אֵלָיו֮ אַל־יַ֣עַל כָּל־הָעָם֒ כְּאַלְפַּ֣יִם אִ֗ישׁ אֹ֚ו כִּשְׁלֹ֣שֶׁת אֲלָפִ֣ים אִ֔ישׁ יַעֲל֖וּ וְיַכּ֣וּ <span  class=\"hl\" >אֶת־</span><span  class=\"hl\" >הָ</span><span  class=\"hl\" >עָ֑י </span>אַל־תְּיַגַּע־שָׁ֨מָּה֙ אֶת־כָּל־הָעָ֔ם כִּ֥י מְעַ֖ט הֵֽמָּה׃ </span></td><td class=\"tf\"><span class=\"hb\"><span  class=\"hl\" >אֶת־</span></span></td><td class=\"tf\"><span class=\"hb\"><span  class=\"hl\" >הָ</span></span></td><td class=\"tf\"><span class=\"hb\"><span  class=\"hl\" >עָ֑י </span></span></td></tr>\n",
       "<tr class=\"tf\"><td class=\"tf\">92</td><td class=\"tf\"> <a href=\"https://shebanq.ancient-data.org/hebrew/text?book=Josua&amp;chapter=7&amp;verse=3&amp;version=c&amp;mr=m&amp;qw=q&amp;tp=txt_p&amp;tr=hb&amp;wget=v&amp;qget=v&amp;nget=vt\" title=\"show this passage in SHEBANQ\" sec=\"Joshua 7:3\">Joshua 7:3</a></td><td class=\"tf\"><span class=\"hb\"><a class=\"vn\" href=\"https://shebanq.ancient-data.org/hebrew/text?book=Josua&amp;chapter=7&amp;verse=3&amp;version=c&amp;mr=m&amp;qw=q&amp;tp=txt_p&amp;tr=hb&amp;wget=v&amp;qget=v&amp;nget=vt\" title=\"Joshua 7:3\" sec=\"Joshua 7:3\"></a>וַיָּשֻׁ֣בוּ אֶל־יְהֹושֻׁ֗עַ וַיֹּאמְר֣וּ אֵלָיו֮ אַל־יַ֣עַל כָּל־הָעָם֒ כְּאַלְפַּ֣יִם אִ֗ישׁ אֹ֚ו כִּשְׁלֹ֣שֶׁת אֲלָפִ֣ים אִ֔ישׁ יַעֲל֖וּ וְיַכּ֣וּ אֶת־הָעָ֑י <span  class=\"hl\" >אַל־</span><span  class=\"hl\" >תְּיַגַּע־</span><span  class=\"hl\" >שָׁ֨מָּה֙ </span>אֶת־כָּל־הָעָ֔ם כִּ֥י מְעַ֖ט הֵֽמָּה׃ </span></td><td class=\"tf\"><span class=\"hb\"><span  class=\"hl\" >אַל־</span></span></td><td class=\"tf\"><span class=\"hb\"><span  class=\"hl\" >תְּיַגַּע־</span></span></td><td class=\"tf\"><span class=\"hb\"><span  class=\"hl\" >שָׁ֨מָּה֙ </span></span></td></tr>\n",
       "<tr class=\"tf\"><td class=\"tf\">93</td><td class=\"tf\"> <a href=\"https://shebanq.ancient-data.org/hebrew/text?book=Josua&amp;chapter=7&amp;verse=3&amp;version=c&amp;mr=m&amp;qw=q&amp;tp=txt_p&amp;tr=hb&amp;wget=v&amp;qget=v&amp;nget=vt\" title=\"show this passage in SHEBANQ\" sec=\"Joshua 7:3\">Joshua 7:3</a></td><td class=\"tf\"><span class=\"hb\"><a class=\"vn\" href=\"https://shebanq.ancient-data.org/hebrew/text?book=Josua&amp;chapter=7&amp;verse=3&amp;version=c&amp;mr=m&amp;qw=q&amp;tp=txt_p&amp;tr=hb&amp;wget=v&amp;qget=v&amp;nget=vt\" title=\"Joshua 7:3\" sec=\"Joshua 7:3\"></a>וַיָּשֻׁ֣בוּ אֶל־יְהֹושֻׁ֗עַ וַיֹּאמְר֣וּ אֵלָיו֮ אַל־יַ֣עַל כָּל־הָעָם֒ כְּאַלְפַּ֣יִם אִ֗ישׁ אֹ֚ו כִּשְׁלֹ֣שֶׁת אֲלָפִ֣ים אִ֔ישׁ יַעֲל֖וּ וְיַכּ֣וּ אֶת־הָעָ֑י <span  class=\"hl\" >אַל־</span><span  class=\"hl\" >תְּיַגַּע־</span><span  class=\"hl\" >שָׁ֨מָּה֙ </span>אֶת־כָּל־הָעָ֔ם כִּ֥י מְעַ֖ט הֵֽמָּה׃ </span></td><td class=\"tf\"><span class=\"hb\"><span  class=\"hl\" >אַל־</span></span></td><td class=\"tf\"><span class=\"hb\"><span  class=\"hl\" >תְּיַגַּע־</span></span></td><td class=\"tf\"><span class=\"hb\"><span  class=\"hl\" >שָׁ֨מָּה֙ </span></span></td></tr>\n",
       "<tr class=\"tf\"><td class=\"tf\">94</td><td class=\"tf\"> <a href=\"https://shebanq.ancient-data.org/hebrew/text?book=Josua&amp;chapter=7&amp;verse=3&amp;version=c&amp;mr=m&amp;qw=q&amp;tp=txt_p&amp;tr=hb&amp;wget=v&amp;qget=v&amp;nget=vt\" title=\"show this passage in SHEBANQ\" sec=\"Joshua 7:3\">Joshua 7:3</a></td><td class=\"tf\"><span class=\"hb\"><a class=\"vn\" href=\"https://shebanq.ancient-data.org/hebrew/text?book=Josua&amp;chapter=7&amp;verse=3&amp;version=c&amp;mr=m&amp;qw=q&amp;tp=txt_p&amp;tr=hb&amp;wget=v&amp;qget=v&amp;nget=vt\" title=\"Joshua 7:3\" sec=\"Joshua 7:3\"></a>וַיָּשֻׁ֣בוּ אֶל־יְהֹושֻׁ֗עַ וַיֹּאמְר֣וּ אֵלָיו֮ אַל־יַ֣עַל כָּל־הָעָם֒ כְּאַלְפַּ֣יִם אִ֗ישׁ אֹ֚ו כִּשְׁלֹ֣שֶׁת אֲלָפִ֣ים אִ֔ישׁ יַעֲל֖וּ וְיַכּ֣וּ אֶת־הָעָ֑י <span  class=\"hl\" >אַל־</span><span  class=\"hl\" >תְּיַגַּע־</span><span  class=\"hl\" >שָׁ֨מָּה֙ </span>אֶת־כָּל־הָעָ֔ם כִּ֥י מְעַ֖ט הֵֽמָּה׃ </span></td><td class=\"tf\"><span class=\"hb\"><span  class=\"hl\" >אַל־</span></span></td><td class=\"tf\"><span class=\"hb\"><span  class=\"hl\" >תְּיַגַּע־</span></span></td><td class=\"tf\"><span class=\"hb\"><span  class=\"hl\" >שָׁ֨מָּה֙ </span></span></td></tr>\n",
       "<tr class=\"tf\"><td class=\"tf\">95</td><td class=\"tf\"> <a href=\"https://shebanq.ancient-data.org/hebrew/text?book=Josua&amp;chapter=7&amp;verse=3&amp;version=c&amp;mr=m&amp;qw=q&amp;tp=txt_p&amp;tr=hb&amp;wget=v&amp;qget=v&amp;nget=vt\" title=\"show this passage in SHEBANQ\" sec=\"Joshua 7:3\">Joshua 7:3</a></td><td class=\"tf\"><span class=\"hb\"><a class=\"vn\" href=\"https://shebanq.ancient-data.org/hebrew/text?book=Josua&amp;chapter=7&amp;verse=3&amp;version=c&amp;mr=m&amp;qw=q&amp;tp=txt_p&amp;tr=hb&amp;wget=v&amp;qget=v&amp;nget=vt\" title=\"Joshua 7:3\" sec=\"Joshua 7:3\"></a>וַיָּשֻׁ֣בוּ אֶל־יְהֹושֻׁ֗עַ וַיֹּאמְר֣וּ אֵלָיו֮ אַל־יַ֣עַל כָּל־הָעָם֒ כְּאַלְפַּ֣יִם אִ֗ישׁ אֹ֚ו כִּשְׁלֹ֣שֶׁת אֲלָפִ֣ים אִ֔ישׁ יַעֲל֖וּ וְיַכּ֣וּ אֶת־הָעָ֑י אַל־תְּיַגַּע־שָׁ֨מָּה֙ <span  class=\"hl\" >אֶת־</span><span  class=\"hl\" >כָּל־</span><span  class=\"hl\" >הָ</span><span  class=\"hl\" >עָ֔ם </span>כִּ֥י מְעַ֖ט הֵֽמָּה׃ </span></td><td class=\"tf\"><span class=\"hb\"><span  class=\"hl\" >אֶת־</span></span></td><td class=\"tf\"><span class=\"hb\"><span  class=\"hl\" >כָּל־</span></span></td><td class=\"tf\"><span class=\"hb\"><span  class=\"hl\" >הָ</span></span></td><td class=\"tf\"><span class=\"hb\"><span  class=\"hl\" >עָ֔ם </span></span></td></tr>\n",
       "<tr class=\"tf\"><td class=\"tf\">96</td><td class=\"tf\"> <a href=\"https://shebanq.ancient-data.org/hebrew/text?book=Josua&amp;chapter=7&amp;verse=3&amp;version=c&amp;mr=m&amp;qw=q&amp;tp=txt_p&amp;tr=hb&amp;wget=v&amp;qget=v&amp;nget=vt\" title=\"show this passage in SHEBANQ\" sec=\"Joshua 7:3\">Joshua 7:3</a></td><td class=\"tf\"><span class=\"hb\"><a class=\"vn\" href=\"https://shebanq.ancient-data.org/hebrew/text?book=Josua&amp;chapter=7&amp;verse=3&amp;version=c&amp;mr=m&amp;qw=q&amp;tp=txt_p&amp;tr=hb&amp;wget=v&amp;qget=v&amp;nget=vt\" title=\"Joshua 7:3\" sec=\"Joshua 7:3\"></a>וַיָּשֻׁ֣בוּ אֶל־יְהֹושֻׁ֗עַ וַיֹּאמְר֣וּ אֵלָיו֮ אַל־יַ֣עַל כָּל־הָעָם֒ כְּאַלְפַּ֣יִם אִ֗ישׁ אֹ֚ו כִּשְׁלֹ֣שֶׁת אֲלָפִ֣ים אִ֔ישׁ יַעֲל֖וּ וְיַכּ֣וּ אֶת־הָעָ֑י אַל־תְּיַגַּע־שָׁ֨מָּה֙ <span  class=\"hl\" >אֶת־</span><span  class=\"hl\" >כָּל־</span><span  class=\"hl\" >הָ</span><span  class=\"hl\" >עָ֔ם </span>כִּ֥י מְעַ֖ט הֵֽמָּה׃ </span></td><td class=\"tf\"><span class=\"hb\"><span  class=\"hl\" >אֶת־</span></span></td><td class=\"tf\"><span class=\"hb\"><span  class=\"hl\" >כָּל־</span></span></td><td class=\"tf\"><span class=\"hb\"><span  class=\"hl\" >הָ</span></span></td><td class=\"tf\"><span class=\"hb\"><span  class=\"hl\" >עָ֔ם </span></span></td></tr>\n",
       "<tr class=\"tf\"><td class=\"tf\">97</td><td class=\"tf\"> <a href=\"https://shebanq.ancient-data.org/hebrew/text?book=Josua&amp;chapter=7&amp;verse=3&amp;version=c&amp;mr=m&amp;qw=q&amp;tp=txt_p&amp;tr=hb&amp;wget=v&amp;qget=v&amp;nget=vt\" title=\"show this passage in SHEBANQ\" sec=\"Joshua 7:3\">Joshua 7:3</a></td><td class=\"tf\"><span class=\"hb\"><a class=\"vn\" href=\"https://shebanq.ancient-data.org/hebrew/text?book=Josua&amp;chapter=7&amp;verse=3&amp;version=c&amp;mr=m&amp;qw=q&amp;tp=txt_p&amp;tr=hb&amp;wget=v&amp;qget=v&amp;nget=vt\" title=\"Joshua 7:3\" sec=\"Joshua 7:3\"></a>וַיָּשֻׁ֣בוּ אֶל־יְהֹושֻׁ֗עַ וַיֹּאמְר֣וּ אֵלָיו֮ אַל־יַ֣עַל כָּל־הָעָם֒ כְּאַלְפַּ֣יִם אִ֗ישׁ אֹ֚ו כִּשְׁלֹ֣שֶׁת אֲלָפִ֣ים אִ֔ישׁ יַעֲל֖וּ וְיַכּ֣וּ אֶת־הָעָ֑י אַל־תְּיַגַּע־שָׁ֨מָּה֙ <span  class=\"hl\" >אֶת־</span><span  class=\"hl\" >כָּל־</span><span  class=\"hl\" >הָ</span><span  class=\"hl\" >עָ֔ם </span>כִּ֥י מְעַ֖ט הֵֽמָּה׃ </span></td><td class=\"tf\"><span class=\"hb\"><span  class=\"hl\" >אֶת־</span></span></td><td class=\"tf\"><span class=\"hb\"><span  class=\"hl\" >כָּל־</span></span></td><td class=\"tf\"><span class=\"hb\"><span  class=\"hl\" >הָ</span></span></td><td class=\"tf\"><span class=\"hb\"><span  class=\"hl\" >עָ֔ם </span></span></td></tr>\n",
       "<tr class=\"tf\"><td class=\"tf\">98</td><td class=\"tf\"> <a href=\"https://shebanq.ancient-data.org/hebrew/text?book=Josua&amp;chapter=7&amp;verse=3&amp;version=c&amp;mr=m&amp;qw=q&amp;tp=txt_p&amp;tr=hb&amp;wget=v&amp;qget=v&amp;nget=vt\" title=\"show this passage in SHEBANQ\" sec=\"Joshua 7:3\">Joshua 7:3</a></td><td class=\"tf\"><span class=\"hb\"><a class=\"vn\" href=\"https://shebanq.ancient-data.org/hebrew/text?book=Josua&amp;chapter=7&amp;verse=3&amp;version=c&amp;mr=m&amp;qw=q&amp;tp=txt_p&amp;tr=hb&amp;wget=v&amp;qget=v&amp;nget=vt\" title=\"Joshua 7:3\" sec=\"Joshua 7:3\"></a>וַיָּשֻׁ֣בוּ אֶל־יְהֹושֻׁ֗עַ וַיֹּאמְר֣וּ אֵלָיו֮ אַל־יַ֣עַל כָּל־הָעָם֒ כְּאַלְפַּ֣יִם אִ֗ישׁ אֹ֚ו כִּשְׁלֹ֣שֶׁת אֲלָפִ֣ים אִ֔ישׁ יַעֲל֖וּ וְיַכּ֣וּ אֶת־הָעָ֑י אַל־תְּיַגַּע־שָׁ֨מָּה֙ <span  class=\"hl\" >אֶת־</span><span  class=\"hl\" >כָּל־</span><span  class=\"hl\" >הָ</span><span  class=\"hl\" >עָ֔ם </span>כִּ֥י מְעַ֖ט הֵֽמָּה׃ </span></td><td class=\"tf\"><span class=\"hb\"><span  class=\"hl\" >אֶת־</span></span></td><td class=\"tf\"><span class=\"hb\"><span  class=\"hl\" >כָּל־</span></span></td><td class=\"tf\"><span class=\"hb\"><span  class=\"hl\" >הָ</span></span></td><td class=\"tf\"><span class=\"hb\"><span  class=\"hl\" >עָ֔ם </span></span></td></tr>\n",
       "<tr class=\"tf\"><td class=\"tf\">99</td><td class=\"tf\"> <a href=\"https://shebanq.ancient-data.org/hebrew/text?book=Josua&amp;chapter=7&amp;verse=3&amp;version=c&amp;mr=m&amp;qw=q&amp;tp=txt_p&amp;tr=hb&amp;wget=v&amp;qget=v&amp;nget=vt\" title=\"show this passage in SHEBANQ\" sec=\"Joshua 7:3\">Joshua 7:3</a></td><td class=\"tf\"><span class=\"hb\"><a class=\"vn\" href=\"https://shebanq.ancient-data.org/hebrew/text?book=Josua&amp;chapter=7&amp;verse=3&amp;version=c&amp;mr=m&amp;qw=q&amp;tp=txt_p&amp;tr=hb&amp;wget=v&amp;qget=v&amp;nget=vt\" title=\"Joshua 7:3\" sec=\"Joshua 7:3\"></a>וַיָּשֻׁ֣בוּ אֶל־יְהֹושֻׁ֗עַ וַיֹּאמְר֣וּ אֵלָיו֮ אַל־יַ֣עַל כָּל־הָעָם֒ כְּאַלְפַּ֣יִם אִ֗ישׁ אֹ֚ו כִּשְׁלֹ֣שֶׁת אֲלָפִ֣ים אִ֔ישׁ יַעֲל֖וּ וְיַכּ֣וּ אֶת־הָעָ֑י אַל־תְּיַגַּע־שָׁ֨מָּה֙ אֶת־כָּל־הָעָ֔ם <span  class=\"hl\" >כִּ֥י </span>מְעַ֖ט הֵֽמָּה׃ </span></td><td class=\"tf\"><span class=\"hb\"><span  class=\"hl\" >כִּ֥י </span></span></td></tr>\n",
       "<tr class=\"tf\"><td class=\"tf\">100</td><td class=\"tf\"> <a href=\"https://shebanq.ancient-data.org/hebrew/text?book=Josua&amp;chapter=7&amp;verse=3&amp;version=c&amp;mr=m&amp;qw=q&amp;tp=txt_p&amp;tr=hb&amp;wget=v&amp;qget=v&amp;nget=vt\" title=\"show this passage in SHEBANQ\" sec=\"Joshua 7:3\">Joshua 7:3</a></td><td class=\"tf\"><span class=\"hb\"><a class=\"vn\" href=\"https://shebanq.ancient-data.org/hebrew/text?book=Josua&amp;chapter=7&amp;verse=3&amp;version=c&amp;mr=m&amp;qw=q&amp;tp=txt_p&amp;tr=hb&amp;wget=v&amp;qget=v&amp;nget=vt\" title=\"Joshua 7:3\" sec=\"Joshua 7:3\"></a>וַיָּשֻׁ֣בוּ אֶל־יְהֹושֻׁ֗עַ וַיֹּאמְר֣וּ אֵלָיו֮ אַל־יַ֣עַל כָּל־הָעָם֒ כְּאַלְפַּ֣יִם אִ֗ישׁ אֹ֚ו כִּשְׁלֹ֣שֶׁת אֲלָפִ֣ים אִ֔ישׁ יַעֲל֖וּ וְיַכּ֣וּ אֶת־הָעָ֑י אַל־תְּיַגַּע־שָׁ֨מָּה֙ אֶת־כָּל־הָעָ֔ם כִּ֥י <span  class=\"hl\" >מְעַ֖ט </span>הֵֽמָּה׃ </span></td><td class=\"tf\"><span class=\"hb\"><span  class=\"hl\" >מְעַ֖ט </span></span></td></tr></table>"
      ],
      "text/plain": [
       "<IPython.core.display.HTML object>"
      ]
     },
     "metadata": {},
     "output_type": "display_data"
    }
   ],
   "source": [
    "chapter = random.choice(list(F.otype.s('chapter')))\n",
    "A.table(\n",
    "    (L.u(w, 'verse')+mwords[w] for w in L.d(chapter, 'word'))\n",
    ", end=100)"
   ]
  },
  {
   "cell_type": "markdown",
   "metadata": {},
   "source": [
    "### accent class"
   ]
  },
  {
   "cell_type": "code",
   "execution_count": 6,
   "metadata": {},
   "outputs": [
    {
     "name": "stdout",
     "output_type": "stream",
     "text": [
      "342247 ('Job', 26, 1)\n"
     ]
    },
    {
     "data": {
      "text/html": [
       "\n",
       "<span style=\"font-family:Times New Roman; font-size:20pt\">\n",
       "    וַ | וַיַּ֥עַן \n",
       "</hspan>"
      ],
      "text/plain": [
       "<IPython.core.display.HTML object>"
      ]
     },
     "metadata": {},
     "output_type": "display_data"
    },
    {
     "data": {
      "text/html": [
       "\n",
       "<span style=\"font-family:Times New Roman; font-size:20pt\">\n",
       "    &nbsp;&nbsp;&nbsp;&nbsp;WA-J.A71<AN \n",
       "</hspan>"
      ],
      "text/plain": [
       "<IPython.core.display.HTML object>"
      ]
     },
     "metadata": {},
     "output_type": "display_data"
    },
    {
     "data": {
      "text/html": [
       "\n",
       "<span style=\"font-family:Times New Roman; font-size:20pt\">\n",
       "    &nbsp;&nbsp;&nbsp;&nbsp;conjunct\n",
       "</hspan>"
      ],
      "text/plain": [
       "<IPython.core.display.HTML object>"
      ]
     },
     "metadata": {},
     "output_type": "display_data"
    },
    {
     "data": {
      "text/html": [
       "\n",
       "<span style=\"font-family:Times New Roman; font-size:20pt\">\n",
       "    <hr>\n",
       "</hspan>"
      ],
      "text/plain": [
       "<IPython.core.display.HTML object>"
      ]
     },
     "metadata": {},
     "output_type": "display_data"
    },
    {
     "name": "stdout",
     "output_type": "stream",
     "text": [
      "342248 ('Job', 26, 1)\n"
     ]
    },
    {
     "data": {
      "text/html": [
       "\n",
       "<span style=\"font-family:Times New Roman; font-size:20pt\">\n",
       "    יַּ֥עַן  | וַיַּ֥עַן \n",
       "</hspan>"
      ],
      "text/plain": [
       "<IPython.core.display.HTML object>"
      ]
     },
     "metadata": {},
     "output_type": "display_data"
    },
    {
     "data": {
      "text/html": [
       "\n",
       "<span style=\"font-family:Times New Roman; font-size:20pt\">\n",
       "    &nbsp;&nbsp;&nbsp;&nbsp;WA-J.A71<AN \n",
       "</hspan>"
      ],
      "text/plain": [
       "<IPython.core.display.HTML object>"
      ]
     },
     "metadata": {},
     "output_type": "display_data"
    },
    {
     "data": {
      "text/html": [
       "\n",
       "<span style=\"font-family:Times New Roman; font-size:20pt\">\n",
       "    &nbsp;&nbsp;&nbsp;&nbsp;conjunct\n",
       "</hspan>"
      ],
      "text/plain": [
       "<IPython.core.display.HTML object>"
      ]
     },
     "metadata": {},
     "output_type": "display_data"
    },
    {
     "data": {
      "text/html": [
       "\n",
       "<span style=\"font-family:Times New Roman; font-size:20pt\">\n",
       "    <hr>\n",
       "</hspan>"
      ],
      "text/plain": [
       "<IPython.core.display.HTML object>"
      ]
     },
     "metadata": {},
     "output_type": "display_data"
    },
    {
     "name": "stdout",
     "output_type": "stream",
     "text": [
      "342249 ('Job', 26, 1)\n"
     ]
    },
    {
     "data": {
      "text/html": [
       "\n",
       "<span style=\"font-family:Times New Roman; font-size:20pt\">\n",
       "    אִיֹּ֗וב  | אִיֹּ֗וב \n",
       "</hspan>"
      ],
      "text/plain": [
       "<IPython.core.display.HTML object>"
      ]
     },
     "metadata": {},
     "output_type": "display_data"
    },
    {
     "data": {
      "text/html": [
       "\n",
       "<span style=\"font-family:Times New Roman; font-size:20pt\">\n",
       "    &nbsp;&nbsp;&nbsp;&nbsp;>IJ.O81WB \n",
       "</hspan>"
      ],
      "text/plain": [
       "<IPython.core.display.HTML object>"
      ]
     },
     "metadata": {},
     "output_type": "display_data"
    },
    {
     "data": {
      "text/html": [
       "\n",
       "<span style=\"font-family:Times New Roman; font-size:20pt\">\n",
       "    &nbsp;&nbsp;&nbsp;&nbsp;disjunct\n",
       "</hspan>"
      ],
      "text/plain": [
       "<IPython.core.display.HTML object>"
      ]
     },
     "metadata": {},
     "output_type": "display_data"
    },
    {
     "data": {
      "text/html": [
       "\n",
       "<span style=\"font-family:Times New Roman; font-size:20pt\">\n",
       "    <hr>\n",
       "</hspan>"
      ],
      "text/plain": [
       "<IPython.core.display.HTML object>"
      ]
     },
     "metadata": {},
     "output_type": "display_data"
    },
    {
     "name": "stdout",
     "output_type": "stream",
     "text": [
      "342250 ('Job', 26, 1)\n"
     ]
    },
    {
     "data": {
      "text/html": [
       "\n",
       "<span style=\"font-family:Times New Roman; font-size:20pt\">\n",
       "    וַ | וַיֹּאמַֽר׃ \n",
       "</hspan>"
      ],
      "text/plain": [
       "<IPython.core.display.HTML object>"
      ]
     },
     "metadata": {},
     "output_type": "display_data"
    },
    {
     "data": {
      "text/html": [
       "\n",
       "<span style=\"font-family:Times New Roman; font-size:20pt\">\n",
       "    &nbsp;&nbsp;&nbsp;&nbsp;WA-J.O>MA75R00 \n",
       "</hspan>"
      ],
      "text/plain": [
       "<IPython.core.display.HTML object>"
      ]
     },
     "metadata": {},
     "output_type": "display_data"
    },
    {
     "data": {
      "text/html": [
       "\n",
       "<span style=\"font-family:Times New Roman; font-size:20pt\">\n",
       "    &nbsp;&nbsp;&nbsp;&nbsp;disjunct\n",
       "</hspan>"
      ],
      "text/plain": [
       "<IPython.core.display.HTML object>"
      ]
     },
     "metadata": {},
     "output_type": "display_data"
    },
    {
     "data": {
      "text/html": [
       "\n",
       "<span style=\"font-family:Times New Roman; font-size:20pt\">\n",
       "    <hr>\n",
       "</hspan>"
      ],
      "text/plain": [
       "<IPython.core.display.HTML object>"
      ]
     },
     "metadata": {},
     "output_type": "display_data"
    },
    {
     "name": "stdout",
     "output_type": "stream",
     "text": [
      "342251 ('Job', 26, 1)\n"
     ]
    },
    {
     "data": {
      "text/html": [
       "\n",
       "<span style=\"font-family:Times New Roman; font-size:20pt\">\n",
       "    יֹּאמַֽר׃  | וַיֹּאמַֽר׃ \n",
       "</hspan>"
      ],
      "text/plain": [
       "<IPython.core.display.HTML object>"
      ]
     },
     "metadata": {},
     "output_type": "display_data"
    },
    {
     "data": {
      "text/html": [
       "\n",
       "<span style=\"font-family:Times New Roman; font-size:20pt\">\n",
       "    &nbsp;&nbsp;&nbsp;&nbsp;WA-J.O>MA75R00 \n",
       "</hspan>"
      ],
      "text/plain": [
       "<IPython.core.display.HTML object>"
      ]
     },
     "metadata": {},
     "output_type": "display_data"
    },
    {
     "data": {
      "text/html": [
       "\n",
       "<span style=\"font-family:Times New Roman; font-size:20pt\">\n",
       "    &nbsp;&nbsp;&nbsp;&nbsp;disjunct\n",
       "</hspan>"
      ],
      "text/plain": [
       "<IPython.core.display.HTML object>"
      ]
     },
     "metadata": {},
     "output_type": "display_data"
    },
    {
     "data": {
      "text/html": [
       "\n",
       "<span style=\"font-family:Times New Roman; font-size:20pt\">\n",
       "    <hr>\n",
       "</hspan>"
      ],
      "text/plain": [
       "<IPython.core.display.HTML object>"
      ]
     },
     "metadata": {},
     "output_type": "display_data"
    },
    {
     "name": "stdout",
     "output_type": "stream",
     "text": [
      "342252 ('Job', 26, 2)\n"
     ]
    },
    {
     "data": {
      "text/html": [
       "\n",
       "<span style=\"font-family:Times New Roman; font-size:20pt\">\n",
       "    מֶה־ | מֶה־עָזַ֥רְתָּ \n",
       "</hspan>"
      ],
      "text/plain": [
       "<IPython.core.display.HTML object>"
      ]
     },
     "metadata": {},
     "output_type": "display_data"
    },
    {
     "data": {
      "text/html": [
       "\n",
       "<span style=\"font-family:Times New Roman; font-size:20pt\">\n",
       "    &nbsp;&nbsp;&nbsp;&nbsp;MEH&<@ZA71R:T.@ \n",
       "</hspan>"
      ],
      "text/plain": [
       "<IPython.core.display.HTML object>"
      ]
     },
     "metadata": {},
     "output_type": "display_data"
    },
    {
     "data": {
      "text/html": [
       "\n",
       "<span style=\"font-family:Times New Roman; font-size:20pt\">\n",
       "    &nbsp;&nbsp;&nbsp;&nbsp;conjunct\n",
       "</hspan>"
      ],
      "text/plain": [
       "<IPython.core.display.HTML object>"
      ]
     },
     "metadata": {},
     "output_type": "display_data"
    },
    {
     "data": {
      "text/html": [
       "\n",
       "<span style=\"font-family:Times New Roman; font-size:20pt\">\n",
       "    <hr>\n",
       "</hspan>"
      ],
      "text/plain": [
       "<IPython.core.display.HTML object>"
      ]
     },
     "metadata": {},
     "output_type": "display_data"
    },
    {
     "name": "stdout",
     "output_type": "stream",
     "text": [
      "342253 ('Job', 26, 2)\n"
     ]
    },
    {
     "data": {
      "text/html": [
       "\n",
       "<span style=\"font-family:Times New Roman; font-size:20pt\">\n",
       "    עָזַ֥רְתָּ  | מֶה־עָזַ֥רְתָּ \n",
       "</hspan>"
      ],
      "text/plain": [
       "<IPython.core.display.HTML object>"
      ]
     },
     "metadata": {},
     "output_type": "display_data"
    },
    {
     "data": {
      "text/html": [
       "\n",
       "<span style=\"font-family:Times New Roman; font-size:20pt\">\n",
       "    &nbsp;&nbsp;&nbsp;&nbsp;MEH&<@ZA71R:T.@ \n",
       "</hspan>"
      ],
      "text/plain": [
       "<IPython.core.display.HTML object>"
      ]
     },
     "metadata": {},
     "output_type": "display_data"
    },
    {
     "data": {
      "text/html": [
       "\n",
       "<span style=\"font-family:Times New Roman; font-size:20pt\">\n",
       "    &nbsp;&nbsp;&nbsp;&nbsp;conjunct\n",
       "</hspan>"
      ],
      "text/plain": [
       "<IPython.core.display.HTML object>"
      ]
     },
     "metadata": {},
     "output_type": "display_data"
    },
    {
     "data": {
      "text/html": [
       "\n",
       "<span style=\"font-family:Times New Roman; font-size:20pt\">\n",
       "    <hr>\n",
       "</hspan>"
      ],
      "text/plain": [
       "<IPython.core.display.HTML object>"
      ]
     },
     "metadata": {},
     "output_type": "display_data"
    },
    {
     "name": "stdout",
     "output_type": "stream",
     "text": [
      "342254 ('Job', 26, 2)\n"
     ]
    },
    {
     "data": {
      "text/html": [
       "\n",
       "<span style=\"font-family:Times New Roman; font-size:20pt\">\n",
       "    לְ | לְלֹא־כֹ֑חַ \n",
       "</hspan>"
      ],
      "text/plain": [
       "<IPython.core.display.HTML object>"
      ]
     },
     "metadata": {},
     "output_type": "display_data"
    },
    {
     "data": {
      "text/html": [
       "\n",
       "<span style=\"font-family:Times New Roman; font-size:20pt\">\n",
       "    &nbsp;&nbsp;&nbsp;&nbsp;L:-LO>&KO92XA \n",
       "</hspan>"
      ],
      "text/plain": [
       "<IPython.core.display.HTML object>"
      ]
     },
     "metadata": {},
     "output_type": "display_data"
    },
    {
     "data": {
      "text/html": [
       "\n",
       "<span style=\"font-family:Times New Roman; font-size:20pt\">\n",
       "    &nbsp;&nbsp;&nbsp;&nbsp;disjunct\n",
       "</hspan>"
      ],
      "text/plain": [
       "<IPython.core.display.HTML object>"
      ]
     },
     "metadata": {},
     "output_type": "display_data"
    },
    {
     "data": {
      "text/html": [
       "\n",
       "<span style=\"font-family:Times New Roman; font-size:20pt\">\n",
       "    <hr>\n",
       "</hspan>"
      ],
      "text/plain": [
       "<IPython.core.display.HTML object>"
      ]
     },
     "metadata": {},
     "output_type": "display_data"
    },
    {
     "name": "stdout",
     "output_type": "stream",
     "text": [
      "342255 ('Job', 26, 2)\n"
     ]
    },
    {
     "data": {
      "text/html": [
       "\n",
       "<span style=\"font-family:Times New Roman; font-size:20pt\">\n",
       "    לֹא־ | לְלֹא־כֹ֑חַ \n",
       "</hspan>"
      ],
      "text/plain": [
       "<IPython.core.display.HTML object>"
      ]
     },
     "metadata": {},
     "output_type": "display_data"
    },
    {
     "data": {
      "text/html": [
       "\n",
       "<span style=\"font-family:Times New Roman; font-size:20pt\">\n",
       "    &nbsp;&nbsp;&nbsp;&nbsp;L:-LO>&KO92XA \n",
       "</hspan>"
      ],
      "text/plain": [
       "<IPython.core.display.HTML object>"
      ]
     },
     "metadata": {},
     "output_type": "display_data"
    },
    {
     "data": {
      "text/html": [
       "\n",
       "<span style=\"font-family:Times New Roman; font-size:20pt\">\n",
       "    &nbsp;&nbsp;&nbsp;&nbsp;disjunct\n",
       "</hspan>"
      ],
      "text/plain": [
       "<IPython.core.display.HTML object>"
      ]
     },
     "metadata": {},
     "output_type": "display_data"
    },
    {
     "data": {
      "text/html": [
       "\n",
       "<span style=\"font-family:Times New Roman; font-size:20pt\">\n",
       "    <hr>\n",
       "</hspan>"
      ],
      "text/plain": [
       "<IPython.core.display.HTML object>"
      ]
     },
     "metadata": {},
     "output_type": "display_data"
    },
    {
     "name": "stdout",
     "output_type": "stream",
     "text": [
      "342256 ('Job', 26, 2)\n"
     ]
    },
    {
     "data": {
      "text/html": [
       "\n",
       "<span style=\"font-family:Times New Roman; font-size:20pt\">\n",
       "    כֹ֑חַ  | לְלֹא־כֹ֑חַ \n",
       "</hspan>"
      ],
      "text/plain": [
       "<IPython.core.display.HTML object>"
      ]
     },
     "metadata": {},
     "output_type": "display_data"
    },
    {
     "data": {
      "text/html": [
       "\n",
       "<span style=\"font-family:Times New Roman; font-size:20pt\">\n",
       "    &nbsp;&nbsp;&nbsp;&nbsp;L:-LO>&KO92XA \n",
       "</hspan>"
      ],
      "text/plain": [
       "<IPython.core.display.HTML object>"
      ]
     },
     "metadata": {},
     "output_type": "display_data"
    },
    {
     "data": {
      "text/html": [
       "\n",
       "<span style=\"font-family:Times New Roman; font-size:20pt\">\n",
       "    &nbsp;&nbsp;&nbsp;&nbsp;disjunct\n",
       "</hspan>"
      ],
      "text/plain": [
       "<IPython.core.display.HTML object>"
      ]
     },
     "metadata": {},
     "output_type": "display_data"
    },
    {
     "data": {
      "text/html": [
       "\n",
       "<span style=\"font-family:Times New Roman; font-size:20pt\">\n",
       "    <hr>\n",
       "</hspan>"
      ],
      "text/plain": [
       "<IPython.core.display.HTML object>"
      ]
     },
     "metadata": {},
     "output_type": "display_data"
    },
    {
     "name": "stdout",
     "output_type": "stream",
     "text": [
      "342257 ('Job', 26, 2)\n"
     ]
    },
    {
     "data": {
      "text/html": [
       "\n",
       "<span style=\"font-family:Times New Roman; font-size:20pt\">\n",
       "    הֹ֝ושַׁ֗עְתָּ  | הֹ֝ושַׁ֗עְתָּ \n",
       "</hspan>"
      ],
      "text/plain": [
       "<IPython.core.display.HTML object>"
      ]
     },
     "metadata": {},
     "output_type": "display_data"
    },
    {
     "data": {
      "text/html": [
       "\n",
       "<span style=\"font-family:Times New Roman; font-size:20pt\">\n",
       "    &nbsp;&nbsp;&nbsp;&nbsp;11HOWCA81<:T.@ \n",
       "</hspan>"
      ],
      "text/plain": [
       "<IPython.core.display.HTML object>"
      ]
     },
     "metadata": {},
     "output_type": "display_data"
    },
    {
     "data": {
      "text/html": [
       "\n",
       "<span style=\"font-family:Times New Roman; font-size:20pt\">\n",
       "    &nbsp;&nbsp;&nbsp;&nbsp;disjunct\n",
       "</hspan>"
      ],
      "text/plain": [
       "<IPython.core.display.HTML object>"
      ]
     },
     "metadata": {},
     "output_type": "display_data"
    },
    {
     "data": {
      "text/html": [
       "\n",
       "<span style=\"font-family:Times New Roman; font-size:20pt\">\n",
       "    <hr>\n",
       "</hspan>"
      ],
      "text/plain": [
       "<IPython.core.display.HTML object>"
      ]
     },
     "metadata": {},
     "output_type": "display_data"
    },
    {
     "name": "stdout",
     "output_type": "stream",
     "text": [
      "342258 ('Job', 26, 2)\n"
     ]
    },
    {
     "data": {
      "text/html": [
       "\n",
       "<span style=\"font-family:Times New Roman; font-size:20pt\">\n",
       "    זְרֹ֣ועַ  | זְרֹ֣ועַ \n",
       "</hspan>"
      ],
      "text/plain": [
       "<IPython.core.display.HTML object>"
      ]
     },
     "metadata": {},
     "output_type": "display_data"
    },
    {
     "data": {
      "text/html": [
       "\n",
       "<span style=\"font-family:Times New Roman; font-size:20pt\">\n",
       "    &nbsp;&nbsp;&nbsp;&nbsp;Z:RO74W<A \n",
       "</hspan>"
      ],
      "text/plain": [
       "<IPython.core.display.HTML object>"
      ]
     },
     "metadata": {},
     "output_type": "display_data"
    },
    {
     "data": {
      "text/html": [
       "\n",
       "<span style=\"font-family:Times New Roman; font-size:20pt\">\n",
       "    &nbsp;&nbsp;&nbsp;&nbsp;conjunct\n",
       "</hspan>"
      ],
      "text/plain": [
       "<IPython.core.display.HTML object>"
      ]
     },
     "metadata": {},
     "output_type": "display_data"
    },
    {
     "data": {
      "text/html": [
       "\n",
       "<span style=\"font-family:Times New Roman; font-size:20pt\">\n",
       "    <hr>\n",
       "</hspan>"
      ],
      "text/plain": [
       "<IPython.core.display.HTML object>"
      ]
     },
     "metadata": {},
     "output_type": "display_data"
    },
    {
     "name": "stdout",
     "output_type": "stream",
     "text": [
      "342259 ('Job', 26, 2)\n"
     ]
    },
    {
     "data": {
      "text/html": [
       "\n",
       "<span style=\"font-family:Times New Roman; font-size:20pt\">\n",
       "    לֹא־ | לֹא־עֹֽז׃ \n",
       "</hspan>"
      ],
      "text/plain": [
       "<IPython.core.display.HTML object>"
      ]
     },
     "metadata": {},
     "output_type": "display_data"
    },
    {
     "data": {
      "text/html": [
       "\n",
       "<span style=\"font-family:Times New Roman; font-size:20pt\">\n",
       "    &nbsp;&nbsp;&nbsp;&nbsp;LO>&<O75Z00 \n",
       "</hspan>"
      ],
      "text/plain": [
       "<IPython.core.display.HTML object>"
      ]
     },
     "metadata": {},
     "output_type": "display_data"
    },
    {
     "data": {
      "text/html": [
       "\n",
       "<span style=\"font-family:Times New Roman; font-size:20pt\">\n",
       "    &nbsp;&nbsp;&nbsp;&nbsp;disjunct\n",
       "</hspan>"
      ],
      "text/plain": [
       "<IPython.core.display.HTML object>"
      ]
     },
     "metadata": {},
     "output_type": "display_data"
    },
    {
     "data": {
      "text/html": [
       "\n",
       "<span style=\"font-family:Times New Roman; font-size:20pt\">\n",
       "    <hr>\n",
       "</hspan>"
      ],
      "text/plain": [
       "<IPython.core.display.HTML object>"
      ]
     },
     "metadata": {},
     "output_type": "display_data"
    },
    {
     "name": "stdout",
     "output_type": "stream",
     "text": [
      "342260 ('Job', 26, 2)\n"
     ]
    },
    {
     "data": {
      "text/html": [
       "\n",
       "<span style=\"font-family:Times New Roman; font-size:20pt\">\n",
       "    עֹֽז׃  | לֹא־עֹֽז׃ \n",
       "</hspan>"
      ],
      "text/plain": [
       "<IPython.core.display.HTML object>"
      ]
     },
     "metadata": {},
     "output_type": "display_data"
    },
    {
     "data": {
      "text/html": [
       "\n",
       "<span style=\"font-family:Times New Roman; font-size:20pt\">\n",
       "    &nbsp;&nbsp;&nbsp;&nbsp;LO>&<O75Z00 \n",
       "</hspan>"
      ],
      "text/plain": [
       "<IPython.core.display.HTML object>"
      ]
     },
     "metadata": {},
     "output_type": "display_data"
    },
    {
     "data": {
      "text/html": [
       "\n",
       "<span style=\"font-family:Times New Roman; font-size:20pt\">\n",
       "    &nbsp;&nbsp;&nbsp;&nbsp;disjunct\n",
       "</hspan>"
      ],
      "text/plain": [
       "<IPython.core.display.HTML object>"
      ]
     },
     "metadata": {},
     "output_type": "display_data"
    },
    {
     "data": {
      "text/html": [
       "\n",
       "<span style=\"font-family:Times New Roman; font-size:20pt\">\n",
       "    <hr>\n",
       "</hspan>"
      ],
      "text/plain": [
       "<IPython.core.display.HTML object>"
      ]
     },
     "metadata": {},
     "output_type": "display_data"
    },
    {
     "name": "stdout",
     "output_type": "stream",
     "text": [
      "342261 ('Job', 26, 3)\n"
     ]
    },
    {
     "data": {
      "text/html": [
       "\n",
       "<span style=\"font-family:Times New Roman; font-size:20pt\">\n",
       "    מַה־ | מַה־יָּ֭עַצְתָּ \n",
       "</hspan>"
      ],
      "text/plain": [
       "<IPython.core.display.HTML object>"
      ]
     },
     "metadata": {},
     "output_type": "display_data"
    },
    {
     "data": {
      "text/html": [
       "\n",
       "<span style=\"font-family:Times New Roman; font-size:20pt\">\n",
       "    &nbsp;&nbsp;&nbsp;&nbsp;MAH&13J.@<AY:T.@ \n",
       "</hspan>"
      ],
      "text/plain": [
       "<IPython.core.display.HTML object>"
      ]
     },
     "metadata": {},
     "output_type": "display_data"
    },
    {
     "data": {
      "text/html": [
       "\n",
       "<span style=\"font-family:Times New Roman; font-size:20pt\">\n",
       "    &nbsp;&nbsp;&nbsp;&nbsp;disjunct\n",
       "</hspan>"
      ],
      "text/plain": [
       "<IPython.core.display.HTML object>"
      ]
     },
     "metadata": {},
     "output_type": "display_data"
    },
    {
     "data": {
      "text/html": [
       "\n",
       "<span style=\"font-family:Times New Roman; font-size:20pt\">\n",
       "    <hr>\n",
       "</hspan>"
      ],
      "text/plain": [
       "<IPython.core.display.HTML object>"
      ]
     },
     "metadata": {},
     "output_type": "display_data"
    },
    {
     "name": "stdout",
     "output_type": "stream",
     "text": [
      "342262 ('Job', 26, 3)\n"
     ]
    },
    {
     "data": {
      "text/html": [
       "\n",
       "<span style=\"font-family:Times New Roman; font-size:20pt\">\n",
       "    יָּ֭עַצְתָּ  | מַה־יָּ֭עַצְתָּ \n",
       "</hspan>"
      ],
      "text/plain": [
       "<IPython.core.display.HTML object>"
      ]
     },
     "metadata": {},
     "output_type": "display_data"
    },
    {
     "data": {
      "text/html": [
       "\n",
       "<span style=\"font-family:Times New Roman; font-size:20pt\">\n",
       "    &nbsp;&nbsp;&nbsp;&nbsp;MAH&13J.@<AY:T.@ \n",
       "</hspan>"
      ],
      "text/plain": [
       "<IPython.core.display.HTML object>"
      ]
     },
     "metadata": {},
     "output_type": "display_data"
    },
    {
     "data": {
      "text/html": [
       "\n",
       "<span style=\"font-family:Times New Roman; font-size:20pt\">\n",
       "    &nbsp;&nbsp;&nbsp;&nbsp;disjunct\n",
       "</hspan>"
      ],
      "text/plain": [
       "<IPython.core.display.HTML object>"
      ]
     },
     "metadata": {},
     "output_type": "display_data"
    },
    {
     "data": {
      "text/html": [
       "\n",
       "<span style=\"font-family:Times New Roman; font-size:20pt\">\n",
       "    <hr>\n",
       "</hspan>"
      ],
      "text/plain": [
       "<IPython.core.display.HTML object>"
      ]
     },
     "metadata": {},
     "output_type": "display_data"
    },
    {
     "name": "stdout",
     "output_type": "stream",
     "text": [
      "342263 ('Job', 26, 3)\n"
     ]
    },
    {
     "data": {
      "text/html": [
       "\n",
       "<span style=\"font-family:Times New Roman; font-size:20pt\">\n",
       "    לְ | לְלֹ֣א \n",
       "</hspan>"
      ],
      "text/plain": [
       "<IPython.core.display.HTML object>"
      ]
     },
     "metadata": {},
     "output_type": "display_data"
    },
    {
     "data": {
      "text/html": [
       "\n",
       "<span style=\"font-family:Times New Roman; font-size:20pt\">\n",
       "    &nbsp;&nbsp;&nbsp;&nbsp;L:-LO74> \n",
       "</hspan>"
      ],
      "text/plain": [
       "<IPython.core.display.HTML object>"
      ]
     },
     "metadata": {},
     "output_type": "display_data"
    },
    {
     "data": {
      "text/html": [
       "\n",
       "<span style=\"font-family:Times New Roman; font-size:20pt\">\n",
       "    &nbsp;&nbsp;&nbsp;&nbsp;conjunct\n",
       "</hspan>"
      ],
      "text/plain": [
       "<IPython.core.display.HTML object>"
      ]
     },
     "metadata": {},
     "output_type": "display_data"
    },
    {
     "data": {
      "text/html": [
       "\n",
       "<span style=\"font-family:Times New Roman; font-size:20pt\">\n",
       "    <hr>\n",
       "</hspan>"
      ],
      "text/plain": [
       "<IPython.core.display.HTML object>"
      ]
     },
     "metadata": {},
     "output_type": "display_data"
    },
    {
     "name": "stdout",
     "output_type": "stream",
     "text": [
      "342264 ('Job', 26, 3)\n"
     ]
    },
    {
     "data": {
      "text/html": [
       "\n",
       "<span style=\"font-family:Times New Roman; font-size:20pt\">\n",
       "    לֹ֣א  | לְלֹ֣א \n",
       "</hspan>"
      ],
      "text/plain": [
       "<IPython.core.display.HTML object>"
      ]
     },
     "metadata": {},
     "output_type": "display_data"
    },
    {
     "data": {
      "text/html": [
       "\n",
       "<span style=\"font-family:Times New Roman; font-size:20pt\">\n",
       "    &nbsp;&nbsp;&nbsp;&nbsp;L:-LO74> \n",
       "</hspan>"
      ],
      "text/plain": [
       "<IPython.core.display.HTML object>"
      ]
     },
     "metadata": {},
     "output_type": "display_data"
    },
    {
     "data": {
      "text/html": [
       "\n",
       "<span style=\"font-family:Times New Roman; font-size:20pt\">\n",
       "    &nbsp;&nbsp;&nbsp;&nbsp;conjunct\n",
       "</hspan>"
      ],
      "text/plain": [
       "<IPython.core.display.HTML object>"
      ]
     },
     "metadata": {},
     "output_type": "display_data"
    },
    {
     "data": {
      "text/html": [
       "\n",
       "<span style=\"font-family:Times New Roman; font-size:20pt\">\n",
       "    <hr>\n",
       "</hspan>"
      ],
      "text/plain": [
       "<IPython.core.display.HTML object>"
      ]
     },
     "metadata": {},
     "output_type": "display_data"
    },
    {
     "name": "stdout",
     "output_type": "stream",
     "text": [
      "342265 ('Job', 26, 3)\n"
     ]
    },
    {
     "data": {
      "text/html": [
       "\n",
       "<span style=\"font-family:Times New Roman; font-size:20pt\">\n",
       "    חָכְמָ֑ה  | חָכְמָ֑ה \n",
       "</hspan>"
      ],
      "text/plain": [
       "<IPython.core.display.HTML object>"
      ]
     },
     "metadata": {},
     "output_type": "display_data"
    },
    {
     "data": {
      "text/html": [
       "\n",
       "<span style=\"font-family:Times New Roman; font-size:20pt\">\n",
       "    &nbsp;&nbsp;&nbsp;&nbsp;X@K:M@92H \n",
       "</hspan>"
      ],
      "text/plain": [
       "<IPython.core.display.HTML object>"
      ]
     },
     "metadata": {},
     "output_type": "display_data"
    },
    {
     "data": {
      "text/html": [
       "\n",
       "<span style=\"font-family:Times New Roman; font-size:20pt\">\n",
       "    &nbsp;&nbsp;&nbsp;&nbsp;disjunct\n",
       "</hspan>"
      ],
      "text/plain": [
       "<IPython.core.display.HTML object>"
      ]
     },
     "metadata": {},
     "output_type": "display_data"
    },
    {
     "data": {
      "text/html": [
       "\n",
       "<span style=\"font-family:Times New Roman; font-size:20pt\">\n",
       "    <hr>\n",
       "</hspan>"
      ],
      "text/plain": [
       "<IPython.core.display.HTML object>"
      ]
     },
     "metadata": {},
     "output_type": "display_data"
    },
    {
     "name": "stdout",
     "output_type": "stream",
     "text": [
      "342266 ('Job', 26, 3)\n"
     ]
    },
    {
     "data": {
      "text/html": [
       "\n",
       "<span style=\"font-family:Times New Roman; font-size:20pt\">\n",
       "    וְ֝ | וְ֝תוּשִׁיָּ֗ה \n",
       "</hspan>"
      ],
      "text/plain": [
       "<IPython.core.display.HTML object>"
      ]
     },
     "metadata": {},
     "output_type": "display_data"
    },
    {
     "data": {
      "text/html": [
       "\n",
       "<span style=\"font-family:Times New Roman; font-size:20pt\">\n",
       "    &nbsp;&nbsp;&nbsp;&nbsp;11W:-TW.CIJ.@81H \n",
       "</hspan>"
      ],
      "text/plain": [
       "<IPython.core.display.HTML object>"
      ]
     },
     "metadata": {},
     "output_type": "display_data"
    },
    {
     "data": {
      "text/html": [
       "\n",
       "<span style=\"font-family:Times New Roman; font-size:20pt\">\n",
       "    &nbsp;&nbsp;&nbsp;&nbsp;disjunct\n",
       "</hspan>"
      ],
      "text/plain": [
       "<IPython.core.display.HTML object>"
      ]
     },
     "metadata": {},
     "output_type": "display_data"
    },
    {
     "data": {
      "text/html": [
       "\n",
       "<span style=\"font-family:Times New Roman; font-size:20pt\">\n",
       "    <hr>\n",
       "</hspan>"
      ],
      "text/plain": [
       "<IPython.core.display.HTML object>"
      ]
     },
     "metadata": {},
     "output_type": "display_data"
    },
    {
     "name": "stdout",
     "output_type": "stream",
     "text": [
      "342267 ('Job', 26, 3)\n"
     ]
    },
    {
     "data": {
      "text/html": [
       "\n",
       "<span style=\"font-family:Times New Roman; font-size:20pt\">\n",
       "    תוּשִׁיָּ֗ה  | וְ֝תוּשִׁיָּ֗ה \n",
       "</hspan>"
      ],
      "text/plain": [
       "<IPython.core.display.HTML object>"
      ]
     },
     "metadata": {},
     "output_type": "display_data"
    },
    {
     "data": {
      "text/html": [
       "\n",
       "<span style=\"font-family:Times New Roman; font-size:20pt\">\n",
       "    &nbsp;&nbsp;&nbsp;&nbsp;11W:-TW.CIJ.@81H \n",
       "</hspan>"
      ],
      "text/plain": [
       "<IPython.core.display.HTML object>"
      ]
     },
     "metadata": {},
     "output_type": "display_data"
    },
    {
     "data": {
      "text/html": [
       "\n",
       "<span style=\"font-family:Times New Roman; font-size:20pt\">\n",
       "    &nbsp;&nbsp;&nbsp;&nbsp;disjunct\n",
       "</hspan>"
      ],
      "text/plain": [
       "<IPython.core.display.HTML object>"
      ]
     },
     "metadata": {},
     "output_type": "display_data"
    },
    {
     "data": {
      "text/html": [
       "\n",
       "<span style=\"font-family:Times New Roman; font-size:20pt\">\n",
       "    <hr>\n",
       "</hspan>"
      ],
      "text/plain": [
       "<IPython.core.display.HTML object>"
      ]
     },
     "metadata": {},
     "output_type": "display_data"
    },
    {
     "name": "stdout",
     "output_type": "stream",
     "text": [
      "342268 ('Job', 26, 3)\n"
     ]
    },
    {
     "data": {
      "text/html": [
       "\n",
       "<span style=\"font-family:Times New Roman; font-size:20pt\">\n",
       "    לָ | לָרֹ֥ב \n",
       "</hspan>"
      ],
      "text/plain": [
       "<IPython.core.display.HTML object>"
      ]
     },
     "metadata": {},
     "output_type": "display_data"
    },
    {
     "data": {
      "text/html": [
       "\n",
       "<span style=\"font-family:Times New Roman; font-size:20pt\">\n",
       "    &nbsp;&nbsp;&nbsp;&nbsp;L@-RO71B \n",
       "</hspan>"
      ],
      "text/plain": [
       "<IPython.core.display.HTML object>"
      ]
     },
     "metadata": {},
     "output_type": "display_data"
    },
    {
     "data": {
      "text/html": [
       "\n",
       "<span style=\"font-family:Times New Roman; font-size:20pt\">\n",
       "    &nbsp;&nbsp;&nbsp;&nbsp;conjunct\n",
       "</hspan>"
      ],
      "text/plain": [
       "<IPython.core.display.HTML object>"
      ]
     },
     "metadata": {},
     "output_type": "display_data"
    },
    {
     "data": {
      "text/html": [
       "\n",
       "<span style=\"font-family:Times New Roman; font-size:20pt\">\n",
       "    <hr>\n",
       "</hspan>"
      ],
      "text/plain": [
       "<IPython.core.display.HTML object>"
      ]
     },
     "metadata": {},
     "output_type": "display_data"
    },
    {
     "name": "stdout",
     "output_type": "stream",
     "text": [
      "342269 ('Job', 26, 3)\n"
     ]
    },
    {
     "data": {
      "text/html": [
       "\n",
       "<span style=\"font-family:Times New Roman; font-size:20pt\">\n",
       "    רֹ֥ב  | לָרֹ֥ב \n",
       "</hspan>"
      ],
      "text/plain": [
       "<IPython.core.display.HTML object>"
      ]
     },
     "metadata": {},
     "output_type": "display_data"
    },
    {
     "data": {
      "text/html": [
       "\n",
       "<span style=\"font-family:Times New Roman; font-size:20pt\">\n",
       "    &nbsp;&nbsp;&nbsp;&nbsp;L@-RO71B \n",
       "</hspan>"
      ],
      "text/plain": [
       "<IPython.core.display.HTML object>"
      ]
     },
     "metadata": {},
     "output_type": "display_data"
    },
    {
     "data": {
      "text/html": [
       "\n",
       "<span style=\"font-family:Times New Roman; font-size:20pt\">\n",
       "    &nbsp;&nbsp;&nbsp;&nbsp;conjunct\n",
       "</hspan>"
      ],
      "text/plain": [
       "<IPython.core.display.HTML object>"
      ]
     },
     "metadata": {},
     "output_type": "display_data"
    },
    {
     "data": {
      "text/html": [
       "\n",
       "<span style=\"font-family:Times New Roman; font-size:20pt\">\n",
       "    <hr>\n",
       "</hspan>"
      ],
      "text/plain": [
       "<IPython.core.display.HTML object>"
      ]
     },
     "metadata": {},
     "output_type": "display_data"
    },
    {
     "name": "stdout",
     "output_type": "stream",
     "text": [
      "342270 ('Job', 26, 3)\n"
     ]
    },
    {
     "data": {
      "text/html": [
       "\n",
       "<span style=\"font-family:Times New Roman; font-size:20pt\">\n",
       "    הֹודָֽעְתָּ׃  | הֹודָֽעְתָּ׃ \n",
       "</hspan>"
      ],
      "text/plain": [
       "<IPython.core.display.HTML object>"
      ]
     },
     "metadata": {},
     "output_type": "display_data"
    },
    {
     "data": {
      "text/html": [
       "\n",
       "<span style=\"font-family:Times New Roman; font-size:20pt\">\n",
       "    &nbsp;&nbsp;&nbsp;&nbsp;HOWD@75<:T.@00 \n",
       "</hspan>"
      ],
      "text/plain": [
       "<IPython.core.display.HTML object>"
      ]
     },
     "metadata": {},
     "output_type": "display_data"
    },
    {
     "data": {
      "text/html": [
       "\n",
       "<span style=\"font-family:Times New Roman; font-size:20pt\">\n",
       "    &nbsp;&nbsp;&nbsp;&nbsp;disjunct\n",
       "</hspan>"
      ],
      "text/plain": [
       "<IPython.core.display.HTML object>"
      ]
     },
     "metadata": {},
     "output_type": "display_data"
    },
    {
     "data": {
      "text/html": [
       "\n",
       "<span style=\"font-family:Times New Roman; font-size:20pt\">\n",
       "    <hr>\n",
       "</hspan>"
      ],
      "text/plain": [
       "<IPython.core.display.HTML object>"
      ]
     },
     "metadata": {},
     "output_type": "display_data"
    },
    {
     "name": "stdout",
     "output_type": "stream",
     "text": [
      "342271 ('Job', 26, 4)\n"
     ]
    },
    {
     "data": {
      "text/html": [
       "\n",
       "<span style=\"font-family:Times New Roman; font-size:20pt\">\n",
       "    אֶת־ | אֶת־מִ֭י \n",
       "</hspan>"
      ],
      "text/plain": [
       "<IPython.core.display.HTML object>"
      ]
     },
     "metadata": {},
     "output_type": "display_data"
    },
    {
     "data": {
      "text/html": [
       "\n",
       "<span style=\"font-family:Times New Roman; font-size:20pt\">\n",
       "    &nbsp;&nbsp;&nbsp;&nbsp;>ET&13MIJ \n",
       "</hspan>"
      ],
      "text/plain": [
       "<IPython.core.display.HTML object>"
      ]
     },
     "metadata": {},
     "output_type": "display_data"
    },
    {
     "data": {
      "text/html": [
       "\n",
       "<span style=\"font-family:Times New Roman; font-size:20pt\">\n",
       "    &nbsp;&nbsp;&nbsp;&nbsp;disjunct\n",
       "</hspan>"
      ],
      "text/plain": [
       "<IPython.core.display.HTML object>"
      ]
     },
     "metadata": {},
     "output_type": "display_data"
    },
    {
     "data": {
      "text/html": [
       "\n",
       "<span style=\"font-family:Times New Roman; font-size:20pt\">\n",
       "    <hr>\n",
       "</hspan>"
      ],
      "text/plain": [
       "<IPython.core.display.HTML object>"
      ]
     },
     "metadata": {},
     "output_type": "display_data"
    }
   ],
   "source": [
    "chapter = random.choice(list(F.otype.s('chapter')))\n",
    "\n",
    "\n",
    "show = [(w,) for w in L.d(chapter, 'word')]\n",
    "\n",
    "def show_accents(wset):\n",
    "    for s in wset:\n",
    "        word = s[0]\n",
    "        text = f'{T.text(word)} | {T.text(mwords[word])}'\n",
    "        trans = T.text(mwords[word], fmt='text-trans-full')\n",
    "        tab = '&nbsp;&nbsp;&nbsp;&nbsp;'\n",
    "        print(s[0], T.sectionFromNode(word))\n",
    "        beauty(text)\n",
    "        beauty(tab+trans)\n",
    "        beauty(tab+atype[word])\n",
    "        beauty('<hr>')\n",
    "        \n",
    "show_accents(show[:25])"
   ]
  },
  {
   "cell_type": "markdown",
   "metadata": {},
   "source": [
    "### Stats"
   ]
  },
  {
   "cell_type": "code",
   "execution_count": 7,
   "metadata": {},
   "outputs": [
    {
     "data": {
      "text/plain": [
       "'J.I52C.@52Q;9252H52W.52 '"
      ]
     },
     "execution_count": 7,
     "metadata": {},
     "output_type": "execute_result"
    }
   ],
   "source": [
    "T.text(18154, fmt='text-trans-full')"
   ]
  },
  {
   "cell_type": "code",
   "execution_count": 8,
   "metadata": {},
   "outputs": [],
   "source": [
    "# A.table(A.search('''\n",
    "\n",
    "# verse\n",
    "#     word g_word~11\n",
    "\n",
    "# ''')[:10])"
   ]
  },
  {
   "cell_type": "code",
   "execution_count": 9,
   "metadata": {},
   "outputs": [
    {
     "data": {
      "text/plain": [
       "[('disjunct', 272898), ('conjunct', 152669), ('unknown', 1017)]"
      ]
     },
     "execution_count": 9,
     "metadata": {},
     "output_type": "execute_result"
    }
   ],
   "source": [
    "labels = collections.Counter()\n",
    "\n",
    "for label, wset in atype2set.items():\n",
    "    labels[label] += len(wset)\n",
    "    \n",
    "labels.most_common()"
   ]
  },
  {
   "cell_type": "code",
   "execution_count": 10,
   "metadata": {},
   "outputs": [
    {
     "name": "stdout",
     "output_type": "stream",
     "text": [
      "17920 ('Genesis', 32, 24)\n"
     ]
    },
    {
     "data": {
      "text/html": [
       "\n",
       "<span style=\"font-family:Times New Roman; font-size:20pt\">\n",
       "    אֶת־ | אֶת־אֲשֶׁר־לֹו׃ \n",
       "</hspan>"
      ],
      "text/plain": [
       "<IPython.core.display.HTML object>"
      ]
     },
     "metadata": {},
     "output_type": "display_data"
    },
    {
     "data": {
      "text/html": [
       "\n",
       "<span style=\"font-family:Times New Roman; font-size:20pt\">\n",
       "    &nbsp;&nbsp;&nbsp;&nbsp;>ET&>:ACER&LOW00 \n",
       "</hspan>"
      ],
      "text/plain": [
       "<IPython.core.display.HTML object>"
      ]
     },
     "metadata": {},
     "output_type": "display_data"
    },
    {
     "data": {
      "text/html": [
       "\n",
       "<span style=\"font-family:Times New Roman; font-size:20pt\">\n",
       "    &nbsp;&nbsp;&nbsp;&nbsp;unknown\n",
       "</hspan>"
      ],
      "text/plain": [
       "<IPython.core.display.HTML object>"
      ]
     },
     "metadata": {},
     "output_type": "display_data"
    },
    {
     "data": {
      "text/html": [
       "\n",
       "<span style=\"font-family:Times New Roman; font-size:20pt\">\n",
       "    <hr>\n",
       "</hspan>"
      ],
      "text/plain": [
       "<IPython.core.display.HTML object>"
      ]
     },
     "metadata": {},
     "output_type": "display_data"
    },
    {
     "name": "stdout",
     "output_type": "stream",
     "text": [
      "17921 ('Genesis', 32, 24)\n"
     ]
    },
    {
     "data": {
      "text/html": [
       "\n",
       "<span style=\"font-family:Times New Roman; font-size:20pt\">\n",
       "    אֲשֶׁר־ | אֶת־אֲשֶׁר־לֹו׃ \n",
       "</hspan>"
      ],
      "text/plain": [
       "<IPython.core.display.HTML object>"
      ]
     },
     "metadata": {},
     "output_type": "display_data"
    },
    {
     "data": {
      "text/html": [
       "\n",
       "<span style=\"font-family:Times New Roman; font-size:20pt\">\n",
       "    &nbsp;&nbsp;&nbsp;&nbsp;>ET&>:ACER&LOW00 \n",
       "</hspan>"
      ],
      "text/plain": [
       "<IPython.core.display.HTML object>"
      ]
     },
     "metadata": {},
     "output_type": "display_data"
    },
    {
     "data": {
      "text/html": [
       "\n",
       "<span style=\"font-family:Times New Roman; font-size:20pt\">\n",
       "    &nbsp;&nbsp;&nbsp;&nbsp;unknown\n",
       "</hspan>"
      ],
      "text/plain": [
       "<IPython.core.display.HTML object>"
      ]
     },
     "metadata": {},
     "output_type": "display_data"
    },
    {
     "data": {
      "text/html": [
       "\n",
       "<span style=\"font-family:Times New Roman; font-size:20pt\">\n",
       "    <hr>\n",
       "</hspan>"
      ],
      "text/plain": [
       "<IPython.core.display.HTML object>"
      ]
     },
     "metadata": {},
     "output_type": "display_data"
    },
    {
     "name": "stdout",
     "output_type": "stream",
     "text": [
      "17922 ('Genesis', 32, 24)\n"
     ]
    },
    {
     "data": {
      "text/html": [
       "\n",
       "<span style=\"font-family:Times New Roman; font-size:20pt\">\n",
       "    לֹו׃  | אֶת־אֲשֶׁר־לֹו׃ \n",
       "</hspan>"
      ],
      "text/plain": [
       "<IPython.core.display.HTML object>"
      ]
     },
     "metadata": {},
     "output_type": "display_data"
    },
    {
     "data": {
      "text/html": [
       "\n",
       "<span style=\"font-family:Times New Roman; font-size:20pt\">\n",
       "    &nbsp;&nbsp;&nbsp;&nbsp;>ET&>:ACER&LOW00 \n",
       "</hspan>"
      ],
      "text/plain": [
       "<IPython.core.display.HTML object>"
      ]
     },
     "metadata": {},
     "output_type": "display_data"
    },
    {
     "data": {
      "text/html": [
       "\n",
       "<span style=\"font-family:Times New Roman; font-size:20pt\">\n",
       "    &nbsp;&nbsp;&nbsp;&nbsp;unknown\n",
       "</hspan>"
      ],
      "text/plain": [
       "<IPython.core.display.HTML object>"
      ]
     },
     "metadata": {},
     "output_type": "display_data"
    },
    {
     "data": {
      "text/html": [
       "\n",
       "<span style=\"font-family:Times New Roman; font-size:20pt\">\n",
       "    <hr>\n",
       "</hspan>"
      ],
      "text/plain": [
       "<IPython.core.display.HTML object>"
      ]
     },
     "metadata": {},
     "output_type": "display_data"
    },
    {
     "name": "stdout",
     "output_type": "stream",
     "text": [
      "30384 ('Exodus', 4, 10)\n"
     ]
    },
    {
     "data": {
      "text/html": [
       "\n",
       "<span style=\"font-family:Times New Roman; font-size:20pt\">\n",
       "    דַּבֶּרְךָ  | דַּבֶּרְךָ \n",
       "</hspan>"
      ],
      "text/plain": [
       "<IPython.core.display.HTML object>"
      ]
     },
     "metadata": {},
     "output_type": "display_data"
    },
    {
     "data": {
      "text/html": [
       "\n",
       "<span style=\"font-family:Times New Roman; font-size:20pt\">\n",
       "    &nbsp;&nbsp;&nbsp;&nbsp;D.AB.ER:K@ \n",
       "</hspan>"
      ],
      "text/plain": [
       "<IPython.core.display.HTML object>"
      ]
     },
     "metadata": {},
     "output_type": "display_data"
    },
    {
     "data": {
      "text/html": [
       "\n",
       "<span style=\"font-family:Times New Roman; font-size:20pt\">\n",
       "    &nbsp;&nbsp;&nbsp;&nbsp;unknown\n",
       "</hspan>"
      ],
      "text/plain": [
       "<IPython.core.display.HTML object>"
      ]
     },
     "metadata": {},
     "output_type": "display_data"
    },
    {
     "data": {
      "text/html": [
       "\n",
       "<span style=\"font-family:Times New Roman; font-size:20pt\">\n",
       "    <hr>\n",
       "</hspan>"
      ],
      "text/plain": [
       "<IPython.core.display.HTML object>"
      ]
     },
     "metadata": {},
     "output_type": "display_data"
    },
    {
     "name": "stdout",
     "output_type": "stream",
     "text": [
      "33479 ('Exodus', 9, 22)\n"
     ]
    },
    {
     "data": {
      "text/html": [
       "\n",
       "<span style=\"font-family:Times New Roman; font-size:20pt\">\n",
       "    אֶל־ | אֶל־מֹשֶׁה \n",
       "</hspan>"
      ],
      "text/plain": [
       "<IPython.core.display.HTML object>"
      ]
     },
     "metadata": {},
     "output_type": "display_data"
    },
    {
     "data": {
      "text/html": [
       "\n",
       "<span style=\"font-family:Times New Roman; font-size:20pt\">\n",
       "    &nbsp;&nbsp;&nbsp;&nbsp;>EL&MOCEH \n",
       "</hspan>"
      ],
      "text/plain": [
       "<IPython.core.display.HTML object>"
      ]
     },
     "metadata": {},
     "output_type": "display_data"
    },
    {
     "data": {
      "text/html": [
       "\n",
       "<span style=\"font-family:Times New Roman; font-size:20pt\">\n",
       "    &nbsp;&nbsp;&nbsp;&nbsp;unknown\n",
       "</hspan>"
      ],
      "text/plain": [
       "<IPython.core.display.HTML object>"
      ]
     },
     "metadata": {},
     "output_type": "display_data"
    },
    {
     "data": {
      "text/html": [
       "\n",
       "<span style=\"font-family:Times New Roman; font-size:20pt\">\n",
       "    <hr>\n",
       "</hspan>"
      ],
      "text/plain": [
       "<IPython.core.display.HTML object>"
      ]
     },
     "metadata": {},
     "output_type": "display_data"
    },
    {
     "name": "stdout",
     "output_type": "stream",
     "text": [
      "33480 ('Exodus', 9, 22)\n"
     ]
    },
    {
     "data": {
      "text/html": [
       "\n",
       "<span style=\"font-family:Times New Roman; font-size:20pt\">\n",
       "    מֹשֶׁה  | אֶל־מֹשֶׁה \n",
       "</hspan>"
      ],
      "text/plain": [
       "<IPython.core.display.HTML object>"
      ]
     },
     "metadata": {},
     "output_type": "display_data"
    },
    {
     "data": {
      "text/html": [
       "\n",
       "<span style=\"font-family:Times New Roman; font-size:20pt\">\n",
       "    &nbsp;&nbsp;&nbsp;&nbsp;>EL&MOCEH \n",
       "</hspan>"
      ],
      "text/plain": [
       "<IPython.core.display.HTML object>"
      ]
     },
     "metadata": {},
     "output_type": "display_data"
    },
    {
     "data": {
      "text/html": [
       "\n",
       "<span style=\"font-family:Times New Roman; font-size:20pt\">\n",
       "    &nbsp;&nbsp;&nbsp;&nbsp;unknown\n",
       "</hspan>"
      ],
      "text/plain": [
       "<IPython.core.display.HTML object>"
      ]
     },
     "metadata": {},
     "output_type": "display_data"
    },
    {
     "data": {
      "text/html": [
       "\n",
       "<span style=\"font-family:Times New Roman; font-size:20pt\">\n",
       "    <hr>\n",
       "</hspan>"
      ],
      "text/plain": [
       "<IPython.core.display.HTML object>"
      ]
     },
     "metadata": {},
     "output_type": "display_data"
    },
    {
     "name": "stdout",
     "output_type": "stream",
     "text": [
      "33805 ('Exodus', 10, 1)\n"
     ]
    },
    {
     "data": {
      "text/html": [
       "\n",
       "<span style=\"font-family:Times New Roman; font-size:20pt\">\n",
       "    בְּ | בְּקִרְבֹּו׃ \n",
       "</hspan>"
      ],
      "text/plain": [
       "<IPython.core.display.HTML object>"
      ]
     },
     "metadata": {},
     "output_type": "display_data"
    },
    {
     "data": {
      "text/html": [
       "\n",
       "<span style=\"font-family:Times New Roman; font-size:20pt\">\n",
       "    &nbsp;&nbsp;&nbsp;&nbsp;B.:-QIR:B.OW00 \n",
       "</hspan>"
      ],
      "text/plain": [
       "<IPython.core.display.HTML object>"
      ]
     },
     "metadata": {},
     "output_type": "display_data"
    },
    {
     "data": {
      "text/html": [
       "\n",
       "<span style=\"font-family:Times New Roman; font-size:20pt\">\n",
       "    &nbsp;&nbsp;&nbsp;&nbsp;unknown\n",
       "</hspan>"
      ],
      "text/plain": [
       "<IPython.core.display.HTML object>"
      ]
     },
     "metadata": {},
     "output_type": "display_data"
    },
    {
     "data": {
      "text/html": [
       "\n",
       "<span style=\"font-family:Times New Roman; font-size:20pt\">\n",
       "    <hr>\n",
       "</hspan>"
      ],
      "text/plain": [
       "<IPython.core.display.HTML object>"
      ]
     },
     "metadata": {},
     "output_type": "display_data"
    },
    {
     "name": "stdout",
     "output_type": "stream",
     "text": [
      "33806 ('Exodus', 10, 1)\n"
     ]
    },
    {
     "data": {
      "text/html": [
       "\n",
       "<span style=\"font-family:Times New Roman; font-size:20pt\">\n",
       "    קִרְבֹּו׃  | בְּקִרְבֹּו׃ \n",
       "</hspan>"
      ],
      "text/plain": [
       "<IPython.core.display.HTML object>"
      ]
     },
     "metadata": {},
     "output_type": "display_data"
    },
    {
     "data": {
      "text/html": [
       "\n",
       "<span style=\"font-family:Times New Roman; font-size:20pt\">\n",
       "    &nbsp;&nbsp;&nbsp;&nbsp;B.:-QIR:B.OW00 \n",
       "</hspan>"
      ],
      "text/plain": [
       "<IPython.core.display.HTML object>"
      ]
     },
     "metadata": {},
     "output_type": "display_data"
    },
    {
     "data": {
      "text/html": [
       "\n",
       "<span style=\"font-family:Times New Roman; font-size:20pt\">\n",
       "    &nbsp;&nbsp;&nbsp;&nbsp;unknown\n",
       "</hspan>"
      ],
      "text/plain": [
       "<IPython.core.display.HTML object>"
      ]
     },
     "metadata": {},
     "output_type": "display_data"
    },
    {
     "data": {
      "text/html": [
       "\n",
       "<span style=\"font-family:Times New Roman; font-size:20pt\">\n",
       "    <hr>\n",
       "</hspan>"
      ],
      "text/plain": [
       "<IPython.core.display.HTML object>"
      ]
     },
     "metadata": {},
     "output_type": "display_data"
    },
    {
     "name": "stdout",
     "output_type": "stream",
     "text": [
      "65256 ('Leviticus', 21, 18)\n"
     ]
    },
    {
     "data": {
      "text/html": [
       "\n",
       "<span style=\"font-family:Times New Roman; font-size:20pt\">\n",
       "    שָׂרֽוּעַ׃  | שָׂרֽוּעַ׃ \n",
       "</hspan>"
      ],
      "text/plain": [
       "<IPython.core.display.HTML object>"
      ]
     },
     "metadata": {},
     "output_type": "display_data"
    },
    {
     "data": {
      "text/html": [
       "\n",
       "<span style=\"font-family:Times New Roman; font-size:20pt\">\n",
       "    &nbsp;&nbsp;&nbsp;&nbsp;F@R25W.<A00 \n",
       "</hspan>"
      ],
      "text/plain": [
       "<IPython.core.display.HTML object>"
      ]
     },
     "metadata": {},
     "output_type": "display_data"
    },
    {
     "data": {
      "text/html": [
       "\n",
       "<span style=\"font-family:Times New Roman; font-size:20pt\">\n",
       "    &nbsp;&nbsp;&nbsp;&nbsp;unknown\n",
       "</hspan>"
      ],
      "text/plain": [
       "<IPython.core.display.HTML object>"
      ]
     },
     "metadata": {},
     "output_type": "display_data"
    },
    {
     "data": {
      "text/html": [
       "\n",
       "<span style=\"font-family:Times New Roman; font-size:20pt\">\n",
       "    <hr>\n",
       "</hspan>"
      ],
      "text/plain": [
       "<IPython.core.display.HTML object>"
      ]
     },
     "metadata": {},
     "output_type": "display_data"
    },
    {
     "name": "stdout",
     "output_type": "stream",
     "text": [
      "68621 ('Leviticus', 26, 28)\n"
     ]
    },
    {
     "data": {
      "text/html": [
       "\n",
       "<span style=\"font-family:Times New Roman; font-size:20pt\">\n",
       "    עַל־ | עַל־חַטֹּאתֵיכֶם׃ \n",
       "</hspan>"
      ],
      "text/plain": [
       "<IPython.core.display.HTML object>"
      ]
     },
     "metadata": {},
     "output_type": "display_data"
    },
    {
     "data": {
      "text/html": [
       "\n",
       "<span style=\"font-family:Times New Roman; font-size:20pt\">\n",
       "    &nbsp;&nbsp;&nbsp;&nbsp;<AL&XAV.O>T;JKEM00 \n",
       "</hspan>"
      ],
      "text/plain": [
       "<IPython.core.display.HTML object>"
      ]
     },
     "metadata": {},
     "output_type": "display_data"
    },
    {
     "data": {
      "text/html": [
       "\n",
       "<span style=\"font-family:Times New Roman; font-size:20pt\">\n",
       "    &nbsp;&nbsp;&nbsp;&nbsp;unknown\n",
       "</hspan>"
      ],
      "text/plain": [
       "<IPython.core.display.HTML object>"
      ]
     },
     "metadata": {},
     "output_type": "display_data"
    },
    {
     "data": {
      "text/html": [
       "\n",
       "<span style=\"font-family:Times New Roman; font-size:20pt\">\n",
       "    <hr>\n",
       "</hspan>"
      ],
      "text/plain": [
       "<IPython.core.display.HTML object>"
      ]
     },
     "metadata": {},
     "output_type": "display_data"
    },
    {
     "name": "stdout",
     "output_type": "stream",
     "text": [
      "68622 ('Leviticus', 26, 28)\n"
     ]
    },
    {
     "data": {
      "text/html": [
       "\n",
       "<span style=\"font-family:Times New Roman; font-size:20pt\">\n",
       "    חַטֹּאתֵיכֶם׃  | עַל־חַטֹּאתֵיכֶם׃ \n",
       "</hspan>"
      ],
      "text/plain": [
       "<IPython.core.display.HTML object>"
      ]
     },
     "metadata": {},
     "output_type": "display_data"
    },
    {
     "data": {
      "text/html": [
       "\n",
       "<span style=\"font-family:Times New Roman; font-size:20pt\">\n",
       "    &nbsp;&nbsp;&nbsp;&nbsp;<AL&XAV.O>T;JKEM00 \n",
       "</hspan>"
      ],
      "text/plain": [
       "<IPython.core.display.HTML object>"
      ]
     },
     "metadata": {},
     "output_type": "display_data"
    },
    {
     "data": {
      "text/html": [
       "\n",
       "<span style=\"font-family:Times New Roman; font-size:20pt\">\n",
       "    &nbsp;&nbsp;&nbsp;&nbsp;unknown\n",
       "</hspan>"
      ],
      "text/plain": [
       "<IPython.core.display.HTML object>"
      ]
     },
     "metadata": {},
     "output_type": "display_data"
    },
    {
     "data": {
      "text/html": [
       "\n",
       "<span style=\"font-family:Times New Roman; font-size:20pt\">\n",
       "    <hr>\n",
       "</hspan>"
      ],
      "text/plain": [
       "<IPython.core.display.HTML object>"
      ]
     },
     "metadata": {},
     "output_type": "display_data"
    },
    {
     "name": "stdout",
     "output_type": "stream",
     "text": [
      "77731 ('Numbers', 12, 9)\n"
     ]
    },
    {
     "data": {
      "text/html": [
       "\n",
       "<span style=\"font-family:Times New Roman; font-size:20pt\">\n",
       "    וַ | וַיִּֽחַר \n",
       "</hspan>"
      ],
      "text/plain": [
       "<IPython.core.display.HTML object>"
      ]
     },
     "metadata": {},
     "output_type": "display_data"
    },
    {
     "data": {
      "text/html": [
       "\n",
       "<span style=\"font-family:Times New Roman; font-size:20pt\">\n",
       "    &nbsp;&nbsp;&nbsp;&nbsp;WA-J.I45XAR \n",
       "</hspan>"
      ],
      "text/plain": [
       "<IPython.core.display.HTML object>"
      ]
     },
     "metadata": {},
     "output_type": "display_data"
    },
    {
     "data": {
      "text/html": [
       "\n",
       "<span style=\"font-family:Times New Roman; font-size:20pt\">\n",
       "    &nbsp;&nbsp;&nbsp;&nbsp;unknown\n",
       "</hspan>"
      ],
      "text/plain": [
       "<IPython.core.display.HTML object>"
      ]
     },
     "metadata": {},
     "output_type": "display_data"
    },
    {
     "data": {
      "text/html": [
       "\n",
       "<span style=\"font-family:Times New Roman; font-size:20pt\">\n",
       "    <hr>\n",
       "</hspan>"
      ],
      "text/plain": [
       "<IPython.core.display.HTML object>"
      ]
     },
     "metadata": {},
     "output_type": "display_data"
    },
    {
     "name": "stdout",
     "output_type": "stream",
     "text": [
      "77732 ('Numbers', 12, 9)\n"
     ]
    },
    {
     "data": {
      "text/html": [
       "\n",
       "<span style=\"font-family:Times New Roman; font-size:20pt\">\n",
       "    יִּֽחַר  | וַיִּֽחַר \n",
       "</hspan>"
      ],
      "text/plain": [
       "<IPython.core.display.HTML object>"
      ]
     },
     "metadata": {},
     "output_type": "display_data"
    },
    {
     "data": {
      "text/html": [
       "\n",
       "<span style=\"font-family:Times New Roman; font-size:20pt\">\n",
       "    &nbsp;&nbsp;&nbsp;&nbsp;WA-J.I45XAR \n",
       "</hspan>"
      ],
      "text/plain": [
       "<IPython.core.display.HTML object>"
      ]
     },
     "metadata": {},
     "output_type": "display_data"
    },
    {
     "data": {
      "text/html": [
       "\n",
       "<span style=\"font-family:Times New Roman; font-size:20pt\">\n",
       "    &nbsp;&nbsp;&nbsp;&nbsp;unknown\n",
       "</hspan>"
      ],
      "text/plain": [
       "<IPython.core.display.HTML object>"
      ]
     },
     "metadata": {},
     "output_type": "display_data"
    },
    {
     "data": {
      "text/html": [
       "\n",
       "<span style=\"font-family:Times New Roman; font-size:20pt\">\n",
       "    <hr>\n",
       "</hspan>"
      ],
      "text/plain": [
       "<IPython.core.display.HTML object>"
      ]
     },
     "metadata": {},
     "output_type": "display_data"
    },
    {
     "name": "stdout",
     "output_type": "stream",
     "text": [
      "87066 ('Numbers', 27, 9)\n"
     ]
    },
    {
     "data": {
      "text/html": [
       "\n",
       "<span style=\"font-family:Times New Roman; font-size:20pt\">\n",
       "    לְ | לְאֶחָיו׃ \n",
       "</hspan>"
      ],
      "text/plain": [
       "<IPython.core.display.HTML object>"
      ]
     },
     "metadata": {},
     "output_type": "display_data"
    },
    {
     "data": {
      "text/html": [
       "\n",
       "<span style=\"font-family:Times New Roman; font-size:20pt\">\n",
       "    &nbsp;&nbsp;&nbsp;&nbsp;L:->EX@JW00 \n",
       "</hspan>"
      ],
      "text/plain": [
       "<IPython.core.display.HTML object>"
      ]
     },
     "metadata": {},
     "output_type": "display_data"
    },
    {
     "data": {
      "text/html": [
       "\n",
       "<span style=\"font-family:Times New Roman; font-size:20pt\">\n",
       "    &nbsp;&nbsp;&nbsp;&nbsp;unknown\n",
       "</hspan>"
      ],
      "text/plain": [
       "<IPython.core.display.HTML object>"
      ]
     },
     "metadata": {},
     "output_type": "display_data"
    },
    {
     "data": {
      "text/html": [
       "\n",
       "<span style=\"font-family:Times New Roman; font-size:20pt\">\n",
       "    <hr>\n",
       "</hspan>"
      ],
      "text/plain": [
       "<IPython.core.display.HTML object>"
      ]
     },
     "metadata": {},
     "output_type": "display_data"
    },
    {
     "name": "stdout",
     "output_type": "stream",
     "text": [
      "87067 ('Numbers', 27, 9)\n"
     ]
    },
    {
     "data": {
      "text/html": [
       "\n",
       "<span style=\"font-family:Times New Roman; font-size:20pt\">\n",
       "    אֶחָיו׃  | לְאֶחָיו׃ \n",
       "</hspan>"
      ],
      "text/plain": [
       "<IPython.core.display.HTML object>"
      ]
     },
     "metadata": {},
     "output_type": "display_data"
    },
    {
     "data": {
      "text/html": [
       "\n",
       "<span style=\"font-family:Times New Roman; font-size:20pt\">\n",
       "    &nbsp;&nbsp;&nbsp;&nbsp;L:->EX@JW00 \n",
       "</hspan>"
      ],
      "text/plain": [
       "<IPython.core.display.HTML object>"
      ]
     },
     "metadata": {},
     "output_type": "display_data"
    },
    {
     "data": {
      "text/html": [
       "\n",
       "<span style=\"font-family:Times New Roman; font-size:20pt\">\n",
       "    &nbsp;&nbsp;&nbsp;&nbsp;unknown\n",
       "</hspan>"
      ],
      "text/plain": [
       "<IPython.core.display.HTML object>"
      ]
     },
     "metadata": {},
     "output_type": "display_data"
    },
    {
     "data": {
      "text/html": [
       "\n",
       "<span style=\"font-family:Times New Roman; font-size:20pt\">\n",
       "    <hr>\n",
       "</hspan>"
      ],
      "text/plain": [
       "<IPython.core.display.HTML object>"
      ]
     },
     "metadata": {},
     "output_type": "display_data"
    },
    {
     "name": "stdout",
     "output_type": "stream",
     "text": [
      "96253 ('Deuteronomy', 4, 46)\n"
     ]
    },
    {
     "data": {
      "text/html": [
       "\n",
       "<span style=\"font-family:Times New Roman; font-size:20pt\">\n",
       "    וּ | וּבְנֵֽי \n",
       "</hspan>"
      ],
      "text/plain": [
       "<IPython.core.display.HTML object>"
      ]
     },
     "metadata": {},
     "output_type": "display_data"
    },
    {
     "data": {
      "text/html": [
       "\n",
       "<span style=\"font-family:Times New Roman; font-size:20pt\">\n",
       "    &nbsp;&nbsp;&nbsp;&nbsp;W.-B:N;45J \n",
       "</hspan>"
      ],
      "text/plain": [
       "<IPython.core.display.HTML object>"
      ]
     },
     "metadata": {},
     "output_type": "display_data"
    },
    {
     "data": {
      "text/html": [
       "\n",
       "<span style=\"font-family:Times New Roman; font-size:20pt\">\n",
       "    &nbsp;&nbsp;&nbsp;&nbsp;unknown\n",
       "</hspan>"
      ],
      "text/plain": [
       "<IPython.core.display.HTML object>"
      ]
     },
     "metadata": {},
     "output_type": "display_data"
    },
    {
     "data": {
      "text/html": [
       "\n",
       "<span style=\"font-family:Times New Roman; font-size:20pt\">\n",
       "    <hr>\n",
       "</hspan>"
      ],
      "text/plain": [
       "<IPython.core.display.HTML object>"
      ]
     },
     "metadata": {},
     "output_type": "display_data"
    },
    {
     "name": "stdout",
     "output_type": "stream",
     "text": [
      "96254 ('Deuteronomy', 4, 46)\n"
     ]
    },
    {
     "data": {
      "text/html": [
       "\n",
       "<span style=\"font-family:Times New Roman; font-size:20pt\">\n",
       "    בְנֵֽי  | וּבְנֵֽי \n",
       "</hspan>"
      ],
      "text/plain": [
       "<IPython.core.display.HTML object>"
      ]
     },
     "metadata": {},
     "output_type": "display_data"
    },
    {
     "data": {
      "text/html": [
       "\n",
       "<span style=\"font-family:Times New Roman; font-size:20pt\">\n",
       "    &nbsp;&nbsp;&nbsp;&nbsp;W.-B:N;45J \n",
       "</hspan>"
      ],
      "text/plain": [
       "<IPython.core.display.HTML object>"
      ]
     },
     "metadata": {},
     "output_type": "display_data"
    },
    {
     "data": {
      "text/html": [
       "\n",
       "<span style=\"font-family:Times New Roman; font-size:20pt\">\n",
       "    &nbsp;&nbsp;&nbsp;&nbsp;unknown\n",
       "</hspan>"
      ],
      "text/plain": [
       "<IPython.core.display.HTML object>"
      ]
     },
     "metadata": {},
     "output_type": "display_data"
    },
    {
     "data": {
      "text/html": [
       "\n",
       "<span style=\"font-family:Times New Roman; font-size:20pt\">\n",
       "    <hr>\n",
       "</hspan>"
      ],
      "text/plain": [
       "<IPython.core.display.HTML object>"
      ]
     },
     "metadata": {},
     "output_type": "display_data"
    },
    {
     "name": "stdout",
     "output_type": "stream",
     "text": [
      "99272 ('Deuteronomy', 10, 7)\n"
     ]
    },
    {
     "data": {
      "text/html": [
       "\n",
       "<span style=\"font-family:Times New Roman; font-size:20pt\">\n",
       "    נַֽחֲלֵי  | נַֽחֲלֵי \n",
       "</hspan>"
      ],
      "text/plain": [
       "<IPython.core.display.HTML object>"
      ]
     },
     "metadata": {},
     "output_type": "display_data"
    },
    {
     "data": {
      "text/html": [
       "\n",
       "<span style=\"font-family:Times New Roman; font-size:20pt\">\n",
       "    &nbsp;&nbsp;&nbsp;&nbsp;NA45X:AL;J \n",
       "</hspan>"
      ],
      "text/plain": [
       "<IPython.core.display.HTML object>"
      ]
     },
     "metadata": {},
     "output_type": "display_data"
    },
    {
     "data": {
      "text/html": [
       "\n",
       "<span style=\"font-family:Times New Roman; font-size:20pt\">\n",
       "    &nbsp;&nbsp;&nbsp;&nbsp;unknown\n",
       "</hspan>"
      ],
      "text/plain": [
       "<IPython.core.display.HTML object>"
      ]
     },
     "metadata": {},
     "output_type": "display_data"
    },
    {
     "data": {
      "text/html": [
       "\n",
       "<span style=\"font-family:Times New Roman; font-size:20pt\">\n",
       "    <hr>\n",
       "</hspan>"
      ],
      "text/plain": [
       "<IPython.core.display.HTML object>"
      ]
     },
     "metadata": {},
     "output_type": "display_data"
    },
    {
     "name": "stdout",
     "output_type": "stream",
     "text": [
      "100363 ('Deuteronomy', 12, 2)\n"
     ]
    },
    {
     "data": {
      "text/html": [
       "\n",
       "<span style=\"font-family:Times New Roman; font-size:20pt\">\n",
       "    רַעֲנָן׃  | רַעֲנָן׃ \n",
       "</hspan>"
      ],
      "text/plain": [
       "<IPython.core.display.HTML object>"
      ]
     },
     "metadata": {},
     "output_type": "display_data"
    },
    {
     "data": {
      "text/html": [
       "\n",
       "<span style=\"font-family:Times New Roman; font-size:20pt\">\n",
       "    &nbsp;&nbsp;&nbsp;&nbsp;RA<:AN@N00 \n",
       "</hspan>"
      ],
      "text/plain": [
       "<IPython.core.display.HTML object>"
      ]
     },
     "metadata": {},
     "output_type": "display_data"
    },
    {
     "data": {
      "text/html": [
       "\n",
       "<span style=\"font-family:Times New Roman; font-size:20pt\">\n",
       "    &nbsp;&nbsp;&nbsp;&nbsp;unknown\n",
       "</hspan>"
      ],
      "text/plain": [
       "<IPython.core.display.HTML object>"
      ]
     },
     "metadata": {},
     "output_type": "display_data"
    },
    {
     "data": {
      "text/html": [
       "\n",
       "<span style=\"font-family:Times New Roman; font-size:20pt\">\n",
       "    <hr>\n",
       "</hspan>"
      ],
      "text/plain": [
       "<IPython.core.display.HTML object>"
      ]
     },
     "metadata": {},
     "output_type": "display_data"
    },
    {
     "name": "stdout",
     "output_type": "stream",
     "text": [
      "106199 ('Deuteronomy', 23, 18)\n"
     ]
    },
    {
     "data": {
      "text/html": [
       "\n",
       "<span style=\"font-family:Times New Roman; font-size:20pt\">\n",
       "    יִשְׂרָאֵל׃  | יִשְׂרָאֵל׃ \n",
       "</hspan>"
      ],
      "text/plain": [
       "<IPython.core.display.HTML object>"
      ]
     },
     "metadata": {},
     "output_type": "display_data"
    },
    {
     "data": {
      "text/html": [
       "\n",
       "<span style=\"font-family:Times New Roman; font-size:20pt\">\n",
       "    &nbsp;&nbsp;&nbsp;&nbsp;JIF:R@>;L00 \n",
       "</hspan>"
      ],
      "text/plain": [
       "<IPython.core.display.HTML object>"
      ]
     },
     "metadata": {},
     "output_type": "display_data"
    },
    {
     "data": {
      "text/html": [
       "\n",
       "<span style=\"font-family:Times New Roman; font-size:20pt\">\n",
       "    &nbsp;&nbsp;&nbsp;&nbsp;unknown\n",
       "</hspan>"
      ],
      "text/plain": [
       "<IPython.core.display.HTML object>"
      ]
     },
     "metadata": {},
     "output_type": "display_data"
    },
    {
     "data": {
      "text/html": [
       "\n",
       "<span style=\"font-family:Times New Roman; font-size:20pt\">\n",
       "    <hr>\n",
       "</hspan>"
      ],
      "text/plain": [
       "<IPython.core.display.HTML object>"
      ]
     },
     "metadata": {},
     "output_type": "display_data"
    },
    {
     "name": "stdout",
     "output_type": "stream",
     "text": [
      "106556 ('Deuteronomy', 24, 10)\n"
     ]
    },
    {
     "data": {
      "text/html": [
       "\n",
       "<span style=\"font-family:Times New Roman; font-size:20pt\">\n",
       "    בְ | בְרֵֽעֲךָ \n",
       "</hspan>"
      ],
      "text/plain": [
       "<IPython.core.display.HTML object>"
      ]
     },
     "metadata": {},
     "output_type": "display_data"
    },
    {
     "data": {
      "text/html": [
       "\n",
       "<span style=\"font-family:Times New Roman; font-size:20pt\">\n",
       "    &nbsp;&nbsp;&nbsp;&nbsp;B:-R;45<:AK@ \n",
       "</hspan>"
      ],
      "text/plain": [
       "<IPython.core.display.HTML object>"
      ]
     },
     "metadata": {},
     "output_type": "display_data"
    },
    {
     "data": {
      "text/html": [
       "\n",
       "<span style=\"font-family:Times New Roman; font-size:20pt\">\n",
       "    &nbsp;&nbsp;&nbsp;&nbsp;unknown\n",
       "</hspan>"
      ],
      "text/plain": [
       "<IPython.core.display.HTML object>"
      ]
     },
     "metadata": {},
     "output_type": "display_data"
    },
    {
     "data": {
      "text/html": [
       "\n",
       "<span style=\"font-family:Times New Roman; font-size:20pt\">\n",
       "    <hr>\n",
       "</hspan>"
      ],
      "text/plain": [
       "<IPython.core.display.HTML object>"
      ]
     },
     "metadata": {},
     "output_type": "display_data"
    },
    {
     "name": "stdout",
     "output_type": "stream",
     "text": [
      "106557 ('Deuteronomy', 24, 10)\n"
     ]
    },
    {
     "data": {
      "text/html": [
       "\n",
       "<span style=\"font-family:Times New Roman; font-size:20pt\">\n",
       "    רֵֽעֲךָ  | בְרֵֽעֲךָ \n",
       "</hspan>"
      ],
      "text/plain": [
       "<IPython.core.display.HTML object>"
      ]
     },
     "metadata": {},
     "output_type": "display_data"
    },
    {
     "data": {
      "text/html": [
       "\n",
       "<span style=\"font-family:Times New Roman; font-size:20pt\">\n",
       "    &nbsp;&nbsp;&nbsp;&nbsp;B:-R;45<:AK@ \n",
       "</hspan>"
      ],
      "text/plain": [
       "<IPython.core.display.HTML object>"
      ]
     },
     "metadata": {},
     "output_type": "display_data"
    },
    {
     "data": {
      "text/html": [
       "\n",
       "<span style=\"font-family:Times New Roman; font-size:20pt\">\n",
       "    &nbsp;&nbsp;&nbsp;&nbsp;unknown\n",
       "</hspan>"
      ],
      "text/plain": [
       "<IPython.core.display.HTML object>"
      ]
     },
     "metadata": {},
     "output_type": "display_data"
    },
    {
     "data": {
      "text/html": [
       "\n",
       "<span style=\"font-family:Times New Roman; font-size:20pt\">\n",
       "    <hr>\n",
       "</hspan>"
      ],
      "text/plain": [
       "<IPython.core.display.HTML object>"
      ]
     },
     "metadata": {},
     "output_type": "display_data"
    },
    {
     "name": "stdout",
     "output_type": "stream",
     "text": [
      "112656 ('Deuteronomy', 33, 28)\n"
     ]
    },
    {
     "data": {
      "text/html": [
       "\n",
       "<span style=\"font-family:Times New Roman; font-size:20pt\">\n",
       "    יַֽעַרְפוּ  | יַֽעַרְפוּ \n",
       "</hspan>"
      ],
      "text/plain": [
       "<IPython.core.display.HTML object>"
      ]
     },
     "metadata": {},
     "output_type": "display_data"
    },
    {
     "data": {
      "text/html": [
       "\n",
       "<span style=\"font-family:Times New Roman; font-size:20pt\">\n",
       "    &nbsp;&nbsp;&nbsp;&nbsp;JA45<AR:PW. \n",
       "</hspan>"
      ],
      "text/plain": [
       "<IPython.core.display.HTML object>"
      ]
     },
     "metadata": {},
     "output_type": "display_data"
    },
    {
     "data": {
      "text/html": [
       "\n",
       "<span style=\"font-family:Times New Roman; font-size:20pt\">\n",
       "    &nbsp;&nbsp;&nbsp;&nbsp;unknown\n",
       "</hspan>"
      ],
      "text/plain": [
       "<IPython.core.display.HTML object>"
      ]
     },
     "metadata": {},
     "output_type": "display_data"
    },
    {
     "data": {
      "text/html": [
       "\n",
       "<span style=\"font-family:Times New Roman; font-size:20pt\">\n",
       "    <hr>\n",
       "</hspan>"
      ],
      "text/plain": [
       "<IPython.core.display.HTML object>"
      ]
     },
     "metadata": {},
     "output_type": "display_data"
    },
    {
     "name": "stdout",
     "output_type": "stream",
     "text": [
      "130445 ('Judges', 6, 2)\n"
     ]
    },
    {
     "data": {
      "text/html": [
       "\n",
       "<span style=\"font-family:Times New Roman; font-size:20pt\">\n",
       "    עָשֽׂוּ  | עָשֽׂוּ \n",
       "</hspan>"
      ],
      "text/plain": [
       "<IPython.core.display.HTML object>"
      ]
     },
     "metadata": {},
     "output_type": "display_data"
    },
    {
     "data": {
      "text/html": [
       "\n",
       "<span style=\"font-family:Times New Roman; font-size:20pt\">\n",
       "    &nbsp;&nbsp;&nbsp;&nbsp;<@F45W. \n",
       "</hspan>"
      ],
      "text/plain": [
       "<IPython.core.display.HTML object>"
      ]
     },
     "metadata": {},
     "output_type": "display_data"
    },
    {
     "data": {
      "text/html": [
       "\n",
       "<span style=\"font-family:Times New Roman; font-size:20pt\">\n",
       "    &nbsp;&nbsp;&nbsp;&nbsp;unknown\n",
       "</hspan>"
      ],
      "text/plain": [
       "<IPython.core.display.HTML object>"
      ]
     },
     "metadata": {},
     "output_type": "display_data"
    },
    {
     "data": {
      "text/html": [
       "\n",
       "<span style=\"font-family:Times New Roman; font-size:20pt\">\n",
       "    <hr>\n",
       "</hspan>"
      ],
      "text/plain": [
       "<IPython.core.display.HTML object>"
      ]
     },
     "metadata": {},
     "output_type": "display_data"
    },
    {
     "name": "stdout",
     "output_type": "stream",
     "text": [
      "137795 ('Judges', 16, 25)\n"
     ]
    },
    {
     "data": {
      "text/html": [
       "\n",
       "<span style=\"font-family:Times New Roman; font-size:20pt\">\n",
       "    כְּ | כְּ\n",
       "</hspan>"
      ],
      "text/plain": [
       "<IPython.core.display.HTML object>"
      ]
     },
     "metadata": {},
     "output_type": "display_data"
    },
    {
     "data": {
      "text/html": [
       "\n",
       "<span style=\"font-family:Times New Roman; font-size:20pt\">\n",
       "    &nbsp;&nbsp;&nbsp;&nbsp;K.:\n",
       "</hspan>"
      ],
      "text/plain": [
       "<IPython.core.display.HTML object>"
      ]
     },
     "metadata": {},
     "output_type": "display_data"
    },
    {
     "data": {
      "text/html": [
       "\n",
       "<span style=\"font-family:Times New Roman; font-size:20pt\">\n",
       "    &nbsp;&nbsp;&nbsp;&nbsp;unknown\n",
       "</hspan>"
      ],
      "text/plain": [
       "<IPython.core.display.HTML object>"
      ]
     },
     "metadata": {},
     "output_type": "display_data"
    },
    {
     "data": {
      "text/html": [
       "\n",
       "<span style=\"font-family:Times New Roman; font-size:20pt\">\n",
       "    <hr>\n",
       "</hspan>"
      ],
      "text/plain": [
       "<IPython.core.display.HTML object>"
      ]
     },
     "metadata": {},
     "output_type": "display_data"
    }
   ],
   "source": [
    "show_accents(atype2set['unknown'][:25])"
   ]
  },
  {
   "cell_type": "markdown",
   "metadata": {},
   "source": [
    "### accent match types"
   ]
  },
  {
   "cell_type": "code",
   "execution_count": 12,
   "metadata": {},
   "outputs": [
    {
     "data": {
      "text/plain": [
       "[(('tiphchah',), 62516),\n",
       " (('munach',), 59426),\n",
       " (('mereka',), 53378),\n",
       " (('zaqeph qaton',), 41739),\n",
       " (('silluq',), 36480),\n",
       " (('atnach',), 34553),\n",
       " (('pashta',), 34346),\n",
       " (('mehuppak',), 19466),\n",
       " (('rebia',), 16542),\n",
       " (('tebir',), 12439),\n",
       " (('azla/qadma',), 11390),\n",
       " (('geresh',), 6566),\n",
       " (('darga',), 5228),\n",
       " (('rebia', 'rebia mugrash'), 4837),\n",
       " (('dechi',), 3829),\n",
       " (('gershayim',), 3273),\n",
       " (('telisha qetannah',), 3036),\n",
       " (('zaqeph gadol',), 3002),\n",
       " (('paseq',), 2650),\n",
       " (('telisha gedola',), 2108),\n",
       " (('zarqa',), 1698),\n",
       " (('segolta',), 1596),\n",
       " (('pazer qaton',), 1528),\n",
       " (('yetiv',), 1169),\n",
       " (('oleh weyored',), 550),\n",
       " (('paseq', 'azla legarmeh'), 443),\n",
       " (('yerah',), 364),\n",
       " (('paseq', 'mehuppak legarmeh'), 354),\n",
       " (('illuy',), 257),\n",
       " (('tsinor',), 227),\n",
       " (('pazer',), 133),\n",
       " (('paseq', 'shalshelet gedolah'), 51),\n",
       " (('qarney parah',), 31),\n",
       " (('mehuppak', 'azla/qadma'), 19),\n",
       " (('atnach', 'tiphchah'), 18),\n",
       " (('silluq', 'tiphchah'), 18),\n",
       " (('munach', 'mereka'), 18),\n",
       " (('paseq', 'mehuppak legarmeh', 'azla legarmeh'), 17),\n",
       " (('mereka', 'azla/qadma'), 16),\n",
       " (('paseq', 'shalshelet'), 15),\n",
       " (('merekah kefula',), 14),\n",
       " (('silluq', 'rebia'), 13),\n",
       " (('paseq', 'pashta'), 11),\n",
       " (('mereka', 'mehuppak'), 11),\n",
       " (('munach', 'mehuppak'), 10),\n",
       " (('atnach', 'silluq'), 9),\n",
       " (('zaqeph qaton', 'pazer qaton'), 9),\n",
       " (('paseq', 'tiphchah'), 9),\n",
       " (('pashta', 'tiphchah'), 8),\n",
       " (('atnach', 'zaqeph qaton'), 7),\n",
       " (('zaqeph qaton', 'pashta'), 7),\n",
       " (('atnach', 'geresh'), 6),\n",
       " (('rebia', 'telisha gedola'), 6),\n",
       " (('paseq', 'tsinor'), 6),\n",
       " (('mereka', 'telisha qetannah'), 6),\n",
       " (('mehuppak', 'mereka'), 6),\n",
       " (('darga', 'azla/qadma'), 6),\n",
       " (('atnach', 'pashta'), 5),\n",
       " (('rebia', 'dechi'), 5),\n",
       " (('zaqeph qaton', 'tiphchah'), 5),\n",
       " (('paseq', 'zaqeph qaton'), 4),\n",
       " (('yetiv', 'tebir'), 4),\n",
       " (('geresh', 'tiphchah'), 4),\n",
       " (('silluq', 'segolta', 'yetiv'), 4),\n",
       " (('zaqeph qaton', 'geresh'), 4),\n",
       " (('silluq', 'zaqeph qaton'), 4),\n",
       " (('geresh', 'telisha gedola'), 4),\n",
       " (('paseq', 'atnach'), 4),\n",
       " (('munach', 'telisha qetannah'), 4),\n",
       " (('gershayim', 'telisha gedola'), 3),\n",
       " (('zaqeph qaton', 'rebia'), 3),\n",
       " (('zaqeph gadol', 'tiphchah'), 3),\n",
       " (('rebia', 'tsinor'), 3),\n",
       " (('zaqeph gadol', 'pashta'), 2),\n",
       " (('zarqa', 'tiphchah'), 2),\n",
       " (('atnach', 'segolta'), 2),\n",
       " (('zaqeph qaton', 'zarqa'), 2),\n",
       " (('atnach', 'rebia'), 2),\n",
       " (('geresh', 'pazer qaton'), 2),\n",
       " (('pashta', 'yetiv', 'geresh'), 2),\n",
       " (('rebia', 'gershayim'), 2),\n",
       " (('yetiv', 'geresh'), 2),\n",
       " (('munach', 'mereka', 'azla/qadma'), 2),\n",
       " (('munach', 'azla/qadma'), 2),\n",
       " (('munach', 'mehuppak', 'mereka'), 2),\n",
       " (('azla/qadma', 'telisha qetannah'), 2),\n",
       " (('darga', 'telisha qetannah'), 2),\n",
       " (('yerah', 'mehuppak'), 2),\n",
       " (('munach', 'darga'), 2),\n",
       " (('zaqeph qaton', 'yetiv'), 1),\n",
       " (('paseq', 'pazer'), 1)]"
      ]
     },
     "execution_count": 12,
     "metadata": {},
     "output_type": "execute_result"
    }
   ],
   "source": [
    "mtypes = collections.Counter()\n",
    "\n",
    "for kind, matches in atype2name2set.items():\n",
    "    for match, wset in matches.items():\n",
    "        mtypes[match] += len(wset)\n",
    "        \n",
    "mtypes.most_common()"
   ]
  },
  {
   "cell_type": "code",
   "execution_count": 11,
   "metadata": {},
   "outputs": [],
   "source": [
    "# A.show(atype2name2set['disjunct'][('paseq', 'mehuppak legarmeh', 'azla legarmeh')], withNodes=True, end=10)"
   ]
  },
  {
   "cell_type": "code",
   "execution_count": 31,
   "metadata": {},
   "outputs": [
    {
     "name": "stdout",
     "output_type": "stream",
     "text": [
      "  1.56s 3785 results\n"
     ]
    },
    {
     "data": {
      "text/html": [
       "<table>\n",
       "<tr class=\"tf\">\n",
       "  <th class=\"tf\">n</th><th class=\"tf\">p</th>\n",
       "  <th class=\"tf\">phrase_atom</th><th>word</th><th>word</th><th>word</th>\n",
       "</tr>\n",
       "\n",
       "<tr class=\"tf\"><td class=\"tf\">1</td><td class=\"tf\"> <a href=\"https://shebanq.ancient-data.org/hebrew/text?book=Genesis&amp;chapter=1&amp;verse=2&amp;version=c&amp;mr=m&amp;qw=q&amp;tp=txt_p&amp;tr=hb&amp;wget=v&amp;qget=v&amp;nget=vt\" title=\"show this passage in SHEBANQ\" sec=\"Genesis 1:2\">Genesis 1:2</a></td><td class=\"tf\"><span class=\"hb\"><a href=\"https://shebanq.ancient-data.org/hebrew/text?book=Genesis&amp;chapter=1&amp;verse=2&amp;version=c&amp;mr=m&amp;qw=q&amp;tp=txt_p&amp;tr=hb&amp;wget=v&amp;qget=v&amp;nget=vt\" title=\"Genesis 1:2\" sec=\"Genesis 1:2\"><span  class=\"hl hlup\" >תֹ֨הוּ֙ </span><span  class=\"hl hlup\" >וָ</span><span  class=\"hl hlup\" >בֹ֔הוּ </span></a></span> <i>904756</i> </td><td class=\"tf\"><span class=\"hb\"><span  class=\"hl hlup\" >תֹ֨הוּ֙ </span></span> <i>16</i> </td><td class=\"tf\"><span class=\"hb\"><span  class=\"hl hlup\" >וָ</span></span> <i>17</i> </td><td class=\"tf\"><span class=\"hb\"><span  class=\"hl hlup\" >בֹ֔הוּ </span></span> <i>18</i> </td></tr>\n",
       "<tr class=\"tf\"><td class=\"tf\">2</td><td class=\"tf\"> <a href=\"https://shebanq.ancient-data.org/hebrew/text?book=Genesis&amp;chapter=1&amp;verse=4&amp;version=c&amp;mr=m&amp;qw=q&amp;tp=txt_p&amp;tr=hb&amp;wget=v&amp;qget=v&amp;nget=vt\" title=\"show this passage in SHEBANQ\" sec=\"Genesis 1:4\">Genesis 1:4</a></td><td class=\"tf\"><span class=\"hb\"><a href=\"https://shebanq.ancient-data.org/hebrew/text?book=Genesis&amp;chapter=1&amp;verse=4&amp;version=c&amp;mr=m&amp;qw=q&amp;tp=txt_p&amp;tr=hb&amp;wget=v&amp;qget=v&amp;nget=vt\" title=\"Genesis 1:4\" sec=\"Genesis 1:4\"><span  class=\"hlup\" >בֵּ֥ין </span><span  class=\"hlup\" >הָ</span><span  class=\"hl hlup\" >אֹ֖ור </span><span  class=\"hl hlup\" >וּ</span><span  class=\"hl hlup\" >בֵ֥ין </span><span  class=\"hlup\" >הַ</span><span  class=\"hlup\" >חֹֽשֶׁךְ׃ </span></a></span> <i>904781</i> </td><td class=\"tf\"><span class=\"hb\"><span  class=\"hl hlup\" >אֹ֖ור </span></span> <i>53</i> </td><td class=\"tf\"><span class=\"hb\"><span  class=\"hl hlup\" >וּ</span></span> <i>54</i> </td><td class=\"tf\"><span class=\"hb\"><span  class=\"hl hlup\" >בֵ֥ין </span></span> <i>55</i> </td></tr></table>"
      ],
      "text/plain": [
       "<IPython.core.display.HTML object>"
      ]
     },
     "metadata": {},
     "output_type": "display_data"
    }
   ],
   "source": [
    "A.table(A.search('''\n",
    "\n",
    "phrase_atom\n",
    "    word sp=subs\n",
    "    <: word sp=conj\n",
    "    <: word sp=subs\n",
    "\n",
    "''')[:2], withNodes=True)"
   ]
  },
  {
   "cell_type": "markdown",
   "metadata": {},
   "source": [
    "### Conjunction Pairs"
   ]
  },
  {
   "cell_type": "code",
   "execution_count": 5,
   "metadata": {},
   "outputs": [],
   "source": [
    "M = Mom(53, A, quants=wsets.quants, preps=wsets.preps, noms=wsets.nominals)"
   ]
  },
  {
   "cell_type": "code",
   "execution_count": 9,
   "metadata": {},
   "outputs": [
    {
     "name": "stdout",
     "output_type": "stream",
     "text": [
      "node 55\n",
      "\tP(0) not in preps                              True\n",
      "\tP(1,'sp') == 'conj'                            True\n",
      "\tP(2,'sp') in nominals                          True\n",
      "\tP(2) not in preps                             False\n",
      "node 56\n",
      "\tP(0) not in preps                              True\n",
      "\tP(1,'sp') == 'conj'                            True\n",
      "\tP(2,'sp') == 'art'                            False\n",
      "node 56\n",
      "\tP(1,'sp') == 'conj'                            True\n",
      "\tP(2) in preps                                  True\n",
      "\tP(3,'sp') in nominals                         False\n",
      "\tP(-1) in preps                                False\n",
      "node 57\n",
      "\tP(1,'sp') == 'conj'                            True\n",
      "\tP(2) in preps                                  True\n",
      "\tP(3,'sp') == 'art'                             True\n",
      "\tP(-1,'sp') == 'art'                            True\n",
      "\tP(-2) in preps                                 True\n"
     ]
    }
   ],
   "source": [
    "showconds(M.explain['coord'])"
   ]
  },
  {
   "cell_type": "code",
   "execution_count": 10,
   "metadata": {},
   "outputs": [],
   "source": [
    "conjpairs = wsets.conjs.pairs\n",
    "cpairresults = wsets.conjs.pairresults"
   ]
  },
  {
   "cell_type": "markdown",
   "metadata": {},
   "source": [
    "#### Random Inspections"
   ]
  },
  {
   "cell_type": "code",
   "execution_count": 12,
   "metadata": {},
   "outputs": [
    {
     "data": {
      "text/plain": [
       "{'>B/',\n",
       " '>BNR/',\n",
       " '>CH/',\n",
       " '>JC/',\n",
       " '>LHJM/',\n",
       " '>NJ',\n",
       " '>TH',\n",
       " '>X/',\n",
       " 'BHMH/',\n",
       " 'BJN[',\n",
       " 'BJT/',\n",
       " 'BN/',\n",
       " 'C>WL=/',\n",
       " 'CBV/',\n",
       " 'DBR/',\n",
       " 'DM/',\n",
       " 'DWD==/',\n",
       " 'FR>YR/',\n",
       " 'GBR/',\n",
       " 'GBWR/',\n",
       " 'GR/',\n",
       " 'HMH',\n",
       " 'HW>',\n",
       " 'JFR>LJ/',\n",
       " 'JLD/',\n",
       " 'JRWCLM/',\n",
       " 'JW>B/',\n",
       " 'JWQJM/',\n",
       " 'KHN/',\n",
       " 'KL/',\n",
       " 'KLJ/',\n",
       " 'LB/',\n",
       " 'MCPXH/',\n",
       " 'MLK/',\n",
       " 'N<R/',\n",
       " 'NBJ>/',\n",
       " 'NXLH/',\n",
       " 'QWL/',\n",
       " 'R<=/',\n",
       " 'RGM_MLK/',\n",
       " 'RJB/',\n",
       " 'RXB=====/',\n",
       " 'VP/',\n",
       " 'XJL/',\n",
       " 'XM=/',\n",
       " 'YWB>/'}"
      ]
     },
     "execution_count": 12,
     "metadata": {},
     "output_type": "execute_result"
    }
   ],
   "source": [
    "conjpairs['>JC/']"
   ]
  },
  {
   "cell_type": "code",
   "execution_count": 14,
   "metadata": {},
   "outputs": [
    {
     "data": {
      "text/html": [
       "<p><b>result</b> <i>1</i></p>"
      ],
      "text/plain": [
       "<IPython.core.display.HTML object>"
      ]
     },
     "metadata": {},
     "output_type": "display_data"
    },
    {
     "data": {
      "text/html": [
       "<div class=\"verse  \" >\n",
       "\n",
       "    <div class=\"vl\">\n",
       "        <div class=\"vrs\"><a href=\"https://shebanq.ancient-data.org/hebrew/text?book=Samuel_I&amp;chapter=16&amp;verse=18&amp;version=c&amp;mr=m&amp;qw=q&amp;tp=txt_p&amp;tr=hb&amp;wget=v&amp;qget=v&amp;nget=vt\" title=\"show this passage in SHEBANQ\" sec=\"1_Samuel 16:18\">1_Samuel 16:18</a></div>\n",
       "        <a href=\"#\" class=\"nd\">1421883</a>\n",
       "    </div>\n",
       "\n",
       "<div class=\"satom  \" >\n",
       "\n",
       "    <div class=\"sentence \" >\n",
       "        <a href=\"https://shebanq.ancient-data.org/hebrew/text?book=Samuel_I&amp;chapter=16&amp;verse=18&amp;version=c&amp;mr=m&amp;qw=q&amp;tp=txt_p&amp;tr=hb&amp;wget=v&amp;qget=v&amp;nget=vt\" title=\"1_Samuel 16:18\" sec=\"1_Samuel 16:18\">sentence</a> <a href=\"#\" class=\"nd\">1192771</a>  <span class=\"number\">83|1528</span>\n",
       "    </div>\n",
       "    <div class=\"atoms\">\n",
       "\n",
       "<div class=\"catom  \" >\n",
       "\n",
       "    <div class=\"clause \" >\n",
       "        <a href=\"https://shebanq.ancient-data.org/hebrew/text?book=Samuel_I&amp;chapter=16&amp;verse=18&amp;version=c&amp;mr=m&amp;qw=q&amp;tp=txt_p&amp;tr=hb&amp;wget=v&amp;qget=v&amp;nget=vt\" title=\"1_Samuel 16:18\" sec=\"1_Samuel 16:18\">clause</a> <a href=\"#\" class=\"nd\">455880</a>  <span class=\"typ\">WayX</span>\n",
       "    </div>\n",
       "    <div class=\"atoms\">\n",
       "\n",
       "<div class=\"patom  \" >\n",
       "\n",
       "    <div class=\"phrase \" >\n",
       "        <a href=\"https://shebanq.ancient-data.org/hebrew/text?book=Samuel_I&amp;chapter=16&amp;verse=18&amp;version=c&amp;mr=m&amp;qw=q&amp;tp=txt_p&amp;tr=hb&amp;wget=v&amp;qget=v&amp;nget=vt\" title=\"1_Samuel 16:18\" sec=\"1_Samuel 16:18\">phrase</a> <a href=\"#\" class=\"nd\">737452</a>  <span class=\"function\">Conj</span> <span class=\"typ\">CP</span>\n",
       "    </div>\n",
       "    <div class=\"atoms\">\n",
       "\n",
       "<div class=\"word  \" >\n",
       "<a href=\"#\" class=\"nd\">150649</a>\n",
       "<div class=\"h\"><a target=\"_blank\" href=\"https://shebanq.ancient-data.org/hebrew/word?version=c&amp;id=1W\" title=\"show this lexeme in SHEBANQ\">וַ</a></div>\n",
       "<div class=\"features\"> <span class=\"pdp\"><a href=\"https://shebanq.ancient-data.org/hebrew/text?book=Samuel_I&amp;chapter=16&amp;verse=18&amp;version=c&amp;mr=m&amp;qw=q&amp;tp=txt_p&amp;tr=hb&amp;wget=v&amp;qget=v&amp;nget=vt\" title=\"1_Samuel 16:18\" sec=\"1_Samuel 16:18\">conj</a></span> <span class=\"gloss\">and</span></div>\n",
       "\n",
       "\n",
       "</div>\n",
       "\n",
       "\n",
       "    </div>\n",
       "\n",
       "\n",
       "</div>\n",
       "\n",
       "<div class=\"patom  \" >\n",
       "\n",
       "    <div class=\"phrase \" >\n",
       "        <a href=\"https://shebanq.ancient-data.org/hebrew/text?book=Samuel_I&amp;chapter=16&amp;verse=18&amp;version=c&amp;mr=m&amp;qw=q&amp;tp=txt_p&amp;tr=hb&amp;wget=v&amp;qget=v&amp;nget=vt\" title=\"1_Samuel 16:18\" sec=\"1_Samuel 16:18\">phrase</a> <a href=\"#\" class=\"nd\">737453</a>  <span class=\"function\">Pred</span> <span class=\"typ\">VP</span>\n",
       "    </div>\n",
       "    <div class=\"atoms\">\n",
       "\n",
       "<div class=\"word  \" >\n",
       "<a href=\"#\" class=\"nd\">150650</a>\n",
       "<div class=\"h\"><a target=\"_blank\" href=\"https://shebanq.ancient-data.org/hebrew/word?version=c&amp;id=1ONHv\" title=\"show this lexeme in SHEBANQ\">יַּעַן֩ </a></div>\n",
       "<div class=\"features\"> <span class=\"pdp\"><a href=\"https://shebanq.ancient-data.org/hebrew/text?book=Samuel_I&amp;chapter=16&amp;verse=18&amp;version=c&amp;mr=m&amp;qw=q&amp;tp=txt_p&amp;tr=hb&amp;wget=v&amp;qget=v&amp;nget=vt\" title=\"1_Samuel 16:18\" sec=\"1_Samuel 16:18\">verb</a></span> <span class=\"gloss\">answer</span> <span class=\"vs\">qal</span> <span class=\"vt\">wayq</span></div>\n",
       "\n",
       "\n",
       "</div>\n",
       "\n",
       "\n",
       "    </div>\n",
       "\n",
       "\n",
       "</div>\n",
       "\n",
       "<div class=\"patom  l \" >\n",
       "\n",
       "    <div class=\"phrase \" >\n",
       "        <a href=\"https://shebanq.ancient-data.org/hebrew/text?book=Samuel_I&amp;chapter=16&amp;verse=18&amp;version=c&amp;mr=m&amp;qw=q&amp;tp=txt_p&amp;tr=hb&amp;wget=v&amp;qget=v&amp;nget=vt\" title=\"1_Samuel 16:18\" sec=\"1_Samuel 16:18\">phrase</a> <a href=\"#\" class=\"nd\">737454</a>  <span class=\"function\">Subj</span> <span class=\"typ\">NP</span>\n",
       "    </div>\n",
       "    <div class=\"atoms\">\n",
       "\n",
       "<div class=\"word  \" >\n",
       "<a href=\"#\" class=\"nd\">150651</a>\n",
       "<div class=\"h\"><a target=\"_blank\" href=\"https://shebanq.ancient-data.org/hebrew/word?version=c&amp;id=1AXDn\" title=\"show this lexeme in SHEBANQ\">אֶחָ֨ד </a></div>\n",
       "<div class=\"features\"> <span class=\"pdp\"><a href=\"https://shebanq.ancient-data.org/hebrew/text?book=Samuel_I&amp;chapter=16&amp;verse=18&amp;version=c&amp;mr=m&amp;qw=q&amp;tp=txt_p&amp;tr=hb&amp;wget=v&amp;qget=v&amp;nget=vt\" title=\"1_Samuel 16:18\" sec=\"1_Samuel 16:18\">subs</a></span> <span class=\"gloss\">one</span></div>\n",
       "\n",
       "\n",
       "</div>\n",
       "\n",
       "\n",
       "    </div>\n",
       "\n",
       "\n",
       "</div>\n",
       "\n",
       "<div class=\"patom  r \" >\n",
       "\n",
       "    <div class=\"phrase \" >\n",
       "        <a href=\"https://shebanq.ancient-data.org/hebrew/text?book=Samuel_I&amp;chapter=16&amp;verse=18&amp;version=c&amp;mr=m&amp;qw=q&amp;tp=txt_p&amp;tr=hb&amp;wget=v&amp;qget=v&amp;nget=vt\" title=\"1_Samuel 16:18\" sec=\"1_Samuel 16:18\">phrase</a> <a href=\"#\" class=\"nd\">737454</a>  <span class=\"function\">Subj</span> <span class=\"typ\">NP|PP</span>\n",
       "    </div>\n",
       "    <div class=\"atoms\">\n",
       "\n",
       "<div class=\"word  \" >\n",
       "<a href=\"#\" class=\"nd\">150652</a>\n",
       "<div class=\"h\"><a target=\"_blank\" href=\"https://shebanq.ancient-data.org/hebrew/word?version=c&amp;id=1MN\" title=\"show this lexeme in SHEBANQ\">מֵ</a></div>\n",
       "<div class=\"features\"> <span class=\"pdp\"><a href=\"https://shebanq.ancient-data.org/hebrew/text?book=Samuel_I&amp;chapter=16&amp;verse=18&amp;version=c&amp;mr=m&amp;qw=q&amp;tp=txt_p&amp;tr=hb&amp;wget=v&amp;qget=v&amp;nget=vt\" title=\"1_Samuel 16:18\" sec=\"1_Samuel 16:18\">prep</a></span> <span class=\"gloss\">from</span></div>\n",
       "\n",
       "\n",
       "</div>\n",
       "\n",
       "<div class=\"word  \" >\n",
       "<a href=\"#\" class=\"nd\">150653</a>\n",
       "<div class=\"h\"><a target=\"_blank\" href=\"https://shebanq.ancient-data.org/hebrew/word?version=c&amp;id=1H\" title=\"show this lexeme in SHEBANQ\">הַ</a></div>\n",
       "<div class=\"features\"> <span class=\"pdp\"><a href=\"https://shebanq.ancient-data.org/hebrew/text?book=Samuel_I&amp;chapter=16&amp;verse=18&amp;version=c&amp;mr=m&amp;qw=q&amp;tp=txt_p&amp;tr=hb&amp;wget=v&amp;qget=v&amp;nget=vt\" title=\"1_Samuel 16:18\" sec=\"1_Samuel 16:18\">art</a></span> <span class=\"gloss\">the</span></div>\n",
       "\n",
       "\n",
       "</div>\n",
       "\n",
       "<div class=\"word  \" >\n",
       "<a href=\"#\" class=\"nd\">150654</a>\n",
       "<div class=\"h\"><a target=\"_blank\" href=\"https://shebanq.ancient-data.org/hebrew/word?version=c&amp;id=1NORn\" title=\"show this lexeme in SHEBANQ\">נְּעָרִ֜ים </a></div>\n",
       "<div class=\"features\"> <span class=\"pdp\"><a href=\"https://shebanq.ancient-data.org/hebrew/text?book=Samuel_I&amp;chapter=16&amp;verse=18&amp;version=c&amp;mr=m&amp;qw=q&amp;tp=txt_p&amp;tr=hb&amp;wget=v&amp;qget=v&amp;nget=vt\" title=\"1_Samuel 16:18\" sec=\"1_Samuel 16:18\">subs</a></span> <span class=\"gloss\">boy</span></div>\n",
       "\n",
       "\n",
       "</div>\n",
       "\n",
       "\n",
       "    </div>\n",
       "\n",
       "\n",
       "</div>\n",
       "\n",
       "\n",
       "    </div>\n",
       "\n",
       "\n",
       "</div>\n",
       "\n",
       "\n",
       "    </div>\n",
       "\n",
       "\n",
       "</div>\n",
       "\n",
       "<div class=\"satom  \" >\n",
       "\n",
       "    <div class=\"sentence \" >\n",
       "        <a href=\"https://shebanq.ancient-data.org/hebrew/text?book=Samuel_I&amp;chapter=16&amp;verse=18&amp;version=c&amp;mr=m&amp;qw=q&amp;tp=txt_p&amp;tr=hb&amp;wget=v&amp;qget=v&amp;nget=vt\" title=\"1_Samuel 16:18\" sec=\"1_Samuel 16:18\">sentence</a> <a href=\"#\" class=\"nd\">1192772</a>  <span class=\"number\">84|1529</span>\n",
       "    </div>\n",
       "    <div class=\"atoms\">\n",
       "\n",
       "<div class=\"catom  \" >\n",
       "\n",
       "    <div class=\"clause \" >\n",
       "        <a href=\"https://shebanq.ancient-data.org/hebrew/text?book=Samuel_I&amp;chapter=16&amp;verse=18&amp;version=c&amp;mr=m&amp;qw=q&amp;tp=txt_p&amp;tr=hb&amp;wget=v&amp;qget=v&amp;nget=vt\" title=\"1_Samuel 16:18\" sec=\"1_Samuel 16:18\">clause</a> <a href=\"#\" class=\"nd\">455881</a>  <span class=\"typ\">Way0</span>\n",
       "    </div>\n",
       "    <div class=\"atoms\">\n",
       "\n",
       "<div class=\"patom  \" >\n",
       "\n",
       "    <div class=\"phrase \" >\n",
       "        <a href=\"https://shebanq.ancient-data.org/hebrew/text?book=Samuel_I&amp;chapter=16&amp;verse=18&amp;version=c&amp;mr=m&amp;qw=q&amp;tp=txt_p&amp;tr=hb&amp;wget=v&amp;qget=v&amp;nget=vt\" title=\"1_Samuel 16:18\" sec=\"1_Samuel 16:18\">phrase</a> <a href=\"#\" class=\"nd\">737455</a>  <span class=\"function\">Conj</span> <span class=\"typ\">CP</span>\n",
       "    </div>\n",
       "    <div class=\"atoms\">\n",
       "\n",
       "<div class=\"word  \" >\n",
       "<a href=\"#\" class=\"nd\">150655</a>\n",
       "<div class=\"h\"><a target=\"_blank\" href=\"https://shebanq.ancient-data.org/hebrew/word?version=c&amp;id=1W\" title=\"show this lexeme in SHEBANQ\">וַ</a></div>\n",
       "<div class=\"features\"> <span class=\"pdp\"><a href=\"https://shebanq.ancient-data.org/hebrew/text?book=Samuel_I&amp;chapter=16&amp;verse=18&amp;version=c&amp;mr=m&amp;qw=q&amp;tp=txt_p&amp;tr=hb&amp;wget=v&amp;qget=v&amp;nget=vt\" title=\"1_Samuel 16:18\" sec=\"1_Samuel 16:18\">conj</a></span> <span class=\"gloss\">and</span></div>\n",
       "\n",
       "\n",
       "</div>\n",
       "\n",
       "\n",
       "    </div>\n",
       "\n",
       "\n",
       "</div>\n",
       "\n",
       "<div class=\"patom  \" >\n",
       "\n",
       "    <div class=\"phrase \" >\n",
       "        <a href=\"https://shebanq.ancient-data.org/hebrew/text?book=Samuel_I&amp;chapter=16&amp;verse=18&amp;version=c&amp;mr=m&amp;qw=q&amp;tp=txt_p&amp;tr=hb&amp;wget=v&amp;qget=v&amp;nget=vt\" title=\"1_Samuel 16:18\" sec=\"1_Samuel 16:18\">phrase</a> <a href=\"#\" class=\"nd\">737456</a>  <span class=\"function\">Pred</span> <span class=\"typ\">VP</span>\n",
       "    </div>\n",
       "    <div class=\"atoms\">\n",
       "\n",
       "<div class=\"word  \" >\n",
       "<a href=\"#\" class=\"nd\">150656</a>\n",
       "<div class=\"h\"><a target=\"_blank\" href=\"https://shebanq.ancient-data.org/hebrew/word?version=c&amp;id=1AMRv\" title=\"show this lexeme in SHEBANQ\">יֹּ֗אמֶר </a></div>\n",
       "<div class=\"features\"> <span class=\"pdp\"><a href=\"https://shebanq.ancient-data.org/hebrew/text?book=Samuel_I&amp;chapter=16&amp;verse=18&amp;version=c&amp;mr=m&amp;qw=q&amp;tp=txt_p&amp;tr=hb&amp;wget=v&amp;qget=v&amp;nget=vt\" title=\"1_Samuel 16:18\" sec=\"1_Samuel 16:18\">verb</a></span> <span class=\"gloss\">say</span> <span class=\"vs\">qal</span> <span class=\"vt\">wayq</span></div>\n",
       "\n",
       "\n",
       "</div>\n",
       "\n",
       "\n",
       "    </div>\n",
       "\n",
       "\n",
       "</div>\n",
       "\n",
       "\n",
       "    </div>\n",
       "\n",
       "\n",
       "</div>\n",
       "\n",
       "\n",
       "    </div>\n",
       "\n",
       "\n",
       "</div>\n",
       "\n",
       "<div class=\"satom  \" >\n",
       "\n",
       "    <div class=\"sentence \" >\n",
       "        <a href=\"https://shebanq.ancient-data.org/hebrew/text?book=Samuel_I&amp;chapter=16&amp;verse=18&amp;version=c&amp;mr=m&amp;qw=q&amp;tp=txt_p&amp;tr=hb&amp;wget=v&amp;qget=v&amp;nget=vt\" title=\"1_Samuel 16:18\" sec=\"1_Samuel 16:18\">sentence</a> <a href=\"#\" class=\"nd\">1192773</a>  <span class=\"number\">85|1530</span>\n",
       "    </div>\n",
       "    <div class=\"atoms\">\n",
       "\n",
       "<div class=\"catom  \" >\n",
       "\n",
       "    <div class=\"clause \" >\n",
       "        <a href=\"https://shebanq.ancient-data.org/hebrew/text?book=Samuel_I&amp;chapter=16&amp;verse=18&amp;version=c&amp;mr=m&amp;qw=q&amp;tp=txt_p&amp;tr=hb&amp;wget=v&amp;qget=v&amp;nget=vt\" title=\"1_Samuel 16:18\" sec=\"1_Samuel 16:18\">clause</a> <a href=\"#\" class=\"nd\">455882</a>  <span class=\"typ\">MSyn</span>\n",
       "    </div>\n",
       "    <div class=\"atoms\">\n",
       "\n",
       "<div class=\"patom  \" >\n",
       "\n",
       "    <div class=\"phrase \" >\n",
       "        <a href=\"https://shebanq.ancient-data.org/hebrew/text?book=Samuel_I&amp;chapter=16&amp;verse=18&amp;version=c&amp;mr=m&amp;qw=q&amp;tp=txt_p&amp;tr=hb&amp;wget=v&amp;qget=v&amp;nget=vt\" title=\"1_Samuel 16:18\" sec=\"1_Samuel 16:18\">phrase</a> <a href=\"#\" class=\"nd\">737457</a>  <span class=\"function\">Intj</span> <span class=\"typ\">InjP</span>\n",
       "    </div>\n",
       "    <div class=\"atoms\">\n",
       "\n",
       "<div class=\"word  \" >\n",
       "<a href=\"#\" class=\"nd\">150657</a>\n",
       "<div class=\"h\"><a target=\"_blank\" href=\"https://shebanq.ancient-data.org/hebrew/word?version=c&amp;id=1HNH\" title=\"show this lexeme in SHEBANQ\">הִנֵּ֨ה </a></div>\n",
       "<div class=\"features\"> <span class=\"pdp\"><a href=\"https://shebanq.ancient-data.org/hebrew/text?book=Samuel_I&amp;chapter=16&amp;verse=18&amp;version=c&amp;mr=m&amp;qw=q&amp;tp=txt_p&amp;tr=hb&amp;wget=v&amp;qget=v&amp;nget=vt\" title=\"1_Samuel 16:18\" sec=\"1_Samuel 16:18\">intj</a></span> <span class=\"gloss\">behold</span></div>\n",
       "\n",
       "\n",
       "</div>\n",
       "\n",
       "\n",
       "    </div>\n",
       "\n",
       "\n",
       "</div>\n",
       "\n",
       "\n",
       "    </div>\n",
       "\n",
       "\n",
       "</div>\n",
       "\n",
       "\n",
       "    </div>\n",
       "\n",
       "\n",
       "</div>\n",
       "\n",
       "<div class=\"satom  \" >\n",
       "\n",
       "    <div class=\"sentence \" >\n",
       "        <a href=\"https://shebanq.ancient-data.org/hebrew/text?book=Samuel_I&amp;chapter=16&amp;verse=18&amp;version=c&amp;mr=m&amp;qw=q&amp;tp=txt_p&amp;tr=hb&amp;wget=v&amp;qget=v&amp;nget=vt\" title=\"1_Samuel 16:18\" sec=\"1_Samuel 16:18\">sentence</a> <a href=\"#\" class=\"nd\">1192774</a>  <span class=\"number\">86|1531</span>\n",
       "    </div>\n",
       "    <div class=\"atoms\">\n",
       "\n",
       "<div class=\"catom  \" >\n",
       "\n",
       "    <div class=\"clause \" >\n",
       "        <a href=\"https://shebanq.ancient-data.org/hebrew/text?book=Samuel_I&amp;chapter=16&amp;verse=18&amp;version=c&amp;mr=m&amp;qw=q&amp;tp=txt_p&amp;tr=hb&amp;wget=v&amp;qget=v&amp;nget=vt\" title=\"1_Samuel 16:18\" sec=\"1_Samuel 16:18\">clause</a> <a href=\"#\" class=\"nd\">455883</a>  <span class=\"typ\">ZQt0</span>\n",
       "    </div>\n",
       "    <div class=\"atoms\">\n",
       "\n",
       "<div class=\"patom  \" >\n",
       "\n",
       "    <div class=\"phrase \" >\n",
       "        <a href=\"https://shebanq.ancient-data.org/hebrew/text?book=Samuel_I&amp;chapter=16&amp;verse=18&amp;version=c&amp;mr=m&amp;qw=q&amp;tp=txt_p&amp;tr=hb&amp;wget=v&amp;qget=v&amp;nget=vt\" title=\"1_Samuel 16:18\" sec=\"1_Samuel 16:18\">phrase</a> <a href=\"#\" class=\"nd\">737458</a>  <span class=\"function\">Pred</span> <span class=\"typ\">VP</span>\n",
       "    </div>\n",
       "    <div class=\"atoms\">\n",
       "\n",
       "<div class=\"word  \" >\n",
       "<a href=\"#\" class=\"nd\">150658</a>\n",
       "<div class=\"h\"><a target=\"_blank\" href=\"https://shebanq.ancient-data.org/hebrew/word?version=c&amp;id=1RAHv\" title=\"show this lexeme in SHEBANQ\">רָאִ֜יתִי </a></div>\n",
       "<div class=\"features\"> <span class=\"pdp\"><a href=\"https://shebanq.ancient-data.org/hebrew/text?book=Samuel_I&amp;chapter=16&amp;verse=18&amp;version=c&amp;mr=m&amp;qw=q&amp;tp=txt_p&amp;tr=hb&amp;wget=v&amp;qget=v&amp;nget=vt\" title=\"1_Samuel 16:18\" sec=\"1_Samuel 16:18\">verb</a></span> <span class=\"gloss\">see</span> <span class=\"vs\">qal</span> <span class=\"vt\">perf</span></div>\n",
       "\n",
       "\n",
       "</div>\n",
       "\n",
       "\n",
       "    </div>\n",
       "\n",
       "\n",
       "</div>\n",
       "\n",
       "<div class=\"patom  l \" >\n",
       "\n",
       "    <div class=\"phrase \" >\n",
       "        <a href=\"https://shebanq.ancient-data.org/hebrew/text?book=Samuel_I&amp;chapter=16&amp;verse=18&amp;version=c&amp;mr=m&amp;qw=q&amp;tp=txt_p&amp;tr=hb&amp;wget=v&amp;qget=v&amp;nget=vt\" title=\"1_Samuel 16:18\" sec=\"1_Samuel 16:18\">phrase</a> <a href=\"#\" class=\"nd\">737459</a>  <span class=\"function\">Objc</span> <span class=\"typ\">NP</span>\n",
       "    </div>\n",
       "    <div class=\"atoms\">\n",
       "\n",
       "<div class=\"word  \" >\n",
       "<a href=\"#\" class=\"nd\">150659</a>\n",
       "<div class=\"h\"><a target=\"_blank\" href=\"https://shebanq.ancient-data.org/hebrew/word?version=c&amp;id=1BNn\" title=\"show this lexeme in SHEBANQ\">בֵּ֣ן </a></div>\n",
       "<div class=\"features\"> <span class=\"pdp\"><a href=\"https://shebanq.ancient-data.org/hebrew/text?book=Samuel_I&amp;chapter=16&amp;verse=18&amp;version=c&amp;mr=m&amp;qw=q&amp;tp=txt_p&amp;tr=hb&amp;wget=v&amp;qget=v&amp;nget=vt\" title=\"1_Samuel 16:18\" sec=\"1_Samuel 16:18\">subs</a></span> <span class=\"gloss\">son</span></div>\n",
       "\n",
       "\n",
       "</div>\n",
       "\n",
       "\n",
       "    </div>\n",
       "\n",
       "\n",
       "</div>\n",
       "\n",
       "<div class=\"patom  r l \" >\n",
       "\n",
       "    <div class=\"phrase \" >\n",
       "        <a href=\"https://shebanq.ancient-data.org/hebrew/text?book=Samuel_I&amp;chapter=16&amp;verse=18&amp;version=c&amp;mr=m&amp;qw=q&amp;tp=txt_p&amp;tr=hb&amp;wget=v&amp;qget=v&amp;nget=vt\" title=\"1_Samuel 16:18\" sec=\"1_Samuel 16:18\">phrase</a> <a href=\"#\" class=\"nd\">737459</a>  <span class=\"function\">Objc</span> <span class=\"typ\">NP|PP</span>\n",
       "    </div>\n",
       "    <div class=\"atoms\">\n",
       "\n",
       "<div class=\"word  \" >\n",
       "<a href=\"#\" class=\"nd\">150660</a>\n",
       "<div class=\"h\"><a target=\"_blank\" href=\"https://shebanq.ancient-data.org/hebrew/word?version=c&amp;id=1L\" title=\"show this lexeme in SHEBANQ\">לְ</a></div>\n",
       "<div class=\"features\"> <span class=\"pdp\"><a href=\"https://shebanq.ancient-data.org/hebrew/text?book=Samuel_I&amp;chapter=16&amp;verse=18&amp;version=c&amp;mr=m&amp;qw=q&amp;tp=txt_p&amp;tr=hb&amp;wget=v&amp;qget=v&amp;nget=vt\" title=\"1_Samuel 16:18\" sec=\"1_Samuel 16:18\">prep</a></span> <span class=\"gloss\">to</span></div>\n",
       "\n",
       "\n",
       "</div>\n",
       "\n",
       "<div class=\"word  \" >\n",
       "<a href=\"#\" class=\"nd\">150661</a>\n",
       "<div class=\"h\"><a target=\"_blank\" href=\"https://shebanq.ancient-data.org/hebrew/word?version=c&amp;id=1JCJn\" title=\"show this lexeme in SHEBANQ\">יִשַׁי֮ </a></div>\n",
       "<div class=\"features\"> <span class=\"pdp\"><a href=\"https://shebanq.ancient-data.org/hebrew/text?book=Samuel_I&amp;chapter=16&amp;verse=18&amp;version=c&amp;mr=m&amp;qw=q&amp;tp=txt_p&amp;tr=hb&amp;wget=v&amp;qget=v&amp;nget=vt\" title=\"1_Samuel 16:18\" sec=\"1_Samuel 16:18\">nmpr</a></span> <span class=\"gloss\">Jesse</span></div>\n",
       "\n",
       "\n",
       "</div>\n",
       "\n",
       "\n",
       "    </div>\n",
       "\n",
       "\n",
       "</div>\n",
       "\n",
       "<div class=\"patom  r \" >\n",
       "\n",
       "    <div class=\"phrase \" >\n",
       "        <a href=\"https://shebanq.ancient-data.org/hebrew/text?book=Samuel_I&amp;chapter=16&amp;verse=18&amp;version=c&amp;mr=m&amp;qw=q&amp;tp=txt_p&amp;tr=hb&amp;wget=v&amp;qget=v&amp;nget=vt\" title=\"1_Samuel 16:18\" sec=\"1_Samuel 16:18\">phrase</a> <a href=\"#\" class=\"nd\">737459</a>  <span class=\"function\">Objc</span> <span class=\"typ\">NP</span>\n",
       "    </div>\n",
       "    <div class=\"atoms\">\n",
       "\n",
       "<div class=\"word  \" >\n",
       "<a href=\"#\" class=\"nd\">150662</a>\n",
       "<div class=\"h\"><a target=\"_blank\" href=\"https://shebanq.ancient-data.org/hebrew/word?version=c&amp;id=1BJTn\" title=\"show this lexeme in SHEBANQ\">בֵּ֣ית </a></div>\n",
       "<div class=\"features\"> <span class=\"pdp\"><a href=\"https://shebanq.ancient-data.org/hebrew/text?book=Samuel_I&amp;chapter=16&amp;verse=18&amp;version=c&amp;mr=m&amp;qw=q&amp;tp=txt_p&amp;tr=hb&amp;wget=v&amp;qget=v&amp;nget=vt\" title=\"1_Samuel 16:18\" sec=\"1_Samuel 16:18\">subs</a></span> <span class=\"gloss\">house</span></div>\n",
       "\n",
       "\n",
       "</div>\n",
       "\n",
       "<div class=\"word  \" >\n",
       "<a href=\"#\" class=\"nd\">150663</a>\n",
       "<div class=\"h\"><a target=\"_blank\" href=\"https://shebanq.ancient-data.org/hebrew/word?version=c&amp;id=1H\" title=\"show this lexeme in SHEBANQ\">הַ</a></div>\n",
       "<div class=\"features\"> <span class=\"pdp\"><a href=\"https://shebanq.ancient-data.org/hebrew/text?book=Samuel_I&amp;chapter=16&amp;verse=18&amp;version=c&amp;mr=m&amp;qw=q&amp;tp=txt_p&amp;tr=hb&amp;wget=v&amp;qget=v&amp;nget=vt\" title=\"1_Samuel 16:18\" sec=\"1_Samuel 16:18\">art</a></span> <span class=\"gloss\">the</span></div>\n",
       "\n",
       "\n",
       "</div>\n",
       "\n",
       "<div class=\"word  \" >\n",
       "<a href=\"#\" class=\"nd\">150664</a>\n",
       "<div class=\"h\"><a target=\"_blank\" href=\"https://shebanq.ancient-data.org/hebrew/word?version=c&amp;id=1LXMJn\" title=\"show this lexeme in SHEBANQ\">לַּחְמִי֒ </a></div>\n",
       "<div class=\"features\"> <span class=\"pdp\"><a href=\"https://shebanq.ancient-data.org/hebrew/text?book=Samuel_I&amp;chapter=16&amp;verse=18&amp;version=c&amp;mr=m&amp;qw=q&amp;tp=txt_p&amp;tr=hb&amp;wget=v&amp;qget=v&amp;nget=vt\" title=\"1_Samuel 16:18\" sec=\"1_Samuel 16:18\">subs</a></span> <span class=\"gloss\">-lehemite</span></div>\n",
       "\n",
       "\n",
       "</div>\n",
       "\n",
       "\n",
       "    </div>\n",
       "\n",
       "\n",
       "</div>\n",
       "\n",
       "\n",
       "    </div>\n",
       "\n",
       "\n",
       "</div>\n",
       "\n",
       "<div class=\"catom  \" >\n",
       "\n",
       "    <div class=\"clause \" >\n",
       "        <a href=\"https://shebanq.ancient-data.org/hebrew/text?book=Samuel_I&amp;chapter=16&amp;verse=18&amp;version=c&amp;mr=m&amp;qw=q&amp;tp=txt_p&amp;tr=hb&amp;wget=v&amp;qget=v&amp;nget=vt\" title=\"1_Samuel 16:18\" sec=\"1_Samuel 16:18\">clause</a> <a href=\"#\" class=\"nd\">455884</a>  <span class=\"rela\">Attr</span> <span class=\"typ\">Ptcp</span>\n",
       "    </div>\n",
       "    <div class=\"atoms\">\n",
       "\n",
       "<div class=\"patom  \" >\n",
       "\n",
       "    <div class=\"phrase \" >\n",
       "        <a href=\"https://shebanq.ancient-data.org/hebrew/text?book=Samuel_I&amp;chapter=16&amp;verse=18&amp;version=c&amp;mr=m&amp;qw=q&amp;tp=txt_p&amp;tr=hb&amp;wget=v&amp;qget=v&amp;nget=vt\" title=\"1_Samuel 16:18\" sec=\"1_Samuel 16:18\">phrase</a> <a href=\"#\" class=\"nd\">737460</a>  <span class=\"function\">PreC</span> <span class=\"typ\">VP</span>\n",
       "    </div>\n",
       "    <div class=\"atoms\">\n",
       "\n",
       "<div class=\"word  \" >\n",
       "<a href=\"#\" class=\"nd\">150665</a>\n",
       "<div class=\"h\"><a target=\"_blank\" href=\"https://shebanq.ancient-data.org/hebrew/word?version=c&amp;id=1JDOv\" title=\"show this lexeme in SHEBANQ\">יֹדֵ֣עַ </a></div>\n",
       "<div class=\"features\"> <span class=\"pdp\"><a href=\"https://shebanq.ancient-data.org/hebrew/text?book=Samuel_I&amp;chapter=16&amp;verse=18&amp;version=c&amp;mr=m&amp;qw=q&amp;tp=txt_p&amp;tr=hb&amp;wget=v&amp;qget=v&amp;nget=vt\" title=\"1_Samuel 16:18\" sec=\"1_Samuel 16:18\">verb</a></span> <span class=\"gloss\">know</span> <span class=\"vs\">qal</span> <span class=\"vt\">ptca</span></div>\n",
       "\n",
       "\n",
       "</div>\n",
       "\n",
       "\n",
       "    </div>\n",
       "\n",
       "\n",
       "</div>\n",
       "\n",
       "\n",
       "    </div>\n",
       "\n",
       "\n",
       "</div>\n",
       "\n",
       "<div class=\"catom  \" >\n",
       "\n",
       "    <div class=\"clause \" >\n",
       "        <a href=\"https://shebanq.ancient-data.org/hebrew/text?book=Samuel_I&amp;chapter=16&amp;verse=18&amp;version=c&amp;mr=m&amp;qw=q&amp;tp=txt_p&amp;tr=hb&amp;wget=v&amp;qget=v&amp;nget=vt\" title=\"1_Samuel 16:18\" sec=\"1_Samuel 16:18\">clause</a> <a href=\"#\" class=\"nd\">455885</a>  <span class=\"rela\">Objc</span> <span class=\"typ\">InfC</span>\n",
       "    </div>\n",
       "    <div class=\"atoms\">\n",
       "\n",
       "<div class=\"patom  \" >\n",
       "\n",
       "    <div class=\"phrase \" >\n",
       "        <a href=\"https://shebanq.ancient-data.org/hebrew/text?book=Samuel_I&amp;chapter=16&amp;verse=18&amp;version=c&amp;mr=m&amp;qw=q&amp;tp=txt_p&amp;tr=hb&amp;wget=v&amp;qget=v&amp;nget=vt\" title=\"1_Samuel 16:18\" sec=\"1_Samuel 16:18\">phrase</a> <a href=\"#\" class=\"nd\">737461</a>  <span class=\"function\">Pred</span> <span class=\"typ\">VP</span>\n",
       "    </div>\n",
       "    <div class=\"atoms\">\n",
       "\n",
       "<div class=\"word  \" >\n",
       "<a href=\"#\" class=\"nd\">150666</a>\n",
       "<div class=\"h\"><a target=\"_blank\" href=\"https://shebanq.ancient-data.org/hebrew/word?version=c&amp;id=1NGNv\" title=\"show this lexeme in SHEBANQ\">נַ֠גֵּן </a></div>\n",
       "<div class=\"features\"> <span class=\"pdp\"><a href=\"https://shebanq.ancient-data.org/hebrew/text?book=Samuel_I&amp;chapter=16&amp;verse=18&amp;version=c&amp;mr=m&amp;qw=q&amp;tp=txt_p&amp;tr=hb&amp;wget=v&amp;qget=v&amp;nget=vt\" title=\"1_Samuel 16:18\" sec=\"1_Samuel 16:18\">verb</a></span> <span class=\"gloss\">play harp</span> <span class=\"vs\">piel</span> <span class=\"vt\">infc</span></div>\n",
       "\n",
       "\n",
       "</div>\n",
       "\n",
       "\n",
       "    </div>\n",
       "\n",
       "\n",
       "</div>\n",
       "\n",
       "\n",
       "    </div>\n",
       "\n",
       "\n",
       "</div>\n",
       "\n",
       "<div class=\"catom  \" >\n",
       "\n",
       "    <div class=\"clause \" >\n",
       "        <a href=\"https://shebanq.ancient-data.org/hebrew/text?book=Samuel_I&amp;chapter=16&amp;verse=18&amp;version=c&amp;mr=m&amp;qw=q&amp;tp=txt_p&amp;tr=hb&amp;wget=v&amp;qget=v&amp;nget=vt\" title=\"1_Samuel 16:18\" sec=\"1_Samuel 16:18\">clause</a> <a href=\"#\" class=\"nd\">455886</a>  <span class=\"rela\">Coor</span> <span class=\"typ\">NmCl</span>\n",
       "    </div>\n",
       "    <div class=\"atoms\">\n",
       "\n",
       "<div class=\"patom  \" >\n",
       "\n",
       "    <div class=\"phrase \" >\n",
       "        <a href=\"https://shebanq.ancient-data.org/hebrew/text?book=Samuel_I&amp;chapter=16&amp;verse=18&amp;version=c&amp;mr=m&amp;qw=q&amp;tp=txt_p&amp;tr=hb&amp;wget=v&amp;qget=v&amp;nget=vt\" title=\"1_Samuel 16:18\" sec=\"1_Samuel 16:18\">phrase</a> <a href=\"#\" class=\"nd\">737462</a>  <span class=\"function\">Conj</span> <span class=\"typ\">CP</span>\n",
       "    </div>\n",
       "    <div class=\"atoms\">\n",
       "\n",
       "<div class=\"word  \" >\n",
       "<a href=\"#\" class=\"nd\">150667</a>\n",
       "<div class=\"h\"><a target=\"_blank\" href=\"https://shebanq.ancient-data.org/hebrew/word?version=c&amp;id=1W\" title=\"show this lexeme in SHEBANQ\">וְ</a></div>\n",
       "<div class=\"features\"> <span class=\"pdp\"><a href=\"https://shebanq.ancient-data.org/hebrew/text?book=Samuel_I&amp;chapter=16&amp;verse=18&amp;version=c&amp;mr=m&amp;qw=q&amp;tp=txt_p&amp;tr=hb&amp;wget=v&amp;qget=v&amp;nget=vt\" title=\"1_Samuel 16:18\" sec=\"1_Samuel 16:18\">conj</a></span> <span class=\"gloss\">and</span></div>\n",
       "\n",
       "\n",
       "</div>\n",
       "\n",
       "\n",
       "    </div>\n",
       "\n",
       "\n",
       "</div>\n",
       "\n",
       "<div class=\"patom  \" >\n",
       "\n",
       "    <div class=\"phrase \" >\n",
       "        <a href=\"https://shebanq.ancient-data.org/hebrew/text?book=Samuel_I&amp;chapter=16&amp;verse=18&amp;version=c&amp;mr=m&amp;qw=q&amp;tp=txt_p&amp;tr=hb&amp;wget=v&amp;qget=v&amp;nget=vt\" title=\"1_Samuel 16:18\" sec=\"1_Samuel 16:18\">phrase</a> <a href=\"#\" class=\"nd\">737463</a>  <span class=\"function\">PreC</span> <span class=\"typ\">NP</span>\n",
       "    </div>\n",
       "    <div class=\"atoms\">\n",
       "\n",
       "<div class=\"word  \" >\n",
       "<a href=\"#\" class=\"nd\">150668</a>\n",
       "<div class=\"h\"><a target=\"_blank\" href=\"https://shebanq.ancient-data.org/hebrew/word?version=c&amp;id=1GBWRn\" title=\"show this lexeme in SHEBANQ\">גִבֹּ֨ור </a></div>\n",
       "<div class=\"features\"> <span class=\"pdp\"><a href=\"https://shebanq.ancient-data.org/hebrew/text?book=Samuel_I&amp;chapter=16&amp;verse=18&amp;version=c&amp;mr=m&amp;qw=q&amp;tp=txt_p&amp;tr=hb&amp;wget=v&amp;qget=v&amp;nget=vt\" title=\"1_Samuel 16:18\" sec=\"1_Samuel 16:18\">subs</a></span> <span class=\"gloss\">vigorous</span></div>\n",
       "\n",
       "\n",
       "</div>\n",
       "\n",
       "<div class=\"word  \" >\n",
       "<a href=\"#\" class=\"nd\">150669</a>\n",
       "<div class=\"h\"><a target=\"_blank\" href=\"https://shebanq.ancient-data.org/hebrew/word?version=c&amp;id=1XJLn\" title=\"show this lexeme in SHEBANQ\">חַ֜יִל </a></div>\n",
       "<div class=\"features\"> <span class=\"pdp\"><a href=\"https://shebanq.ancient-data.org/hebrew/text?book=Samuel_I&amp;chapter=16&amp;verse=18&amp;version=c&amp;mr=m&amp;qw=q&amp;tp=txt_p&amp;tr=hb&amp;wget=v&amp;qget=v&amp;nget=vt\" title=\"1_Samuel 16:18\" sec=\"1_Samuel 16:18\">subs</a></span> <span class=\"gloss\">power</span></div>\n",
       "\n",
       "\n",
       "</div>\n",
       "\n",
       "<div class=\"word  \" >\n",
       "<a href=\"#\" class=\"nd\">150670</a>\n",
       "<div class=\"h\"><a target=\"_blank\" href=\"https://shebanq.ancient-data.org/hebrew/word?version=c&amp;id=1W\" title=\"show this lexeme in SHEBANQ\">וְ</a></div>\n",
       "<div class=\"features\"> <span class=\"pdp\"><a href=\"https://shebanq.ancient-data.org/hebrew/text?book=Samuel_I&amp;chapter=16&amp;verse=18&amp;version=c&amp;mr=m&amp;qw=q&amp;tp=txt_p&amp;tr=hb&amp;wget=v&amp;qget=v&amp;nget=vt\" title=\"1_Samuel 16:18\" sec=\"1_Samuel 16:18\">conj</a></span> <span class=\"gloss\">and</span></div>\n",
       "\n",
       "\n",
       "</div>\n",
       "\n",
       "<div class=\"word  \" >\n",
       "<a href=\"#\" class=\"nd\">150671</a>\n",
       "<div class=\"h\"><a target=\"_blank\" href=\"https://shebanq.ancient-data.org/hebrew/word?version=c&amp;id=1AJCn\" title=\"show this lexeme in SHEBANQ\">אִ֧ישׁ </a></div>\n",
       "<div class=\"features\"> <span class=\"pdp\"><a href=\"https://shebanq.ancient-data.org/hebrew/text?book=Samuel_I&amp;chapter=16&amp;verse=18&amp;version=c&amp;mr=m&amp;qw=q&amp;tp=txt_p&amp;tr=hb&amp;wget=v&amp;qget=v&amp;nget=vt\" title=\"1_Samuel 16:18\" sec=\"1_Samuel 16:18\">subs</a></span> <span class=\"gloss\">man</span></div>\n",
       "\n",
       "\n",
       "</div>\n",
       "\n",
       "<div class=\"word  \" >\n",
       "<a href=\"#\" class=\"nd\">150672</a>\n",
       "<div class=\"h\"><a target=\"_blank\" href=\"https://shebanq.ancient-data.org/hebrew/word?version=c&amp;id=1MLXMHn\" title=\"show this lexeme in SHEBANQ\">מִלְחָמָ֛ה </a></div>\n",
       "<div class=\"features\"> <span class=\"pdp\"><a href=\"https://shebanq.ancient-data.org/hebrew/text?book=Samuel_I&amp;chapter=16&amp;verse=18&amp;version=c&amp;mr=m&amp;qw=q&amp;tp=txt_p&amp;tr=hb&amp;wget=v&amp;qget=v&amp;nget=vt\" title=\"1_Samuel 16:18\" sec=\"1_Samuel 16:18\">subs</a></span> <span class=\"gloss\">war</span></div>\n",
       "\n",
       "\n",
       "</div>\n",
       "\n",
       "<div class=\"word  \" >\n",
       "<a href=\"#\" class=\"nd\">150673</a>\n",
       "<div class=\"h\"><a target=\"_blank\" href=\"https://shebanq.ancient-data.org/hebrew/word?version=c&amp;id=1W\" title=\"show this lexeme in SHEBANQ\">וּ</a></div>\n",
       "<div class=\"features\"> <span class=\"pdp\"><a href=\"https://shebanq.ancient-data.org/hebrew/text?book=Samuel_I&amp;chapter=16&amp;verse=18&amp;version=c&amp;mr=m&amp;qw=q&amp;tp=txt_p&amp;tr=hb&amp;wget=v&amp;qget=v&amp;nget=vt\" title=\"1_Samuel 16:18\" sec=\"1_Samuel 16:18\">conj</a></span> <span class=\"gloss\">and</span></div>\n",
       "\n",
       "\n",
       "</div>\n",
       "\n",
       "<div class=\"word  \" >\n",
       "<a href=\"#\" class=\"nd\">150674</a>\n",
       "<div class=\"h\"><a target=\"_blank\" href=\"https://shebanq.ancient-data.org/hebrew/word?version=c&amp;id=1BJNv\" title=\"show this lexeme in SHEBANQ\">נְבֹ֥ון </a></div>\n",
       "<div class=\"features\"> <span class=\"pdp\"><a href=\"https://shebanq.ancient-data.org/hebrew/text?book=Samuel_I&amp;chapter=16&amp;verse=18&amp;version=c&amp;mr=m&amp;qw=q&amp;tp=txt_p&amp;tr=hb&amp;wget=v&amp;qget=v&amp;nget=vt\" title=\"1_Samuel 16:18\" sec=\"1_Samuel 16:18\">subs</a></span> <span class=\"gloss\">understand</span> <span class=\"vs\">nif</span> <span class=\"vt\">ptca</span></div>\n",
       "\n",
       "\n",
       "</div>\n",
       "\n",
       "<div class=\"word  hl\" >\n",
       "<a href=\"#\" class=\"nd\">150675</a>\n",
       "<div class=\"h\"><a target=\"_blank\" href=\"https://shebanq.ancient-data.org/hebrew/word?version=c&amp;id=1DBRn\" title=\"show this lexeme in SHEBANQ\">דָּבָ֖ר </a></div>\n",
       "<div class=\"features\"> <span class=\"pdp\"><a href=\"https://shebanq.ancient-data.org/hebrew/text?book=Samuel_I&amp;chapter=16&amp;verse=18&amp;version=c&amp;mr=m&amp;qw=q&amp;tp=txt_p&amp;tr=hb&amp;wget=v&amp;qget=v&amp;nget=vt\" title=\"1_Samuel 16:18\" sec=\"1_Samuel 16:18\">subs</a></span> <span class=\"gloss\">word</span></div>\n",
       "\n",
       "\n",
       "</div>\n",
       "\n",
       "<div class=\"word  \" >\n",
       "<a href=\"#\" class=\"nd\">150676</a>\n",
       "<div class=\"h\"><a target=\"_blank\" href=\"https://shebanq.ancient-data.org/hebrew/word?version=c&amp;id=1W\" title=\"show this lexeme in SHEBANQ\">וְ</a></div>\n",
       "<div class=\"features\"> <span class=\"pdp\"><a href=\"https://shebanq.ancient-data.org/hebrew/text?book=Samuel_I&amp;chapter=16&amp;verse=18&amp;version=c&amp;mr=m&amp;qw=q&amp;tp=txt_p&amp;tr=hb&amp;wget=v&amp;qget=v&amp;nget=vt\" title=\"1_Samuel 16:18\" sec=\"1_Samuel 16:18\">conj</a></span> <span class=\"gloss\">and</span></div>\n",
       "\n",
       "\n",
       "</div>\n",
       "\n",
       "<div class=\"word  hl\" >\n",
       "<a href=\"#\" class=\"nd\">150677</a>\n",
       "<div class=\"h\"><a target=\"_blank\" href=\"https://shebanq.ancient-data.org/hebrew/word?version=c&amp;id=1AJCn\" title=\"show this lexeme in SHEBANQ\">אִ֣ישׁ </a></div>\n",
       "<div class=\"features\"> <span class=\"pdp\"><a href=\"https://shebanq.ancient-data.org/hebrew/text?book=Samuel_I&amp;chapter=16&amp;verse=18&amp;version=c&amp;mr=m&amp;qw=q&amp;tp=txt_p&amp;tr=hb&amp;wget=v&amp;qget=v&amp;nget=vt\" title=\"1_Samuel 16:18\" sec=\"1_Samuel 16:18\">subs</a></span> <span class=\"gloss\">man</span></div>\n",
       "\n",
       "\n",
       "</div>\n",
       "\n",
       "<div class=\"word  \" >\n",
       "<a href=\"#\" class=\"nd\">150678</a>\n",
       "<div class=\"h\"><a target=\"_blank\" href=\"https://shebanq.ancient-data.org/hebrew/word?version=c&amp;id=1TARn\" title=\"show this lexeme in SHEBANQ\">תֹּ֑אַר </a></div>\n",
       "<div class=\"features\"> <span class=\"pdp\"><a href=\"https://shebanq.ancient-data.org/hebrew/text?book=Samuel_I&amp;chapter=16&amp;verse=18&amp;version=c&amp;mr=m&amp;qw=q&amp;tp=txt_p&amp;tr=hb&amp;wget=v&amp;qget=v&amp;nget=vt\" title=\"1_Samuel 16:18\" sec=\"1_Samuel 16:18\">subs</a></span> <span class=\"gloss\">form</span></div>\n",
       "\n",
       "\n",
       "</div>\n",
       "\n",
       "\n",
       "    </div>\n",
       "\n",
       "\n",
       "</div>\n",
       "\n",
       "\n",
       "    </div>\n",
       "\n",
       "\n",
       "</div>\n",
       "\n",
       "\n",
       "    </div>\n",
       "\n",
       "\n",
       "</div>\n",
       "\n",
       "<div class=\"satom  \" >\n",
       "\n",
       "    <div class=\"sentence \" >\n",
       "        <a href=\"https://shebanq.ancient-data.org/hebrew/text?book=Samuel_I&amp;chapter=16&amp;verse=18&amp;version=c&amp;mr=m&amp;qw=q&amp;tp=txt_p&amp;tr=hb&amp;wget=v&amp;qget=v&amp;nget=vt\" title=\"1_Samuel 16:18\" sec=\"1_Samuel 16:18\">sentence</a> <a href=\"#\" class=\"nd\">1192775</a>  <span class=\"number\">87|1532</span>\n",
       "    </div>\n",
       "    <div class=\"atoms\">\n",
       "\n",
       "<div class=\"catom  \" >\n",
       "\n",
       "    <div class=\"clause \" >\n",
       "        <a href=\"https://shebanq.ancient-data.org/hebrew/text?book=Samuel_I&amp;chapter=16&amp;verse=18&amp;version=c&amp;mr=m&amp;qw=q&amp;tp=txt_p&amp;tr=hb&amp;wget=v&amp;qget=v&amp;nget=vt\" title=\"1_Samuel 16:18\" sec=\"1_Samuel 16:18\">clause</a> <a href=\"#\" class=\"nd\">455887</a>  <span class=\"typ\">NmCl</span>\n",
       "    </div>\n",
       "    <div class=\"atoms\">\n",
       "\n",
       "<div class=\"patom  \" >\n",
       "\n",
       "    <div class=\"phrase \" >\n",
       "        <a href=\"https://shebanq.ancient-data.org/hebrew/text?book=Samuel_I&amp;chapter=16&amp;verse=18&amp;version=c&amp;mr=m&amp;qw=q&amp;tp=txt_p&amp;tr=hb&amp;wget=v&amp;qget=v&amp;nget=vt\" title=\"1_Samuel 16:18\" sec=\"1_Samuel 16:18\">phrase</a> <a href=\"#\" class=\"nd\">737464</a>  <span class=\"function\">Conj</span> <span class=\"typ\">CP</span>\n",
       "    </div>\n",
       "    <div class=\"atoms\">\n",
       "\n",
       "<div class=\"word  \" >\n",
       "<a href=\"#\" class=\"nd\">150679</a>\n",
       "<div class=\"h\"><a target=\"_blank\" href=\"https://shebanq.ancient-data.org/hebrew/word?version=c&amp;id=1W\" title=\"show this lexeme in SHEBANQ\">וַ</a></div>\n",
       "<div class=\"features\"> <span class=\"pdp\"><a href=\"https://shebanq.ancient-data.org/hebrew/text?book=Samuel_I&amp;chapter=16&amp;verse=18&amp;version=c&amp;mr=m&amp;qw=q&amp;tp=txt_p&amp;tr=hb&amp;wget=v&amp;qget=v&amp;nget=vt\" title=\"1_Samuel 16:18\" sec=\"1_Samuel 16:18\">conj</a></span> <span class=\"gloss\">and</span></div>\n",
       "\n",
       "\n",
       "</div>\n",
       "\n",
       "\n",
       "    </div>\n",
       "\n",
       "\n",
       "</div>\n",
       "\n",
       "<div class=\"patom  \" >\n",
       "\n",
       "    <div class=\"phrase \" >\n",
       "        <a href=\"https://shebanq.ancient-data.org/hebrew/text?book=Samuel_I&amp;chapter=16&amp;verse=18&amp;version=c&amp;mr=m&amp;qw=q&amp;tp=txt_p&amp;tr=hb&amp;wget=v&amp;qget=v&amp;nget=vt\" title=\"1_Samuel 16:18\" sec=\"1_Samuel 16:18\">phrase</a> <a href=\"#\" class=\"nd\">737465</a>  <span class=\"function\">Subj</span> <span class=\"typ\">PrNP</span>\n",
       "    </div>\n",
       "    <div class=\"atoms\">\n",
       "\n",
       "<div class=\"word  \" >\n",
       "<a href=\"#\" class=\"nd\">150680</a>\n",
       "<div class=\"h\"><a target=\"_blank\" href=\"https://shebanq.ancient-data.org/hebrew/word?version=c&amp;id=1JHWHn\" title=\"show this lexeme in SHEBANQ\">יהוָ֖ה </a></div>\n",
       "<div class=\"features\"> <span class=\"pdp\"><a href=\"https://shebanq.ancient-data.org/hebrew/text?book=Samuel_I&amp;chapter=16&amp;verse=18&amp;version=c&amp;mr=m&amp;qw=q&amp;tp=txt_p&amp;tr=hb&amp;wget=v&amp;qget=v&amp;nget=vt\" title=\"1_Samuel 16:18\" sec=\"1_Samuel 16:18\">nmpr</a></span> <span class=\"gloss\">YHWH</span></div>\n",
       "\n",
       "\n",
       "</div>\n",
       "\n",
       "\n",
       "    </div>\n",
       "\n",
       "\n",
       "</div>\n",
       "\n",
       "<div class=\"patom  \" >\n",
       "\n",
       "    <div class=\"phrase \" >\n",
       "        <a href=\"https://shebanq.ancient-data.org/hebrew/text?book=Samuel_I&amp;chapter=16&amp;verse=18&amp;version=c&amp;mr=m&amp;qw=q&amp;tp=txt_p&amp;tr=hb&amp;wget=v&amp;qget=v&amp;nget=vt\" title=\"1_Samuel 16:18\" sec=\"1_Samuel 16:18\">phrase</a> <a href=\"#\" class=\"nd\">737466</a>  <span class=\"function\">PreC</span> <span class=\"typ\">PP</span>\n",
       "    </div>\n",
       "    <div class=\"atoms\">\n",
       "\n",
       "<div class=\"word  \" >\n",
       "<a href=\"#\" class=\"nd\">150681</a>\n",
       "<div class=\"h\"><a target=\"_blank\" href=\"https://shebanq.ancient-data.org/hebrew/word?version=c&amp;id=1OM\" title=\"show this lexeme in SHEBANQ\">עִמֹּֽו׃ </a></div>\n",
       "<div class=\"features\"> <span class=\"pdp\"><a href=\"https://shebanq.ancient-data.org/hebrew/text?book=Samuel_I&amp;chapter=16&amp;verse=18&amp;version=c&amp;mr=m&amp;qw=q&amp;tp=txt_p&amp;tr=hb&amp;wget=v&amp;qget=v&amp;nget=vt\" title=\"1_Samuel 16:18\" sec=\"1_Samuel 16:18\">prep</a></span> <span class=\"gloss\">with</span></div>\n",
       "\n",
       "\n",
       "</div>\n",
       "\n",
       "\n",
       "    </div>\n",
       "\n",
       "\n",
       "</div>\n",
       "\n",
       "\n",
       "    </div>\n",
       "\n",
       "\n",
       "</div>\n",
       "\n",
       "\n",
       "    </div>\n",
       "\n",
       "\n",
       "</div>\n",
       "\n",
       "\n",
       "</div>\n"
      ],
      "text/plain": [
       "<IPython.core.display.HTML object>"
      ]
     },
     "metadata": {},
     "output_type": "display_data"
    }
   ],
   "source": [
    "A.show(cpairresults['>JC/']['DBR/'], withNodes=True)"
   ]
  },
  {
   "cell_type": "code",
   "execution_count": 20,
   "metadata": {},
   "outputs": [
    {
     "data": {
      "text/plain": [
       "'subs'"
      ]
     },
     "execution_count": 20,
     "metadata": {},
     "output_type": "execute_result"
    }
   ],
   "source": [
    "F.sp.v(150164)"
   ]
  },
  {
   "cell_type": "code",
   "execution_count": 10,
   "metadata": {},
   "outputs": [
    {
     "data": {
      "text/plain": [
       "'conjunct'"
      ]
     },
     "execution_count": 10,
     "metadata": {},
     "output_type": "execute_result"
    }
   ],
   "source": [
    "wsets.accents.accenttype[150674]"
   ]
  },
  {
   "cell_type": "code",
   "execution_count": null,
   "metadata": {},
   "outputs": [],
   "source": []
  }
 ],
 "metadata": {
  "kernelspec": {
   "display_name": "Python 3",
   "language": "python",
   "name": "python3"
  },
  "language_info": {
   "codemirror_mode": {
    "name": "ipython",
    "version": 3
   },
   "file_extension": ".py",
   "mimetype": "text/x-python",
   "name": "python",
   "nbconvert_exporter": "python",
   "pygments_lexer": "ipython3",
   "version": "3.7.0"
  }
 },
 "nbformat": 4,
 "nbformat_minor": 2
}
