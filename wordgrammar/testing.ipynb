{
 "cells": [
  {
   "cell_type": "markdown",
   "metadata": {},
   "source": [
    "# Testing Wordgrammar Wordsets\n",
    "\n",
    "This notebook examines the output of the wordsets pipeline to ensure that the data being produced is good."
   ]
  },
  {
   "cell_type": "code",
   "execution_count": 1,
   "metadata": {},
   "outputs": [
    {
     "name": "stdout",
     "output_type": "stream",
     "text": [
      "   |     0.00s No structure info in otext, the structure part of the T-API cannot be used\n"
     ]
    },
    {
     "data": {
      "text/html": [
       "<style>\n",
       "@font-face {\n",
       "  font-family: \"Ezra SIL\";\n",
       "  src:\n",
       "    local(\"SILEOT.ttf\"),\n",
       "    url(\"https://github.com/annotation/text-fabric/blob/master/tf/server/static/fonts/SILEOT.woff?raw=true\");\n",
       "}\n",
       ".features {\n",
       "    font-family: monospace;\n",
       "    font-size: medium;\n",
       "    font-weight: bold;\n",
       "    color: #0a6611;\n",
       "    display: flex;\n",
       "    flex-flow: column nowrap;\n",
       "    padding: 0.1em;\n",
       "    margin: 0.1em;\n",
       "    direction: ltr;\n",
       "}\n",
       ".features div,.features span {\n",
       "    padding: 0;\n",
       "    margin: -0.1rem 0;\n",
       "}\n",
       ".features .f {\n",
       "    font-family: sans-serif;\n",
       "    font-size: x-small;\n",
       "    font-weight: normal;\n",
       "    color: #5555bb;\n",
       "}\n",
       ".features .xft {\n",
       "  color: #000000;\n",
       "  background-color: #eeeeee;\n",
       "  font-size: medium;\n",
       "  margin: 0.1em 0em;\n",
       "}\n",
       ".features .xft .f {\n",
       "  color: #000000;\n",
       "  background-color: #eeeeee;\n",
       "  font-style: italic;\n",
       "  font-size: small;\n",
       "  font-weight: normal;\n",
       "}\n",
       ".ltr {\n",
       "    direction: ltr ! important;\n",
       "}\n",
       ".verse {\n",
       "    display: flex;\n",
       "    flex-flow: row wrap;\n",
       "    direction: rtl;\n",
       "}\n",
       ".vl {\n",
       "    display: flex;\n",
       "    flex-flow: column nowrap;\n",
       "    justify-content: flex-end;\n",
       "    align-items: flex-end;\n",
       "    direction: ltr;\n",
       "    width: 100%;\n",
       "}\n",
       ".outeritem {\n",
       "    display: flex;\n",
       "    flex-flow: row wrap;\n",
       "    direction: rtl;\n",
       "}\n",
       ".sentence,.clause,.phrase {\n",
       "    margin-top: -1.2em;\n",
       "    margin-left: 1em;\n",
       "    background: #ffffff none repeat scroll 0 0;\n",
       "    padding: 0 0.3em;\n",
       "    border-style: solid;\n",
       "    border-radius: 0.2em;\n",
       "    font-size: small;\n",
       "    display: block;\n",
       "    width: fit-content;\n",
       "    max-width: fit-content;\n",
       "    direction: ltr;\n",
       "}\n",
       ".atoms {\n",
       "    display: flex;\n",
       "    flex-flow: row wrap;\n",
       "    margin: 0.3em;\n",
       "    padding: 0.3em;\n",
       "    direction: rtl;\n",
       "    background-color: #ffffff;\n",
       "}\n",
       ".satom,.catom,.patom {\n",
       "    margin: 0.3em;\n",
       "    padding: 0.3em;\n",
       "    border-radius: 0.3em;\n",
       "    border-style: solid;\n",
       "    display: flex;\n",
       "    flex-flow: column nowrap;\n",
       "    direction: rtl;\n",
       "    background-color: #ffffff;\n",
       "}\n",
       ".sentence {\n",
       "    border-color: #aa3333;\n",
       "    border-width: 1px;\n",
       "}\n",
       ".clause {\n",
       "    border-color: #aaaa33;\n",
       "    border-width: 1px;\n",
       "}\n",
       ".phrase {\n",
       "    border-color: #33aaaa;\n",
       "    border-width: 1px;\n",
       "}\n",
       ".satom {\n",
       "    border-color: #aa3333;\n",
       "    border-width: 4px;\n",
       "}\n",
       ".catom {\n",
       "    border-color: #aaaa33;\n",
       "    border-width: 3px;\n",
       "}\n",
       ".patom {\n",
       "    border-color: #33aaaa;\n",
       "    border-width: 3px;\n",
       "}\n",
       ".word {\n",
       "    padding: 0.1em;\n",
       "    margin: 0.1em;\n",
       "    border-radius: 0.1em;\n",
       "    border: 1px solid #cccccc;\n",
       "    display: flex;\n",
       "    flex-flow: column nowrap;\n",
       "    direction: rtl;\n",
       "    background-color: #ffffff;\n",
       "}\n",
       ".lextp {\n",
       "    padding: 0.1em;\n",
       "    margin: 0.1em;\n",
       "    border-radius: 0.1em;\n",
       "    border: 2px solid #888888;\n",
       "    width: fit-content;\n",
       "    display: flex;\n",
       "    flex-flow: column nowrap;\n",
       "    direction: rtl;\n",
       "    background-color: #ffffff;\n",
       "}\n",
       ".occs {\n",
       "    font-size: x-small;\n",
       "}\n",
       ".satom.l,.catom.l,.patom.l {\n",
       "    border-left-style: dotted\n",
       "}\n",
       ".satom.r,.catom.r,.patom.r {\n",
       "    border-right-style: dotted\n",
       "}\n",
       ".satom.lno,.catom.lno,.patom.lno {\n",
       "    border-left-style: none\n",
       "}\n",
       ".satom.rno,.catom.rno,.patom.rno {\n",
       "    border-right-style: none\n",
       "}\n",
       ".tr,.tr a:visited,.tr a:link {\n",
       "    font-family: sans-serif;\n",
       "    font-size: large;\n",
       "    color: #000044;\n",
       "    direction: ltr;\n",
       "    text-decoration: none;\n",
       "}\n",
       ".trb,.trb a:visited,.trb a:link {\n",
       "    font-family: sans-serif;\n",
       "    font-size: normal;\n",
       "    direction: ltr;\n",
       "    text-decoration: none;\n",
       "}\n",
       ".prb,.prb a:visited,.prb a:link {\n",
       "    font-family: sans-serif;\n",
       "    font-size: large;\n",
       "    direction: ltr;\n",
       "    text-decoration: none;\n",
       "}\n",
       ".h,.h a:visited,.h a:link {\n",
       "    font-family: \"Ezra SIL\", \"SBL Hebrew\", sans-serif;\n",
       "    font-size: large;\n",
       "    color: #000044;\n",
       "    direction: rtl;\n",
       "    text-decoration: none;\n",
       "}\n",
       ".hb,.hb a:visited,.hb a:link {\n",
       "    font-family: \"Ezra SIL\", \"SBL Hebrew\", sans-serif;\n",
       "    font-size: large;\n",
       "    line-height: 2;\n",
       "    direction: rtl;\n",
       "    text-decoration: none;\n",
       "}\n",
       ".vn {\n",
       "  font-size: small !important;\n",
       "  padding-right: 1em;\n",
       "}\n",
       ".rela,.function,.typ {\n",
       "    font-family: monospace;\n",
       "    font-size: small;\n",
       "    color: #0000bb;\n",
       "}\n",
       ".pdp,.pdp a:visited,.pdp a:link {\n",
       "    font-family: monospace;\n",
       "    font-size: medium;\n",
       "    color: #0000bb;\n",
       "    text-decoration: none;\n",
       "}\n",
       ".voc_lex {\n",
       "    font-family: monospace;\n",
       "    font-size: medium;\n",
       "    color: #0000bb;\n",
       "}\n",
       ".vs {\n",
       "    font-family: monospace;\n",
       "    font-size: medium;\n",
       "    font-weight: bold;\n",
       "    color: #0000bb;\n",
       "}\n",
       ".vt {\n",
       "    font-family: monospace;\n",
       "    font-size: medium;\n",
       "    font-weight: bold;\n",
       "    color: #0000bb;\n",
       "}\n",
       ".gloss {\n",
       "    font-family: sans-serif;\n",
       "    font-size: small;\n",
       "    font-weight: normal;\n",
       "    color: #444444;\n",
       "}\n",
       ".vrs {\n",
       "    font-family: sans-serif;\n",
       "    font-size: small;\n",
       "    font-weight: bold;\n",
       "    color: #444444;\n",
       "}\n",
       ".nd {\n",
       "    font-family: monospace;\n",
       "    font-size: x-small;\n",
       "    color: #999999;\n",
       "}\n",
       ".hl {\n",
       "    background-color: #ffee66;\n",
       "}\n",
       "\n",
       "tr.tf, td.tf, th.tf {\n",
       "  text-align: left;\n",
       "}\n",
       "\n",
       "span.hldot {\n",
       "\tbackground-color: var(--hl-strong);\n",
       "\tborder: 0.2rem solid var(--hl-rim);\n",
       "\tborder-radius: 0.4rem;\n",
       "\t/*\n",
       "\tdisplay: inline-block;\n",
       "\twidth: 0.8rem;\n",
       "\theight: 0.8rem;\n",
       "\t*/\n",
       "}\n",
       "span.hl {\n",
       "\tbackground-color: var(--hl-strong);\n",
       "\tborder-width: 0;\n",
       "\tborder-radius: 0.1rem;\n",
       "\tborder-style: solid;\n",
       "}\n",
       "\n",
       "span.hlup {\n",
       "\tborder-color: var(--hl-dark);\n",
       "\tborder-width: 0.1rem;\n",
       "\tborder-style: solid;\n",
       "\tborder-radius: 0.2rem;\n",
       "  padding: 0.2rem;\n",
       "}\n",
       "\n",
       ":root {\n",
       "\t--hl-strong:        hsla( 60, 100%,  70%, 0.9  );\n",
       "\t--hl-rim:           hsla( 55, 100%,  60%, 0.9  );\n",
       "\t--hl-dark:          hsla( 55, 100%,  40%, 0.9  );\n",
       "}\n",
       "</style>"
      ],
      "text/plain": [
       "<IPython.core.display.HTML object>"
      ]
     },
     "metadata": {},
     "output_type": "display_data"
    }
   ],
   "source": [
    "import collections\n",
    "import pandas as pd\n",
    "from IPython.display import display, HTML\n",
    "import random\n",
    "from wordsets import WordSets\n",
    "from positions import Positions\n",
    "from context import Mom\n",
    "from tf.app import use\n",
    "A = use('bhsa', hoist=globals(), silent=True)"
   ]
  },
  {
   "cell_type": "code",
   "execution_count": 2,
   "metadata": {},
   "outputs": [
    {
     "name": "stdout",
     "output_type": "stream",
     "text": [
      "processing accents...\n",
      "\tdone\n",
      "processing quants...\n",
      "\tdone\n",
      "processing preps...\n",
      "\tdone\n"
     ]
    }
   ],
   "source": [
    "wsets = WordSets(A, silent=False)"
   ]
  },
  {
   "cell_type": "code",
   "execution_count": 3,
   "metadata": {},
   "outputs": [],
   "source": [
    "def beauty(text):\n",
    "    pretty = f'''\n",
    "<span style=\"font-family:Times New Roman; font-size:20pt\">\n",
    "    {text}\n",
    "</hspan>'''\n",
    "    display(HTML(pretty))"
   ]
  },
  {
   "cell_type": "markdown",
   "metadata": {},
   "source": [
    "## Context"
   ]
  },
  {
   "cell_type": "code",
   "execution_count": 4,
   "metadata": {},
   "outputs": [
    {
     "ename": "NameError",
     "evalue": "name 'P' is not defined",
     "output_type": "error",
     "traceback": [
      "\u001b[0;31m---------------------------------------------------------------------------\u001b[0m",
      "\u001b[0;31mNameError\u001b[0m                                 Traceback (most recent call last)",
      "\u001b[0;32m<ipython-input-4-d0f0d027bc8a>\u001b[0m in \u001b[0;36m<module>\u001b[0;34m()\u001b[0m\n\u001b[0;32m----> 1\u001b[0;31m \u001b[0mm\u001b[0m \u001b[0;34m=\u001b[0m \u001b[0mMom\u001b[0m\u001b[0;34m(\u001b[0m\u001b[0;36m7\u001b[0m\u001b[0;34m,\u001b[0m \u001b[0mA\u001b[0m\u001b[0;34m,\u001b[0m \u001b[0mquants\u001b[0m\u001b[0;34m=\u001b[0m\u001b[0mwsets\u001b[0m\u001b[0;34m.\u001b[0m\u001b[0mquants\u001b[0m\u001b[0;34m,\u001b[0m \u001b[0mpreps\u001b[0m\u001b[0;34m=\u001b[0m\u001b[0mwsets\u001b[0m\u001b[0;34m.\u001b[0m\u001b[0mpreps\u001b[0m\u001b[0;34m)\u001b[0m\u001b[0;34m\u001b[0m\u001b[0m\n\u001b[0m",
      "\u001b[0;32m~/github/etcbc/heads/wordgrammar/context.py\u001b[0m in \u001b[0;36m__init__\u001b[0;34m(self, n, tf, **wsets)\u001b[0m\n\u001b[1;32m     50\u001b[0m                 P(1): conddict(\n\u001b[1;32m     51\u001b[0m                     \u001b[0;34m\"P(0,'st') == 'c'\"\u001b[0m\u001b[0;34m,\u001b[0m\u001b[0;34m\u001b[0m\u001b[0m\n\u001b[0;32m---> 52\u001b[0;31m                     \u001b[0;34m\"P(1,'sp') != 'art'\"\u001b[0m\u001b[0;34m,\u001b[0m\u001b[0;34m\u001b[0m\u001b[0m\n\u001b[0m\u001b[1;32m     53\u001b[0m                 ),\n\u001b[1;32m     54\u001b[0m \u001b[0;34m\u001b[0m\u001b[0m\n",
      "\u001b[0;32m~/github/etcbc/heads/wordgrammar/context.py\u001b[0m in \u001b[0;36mconddict\u001b[0;34m(self, *conds)\u001b[0m\n\u001b[1;32m    176\u001b[0m         \u001b[0mquants\u001b[0m \u001b[0;34m=\u001b[0m \u001b[0mself\u001b[0m\u001b[0;34m.\u001b[0m\u001b[0mquants\u001b[0m\u001b[0;34m\u001b[0m\u001b[0m\n\u001b[1;32m    177\u001b[0m         \u001b[0mpreps\u001b[0m \u001b[0;34m=\u001b[0m \u001b[0mself\u001b[0m\u001b[0;34m.\u001b[0m\u001b[0mpreps\u001b[0m\u001b[0;34m\u001b[0m\u001b[0m\n\u001b[0;32m--> 178\u001b[0;31m         \u001b[0;32mreturn\u001b[0m \u001b[0;34m{\u001b[0m\u001b[0mcond\u001b[0m\u001b[0;34m:\u001b[0m\u001b[0meval\u001b[0m\u001b[0;34m(\u001b[0m\u001b[0mcond\u001b[0m\u001b[0;34m)\u001b[0m \u001b[0;32mfor\u001b[0m \u001b[0mcond\u001b[0m \u001b[0;32min\u001b[0m \u001b[0mconds\u001b[0m\u001b[0;34m}\u001b[0m\u001b[0;34m\u001b[0m\u001b[0m\n\u001b[0m",
      "\u001b[0;32m~/github/etcbc/heads/wordgrammar/context.py\u001b[0m in \u001b[0;36m<dictcomp>\u001b[0;34m(.0)\u001b[0m\n\u001b[1;32m    176\u001b[0m         \u001b[0mquants\u001b[0m \u001b[0;34m=\u001b[0m \u001b[0mself\u001b[0m\u001b[0;34m.\u001b[0m\u001b[0mquants\u001b[0m\u001b[0;34m\u001b[0m\u001b[0m\n\u001b[1;32m    177\u001b[0m         \u001b[0mpreps\u001b[0m \u001b[0;34m=\u001b[0m \u001b[0mself\u001b[0m\u001b[0;34m.\u001b[0m\u001b[0mpreps\u001b[0m\u001b[0;34m\u001b[0m\u001b[0m\n\u001b[0;32m--> 178\u001b[0;31m         \u001b[0;32mreturn\u001b[0m \u001b[0;34m{\u001b[0m\u001b[0mcond\u001b[0m\u001b[0;34m:\u001b[0m\u001b[0meval\u001b[0m\u001b[0;34m(\u001b[0m\u001b[0mcond\u001b[0m\u001b[0;34m)\u001b[0m \u001b[0;32mfor\u001b[0m \u001b[0mcond\u001b[0m \u001b[0;32min\u001b[0m \u001b[0mconds\u001b[0m\u001b[0;34m}\u001b[0m\u001b[0;34m\u001b[0m\u001b[0m\n\u001b[0m",
      "\u001b[0;32m~/github/etcbc/heads/wordgrammar/context.py\u001b[0m in \u001b[0;36m<module>\u001b[0;34m()\u001b[0m\n",
      "\u001b[0;31mNameError\u001b[0m: name 'P' is not defined"
     ]
    }
   ],
   "source": [
    "m = Mom(7, A, quants=wsets.quants, preps=wsets.preps)"
   ]
  },
  {
   "cell_type": "code",
   "execution_count": 5,
   "metadata": {},
   "outputs": [
    {
     "name": "stdout",
     "output_type": "stream",
     "text": [
      "Help on built-in function eval in module builtins:\n",
      "\n",
      "eval(source, globals=None, locals=None, /)\n",
      "    Evaluate the given source in the context of globals and locals.\n",
      "    \n",
      "    The source may be a string representing a Python expression\n",
      "    or a code object as returned by compile().\n",
      "    The globals must be a dictionary and locals can be any mapping,\n",
      "    defaulting to the current globals and locals.\n",
      "    If only globals is given, locals defaults to it.\n",
      "\n"
     ]
    }
   ],
   "source": [
    "help(eval)"
   ]
  },
  {
   "cell_type": "code",
   "execution_count": 13,
   "metadata": {},
   "outputs": [
    {
     "ename": "TypeError",
     "evalue": "descriptor '__format__' requires a 'str' object but received a 'bool'",
     "output_type": "error",
     "traceback": [
      "\u001b[0;31m---------------------------------------------------------------------------\u001b[0m",
      "\u001b[0;31mTypeError\u001b[0m                                 Traceback (most recent call last)",
      "\u001b[0;32m<ipython-input-13-0a59fe1d5c71>\u001b[0m in \u001b[0;36m<module>\u001b[0;34m()\u001b[0m\n\u001b[0;32m----> 1\u001b[0;31m \u001b[0mstr\u001b[0m\u001b[0;34m.\u001b[0m\u001b[0m__format__\u001b[0m\u001b[0;34m(\u001b[0m\u001b[0;36m1\u001b[0m \u001b[0;34m>\u001b[0m \u001b[0;36m2\u001b[0m\u001b[0;34m)\u001b[0m\u001b[0;34m\u001b[0m\u001b[0m\n\u001b[0m",
      "\u001b[0;31mTypeError\u001b[0m: descriptor '__format__' requires a 'str' object but received a 'bool'"
     ]
    }
   ],
   "source": [
    "str.__format__(1 > 2)"
   ]
  },
  {
   "cell_type": "code",
   "execution_count": 6,
   "metadata": {},
   "outputs": [
    {
     "name": "stdout",
     "output_type": "stream",
     "text": [
      "Help on class str in module builtins:\n",
      "\n",
      "class str(object)\n",
      " |  str(object='') -> str\n",
      " |  str(bytes_or_buffer[, encoding[, errors]]) -> str\n",
      " |  \n",
      " |  Create a new string object from the given object. If encoding or\n",
      " |  errors is specified, then the object must expose a data buffer\n",
      " |  that will be decoded using the given encoding and error handler.\n",
      " |  Otherwise, returns the result of object.__str__() (if defined)\n",
      " |  or repr(object).\n",
      " |  encoding defaults to sys.getdefaultencoding().\n",
      " |  errors defaults to 'strict'.\n",
      " |  \n",
      " |  Methods defined here:\n",
      " |  \n",
      " |  __add__(self, value, /)\n",
      " |      Return self+value.\n",
      " |  \n",
      " |  __contains__(self, key, /)\n",
      " |      Return key in self.\n",
      " |  \n",
      " |  __eq__(self, value, /)\n",
      " |      Return self==value.\n",
      " |  \n",
      " |  __format__(self, format_spec, /)\n",
      " |      Return a formatted version of the string as described by format_spec.\n",
      " |  \n",
      " |  __ge__(self, value, /)\n",
      " |      Return self>=value.\n",
      " |  \n",
      " |  __getattribute__(self, name, /)\n",
      " |      Return getattr(self, name).\n",
      " |  \n",
      " |  __getitem__(self, key, /)\n",
      " |      Return self[key].\n",
      " |  \n",
      " |  __getnewargs__(...)\n",
      " |  \n",
      " |  __gt__(self, value, /)\n",
      " |      Return self>value.\n",
      " |  \n",
      " |  __hash__(self, /)\n",
      " |      Return hash(self).\n",
      " |  \n",
      " |  __iter__(self, /)\n",
      " |      Implement iter(self).\n",
      " |  \n",
      " |  __le__(self, value, /)\n",
      " |      Return self<=value.\n",
      " |  \n",
      " |  __len__(self, /)\n",
      " |      Return len(self).\n",
      " |  \n",
      " |  __lt__(self, value, /)\n",
      " |      Return self<value.\n",
      " |  \n",
      " |  __mod__(self, value, /)\n",
      " |      Return self%value.\n",
      " |  \n",
      " |  __mul__(self, value, /)\n",
      " |      Return self*value.\n",
      " |  \n",
      " |  __ne__(self, value, /)\n",
      " |      Return self!=value.\n",
      " |  \n",
      " |  __repr__(self, /)\n",
      " |      Return repr(self).\n",
      " |  \n",
      " |  __rmod__(self, value, /)\n",
      " |      Return value%self.\n",
      " |  \n",
      " |  __rmul__(self, value, /)\n",
      " |      Return value*self.\n",
      " |  \n",
      " |  __sizeof__(self, /)\n",
      " |      Return the size of the string in memory, in bytes.\n",
      " |  \n",
      " |  __str__(self, /)\n",
      " |      Return str(self).\n",
      " |  \n",
      " |  capitalize(self, /)\n",
      " |      Return a capitalized version of the string.\n",
      " |      \n",
      " |      More specifically, make the first character have upper case and the rest lower\n",
      " |      case.\n",
      " |  \n",
      " |  casefold(self, /)\n",
      " |      Return a version of the string suitable for caseless comparisons.\n",
      " |  \n",
      " |  center(self, width, fillchar=' ', /)\n",
      " |      Return a centered string of length width.\n",
      " |      \n",
      " |      Padding is done using the specified fill character (default is a space).\n",
      " |  \n",
      " |  count(...)\n",
      " |      S.count(sub[, start[, end]]) -> int\n",
      " |      \n",
      " |      Return the number of non-overlapping occurrences of substring sub in\n",
      " |      string S[start:end].  Optional arguments start and end are\n",
      " |      interpreted as in slice notation.\n",
      " |  \n",
      " |  encode(self, /, encoding='utf-8', errors='strict')\n",
      " |      Encode the string using the codec registered for encoding.\n",
      " |      \n",
      " |      encoding\n",
      " |        The encoding in which to encode the string.\n",
      " |      errors\n",
      " |        The error handling scheme to use for encoding errors.\n",
      " |        The default is 'strict' meaning that encoding errors raise a\n",
      " |        UnicodeEncodeError.  Other possible values are 'ignore', 'replace' and\n",
      " |        'xmlcharrefreplace' as well as any other name registered with\n",
      " |        codecs.register_error that can handle UnicodeEncodeErrors.\n",
      " |  \n",
      " |  endswith(...)\n",
      " |      S.endswith(suffix[, start[, end]]) -> bool\n",
      " |      \n",
      " |      Return True if S ends with the specified suffix, False otherwise.\n",
      " |      With optional start, test S beginning at that position.\n",
      " |      With optional end, stop comparing S at that position.\n",
      " |      suffix can also be a tuple of strings to try.\n",
      " |  \n",
      " |  expandtabs(self, /, tabsize=8)\n",
      " |      Return a copy where all tab characters are expanded using spaces.\n",
      " |      \n",
      " |      If tabsize is not given, a tab size of 8 characters is assumed.\n",
      " |  \n",
      " |  find(...)\n",
      " |      S.find(sub[, start[, end]]) -> int\n",
      " |      \n",
      " |      Return the lowest index in S where substring sub is found,\n",
      " |      such that sub is contained within S[start:end].  Optional\n",
      " |      arguments start and end are interpreted as in slice notation.\n",
      " |      \n",
      " |      Return -1 on failure.\n",
      " |  \n",
      " |  format(...)\n",
      " |      S.format(*args, **kwargs) -> str\n",
      " |      \n",
      " |      Return a formatted version of S, using substitutions from args and kwargs.\n",
      " |      The substitutions are identified by braces ('{' and '}').\n",
      " |  \n",
      " |  format_map(...)\n",
      " |      S.format_map(mapping) -> str\n",
      " |      \n",
      " |      Return a formatted version of S, using substitutions from mapping.\n",
      " |      The substitutions are identified by braces ('{' and '}').\n",
      " |  \n",
      " |  index(...)\n",
      " |      S.index(sub[, start[, end]]) -> int\n",
      " |      \n",
      " |      Return the lowest index in S where substring sub is found, \n",
      " |      such that sub is contained within S[start:end].  Optional\n",
      " |      arguments start and end are interpreted as in slice notation.\n",
      " |      \n",
      " |      Raises ValueError when the substring is not found.\n",
      " |  \n",
      " |  isalnum(self, /)\n",
      " |      Return True if the string is an alpha-numeric string, False otherwise.\n",
      " |      \n",
      " |      A string is alpha-numeric if all characters in the string are alpha-numeric and\n",
      " |      there is at least one character in the string.\n",
      " |  \n",
      " |  isalpha(self, /)\n",
      " |      Return True if the string is an alphabetic string, False otherwise.\n",
      " |      \n",
      " |      A string is alphabetic if all characters in the string are alphabetic and there\n",
      " |      is at least one character in the string.\n",
      " |  \n",
      " |  isascii(self, /)\n",
      " |      Return True if all characters in the string are ASCII, False otherwise.\n",
      " |      \n",
      " |      ASCII characters have code points in the range U+0000-U+007F.\n",
      " |      Empty string is ASCII too.\n",
      " |  \n",
      " |  isdecimal(self, /)\n",
      " |      Return True if the string is a decimal string, False otherwise.\n",
      " |      \n",
      " |      A string is a decimal string if all characters in the string are decimal and\n",
      " |      there is at least one character in the string.\n",
      " |  \n",
      " |  isdigit(self, /)\n",
      " |      Return True if the string is a digit string, False otherwise.\n",
      " |      \n",
      " |      A string is a digit string if all characters in the string are digits and there\n",
      " |      is at least one character in the string.\n",
      " |  \n",
      " |  isidentifier(self, /)\n",
      " |      Return True if the string is a valid Python identifier, False otherwise.\n",
      " |      \n",
      " |      Use keyword.iskeyword() to test for reserved identifiers such as \"def\" and\n",
      " |      \"class\".\n",
      " |  \n",
      " |  islower(self, /)\n",
      " |      Return True if the string is a lowercase string, False otherwise.\n",
      " |      \n",
      " |      A string is lowercase if all cased characters in the string are lowercase and\n",
      " |      there is at least one cased character in the string.\n",
      " |  \n",
      " |  isnumeric(self, /)\n",
      " |      Return True if the string is a numeric string, False otherwise.\n",
      " |      \n",
      " |      A string is numeric if all characters in the string are numeric and there is at\n",
      " |      least one character in the string.\n",
      " |  \n",
      " |  isprintable(self, /)\n",
      " |      Return True if the string is printable, False otherwise.\n",
      " |      \n",
      " |      A string is printable if all of its characters are considered printable in\n",
      " |      repr() or if it is empty.\n",
      " |  \n",
      " |  isspace(self, /)\n",
      " |      Return True if the string is a whitespace string, False otherwise.\n",
      " |      \n",
      " |      A string is whitespace if all characters in the string are whitespace and there\n",
      " |      is at least one character in the string.\n",
      " |  \n",
      " |  istitle(self, /)\n",
      " |      Return True if the string is a title-cased string, False otherwise.\n",
      " |      \n",
      " |      In a title-cased string, upper- and title-case characters may only\n",
      " |      follow uncased characters and lowercase characters only cased ones.\n",
      " |  \n",
      " |  isupper(self, /)\n",
      " |      Return True if the string is an uppercase string, False otherwise.\n",
      " |      \n",
      " |      A string is uppercase if all cased characters in the string are uppercase and\n",
      " |      there is at least one cased character in the string.\n",
      " |  \n",
      " |  join(self, iterable, /)\n",
      " |      Concatenate any number of strings.\n",
      " |      \n",
      " |      The string whose method is called is inserted in between each given string.\n",
      " |      The result is returned as a new string.\n",
      " |      \n",
      " |      Example: '.'.join(['ab', 'pq', 'rs']) -> 'ab.pq.rs'\n",
      " |  \n",
      " |  ljust(self, width, fillchar=' ', /)\n",
      " |      Return a left-justified string of length width.\n",
      " |      \n",
      " |      Padding is done using the specified fill character (default is a space).\n",
      " |  \n",
      " |  lower(self, /)\n",
      " |      Return a copy of the string converted to lowercase.\n",
      " |  \n",
      " |  lstrip(self, chars=None, /)\n",
      " |      Return a copy of the string with leading whitespace removed.\n",
      " |      \n",
      " |      If chars is given and not None, remove characters in chars instead.\n",
      " |  \n",
      " |  partition(self, sep, /)\n",
      " |      Partition the string into three parts using the given separator.\n",
      " |      \n",
      " |      This will search for the separator in the string.  If the separator is found,\n",
      " |      returns a 3-tuple containing the part before the separator, the separator\n",
      " |      itself, and the part after it.\n",
      " |      \n",
      " |      If the separator is not found, returns a 3-tuple containing the original string\n",
      " |      and two empty strings.\n",
      " |  \n",
      " |  replace(self, old, new, count=-1, /)\n",
      " |      Return a copy with all occurrences of substring old replaced by new.\n",
      " |      \n",
      " |        count\n",
      " |          Maximum number of occurrences to replace.\n",
      " |          -1 (the default value) means replace all occurrences.\n",
      " |      \n",
      " |      If the optional argument count is given, only the first count occurrences are\n",
      " |      replaced.\n",
      " |  \n",
      " |  rfind(...)\n",
      " |      S.rfind(sub[, start[, end]]) -> int\n",
      " |      \n",
      " |      Return the highest index in S where substring sub is found,\n",
      " |      such that sub is contained within S[start:end].  Optional\n",
      " |      arguments start and end are interpreted as in slice notation.\n",
      " |      \n",
      " |      Return -1 on failure.\n",
      " |  \n",
      " |  rindex(...)\n",
      " |      S.rindex(sub[, start[, end]]) -> int\n",
      " |      \n",
      " |      Return the highest index in S where substring sub is found,\n",
      " |      such that sub is contained within S[start:end].  Optional\n",
      " |      arguments start and end are interpreted as in slice notation.\n",
      " |      \n",
      " |      Raises ValueError when the substring is not found.\n",
      " |  \n",
      " |  rjust(self, width, fillchar=' ', /)\n",
      " |      Return a right-justified string of length width.\n",
      " |      \n",
      " |      Padding is done using the specified fill character (default is a space).\n",
      " |  \n",
      " |  rpartition(self, sep, /)\n",
      " |      Partition the string into three parts using the given separator.\n",
      " |      \n",
      " |      This will search for the separator in the string, starting at the end. If\n",
      " |      the separator is found, returns a 3-tuple containing the part before the\n",
      " |      separator, the separator itself, and the part after it.\n",
      " |      \n",
      " |      If the separator is not found, returns a 3-tuple containing two empty strings\n",
      " |      and the original string.\n",
      " |  \n",
      " |  rsplit(self, /, sep=None, maxsplit=-1)\n",
      " |      Return a list of the words in the string, using sep as the delimiter string.\n",
      " |      \n",
      " |        sep\n",
      " |          The delimiter according which to split the string.\n",
      " |          None (the default value) means split according to any whitespace,\n",
      " |          and discard empty strings from the result.\n",
      " |        maxsplit\n",
      " |          Maximum number of splits to do.\n",
      " |          -1 (the default value) means no limit.\n",
      " |      \n",
      " |      Splits are done starting at the end of the string and working to the front.\n",
      " |  \n",
      " |  rstrip(self, chars=None, /)\n",
      " |      Return a copy of the string with trailing whitespace removed.\n",
      " |      \n",
      " |      If chars is given and not None, remove characters in chars instead.\n",
      " |  \n",
      " |  split(self, /, sep=None, maxsplit=-1)\n",
      " |      Return a list of the words in the string, using sep as the delimiter string.\n",
      " |      \n",
      " |      sep\n",
      " |        The delimiter according which to split the string.\n",
      " |        None (the default value) means split according to any whitespace,\n",
      " |        and discard empty strings from the result.\n",
      " |      maxsplit\n",
      " |        Maximum number of splits to do.\n",
      " |        -1 (the default value) means no limit.\n",
      " |  \n",
      " |  splitlines(self, /, keepends=False)\n",
      " |      Return a list of the lines in the string, breaking at line boundaries.\n",
      " |      \n",
      " |      Line breaks are not included in the resulting list unless keepends is given and\n",
      " |      true.\n",
      " |  \n",
      " |  startswith(...)\n",
      " |      S.startswith(prefix[, start[, end]]) -> bool\n",
      " |      \n",
      " |      Return True if S starts with the specified prefix, False otherwise.\n",
      " |      With optional start, test S beginning at that position.\n",
      " |      With optional end, stop comparing S at that position.\n",
      " |      prefix can also be a tuple of strings to try.\n",
      " |  \n",
      " |  strip(self, chars=None, /)\n",
      " |      Return a copy of the string with leading and trailing whitespace remove.\n",
      " |      \n",
      " |      If chars is given and not None, remove characters in chars instead.\n",
      " |  \n",
      " |  swapcase(self, /)\n",
      " |      Convert uppercase characters to lowercase and lowercase characters to uppercase.\n",
      " |  \n",
      " |  title(self, /)\n",
      " |      Return a version of the string where each word is titlecased.\n",
      " |      \n",
      " |      More specifically, words start with uppercased characters and all remaining\n",
      " |      cased characters have lower case.\n",
      " |  \n",
      " |  translate(self, table, /)\n",
      " |      Replace each character in the string using the given translation table.\n",
      " |      \n",
      " |        table\n",
      " |          Translation table, which must be a mapping of Unicode ordinals to\n",
      " |          Unicode ordinals, strings, or None.\n",
      " |      \n",
      " |      The table must implement lookup/indexing via __getitem__, for instance a\n",
      " |      dictionary or list.  If this operation raises LookupError, the character is\n",
      " |      left untouched.  Characters mapped to None are deleted.\n",
      " |  \n",
      " |  upper(self, /)\n",
      " |      Return a copy of the string converted to uppercase.\n",
      " |  \n",
      " |  zfill(self, width, /)\n",
      " |      Pad a numeric string with zeros on the left, to fill a field of the given width.\n",
      " |      \n",
      " |      The string is never truncated.\n",
      " |  \n",
      " |  ----------------------------------------------------------------------\n",
      " |  Static methods defined here:\n",
      " |  \n",
      " |  __new__(*args, **kwargs) from builtins.type\n",
      " |      Create and return a new object.  See help(type) for accurate signature.\n",
      " |  \n",
      " |  maketrans(x, y=None, z=None, /)\n",
      " |      Return a translation table usable for str.translate().\n",
      " |      \n",
      " |      If there is only one argument, it must be a dictionary mapping Unicode\n",
      " |      ordinals (integers) or characters to Unicode ordinals, strings or None.\n",
      " |      Character keys will be then converted to ordinals.\n",
      " |      If there are two arguments, they must be strings of equal length, and\n",
      " |      in the resulting dictionary, each character in x will be mapped to the\n",
      " |      character at the same position in y. If there is a third argument, it\n",
      " |      must be a string, whose characters will be mapped to None in the result.\n",
      "\n"
     ]
    }
   ],
   "source": [
    "help(str)"
   ]
  },
  {
   "cell_type": "markdown",
   "metadata": {},
   "source": [
    "## Accents"
   ]
  },
  {
   "cell_type": "code",
   "execution_count": 4,
   "metadata": {},
   "outputs": [],
   "source": [
    "mwords = wsets.accents.mwords\n",
    "atype = wsets.accents.accenttype\n",
    "atype2set = wsets.accents.atype2set\n",
    "atype2name2set = wsets.accents.atype2name2set"
   ]
  },
  {
   "cell_type": "markdown",
   "metadata": {},
   "source": [
    "### mwords"
   ]
  },
  {
   "cell_type": "code",
   "execution_count": 5,
   "metadata": {},
   "outputs": [
    {
     "data": {
      "text/html": [
       "<table>\n",
       "<tr class=\"tf\">\n",
       "  <th class=\"tf\">n</th><th class=\"tf\">p</th>\n",
       "  <th class=\"tf\">verse</th><th>word</th><th>word</th>\n",
       "</tr>\n",
       "\n",
       "<tr class=\"tf\"><td class=\"tf\">1</td><td class=\"tf\"> <a href=\"https://shebanq.ancient-data.org/hebrew/text?book=Josua&amp;chapter=7&amp;verse=1&amp;version=c&amp;mr=m&amp;qw=q&amp;tp=txt_p&amp;tr=hb&amp;wget=v&amp;qget=v&amp;nget=vt\" title=\"show this passage in SHEBANQ\" sec=\"Joshua 7:1\">Joshua 7:1</a></td><td class=\"tf\"><span class=\"hb\"><a class=\"vn\" href=\"https://shebanq.ancient-data.org/hebrew/text?book=Josua&amp;chapter=7&amp;verse=1&amp;version=c&amp;mr=m&amp;qw=q&amp;tp=txt_p&amp;tr=hb&amp;wget=v&amp;qget=v&amp;nget=vt\" title=\"Joshua 7:1\" sec=\"Joshua 7:1\"></a><span  class=\"hl\" >וַ</span><span  class=\"hl\" >יִּמְעֲל֧וּ </span>בְנֵֽי־יִשְׂרָאֵ֛ל מַ֖עַל בַּחֵ֑רֶם וַיִּקַּ֡ח עָכָ֣ן בֶּן־כַּרְמִי֩ בֶן־זַבְדִּ֨י בֶן־זֶ֜רַח לְמַטֵּ֤ה יְהוּדָה֙ מִן־הַחֵ֔רֶם וַיִּֽחַר־אַ֥ף יְהוָ֖ה בִּבְנֵ֥י יִשְׂרָאֵֽל׃ </span></td><td class=\"tf\"><span class=\"hb\"><span  class=\"hl\" >וַ</span></span></td><td class=\"tf\"><span class=\"hb\"><span  class=\"hl\" >יִּמְעֲל֧וּ </span></span></td></tr>\n",
       "<tr class=\"tf\"><td class=\"tf\">2</td><td class=\"tf\"> <a href=\"https://shebanq.ancient-data.org/hebrew/text?book=Josua&amp;chapter=7&amp;verse=1&amp;version=c&amp;mr=m&amp;qw=q&amp;tp=txt_p&amp;tr=hb&amp;wget=v&amp;qget=v&amp;nget=vt\" title=\"show this passage in SHEBANQ\" sec=\"Joshua 7:1\">Joshua 7:1</a></td><td class=\"tf\"><span class=\"hb\"><a class=\"vn\" href=\"https://shebanq.ancient-data.org/hebrew/text?book=Josua&amp;chapter=7&amp;verse=1&amp;version=c&amp;mr=m&amp;qw=q&amp;tp=txt_p&amp;tr=hb&amp;wget=v&amp;qget=v&amp;nget=vt\" title=\"Joshua 7:1\" sec=\"Joshua 7:1\"></a><span  class=\"hl\" >וַ</span><span  class=\"hl\" >יִּמְעֲל֧וּ </span>בְנֵֽי־יִשְׂרָאֵ֛ל מַ֖עַל בַּחֵ֑רֶם וַיִּקַּ֡ח עָכָ֣ן בֶּן־כַּרְמִי֩ בֶן־זַבְדִּ֨י בֶן־זֶ֜רַח לְמַטֵּ֤ה יְהוּדָה֙ מִן־הַחֵ֔רֶם וַיִּֽחַר־אַ֥ף יְהוָ֖ה בִּבְנֵ֥י יִשְׂרָאֵֽל׃ </span></td><td class=\"tf\"><span class=\"hb\"><span  class=\"hl\" >וַ</span></span></td><td class=\"tf\"><span class=\"hb\"><span  class=\"hl\" >יִּמְעֲל֧וּ </span></span></td></tr>\n",
       "<tr class=\"tf\"><td class=\"tf\">3</td><td class=\"tf\"> <a href=\"https://shebanq.ancient-data.org/hebrew/text?book=Josua&amp;chapter=7&amp;verse=1&amp;version=c&amp;mr=m&amp;qw=q&amp;tp=txt_p&amp;tr=hb&amp;wget=v&amp;qget=v&amp;nget=vt\" title=\"show this passage in SHEBANQ\" sec=\"Joshua 7:1\">Joshua 7:1</a></td><td class=\"tf\"><span class=\"hb\"><a class=\"vn\" href=\"https://shebanq.ancient-data.org/hebrew/text?book=Josua&amp;chapter=7&amp;verse=1&amp;version=c&amp;mr=m&amp;qw=q&amp;tp=txt_p&amp;tr=hb&amp;wget=v&amp;qget=v&amp;nget=vt\" title=\"Joshua 7:1\" sec=\"Joshua 7:1\"></a>וַיִּמְעֲל֧וּ <span  class=\"hl\" >בְנֵֽי־</span><span  class=\"hl\" >יִשְׂרָאֵ֛ל </span>מַ֖עַל בַּחֵ֑רֶם וַיִּקַּ֡ח עָכָ֣ן בֶּן־כַּרְמִי֩ בֶן־זַבְדִּ֨י בֶן־זֶ֜רַח לְמַטֵּ֤ה יְהוּדָה֙ מִן־הַחֵ֔רֶם וַיִּֽחַר־אַ֥ף יְהוָ֖ה בִּבְנֵ֥י יִשְׂרָאֵֽל׃ </span></td><td class=\"tf\"><span class=\"hb\"><span  class=\"hl\" >בְנֵֽי־</span></span></td><td class=\"tf\"><span class=\"hb\"><span  class=\"hl\" >יִשְׂרָאֵ֛ל </span></span></td></tr>\n",
       "<tr class=\"tf\"><td class=\"tf\">4</td><td class=\"tf\"> <a href=\"https://shebanq.ancient-data.org/hebrew/text?book=Josua&amp;chapter=7&amp;verse=1&amp;version=c&amp;mr=m&amp;qw=q&amp;tp=txt_p&amp;tr=hb&amp;wget=v&amp;qget=v&amp;nget=vt\" title=\"show this passage in SHEBANQ\" sec=\"Joshua 7:1\">Joshua 7:1</a></td><td class=\"tf\"><span class=\"hb\"><a class=\"vn\" href=\"https://shebanq.ancient-data.org/hebrew/text?book=Josua&amp;chapter=7&amp;verse=1&amp;version=c&amp;mr=m&amp;qw=q&amp;tp=txt_p&amp;tr=hb&amp;wget=v&amp;qget=v&amp;nget=vt\" title=\"Joshua 7:1\" sec=\"Joshua 7:1\"></a>וַיִּמְעֲל֧וּ <span  class=\"hl\" >בְנֵֽי־</span><span  class=\"hl\" >יִשְׂרָאֵ֛ל </span>מַ֖עַל בַּחֵ֑רֶם וַיִּקַּ֡ח עָכָ֣ן בֶּן־כַּרְמִי֩ בֶן־זַבְדִּ֨י בֶן־זֶ֜רַח לְמַטֵּ֤ה יְהוּדָה֙ מִן־הַחֵ֔רֶם וַיִּֽחַר־אַ֥ף יְהוָ֖ה בִּבְנֵ֥י יִשְׂרָאֵֽל׃ </span></td><td class=\"tf\"><span class=\"hb\"><span  class=\"hl\" >בְנֵֽי־</span></span></td><td class=\"tf\"><span class=\"hb\"><span  class=\"hl\" >יִשְׂרָאֵ֛ל </span></span></td></tr>\n",
       "<tr class=\"tf\"><td class=\"tf\">5</td><td class=\"tf\"> <a href=\"https://shebanq.ancient-data.org/hebrew/text?book=Josua&amp;chapter=7&amp;verse=1&amp;version=c&amp;mr=m&amp;qw=q&amp;tp=txt_p&amp;tr=hb&amp;wget=v&amp;qget=v&amp;nget=vt\" title=\"show this passage in SHEBANQ\" sec=\"Joshua 7:1\">Joshua 7:1</a></td><td class=\"tf\"><span class=\"hb\"><a class=\"vn\" href=\"https://shebanq.ancient-data.org/hebrew/text?book=Josua&amp;chapter=7&amp;verse=1&amp;version=c&amp;mr=m&amp;qw=q&amp;tp=txt_p&amp;tr=hb&amp;wget=v&amp;qget=v&amp;nget=vt\" title=\"Joshua 7:1\" sec=\"Joshua 7:1\"></a>וַיִּמְעֲל֧וּ בְנֵֽי־יִשְׂרָאֵ֛ל <span  class=\"hl\" >מַ֖עַל </span>בַּחֵ֑רֶם וַיִּקַּ֡ח עָכָ֣ן בֶּן־כַּרְמִי֩ בֶן־זַבְדִּ֨י בֶן־זֶ֜רַח לְמַטֵּ֤ה יְהוּדָה֙ מִן־הַחֵ֔רֶם וַיִּֽחַר־אַ֥ף יְהוָ֖ה בִּבְנֵ֥י יִשְׂרָאֵֽל׃ </span></td><td class=\"tf\"><span class=\"hb\"><span  class=\"hl\" >מַ֖עַל </span></span></td></tr>\n",
       "<tr class=\"tf\"><td class=\"tf\">6</td><td class=\"tf\"> <a href=\"https://shebanq.ancient-data.org/hebrew/text?book=Josua&amp;chapter=7&amp;verse=1&amp;version=c&amp;mr=m&amp;qw=q&amp;tp=txt_p&amp;tr=hb&amp;wget=v&amp;qget=v&amp;nget=vt\" title=\"show this passage in SHEBANQ\" sec=\"Joshua 7:1\">Joshua 7:1</a></td><td class=\"tf\"><span class=\"hb\"><a class=\"vn\" href=\"https://shebanq.ancient-data.org/hebrew/text?book=Josua&amp;chapter=7&amp;verse=1&amp;version=c&amp;mr=m&amp;qw=q&amp;tp=txt_p&amp;tr=hb&amp;wget=v&amp;qget=v&amp;nget=vt\" title=\"Joshua 7:1\" sec=\"Joshua 7:1\"></a>וַיִּמְעֲל֧וּ בְנֵֽי־יִשְׂרָאֵ֛ל מַ֖עַל <span  class=\"hl\" >בַּ</span><span  class=\"hl\" ></span><span  class=\"hl\" >חֵ֑רֶם </span>וַיִּקַּ֡ח עָכָ֣ן בֶּן־כַּרְמִי֩ בֶן־זַבְדִּ֨י בֶן־זֶ֜רַח לְמַטֵּ֤ה יְהוּדָה֙ מִן־הַחֵ֔רֶם וַיִּֽחַר־אַ֥ף יְהוָ֖ה בִּבְנֵ֥י יִשְׂרָאֵֽל׃ </span></td><td class=\"tf\"><span class=\"hb\"><span  class=\"hl\" >בַּ</span></span></td><td class=\"tf\"><span class=\"hb\"><span  class=\"hl\" ></span></span></td><td class=\"tf\"><span class=\"hb\"><span  class=\"hl\" >חֵ֑רֶם </span></span></td></tr>\n",
       "<tr class=\"tf\"><td class=\"tf\">7</td><td class=\"tf\"> <a href=\"https://shebanq.ancient-data.org/hebrew/text?book=Josua&amp;chapter=7&amp;verse=1&amp;version=c&amp;mr=m&amp;qw=q&amp;tp=txt_p&amp;tr=hb&amp;wget=v&amp;qget=v&amp;nget=vt\" title=\"show this passage in SHEBANQ\" sec=\"Joshua 7:1\">Joshua 7:1</a></td><td class=\"tf\"><span class=\"hb\"><a class=\"vn\" href=\"https://shebanq.ancient-data.org/hebrew/text?book=Josua&amp;chapter=7&amp;verse=1&amp;version=c&amp;mr=m&amp;qw=q&amp;tp=txt_p&amp;tr=hb&amp;wget=v&amp;qget=v&amp;nget=vt\" title=\"Joshua 7:1\" sec=\"Joshua 7:1\"></a>וַיִּמְעֲל֧וּ בְנֵֽי־יִשְׂרָאֵ֛ל מַ֖עַל <span  class=\"hl\" >בַּ</span><span  class=\"hl\" ></span><span  class=\"hl\" >חֵ֑רֶם </span>וַיִּקַּ֡ח עָכָ֣ן בֶּן־כַּרְמִי֩ בֶן־זַבְדִּ֨י בֶן־זֶ֜רַח לְמַטֵּ֤ה יְהוּדָה֙ מִן־הַחֵ֔רֶם וַיִּֽחַר־אַ֥ף יְהוָ֖ה בִּבְנֵ֥י יִשְׂרָאֵֽל׃ </span></td><td class=\"tf\"><span class=\"hb\"><span  class=\"hl\" >בַּ</span></span></td><td class=\"tf\"><span class=\"hb\"><span  class=\"hl\" ></span></span></td><td class=\"tf\"><span class=\"hb\"><span  class=\"hl\" >חֵ֑רֶם </span></span></td></tr>\n",
       "<tr class=\"tf\"><td class=\"tf\">8</td><td class=\"tf\"> <a href=\"https://shebanq.ancient-data.org/hebrew/text?book=Josua&amp;chapter=7&amp;verse=1&amp;version=c&amp;mr=m&amp;qw=q&amp;tp=txt_p&amp;tr=hb&amp;wget=v&amp;qget=v&amp;nget=vt\" title=\"show this passage in SHEBANQ\" sec=\"Joshua 7:1\">Joshua 7:1</a></td><td class=\"tf\"><span class=\"hb\"><a class=\"vn\" href=\"https://shebanq.ancient-data.org/hebrew/text?book=Josua&amp;chapter=7&amp;verse=1&amp;version=c&amp;mr=m&amp;qw=q&amp;tp=txt_p&amp;tr=hb&amp;wget=v&amp;qget=v&amp;nget=vt\" title=\"Joshua 7:1\" sec=\"Joshua 7:1\"></a>וַיִּמְעֲל֧וּ בְנֵֽי־יִשְׂרָאֵ֛ל מַ֖עַל <span  class=\"hl\" >בַּ</span><span  class=\"hl\" ></span><span  class=\"hl\" >חֵ֑רֶם </span>וַיִּקַּ֡ח עָכָ֣ן בֶּן־כַּרְמִי֩ בֶן־זַבְדִּ֨י בֶן־זֶ֜רַח לְמַטֵּ֤ה יְהוּדָה֙ מִן־הַחֵ֔רֶם וַיִּֽחַר־אַ֥ף יְהוָ֖ה בִּבְנֵ֥י יִשְׂרָאֵֽל׃ </span></td><td class=\"tf\"><span class=\"hb\"><span  class=\"hl\" >בַּ</span></span></td><td class=\"tf\"><span class=\"hb\"><span  class=\"hl\" ></span></span></td><td class=\"tf\"><span class=\"hb\"><span  class=\"hl\" >חֵ֑רֶם </span></span></td></tr>\n",
       "<tr class=\"tf\"><td class=\"tf\">9</td><td class=\"tf\"> <a href=\"https://shebanq.ancient-data.org/hebrew/text?book=Josua&amp;chapter=7&amp;verse=1&amp;version=c&amp;mr=m&amp;qw=q&amp;tp=txt_p&amp;tr=hb&amp;wget=v&amp;qget=v&amp;nget=vt\" title=\"show this passage in SHEBANQ\" sec=\"Joshua 7:1\">Joshua 7:1</a></td><td class=\"tf\"><span class=\"hb\"><a class=\"vn\" href=\"https://shebanq.ancient-data.org/hebrew/text?book=Josua&amp;chapter=7&amp;verse=1&amp;version=c&amp;mr=m&amp;qw=q&amp;tp=txt_p&amp;tr=hb&amp;wget=v&amp;qget=v&amp;nget=vt\" title=\"Joshua 7:1\" sec=\"Joshua 7:1\"></a>וַיִּמְעֲל֧וּ בְנֵֽי־יִשְׂרָאֵ֛ל מַ֖עַל בַּחֵ֑רֶם <span  class=\"hl\" >וַ</span><span  class=\"hl\" >יִּקַּ֡ח </span>עָכָ֣ן בֶּן־כַּרְמִי֩ בֶן־זַבְדִּ֨י בֶן־זֶ֜רַח לְמַטֵּ֤ה יְהוּדָה֙ מִן־הַחֵ֔רֶם וַיִּֽחַר־אַ֥ף יְהוָ֖ה בִּבְנֵ֥י יִשְׂרָאֵֽל׃ </span></td><td class=\"tf\"><span class=\"hb\"><span  class=\"hl\" >וַ</span></span></td><td class=\"tf\"><span class=\"hb\"><span  class=\"hl\" >יִּקַּ֡ח </span></span></td></tr>\n",
       "<tr class=\"tf\"><td class=\"tf\">10</td><td class=\"tf\"> <a href=\"https://shebanq.ancient-data.org/hebrew/text?book=Josua&amp;chapter=7&amp;verse=1&amp;version=c&amp;mr=m&amp;qw=q&amp;tp=txt_p&amp;tr=hb&amp;wget=v&amp;qget=v&amp;nget=vt\" title=\"show this passage in SHEBANQ\" sec=\"Joshua 7:1\">Joshua 7:1</a></td><td class=\"tf\"><span class=\"hb\"><a class=\"vn\" href=\"https://shebanq.ancient-data.org/hebrew/text?book=Josua&amp;chapter=7&amp;verse=1&amp;version=c&amp;mr=m&amp;qw=q&amp;tp=txt_p&amp;tr=hb&amp;wget=v&amp;qget=v&amp;nget=vt\" title=\"Joshua 7:1\" sec=\"Joshua 7:1\"></a>וַיִּמְעֲל֧וּ בְנֵֽי־יִשְׂרָאֵ֛ל מַ֖עַל בַּחֵ֑רֶם <span  class=\"hl\" >וַ</span><span  class=\"hl\" >יִּקַּ֡ח </span>עָכָ֣ן בֶּן־כַּרְמִי֩ בֶן־זַבְדִּ֨י בֶן־זֶ֜רַח לְמַטֵּ֤ה יְהוּדָה֙ מִן־הַחֵ֔רֶם וַיִּֽחַר־אַ֥ף יְהוָ֖ה בִּבְנֵ֥י יִשְׂרָאֵֽל׃ </span></td><td class=\"tf\"><span class=\"hb\"><span  class=\"hl\" >וַ</span></span></td><td class=\"tf\"><span class=\"hb\"><span  class=\"hl\" >יִּקַּ֡ח </span></span></td></tr>\n",
       "<tr class=\"tf\"><td class=\"tf\">11</td><td class=\"tf\"> <a href=\"https://shebanq.ancient-data.org/hebrew/text?book=Josua&amp;chapter=7&amp;verse=1&amp;version=c&amp;mr=m&amp;qw=q&amp;tp=txt_p&amp;tr=hb&amp;wget=v&amp;qget=v&amp;nget=vt\" title=\"show this passage in SHEBANQ\" sec=\"Joshua 7:1\">Joshua 7:1</a></td><td class=\"tf\"><span class=\"hb\"><a class=\"vn\" href=\"https://shebanq.ancient-data.org/hebrew/text?book=Josua&amp;chapter=7&amp;verse=1&amp;version=c&amp;mr=m&amp;qw=q&amp;tp=txt_p&amp;tr=hb&amp;wget=v&amp;qget=v&amp;nget=vt\" title=\"Joshua 7:1\" sec=\"Joshua 7:1\"></a>וַיִּמְעֲל֧וּ בְנֵֽי־יִשְׂרָאֵ֛ל מַ֖עַל בַּחֵ֑רֶם וַיִּקַּ֡ח <span  class=\"hl\" >עָכָ֣ן </span>בֶּן־כַּרְמִי֩ בֶן־זַבְדִּ֨י בֶן־זֶ֜רַח לְמַטֵּ֤ה יְהוּדָה֙ מִן־הַחֵ֔רֶם וַיִּֽחַר־אַ֥ף יְהוָ֖ה בִּבְנֵ֥י יִשְׂרָאֵֽל׃ </span></td><td class=\"tf\"><span class=\"hb\"><span  class=\"hl\" >עָכָ֣ן </span></span></td></tr>\n",
       "<tr class=\"tf\"><td class=\"tf\">12</td><td class=\"tf\"> <a href=\"https://shebanq.ancient-data.org/hebrew/text?book=Josua&amp;chapter=7&amp;verse=1&amp;version=c&amp;mr=m&amp;qw=q&amp;tp=txt_p&amp;tr=hb&amp;wget=v&amp;qget=v&amp;nget=vt\" title=\"show this passage in SHEBANQ\" sec=\"Joshua 7:1\">Joshua 7:1</a></td><td class=\"tf\"><span class=\"hb\"><a class=\"vn\" href=\"https://shebanq.ancient-data.org/hebrew/text?book=Josua&amp;chapter=7&amp;verse=1&amp;version=c&amp;mr=m&amp;qw=q&amp;tp=txt_p&amp;tr=hb&amp;wget=v&amp;qget=v&amp;nget=vt\" title=\"Joshua 7:1\" sec=\"Joshua 7:1\"></a>וַיִּמְעֲל֧וּ בְנֵֽי־יִשְׂרָאֵ֛ל מַ֖עַל בַּחֵ֑רֶם וַיִּקַּ֡ח עָכָ֣ן <span  class=\"hl\" >בֶּן־</span><span  class=\"hl\" >כַּרְמִי֩ </span>בֶן־זַבְדִּ֨י בֶן־זֶ֜רַח לְמַטֵּ֤ה יְהוּדָה֙ מִן־הַחֵ֔רֶם וַיִּֽחַר־אַ֥ף יְהוָ֖ה בִּבְנֵ֥י יִשְׂרָאֵֽל׃ </span></td><td class=\"tf\"><span class=\"hb\"><span  class=\"hl\" >בֶּן־</span></span></td><td class=\"tf\"><span class=\"hb\"><span  class=\"hl\" >כַּרְמִי֩ </span></span></td></tr>\n",
       "<tr class=\"tf\"><td class=\"tf\">13</td><td class=\"tf\"> <a href=\"https://shebanq.ancient-data.org/hebrew/text?book=Josua&amp;chapter=7&amp;verse=1&amp;version=c&amp;mr=m&amp;qw=q&amp;tp=txt_p&amp;tr=hb&amp;wget=v&amp;qget=v&amp;nget=vt\" title=\"show this passage in SHEBANQ\" sec=\"Joshua 7:1\">Joshua 7:1</a></td><td class=\"tf\"><span class=\"hb\"><a class=\"vn\" href=\"https://shebanq.ancient-data.org/hebrew/text?book=Josua&amp;chapter=7&amp;verse=1&amp;version=c&amp;mr=m&amp;qw=q&amp;tp=txt_p&amp;tr=hb&amp;wget=v&amp;qget=v&amp;nget=vt\" title=\"Joshua 7:1\" sec=\"Joshua 7:1\"></a>וַיִּמְעֲל֧וּ בְנֵֽי־יִשְׂרָאֵ֛ל מַ֖עַל בַּחֵ֑רֶם וַיִּקַּ֡ח עָכָ֣ן <span  class=\"hl\" >בֶּן־</span><span  class=\"hl\" >כַּרְמִי֩ </span>בֶן־זַבְדִּ֨י בֶן־זֶ֜רַח לְמַטֵּ֤ה יְהוּדָה֙ מִן־הַחֵ֔רֶם וַיִּֽחַר־אַ֥ף יְהוָ֖ה בִּבְנֵ֥י יִשְׂרָאֵֽל׃ </span></td><td class=\"tf\"><span class=\"hb\"><span  class=\"hl\" >בֶּן־</span></span></td><td class=\"tf\"><span class=\"hb\"><span  class=\"hl\" >כַּרְמִי֩ </span></span></td></tr>\n",
       "<tr class=\"tf\"><td class=\"tf\">14</td><td class=\"tf\"> <a href=\"https://shebanq.ancient-data.org/hebrew/text?book=Josua&amp;chapter=7&amp;verse=1&amp;version=c&amp;mr=m&amp;qw=q&amp;tp=txt_p&amp;tr=hb&amp;wget=v&amp;qget=v&amp;nget=vt\" title=\"show this passage in SHEBANQ\" sec=\"Joshua 7:1\">Joshua 7:1</a></td><td class=\"tf\"><span class=\"hb\"><a class=\"vn\" href=\"https://shebanq.ancient-data.org/hebrew/text?book=Josua&amp;chapter=7&amp;verse=1&amp;version=c&amp;mr=m&amp;qw=q&amp;tp=txt_p&amp;tr=hb&amp;wget=v&amp;qget=v&amp;nget=vt\" title=\"Joshua 7:1\" sec=\"Joshua 7:1\"></a>וַיִּמְעֲל֧וּ בְנֵֽי־יִשְׂרָאֵ֛ל מַ֖עַל בַּחֵ֑רֶם וַיִּקַּ֡ח עָכָ֣ן בֶּן־כַּרְמִי֩ <span  class=\"hl\" >בֶן־</span><span  class=\"hl\" >זַבְדִּ֨י </span>בֶן־זֶ֜רַח לְמַטֵּ֤ה יְהוּדָה֙ מִן־הַחֵ֔רֶם וַיִּֽחַר־אַ֥ף יְהוָ֖ה בִּבְנֵ֥י יִשְׂרָאֵֽל׃ </span></td><td class=\"tf\"><span class=\"hb\"><span  class=\"hl\" >בֶן־</span></span></td><td class=\"tf\"><span class=\"hb\"><span  class=\"hl\" >זַבְדִּ֨י </span></span></td></tr>\n",
       "<tr class=\"tf\"><td class=\"tf\">15</td><td class=\"tf\"> <a href=\"https://shebanq.ancient-data.org/hebrew/text?book=Josua&amp;chapter=7&amp;verse=1&amp;version=c&amp;mr=m&amp;qw=q&amp;tp=txt_p&amp;tr=hb&amp;wget=v&amp;qget=v&amp;nget=vt\" title=\"show this passage in SHEBANQ\" sec=\"Joshua 7:1\">Joshua 7:1</a></td><td class=\"tf\"><span class=\"hb\"><a class=\"vn\" href=\"https://shebanq.ancient-data.org/hebrew/text?book=Josua&amp;chapter=7&amp;verse=1&amp;version=c&amp;mr=m&amp;qw=q&amp;tp=txt_p&amp;tr=hb&amp;wget=v&amp;qget=v&amp;nget=vt\" title=\"Joshua 7:1\" sec=\"Joshua 7:1\"></a>וַיִּמְעֲל֧וּ בְנֵֽי־יִשְׂרָאֵ֛ל מַ֖עַל בַּחֵ֑רֶם וַיִּקַּ֡ח עָכָ֣ן בֶּן־כַּרְמִי֩ <span  class=\"hl\" >בֶן־</span><span  class=\"hl\" >זַבְדִּ֨י </span>בֶן־זֶ֜רַח לְמַטֵּ֤ה יְהוּדָה֙ מִן־הַחֵ֔רֶם וַיִּֽחַר־אַ֥ף יְהוָ֖ה בִּבְנֵ֥י יִשְׂרָאֵֽל׃ </span></td><td class=\"tf\"><span class=\"hb\"><span  class=\"hl\" >בֶן־</span></span></td><td class=\"tf\"><span class=\"hb\"><span  class=\"hl\" >זַבְדִּ֨י </span></span></td></tr>\n",
       "<tr class=\"tf\"><td class=\"tf\">16</td><td class=\"tf\"> <a href=\"https://shebanq.ancient-data.org/hebrew/text?book=Josua&amp;chapter=7&amp;verse=1&amp;version=c&amp;mr=m&amp;qw=q&amp;tp=txt_p&amp;tr=hb&amp;wget=v&amp;qget=v&amp;nget=vt\" title=\"show this passage in SHEBANQ\" sec=\"Joshua 7:1\">Joshua 7:1</a></td><td class=\"tf\"><span class=\"hb\"><a class=\"vn\" href=\"https://shebanq.ancient-data.org/hebrew/text?book=Josua&amp;chapter=7&amp;verse=1&amp;version=c&amp;mr=m&amp;qw=q&amp;tp=txt_p&amp;tr=hb&amp;wget=v&amp;qget=v&amp;nget=vt\" title=\"Joshua 7:1\" sec=\"Joshua 7:1\"></a>וַיִּמְעֲל֧וּ בְנֵֽי־יִשְׂרָאֵ֛ל מַ֖עַל בַּחֵ֑רֶם וַיִּקַּ֡ח עָכָ֣ן בֶּן־כַּרְמִי֩ בֶן־זַבְדִּ֨י <span  class=\"hl\" >בֶן־</span><span  class=\"hl\" >זֶ֜רַח </span>לְמַטֵּ֤ה יְהוּדָה֙ מִן־הַחֵ֔רֶם וַיִּֽחַר־אַ֥ף יְהוָ֖ה בִּבְנֵ֥י יִשְׂרָאֵֽל׃ </span></td><td class=\"tf\"><span class=\"hb\"><span  class=\"hl\" >בֶן־</span></span></td><td class=\"tf\"><span class=\"hb\"><span  class=\"hl\" >זֶ֜רַח </span></span></td></tr>\n",
       "<tr class=\"tf\"><td class=\"tf\">17</td><td class=\"tf\"> <a href=\"https://shebanq.ancient-data.org/hebrew/text?book=Josua&amp;chapter=7&amp;verse=1&amp;version=c&amp;mr=m&amp;qw=q&amp;tp=txt_p&amp;tr=hb&amp;wget=v&amp;qget=v&amp;nget=vt\" title=\"show this passage in SHEBANQ\" sec=\"Joshua 7:1\">Joshua 7:1</a></td><td class=\"tf\"><span class=\"hb\"><a class=\"vn\" href=\"https://shebanq.ancient-data.org/hebrew/text?book=Josua&amp;chapter=7&amp;verse=1&amp;version=c&amp;mr=m&amp;qw=q&amp;tp=txt_p&amp;tr=hb&amp;wget=v&amp;qget=v&amp;nget=vt\" title=\"Joshua 7:1\" sec=\"Joshua 7:1\"></a>וַיִּמְעֲל֧וּ בְנֵֽי־יִשְׂרָאֵ֛ל מַ֖עַל בַּחֵ֑רֶם וַיִּקַּ֡ח עָכָ֣ן בֶּן־כַּרְמִי֩ בֶן־זַבְדִּ֨י <span  class=\"hl\" >בֶן־</span><span  class=\"hl\" >זֶ֜רַח </span>לְמַטֵּ֤ה יְהוּדָה֙ מִן־הַחֵ֔רֶם וַיִּֽחַר־אַ֥ף יְהוָ֖ה בִּבְנֵ֥י יִשְׂרָאֵֽל׃ </span></td><td class=\"tf\"><span class=\"hb\"><span  class=\"hl\" >בֶן־</span></span></td><td class=\"tf\"><span class=\"hb\"><span  class=\"hl\" >זֶ֜רַח </span></span></td></tr>\n",
       "<tr class=\"tf\"><td class=\"tf\">18</td><td class=\"tf\"> <a href=\"https://shebanq.ancient-data.org/hebrew/text?book=Josua&amp;chapter=7&amp;verse=1&amp;version=c&amp;mr=m&amp;qw=q&amp;tp=txt_p&amp;tr=hb&amp;wget=v&amp;qget=v&amp;nget=vt\" title=\"show this passage in SHEBANQ\" sec=\"Joshua 7:1\">Joshua 7:1</a></td><td class=\"tf\"><span class=\"hb\"><a class=\"vn\" href=\"https://shebanq.ancient-data.org/hebrew/text?book=Josua&amp;chapter=7&amp;verse=1&amp;version=c&amp;mr=m&amp;qw=q&amp;tp=txt_p&amp;tr=hb&amp;wget=v&amp;qget=v&amp;nget=vt\" title=\"Joshua 7:1\" sec=\"Joshua 7:1\"></a>וַיִּמְעֲל֧וּ בְנֵֽי־יִשְׂרָאֵ֛ל מַ֖עַל בַּחֵ֑רֶם וַיִּקַּ֡ח עָכָ֣ן בֶּן־כַּרְמִי֩ בֶן־זַבְדִּ֨י בֶן־זֶ֜רַח <span  class=\"hl\" >לְ</span><span  class=\"hl\" >מַטֵּ֤ה </span>יְהוּדָה֙ מִן־הַחֵ֔רֶם וַיִּֽחַר־אַ֥ף יְהוָ֖ה בִּבְנֵ֥י יִשְׂרָאֵֽל׃ </span></td><td class=\"tf\"><span class=\"hb\"><span  class=\"hl\" >לְ</span></span></td><td class=\"tf\"><span class=\"hb\"><span  class=\"hl\" >מַטֵּ֤ה </span></span></td></tr>\n",
       "<tr class=\"tf\"><td class=\"tf\">19</td><td class=\"tf\"> <a href=\"https://shebanq.ancient-data.org/hebrew/text?book=Josua&amp;chapter=7&amp;verse=1&amp;version=c&amp;mr=m&amp;qw=q&amp;tp=txt_p&amp;tr=hb&amp;wget=v&amp;qget=v&amp;nget=vt\" title=\"show this passage in SHEBANQ\" sec=\"Joshua 7:1\">Joshua 7:1</a></td><td class=\"tf\"><span class=\"hb\"><a class=\"vn\" href=\"https://shebanq.ancient-data.org/hebrew/text?book=Josua&amp;chapter=7&amp;verse=1&amp;version=c&amp;mr=m&amp;qw=q&amp;tp=txt_p&amp;tr=hb&amp;wget=v&amp;qget=v&amp;nget=vt\" title=\"Joshua 7:1\" sec=\"Joshua 7:1\"></a>וַיִּמְעֲל֧וּ בְנֵֽי־יִשְׂרָאֵ֛ל מַ֖עַל בַּחֵ֑רֶם וַיִּקַּ֡ח עָכָ֣ן בֶּן־כַּרְמִי֩ בֶן־זַבְדִּ֨י בֶן־זֶ֜רַח <span  class=\"hl\" >לְ</span><span  class=\"hl\" >מַטֵּ֤ה </span>יְהוּדָה֙ מִן־הַחֵ֔רֶם וַיִּֽחַר־אַ֥ף יְהוָ֖ה בִּבְנֵ֥י יִשְׂרָאֵֽל׃ </span></td><td class=\"tf\"><span class=\"hb\"><span  class=\"hl\" >לְ</span></span></td><td class=\"tf\"><span class=\"hb\"><span  class=\"hl\" >מַטֵּ֤ה </span></span></td></tr>\n",
       "<tr class=\"tf\"><td class=\"tf\">20</td><td class=\"tf\"> <a href=\"https://shebanq.ancient-data.org/hebrew/text?book=Josua&amp;chapter=7&amp;verse=1&amp;version=c&amp;mr=m&amp;qw=q&amp;tp=txt_p&amp;tr=hb&amp;wget=v&amp;qget=v&amp;nget=vt\" title=\"show this passage in SHEBANQ\" sec=\"Joshua 7:1\">Joshua 7:1</a></td><td class=\"tf\"><span class=\"hb\"><a class=\"vn\" href=\"https://shebanq.ancient-data.org/hebrew/text?book=Josua&amp;chapter=7&amp;verse=1&amp;version=c&amp;mr=m&amp;qw=q&amp;tp=txt_p&amp;tr=hb&amp;wget=v&amp;qget=v&amp;nget=vt\" title=\"Joshua 7:1\" sec=\"Joshua 7:1\"></a>וַיִּמְעֲל֧וּ בְנֵֽי־יִשְׂרָאֵ֛ל מַ֖עַל בַּחֵ֑רֶם וַיִּקַּ֡ח עָכָ֣ן בֶּן־כַּרְמִי֩ בֶן־זַבְדִּ֨י בֶן־זֶ֜רַח לְמַטֵּ֤ה <span  class=\"hl\" >יְהוּדָה֙ </span>מִן־הַחֵ֔רֶם וַיִּֽחַר־אַ֥ף יְהוָ֖ה בִּבְנֵ֥י יִשְׂרָאֵֽל׃ </span></td><td class=\"tf\"><span class=\"hb\"><span  class=\"hl\" >יְהוּדָה֙ </span></span></td></tr>\n",
       "<tr class=\"tf\"><td class=\"tf\">21</td><td class=\"tf\"> <a href=\"https://shebanq.ancient-data.org/hebrew/text?book=Josua&amp;chapter=7&amp;verse=1&amp;version=c&amp;mr=m&amp;qw=q&amp;tp=txt_p&amp;tr=hb&amp;wget=v&amp;qget=v&amp;nget=vt\" title=\"show this passage in SHEBANQ\" sec=\"Joshua 7:1\">Joshua 7:1</a></td><td class=\"tf\"><span class=\"hb\"><a class=\"vn\" href=\"https://shebanq.ancient-data.org/hebrew/text?book=Josua&amp;chapter=7&amp;verse=1&amp;version=c&amp;mr=m&amp;qw=q&amp;tp=txt_p&amp;tr=hb&amp;wget=v&amp;qget=v&amp;nget=vt\" title=\"Joshua 7:1\" sec=\"Joshua 7:1\"></a>וַיִּמְעֲל֧וּ בְנֵֽי־יִשְׂרָאֵ֛ל מַ֖עַל בַּחֵ֑רֶם וַיִּקַּ֡ח עָכָ֣ן בֶּן־כַּרְמִי֩ בֶן־זַבְדִּ֨י בֶן־זֶ֜רַח לְמַטֵּ֤ה יְהוּדָה֙ <span  class=\"hl\" >מִן־</span><span  class=\"hl\" >הַ</span><span  class=\"hl\" >חֵ֔רֶם </span>וַיִּֽחַר־אַ֥ף יְהוָ֖ה בִּבְנֵ֥י יִשְׂרָאֵֽל׃ </span></td><td class=\"tf\"><span class=\"hb\"><span  class=\"hl\" >מִן־</span></span></td><td class=\"tf\"><span class=\"hb\"><span  class=\"hl\" >הַ</span></span></td><td class=\"tf\"><span class=\"hb\"><span  class=\"hl\" >חֵ֔רֶם </span></span></td></tr>\n",
       "<tr class=\"tf\"><td class=\"tf\">22</td><td class=\"tf\"> <a href=\"https://shebanq.ancient-data.org/hebrew/text?book=Josua&amp;chapter=7&amp;verse=1&amp;version=c&amp;mr=m&amp;qw=q&amp;tp=txt_p&amp;tr=hb&amp;wget=v&amp;qget=v&amp;nget=vt\" title=\"show this passage in SHEBANQ\" sec=\"Joshua 7:1\">Joshua 7:1</a></td><td class=\"tf\"><span class=\"hb\"><a class=\"vn\" href=\"https://shebanq.ancient-data.org/hebrew/text?book=Josua&amp;chapter=7&amp;verse=1&amp;version=c&amp;mr=m&amp;qw=q&amp;tp=txt_p&amp;tr=hb&amp;wget=v&amp;qget=v&amp;nget=vt\" title=\"Joshua 7:1\" sec=\"Joshua 7:1\"></a>וַיִּמְעֲל֧וּ בְנֵֽי־יִשְׂרָאֵ֛ל מַ֖עַל בַּחֵ֑רֶם וַיִּקַּ֡ח עָכָ֣ן בֶּן־כַּרְמִי֩ בֶן־זַבְדִּ֨י בֶן־זֶ֜רַח לְמַטֵּ֤ה יְהוּדָה֙ <span  class=\"hl\" >מִן־</span><span  class=\"hl\" >הַ</span><span  class=\"hl\" >חֵ֔רֶם </span>וַיִּֽחַר־אַ֥ף יְהוָ֖ה בִּבְנֵ֥י יִשְׂרָאֵֽל׃ </span></td><td class=\"tf\"><span class=\"hb\"><span  class=\"hl\" >מִן־</span></span></td><td class=\"tf\"><span class=\"hb\"><span  class=\"hl\" >הַ</span></span></td><td class=\"tf\"><span class=\"hb\"><span  class=\"hl\" >חֵ֔רֶם </span></span></td></tr>\n",
       "<tr class=\"tf\"><td class=\"tf\">23</td><td class=\"tf\"> <a href=\"https://shebanq.ancient-data.org/hebrew/text?book=Josua&amp;chapter=7&amp;verse=1&amp;version=c&amp;mr=m&amp;qw=q&amp;tp=txt_p&amp;tr=hb&amp;wget=v&amp;qget=v&amp;nget=vt\" title=\"show this passage in SHEBANQ\" sec=\"Joshua 7:1\">Joshua 7:1</a></td><td class=\"tf\"><span class=\"hb\"><a class=\"vn\" href=\"https://shebanq.ancient-data.org/hebrew/text?book=Josua&amp;chapter=7&amp;verse=1&amp;version=c&amp;mr=m&amp;qw=q&amp;tp=txt_p&amp;tr=hb&amp;wget=v&amp;qget=v&amp;nget=vt\" title=\"Joshua 7:1\" sec=\"Joshua 7:1\"></a>וַיִּמְעֲל֧וּ בְנֵֽי־יִשְׂרָאֵ֛ל מַ֖עַל בַּחֵ֑רֶם וַיִּקַּ֡ח עָכָ֣ן בֶּן־כַּרְמִי֩ בֶן־זַבְדִּ֨י בֶן־זֶ֜רַח לְמַטֵּ֤ה יְהוּדָה֙ <span  class=\"hl\" >מִן־</span><span  class=\"hl\" >הַ</span><span  class=\"hl\" >חֵ֔רֶם </span>וַיִּֽחַר־אַ֥ף יְהוָ֖ה בִּבְנֵ֥י יִשְׂרָאֵֽל׃ </span></td><td class=\"tf\"><span class=\"hb\"><span  class=\"hl\" >מִן־</span></span></td><td class=\"tf\"><span class=\"hb\"><span  class=\"hl\" >הַ</span></span></td><td class=\"tf\"><span class=\"hb\"><span  class=\"hl\" >חֵ֔רֶם </span></span></td></tr>\n",
       "<tr class=\"tf\"><td class=\"tf\">24</td><td class=\"tf\"> <a href=\"https://shebanq.ancient-data.org/hebrew/text?book=Josua&amp;chapter=7&amp;verse=1&amp;version=c&amp;mr=m&amp;qw=q&amp;tp=txt_p&amp;tr=hb&amp;wget=v&amp;qget=v&amp;nget=vt\" title=\"show this passage in SHEBANQ\" sec=\"Joshua 7:1\">Joshua 7:1</a></td><td class=\"tf\"><span class=\"hb\"><a class=\"vn\" href=\"https://shebanq.ancient-data.org/hebrew/text?book=Josua&amp;chapter=7&amp;verse=1&amp;version=c&amp;mr=m&amp;qw=q&amp;tp=txt_p&amp;tr=hb&amp;wget=v&amp;qget=v&amp;nget=vt\" title=\"Joshua 7:1\" sec=\"Joshua 7:1\"></a>וַיִּמְעֲל֧וּ בְנֵֽי־יִשְׂרָאֵ֛ל מַ֖עַל בַּחֵ֑רֶם וַיִּקַּ֡ח עָכָ֣ן בֶּן־כַּרְמִי֩ בֶן־זַבְדִּ֨י בֶן־זֶ֜רַח לְמַטֵּ֤ה יְהוּדָה֙ מִן־הַחֵ֔רֶם <span  class=\"hl\" >וַ</span><span  class=\"hl\" >יִּֽחַר־</span><span  class=\"hl\" >אַ֥ף </span>יְהוָ֖ה בִּבְנֵ֥י יִשְׂרָאֵֽל׃ </span></td><td class=\"tf\"><span class=\"hb\"><span  class=\"hl\" >וַ</span></span></td><td class=\"tf\"><span class=\"hb\"><span  class=\"hl\" >יִּֽחַר־</span></span></td><td class=\"tf\"><span class=\"hb\"><span  class=\"hl\" >אַ֥ף </span></span></td></tr>\n",
       "<tr class=\"tf\"><td class=\"tf\">25</td><td class=\"tf\"> <a href=\"https://shebanq.ancient-data.org/hebrew/text?book=Josua&amp;chapter=7&amp;verse=1&amp;version=c&amp;mr=m&amp;qw=q&amp;tp=txt_p&amp;tr=hb&amp;wget=v&amp;qget=v&amp;nget=vt\" title=\"show this passage in SHEBANQ\" sec=\"Joshua 7:1\">Joshua 7:1</a></td><td class=\"tf\"><span class=\"hb\"><a class=\"vn\" href=\"https://shebanq.ancient-data.org/hebrew/text?book=Josua&amp;chapter=7&amp;verse=1&amp;version=c&amp;mr=m&amp;qw=q&amp;tp=txt_p&amp;tr=hb&amp;wget=v&amp;qget=v&amp;nget=vt\" title=\"Joshua 7:1\" sec=\"Joshua 7:1\"></a>וַיִּמְעֲל֧וּ בְנֵֽי־יִשְׂרָאֵ֛ל מַ֖עַל בַּחֵ֑רֶם וַיִּקַּ֡ח עָכָ֣ן בֶּן־כַּרְמִי֩ בֶן־זַבְדִּ֨י בֶן־זֶ֜רַח לְמַטֵּ֤ה יְהוּדָה֙ מִן־הַחֵ֔רֶם <span  class=\"hl\" >וַ</span><span  class=\"hl\" >יִּֽחַר־</span><span  class=\"hl\" >אַ֥ף </span>יְהוָ֖ה בִּבְנֵ֥י יִשְׂרָאֵֽל׃ </span></td><td class=\"tf\"><span class=\"hb\"><span  class=\"hl\" >וַ</span></span></td><td class=\"tf\"><span class=\"hb\"><span  class=\"hl\" >יִּֽחַר־</span></span></td><td class=\"tf\"><span class=\"hb\"><span  class=\"hl\" >אַ֥ף </span></span></td></tr>\n",
       "<tr class=\"tf\"><td class=\"tf\">26</td><td class=\"tf\"> <a href=\"https://shebanq.ancient-data.org/hebrew/text?book=Josua&amp;chapter=7&amp;verse=1&amp;version=c&amp;mr=m&amp;qw=q&amp;tp=txt_p&amp;tr=hb&amp;wget=v&amp;qget=v&amp;nget=vt\" title=\"show this passage in SHEBANQ\" sec=\"Joshua 7:1\">Joshua 7:1</a></td><td class=\"tf\"><span class=\"hb\"><a class=\"vn\" href=\"https://shebanq.ancient-data.org/hebrew/text?book=Josua&amp;chapter=7&amp;verse=1&amp;version=c&amp;mr=m&amp;qw=q&amp;tp=txt_p&amp;tr=hb&amp;wget=v&amp;qget=v&amp;nget=vt\" title=\"Joshua 7:1\" sec=\"Joshua 7:1\"></a>וַיִּמְעֲל֧וּ בְנֵֽי־יִשְׂרָאֵ֛ל מַ֖עַל בַּחֵ֑רֶם וַיִּקַּ֡ח עָכָ֣ן בֶּן־כַּרְמִי֩ בֶן־זַבְדִּ֨י בֶן־זֶ֜רַח לְמַטֵּ֤ה יְהוּדָה֙ מִן־הַחֵ֔רֶם <span  class=\"hl\" >וַ</span><span  class=\"hl\" >יִּֽחַר־</span><span  class=\"hl\" >אַ֥ף </span>יְהוָ֖ה בִּבְנֵ֥י יִשְׂרָאֵֽל׃ </span></td><td class=\"tf\"><span class=\"hb\"><span  class=\"hl\" >וַ</span></span></td><td class=\"tf\"><span class=\"hb\"><span  class=\"hl\" >יִּֽחַר־</span></span></td><td class=\"tf\"><span class=\"hb\"><span  class=\"hl\" >אַ֥ף </span></span></td></tr>\n",
       "<tr class=\"tf\"><td class=\"tf\">27</td><td class=\"tf\"> <a href=\"https://shebanq.ancient-data.org/hebrew/text?book=Josua&amp;chapter=7&amp;verse=1&amp;version=c&amp;mr=m&amp;qw=q&amp;tp=txt_p&amp;tr=hb&amp;wget=v&amp;qget=v&amp;nget=vt\" title=\"show this passage in SHEBANQ\" sec=\"Joshua 7:1\">Joshua 7:1</a></td><td class=\"tf\"><span class=\"hb\"><a class=\"vn\" href=\"https://shebanq.ancient-data.org/hebrew/text?book=Josua&amp;chapter=7&amp;verse=1&amp;version=c&amp;mr=m&amp;qw=q&amp;tp=txt_p&amp;tr=hb&amp;wget=v&amp;qget=v&amp;nget=vt\" title=\"Joshua 7:1\" sec=\"Joshua 7:1\"></a>וַיִּמְעֲל֧וּ בְנֵֽי־יִשְׂרָאֵ֛ל מַ֖עַל בַּחֵ֑רֶם וַיִּקַּ֡ח עָכָ֣ן בֶּן־כַּרְמִי֩ בֶן־זַבְדִּ֨י בֶן־זֶ֜רַח לְמַטֵּ֤ה יְהוּדָה֙ מִן־הַחֵ֔רֶם וַיִּֽחַר־אַ֥ף <span  class=\"hl\" >יְהוָ֖ה </span>בִּבְנֵ֥י יִשְׂרָאֵֽל׃ </span></td><td class=\"tf\"><span class=\"hb\"><span  class=\"hl\" >יְהוָ֖ה </span></span></td></tr>\n",
       "<tr class=\"tf\"><td class=\"tf\">28</td><td class=\"tf\"> <a href=\"https://shebanq.ancient-data.org/hebrew/text?book=Josua&amp;chapter=7&amp;verse=1&amp;version=c&amp;mr=m&amp;qw=q&amp;tp=txt_p&amp;tr=hb&amp;wget=v&amp;qget=v&amp;nget=vt\" title=\"show this passage in SHEBANQ\" sec=\"Joshua 7:1\">Joshua 7:1</a></td><td class=\"tf\"><span class=\"hb\"><a class=\"vn\" href=\"https://shebanq.ancient-data.org/hebrew/text?book=Josua&amp;chapter=7&amp;verse=1&amp;version=c&amp;mr=m&amp;qw=q&amp;tp=txt_p&amp;tr=hb&amp;wget=v&amp;qget=v&amp;nget=vt\" title=\"Joshua 7:1\" sec=\"Joshua 7:1\"></a>וַיִּמְעֲל֧וּ בְנֵֽי־יִשְׂרָאֵ֛ל מַ֖עַל בַּחֵ֑רֶם וַיִּקַּ֡ח עָכָ֣ן בֶּן־כַּרְמִי֩ בֶן־זַבְדִּ֨י בֶן־זֶ֜רַח לְמַטֵּ֤ה יְהוּדָה֙ מִן־הַחֵ֔רֶם וַיִּֽחַר־אַ֥ף יְהוָ֖ה <span  class=\"hl\" >בִּ</span><span  class=\"hl\" >בְנֵ֥י </span>יִשְׂרָאֵֽל׃ </span></td><td class=\"tf\"><span class=\"hb\"><span  class=\"hl\" >בִּ</span></span></td><td class=\"tf\"><span class=\"hb\"><span  class=\"hl\" >בְנֵ֥י </span></span></td></tr>\n",
       "<tr class=\"tf\"><td class=\"tf\">29</td><td class=\"tf\"> <a href=\"https://shebanq.ancient-data.org/hebrew/text?book=Josua&amp;chapter=7&amp;verse=1&amp;version=c&amp;mr=m&amp;qw=q&amp;tp=txt_p&amp;tr=hb&amp;wget=v&amp;qget=v&amp;nget=vt\" title=\"show this passage in SHEBANQ\" sec=\"Joshua 7:1\">Joshua 7:1</a></td><td class=\"tf\"><span class=\"hb\"><a class=\"vn\" href=\"https://shebanq.ancient-data.org/hebrew/text?book=Josua&amp;chapter=7&amp;verse=1&amp;version=c&amp;mr=m&amp;qw=q&amp;tp=txt_p&amp;tr=hb&amp;wget=v&amp;qget=v&amp;nget=vt\" title=\"Joshua 7:1\" sec=\"Joshua 7:1\"></a>וַיִּמְעֲל֧וּ בְנֵֽי־יִשְׂרָאֵ֛ל מַ֖עַל בַּחֵ֑רֶם וַיִּקַּ֡ח עָכָ֣ן בֶּן־כַּרְמִי֩ בֶן־זַבְדִּ֨י בֶן־זֶ֜רַח לְמַטֵּ֤ה יְהוּדָה֙ מִן־הַחֵ֔רֶם וַיִּֽחַר־אַ֥ף יְהוָ֖ה <span  class=\"hl\" >בִּ</span><span  class=\"hl\" >בְנֵ֥י </span>יִשְׂרָאֵֽל׃ </span></td><td class=\"tf\"><span class=\"hb\"><span  class=\"hl\" >בִּ</span></span></td><td class=\"tf\"><span class=\"hb\"><span  class=\"hl\" >בְנֵ֥י </span></span></td></tr>\n",
       "<tr class=\"tf\"><td class=\"tf\">30</td><td class=\"tf\"> <a href=\"https://shebanq.ancient-data.org/hebrew/text?book=Josua&amp;chapter=7&amp;verse=1&amp;version=c&amp;mr=m&amp;qw=q&amp;tp=txt_p&amp;tr=hb&amp;wget=v&amp;qget=v&amp;nget=vt\" title=\"show this passage in SHEBANQ\" sec=\"Joshua 7:1\">Joshua 7:1</a></td><td class=\"tf\"><span class=\"hb\"><a class=\"vn\" href=\"https://shebanq.ancient-data.org/hebrew/text?book=Josua&amp;chapter=7&amp;verse=1&amp;version=c&amp;mr=m&amp;qw=q&amp;tp=txt_p&amp;tr=hb&amp;wget=v&amp;qget=v&amp;nget=vt\" title=\"Joshua 7:1\" sec=\"Joshua 7:1\"></a>וַיִּמְעֲל֧וּ בְנֵֽי־יִשְׂרָאֵ֛ל מַ֖עַל בַּחֵ֑רֶם וַיִּקַּ֡ח עָכָ֣ן בֶּן־כַּרְמִי֩ בֶן־זַבְדִּ֨י בֶן־זֶ֜רַח לְמַטֵּ֤ה יְהוּדָה֙ מִן־הַחֵ֔רֶם וַיִּֽחַר־אַ֥ף יְהוָ֖ה בִּבְנֵ֥י <span  class=\"hl\" >יִשְׂרָאֵֽל׃ </span></span></td><td class=\"tf\"><span class=\"hb\"><span  class=\"hl\" >יִשְׂרָאֵֽל׃ </span></span></td></tr>\n",
       "<tr class=\"tf\"><td class=\"tf\">31</td><td class=\"tf\"> <a href=\"https://shebanq.ancient-data.org/hebrew/text?book=Josua&amp;chapter=7&amp;verse=2&amp;version=c&amp;mr=m&amp;qw=q&amp;tp=txt_p&amp;tr=hb&amp;wget=v&amp;qget=v&amp;nget=vt\" title=\"show this passage in SHEBANQ\" sec=\"Joshua 7:2\">Joshua 7:2</a></td><td class=\"tf\"><span class=\"hb\"><a class=\"vn\" href=\"https://shebanq.ancient-data.org/hebrew/text?book=Josua&amp;chapter=7&amp;verse=2&amp;version=c&amp;mr=m&amp;qw=q&amp;tp=txt_p&amp;tr=hb&amp;wget=v&amp;qget=v&amp;nget=vt\" title=\"Joshua 7:2\" sec=\"Joshua 7:2\"></a><span  class=\"hl\" >וַ</span><span  class=\"hl\" >יִּשְׁלַח֩ </span>יְהֹושֻׁ֨עַ אֲנָשִׁ֜ים מִֽירִיחֹ֗ו הָעַ֞י אֲשֶׁ֨ר עִם־בֵּ֥ית אָ֨וֶן֙ מִקֶּ֣דֶם לְבֵֽית־אֵ֔ל וַיֹּ֤אמֶר אֲלֵיהֶם֙ לֵאמֹ֔ר עֲל֖וּ וְרַגְּל֣וּ אֶת־הָאָ֑רֶץ וַֽיַּעֲלוּ֙ הָאֲנָשִׁ֔ים וַֽיְרַגְּל֖וּ אֶת־הָעָֽי׃ </span></td><td class=\"tf\"><span class=\"hb\"><span  class=\"hl\" >וַ</span></span></td><td class=\"tf\"><span class=\"hb\"><span  class=\"hl\" >יִּשְׁלַח֩ </span></span></td></tr>\n",
       "<tr class=\"tf\"><td class=\"tf\">32</td><td class=\"tf\"> <a href=\"https://shebanq.ancient-data.org/hebrew/text?book=Josua&amp;chapter=7&amp;verse=2&amp;version=c&amp;mr=m&amp;qw=q&amp;tp=txt_p&amp;tr=hb&amp;wget=v&amp;qget=v&amp;nget=vt\" title=\"show this passage in SHEBANQ\" sec=\"Joshua 7:2\">Joshua 7:2</a></td><td class=\"tf\"><span class=\"hb\"><a class=\"vn\" href=\"https://shebanq.ancient-data.org/hebrew/text?book=Josua&amp;chapter=7&amp;verse=2&amp;version=c&amp;mr=m&amp;qw=q&amp;tp=txt_p&amp;tr=hb&amp;wget=v&amp;qget=v&amp;nget=vt\" title=\"Joshua 7:2\" sec=\"Joshua 7:2\"></a><span  class=\"hl\" >וַ</span><span  class=\"hl\" >יִּשְׁלַח֩ </span>יְהֹושֻׁ֨עַ אֲנָשִׁ֜ים מִֽירִיחֹ֗ו הָעַ֞י אֲשֶׁ֨ר עִם־בֵּ֥ית אָ֨וֶן֙ מִקֶּ֣דֶם לְבֵֽית־אֵ֔ל וַיֹּ֤אמֶר אֲלֵיהֶם֙ לֵאמֹ֔ר עֲל֖וּ וְרַגְּל֣וּ אֶת־הָאָ֑רֶץ וַֽיַּעֲלוּ֙ הָאֲנָשִׁ֔ים וַֽיְרַגְּל֖וּ אֶת־הָעָֽי׃ </span></td><td class=\"tf\"><span class=\"hb\"><span  class=\"hl\" >וַ</span></span></td><td class=\"tf\"><span class=\"hb\"><span  class=\"hl\" >יִּשְׁלַח֩ </span></span></td></tr>\n",
       "<tr class=\"tf\"><td class=\"tf\">33</td><td class=\"tf\"> <a href=\"https://shebanq.ancient-data.org/hebrew/text?book=Josua&amp;chapter=7&amp;verse=2&amp;version=c&amp;mr=m&amp;qw=q&amp;tp=txt_p&amp;tr=hb&amp;wget=v&amp;qget=v&amp;nget=vt\" title=\"show this passage in SHEBANQ\" sec=\"Joshua 7:2\">Joshua 7:2</a></td><td class=\"tf\"><span class=\"hb\"><a class=\"vn\" href=\"https://shebanq.ancient-data.org/hebrew/text?book=Josua&amp;chapter=7&amp;verse=2&amp;version=c&amp;mr=m&amp;qw=q&amp;tp=txt_p&amp;tr=hb&amp;wget=v&amp;qget=v&amp;nget=vt\" title=\"Joshua 7:2\" sec=\"Joshua 7:2\"></a>וַיִּשְׁלַח֩ <span  class=\"hl\" >יְהֹושֻׁ֨עַ </span>אֲנָשִׁ֜ים מִֽירִיחֹ֗ו הָעַ֞י אֲשֶׁ֨ר עִם־בֵּ֥ית אָ֨וֶן֙ מִקֶּ֣דֶם לְבֵֽית־אֵ֔ל וַיֹּ֤אמֶר אֲלֵיהֶם֙ לֵאמֹ֔ר עֲל֖וּ וְרַגְּל֣וּ אֶת־הָאָ֑רֶץ וַֽיַּעֲלוּ֙ הָאֲנָשִׁ֔ים וַֽיְרַגְּל֖וּ אֶת־הָעָֽי׃ </span></td><td class=\"tf\"><span class=\"hb\"><span  class=\"hl\" >יְהֹושֻׁ֨עַ </span></span></td></tr>\n",
       "<tr class=\"tf\"><td class=\"tf\">34</td><td class=\"tf\"> <a href=\"https://shebanq.ancient-data.org/hebrew/text?book=Josua&amp;chapter=7&amp;verse=2&amp;version=c&amp;mr=m&amp;qw=q&amp;tp=txt_p&amp;tr=hb&amp;wget=v&amp;qget=v&amp;nget=vt\" title=\"show this passage in SHEBANQ\" sec=\"Joshua 7:2\">Joshua 7:2</a></td><td class=\"tf\"><span class=\"hb\"><a class=\"vn\" href=\"https://shebanq.ancient-data.org/hebrew/text?book=Josua&amp;chapter=7&amp;verse=2&amp;version=c&amp;mr=m&amp;qw=q&amp;tp=txt_p&amp;tr=hb&amp;wget=v&amp;qget=v&amp;nget=vt\" title=\"Joshua 7:2\" sec=\"Joshua 7:2\"></a>וַיִּשְׁלַח֩ יְהֹושֻׁ֨עַ <span  class=\"hl\" >אֲנָשִׁ֜ים </span>מִֽירִיחֹ֗ו הָעַ֞י אֲשֶׁ֨ר עִם־בֵּ֥ית אָ֨וֶן֙ מִקֶּ֣דֶם לְבֵֽית־אֵ֔ל וַיֹּ֤אמֶר אֲלֵיהֶם֙ לֵאמֹ֔ר עֲל֖וּ וְרַגְּל֣וּ אֶת־הָאָ֑רֶץ וַֽיַּעֲלוּ֙ הָאֲנָשִׁ֔ים וַֽיְרַגְּל֖וּ אֶת־הָעָֽי׃ </span></td><td class=\"tf\"><span class=\"hb\"><span  class=\"hl\" >אֲנָשִׁ֜ים </span></span></td></tr>\n",
       "<tr class=\"tf\"><td class=\"tf\">35</td><td class=\"tf\"> <a href=\"https://shebanq.ancient-data.org/hebrew/text?book=Josua&amp;chapter=7&amp;verse=2&amp;version=c&amp;mr=m&amp;qw=q&amp;tp=txt_p&amp;tr=hb&amp;wget=v&amp;qget=v&amp;nget=vt\" title=\"show this passage in SHEBANQ\" sec=\"Joshua 7:2\">Joshua 7:2</a></td><td class=\"tf\"><span class=\"hb\"><a class=\"vn\" href=\"https://shebanq.ancient-data.org/hebrew/text?book=Josua&amp;chapter=7&amp;verse=2&amp;version=c&amp;mr=m&amp;qw=q&amp;tp=txt_p&amp;tr=hb&amp;wget=v&amp;qget=v&amp;nget=vt\" title=\"Joshua 7:2\" sec=\"Joshua 7:2\"></a>וַיִּשְׁלַח֩ יְהֹושֻׁ֨עַ אֲנָשִׁ֜ים <span  class=\"hl\" >מִֽ</span><span  class=\"hl\" >ירִיחֹ֗ו </span>הָעַ֞י אֲשֶׁ֨ר עִם־בֵּ֥ית אָ֨וֶן֙ מִקֶּ֣דֶם לְבֵֽית־אֵ֔ל וַיֹּ֤אמֶר אֲלֵיהֶם֙ לֵאמֹ֔ר עֲל֖וּ וְרַגְּל֣וּ אֶת־הָאָ֑רֶץ וַֽיַּעֲלוּ֙ הָאֲנָשִׁ֔ים וַֽיְרַגְּל֖וּ אֶת־הָעָֽי׃ </span></td><td class=\"tf\"><span class=\"hb\"><span  class=\"hl\" >מִֽ</span></span></td><td class=\"tf\"><span class=\"hb\"><span  class=\"hl\" >ירִיחֹ֗ו </span></span></td></tr>\n",
       "<tr class=\"tf\"><td class=\"tf\">36</td><td class=\"tf\"> <a href=\"https://shebanq.ancient-data.org/hebrew/text?book=Josua&amp;chapter=7&amp;verse=2&amp;version=c&amp;mr=m&amp;qw=q&amp;tp=txt_p&amp;tr=hb&amp;wget=v&amp;qget=v&amp;nget=vt\" title=\"show this passage in SHEBANQ\" sec=\"Joshua 7:2\">Joshua 7:2</a></td><td class=\"tf\"><span class=\"hb\"><a class=\"vn\" href=\"https://shebanq.ancient-data.org/hebrew/text?book=Josua&amp;chapter=7&amp;verse=2&amp;version=c&amp;mr=m&amp;qw=q&amp;tp=txt_p&amp;tr=hb&amp;wget=v&amp;qget=v&amp;nget=vt\" title=\"Joshua 7:2\" sec=\"Joshua 7:2\"></a>וַיִּשְׁלַח֩ יְהֹושֻׁ֨עַ אֲנָשִׁ֜ים <span  class=\"hl\" >מִֽ</span><span  class=\"hl\" >ירִיחֹ֗ו </span>הָעַ֞י אֲשֶׁ֨ר עִם־בֵּ֥ית אָ֨וֶן֙ מִקֶּ֣דֶם לְבֵֽית־אֵ֔ל וַיֹּ֤אמֶר אֲלֵיהֶם֙ לֵאמֹ֔ר עֲל֖וּ וְרַגְּל֣וּ אֶת־הָאָ֑רֶץ וַֽיַּעֲלוּ֙ הָאֲנָשִׁ֔ים וַֽיְרַגְּל֖וּ אֶת־הָעָֽי׃ </span></td><td class=\"tf\"><span class=\"hb\"><span  class=\"hl\" >מִֽ</span></span></td><td class=\"tf\"><span class=\"hb\"><span  class=\"hl\" >ירִיחֹ֗ו </span></span></td></tr>\n",
       "<tr class=\"tf\"><td class=\"tf\">37</td><td class=\"tf\"> <a href=\"https://shebanq.ancient-data.org/hebrew/text?book=Josua&amp;chapter=7&amp;verse=2&amp;version=c&amp;mr=m&amp;qw=q&amp;tp=txt_p&amp;tr=hb&amp;wget=v&amp;qget=v&amp;nget=vt\" title=\"show this passage in SHEBANQ\" sec=\"Joshua 7:2\">Joshua 7:2</a></td><td class=\"tf\"><span class=\"hb\"><a class=\"vn\" href=\"https://shebanq.ancient-data.org/hebrew/text?book=Josua&amp;chapter=7&amp;verse=2&amp;version=c&amp;mr=m&amp;qw=q&amp;tp=txt_p&amp;tr=hb&amp;wget=v&amp;qget=v&amp;nget=vt\" title=\"Joshua 7:2\" sec=\"Joshua 7:2\"></a>וַיִּשְׁלַח֩ יְהֹושֻׁ֨עַ אֲנָשִׁ֜ים מִֽירִיחֹ֗ו <span  class=\"hl\" >הָ</span><span  class=\"hl\" >עַ֞י </span>אֲשֶׁ֨ר עִם־בֵּ֥ית אָ֨וֶן֙ מִקֶּ֣דֶם לְבֵֽית־אֵ֔ל וַיֹּ֤אמֶר אֲלֵיהֶם֙ לֵאמֹ֔ר עֲל֖וּ וְרַגְּל֣וּ אֶת־הָאָ֑רֶץ וַֽיַּעֲלוּ֙ הָאֲנָשִׁ֔ים וַֽיְרַגְּל֖וּ אֶת־הָעָֽי׃ </span></td><td class=\"tf\"><span class=\"hb\"><span  class=\"hl\" >הָ</span></span></td><td class=\"tf\"><span class=\"hb\"><span  class=\"hl\" >עַ֞י </span></span></td></tr>\n",
       "<tr class=\"tf\"><td class=\"tf\">38</td><td class=\"tf\"> <a href=\"https://shebanq.ancient-data.org/hebrew/text?book=Josua&amp;chapter=7&amp;verse=2&amp;version=c&amp;mr=m&amp;qw=q&amp;tp=txt_p&amp;tr=hb&amp;wget=v&amp;qget=v&amp;nget=vt\" title=\"show this passage in SHEBANQ\" sec=\"Joshua 7:2\">Joshua 7:2</a></td><td class=\"tf\"><span class=\"hb\"><a class=\"vn\" href=\"https://shebanq.ancient-data.org/hebrew/text?book=Josua&amp;chapter=7&amp;verse=2&amp;version=c&amp;mr=m&amp;qw=q&amp;tp=txt_p&amp;tr=hb&amp;wget=v&amp;qget=v&amp;nget=vt\" title=\"Joshua 7:2\" sec=\"Joshua 7:2\"></a>וַיִּשְׁלַח֩ יְהֹושֻׁ֨עַ אֲנָשִׁ֜ים מִֽירִיחֹ֗ו <span  class=\"hl\" >הָ</span><span  class=\"hl\" >עַ֞י </span>אֲשֶׁ֨ר עִם־בֵּ֥ית אָ֨וֶן֙ מִקֶּ֣דֶם לְבֵֽית־אֵ֔ל וַיֹּ֤אמֶר אֲלֵיהֶם֙ לֵאמֹ֔ר עֲל֖וּ וְרַגְּל֣וּ אֶת־הָאָ֑רֶץ וַֽיַּעֲלוּ֙ הָאֲנָשִׁ֔ים וַֽיְרַגְּל֖וּ אֶת־הָעָֽי׃ </span></td><td class=\"tf\"><span class=\"hb\"><span  class=\"hl\" >הָ</span></span></td><td class=\"tf\"><span class=\"hb\"><span  class=\"hl\" >עַ֞י </span></span></td></tr>\n",
       "<tr class=\"tf\"><td class=\"tf\">39</td><td class=\"tf\"> <a href=\"https://shebanq.ancient-data.org/hebrew/text?book=Josua&amp;chapter=7&amp;verse=2&amp;version=c&amp;mr=m&amp;qw=q&amp;tp=txt_p&amp;tr=hb&amp;wget=v&amp;qget=v&amp;nget=vt\" title=\"show this passage in SHEBANQ\" sec=\"Joshua 7:2\">Joshua 7:2</a></td><td class=\"tf\"><span class=\"hb\"><a class=\"vn\" href=\"https://shebanq.ancient-data.org/hebrew/text?book=Josua&amp;chapter=7&amp;verse=2&amp;version=c&amp;mr=m&amp;qw=q&amp;tp=txt_p&amp;tr=hb&amp;wget=v&amp;qget=v&amp;nget=vt\" title=\"Joshua 7:2\" sec=\"Joshua 7:2\"></a>וַיִּשְׁלַח֩ יְהֹושֻׁ֨עַ אֲנָשִׁ֜ים מִֽירִיחֹ֗ו הָעַ֞י <span  class=\"hl\" >אֲשֶׁ֨ר </span>עִם־בֵּ֥ית אָ֨וֶן֙ מִקֶּ֣דֶם לְבֵֽית־אֵ֔ל וַיֹּ֤אמֶר אֲלֵיהֶם֙ לֵאמֹ֔ר עֲל֖וּ וְרַגְּל֣וּ אֶת־הָאָ֑רֶץ וַֽיַּעֲלוּ֙ הָאֲנָשִׁ֔ים וַֽיְרַגְּל֖וּ אֶת־הָעָֽי׃ </span></td><td class=\"tf\"><span class=\"hb\"><span  class=\"hl\" >אֲשֶׁ֨ר </span></span></td></tr>\n",
       "<tr class=\"tf\"><td class=\"tf\">40</td><td class=\"tf\"> <a href=\"https://shebanq.ancient-data.org/hebrew/text?book=Josua&amp;chapter=7&amp;verse=2&amp;version=c&amp;mr=m&amp;qw=q&amp;tp=txt_p&amp;tr=hb&amp;wget=v&amp;qget=v&amp;nget=vt\" title=\"show this passage in SHEBANQ\" sec=\"Joshua 7:2\">Joshua 7:2</a></td><td class=\"tf\"><span class=\"hb\"><a class=\"vn\" href=\"https://shebanq.ancient-data.org/hebrew/text?book=Josua&amp;chapter=7&amp;verse=2&amp;version=c&amp;mr=m&amp;qw=q&amp;tp=txt_p&amp;tr=hb&amp;wget=v&amp;qget=v&amp;nget=vt\" title=\"Joshua 7:2\" sec=\"Joshua 7:2\"></a>וַיִּשְׁלַח֩ יְהֹושֻׁ֨עַ אֲנָשִׁ֜ים מִֽירִיחֹ֗ו הָעַ֞י אֲשֶׁ֨ר <span  class=\"hl\" >עִם־</span><span  class=\"hl\" >בֵּ֥ית אָ֨וֶן֙ </span>מִקֶּ֣דֶם לְבֵֽית־אֵ֔ל וַיֹּ֤אמֶר אֲלֵיהֶם֙ לֵאמֹ֔ר עֲל֖וּ וְרַגְּל֣וּ אֶת־הָאָ֑רֶץ וַֽיַּעֲלוּ֙ הָאֲנָשִׁ֔ים וַֽיְרַגְּל֖וּ אֶת־הָעָֽי׃ </span></td><td class=\"tf\"><span class=\"hb\"><span  class=\"hl\" >עִם־</span></span></td><td class=\"tf\"><span class=\"hb\"><span  class=\"hl\" >בֵּ֥ית אָ֨וֶן֙ </span></span></td></tr>\n",
       "<tr class=\"tf\"><td class=\"tf\">41</td><td class=\"tf\"> <a href=\"https://shebanq.ancient-data.org/hebrew/text?book=Josua&amp;chapter=7&amp;verse=2&amp;version=c&amp;mr=m&amp;qw=q&amp;tp=txt_p&amp;tr=hb&amp;wget=v&amp;qget=v&amp;nget=vt\" title=\"show this passage in SHEBANQ\" sec=\"Joshua 7:2\">Joshua 7:2</a></td><td class=\"tf\"><span class=\"hb\"><a class=\"vn\" href=\"https://shebanq.ancient-data.org/hebrew/text?book=Josua&amp;chapter=7&amp;verse=2&amp;version=c&amp;mr=m&amp;qw=q&amp;tp=txt_p&amp;tr=hb&amp;wget=v&amp;qget=v&amp;nget=vt\" title=\"Joshua 7:2\" sec=\"Joshua 7:2\"></a>וַיִּשְׁלַח֩ יְהֹושֻׁ֨עַ אֲנָשִׁ֜ים מִֽירִיחֹ֗ו הָעַ֞י אֲשֶׁ֨ר <span  class=\"hl\" >עִם־</span><span  class=\"hl\" >בֵּ֥ית אָ֨וֶן֙ </span>מִקֶּ֣דֶם לְבֵֽית־אֵ֔ל וַיֹּ֤אמֶר אֲלֵיהֶם֙ לֵאמֹ֔ר עֲל֖וּ וְרַגְּל֣וּ אֶת־הָאָ֑רֶץ וַֽיַּעֲלוּ֙ הָאֲנָשִׁ֔ים וַֽיְרַגְּל֖וּ אֶת־הָעָֽי׃ </span></td><td class=\"tf\"><span class=\"hb\"><span  class=\"hl\" >עִם־</span></span></td><td class=\"tf\"><span class=\"hb\"><span  class=\"hl\" >בֵּ֥ית אָ֨וֶן֙ </span></span></td></tr>\n",
       "<tr class=\"tf\"><td class=\"tf\">42</td><td class=\"tf\"> <a href=\"https://shebanq.ancient-data.org/hebrew/text?book=Josua&amp;chapter=7&amp;verse=2&amp;version=c&amp;mr=m&amp;qw=q&amp;tp=txt_p&amp;tr=hb&amp;wget=v&amp;qget=v&amp;nget=vt\" title=\"show this passage in SHEBANQ\" sec=\"Joshua 7:2\">Joshua 7:2</a></td><td class=\"tf\"><span class=\"hb\"><a class=\"vn\" href=\"https://shebanq.ancient-data.org/hebrew/text?book=Josua&amp;chapter=7&amp;verse=2&amp;version=c&amp;mr=m&amp;qw=q&amp;tp=txt_p&amp;tr=hb&amp;wget=v&amp;qget=v&amp;nget=vt\" title=\"Joshua 7:2\" sec=\"Joshua 7:2\"></a>וַיִּשְׁלַח֩ יְהֹושֻׁ֨עַ אֲנָשִׁ֜ים מִֽירִיחֹ֗ו הָעַ֞י אֲשֶׁ֨ר עִם־בֵּ֥ית אָ֨וֶן֙ <span  class=\"hl\" >מִ</span><span  class=\"hl\" >קֶּ֣דֶם </span>לְבֵֽית־אֵ֔ל וַיֹּ֤אמֶר אֲלֵיהֶם֙ לֵאמֹ֔ר עֲל֖וּ וְרַגְּל֣וּ אֶת־הָאָ֑רֶץ וַֽיַּעֲלוּ֙ הָאֲנָשִׁ֔ים וַֽיְרַגְּל֖וּ אֶת־הָעָֽי׃ </span></td><td class=\"tf\"><span class=\"hb\"><span  class=\"hl\" >מִ</span></span></td><td class=\"tf\"><span class=\"hb\"><span  class=\"hl\" >קֶּ֣דֶם </span></span></td></tr>\n",
       "<tr class=\"tf\"><td class=\"tf\">43</td><td class=\"tf\"> <a href=\"https://shebanq.ancient-data.org/hebrew/text?book=Josua&amp;chapter=7&amp;verse=2&amp;version=c&amp;mr=m&amp;qw=q&amp;tp=txt_p&amp;tr=hb&amp;wget=v&amp;qget=v&amp;nget=vt\" title=\"show this passage in SHEBANQ\" sec=\"Joshua 7:2\">Joshua 7:2</a></td><td class=\"tf\"><span class=\"hb\"><a class=\"vn\" href=\"https://shebanq.ancient-data.org/hebrew/text?book=Josua&amp;chapter=7&amp;verse=2&amp;version=c&amp;mr=m&amp;qw=q&amp;tp=txt_p&amp;tr=hb&amp;wget=v&amp;qget=v&amp;nget=vt\" title=\"Joshua 7:2\" sec=\"Joshua 7:2\"></a>וַיִּשְׁלַח֩ יְהֹושֻׁ֨עַ אֲנָשִׁ֜ים מִֽירִיחֹ֗ו הָעַ֞י אֲשֶׁ֨ר עִם־בֵּ֥ית אָ֨וֶן֙ <span  class=\"hl\" >מִ</span><span  class=\"hl\" >קֶּ֣דֶם </span>לְבֵֽית־אֵ֔ל וַיֹּ֤אמֶר אֲלֵיהֶם֙ לֵאמֹ֔ר עֲל֖וּ וְרַגְּל֣וּ אֶת־הָאָ֑רֶץ וַֽיַּעֲלוּ֙ הָאֲנָשִׁ֔ים וַֽיְרַגְּל֖וּ אֶת־הָעָֽי׃ </span></td><td class=\"tf\"><span class=\"hb\"><span  class=\"hl\" >מִ</span></span></td><td class=\"tf\"><span class=\"hb\"><span  class=\"hl\" >קֶּ֣דֶם </span></span></td></tr>\n",
       "<tr class=\"tf\"><td class=\"tf\">44</td><td class=\"tf\"> <a href=\"https://shebanq.ancient-data.org/hebrew/text?book=Josua&amp;chapter=7&amp;verse=2&amp;version=c&amp;mr=m&amp;qw=q&amp;tp=txt_p&amp;tr=hb&amp;wget=v&amp;qget=v&amp;nget=vt\" title=\"show this passage in SHEBANQ\" sec=\"Joshua 7:2\">Joshua 7:2</a></td><td class=\"tf\"><span class=\"hb\"><a class=\"vn\" href=\"https://shebanq.ancient-data.org/hebrew/text?book=Josua&amp;chapter=7&amp;verse=2&amp;version=c&amp;mr=m&amp;qw=q&amp;tp=txt_p&amp;tr=hb&amp;wget=v&amp;qget=v&amp;nget=vt\" title=\"Joshua 7:2\" sec=\"Joshua 7:2\"></a>וַיִּשְׁלַח֩ יְהֹושֻׁ֨עַ אֲנָשִׁ֜ים מִֽירִיחֹ֗ו הָעַ֞י אֲשֶׁ֨ר עִם־בֵּ֥ית אָ֨וֶן֙ מִקֶּ֣דֶם <span  class=\"hl\" >לְ</span><span  class=\"hl\" >בֵֽית־אֵ֔ל </span>וַיֹּ֤אמֶר אֲלֵיהֶם֙ לֵאמֹ֔ר עֲל֖וּ וְרַגְּל֣וּ אֶת־הָאָ֑רֶץ וַֽיַּעֲלוּ֙ הָאֲנָשִׁ֔ים וַֽיְרַגְּל֖וּ אֶת־הָעָֽי׃ </span></td><td class=\"tf\"><span class=\"hb\"><span  class=\"hl\" >לְ</span></span></td><td class=\"tf\"><span class=\"hb\"><span  class=\"hl\" >בֵֽית־אֵ֔ל </span></span></td></tr>\n",
       "<tr class=\"tf\"><td class=\"tf\">45</td><td class=\"tf\"> <a href=\"https://shebanq.ancient-data.org/hebrew/text?book=Josua&amp;chapter=7&amp;verse=2&amp;version=c&amp;mr=m&amp;qw=q&amp;tp=txt_p&amp;tr=hb&amp;wget=v&amp;qget=v&amp;nget=vt\" title=\"show this passage in SHEBANQ\" sec=\"Joshua 7:2\">Joshua 7:2</a></td><td class=\"tf\"><span class=\"hb\"><a class=\"vn\" href=\"https://shebanq.ancient-data.org/hebrew/text?book=Josua&amp;chapter=7&amp;verse=2&amp;version=c&amp;mr=m&amp;qw=q&amp;tp=txt_p&amp;tr=hb&amp;wget=v&amp;qget=v&amp;nget=vt\" title=\"Joshua 7:2\" sec=\"Joshua 7:2\"></a>וַיִּשְׁלַח֩ יְהֹושֻׁ֨עַ אֲנָשִׁ֜ים מִֽירִיחֹ֗ו הָעַ֞י אֲשֶׁ֨ר עִם־בֵּ֥ית אָ֨וֶן֙ מִקֶּ֣דֶם <span  class=\"hl\" >לְ</span><span  class=\"hl\" >בֵֽית־אֵ֔ל </span>וַיֹּ֤אמֶר אֲלֵיהֶם֙ לֵאמֹ֔ר עֲל֖וּ וְרַגְּל֣וּ אֶת־הָאָ֑רֶץ וַֽיַּעֲלוּ֙ הָאֲנָשִׁ֔ים וַֽיְרַגְּל֖וּ אֶת־הָעָֽי׃ </span></td><td class=\"tf\"><span class=\"hb\"><span  class=\"hl\" >לְ</span></span></td><td class=\"tf\"><span class=\"hb\"><span  class=\"hl\" >בֵֽית־אֵ֔ל </span></span></td></tr>\n",
       "<tr class=\"tf\"><td class=\"tf\">46</td><td class=\"tf\"> <a href=\"https://shebanq.ancient-data.org/hebrew/text?book=Josua&amp;chapter=7&amp;verse=2&amp;version=c&amp;mr=m&amp;qw=q&amp;tp=txt_p&amp;tr=hb&amp;wget=v&amp;qget=v&amp;nget=vt\" title=\"show this passage in SHEBANQ\" sec=\"Joshua 7:2\">Joshua 7:2</a></td><td class=\"tf\"><span class=\"hb\"><a class=\"vn\" href=\"https://shebanq.ancient-data.org/hebrew/text?book=Josua&amp;chapter=7&amp;verse=2&amp;version=c&amp;mr=m&amp;qw=q&amp;tp=txt_p&amp;tr=hb&amp;wget=v&amp;qget=v&amp;nget=vt\" title=\"Joshua 7:2\" sec=\"Joshua 7:2\"></a>וַיִּשְׁלַח֩ יְהֹושֻׁ֨עַ אֲנָשִׁ֜ים מִֽירִיחֹ֗ו הָעַ֞י אֲשֶׁ֨ר עִם־בֵּ֥ית אָ֨וֶן֙ מִקֶּ֣דֶם לְבֵֽית־אֵ֔ל <span  class=\"hl\" >וַ</span><span  class=\"hl\" >יֹּ֤אמֶר </span>אֲלֵיהֶם֙ לֵאמֹ֔ר עֲל֖וּ וְרַגְּל֣וּ אֶת־הָאָ֑רֶץ וַֽיַּעֲלוּ֙ הָאֲנָשִׁ֔ים וַֽיְרַגְּל֖וּ אֶת־הָעָֽי׃ </span></td><td class=\"tf\"><span class=\"hb\"><span  class=\"hl\" >וַ</span></span></td><td class=\"tf\"><span class=\"hb\"><span  class=\"hl\" >יֹּ֤אמֶר </span></span></td></tr>\n",
       "<tr class=\"tf\"><td class=\"tf\">47</td><td class=\"tf\"> <a href=\"https://shebanq.ancient-data.org/hebrew/text?book=Josua&amp;chapter=7&amp;verse=2&amp;version=c&amp;mr=m&amp;qw=q&amp;tp=txt_p&amp;tr=hb&amp;wget=v&amp;qget=v&amp;nget=vt\" title=\"show this passage in SHEBANQ\" sec=\"Joshua 7:2\">Joshua 7:2</a></td><td class=\"tf\"><span class=\"hb\"><a class=\"vn\" href=\"https://shebanq.ancient-data.org/hebrew/text?book=Josua&amp;chapter=7&amp;verse=2&amp;version=c&amp;mr=m&amp;qw=q&amp;tp=txt_p&amp;tr=hb&amp;wget=v&amp;qget=v&amp;nget=vt\" title=\"Joshua 7:2\" sec=\"Joshua 7:2\"></a>וַיִּשְׁלַח֩ יְהֹושֻׁ֨עַ אֲנָשִׁ֜ים מִֽירִיחֹ֗ו הָעַ֞י אֲשֶׁ֨ר עִם־בֵּ֥ית אָ֨וֶן֙ מִקֶּ֣דֶם לְבֵֽית־אֵ֔ל <span  class=\"hl\" >וַ</span><span  class=\"hl\" >יֹּ֤אמֶר </span>אֲלֵיהֶם֙ לֵאמֹ֔ר עֲל֖וּ וְרַגְּל֣וּ אֶת־הָאָ֑רֶץ וַֽיַּעֲלוּ֙ הָאֲנָשִׁ֔ים וַֽיְרַגְּל֖וּ אֶת־הָעָֽי׃ </span></td><td class=\"tf\"><span class=\"hb\"><span  class=\"hl\" >וַ</span></span></td><td class=\"tf\"><span class=\"hb\"><span  class=\"hl\" >יֹּ֤אמֶר </span></span></td></tr>\n",
       "<tr class=\"tf\"><td class=\"tf\">48</td><td class=\"tf\"> <a href=\"https://shebanq.ancient-data.org/hebrew/text?book=Josua&amp;chapter=7&amp;verse=2&amp;version=c&amp;mr=m&amp;qw=q&amp;tp=txt_p&amp;tr=hb&amp;wget=v&amp;qget=v&amp;nget=vt\" title=\"show this passage in SHEBANQ\" sec=\"Joshua 7:2\">Joshua 7:2</a></td><td class=\"tf\"><span class=\"hb\"><a class=\"vn\" href=\"https://shebanq.ancient-data.org/hebrew/text?book=Josua&amp;chapter=7&amp;verse=2&amp;version=c&amp;mr=m&amp;qw=q&amp;tp=txt_p&amp;tr=hb&amp;wget=v&amp;qget=v&amp;nget=vt\" title=\"Joshua 7:2\" sec=\"Joshua 7:2\"></a>וַיִּשְׁלַח֩ יְהֹושֻׁ֨עַ אֲנָשִׁ֜ים מִֽירִיחֹ֗ו הָעַ֞י אֲשֶׁ֨ר עִם־בֵּ֥ית אָ֨וֶן֙ מִקֶּ֣דֶם לְבֵֽית־אֵ֔ל וַיֹּ֤אמֶר <span  class=\"hl\" >אֲלֵיהֶם֙ </span>לֵאמֹ֔ר עֲל֖וּ וְרַגְּל֣וּ אֶת־הָאָ֑רֶץ וַֽיַּעֲלוּ֙ הָאֲנָשִׁ֔ים וַֽיְרַגְּל֖וּ אֶת־הָעָֽי׃ </span></td><td class=\"tf\"><span class=\"hb\"><span  class=\"hl\" >אֲלֵיהֶם֙ </span></span></td></tr>\n",
       "<tr class=\"tf\"><td class=\"tf\">49</td><td class=\"tf\"> <a href=\"https://shebanq.ancient-data.org/hebrew/text?book=Josua&amp;chapter=7&amp;verse=2&amp;version=c&amp;mr=m&amp;qw=q&amp;tp=txt_p&amp;tr=hb&amp;wget=v&amp;qget=v&amp;nget=vt\" title=\"show this passage in SHEBANQ\" sec=\"Joshua 7:2\">Joshua 7:2</a></td><td class=\"tf\"><span class=\"hb\"><a class=\"vn\" href=\"https://shebanq.ancient-data.org/hebrew/text?book=Josua&amp;chapter=7&amp;verse=2&amp;version=c&amp;mr=m&amp;qw=q&amp;tp=txt_p&amp;tr=hb&amp;wget=v&amp;qget=v&amp;nget=vt\" title=\"Joshua 7:2\" sec=\"Joshua 7:2\"></a>וַיִּשְׁלַח֩ יְהֹושֻׁ֨עַ אֲנָשִׁ֜ים מִֽירִיחֹ֗ו הָעַ֞י אֲשֶׁ֨ר עִם־בֵּ֥ית אָ֨וֶן֙ מִקֶּ֣דֶם לְבֵֽית־אֵ֔ל וַיֹּ֤אמֶר אֲלֵיהֶם֙ <span  class=\"hl\" >לֵ</span><span  class=\"hl\" >אמֹ֔ר </span>עֲל֖וּ וְרַגְּל֣וּ אֶת־הָאָ֑רֶץ וַֽיַּעֲלוּ֙ הָאֲנָשִׁ֔ים וַֽיְרַגְּל֖וּ אֶת־הָעָֽי׃ </span></td><td class=\"tf\"><span class=\"hb\"><span  class=\"hl\" >לֵ</span></span></td><td class=\"tf\"><span class=\"hb\"><span  class=\"hl\" >אמֹ֔ר </span></span></td></tr>\n",
       "<tr class=\"tf\"><td class=\"tf\">50</td><td class=\"tf\"> <a href=\"https://shebanq.ancient-data.org/hebrew/text?book=Josua&amp;chapter=7&amp;verse=2&amp;version=c&amp;mr=m&amp;qw=q&amp;tp=txt_p&amp;tr=hb&amp;wget=v&amp;qget=v&amp;nget=vt\" title=\"show this passage in SHEBANQ\" sec=\"Joshua 7:2\">Joshua 7:2</a></td><td class=\"tf\"><span class=\"hb\"><a class=\"vn\" href=\"https://shebanq.ancient-data.org/hebrew/text?book=Josua&amp;chapter=7&amp;verse=2&amp;version=c&amp;mr=m&amp;qw=q&amp;tp=txt_p&amp;tr=hb&amp;wget=v&amp;qget=v&amp;nget=vt\" title=\"Joshua 7:2\" sec=\"Joshua 7:2\"></a>וַיִּשְׁלַח֩ יְהֹושֻׁ֨עַ אֲנָשִׁ֜ים מִֽירִיחֹ֗ו הָעַ֞י אֲשֶׁ֨ר עִם־בֵּ֥ית אָ֨וֶן֙ מִקֶּ֣דֶם לְבֵֽית־אֵ֔ל וַיֹּ֤אמֶר אֲלֵיהֶם֙ <span  class=\"hl\" >לֵ</span><span  class=\"hl\" >אמֹ֔ר </span>עֲל֖וּ וְרַגְּל֣וּ אֶת־הָאָ֑רֶץ וַֽיַּעֲלוּ֙ הָאֲנָשִׁ֔ים וַֽיְרַגְּל֖וּ אֶת־הָעָֽי׃ </span></td><td class=\"tf\"><span class=\"hb\"><span  class=\"hl\" >לֵ</span></span></td><td class=\"tf\"><span class=\"hb\"><span  class=\"hl\" >אמֹ֔ר </span></span></td></tr>\n",
       "<tr class=\"tf\"><td class=\"tf\">51</td><td class=\"tf\"> <a href=\"https://shebanq.ancient-data.org/hebrew/text?book=Josua&amp;chapter=7&amp;verse=2&amp;version=c&amp;mr=m&amp;qw=q&amp;tp=txt_p&amp;tr=hb&amp;wget=v&amp;qget=v&amp;nget=vt\" title=\"show this passage in SHEBANQ\" sec=\"Joshua 7:2\">Joshua 7:2</a></td><td class=\"tf\"><span class=\"hb\"><a class=\"vn\" href=\"https://shebanq.ancient-data.org/hebrew/text?book=Josua&amp;chapter=7&amp;verse=2&amp;version=c&amp;mr=m&amp;qw=q&amp;tp=txt_p&amp;tr=hb&amp;wget=v&amp;qget=v&amp;nget=vt\" title=\"Joshua 7:2\" sec=\"Joshua 7:2\"></a>וַיִּשְׁלַח֩ יְהֹושֻׁ֨עַ אֲנָשִׁ֜ים מִֽירִיחֹ֗ו הָעַ֞י אֲשֶׁ֨ר עִם־בֵּ֥ית אָ֨וֶן֙ מִקֶּ֣דֶם לְבֵֽית־אֵ֔ל וַיֹּ֤אמֶר אֲלֵיהֶם֙ לֵאמֹ֔ר <span  class=\"hl\" >עֲל֖וּ </span>וְרַגְּל֣וּ אֶת־הָאָ֑רֶץ וַֽיַּעֲלוּ֙ הָאֲנָשִׁ֔ים וַֽיְרַגְּל֖וּ אֶת־הָעָֽי׃ </span></td><td class=\"tf\"><span class=\"hb\"><span  class=\"hl\" >עֲל֖וּ </span></span></td></tr>\n",
       "<tr class=\"tf\"><td class=\"tf\">52</td><td class=\"tf\"> <a href=\"https://shebanq.ancient-data.org/hebrew/text?book=Josua&amp;chapter=7&amp;verse=2&amp;version=c&amp;mr=m&amp;qw=q&amp;tp=txt_p&amp;tr=hb&amp;wget=v&amp;qget=v&amp;nget=vt\" title=\"show this passage in SHEBANQ\" sec=\"Joshua 7:2\">Joshua 7:2</a></td><td class=\"tf\"><span class=\"hb\"><a class=\"vn\" href=\"https://shebanq.ancient-data.org/hebrew/text?book=Josua&amp;chapter=7&amp;verse=2&amp;version=c&amp;mr=m&amp;qw=q&amp;tp=txt_p&amp;tr=hb&amp;wget=v&amp;qget=v&amp;nget=vt\" title=\"Joshua 7:2\" sec=\"Joshua 7:2\"></a>וַיִּשְׁלַח֩ יְהֹושֻׁ֨עַ אֲנָשִׁ֜ים מִֽירִיחֹ֗ו הָעַ֞י אֲשֶׁ֨ר עִם־בֵּ֥ית אָ֨וֶן֙ מִקֶּ֣דֶם לְבֵֽית־אֵ֔ל וַיֹּ֤אמֶר אֲלֵיהֶם֙ לֵאמֹ֔ר עֲל֖וּ <span  class=\"hl\" >וְ</span><span  class=\"hl\" >רַגְּל֣וּ </span>אֶת־הָאָ֑רֶץ וַֽיַּעֲלוּ֙ הָאֲנָשִׁ֔ים וַֽיְרַגְּל֖וּ אֶת־הָעָֽי׃ </span></td><td class=\"tf\"><span class=\"hb\"><span  class=\"hl\" >וְ</span></span></td><td class=\"tf\"><span class=\"hb\"><span  class=\"hl\" >רַגְּל֣וּ </span></span></td></tr>\n",
       "<tr class=\"tf\"><td class=\"tf\">53</td><td class=\"tf\"> <a href=\"https://shebanq.ancient-data.org/hebrew/text?book=Josua&amp;chapter=7&amp;verse=2&amp;version=c&amp;mr=m&amp;qw=q&amp;tp=txt_p&amp;tr=hb&amp;wget=v&amp;qget=v&amp;nget=vt\" title=\"show this passage in SHEBANQ\" sec=\"Joshua 7:2\">Joshua 7:2</a></td><td class=\"tf\"><span class=\"hb\"><a class=\"vn\" href=\"https://shebanq.ancient-data.org/hebrew/text?book=Josua&amp;chapter=7&amp;verse=2&amp;version=c&amp;mr=m&amp;qw=q&amp;tp=txt_p&amp;tr=hb&amp;wget=v&amp;qget=v&amp;nget=vt\" title=\"Joshua 7:2\" sec=\"Joshua 7:2\"></a>וַיִּשְׁלַח֩ יְהֹושֻׁ֨עַ אֲנָשִׁ֜ים מִֽירִיחֹ֗ו הָעַ֞י אֲשֶׁ֨ר עִם־בֵּ֥ית אָ֨וֶן֙ מִקֶּ֣דֶם לְבֵֽית־אֵ֔ל וַיֹּ֤אמֶר אֲלֵיהֶם֙ לֵאמֹ֔ר עֲל֖וּ <span  class=\"hl\" >וְ</span><span  class=\"hl\" >רַגְּל֣וּ </span>אֶת־הָאָ֑רֶץ וַֽיַּעֲלוּ֙ הָאֲנָשִׁ֔ים וַֽיְרַגְּל֖וּ אֶת־הָעָֽי׃ </span></td><td class=\"tf\"><span class=\"hb\"><span  class=\"hl\" >וְ</span></span></td><td class=\"tf\"><span class=\"hb\"><span  class=\"hl\" >רַגְּל֣וּ </span></span></td></tr>\n",
       "<tr class=\"tf\"><td class=\"tf\">54</td><td class=\"tf\"> <a href=\"https://shebanq.ancient-data.org/hebrew/text?book=Josua&amp;chapter=7&amp;verse=2&amp;version=c&amp;mr=m&amp;qw=q&amp;tp=txt_p&amp;tr=hb&amp;wget=v&amp;qget=v&amp;nget=vt\" title=\"show this passage in SHEBANQ\" sec=\"Joshua 7:2\">Joshua 7:2</a></td><td class=\"tf\"><span class=\"hb\"><a class=\"vn\" href=\"https://shebanq.ancient-data.org/hebrew/text?book=Josua&amp;chapter=7&amp;verse=2&amp;version=c&amp;mr=m&amp;qw=q&amp;tp=txt_p&amp;tr=hb&amp;wget=v&amp;qget=v&amp;nget=vt\" title=\"Joshua 7:2\" sec=\"Joshua 7:2\"></a>וַיִּשְׁלַח֩ יְהֹושֻׁ֨עַ אֲנָשִׁ֜ים מִֽירִיחֹ֗ו הָעַ֞י אֲשֶׁ֨ר עִם־בֵּ֥ית אָ֨וֶן֙ מִקֶּ֣דֶם לְבֵֽית־אֵ֔ל וַיֹּ֤אמֶר אֲלֵיהֶם֙ לֵאמֹ֔ר עֲל֖וּ וְרַגְּל֣וּ <span  class=\"hl\" >אֶת־</span><span  class=\"hl\" >הָ</span><span  class=\"hl\" >אָ֑רֶץ </span>וַֽיַּעֲלוּ֙ הָאֲנָשִׁ֔ים וַֽיְרַגְּל֖וּ אֶת־הָעָֽי׃ </span></td><td class=\"tf\"><span class=\"hb\"><span  class=\"hl\" >אֶת־</span></span></td><td class=\"tf\"><span class=\"hb\"><span  class=\"hl\" >הָ</span></span></td><td class=\"tf\"><span class=\"hb\"><span  class=\"hl\" >אָ֑רֶץ </span></span></td></tr>\n",
       "<tr class=\"tf\"><td class=\"tf\">55</td><td class=\"tf\"> <a href=\"https://shebanq.ancient-data.org/hebrew/text?book=Josua&amp;chapter=7&amp;verse=2&amp;version=c&amp;mr=m&amp;qw=q&amp;tp=txt_p&amp;tr=hb&amp;wget=v&amp;qget=v&amp;nget=vt\" title=\"show this passage in SHEBANQ\" sec=\"Joshua 7:2\">Joshua 7:2</a></td><td class=\"tf\"><span class=\"hb\"><a class=\"vn\" href=\"https://shebanq.ancient-data.org/hebrew/text?book=Josua&amp;chapter=7&amp;verse=2&amp;version=c&amp;mr=m&amp;qw=q&amp;tp=txt_p&amp;tr=hb&amp;wget=v&amp;qget=v&amp;nget=vt\" title=\"Joshua 7:2\" sec=\"Joshua 7:2\"></a>וַיִּשְׁלַח֩ יְהֹושֻׁ֨עַ אֲנָשִׁ֜ים מִֽירִיחֹ֗ו הָעַ֞י אֲשֶׁ֨ר עִם־בֵּ֥ית אָ֨וֶן֙ מִקֶּ֣דֶם לְבֵֽית־אֵ֔ל וַיֹּ֤אמֶר אֲלֵיהֶם֙ לֵאמֹ֔ר עֲל֖וּ וְרַגְּל֣וּ <span  class=\"hl\" >אֶת־</span><span  class=\"hl\" >הָ</span><span  class=\"hl\" >אָ֑רֶץ </span>וַֽיַּעֲלוּ֙ הָאֲנָשִׁ֔ים וַֽיְרַגְּל֖וּ אֶת־הָעָֽי׃ </span></td><td class=\"tf\"><span class=\"hb\"><span  class=\"hl\" >אֶת־</span></span></td><td class=\"tf\"><span class=\"hb\"><span  class=\"hl\" >הָ</span></span></td><td class=\"tf\"><span class=\"hb\"><span  class=\"hl\" >אָ֑רֶץ </span></span></td></tr>\n",
       "<tr class=\"tf\"><td class=\"tf\">56</td><td class=\"tf\"> <a href=\"https://shebanq.ancient-data.org/hebrew/text?book=Josua&amp;chapter=7&amp;verse=2&amp;version=c&amp;mr=m&amp;qw=q&amp;tp=txt_p&amp;tr=hb&amp;wget=v&amp;qget=v&amp;nget=vt\" title=\"show this passage in SHEBANQ\" sec=\"Joshua 7:2\">Joshua 7:2</a></td><td class=\"tf\"><span class=\"hb\"><a class=\"vn\" href=\"https://shebanq.ancient-data.org/hebrew/text?book=Josua&amp;chapter=7&amp;verse=2&amp;version=c&amp;mr=m&amp;qw=q&amp;tp=txt_p&amp;tr=hb&amp;wget=v&amp;qget=v&amp;nget=vt\" title=\"Joshua 7:2\" sec=\"Joshua 7:2\"></a>וַיִּשְׁלַח֩ יְהֹושֻׁ֨עַ אֲנָשִׁ֜ים מִֽירִיחֹ֗ו הָעַ֞י אֲשֶׁ֨ר עִם־בֵּ֥ית אָ֨וֶן֙ מִקֶּ֣דֶם לְבֵֽית־אֵ֔ל וַיֹּ֤אמֶר אֲלֵיהֶם֙ לֵאמֹ֔ר עֲל֖וּ וְרַגְּל֣וּ <span  class=\"hl\" >אֶת־</span><span  class=\"hl\" >הָ</span><span  class=\"hl\" >אָ֑רֶץ </span>וַֽיַּעֲלוּ֙ הָאֲנָשִׁ֔ים וַֽיְרַגְּל֖וּ אֶת־הָעָֽי׃ </span></td><td class=\"tf\"><span class=\"hb\"><span  class=\"hl\" >אֶת־</span></span></td><td class=\"tf\"><span class=\"hb\"><span  class=\"hl\" >הָ</span></span></td><td class=\"tf\"><span class=\"hb\"><span  class=\"hl\" >אָ֑רֶץ </span></span></td></tr>\n",
       "<tr class=\"tf\"><td class=\"tf\">57</td><td class=\"tf\"> <a href=\"https://shebanq.ancient-data.org/hebrew/text?book=Josua&amp;chapter=7&amp;verse=2&amp;version=c&amp;mr=m&amp;qw=q&amp;tp=txt_p&amp;tr=hb&amp;wget=v&amp;qget=v&amp;nget=vt\" title=\"show this passage in SHEBANQ\" sec=\"Joshua 7:2\">Joshua 7:2</a></td><td class=\"tf\"><span class=\"hb\"><a class=\"vn\" href=\"https://shebanq.ancient-data.org/hebrew/text?book=Josua&amp;chapter=7&amp;verse=2&amp;version=c&amp;mr=m&amp;qw=q&amp;tp=txt_p&amp;tr=hb&amp;wget=v&amp;qget=v&amp;nget=vt\" title=\"Joshua 7:2\" sec=\"Joshua 7:2\"></a>וַיִּשְׁלַח֩ יְהֹושֻׁ֨עַ אֲנָשִׁ֜ים מִֽירִיחֹ֗ו הָעַ֞י אֲשֶׁ֨ר עִם־בֵּ֥ית אָ֨וֶן֙ מִקֶּ֣דֶם לְבֵֽית־אֵ֔ל וַיֹּ֤אמֶר אֲלֵיהֶם֙ לֵאמֹ֔ר עֲל֖וּ וְרַגְּל֣וּ אֶת־הָאָ֑רֶץ <span  class=\"hl\" >וַֽ</span><span  class=\"hl\" >יַּעֲלוּ֙ </span>הָאֲנָשִׁ֔ים וַֽיְרַגְּל֖וּ אֶת־הָעָֽי׃ </span></td><td class=\"tf\"><span class=\"hb\"><span  class=\"hl\" >וַֽ</span></span></td><td class=\"tf\"><span class=\"hb\"><span  class=\"hl\" >יַּעֲלוּ֙ </span></span></td></tr>\n",
       "<tr class=\"tf\"><td class=\"tf\">58</td><td class=\"tf\"> <a href=\"https://shebanq.ancient-data.org/hebrew/text?book=Josua&amp;chapter=7&amp;verse=2&amp;version=c&amp;mr=m&amp;qw=q&amp;tp=txt_p&amp;tr=hb&amp;wget=v&amp;qget=v&amp;nget=vt\" title=\"show this passage in SHEBANQ\" sec=\"Joshua 7:2\">Joshua 7:2</a></td><td class=\"tf\"><span class=\"hb\"><a class=\"vn\" href=\"https://shebanq.ancient-data.org/hebrew/text?book=Josua&amp;chapter=7&amp;verse=2&amp;version=c&amp;mr=m&amp;qw=q&amp;tp=txt_p&amp;tr=hb&amp;wget=v&amp;qget=v&amp;nget=vt\" title=\"Joshua 7:2\" sec=\"Joshua 7:2\"></a>וַיִּשְׁלַח֩ יְהֹושֻׁ֨עַ אֲנָשִׁ֜ים מִֽירִיחֹ֗ו הָעַ֞י אֲשֶׁ֨ר עִם־בֵּ֥ית אָ֨וֶן֙ מִקֶּ֣דֶם לְבֵֽית־אֵ֔ל וַיֹּ֤אמֶר אֲלֵיהֶם֙ לֵאמֹ֔ר עֲל֖וּ וְרַגְּל֣וּ אֶת־הָאָ֑רֶץ <span  class=\"hl\" >וַֽ</span><span  class=\"hl\" >יַּעֲלוּ֙ </span>הָאֲנָשִׁ֔ים וַֽיְרַגְּל֖וּ אֶת־הָעָֽי׃ </span></td><td class=\"tf\"><span class=\"hb\"><span  class=\"hl\" >וַֽ</span></span></td><td class=\"tf\"><span class=\"hb\"><span  class=\"hl\" >יַּעֲלוּ֙ </span></span></td></tr>\n",
       "<tr class=\"tf\"><td class=\"tf\">59</td><td class=\"tf\"> <a href=\"https://shebanq.ancient-data.org/hebrew/text?book=Josua&amp;chapter=7&amp;verse=2&amp;version=c&amp;mr=m&amp;qw=q&amp;tp=txt_p&amp;tr=hb&amp;wget=v&amp;qget=v&amp;nget=vt\" title=\"show this passage in SHEBANQ\" sec=\"Joshua 7:2\">Joshua 7:2</a></td><td class=\"tf\"><span class=\"hb\"><a class=\"vn\" href=\"https://shebanq.ancient-data.org/hebrew/text?book=Josua&amp;chapter=7&amp;verse=2&amp;version=c&amp;mr=m&amp;qw=q&amp;tp=txt_p&amp;tr=hb&amp;wget=v&amp;qget=v&amp;nget=vt\" title=\"Joshua 7:2\" sec=\"Joshua 7:2\"></a>וַיִּשְׁלַח֩ יְהֹושֻׁ֨עַ אֲנָשִׁ֜ים מִֽירִיחֹ֗ו הָעַ֞י אֲשֶׁ֨ר עִם־בֵּ֥ית אָ֨וֶן֙ מִקֶּ֣דֶם לְבֵֽית־אֵ֔ל וַיֹּ֤אמֶר אֲלֵיהֶם֙ לֵאמֹ֔ר עֲל֖וּ וְרַגְּל֣וּ אֶת־הָאָ֑רֶץ וַֽיַּעֲלוּ֙ <span  class=\"hl\" >הָ</span><span  class=\"hl\" >אֲנָשִׁ֔ים </span>וַֽיְרַגְּל֖וּ אֶת־הָעָֽי׃ </span></td><td class=\"tf\"><span class=\"hb\"><span  class=\"hl\" >הָ</span></span></td><td class=\"tf\"><span class=\"hb\"><span  class=\"hl\" >אֲנָשִׁ֔ים </span></span></td></tr>\n",
       "<tr class=\"tf\"><td class=\"tf\">60</td><td class=\"tf\"> <a href=\"https://shebanq.ancient-data.org/hebrew/text?book=Josua&amp;chapter=7&amp;verse=2&amp;version=c&amp;mr=m&amp;qw=q&amp;tp=txt_p&amp;tr=hb&amp;wget=v&amp;qget=v&amp;nget=vt\" title=\"show this passage in SHEBANQ\" sec=\"Joshua 7:2\">Joshua 7:2</a></td><td class=\"tf\"><span class=\"hb\"><a class=\"vn\" href=\"https://shebanq.ancient-data.org/hebrew/text?book=Josua&amp;chapter=7&amp;verse=2&amp;version=c&amp;mr=m&amp;qw=q&amp;tp=txt_p&amp;tr=hb&amp;wget=v&amp;qget=v&amp;nget=vt\" title=\"Joshua 7:2\" sec=\"Joshua 7:2\"></a>וַיִּשְׁלַח֩ יְהֹושֻׁ֨עַ אֲנָשִׁ֜ים מִֽירִיחֹ֗ו הָעַ֞י אֲשֶׁ֨ר עִם־בֵּ֥ית אָ֨וֶן֙ מִקֶּ֣דֶם לְבֵֽית־אֵ֔ל וַיֹּ֤אמֶר אֲלֵיהֶם֙ לֵאמֹ֔ר עֲל֖וּ וְרַגְּל֣וּ אֶת־הָאָ֑רֶץ וַֽיַּעֲלוּ֙ <span  class=\"hl\" >הָ</span><span  class=\"hl\" >אֲנָשִׁ֔ים </span>וַֽיְרַגְּל֖וּ אֶת־הָעָֽי׃ </span></td><td class=\"tf\"><span class=\"hb\"><span  class=\"hl\" >הָ</span></span></td><td class=\"tf\"><span class=\"hb\"><span  class=\"hl\" >אֲנָשִׁ֔ים </span></span></td></tr>\n",
       "<tr class=\"tf\"><td class=\"tf\">61</td><td class=\"tf\"> <a href=\"https://shebanq.ancient-data.org/hebrew/text?book=Josua&amp;chapter=7&amp;verse=2&amp;version=c&amp;mr=m&amp;qw=q&amp;tp=txt_p&amp;tr=hb&amp;wget=v&amp;qget=v&amp;nget=vt\" title=\"show this passage in SHEBANQ\" sec=\"Joshua 7:2\">Joshua 7:2</a></td><td class=\"tf\"><span class=\"hb\"><a class=\"vn\" href=\"https://shebanq.ancient-data.org/hebrew/text?book=Josua&amp;chapter=7&amp;verse=2&amp;version=c&amp;mr=m&amp;qw=q&amp;tp=txt_p&amp;tr=hb&amp;wget=v&amp;qget=v&amp;nget=vt\" title=\"Joshua 7:2\" sec=\"Joshua 7:2\"></a>וַיִּשְׁלַח֩ יְהֹושֻׁ֨עַ אֲנָשִׁ֜ים מִֽירִיחֹ֗ו הָעַ֞י אֲשֶׁ֨ר עִם־בֵּ֥ית אָ֨וֶן֙ מִקֶּ֣דֶם לְבֵֽית־אֵ֔ל וַיֹּ֤אמֶר אֲלֵיהֶם֙ לֵאמֹ֔ר עֲל֖וּ וְרַגְּל֣וּ אֶת־הָאָ֑רֶץ וַֽיַּעֲלוּ֙ הָאֲנָשִׁ֔ים <span  class=\"hl\" >וַֽ</span><span  class=\"hl\" >יְרַגְּל֖וּ </span>אֶת־הָעָֽי׃ </span></td><td class=\"tf\"><span class=\"hb\"><span  class=\"hl\" >וַֽ</span></span></td><td class=\"tf\"><span class=\"hb\"><span  class=\"hl\" >יְרַגְּל֖וּ </span></span></td></tr>\n",
       "<tr class=\"tf\"><td class=\"tf\">62</td><td class=\"tf\"> <a href=\"https://shebanq.ancient-data.org/hebrew/text?book=Josua&amp;chapter=7&amp;verse=2&amp;version=c&amp;mr=m&amp;qw=q&amp;tp=txt_p&amp;tr=hb&amp;wget=v&amp;qget=v&amp;nget=vt\" title=\"show this passage in SHEBANQ\" sec=\"Joshua 7:2\">Joshua 7:2</a></td><td class=\"tf\"><span class=\"hb\"><a class=\"vn\" href=\"https://shebanq.ancient-data.org/hebrew/text?book=Josua&amp;chapter=7&amp;verse=2&amp;version=c&amp;mr=m&amp;qw=q&amp;tp=txt_p&amp;tr=hb&amp;wget=v&amp;qget=v&amp;nget=vt\" title=\"Joshua 7:2\" sec=\"Joshua 7:2\"></a>וַיִּשְׁלַח֩ יְהֹושֻׁ֨עַ אֲנָשִׁ֜ים מִֽירִיחֹ֗ו הָעַ֞י אֲשֶׁ֨ר עִם־בֵּ֥ית אָ֨וֶן֙ מִקֶּ֣דֶם לְבֵֽית־אֵ֔ל וַיֹּ֤אמֶר אֲלֵיהֶם֙ לֵאמֹ֔ר עֲל֖וּ וְרַגְּל֣וּ אֶת־הָאָ֑רֶץ וַֽיַּעֲלוּ֙ הָאֲנָשִׁ֔ים <span  class=\"hl\" >וַֽ</span><span  class=\"hl\" >יְרַגְּל֖וּ </span>אֶת־הָעָֽי׃ </span></td><td class=\"tf\"><span class=\"hb\"><span  class=\"hl\" >וַֽ</span></span></td><td class=\"tf\"><span class=\"hb\"><span  class=\"hl\" >יְרַגְּל֖וּ </span></span></td></tr>\n",
       "<tr class=\"tf\"><td class=\"tf\">63</td><td class=\"tf\"> <a href=\"https://shebanq.ancient-data.org/hebrew/text?book=Josua&amp;chapter=7&amp;verse=2&amp;version=c&amp;mr=m&amp;qw=q&amp;tp=txt_p&amp;tr=hb&amp;wget=v&amp;qget=v&amp;nget=vt\" title=\"show this passage in SHEBANQ\" sec=\"Joshua 7:2\">Joshua 7:2</a></td><td class=\"tf\"><span class=\"hb\"><a class=\"vn\" href=\"https://shebanq.ancient-data.org/hebrew/text?book=Josua&amp;chapter=7&amp;verse=2&amp;version=c&amp;mr=m&amp;qw=q&amp;tp=txt_p&amp;tr=hb&amp;wget=v&amp;qget=v&amp;nget=vt\" title=\"Joshua 7:2\" sec=\"Joshua 7:2\"></a>וַיִּשְׁלַח֩ יְהֹושֻׁ֨עַ אֲנָשִׁ֜ים מִֽירִיחֹ֗ו הָעַ֞י אֲשֶׁ֨ר עִם־בֵּ֥ית אָ֨וֶן֙ מִקֶּ֣דֶם לְבֵֽית־אֵ֔ל וַיֹּ֤אמֶר אֲלֵיהֶם֙ לֵאמֹ֔ר עֲל֖וּ וְרַגְּל֣וּ אֶת־הָאָ֑רֶץ וַֽיַּעֲלוּ֙ הָאֲנָשִׁ֔ים וַֽיְרַגְּל֖וּ <span  class=\"hl\" >אֶת־</span><span  class=\"hl\" >הָ</span><span  class=\"hl\" >עָֽי׃ </span></span></td><td class=\"tf\"><span class=\"hb\"><span  class=\"hl\" >אֶת־</span></span></td><td class=\"tf\"><span class=\"hb\"><span  class=\"hl\" >הָ</span></span></td><td class=\"tf\"><span class=\"hb\"><span  class=\"hl\" >עָֽי׃ </span></span></td></tr>\n",
       "<tr class=\"tf\"><td class=\"tf\">64</td><td class=\"tf\"> <a href=\"https://shebanq.ancient-data.org/hebrew/text?book=Josua&amp;chapter=7&amp;verse=2&amp;version=c&amp;mr=m&amp;qw=q&amp;tp=txt_p&amp;tr=hb&amp;wget=v&amp;qget=v&amp;nget=vt\" title=\"show this passage in SHEBANQ\" sec=\"Joshua 7:2\">Joshua 7:2</a></td><td class=\"tf\"><span class=\"hb\"><a class=\"vn\" href=\"https://shebanq.ancient-data.org/hebrew/text?book=Josua&amp;chapter=7&amp;verse=2&amp;version=c&amp;mr=m&amp;qw=q&amp;tp=txt_p&amp;tr=hb&amp;wget=v&amp;qget=v&amp;nget=vt\" title=\"Joshua 7:2\" sec=\"Joshua 7:2\"></a>וַיִּשְׁלַח֩ יְהֹושֻׁ֨עַ אֲנָשִׁ֜ים מִֽירִיחֹ֗ו הָעַ֞י אֲשֶׁ֨ר עִם־בֵּ֥ית אָ֨וֶן֙ מִקֶּ֣דֶם לְבֵֽית־אֵ֔ל וַיֹּ֤אמֶר אֲלֵיהֶם֙ לֵאמֹ֔ר עֲל֖וּ וְרַגְּל֣וּ אֶת־הָאָ֑רֶץ וַֽיַּעֲלוּ֙ הָאֲנָשִׁ֔ים וַֽיְרַגְּל֖וּ <span  class=\"hl\" >אֶת־</span><span  class=\"hl\" >הָ</span><span  class=\"hl\" >עָֽי׃ </span></span></td><td class=\"tf\"><span class=\"hb\"><span  class=\"hl\" >אֶת־</span></span></td><td class=\"tf\"><span class=\"hb\"><span  class=\"hl\" >הָ</span></span></td><td class=\"tf\"><span class=\"hb\"><span  class=\"hl\" >עָֽי׃ </span></span></td></tr>\n",
       "<tr class=\"tf\"><td class=\"tf\">65</td><td class=\"tf\"> <a href=\"https://shebanq.ancient-data.org/hebrew/text?book=Josua&amp;chapter=7&amp;verse=2&amp;version=c&amp;mr=m&amp;qw=q&amp;tp=txt_p&amp;tr=hb&amp;wget=v&amp;qget=v&amp;nget=vt\" title=\"show this passage in SHEBANQ\" sec=\"Joshua 7:2\">Joshua 7:2</a></td><td class=\"tf\"><span class=\"hb\"><a class=\"vn\" href=\"https://shebanq.ancient-data.org/hebrew/text?book=Josua&amp;chapter=7&amp;verse=2&amp;version=c&amp;mr=m&amp;qw=q&amp;tp=txt_p&amp;tr=hb&amp;wget=v&amp;qget=v&amp;nget=vt\" title=\"Joshua 7:2\" sec=\"Joshua 7:2\"></a>וַיִּשְׁלַח֩ יְהֹושֻׁ֨עַ אֲנָשִׁ֜ים מִֽירִיחֹ֗ו הָעַ֞י אֲשֶׁ֨ר עִם־בֵּ֥ית אָ֨וֶן֙ מִקֶּ֣דֶם לְבֵֽית־אֵ֔ל וַיֹּ֤אמֶר אֲלֵיהֶם֙ לֵאמֹ֔ר עֲל֖וּ וְרַגְּל֣וּ אֶת־הָאָ֑רֶץ וַֽיַּעֲלוּ֙ הָאֲנָשִׁ֔ים וַֽיְרַגְּל֖וּ <span  class=\"hl\" >אֶת־</span><span  class=\"hl\" >הָ</span><span  class=\"hl\" >עָֽי׃ </span></span></td><td class=\"tf\"><span class=\"hb\"><span  class=\"hl\" >אֶת־</span></span></td><td class=\"tf\"><span class=\"hb\"><span  class=\"hl\" >הָ</span></span></td><td class=\"tf\"><span class=\"hb\"><span  class=\"hl\" >עָֽי׃ </span></span></td></tr>\n",
       "<tr class=\"tf\"><td class=\"tf\">66</td><td class=\"tf\"> <a href=\"https://shebanq.ancient-data.org/hebrew/text?book=Josua&amp;chapter=7&amp;verse=3&amp;version=c&amp;mr=m&amp;qw=q&amp;tp=txt_p&amp;tr=hb&amp;wget=v&amp;qget=v&amp;nget=vt\" title=\"show this passage in SHEBANQ\" sec=\"Joshua 7:3\">Joshua 7:3</a></td><td class=\"tf\"><span class=\"hb\"><a class=\"vn\" href=\"https://shebanq.ancient-data.org/hebrew/text?book=Josua&amp;chapter=7&amp;verse=3&amp;version=c&amp;mr=m&amp;qw=q&amp;tp=txt_p&amp;tr=hb&amp;wget=v&amp;qget=v&amp;nget=vt\" title=\"Joshua 7:3\" sec=\"Joshua 7:3\"></a><span  class=\"hl\" >וַ</span><span  class=\"hl\" >יָּשֻׁ֣בוּ </span>אֶל־יְהֹושֻׁ֗עַ וַיֹּאמְר֣וּ אֵלָיו֮ אַל־יַ֣עַל כָּל־הָעָם֒ כְּאַלְפַּ֣יִם אִ֗ישׁ אֹ֚ו כִּשְׁלֹ֣שֶׁת אֲלָפִ֣ים אִ֔ישׁ יַעֲל֖וּ וְיַכּ֣וּ אֶת־הָעָ֑י אַל־תְּיַגַּע־שָׁ֨מָּה֙ אֶת־כָּל־הָעָ֔ם כִּ֥י מְעַ֖ט הֵֽמָּה׃ </span></td><td class=\"tf\"><span class=\"hb\"><span  class=\"hl\" >וַ</span></span></td><td class=\"tf\"><span class=\"hb\"><span  class=\"hl\" >יָּשֻׁ֣בוּ </span></span></td></tr>\n",
       "<tr class=\"tf\"><td class=\"tf\">67</td><td class=\"tf\"> <a href=\"https://shebanq.ancient-data.org/hebrew/text?book=Josua&amp;chapter=7&amp;verse=3&amp;version=c&amp;mr=m&amp;qw=q&amp;tp=txt_p&amp;tr=hb&amp;wget=v&amp;qget=v&amp;nget=vt\" title=\"show this passage in SHEBANQ\" sec=\"Joshua 7:3\">Joshua 7:3</a></td><td class=\"tf\"><span class=\"hb\"><a class=\"vn\" href=\"https://shebanq.ancient-data.org/hebrew/text?book=Josua&amp;chapter=7&amp;verse=3&amp;version=c&amp;mr=m&amp;qw=q&amp;tp=txt_p&amp;tr=hb&amp;wget=v&amp;qget=v&amp;nget=vt\" title=\"Joshua 7:3\" sec=\"Joshua 7:3\"></a><span  class=\"hl\" >וַ</span><span  class=\"hl\" >יָּשֻׁ֣בוּ </span>אֶל־יְהֹושֻׁ֗עַ וַיֹּאמְר֣וּ אֵלָיו֮ אַל־יַ֣עַל כָּל־הָעָם֒ כְּאַלְפַּ֣יִם אִ֗ישׁ אֹ֚ו כִּשְׁלֹ֣שֶׁת אֲלָפִ֣ים אִ֔ישׁ יַעֲל֖וּ וְיַכּ֣וּ אֶת־הָעָ֑י אַל־תְּיַגַּע־שָׁ֨מָּה֙ אֶת־כָּל־הָעָ֔ם כִּ֥י מְעַ֖ט הֵֽמָּה׃ </span></td><td class=\"tf\"><span class=\"hb\"><span  class=\"hl\" >וַ</span></span></td><td class=\"tf\"><span class=\"hb\"><span  class=\"hl\" >יָּשֻׁ֣בוּ </span></span></td></tr>\n",
       "<tr class=\"tf\"><td class=\"tf\">68</td><td class=\"tf\"> <a href=\"https://shebanq.ancient-data.org/hebrew/text?book=Josua&amp;chapter=7&amp;verse=3&amp;version=c&amp;mr=m&amp;qw=q&amp;tp=txt_p&amp;tr=hb&amp;wget=v&amp;qget=v&amp;nget=vt\" title=\"show this passage in SHEBANQ\" sec=\"Joshua 7:3\">Joshua 7:3</a></td><td class=\"tf\"><span class=\"hb\"><a class=\"vn\" href=\"https://shebanq.ancient-data.org/hebrew/text?book=Josua&amp;chapter=7&amp;verse=3&amp;version=c&amp;mr=m&amp;qw=q&amp;tp=txt_p&amp;tr=hb&amp;wget=v&amp;qget=v&amp;nget=vt\" title=\"Joshua 7:3\" sec=\"Joshua 7:3\"></a>וַיָּשֻׁ֣בוּ <span  class=\"hl\" >אֶל־</span><span  class=\"hl\" >יְהֹושֻׁ֗עַ </span>וַיֹּאמְר֣וּ אֵלָיו֮ אַל־יַ֣עַל כָּל־הָעָם֒ כְּאַלְפַּ֣יִם אִ֗ישׁ אֹ֚ו כִּשְׁלֹ֣שֶׁת אֲלָפִ֣ים אִ֔ישׁ יַעֲל֖וּ וְיַכּ֣וּ אֶת־הָעָ֑י אַל־תְּיַגַּע־שָׁ֨מָּה֙ אֶת־כָּל־הָעָ֔ם כִּ֥י מְעַ֖ט הֵֽמָּה׃ </span></td><td class=\"tf\"><span class=\"hb\"><span  class=\"hl\" >אֶל־</span></span></td><td class=\"tf\"><span class=\"hb\"><span  class=\"hl\" >יְהֹושֻׁ֗עַ </span></span></td></tr>\n",
       "<tr class=\"tf\"><td class=\"tf\">69</td><td class=\"tf\"> <a href=\"https://shebanq.ancient-data.org/hebrew/text?book=Josua&amp;chapter=7&amp;verse=3&amp;version=c&amp;mr=m&amp;qw=q&amp;tp=txt_p&amp;tr=hb&amp;wget=v&amp;qget=v&amp;nget=vt\" title=\"show this passage in SHEBANQ\" sec=\"Joshua 7:3\">Joshua 7:3</a></td><td class=\"tf\"><span class=\"hb\"><a class=\"vn\" href=\"https://shebanq.ancient-data.org/hebrew/text?book=Josua&amp;chapter=7&amp;verse=3&amp;version=c&amp;mr=m&amp;qw=q&amp;tp=txt_p&amp;tr=hb&amp;wget=v&amp;qget=v&amp;nget=vt\" title=\"Joshua 7:3\" sec=\"Joshua 7:3\"></a>וַיָּשֻׁ֣בוּ <span  class=\"hl\" >אֶל־</span><span  class=\"hl\" >יְהֹושֻׁ֗עַ </span>וַיֹּאמְר֣וּ אֵלָיו֮ אַל־יַ֣עַל כָּל־הָעָם֒ כְּאַלְפַּ֣יִם אִ֗ישׁ אֹ֚ו כִּשְׁלֹ֣שֶׁת אֲלָפִ֣ים אִ֔ישׁ יַעֲל֖וּ וְיַכּ֣וּ אֶת־הָעָ֑י אַל־תְּיַגַּע־שָׁ֨מָּה֙ אֶת־כָּל־הָעָ֔ם כִּ֥י מְעַ֖ט הֵֽמָּה׃ </span></td><td class=\"tf\"><span class=\"hb\"><span  class=\"hl\" >אֶל־</span></span></td><td class=\"tf\"><span class=\"hb\"><span  class=\"hl\" >יְהֹושֻׁ֗עַ </span></span></td></tr>\n",
       "<tr class=\"tf\"><td class=\"tf\">70</td><td class=\"tf\"> <a href=\"https://shebanq.ancient-data.org/hebrew/text?book=Josua&amp;chapter=7&amp;verse=3&amp;version=c&amp;mr=m&amp;qw=q&amp;tp=txt_p&amp;tr=hb&amp;wget=v&amp;qget=v&amp;nget=vt\" title=\"show this passage in SHEBANQ\" sec=\"Joshua 7:3\">Joshua 7:3</a></td><td class=\"tf\"><span class=\"hb\"><a class=\"vn\" href=\"https://shebanq.ancient-data.org/hebrew/text?book=Josua&amp;chapter=7&amp;verse=3&amp;version=c&amp;mr=m&amp;qw=q&amp;tp=txt_p&amp;tr=hb&amp;wget=v&amp;qget=v&amp;nget=vt\" title=\"Joshua 7:3\" sec=\"Joshua 7:3\"></a>וַיָּשֻׁ֣בוּ אֶל־יְהֹושֻׁ֗עַ <span  class=\"hl\" >וַ</span><span  class=\"hl\" >יֹּאמְר֣וּ </span>אֵלָיו֮ אַל־יַ֣עַל כָּל־הָעָם֒ כְּאַלְפַּ֣יִם אִ֗ישׁ אֹ֚ו כִּשְׁלֹ֣שֶׁת אֲלָפִ֣ים אִ֔ישׁ יַעֲל֖וּ וְיַכּ֣וּ אֶת־הָעָ֑י אַל־תְּיַגַּע־שָׁ֨מָּה֙ אֶת־כָּל־הָעָ֔ם כִּ֥י מְעַ֖ט הֵֽמָּה׃ </span></td><td class=\"tf\"><span class=\"hb\"><span  class=\"hl\" >וַ</span></span></td><td class=\"tf\"><span class=\"hb\"><span  class=\"hl\" >יֹּאמְר֣וּ </span></span></td></tr>\n",
       "<tr class=\"tf\"><td class=\"tf\">71</td><td class=\"tf\"> <a href=\"https://shebanq.ancient-data.org/hebrew/text?book=Josua&amp;chapter=7&amp;verse=3&amp;version=c&amp;mr=m&amp;qw=q&amp;tp=txt_p&amp;tr=hb&amp;wget=v&amp;qget=v&amp;nget=vt\" title=\"show this passage in SHEBANQ\" sec=\"Joshua 7:3\">Joshua 7:3</a></td><td class=\"tf\"><span class=\"hb\"><a class=\"vn\" href=\"https://shebanq.ancient-data.org/hebrew/text?book=Josua&amp;chapter=7&amp;verse=3&amp;version=c&amp;mr=m&amp;qw=q&amp;tp=txt_p&amp;tr=hb&amp;wget=v&amp;qget=v&amp;nget=vt\" title=\"Joshua 7:3\" sec=\"Joshua 7:3\"></a>וַיָּשֻׁ֣בוּ אֶל־יְהֹושֻׁ֗עַ <span  class=\"hl\" >וַ</span><span  class=\"hl\" >יֹּאמְר֣וּ </span>אֵלָיו֮ אַל־יַ֣עַל כָּל־הָעָם֒ כְּאַלְפַּ֣יִם אִ֗ישׁ אֹ֚ו כִּשְׁלֹ֣שֶׁת אֲלָפִ֣ים אִ֔ישׁ יַעֲל֖וּ וְיַכּ֣וּ אֶת־הָעָ֑י אַל־תְּיַגַּע־שָׁ֨מָּה֙ אֶת־כָּל־הָעָ֔ם כִּ֥י מְעַ֖ט הֵֽמָּה׃ </span></td><td class=\"tf\"><span class=\"hb\"><span  class=\"hl\" >וַ</span></span></td><td class=\"tf\"><span class=\"hb\"><span  class=\"hl\" >יֹּאמְר֣וּ </span></span></td></tr>\n",
       "<tr class=\"tf\"><td class=\"tf\">72</td><td class=\"tf\"> <a href=\"https://shebanq.ancient-data.org/hebrew/text?book=Josua&amp;chapter=7&amp;verse=3&amp;version=c&amp;mr=m&amp;qw=q&amp;tp=txt_p&amp;tr=hb&amp;wget=v&amp;qget=v&amp;nget=vt\" title=\"show this passage in SHEBANQ\" sec=\"Joshua 7:3\">Joshua 7:3</a></td><td class=\"tf\"><span class=\"hb\"><a class=\"vn\" href=\"https://shebanq.ancient-data.org/hebrew/text?book=Josua&amp;chapter=7&amp;verse=3&amp;version=c&amp;mr=m&amp;qw=q&amp;tp=txt_p&amp;tr=hb&amp;wget=v&amp;qget=v&amp;nget=vt\" title=\"Joshua 7:3\" sec=\"Joshua 7:3\"></a>וַיָּשֻׁ֣בוּ אֶל־יְהֹושֻׁ֗עַ וַיֹּאמְר֣וּ <span  class=\"hl\" >אֵלָיו֮ </span>אַל־יַ֣עַל כָּל־הָעָם֒ כְּאַלְפַּ֣יִם אִ֗ישׁ אֹ֚ו כִּשְׁלֹ֣שֶׁת אֲלָפִ֣ים אִ֔ישׁ יַעֲל֖וּ וְיַכּ֣וּ אֶת־הָעָ֑י אַל־תְּיַגַּע־שָׁ֨מָּה֙ אֶת־כָּל־הָעָ֔ם כִּ֥י מְעַ֖ט הֵֽמָּה׃ </span></td><td class=\"tf\"><span class=\"hb\"><span  class=\"hl\" >אֵלָיו֮ </span></span></td></tr>\n",
       "<tr class=\"tf\"><td class=\"tf\">73</td><td class=\"tf\"> <a href=\"https://shebanq.ancient-data.org/hebrew/text?book=Josua&amp;chapter=7&amp;verse=3&amp;version=c&amp;mr=m&amp;qw=q&amp;tp=txt_p&amp;tr=hb&amp;wget=v&amp;qget=v&amp;nget=vt\" title=\"show this passage in SHEBANQ\" sec=\"Joshua 7:3\">Joshua 7:3</a></td><td class=\"tf\"><span class=\"hb\"><a class=\"vn\" href=\"https://shebanq.ancient-data.org/hebrew/text?book=Josua&amp;chapter=7&amp;verse=3&amp;version=c&amp;mr=m&amp;qw=q&amp;tp=txt_p&amp;tr=hb&amp;wget=v&amp;qget=v&amp;nget=vt\" title=\"Joshua 7:3\" sec=\"Joshua 7:3\"></a>וַיָּשֻׁ֣בוּ אֶל־יְהֹושֻׁ֗עַ וַיֹּאמְר֣וּ אֵלָיו֮ <span  class=\"hl\" >אַל־</span><span  class=\"hl\" >יַ֣עַל </span>כָּל־הָעָם֒ כְּאַלְפַּ֣יִם אִ֗ישׁ אֹ֚ו כִּשְׁלֹ֣שֶׁת אֲלָפִ֣ים אִ֔ישׁ יַעֲל֖וּ וְיַכּ֣וּ אֶת־הָעָ֑י אַל־תְּיַגַּע־שָׁ֨מָּה֙ אֶת־כָּל־הָעָ֔ם כִּ֥י מְעַ֖ט הֵֽמָּה׃ </span></td><td class=\"tf\"><span class=\"hb\"><span  class=\"hl\" >אַל־</span></span></td><td class=\"tf\"><span class=\"hb\"><span  class=\"hl\" >יַ֣עַל </span></span></td></tr>\n",
       "<tr class=\"tf\"><td class=\"tf\">74</td><td class=\"tf\"> <a href=\"https://shebanq.ancient-data.org/hebrew/text?book=Josua&amp;chapter=7&amp;verse=3&amp;version=c&amp;mr=m&amp;qw=q&amp;tp=txt_p&amp;tr=hb&amp;wget=v&amp;qget=v&amp;nget=vt\" title=\"show this passage in SHEBANQ\" sec=\"Joshua 7:3\">Joshua 7:3</a></td><td class=\"tf\"><span class=\"hb\"><a class=\"vn\" href=\"https://shebanq.ancient-data.org/hebrew/text?book=Josua&amp;chapter=7&amp;verse=3&amp;version=c&amp;mr=m&amp;qw=q&amp;tp=txt_p&amp;tr=hb&amp;wget=v&amp;qget=v&amp;nget=vt\" title=\"Joshua 7:3\" sec=\"Joshua 7:3\"></a>וַיָּשֻׁ֣בוּ אֶל־יְהֹושֻׁ֗עַ וַיֹּאמְר֣וּ אֵלָיו֮ <span  class=\"hl\" >אַל־</span><span  class=\"hl\" >יַ֣עַל </span>כָּל־הָעָם֒ כְּאַלְפַּ֣יִם אִ֗ישׁ אֹ֚ו כִּשְׁלֹ֣שֶׁת אֲלָפִ֣ים אִ֔ישׁ יַעֲל֖וּ וְיַכּ֣וּ אֶת־הָעָ֑י אַל־תְּיַגַּע־שָׁ֨מָּה֙ אֶת־כָּל־הָעָ֔ם כִּ֥י מְעַ֖ט הֵֽמָּה׃ </span></td><td class=\"tf\"><span class=\"hb\"><span  class=\"hl\" >אַל־</span></span></td><td class=\"tf\"><span class=\"hb\"><span  class=\"hl\" >יַ֣עַל </span></span></td></tr>\n",
       "<tr class=\"tf\"><td class=\"tf\">75</td><td class=\"tf\"> <a href=\"https://shebanq.ancient-data.org/hebrew/text?book=Josua&amp;chapter=7&amp;verse=3&amp;version=c&amp;mr=m&amp;qw=q&amp;tp=txt_p&amp;tr=hb&amp;wget=v&amp;qget=v&amp;nget=vt\" title=\"show this passage in SHEBANQ\" sec=\"Joshua 7:3\">Joshua 7:3</a></td><td class=\"tf\"><span class=\"hb\"><a class=\"vn\" href=\"https://shebanq.ancient-data.org/hebrew/text?book=Josua&amp;chapter=7&amp;verse=3&amp;version=c&amp;mr=m&amp;qw=q&amp;tp=txt_p&amp;tr=hb&amp;wget=v&amp;qget=v&amp;nget=vt\" title=\"Joshua 7:3\" sec=\"Joshua 7:3\"></a>וַיָּשֻׁ֣בוּ אֶל־יְהֹושֻׁ֗עַ וַיֹּאמְר֣וּ אֵלָיו֮ אַל־יַ֣עַל <span  class=\"hl\" >כָּל־</span><span  class=\"hl\" >הָ</span><span  class=\"hl\" >עָם֒ </span>כְּאַלְפַּ֣יִם אִ֗ישׁ אֹ֚ו כִּשְׁלֹ֣שֶׁת אֲלָפִ֣ים אִ֔ישׁ יַעֲל֖וּ וְיַכּ֣וּ אֶת־הָעָ֑י אַל־תְּיַגַּע־שָׁ֨מָּה֙ אֶת־כָּל־הָעָ֔ם כִּ֥י מְעַ֖ט הֵֽמָּה׃ </span></td><td class=\"tf\"><span class=\"hb\"><span  class=\"hl\" >כָּל־</span></span></td><td class=\"tf\"><span class=\"hb\"><span  class=\"hl\" >הָ</span></span></td><td class=\"tf\"><span class=\"hb\"><span  class=\"hl\" >עָם֒ </span></span></td></tr>\n",
       "<tr class=\"tf\"><td class=\"tf\">76</td><td class=\"tf\"> <a href=\"https://shebanq.ancient-data.org/hebrew/text?book=Josua&amp;chapter=7&amp;verse=3&amp;version=c&amp;mr=m&amp;qw=q&amp;tp=txt_p&amp;tr=hb&amp;wget=v&amp;qget=v&amp;nget=vt\" title=\"show this passage in SHEBANQ\" sec=\"Joshua 7:3\">Joshua 7:3</a></td><td class=\"tf\"><span class=\"hb\"><a class=\"vn\" href=\"https://shebanq.ancient-data.org/hebrew/text?book=Josua&amp;chapter=7&amp;verse=3&amp;version=c&amp;mr=m&amp;qw=q&amp;tp=txt_p&amp;tr=hb&amp;wget=v&amp;qget=v&amp;nget=vt\" title=\"Joshua 7:3\" sec=\"Joshua 7:3\"></a>וַיָּשֻׁ֣בוּ אֶל־יְהֹושֻׁ֗עַ וַיֹּאמְר֣וּ אֵלָיו֮ אַל־יַ֣עַל <span  class=\"hl\" >כָּל־</span><span  class=\"hl\" >הָ</span><span  class=\"hl\" >עָם֒ </span>כְּאַלְפַּ֣יִם אִ֗ישׁ אֹ֚ו כִּשְׁלֹ֣שֶׁת אֲלָפִ֣ים אִ֔ישׁ יַעֲל֖וּ וְיַכּ֣וּ אֶת־הָעָ֑י אַל־תְּיַגַּע־שָׁ֨מָּה֙ אֶת־כָּל־הָעָ֔ם כִּ֥י מְעַ֖ט הֵֽמָּה׃ </span></td><td class=\"tf\"><span class=\"hb\"><span  class=\"hl\" >כָּל־</span></span></td><td class=\"tf\"><span class=\"hb\"><span  class=\"hl\" >הָ</span></span></td><td class=\"tf\"><span class=\"hb\"><span  class=\"hl\" >עָם֒ </span></span></td></tr>\n",
       "<tr class=\"tf\"><td class=\"tf\">77</td><td class=\"tf\"> <a href=\"https://shebanq.ancient-data.org/hebrew/text?book=Josua&amp;chapter=7&amp;verse=3&amp;version=c&amp;mr=m&amp;qw=q&amp;tp=txt_p&amp;tr=hb&amp;wget=v&amp;qget=v&amp;nget=vt\" title=\"show this passage in SHEBANQ\" sec=\"Joshua 7:3\">Joshua 7:3</a></td><td class=\"tf\"><span class=\"hb\"><a class=\"vn\" href=\"https://shebanq.ancient-data.org/hebrew/text?book=Josua&amp;chapter=7&amp;verse=3&amp;version=c&amp;mr=m&amp;qw=q&amp;tp=txt_p&amp;tr=hb&amp;wget=v&amp;qget=v&amp;nget=vt\" title=\"Joshua 7:3\" sec=\"Joshua 7:3\"></a>וַיָּשֻׁ֣בוּ אֶל־יְהֹושֻׁ֗עַ וַיֹּאמְר֣וּ אֵלָיו֮ אַל־יַ֣עַל <span  class=\"hl\" >כָּל־</span><span  class=\"hl\" >הָ</span><span  class=\"hl\" >עָם֒ </span>כְּאַלְפַּ֣יִם אִ֗ישׁ אֹ֚ו כִּשְׁלֹ֣שֶׁת אֲלָפִ֣ים אִ֔ישׁ יַעֲל֖וּ וְיַכּ֣וּ אֶת־הָעָ֑י אַל־תְּיַגַּע־שָׁ֨מָּה֙ אֶת־כָּל־הָעָ֔ם כִּ֥י מְעַ֖ט הֵֽמָּה׃ </span></td><td class=\"tf\"><span class=\"hb\"><span  class=\"hl\" >כָּל־</span></span></td><td class=\"tf\"><span class=\"hb\"><span  class=\"hl\" >הָ</span></span></td><td class=\"tf\"><span class=\"hb\"><span  class=\"hl\" >עָם֒ </span></span></td></tr>\n",
       "<tr class=\"tf\"><td class=\"tf\">78</td><td class=\"tf\"> <a href=\"https://shebanq.ancient-data.org/hebrew/text?book=Josua&amp;chapter=7&amp;verse=3&amp;version=c&amp;mr=m&amp;qw=q&amp;tp=txt_p&amp;tr=hb&amp;wget=v&amp;qget=v&amp;nget=vt\" title=\"show this passage in SHEBANQ\" sec=\"Joshua 7:3\">Joshua 7:3</a></td><td class=\"tf\"><span class=\"hb\"><a class=\"vn\" href=\"https://shebanq.ancient-data.org/hebrew/text?book=Josua&amp;chapter=7&amp;verse=3&amp;version=c&amp;mr=m&amp;qw=q&amp;tp=txt_p&amp;tr=hb&amp;wget=v&amp;qget=v&amp;nget=vt\" title=\"Joshua 7:3\" sec=\"Joshua 7:3\"></a>וַיָּשֻׁ֣בוּ אֶל־יְהֹושֻׁ֗עַ וַיֹּאמְר֣וּ אֵלָיו֮ אַל־יַ֣עַל כָּל־הָעָם֒ <span  class=\"hl\" >כְּ</span><span  class=\"hl\" >אַלְפַּ֣יִם </span>אִ֗ישׁ אֹ֚ו כִּשְׁלֹ֣שֶׁת אֲלָפִ֣ים אִ֔ישׁ יַעֲל֖וּ וְיַכּ֣וּ אֶת־הָעָ֑י אַל־תְּיַגַּע־שָׁ֨מָּה֙ אֶת־כָּל־הָעָ֔ם כִּ֥י מְעַ֖ט הֵֽמָּה׃ </span></td><td class=\"tf\"><span class=\"hb\"><span  class=\"hl\" >כְּ</span></span></td><td class=\"tf\"><span class=\"hb\"><span  class=\"hl\" >אַלְפַּ֣יִם </span></span></td></tr>\n",
       "<tr class=\"tf\"><td class=\"tf\">79</td><td class=\"tf\"> <a href=\"https://shebanq.ancient-data.org/hebrew/text?book=Josua&amp;chapter=7&amp;verse=3&amp;version=c&amp;mr=m&amp;qw=q&amp;tp=txt_p&amp;tr=hb&amp;wget=v&amp;qget=v&amp;nget=vt\" title=\"show this passage in SHEBANQ\" sec=\"Joshua 7:3\">Joshua 7:3</a></td><td class=\"tf\"><span class=\"hb\"><a class=\"vn\" href=\"https://shebanq.ancient-data.org/hebrew/text?book=Josua&amp;chapter=7&amp;verse=3&amp;version=c&amp;mr=m&amp;qw=q&amp;tp=txt_p&amp;tr=hb&amp;wget=v&amp;qget=v&amp;nget=vt\" title=\"Joshua 7:3\" sec=\"Joshua 7:3\"></a>וַיָּשֻׁ֣בוּ אֶל־יְהֹושֻׁ֗עַ וַיֹּאמְר֣וּ אֵלָיו֮ אַל־יַ֣עַל כָּל־הָעָם֒ <span  class=\"hl\" >כְּ</span><span  class=\"hl\" >אַלְפַּ֣יִם </span>אִ֗ישׁ אֹ֚ו כִּשְׁלֹ֣שֶׁת אֲלָפִ֣ים אִ֔ישׁ יַעֲל֖וּ וְיַכּ֣וּ אֶת־הָעָ֑י אַל־תְּיַגַּע־שָׁ֨מָּה֙ אֶת־כָּל־הָעָ֔ם כִּ֥י מְעַ֖ט הֵֽמָּה׃ </span></td><td class=\"tf\"><span class=\"hb\"><span  class=\"hl\" >כְּ</span></span></td><td class=\"tf\"><span class=\"hb\"><span  class=\"hl\" >אַלְפַּ֣יִם </span></span></td></tr>\n",
       "<tr class=\"tf\"><td class=\"tf\">80</td><td class=\"tf\"> <a href=\"https://shebanq.ancient-data.org/hebrew/text?book=Josua&amp;chapter=7&amp;verse=3&amp;version=c&amp;mr=m&amp;qw=q&amp;tp=txt_p&amp;tr=hb&amp;wget=v&amp;qget=v&amp;nget=vt\" title=\"show this passage in SHEBANQ\" sec=\"Joshua 7:3\">Joshua 7:3</a></td><td class=\"tf\"><span class=\"hb\"><a class=\"vn\" href=\"https://shebanq.ancient-data.org/hebrew/text?book=Josua&amp;chapter=7&amp;verse=3&amp;version=c&amp;mr=m&amp;qw=q&amp;tp=txt_p&amp;tr=hb&amp;wget=v&amp;qget=v&amp;nget=vt\" title=\"Joshua 7:3\" sec=\"Joshua 7:3\"></a>וַיָּשֻׁ֣בוּ אֶל־יְהֹושֻׁ֗עַ וַיֹּאמְר֣וּ אֵלָיו֮ אַל־יַ֣עַל כָּל־הָעָם֒ כְּאַלְפַּ֣יִם <span  class=\"hl\" >אִ֗ישׁ </span>אֹ֚ו כִּשְׁלֹ֣שֶׁת אֲלָפִ֣ים אִ֔ישׁ יַעֲל֖וּ וְיַכּ֣וּ אֶת־הָעָ֑י אַל־תְּיַגַּע־שָׁ֨מָּה֙ אֶת־כָּל־הָעָ֔ם כִּ֥י מְעַ֖ט הֵֽמָּה׃ </span></td><td class=\"tf\"><span class=\"hb\"><span  class=\"hl\" >אִ֗ישׁ </span></span></td></tr>\n",
       "<tr class=\"tf\"><td class=\"tf\">81</td><td class=\"tf\"> <a href=\"https://shebanq.ancient-data.org/hebrew/text?book=Josua&amp;chapter=7&amp;verse=3&amp;version=c&amp;mr=m&amp;qw=q&amp;tp=txt_p&amp;tr=hb&amp;wget=v&amp;qget=v&amp;nget=vt\" title=\"show this passage in SHEBANQ\" sec=\"Joshua 7:3\">Joshua 7:3</a></td><td class=\"tf\"><span class=\"hb\"><a class=\"vn\" href=\"https://shebanq.ancient-data.org/hebrew/text?book=Josua&amp;chapter=7&amp;verse=3&amp;version=c&amp;mr=m&amp;qw=q&amp;tp=txt_p&amp;tr=hb&amp;wget=v&amp;qget=v&amp;nget=vt\" title=\"Joshua 7:3\" sec=\"Joshua 7:3\"></a>וַיָּשֻׁ֣בוּ אֶל־יְהֹושֻׁ֗עַ וַיֹּאמְר֣וּ אֵלָיו֮ אַל־יַ֣עַל כָּל־הָעָם֒ כְּאַלְפַּ֣יִם אִ֗ישׁ <span  class=\"hl\" >אֹ֚ו </span>כִּשְׁלֹ֣שֶׁת אֲלָפִ֣ים אִ֔ישׁ יַעֲל֖וּ וְיַכּ֣וּ אֶת־הָעָ֑י אַל־תְּיַגַּע־שָׁ֨מָּה֙ אֶת־כָּל־הָעָ֔ם כִּ֥י מְעַ֖ט הֵֽמָּה׃ </span></td><td class=\"tf\"><span class=\"hb\"><span  class=\"hl\" >אֹ֚ו </span></span></td></tr>\n",
       "<tr class=\"tf\"><td class=\"tf\">82</td><td class=\"tf\"> <a href=\"https://shebanq.ancient-data.org/hebrew/text?book=Josua&amp;chapter=7&amp;verse=3&amp;version=c&amp;mr=m&amp;qw=q&amp;tp=txt_p&amp;tr=hb&amp;wget=v&amp;qget=v&amp;nget=vt\" title=\"show this passage in SHEBANQ\" sec=\"Joshua 7:3\">Joshua 7:3</a></td><td class=\"tf\"><span class=\"hb\"><a class=\"vn\" href=\"https://shebanq.ancient-data.org/hebrew/text?book=Josua&amp;chapter=7&amp;verse=3&amp;version=c&amp;mr=m&amp;qw=q&amp;tp=txt_p&amp;tr=hb&amp;wget=v&amp;qget=v&amp;nget=vt\" title=\"Joshua 7:3\" sec=\"Joshua 7:3\"></a>וַיָּשֻׁ֣בוּ אֶל־יְהֹושֻׁ֗עַ וַיֹּאמְר֣וּ אֵלָיו֮ אַל־יַ֣עַל כָּל־הָעָם֒ כְּאַלְפַּ֣יִם אִ֗ישׁ אֹ֚ו <span  class=\"hl\" >כִּ</span><span  class=\"hl\" >שְׁלֹ֣שֶׁת </span>אֲלָפִ֣ים אִ֔ישׁ יַעֲל֖וּ וְיַכּ֣וּ אֶת־הָעָ֑י אַל־תְּיַגַּע־שָׁ֨מָּה֙ אֶת־כָּל־הָעָ֔ם כִּ֥י מְעַ֖ט הֵֽמָּה׃ </span></td><td class=\"tf\"><span class=\"hb\"><span  class=\"hl\" >כִּ</span></span></td><td class=\"tf\"><span class=\"hb\"><span  class=\"hl\" >שְׁלֹ֣שֶׁת </span></span></td></tr>\n",
       "<tr class=\"tf\"><td class=\"tf\">83</td><td class=\"tf\"> <a href=\"https://shebanq.ancient-data.org/hebrew/text?book=Josua&amp;chapter=7&amp;verse=3&amp;version=c&amp;mr=m&amp;qw=q&amp;tp=txt_p&amp;tr=hb&amp;wget=v&amp;qget=v&amp;nget=vt\" title=\"show this passage in SHEBANQ\" sec=\"Joshua 7:3\">Joshua 7:3</a></td><td class=\"tf\"><span class=\"hb\"><a class=\"vn\" href=\"https://shebanq.ancient-data.org/hebrew/text?book=Josua&amp;chapter=7&amp;verse=3&amp;version=c&amp;mr=m&amp;qw=q&amp;tp=txt_p&amp;tr=hb&amp;wget=v&amp;qget=v&amp;nget=vt\" title=\"Joshua 7:3\" sec=\"Joshua 7:3\"></a>וַיָּשֻׁ֣בוּ אֶל־יְהֹושֻׁ֗עַ וַיֹּאמְר֣וּ אֵלָיו֮ אַל־יַ֣עַל כָּל־הָעָם֒ כְּאַלְפַּ֣יִם אִ֗ישׁ אֹ֚ו <span  class=\"hl\" >כִּ</span><span  class=\"hl\" >שְׁלֹ֣שֶׁת </span>אֲלָפִ֣ים אִ֔ישׁ יַעֲל֖וּ וְיַכּ֣וּ אֶת־הָעָ֑י אַל־תְּיַגַּע־שָׁ֨מָּה֙ אֶת־כָּל־הָעָ֔ם כִּ֥י מְעַ֖ט הֵֽמָּה׃ </span></td><td class=\"tf\"><span class=\"hb\"><span  class=\"hl\" >כִּ</span></span></td><td class=\"tf\"><span class=\"hb\"><span  class=\"hl\" >שְׁלֹ֣שֶׁת </span></span></td></tr>\n",
       "<tr class=\"tf\"><td class=\"tf\">84</td><td class=\"tf\"> <a href=\"https://shebanq.ancient-data.org/hebrew/text?book=Josua&amp;chapter=7&amp;verse=3&amp;version=c&amp;mr=m&amp;qw=q&amp;tp=txt_p&amp;tr=hb&amp;wget=v&amp;qget=v&amp;nget=vt\" title=\"show this passage in SHEBANQ\" sec=\"Joshua 7:3\">Joshua 7:3</a></td><td class=\"tf\"><span class=\"hb\"><a class=\"vn\" href=\"https://shebanq.ancient-data.org/hebrew/text?book=Josua&amp;chapter=7&amp;verse=3&amp;version=c&amp;mr=m&amp;qw=q&amp;tp=txt_p&amp;tr=hb&amp;wget=v&amp;qget=v&amp;nget=vt\" title=\"Joshua 7:3\" sec=\"Joshua 7:3\"></a>וַיָּשֻׁ֣בוּ אֶל־יְהֹושֻׁ֗עַ וַיֹּאמְר֣וּ אֵלָיו֮ אַל־יַ֣עַל כָּל־הָעָם֒ כְּאַלְפַּ֣יִם אִ֗ישׁ אֹ֚ו כִּשְׁלֹ֣שֶׁת <span  class=\"hl\" >אֲלָפִ֣ים </span>אִ֔ישׁ יַעֲל֖וּ וְיַכּ֣וּ אֶת־הָעָ֑י אַל־תְּיַגַּע־שָׁ֨מָּה֙ אֶת־כָּל־הָעָ֔ם כִּ֥י מְעַ֖ט הֵֽמָּה׃ </span></td><td class=\"tf\"><span class=\"hb\"><span  class=\"hl\" >אֲלָפִ֣ים </span></span></td></tr>\n",
       "<tr class=\"tf\"><td class=\"tf\">85</td><td class=\"tf\"> <a href=\"https://shebanq.ancient-data.org/hebrew/text?book=Josua&amp;chapter=7&amp;verse=3&amp;version=c&amp;mr=m&amp;qw=q&amp;tp=txt_p&amp;tr=hb&amp;wget=v&amp;qget=v&amp;nget=vt\" title=\"show this passage in SHEBANQ\" sec=\"Joshua 7:3\">Joshua 7:3</a></td><td class=\"tf\"><span class=\"hb\"><a class=\"vn\" href=\"https://shebanq.ancient-data.org/hebrew/text?book=Josua&amp;chapter=7&amp;verse=3&amp;version=c&amp;mr=m&amp;qw=q&amp;tp=txt_p&amp;tr=hb&amp;wget=v&amp;qget=v&amp;nget=vt\" title=\"Joshua 7:3\" sec=\"Joshua 7:3\"></a>וַיָּשֻׁ֣בוּ אֶל־יְהֹושֻׁ֗עַ וַיֹּאמְר֣וּ אֵלָיו֮ אַל־יַ֣עַל כָּל־הָעָם֒ כְּאַלְפַּ֣יִם אִ֗ישׁ אֹ֚ו כִּשְׁלֹ֣שֶׁת אֲלָפִ֣ים <span  class=\"hl\" >אִ֔ישׁ </span>יַעֲל֖וּ וְיַכּ֣וּ אֶת־הָעָ֑י אַל־תְּיַגַּע־שָׁ֨מָּה֙ אֶת־כָּל־הָעָ֔ם כִּ֥י מְעַ֖ט הֵֽמָּה׃ </span></td><td class=\"tf\"><span class=\"hb\"><span  class=\"hl\" >אִ֔ישׁ </span></span></td></tr>\n",
       "<tr class=\"tf\"><td class=\"tf\">86</td><td class=\"tf\"> <a href=\"https://shebanq.ancient-data.org/hebrew/text?book=Josua&amp;chapter=7&amp;verse=3&amp;version=c&amp;mr=m&amp;qw=q&amp;tp=txt_p&amp;tr=hb&amp;wget=v&amp;qget=v&amp;nget=vt\" title=\"show this passage in SHEBANQ\" sec=\"Joshua 7:3\">Joshua 7:3</a></td><td class=\"tf\"><span class=\"hb\"><a class=\"vn\" href=\"https://shebanq.ancient-data.org/hebrew/text?book=Josua&amp;chapter=7&amp;verse=3&amp;version=c&amp;mr=m&amp;qw=q&amp;tp=txt_p&amp;tr=hb&amp;wget=v&amp;qget=v&amp;nget=vt\" title=\"Joshua 7:3\" sec=\"Joshua 7:3\"></a>וַיָּשֻׁ֣בוּ אֶל־יְהֹושֻׁ֗עַ וַיֹּאמְר֣וּ אֵלָיו֮ אַל־יַ֣עַל כָּל־הָעָם֒ כְּאַלְפַּ֣יִם אִ֗ישׁ אֹ֚ו כִּשְׁלֹ֣שֶׁת אֲלָפִ֣ים אִ֔ישׁ <span  class=\"hl\" >יַעֲל֖וּ </span>וְיַכּ֣וּ אֶת־הָעָ֑י אַל־תְּיַגַּע־שָׁ֨מָּה֙ אֶת־כָּל־הָעָ֔ם כִּ֥י מְעַ֖ט הֵֽמָּה׃ </span></td><td class=\"tf\"><span class=\"hb\"><span  class=\"hl\" >יַעֲל֖וּ </span></span></td></tr>\n",
       "<tr class=\"tf\"><td class=\"tf\">87</td><td class=\"tf\"> <a href=\"https://shebanq.ancient-data.org/hebrew/text?book=Josua&amp;chapter=7&amp;verse=3&amp;version=c&amp;mr=m&amp;qw=q&amp;tp=txt_p&amp;tr=hb&amp;wget=v&amp;qget=v&amp;nget=vt\" title=\"show this passage in SHEBANQ\" sec=\"Joshua 7:3\">Joshua 7:3</a></td><td class=\"tf\"><span class=\"hb\"><a class=\"vn\" href=\"https://shebanq.ancient-data.org/hebrew/text?book=Josua&amp;chapter=7&amp;verse=3&amp;version=c&amp;mr=m&amp;qw=q&amp;tp=txt_p&amp;tr=hb&amp;wget=v&amp;qget=v&amp;nget=vt\" title=\"Joshua 7:3\" sec=\"Joshua 7:3\"></a>וַיָּשֻׁ֣בוּ אֶל־יְהֹושֻׁ֗עַ וַיֹּאמְר֣וּ אֵלָיו֮ אַל־יַ֣עַל כָּל־הָעָם֒ כְּאַלְפַּ֣יִם אִ֗ישׁ אֹ֚ו כִּשְׁלֹ֣שֶׁת אֲלָפִ֣ים אִ֔ישׁ יַעֲל֖וּ <span  class=\"hl\" >וְ</span><span  class=\"hl\" >יַכּ֣וּ </span>אֶת־הָעָ֑י אַל־תְּיַגַּע־שָׁ֨מָּה֙ אֶת־כָּל־הָעָ֔ם כִּ֥י מְעַ֖ט הֵֽמָּה׃ </span></td><td class=\"tf\"><span class=\"hb\"><span  class=\"hl\" >וְ</span></span></td><td class=\"tf\"><span class=\"hb\"><span  class=\"hl\" >יַכּ֣וּ </span></span></td></tr>\n",
       "<tr class=\"tf\"><td class=\"tf\">88</td><td class=\"tf\"> <a href=\"https://shebanq.ancient-data.org/hebrew/text?book=Josua&amp;chapter=7&amp;verse=3&amp;version=c&amp;mr=m&amp;qw=q&amp;tp=txt_p&amp;tr=hb&amp;wget=v&amp;qget=v&amp;nget=vt\" title=\"show this passage in SHEBANQ\" sec=\"Joshua 7:3\">Joshua 7:3</a></td><td class=\"tf\"><span class=\"hb\"><a class=\"vn\" href=\"https://shebanq.ancient-data.org/hebrew/text?book=Josua&amp;chapter=7&amp;verse=3&amp;version=c&amp;mr=m&amp;qw=q&amp;tp=txt_p&amp;tr=hb&amp;wget=v&amp;qget=v&amp;nget=vt\" title=\"Joshua 7:3\" sec=\"Joshua 7:3\"></a>וַיָּשֻׁ֣בוּ אֶל־יְהֹושֻׁ֗עַ וַיֹּאמְר֣וּ אֵלָיו֮ אַל־יַ֣עַל כָּל־הָעָם֒ כְּאַלְפַּ֣יִם אִ֗ישׁ אֹ֚ו כִּשְׁלֹ֣שֶׁת אֲלָפִ֣ים אִ֔ישׁ יַעֲל֖וּ <span  class=\"hl\" >וְ</span><span  class=\"hl\" >יַכּ֣וּ </span>אֶת־הָעָ֑י אַל־תְּיַגַּע־שָׁ֨מָּה֙ אֶת־כָּל־הָעָ֔ם כִּ֥י מְעַ֖ט הֵֽמָּה׃ </span></td><td class=\"tf\"><span class=\"hb\"><span  class=\"hl\" >וְ</span></span></td><td class=\"tf\"><span class=\"hb\"><span  class=\"hl\" >יַכּ֣וּ </span></span></td></tr>\n",
       "<tr class=\"tf\"><td class=\"tf\">89</td><td class=\"tf\"> <a href=\"https://shebanq.ancient-data.org/hebrew/text?book=Josua&amp;chapter=7&amp;verse=3&amp;version=c&amp;mr=m&amp;qw=q&amp;tp=txt_p&amp;tr=hb&amp;wget=v&amp;qget=v&amp;nget=vt\" title=\"show this passage in SHEBANQ\" sec=\"Joshua 7:3\">Joshua 7:3</a></td><td class=\"tf\"><span class=\"hb\"><a class=\"vn\" href=\"https://shebanq.ancient-data.org/hebrew/text?book=Josua&amp;chapter=7&amp;verse=3&amp;version=c&amp;mr=m&amp;qw=q&amp;tp=txt_p&amp;tr=hb&amp;wget=v&amp;qget=v&amp;nget=vt\" title=\"Joshua 7:3\" sec=\"Joshua 7:3\"></a>וַיָּשֻׁ֣בוּ אֶל־יְהֹושֻׁ֗עַ וַיֹּאמְר֣וּ אֵלָיו֮ אַל־יַ֣עַל כָּל־הָעָם֒ כְּאַלְפַּ֣יִם אִ֗ישׁ אֹ֚ו כִּשְׁלֹ֣שֶׁת אֲלָפִ֣ים אִ֔ישׁ יַעֲל֖וּ וְיַכּ֣וּ <span  class=\"hl\" >אֶת־</span><span  class=\"hl\" >הָ</span><span  class=\"hl\" >עָ֑י </span>אַל־תְּיַגַּע־שָׁ֨מָּה֙ אֶת־כָּל־הָעָ֔ם כִּ֥י מְעַ֖ט הֵֽמָּה׃ </span></td><td class=\"tf\"><span class=\"hb\"><span  class=\"hl\" >אֶת־</span></span></td><td class=\"tf\"><span class=\"hb\"><span  class=\"hl\" >הָ</span></span></td><td class=\"tf\"><span class=\"hb\"><span  class=\"hl\" >עָ֑י </span></span></td></tr>\n",
       "<tr class=\"tf\"><td class=\"tf\">90</td><td class=\"tf\"> <a href=\"https://shebanq.ancient-data.org/hebrew/text?book=Josua&amp;chapter=7&amp;verse=3&amp;version=c&amp;mr=m&amp;qw=q&amp;tp=txt_p&amp;tr=hb&amp;wget=v&amp;qget=v&amp;nget=vt\" title=\"show this passage in SHEBANQ\" sec=\"Joshua 7:3\">Joshua 7:3</a></td><td class=\"tf\"><span class=\"hb\"><a class=\"vn\" href=\"https://shebanq.ancient-data.org/hebrew/text?book=Josua&amp;chapter=7&amp;verse=3&amp;version=c&amp;mr=m&amp;qw=q&amp;tp=txt_p&amp;tr=hb&amp;wget=v&amp;qget=v&amp;nget=vt\" title=\"Joshua 7:3\" sec=\"Joshua 7:3\"></a>וַיָּשֻׁ֣בוּ אֶל־יְהֹושֻׁ֗עַ וַיֹּאמְר֣וּ אֵלָיו֮ אַל־יַ֣עַל כָּל־הָעָם֒ כְּאַלְפַּ֣יִם אִ֗ישׁ אֹ֚ו כִּשְׁלֹ֣שֶׁת אֲלָפִ֣ים אִ֔ישׁ יַעֲל֖וּ וְיַכּ֣וּ <span  class=\"hl\" >אֶת־</span><span  class=\"hl\" >הָ</span><span  class=\"hl\" >עָ֑י </span>אַל־תְּיַגַּע־שָׁ֨מָּה֙ אֶת־כָּל־הָעָ֔ם כִּ֥י מְעַ֖ט הֵֽמָּה׃ </span></td><td class=\"tf\"><span class=\"hb\"><span  class=\"hl\" >אֶת־</span></span></td><td class=\"tf\"><span class=\"hb\"><span  class=\"hl\" >הָ</span></span></td><td class=\"tf\"><span class=\"hb\"><span  class=\"hl\" >עָ֑י </span></span></td></tr>\n",
       "<tr class=\"tf\"><td class=\"tf\">91</td><td class=\"tf\"> <a href=\"https://shebanq.ancient-data.org/hebrew/text?book=Josua&amp;chapter=7&amp;verse=3&amp;version=c&amp;mr=m&amp;qw=q&amp;tp=txt_p&amp;tr=hb&amp;wget=v&amp;qget=v&amp;nget=vt\" title=\"show this passage in SHEBANQ\" sec=\"Joshua 7:3\">Joshua 7:3</a></td><td class=\"tf\"><span class=\"hb\"><a class=\"vn\" href=\"https://shebanq.ancient-data.org/hebrew/text?book=Josua&amp;chapter=7&amp;verse=3&amp;version=c&amp;mr=m&amp;qw=q&amp;tp=txt_p&amp;tr=hb&amp;wget=v&amp;qget=v&amp;nget=vt\" title=\"Joshua 7:3\" sec=\"Joshua 7:3\"></a>וַיָּשֻׁ֣בוּ אֶל־יְהֹושֻׁ֗עַ וַיֹּאמְר֣וּ אֵלָיו֮ אַל־יַ֣עַל כָּל־הָעָם֒ כְּאַלְפַּ֣יִם אִ֗ישׁ אֹ֚ו כִּשְׁלֹ֣שֶׁת אֲלָפִ֣ים אִ֔ישׁ יַעֲל֖וּ וְיַכּ֣וּ <span  class=\"hl\" >אֶת־</span><span  class=\"hl\" >הָ</span><span  class=\"hl\" >עָ֑י </span>אַל־תְּיַגַּע־שָׁ֨מָּה֙ אֶת־כָּל־הָעָ֔ם כִּ֥י מְעַ֖ט הֵֽמָּה׃ </span></td><td class=\"tf\"><span class=\"hb\"><span  class=\"hl\" >אֶת־</span></span></td><td class=\"tf\"><span class=\"hb\"><span  class=\"hl\" >הָ</span></span></td><td class=\"tf\"><span class=\"hb\"><span  class=\"hl\" >עָ֑י </span></span></td></tr>\n",
       "<tr class=\"tf\"><td class=\"tf\">92</td><td class=\"tf\"> <a href=\"https://shebanq.ancient-data.org/hebrew/text?book=Josua&amp;chapter=7&amp;verse=3&amp;version=c&amp;mr=m&amp;qw=q&amp;tp=txt_p&amp;tr=hb&amp;wget=v&amp;qget=v&amp;nget=vt\" title=\"show this passage in SHEBANQ\" sec=\"Joshua 7:3\">Joshua 7:3</a></td><td class=\"tf\"><span class=\"hb\"><a class=\"vn\" href=\"https://shebanq.ancient-data.org/hebrew/text?book=Josua&amp;chapter=7&amp;verse=3&amp;version=c&amp;mr=m&amp;qw=q&amp;tp=txt_p&amp;tr=hb&amp;wget=v&amp;qget=v&amp;nget=vt\" title=\"Joshua 7:3\" sec=\"Joshua 7:3\"></a>וַיָּשֻׁ֣בוּ אֶל־יְהֹושֻׁ֗עַ וַיֹּאמְר֣וּ אֵלָיו֮ אַל־יַ֣עַל כָּל־הָעָם֒ כְּאַלְפַּ֣יִם אִ֗ישׁ אֹ֚ו כִּשְׁלֹ֣שֶׁת אֲלָפִ֣ים אִ֔ישׁ יַעֲל֖וּ וְיַכּ֣וּ אֶת־הָעָ֑י <span  class=\"hl\" >אַל־</span><span  class=\"hl\" >תְּיַגַּע־</span><span  class=\"hl\" >שָׁ֨מָּה֙ </span>אֶת־כָּל־הָעָ֔ם כִּ֥י מְעַ֖ט הֵֽמָּה׃ </span></td><td class=\"tf\"><span class=\"hb\"><span  class=\"hl\" >אַל־</span></span></td><td class=\"tf\"><span class=\"hb\"><span  class=\"hl\" >תְּיַגַּע־</span></span></td><td class=\"tf\"><span class=\"hb\"><span  class=\"hl\" >שָׁ֨מָּה֙ </span></span></td></tr>\n",
       "<tr class=\"tf\"><td class=\"tf\">93</td><td class=\"tf\"> <a href=\"https://shebanq.ancient-data.org/hebrew/text?book=Josua&amp;chapter=7&amp;verse=3&amp;version=c&amp;mr=m&amp;qw=q&amp;tp=txt_p&amp;tr=hb&amp;wget=v&amp;qget=v&amp;nget=vt\" title=\"show this passage in SHEBANQ\" sec=\"Joshua 7:3\">Joshua 7:3</a></td><td class=\"tf\"><span class=\"hb\"><a class=\"vn\" href=\"https://shebanq.ancient-data.org/hebrew/text?book=Josua&amp;chapter=7&amp;verse=3&amp;version=c&amp;mr=m&amp;qw=q&amp;tp=txt_p&amp;tr=hb&amp;wget=v&amp;qget=v&amp;nget=vt\" title=\"Joshua 7:3\" sec=\"Joshua 7:3\"></a>וַיָּשֻׁ֣בוּ אֶל־יְהֹושֻׁ֗עַ וַיֹּאמְר֣וּ אֵלָיו֮ אַל־יַ֣עַל כָּל־הָעָם֒ כְּאַלְפַּ֣יִם אִ֗ישׁ אֹ֚ו כִּשְׁלֹ֣שֶׁת אֲלָפִ֣ים אִ֔ישׁ יַעֲל֖וּ וְיַכּ֣וּ אֶת־הָעָ֑י <span  class=\"hl\" >אַל־</span><span  class=\"hl\" >תְּיַגַּע־</span><span  class=\"hl\" >שָׁ֨מָּה֙ </span>אֶת־כָּל־הָעָ֔ם כִּ֥י מְעַ֖ט הֵֽמָּה׃ </span></td><td class=\"tf\"><span class=\"hb\"><span  class=\"hl\" >אַל־</span></span></td><td class=\"tf\"><span class=\"hb\"><span  class=\"hl\" >תְּיַגַּע־</span></span></td><td class=\"tf\"><span class=\"hb\"><span  class=\"hl\" >שָׁ֨מָּה֙ </span></span></td></tr>\n",
       "<tr class=\"tf\"><td class=\"tf\">94</td><td class=\"tf\"> <a href=\"https://shebanq.ancient-data.org/hebrew/text?book=Josua&amp;chapter=7&amp;verse=3&amp;version=c&amp;mr=m&amp;qw=q&amp;tp=txt_p&amp;tr=hb&amp;wget=v&amp;qget=v&amp;nget=vt\" title=\"show this passage in SHEBANQ\" sec=\"Joshua 7:3\">Joshua 7:3</a></td><td class=\"tf\"><span class=\"hb\"><a class=\"vn\" href=\"https://shebanq.ancient-data.org/hebrew/text?book=Josua&amp;chapter=7&amp;verse=3&amp;version=c&amp;mr=m&amp;qw=q&amp;tp=txt_p&amp;tr=hb&amp;wget=v&amp;qget=v&amp;nget=vt\" title=\"Joshua 7:3\" sec=\"Joshua 7:3\"></a>וַיָּשֻׁ֣בוּ אֶל־יְהֹושֻׁ֗עַ וַיֹּאמְר֣וּ אֵלָיו֮ אַל־יַ֣עַל כָּל־הָעָם֒ כְּאַלְפַּ֣יִם אִ֗ישׁ אֹ֚ו כִּשְׁלֹ֣שֶׁת אֲלָפִ֣ים אִ֔ישׁ יַעֲל֖וּ וְיַכּ֣וּ אֶת־הָעָ֑י <span  class=\"hl\" >אַל־</span><span  class=\"hl\" >תְּיַגַּע־</span><span  class=\"hl\" >שָׁ֨מָּה֙ </span>אֶת־כָּל־הָעָ֔ם כִּ֥י מְעַ֖ט הֵֽמָּה׃ </span></td><td class=\"tf\"><span class=\"hb\"><span  class=\"hl\" >אַל־</span></span></td><td class=\"tf\"><span class=\"hb\"><span  class=\"hl\" >תְּיַגַּע־</span></span></td><td class=\"tf\"><span class=\"hb\"><span  class=\"hl\" >שָׁ֨מָּה֙ </span></span></td></tr>\n",
       "<tr class=\"tf\"><td class=\"tf\">95</td><td class=\"tf\"> <a href=\"https://shebanq.ancient-data.org/hebrew/text?book=Josua&amp;chapter=7&amp;verse=3&amp;version=c&amp;mr=m&amp;qw=q&amp;tp=txt_p&amp;tr=hb&amp;wget=v&amp;qget=v&amp;nget=vt\" title=\"show this passage in SHEBANQ\" sec=\"Joshua 7:3\">Joshua 7:3</a></td><td class=\"tf\"><span class=\"hb\"><a class=\"vn\" href=\"https://shebanq.ancient-data.org/hebrew/text?book=Josua&amp;chapter=7&amp;verse=3&amp;version=c&amp;mr=m&amp;qw=q&amp;tp=txt_p&amp;tr=hb&amp;wget=v&amp;qget=v&amp;nget=vt\" title=\"Joshua 7:3\" sec=\"Joshua 7:3\"></a>וַיָּשֻׁ֣בוּ אֶל־יְהֹושֻׁ֗עַ וַיֹּאמְר֣וּ אֵלָיו֮ אַל־יַ֣עַל כָּל־הָעָם֒ כְּאַלְפַּ֣יִם אִ֗ישׁ אֹ֚ו כִּשְׁלֹ֣שֶׁת אֲלָפִ֣ים אִ֔ישׁ יַעֲל֖וּ וְיַכּ֣וּ אֶת־הָעָ֑י אַל־תְּיַגַּע־שָׁ֨מָּה֙ <span  class=\"hl\" >אֶת־</span><span  class=\"hl\" >כָּל־</span><span  class=\"hl\" >הָ</span><span  class=\"hl\" >עָ֔ם </span>כִּ֥י מְעַ֖ט הֵֽמָּה׃ </span></td><td class=\"tf\"><span class=\"hb\"><span  class=\"hl\" >אֶת־</span></span></td><td class=\"tf\"><span class=\"hb\"><span  class=\"hl\" >כָּל־</span></span></td><td class=\"tf\"><span class=\"hb\"><span  class=\"hl\" >הָ</span></span></td><td class=\"tf\"><span class=\"hb\"><span  class=\"hl\" >עָ֔ם </span></span></td></tr>\n",
       "<tr class=\"tf\"><td class=\"tf\">96</td><td class=\"tf\"> <a href=\"https://shebanq.ancient-data.org/hebrew/text?book=Josua&amp;chapter=7&amp;verse=3&amp;version=c&amp;mr=m&amp;qw=q&amp;tp=txt_p&amp;tr=hb&amp;wget=v&amp;qget=v&amp;nget=vt\" title=\"show this passage in SHEBANQ\" sec=\"Joshua 7:3\">Joshua 7:3</a></td><td class=\"tf\"><span class=\"hb\"><a class=\"vn\" href=\"https://shebanq.ancient-data.org/hebrew/text?book=Josua&amp;chapter=7&amp;verse=3&amp;version=c&amp;mr=m&amp;qw=q&amp;tp=txt_p&amp;tr=hb&amp;wget=v&amp;qget=v&amp;nget=vt\" title=\"Joshua 7:3\" sec=\"Joshua 7:3\"></a>וַיָּשֻׁ֣בוּ אֶל־יְהֹושֻׁ֗עַ וַיֹּאמְר֣וּ אֵלָיו֮ אַל־יַ֣עַל כָּל־הָעָם֒ כְּאַלְפַּ֣יִם אִ֗ישׁ אֹ֚ו כִּשְׁלֹ֣שֶׁת אֲלָפִ֣ים אִ֔ישׁ יַעֲל֖וּ וְיַכּ֣וּ אֶת־הָעָ֑י אַל־תְּיַגַּע־שָׁ֨מָּה֙ <span  class=\"hl\" >אֶת־</span><span  class=\"hl\" >כָּל־</span><span  class=\"hl\" >הָ</span><span  class=\"hl\" >עָ֔ם </span>כִּ֥י מְעַ֖ט הֵֽמָּה׃ </span></td><td class=\"tf\"><span class=\"hb\"><span  class=\"hl\" >אֶת־</span></span></td><td class=\"tf\"><span class=\"hb\"><span  class=\"hl\" >כָּל־</span></span></td><td class=\"tf\"><span class=\"hb\"><span  class=\"hl\" >הָ</span></span></td><td class=\"tf\"><span class=\"hb\"><span  class=\"hl\" >עָ֔ם </span></span></td></tr>\n",
       "<tr class=\"tf\"><td class=\"tf\">97</td><td class=\"tf\"> <a href=\"https://shebanq.ancient-data.org/hebrew/text?book=Josua&amp;chapter=7&amp;verse=3&amp;version=c&amp;mr=m&amp;qw=q&amp;tp=txt_p&amp;tr=hb&amp;wget=v&amp;qget=v&amp;nget=vt\" title=\"show this passage in SHEBANQ\" sec=\"Joshua 7:3\">Joshua 7:3</a></td><td class=\"tf\"><span class=\"hb\"><a class=\"vn\" href=\"https://shebanq.ancient-data.org/hebrew/text?book=Josua&amp;chapter=7&amp;verse=3&amp;version=c&amp;mr=m&amp;qw=q&amp;tp=txt_p&amp;tr=hb&amp;wget=v&amp;qget=v&amp;nget=vt\" title=\"Joshua 7:3\" sec=\"Joshua 7:3\"></a>וַיָּשֻׁ֣בוּ אֶל־יְהֹושֻׁ֗עַ וַיֹּאמְר֣וּ אֵלָיו֮ אַל־יַ֣עַל כָּל־הָעָם֒ כְּאַלְפַּ֣יִם אִ֗ישׁ אֹ֚ו כִּשְׁלֹ֣שֶׁת אֲלָפִ֣ים אִ֔ישׁ יַעֲל֖וּ וְיַכּ֣וּ אֶת־הָעָ֑י אַל־תְּיַגַּע־שָׁ֨מָּה֙ <span  class=\"hl\" >אֶת־</span><span  class=\"hl\" >כָּל־</span><span  class=\"hl\" >הָ</span><span  class=\"hl\" >עָ֔ם </span>כִּ֥י מְעַ֖ט הֵֽמָּה׃ </span></td><td class=\"tf\"><span class=\"hb\"><span  class=\"hl\" >אֶת־</span></span></td><td class=\"tf\"><span class=\"hb\"><span  class=\"hl\" >כָּל־</span></span></td><td class=\"tf\"><span class=\"hb\"><span  class=\"hl\" >הָ</span></span></td><td class=\"tf\"><span class=\"hb\"><span  class=\"hl\" >עָ֔ם </span></span></td></tr>\n",
       "<tr class=\"tf\"><td class=\"tf\">98</td><td class=\"tf\"> <a href=\"https://shebanq.ancient-data.org/hebrew/text?book=Josua&amp;chapter=7&amp;verse=3&amp;version=c&amp;mr=m&amp;qw=q&amp;tp=txt_p&amp;tr=hb&amp;wget=v&amp;qget=v&amp;nget=vt\" title=\"show this passage in SHEBANQ\" sec=\"Joshua 7:3\">Joshua 7:3</a></td><td class=\"tf\"><span class=\"hb\"><a class=\"vn\" href=\"https://shebanq.ancient-data.org/hebrew/text?book=Josua&amp;chapter=7&amp;verse=3&amp;version=c&amp;mr=m&amp;qw=q&amp;tp=txt_p&amp;tr=hb&amp;wget=v&amp;qget=v&amp;nget=vt\" title=\"Joshua 7:3\" sec=\"Joshua 7:3\"></a>וַיָּשֻׁ֣בוּ אֶל־יְהֹושֻׁ֗עַ וַיֹּאמְר֣וּ אֵלָיו֮ אַל־יַ֣עַל כָּל־הָעָם֒ כְּאַלְפַּ֣יִם אִ֗ישׁ אֹ֚ו כִּשְׁלֹ֣שֶׁת אֲלָפִ֣ים אִ֔ישׁ יַעֲל֖וּ וְיַכּ֣וּ אֶת־הָעָ֑י אַל־תְּיַגַּע־שָׁ֨מָּה֙ <span  class=\"hl\" >אֶת־</span><span  class=\"hl\" >כָּל־</span><span  class=\"hl\" >הָ</span><span  class=\"hl\" >עָ֔ם </span>כִּ֥י מְעַ֖ט הֵֽמָּה׃ </span></td><td class=\"tf\"><span class=\"hb\"><span  class=\"hl\" >אֶת־</span></span></td><td class=\"tf\"><span class=\"hb\"><span  class=\"hl\" >כָּל־</span></span></td><td class=\"tf\"><span class=\"hb\"><span  class=\"hl\" >הָ</span></span></td><td class=\"tf\"><span class=\"hb\"><span  class=\"hl\" >עָ֔ם </span></span></td></tr>\n",
       "<tr class=\"tf\"><td class=\"tf\">99</td><td class=\"tf\"> <a href=\"https://shebanq.ancient-data.org/hebrew/text?book=Josua&amp;chapter=7&amp;verse=3&amp;version=c&amp;mr=m&amp;qw=q&amp;tp=txt_p&amp;tr=hb&amp;wget=v&amp;qget=v&amp;nget=vt\" title=\"show this passage in SHEBANQ\" sec=\"Joshua 7:3\">Joshua 7:3</a></td><td class=\"tf\"><span class=\"hb\"><a class=\"vn\" href=\"https://shebanq.ancient-data.org/hebrew/text?book=Josua&amp;chapter=7&amp;verse=3&amp;version=c&amp;mr=m&amp;qw=q&amp;tp=txt_p&amp;tr=hb&amp;wget=v&amp;qget=v&amp;nget=vt\" title=\"Joshua 7:3\" sec=\"Joshua 7:3\"></a>וַיָּשֻׁ֣בוּ אֶל־יְהֹושֻׁ֗עַ וַיֹּאמְר֣וּ אֵלָיו֮ אַל־יַ֣עַל כָּל־הָעָם֒ כְּאַלְפַּ֣יִם אִ֗ישׁ אֹ֚ו כִּשְׁלֹ֣שֶׁת אֲלָפִ֣ים אִ֔ישׁ יַעֲל֖וּ וְיַכּ֣וּ אֶת־הָעָ֑י אַל־תְּיַגַּע־שָׁ֨מָּה֙ אֶת־כָּל־הָעָ֔ם <span  class=\"hl\" >כִּ֥י </span>מְעַ֖ט הֵֽמָּה׃ </span></td><td class=\"tf\"><span class=\"hb\"><span  class=\"hl\" >כִּ֥י </span></span></td></tr>\n",
       "<tr class=\"tf\"><td class=\"tf\">100</td><td class=\"tf\"> <a href=\"https://shebanq.ancient-data.org/hebrew/text?book=Josua&amp;chapter=7&amp;verse=3&amp;version=c&amp;mr=m&amp;qw=q&amp;tp=txt_p&amp;tr=hb&amp;wget=v&amp;qget=v&amp;nget=vt\" title=\"show this passage in SHEBANQ\" sec=\"Joshua 7:3\">Joshua 7:3</a></td><td class=\"tf\"><span class=\"hb\"><a class=\"vn\" href=\"https://shebanq.ancient-data.org/hebrew/text?book=Josua&amp;chapter=7&amp;verse=3&amp;version=c&amp;mr=m&amp;qw=q&amp;tp=txt_p&amp;tr=hb&amp;wget=v&amp;qget=v&amp;nget=vt\" title=\"Joshua 7:3\" sec=\"Joshua 7:3\"></a>וַיָּשֻׁ֣בוּ אֶל־יְהֹושֻׁ֗עַ וַיֹּאמְר֣וּ אֵלָיו֮ אַל־יַ֣עַל כָּל־הָעָם֒ כְּאַלְפַּ֣יִם אִ֗ישׁ אֹ֚ו כִּשְׁלֹ֣שֶׁת אֲלָפִ֣ים אִ֔ישׁ יַעֲל֖וּ וְיַכּ֣וּ אֶת־הָעָ֑י אַל־תְּיַגַּע־שָׁ֨מָּה֙ אֶת־כָּל־הָעָ֔ם כִּ֥י <span  class=\"hl\" >מְעַ֖ט </span>הֵֽמָּה׃ </span></td><td class=\"tf\"><span class=\"hb\"><span  class=\"hl\" >מְעַ֖ט </span></span></td></tr></table>"
      ],
      "text/plain": [
       "<IPython.core.display.HTML object>"
      ]
     },
     "metadata": {},
     "output_type": "display_data"
    }
   ],
   "source": [
    "chapter = random.choice(list(F.otype.s('chapter')))\n",
    "A.table(\n",
    "    (L.u(w, 'verse')+mwords[w] for w in L.d(chapter, 'word'))\n",
    ", end=100)"
   ]
  },
  {
   "cell_type": "markdown",
   "metadata": {},
   "source": [
    "### accent class"
   ]
  },
  {
   "cell_type": "code",
   "execution_count": 6,
   "metadata": {},
   "outputs": [
    {
     "name": "stdout",
     "output_type": "stream",
     "text": [
      "342247 ('Job', 26, 1)\n"
     ]
    },
    {
     "data": {
      "text/html": [
       "\n",
       "<span style=\"font-family:Times New Roman; font-size:20pt\">\n",
       "    וַ | וַיַּ֥עַן \n",
       "</hspan>"
      ],
      "text/plain": [
       "<IPython.core.display.HTML object>"
      ]
     },
     "metadata": {},
     "output_type": "display_data"
    },
    {
     "data": {
      "text/html": [
       "\n",
       "<span style=\"font-family:Times New Roman; font-size:20pt\">\n",
       "    &nbsp;&nbsp;&nbsp;&nbsp;WA-J.A71<AN \n",
       "</hspan>"
      ],
      "text/plain": [
       "<IPython.core.display.HTML object>"
      ]
     },
     "metadata": {},
     "output_type": "display_data"
    },
    {
     "data": {
      "text/html": [
       "\n",
       "<span style=\"font-family:Times New Roman; font-size:20pt\">\n",
       "    &nbsp;&nbsp;&nbsp;&nbsp;conjunct\n",
       "</hspan>"
      ],
      "text/plain": [
       "<IPython.core.display.HTML object>"
      ]
     },
     "metadata": {},
     "output_type": "display_data"
    },
    {
     "data": {
      "text/html": [
       "\n",
       "<span style=\"font-family:Times New Roman; font-size:20pt\">\n",
       "    <hr>\n",
       "</hspan>"
      ],
      "text/plain": [
       "<IPython.core.display.HTML object>"
      ]
     },
     "metadata": {},
     "output_type": "display_data"
    },
    {
     "name": "stdout",
     "output_type": "stream",
     "text": [
      "342248 ('Job', 26, 1)\n"
     ]
    },
    {
     "data": {
      "text/html": [
       "\n",
       "<span style=\"font-family:Times New Roman; font-size:20pt\">\n",
       "    יַּ֥עַן  | וַיַּ֥עַן \n",
       "</hspan>"
      ],
      "text/plain": [
       "<IPython.core.display.HTML object>"
      ]
     },
     "metadata": {},
     "output_type": "display_data"
    },
    {
     "data": {
      "text/html": [
       "\n",
       "<span style=\"font-family:Times New Roman; font-size:20pt\">\n",
       "    &nbsp;&nbsp;&nbsp;&nbsp;WA-J.A71<AN \n",
       "</hspan>"
      ],
      "text/plain": [
       "<IPython.core.display.HTML object>"
      ]
     },
     "metadata": {},
     "output_type": "display_data"
    },
    {
     "data": {
      "text/html": [
       "\n",
       "<span style=\"font-family:Times New Roman; font-size:20pt\">\n",
       "    &nbsp;&nbsp;&nbsp;&nbsp;conjunct\n",
       "</hspan>"
      ],
      "text/plain": [
       "<IPython.core.display.HTML object>"
      ]
     },
     "metadata": {},
     "output_type": "display_data"
    },
    {
     "data": {
      "text/html": [
       "\n",
       "<span style=\"font-family:Times New Roman; font-size:20pt\">\n",
       "    <hr>\n",
       "</hspan>"
      ],
      "text/plain": [
       "<IPython.core.display.HTML object>"
      ]
     },
     "metadata": {},
     "output_type": "display_data"
    },
    {
     "name": "stdout",
     "output_type": "stream",
     "text": [
      "342249 ('Job', 26, 1)\n"
     ]
    },
    {
     "data": {
      "text/html": [
       "\n",
       "<span style=\"font-family:Times New Roman; font-size:20pt\">\n",
       "    אִיֹּ֗וב  | אִיֹּ֗וב \n",
       "</hspan>"
      ],
      "text/plain": [
       "<IPython.core.display.HTML object>"
      ]
     },
     "metadata": {},
     "output_type": "display_data"
    },
    {
     "data": {
      "text/html": [
       "\n",
       "<span style=\"font-family:Times New Roman; font-size:20pt\">\n",
       "    &nbsp;&nbsp;&nbsp;&nbsp;>IJ.O81WB \n",
       "</hspan>"
      ],
      "text/plain": [
       "<IPython.core.display.HTML object>"
      ]
     },
     "metadata": {},
     "output_type": "display_data"
    },
    {
     "data": {
      "text/html": [
       "\n",
       "<span style=\"font-family:Times New Roman; font-size:20pt\">\n",
       "    &nbsp;&nbsp;&nbsp;&nbsp;disjunct\n",
       "</hspan>"
      ],
      "text/plain": [
       "<IPython.core.display.HTML object>"
      ]
     },
     "metadata": {},
     "output_type": "display_data"
    },
    {
     "data": {
      "text/html": [
       "\n",
       "<span style=\"font-family:Times New Roman; font-size:20pt\">\n",
       "    <hr>\n",
       "</hspan>"
      ],
      "text/plain": [
       "<IPython.core.display.HTML object>"
      ]
     },
     "metadata": {},
     "output_type": "display_data"
    },
    {
     "name": "stdout",
     "output_type": "stream",
     "text": [
      "342250 ('Job', 26, 1)\n"
     ]
    },
    {
     "data": {
      "text/html": [
       "\n",
       "<span style=\"font-family:Times New Roman; font-size:20pt\">\n",
       "    וַ | וַיֹּאמַֽר׃ \n",
       "</hspan>"
      ],
      "text/plain": [
       "<IPython.core.display.HTML object>"
      ]
     },
     "metadata": {},
     "output_type": "display_data"
    },
    {
     "data": {
      "text/html": [
       "\n",
       "<span style=\"font-family:Times New Roman; font-size:20pt\">\n",
       "    &nbsp;&nbsp;&nbsp;&nbsp;WA-J.O>MA75R00 \n",
       "</hspan>"
      ],
      "text/plain": [
       "<IPython.core.display.HTML object>"
      ]
     },
     "metadata": {},
     "output_type": "display_data"
    },
    {
     "data": {
      "text/html": [
       "\n",
       "<span style=\"font-family:Times New Roman; font-size:20pt\">\n",
       "    &nbsp;&nbsp;&nbsp;&nbsp;disjunct\n",
       "</hspan>"
      ],
      "text/plain": [
       "<IPython.core.display.HTML object>"
      ]
     },
     "metadata": {},
     "output_type": "display_data"
    },
    {
     "data": {
      "text/html": [
       "\n",
       "<span style=\"font-family:Times New Roman; font-size:20pt\">\n",
       "    <hr>\n",
       "</hspan>"
      ],
      "text/plain": [
       "<IPython.core.display.HTML object>"
      ]
     },
     "metadata": {},
     "output_type": "display_data"
    },
    {
     "name": "stdout",
     "output_type": "stream",
     "text": [
      "342251 ('Job', 26, 1)\n"
     ]
    },
    {
     "data": {
      "text/html": [
       "\n",
       "<span style=\"font-family:Times New Roman; font-size:20pt\">\n",
       "    יֹּאמַֽר׃  | וַיֹּאמַֽר׃ \n",
       "</hspan>"
      ],
      "text/plain": [
       "<IPython.core.display.HTML object>"
      ]
     },
     "metadata": {},
     "output_type": "display_data"
    },
    {
     "data": {
      "text/html": [
       "\n",
       "<span style=\"font-family:Times New Roman; font-size:20pt\">\n",
       "    &nbsp;&nbsp;&nbsp;&nbsp;WA-J.O>MA75R00 \n",
       "</hspan>"
      ],
      "text/plain": [
       "<IPython.core.display.HTML object>"
      ]
     },
     "metadata": {},
     "output_type": "display_data"
    },
    {
     "data": {
      "text/html": [
       "\n",
       "<span style=\"font-family:Times New Roman; font-size:20pt\">\n",
       "    &nbsp;&nbsp;&nbsp;&nbsp;disjunct\n",
       "</hspan>"
      ],
      "text/plain": [
       "<IPython.core.display.HTML object>"
      ]
     },
     "metadata": {},
     "output_type": "display_data"
    },
    {
     "data": {
      "text/html": [
       "\n",
       "<span style=\"font-family:Times New Roman; font-size:20pt\">\n",
       "    <hr>\n",
       "</hspan>"
      ],
      "text/plain": [
       "<IPython.core.display.HTML object>"
      ]
     },
     "metadata": {},
     "output_type": "display_data"
    },
    {
     "name": "stdout",
     "output_type": "stream",
     "text": [
      "342252 ('Job', 26, 2)\n"
     ]
    },
    {
     "data": {
      "text/html": [
       "\n",
       "<span style=\"font-family:Times New Roman; font-size:20pt\">\n",
       "    מֶה־ | מֶה־עָזַ֥רְתָּ \n",
       "</hspan>"
      ],
      "text/plain": [
       "<IPython.core.display.HTML object>"
      ]
     },
     "metadata": {},
     "output_type": "display_data"
    },
    {
     "data": {
      "text/html": [
       "\n",
       "<span style=\"font-family:Times New Roman; font-size:20pt\">\n",
       "    &nbsp;&nbsp;&nbsp;&nbsp;MEH&<@ZA71R:T.@ \n",
       "</hspan>"
      ],
      "text/plain": [
       "<IPython.core.display.HTML object>"
      ]
     },
     "metadata": {},
     "output_type": "display_data"
    },
    {
     "data": {
      "text/html": [
       "\n",
       "<span style=\"font-family:Times New Roman; font-size:20pt\">\n",
       "    &nbsp;&nbsp;&nbsp;&nbsp;conjunct\n",
       "</hspan>"
      ],
      "text/plain": [
       "<IPython.core.display.HTML object>"
      ]
     },
     "metadata": {},
     "output_type": "display_data"
    },
    {
     "data": {
      "text/html": [
       "\n",
       "<span style=\"font-family:Times New Roman; font-size:20pt\">\n",
       "    <hr>\n",
       "</hspan>"
      ],
      "text/plain": [
       "<IPython.core.display.HTML object>"
      ]
     },
     "metadata": {},
     "output_type": "display_data"
    },
    {
     "name": "stdout",
     "output_type": "stream",
     "text": [
      "342253 ('Job', 26, 2)\n"
     ]
    },
    {
     "data": {
      "text/html": [
       "\n",
       "<span style=\"font-family:Times New Roman; font-size:20pt\">\n",
       "    עָזַ֥רְתָּ  | מֶה־עָזַ֥רְתָּ \n",
       "</hspan>"
      ],
      "text/plain": [
       "<IPython.core.display.HTML object>"
      ]
     },
     "metadata": {},
     "output_type": "display_data"
    },
    {
     "data": {
      "text/html": [
       "\n",
       "<span style=\"font-family:Times New Roman; font-size:20pt\">\n",
       "    &nbsp;&nbsp;&nbsp;&nbsp;MEH&<@ZA71R:T.@ \n",
       "</hspan>"
      ],
      "text/plain": [
       "<IPython.core.display.HTML object>"
      ]
     },
     "metadata": {},
     "output_type": "display_data"
    },
    {
     "data": {
      "text/html": [
       "\n",
       "<span style=\"font-family:Times New Roman; font-size:20pt\">\n",
       "    &nbsp;&nbsp;&nbsp;&nbsp;conjunct\n",
       "</hspan>"
      ],
      "text/plain": [
       "<IPython.core.display.HTML object>"
      ]
     },
     "metadata": {},
     "output_type": "display_data"
    },
    {
     "data": {
      "text/html": [
       "\n",
       "<span style=\"font-family:Times New Roman; font-size:20pt\">\n",
       "    <hr>\n",
       "</hspan>"
      ],
      "text/plain": [
       "<IPython.core.display.HTML object>"
      ]
     },
     "metadata": {},
     "output_type": "display_data"
    },
    {
     "name": "stdout",
     "output_type": "stream",
     "text": [
      "342254 ('Job', 26, 2)\n"
     ]
    },
    {
     "data": {
      "text/html": [
       "\n",
       "<span style=\"font-family:Times New Roman; font-size:20pt\">\n",
       "    לְ | לְלֹא־כֹ֑חַ \n",
       "</hspan>"
      ],
      "text/plain": [
       "<IPython.core.display.HTML object>"
      ]
     },
     "metadata": {},
     "output_type": "display_data"
    },
    {
     "data": {
      "text/html": [
       "\n",
       "<span style=\"font-family:Times New Roman; font-size:20pt\">\n",
       "    &nbsp;&nbsp;&nbsp;&nbsp;L:-LO>&KO92XA \n",
       "</hspan>"
      ],
      "text/plain": [
       "<IPython.core.display.HTML object>"
      ]
     },
     "metadata": {},
     "output_type": "display_data"
    },
    {
     "data": {
      "text/html": [
       "\n",
       "<span style=\"font-family:Times New Roman; font-size:20pt\">\n",
       "    &nbsp;&nbsp;&nbsp;&nbsp;disjunct\n",
       "</hspan>"
      ],
      "text/plain": [
       "<IPython.core.display.HTML object>"
      ]
     },
     "metadata": {},
     "output_type": "display_data"
    },
    {
     "data": {
      "text/html": [
       "\n",
       "<span style=\"font-family:Times New Roman; font-size:20pt\">\n",
       "    <hr>\n",
       "</hspan>"
      ],
      "text/plain": [
       "<IPython.core.display.HTML object>"
      ]
     },
     "metadata": {},
     "output_type": "display_data"
    },
    {
     "name": "stdout",
     "output_type": "stream",
     "text": [
      "342255 ('Job', 26, 2)\n"
     ]
    },
    {
     "data": {
      "text/html": [
       "\n",
       "<span style=\"font-family:Times New Roman; font-size:20pt\">\n",
       "    לֹא־ | לְלֹא־כֹ֑חַ \n",
       "</hspan>"
      ],
      "text/plain": [
       "<IPython.core.display.HTML object>"
      ]
     },
     "metadata": {},
     "output_type": "display_data"
    },
    {
     "data": {
      "text/html": [
       "\n",
       "<span style=\"font-family:Times New Roman; font-size:20pt\">\n",
       "    &nbsp;&nbsp;&nbsp;&nbsp;L:-LO>&KO92XA \n",
       "</hspan>"
      ],
      "text/plain": [
       "<IPython.core.display.HTML object>"
      ]
     },
     "metadata": {},
     "output_type": "display_data"
    },
    {
     "data": {
      "text/html": [
       "\n",
       "<span style=\"font-family:Times New Roman; font-size:20pt\">\n",
       "    &nbsp;&nbsp;&nbsp;&nbsp;disjunct\n",
       "</hspan>"
      ],
      "text/plain": [
       "<IPython.core.display.HTML object>"
      ]
     },
     "metadata": {},
     "output_type": "display_data"
    },
    {
     "data": {
      "text/html": [
       "\n",
       "<span style=\"font-family:Times New Roman; font-size:20pt\">\n",
       "    <hr>\n",
       "</hspan>"
      ],
      "text/plain": [
       "<IPython.core.display.HTML object>"
      ]
     },
     "metadata": {},
     "output_type": "display_data"
    },
    {
     "name": "stdout",
     "output_type": "stream",
     "text": [
      "342256 ('Job', 26, 2)\n"
     ]
    },
    {
     "data": {
      "text/html": [
       "\n",
       "<span style=\"font-family:Times New Roman; font-size:20pt\">\n",
       "    כֹ֑חַ  | לְלֹא־כֹ֑חַ \n",
       "</hspan>"
      ],
      "text/plain": [
       "<IPython.core.display.HTML object>"
      ]
     },
     "metadata": {},
     "output_type": "display_data"
    },
    {
     "data": {
      "text/html": [
       "\n",
       "<span style=\"font-family:Times New Roman; font-size:20pt\">\n",
       "    &nbsp;&nbsp;&nbsp;&nbsp;L:-LO>&KO92XA \n",
       "</hspan>"
      ],
      "text/plain": [
       "<IPython.core.display.HTML object>"
      ]
     },
     "metadata": {},
     "output_type": "display_data"
    },
    {
     "data": {
      "text/html": [
       "\n",
       "<span style=\"font-family:Times New Roman; font-size:20pt\">\n",
       "    &nbsp;&nbsp;&nbsp;&nbsp;disjunct\n",
       "</hspan>"
      ],
      "text/plain": [
       "<IPython.core.display.HTML object>"
      ]
     },
     "metadata": {},
     "output_type": "display_data"
    },
    {
     "data": {
      "text/html": [
       "\n",
       "<span style=\"font-family:Times New Roman; font-size:20pt\">\n",
       "    <hr>\n",
       "</hspan>"
      ],
      "text/plain": [
       "<IPython.core.display.HTML object>"
      ]
     },
     "metadata": {},
     "output_type": "display_data"
    },
    {
     "name": "stdout",
     "output_type": "stream",
     "text": [
      "342257 ('Job', 26, 2)\n"
     ]
    },
    {
     "data": {
      "text/html": [
       "\n",
       "<span style=\"font-family:Times New Roman; font-size:20pt\">\n",
       "    הֹ֝ושַׁ֗עְתָּ  | הֹ֝ושַׁ֗עְתָּ \n",
       "</hspan>"
      ],
      "text/plain": [
       "<IPython.core.display.HTML object>"
      ]
     },
     "metadata": {},
     "output_type": "display_data"
    },
    {
     "data": {
      "text/html": [
       "\n",
       "<span style=\"font-family:Times New Roman; font-size:20pt\">\n",
       "    &nbsp;&nbsp;&nbsp;&nbsp;11HOWCA81<:T.@ \n",
       "</hspan>"
      ],
      "text/plain": [
       "<IPython.core.display.HTML object>"
      ]
     },
     "metadata": {},
     "output_type": "display_data"
    },
    {
     "data": {
      "text/html": [
       "\n",
       "<span style=\"font-family:Times New Roman; font-size:20pt\">\n",
       "    &nbsp;&nbsp;&nbsp;&nbsp;disjunct\n",
       "</hspan>"
      ],
      "text/plain": [
       "<IPython.core.display.HTML object>"
      ]
     },
     "metadata": {},
     "output_type": "display_data"
    },
    {
     "data": {
      "text/html": [
       "\n",
       "<span style=\"font-family:Times New Roman; font-size:20pt\">\n",
       "    <hr>\n",
       "</hspan>"
      ],
      "text/plain": [
       "<IPython.core.display.HTML object>"
      ]
     },
     "metadata": {},
     "output_type": "display_data"
    },
    {
     "name": "stdout",
     "output_type": "stream",
     "text": [
      "342258 ('Job', 26, 2)\n"
     ]
    },
    {
     "data": {
      "text/html": [
       "\n",
       "<span style=\"font-family:Times New Roman; font-size:20pt\">\n",
       "    זְרֹ֣ועַ  | זְרֹ֣ועַ \n",
       "</hspan>"
      ],
      "text/plain": [
       "<IPython.core.display.HTML object>"
      ]
     },
     "metadata": {},
     "output_type": "display_data"
    },
    {
     "data": {
      "text/html": [
       "\n",
       "<span style=\"font-family:Times New Roman; font-size:20pt\">\n",
       "    &nbsp;&nbsp;&nbsp;&nbsp;Z:RO74W<A \n",
       "</hspan>"
      ],
      "text/plain": [
       "<IPython.core.display.HTML object>"
      ]
     },
     "metadata": {},
     "output_type": "display_data"
    },
    {
     "data": {
      "text/html": [
       "\n",
       "<span style=\"font-family:Times New Roman; font-size:20pt\">\n",
       "    &nbsp;&nbsp;&nbsp;&nbsp;conjunct\n",
       "</hspan>"
      ],
      "text/plain": [
       "<IPython.core.display.HTML object>"
      ]
     },
     "metadata": {},
     "output_type": "display_data"
    },
    {
     "data": {
      "text/html": [
       "\n",
       "<span style=\"font-family:Times New Roman; font-size:20pt\">\n",
       "    <hr>\n",
       "</hspan>"
      ],
      "text/plain": [
       "<IPython.core.display.HTML object>"
      ]
     },
     "metadata": {},
     "output_type": "display_data"
    },
    {
     "name": "stdout",
     "output_type": "stream",
     "text": [
      "342259 ('Job', 26, 2)\n"
     ]
    },
    {
     "data": {
      "text/html": [
       "\n",
       "<span style=\"font-family:Times New Roman; font-size:20pt\">\n",
       "    לֹא־ | לֹא־עֹֽז׃ \n",
       "</hspan>"
      ],
      "text/plain": [
       "<IPython.core.display.HTML object>"
      ]
     },
     "metadata": {},
     "output_type": "display_data"
    },
    {
     "data": {
      "text/html": [
       "\n",
       "<span style=\"font-family:Times New Roman; font-size:20pt\">\n",
       "    &nbsp;&nbsp;&nbsp;&nbsp;LO>&<O75Z00 \n",
       "</hspan>"
      ],
      "text/plain": [
       "<IPython.core.display.HTML object>"
      ]
     },
     "metadata": {},
     "output_type": "display_data"
    },
    {
     "data": {
      "text/html": [
       "\n",
       "<span style=\"font-family:Times New Roman; font-size:20pt\">\n",
       "    &nbsp;&nbsp;&nbsp;&nbsp;disjunct\n",
       "</hspan>"
      ],
      "text/plain": [
       "<IPython.core.display.HTML object>"
      ]
     },
     "metadata": {},
     "output_type": "display_data"
    },
    {
     "data": {
      "text/html": [
       "\n",
       "<span style=\"font-family:Times New Roman; font-size:20pt\">\n",
       "    <hr>\n",
       "</hspan>"
      ],
      "text/plain": [
       "<IPython.core.display.HTML object>"
      ]
     },
     "metadata": {},
     "output_type": "display_data"
    },
    {
     "name": "stdout",
     "output_type": "stream",
     "text": [
      "342260 ('Job', 26, 2)\n"
     ]
    },
    {
     "data": {
      "text/html": [
       "\n",
       "<span style=\"font-family:Times New Roman; font-size:20pt\">\n",
       "    עֹֽז׃  | לֹא־עֹֽז׃ \n",
       "</hspan>"
      ],
      "text/plain": [
       "<IPython.core.display.HTML object>"
      ]
     },
     "metadata": {},
     "output_type": "display_data"
    },
    {
     "data": {
      "text/html": [
       "\n",
       "<span style=\"font-family:Times New Roman; font-size:20pt\">\n",
       "    &nbsp;&nbsp;&nbsp;&nbsp;LO>&<O75Z00 \n",
       "</hspan>"
      ],
      "text/plain": [
       "<IPython.core.display.HTML object>"
      ]
     },
     "metadata": {},
     "output_type": "display_data"
    },
    {
     "data": {
      "text/html": [
       "\n",
       "<span style=\"font-family:Times New Roman; font-size:20pt\">\n",
       "    &nbsp;&nbsp;&nbsp;&nbsp;disjunct\n",
       "</hspan>"
      ],
      "text/plain": [
       "<IPython.core.display.HTML object>"
      ]
     },
     "metadata": {},
     "output_type": "display_data"
    },
    {
     "data": {
      "text/html": [
       "\n",
       "<span style=\"font-family:Times New Roman; font-size:20pt\">\n",
       "    <hr>\n",
       "</hspan>"
      ],
      "text/plain": [
       "<IPython.core.display.HTML object>"
      ]
     },
     "metadata": {},
     "output_type": "display_data"
    },
    {
     "name": "stdout",
     "output_type": "stream",
     "text": [
      "342261 ('Job', 26, 3)\n"
     ]
    },
    {
     "data": {
      "text/html": [
       "\n",
       "<span style=\"font-family:Times New Roman; font-size:20pt\">\n",
       "    מַה־ | מַה־יָּ֭עַצְתָּ \n",
       "</hspan>"
      ],
      "text/plain": [
       "<IPython.core.display.HTML object>"
      ]
     },
     "metadata": {},
     "output_type": "display_data"
    },
    {
     "data": {
      "text/html": [
       "\n",
       "<span style=\"font-family:Times New Roman; font-size:20pt\">\n",
       "    &nbsp;&nbsp;&nbsp;&nbsp;MAH&13J.@<AY:T.@ \n",
       "</hspan>"
      ],
      "text/plain": [
       "<IPython.core.display.HTML object>"
      ]
     },
     "metadata": {},
     "output_type": "display_data"
    },
    {
     "data": {
      "text/html": [
       "\n",
       "<span style=\"font-family:Times New Roman; font-size:20pt\">\n",
       "    &nbsp;&nbsp;&nbsp;&nbsp;disjunct\n",
       "</hspan>"
      ],
      "text/plain": [
       "<IPython.core.display.HTML object>"
      ]
     },
     "metadata": {},
     "output_type": "display_data"
    },
    {
     "data": {
      "text/html": [
       "\n",
       "<span style=\"font-family:Times New Roman; font-size:20pt\">\n",
       "    <hr>\n",
       "</hspan>"
      ],
      "text/plain": [
       "<IPython.core.display.HTML object>"
      ]
     },
     "metadata": {},
     "output_type": "display_data"
    },
    {
     "name": "stdout",
     "output_type": "stream",
     "text": [
      "342262 ('Job', 26, 3)\n"
     ]
    },
    {
     "data": {
      "text/html": [
       "\n",
       "<span style=\"font-family:Times New Roman; font-size:20pt\">\n",
       "    יָּ֭עַצְתָּ  | מַה־יָּ֭עַצְתָּ \n",
       "</hspan>"
      ],
      "text/plain": [
       "<IPython.core.display.HTML object>"
      ]
     },
     "metadata": {},
     "output_type": "display_data"
    },
    {
     "data": {
      "text/html": [
       "\n",
       "<span style=\"font-family:Times New Roman; font-size:20pt\">\n",
       "    &nbsp;&nbsp;&nbsp;&nbsp;MAH&13J.@<AY:T.@ \n",
       "</hspan>"
      ],
      "text/plain": [
       "<IPython.core.display.HTML object>"
      ]
     },
     "metadata": {},
     "output_type": "display_data"
    },
    {
     "data": {
      "text/html": [
       "\n",
       "<span style=\"font-family:Times New Roman; font-size:20pt\">\n",
       "    &nbsp;&nbsp;&nbsp;&nbsp;disjunct\n",
       "</hspan>"
      ],
      "text/plain": [
       "<IPython.core.display.HTML object>"
      ]
     },
     "metadata": {},
     "output_type": "display_data"
    },
    {
     "data": {
      "text/html": [
       "\n",
       "<span style=\"font-family:Times New Roman; font-size:20pt\">\n",
       "    <hr>\n",
       "</hspan>"
      ],
      "text/plain": [
       "<IPython.core.display.HTML object>"
      ]
     },
     "metadata": {},
     "output_type": "display_data"
    },
    {
     "name": "stdout",
     "output_type": "stream",
     "text": [
      "342263 ('Job', 26, 3)\n"
     ]
    },
    {
     "data": {
      "text/html": [
       "\n",
       "<span style=\"font-family:Times New Roman; font-size:20pt\">\n",
       "    לְ | לְלֹ֣א \n",
       "</hspan>"
      ],
      "text/plain": [
       "<IPython.core.display.HTML object>"
      ]
     },
     "metadata": {},
     "output_type": "display_data"
    },
    {
     "data": {
      "text/html": [
       "\n",
       "<span style=\"font-family:Times New Roman; font-size:20pt\">\n",
       "    &nbsp;&nbsp;&nbsp;&nbsp;L:-LO74> \n",
       "</hspan>"
      ],
      "text/plain": [
       "<IPython.core.display.HTML object>"
      ]
     },
     "metadata": {},
     "output_type": "display_data"
    },
    {
     "data": {
      "text/html": [
       "\n",
       "<span style=\"font-family:Times New Roman; font-size:20pt\">\n",
       "    &nbsp;&nbsp;&nbsp;&nbsp;conjunct\n",
       "</hspan>"
      ],
      "text/plain": [
       "<IPython.core.display.HTML object>"
      ]
     },
     "metadata": {},
     "output_type": "display_data"
    },
    {
     "data": {
      "text/html": [
       "\n",
       "<span style=\"font-family:Times New Roman; font-size:20pt\">\n",
       "    <hr>\n",
       "</hspan>"
      ],
      "text/plain": [
       "<IPython.core.display.HTML object>"
      ]
     },
     "metadata": {},
     "output_type": "display_data"
    },
    {
     "name": "stdout",
     "output_type": "stream",
     "text": [
      "342264 ('Job', 26, 3)\n"
     ]
    },
    {
     "data": {
      "text/html": [
       "\n",
       "<span style=\"font-family:Times New Roman; font-size:20pt\">\n",
       "    לֹ֣א  | לְלֹ֣א \n",
       "</hspan>"
      ],
      "text/plain": [
       "<IPython.core.display.HTML object>"
      ]
     },
     "metadata": {},
     "output_type": "display_data"
    },
    {
     "data": {
      "text/html": [
       "\n",
       "<span style=\"font-family:Times New Roman; font-size:20pt\">\n",
       "    &nbsp;&nbsp;&nbsp;&nbsp;L:-LO74> \n",
       "</hspan>"
      ],
      "text/plain": [
       "<IPython.core.display.HTML object>"
      ]
     },
     "metadata": {},
     "output_type": "display_data"
    },
    {
     "data": {
      "text/html": [
       "\n",
       "<span style=\"font-family:Times New Roman; font-size:20pt\">\n",
       "    &nbsp;&nbsp;&nbsp;&nbsp;conjunct\n",
       "</hspan>"
      ],
      "text/plain": [
       "<IPython.core.display.HTML object>"
      ]
     },
     "metadata": {},
     "output_type": "display_data"
    },
    {
     "data": {
      "text/html": [
       "\n",
       "<span style=\"font-family:Times New Roman; font-size:20pt\">\n",
       "    <hr>\n",
       "</hspan>"
      ],
      "text/plain": [
       "<IPython.core.display.HTML object>"
      ]
     },
     "metadata": {},
     "output_type": "display_data"
    },
    {
     "name": "stdout",
     "output_type": "stream",
     "text": [
      "342265 ('Job', 26, 3)\n"
     ]
    },
    {
     "data": {
      "text/html": [
       "\n",
       "<span style=\"font-family:Times New Roman; font-size:20pt\">\n",
       "    חָכְמָ֑ה  | חָכְמָ֑ה \n",
       "</hspan>"
      ],
      "text/plain": [
       "<IPython.core.display.HTML object>"
      ]
     },
     "metadata": {},
     "output_type": "display_data"
    },
    {
     "data": {
      "text/html": [
       "\n",
       "<span style=\"font-family:Times New Roman; font-size:20pt\">\n",
       "    &nbsp;&nbsp;&nbsp;&nbsp;X@K:M@92H \n",
       "</hspan>"
      ],
      "text/plain": [
       "<IPython.core.display.HTML object>"
      ]
     },
     "metadata": {},
     "output_type": "display_data"
    },
    {
     "data": {
      "text/html": [
       "\n",
       "<span style=\"font-family:Times New Roman; font-size:20pt\">\n",
       "    &nbsp;&nbsp;&nbsp;&nbsp;disjunct\n",
       "</hspan>"
      ],
      "text/plain": [
       "<IPython.core.display.HTML object>"
      ]
     },
     "metadata": {},
     "output_type": "display_data"
    },
    {
     "data": {
      "text/html": [
       "\n",
       "<span style=\"font-family:Times New Roman; font-size:20pt\">\n",
       "    <hr>\n",
       "</hspan>"
      ],
      "text/plain": [
       "<IPython.core.display.HTML object>"
      ]
     },
     "metadata": {},
     "output_type": "display_data"
    },
    {
     "name": "stdout",
     "output_type": "stream",
     "text": [
      "342266 ('Job', 26, 3)\n"
     ]
    },
    {
     "data": {
      "text/html": [
       "\n",
       "<span style=\"font-family:Times New Roman; font-size:20pt\">\n",
       "    וְ֝ | וְ֝תוּשִׁיָּ֗ה \n",
       "</hspan>"
      ],
      "text/plain": [
       "<IPython.core.display.HTML object>"
      ]
     },
     "metadata": {},
     "output_type": "display_data"
    },
    {
     "data": {
      "text/html": [
       "\n",
       "<span style=\"font-family:Times New Roman; font-size:20pt\">\n",
       "    &nbsp;&nbsp;&nbsp;&nbsp;11W:-TW.CIJ.@81H \n",
       "</hspan>"
      ],
      "text/plain": [
       "<IPython.core.display.HTML object>"
      ]
     },
     "metadata": {},
     "output_type": "display_data"
    },
    {
     "data": {
      "text/html": [
       "\n",
       "<span style=\"font-family:Times New Roman; font-size:20pt\">\n",
       "    &nbsp;&nbsp;&nbsp;&nbsp;disjunct\n",
       "</hspan>"
      ],
      "text/plain": [
       "<IPython.core.display.HTML object>"
      ]
     },
     "metadata": {},
     "output_type": "display_data"
    },
    {
     "data": {
      "text/html": [
       "\n",
       "<span style=\"font-family:Times New Roman; font-size:20pt\">\n",
       "    <hr>\n",
       "</hspan>"
      ],
      "text/plain": [
       "<IPython.core.display.HTML object>"
      ]
     },
     "metadata": {},
     "output_type": "display_data"
    },
    {
     "name": "stdout",
     "output_type": "stream",
     "text": [
      "342267 ('Job', 26, 3)\n"
     ]
    },
    {
     "data": {
      "text/html": [
       "\n",
       "<span style=\"font-family:Times New Roman; font-size:20pt\">\n",
       "    תוּשִׁיָּ֗ה  | וְ֝תוּשִׁיָּ֗ה \n",
       "</hspan>"
      ],
      "text/plain": [
       "<IPython.core.display.HTML object>"
      ]
     },
     "metadata": {},
     "output_type": "display_data"
    },
    {
     "data": {
      "text/html": [
       "\n",
       "<span style=\"font-family:Times New Roman; font-size:20pt\">\n",
       "    &nbsp;&nbsp;&nbsp;&nbsp;11W:-TW.CIJ.@81H \n",
       "</hspan>"
      ],
      "text/plain": [
       "<IPython.core.display.HTML object>"
      ]
     },
     "metadata": {},
     "output_type": "display_data"
    },
    {
     "data": {
      "text/html": [
       "\n",
       "<span style=\"font-family:Times New Roman; font-size:20pt\">\n",
       "    &nbsp;&nbsp;&nbsp;&nbsp;disjunct\n",
       "</hspan>"
      ],
      "text/plain": [
       "<IPython.core.display.HTML object>"
      ]
     },
     "metadata": {},
     "output_type": "display_data"
    },
    {
     "data": {
      "text/html": [
       "\n",
       "<span style=\"font-family:Times New Roman; font-size:20pt\">\n",
       "    <hr>\n",
       "</hspan>"
      ],
      "text/plain": [
       "<IPython.core.display.HTML object>"
      ]
     },
     "metadata": {},
     "output_type": "display_data"
    },
    {
     "name": "stdout",
     "output_type": "stream",
     "text": [
      "342268 ('Job', 26, 3)\n"
     ]
    },
    {
     "data": {
      "text/html": [
       "\n",
       "<span style=\"font-family:Times New Roman; font-size:20pt\">\n",
       "    לָ | לָרֹ֥ב \n",
       "</hspan>"
      ],
      "text/plain": [
       "<IPython.core.display.HTML object>"
      ]
     },
     "metadata": {},
     "output_type": "display_data"
    },
    {
     "data": {
      "text/html": [
       "\n",
       "<span style=\"font-family:Times New Roman; font-size:20pt\">\n",
       "    &nbsp;&nbsp;&nbsp;&nbsp;L@-RO71B \n",
       "</hspan>"
      ],
      "text/plain": [
       "<IPython.core.display.HTML object>"
      ]
     },
     "metadata": {},
     "output_type": "display_data"
    },
    {
     "data": {
      "text/html": [
       "\n",
       "<span style=\"font-family:Times New Roman; font-size:20pt\">\n",
       "    &nbsp;&nbsp;&nbsp;&nbsp;conjunct\n",
       "</hspan>"
      ],
      "text/plain": [
       "<IPython.core.display.HTML object>"
      ]
     },
     "metadata": {},
     "output_type": "display_data"
    },
    {
     "data": {
      "text/html": [
       "\n",
       "<span style=\"font-family:Times New Roman; font-size:20pt\">\n",
       "    <hr>\n",
       "</hspan>"
      ],
      "text/plain": [
       "<IPython.core.display.HTML object>"
      ]
     },
     "metadata": {},
     "output_type": "display_data"
    },
    {
     "name": "stdout",
     "output_type": "stream",
     "text": [
      "342269 ('Job', 26, 3)\n"
     ]
    },
    {
     "data": {
      "text/html": [
       "\n",
       "<span style=\"font-family:Times New Roman; font-size:20pt\">\n",
       "    רֹ֥ב  | לָרֹ֥ב \n",
       "</hspan>"
      ],
      "text/plain": [
       "<IPython.core.display.HTML object>"
      ]
     },
     "metadata": {},
     "output_type": "display_data"
    },
    {
     "data": {
      "text/html": [
       "\n",
       "<span style=\"font-family:Times New Roman; font-size:20pt\">\n",
       "    &nbsp;&nbsp;&nbsp;&nbsp;L@-RO71B \n",
       "</hspan>"
      ],
      "text/plain": [
       "<IPython.core.display.HTML object>"
      ]
     },
     "metadata": {},
     "output_type": "display_data"
    },
    {
     "data": {
      "text/html": [
       "\n",
       "<span style=\"font-family:Times New Roman; font-size:20pt\">\n",
       "    &nbsp;&nbsp;&nbsp;&nbsp;conjunct\n",
       "</hspan>"
      ],
      "text/plain": [
       "<IPython.core.display.HTML object>"
      ]
     },
     "metadata": {},
     "output_type": "display_data"
    },
    {
     "data": {
      "text/html": [
       "\n",
       "<span style=\"font-family:Times New Roman; font-size:20pt\">\n",
       "    <hr>\n",
       "</hspan>"
      ],
      "text/plain": [
       "<IPython.core.display.HTML object>"
      ]
     },
     "metadata": {},
     "output_type": "display_data"
    },
    {
     "name": "stdout",
     "output_type": "stream",
     "text": [
      "342270 ('Job', 26, 3)\n"
     ]
    },
    {
     "data": {
      "text/html": [
       "\n",
       "<span style=\"font-family:Times New Roman; font-size:20pt\">\n",
       "    הֹודָֽעְתָּ׃  | הֹודָֽעְתָּ׃ \n",
       "</hspan>"
      ],
      "text/plain": [
       "<IPython.core.display.HTML object>"
      ]
     },
     "metadata": {},
     "output_type": "display_data"
    },
    {
     "data": {
      "text/html": [
       "\n",
       "<span style=\"font-family:Times New Roman; font-size:20pt\">\n",
       "    &nbsp;&nbsp;&nbsp;&nbsp;HOWD@75<:T.@00 \n",
       "</hspan>"
      ],
      "text/plain": [
       "<IPython.core.display.HTML object>"
      ]
     },
     "metadata": {},
     "output_type": "display_data"
    },
    {
     "data": {
      "text/html": [
       "\n",
       "<span style=\"font-family:Times New Roman; font-size:20pt\">\n",
       "    &nbsp;&nbsp;&nbsp;&nbsp;disjunct\n",
       "</hspan>"
      ],
      "text/plain": [
       "<IPython.core.display.HTML object>"
      ]
     },
     "metadata": {},
     "output_type": "display_data"
    },
    {
     "data": {
      "text/html": [
       "\n",
       "<span style=\"font-family:Times New Roman; font-size:20pt\">\n",
       "    <hr>\n",
       "</hspan>"
      ],
      "text/plain": [
       "<IPython.core.display.HTML object>"
      ]
     },
     "metadata": {},
     "output_type": "display_data"
    },
    {
     "name": "stdout",
     "output_type": "stream",
     "text": [
      "342271 ('Job', 26, 4)\n"
     ]
    },
    {
     "data": {
      "text/html": [
       "\n",
       "<span style=\"font-family:Times New Roman; font-size:20pt\">\n",
       "    אֶת־ | אֶת־מִ֭י \n",
       "</hspan>"
      ],
      "text/plain": [
       "<IPython.core.display.HTML object>"
      ]
     },
     "metadata": {},
     "output_type": "display_data"
    },
    {
     "data": {
      "text/html": [
       "\n",
       "<span style=\"font-family:Times New Roman; font-size:20pt\">\n",
       "    &nbsp;&nbsp;&nbsp;&nbsp;>ET&13MIJ \n",
       "</hspan>"
      ],
      "text/plain": [
       "<IPython.core.display.HTML object>"
      ]
     },
     "metadata": {},
     "output_type": "display_data"
    },
    {
     "data": {
      "text/html": [
       "\n",
       "<span style=\"font-family:Times New Roman; font-size:20pt\">\n",
       "    &nbsp;&nbsp;&nbsp;&nbsp;disjunct\n",
       "</hspan>"
      ],
      "text/plain": [
       "<IPython.core.display.HTML object>"
      ]
     },
     "metadata": {},
     "output_type": "display_data"
    },
    {
     "data": {
      "text/html": [
       "\n",
       "<span style=\"font-family:Times New Roman; font-size:20pt\">\n",
       "    <hr>\n",
       "</hspan>"
      ],
      "text/plain": [
       "<IPython.core.display.HTML object>"
      ]
     },
     "metadata": {},
     "output_type": "display_data"
    }
   ],
   "source": [
    "chapter = random.choice(list(F.otype.s('chapter')))\n",
    "\n",
    "\n",
    "show = [(w,) for w in L.d(chapter, 'word')]\n",
    "\n",
    "def show_accents(wset):\n",
    "    for s in wset:\n",
    "        word = s[0]\n",
    "        text = f'{T.text(word)} | {T.text(mwords[word])}'\n",
    "        trans = T.text(mwords[word], fmt='text-trans-full')\n",
    "        tab = '&nbsp;&nbsp;&nbsp;&nbsp;'\n",
    "        print(s[0], T.sectionFromNode(word))\n",
    "        beauty(text)\n",
    "        beauty(tab+trans)\n",
    "        beauty(tab+atype[word])\n",
    "        beauty('<hr>')\n",
    "        \n",
    "show_accents(show[:25])"
   ]
  },
  {
   "cell_type": "markdown",
   "metadata": {},
   "source": [
    "### Stats"
   ]
  },
  {
   "cell_type": "code",
   "execution_count": 7,
   "metadata": {},
   "outputs": [
    {
     "data": {
      "text/plain": [
       "'J.I52C.@52Q;9252H52W.52 '"
      ]
     },
     "execution_count": 7,
     "metadata": {},
     "output_type": "execute_result"
    }
   ],
   "source": [
    "T.text(18154, fmt='text-trans-full')"
   ]
  },
  {
   "cell_type": "code",
   "execution_count": 8,
   "metadata": {},
   "outputs": [],
   "source": [
    "# A.table(A.search('''\n",
    "\n",
    "# verse\n",
    "#     word g_word~11\n",
    "\n",
    "# ''')[:10])"
   ]
  },
  {
   "cell_type": "code",
   "execution_count": 9,
   "metadata": {},
   "outputs": [
    {
     "data": {
      "text/plain": [
       "[('disjunct', 272898), ('conjunct', 152669), ('unknown', 1017)]"
      ]
     },
     "execution_count": 9,
     "metadata": {},
     "output_type": "execute_result"
    }
   ],
   "source": [
    "labels = collections.Counter()\n",
    "\n",
    "for label, wset in atype2set.items():\n",
    "    labels[label] += len(wset)\n",
    "    \n",
    "labels.most_common()"
   ]
  },
  {
   "cell_type": "code",
   "execution_count": 10,
   "metadata": {},
   "outputs": [
    {
     "name": "stdout",
     "output_type": "stream",
     "text": [
      "17920 ('Genesis', 32, 24)\n"
     ]
    },
    {
     "data": {
      "text/html": [
       "\n",
       "<span style=\"font-family:Times New Roman; font-size:20pt\">\n",
       "    אֶת־ | אֶת־אֲשֶׁר־לֹו׃ \n",
       "</hspan>"
      ],
      "text/plain": [
       "<IPython.core.display.HTML object>"
      ]
     },
     "metadata": {},
     "output_type": "display_data"
    },
    {
     "data": {
      "text/html": [
       "\n",
       "<span style=\"font-family:Times New Roman; font-size:20pt\">\n",
       "    &nbsp;&nbsp;&nbsp;&nbsp;>ET&>:ACER&LOW00 \n",
       "</hspan>"
      ],
      "text/plain": [
       "<IPython.core.display.HTML object>"
      ]
     },
     "metadata": {},
     "output_type": "display_data"
    },
    {
     "data": {
      "text/html": [
       "\n",
       "<span style=\"font-family:Times New Roman; font-size:20pt\">\n",
       "    &nbsp;&nbsp;&nbsp;&nbsp;unknown\n",
       "</hspan>"
      ],
      "text/plain": [
       "<IPython.core.display.HTML object>"
      ]
     },
     "metadata": {},
     "output_type": "display_data"
    },
    {
     "data": {
      "text/html": [
       "\n",
       "<span style=\"font-family:Times New Roman; font-size:20pt\">\n",
       "    <hr>\n",
       "</hspan>"
      ],
      "text/plain": [
       "<IPython.core.display.HTML object>"
      ]
     },
     "metadata": {},
     "output_type": "display_data"
    },
    {
     "name": "stdout",
     "output_type": "stream",
     "text": [
      "17921 ('Genesis', 32, 24)\n"
     ]
    },
    {
     "data": {
      "text/html": [
       "\n",
       "<span style=\"font-family:Times New Roman; font-size:20pt\">\n",
       "    אֲשֶׁר־ | אֶת־אֲשֶׁר־לֹו׃ \n",
       "</hspan>"
      ],
      "text/plain": [
       "<IPython.core.display.HTML object>"
      ]
     },
     "metadata": {},
     "output_type": "display_data"
    },
    {
     "data": {
      "text/html": [
       "\n",
       "<span style=\"font-family:Times New Roman; font-size:20pt\">\n",
       "    &nbsp;&nbsp;&nbsp;&nbsp;>ET&>:ACER&LOW00 \n",
       "</hspan>"
      ],
      "text/plain": [
       "<IPython.core.display.HTML object>"
      ]
     },
     "metadata": {},
     "output_type": "display_data"
    },
    {
     "data": {
      "text/html": [
       "\n",
       "<span style=\"font-family:Times New Roman; font-size:20pt\">\n",
       "    &nbsp;&nbsp;&nbsp;&nbsp;unknown\n",
       "</hspan>"
      ],
      "text/plain": [
       "<IPython.core.display.HTML object>"
      ]
     },
     "metadata": {},
     "output_type": "display_data"
    },
    {
     "data": {
      "text/html": [
       "\n",
       "<span style=\"font-family:Times New Roman; font-size:20pt\">\n",
       "    <hr>\n",
       "</hspan>"
      ],
      "text/plain": [
       "<IPython.core.display.HTML object>"
      ]
     },
     "metadata": {},
     "output_type": "display_data"
    },
    {
     "name": "stdout",
     "output_type": "stream",
     "text": [
      "17922 ('Genesis', 32, 24)\n"
     ]
    },
    {
     "data": {
      "text/html": [
       "\n",
       "<span style=\"font-family:Times New Roman; font-size:20pt\">\n",
       "    לֹו׃  | אֶת־אֲשֶׁר־לֹו׃ \n",
       "</hspan>"
      ],
      "text/plain": [
       "<IPython.core.display.HTML object>"
      ]
     },
     "metadata": {},
     "output_type": "display_data"
    },
    {
     "data": {
      "text/html": [
       "\n",
       "<span style=\"font-family:Times New Roman; font-size:20pt\">\n",
       "    &nbsp;&nbsp;&nbsp;&nbsp;>ET&>:ACER&LOW00 \n",
       "</hspan>"
      ],
      "text/plain": [
       "<IPython.core.display.HTML object>"
      ]
     },
     "metadata": {},
     "output_type": "display_data"
    },
    {
     "data": {
      "text/html": [
       "\n",
       "<span style=\"font-family:Times New Roman; font-size:20pt\">\n",
       "    &nbsp;&nbsp;&nbsp;&nbsp;unknown\n",
       "</hspan>"
      ],
      "text/plain": [
       "<IPython.core.display.HTML object>"
      ]
     },
     "metadata": {},
     "output_type": "display_data"
    },
    {
     "data": {
      "text/html": [
       "\n",
       "<span style=\"font-family:Times New Roman; font-size:20pt\">\n",
       "    <hr>\n",
       "</hspan>"
      ],
      "text/plain": [
       "<IPython.core.display.HTML object>"
      ]
     },
     "metadata": {},
     "output_type": "display_data"
    },
    {
     "name": "stdout",
     "output_type": "stream",
     "text": [
      "30384 ('Exodus', 4, 10)\n"
     ]
    },
    {
     "data": {
      "text/html": [
       "\n",
       "<span style=\"font-family:Times New Roman; font-size:20pt\">\n",
       "    דַּבֶּרְךָ  | דַּבֶּרְךָ \n",
       "</hspan>"
      ],
      "text/plain": [
       "<IPython.core.display.HTML object>"
      ]
     },
     "metadata": {},
     "output_type": "display_data"
    },
    {
     "data": {
      "text/html": [
       "\n",
       "<span style=\"font-family:Times New Roman; font-size:20pt\">\n",
       "    &nbsp;&nbsp;&nbsp;&nbsp;D.AB.ER:K@ \n",
       "</hspan>"
      ],
      "text/plain": [
       "<IPython.core.display.HTML object>"
      ]
     },
     "metadata": {},
     "output_type": "display_data"
    },
    {
     "data": {
      "text/html": [
       "\n",
       "<span style=\"font-family:Times New Roman; font-size:20pt\">\n",
       "    &nbsp;&nbsp;&nbsp;&nbsp;unknown\n",
       "</hspan>"
      ],
      "text/plain": [
       "<IPython.core.display.HTML object>"
      ]
     },
     "metadata": {},
     "output_type": "display_data"
    },
    {
     "data": {
      "text/html": [
       "\n",
       "<span style=\"font-family:Times New Roman; font-size:20pt\">\n",
       "    <hr>\n",
       "</hspan>"
      ],
      "text/plain": [
       "<IPython.core.display.HTML object>"
      ]
     },
     "metadata": {},
     "output_type": "display_data"
    },
    {
     "name": "stdout",
     "output_type": "stream",
     "text": [
      "33479 ('Exodus', 9, 22)\n"
     ]
    },
    {
     "data": {
      "text/html": [
       "\n",
       "<span style=\"font-family:Times New Roman; font-size:20pt\">\n",
       "    אֶל־ | אֶל־מֹשֶׁה \n",
       "</hspan>"
      ],
      "text/plain": [
       "<IPython.core.display.HTML object>"
      ]
     },
     "metadata": {},
     "output_type": "display_data"
    },
    {
     "data": {
      "text/html": [
       "\n",
       "<span style=\"font-family:Times New Roman; font-size:20pt\">\n",
       "    &nbsp;&nbsp;&nbsp;&nbsp;>EL&MOCEH \n",
       "</hspan>"
      ],
      "text/plain": [
       "<IPython.core.display.HTML object>"
      ]
     },
     "metadata": {},
     "output_type": "display_data"
    },
    {
     "data": {
      "text/html": [
       "\n",
       "<span style=\"font-family:Times New Roman; font-size:20pt\">\n",
       "    &nbsp;&nbsp;&nbsp;&nbsp;unknown\n",
       "</hspan>"
      ],
      "text/plain": [
       "<IPython.core.display.HTML object>"
      ]
     },
     "metadata": {},
     "output_type": "display_data"
    },
    {
     "data": {
      "text/html": [
       "\n",
       "<span style=\"font-family:Times New Roman; font-size:20pt\">\n",
       "    <hr>\n",
       "</hspan>"
      ],
      "text/plain": [
       "<IPython.core.display.HTML object>"
      ]
     },
     "metadata": {},
     "output_type": "display_data"
    },
    {
     "name": "stdout",
     "output_type": "stream",
     "text": [
      "33480 ('Exodus', 9, 22)\n"
     ]
    },
    {
     "data": {
      "text/html": [
       "\n",
       "<span style=\"font-family:Times New Roman; font-size:20pt\">\n",
       "    מֹשֶׁה  | אֶל־מֹשֶׁה \n",
       "</hspan>"
      ],
      "text/plain": [
       "<IPython.core.display.HTML object>"
      ]
     },
     "metadata": {},
     "output_type": "display_data"
    },
    {
     "data": {
      "text/html": [
       "\n",
       "<span style=\"font-family:Times New Roman; font-size:20pt\">\n",
       "    &nbsp;&nbsp;&nbsp;&nbsp;>EL&MOCEH \n",
       "</hspan>"
      ],
      "text/plain": [
       "<IPython.core.display.HTML object>"
      ]
     },
     "metadata": {},
     "output_type": "display_data"
    },
    {
     "data": {
      "text/html": [
       "\n",
       "<span style=\"font-family:Times New Roman; font-size:20pt\">\n",
       "    &nbsp;&nbsp;&nbsp;&nbsp;unknown\n",
       "</hspan>"
      ],
      "text/plain": [
       "<IPython.core.display.HTML object>"
      ]
     },
     "metadata": {},
     "output_type": "display_data"
    },
    {
     "data": {
      "text/html": [
       "\n",
       "<span style=\"font-family:Times New Roman; font-size:20pt\">\n",
       "    <hr>\n",
       "</hspan>"
      ],
      "text/plain": [
       "<IPython.core.display.HTML object>"
      ]
     },
     "metadata": {},
     "output_type": "display_data"
    },
    {
     "name": "stdout",
     "output_type": "stream",
     "text": [
      "33805 ('Exodus', 10, 1)\n"
     ]
    },
    {
     "data": {
      "text/html": [
       "\n",
       "<span style=\"font-family:Times New Roman; font-size:20pt\">\n",
       "    בְּ | בְּקִרְבֹּו׃ \n",
       "</hspan>"
      ],
      "text/plain": [
       "<IPython.core.display.HTML object>"
      ]
     },
     "metadata": {},
     "output_type": "display_data"
    },
    {
     "data": {
      "text/html": [
       "\n",
       "<span style=\"font-family:Times New Roman; font-size:20pt\">\n",
       "    &nbsp;&nbsp;&nbsp;&nbsp;B.:-QIR:B.OW00 \n",
       "</hspan>"
      ],
      "text/plain": [
       "<IPython.core.display.HTML object>"
      ]
     },
     "metadata": {},
     "output_type": "display_data"
    },
    {
     "data": {
      "text/html": [
       "\n",
       "<span style=\"font-family:Times New Roman; font-size:20pt\">\n",
       "    &nbsp;&nbsp;&nbsp;&nbsp;unknown\n",
       "</hspan>"
      ],
      "text/plain": [
       "<IPython.core.display.HTML object>"
      ]
     },
     "metadata": {},
     "output_type": "display_data"
    },
    {
     "data": {
      "text/html": [
       "\n",
       "<span style=\"font-family:Times New Roman; font-size:20pt\">\n",
       "    <hr>\n",
       "</hspan>"
      ],
      "text/plain": [
       "<IPython.core.display.HTML object>"
      ]
     },
     "metadata": {},
     "output_type": "display_data"
    },
    {
     "name": "stdout",
     "output_type": "stream",
     "text": [
      "33806 ('Exodus', 10, 1)\n"
     ]
    },
    {
     "data": {
      "text/html": [
       "\n",
       "<span style=\"font-family:Times New Roman; font-size:20pt\">\n",
       "    קִרְבֹּו׃  | בְּקִרְבֹּו׃ \n",
       "</hspan>"
      ],
      "text/plain": [
       "<IPython.core.display.HTML object>"
      ]
     },
     "metadata": {},
     "output_type": "display_data"
    },
    {
     "data": {
      "text/html": [
       "\n",
       "<span style=\"font-family:Times New Roman; font-size:20pt\">\n",
       "    &nbsp;&nbsp;&nbsp;&nbsp;B.:-QIR:B.OW00 \n",
       "</hspan>"
      ],
      "text/plain": [
       "<IPython.core.display.HTML object>"
      ]
     },
     "metadata": {},
     "output_type": "display_data"
    },
    {
     "data": {
      "text/html": [
       "\n",
       "<span style=\"font-family:Times New Roman; font-size:20pt\">\n",
       "    &nbsp;&nbsp;&nbsp;&nbsp;unknown\n",
       "</hspan>"
      ],
      "text/plain": [
       "<IPython.core.display.HTML object>"
      ]
     },
     "metadata": {},
     "output_type": "display_data"
    },
    {
     "data": {
      "text/html": [
       "\n",
       "<span style=\"font-family:Times New Roman; font-size:20pt\">\n",
       "    <hr>\n",
       "</hspan>"
      ],
      "text/plain": [
       "<IPython.core.display.HTML object>"
      ]
     },
     "metadata": {},
     "output_type": "display_data"
    },
    {
     "name": "stdout",
     "output_type": "stream",
     "text": [
      "65256 ('Leviticus', 21, 18)\n"
     ]
    },
    {
     "data": {
      "text/html": [
       "\n",
       "<span style=\"font-family:Times New Roman; font-size:20pt\">\n",
       "    שָׂרֽוּעַ׃  | שָׂרֽוּעַ׃ \n",
       "</hspan>"
      ],
      "text/plain": [
       "<IPython.core.display.HTML object>"
      ]
     },
     "metadata": {},
     "output_type": "display_data"
    },
    {
     "data": {
      "text/html": [
       "\n",
       "<span style=\"font-family:Times New Roman; font-size:20pt\">\n",
       "    &nbsp;&nbsp;&nbsp;&nbsp;F@R25W.<A00 \n",
       "</hspan>"
      ],
      "text/plain": [
       "<IPython.core.display.HTML object>"
      ]
     },
     "metadata": {},
     "output_type": "display_data"
    },
    {
     "data": {
      "text/html": [
       "\n",
       "<span style=\"font-family:Times New Roman; font-size:20pt\">\n",
       "    &nbsp;&nbsp;&nbsp;&nbsp;unknown\n",
       "</hspan>"
      ],
      "text/plain": [
       "<IPython.core.display.HTML object>"
      ]
     },
     "metadata": {},
     "output_type": "display_data"
    },
    {
     "data": {
      "text/html": [
       "\n",
       "<span style=\"font-family:Times New Roman; font-size:20pt\">\n",
       "    <hr>\n",
       "</hspan>"
      ],
      "text/plain": [
       "<IPython.core.display.HTML object>"
      ]
     },
     "metadata": {},
     "output_type": "display_data"
    },
    {
     "name": "stdout",
     "output_type": "stream",
     "text": [
      "68621 ('Leviticus', 26, 28)\n"
     ]
    },
    {
     "data": {
      "text/html": [
       "\n",
       "<span style=\"font-family:Times New Roman; font-size:20pt\">\n",
       "    עַל־ | עַל־חַטֹּאתֵיכֶם׃ \n",
       "</hspan>"
      ],
      "text/plain": [
       "<IPython.core.display.HTML object>"
      ]
     },
     "metadata": {},
     "output_type": "display_data"
    },
    {
     "data": {
      "text/html": [
       "\n",
       "<span style=\"font-family:Times New Roman; font-size:20pt\">\n",
       "    &nbsp;&nbsp;&nbsp;&nbsp;<AL&XAV.O>T;JKEM00 \n",
       "</hspan>"
      ],
      "text/plain": [
       "<IPython.core.display.HTML object>"
      ]
     },
     "metadata": {},
     "output_type": "display_data"
    },
    {
     "data": {
      "text/html": [
       "\n",
       "<span style=\"font-family:Times New Roman; font-size:20pt\">\n",
       "    &nbsp;&nbsp;&nbsp;&nbsp;unknown\n",
       "</hspan>"
      ],
      "text/plain": [
       "<IPython.core.display.HTML object>"
      ]
     },
     "metadata": {},
     "output_type": "display_data"
    },
    {
     "data": {
      "text/html": [
       "\n",
       "<span style=\"font-family:Times New Roman; font-size:20pt\">\n",
       "    <hr>\n",
       "</hspan>"
      ],
      "text/plain": [
       "<IPython.core.display.HTML object>"
      ]
     },
     "metadata": {},
     "output_type": "display_data"
    },
    {
     "name": "stdout",
     "output_type": "stream",
     "text": [
      "68622 ('Leviticus', 26, 28)\n"
     ]
    },
    {
     "data": {
      "text/html": [
       "\n",
       "<span style=\"font-family:Times New Roman; font-size:20pt\">\n",
       "    חַטֹּאתֵיכֶם׃  | עַל־חַטֹּאתֵיכֶם׃ \n",
       "</hspan>"
      ],
      "text/plain": [
       "<IPython.core.display.HTML object>"
      ]
     },
     "metadata": {},
     "output_type": "display_data"
    },
    {
     "data": {
      "text/html": [
       "\n",
       "<span style=\"font-family:Times New Roman; font-size:20pt\">\n",
       "    &nbsp;&nbsp;&nbsp;&nbsp;<AL&XAV.O>T;JKEM00 \n",
       "</hspan>"
      ],
      "text/plain": [
       "<IPython.core.display.HTML object>"
      ]
     },
     "metadata": {},
     "output_type": "display_data"
    },
    {
     "data": {
      "text/html": [
       "\n",
       "<span style=\"font-family:Times New Roman; font-size:20pt\">\n",
       "    &nbsp;&nbsp;&nbsp;&nbsp;unknown\n",
       "</hspan>"
      ],
      "text/plain": [
       "<IPython.core.display.HTML object>"
      ]
     },
     "metadata": {},
     "output_type": "display_data"
    },
    {
     "data": {
      "text/html": [
       "\n",
       "<span style=\"font-family:Times New Roman; font-size:20pt\">\n",
       "    <hr>\n",
       "</hspan>"
      ],
      "text/plain": [
       "<IPython.core.display.HTML object>"
      ]
     },
     "metadata": {},
     "output_type": "display_data"
    },
    {
     "name": "stdout",
     "output_type": "stream",
     "text": [
      "77731 ('Numbers', 12, 9)\n"
     ]
    },
    {
     "data": {
      "text/html": [
       "\n",
       "<span style=\"font-family:Times New Roman; font-size:20pt\">\n",
       "    וַ | וַיִּֽחַר \n",
       "</hspan>"
      ],
      "text/plain": [
       "<IPython.core.display.HTML object>"
      ]
     },
     "metadata": {},
     "output_type": "display_data"
    },
    {
     "data": {
      "text/html": [
       "\n",
       "<span style=\"font-family:Times New Roman; font-size:20pt\">\n",
       "    &nbsp;&nbsp;&nbsp;&nbsp;WA-J.I45XAR \n",
       "</hspan>"
      ],
      "text/plain": [
       "<IPython.core.display.HTML object>"
      ]
     },
     "metadata": {},
     "output_type": "display_data"
    },
    {
     "data": {
      "text/html": [
       "\n",
       "<span style=\"font-family:Times New Roman; font-size:20pt\">\n",
       "    &nbsp;&nbsp;&nbsp;&nbsp;unknown\n",
       "</hspan>"
      ],
      "text/plain": [
       "<IPython.core.display.HTML object>"
      ]
     },
     "metadata": {},
     "output_type": "display_data"
    },
    {
     "data": {
      "text/html": [
       "\n",
       "<span style=\"font-family:Times New Roman; font-size:20pt\">\n",
       "    <hr>\n",
       "</hspan>"
      ],
      "text/plain": [
       "<IPython.core.display.HTML object>"
      ]
     },
     "metadata": {},
     "output_type": "display_data"
    },
    {
     "name": "stdout",
     "output_type": "stream",
     "text": [
      "77732 ('Numbers', 12, 9)\n"
     ]
    },
    {
     "data": {
      "text/html": [
       "\n",
       "<span style=\"font-family:Times New Roman; font-size:20pt\">\n",
       "    יִּֽחַר  | וַיִּֽחַר \n",
       "</hspan>"
      ],
      "text/plain": [
       "<IPython.core.display.HTML object>"
      ]
     },
     "metadata": {},
     "output_type": "display_data"
    },
    {
     "data": {
      "text/html": [
       "\n",
       "<span style=\"font-family:Times New Roman; font-size:20pt\">\n",
       "    &nbsp;&nbsp;&nbsp;&nbsp;WA-J.I45XAR \n",
       "</hspan>"
      ],
      "text/plain": [
       "<IPython.core.display.HTML object>"
      ]
     },
     "metadata": {},
     "output_type": "display_data"
    },
    {
     "data": {
      "text/html": [
       "\n",
       "<span style=\"font-family:Times New Roman; font-size:20pt\">\n",
       "    &nbsp;&nbsp;&nbsp;&nbsp;unknown\n",
       "</hspan>"
      ],
      "text/plain": [
       "<IPython.core.display.HTML object>"
      ]
     },
     "metadata": {},
     "output_type": "display_data"
    },
    {
     "data": {
      "text/html": [
       "\n",
       "<span style=\"font-family:Times New Roman; font-size:20pt\">\n",
       "    <hr>\n",
       "</hspan>"
      ],
      "text/plain": [
       "<IPython.core.display.HTML object>"
      ]
     },
     "metadata": {},
     "output_type": "display_data"
    },
    {
     "name": "stdout",
     "output_type": "stream",
     "text": [
      "87066 ('Numbers', 27, 9)\n"
     ]
    },
    {
     "data": {
      "text/html": [
       "\n",
       "<span style=\"font-family:Times New Roman; font-size:20pt\">\n",
       "    לְ | לְאֶחָיו׃ \n",
       "</hspan>"
      ],
      "text/plain": [
       "<IPython.core.display.HTML object>"
      ]
     },
     "metadata": {},
     "output_type": "display_data"
    },
    {
     "data": {
      "text/html": [
       "\n",
       "<span style=\"font-family:Times New Roman; font-size:20pt\">\n",
       "    &nbsp;&nbsp;&nbsp;&nbsp;L:->EX@JW00 \n",
       "</hspan>"
      ],
      "text/plain": [
       "<IPython.core.display.HTML object>"
      ]
     },
     "metadata": {},
     "output_type": "display_data"
    },
    {
     "data": {
      "text/html": [
       "\n",
       "<span style=\"font-family:Times New Roman; font-size:20pt\">\n",
       "    &nbsp;&nbsp;&nbsp;&nbsp;unknown\n",
       "</hspan>"
      ],
      "text/plain": [
       "<IPython.core.display.HTML object>"
      ]
     },
     "metadata": {},
     "output_type": "display_data"
    },
    {
     "data": {
      "text/html": [
       "\n",
       "<span style=\"font-family:Times New Roman; font-size:20pt\">\n",
       "    <hr>\n",
       "</hspan>"
      ],
      "text/plain": [
       "<IPython.core.display.HTML object>"
      ]
     },
     "metadata": {},
     "output_type": "display_data"
    },
    {
     "name": "stdout",
     "output_type": "stream",
     "text": [
      "87067 ('Numbers', 27, 9)\n"
     ]
    },
    {
     "data": {
      "text/html": [
       "\n",
       "<span style=\"font-family:Times New Roman; font-size:20pt\">\n",
       "    אֶחָיו׃  | לְאֶחָיו׃ \n",
       "</hspan>"
      ],
      "text/plain": [
       "<IPython.core.display.HTML object>"
      ]
     },
     "metadata": {},
     "output_type": "display_data"
    },
    {
     "data": {
      "text/html": [
       "\n",
       "<span style=\"font-family:Times New Roman; font-size:20pt\">\n",
       "    &nbsp;&nbsp;&nbsp;&nbsp;L:->EX@JW00 \n",
       "</hspan>"
      ],
      "text/plain": [
       "<IPython.core.display.HTML object>"
      ]
     },
     "metadata": {},
     "output_type": "display_data"
    },
    {
     "data": {
      "text/html": [
       "\n",
       "<span style=\"font-family:Times New Roman; font-size:20pt\">\n",
       "    &nbsp;&nbsp;&nbsp;&nbsp;unknown\n",
       "</hspan>"
      ],
      "text/plain": [
       "<IPython.core.display.HTML object>"
      ]
     },
     "metadata": {},
     "output_type": "display_data"
    },
    {
     "data": {
      "text/html": [
       "\n",
       "<span style=\"font-family:Times New Roman; font-size:20pt\">\n",
       "    <hr>\n",
       "</hspan>"
      ],
      "text/plain": [
       "<IPython.core.display.HTML object>"
      ]
     },
     "metadata": {},
     "output_type": "display_data"
    },
    {
     "name": "stdout",
     "output_type": "stream",
     "text": [
      "96253 ('Deuteronomy', 4, 46)\n"
     ]
    },
    {
     "data": {
      "text/html": [
       "\n",
       "<span style=\"font-family:Times New Roman; font-size:20pt\">\n",
       "    וּ | וּבְנֵֽי \n",
       "</hspan>"
      ],
      "text/plain": [
       "<IPython.core.display.HTML object>"
      ]
     },
     "metadata": {},
     "output_type": "display_data"
    },
    {
     "data": {
      "text/html": [
       "\n",
       "<span style=\"font-family:Times New Roman; font-size:20pt\">\n",
       "    &nbsp;&nbsp;&nbsp;&nbsp;W.-B:N;45J \n",
       "</hspan>"
      ],
      "text/plain": [
       "<IPython.core.display.HTML object>"
      ]
     },
     "metadata": {},
     "output_type": "display_data"
    },
    {
     "data": {
      "text/html": [
       "\n",
       "<span style=\"font-family:Times New Roman; font-size:20pt\">\n",
       "    &nbsp;&nbsp;&nbsp;&nbsp;unknown\n",
       "</hspan>"
      ],
      "text/plain": [
       "<IPython.core.display.HTML object>"
      ]
     },
     "metadata": {},
     "output_type": "display_data"
    },
    {
     "data": {
      "text/html": [
       "\n",
       "<span style=\"font-family:Times New Roman; font-size:20pt\">\n",
       "    <hr>\n",
       "</hspan>"
      ],
      "text/plain": [
       "<IPython.core.display.HTML object>"
      ]
     },
     "metadata": {},
     "output_type": "display_data"
    },
    {
     "name": "stdout",
     "output_type": "stream",
     "text": [
      "96254 ('Deuteronomy', 4, 46)\n"
     ]
    },
    {
     "data": {
      "text/html": [
       "\n",
       "<span style=\"font-family:Times New Roman; font-size:20pt\">\n",
       "    בְנֵֽי  | וּבְנֵֽי \n",
       "</hspan>"
      ],
      "text/plain": [
       "<IPython.core.display.HTML object>"
      ]
     },
     "metadata": {},
     "output_type": "display_data"
    },
    {
     "data": {
      "text/html": [
       "\n",
       "<span style=\"font-family:Times New Roman; font-size:20pt\">\n",
       "    &nbsp;&nbsp;&nbsp;&nbsp;W.-B:N;45J \n",
       "</hspan>"
      ],
      "text/plain": [
       "<IPython.core.display.HTML object>"
      ]
     },
     "metadata": {},
     "output_type": "display_data"
    },
    {
     "data": {
      "text/html": [
       "\n",
       "<span style=\"font-family:Times New Roman; font-size:20pt\">\n",
       "    &nbsp;&nbsp;&nbsp;&nbsp;unknown\n",
       "</hspan>"
      ],
      "text/plain": [
       "<IPython.core.display.HTML object>"
      ]
     },
     "metadata": {},
     "output_type": "display_data"
    },
    {
     "data": {
      "text/html": [
       "\n",
       "<span style=\"font-family:Times New Roman; font-size:20pt\">\n",
       "    <hr>\n",
       "</hspan>"
      ],
      "text/plain": [
       "<IPython.core.display.HTML object>"
      ]
     },
     "metadata": {},
     "output_type": "display_data"
    },
    {
     "name": "stdout",
     "output_type": "stream",
     "text": [
      "99272 ('Deuteronomy', 10, 7)\n"
     ]
    },
    {
     "data": {
      "text/html": [
       "\n",
       "<span style=\"font-family:Times New Roman; font-size:20pt\">\n",
       "    נַֽחֲלֵי  | נַֽחֲלֵי \n",
       "</hspan>"
      ],
      "text/plain": [
       "<IPython.core.display.HTML object>"
      ]
     },
     "metadata": {},
     "output_type": "display_data"
    },
    {
     "data": {
      "text/html": [
       "\n",
       "<span style=\"font-family:Times New Roman; font-size:20pt\">\n",
       "    &nbsp;&nbsp;&nbsp;&nbsp;NA45X:AL;J \n",
       "</hspan>"
      ],
      "text/plain": [
       "<IPython.core.display.HTML object>"
      ]
     },
     "metadata": {},
     "output_type": "display_data"
    },
    {
     "data": {
      "text/html": [
       "\n",
       "<span style=\"font-family:Times New Roman; font-size:20pt\">\n",
       "    &nbsp;&nbsp;&nbsp;&nbsp;unknown\n",
       "</hspan>"
      ],
      "text/plain": [
       "<IPython.core.display.HTML object>"
      ]
     },
     "metadata": {},
     "output_type": "display_data"
    },
    {
     "data": {
      "text/html": [
       "\n",
       "<span style=\"font-family:Times New Roman; font-size:20pt\">\n",
       "    <hr>\n",
       "</hspan>"
      ],
      "text/plain": [
       "<IPython.core.display.HTML object>"
      ]
     },
     "metadata": {},
     "output_type": "display_data"
    },
    {
     "name": "stdout",
     "output_type": "stream",
     "text": [
      "100363 ('Deuteronomy', 12, 2)\n"
     ]
    },
    {
     "data": {
      "text/html": [
       "\n",
       "<span style=\"font-family:Times New Roman; font-size:20pt\">\n",
       "    רַעֲנָן׃  | רַעֲנָן׃ \n",
       "</hspan>"
      ],
      "text/plain": [
       "<IPython.core.display.HTML object>"
      ]
     },
     "metadata": {},
     "output_type": "display_data"
    },
    {
     "data": {
      "text/html": [
       "\n",
       "<span style=\"font-family:Times New Roman; font-size:20pt\">\n",
       "    &nbsp;&nbsp;&nbsp;&nbsp;RA<:AN@N00 \n",
       "</hspan>"
      ],
      "text/plain": [
       "<IPython.core.display.HTML object>"
      ]
     },
     "metadata": {},
     "output_type": "display_data"
    },
    {
     "data": {
      "text/html": [
       "\n",
       "<span style=\"font-family:Times New Roman; font-size:20pt\">\n",
       "    &nbsp;&nbsp;&nbsp;&nbsp;unknown\n",
       "</hspan>"
      ],
      "text/plain": [
       "<IPython.core.display.HTML object>"
      ]
     },
     "metadata": {},
     "output_type": "display_data"
    },
    {
     "data": {
      "text/html": [
       "\n",
       "<span style=\"font-family:Times New Roman; font-size:20pt\">\n",
       "    <hr>\n",
       "</hspan>"
      ],
      "text/plain": [
       "<IPython.core.display.HTML object>"
      ]
     },
     "metadata": {},
     "output_type": "display_data"
    },
    {
     "name": "stdout",
     "output_type": "stream",
     "text": [
      "106199 ('Deuteronomy', 23, 18)\n"
     ]
    },
    {
     "data": {
      "text/html": [
       "\n",
       "<span style=\"font-family:Times New Roman; font-size:20pt\">\n",
       "    יִשְׂרָאֵל׃  | יִשְׂרָאֵל׃ \n",
       "</hspan>"
      ],
      "text/plain": [
       "<IPython.core.display.HTML object>"
      ]
     },
     "metadata": {},
     "output_type": "display_data"
    },
    {
     "data": {
      "text/html": [
       "\n",
       "<span style=\"font-family:Times New Roman; font-size:20pt\">\n",
       "    &nbsp;&nbsp;&nbsp;&nbsp;JIF:R@>;L00 \n",
       "</hspan>"
      ],
      "text/plain": [
       "<IPython.core.display.HTML object>"
      ]
     },
     "metadata": {},
     "output_type": "display_data"
    },
    {
     "data": {
      "text/html": [
       "\n",
       "<span style=\"font-family:Times New Roman; font-size:20pt\">\n",
       "    &nbsp;&nbsp;&nbsp;&nbsp;unknown\n",
       "</hspan>"
      ],
      "text/plain": [
       "<IPython.core.display.HTML object>"
      ]
     },
     "metadata": {},
     "output_type": "display_data"
    },
    {
     "data": {
      "text/html": [
       "\n",
       "<span style=\"font-family:Times New Roman; font-size:20pt\">\n",
       "    <hr>\n",
       "</hspan>"
      ],
      "text/plain": [
       "<IPython.core.display.HTML object>"
      ]
     },
     "metadata": {},
     "output_type": "display_data"
    },
    {
     "name": "stdout",
     "output_type": "stream",
     "text": [
      "106556 ('Deuteronomy', 24, 10)\n"
     ]
    },
    {
     "data": {
      "text/html": [
       "\n",
       "<span style=\"font-family:Times New Roman; font-size:20pt\">\n",
       "    בְ | בְרֵֽעֲךָ \n",
       "</hspan>"
      ],
      "text/plain": [
       "<IPython.core.display.HTML object>"
      ]
     },
     "metadata": {},
     "output_type": "display_data"
    },
    {
     "data": {
      "text/html": [
       "\n",
       "<span style=\"font-family:Times New Roman; font-size:20pt\">\n",
       "    &nbsp;&nbsp;&nbsp;&nbsp;B:-R;45<:AK@ \n",
       "</hspan>"
      ],
      "text/plain": [
       "<IPython.core.display.HTML object>"
      ]
     },
     "metadata": {},
     "output_type": "display_data"
    },
    {
     "data": {
      "text/html": [
       "\n",
       "<span style=\"font-family:Times New Roman; font-size:20pt\">\n",
       "    &nbsp;&nbsp;&nbsp;&nbsp;unknown\n",
       "</hspan>"
      ],
      "text/plain": [
       "<IPython.core.display.HTML object>"
      ]
     },
     "metadata": {},
     "output_type": "display_data"
    },
    {
     "data": {
      "text/html": [
       "\n",
       "<span style=\"font-family:Times New Roman; font-size:20pt\">\n",
       "    <hr>\n",
       "</hspan>"
      ],
      "text/plain": [
       "<IPython.core.display.HTML object>"
      ]
     },
     "metadata": {},
     "output_type": "display_data"
    },
    {
     "name": "stdout",
     "output_type": "stream",
     "text": [
      "106557 ('Deuteronomy', 24, 10)\n"
     ]
    },
    {
     "data": {
      "text/html": [
       "\n",
       "<span style=\"font-family:Times New Roman; font-size:20pt\">\n",
       "    רֵֽעֲךָ  | בְרֵֽעֲךָ \n",
       "</hspan>"
      ],
      "text/plain": [
       "<IPython.core.display.HTML object>"
      ]
     },
     "metadata": {},
     "output_type": "display_data"
    },
    {
     "data": {
      "text/html": [
       "\n",
       "<span style=\"font-family:Times New Roman; font-size:20pt\">\n",
       "    &nbsp;&nbsp;&nbsp;&nbsp;B:-R;45<:AK@ \n",
       "</hspan>"
      ],
      "text/plain": [
       "<IPython.core.display.HTML object>"
      ]
     },
     "metadata": {},
     "output_type": "display_data"
    },
    {
     "data": {
      "text/html": [
       "\n",
       "<span style=\"font-family:Times New Roman; font-size:20pt\">\n",
       "    &nbsp;&nbsp;&nbsp;&nbsp;unknown\n",
       "</hspan>"
      ],
      "text/plain": [
       "<IPython.core.display.HTML object>"
      ]
     },
     "metadata": {},
     "output_type": "display_data"
    },
    {
     "data": {
      "text/html": [
       "\n",
       "<span style=\"font-family:Times New Roman; font-size:20pt\">\n",
       "    <hr>\n",
       "</hspan>"
      ],
      "text/plain": [
       "<IPython.core.display.HTML object>"
      ]
     },
     "metadata": {},
     "output_type": "display_data"
    },
    {
     "name": "stdout",
     "output_type": "stream",
     "text": [
      "112656 ('Deuteronomy', 33, 28)\n"
     ]
    },
    {
     "data": {
      "text/html": [
       "\n",
       "<span style=\"font-family:Times New Roman; font-size:20pt\">\n",
       "    יַֽעַרְפוּ  | יַֽעַרְפוּ \n",
       "</hspan>"
      ],
      "text/plain": [
       "<IPython.core.display.HTML object>"
      ]
     },
     "metadata": {},
     "output_type": "display_data"
    },
    {
     "data": {
      "text/html": [
       "\n",
       "<span style=\"font-family:Times New Roman; font-size:20pt\">\n",
       "    &nbsp;&nbsp;&nbsp;&nbsp;JA45<AR:PW. \n",
       "</hspan>"
      ],
      "text/plain": [
       "<IPython.core.display.HTML object>"
      ]
     },
     "metadata": {},
     "output_type": "display_data"
    },
    {
     "data": {
      "text/html": [
       "\n",
       "<span style=\"font-family:Times New Roman; font-size:20pt\">\n",
       "    &nbsp;&nbsp;&nbsp;&nbsp;unknown\n",
       "</hspan>"
      ],
      "text/plain": [
       "<IPython.core.display.HTML object>"
      ]
     },
     "metadata": {},
     "output_type": "display_data"
    },
    {
     "data": {
      "text/html": [
       "\n",
       "<span style=\"font-family:Times New Roman; font-size:20pt\">\n",
       "    <hr>\n",
       "</hspan>"
      ],
      "text/plain": [
       "<IPython.core.display.HTML object>"
      ]
     },
     "metadata": {},
     "output_type": "display_data"
    },
    {
     "name": "stdout",
     "output_type": "stream",
     "text": [
      "130445 ('Judges', 6, 2)\n"
     ]
    },
    {
     "data": {
      "text/html": [
       "\n",
       "<span style=\"font-family:Times New Roman; font-size:20pt\">\n",
       "    עָשֽׂוּ  | עָשֽׂוּ \n",
       "</hspan>"
      ],
      "text/plain": [
       "<IPython.core.display.HTML object>"
      ]
     },
     "metadata": {},
     "output_type": "display_data"
    },
    {
     "data": {
      "text/html": [
       "\n",
       "<span style=\"font-family:Times New Roman; font-size:20pt\">\n",
       "    &nbsp;&nbsp;&nbsp;&nbsp;<@F45W. \n",
       "</hspan>"
      ],
      "text/plain": [
       "<IPython.core.display.HTML object>"
      ]
     },
     "metadata": {},
     "output_type": "display_data"
    },
    {
     "data": {
      "text/html": [
       "\n",
       "<span style=\"font-family:Times New Roman; font-size:20pt\">\n",
       "    &nbsp;&nbsp;&nbsp;&nbsp;unknown\n",
       "</hspan>"
      ],
      "text/plain": [
       "<IPython.core.display.HTML object>"
      ]
     },
     "metadata": {},
     "output_type": "display_data"
    },
    {
     "data": {
      "text/html": [
       "\n",
       "<span style=\"font-family:Times New Roman; font-size:20pt\">\n",
       "    <hr>\n",
       "</hspan>"
      ],
      "text/plain": [
       "<IPython.core.display.HTML object>"
      ]
     },
     "metadata": {},
     "output_type": "display_data"
    },
    {
     "name": "stdout",
     "output_type": "stream",
     "text": [
      "137795 ('Judges', 16, 25)\n"
     ]
    },
    {
     "data": {
      "text/html": [
       "\n",
       "<span style=\"font-family:Times New Roman; font-size:20pt\">\n",
       "    כְּ | כְּ\n",
       "</hspan>"
      ],
      "text/plain": [
       "<IPython.core.display.HTML object>"
      ]
     },
     "metadata": {},
     "output_type": "display_data"
    },
    {
     "data": {
      "text/html": [
       "\n",
       "<span style=\"font-family:Times New Roman; font-size:20pt\">\n",
       "    &nbsp;&nbsp;&nbsp;&nbsp;K.:\n",
       "</hspan>"
      ],
      "text/plain": [
       "<IPython.core.display.HTML object>"
      ]
     },
     "metadata": {},
     "output_type": "display_data"
    },
    {
     "data": {
      "text/html": [
       "\n",
       "<span style=\"font-family:Times New Roman; font-size:20pt\">\n",
       "    &nbsp;&nbsp;&nbsp;&nbsp;unknown\n",
       "</hspan>"
      ],
      "text/plain": [
       "<IPython.core.display.HTML object>"
      ]
     },
     "metadata": {},
     "output_type": "display_data"
    },
    {
     "data": {
      "text/html": [
       "\n",
       "<span style=\"font-family:Times New Roman; font-size:20pt\">\n",
       "    <hr>\n",
       "</hspan>"
      ],
      "text/plain": [
       "<IPython.core.display.HTML object>"
      ]
     },
     "metadata": {},
     "output_type": "display_data"
    }
   ],
   "source": [
    "show_accents(atype2set['unknown'][:25])"
   ]
  },
  {
   "cell_type": "markdown",
   "metadata": {},
   "source": [
    "### accent match types"
   ]
  },
  {
   "cell_type": "code",
   "execution_count": 12,
   "metadata": {},
   "outputs": [
    {
     "data": {
      "text/plain": [
       "[(('tiphchah',), 62516),\n",
       " (('munach',), 59426),\n",
       " (('mereka',), 53378),\n",
       " (('zaqeph qaton',), 41739),\n",
       " (('silluq',), 36480),\n",
       " (('atnach',), 34553),\n",
       " (('pashta',), 34346),\n",
       " (('mehuppak',), 19466),\n",
       " (('rebia',), 16542),\n",
       " (('tebir',), 12439),\n",
       " (('azla/qadma',), 11390),\n",
       " (('geresh',), 6566),\n",
       " (('darga',), 5228),\n",
       " (('rebia', 'rebia mugrash'), 4837),\n",
       " (('dechi',), 3829),\n",
       " (('gershayim',), 3273),\n",
       " (('telisha qetannah',), 3036),\n",
       " (('zaqeph gadol',), 3002),\n",
       " (('paseq',), 2650),\n",
       " (('telisha gedola',), 2108),\n",
       " (('zarqa',), 1698),\n",
       " (('segolta',), 1596),\n",
       " (('pazer qaton',), 1528),\n",
       " (('yetiv',), 1169),\n",
       " (('oleh weyored',), 550),\n",
       " (('paseq', 'azla legarmeh'), 443),\n",
       " (('yerah',), 364),\n",
       " (('paseq', 'mehuppak legarmeh'), 354),\n",
       " (('illuy',), 257),\n",
       " (('tsinor',), 227),\n",
       " (('pazer',), 133),\n",
       " (('paseq', 'shalshelet gedolah'), 51),\n",
       " (('qarney parah',), 31),\n",
       " (('mehuppak', 'azla/qadma'), 19),\n",
       " (('atnach', 'tiphchah'), 18),\n",
       " (('silluq', 'tiphchah'), 18),\n",
       " (('munach', 'mereka'), 18),\n",
       " (('paseq', 'mehuppak legarmeh', 'azla legarmeh'), 17),\n",
       " (('mereka', 'azla/qadma'), 16),\n",
       " (('paseq', 'shalshelet'), 15),\n",
       " (('merekah kefula',), 14),\n",
       " (('silluq', 'rebia'), 13),\n",
       " (('paseq', 'pashta'), 11),\n",
       " (('mereka', 'mehuppak'), 11),\n",
       " (('munach', 'mehuppak'), 10),\n",
       " (('atnach', 'silluq'), 9),\n",
       " (('zaqeph qaton', 'pazer qaton'), 9),\n",
       " (('paseq', 'tiphchah'), 9),\n",
       " (('pashta', 'tiphchah'), 8),\n",
       " (('atnach', 'zaqeph qaton'), 7),\n",
       " (('zaqeph qaton', 'pashta'), 7),\n",
       " (('atnach', 'geresh'), 6),\n",
       " (('rebia', 'telisha gedola'), 6),\n",
       " (('paseq', 'tsinor'), 6),\n",
       " (('mereka', 'telisha qetannah'), 6),\n",
       " (('mehuppak', 'mereka'), 6),\n",
       " (('darga', 'azla/qadma'), 6),\n",
       " (('atnach', 'pashta'), 5),\n",
       " (('rebia', 'dechi'), 5),\n",
       " (('zaqeph qaton', 'tiphchah'), 5),\n",
       " (('paseq', 'zaqeph qaton'), 4),\n",
       " (('yetiv', 'tebir'), 4),\n",
       " (('geresh', 'tiphchah'), 4),\n",
       " (('silluq', 'segolta', 'yetiv'), 4),\n",
       " (('zaqeph qaton', 'geresh'), 4),\n",
       " (('silluq', 'zaqeph qaton'), 4),\n",
       " (('geresh', 'telisha gedola'), 4),\n",
       " (('paseq', 'atnach'), 4),\n",
       " (('munach', 'telisha qetannah'), 4),\n",
       " (('gershayim', 'telisha gedola'), 3),\n",
       " (('zaqeph qaton', 'rebia'), 3),\n",
       " (('zaqeph gadol', 'tiphchah'), 3),\n",
       " (('rebia', 'tsinor'), 3),\n",
       " (('zaqeph gadol', 'pashta'), 2),\n",
       " (('zarqa', 'tiphchah'), 2),\n",
       " (('atnach', 'segolta'), 2),\n",
       " (('zaqeph qaton', 'zarqa'), 2),\n",
       " (('atnach', 'rebia'), 2),\n",
       " (('geresh', 'pazer qaton'), 2),\n",
       " (('pashta', 'yetiv', 'geresh'), 2),\n",
       " (('rebia', 'gershayim'), 2),\n",
       " (('yetiv', 'geresh'), 2),\n",
       " (('munach', 'mereka', 'azla/qadma'), 2),\n",
       " (('munach', 'azla/qadma'), 2),\n",
       " (('munach', 'mehuppak', 'mereka'), 2),\n",
       " (('azla/qadma', 'telisha qetannah'), 2),\n",
       " (('darga', 'telisha qetannah'), 2),\n",
       " (('yerah', 'mehuppak'), 2),\n",
       " (('munach', 'darga'), 2),\n",
       " (('zaqeph qaton', 'yetiv'), 1),\n",
       " (('paseq', 'pazer'), 1)]"
      ]
     },
     "execution_count": 12,
     "metadata": {},
     "output_type": "execute_result"
    }
   ],
   "source": [
    "mtypes = collections.Counter()\n",
    "\n",
    "for kind, matches in atype2name2set.items():\n",
    "    for match, wset in matches.items():\n",
    "        mtypes[match] += len(wset)\n",
    "        \n",
    "mtypes.most_common()"
   ]
  },
  {
   "cell_type": "code",
   "execution_count": 11,
   "metadata": {},
   "outputs": [],
   "source": [
    "# A.show(atype2name2set['disjunct'][('paseq', 'mehuppak legarmeh', 'azla legarmeh')], withNodes=True, end=10)"
   ]
  },
  {
   "cell_type": "markdown",
   "metadata": {},
   "source": [
    "### Conjunction Pairs"
   ]
  },
  {
   "cell_type": "code",
   "execution_count": 13,
   "metadata": {},
   "outputs": [],
   "source": [
    "conjpairs = wsets.conjs.pairs\n",
    "cpairresults = wsets.conjs.pairresults"
   ]
  },
  {
   "cell_type": "markdown",
   "metadata": {},
   "source": [
    "#### Random Inspections"
   ]
  },
  {
   "cell_type": "code",
   "execution_count": 17,
   "metadata": {},
   "outputs": [
    {
     "data": {
      "text/plain": [
       "{'<BD/',\n",
       " '<JR/',\n",
       " '<M/',\n",
       " '<MLQ/',\n",
       " '<YWM/',\n",
       " '>BJH/',\n",
       " '>CH/',\n",
       " '>GP/',\n",
       " '>LHJM/',\n",
       " '>NJ',\n",
       " '>RY/',\n",
       " '>T',\n",
       " '>TH',\n",
       " '>X/',\n",
       " 'B<D/',\n",
       " 'BJN/',\n",
       " 'BJT/',\n",
       " 'BN/',\n",
       " 'C<R/',\n",
       " 'CM/',\n",
       " 'FR/',\n",
       " 'HW>',\n",
       " 'JHWCPV/',\n",
       " 'JHWH/',\n",
       " 'JRWCLM/',\n",
       " 'KHN/',\n",
       " 'KL/',\n",
       " 'KMR/',\n",
       " 'LWJ/',\n",
       " 'M<WN/',\n",
       " 'MC>RT/',\n",
       " 'MDJNH/',\n",
       " 'MLK/',\n",
       " 'MMLKH/',\n",
       " 'MNCH/',\n",
       " 'MSKH=/',\n",
       " 'MWLDT/',\n",
       " 'NBJ>/',\n",
       " 'NGD/',\n",
       " 'NTJN/',\n",
       " 'NXLH/',\n",
       " 'PRC/',\n",
       " 'QHL/',\n",
       " 'RKB/',\n",
       " 'SGN/',\n",
       " 'SWS/',\n",
       " 'THLH/',\n",
       " 'TNWR/',\n",
       " 'TP>RT/',\n",
       " 'XR=/',\n",
       " 'XSJD/',\n",
       " 'XWMH/',\n",
       " 'Y>N/'}"
      ]
     },
     "execution_count": 17,
     "metadata": {},
     "output_type": "execute_result"
    }
   ],
   "source": [
    "conjpairs['<M/']"
   ]
  },
  {
   "cell_type": "code",
   "execution_count": 19,
   "metadata": {},
   "outputs": [
    {
     "data": {
      "text/html": [
       "<p><b>result</b> <i>1</i></p>"
      ],
      "text/plain": [
       "<IPython.core.display.HTML object>"
      ]
     },
     "metadata": {},
     "output_type": "display_data"
    },
    {
     "data": {
      "text/html": [
       "<div class=\"verse  \" >\n",
       "\n",
       "    <div class=\"vl\">\n",
       "        <div class=\"vrs\"><a href=\"https://shebanq.ancient-data.org/hebrew/text?book=Samuel_I&amp;chapter=15&amp;verse=30&amp;version=c&amp;mr=m&amp;qw=q&amp;tp=txt_p&amp;tr=hb&amp;wget=v&amp;qget=v&amp;nget=vt\" title=\"show this passage in SHEBANQ\" sec=\"1_Samuel 15:30\">1_Samuel 15:30</a></div>\n",
       "        <a href=\"#\" class=\"nd\">1421860</a>\n",
       "    </div>\n",
       "\n",
       "<div class=\"satom  \" >\n",
       "\n",
       "    <div class=\"sentence \" >\n",
       "        <a href=\"https://shebanq.ancient-data.org/hebrew/text?book=Samuel_I&amp;chapter=15&amp;verse=30&amp;version=c&amp;mr=m&amp;qw=q&amp;tp=txt_p&amp;tr=hb&amp;wget=v&amp;qget=v&amp;nget=vt\" title=\"1_Samuel 15:30\" sec=\"1_Samuel 15:30\">sentence</a> <a href=\"#\" class=\"nd\">1192668</a>  <span class=\"number\">107|1425</span>\n",
       "    </div>\n",
       "    <div class=\"atoms\">\n",
       "\n",
       "<div class=\"catom  \" >\n",
       "\n",
       "    <div class=\"clause \" >\n",
       "        <a href=\"https://shebanq.ancient-data.org/hebrew/text?book=Samuel_I&amp;chapter=15&amp;verse=30&amp;version=c&amp;mr=m&amp;qw=q&amp;tp=txt_p&amp;tr=hb&amp;wget=v&amp;qget=v&amp;nget=vt\" title=\"1_Samuel 15:30\" sec=\"1_Samuel 15:30\">clause</a> <a href=\"#\" class=\"nd\">455758</a>  <span class=\"typ\">Way0</span>\n",
       "    </div>\n",
       "    <div class=\"atoms\">\n",
       "\n",
       "<div class=\"patom  \" >\n",
       "\n",
       "    <div class=\"phrase \" >\n",
       "        <a href=\"https://shebanq.ancient-data.org/hebrew/text?book=Samuel_I&amp;chapter=15&amp;verse=30&amp;version=c&amp;mr=m&amp;qw=q&amp;tp=txt_p&amp;tr=hb&amp;wget=v&amp;qget=v&amp;nget=vt\" title=\"1_Samuel 15:30\" sec=\"1_Samuel 15:30\">phrase</a> <a href=\"#\" class=\"nd\">737096</a>  <span class=\"function\">Conj</span> <span class=\"typ\">CP</span>\n",
       "    </div>\n",
       "    <div class=\"atoms\">\n",
       "\n",
       "<div class=\"word  \" >\n",
       "<a href=\"#\" class=\"nd\">150154</a>\n",
       "<div class=\"h\"><a target=\"_blank\" href=\"https://shebanq.ancient-data.org/hebrew/word?version=c&amp;id=1W\" title=\"show this lexeme in SHEBANQ\">וַ</a></div>\n",
       "<div class=\"features\"> <span class=\"pdp\"><a href=\"https://shebanq.ancient-data.org/hebrew/text?book=Samuel_I&amp;chapter=15&amp;verse=30&amp;version=c&amp;mr=m&amp;qw=q&amp;tp=txt_p&amp;tr=hb&amp;wget=v&amp;qget=v&amp;nget=vt\" title=\"1_Samuel 15:30\" sec=\"1_Samuel 15:30\">conj</a></span> <span class=\"gloss\">and</span></div>\n",
       "\n",
       "\n",
       "</div>\n",
       "\n",
       "\n",
       "    </div>\n",
       "\n",
       "\n",
       "</div>\n",
       "\n",
       "<div class=\"patom  \" >\n",
       "\n",
       "    <div class=\"phrase \" >\n",
       "        <a href=\"https://shebanq.ancient-data.org/hebrew/text?book=Samuel_I&amp;chapter=15&amp;verse=30&amp;version=c&amp;mr=m&amp;qw=q&amp;tp=txt_p&amp;tr=hb&amp;wget=v&amp;qget=v&amp;nget=vt\" title=\"1_Samuel 15:30\" sec=\"1_Samuel 15:30\">phrase</a> <a href=\"#\" class=\"nd\">737097</a>  <span class=\"function\">Pred</span> <span class=\"typ\">VP</span>\n",
       "    </div>\n",
       "    <div class=\"atoms\">\n",
       "\n",
       "<div class=\"word  \" >\n",
       "<a href=\"#\" class=\"nd\">150155</a>\n",
       "<div class=\"h\"><a target=\"_blank\" href=\"https://shebanq.ancient-data.org/hebrew/word?version=c&amp;id=1AMRv\" title=\"show this lexeme in SHEBANQ\">יֹּ֣אמֶר </a></div>\n",
       "<div class=\"features\"> <span class=\"pdp\"><a href=\"https://shebanq.ancient-data.org/hebrew/text?book=Samuel_I&amp;chapter=15&amp;verse=30&amp;version=c&amp;mr=m&amp;qw=q&amp;tp=txt_p&amp;tr=hb&amp;wget=v&amp;qget=v&amp;nget=vt\" title=\"1_Samuel 15:30\" sec=\"1_Samuel 15:30\">verb</a></span> <span class=\"gloss\">say</span> <span class=\"vs\">qal</span> <span class=\"vt\">wayq</span></div>\n",
       "\n",
       "\n",
       "</div>\n",
       "\n",
       "\n",
       "    </div>\n",
       "\n",
       "\n",
       "</div>\n",
       "\n",
       "\n",
       "    </div>\n",
       "\n",
       "\n",
       "</div>\n",
       "\n",
       "\n",
       "    </div>\n",
       "\n",
       "\n",
       "</div>\n",
       "\n",
       "<div class=\"satom  \" >\n",
       "\n",
       "    <div class=\"sentence \" >\n",
       "        <a href=\"https://shebanq.ancient-data.org/hebrew/text?book=Samuel_I&amp;chapter=15&amp;verse=30&amp;version=c&amp;mr=m&amp;qw=q&amp;tp=txt_p&amp;tr=hb&amp;wget=v&amp;qget=v&amp;nget=vt\" title=\"1_Samuel 15:30\" sec=\"1_Samuel 15:30\">sentence</a> <a href=\"#\" class=\"nd\">1192669</a>  <span class=\"number\">108|1426</span>\n",
       "    </div>\n",
       "    <div class=\"atoms\">\n",
       "\n",
       "<div class=\"catom  \" >\n",
       "\n",
       "    <div class=\"clause \" >\n",
       "        <a href=\"https://shebanq.ancient-data.org/hebrew/text?book=Samuel_I&amp;chapter=15&amp;verse=30&amp;version=c&amp;mr=m&amp;qw=q&amp;tp=txt_p&amp;tr=hb&amp;wget=v&amp;qget=v&amp;nget=vt\" title=\"1_Samuel 15:30\" sec=\"1_Samuel 15:30\">clause</a> <a href=\"#\" class=\"nd\">455759</a>  <span class=\"typ\">ZQt0</span>\n",
       "    </div>\n",
       "    <div class=\"atoms\">\n",
       "\n",
       "<div class=\"patom  \" >\n",
       "\n",
       "    <div class=\"phrase \" >\n",
       "        <a href=\"https://shebanq.ancient-data.org/hebrew/text?book=Samuel_I&amp;chapter=15&amp;verse=30&amp;version=c&amp;mr=m&amp;qw=q&amp;tp=txt_p&amp;tr=hb&amp;wget=v&amp;qget=v&amp;nget=vt\" title=\"1_Samuel 15:30\" sec=\"1_Samuel 15:30\">phrase</a> <a href=\"#\" class=\"nd\">737098</a>  <span class=\"function\">Pred</span> <span class=\"typ\">VP</span>\n",
       "    </div>\n",
       "    <div class=\"atoms\">\n",
       "\n",
       "<div class=\"word  \" >\n",
       "<a href=\"#\" class=\"nd\">150156</a>\n",
       "<div class=\"h\"><a target=\"_blank\" href=\"https://shebanq.ancient-data.org/hebrew/word?version=c&amp;id=1XVAv\" title=\"show this lexeme in SHEBANQ\">חָטָ֔אתִי </a></div>\n",
       "<div class=\"features\"> <span class=\"pdp\"><a href=\"https://shebanq.ancient-data.org/hebrew/text?book=Samuel_I&amp;chapter=15&amp;verse=30&amp;version=c&amp;mr=m&amp;qw=q&amp;tp=txt_p&amp;tr=hb&amp;wget=v&amp;qget=v&amp;nget=vt\" title=\"1_Samuel 15:30\" sec=\"1_Samuel 15:30\">verb</a></span> <span class=\"gloss\">miss</span> <span class=\"vs\">qal</span> <span class=\"vt\">perf</span></div>\n",
       "\n",
       "\n",
       "</div>\n",
       "\n",
       "\n",
       "    </div>\n",
       "\n",
       "\n",
       "</div>\n",
       "\n",
       "\n",
       "    </div>\n",
       "\n",
       "\n",
       "</div>\n",
       "\n",
       "\n",
       "    </div>\n",
       "\n",
       "\n",
       "</div>\n",
       "\n",
       "<div class=\"satom  \" >\n",
       "\n",
       "    <div class=\"sentence \" >\n",
       "        <a href=\"https://shebanq.ancient-data.org/hebrew/text?book=Samuel_I&amp;chapter=15&amp;verse=30&amp;version=c&amp;mr=m&amp;qw=q&amp;tp=txt_p&amp;tr=hb&amp;wget=v&amp;qget=v&amp;nget=vt\" title=\"1_Samuel 15:30\" sec=\"1_Samuel 15:30\">sentence</a> <a href=\"#\" class=\"nd\">1192670</a>  <span class=\"number\">109|1427</span>\n",
       "    </div>\n",
       "    <div class=\"atoms\">\n",
       "\n",
       "<div class=\"catom  \" >\n",
       "\n",
       "    <div class=\"clause \" >\n",
       "        <a href=\"https://shebanq.ancient-data.org/hebrew/text?book=Samuel_I&amp;chapter=15&amp;verse=30&amp;version=c&amp;mr=m&amp;qw=q&amp;tp=txt_p&amp;tr=hb&amp;wget=v&amp;qget=v&amp;nget=vt\" title=\"1_Samuel 15:30\" sec=\"1_Samuel 15:30\">clause</a> <a href=\"#\" class=\"nd\">455760</a>  <span class=\"typ\">xIm0</span>\n",
       "    </div>\n",
       "    <div class=\"atoms\">\n",
       "\n",
       "<div class=\"patom  \" >\n",
       "\n",
       "    <div class=\"phrase \" >\n",
       "        <a href=\"https://shebanq.ancient-data.org/hebrew/text?book=Samuel_I&amp;chapter=15&amp;verse=30&amp;version=c&amp;mr=m&amp;qw=q&amp;tp=txt_p&amp;tr=hb&amp;wget=v&amp;qget=v&amp;nget=vt\" title=\"1_Samuel 15:30\" sec=\"1_Samuel 15:30\">phrase</a> <a href=\"#\" class=\"nd\">737099</a>  <span class=\"function\">Time</span> <span class=\"typ\">AdvP</span>\n",
       "    </div>\n",
       "    <div class=\"atoms\">\n",
       "\n",
       "<div class=\"word  \" >\n",
       "<a href=\"#\" class=\"nd\">150157</a>\n",
       "<div class=\"h\"><a target=\"_blank\" href=\"https://shebanq.ancient-data.org/hebrew/word?version=c&amp;id=1OTH\" title=\"show this lexeme in SHEBANQ\">עַתָּ֗ה </a></div>\n",
       "<div class=\"features\"> <span class=\"pdp\"><a href=\"https://shebanq.ancient-data.org/hebrew/text?book=Samuel_I&amp;chapter=15&amp;verse=30&amp;version=c&amp;mr=m&amp;qw=q&amp;tp=txt_p&amp;tr=hb&amp;wget=v&amp;qget=v&amp;nget=vt\" title=\"1_Samuel 15:30\" sec=\"1_Samuel 15:30\">advb</a></span> <span class=\"gloss\">now</span></div>\n",
       "\n",
       "\n",
       "</div>\n",
       "\n",
       "\n",
       "    </div>\n",
       "\n",
       "\n",
       "</div>\n",
       "\n",
       "<div class=\"patom  \" >\n",
       "\n",
       "    <div class=\"phrase \" >\n",
       "        <a href=\"https://shebanq.ancient-data.org/hebrew/text?book=Samuel_I&amp;chapter=15&amp;verse=30&amp;version=c&amp;mr=m&amp;qw=q&amp;tp=txt_p&amp;tr=hb&amp;wget=v&amp;qget=v&amp;nget=vt\" title=\"1_Samuel 15:30\" sec=\"1_Samuel 15:30\">phrase</a> <a href=\"#\" class=\"nd\">737100</a>  <span class=\"function\">PreO</span> <span class=\"typ\">VP</span>\n",
       "    </div>\n",
       "    <div class=\"atoms\">\n",
       "\n",
       "<div class=\"word  \" >\n",
       "<a href=\"#\" class=\"nd\">150158</a>\n",
       "<div class=\"h\"><a target=\"_blank\" href=\"https://shebanq.ancient-data.org/hebrew/word?version=c&amp;id=1KBDv\" title=\"show this lexeme in SHEBANQ\">כַּבְּדֵ֥נִי </a></div>\n",
       "<div class=\"features\"> <span class=\"pdp\"><a href=\"https://shebanq.ancient-data.org/hebrew/text?book=Samuel_I&amp;chapter=15&amp;verse=30&amp;version=c&amp;mr=m&amp;qw=q&amp;tp=txt_p&amp;tr=hb&amp;wget=v&amp;qget=v&amp;nget=vt\" title=\"1_Samuel 15:30\" sec=\"1_Samuel 15:30\">verb</a></span> <span class=\"gloss\">be heavy</span> <span class=\"vs\">piel</span> <span class=\"vt\">impv</span></div>\n",
       "\n",
       "\n",
       "</div>\n",
       "\n",
       "\n",
       "    </div>\n",
       "\n",
       "\n",
       "</div>\n",
       "\n",
       "<div class=\"patom  \" >\n",
       "\n",
       "    <div class=\"phrase \" >\n",
       "        <a href=\"https://shebanq.ancient-data.org/hebrew/text?book=Samuel_I&amp;chapter=15&amp;verse=30&amp;version=c&amp;mr=m&amp;qw=q&amp;tp=txt_p&amp;tr=hb&amp;wget=v&amp;qget=v&amp;nget=vt\" title=\"1_Samuel 15:30\" sec=\"1_Samuel 15:30\">phrase</a> <a href=\"#\" class=\"nd\">737101</a>  <span class=\"function\">Intj</span> <span class=\"typ\">InjP</span>\n",
       "    </div>\n",
       "    <div class=\"atoms\">\n",
       "\n",
       "<div class=\"word  \" >\n",
       "<a href=\"#\" class=\"nd\">150159</a>\n",
       "<div class=\"h\"><a target=\"_blank\" href=\"https://shebanq.ancient-data.org/hebrew/word?version=c&amp;id=1NA\" title=\"show this lexeme in SHEBANQ\">נָ֛א </a></div>\n",
       "<div class=\"features\"> <span class=\"pdp\"><a href=\"https://shebanq.ancient-data.org/hebrew/text?book=Samuel_I&amp;chapter=15&amp;verse=30&amp;version=c&amp;mr=m&amp;qw=q&amp;tp=txt_p&amp;tr=hb&amp;wget=v&amp;qget=v&amp;nget=vt\" title=\"1_Samuel 15:30\" sec=\"1_Samuel 15:30\">intj</a></span> <span class=\"gloss\">yeah</span></div>\n",
       "\n",
       "\n",
       "</div>\n",
       "\n",
       "\n",
       "    </div>\n",
       "\n",
       "\n",
       "</div>\n",
       "\n",
       "<div class=\"patom  \" >\n",
       "\n",
       "    <div class=\"phrase \" >\n",
       "        <a href=\"https://shebanq.ancient-data.org/hebrew/text?book=Samuel_I&amp;chapter=15&amp;verse=30&amp;version=c&amp;mr=m&amp;qw=q&amp;tp=txt_p&amp;tr=hb&amp;wget=v&amp;qget=v&amp;nget=vt\" title=\"1_Samuel 15:30\" sec=\"1_Samuel 15:30\">phrase</a> <a href=\"#\" class=\"nd\">737102</a>  <span class=\"function\">Cmpl</span> <span class=\"typ\">PP</span>\n",
       "    </div>\n",
       "    <div class=\"atoms\">\n",
       "\n",
       "<div class=\"word  \" >\n",
       "<a href=\"#\" class=\"nd\">150160</a>\n",
       "<div class=\"h\"><a target=\"_blank\" href=\"https://shebanq.ancient-data.org/hebrew/word?version=c&amp;id=1NGDn\" title=\"show this lexeme in SHEBANQ\">נֶ֥גֶד </a></div>\n",
       "<div class=\"features\"> <span class=\"pdp\"><a href=\"https://shebanq.ancient-data.org/hebrew/text?book=Samuel_I&amp;chapter=15&amp;verse=30&amp;version=c&amp;mr=m&amp;qw=q&amp;tp=txt_p&amp;tr=hb&amp;wget=v&amp;qget=v&amp;nget=vt\" title=\"1_Samuel 15:30\" sec=\"1_Samuel 15:30\">prep</a></span> <span class=\"gloss\">counterpart</span></div>\n",
       "\n",
       "\n",
       "</div>\n",
       "\n",
       "<div class=\"word  \" >\n",
       "<a href=\"#\" class=\"nd\">150161</a>\n",
       "<div class=\"h\"><a target=\"_blank\" href=\"https://shebanq.ancient-data.org/hebrew/word?version=c&amp;id=1ZQNn\" title=\"show this lexeme in SHEBANQ\">זִקְנֵֽי־</a></div>\n",
       "<div class=\"features\"> <span class=\"pdp\"><a href=\"https://shebanq.ancient-data.org/hebrew/text?book=Samuel_I&amp;chapter=15&amp;verse=30&amp;version=c&amp;mr=m&amp;qw=q&amp;tp=txt_p&amp;tr=hb&amp;wget=v&amp;qget=v&amp;nget=vt\" title=\"1_Samuel 15:30\" sec=\"1_Samuel 15:30\">subs</a></span> <span class=\"gloss\">old</span></div>\n",
       "\n",
       "\n",
       "</div>\n",
       "\n",
       "<div class=\"word  hl\" >\n",
       "<a href=\"#\" class=\"nd\">150162</a>\n",
       "<div class=\"h\"><a target=\"_blank\" href=\"https://shebanq.ancient-data.org/hebrew/word?version=c&amp;id=1OMn\" title=\"show this lexeme in SHEBANQ\">עַמִּ֖י </a></div>\n",
       "<div class=\"features\"> <span class=\"pdp\"><a href=\"https://shebanq.ancient-data.org/hebrew/text?book=Samuel_I&amp;chapter=15&amp;verse=30&amp;version=c&amp;mr=m&amp;qw=q&amp;tp=txt_p&amp;tr=hb&amp;wget=v&amp;qget=v&amp;nget=vt\" title=\"1_Samuel 15:30\" sec=\"1_Samuel 15:30\">subs</a></span> <span class=\"gloss\">people</span></div>\n",
       "\n",
       "\n",
       "</div>\n",
       "\n",
       "<div class=\"word  \" >\n",
       "<a href=\"#\" class=\"nd\">150163</a>\n",
       "<div class=\"h\"><a target=\"_blank\" href=\"https://shebanq.ancient-data.org/hebrew/word?version=c&amp;id=1W\" title=\"show this lexeme in SHEBANQ\">וְ</a></div>\n",
       "<div class=\"features\"> <span class=\"pdp\"><a href=\"https://shebanq.ancient-data.org/hebrew/text?book=Samuel_I&amp;chapter=15&amp;verse=30&amp;version=c&amp;mr=m&amp;qw=q&amp;tp=txt_p&amp;tr=hb&amp;wget=v&amp;qget=v&amp;nget=vt\" title=\"1_Samuel 15:30\" sec=\"1_Samuel 15:30\">conj</a></span> <span class=\"gloss\">and</span></div>\n",
       "\n",
       "\n",
       "</div>\n",
       "\n",
       "<div class=\"word  hl\" >\n",
       "<a href=\"#\" class=\"nd\">150164</a>\n",
       "<div class=\"h\"><a target=\"_blank\" href=\"https://shebanq.ancient-data.org/hebrew/word?version=c&amp;id=1NGDn\" title=\"show this lexeme in SHEBANQ\">נֶ֣גֶד </a></div>\n",
       "<div class=\"features\"> <span class=\"pdp\"><a href=\"https://shebanq.ancient-data.org/hebrew/text?book=Samuel_I&amp;chapter=15&amp;verse=30&amp;version=c&amp;mr=m&amp;qw=q&amp;tp=txt_p&amp;tr=hb&amp;wget=v&amp;qget=v&amp;nget=vt\" title=\"1_Samuel 15:30\" sec=\"1_Samuel 15:30\">prep</a></span> <span class=\"gloss\">counterpart</span></div>\n",
       "\n",
       "\n",
       "</div>\n",
       "\n",
       "<div class=\"word  \" >\n",
       "<a href=\"#\" class=\"nd\">150165</a>\n",
       "<div class=\"h\"><a target=\"_blank\" href=\"https://shebanq.ancient-data.org/hebrew/word?version=c&amp;id=1JFRALn\" title=\"show this lexeme in SHEBANQ\">יִשְׂרָאֵ֑ל </a></div>\n",
       "<div class=\"features\"> <span class=\"pdp\"><a href=\"https://shebanq.ancient-data.org/hebrew/text?book=Samuel_I&amp;chapter=15&amp;verse=30&amp;version=c&amp;mr=m&amp;qw=q&amp;tp=txt_p&amp;tr=hb&amp;wget=v&amp;qget=v&amp;nget=vt\" title=\"1_Samuel 15:30\" sec=\"1_Samuel 15:30\">nmpr</a></span> <span class=\"gloss\">Israel</span></div>\n",
       "\n",
       "\n",
       "</div>\n",
       "\n",
       "\n",
       "    </div>\n",
       "\n",
       "\n",
       "</div>\n",
       "\n",
       "\n",
       "    </div>\n",
       "\n",
       "\n",
       "</div>\n",
       "\n",
       "\n",
       "    </div>\n",
       "\n",
       "\n",
       "</div>\n",
       "\n",
       "<div class=\"satom  \" >\n",
       "\n",
       "    <div class=\"sentence \" >\n",
       "        <a href=\"https://shebanq.ancient-data.org/hebrew/text?book=Samuel_I&amp;chapter=15&amp;verse=30&amp;version=c&amp;mr=m&amp;qw=q&amp;tp=txt_p&amp;tr=hb&amp;wget=v&amp;qget=v&amp;nget=vt\" title=\"1_Samuel 15:30\" sec=\"1_Samuel 15:30\">sentence</a> <a href=\"#\" class=\"nd\">1192671</a>  <span class=\"number\">110|1428</span>\n",
       "    </div>\n",
       "    <div class=\"atoms\">\n",
       "\n",
       "<div class=\"catom  \" >\n",
       "\n",
       "    <div class=\"clause \" >\n",
       "        <a href=\"https://shebanq.ancient-data.org/hebrew/text?book=Samuel_I&amp;chapter=15&amp;verse=30&amp;version=c&amp;mr=m&amp;qw=q&amp;tp=txt_p&amp;tr=hb&amp;wget=v&amp;qget=v&amp;nget=vt\" title=\"1_Samuel 15:30\" sec=\"1_Samuel 15:30\">clause</a> <a href=\"#\" class=\"nd\">455761</a>  <span class=\"typ\">WIm0</span>\n",
       "    </div>\n",
       "    <div class=\"atoms\">\n",
       "\n",
       "<div class=\"patom  \" >\n",
       "\n",
       "    <div class=\"phrase \" >\n",
       "        <a href=\"https://shebanq.ancient-data.org/hebrew/text?book=Samuel_I&amp;chapter=15&amp;verse=30&amp;version=c&amp;mr=m&amp;qw=q&amp;tp=txt_p&amp;tr=hb&amp;wget=v&amp;qget=v&amp;nget=vt\" title=\"1_Samuel 15:30\" sec=\"1_Samuel 15:30\">phrase</a> <a href=\"#\" class=\"nd\">737103</a>  <span class=\"function\">Conj</span> <span class=\"typ\">CP</span>\n",
       "    </div>\n",
       "    <div class=\"atoms\">\n",
       "\n",
       "<div class=\"word  \" >\n",
       "<a href=\"#\" class=\"nd\">150166</a>\n",
       "<div class=\"h\"><a target=\"_blank\" href=\"https://shebanq.ancient-data.org/hebrew/word?version=c&amp;id=1W\" title=\"show this lexeme in SHEBANQ\">וְ</a></div>\n",
       "<div class=\"features\"> <span class=\"pdp\"><a href=\"https://shebanq.ancient-data.org/hebrew/text?book=Samuel_I&amp;chapter=15&amp;verse=30&amp;version=c&amp;mr=m&amp;qw=q&amp;tp=txt_p&amp;tr=hb&amp;wget=v&amp;qget=v&amp;nget=vt\" title=\"1_Samuel 15:30\" sec=\"1_Samuel 15:30\">conj</a></span> <span class=\"gloss\">and</span></div>\n",
       "\n",
       "\n",
       "</div>\n",
       "\n",
       "\n",
       "    </div>\n",
       "\n",
       "\n",
       "</div>\n",
       "\n",
       "<div class=\"patom  \" >\n",
       "\n",
       "    <div class=\"phrase \" >\n",
       "        <a href=\"https://shebanq.ancient-data.org/hebrew/text?book=Samuel_I&amp;chapter=15&amp;verse=30&amp;version=c&amp;mr=m&amp;qw=q&amp;tp=txt_p&amp;tr=hb&amp;wget=v&amp;qget=v&amp;nget=vt\" title=\"1_Samuel 15:30\" sec=\"1_Samuel 15:30\">phrase</a> <a href=\"#\" class=\"nd\">737104</a>  <span class=\"function\">Pred</span> <span class=\"typ\">VP</span>\n",
       "    </div>\n",
       "    <div class=\"atoms\">\n",
       "\n",
       "<div class=\"word  \" >\n",
       "<a href=\"#\" class=\"nd\">150167</a>\n",
       "<div class=\"h\"><a target=\"_blank\" href=\"https://shebanq.ancient-data.org/hebrew/word?version=c&amp;id=1CWBv\" title=\"show this lexeme in SHEBANQ\">שׁ֣וּב </a></div>\n",
       "<div class=\"features\"> <span class=\"pdp\"><a href=\"https://shebanq.ancient-data.org/hebrew/text?book=Samuel_I&amp;chapter=15&amp;verse=30&amp;version=c&amp;mr=m&amp;qw=q&amp;tp=txt_p&amp;tr=hb&amp;wget=v&amp;qget=v&amp;nget=vt\" title=\"1_Samuel 15:30\" sec=\"1_Samuel 15:30\">verb</a></span> <span class=\"gloss\">return</span> <span class=\"vs\">qal</span> <span class=\"vt\">impv</span></div>\n",
       "\n",
       "\n",
       "</div>\n",
       "\n",
       "\n",
       "    </div>\n",
       "\n",
       "\n",
       "</div>\n",
       "\n",
       "<div class=\"patom  \" >\n",
       "\n",
       "    <div class=\"phrase \" >\n",
       "        <a href=\"https://shebanq.ancient-data.org/hebrew/text?book=Samuel_I&amp;chapter=15&amp;verse=30&amp;version=c&amp;mr=m&amp;qw=q&amp;tp=txt_p&amp;tr=hb&amp;wget=v&amp;qget=v&amp;nget=vt\" title=\"1_Samuel 15:30\" sec=\"1_Samuel 15:30\">phrase</a> <a href=\"#\" class=\"nd\">737105</a>  <span class=\"function\">Adju</span> <span class=\"typ\">PP</span>\n",
       "    </div>\n",
       "    <div class=\"atoms\">\n",
       "\n",
       "<div class=\"word  \" >\n",
       "<a href=\"#\" class=\"nd\">150168</a>\n",
       "<div class=\"h\"><a target=\"_blank\" href=\"https://shebanq.ancient-data.org/hebrew/word?version=c&amp;id=1OM\" title=\"show this lexeme in SHEBANQ\">עִמִּ֔י </a></div>\n",
       "<div class=\"features\"> <span class=\"pdp\"><a href=\"https://shebanq.ancient-data.org/hebrew/text?book=Samuel_I&amp;chapter=15&amp;verse=30&amp;version=c&amp;mr=m&amp;qw=q&amp;tp=txt_p&amp;tr=hb&amp;wget=v&amp;qget=v&amp;nget=vt\" title=\"1_Samuel 15:30\" sec=\"1_Samuel 15:30\">prep</a></span> <span class=\"gloss\">with</span></div>\n",
       "\n",
       "\n",
       "</div>\n",
       "\n",
       "\n",
       "    </div>\n",
       "\n",
       "\n",
       "</div>\n",
       "\n",
       "\n",
       "    </div>\n",
       "\n",
       "\n",
       "</div>\n",
       "\n",
       "\n",
       "    </div>\n",
       "\n",
       "\n",
       "</div>\n",
       "\n",
       "<div class=\"satom  \" >\n",
       "\n",
       "    <div class=\"sentence \" >\n",
       "        <a href=\"https://shebanq.ancient-data.org/hebrew/text?book=Samuel_I&amp;chapter=15&amp;verse=30&amp;version=c&amp;mr=m&amp;qw=q&amp;tp=txt_p&amp;tr=hb&amp;wget=v&amp;qget=v&amp;nget=vt\" title=\"1_Samuel 15:30\" sec=\"1_Samuel 15:30\">sentence</a> <a href=\"#\" class=\"nd\">1192672</a>  <span class=\"number\">111|1429</span>\n",
       "    </div>\n",
       "    <div class=\"atoms\">\n",
       "\n",
       "<div class=\"catom  \" >\n",
       "\n",
       "    <div class=\"clause \" >\n",
       "        <a href=\"https://shebanq.ancient-data.org/hebrew/text?book=Samuel_I&amp;chapter=15&amp;verse=30&amp;version=c&amp;mr=m&amp;qw=q&amp;tp=txt_p&amp;tr=hb&amp;wget=v&amp;qget=v&amp;nget=vt\" title=\"1_Samuel 15:30\" sec=\"1_Samuel 15:30\">clause</a> <a href=\"#\" class=\"nd\">455762</a>  <span class=\"typ\">WQt0</span>\n",
       "    </div>\n",
       "    <div class=\"atoms\">\n",
       "\n",
       "<div class=\"patom  \" >\n",
       "\n",
       "    <div class=\"phrase \" >\n",
       "        <a href=\"https://shebanq.ancient-data.org/hebrew/text?book=Samuel_I&amp;chapter=15&amp;verse=30&amp;version=c&amp;mr=m&amp;qw=q&amp;tp=txt_p&amp;tr=hb&amp;wget=v&amp;qget=v&amp;nget=vt\" title=\"1_Samuel 15:30\" sec=\"1_Samuel 15:30\">phrase</a> <a href=\"#\" class=\"nd\">737106</a>  <span class=\"function\">Conj</span> <span class=\"typ\">CP</span>\n",
       "    </div>\n",
       "    <div class=\"atoms\">\n",
       "\n",
       "<div class=\"word  \" >\n",
       "<a href=\"#\" class=\"nd\">150169</a>\n",
       "<div class=\"h\"><a target=\"_blank\" href=\"https://shebanq.ancient-data.org/hebrew/word?version=c&amp;id=1W\" title=\"show this lexeme in SHEBANQ\">וְ</a></div>\n",
       "<div class=\"features\"> <span class=\"pdp\"><a href=\"https://shebanq.ancient-data.org/hebrew/text?book=Samuel_I&amp;chapter=15&amp;verse=30&amp;version=c&amp;mr=m&amp;qw=q&amp;tp=txt_p&amp;tr=hb&amp;wget=v&amp;qget=v&amp;nget=vt\" title=\"1_Samuel 15:30\" sec=\"1_Samuel 15:30\">conj</a></span> <span class=\"gloss\">and</span></div>\n",
       "\n",
       "\n",
       "</div>\n",
       "\n",
       "\n",
       "    </div>\n",
       "\n",
       "\n",
       "</div>\n",
       "\n",
       "<div class=\"patom  \" >\n",
       "\n",
       "    <div class=\"phrase \" >\n",
       "        <a href=\"https://shebanq.ancient-data.org/hebrew/text?book=Samuel_I&amp;chapter=15&amp;verse=30&amp;version=c&amp;mr=m&amp;qw=q&amp;tp=txt_p&amp;tr=hb&amp;wget=v&amp;qget=v&amp;nget=vt\" title=\"1_Samuel 15:30\" sec=\"1_Samuel 15:30\">phrase</a> <a href=\"#\" class=\"nd\">737107</a>  <span class=\"function\">Pred</span> <span class=\"typ\">VP</span>\n",
       "    </div>\n",
       "    <div class=\"atoms\">\n",
       "\n",
       "<div class=\"word  \" >\n",
       "<a href=\"#\" class=\"nd\">150170</a>\n",
       "<div class=\"h\"><a target=\"_blank\" href=\"https://shebanq.ancient-data.org/hebrew/word?version=c&amp;id=1XWHv\" title=\"show this lexeme in SHEBANQ\">הִֽשְׁתַּחֲוֵ֖יתִי </a></div>\n",
       "<div class=\"features\"> <span class=\"pdp\"><a href=\"https://shebanq.ancient-data.org/hebrew/text?book=Samuel_I&amp;chapter=15&amp;verse=30&amp;version=c&amp;mr=m&amp;qw=q&amp;tp=txt_p&amp;tr=hb&amp;wget=v&amp;qget=v&amp;nget=vt\" title=\"1_Samuel 15:30\" sec=\"1_Samuel 15:30\">verb</a></span> <span class=\"gloss\">bow down</span> <span class=\"vs\">hsht</span> <span class=\"vt\">perf</span></div>\n",
       "\n",
       "\n",
       "</div>\n",
       "\n",
       "\n",
       "    </div>\n",
       "\n",
       "\n",
       "</div>\n",
       "\n",
       "<div class=\"patom  l \" >\n",
       "\n",
       "    <div class=\"phrase \" >\n",
       "        <a href=\"https://shebanq.ancient-data.org/hebrew/text?book=Samuel_I&amp;chapter=15&amp;verse=30&amp;version=c&amp;mr=m&amp;qw=q&amp;tp=txt_p&amp;tr=hb&amp;wget=v&amp;qget=v&amp;nget=vt\" title=\"1_Samuel 15:30\" sec=\"1_Samuel 15:30\">phrase</a> <a href=\"#\" class=\"nd\">737108</a>  <span class=\"function\">Cmpl</span> <span class=\"typ\">PP</span>\n",
       "    </div>\n",
       "    <div class=\"atoms\">\n",
       "\n",
       "<div class=\"word  \" >\n",
       "<a href=\"#\" class=\"nd\">150171</a>\n",
       "<div class=\"h\"><a target=\"_blank\" href=\"https://shebanq.ancient-data.org/hebrew/word?version=c&amp;id=1L\" title=\"show this lexeme in SHEBANQ\">לַֽ</a></div>\n",
       "<div class=\"features\"> <span class=\"pdp\"><a href=\"https://shebanq.ancient-data.org/hebrew/text?book=Samuel_I&amp;chapter=15&amp;verse=30&amp;version=c&amp;mr=m&amp;qw=q&amp;tp=txt_p&amp;tr=hb&amp;wget=v&amp;qget=v&amp;nget=vt\" title=\"1_Samuel 15:30\" sec=\"1_Samuel 15:30\">prep</a></span> <span class=\"gloss\">to</span></div>\n",
       "\n",
       "\n",
       "</div>\n",
       "\n",
       "<div class=\"word  \" >\n",
       "<a href=\"#\" class=\"nd\">150172</a>\n",
       "<div class=\"h\"><a target=\"_blank\" href=\"https://shebanq.ancient-data.org/hebrew/word?version=c&amp;id=1JHWHn\" title=\"show this lexeme in SHEBANQ\">יהוָ֥ה </a></div>\n",
       "<div class=\"features\"> <span class=\"pdp\"><a href=\"https://shebanq.ancient-data.org/hebrew/text?book=Samuel_I&amp;chapter=15&amp;verse=30&amp;version=c&amp;mr=m&amp;qw=q&amp;tp=txt_p&amp;tr=hb&amp;wget=v&amp;qget=v&amp;nget=vt\" title=\"1_Samuel 15:30\" sec=\"1_Samuel 15:30\">nmpr</a></span> <span class=\"gloss\">YHWH</span></div>\n",
       "\n",
       "\n",
       "</div>\n",
       "\n",
       "\n",
       "    </div>\n",
       "\n",
       "\n",
       "</div>\n",
       "\n",
       "<div class=\"patom  r \" >\n",
       "\n",
       "    <div class=\"phrase \" >\n",
       "        <a href=\"https://shebanq.ancient-data.org/hebrew/text?book=Samuel_I&amp;chapter=15&amp;verse=30&amp;version=c&amp;mr=m&amp;qw=q&amp;tp=txt_p&amp;tr=hb&amp;wget=v&amp;qget=v&amp;nget=vt\" title=\"1_Samuel 15:30\" sec=\"1_Samuel 15:30\">phrase</a> <a href=\"#\" class=\"nd\">737108</a>  <span class=\"function\">Cmpl</span> <span class=\"typ\">PP|NP</span>\n",
       "    </div>\n",
       "    <div class=\"atoms\">\n",
       "\n",
       "<div class=\"word  \" >\n",
       "<a href=\"#\" class=\"nd\">150173</a>\n",
       "<div class=\"h\"><a target=\"_blank\" href=\"https://shebanq.ancient-data.org/hebrew/word?version=c&amp;id=1ALHJMn\" title=\"show this lexeme in SHEBANQ\">אֱלֹהֶֽיךָ׃ </a></div>\n",
       "<div class=\"features\"> <span class=\"pdp\"><a href=\"https://shebanq.ancient-data.org/hebrew/text?book=Samuel_I&amp;chapter=15&amp;verse=30&amp;version=c&amp;mr=m&amp;qw=q&amp;tp=txt_p&amp;tr=hb&amp;wget=v&amp;qget=v&amp;nget=vt\" title=\"1_Samuel 15:30\" sec=\"1_Samuel 15:30\">subs</a></span> <span class=\"gloss\">god(s)</span></div>\n",
       "\n",
       "\n",
       "</div>\n",
       "\n",
       "\n",
       "    </div>\n",
       "\n",
       "\n",
       "</div>\n",
       "\n",
       "\n",
       "    </div>\n",
       "\n",
       "\n",
       "</div>\n",
       "\n",
       "\n",
       "    </div>\n",
       "\n",
       "\n",
       "</div>\n",
       "\n",
       "\n",
       "</div>\n"
      ],
      "text/plain": [
       "<IPython.core.display.HTML object>"
      ]
     },
     "metadata": {},
     "output_type": "display_data"
    }
   ],
   "source": [
    "A.show(cpairresults['<M/']['NGD/'], withNodes=True)"
   ]
  },
  {
   "cell_type": "code",
   "execution_count": 20,
   "metadata": {},
   "outputs": [
    {
     "data": {
      "text/plain": [
       "'subs'"
      ]
     },
     "execution_count": 20,
     "metadata": {},
     "output_type": "execute_result"
    }
   ],
   "source": [
    "F.sp.v(150164)"
   ]
  },
  {
   "cell_type": "code",
   "execution_count": 27,
   "metadata": {},
   "outputs": [
    {
     "data": {
      "text/plain": [
       "'False'"
      ]
     },
     "execution_count": 27,
     "metadata": {},
     "output_type": "execute_result"
    }
   ],
   "source": [
    "1 > 3"
   ]
  },
  {
   "cell_type": "code",
   "execution_count": null,
   "metadata": {},
   "outputs": [],
   "source": []
  }
 ],
 "metadata": {
  "kernelspec": {
   "display_name": "Python 3",
   "language": "python",
   "name": "python3"
  },
  "language_info": {
   "codemirror_mode": {
    "name": "ipython",
    "version": 3
   },
   "file_extension": ".py",
   "mimetype": "text/x-python",
   "name": "python",
   "nbconvert_exporter": "python",
   "pygments_lexer": "ipython3",
   "version": "3.7.0"
  }
 },
 "nbformat": 4,
 "nbformat_minor": 2
}
