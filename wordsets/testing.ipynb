{
 "cells": [
  {
   "cell_type": "markdown",
   "metadata": {},
   "source": [
    "# Testing Wordgrammar Wordsets\n",
    "\n",
    "This notebook examines the output of the wordsets pipeline to ensure that the data being produced is good."
   ]
  },
  {
   "cell_type": "code",
   "execution_count": 1,
   "metadata": {},
   "outputs": [
    {
     "name": "stdout",
     "output_type": "stream",
     "text": [
      "   |     0.00s No structure info in otext, the structure part of the T-API cannot be used\n"
     ]
    },
    {
     "data": {
      "text/html": [
       "<style>\n",
       "@font-face {\n",
       "  font-family: \"Ezra SIL\";\n",
       "  src:\n",
       "    local(\"SILEOT.ttf\"),\n",
       "    url(\"https://github.com/annotation/text-fabric/blob/master/tf/server/static/fonts/SILEOT.woff?raw=true\");\n",
       "}\n",
       ".features {\n",
       "    font-family: monospace;\n",
       "    font-size: medium;\n",
       "    font-weight: bold;\n",
       "    color: #0a6611;\n",
       "    display: flex;\n",
       "    flex-flow: column nowrap;\n",
       "    padding: 0.1em;\n",
       "    margin: 0.1em;\n",
       "    direction: ltr;\n",
       "}\n",
       ".features div,.features span {\n",
       "    padding: 0;\n",
       "    margin: -0.1rem 0;\n",
       "}\n",
       ".features .f {\n",
       "    font-family: sans-serif;\n",
       "    font-size: x-small;\n",
       "    font-weight: normal;\n",
       "    color: #5555bb;\n",
       "}\n",
       ".features .xft {\n",
       "  color: #000000;\n",
       "  background-color: #eeeeee;\n",
       "  font-size: medium;\n",
       "  margin: 0.1em 0em;\n",
       "}\n",
       ".features .xft .f {\n",
       "  color: #000000;\n",
       "  background-color: #eeeeee;\n",
       "  font-style: italic;\n",
       "  font-size: small;\n",
       "  font-weight: normal;\n",
       "}\n",
       ".ltr {\n",
       "    direction: ltr ! important;\n",
       "}\n",
       ".verse {\n",
       "    display: flex;\n",
       "    flex-flow: row wrap;\n",
       "    direction: rtl;\n",
       "}\n",
       ".vl {\n",
       "    display: flex;\n",
       "    flex-flow: column nowrap;\n",
       "    justify-content: flex-end;\n",
       "    align-items: flex-end;\n",
       "    direction: ltr;\n",
       "    width: 100%;\n",
       "}\n",
       ".outeritem {\n",
       "    display: flex;\n",
       "    flex-flow: row wrap;\n",
       "    direction: rtl;\n",
       "}\n",
       ".sentence,.clause,.phrase {\n",
       "    margin-top: -1.2em;\n",
       "    margin-left: 1em;\n",
       "    background: #ffffff none repeat scroll 0 0;\n",
       "    padding: 0 0.3em;\n",
       "    border-style: solid;\n",
       "    border-radius: 0.2em;\n",
       "    font-size: small;\n",
       "    display: block;\n",
       "    width: fit-content;\n",
       "    max-width: fit-content;\n",
       "    direction: ltr;\n",
       "}\n",
       ".atoms {\n",
       "    display: flex;\n",
       "    flex-flow: row wrap;\n",
       "    margin: 0.3em;\n",
       "    padding: 0.3em;\n",
       "    direction: rtl;\n",
       "    background-color: #ffffff;\n",
       "}\n",
       ".satom,.catom,.patom {\n",
       "    margin: 0.3em;\n",
       "    padding: 0.3em;\n",
       "    border-radius: 0.3em;\n",
       "    border-style: solid;\n",
       "    display: flex;\n",
       "    flex-flow: column nowrap;\n",
       "    direction: rtl;\n",
       "    background-color: #ffffff;\n",
       "}\n",
       ".sentence {\n",
       "    border-color: #aa3333;\n",
       "    border-width: 1px;\n",
       "}\n",
       ".clause {\n",
       "    border-color: #aaaa33;\n",
       "    border-width: 1px;\n",
       "}\n",
       ".phrase {\n",
       "    border-color: #33aaaa;\n",
       "    border-width: 1px;\n",
       "}\n",
       ".satom {\n",
       "    border-color: #aa3333;\n",
       "    border-width: 4px;\n",
       "}\n",
       ".catom {\n",
       "    border-color: #aaaa33;\n",
       "    border-width: 3px;\n",
       "}\n",
       ".patom {\n",
       "    border-color: #33aaaa;\n",
       "    border-width: 3px;\n",
       "}\n",
       ".word {\n",
       "    padding: 0.1em;\n",
       "    margin: 0.1em;\n",
       "    border-radius: 0.1em;\n",
       "    border: 1px solid #cccccc;\n",
       "    display: flex;\n",
       "    flex-flow: column nowrap;\n",
       "    direction: rtl;\n",
       "    background-color: #ffffff;\n",
       "}\n",
       ".lextp {\n",
       "    padding: 0.1em;\n",
       "    margin: 0.1em;\n",
       "    border-radius: 0.1em;\n",
       "    border: 2px solid #888888;\n",
       "    width: fit-content;\n",
       "    display: flex;\n",
       "    flex-flow: column nowrap;\n",
       "    direction: rtl;\n",
       "    background-color: #ffffff;\n",
       "}\n",
       ".occs {\n",
       "    font-size: x-small;\n",
       "}\n",
       ".satom.l,.catom.l,.patom.l {\n",
       "    border-left-style: dotted\n",
       "}\n",
       ".satom.r,.catom.r,.patom.r {\n",
       "    border-right-style: dotted\n",
       "}\n",
       ".satom.lno,.catom.lno,.patom.lno {\n",
       "    border-left-style: none\n",
       "}\n",
       ".satom.rno,.catom.rno,.patom.rno {\n",
       "    border-right-style: none\n",
       "}\n",
       ".tr,.tr a:visited,.tr a:link {\n",
       "    font-family: sans-serif;\n",
       "    font-size: large;\n",
       "    color: #000044;\n",
       "    direction: ltr;\n",
       "    text-decoration: none;\n",
       "}\n",
       ".trb,.trb a:visited,.trb a:link {\n",
       "    font-family: sans-serif;\n",
       "    font-size: normal;\n",
       "    direction: ltr;\n",
       "    text-decoration: none;\n",
       "}\n",
       ".prb,.prb a:visited,.prb a:link {\n",
       "    font-family: sans-serif;\n",
       "    font-size: large;\n",
       "    direction: ltr;\n",
       "    text-decoration: none;\n",
       "}\n",
       ".h,.h a:visited,.h a:link {\n",
       "    font-family: \"Ezra SIL\", \"SBL Hebrew\", sans-serif;\n",
       "    font-size: large;\n",
       "    color: #000044;\n",
       "    direction: rtl;\n",
       "    text-decoration: none;\n",
       "}\n",
       ".hb,.hb a:visited,.hb a:link {\n",
       "    font-family: \"Ezra SIL\", \"SBL Hebrew\", sans-serif;\n",
       "    font-size: large;\n",
       "    line-height: 2;\n",
       "    direction: rtl;\n",
       "    text-decoration: none;\n",
       "}\n",
       ".vn {\n",
       "  font-size: small !important;\n",
       "  padding-right: 1em;\n",
       "}\n",
       ".rela,.function,.typ {\n",
       "    font-family: monospace;\n",
       "    font-size: small;\n",
       "    color: #0000bb;\n",
       "}\n",
       ".pdp,.pdp a:visited,.pdp a:link {\n",
       "    font-family: monospace;\n",
       "    font-size: medium;\n",
       "    color: #0000bb;\n",
       "    text-decoration: none;\n",
       "}\n",
       ".voc_lex {\n",
       "    font-family: monospace;\n",
       "    font-size: medium;\n",
       "    color: #0000bb;\n",
       "}\n",
       ".vs {\n",
       "    font-family: monospace;\n",
       "    font-size: medium;\n",
       "    font-weight: bold;\n",
       "    color: #0000bb;\n",
       "}\n",
       ".vt {\n",
       "    font-family: monospace;\n",
       "    font-size: medium;\n",
       "    font-weight: bold;\n",
       "    color: #0000bb;\n",
       "}\n",
       ".gloss {\n",
       "    font-family: sans-serif;\n",
       "    font-size: small;\n",
       "    font-weight: normal;\n",
       "    color: #444444;\n",
       "}\n",
       ".vrs {\n",
       "    font-family: sans-serif;\n",
       "    font-size: small;\n",
       "    font-weight: bold;\n",
       "    color: #444444;\n",
       "}\n",
       ".nd {\n",
       "    font-family: monospace;\n",
       "    font-size: x-small;\n",
       "    color: #999999;\n",
       "}\n",
       ".hl {\n",
       "    background-color: #ffee66;\n",
       "}\n",
       "\n",
       "tr.tf, td.tf, th.tf {\n",
       "  text-align: left;\n",
       "}\n",
       "\n",
       "span.hldot {\n",
       "\tbackground-color: var(--hl-strong);\n",
       "\tborder: 0.2rem solid var(--hl-rim);\n",
       "\tborder-radius: 0.4rem;\n",
       "\t/*\n",
       "\tdisplay: inline-block;\n",
       "\twidth: 0.8rem;\n",
       "\theight: 0.8rem;\n",
       "\t*/\n",
       "}\n",
       "span.hl {\n",
       "\tbackground-color: var(--hl-strong);\n",
       "\tborder-width: 0;\n",
       "\tborder-radius: 0.1rem;\n",
       "\tborder-style: solid;\n",
       "}\n",
       "\n",
       "span.hlup {\n",
       "\tborder-color: var(--hl-dark);\n",
       "\tborder-width: 0.1rem;\n",
       "\tborder-style: solid;\n",
       "\tborder-radius: 0.2rem;\n",
       "  padding: 0.2rem;\n",
       "}\n",
       "\n",
       ":root {\n",
       "\t--hl-strong:        hsla( 60, 100%,  70%, 0.9  );\n",
       "\t--hl-rim:           hsla( 55, 100%,  60%, 0.9  );\n",
       "\t--hl-dark:          hsla( 55, 100%,  40%, 0.9  );\n",
       "}\n",
       "</style>"
      ],
      "text/plain": [
       "<IPython.core.display.HTML object>"
      ]
     },
     "metadata": {},
     "output_type": "display_data"
    }
   ],
   "source": [
    "import collections\n",
    "import pandas as pd\n",
    "from IPython.display import display, HTML\n",
    "import random\n",
    "import pprint\n",
    "from wordsets import WordSets\n",
    "from positions import Positions\n",
    "from context import Mom\n",
    "from tf.app import use\n",
    "A = use('bhsa', hoist=globals(), silent=True)"
   ]
  },
  {
   "cell_type": "code",
   "execution_count": 2,
   "metadata": {},
   "outputs": [
    {
     "name": "stdout",
     "output_type": "stream",
     "text": [
      "processing accents...\n",
      "\tdone\n",
      "processing quants...\n",
      "\tdone\n",
      "processing preps...\n",
      "\tdone\n",
      "processing conjunctions...\n",
      "\tdone\n",
      "processing constructs...\n",
      "\tdone\n"
     ]
    }
   ],
   "source": [
    "wsets = WordSets(A, silent=False)"
   ]
  },
  {
   "cell_type": "code",
   "execution_count": 6,
   "metadata": {},
   "outputs": [],
   "source": [
    "def beauty(text):\n",
    "    pretty = f'''\n",
    "<span style=\"font-family:Times New Roman; font-size:20pt\">\n",
    "    {text}\n",
    "</hspan>'''\n",
    "    display(HTML(pretty))"
   ]
  },
  {
   "cell_type": "code",
   "execution_count": 7,
   "metadata": {},
   "outputs": [],
   "source": [
    "def showconds(conddict):\n",
    "    '''\n",
    "    Print out results from a conddict.\n",
    "    '''\n",
    "    for node, conds in conddict:\n",
    "        print('node', node)\n",
    "        for cond, truth in conds.items():\n",
    "            print('\\t{:<25} {:>25}'.format(cond, str(truth)))"
   ]
  },
  {
   "cell_type": "markdown",
   "metadata": {},
   "source": [
    "## Context"
   ]
  },
  {
   "cell_type": "code",
   "execution_count": 8,
   "metadata": {},
   "outputs": [],
   "source": [
    "m = Mom(7, A, quants=wsets.quants, preps=wsets.preps, noms=wsets.nominals)\n",
    "m.every()"
   ]
  },
  {
   "cell_type": "code",
   "execution_count": 9,
   "metadata": {},
   "outputs": [
    {
     "name": "stdout",
     "output_type": "stream",
     "text": [
      "{'adja': ((8,\n",
      "           {\"P(0,'st') == 'a'\": True,\n",
      "            \"P(1,'nu') == P(0,'nu')\": False,\n",
      "            \"P(1,'sp') in nominals\": False}),\n",
      "          (8,\n",
      "           {\"P(0,'st') == 'a'\": True,\n",
      "            \"P(1,'nu') == P(0,'nu')\": False,\n",
      "            \"P(1,'sp vt').issubset({'verb', 'ptcp', 'ptca'})\": False}),\n",
      "          (9,\n",
      "           {\"P(0,'st') == 'a'\": True,\n",
      "            \"P(1,'sp') == 'art'\": False,\n",
      "            \"P(2,'nu') == P(0,'nu')\": False,\n",
      "            \"P(2,'sp') in nominals\": False})),\n",
      " 'const': ((8, {\"P(0,'st') == 'c'\": False, \"P(1,'sp') != 'art'\": True}),\n",
      "           (9, {\"P(0,'st') == 'c'\": False, \"P(1,'sp') == 'art'\": False})),\n",
      " 'coord': ((9,\n",
      "            {'P(0) not in preps': True,\n",
      "             \"P(1,'sp') == 'conj'\": True,\n",
      "             'P(2) not in preps': False,\n",
      "             \"P(2,'sp') in nominals\": False}),\n",
      "           (10,\n",
      "            {'P(0) not in preps': True,\n",
      "             \"P(1,'sp') == 'conj'\": True,\n",
      "             \"P(2,'sp') == 'art'\": False}),\n",
      "           (10,\n",
      "            {'P(-1) in preps': False,\n",
      "             \"P(1,'sp') == 'conj'\": True,\n",
      "             'P(2) in preps': True,\n",
      "             \"P(3,'sp') in nominals\": False}),\n",
      "           (11,\n",
      "            {\"P(-1,'sp') == 'art'\": True,\n",
      "             'P(-2) in preps': True,\n",
      "             \"P(1,'sp') == 'conj'\": True,\n",
      "             'P(2) in preps': True,\n",
      "             \"P(3,'sp') == 'art'\": True})),\n",
      " 'prep': ((8, {'P(1) in preps': False}),),\n",
      " 'quant': ((8, {'P(0) not in quants': True, 'P(1) in quants': False}),\n",
      "           (9,\n",
      "            {'P(0) not in quants': True,\n",
      "             \"P(1,'sp') == 'art'\": False,\n",
      "             'P(2) in quants': False}),\n",
      "           (6, {'P(-1) in quants': False, 'P(0) not in quants': True}),\n",
      "           (5,\n",
      "            {\"P(-1,'sp') == 'art'\": True,\n",
      "             'P(-2) in quants': False,\n",
      "             'P(0) not in quants': True}))}\n"
     ]
    }
   ],
   "source": [
    "pprint.pprint(m.explain)"
   ]
  },
  {
   "cell_type": "markdown",
   "metadata": {},
   "source": [
    "## Accents"
   ]
  },
  {
   "cell_type": "code",
   "execution_count": 10,
   "metadata": {},
   "outputs": [],
   "source": [
    "mwords = wsets.accents.mwords\n",
    "atype = wsets.accents.accenttype\n",
    "atype2set = wsets.accents.atype2set\n",
    "atype2name2set = wsets.accents.atype2name2set"
   ]
  },
  {
   "cell_type": "markdown",
   "metadata": {},
   "source": [
    "### mwords"
   ]
  },
  {
   "cell_type": "code",
   "execution_count": 11,
   "metadata": {},
   "outputs": [
    {
     "data": {
      "text/html": [
       "<table>\n",
       "<tr class=\"tf\">\n",
       "  <th class=\"tf\">n</th><th class=\"tf\">p</th>\n",
       "  <th class=\"tf\">verse</th><th>word</th><th>word</th>\n",
       "</tr>\n",
       "\n",
       "<tr class=\"tf\"><td class=\"tf\">1</td><td class=\"tf\"> <a href=\"https://shebanq.ancient-data.org/hebrew/text?book=Deuteronomium&amp;chapter=15&amp;verse=1&amp;version=c&amp;mr=m&amp;qw=q&amp;tp=txt_p&amp;tr=hb&amp;wget=v&amp;qget=v&amp;nget=vt\" title=\"show this passage in SHEBANQ\" sec=\"Deuteronomy 15:1\">Deuteronomy 15:1</a></td><td class=\"tf\"><span class=\"hb\"><a class=\"vn\" href=\"https://shebanq.ancient-data.org/hebrew/text?book=Deuteronomium&amp;chapter=15&amp;verse=1&amp;version=c&amp;mr=m&amp;qw=q&amp;tp=txt_p&amp;tr=hb&amp;wget=v&amp;qget=v&amp;nget=vt\" title=\"Deuteronomy 15:1\" sec=\"Deuteronomy 15:1\"></a><span  class=\"hl\" >מִ</span><span  class=\"hl\" >קֵּ֥ץ </span>שֶֽׁבַע־שָׁנִ֖ים תַּעֲשֶׂ֥ה שְׁמִטָּֽה׃ </span></td><td class=\"tf\"><span class=\"hb\"><span  class=\"hl\" >מִ</span></span></td><td class=\"tf\"><span class=\"hb\"><span  class=\"hl\" >קֵּ֥ץ </span></span></td></tr>\n",
       "<tr class=\"tf\"><td class=\"tf\">2</td><td class=\"tf\"> <a href=\"https://shebanq.ancient-data.org/hebrew/text?book=Deuteronomium&amp;chapter=15&amp;verse=1&amp;version=c&amp;mr=m&amp;qw=q&amp;tp=txt_p&amp;tr=hb&amp;wget=v&amp;qget=v&amp;nget=vt\" title=\"show this passage in SHEBANQ\" sec=\"Deuteronomy 15:1\">Deuteronomy 15:1</a></td><td class=\"tf\"><span class=\"hb\"><a class=\"vn\" href=\"https://shebanq.ancient-data.org/hebrew/text?book=Deuteronomium&amp;chapter=15&amp;verse=1&amp;version=c&amp;mr=m&amp;qw=q&amp;tp=txt_p&amp;tr=hb&amp;wget=v&amp;qget=v&amp;nget=vt\" title=\"Deuteronomy 15:1\" sec=\"Deuteronomy 15:1\"></a><span  class=\"hl\" >מִ</span><span  class=\"hl\" >קֵּ֥ץ </span>שֶֽׁבַע־שָׁנִ֖ים תַּעֲשֶׂ֥ה שְׁמִטָּֽה׃ </span></td><td class=\"tf\"><span class=\"hb\"><span  class=\"hl\" >מִ</span></span></td><td class=\"tf\"><span class=\"hb\"><span  class=\"hl\" >קֵּ֥ץ </span></span></td></tr>\n",
       "<tr class=\"tf\"><td class=\"tf\">3</td><td class=\"tf\"> <a href=\"https://shebanq.ancient-data.org/hebrew/text?book=Deuteronomium&amp;chapter=15&amp;verse=1&amp;version=c&amp;mr=m&amp;qw=q&amp;tp=txt_p&amp;tr=hb&amp;wget=v&amp;qget=v&amp;nget=vt\" title=\"show this passage in SHEBANQ\" sec=\"Deuteronomy 15:1\">Deuteronomy 15:1</a></td><td class=\"tf\"><span class=\"hb\"><a class=\"vn\" href=\"https://shebanq.ancient-data.org/hebrew/text?book=Deuteronomium&amp;chapter=15&amp;verse=1&amp;version=c&amp;mr=m&amp;qw=q&amp;tp=txt_p&amp;tr=hb&amp;wget=v&amp;qget=v&amp;nget=vt\" title=\"Deuteronomy 15:1\" sec=\"Deuteronomy 15:1\"></a>מִקֵּ֥ץ <span  class=\"hl\" >שֶֽׁבַע־</span><span  class=\"hl\" >שָׁנִ֖ים </span>תַּעֲשֶׂ֥ה שְׁמִטָּֽה׃ </span></td><td class=\"tf\"><span class=\"hb\"><span  class=\"hl\" >שֶֽׁבַע־</span></span></td><td class=\"tf\"><span class=\"hb\"><span  class=\"hl\" >שָׁנִ֖ים </span></span></td></tr>\n",
       "<tr class=\"tf\"><td class=\"tf\">4</td><td class=\"tf\"> <a href=\"https://shebanq.ancient-data.org/hebrew/text?book=Deuteronomium&amp;chapter=15&amp;verse=1&amp;version=c&amp;mr=m&amp;qw=q&amp;tp=txt_p&amp;tr=hb&amp;wget=v&amp;qget=v&amp;nget=vt\" title=\"show this passage in SHEBANQ\" sec=\"Deuteronomy 15:1\">Deuteronomy 15:1</a></td><td class=\"tf\"><span class=\"hb\"><a class=\"vn\" href=\"https://shebanq.ancient-data.org/hebrew/text?book=Deuteronomium&amp;chapter=15&amp;verse=1&amp;version=c&amp;mr=m&amp;qw=q&amp;tp=txt_p&amp;tr=hb&amp;wget=v&amp;qget=v&amp;nget=vt\" title=\"Deuteronomy 15:1\" sec=\"Deuteronomy 15:1\"></a>מִקֵּ֥ץ <span  class=\"hl\" >שֶֽׁבַע־</span><span  class=\"hl\" >שָׁנִ֖ים </span>תַּעֲשֶׂ֥ה שְׁמִטָּֽה׃ </span></td><td class=\"tf\"><span class=\"hb\"><span  class=\"hl\" >שֶֽׁבַע־</span></span></td><td class=\"tf\"><span class=\"hb\"><span  class=\"hl\" >שָׁנִ֖ים </span></span></td></tr>\n",
       "<tr class=\"tf\"><td class=\"tf\">5</td><td class=\"tf\"> <a href=\"https://shebanq.ancient-data.org/hebrew/text?book=Deuteronomium&amp;chapter=15&amp;verse=1&amp;version=c&amp;mr=m&amp;qw=q&amp;tp=txt_p&amp;tr=hb&amp;wget=v&amp;qget=v&amp;nget=vt\" title=\"show this passage in SHEBANQ\" sec=\"Deuteronomy 15:1\">Deuteronomy 15:1</a></td><td class=\"tf\"><span class=\"hb\"><a class=\"vn\" href=\"https://shebanq.ancient-data.org/hebrew/text?book=Deuteronomium&amp;chapter=15&amp;verse=1&amp;version=c&amp;mr=m&amp;qw=q&amp;tp=txt_p&amp;tr=hb&amp;wget=v&amp;qget=v&amp;nget=vt\" title=\"Deuteronomy 15:1\" sec=\"Deuteronomy 15:1\"></a>מִקֵּ֥ץ שֶֽׁבַע־שָׁנִ֖ים <span  class=\"hl\" >תַּעֲשֶׂ֥ה </span>שְׁמִטָּֽה׃ </span></td><td class=\"tf\"><span class=\"hb\"><span  class=\"hl\" >תַּעֲשֶׂ֥ה </span></span></td></tr>\n",
       "<tr class=\"tf\"><td class=\"tf\">6</td><td class=\"tf\"> <a href=\"https://shebanq.ancient-data.org/hebrew/text?book=Deuteronomium&amp;chapter=15&amp;verse=1&amp;version=c&amp;mr=m&amp;qw=q&amp;tp=txt_p&amp;tr=hb&amp;wget=v&amp;qget=v&amp;nget=vt\" title=\"show this passage in SHEBANQ\" sec=\"Deuteronomy 15:1\">Deuteronomy 15:1</a></td><td class=\"tf\"><span class=\"hb\"><a class=\"vn\" href=\"https://shebanq.ancient-data.org/hebrew/text?book=Deuteronomium&amp;chapter=15&amp;verse=1&amp;version=c&amp;mr=m&amp;qw=q&amp;tp=txt_p&amp;tr=hb&amp;wget=v&amp;qget=v&amp;nget=vt\" title=\"Deuteronomy 15:1\" sec=\"Deuteronomy 15:1\"></a>מִקֵּ֥ץ שֶֽׁבַע־שָׁנִ֖ים תַּעֲשֶׂ֥ה <span  class=\"hl\" >שְׁמִטָּֽה׃ </span></span></td><td class=\"tf\"><span class=\"hb\"><span  class=\"hl\" >שְׁמִטָּֽה׃ </span></span></td></tr>\n",
       "<tr class=\"tf\"><td class=\"tf\">7</td><td class=\"tf\"> <a href=\"https://shebanq.ancient-data.org/hebrew/text?book=Deuteronomium&amp;chapter=15&amp;verse=2&amp;version=c&amp;mr=m&amp;qw=q&amp;tp=txt_p&amp;tr=hb&amp;wget=v&amp;qget=v&amp;nget=vt\" title=\"show this passage in SHEBANQ\" sec=\"Deuteronomy 15:2\">Deuteronomy 15:2</a></td><td class=\"tf\"><span class=\"hb\"><a class=\"vn\" href=\"https://shebanq.ancient-data.org/hebrew/text?book=Deuteronomium&amp;chapter=15&amp;verse=2&amp;version=c&amp;mr=m&amp;qw=q&amp;tp=txt_p&amp;tr=hb&amp;wget=v&amp;qget=v&amp;nget=vt\" title=\"Deuteronomy 15:2\" sec=\"Deuteronomy 15:2\"></a><span  class=\"hl\" >וְ</span><span  class=\"hl\" >זֶה֮ </span>דְּבַ֣ר הַשְּׁמִטָּה֒ שָׁמֹ֗וט כָּל־בַּ֨עַל֙ מַשֵּׁ֣ה יָדֹ֔ו אֲשֶׁ֥ר יַשֶּׁ֖ה בְּרֵעֵ֑הוּ לֹֽא־יִגֹּ֤שׂ אֶת־רֵעֵ֨הוּ֙ וְאֶת־אָחִ֔יו כִּֽי־קָרָ֥א שְׁמִטָּ֖ה לַֽיהוָֽה׃ </span></td><td class=\"tf\"><span class=\"hb\"><span  class=\"hl\" >וְ</span></span></td><td class=\"tf\"><span class=\"hb\"><span  class=\"hl\" >זֶה֮ </span></span></td></tr>\n",
       "<tr class=\"tf\"><td class=\"tf\">8</td><td class=\"tf\"> <a href=\"https://shebanq.ancient-data.org/hebrew/text?book=Deuteronomium&amp;chapter=15&amp;verse=2&amp;version=c&amp;mr=m&amp;qw=q&amp;tp=txt_p&amp;tr=hb&amp;wget=v&amp;qget=v&amp;nget=vt\" title=\"show this passage in SHEBANQ\" sec=\"Deuteronomy 15:2\">Deuteronomy 15:2</a></td><td class=\"tf\"><span class=\"hb\"><a class=\"vn\" href=\"https://shebanq.ancient-data.org/hebrew/text?book=Deuteronomium&amp;chapter=15&amp;verse=2&amp;version=c&amp;mr=m&amp;qw=q&amp;tp=txt_p&amp;tr=hb&amp;wget=v&amp;qget=v&amp;nget=vt\" title=\"Deuteronomy 15:2\" sec=\"Deuteronomy 15:2\"></a><span  class=\"hl\" >וְ</span><span  class=\"hl\" >זֶה֮ </span>דְּבַ֣ר הַשְּׁמִטָּה֒ שָׁמֹ֗וט כָּל־בַּ֨עַל֙ מַשֵּׁ֣ה יָדֹ֔ו אֲשֶׁ֥ר יַשֶּׁ֖ה בְּרֵעֵ֑הוּ לֹֽא־יִגֹּ֤שׂ אֶת־רֵעֵ֨הוּ֙ וְאֶת־אָחִ֔יו כִּֽי־קָרָ֥א שְׁמִטָּ֖ה לַֽיהוָֽה׃ </span></td><td class=\"tf\"><span class=\"hb\"><span  class=\"hl\" >וְ</span></span></td><td class=\"tf\"><span class=\"hb\"><span  class=\"hl\" >זֶה֮ </span></span></td></tr>\n",
       "<tr class=\"tf\"><td class=\"tf\">9</td><td class=\"tf\"> <a href=\"https://shebanq.ancient-data.org/hebrew/text?book=Deuteronomium&amp;chapter=15&amp;verse=2&amp;version=c&amp;mr=m&amp;qw=q&amp;tp=txt_p&amp;tr=hb&amp;wget=v&amp;qget=v&amp;nget=vt\" title=\"show this passage in SHEBANQ\" sec=\"Deuteronomy 15:2\">Deuteronomy 15:2</a></td><td class=\"tf\"><span class=\"hb\"><a class=\"vn\" href=\"https://shebanq.ancient-data.org/hebrew/text?book=Deuteronomium&amp;chapter=15&amp;verse=2&amp;version=c&amp;mr=m&amp;qw=q&amp;tp=txt_p&amp;tr=hb&amp;wget=v&amp;qget=v&amp;nget=vt\" title=\"Deuteronomy 15:2\" sec=\"Deuteronomy 15:2\"></a>וְזֶה֮ <span  class=\"hl\" >דְּבַ֣ר </span>הַשְּׁמִטָּה֒ שָׁמֹ֗וט כָּל־בַּ֨עַל֙ מַשֵּׁ֣ה יָדֹ֔ו אֲשֶׁ֥ר יַשֶּׁ֖ה בְּרֵעֵ֑הוּ לֹֽא־יִגֹּ֤שׂ אֶת־רֵעֵ֨הוּ֙ וְאֶת־אָחִ֔יו כִּֽי־קָרָ֥א שְׁמִטָּ֖ה לַֽיהוָֽה׃ </span></td><td class=\"tf\"><span class=\"hb\"><span  class=\"hl\" >דְּבַ֣ר </span></span></td></tr>\n",
       "<tr class=\"tf\"><td class=\"tf\">10</td><td class=\"tf\"> <a href=\"https://shebanq.ancient-data.org/hebrew/text?book=Deuteronomium&amp;chapter=15&amp;verse=2&amp;version=c&amp;mr=m&amp;qw=q&amp;tp=txt_p&amp;tr=hb&amp;wget=v&amp;qget=v&amp;nget=vt\" title=\"show this passage in SHEBANQ\" sec=\"Deuteronomy 15:2\">Deuteronomy 15:2</a></td><td class=\"tf\"><span class=\"hb\"><a class=\"vn\" href=\"https://shebanq.ancient-data.org/hebrew/text?book=Deuteronomium&amp;chapter=15&amp;verse=2&amp;version=c&amp;mr=m&amp;qw=q&amp;tp=txt_p&amp;tr=hb&amp;wget=v&amp;qget=v&amp;nget=vt\" title=\"Deuteronomy 15:2\" sec=\"Deuteronomy 15:2\"></a>וְזֶה֮ דְּבַ֣ר <span  class=\"hl\" >הַ</span><span  class=\"hl\" >שְּׁמִטָּה֒ </span>שָׁמֹ֗וט כָּל־בַּ֨עַל֙ מַשֵּׁ֣ה יָדֹ֔ו אֲשֶׁ֥ר יַשֶּׁ֖ה בְּרֵעֵ֑הוּ לֹֽא־יִגֹּ֤שׂ אֶת־רֵעֵ֨הוּ֙ וְאֶת־אָחִ֔יו כִּֽי־קָרָ֥א שְׁמִטָּ֖ה לַֽיהוָֽה׃ </span></td><td class=\"tf\"><span class=\"hb\"><span  class=\"hl\" >הַ</span></span></td><td class=\"tf\"><span class=\"hb\"><span  class=\"hl\" >שְּׁמִטָּה֒ </span></span></td></tr>\n",
       "<tr class=\"tf\"><td class=\"tf\">11</td><td class=\"tf\"> <a href=\"https://shebanq.ancient-data.org/hebrew/text?book=Deuteronomium&amp;chapter=15&amp;verse=2&amp;version=c&amp;mr=m&amp;qw=q&amp;tp=txt_p&amp;tr=hb&amp;wget=v&amp;qget=v&amp;nget=vt\" title=\"show this passage in SHEBANQ\" sec=\"Deuteronomy 15:2\">Deuteronomy 15:2</a></td><td class=\"tf\"><span class=\"hb\"><a class=\"vn\" href=\"https://shebanq.ancient-data.org/hebrew/text?book=Deuteronomium&amp;chapter=15&amp;verse=2&amp;version=c&amp;mr=m&amp;qw=q&amp;tp=txt_p&amp;tr=hb&amp;wget=v&amp;qget=v&amp;nget=vt\" title=\"Deuteronomy 15:2\" sec=\"Deuteronomy 15:2\"></a>וְזֶה֮ דְּבַ֣ר <span  class=\"hl\" >הַ</span><span  class=\"hl\" >שְּׁמִטָּה֒ </span>שָׁמֹ֗וט כָּל־בַּ֨עַל֙ מַשֵּׁ֣ה יָדֹ֔ו אֲשֶׁ֥ר יַשֶּׁ֖ה בְּרֵעֵ֑הוּ לֹֽא־יִגֹּ֤שׂ אֶת־רֵעֵ֨הוּ֙ וְאֶת־אָחִ֔יו כִּֽי־קָרָ֥א שְׁמִטָּ֖ה לַֽיהוָֽה׃ </span></td><td class=\"tf\"><span class=\"hb\"><span  class=\"hl\" >הַ</span></span></td><td class=\"tf\"><span class=\"hb\"><span  class=\"hl\" >שְּׁמִטָּה֒ </span></span></td></tr>\n",
       "<tr class=\"tf\"><td class=\"tf\">12</td><td class=\"tf\"> <a href=\"https://shebanq.ancient-data.org/hebrew/text?book=Deuteronomium&amp;chapter=15&amp;verse=2&amp;version=c&amp;mr=m&amp;qw=q&amp;tp=txt_p&amp;tr=hb&amp;wget=v&amp;qget=v&amp;nget=vt\" title=\"show this passage in SHEBANQ\" sec=\"Deuteronomy 15:2\">Deuteronomy 15:2</a></td><td class=\"tf\"><span class=\"hb\"><a class=\"vn\" href=\"https://shebanq.ancient-data.org/hebrew/text?book=Deuteronomium&amp;chapter=15&amp;verse=2&amp;version=c&amp;mr=m&amp;qw=q&amp;tp=txt_p&amp;tr=hb&amp;wget=v&amp;qget=v&amp;nget=vt\" title=\"Deuteronomy 15:2\" sec=\"Deuteronomy 15:2\"></a>וְזֶה֮ דְּבַ֣ר הַשְּׁמִטָּה֒ <span  class=\"hl\" >שָׁמֹ֗וט </span>כָּל־בַּ֨עַל֙ מַשֵּׁ֣ה יָדֹ֔ו אֲשֶׁ֥ר יַשֶּׁ֖ה בְּרֵעֵ֑הוּ לֹֽא־יִגֹּ֤שׂ אֶת־רֵעֵ֨הוּ֙ וְאֶת־אָחִ֔יו כִּֽי־קָרָ֥א שְׁמִטָּ֖ה לַֽיהוָֽה׃ </span></td><td class=\"tf\"><span class=\"hb\"><span  class=\"hl\" >שָׁמֹ֗וט </span></span></td></tr>\n",
       "<tr class=\"tf\"><td class=\"tf\">13</td><td class=\"tf\"> <a href=\"https://shebanq.ancient-data.org/hebrew/text?book=Deuteronomium&amp;chapter=15&amp;verse=2&amp;version=c&amp;mr=m&amp;qw=q&amp;tp=txt_p&amp;tr=hb&amp;wget=v&amp;qget=v&amp;nget=vt\" title=\"show this passage in SHEBANQ\" sec=\"Deuteronomy 15:2\">Deuteronomy 15:2</a></td><td class=\"tf\"><span class=\"hb\"><a class=\"vn\" href=\"https://shebanq.ancient-data.org/hebrew/text?book=Deuteronomium&amp;chapter=15&amp;verse=2&amp;version=c&amp;mr=m&amp;qw=q&amp;tp=txt_p&amp;tr=hb&amp;wget=v&amp;qget=v&amp;nget=vt\" title=\"Deuteronomy 15:2\" sec=\"Deuteronomy 15:2\"></a>וְזֶה֮ דְּבַ֣ר הַשְּׁמִטָּה֒ שָׁמֹ֗וט <span  class=\"hl\" >כָּל־</span><span  class=\"hl\" >בַּ֨עַל֙ </span>מַשֵּׁ֣ה יָדֹ֔ו אֲשֶׁ֥ר יַשֶּׁ֖ה בְּרֵעֵ֑הוּ לֹֽא־יִגֹּ֤שׂ אֶת־רֵעֵ֨הוּ֙ וְאֶת־אָחִ֔יו כִּֽי־קָרָ֥א שְׁמִטָּ֖ה לַֽיהוָֽה׃ </span></td><td class=\"tf\"><span class=\"hb\"><span  class=\"hl\" >כָּל־</span></span></td><td class=\"tf\"><span class=\"hb\"><span  class=\"hl\" >בַּ֨עַל֙ </span></span></td></tr>\n",
       "<tr class=\"tf\"><td class=\"tf\">14</td><td class=\"tf\"> <a href=\"https://shebanq.ancient-data.org/hebrew/text?book=Deuteronomium&amp;chapter=15&amp;verse=2&amp;version=c&amp;mr=m&amp;qw=q&amp;tp=txt_p&amp;tr=hb&amp;wget=v&amp;qget=v&amp;nget=vt\" title=\"show this passage in SHEBANQ\" sec=\"Deuteronomy 15:2\">Deuteronomy 15:2</a></td><td class=\"tf\"><span class=\"hb\"><a class=\"vn\" href=\"https://shebanq.ancient-data.org/hebrew/text?book=Deuteronomium&amp;chapter=15&amp;verse=2&amp;version=c&amp;mr=m&amp;qw=q&amp;tp=txt_p&amp;tr=hb&amp;wget=v&amp;qget=v&amp;nget=vt\" title=\"Deuteronomy 15:2\" sec=\"Deuteronomy 15:2\"></a>וְזֶה֮ דְּבַ֣ר הַשְּׁמִטָּה֒ שָׁמֹ֗וט <span  class=\"hl\" >כָּל־</span><span  class=\"hl\" >בַּ֨עַל֙ </span>מַשֵּׁ֣ה יָדֹ֔ו אֲשֶׁ֥ר יַשֶּׁ֖ה בְּרֵעֵ֑הוּ לֹֽא־יִגֹּ֤שׂ אֶת־רֵעֵ֨הוּ֙ וְאֶת־אָחִ֔יו כִּֽי־קָרָ֥א שְׁמִטָּ֖ה לַֽיהוָֽה׃ </span></td><td class=\"tf\"><span class=\"hb\"><span  class=\"hl\" >כָּל־</span></span></td><td class=\"tf\"><span class=\"hb\"><span  class=\"hl\" >בַּ֨עַל֙ </span></span></td></tr>\n",
       "<tr class=\"tf\"><td class=\"tf\">15</td><td class=\"tf\"> <a href=\"https://shebanq.ancient-data.org/hebrew/text?book=Deuteronomium&amp;chapter=15&amp;verse=2&amp;version=c&amp;mr=m&amp;qw=q&amp;tp=txt_p&amp;tr=hb&amp;wget=v&amp;qget=v&amp;nget=vt\" title=\"show this passage in SHEBANQ\" sec=\"Deuteronomy 15:2\">Deuteronomy 15:2</a></td><td class=\"tf\"><span class=\"hb\"><a class=\"vn\" href=\"https://shebanq.ancient-data.org/hebrew/text?book=Deuteronomium&amp;chapter=15&amp;verse=2&amp;version=c&amp;mr=m&amp;qw=q&amp;tp=txt_p&amp;tr=hb&amp;wget=v&amp;qget=v&amp;nget=vt\" title=\"Deuteronomy 15:2\" sec=\"Deuteronomy 15:2\"></a>וְזֶה֮ דְּבַ֣ר הַשְּׁמִטָּה֒ שָׁמֹ֗וט כָּל־בַּ֨עַל֙ <span  class=\"hl\" >מַשֵּׁ֣ה </span>יָדֹ֔ו אֲשֶׁ֥ר יַשֶּׁ֖ה בְּרֵעֵ֑הוּ לֹֽא־יִגֹּ֤שׂ אֶת־רֵעֵ֨הוּ֙ וְאֶת־אָחִ֔יו כִּֽי־קָרָ֥א שְׁמִטָּ֖ה לַֽיהוָֽה׃ </span></td><td class=\"tf\"><span class=\"hb\"><span  class=\"hl\" >מַשֵּׁ֣ה </span></span></td></tr>\n",
       "<tr class=\"tf\"><td class=\"tf\">16</td><td class=\"tf\"> <a href=\"https://shebanq.ancient-data.org/hebrew/text?book=Deuteronomium&amp;chapter=15&amp;verse=2&amp;version=c&amp;mr=m&amp;qw=q&amp;tp=txt_p&amp;tr=hb&amp;wget=v&amp;qget=v&amp;nget=vt\" title=\"show this passage in SHEBANQ\" sec=\"Deuteronomy 15:2\">Deuteronomy 15:2</a></td><td class=\"tf\"><span class=\"hb\"><a class=\"vn\" href=\"https://shebanq.ancient-data.org/hebrew/text?book=Deuteronomium&amp;chapter=15&amp;verse=2&amp;version=c&amp;mr=m&amp;qw=q&amp;tp=txt_p&amp;tr=hb&amp;wget=v&amp;qget=v&amp;nget=vt\" title=\"Deuteronomy 15:2\" sec=\"Deuteronomy 15:2\"></a>וְזֶה֮ דְּבַ֣ר הַשְּׁמִטָּה֒ שָׁמֹ֗וט כָּל־בַּ֨עַל֙ מַשֵּׁ֣ה <span  class=\"hl\" >יָדֹ֔ו </span>אֲשֶׁ֥ר יַשֶּׁ֖ה בְּרֵעֵ֑הוּ לֹֽא־יִגֹּ֤שׂ אֶת־רֵעֵ֨הוּ֙ וְאֶת־אָחִ֔יו כִּֽי־קָרָ֥א שְׁמִטָּ֖ה לַֽיהוָֽה׃ </span></td><td class=\"tf\"><span class=\"hb\"><span  class=\"hl\" >יָדֹ֔ו </span></span></td></tr>\n",
       "<tr class=\"tf\"><td class=\"tf\">17</td><td class=\"tf\"> <a href=\"https://shebanq.ancient-data.org/hebrew/text?book=Deuteronomium&amp;chapter=15&amp;verse=2&amp;version=c&amp;mr=m&amp;qw=q&amp;tp=txt_p&amp;tr=hb&amp;wget=v&amp;qget=v&amp;nget=vt\" title=\"show this passage in SHEBANQ\" sec=\"Deuteronomy 15:2\">Deuteronomy 15:2</a></td><td class=\"tf\"><span class=\"hb\"><a class=\"vn\" href=\"https://shebanq.ancient-data.org/hebrew/text?book=Deuteronomium&amp;chapter=15&amp;verse=2&amp;version=c&amp;mr=m&amp;qw=q&amp;tp=txt_p&amp;tr=hb&amp;wget=v&amp;qget=v&amp;nget=vt\" title=\"Deuteronomy 15:2\" sec=\"Deuteronomy 15:2\"></a>וְזֶה֮ דְּבַ֣ר הַשְּׁמִטָּה֒ שָׁמֹ֗וט כָּל־בַּ֨עַל֙ מַשֵּׁ֣ה יָדֹ֔ו <span  class=\"hl\" >אֲשֶׁ֥ר </span>יַשֶּׁ֖ה בְּרֵעֵ֑הוּ לֹֽא־יִגֹּ֤שׂ אֶת־רֵעֵ֨הוּ֙ וְאֶת־אָחִ֔יו כִּֽי־קָרָ֥א שְׁמִטָּ֖ה לַֽיהוָֽה׃ </span></td><td class=\"tf\"><span class=\"hb\"><span  class=\"hl\" >אֲשֶׁ֥ר </span></span></td></tr>\n",
       "<tr class=\"tf\"><td class=\"tf\">18</td><td class=\"tf\"> <a href=\"https://shebanq.ancient-data.org/hebrew/text?book=Deuteronomium&amp;chapter=15&amp;verse=2&amp;version=c&amp;mr=m&amp;qw=q&amp;tp=txt_p&amp;tr=hb&amp;wget=v&amp;qget=v&amp;nget=vt\" title=\"show this passage in SHEBANQ\" sec=\"Deuteronomy 15:2\">Deuteronomy 15:2</a></td><td class=\"tf\"><span class=\"hb\"><a class=\"vn\" href=\"https://shebanq.ancient-data.org/hebrew/text?book=Deuteronomium&amp;chapter=15&amp;verse=2&amp;version=c&amp;mr=m&amp;qw=q&amp;tp=txt_p&amp;tr=hb&amp;wget=v&amp;qget=v&amp;nget=vt\" title=\"Deuteronomy 15:2\" sec=\"Deuteronomy 15:2\"></a>וְזֶה֮ דְּבַ֣ר הַשְּׁמִטָּה֒ שָׁמֹ֗וט כָּל־בַּ֨עַל֙ מַשֵּׁ֣ה יָדֹ֔ו אֲשֶׁ֥ר <span  class=\"hl\" >יַשֶּׁ֖ה </span>בְּרֵעֵ֑הוּ לֹֽא־יִגֹּ֤שׂ אֶת־רֵעֵ֨הוּ֙ וְאֶת־אָחִ֔יו כִּֽי־קָרָ֥א שְׁמִטָּ֖ה לַֽיהוָֽה׃ </span></td><td class=\"tf\"><span class=\"hb\"><span  class=\"hl\" >יַשֶּׁ֖ה </span></span></td></tr>\n",
       "<tr class=\"tf\"><td class=\"tf\">19</td><td class=\"tf\"> <a href=\"https://shebanq.ancient-data.org/hebrew/text?book=Deuteronomium&amp;chapter=15&amp;verse=2&amp;version=c&amp;mr=m&amp;qw=q&amp;tp=txt_p&amp;tr=hb&amp;wget=v&amp;qget=v&amp;nget=vt\" title=\"show this passage in SHEBANQ\" sec=\"Deuteronomy 15:2\">Deuteronomy 15:2</a></td><td class=\"tf\"><span class=\"hb\"><a class=\"vn\" href=\"https://shebanq.ancient-data.org/hebrew/text?book=Deuteronomium&amp;chapter=15&amp;verse=2&amp;version=c&amp;mr=m&amp;qw=q&amp;tp=txt_p&amp;tr=hb&amp;wget=v&amp;qget=v&amp;nget=vt\" title=\"Deuteronomy 15:2\" sec=\"Deuteronomy 15:2\"></a>וְזֶה֮ דְּבַ֣ר הַשְּׁמִטָּה֒ שָׁמֹ֗וט כָּל־בַּ֨עַל֙ מַשֵּׁ֣ה יָדֹ֔ו אֲשֶׁ֥ר יַשֶּׁ֖ה <span  class=\"hl\" >בְּ</span><span  class=\"hl\" >רֵעֵ֑הוּ </span>לֹֽא־יִגֹּ֤שׂ אֶת־רֵעֵ֨הוּ֙ וְאֶת־אָחִ֔יו כִּֽי־קָרָ֥א שְׁמִטָּ֖ה לַֽיהוָֽה׃ </span></td><td class=\"tf\"><span class=\"hb\"><span  class=\"hl\" >בְּ</span></span></td><td class=\"tf\"><span class=\"hb\"><span  class=\"hl\" >רֵעֵ֑הוּ </span></span></td></tr>\n",
       "<tr class=\"tf\"><td class=\"tf\">20</td><td class=\"tf\"> <a href=\"https://shebanq.ancient-data.org/hebrew/text?book=Deuteronomium&amp;chapter=15&amp;verse=2&amp;version=c&amp;mr=m&amp;qw=q&amp;tp=txt_p&amp;tr=hb&amp;wget=v&amp;qget=v&amp;nget=vt\" title=\"show this passage in SHEBANQ\" sec=\"Deuteronomy 15:2\">Deuteronomy 15:2</a></td><td class=\"tf\"><span class=\"hb\"><a class=\"vn\" href=\"https://shebanq.ancient-data.org/hebrew/text?book=Deuteronomium&amp;chapter=15&amp;verse=2&amp;version=c&amp;mr=m&amp;qw=q&amp;tp=txt_p&amp;tr=hb&amp;wget=v&amp;qget=v&amp;nget=vt\" title=\"Deuteronomy 15:2\" sec=\"Deuteronomy 15:2\"></a>וְזֶה֮ דְּבַ֣ר הַשְּׁמִטָּה֒ שָׁמֹ֗וט כָּל־בַּ֨עַל֙ מַשֵּׁ֣ה יָדֹ֔ו אֲשֶׁ֥ר יַשֶּׁ֖ה <span  class=\"hl\" >בְּ</span><span  class=\"hl\" >רֵעֵ֑הוּ </span>לֹֽא־יִגֹּ֤שׂ אֶת־רֵעֵ֨הוּ֙ וְאֶת־אָחִ֔יו כִּֽי־קָרָ֥א שְׁמִטָּ֖ה לַֽיהוָֽה׃ </span></td><td class=\"tf\"><span class=\"hb\"><span  class=\"hl\" >בְּ</span></span></td><td class=\"tf\"><span class=\"hb\"><span  class=\"hl\" >רֵעֵ֑הוּ </span></span></td></tr>\n",
       "<tr class=\"tf\"><td class=\"tf\">21</td><td class=\"tf\"> <a href=\"https://shebanq.ancient-data.org/hebrew/text?book=Deuteronomium&amp;chapter=15&amp;verse=2&amp;version=c&amp;mr=m&amp;qw=q&amp;tp=txt_p&amp;tr=hb&amp;wget=v&amp;qget=v&amp;nget=vt\" title=\"show this passage in SHEBANQ\" sec=\"Deuteronomy 15:2\">Deuteronomy 15:2</a></td><td class=\"tf\"><span class=\"hb\"><a class=\"vn\" href=\"https://shebanq.ancient-data.org/hebrew/text?book=Deuteronomium&amp;chapter=15&amp;verse=2&amp;version=c&amp;mr=m&amp;qw=q&amp;tp=txt_p&amp;tr=hb&amp;wget=v&amp;qget=v&amp;nget=vt\" title=\"Deuteronomy 15:2\" sec=\"Deuteronomy 15:2\"></a>וְזֶה֮ דְּבַ֣ר הַשְּׁמִטָּה֒ שָׁמֹ֗וט כָּל־בַּ֨עַל֙ מַשֵּׁ֣ה יָדֹ֔ו אֲשֶׁ֥ר יַשֶּׁ֖ה בְּרֵעֵ֑הוּ <span  class=\"hl\" >לֹֽא־</span><span  class=\"hl\" >יִגֹּ֤שׂ </span>אֶת־רֵעֵ֨הוּ֙ וְאֶת־אָחִ֔יו כִּֽי־קָרָ֥א שְׁמִטָּ֖ה לַֽיהוָֽה׃ </span></td><td class=\"tf\"><span class=\"hb\"><span  class=\"hl\" >לֹֽא־</span></span></td><td class=\"tf\"><span class=\"hb\"><span  class=\"hl\" >יִגֹּ֤שׂ </span></span></td></tr>\n",
       "<tr class=\"tf\"><td class=\"tf\">22</td><td class=\"tf\"> <a href=\"https://shebanq.ancient-data.org/hebrew/text?book=Deuteronomium&amp;chapter=15&amp;verse=2&amp;version=c&amp;mr=m&amp;qw=q&amp;tp=txt_p&amp;tr=hb&amp;wget=v&amp;qget=v&amp;nget=vt\" title=\"show this passage in SHEBANQ\" sec=\"Deuteronomy 15:2\">Deuteronomy 15:2</a></td><td class=\"tf\"><span class=\"hb\"><a class=\"vn\" href=\"https://shebanq.ancient-data.org/hebrew/text?book=Deuteronomium&amp;chapter=15&amp;verse=2&amp;version=c&amp;mr=m&amp;qw=q&amp;tp=txt_p&amp;tr=hb&amp;wget=v&amp;qget=v&amp;nget=vt\" title=\"Deuteronomy 15:2\" sec=\"Deuteronomy 15:2\"></a>וְזֶה֮ דְּבַ֣ר הַשְּׁמִטָּה֒ שָׁמֹ֗וט כָּל־בַּ֨עַל֙ מַשֵּׁ֣ה יָדֹ֔ו אֲשֶׁ֥ר יַשֶּׁ֖ה בְּרֵעֵ֑הוּ <span  class=\"hl\" >לֹֽא־</span><span  class=\"hl\" >יִגֹּ֤שׂ </span>אֶת־רֵעֵ֨הוּ֙ וְאֶת־אָחִ֔יו כִּֽי־קָרָ֥א שְׁמִטָּ֖ה לַֽיהוָֽה׃ </span></td><td class=\"tf\"><span class=\"hb\"><span  class=\"hl\" >לֹֽא־</span></span></td><td class=\"tf\"><span class=\"hb\"><span  class=\"hl\" >יִגֹּ֤שׂ </span></span></td></tr>\n",
       "<tr class=\"tf\"><td class=\"tf\">23</td><td class=\"tf\"> <a href=\"https://shebanq.ancient-data.org/hebrew/text?book=Deuteronomium&amp;chapter=15&amp;verse=2&amp;version=c&amp;mr=m&amp;qw=q&amp;tp=txt_p&amp;tr=hb&amp;wget=v&amp;qget=v&amp;nget=vt\" title=\"show this passage in SHEBANQ\" sec=\"Deuteronomy 15:2\">Deuteronomy 15:2</a></td><td class=\"tf\"><span class=\"hb\"><a class=\"vn\" href=\"https://shebanq.ancient-data.org/hebrew/text?book=Deuteronomium&amp;chapter=15&amp;verse=2&amp;version=c&amp;mr=m&amp;qw=q&amp;tp=txt_p&amp;tr=hb&amp;wget=v&amp;qget=v&amp;nget=vt\" title=\"Deuteronomy 15:2\" sec=\"Deuteronomy 15:2\"></a>וְזֶה֮ דְּבַ֣ר הַשְּׁמִטָּה֒ שָׁמֹ֗וט כָּל־בַּ֨עַל֙ מַשֵּׁ֣ה יָדֹ֔ו אֲשֶׁ֥ר יַשֶּׁ֖ה בְּרֵעֵ֑הוּ לֹֽא־יִגֹּ֤שׂ <span  class=\"hl\" >אֶת־</span><span  class=\"hl\" >רֵעֵ֨הוּ֙ </span>וְאֶת־אָחִ֔יו כִּֽי־קָרָ֥א שְׁמִטָּ֖ה לַֽיהוָֽה׃ </span></td><td class=\"tf\"><span class=\"hb\"><span  class=\"hl\" >אֶת־</span></span></td><td class=\"tf\"><span class=\"hb\"><span  class=\"hl\" >רֵעֵ֨הוּ֙ </span></span></td></tr>\n",
       "<tr class=\"tf\"><td class=\"tf\">24</td><td class=\"tf\"> <a href=\"https://shebanq.ancient-data.org/hebrew/text?book=Deuteronomium&amp;chapter=15&amp;verse=2&amp;version=c&amp;mr=m&amp;qw=q&amp;tp=txt_p&amp;tr=hb&amp;wget=v&amp;qget=v&amp;nget=vt\" title=\"show this passage in SHEBANQ\" sec=\"Deuteronomy 15:2\">Deuteronomy 15:2</a></td><td class=\"tf\"><span class=\"hb\"><a class=\"vn\" href=\"https://shebanq.ancient-data.org/hebrew/text?book=Deuteronomium&amp;chapter=15&amp;verse=2&amp;version=c&amp;mr=m&amp;qw=q&amp;tp=txt_p&amp;tr=hb&amp;wget=v&amp;qget=v&amp;nget=vt\" title=\"Deuteronomy 15:2\" sec=\"Deuteronomy 15:2\"></a>וְזֶה֮ דְּבַ֣ר הַשְּׁמִטָּה֒ שָׁמֹ֗וט כָּל־בַּ֨עַל֙ מַשֵּׁ֣ה יָדֹ֔ו אֲשֶׁ֥ר יַשֶּׁ֖ה בְּרֵעֵ֑הוּ לֹֽא־יִגֹּ֤שׂ <span  class=\"hl\" >אֶת־</span><span  class=\"hl\" >רֵעֵ֨הוּ֙ </span>וְאֶת־אָחִ֔יו כִּֽי־קָרָ֥א שְׁמִטָּ֖ה לַֽיהוָֽה׃ </span></td><td class=\"tf\"><span class=\"hb\"><span  class=\"hl\" >אֶת־</span></span></td><td class=\"tf\"><span class=\"hb\"><span  class=\"hl\" >רֵעֵ֨הוּ֙ </span></span></td></tr>\n",
       "<tr class=\"tf\"><td class=\"tf\">25</td><td class=\"tf\"> <a href=\"https://shebanq.ancient-data.org/hebrew/text?book=Deuteronomium&amp;chapter=15&amp;verse=2&amp;version=c&amp;mr=m&amp;qw=q&amp;tp=txt_p&amp;tr=hb&amp;wget=v&amp;qget=v&amp;nget=vt\" title=\"show this passage in SHEBANQ\" sec=\"Deuteronomy 15:2\">Deuteronomy 15:2</a></td><td class=\"tf\"><span class=\"hb\"><a class=\"vn\" href=\"https://shebanq.ancient-data.org/hebrew/text?book=Deuteronomium&amp;chapter=15&amp;verse=2&amp;version=c&amp;mr=m&amp;qw=q&amp;tp=txt_p&amp;tr=hb&amp;wget=v&amp;qget=v&amp;nget=vt\" title=\"Deuteronomy 15:2\" sec=\"Deuteronomy 15:2\"></a>וְזֶה֮ דְּבַ֣ר הַשְּׁמִטָּה֒ שָׁמֹ֗וט כָּל־בַּ֨עַל֙ מַשֵּׁ֣ה יָדֹ֔ו אֲשֶׁ֥ר יַשֶּׁ֖ה בְּרֵעֵ֑הוּ לֹֽא־יִגֹּ֤שׂ אֶת־רֵעֵ֨הוּ֙ <span  class=\"hl\" >וְ</span><span  class=\"hl\" >אֶת־</span><span  class=\"hl\" >אָחִ֔יו </span>כִּֽי־קָרָ֥א שְׁמִטָּ֖ה לַֽיהוָֽה׃ </span></td><td class=\"tf\"><span class=\"hb\"><span  class=\"hl\" >וְ</span></span></td><td class=\"tf\"><span class=\"hb\"><span  class=\"hl\" >אֶת־</span></span></td><td class=\"tf\"><span class=\"hb\"><span  class=\"hl\" >אָחִ֔יו </span></span></td></tr>\n",
       "<tr class=\"tf\"><td class=\"tf\">26</td><td class=\"tf\"> <a href=\"https://shebanq.ancient-data.org/hebrew/text?book=Deuteronomium&amp;chapter=15&amp;verse=2&amp;version=c&amp;mr=m&amp;qw=q&amp;tp=txt_p&amp;tr=hb&amp;wget=v&amp;qget=v&amp;nget=vt\" title=\"show this passage in SHEBANQ\" sec=\"Deuteronomy 15:2\">Deuteronomy 15:2</a></td><td class=\"tf\"><span class=\"hb\"><a class=\"vn\" href=\"https://shebanq.ancient-data.org/hebrew/text?book=Deuteronomium&amp;chapter=15&amp;verse=2&amp;version=c&amp;mr=m&amp;qw=q&amp;tp=txt_p&amp;tr=hb&amp;wget=v&amp;qget=v&amp;nget=vt\" title=\"Deuteronomy 15:2\" sec=\"Deuteronomy 15:2\"></a>וְזֶה֮ דְּבַ֣ר הַשְּׁמִטָּה֒ שָׁמֹ֗וט כָּל־בַּ֨עַל֙ מַשֵּׁ֣ה יָדֹ֔ו אֲשֶׁ֥ר יַשֶּׁ֖ה בְּרֵעֵ֑הוּ לֹֽא־יִגֹּ֤שׂ אֶת־רֵעֵ֨הוּ֙ <span  class=\"hl\" >וְ</span><span  class=\"hl\" >אֶת־</span><span  class=\"hl\" >אָחִ֔יו </span>כִּֽי־קָרָ֥א שְׁמִטָּ֖ה לַֽיהוָֽה׃ </span></td><td class=\"tf\"><span class=\"hb\"><span  class=\"hl\" >וְ</span></span></td><td class=\"tf\"><span class=\"hb\"><span  class=\"hl\" >אֶת־</span></span></td><td class=\"tf\"><span class=\"hb\"><span  class=\"hl\" >אָחִ֔יו </span></span></td></tr>\n",
       "<tr class=\"tf\"><td class=\"tf\">27</td><td class=\"tf\"> <a href=\"https://shebanq.ancient-data.org/hebrew/text?book=Deuteronomium&amp;chapter=15&amp;verse=2&amp;version=c&amp;mr=m&amp;qw=q&amp;tp=txt_p&amp;tr=hb&amp;wget=v&amp;qget=v&amp;nget=vt\" title=\"show this passage in SHEBANQ\" sec=\"Deuteronomy 15:2\">Deuteronomy 15:2</a></td><td class=\"tf\"><span class=\"hb\"><a class=\"vn\" href=\"https://shebanq.ancient-data.org/hebrew/text?book=Deuteronomium&amp;chapter=15&amp;verse=2&amp;version=c&amp;mr=m&amp;qw=q&amp;tp=txt_p&amp;tr=hb&amp;wget=v&amp;qget=v&amp;nget=vt\" title=\"Deuteronomy 15:2\" sec=\"Deuteronomy 15:2\"></a>וְזֶה֮ דְּבַ֣ר הַשְּׁמִטָּה֒ שָׁמֹ֗וט כָּל־בַּ֨עַל֙ מַשֵּׁ֣ה יָדֹ֔ו אֲשֶׁ֥ר יַשֶּׁ֖ה בְּרֵעֵ֑הוּ לֹֽא־יִגֹּ֤שׂ אֶת־רֵעֵ֨הוּ֙ <span  class=\"hl\" >וְ</span><span  class=\"hl\" >אֶת־</span><span  class=\"hl\" >אָחִ֔יו </span>כִּֽי־קָרָ֥א שְׁמִטָּ֖ה לַֽיהוָֽה׃ </span></td><td class=\"tf\"><span class=\"hb\"><span  class=\"hl\" >וְ</span></span></td><td class=\"tf\"><span class=\"hb\"><span  class=\"hl\" >אֶת־</span></span></td><td class=\"tf\"><span class=\"hb\"><span  class=\"hl\" >אָחִ֔יו </span></span></td></tr>\n",
       "<tr class=\"tf\"><td class=\"tf\">28</td><td class=\"tf\"> <a href=\"https://shebanq.ancient-data.org/hebrew/text?book=Deuteronomium&amp;chapter=15&amp;verse=2&amp;version=c&amp;mr=m&amp;qw=q&amp;tp=txt_p&amp;tr=hb&amp;wget=v&amp;qget=v&amp;nget=vt\" title=\"show this passage in SHEBANQ\" sec=\"Deuteronomy 15:2\">Deuteronomy 15:2</a></td><td class=\"tf\"><span class=\"hb\"><a class=\"vn\" href=\"https://shebanq.ancient-data.org/hebrew/text?book=Deuteronomium&amp;chapter=15&amp;verse=2&amp;version=c&amp;mr=m&amp;qw=q&amp;tp=txt_p&amp;tr=hb&amp;wget=v&amp;qget=v&amp;nget=vt\" title=\"Deuteronomy 15:2\" sec=\"Deuteronomy 15:2\"></a>וְזֶה֮ דְּבַ֣ר הַשְּׁמִטָּה֒ שָׁמֹ֗וט כָּל־בַּ֨עַל֙ מַשֵּׁ֣ה יָדֹ֔ו אֲשֶׁ֥ר יַשֶּׁ֖ה בְּרֵעֵ֑הוּ לֹֽא־יִגֹּ֤שׂ אֶת־רֵעֵ֨הוּ֙ וְאֶת־אָחִ֔יו <span  class=\"hl\" >כִּֽי־</span><span  class=\"hl\" >קָרָ֥א </span>שְׁמִטָּ֖ה לַֽיהוָֽה׃ </span></td><td class=\"tf\"><span class=\"hb\"><span  class=\"hl\" >כִּֽי־</span></span></td><td class=\"tf\"><span class=\"hb\"><span  class=\"hl\" >קָרָ֥א </span></span></td></tr>\n",
       "<tr class=\"tf\"><td class=\"tf\">29</td><td class=\"tf\"> <a href=\"https://shebanq.ancient-data.org/hebrew/text?book=Deuteronomium&amp;chapter=15&amp;verse=2&amp;version=c&amp;mr=m&amp;qw=q&amp;tp=txt_p&amp;tr=hb&amp;wget=v&amp;qget=v&amp;nget=vt\" title=\"show this passage in SHEBANQ\" sec=\"Deuteronomy 15:2\">Deuteronomy 15:2</a></td><td class=\"tf\"><span class=\"hb\"><a class=\"vn\" href=\"https://shebanq.ancient-data.org/hebrew/text?book=Deuteronomium&amp;chapter=15&amp;verse=2&amp;version=c&amp;mr=m&amp;qw=q&amp;tp=txt_p&amp;tr=hb&amp;wget=v&amp;qget=v&amp;nget=vt\" title=\"Deuteronomy 15:2\" sec=\"Deuteronomy 15:2\"></a>וְזֶה֮ דְּבַ֣ר הַשְּׁמִטָּה֒ שָׁמֹ֗וט כָּל־בַּ֨עַל֙ מַשֵּׁ֣ה יָדֹ֔ו אֲשֶׁ֥ר יַשֶּׁ֖ה בְּרֵעֵ֑הוּ לֹֽא־יִגֹּ֤שׂ אֶת־רֵעֵ֨הוּ֙ וְאֶת־אָחִ֔יו <span  class=\"hl\" >כִּֽי־</span><span  class=\"hl\" >קָרָ֥א </span>שְׁמִטָּ֖ה לַֽיהוָֽה׃ </span></td><td class=\"tf\"><span class=\"hb\"><span  class=\"hl\" >כִּֽי־</span></span></td><td class=\"tf\"><span class=\"hb\"><span  class=\"hl\" >קָרָ֥א </span></span></td></tr>\n",
       "<tr class=\"tf\"><td class=\"tf\">30</td><td class=\"tf\"> <a href=\"https://shebanq.ancient-data.org/hebrew/text?book=Deuteronomium&amp;chapter=15&amp;verse=2&amp;version=c&amp;mr=m&amp;qw=q&amp;tp=txt_p&amp;tr=hb&amp;wget=v&amp;qget=v&amp;nget=vt\" title=\"show this passage in SHEBANQ\" sec=\"Deuteronomy 15:2\">Deuteronomy 15:2</a></td><td class=\"tf\"><span class=\"hb\"><a class=\"vn\" href=\"https://shebanq.ancient-data.org/hebrew/text?book=Deuteronomium&amp;chapter=15&amp;verse=2&amp;version=c&amp;mr=m&amp;qw=q&amp;tp=txt_p&amp;tr=hb&amp;wget=v&amp;qget=v&amp;nget=vt\" title=\"Deuteronomy 15:2\" sec=\"Deuteronomy 15:2\"></a>וְזֶה֮ דְּבַ֣ר הַשְּׁמִטָּה֒ שָׁמֹ֗וט כָּל־בַּ֨עַל֙ מַשֵּׁ֣ה יָדֹ֔ו אֲשֶׁ֥ר יַשֶּׁ֖ה בְּרֵעֵ֑הוּ לֹֽא־יִגֹּ֤שׂ אֶת־רֵעֵ֨הוּ֙ וְאֶת־אָחִ֔יו כִּֽי־קָרָ֥א <span  class=\"hl\" >שְׁמִטָּ֖ה </span>לַֽיהוָֽה׃ </span></td><td class=\"tf\"><span class=\"hb\"><span  class=\"hl\" >שְׁמִטָּ֖ה </span></span></td></tr>\n",
       "<tr class=\"tf\"><td class=\"tf\">31</td><td class=\"tf\"> <a href=\"https://shebanq.ancient-data.org/hebrew/text?book=Deuteronomium&amp;chapter=15&amp;verse=2&amp;version=c&amp;mr=m&amp;qw=q&amp;tp=txt_p&amp;tr=hb&amp;wget=v&amp;qget=v&amp;nget=vt\" title=\"show this passage in SHEBANQ\" sec=\"Deuteronomy 15:2\">Deuteronomy 15:2</a></td><td class=\"tf\"><span class=\"hb\"><a class=\"vn\" href=\"https://shebanq.ancient-data.org/hebrew/text?book=Deuteronomium&amp;chapter=15&amp;verse=2&amp;version=c&amp;mr=m&amp;qw=q&amp;tp=txt_p&amp;tr=hb&amp;wget=v&amp;qget=v&amp;nget=vt\" title=\"Deuteronomy 15:2\" sec=\"Deuteronomy 15:2\"></a>וְזֶה֮ דְּבַ֣ר הַשְּׁמִטָּה֒ שָׁמֹ֗וט כָּל־בַּ֨עַל֙ מַשֵּׁ֣ה יָדֹ֔ו אֲשֶׁ֥ר יַשֶּׁ֖ה בְּרֵעֵ֑הוּ לֹֽא־יִגֹּ֤שׂ אֶת־רֵעֵ֨הוּ֙ וְאֶת־אָחִ֔יו כִּֽי־קָרָ֥א שְׁמִטָּ֖ה <span  class=\"hl\" >לַֽ</span><span  class=\"hl\" >יהוָֽה׃ </span></span></td><td class=\"tf\"><span class=\"hb\"><span  class=\"hl\" >לַֽ</span></span></td><td class=\"tf\"><span class=\"hb\"><span  class=\"hl\" >יהוָֽה׃ </span></span></td></tr>\n",
       "<tr class=\"tf\"><td class=\"tf\">32</td><td class=\"tf\"> <a href=\"https://shebanq.ancient-data.org/hebrew/text?book=Deuteronomium&amp;chapter=15&amp;verse=2&amp;version=c&amp;mr=m&amp;qw=q&amp;tp=txt_p&amp;tr=hb&amp;wget=v&amp;qget=v&amp;nget=vt\" title=\"show this passage in SHEBANQ\" sec=\"Deuteronomy 15:2\">Deuteronomy 15:2</a></td><td class=\"tf\"><span class=\"hb\"><a class=\"vn\" href=\"https://shebanq.ancient-data.org/hebrew/text?book=Deuteronomium&amp;chapter=15&amp;verse=2&amp;version=c&amp;mr=m&amp;qw=q&amp;tp=txt_p&amp;tr=hb&amp;wget=v&amp;qget=v&amp;nget=vt\" title=\"Deuteronomy 15:2\" sec=\"Deuteronomy 15:2\"></a>וְזֶה֮ דְּבַ֣ר הַשְּׁמִטָּה֒ שָׁמֹ֗וט כָּל־בַּ֨עַל֙ מַשֵּׁ֣ה יָדֹ֔ו אֲשֶׁ֥ר יַשֶּׁ֖ה בְּרֵעֵ֑הוּ לֹֽא־יִגֹּ֤שׂ אֶת־רֵעֵ֨הוּ֙ וְאֶת־אָחִ֔יו כִּֽי־קָרָ֥א שְׁמִטָּ֖ה <span  class=\"hl\" >לַֽ</span><span  class=\"hl\" >יהוָֽה׃ </span></span></td><td class=\"tf\"><span class=\"hb\"><span  class=\"hl\" >לַֽ</span></span></td><td class=\"tf\"><span class=\"hb\"><span  class=\"hl\" >יהוָֽה׃ </span></span></td></tr>\n",
       "<tr class=\"tf\"><td class=\"tf\">33</td><td class=\"tf\"> <a href=\"https://shebanq.ancient-data.org/hebrew/text?book=Deuteronomium&amp;chapter=15&amp;verse=3&amp;version=c&amp;mr=m&amp;qw=q&amp;tp=txt_p&amp;tr=hb&amp;wget=v&amp;qget=v&amp;nget=vt\" title=\"show this passage in SHEBANQ\" sec=\"Deuteronomy 15:3\">Deuteronomy 15:3</a></td><td class=\"tf\"><span class=\"hb\"><a class=\"vn\" href=\"https://shebanq.ancient-data.org/hebrew/text?book=Deuteronomium&amp;chapter=15&amp;verse=3&amp;version=c&amp;mr=m&amp;qw=q&amp;tp=txt_p&amp;tr=hb&amp;wget=v&amp;qget=v&amp;nget=vt\" title=\"Deuteronomy 15:3\" sec=\"Deuteronomy 15:3\"></a><span  class=\"hl\" >אֶת־</span><span  class=\"hl\" >הַ</span><span  class=\"hl\" >נָּכְרִ֖י </span>תִּגֹּ֑שׂ וַאֲשֶׁ֨ר יִהְיֶ֥ה לְךָ֛ אֶת־אָחִ֖יךָ תַּשְׁמֵ֥ט יָדֶֽךָ׃ </span></td><td class=\"tf\"><span class=\"hb\"><span  class=\"hl\" >אֶת־</span></span></td><td class=\"tf\"><span class=\"hb\"><span  class=\"hl\" >הַ</span></span></td><td class=\"tf\"><span class=\"hb\"><span  class=\"hl\" >נָּכְרִ֖י </span></span></td></tr>\n",
       "<tr class=\"tf\"><td class=\"tf\">34</td><td class=\"tf\"> <a href=\"https://shebanq.ancient-data.org/hebrew/text?book=Deuteronomium&amp;chapter=15&amp;verse=3&amp;version=c&amp;mr=m&amp;qw=q&amp;tp=txt_p&amp;tr=hb&amp;wget=v&amp;qget=v&amp;nget=vt\" title=\"show this passage in SHEBANQ\" sec=\"Deuteronomy 15:3\">Deuteronomy 15:3</a></td><td class=\"tf\"><span class=\"hb\"><a class=\"vn\" href=\"https://shebanq.ancient-data.org/hebrew/text?book=Deuteronomium&amp;chapter=15&amp;verse=3&amp;version=c&amp;mr=m&amp;qw=q&amp;tp=txt_p&amp;tr=hb&amp;wget=v&amp;qget=v&amp;nget=vt\" title=\"Deuteronomy 15:3\" sec=\"Deuteronomy 15:3\"></a><span  class=\"hl\" >אֶת־</span><span  class=\"hl\" >הַ</span><span  class=\"hl\" >נָּכְרִ֖י </span>תִּגֹּ֑שׂ וַאֲשֶׁ֨ר יִהְיֶ֥ה לְךָ֛ אֶת־אָחִ֖יךָ תַּשְׁמֵ֥ט יָדֶֽךָ׃ </span></td><td class=\"tf\"><span class=\"hb\"><span  class=\"hl\" >אֶת־</span></span></td><td class=\"tf\"><span class=\"hb\"><span  class=\"hl\" >הַ</span></span></td><td class=\"tf\"><span class=\"hb\"><span  class=\"hl\" >נָּכְרִ֖י </span></span></td></tr>\n",
       "<tr class=\"tf\"><td class=\"tf\">35</td><td class=\"tf\"> <a href=\"https://shebanq.ancient-data.org/hebrew/text?book=Deuteronomium&amp;chapter=15&amp;verse=3&amp;version=c&amp;mr=m&amp;qw=q&amp;tp=txt_p&amp;tr=hb&amp;wget=v&amp;qget=v&amp;nget=vt\" title=\"show this passage in SHEBANQ\" sec=\"Deuteronomy 15:3\">Deuteronomy 15:3</a></td><td class=\"tf\"><span class=\"hb\"><a class=\"vn\" href=\"https://shebanq.ancient-data.org/hebrew/text?book=Deuteronomium&amp;chapter=15&amp;verse=3&amp;version=c&amp;mr=m&amp;qw=q&amp;tp=txt_p&amp;tr=hb&amp;wget=v&amp;qget=v&amp;nget=vt\" title=\"Deuteronomy 15:3\" sec=\"Deuteronomy 15:3\"></a><span  class=\"hl\" >אֶת־</span><span  class=\"hl\" >הַ</span><span  class=\"hl\" >נָּכְרִ֖י </span>תִּגֹּ֑שׂ וַאֲשֶׁ֨ר יִהְיֶ֥ה לְךָ֛ אֶת־אָחִ֖יךָ תַּשְׁמֵ֥ט יָדֶֽךָ׃ </span></td><td class=\"tf\"><span class=\"hb\"><span  class=\"hl\" >אֶת־</span></span></td><td class=\"tf\"><span class=\"hb\"><span  class=\"hl\" >הַ</span></span></td><td class=\"tf\"><span class=\"hb\"><span  class=\"hl\" >נָּכְרִ֖י </span></span></td></tr>\n",
       "<tr class=\"tf\"><td class=\"tf\">36</td><td class=\"tf\"> <a href=\"https://shebanq.ancient-data.org/hebrew/text?book=Deuteronomium&amp;chapter=15&amp;verse=3&amp;version=c&amp;mr=m&amp;qw=q&amp;tp=txt_p&amp;tr=hb&amp;wget=v&amp;qget=v&amp;nget=vt\" title=\"show this passage in SHEBANQ\" sec=\"Deuteronomy 15:3\">Deuteronomy 15:3</a></td><td class=\"tf\"><span class=\"hb\"><a class=\"vn\" href=\"https://shebanq.ancient-data.org/hebrew/text?book=Deuteronomium&amp;chapter=15&amp;verse=3&amp;version=c&amp;mr=m&amp;qw=q&amp;tp=txt_p&amp;tr=hb&amp;wget=v&amp;qget=v&amp;nget=vt\" title=\"Deuteronomy 15:3\" sec=\"Deuteronomy 15:3\"></a>אֶת־הַנָּכְרִ֖י <span  class=\"hl\" >תִּגֹּ֑שׂ </span>וַאֲשֶׁ֨ר יִהְיֶ֥ה לְךָ֛ אֶת־אָחִ֖יךָ תַּשְׁמֵ֥ט יָדֶֽךָ׃ </span></td><td class=\"tf\"><span class=\"hb\"><span  class=\"hl\" >תִּגֹּ֑שׂ </span></span></td></tr>\n",
       "<tr class=\"tf\"><td class=\"tf\">37</td><td class=\"tf\"> <a href=\"https://shebanq.ancient-data.org/hebrew/text?book=Deuteronomium&amp;chapter=15&amp;verse=3&amp;version=c&amp;mr=m&amp;qw=q&amp;tp=txt_p&amp;tr=hb&amp;wget=v&amp;qget=v&amp;nget=vt\" title=\"show this passage in SHEBANQ\" sec=\"Deuteronomy 15:3\">Deuteronomy 15:3</a></td><td class=\"tf\"><span class=\"hb\"><a class=\"vn\" href=\"https://shebanq.ancient-data.org/hebrew/text?book=Deuteronomium&amp;chapter=15&amp;verse=3&amp;version=c&amp;mr=m&amp;qw=q&amp;tp=txt_p&amp;tr=hb&amp;wget=v&amp;qget=v&amp;nget=vt\" title=\"Deuteronomy 15:3\" sec=\"Deuteronomy 15:3\"></a>אֶת־הַנָּכְרִ֖י תִּגֹּ֑שׂ <span  class=\"hl\" >וַ</span><span  class=\"hl\" >אֲשֶׁ֨ר </span>יִהְיֶ֥ה לְךָ֛ אֶת־אָחִ֖יךָ תַּשְׁמֵ֥ט יָדֶֽךָ׃ </span></td><td class=\"tf\"><span class=\"hb\"><span  class=\"hl\" >וַ</span></span></td><td class=\"tf\"><span class=\"hb\"><span  class=\"hl\" >אֲשֶׁ֨ר </span></span></td></tr>\n",
       "<tr class=\"tf\"><td class=\"tf\">38</td><td class=\"tf\"> <a href=\"https://shebanq.ancient-data.org/hebrew/text?book=Deuteronomium&amp;chapter=15&amp;verse=3&amp;version=c&amp;mr=m&amp;qw=q&amp;tp=txt_p&amp;tr=hb&amp;wget=v&amp;qget=v&amp;nget=vt\" title=\"show this passage in SHEBANQ\" sec=\"Deuteronomy 15:3\">Deuteronomy 15:3</a></td><td class=\"tf\"><span class=\"hb\"><a class=\"vn\" href=\"https://shebanq.ancient-data.org/hebrew/text?book=Deuteronomium&amp;chapter=15&amp;verse=3&amp;version=c&amp;mr=m&amp;qw=q&amp;tp=txt_p&amp;tr=hb&amp;wget=v&amp;qget=v&amp;nget=vt\" title=\"Deuteronomy 15:3\" sec=\"Deuteronomy 15:3\"></a>אֶת־הַנָּכְרִ֖י תִּגֹּ֑שׂ <span  class=\"hl\" >וַ</span><span  class=\"hl\" >אֲשֶׁ֨ר </span>יִהְיֶ֥ה לְךָ֛ אֶת־אָחִ֖יךָ תַּשְׁמֵ֥ט יָדֶֽךָ׃ </span></td><td class=\"tf\"><span class=\"hb\"><span  class=\"hl\" >וַ</span></span></td><td class=\"tf\"><span class=\"hb\"><span  class=\"hl\" >אֲשֶׁ֨ר </span></span></td></tr>\n",
       "<tr class=\"tf\"><td class=\"tf\">39</td><td class=\"tf\"> <a href=\"https://shebanq.ancient-data.org/hebrew/text?book=Deuteronomium&amp;chapter=15&amp;verse=3&amp;version=c&amp;mr=m&amp;qw=q&amp;tp=txt_p&amp;tr=hb&amp;wget=v&amp;qget=v&amp;nget=vt\" title=\"show this passage in SHEBANQ\" sec=\"Deuteronomy 15:3\">Deuteronomy 15:3</a></td><td class=\"tf\"><span class=\"hb\"><a class=\"vn\" href=\"https://shebanq.ancient-data.org/hebrew/text?book=Deuteronomium&amp;chapter=15&amp;verse=3&amp;version=c&amp;mr=m&amp;qw=q&amp;tp=txt_p&amp;tr=hb&amp;wget=v&amp;qget=v&amp;nget=vt\" title=\"Deuteronomy 15:3\" sec=\"Deuteronomy 15:3\"></a>אֶת־הַנָּכְרִ֖י תִּגֹּ֑שׂ וַאֲשֶׁ֨ר <span  class=\"hl\" >יִהְיֶ֥ה </span>לְךָ֛ אֶת־אָחִ֖יךָ תַּשְׁמֵ֥ט יָדֶֽךָ׃ </span></td><td class=\"tf\"><span class=\"hb\"><span  class=\"hl\" >יִהְיֶ֥ה </span></span></td></tr>\n",
       "<tr class=\"tf\"><td class=\"tf\">40</td><td class=\"tf\"> <a href=\"https://shebanq.ancient-data.org/hebrew/text?book=Deuteronomium&amp;chapter=15&amp;verse=3&amp;version=c&amp;mr=m&amp;qw=q&amp;tp=txt_p&amp;tr=hb&amp;wget=v&amp;qget=v&amp;nget=vt\" title=\"show this passage in SHEBANQ\" sec=\"Deuteronomy 15:3\">Deuteronomy 15:3</a></td><td class=\"tf\"><span class=\"hb\"><a class=\"vn\" href=\"https://shebanq.ancient-data.org/hebrew/text?book=Deuteronomium&amp;chapter=15&amp;verse=3&amp;version=c&amp;mr=m&amp;qw=q&amp;tp=txt_p&amp;tr=hb&amp;wget=v&amp;qget=v&amp;nget=vt\" title=\"Deuteronomy 15:3\" sec=\"Deuteronomy 15:3\"></a>אֶת־הַנָּכְרִ֖י תִּגֹּ֑שׂ וַאֲשֶׁ֨ר יִהְיֶ֥ה <span  class=\"hl\" >לְךָ֛ </span>אֶת־אָחִ֖יךָ תַּשְׁמֵ֥ט יָדֶֽךָ׃ </span></td><td class=\"tf\"><span class=\"hb\"><span  class=\"hl\" >לְךָ֛ </span></span></td></tr>\n",
       "<tr class=\"tf\"><td class=\"tf\">41</td><td class=\"tf\"> <a href=\"https://shebanq.ancient-data.org/hebrew/text?book=Deuteronomium&amp;chapter=15&amp;verse=3&amp;version=c&amp;mr=m&amp;qw=q&amp;tp=txt_p&amp;tr=hb&amp;wget=v&amp;qget=v&amp;nget=vt\" title=\"show this passage in SHEBANQ\" sec=\"Deuteronomy 15:3\">Deuteronomy 15:3</a></td><td class=\"tf\"><span class=\"hb\"><a class=\"vn\" href=\"https://shebanq.ancient-data.org/hebrew/text?book=Deuteronomium&amp;chapter=15&amp;verse=3&amp;version=c&amp;mr=m&amp;qw=q&amp;tp=txt_p&amp;tr=hb&amp;wget=v&amp;qget=v&amp;nget=vt\" title=\"Deuteronomy 15:3\" sec=\"Deuteronomy 15:3\"></a>אֶת־הַנָּכְרִ֖י תִּגֹּ֑שׂ וַאֲשֶׁ֨ר יִהְיֶ֥ה לְךָ֛ <span  class=\"hl\" >אֶת־</span><span  class=\"hl\" >אָחִ֖יךָ </span>תַּשְׁמֵ֥ט יָדֶֽךָ׃ </span></td><td class=\"tf\"><span class=\"hb\"><span  class=\"hl\" >אֶת־</span></span></td><td class=\"tf\"><span class=\"hb\"><span  class=\"hl\" >אָחִ֖יךָ </span></span></td></tr>\n",
       "<tr class=\"tf\"><td class=\"tf\">42</td><td class=\"tf\"> <a href=\"https://shebanq.ancient-data.org/hebrew/text?book=Deuteronomium&amp;chapter=15&amp;verse=3&amp;version=c&amp;mr=m&amp;qw=q&amp;tp=txt_p&amp;tr=hb&amp;wget=v&amp;qget=v&amp;nget=vt\" title=\"show this passage in SHEBANQ\" sec=\"Deuteronomy 15:3\">Deuteronomy 15:3</a></td><td class=\"tf\"><span class=\"hb\"><a class=\"vn\" href=\"https://shebanq.ancient-data.org/hebrew/text?book=Deuteronomium&amp;chapter=15&amp;verse=3&amp;version=c&amp;mr=m&amp;qw=q&amp;tp=txt_p&amp;tr=hb&amp;wget=v&amp;qget=v&amp;nget=vt\" title=\"Deuteronomy 15:3\" sec=\"Deuteronomy 15:3\"></a>אֶת־הַנָּכְרִ֖י תִּגֹּ֑שׂ וַאֲשֶׁ֨ר יִהְיֶ֥ה לְךָ֛ <span  class=\"hl\" >אֶת־</span><span  class=\"hl\" >אָחִ֖יךָ </span>תַּשְׁמֵ֥ט יָדֶֽךָ׃ </span></td><td class=\"tf\"><span class=\"hb\"><span  class=\"hl\" >אֶת־</span></span></td><td class=\"tf\"><span class=\"hb\"><span  class=\"hl\" >אָחִ֖יךָ </span></span></td></tr>\n",
       "<tr class=\"tf\"><td class=\"tf\">43</td><td class=\"tf\"> <a href=\"https://shebanq.ancient-data.org/hebrew/text?book=Deuteronomium&amp;chapter=15&amp;verse=3&amp;version=c&amp;mr=m&amp;qw=q&amp;tp=txt_p&amp;tr=hb&amp;wget=v&amp;qget=v&amp;nget=vt\" title=\"show this passage in SHEBANQ\" sec=\"Deuteronomy 15:3\">Deuteronomy 15:3</a></td><td class=\"tf\"><span class=\"hb\"><a class=\"vn\" href=\"https://shebanq.ancient-data.org/hebrew/text?book=Deuteronomium&amp;chapter=15&amp;verse=3&amp;version=c&amp;mr=m&amp;qw=q&amp;tp=txt_p&amp;tr=hb&amp;wget=v&amp;qget=v&amp;nget=vt\" title=\"Deuteronomy 15:3\" sec=\"Deuteronomy 15:3\"></a>אֶת־הַנָּכְרִ֖י תִּגֹּ֑שׂ וַאֲשֶׁ֨ר יִהְיֶ֥ה לְךָ֛ אֶת־אָחִ֖יךָ <span  class=\"hl\" >תַּשְׁמֵ֥ט </span>יָדֶֽךָ׃ </span></td><td class=\"tf\"><span class=\"hb\"><span  class=\"hl\" >תַּשְׁמֵ֥ט </span></span></td></tr>\n",
       "<tr class=\"tf\"><td class=\"tf\">44</td><td class=\"tf\"> <a href=\"https://shebanq.ancient-data.org/hebrew/text?book=Deuteronomium&amp;chapter=15&amp;verse=3&amp;version=c&amp;mr=m&amp;qw=q&amp;tp=txt_p&amp;tr=hb&amp;wget=v&amp;qget=v&amp;nget=vt\" title=\"show this passage in SHEBANQ\" sec=\"Deuteronomy 15:3\">Deuteronomy 15:3</a></td><td class=\"tf\"><span class=\"hb\"><a class=\"vn\" href=\"https://shebanq.ancient-data.org/hebrew/text?book=Deuteronomium&amp;chapter=15&amp;verse=3&amp;version=c&amp;mr=m&amp;qw=q&amp;tp=txt_p&amp;tr=hb&amp;wget=v&amp;qget=v&amp;nget=vt\" title=\"Deuteronomy 15:3\" sec=\"Deuteronomy 15:3\"></a>אֶת־הַנָּכְרִ֖י תִּגֹּ֑שׂ וַאֲשֶׁ֨ר יִהְיֶ֥ה לְךָ֛ אֶת־אָחִ֖יךָ תַּשְׁמֵ֥ט <span  class=\"hl\" >יָדֶֽךָ׃ </span></span></td><td class=\"tf\"><span class=\"hb\"><span  class=\"hl\" >יָדֶֽךָ׃ </span></span></td></tr>\n",
       "<tr class=\"tf\"><td class=\"tf\">45</td><td class=\"tf\"> <a href=\"https://shebanq.ancient-data.org/hebrew/text?book=Deuteronomium&amp;chapter=15&amp;verse=4&amp;version=c&amp;mr=m&amp;qw=q&amp;tp=txt_p&amp;tr=hb&amp;wget=v&amp;qget=v&amp;nget=vt\" title=\"show this passage in SHEBANQ\" sec=\"Deuteronomy 15:4\">Deuteronomy 15:4</a></td><td class=\"tf\"><span class=\"hb\"><a class=\"vn\" href=\"https://shebanq.ancient-data.org/hebrew/text?book=Deuteronomium&amp;chapter=15&amp;verse=4&amp;version=c&amp;mr=m&amp;qw=q&amp;tp=txt_p&amp;tr=hb&amp;wget=v&amp;qget=v&amp;nget=vt\" title=\"Deuteronomy 15:4\" sec=\"Deuteronomy 15:4\"></a><span  class=\"hl\" >אֶ֕פֶס </span>כִּ֛י לֹ֥א יִֽהְיֶה־בְּךָ֖ אֶבְיֹ֑ון כִּֽי־בָרֵ֤ךְ יְבָֽרֶכְךָ֙ יְהוָ֔ה בָּאָ֕רֶץ אֲשֶׁר֙ יְהוָ֣ה אֱלֹהֶ֔יךָ נֹֽתֵן־לְךָ֥ נַחֲלָ֖ה לְרִשְׁתָּֽהּ׃ </span></td><td class=\"tf\"><span class=\"hb\"><span  class=\"hl\" >אֶ֕פֶס </span></span></td></tr>\n",
       "<tr class=\"tf\"><td class=\"tf\">46</td><td class=\"tf\"> <a href=\"https://shebanq.ancient-data.org/hebrew/text?book=Deuteronomium&amp;chapter=15&amp;verse=4&amp;version=c&amp;mr=m&amp;qw=q&amp;tp=txt_p&amp;tr=hb&amp;wget=v&amp;qget=v&amp;nget=vt\" title=\"show this passage in SHEBANQ\" sec=\"Deuteronomy 15:4\">Deuteronomy 15:4</a></td><td class=\"tf\"><span class=\"hb\"><a class=\"vn\" href=\"https://shebanq.ancient-data.org/hebrew/text?book=Deuteronomium&amp;chapter=15&amp;verse=4&amp;version=c&amp;mr=m&amp;qw=q&amp;tp=txt_p&amp;tr=hb&amp;wget=v&amp;qget=v&amp;nget=vt\" title=\"Deuteronomy 15:4\" sec=\"Deuteronomy 15:4\"></a>אֶ֕פֶס <span  class=\"hl\" >כִּ֛י </span>לֹ֥א יִֽהְיֶה־בְּךָ֖ אֶבְיֹ֑ון כִּֽי־בָרֵ֤ךְ יְבָֽרֶכְךָ֙ יְהוָ֔ה בָּאָ֕רֶץ אֲשֶׁר֙ יְהוָ֣ה אֱלֹהֶ֔יךָ נֹֽתֵן־לְךָ֥ נַחֲלָ֖ה לְרִשְׁתָּֽהּ׃ </span></td><td class=\"tf\"><span class=\"hb\"><span  class=\"hl\" >כִּ֛י </span></span></td></tr>\n",
       "<tr class=\"tf\"><td class=\"tf\">47</td><td class=\"tf\"> <a href=\"https://shebanq.ancient-data.org/hebrew/text?book=Deuteronomium&amp;chapter=15&amp;verse=4&amp;version=c&amp;mr=m&amp;qw=q&amp;tp=txt_p&amp;tr=hb&amp;wget=v&amp;qget=v&amp;nget=vt\" title=\"show this passage in SHEBANQ\" sec=\"Deuteronomy 15:4\">Deuteronomy 15:4</a></td><td class=\"tf\"><span class=\"hb\"><a class=\"vn\" href=\"https://shebanq.ancient-data.org/hebrew/text?book=Deuteronomium&amp;chapter=15&amp;verse=4&amp;version=c&amp;mr=m&amp;qw=q&amp;tp=txt_p&amp;tr=hb&amp;wget=v&amp;qget=v&amp;nget=vt\" title=\"Deuteronomy 15:4\" sec=\"Deuteronomy 15:4\"></a>אֶ֕פֶס כִּ֛י <span  class=\"hl\" >לֹ֥א </span>יִֽהְיֶה־בְּךָ֖ אֶבְיֹ֑ון כִּֽי־בָרֵ֤ךְ יְבָֽרֶכְךָ֙ יְהוָ֔ה בָּאָ֕רֶץ אֲשֶׁר֙ יְהוָ֣ה אֱלֹהֶ֔יךָ נֹֽתֵן־לְךָ֥ נַחֲלָ֖ה לְרִשְׁתָּֽהּ׃ </span></td><td class=\"tf\"><span class=\"hb\"><span  class=\"hl\" >לֹ֥א </span></span></td></tr>\n",
       "<tr class=\"tf\"><td class=\"tf\">48</td><td class=\"tf\"> <a href=\"https://shebanq.ancient-data.org/hebrew/text?book=Deuteronomium&amp;chapter=15&amp;verse=4&amp;version=c&amp;mr=m&amp;qw=q&amp;tp=txt_p&amp;tr=hb&amp;wget=v&amp;qget=v&amp;nget=vt\" title=\"show this passage in SHEBANQ\" sec=\"Deuteronomy 15:4\">Deuteronomy 15:4</a></td><td class=\"tf\"><span class=\"hb\"><a class=\"vn\" href=\"https://shebanq.ancient-data.org/hebrew/text?book=Deuteronomium&amp;chapter=15&amp;verse=4&amp;version=c&amp;mr=m&amp;qw=q&amp;tp=txt_p&amp;tr=hb&amp;wget=v&amp;qget=v&amp;nget=vt\" title=\"Deuteronomy 15:4\" sec=\"Deuteronomy 15:4\"></a>אֶ֕פֶס כִּ֛י לֹ֥א <span  class=\"hl\" >יִֽהְיֶה־</span><span  class=\"hl\" >בְּךָ֖ </span>אֶבְיֹ֑ון כִּֽי־בָרֵ֤ךְ יְבָֽרֶכְךָ֙ יְהוָ֔ה בָּאָ֕רֶץ אֲשֶׁר֙ יְהוָ֣ה אֱלֹהֶ֔יךָ נֹֽתֵן־לְךָ֥ נַחֲלָ֖ה לְרִשְׁתָּֽהּ׃ </span></td><td class=\"tf\"><span class=\"hb\"><span  class=\"hl\" >יִֽהְיֶה־</span></span></td><td class=\"tf\"><span class=\"hb\"><span  class=\"hl\" >בְּךָ֖ </span></span></td></tr>\n",
       "<tr class=\"tf\"><td class=\"tf\">49</td><td class=\"tf\"> <a href=\"https://shebanq.ancient-data.org/hebrew/text?book=Deuteronomium&amp;chapter=15&amp;verse=4&amp;version=c&amp;mr=m&amp;qw=q&amp;tp=txt_p&amp;tr=hb&amp;wget=v&amp;qget=v&amp;nget=vt\" title=\"show this passage in SHEBANQ\" sec=\"Deuteronomy 15:4\">Deuteronomy 15:4</a></td><td class=\"tf\"><span class=\"hb\"><a class=\"vn\" href=\"https://shebanq.ancient-data.org/hebrew/text?book=Deuteronomium&amp;chapter=15&amp;verse=4&amp;version=c&amp;mr=m&amp;qw=q&amp;tp=txt_p&amp;tr=hb&amp;wget=v&amp;qget=v&amp;nget=vt\" title=\"Deuteronomy 15:4\" sec=\"Deuteronomy 15:4\"></a>אֶ֕פֶס כִּ֛י לֹ֥א <span  class=\"hl\" >יִֽהְיֶה־</span><span  class=\"hl\" >בְּךָ֖ </span>אֶבְיֹ֑ון כִּֽי־בָרֵ֤ךְ יְבָֽרֶכְךָ֙ יְהוָ֔ה בָּאָ֕רֶץ אֲשֶׁר֙ יְהוָ֣ה אֱלֹהֶ֔יךָ נֹֽתֵן־לְךָ֥ נַחֲלָ֖ה לְרִשְׁתָּֽהּ׃ </span></td><td class=\"tf\"><span class=\"hb\"><span  class=\"hl\" >יִֽהְיֶה־</span></span></td><td class=\"tf\"><span class=\"hb\"><span  class=\"hl\" >בְּךָ֖ </span></span></td></tr>\n",
       "<tr class=\"tf\"><td class=\"tf\">50</td><td class=\"tf\"> <a href=\"https://shebanq.ancient-data.org/hebrew/text?book=Deuteronomium&amp;chapter=15&amp;verse=4&amp;version=c&amp;mr=m&amp;qw=q&amp;tp=txt_p&amp;tr=hb&amp;wget=v&amp;qget=v&amp;nget=vt\" title=\"show this passage in SHEBANQ\" sec=\"Deuteronomy 15:4\">Deuteronomy 15:4</a></td><td class=\"tf\"><span class=\"hb\"><a class=\"vn\" href=\"https://shebanq.ancient-data.org/hebrew/text?book=Deuteronomium&amp;chapter=15&amp;verse=4&amp;version=c&amp;mr=m&amp;qw=q&amp;tp=txt_p&amp;tr=hb&amp;wget=v&amp;qget=v&amp;nget=vt\" title=\"Deuteronomy 15:4\" sec=\"Deuteronomy 15:4\"></a>אֶ֕פֶס כִּ֛י לֹ֥א יִֽהְיֶה־בְּךָ֖ <span  class=\"hl\" >אֶבְיֹ֑ון </span>כִּֽי־בָרֵ֤ךְ יְבָֽרֶכְךָ֙ יְהוָ֔ה בָּאָ֕רֶץ אֲשֶׁר֙ יְהוָ֣ה אֱלֹהֶ֔יךָ נֹֽתֵן־לְךָ֥ נַחֲלָ֖ה לְרִשְׁתָּֽהּ׃ </span></td><td class=\"tf\"><span class=\"hb\"><span  class=\"hl\" >אֶבְיֹ֑ון </span></span></td></tr>\n",
       "<tr class=\"tf\"><td class=\"tf\">51</td><td class=\"tf\"> <a href=\"https://shebanq.ancient-data.org/hebrew/text?book=Deuteronomium&amp;chapter=15&amp;verse=4&amp;version=c&amp;mr=m&amp;qw=q&amp;tp=txt_p&amp;tr=hb&amp;wget=v&amp;qget=v&amp;nget=vt\" title=\"show this passage in SHEBANQ\" sec=\"Deuteronomy 15:4\">Deuteronomy 15:4</a></td><td class=\"tf\"><span class=\"hb\"><a class=\"vn\" href=\"https://shebanq.ancient-data.org/hebrew/text?book=Deuteronomium&amp;chapter=15&amp;verse=4&amp;version=c&amp;mr=m&amp;qw=q&amp;tp=txt_p&amp;tr=hb&amp;wget=v&amp;qget=v&amp;nget=vt\" title=\"Deuteronomy 15:4\" sec=\"Deuteronomy 15:4\"></a>אֶ֕פֶס כִּ֛י לֹ֥א יִֽהְיֶה־בְּךָ֖ אֶבְיֹ֑ון <span  class=\"hl\" >כִּֽי־</span><span  class=\"hl\" >בָרֵ֤ךְ </span>יְבָֽרֶכְךָ֙ יְהוָ֔ה בָּאָ֕רֶץ אֲשֶׁר֙ יְהוָ֣ה אֱלֹהֶ֔יךָ נֹֽתֵן־לְךָ֥ נַחֲלָ֖ה לְרִשְׁתָּֽהּ׃ </span></td><td class=\"tf\"><span class=\"hb\"><span  class=\"hl\" >כִּֽי־</span></span></td><td class=\"tf\"><span class=\"hb\"><span  class=\"hl\" >בָרֵ֤ךְ </span></span></td></tr>\n",
       "<tr class=\"tf\"><td class=\"tf\">52</td><td class=\"tf\"> <a href=\"https://shebanq.ancient-data.org/hebrew/text?book=Deuteronomium&amp;chapter=15&amp;verse=4&amp;version=c&amp;mr=m&amp;qw=q&amp;tp=txt_p&amp;tr=hb&amp;wget=v&amp;qget=v&amp;nget=vt\" title=\"show this passage in SHEBANQ\" sec=\"Deuteronomy 15:4\">Deuteronomy 15:4</a></td><td class=\"tf\"><span class=\"hb\"><a class=\"vn\" href=\"https://shebanq.ancient-data.org/hebrew/text?book=Deuteronomium&amp;chapter=15&amp;verse=4&amp;version=c&amp;mr=m&amp;qw=q&amp;tp=txt_p&amp;tr=hb&amp;wget=v&amp;qget=v&amp;nget=vt\" title=\"Deuteronomy 15:4\" sec=\"Deuteronomy 15:4\"></a>אֶ֕פֶס כִּ֛י לֹ֥א יִֽהְיֶה־בְּךָ֖ אֶבְיֹ֑ון <span  class=\"hl\" >כִּֽי־</span><span  class=\"hl\" >בָרֵ֤ךְ </span>יְבָֽרֶכְךָ֙ יְהוָ֔ה בָּאָ֕רֶץ אֲשֶׁר֙ יְהוָ֣ה אֱלֹהֶ֔יךָ נֹֽתֵן־לְךָ֥ נַחֲלָ֖ה לְרִשְׁתָּֽהּ׃ </span></td><td class=\"tf\"><span class=\"hb\"><span  class=\"hl\" >כִּֽי־</span></span></td><td class=\"tf\"><span class=\"hb\"><span  class=\"hl\" >בָרֵ֤ךְ </span></span></td></tr>\n",
       "<tr class=\"tf\"><td class=\"tf\">53</td><td class=\"tf\"> <a href=\"https://shebanq.ancient-data.org/hebrew/text?book=Deuteronomium&amp;chapter=15&amp;verse=4&amp;version=c&amp;mr=m&amp;qw=q&amp;tp=txt_p&amp;tr=hb&amp;wget=v&amp;qget=v&amp;nget=vt\" title=\"show this passage in SHEBANQ\" sec=\"Deuteronomy 15:4\">Deuteronomy 15:4</a></td><td class=\"tf\"><span class=\"hb\"><a class=\"vn\" href=\"https://shebanq.ancient-data.org/hebrew/text?book=Deuteronomium&amp;chapter=15&amp;verse=4&amp;version=c&amp;mr=m&amp;qw=q&amp;tp=txt_p&amp;tr=hb&amp;wget=v&amp;qget=v&amp;nget=vt\" title=\"Deuteronomy 15:4\" sec=\"Deuteronomy 15:4\"></a>אֶ֕פֶס כִּ֛י לֹ֥א יִֽהְיֶה־בְּךָ֖ אֶבְיֹ֑ון כִּֽי־בָרֵ֤ךְ <span  class=\"hl\" >יְבָֽרֶכְךָ֙ </span>יְהוָ֔ה בָּאָ֕רֶץ אֲשֶׁר֙ יְהוָ֣ה אֱלֹהֶ֔יךָ נֹֽתֵן־לְךָ֥ נַחֲלָ֖ה לְרִשְׁתָּֽהּ׃ </span></td><td class=\"tf\"><span class=\"hb\"><span  class=\"hl\" >יְבָֽרֶכְךָ֙ </span></span></td></tr>\n",
       "<tr class=\"tf\"><td class=\"tf\">54</td><td class=\"tf\"> <a href=\"https://shebanq.ancient-data.org/hebrew/text?book=Deuteronomium&amp;chapter=15&amp;verse=4&amp;version=c&amp;mr=m&amp;qw=q&amp;tp=txt_p&amp;tr=hb&amp;wget=v&amp;qget=v&amp;nget=vt\" title=\"show this passage in SHEBANQ\" sec=\"Deuteronomy 15:4\">Deuteronomy 15:4</a></td><td class=\"tf\"><span class=\"hb\"><a class=\"vn\" href=\"https://shebanq.ancient-data.org/hebrew/text?book=Deuteronomium&amp;chapter=15&amp;verse=4&amp;version=c&amp;mr=m&amp;qw=q&amp;tp=txt_p&amp;tr=hb&amp;wget=v&amp;qget=v&amp;nget=vt\" title=\"Deuteronomy 15:4\" sec=\"Deuteronomy 15:4\"></a>אֶ֕פֶס כִּ֛י לֹ֥א יִֽהְיֶה־בְּךָ֖ אֶבְיֹ֑ון כִּֽי־בָרֵ֤ךְ יְבָֽרֶכְךָ֙ <span  class=\"hl\" >יְהוָ֔ה </span>בָּאָ֕רֶץ אֲשֶׁר֙ יְהוָ֣ה אֱלֹהֶ֔יךָ נֹֽתֵן־לְךָ֥ נַחֲלָ֖ה לְרִשְׁתָּֽהּ׃ </span></td><td class=\"tf\"><span class=\"hb\"><span  class=\"hl\" >יְהוָ֔ה </span></span></td></tr>\n",
       "<tr class=\"tf\"><td class=\"tf\">55</td><td class=\"tf\"> <a href=\"https://shebanq.ancient-data.org/hebrew/text?book=Deuteronomium&amp;chapter=15&amp;verse=4&amp;version=c&amp;mr=m&amp;qw=q&amp;tp=txt_p&amp;tr=hb&amp;wget=v&amp;qget=v&amp;nget=vt\" title=\"show this passage in SHEBANQ\" sec=\"Deuteronomy 15:4\">Deuteronomy 15:4</a></td><td class=\"tf\"><span class=\"hb\"><a class=\"vn\" href=\"https://shebanq.ancient-data.org/hebrew/text?book=Deuteronomium&amp;chapter=15&amp;verse=4&amp;version=c&amp;mr=m&amp;qw=q&amp;tp=txt_p&amp;tr=hb&amp;wget=v&amp;qget=v&amp;nget=vt\" title=\"Deuteronomy 15:4\" sec=\"Deuteronomy 15:4\"></a>אֶ֕פֶס כִּ֛י לֹ֥א יִֽהְיֶה־בְּךָ֖ אֶבְיֹ֑ון כִּֽי־בָרֵ֤ךְ יְבָֽרֶכְךָ֙ יְהוָ֔ה <span  class=\"hl\" >בָּ</span><span  class=\"hl\" ></span><span  class=\"hl\" >אָ֕רֶץ </span>אֲשֶׁר֙ יְהוָ֣ה אֱלֹהֶ֔יךָ נֹֽתֵן־לְךָ֥ נַחֲלָ֖ה לְרִשְׁתָּֽהּ׃ </span></td><td class=\"tf\"><span class=\"hb\"><span  class=\"hl\" >בָּ</span></span></td><td class=\"tf\"><span class=\"hb\"><span  class=\"hl\" ></span></span></td><td class=\"tf\"><span class=\"hb\"><span  class=\"hl\" >אָ֕רֶץ </span></span></td></tr>\n",
       "<tr class=\"tf\"><td class=\"tf\">56</td><td class=\"tf\"> <a href=\"https://shebanq.ancient-data.org/hebrew/text?book=Deuteronomium&amp;chapter=15&amp;verse=4&amp;version=c&amp;mr=m&amp;qw=q&amp;tp=txt_p&amp;tr=hb&amp;wget=v&amp;qget=v&amp;nget=vt\" title=\"show this passage in SHEBANQ\" sec=\"Deuteronomy 15:4\">Deuteronomy 15:4</a></td><td class=\"tf\"><span class=\"hb\"><a class=\"vn\" href=\"https://shebanq.ancient-data.org/hebrew/text?book=Deuteronomium&amp;chapter=15&amp;verse=4&amp;version=c&amp;mr=m&amp;qw=q&amp;tp=txt_p&amp;tr=hb&amp;wget=v&amp;qget=v&amp;nget=vt\" title=\"Deuteronomy 15:4\" sec=\"Deuteronomy 15:4\"></a>אֶ֕פֶס כִּ֛י לֹ֥א יִֽהְיֶה־בְּךָ֖ אֶבְיֹ֑ון כִּֽי־בָרֵ֤ךְ יְבָֽרֶכְךָ֙ יְהוָ֔ה <span  class=\"hl\" >בָּ</span><span  class=\"hl\" ></span><span  class=\"hl\" >אָ֕רֶץ </span>אֲשֶׁר֙ יְהוָ֣ה אֱלֹהֶ֔יךָ נֹֽתֵן־לְךָ֥ נַחֲלָ֖ה לְרִשְׁתָּֽהּ׃ </span></td><td class=\"tf\"><span class=\"hb\"><span  class=\"hl\" >בָּ</span></span></td><td class=\"tf\"><span class=\"hb\"><span  class=\"hl\" ></span></span></td><td class=\"tf\"><span class=\"hb\"><span  class=\"hl\" >אָ֕רֶץ </span></span></td></tr>\n",
       "<tr class=\"tf\"><td class=\"tf\">57</td><td class=\"tf\"> <a href=\"https://shebanq.ancient-data.org/hebrew/text?book=Deuteronomium&amp;chapter=15&amp;verse=4&amp;version=c&amp;mr=m&amp;qw=q&amp;tp=txt_p&amp;tr=hb&amp;wget=v&amp;qget=v&amp;nget=vt\" title=\"show this passage in SHEBANQ\" sec=\"Deuteronomy 15:4\">Deuteronomy 15:4</a></td><td class=\"tf\"><span class=\"hb\"><a class=\"vn\" href=\"https://shebanq.ancient-data.org/hebrew/text?book=Deuteronomium&amp;chapter=15&amp;verse=4&amp;version=c&amp;mr=m&amp;qw=q&amp;tp=txt_p&amp;tr=hb&amp;wget=v&amp;qget=v&amp;nget=vt\" title=\"Deuteronomy 15:4\" sec=\"Deuteronomy 15:4\"></a>אֶ֕פֶס כִּ֛י לֹ֥א יִֽהְיֶה־בְּךָ֖ אֶבְיֹ֑ון כִּֽי־בָרֵ֤ךְ יְבָֽרֶכְךָ֙ יְהוָ֔ה <span  class=\"hl\" >בָּ</span><span  class=\"hl\" ></span><span  class=\"hl\" >אָ֕רֶץ </span>אֲשֶׁר֙ יְהוָ֣ה אֱלֹהֶ֔יךָ נֹֽתֵן־לְךָ֥ נַחֲלָ֖ה לְרִשְׁתָּֽהּ׃ </span></td><td class=\"tf\"><span class=\"hb\"><span  class=\"hl\" >בָּ</span></span></td><td class=\"tf\"><span class=\"hb\"><span  class=\"hl\" ></span></span></td><td class=\"tf\"><span class=\"hb\"><span  class=\"hl\" >אָ֕רֶץ </span></span></td></tr>\n",
       "<tr class=\"tf\"><td class=\"tf\">58</td><td class=\"tf\"> <a href=\"https://shebanq.ancient-data.org/hebrew/text?book=Deuteronomium&amp;chapter=15&amp;verse=4&amp;version=c&amp;mr=m&amp;qw=q&amp;tp=txt_p&amp;tr=hb&amp;wget=v&amp;qget=v&amp;nget=vt\" title=\"show this passage in SHEBANQ\" sec=\"Deuteronomy 15:4\">Deuteronomy 15:4</a></td><td class=\"tf\"><span class=\"hb\"><a class=\"vn\" href=\"https://shebanq.ancient-data.org/hebrew/text?book=Deuteronomium&amp;chapter=15&amp;verse=4&amp;version=c&amp;mr=m&amp;qw=q&amp;tp=txt_p&amp;tr=hb&amp;wget=v&amp;qget=v&amp;nget=vt\" title=\"Deuteronomy 15:4\" sec=\"Deuteronomy 15:4\"></a>אֶ֕פֶס כִּ֛י לֹ֥א יִֽהְיֶה־בְּךָ֖ אֶבְיֹ֑ון כִּֽי־בָרֵ֤ךְ יְבָֽרֶכְךָ֙ יְהוָ֔ה בָּאָ֕רֶץ <span  class=\"hl\" >אֲשֶׁר֙ </span>יְהוָ֣ה אֱלֹהֶ֔יךָ נֹֽתֵן־לְךָ֥ נַחֲלָ֖ה לְרִשְׁתָּֽהּ׃ </span></td><td class=\"tf\"><span class=\"hb\"><span  class=\"hl\" >אֲשֶׁר֙ </span></span></td></tr>\n",
       "<tr class=\"tf\"><td class=\"tf\">59</td><td class=\"tf\"> <a href=\"https://shebanq.ancient-data.org/hebrew/text?book=Deuteronomium&amp;chapter=15&amp;verse=4&amp;version=c&amp;mr=m&amp;qw=q&amp;tp=txt_p&amp;tr=hb&amp;wget=v&amp;qget=v&amp;nget=vt\" title=\"show this passage in SHEBANQ\" sec=\"Deuteronomy 15:4\">Deuteronomy 15:4</a></td><td class=\"tf\"><span class=\"hb\"><a class=\"vn\" href=\"https://shebanq.ancient-data.org/hebrew/text?book=Deuteronomium&amp;chapter=15&amp;verse=4&amp;version=c&amp;mr=m&amp;qw=q&amp;tp=txt_p&amp;tr=hb&amp;wget=v&amp;qget=v&amp;nget=vt\" title=\"Deuteronomy 15:4\" sec=\"Deuteronomy 15:4\"></a>אֶ֕פֶס כִּ֛י לֹ֥א יִֽהְיֶה־בְּךָ֖ אֶבְיֹ֑ון כִּֽי־בָרֵ֤ךְ יְבָֽרֶכְךָ֙ יְהוָ֔ה בָּאָ֕רֶץ אֲשֶׁר֙ <span  class=\"hl\" >יְהוָ֣ה </span>אֱלֹהֶ֔יךָ נֹֽתֵן־לְךָ֥ נַחֲלָ֖ה לְרִשְׁתָּֽהּ׃ </span></td><td class=\"tf\"><span class=\"hb\"><span  class=\"hl\" >יְהוָ֣ה </span></span></td></tr>\n",
       "<tr class=\"tf\"><td class=\"tf\">60</td><td class=\"tf\"> <a href=\"https://shebanq.ancient-data.org/hebrew/text?book=Deuteronomium&amp;chapter=15&amp;verse=4&amp;version=c&amp;mr=m&amp;qw=q&amp;tp=txt_p&amp;tr=hb&amp;wget=v&amp;qget=v&amp;nget=vt\" title=\"show this passage in SHEBANQ\" sec=\"Deuteronomy 15:4\">Deuteronomy 15:4</a></td><td class=\"tf\"><span class=\"hb\"><a class=\"vn\" href=\"https://shebanq.ancient-data.org/hebrew/text?book=Deuteronomium&amp;chapter=15&amp;verse=4&amp;version=c&amp;mr=m&amp;qw=q&amp;tp=txt_p&amp;tr=hb&amp;wget=v&amp;qget=v&amp;nget=vt\" title=\"Deuteronomy 15:4\" sec=\"Deuteronomy 15:4\"></a>אֶ֕פֶס כִּ֛י לֹ֥א יִֽהְיֶה־בְּךָ֖ אֶבְיֹ֑ון כִּֽי־בָרֵ֤ךְ יְבָֽרֶכְךָ֙ יְהוָ֔ה בָּאָ֕רֶץ אֲשֶׁר֙ יְהוָ֣ה <span  class=\"hl\" >אֱלֹהֶ֔יךָ </span>נֹֽתֵן־לְךָ֥ נַחֲלָ֖ה לְרִשְׁתָּֽהּ׃ </span></td><td class=\"tf\"><span class=\"hb\"><span  class=\"hl\" >אֱלֹהֶ֔יךָ </span></span></td></tr>\n",
       "<tr class=\"tf\"><td class=\"tf\">61</td><td class=\"tf\"> <a href=\"https://shebanq.ancient-data.org/hebrew/text?book=Deuteronomium&amp;chapter=15&amp;verse=4&amp;version=c&amp;mr=m&amp;qw=q&amp;tp=txt_p&amp;tr=hb&amp;wget=v&amp;qget=v&amp;nget=vt\" title=\"show this passage in SHEBANQ\" sec=\"Deuteronomy 15:4\">Deuteronomy 15:4</a></td><td class=\"tf\"><span class=\"hb\"><a class=\"vn\" href=\"https://shebanq.ancient-data.org/hebrew/text?book=Deuteronomium&amp;chapter=15&amp;verse=4&amp;version=c&amp;mr=m&amp;qw=q&amp;tp=txt_p&amp;tr=hb&amp;wget=v&amp;qget=v&amp;nget=vt\" title=\"Deuteronomy 15:4\" sec=\"Deuteronomy 15:4\"></a>אֶ֕פֶס כִּ֛י לֹ֥א יִֽהְיֶה־בְּךָ֖ אֶבְיֹ֑ון כִּֽי־בָרֵ֤ךְ יְבָֽרֶכְךָ֙ יְהוָ֔ה בָּאָ֕רֶץ אֲשֶׁר֙ יְהוָ֣ה אֱלֹהֶ֔יךָ <span  class=\"hl\" >נֹֽתֵן־</span><span  class=\"hl\" >לְךָ֥ </span>נַחֲלָ֖ה לְרִשְׁתָּֽהּ׃ </span></td><td class=\"tf\"><span class=\"hb\"><span  class=\"hl\" >נֹֽתֵן־</span></span></td><td class=\"tf\"><span class=\"hb\"><span  class=\"hl\" >לְךָ֥ </span></span></td></tr>\n",
       "<tr class=\"tf\"><td class=\"tf\">62</td><td class=\"tf\"> <a href=\"https://shebanq.ancient-data.org/hebrew/text?book=Deuteronomium&amp;chapter=15&amp;verse=4&amp;version=c&amp;mr=m&amp;qw=q&amp;tp=txt_p&amp;tr=hb&amp;wget=v&amp;qget=v&amp;nget=vt\" title=\"show this passage in SHEBANQ\" sec=\"Deuteronomy 15:4\">Deuteronomy 15:4</a></td><td class=\"tf\"><span class=\"hb\"><a class=\"vn\" href=\"https://shebanq.ancient-data.org/hebrew/text?book=Deuteronomium&amp;chapter=15&amp;verse=4&amp;version=c&amp;mr=m&amp;qw=q&amp;tp=txt_p&amp;tr=hb&amp;wget=v&amp;qget=v&amp;nget=vt\" title=\"Deuteronomy 15:4\" sec=\"Deuteronomy 15:4\"></a>אֶ֕פֶס כִּ֛י לֹ֥א יִֽהְיֶה־בְּךָ֖ אֶבְיֹ֑ון כִּֽי־בָרֵ֤ךְ יְבָֽרֶכְךָ֙ יְהוָ֔ה בָּאָ֕רֶץ אֲשֶׁר֙ יְהוָ֣ה אֱלֹהֶ֔יךָ <span  class=\"hl\" >נֹֽתֵן־</span><span  class=\"hl\" >לְךָ֥ </span>נַחֲלָ֖ה לְרִשְׁתָּֽהּ׃ </span></td><td class=\"tf\"><span class=\"hb\"><span  class=\"hl\" >נֹֽתֵן־</span></span></td><td class=\"tf\"><span class=\"hb\"><span  class=\"hl\" >לְךָ֥ </span></span></td></tr>\n",
       "<tr class=\"tf\"><td class=\"tf\">63</td><td class=\"tf\"> <a href=\"https://shebanq.ancient-data.org/hebrew/text?book=Deuteronomium&amp;chapter=15&amp;verse=4&amp;version=c&amp;mr=m&amp;qw=q&amp;tp=txt_p&amp;tr=hb&amp;wget=v&amp;qget=v&amp;nget=vt\" title=\"show this passage in SHEBANQ\" sec=\"Deuteronomy 15:4\">Deuteronomy 15:4</a></td><td class=\"tf\"><span class=\"hb\"><a class=\"vn\" href=\"https://shebanq.ancient-data.org/hebrew/text?book=Deuteronomium&amp;chapter=15&amp;verse=4&amp;version=c&amp;mr=m&amp;qw=q&amp;tp=txt_p&amp;tr=hb&amp;wget=v&amp;qget=v&amp;nget=vt\" title=\"Deuteronomy 15:4\" sec=\"Deuteronomy 15:4\"></a>אֶ֕פֶס כִּ֛י לֹ֥א יִֽהְיֶה־בְּךָ֖ אֶבְיֹ֑ון כִּֽי־בָרֵ֤ךְ יְבָֽרֶכְךָ֙ יְהוָ֔ה בָּאָ֕רֶץ אֲשֶׁר֙ יְהוָ֣ה אֱלֹהֶ֔יךָ נֹֽתֵן־לְךָ֥ <span  class=\"hl\" >נַחֲלָ֖ה </span>לְרִשְׁתָּֽהּ׃ </span></td><td class=\"tf\"><span class=\"hb\"><span  class=\"hl\" >נַחֲלָ֖ה </span></span></td></tr>\n",
       "<tr class=\"tf\"><td class=\"tf\">64</td><td class=\"tf\"> <a href=\"https://shebanq.ancient-data.org/hebrew/text?book=Deuteronomium&amp;chapter=15&amp;verse=4&amp;version=c&amp;mr=m&amp;qw=q&amp;tp=txt_p&amp;tr=hb&amp;wget=v&amp;qget=v&amp;nget=vt\" title=\"show this passage in SHEBANQ\" sec=\"Deuteronomy 15:4\">Deuteronomy 15:4</a></td><td class=\"tf\"><span class=\"hb\"><a class=\"vn\" href=\"https://shebanq.ancient-data.org/hebrew/text?book=Deuteronomium&amp;chapter=15&amp;verse=4&amp;version=c&amp;mr=m&amp;qw=q&amp;tp=txt_p&amp;tr=hb&amp;wget=v&amp;qget=v&amp;nget=vt\" title=\"Deuteronomy 15:4\" sec=\"Deuteronomy 15:4\"></a>אֶ֕פֶס כִּ֛י לֹ֥א יִֽהְיֶה־בְּךָ֖ אֶבְיֹ֑ון כִּֽי־בָרֵ֤ךְ יְבָֽרֶכְךָ֙ יְהוָ֔ה בָּאָ֕רֶץ אֲשֶׁר֙ יְהוָ֣ה אֱלֹהֶ֔יךָ נֹֽתֵן־לְךָ֥ נַחֲלָ֖ה <span  class=\"hl\" >לְ</span><span  class=\"hl\" >רִשְׁתָּֽהּ׃ </span></span></td><td class=\"tf\"><span class=\"hb\"><span  class=\"hl\" >לְ</span></span></td><td class=\"tf\"><span class=\"hb\"><span  class=\"hl\" >רִשְׁתָּֽהּ׃ </span></span></td></tr>\n",
       "<tr class=\"tf\"><td class=\"tf\">65</td><td class=\"tf\"> <a href=\"https://shebanq.ancient-data.org/hebrew/text?book=Deuteronomium&amp;chapter=15&amp;verse=4&amp;version=c&amp;mr=m&amp;qw=q&amp;tp=txt_p&amp;tr=hb&amp;wget=v&amp;qget=v&amp;nget=vt\" title=\"show this passage in SHEBANQ\" sec=\"Deuteronomy 15:4\">Deuteronomy 15:4</a></td><td class=\"tf\"><span class=\"hb\"><a class=\"vn\" href=\"https://shebanq.ancient-data.org/hebrew/text?book=Deuteronomium&amp;chapter=15&amp;verse=4&amp;version=c&amp;mr=m&amp;qw=q&amp;tp=txt_p&amp;tr=hb&amp;wget=v&amp;qget=v&amp;nget=vt\" title=\"Deuteronomy 15:4\" sec=\"Deuteronomy 15:4\"></a>אֶ֕פֶס כִּ֛י לֹ֥א יִֽהְיֶה־בְּךָ֖ אֶבְיֹ֑ון כִּֽי־בָרֵ֤ךְ יְבָֽרֶכְךָ֙ יְהוָ֔ה בָּאָ֕רֶץ אֲשֶׁר֙ יְהוָ֣ה אֱלֹהֶ֔יךָ נֹֽתֵן־לְךָ֥ נַחֲלָ֖ה <span  class=\"hl\" >לְ</span><span  class=\"hl\" >רִשְׁתָּֽהּ׃ </span></span></td><td class=\"tf\"><span class=\"hb\"><span  class=\"hl\" >לְ</span></span></td><td class=\"tf\"><span class=\"hb\"><span  class=\"hl\" >רִשְׁתָּֽהּ׃ </span></span></td></tr>\n",
       "<tr class=\"tf\"><td class=\"tf\">66</td><td class=\"tf\"> <a href=\"https://shebanq.ancient-data.org/hebrew/text?book=Deuteronomium&amp;chapter=15&amp;verse=5&amp;version=c&amp;mr=m&amp;qw=q&amp;tp=txt_p&amp;tr=hb&amp;wget=v&amp;qget=v&amp;nget=vt\" title=\"show this passage in SHEBANQ\" sec=\"Deuteronomy 15:5\">Deuteronomy 15:5</a></td><td class=\"tf\"><span class=\"hb\"><a class=\"vn\" href=\"https://shebanq.ancient-data.org/hebrew/text?book=Deuteronomium&amp;chapter=15&amp;verse=5&amp;version=c&amp;mr=m&amp;qw=q&amp;tp=txt_p&amp;tr=hb&amp;wget=v&amp;qget=v&amp;nget=vt\" title=\"Deuteronomy 15:5\" sec=\"Deuteronomy 15:5\"></a><span  class=\"hl\" >רַ֚ק </span>אִם־שָׁמֹ֣ועַ תִּשְׁמַ֔ע בְּקֹ֖ול יְהוָ֣ה אֱלֹהֶ֑יךָ לִשְׁמֹ֤ר לַעֲשֹׂות֙ אֶת־כָּל־הַמִּצְוָ֣ה הַזֹּ֔את אֲשֶׁ֛ר אָנֹכִ֥י מְצַוְּךָ֖ הַיֹּֽום׃ </span></td><td class=\"tf\"><span class=\"hb\"><span  class=\"hl\" >רַ֚ק </span></span></td></tr>\n",
       "<tr class=\"tf\"><td class=\"tf\">67</td><td class=\"tf\"> <a href=\"https://shebanq.ancient-data.org/hebrew/text?book=Deuteronomium&amp;chapter=15&amp;verse=5&amp;version=c&amp;mr=m&amp;qw=q&amp;tp=txt_p&amp;tr=hb&amp;wget=v&amp;qget=v&amp;nget=vt\" title=\"show this passage in SHEBANQ\" sec=\"Deuteronomy 15:5\">Deuteronomy 15:5</a></td><td class=\"tf\"><span class=\"hb\"><a class=\"vn\" href=\"https://shebanq.ancient-data.org/hebrew/text?book=Deuteronomium&amp;chapter=15&amp;verse=5&amp;version=c&amp;mr=m&amp;qw=q&amp;tp=txt_p&amp;tr=hb&amp;wget=v&amp;qget=v&amp;nget=vt\" title=\"Deuteronomy 15:5\" sec=\"Deuteronomy 15:5\"></a>רַ֚ק <span  class=\"hl\" >אִם־</span><span  class=\"hl\" >שָׁמֹ֣ועַ </span>תִּשְׁמַ֔ע בְּקֹ֖ול יְהוָ֣ה אֱלֹהֶ֑יךָ לִשְׁמֹ֤ר לַעֲשֹׂות֙ אֶת־כָּל־הַמִּצְוָ֣ה הַזֹּ֔את אֲשֶׁ֛ר אָנֹכִ֥י מְצַוְּךָ֖ הַיֹּֽום׃ </span></td><td class=\"tf\"><span class=\"hb\"><span  class=\"hl\" >אִם־</span></span></td><td class=\"tf\"><span class=\"hb\"><span  class=\"hl\" >שָׁמֹ֣ועַ </span></span></td></tr>\n",
       "<tr class=\"tf\"><td class=\"tf\">68</td><td class=\"tf\"> <a href=\"https://shebanq.ancient-data.org/hebrew/text?book=Deuteronomium&amp;chapter=15&amp;verse=5&amp;version=c&amp;mr=m&amp;qw=q&amp;tp=txt_p&amp;tr=hb&amp;wget=v&amp;qget=v&amp;nget=vt\" title=\"show this passage in SHEBANQ\" sec=\"Deuteronomy 15:5\">Deuteronomy 15:5</a></td><td class=\"tf\"><span class=\"hb\"><a class=\"vn\" href=\"https://shebanq.ancient-data.org/hebrew/text?book=Deuteronomium&amp;chapter=15&amp;verse=5&amp;version=c&amp;mr=m&amp;qw=q&amp;tp=txt_p&amp;tr=hb&amp;wget=v&amp;qget=v&amp;nget=vt\" title=\"Deuteronomy 15:5\" sec=\"Deuteronomy 15:5\"></a>רַ֚ק <span  class=\"hl\" >אִם־</span><span  class=\"hl\" >שָׁמֹ֣ועַ </span>תִּשְׁמַ֔ע בְּקֹ֖ול יְהוָ֣ה אֱלֹהֶ֑יךָ לִשְׁמֹ֤ר לַעֲשֹׂות֙ אֶת־כָּל־הַמִּצְוָ֣ה הַזֹּ֔את אֲשֶׁ֛ר אָנֹכִ֥י מְצַוְּךָ֖ הַיֹּֽום׃ </span></td><td class=\"tf\"><span class=\"hb\"><span  class=\"hl\" >אִם־</span></span></td><td class=\"tf\"><span class=\"hb\"><span  class=\"hl\" >שָׁמֹ֣ועַ </span></span></td></tr>\n",
       "<tr class=\"tf\"><td class=\"tf\">69</td><td class=\"tf\"> <a href=\"https://shebanq.ancient-data.org/hebrew/text?book=Deuteronomium&amp;chapter=15&amp;verse=5&amp;version=c&amp;mr=m&amp;qw=q&amp;tp=txt_p&amp;tr=hb&amp;wget=v&amp;qget=v&amp;nget=vt\" title=\"show this passage in SHEBANQ\" sec=\"Deuteronomy 15:5\">Deuteronomy 15:5</a></td><td class=\"tf\"><span class=\"hb\"><a class=\"vn\" href=\"https://shebanq.ancient-data.org/hebrew/text?book=Deuteronomium&amp;chapter=15&amp;verse=5&amp;version=c&amp;mr=m&amp;qw=q&amp;tp=txt_p&amp;tr=hb&amp;wget=v&amp;qget=v&amp;nget=vt\" title=\"Deuteronomy 15:5\" sec=\"Deuteronomy 15:5\"></a>רַ֚ק אִם־שָׁמֹ֣ועַ <span  class=\"hl\" >תִּשְׁמַ֔ע </span>בְּקֹ֖ול יְהוָ֣ה אֱלֹהֶ֑יךָ לִשְׁמֹ֤ר לַעֲשֹׂות֙ אֶת־כָּל־הַמִּצְוָ֣ה הַזֹּ֔את אֲשֶׁ֛ר אָנֹכִ֥י מְצַוְּךָ֖ הַיֹּֽום׃ </span></td><td class=\"tf\"><span class=\"hb\"><span  class=\"hl\" >תִּשְׁמַ֔ע </span></span></td></tr>\n",
       "<tr class=\"tf\"><td class=\"tf\">70</td><td class=\"tf\"> <a href=\"https://shebanq.ancient-data.org/hebrew/text?book=Deuteronomium&amp;chapter=15&amp;verse=5&amp;version=c&amp;mr=m&amp;qw=q&amp;tp=txt_p&amp;tr=hb&amp;wget=v&amp;qget=v&amp;nget=vt\" title=\"show this passage in SHEBANQ\" sec=\"Deuteronomy 15:5\">Deuteronomy 15:5</a></td><td class=\"tf\"><span class=\"hb\"><a class=\"vn\" href=\"https://shebanq.ancient-data.org/hebrew/text?book=Deuteronomium&amp;chapter=15&amp;verse=5&amp;version=c&amp;mr=m&amp;qw=q&amp;tp=txt_p&amp;tr=hb&amp;wget=v&amp;qget=v&amp;nget=vt\" title=\"Deuteronomy 15:5\" sec=\"Deuteronomy 15:5\"></a>רַ֚ק אִם־שָׁמֹ֣ועַ תִּשְׁמַ֔ע <span  class=\"hl\" >בְּ</span><span  class=\"hl\" >קֹ֖ול </span>יְהוָ֣ה אֱלֹהֶ֑יךָ לִשְׁמֹ֤ר לַעֲשֹׂות֙ אֶת־כָּל־הַמִּצְוָ֣ה הַזֹּ֔את אֲשֶׁ֛ר אָנֹכִ֥י מְצַוְּךָ֖ הַיֹּֽום׃ </span></td><td class=\"tf\"><span class=\"hb\"><span  class=\"hl\" >בְּ</span></span></td><td class=\"tf\"><span class=\"hb\"><span  class=\"hl\" >קֹ֖ול </span></span></td></tr>\n",
       "<tr class=\"tf\"><td class=\"tf\">71</td><td class=\"tf\"> <a href=\"https://shebanq.ancient-data.org/hebrew/text?book=Deuteronomium&amp;chapter=15&amp;verse=5&amp;version=c&amp;mr=m&amp;qw=q&amp;tp=txt_p&amp;tr=hb&amp;wget=v&amp;qget=v&amp;nget=vt\" title=\"show this passage in SHEBANQ\" sec=\"Deuteronomy 15:5\">Deuteronomy 15:5</a></td><td class=\"tf\"><span class=\"hb\"><a class=\"vn\" href=\"https://shebanq.ancient-data.org/hebrew/text?book=Deuteronomium&amp;chapter=15&amp;verse=5&amp;version=c&amp;mr=m&amp;qw=q&amp;tp=txt_p&amp;tr=hb&amp;wget=v&amp;qget=v&amp;nget=vt\" title=\"Deuteronomy 15:5\" sec=\"Deuteronomy 15:5\"></a>רַ֚ק אִם־שָׁמֹ֣ועַ תִּשְׁמַ֔ע <span  class=\"hl\" >בְּ</span><span  class=\"hl\" >קֹ֖ול </span>יְהוָ֣ה אֱלֹהֶ֑יךָ לִשְׁמֹ֤ר לַעֲשֹׂות֙ אֶת־כָּל־הַמִּצְוָ֣ה הַזֹּ֔את אֲשֶׁ֛ר אָנֹכִ֥י מְצַוְּךָ֖ הַיֹּֽום׃ </span></td><td class=\"tf\"><span class=\"hb\"><span  class=\"hl\" >בְּ</span></span></td><td class=\"tf\"><span class=\"hb\"><span  class=\"hl\" >קֹ֖ול </span></span></td></tr>\n",
       "<tr class=\"tf\"><td class=\"tf\">72</td><td class=\"tf\"> <a href=\"https://shebanq.ancient-data.org/hebrew/text?book=Deuteronomium&amp;chapter=15&amp;verse=5&amp;version=c&amp;mr=m&amp;qw=q&amp;tp=txt_p&amp;tr=hb&amp;wget=v&amp;qget=v&amp;nget=vt\" title=\"show this passage in SHEBANQ\" sec=\"Deuteronomy 15:5\">Deuteronomy 15:5</a></td><td class=\"tf\"><span class=\"hb\"><a class=\"vn\" href=\"https://shebanq.ancient-data.org/hebrew/text?book=Deuteronomium&amp;chapter=15&amp;verse=5&amp;version=c&amp;mr=m&amp;qw=q&amp;tp=txt_p&amp;tr=hb&amp;wget=v&amp;qget=v&amp;nget=vt\" title=\"Deuteronomy 15:5\" sec=\"Deuteronomy 15:5\"></a>רַ֚ק אִם־שָׁמֹ֣ועַ תִּשְׁמַ֔ע בְּקֹ֖ול <span  class=\"hl\" >יְהוָ֣ה </span>אֱלֹהֶ֑יךָ לִשְׁמֹ֤ר לַעֲשֹׂות֙ אֶת־כָּל־הַמִּצְוָ֣ה הַזֹּ֔את אֲשֶׁ֛ר אָנֹכִ֥י מְצַוְּךָ֖ הַיֹּֽום׃ </span></td><td class=\"tf\"><span class=\"hb\"><span  class=\"hl\" >יְהוָ֣ה </span></span></td></tr>\n",
       "<tr class=\"tf\"><td class=\"tf\">73</td><td class=\"tf\"> <a href=\"https://shebanq.ancient-data.org/hebrew/text?book=Deuteronomium&amp;chapter=15&amp;verse=5&amp;version=c&amp;mr=m&amp;qw=q&amp;tp=txt_p&amp;tr=hb&amp;wget=v&amp;qget=v&amp;nget=vt\" title=\"show this passage in SHEBANQ\" sec=\"Deuteronomy 15:5\">Deuteronomy 15:5</a></td><td class=\"tf\"><span class=\"hb\"><a class=\"vn\" href=\"https://shebanq.ancient-data.org/hebrew/text?book=Deuteronomium&amp;chapter=15&amp;verse=5&amp;version=c&amp;mr=m&amp;qw=q&amp;tp=txt_p&amp;tr=hb&amp;wget=v&amp;qget=v&amp;nget=vt\" title=\"Deuteronomy 15:5\" sec=\"Deuteronomy 15:5\"></a>רַ֚ק אִם־שָׁמֹ֣ועַ תִּשְׁמַ֔ע בְּקֹ֖ול יְהוָ֣ה <span  class=\"hl\" >אֱלֹהֶ֑יךָ </span>לִשְׁמֹ֤ר לַעֲשֹׂות֙ אֶת־כָּל־הַמִּצְוָ֣ה הַזֹּ֔את אֲשֶׁ֛ר אָנֹכִ֥י מְצַוְּךָ֖ הַיֹּֽום׃ </span></td><td class=\"tf\"><span class=\"hb\"><span  class=\"hl\" >אֱלֹהֶ֑יךָ </span></span></td></tr>\n",
       "<tr class=\"tf\"><td class=\"tf\">74</td><td class=\"tf\"> <a href=\"https://shebanq.ancient-data.org/hebrew/text?book=Deuteronomium&amp;chapter=15&amp;verse=5&amp;version=c&amp;mr=m&amp;qw=q&amp;tp=txt_p&amp;tr=hb&amp;wget=v&amp;qget=v&amp;nget=vt\" title=\"show this passage in SHEBANQ\" sec=\"Deuteronomy 15:5\">Deuteronomy 15:5</a></td><td class=\"tf\"><span class=\"hb\"><a class=\"vn\" href=\"https://shebanq.ancient-data.org/hebrew/text?book=Deuteronomium&amp;chapter=15&amp;verse=5&amp;version=c&amp;mr=m&amp;qw=q&amp;tp=txt_p&amp;tr=hb&amp;wget=v&amp;qget=v&amp;nget=vt\" title=\"Deuteronomy 15:5\" sec=\"Deuteronomy 15:5\"></a>רַ֚ק אִם־שָׁמֹ֣ועַ תִּשְׁמַ֔ע בְּקֹ֖ול יְהוָ֣ה אֱלֹהֶ֑יךָ <span  class=\"hl\" >לִ</span><span  class=\"hl\" >שְׁמֹ֤ר </span>לַעֲשֹׂות֙ אֶת־כָּל־הַמִּצְוָ֣ה הַזֹּ֔את אֲשֶׁ֛ר אָנֹכִ֥י מְצַוְּךָ֖ הַיֹּֽום׃ </span></td><td class=\"tf\"><span class=\"hb\"><span  class=\"hl\" >לִ</span></span></td><td class=\"tf\"><span class=\"hb\"><span  class=\"hl\" >שְׁמֹ֤ר </span></span></td></tr>\n",
       "<tr class=\"tf\"><td class=\"tf\">75</td><td class=\"tf\"> <a href=\"https://shebanq.ancient-data.org/hebrew/text?book=Deuteronomium&amp;chapter=15&amp;verse=5&amp;version=c&amp;mr=m&amp;qw=q&amp;tp=txt_p&amp;tr=hb&amp;wget=v&amp;qget=v&amp;nget=vt\" title=\"show this passage in SHEBANQ\" sec=\"Deuteronomy 15:5\">Deuteronomy 15:5</a></td><td class=\"tf\"><span class=\"hb\"><a class=\"vn\" href=\"https://shebanq.ancient-data.org/hebrew/text?book=Deuteronomium&amp;chapter=15&amp;verse=5&amp;version=c&amp;mr=m&amp;qw=q&amp;tp=txt_p&amp;tr=hb&amp;wget=v&amp;qget=v&amp;nget=vt\" title=\"Deuteronomy 15:5\" sec=\"Deuteronomy 15:5\"></a>רַ֚ק אִם־שָׁמֹ֣ועַ תִּשְׁמַ֔ע בְּקֹ֖ול יְהוָ֣ה אֱלֹהֶ֑יךָ <span  class=\"hl\" >לִ</span><span  class=\"hl\" >שְׁמֹ֤ר </span>לַעֲשֹׂות֙ אֶת־כָּל־הַמִּצְוָ֣ה הַזֹּ֔את אֲשֶׁ֛ר אָנֹכִ֥י מְצַוְּךָ֖ הַיֹּֽום׃ </span></td><td class=\"tf\"><span class=\"hb\"><span  class=\"hl\" >לִ</span></span></td><td class=\"tf\"><span class=\"hb\"><span  class=\"hl\" >שְׁמֹ֤ר </span></span></td></tr>\n",
       "<tr class=\"tf\"><td class=\"tf\">76</td><td class=\"tf\"> <a href=\"https://shebanq.ancient-data.org/hebrew/text?book=Deuteronomium&amp;chapter=15&amp;verse=5&amp;version=c&amp;mr=m&amp;qw=q&amp;tp=txt_p&amp;tr=hb&amp;wget=v&amp;qget=v&amp;nget=vt\" title=\"show this passage in SHEBANQ\" sec=\"Deuteronomy 15:5\">Deuteronomy 15:5</a></td><td class=\"tf\"><span class=\"hb\"><a class=\"vn\" href=\"https://shebanq.ancient-data.org/hebrew/text?book=Deuteronomium&amp;chapter=15&amp;verse=5&amp;version=c&amp;mr=m&amp;qw=q&amp;tp=txt_p&amp;tr=hb&amp;wget=v&amp;qget=v&amp;nget=vt\" title=\"Deuteronomy 15:5\" sec=\"Deuteronomy 15:5\"></a>רַ֚ק אִם־שָׁמֹ֣ועַ תִּשְׁמַ֔ע בְּקֹ֖ול יְהוָ֣ה אֱלֹהֶ֑יךָ לִשְׁמֹ֤ר <span  class=\"hl\" >לַ</span><span  class=\"hl\" >עֲשֹׂות֙ </span>אֶת־כָּל־הַמִּצְוָ֣ה הַזֹּ֔את אֲשֶׁ֛ר אָנֹכִ֥י מְצַוְּךָ֖ הַיֹּֽום׃ </span></td><td class=\"tf\"><span class=\"hb\"><span  class=\"hl\" >לַ</span></span></td><td class=\"tf\"><span class=\"hb\"><span  class=\"hl\" >עֲשֹׂות֙ </span></span></td></tr>\n",
       "<tr class=\"tf\"><td class=\"tf\">77</td><td class=\"tf\"> <a href=\"https://shebanq.ancient-data.org/hebrew/text?book=Deuteronomium&amp;chapter=15&amp;verse=5&amp;version=c&amp;mr=m&amp;qw=q&amp;tp=txt_p&amp;tr=hb&amp;wget=v&amp;qget=v&amp;nget=vt\" title=\"show this passage in SHEBANQ\" sec=\"Deuteronomy 15:5\">Deuteronomy 15:5</a></td><td class=\"tf\"><span class=\"hb\"><a class=\"vn\" href=\"https://shebanq.ancient-data.org/hebrew/text?book=Deuteronomium&amp;chapter=15&amp;verse=5&amp;version=c&amp;mr=m&amp;qw=q&amp;tp=txt_p&amp;tr=hb&amp;wget=v&amp;qget=v&amp;nget=vt\" title=\"Deuteronomy 15:5\" sec=\"Deuteronomy 15:5\"></a>רַ֚ק אִם־שָׁמֹ֣ועַ תִּשְׁמַ֔ע בְּקֹ֖ול יְהוָ֣ה אֱלֹהֶ֑יךָ לִשְׁמֹ֤ר <span  class=\"hl\" >לַ</span><span  class=\"hl\" >עֲשֹׂות֙ </span>אֶת־כָּל־הַמִּצְוָ֣ה הַזֹּ֔את אֲשֶׁ֛ר אָנֹכִ֥י מְצַוְּךָ֖ הַיֹּֽום׃ </span></td><td class=\"tf\"><span class=\"hb\"><span  class=\"hl\" >לַ</span></span></td><td class=\"tf\"><span class=\"hb\"><span  class=\"hl\" >עֲשֹׂות֙ </span></span></td></tr>\n",
       "<tr class=\"tf\"><td class=\"tf\">78</td><td class=\"tf\"> <a href=\"https://shebanq.ancient-data.org/hebrew/text?book=Deuteronomium&amp;chapter=15&amp;verse=5&amp;version=c&amp;mr=m&amp;qw=q&amp;tp=txt_p&amp;tr=hb&amp;wget=v&amp;qget=v&amp;nget=vt\" title=\"show this passage in SHEBANQ\" sec=\"Deuteronomy 15:5\">Deuteronomy 15:5</a></td><td class=\"tf\"><span class=\"hb\"><a class=\"vn\" href=\"https://shebanq.ancient-data.org/hebrew/text?book=Deuteronomium&amp;chapter=15&amp;verse=5&amp;version=c&amp;mr=m&amp;qw=q&amp;tp=txt_p&amp;tr=hb&amp;wget=v&amp;qget=v&amp;nget=vt\" title=\"Deuteronomy 15:5\" sec=\"Deuteronomy 15:5\"></a>רַ֚ק אִם־שָׁמֹ֣ועַ תִּשְׁמַ֔ע בְּקֹ֖ול יְהוָ֣ה אֱלֹהֶ֑יךָ לִשְׁמֹ֤ר לַעֲשֹׂות֙ <span  class=\"hl\" >אֶת־</span><span  class=\"hl\" >כָּל־</span><span  class=\"hl\" >הַ</span><span  class=\"hl\" >מִּצְוָ֣ה </span>הַזֹּ֔את אֲשֶׁ֛ר אָנֹכִ֥י מְצַוְּךָ֖ הַיֹּֽום׃ </span></td><td class=\"tf\"><span class=\"hb\"><span  class=\"hl\" >אֶת־</span></span></td><td class=\"tf\"><span class=\"hb\"><span  class=\"hl\" >כָּל־</span></span></td><td class=\"tf\"><span class=\"hb\"><span  class=\"hl\" >הַ</span></span></td><td class=\"tf\"><span class=\"hb\"><span  class=\"hl\" >מִּצְוָ֣ה </span></span></td></tr>\n",
       "<tr class=\"tf\"><td class=\"tf\">79</td><td class=\"tf\"> <a href=\"https://shebanq.ancient-data.org/hebrew/text?book=Deuteronomium&amp;chapter=15&amp;verse=5&amp;version=c&amp;mr=m&amp;qw=q&amp;tp=txt_p&amp;tr=hb&amp;wget=v&amp;qget=v&amp;nget=vt\" title=\"show this passage in SHEBANQ\" sec=\"Deuteronomy 15:5\">Deuteronomy 15:5</a></td><td class=\"tf\"><span class=\"hb\"><a class=\"vn\" href=\"https://shebanq.ancient-data.org/hebrew/text?book=Deuteronomium&amp;chapter=15&amp;verse=5&amp;version=c&amp;mr=m&amp;qw=q&amp;tp=txt_p&amp;tr=hb&amp;wget=v&amp;qget=v&amp;nget=vt\" title=\"Deuteronomy 15:5\" sec=\"Deuteronomy 15:5\"></a>רַ֚ק אִם־שָׁמֹ֣ועַ תִּשְׁמַ֔ע בְּקֹ֖ול יְהוָ֣ה אֱלֹהֶ֑יךָ לִשְׁמֹ֤ר לַעֲשֹׂות֙ <span  class=\"hl\" >אֶת־</span><span  class=\"hl\" >כָּל־</span><span  class=\"hl\" >הַ</span><span  class=\"hl\" >מִּצְוָ֣ה </span>הַזֹּ֔את אֲשֶׁ֛ר אָנֹכִ֥י מְצַוְּךָ֖ הַיֹּֽום׃ </span></td><td class=\"tf\"><span class=\"hb\"><span  class=\"hl\" >אֶת־</span></span></td><td class=\"tf\"><span class=\"hb\"><span  class=\"hl\" >כָּל־</span></span></td><td class=\"tf\"><span class=\"hb\"><span  class=\"hl\" >הַ</span></span></td><td class=\"tf\"><span class=\"hb\"><span  class=\"hl\" >מִּצְוָ֣ה </span></span></td></tr>\n",
       "<tr class=\"tf\"><td class=\"tf\">80</td><td class=\"tf\"> <a href=\"https://shebanq.ancient-data.org/hebrew/text?book=Deuteronomium&amp;chapter=15&amp;verse=5&amp;version=c&amp;mr=m&amp;qw=q&amp;tp=txt_p&amp;tr=hb&amp;wget=v&amp;qget=v&amp;nget=vt\" title=\"show this passage in SHEBANQ\" sec=\"Deuteronomy 15:5\">Deuteronomy 15:5</a></td><td class=\"tf\"><span class=\"hb\"><a class=\"vn\" href=\"https://shebanq.ancient-data.org/hebrew/text?book=Deuteronomium&amp;chapter=15&amp;verse=5&amp;version=c&amp;mr=m&amp;qw=q&amp;tp=txt_p&amp;tr=hb&amp;wget=v&amp;qget=v&amp;nget=vt\" title=\"Deuteronomy 15:5\" sec=\"Deuteronomy 15:5\"></a>רַ֚ק אִם־שָׁמֹ֣ועַ תִּשְׁמַ֔ע בְּקֹ֖ול יְהוָ֣ה אֱלֹהֶ֑יךָ לִשְׁמֹ֤ר לַעֲשֹׂות֙ <span  class=\"hl\" >אֶת־</span><span  class=\"hl\" >כָּל־</span><span  class=\"hl\" >הַ</span><span  class=\"hl\" >מִּצְוָ֣ה </span>הַזֹּ֔את אֲשֶׁ֛ר אָנֹכִ֥י מְצַוְּךָ֖ הַיֹּֽום׃ </span></td><td class=\"tf\"><span class=\"hb\"><span  class=\"hl\" >אֶת־</span></span></td><td class=\"tf\"><span class=\"hb\"><span  class=\"hl\" >כָּל־</span></span></td><td class=\"tf\"><span class=\"hb\"><span  class=\"hl\" >הַ</span></span></td><td class=\"tf\"><span class=\"hb\"><span  class=\"hl\" >מִּצְוָ֣ה </span></span></td></tr>\n",
       "<tr class=\"tf\"><td class=\"tf\">81</td><td class=\"tf\"> <a href=\"https://shebanq.ancient-data.org/hebrew/text?book=Deuteronomium&amp;chapter=15&amp;verse=5&amp;version=c&amp;mr=m&amp;qw=q&amp;tp=txt_p&amp;tr=hb&amp;wget=v&amp;qget=v&amp;nget=vt\" title=\"show this passage in SHEBANQ\" sec=\"Deuteronomy 15:5\">Deuteronomy 15:5</a></td><td class=\"tf\"><span class=\"hb\"><a class=\"vn\" href=\"https://shebanq.ancient-data.org/hebrew/text?book=Deuteronomium&amp;chapter=15&amp;verse=5&amp;version=c&amp;mr=m&amp;qw=q&amp;tp=txt_p&amp;tr=hb&amp;wget=v&amp;qget=v&amp;nget=vt\" title=\"Deuteronomy 15:5\" sec=\"Deuteronomy 15:5\"></a>רַ֚ק אִם־שָׁמֹ֣ועַ תִּשְׁמַ֔ע בְּקֹ֖ול יְהוָ֣ה אֱלֹהֶ֑יךָ לִשְׁמֹ֤ר לַעֲשֹׂות֙ <span  class=\"hl\" >אֶת־</span><span  class=\"hl\" >כָּל־</span><span  class=\"hl\" >הַ</span><span  class=\"hl\" >מִּצְוָ֣ה </span>הַזֹּ֔את אֲשֶׁ֛ר אָנֹכִ֥י מְצַוְּךָ֖ הַיֹּֽום׃ </span></td><td class=\"tf\"><span class=\"hb\"><span  class=\"hl\" >אֶת־</span></span></td><td class=\"tf\"><span class=\"hb\"><span  class=\"hl\" >כָּל־</span></span></td><td class=\"tf\"><span class=\"hb\"><span  class=\"hl\" >הַ</span></span></td><td class=\"tf\"><span class=\"hb\"><span  class=\"hl\" >מִּצְוָ֣ה </span></span></td></tr>\n",
       "<tr class=\"tf\"><td class=\"tf\">82</td><td class=\"tf\"> <a href=\"https://shebanq.ancient-data.org/hebrew/text?book=Deuteronomium&amp;chapter=15&amp;verse=5&amp;version=c&amp;mr=m&amp;qw=q&amp;tp=txt_p&amp;tr=hb&amp;wget=v&amp;qget=v&amp;nget=vt\" title=\"show this passage in SHEBANQ\" sec=\"Deuteronomy 15:5\">Deuteronomy 15:5</a></td><td class=\"tf\"><span class=\"hb\"><a class=\"vn\" href=\"https://shebanq.ancient-data.org/hebrew/text?book=Deuteronomium&amp;chapter=15&amp;verse=5&amp;version=c&amp;mr=m&amp;qw=q&amp;tp=txt_p&amp;tr=hb&amp;wget=v&amp;qget=v&amp;nget=vt\" title=\"Deuteronomy 15:5\" sec=\"Deuteronomy 15:5\"></a>רַ֚ק אִם־שָׁמֹ֣ועַ תִּשְׁמַ֔ע בְּקֹ֖ול יְהוָ֣ה אֱלֹהֶ֑יךָ לִשְׁמֹ֤ר לַעֲשֹׂות֙ אֶת־כָּל־הַמִּצְוָ֣ה <span  class=\"hl\" >הַ</span><span  class=\"hl\" >זֹּ֔את </span>אֲשֶׁ֛ר אָנֹכִ֥י מְצַוְּךָ֖ הַיֹּֽום׃ </span></td><td class=\"tf\"><span class=\"hb\"><span  class=\"hl\" >הַ</span></span></td><td class=\"tf\"><span class=\"hb\"><span  class=\"hl\" >זֹּ֔את </span></span></td></tr>\n",
       "<tr class=\"tf\"><td class=\"tf\">83</td><td class=\"tf\"> <a href=\"https://shebanq.ancient-data.org/hebrew/text?book=Deuteronomium&amp;chapter=15&amp;verse=5&amp;version=c&amp;mr=m&amp;qw=q&amp;tp=txt_p&amp;tr=hb&amp;wget=v&amp;qget=v&amp;nget=vt\" title=\"show this passage in SHEBANQ\" sec=\"Deuteronomy 15:5\">Deuteronomy 15:5</a></td><td class=\"tf\"><span class=\"hb\"><a class=\"vn\" href=\"https://shebanq.ancient-data.org/hebrew/text?book=Deuteronomium&amp;chapter=15&amp;verse=5&amp;version=c&amp;mr=m&amp;qw=q&amp;tp=txt_p&amp;tr=hb&amp;wget=v&amp;qget=v&amp;nget=vt\" title=\"Deuteronomy 15:5\" sec=\"Deuteronomy 15:5\"></a>רַ֚ק אִם־שָׁמֹ֣ועַ תִּשְׁמַ֔ע בְּקֹ֖ול יְהוָ֣ה אֱלֹהֶ֑יךָ לִשְׁמֹ֤ר לַעֲשֹׂות֙ אֶת־כָּל־הַמִּצְוָ֣ה <span  class=\"hl\" >הַ</span><span  class=\"hl\" >זֹּ֔את </span>אֲשֶׁ֛ר אָנֹכִ֥י מְצַוְּךָ֖ הַיֹּֽום׃ </span></td><td class=\"tf\"><span class=\"hb\"><span  class=\"hl\" >הַ</span></span></td><td class=\"tf\"><span class=\"hb\"><span  class=\"hl\" >זֹּ֔את </span></span></td></tr>\n",
       "<tr class=\"tf\"><td class=\"tf\">84</td><td class=\"tf\"> <a href=\"https://shebanq.ancient-data.org/hebrew/text?book=Deuteronomium&amp;chapter=15&amp;verse=5&amp;version=c&amp;mr=m&amp;qw=q&amp;tp=txt_p&amp;tr=hb&amp;wget=v&amp;qget=v&amp;nget=vt\" title=\"show this passage in SHEBANQ\" sec=\"Deuteronomy 15:5\">Deuteronomy 15:5</a></td><td class=\"tf\"><span class=\"hb\"><a class=\"vn\" href=\"https://shebanq.ancient-data.org/hebrew/text?book=Deuteronomium&amp;chapter=15&amp;verse=5&amp;version=c&amp;mr=m&amp;qw=q&amp;tp=txt_p&amp;tr=hb&amp;wget=v&amp;qget=v&amp;nget=vt\" title=\"Deuteronomy 15:5\" sec=\"Deuteronomy 15:5\"></a>רַ֚ק אִם־שָׁמֹ֣ועַ תִּשְׁמַ֔ע בְּקֹ֖ול יְהוָ֣ה אֱלֹהֶ֑יךָ לִשְׁמֹ֤ר לַעֲשֹׂות֙ אֶת־כָּל־הַמִּצְוָ֣ה הַזֹּ֔את <span  class=\"hl\" >אֲשֶׁ֛ר </span>אָנֹכִ֥י מְצַוְּךָ֖ הַיֹּֽום׃ </span></td><td class=\"tf\"><span class=\"hb\"><span  class=\"hl\" >אֲשֶׁ֛ר </span></span></td></tr>\n",
       "<tr class=\"tf\"><td class=\"tf\">85</td><td class=\"tf\"> <a href=\"https://shebanq.ancient-data.org/hebrew/text?book=Deuteronomium&amp;chapter=15&amp;verse=5&amp;version=c&amp;mr=m&amp;qw=q&amp;tp=txt_p&amp;tr=hb&amp;wget=v&amp;qget=v&amp;nget=vt\" title=\"show this passage in SHEBANQ\" sec=\"Deuteronomy 15:5\">Deuteronomy 15:5</a></td><td class=\"tf\"><span class=\"hb\"><a class=\"vn\" href=\"https://shebanq.ancient-data.org/hebrew/text?book=Deuteronomium&amp;chapter=15&amp;verse=5&amp;version=c&amp;mr=m&amp;qw=q&amp;tp=txt_p&amp;tr=hb&amp;wget=v&amp;qget=v&amp;nget=vt\" title=\"Deuteronomy 15:5\" sec=\"Deuteronomy 15:5\"></a>רַ֚ק אִם־שָׁמֹ֣ועַ תִּשְׁמַ֔ע בְּקֹ֖ול יְהוָ֣ה אֱלֹהֶ֑יךָ לִשְׁמֹ֤ר לַעֲשֹׂות֙ אֶת־כָּל־הַמִּצְוָ֣ה הַזֹּ֔את אֲשֶׁ֛ר <span  class=\"hl\" >אָנֹכִ֥י </span>מְצַוְּךָ֖ הַיֹּֽום׃ </span></td><td class=\"tf\"><span class=\"hb\"><span  class=\"hl\" >אָנֹכִ֥י </span></span></td></tr>\n",
       "<tr class=\"tf\"><td class=\"tf\">86</td><td class=\"tf\"> <a href=\"https://shebanq.ancient-data.org/hebrew/text?book=Deuteronomium&amp;chapter=15&amp;verse=5&amp;version=c&amp;mr=m&amp;qw=q&amp;tp=txt_p&amp;tr=hb&amp;wget=v&amp;qget=v&amp;nget=vt\" title=\"show this passage in SHEBANQ\" sec=\"Deuteronomy 15:5\">Deuteronomy 15:5</a></td><td class=\"tf\"><span class=\"hb\"><a class=\"vn\" href=\"https://shebanq.ancient-data.org/hebrew/text?book=Deuteronomium&amp;chapter=15&amp;verse=5&amp;version=c&amp;mr=m&amp;qw=q&amp;tp=txt_p&amp;tr=hb&amp;wget=v&amp;qget=v&amp;nget=vt\" title=\"Deuteronomy 15:5\" sec=\"Deuteronomy 15:5\"></a>רַ֚ק אִם־שָׁמֹ֣ועַ תִּשְׁמַ֔ע בְּקֹ֖ול יְהוָ֣ה אֱלֹהֶ֑יךָ לִשְׁמֹ֤ר לַעֲשֹׂות֙ אֶת־כָּל־הַמִּצְוָ֣ה הַזֹּ֔את אֲשֶׁ֛ר אָנֹכִ֥י <span  class=\"hl\" >מְצַוְּךָ֖ </span>הַיֹּֽום׃ </span></td><td class=\"tf\"><span class=\"hb\"><span  class=\"hl\" >מְצַוְּךָ֖ </span></span></td></tr>\n",
       "<tr class=\"tf\"><td class=\"tf\">87</td><td class=\"tf\"> <a href=\"https://shebanq.ancient-data.org/hebrew/text?book=Deuteronomium&amp;chapter=15&amp;verse=5&amp;version=c&amp;mr=m&amp;qw=q&amp;tp=txt_p&amp;tr=hb&amp;wget=v&amp;qget=v&amp;nget=vt\" title=\"show this passage in SHEBANQ\" sec=\"Deuteronomy 15:5\">Deuteronomy 15:5</a></td><td class=\"tf\"><span class=\"hb\"><a class=\"vn\" href=\"https://shebanq.ancient-data.org/hebrew/text?book=Deuteronomium&amp;chapter=15&amp;verse=5&amp;version=c&amp;mr=m&amp;qw=q&amp;tp=txt_p&amp;tr=hb&amp;wget=v&amp;qget=v&amp;nget=vt\" title=\"Deuteronomy 15:5\" sec=\"Deuteronomy 15:5\"></a>רַ֚ק אִם־שָׁמֹ֣ועַ תִּשְׁמַ֔ע בְּקֹ֖ול יְהוָ֣ה אֱלֹהֶ֑יךָ לִשְׁמֹ֤ר לַעֲשֹׂות֙ אֶת־כָּל־הַמִּצְוָ֣ה הַזֹּ֔את אֲשֶׁ֛ר אָנֹכִ֥י מְצַוְּךָ֖ <span  class=\"hl\" >הַ</span><span  class=\"hl\" >יֹּֽום׃ </span></span></td><td class=\"tf\"><span class=\"hb\"><span  class=\"hl\" >הַ</span></span></td><td class=\"tf\"><span class=\"hb\"><span  class=\"hl\" >יֹּֽום׃ </span></span></td></tr>\n",
       "<tr class=\"tf\"><td class=\"tf\">88</td><td class=\"tf\"> <a href=\"https://shebanq.ancient-data.org/hebrew/text?book=Deuteronomium&amp;chapter=15&amp;verse=5&amp;version=c&amp;mr=m&amp;qw=q&amp;tp=txt_p&amp;tr=hb&amp;wget=v&amp;qget=v&amp;nget=vt\" title=\"show this passage in SHEBANQ\" sec=\"Deuteronomy 15:5\">Deuteronomy 15:5</a></td><td class=\"tf\"><span class=\"hb\"><a class=\"vn\" href=\"https://shebanq.ancient-data.org/hebrew/text?book=Deuteronomium&amp;chapter=15&amp;verse=5&amp;version=c&amp;mr=m&amp;qw=q&amp;tp=txt_p&amp;tr=hb&amp;wget=v&amp;qget=v&amp;nget=vt\" title=\"Deuteronomy 15:5\" sec=\"Deuteronomy 15:5\"></a>רַ֚ק אִם־שָׁמֹ֣ועַ תִּשְׁמַ֔ע בְּקֹ֖ול יְהוָ֣ה אֱלֹהֶ֑יךָ לִשְׁמֹ֤ר לַעֲשֹׂות֙ אֶת־כָּל־הַמִּצְוָ֣ה הַזֹּ֔את אֲשֶׁ֛ר אָנֹכִ֥י מְצַוְּךָ֖ <span  class=\"hl\" >הַ</span><span  class=\"hl\" >יֹּֽום׃ </span></span></td><td class=\"tf\"><span class=\"hb\"><span  class=\"hl\" >הַ</span></span></td><td class=\"tf\"><span class=\"hb\"><span  class=\"hl\" >יֹּֽום׃ </span></span></td></tr>\n",
       "<tr class=\"tf\"><td class=\"tf\">89</td><td class=\"tf\"> <a href=\"https://shebanq.ancient-data.org/hebrew/text?book=Deuteronomium&amp;chapter=15&amp;verse=6&amp;version=c&amp;mr=m&amp;qw=q&amp;tp=txt_p&amp;tr=hb&amp;wget=v&amp;qget=v&amp;nget=vt\" title=\"show this passage in SHEBANQ\" sec=\"Deuteronomy 15:6\">Deuteronomy 15:6</a></td><td class=\"tf\"><span class=\"hb\"><a class=\"vn\" href=\"https://shebanq.ancient-data.org/hebrew/text?book=Deuteronomium&amp;chapter=15&amp;verse=6&amp;version=c&amp;mr=m&amp;qw=q&amp;tp=txt_p&amp;tr=hb&amp;wget=v&amp;qget=v&amp;nget=vt\" title=\"Deuteronomy 15:6\" sec=\"Deuteronomy 15:6\"></a><span  class=\"hl\" >כִּֽי־</span><span  class=\"hl\" >יְהוָ֤ה </span>אֱלֹהֶ֨יךָ֙ בֵּֽרַכְךָ֔ כַּאֲשֶׁ֖ר דִּבֶּר־לָ֑ךְ וְהַֽעֲבַטְתָּ֞ גֹּויִ֣ם רַבִּ֗ים וְאַתָּה֙ לֹ֣א תַעֲבֹ֔ט וּמָֽשַׁלְתָּ֙ בְּגֹויִ֣ם רַבִּ֔ים וּבְךָ֖ לֹ֥א יִמְשֹֽׁלוּ׃ ס </span></td><td class=\"tf\"><span class=\"hb\"><span  class=\"hl\" >כִּֽי־</span></span></td><td class=\"tf\"><span class=\"hb\"><span  class=\"hl\" >יְהוָ֤ה </span></span></td></tr>\n",
       "<tr class=\"tf\"><td class=\"tf\">90</td><td class=\"tf\"> <a href=\"https://shebanq.ancient-data.org/hebrew/text?book=Deuteronomium&amp;chapter=15&amp;verse=6&amp;version=c&amp;mr=m&amp;qw=q&amp;tp=txt_p&amp;tr=hb&amp;wget=v&amp;qget=v&amp;nget=vt\" title=\"show this passage in SHEBANQ\" sec=\"Deuteronomy 15:6\">Deuteronomy 15:6</a></td><td class=\"tf\"><span class=\"hb\"><a class=\"vn\" href=\"https://shebanq.ancient-data.org/hebrew/text?book=Deuteronomium&amp;chapter=15&amp;verse=6&amp;version=c&amp;mr=m&amp;qw=q&amp;tp=txt_p&amp;tr=hb&amp;wget=v&amp;qget=v&amp;nget=vt\" title=\"Deuteronomy 15:6\" sec=\"Deuteronomy 15:6\"></a><span  class=\"hl\" >כִּֽי־</span><span  class=\"hl\" >יְהוָ֤ה </span>אֱלֹהֶ֨יךָ֙ בֵּֽרַכְךָ֔ כַּאֲשֶׁ֖ר דִּבֶּר־לָ֑ךְ וְהַֽעֲבַטְתָּ֞ גֹּויִ֣ם רַבִּ֗ים וְאַתָּה֙ לֹ֣א תַעֲבֹ֔ט וּמָֽשַׁלְתָּ֙ בְּגֹויִ֣ם רַבִּ֔ים וּבְךָ֖ לֹ֥א יִמְשֹֽׁלוּ׃ ס </span></td><td class=\"tf\"><span class=\"hb\"><span  class=\"hl\" >כִּֽי־</span></span></td><td class=\"tf\"><span class=\"hb\"><span  class=\"hl\" >יְהוָ֤ה </span></span></td></tr>\n",
       "<tr class=\"tf\"><td class=\"tf\">91</td><td class=\"tf\"> <a href=\"https://shebanq.ancient-data.org/hebrew/text?book=Deuteronomium&amp;chapter=15&amp;verse=6&amp;version=c&amp;mr=m&amp;qw=q&amp;tp=txt_p&amp;tr=hb&amp;wget=v&amp;qget=v&amp;nget=vt\" title=\"show this passage in SHEBANQ\" sec=\"Deuteronomy 15:6\">Deuteronomy 15:6</a></td><td class=\"tf\"><span class=\"hb\"><a class=\"vn\" href=\"https://shebanq.ancient-data.org/hebrew/text?book=Deuteronomium&amp;chapter=15&amp;verse=6&amp;version=c&amp;mr=m&amp;qw=q&amp;tp=txt_p&amp;tr=hb&amp;wget=v&amp;qget=v&amp;nget=vt\" title=\"Deuteronomy 15:6\" sec=\"Deuteronomy 15:6\"></a>כִּֽי־יְהוָ֤ה <span  class=\"hl\" >אֱלֹהֶ֨יךָ֙ </span>בֵּֽרַכְךָ֔ כַּאֲשֶׁ֖ר דִּבֶּר־לָ֑ךְ וְהַֽעֲבַטְתָּ֞ גֹּויִ֣ם רַבִּ֗ים וְאַתָּה֙ לֹ֣א תַעֲבֹ֔ט וּמָֽשַׁלְתָּ֙ בְּגֹויִ֣ם רַבִּ֔ים וּבְךָ֖ לֹ֥א יִמְשֹֽׁלוּ׃ ס </span></td><td class=\"tf\"><span class=\"hb\"><span  class=\"hl\" >אֱלֹהֶ֨יךָ֙ </span></span></td></tr>\n",
       "<tr class=\"tf\"><td class=\"tf\">92</td><td class=\"tf\"> <a href=\"https://shebanq.ancient-data.org/hebrew/text?book=Deuteronomium&amp;chapter=15&amp;verse=6&amp;version=c&amp;mr=m&amp;qw=q&amp;tp=txt_p&amp;tr=hb&amp;wget=v&amp;qget=v&amp;nget=vt\" title=\"show this passage in SHEBANQ\" sec=\"Deuteronomy 15:6\">Deuteronomy 15:6</a></td><td class=\"tf\"><span class=\"hb\"><a class=\"vn\" href=\"https://shebanq.ancient-data.org/hebrew/text?book=Deuteronomium&amp;chapter=15&amp;verse=6&amp;version=c&amp;mr=m&amp;qw=q&amp;tp=txt_p&amp;tr=hb&amp;wget=v&amp;qget=v&amp;nget=vt\" title=\"Deuteronomy 15:6\" sec=\"Deuteronomy 15:6\"></a>כִּֽי־יְהוָ֤ה אֱלֹהֶ֨יךָ֙ <span  class=\"hl\" >בֵּֽרַכְךָ֔ </span>כַּאֲשֶׁ֖ר דִּבֶּר־לָ֑ךְ וְהַֽעֲבַטְתָּ֞ גֹּויִ֣ם רַבִּ֗ים וְאַתָּה֙ לֹ֣א תַעֲבֹ֔ט וּמָֽשַׁלְתָּ֙ בְּגֹויִ֣ם רַבִּ֔ים וּבְךָ֖ לֹ֥א יִמְשֹֽׁלוּ׃ ס </span></td><td class=\"tf\"><span class=\"hb\"><span  class=\"hl\" >בֵּֽרַכְךָ֔ </span></span></td></tr>\n",
       "<tr class=\"tf\"><td class=\"tf\">93</td><td class=\"tf\"> <a href=\"https://shebanq.ancient-data.org/hebrew/text?book=Deuteronomium&amp;chapter=15&amp;verse=6&amp;version=c&amp;mr=m&amp;qw=q&amp;tp=txt_p&amp;tr=hb&amp;wget=v&amp;qget=v&amp;nget=vt\" title=\"show this passage in SHEBANQ\" sec=\"Deuteronomy 15:6\">Deuteronomy 15:6</a></td><td class=\"tf\"><span class=\"hb\"><a class=\"vn\" href=\"https://shebanq.ancient-data.org/hebrew/text?book=Deuteronomium&amp;chapter=15&amp;verse=6&amp;version=c&amp;mr=m&amp;qw=q&amp;tp=txt_p&amp;tr=hb&amp;wget=v&amp;qget=v&amp;nget=vt\" title=\"Deuteronomy 15:6\" sec=\"Deuteronomy 15:6\"></a>כִּֽי־יְהוָ֤ה אֱלֹהֶ֨יךָ֙ בֵּֽרַכְךָ֔ <span  class=\"hl\" >כַּ</span><span  class=\"hl\" >אֲשֶׁ֖ר </span>דִּבֶּר־לָ֑ךְ וְהַֽעֲבַטְתָּ֞ גֹּויִ֣ם רַבִּ֗ים וְאַתָּה֙ לֹ֣א תַעֲבֹ֔ט וּמָֽשַׁלְתָּ֙ בְּגֹויִ֣ם רַבִּ֔ים וּבְךָ֖ לֹ֥א יִמְשֹֽׁלוּ׃ ס </span></td><td class=\"tf\"><span class=\"hb\"><span  class=\"hl\" >כַּ</span></span></td><td class=\"tf\"><span class=\"hb\"><span  class=\"hl\" >אֲשֶׁ֖ר </span></span></td></tr>\n",
       "<tr class=\"tf\"><td class=\"tf\">94</td><td class=\"tf\"> <a href=\"https://shebanq.ancient-data.org/hebrew/text?book=Deuteronomium&amp;chapter=15&amp;verse=6&amp;version=c&amp;mr=m&amp;qw=q&amp;tp=txt_p&amp;tr=hb&amp;wget=v&amp;qget=v&amp;nget=vt\" title=\"show this passage in SHEBANQ\" sec=\"Deuteronomy 15:6\">Deuteronomy 15:6</a></td><td class=\"tf\"><span class=\"hb\"><a class=\"vn\" href=\"https://shebanq.ancient-data.org/hebrew/text?book=Deuteronomium&amp;chapter=15&amp;verse=6&amp;version=c&amp;mr=m&amp;qw=q&amp;tp=txt_p&amp;tr=hb&amp;wget=v&amp;qget=v&amp;nget=vt\" title=\"Deuteronomy 15:6\" sec=\"Deuteronomy 15:6\"></a>כִּֽי־יְהוָ֤ה אֱלֹהֶ֨יךָ֙ בֵּֽרַכְךָ֔ <span  class=\"hl\" >כַּ</span><span  class=\"hl\" >אֲשֶׁ֖ר </span>דִּבֶּר־לָ֑ךְ וְהַֽעֲבַטְתָּ֞ גֹּויִ֣ם רַבִּ֗ים וְאַתָּה֙ לֹ֣א תַעֲבֹ֔ט וּמָֽשַׁלְתָּ֙ בְּגֹויִ֣ם רַבִּ֔ים וּבְךָ֖ לֹ֥א יִמְשֹֽׁלוּ׃ ס </span></td><td class=\"tf\"><span class=\"hb\"><span  class=\"hl\" >כַּ</span></span></td><td class=\"tf\"><span class=\"hb\"><span  class=\"hl\" >אֲשֶׁ֖ר </span></span></td></tr>\n",
       "<tr class=\"tf\"><td class=\"tf\">95</td><td class=\"tf\"> <a href=\"https://shebanq.ancient-data.org/hebrew/text?book=Deuteronomium&amp;chapter=15&amp;verse=6&amp;version=c&amp;mr=m&amp;qw=q&amp;tp=txt_p&amp;tr=hb&amp;wget=v&amp;qget=v&amp;nget=vt\" title=\"show this passage in SHEBANQ\" sec=\"Deuteronomy 15:6\">Deuteronomy 15:6</a></td><td class=\"tf\"><span class=\"hb\"><a class=\"vn\" href=\"https://shebanq.ancient-data.org/hebrew/text?book=Deuteronomium&amp;chapter=15&amp;verse=6&amp;version=c&amp;mr=m&amp;qw=q&amp;tp=txt_p&amp;tr=hb&amp;wget=v&amp;qget=v&amp;nget=vt\" title=\"Deuteronomy 15:6\" sec=\"Deuteronomy 15:6\"></a>כִּֽי־יְהוָ֤ה אֱלֹהֶ֨יךָ֙ בֵּֽרַכְךָ֔ כַּאֲשֶׁ֖ר <span  class=\"hl\" >דִּבֶּר־</span><span  class=\"hl\" >לָ֑ךְ </span>וְהַֽעֲבַטְתָּ֞ גֹּויִ֣ם רַבִּ֗ים וְאַתָּה֙ לֹ֣א תַעֲבֹ֔ט וּמָֽשַׁלְתָּ֙ בְּגֹויִ֣ם רַבִּ֔ים וּבְךָ֖ לֹ֥א יִמְשֹֽׁלוּ׃ ס </span></td><td class=\"tf\"><span class=\"hb\"><span  class=\"hl\" >דִּבֶּר־</span></span></td><td class=\"tf\"><span class=\"hb\"><span  class=\"hl\" >לָ֑ךְ </span></span></td></tr>\n",
       "<tr class=\"tf\"><td class=\"tf\">96</td><td class=\"tf\"> <a href=\"https://shebanq.ancient-data.org/hebrew/text?book=Deuteronomium&amp;chapter=15&amp;verse=6&amp;version=c&amp;mr=m&amp;qw=q&amp;tp=txt_p&amp;tr=hb&amp;wget=v&amp;qget=v&amp;nget=vt\" title=\"show this passage in SHEBANQ\" sec=\"Deuteronomy 15:6\">Deuteronomy 15:6</a></td><td class=\"tf\"><span class=\"hb\"><a class=\"vn\" href=\"https://shebanq.ancient-data.org/hebrew/text?book=Deuteronomium&amp;chapter=15&amp;verse=6&amp;version=c&amp;mr=m&amp;qw=q&amp;tp=txt_p&amp;tr=hb&amp;wget=v&amp;qget=v&amp;nget=vt\" title=\"Deuteronomy 15:6\" sec=\"Deuteronomy 15:6\"></a>כִּֽי־יְהוָ֤ה אֱלֹהֶ֨יךָ֙ בֵּֽרַכְךָ֔ כַּאֲשֶׁ֖ר <span  class=\"hl\" >דִּבֶּר־</span><span  class=\"hl\" >לָ֑ךְ </span>וְהַֽעֲבַטְתָּ֞ גֹּויִ֣ם רַבִּ֗ים וְאַתָּה֙ לֹ֣א תַעֲבֹ֔ט וּמָֽשַׁלְתָּ֙ בְּגֹויִ֣ם רַבִּ֔ים וּבְךָ֖ לֹ֥א יִמְשֹֽׁלוּ׃ ס </span></td><td class=\"tf\"><span class=\"hb\"><span  class=\"hl\" >דִּבֶּר־</span></span></td><td class=\"tf\"><span class=\"hb\"><span  class=\"hl\" >לָ֑ךְ </span></span></td></tr>\n",
       "<tr class=\"tf\"><td class=\"tf\">97</td><td class=\"tf\"> <a href=\"https://shebanq.ancient-data.org/hebrew/text?book=Deuteronomium&amp;chapter=15&amp;verse=6&amp;version=c&amp;mr=m&amp;qw=q&amp;tp=txt_p&amp;tr=hb&amp;wget=v&amp;qget=v&amp;nget=vt\" title=\"show this passage in SHEBANQ\" sec=\"Deuteronomy 15:6\">Deuteronomy 15:6</a></td><td class=\"tf\"><span class=\"hb\"><a class=\"vn\" href=\"https://shebanq.ancient-data.org/hebrew/text?book=Deuteronomium&amp;chapter=15&amp;verse=6&amp;version=c&amp;mr=m&amp;qw=q&amp;tp=txt_p&amp;tr=hb&amp;wget=v&amp;qget=v&amp;nget=vt\" title=\"Deuteronomy 15:6\" sec=\"Deuteronomy 15:6\"></a>כִּֽי־יְהוָ֤ה אֱלֹהֶ֨יךָ֙ בֵּֽרַכְךָ֔ כַּאֲשֶׁ֖ר דִּבֶּר־לָ֑ךְ <span  class=\"hl\" >וְ</span><span  class=\"hl\" >הַֽעֲבַטְתָּ֞ </span>גֹּויִ֣ם רַבִּ֗ים וְאַתָּה֙ לֹ֣א תַעֲבֹ֔ט וּמָֽשַׁלְתָּ֙ בְּגֹויִ֣ם רַבִּ֔ים וּבְךָ֖ לֹ֥א יִמְשֹֽׁלוּ׃ ס </span></td><td class=\"tf\"><span class=\"hb\"><span  class=\"hl\" >וְ</span></span></td><td class=\"tf\"><span class=\"hb\"><span  class=\"hl\" >הַֽעֲבַטְתָּ֞ </span></span></td></tr>\n",
       "<tr class=\"tf\"><td class=\"tf\">98</td><td class=\"tf\"> <a href=\"https://shebanq.ancient-data.org/hebrew/text?book=Deuteronomium&amp;chapter=15&amp;verse=6&amp;version=c&amp;mr=m&amp;qw=q&amp;tp=txt_p&amp;tr=hb&amp;wget=v&amp;qget=v&amp;nget=vt\" title=\"show this passage in SHEBANQ\" sec=\"Deuteronomy 15:6\">Deuteronomy 15:6</a></td><td class=\"tf\"><span class=\"hb\"><a class=\"vn\" href=\"https://shebanq.ancient-data.org/hebrew/text?book=Deuteronomium&amp;chapter=15&amp;verse=6&amp;version=c&amp;mr=m&amp;qw=q&amp;tp=txt_p&amp;tr=hb&amp;wget=v&amp;qget=v&amp;nget=vt\" title=\"Deuteronomy 15:6\" sec=\"Deuteronomy 15:6\"></a>כִּֽי־יְהוָ֤ה אֱלֹהֶ֨יךָ֙ בֵּֽרַכְךָ֔ כַּאֲשֶׁ֖ר דִּבֶּר־לָ֑ךְ <span  class=\"hl\" >וְ</span><span  class=\"hl\" >הַֽעֲבַטְתָּ֞ </span>גֹּויִ֣ם רַבִּ֗ים וְאַתָּה֙ לֹ֣א תַעֲבֹ֔ט וּמָֽשַׁלְתָּ֙ בְּגֹויִ֣ם רַבִּ֔ים וּבְךָ֖ לֹ֥א יִמְשֹֽׁלוּ׃ ס </span></td><td class=\"tf\"><span class=\"hb\"><span  class=\"hl\" >וְ</span></span></td><td class=\"tf\"><span class=\"hb\"><span  class=\"hl\" >הַֽעֲבַטְתָּ֞ </span></span></td></tr>\n",
       "<tr class=\"tf\"><td class=\"tf\">99</td><td class=\"tf\"> <a href=\"https://shebanq.ancient-data.org/hebrew/text?book=Deuteronomium&amp;chapter=15&amp;verse=6&amp;version=c&amp;mr=m&amp;qw=q&amp;tp=txt_p&amp;tr=hb&amp;wget=v&amp;qget=v&amp;nget=vt\" title=\"show this passage in SHEBANQ\" sec=\"Deuteronomy 15:6\">Deuteronomy 15:6</a></td><td class=\"tf\"><span class=\"hb\"><a class=\"vn\" href=\"https://shebanq.ancient-data.org/hebrew/text?book=Deuteronomium&amp;chapter=15&amp;verse=6&amp;version=c&amp;mr=m&amp;qw=q&amp;tp=txt_p&amp;tr=hb&amp;wget=v&amp;qget=v&amp;nget=vt\" title=\"Deuteronomy 15:6\" sec=\"Deuteronomy 15:6\"></a>כִּֽי־יְהוָ֤ה אֱלֹהֶ֨יךָ֙ בֵּֽרַכְךָ֔ כַּאֲשֶׁ֖ר דִּבֶּר־לָ֑ךְ וְהַֽעֲבַטְתָּ֞ <span  class=\"hl\" >גֹּויִ֣ם </span>רַבִּ֗ים וְאַתָּה֙ לֹ֣א תַעֲבֹ֔ט וּמָֽשַׁלְתָּ֙ בְּגֹויִ֣ם רַבִּ֔ים וּבְךָ֖ לֹ֥א יִמְשֹֽׁלוּ׃ ס </span></td><td class=\"tf\"><span class=\"hb\"><span  class=\"hl\" >גֹּויִ֣ם </span></span></td></tr>\n",
       "<tr class=\"tf\"><td class=\"tf\">100</td><td class=\"tf\"> <a href=\"https://shebanq.ancient-data.org/hebrew/text?book=Deuteronomium&amp;chapter=15&amp;verse=6&amp;version=c&amp;mr=m&amp;qw=q&amp;tp=txt_p&amp;tr=hb&amp;wget=v&amp;qget=v&amp;nget=vt\" title=\"show this passage in SHEBANQ\" sec=\"Deuteronomy 15:6\">Deuteronomy 15:6</a></td><td class=\"tf\"><span class=\"hb\"><a class=\"vn\" href=\"https://shebanq.ancient-data.org/hebrew/text?book=Deuteronomium&amp;chapter=15&amp;verse=6&amp;version=c&amp;mr=m&amp;qw=q&amp;tp=txt_p&amp;tr=hb&amp;wget=v&amp;qget=v&amp;nget=vt\" title=\"Deuteronomy 15:6\" sec=\"Deuteronomy 15:6\"></a>כִּֽי־יְהוָ֤ה אֱלֹהֶ֨יךָ֙ בֵּֽרַכְךָ֔ כַּאֲשֶׁ֖ר דִּבֶּר־לָ֑ךְ וְהַֽעֲבַטְתָּ֞ גֹּויִ֣ם <span  class=\"hl\" >רַבִּ֗ים </span>וְאַתָּה֙ לֹ֣א תַעֲבֹ֔ט וּמָֽשַׁלְתָּ֙ בְּגֹויִ֣ם רַבִּ֔ים וּבְךָ֖ לֹ֥א יִמְשֹֽׁלוּ׃ ס </span></td><td class=\"tf\"><span class=\"hb\"><span  class=\"hl\" >רַבִּ֗ים </span></span></td></tr></table>"
      ],
      "text/plain": [
       "<IPython.core.display.HTML object>"
      ]
     },
     "metadata": {},
     "output_type": "display_data"
    }
   ],
   "source": [
    "chapter = random.choice(list(F.otype.s('chapter')))\n",
    "A.table(\n",
    "    (L.u(w, 'verse')+mwords[w] for w in L.d(chapter, 'word'))\n",
    ", end=100)"
   ]
  },
  {
   "cell_type": "markdown",
   "metadata": {},
   "source": [
    "### accent class"
   ]
  },
  {
   "cell_type": "code",
   "execution_count": 12,
   "metadata": {},
   "outputs": [
    {
     "name": "stdout",
     "output_type": "stream",
     "text": [
      "225377 ('Isaiah', 39, 1)\n"
     ]
    },
    {
     "data": {
      "text/html": [
       "\n",
       "<span style=\"font-family:Times New Roman; font-size:20pt\">\n",
       "    בָּ | בָּעֵ֣ת \n",
       "</hspan>"
      ],
      "text/plain": [
       "<IPython.core.display.HTML object>"
      ]
     },
     "metadata": {},
     "output_type": "display_data"
    },
    {
     "data": {
      "text/html": [
       "\n",
       "<span style=\"font-family:Times New Roman; font-size:20pt\">\n",
       "    &nbsp;&nbsp;&nbsp;&nbsp;B.@--<;74T \n",
       "</hspan>"
      ],
      "text/plain": [
       "<IPython.core.display.HTML object>"
      ]
     },
     "metadata": {},
     "output_type": "display_data"
    },
    {
     "data": {
      "text/html": [
       "\n",
       "<span style=\"font-family:Times New Roman; font-size:20pt\">\n",
       "    &nbsp;&nbsp;&nbsp;&nbsp;conjunct\n",
       "</hspan>"
      ],
      "text/plain": [
       "<IPython.core.display.HTML object>"
      ]
     },
     "metadata": {},
     "output_type": "display_data"
    },
    {
     "data": {
      "text/html": [
       "\n",
       "<span style=\"font-family:Times New Roman; font-size:20pt\">\n",
       "    <hr>\n",
       "</hspan>"
      ],
      "text/plain": [
       "<IPython.core.display.HTML object>"
      ]
     },
     "metadata": {},
     "output_type": "display_data"
    },
    {
     "name": "stdout",
     "output_type": "stream",
     "text": [
      "225378 ('Isaiah', 39, 1)\n"
     ]
    },
    {
     "data": {
      "text/html": [
       "\n",
       "<span style=\"font-family:Times New Roman; font-size:20pt\">\n",
       "     | בָּעֵ֣ת \n",
       "</hspan>"
      ],
      "text/plain": [
       "<IPython.core.display.HTML object>"
      ]
     },
     "metadata": {},
     "output_type": "display_data"
    },
    {
     "data": {
      "text/html": [
       "\n",
       "<span style=\"font-family:Times New Roman; font-size:20pt\">\n",
       "    &nbsp;&nbsp;&nbsp;&nbsp;B.@--<;74T \n",
       "</hspan>"
      ],
      "text/plain": [
       "<IPython.core.display.HTML object>"
      ]
     },
     "metadata": {},
     "output_type": "display_data"
    },
    {
     "data": {
      "text/html": [
       "\n",
       "<span style=\"font-family:Times New Roman; font-size:20pt\">\n",
       "    &nbsp;&nbsp;&nbsp;&nbsp;conjunct\n",
       "</hspan>"
      ],
      "text/plain": [
       "<IPython.core.display.HTML object>"
      ]
     },
     "metadata": {},
     "output_type": "display_data"
    },
    {
     "data": {
      "text/html": [
       "\n",
       "<span style=\"font-family:Times New Roman; font-size:20pt\">\n",
       "    <hr>\n",
       "</hspan>"
      ],
      "text/plain": [
       "<IPython.core.display.HTML object>"
      ]
     },
     "metadata": {},
     "output_type": "display_data"
    },
    {
     "name": "stdout",
     "output_type": "stream",
     "text": [
      "225379 ('Isaiah', 39, 1)\n"
     ]
    },
    {
     "data": {
      "text/html": [
       "\n",
       "<span style=\"font-family:Times New Roman; font-size:20pt\">\n",
       "    עֵ֣ת  | בָּעֵ֣ת \n",
       "</hspan>"
      ],
      "text/plain": [
       "<IPython.core.display.HTML object>"
      ]
     },
     "metadata": {},
     "output_type": "display_data"
    },
    {
     "data": {
      "text/html": [
       "\n",
       "<span style=\"font-family:Times New Roman; font-size:20pt\">\n",
       "    &nbsp;&nbsp;&nbsp;&nbsp;B.@--<;74T \n",
       "</hspan>"
      ],
      "text/plain": [
       "<IPython.core.display.HTML object>"
      ]
     },
     "metadata": {},
     "output_type": "display_data"
    },
    {
     "data": {
      "text/html": [
       "\n",
       "<span style=\"font-family:Times New Roman; font-size:20pt\">\n",
       "    &nbsp;&nbsp;&nbsp;&nbsp;conjunct\n",
       "</hspan>"
      ],
      "text/plain": [
       "<IPython.core.display.HTML object>"
      ]
     },
     "metadata": {},
     "output_type": "display_data"
    },
    {
     "data": {
      "text/html": [
       "\n",
       "<span style=\"font-family:Times New Roman; font-size:20pt\">\n",
       "    <hr>\n",
       "</hspan>"
      ],
      "text/plain": [
       "<IPython.core.display.HTML object>"
      ]
     },
     "metadata": {},
     "output_type": "display_data"
    },
    {
     "name": "stdout",
     "output_type": "stream",
     "text": [
      "225380 ('Isaiah', 39, 1)\n"
     ]
    },
    {
     "data": {
      "text/html": [
       "\n",
       "<span style=\"font-family:Times New Roman; font-size:20pt\">\n",
       "    הַ | הַהִ֡וא \n",
       "</hspan>"
      ],
      "text/plain": [
       "<IPython.core.display.HTML object>"
      ]
     },
     "metadata": {},
     "output_type": "display_data"
    },
    {
     "data": {
      "text/html": [
       "\n",
       "<span style=\"font-family:Times New Roman; font-size:20pt\">\n",
       "    &nbsp;&nbsp;&nbsp;&nbsp;HA-HI83W> \n",
       "</hspan>"
      ],
      "text/plain": [
       "<IPython.core.display.HTML object>"
      ]
     },
     "metadata": {},
     "output_type": "display_data"
    },
    {
     "data": {
      "text/html": [
       "\n",
       "<span style=\"font-family:Times New Roman; font-size:20pt\">\n",
       "    &nbsp;&nbsp;&nbsp;&nbsp;disjunct\n",
       "</hspan>"
      ],
      "text/plain": [
       "<IPython.core.display.HTML object>"
      ]
     },
     "metadata": {},
     "output_type": "display_data"
    },
    {
     "data": {
      "text/html": [
       "\n",
       "<span style=\"font-family:Times New Roman; font-size:20pt\">\n",
       "    <hr>\n",
       "</hspan>"
      ],
      "text/plain": [
       "<IPython.core.display.HTML object>"
      ]
     },
     "metadata": {},
     "output_type": "display_data"
    },
    {
     "name": "stdout",
     "output_type": "stream",
     "text": [
      "225381 ('Isaiah', 39, 1)\n"
     ]
    },
    {
     "data": {
      "text/html": [
       "\n",
       "<span style=\"font-family:Times New Roman; font-size:20pt\">\n",
       "    הִ֡וא  | הַהִ֡וא \n",
       "</hspan>"
      ],
      "text/plain": [
       "<IPython.core.display.HTML object>"
      ]
     },
     "metadata": {},
     "output_type": "display_data"
    },
    {
     "data": {
      "text/html": [
       "\n",
       "<span style=\"font-family:Times New Roman; font-size:20pt\">\n",
       "    &nbsp;&nbsp;&nbsp;&nbsp;HA-HI83W> \n",
       "</hspan>"
      ],
      "text/plain": [
       "<IPython.core.display.HTML object>"
      ]
     },
     "metadata": {},
     "output_type": "display_data"
    },
    {
     "data": {
      "text/html": [
       "\n",
       "<span style=\"font-family:Times New Roman; font-size:20pt\">\n",
       "    &nbsp;&nbsp;&nbsp;&nbsp;disjunct\n",
       "</hspan>"
      ],
      "text/plain": [
       "<IPython.core.display.HTML object>"
      ]
     },
     "metadata": {},
     "output_type": "display_data"
    },
    {
     "data": {
      "text/html": [
       "\n",
       "<span style=\"font-family:Times New Roman; font-size:20pt\">\n",
       "    <hr>\n",
       "</hspan>"
      ],
      "text/plain": [
       "<IPython.core.display.HTML object>"
      ]
     },
     "metadata": {},
     "output_type": "display_data"
    },
    {
     "name": "stdout",
     "output_type": "stream",
     "text": [
      "225382 ('Isaiah', 39, 1)\n"
     ]
    },
    {
     "data": {
      "text/html": [
       "\n",
       "<span style=\"font-family:Times New Roman; font-size:20pt\">\n",
       "    שָׁלַ֡ח  | שָׁלַ֡ח \n",
       "</hspan>"
      ],
      "text/plain": [
       "<IPython.core.display.HTML object>"
      ]
     },
     "metadata": {},
     "output_type": "display_data"
    },
    {
     "data": {
      "text/html": [
       "\n",
       "<span style=\"font-family:Times New Roman; font-size:20pt\">\n",
       "    &nbsp;&nbsp;&nbsp;&nbsp;C@LA83X \n",
       "</hspan>"
      ],
      "text/plain": [
       "<IPython.core.display.HTML object>"
      ]
     },
     "metadata": {},
     "output_type": "display_data"
    },
    {
     "data": {
      "text/html": [
       "\n",
       "<span style=\"font-family:Times New Roman; font-size:20pt\">\n",
       "    &nbsp;&nbsp;&nbsp;&nbsp;disjunct\n",
       "</hspan>"
      ],
      "text/plain": [
       "<IPython.core.display.HTML object>"
      ]
     },
     "metadata": {},
     "output_type": "display_data"
    },
    {
     "data": {
      "text/html": [
       "\n",
       "<span style=\"font-family:Times New Roman; font-size:20pt\">\n",
       "    <hr>\n",
       "</hspan>"
      ],
      "text/plain": [
       "<IPython.core.display.HTML object>"
      ]
     },
     "metadata": {},
     "output_type": "display_data"
    },
    {
     "name": "stdout",
     "output_type": "stream",
     "text": [
      "225383 ('Isaiah', 39, 1)\n"
     ]
    },
    {
     "data": {
      "text/html": [
       "\n",
       "<span style=\"font-family:Times New Roman; font-size:20pt\">\n",
       "    מְרֹדַ֣ךְ ֠בַּלְאֲדָן  | מְרֹדַ֣ךְ ֠בַּלְאֲדָן \n",
       "</hspan>"
      ],
      "text/plain": [
       "<IPython.core.display.HTML object>"
      ]
     },
     "metadata": {},
     "output_type": "display_data"
    },
    {
     "data": {
      "text/html": [
       "\n",
       "<span style=\"font-family:Times New Roman; font-size:20pt\">\n",
       "    &nbsp;&nbsp;&nbsp;&nbsp;M:RODA74K:_14B.AL:>:AD@N \n",
       "</hspan>"
      ],
      "text/plain": [
       "<IPython.core.display.HTML object>"
      ]
     },
     "metadata": {},
     "output_type": "display_data"
    },
    {
     "data": {
      "text/html": [
       "\n",
       "<span style=\"font-family:Times New Roman; font-size:20pt\">\n",
       "    &nbsp;&nbsp;&nbsp;&nbsp;disjunct\n",
       "</hspan>"
      ],
      "text/plain": [
       "<IPython.core.display.HTML object>"
      ]
     },
     "metadata": {},
     "output_type": "display_data"
    },
    {
     "data": {
      "text/html": [
       "\n",
       "<span style=\"font-family:Times New Roman; font-size:20pt\">\n",
       "    <hr>\n",
       "</hspan>"
      ],
      "text/plain": [
       "<IPython.core.display.HTML object>"
      ]
     },
     "metadata": {},
     "output_type": "display_data"
    },
    {
     "name": "stdout",
     "output_type": "stream",
     "text": [
      "225384 ('Isaiah', 39, 1)\n"
     ]
    },
    {
     "data": {
      "text/html": [
       "\n",
       "<span style=\"font-family:Times New Roman; font-size:20pt\">\n",
       "    בֶּֽן־ | בֶּֽן־בַּלְאֲדָ֧ן \n",
       "</hspan>"
      ],
      "text/plain": [
       "<IPython.core.display.HTML object>"
      ]
     },
     "metadata": {},
     "output_type": "display_data"
    },
    {
     "data": {
      "text/html": [
       "\n",
       "<span style=\"font-family:Times New Roman; font-size:20pt\">\n",
       "    &nbsp;&nbsp;&nbsp;&nbsp;B.E45N&B.AL:>:AD@94N \n",
       "</hspan>"
      ],
      "text/plain": [
       "<IPython.core.display.HTML object>"
      ]
     },
     "metadata": {},
     "output_type": "display_data"
    },
    {
     "data": {
      "text/html": [
       "\n",
       "<span style=\"font-family:Times New Roman; font-size:20pt\">\n",
       "    &nbsp;&nbsp;&nbsp;&nbsp;conjunct\n",
       "</hspan>"
      ],
      "text/plain": [
       "<IPython.core.display.HTML object>"
      ]
     },
     "metadata": {},
     "output_type": "display_data"
    },
    {
     "data": {
      "text/html": [
       "\n",
       "<span style=\"font-family:Times New Roman; font-size:20pt\">\n",
       "    <hr>\n",
       "</hspan>"
      ],
      "text/plain": [
       "<IPython.core.display.HTML object>"
      ]
     },
     "metadata": {},
     "output_type": "display_data"
    },
    {
     "name": "stdout",
     "output_type": "stream",
     "text": [
      "225385 ('Isaiah', 39, 1)\n"
     ]
    },
    {
     "data": {
      "text/html": [
       "\n",
       "<span style=\"font-family:Times New Roman; font-size:20pt\">\n",
       "    בַּלְאֲדָ֧ן  | בֶּֽן־בַּלְאֲדָ֧ן \n",
       "</hspan>"
      ],
      "text/plain": [
       "<IPython.core.display.HTML object>"
      ]
     },
     "metadata": {},
     "output_type": "display_data"
    },
    {
     "data": {
      "text/html": [
       "\n",
       "<span style=\"font-family:Times New Roman; font-size:20pt\">\n",
       "    &nbsp;&nbsp;&nbsp;&nbsp;B.E45N&B.AL:>:AD@94N \n",
       "</hspan>"
      ],
      "text/plain": [
       "<IPython.core.display.HTML object>"
      ]
     },
     "metadata": {},
     "output_type": "display_data"
    },
    {
     "data": {
      "text/html": [
       "\n",
       "<span style=\"font-family:Times New Roman; font-size:20pt\">\n",
       "    &nbsp;&nbsp;&nbsp;&nbsp;conjunct\n",
       "</hspan>"
      ],
      "text/plain": [
       "<IPython.core.display.HTML object>"
      ]
     },
     "metadata": {},
     "output_type": "display_data"
    },
    {
     "data": {
      "text/html": [
       "\n",
       "<span style=\"font-family:Times New Roman; font-size:20pt\">\n",
       "    <hr>\n",
       "</hspan>"
      ],
      "text/plain": [
       "<IPython.core.display.HTML object>"
      ]
     },
     "metadata": {},
     "output_type": "display_data"
    },
    {
     "name": "stdout",
     "output_type": "stream",
     "text": [
      "225386 ('Isaiah', 39, 1)\n"
     ]
    },
    {
     "data": {
      "text/html": [
       "\n",
       "<span style=\"font-family:Times New Roman; font-size:20pt\">\n",
       "    מֶֽלֶךְ־ | מֶֽלֶךְ־בָּבֶ֛ל \n",
       "</hspan>"
      ],
      "text/plain": [
       "<IPython.core.display.HTML object>"
      ]
     },
     "metadata": {},
     "output_type": "display_data"
    },
    {
     "data": {
      "text/html": [
       "\n",
       "<span style=\"font-family:Times New Roman; font-size:20pt\">\n",
       "    &nbsp;&nbsp;&nbsp;&nbsp;ME45LEK:&B.@BE91L \n",
       "</hspan>"
      ],
      "text/plain": [
       "<IPython.core.display.HTML object>"
      ]
     },
     "metadata": {},
     "output_type": "display_data"
    },
    {
     "data": {
      "text/html": [
       "\n",
       "<span style=\"font-family:Times New Roman; font-size:20pt\">\n",
       "    &nbsp;&nbsp;&nbsp;&nbsp;disjunct\n",
       "</hspan>"
      ],
      "text/plain": [
       "<IPython.core.display.HTML object>"
      ]
     },
     "metadata": {},
     "output_type": "display_data"
    },
    {
     "data": {
      "text/html": [
       "\n",
       "<span style=\"font-family:Times New Roman; font-size:20pt\">\n",
       "    <hr>\n",
       "</hspan>"
      ],
      "text/plain": [
       "<IPython.core.display.HTML object>"
      ]
     },
     "metadata": {},
     "output_type": "display_data"
    },
    {
     "name": "stdout",
     "output_type": "stream",
     "text": [
      "225387 ('Isaiah', 39, 1)\n"
     ]
    },
    {
     "data": {
      "text/html": [
       "\n",
       "<span style=\"font-family:Times New Roman; font-size:20pt\">\n",
       "    בָּבֶ֛ל  | מֶֽלֶךְ־בָּבֶ֛ל \n",
       "</hspan>"
      ],
      "text/plain": [
       "<IPython.core.display.HTML object>"
      ]
     },
     "metadata": {},
     "output_type": "display_data"
    },
    {
     "data": {
      "text/html": [
       "\n",
       "<span style=\"font-family:Times New Roman; font-size:20pt\">\n",
       "    &nbsp;&nbsp;&nbsp;&nbsp;ME45LEK:&B.@BE91L \n",
       "</hspan>"
      ],
      "text/plain": [
       "<IPython.core.display.HTML object>"
      ]
     },
     "metadata": {},
     "output_type": "display_data"
    },
    {
     "data": {
      "text/html": [
       "\n",
       "<span style=\"font-family:Times New Roman; font-size:20pt\">\n",
       "    &nbsp;&nbsp;&nbsp;&nbsp;disjunct\n",
       "</hspan>"
      ],
      "text/plain": [
       "<IPython.core.display.HTML object>"
      ]
     },
     "metadata": {},
     "output_type": "display_data"
    },
    {
     "data": {
      "text/html": [
       "\n",
       "<span style=\"font-family:Times New Roman; font-size:20pt\">\n",
       "    <hr>\n",
       "</hspan>"
      ],
      "text/plain": [
       "<IPython.core.display.HTML object>"
      ]
     },
     "metadata": {},
     "output_type": "display_data"
    },
    {
     "name": "stdout",
     "output_type": "stream",
     "text": [
      "225388 ('Isaiah', 39, 1)\n"
     ]
    },
    {
     "data": {
      "text/html": [
       "\n",
       "<span style=\"font-family:Times New Roman; font-size:20pt\">\n",
       "    סְפָרִ֥ים  | סְפָרִ֥ים \n",
       "</hspan>"
      ],
      "text/plain": [
       "<IPython.core.display.HTML object>"
      ]
     },
     "metadata": {},
     "output_type": "display_data"
    },
    {
     "data": {
      "text/html": [
       "\n",
       "<span style=\"font-family:Times New Roman; font-size:20pt\">\n",
       "    &nbsp;&nbsp;&nbsp;&nbsp;S:P@RI71JM \n",
       "</hspan>"
      ],
      "text/plain": [
       "<IPython.core.display.HTML object>"
      ]
     },
     "metadata": {},
     "output_type": "display_data"
    },
    {
     "data": {
      "text/html": [
       "\n",
       "<span style=\"font-family:Times New Roman; font-size:20pt\">\n",
       "    &nbsp;&nbsp;&nbsp;&nbsp;conjunct\n",
       "</hspan>"
      ],
      "text/plain": [
       "<IPython.core.display.HTML object>"
      ]
     },
     "metadata": {},
     "output_type": "display_data"
    },
    {
     "data": {
      "text/html": [
       "\n",
       "<span style=\"font-family:Times New Roman; font-size:20pt\">\n",
       "    <hr>\n",
       "</hspan>"
      ],
      "text/plain": [
       "<IPython.core.display.HTML object>"
      ]
     },
     "metadata": {},
     "output_type": "display_data"
    },
    {
     "name": "stdout",
     "output_type": "stream",
     "text": [
      "225389 ('Isaiah', 39, 1)\n"
     ]
    },
    {
     "data": {
      "text/html": [
       "\n",
       "<span style=\"font-family:Times New Roman; font-size:20pt\">\n",
       "    וּ | וּמִנְחָ֖ה \n",
       "</hspan>"
      ],
      "text/plain": [
       "<IPython.core.display.HTML object>"
      ]
     },
     "metadata": {},
     "output_type": "display_data"
    },
    {
     "data": {
      "text/html": [
       "\n",
       "<span style=\"font-family:Times New Roman; font-size:20pt\">\n",
       "    &nbsp;&nbsp;&nbsp;&nbsp;W.-MIN:X@73H \n",
       "</hspan>"
      ],
      "text/plain": [
       "<IPython.core.display.HTML object>"
      ]
     },
     "metadata": {},
     "output_type": "display_data"
    },
    {
     "data": {
      "text/html": [
       "\n",
       "<span style=\"font-family:Times New Roman; font-size:20pt\">\n",
       "    &nbsp;&nbsp;&nbsp;&nbsp;disjunct\n",
       "</hspan>"
      ],
      "text/plain": [
       "<IPython.core.display.HTML object>"
      ]
     },
     "metadata": {},
     "output_type": "display_data"
    },
    {
     "data": {
      "text/html": [
       "\n",
       "<span style=\"font-family:Times New Roman; font-size:20pt\">\n",
       "    <hr>\n",
       "</hspan>"
      ],
      "text/plain": [
       "<IPython.core.display.HTML object>"
      ]
     },
     "metadata": {},
     "output_type": "display_data"
    },
    {
     "name": "stdout",
     "output_type": "stream",
     "text": [
      "225390 ('Isaiah', 39, 1)\n"
     ]
    },
    {
     "data": {
      "text/html": [
       "\n",
       "<span style=\"font-family:Times New Roman; font-size:20pt\">\n",
       "    מִנְחָ֖ה  | וּמִנְחָ֖ה \n",
       "</hspan>"
      ],
      "text/plain": [
       "<IPython.core.display.HTML object>"
      ]
     },
     "metadata": {},
     "output_type": "display_data"
    },
    {
     "data": {
      "text/html": [
       "\n",
       "<span style=\"font-family:Times New Roman; font-size:20pt\">\n",
       "    &nbsp;&nbsp;&nbsp;&nbsp;W.-MIN:X@73H \n",
       "</hspan>"
      ],
      "text/plain": [
       "<IPython.core.display.HTML object>"
      ]
     },
     "metadata": {},
     "output_type": "display_data"
    },
    {
     "data": {
      "text/html": [
       "\n",
       "<span style=\"font-family:Times New Roman; font-size:20pt\">\n",
       "    &nbsp;&nbsp;&nbsp;&nbsp;disjunct\n",
       "</hspan>"
      ],
      "text/plain": [
       "<IPython.core.display.HTML object>"
      ]
     },
     "metadata": {},
     "output_type": "display_data"
    },
    {
     "data": {
      "text/html": [
       "\n",
       "<span style=\"font-family:Times New Roman; font-size:20pt\">\n",
       "    <hr>\n",
       "</hspan>"
      ],
      "text/plain": [
       "<IPython.core.display.HTML object>"
      ]
     },
     "metadata": {},
     "output_type": "display_data"
    },
    {
     "name": "stdout",
     "output_type": "stream",
     "text": [
      "225391 ('Isaiah', 39, 1)\n"
     ]
    },
    {
     "data": {
      "text/html": [
       "\n",
       "<span style=\"font-family:Times New Roman; font-size:20pt\">\n",
       "    אֶל־ | אֶל־חִזְקִיָּ֑הוּ \n",
       "</hspan>"
      ],
      "text/plain": [
       "<IPython.core.display.HTML object>"
      ]
     },
     "metadata": {},
     "output_type": "display_data"
    },
    {
     "data": {
      "text/html": [
       "\n",
       "<span style=\"font-family:Times New Roman; font-size:20pt\">\n",
       "    &nbsp;&nbsp;&nbsp;&nbsp;>EL&XIZ:QIJ.@92HW. \n",
       "</hspan>"
      ],
      "text/plain": [
       "<IPython.core.display.HTML object>"
      ]
     },
     "metadata": {},
     "output_type": "display_data"
    },
    {
     "data": {
      "text/html": [
       "\n",
       "<span style=\"font-family:Times New Roman; font-size:20pt\">\n",
       "    &nbsp;&nbsp;&nbsp;&nbsp;disjunct\n",
       "</hspan>"
      ],
      "text/plain": [
       "<IPython.core.display.HTML object>"
      ]
     },
     "metadata": {},
     "output_type": "display_data"
    },
    {
     "data": {
      "text/html": [
       "\n",
       "<span style=\"font-family:Times New Roman; font-size:20pt\">\n",
       "    <hr>\n",
       "</hspan>"
      ],
      "text/plain": [
       "<IPython.core.display.HTML object>"
      ]
     },
     "metadata": {},
     "output_type": "display_data"
    },
    {
     "name": "stdout",
     "output_type": "stream",
     "text": [
      "225392 ('Isaiah', 39, 1)\n"
     ]
    },
    {
     "data": {
      "text/html": [
       "\n",
       "<span style=\"font-family:Times New Roman; font-size:20pt\">\n",
       "    חִזְקִיָּ֑הוּ  | אֶל־חִזְקִיָּ֑הוּ \n",
       "</hspan>"
      ],
      "text/plain": [
       "<IPython.core.display.HTML object>"
      ]
     },
     "metadata": {},
     "output_type": "display_data"
    },
    {
     "data": {
      "text/html": [
       "\n",
       "<span style=\"font-family:Times New Roman; font-size:20pt\">\n",
       "    &nbsp;&nbsp;&nbsp;&nbsp;>EL&XIZ:QIJ.@92HW. \n",
       "</hspan>"
      ],
      "text/plain": [
       "<IPython.core.display.HTML object>"
      ]
     },
     "metadata": {},
     "output_type": "display_data"
    },
    {
     "data": {
      "text/html": [
       "\n",
       "<span style=\"font-family:Times New Roman; font-size:20pt\">\n",
       "    &nbsp;&nbsp;&nbsp;&nbsp;disjunct\n",
       "</hspan>"
      ],
      "text/plain": [
       "<IPython.core.display.HTML object>"
      ]
     },
     "metadata": {},
     "output_type": "display_data"
    },
    {
     "data": {
      "text/html": [
       "\n",
       "<span style=\"font-family:Times New Roman; font-size:20pt\">\n",
       "    <hr>\n",
       "</hspan>"
      ],
      "text/plain": [
       "<IPython.core.display.HTML object>"
      ]
     },
     "metadata": {},
     "output_type": "display_data"
    },
    {
     "name": "stdout",
     "output_type": "stream",
     "text": [
      "225393 ('Isaiah', 39, 1)\n"
     ]
    },
    {
     "data": {
      "text/html": [
       "\n",
       "<span style=\"font-family:Times New Roman; font-size:20pt\">\n",
       "    וַ | וַיִּשְׁמַ֕ע \n",
       "</hspan>"
      ],
      "text/plain": [
       "<IPython.core.display.HTML object>"
      ]
     },
     "metadata": {},
     "output_type": "display_data"
    },
    {
     "data": {
      "text/html": [
       "\n",
       "<span style=\"font-family:Times New Roman; font-size:20pt\">\n",
       "    &nbsp;&nbsp;&nbsp;&nbsp;WA-J.IC:MA85< \n",
       "</hspan>"
      ],
      "text/plain": [
       "<IPython.core.display.HTML object>"
      ]
     },
     "metadata": {},
     "output_type": "display_data"
    },
    {
     "data": {
      "text/html": [
       "\n",
       "<span style=\"font-family:Times New Roman; font-size:20pt\">\n",
       "    &nbsp;&nbsp;&nbsp;&nbsp;disjunct\n",
       "</hspan>"
      ],
      "text/plain": [
       "<IPython.core.display.HTML object>"
      ]
     },
     "metadata": {},
     "output_type": "display_data"
    },
    {
     "data": {
      "text/html": [
       "\n",
       "<span style=\"font-family:Times New Roman; font-size:20pt\">\n",
       "    <hr>\n",
       "</hspan>"
      ],
      "text/plain": [
       "<IPython.core.display.HTML object>"
      ]
     },
     "metadata": {},
     "output_type": "display_data"
    },
    {
     "name": "stdout",
     "output_type": "stream",
     "text": [
      "225394 ('Isaiah', 39, 1)\n"
     ]
    },
    {
     "data": {
      "text/html": [
       "\n",
       "<span style=\"font-family:Times New Roman; font-size:20pt\">\n",
       "    יִּשְׁמַ֕ע  | וַיִּשְׁמַ֕ע \n",
       "</hspan>"
      ],
      "text/plain": [
       "<IPython.core.display.HTML object>"
      ]
     },
     "metadata": {},
     "output_type": "display_data"
    },
    {
     "data": {
      "text/html": [
       "\n",
       "<span style=\"font-family:Times New Roman; font-size:20pt\">\n",
       "    &nbsp;&nbsp;&nbsp;&nbsp;WA-J.IC:MA85< \n",
       "</hspan>"
      ],
      "text/plain": [
       "<IPython.core.display.HTML object>"
      ]
     },
     "metadata": {},
     "output_type": "display_data"
    },
    {
     "data": {
      "text/html": [
       "\n",
       "<span style=\"font-family:Times New Roman; font-size:20pt\">\n",
       "    &nbsp;&nbsp;&nbsp;&nbsp;disjunct\n",
       "</hspan>"
      ],
      "text/plain": [
       "<IPython.core.display.HTML object>"
      ]
     },
     "metadata": {},
     "output_type": "display_data"
    },
    {
     "data": {
      "text/html": [
       "\n",
       "<span style=\"font-family:Times New Roman; font-size:20pt\">\n",
       "    <hr>\n",
       "</hspan>"
      ],
      "text/plain": [
       "<IPython.core.display.HTML object>"
      ]
     },
     "metadata": {},
     "output_type": "display_data"
    },
    {
     "name": "stdout",
     "output_type": "stream",
     "text": [
      "225395 ('Isaiah', 39, 1)\n"
     ]
    },
    {
     "data": {
      "text/html": [
       "\n",
       "<span style=\"font-family:Times New Roman; font-size:20pt\">\n",
       "    כִּ֥י  | כִּ֥י \n",
       "</hspan>"
      ],
      "text/plain": [
       "<IPython.core.display.HTML object>"
      ]
     },
     "metadata": {},
     "output_type": "display_data"
    },
    {
     "data": {
      "text/html": [
       "\n",
       "<span style=\"font-family:Times New Roman; font-size:20pt\">\n",
       "    &nbsp;&nbsp;&nbsp;&nbsp;K.I71J \n",
       "</hspan>"
      ],
      "text/plain": [
       "<IPython.core.display.HTML object>"
      ]
     },
     "metadata": {},
     "output_type": "display_data"
    },
    {
     "data": {
      "text/html": [
       "\n",
       "<span style=\"font-family:Times New Roman; font-size:20pt\">\n",
       "    &nbsp;&nbsp;&nbsp;&nbsp;conjunct\n",
       "</hspan>"
      ],
      "text/plain": [
       "<IPython.core.display.HTML object>"
      ]
     },
     "metadata": {},
     "output_type": "display_data"
    },
    {
     "data": {
      "text/html": [
       "\n",
       "<span style=\"font-family:Times New Roman; font-size:20pt\">\n",
       "    <hr>\n",
       "</hspan>"
      ],
      "text/plain": [
       "<IPython.core.display.HTML object>"
      ]
     },
     "metadata": {},
     "output_type": "display_data"
    },
    {
     "name": "stdout",
     "output_type": "stream",
     "text": [
      "225396 ('Isaiah', 39, 1)\n"
     ]
    },
    {
     "data": {
      "text/html": [
       "\n",
       "<span style=\"font-family:Times New Roman; font-size:20pt\">\n",
       "    חָלָ֖ה  | חָלָ֖ה \n",
       "</hspan>"
      ],
      "text/plain": [
       "<IPython.core.display.HTML object>"
      ]
     },
     "metadata": {},
     "output_type": "display_data"
    },
    {
     "data": {
      "text/html": [
       "\n",
       "<span style=\"font-family:Times New Roman; font-size:20pt\">\n",
       "    &nbsp;&nbsp;&nbsp;&nbsp;X@L@73H \n",
       "</hspan>"
      ],
      "text/plain": [
       "<IPython.core.display.HTML object>"
      ]
     },
     "metadata": {},
     "output_type": "display_data"
    },
    {
     "data": {
      "text/html": [
       "\n",
       "<span style=\"font-family:Times New Roman; font-size:20pt\">\n",
       "    &nbsp;&nbsp;&nbsp;&nbsp;disjunct\n",
       "</hspan>"
      ],
      "text/plain": [
       "<IPython.core.display.HTML object>"
      ]
     },
     "metadata": {},
     "output_type": "display_data"
    },
    {
     "data": {
      "text/html": [
       "\n",
       "<span style=\"font-family:Times New Roman; font-size:20pt\">\n",
       "    <hr>\n",
       "</hspan>"
      ],
      "text/plain": [
       "<IPython.core.display.HTML object>"
      ]
     },
     "metadata": {},
     "output_type": "display_data"
    },
    {
     "name": "stdout",
     "output_type": "stream",
     "text": [
      "225397 ('Isaiah', 39, 1)\n"
     ]
    },
    {
     "data": {
      "text/html": [
       "\n",
       "<span style=\"font-family:Times New Roman; font-size:20pt\">\n",
       "    וַֽ | וַֽיֶּחֱזָֽק׃ \n",
       "</hspan>"
      ],
      "text/plain": [
       "<IPython.core.display.HTML object>"
      ]
     },
     "metadata": {},
     "output_type": "display_data"
    },
    {
     "data": {
      "text/html": [
       "\n",
       "<span style=\"font-family:Times New Roman; font-size:20pt\">\n",
       "    &nbsp;&nbsp;&nbsp;&nbsp;WA95-J.EX:EZ@75Q00 \n",
       "</hspan>"
      ],
      "text/plain": [
       "<IPython.core.display.HTML object>"
      ]
     },
     "metadata": {},
     "output_type": "display_data"
    },
    {
     "data": {
      "text/html": [
       "\n",
       "<span style=\"font-family:Times New Roman; font-size:20pt\">\n",
       "    &nbsp;&nbsp;&nbsp;&nbsp;disjunct\n",
       "</hspan>"
      ],
      "text/plain": [
       "<IPython.core.display.HTML object>"
      ]
     },
     "metadata": {},
     "output_type": "display_data"
    },
    {
     "data": {
      "text/html": [
       "\n",
       "<span style=\"font-family:Times New Roman; font-size:20pt\">\n",
       "    <hr>\n",
       "</hspan>"
      ],
      "text/plain": [
       "<IPython.core.display.HTML object>"
      ]
     },
     "metadata": {},
     "output_type": "display_data"
    },
    {
     "name": "stdout",
     "output_type": "stream",
     "text": [
      "225398 ('Isaiah', 39, 1)\n"
     ]
    },
    {
     "data": {
      "text/html": [
       "\n",
       "<span style=\"font-family:Times New Roman; font-size:20pt\">\n",
       "    יֶּחֱזָֽק׃  | וַֽיֶּחֱזָֽק׃ \n",
       "</hspan>"
      ],
      "text/plain": [
       "<IPython.core.display.HTML object>"
      ]
     },
     "metadata": {},
     "output_type": "display_data"
    },
    {
     "data": {
      "text/html": [
       "\n",
       "<span style=\"font-family:Times New Roman; font-size:20pt\">\n",
       "    &nbsp;&nbsp;&nbsp;&nbsp;WA95-J.EX:EZ@75Q00 \n",
       "</hspan>"
      ],
      "text/plain": [
       "<IPython.core.display.HTML object>"
      ]
     },
     "metadata": {},
     "output_type": "display_data"
    },
    {
     "data": {
      "text/html": [
       "\n",
       "<span style=\"font-family:Times New Roman; font-size:20pt\">\n",
       "    &nbsp;&nbsp;&nbsp;&nbsp;disjunct\n",
       "</hspan>"
      ],
      "text/plain": [
       "<IPython.core.display.HTML object>"
      ]
     },
     "metadata": {},
     "output_type": "display_data"
    },
    {
     "data": {
      "text/html": [
       "\n",
       "<span style=\"font-family:Times New Roman; font-size:20pt\">\n",
       "    <hr>\n",
       "</hspan>"
      ],
      "text/plain": [
       "<IPython.core.display.HTML object>"
      ]
     },
     "metadata": {},
     "output_type": "display_data"
    },
    {
     "name": "stdout",
     "output_type": "stream",
     "text": [
      "225399 ('Isaiah', 39, 2)\n"
     ]
    },
    {
     "data": {
      "text/html": [
       "\n",
       "<span style=\"font-family:Times New Roman; font-size:20pt\">\n",
       "    וַ | וַיִּשְׂמַ֣ח \n",
       "</hspan>"
      ],
      "text/plain": [
       "<IPython.core.display.HTML object>"
      ]
     },
     "metadata": {},
     "output_type": "display_data"
    },
    {
     "data": {
      "text/html": [
       "\n",
       "<span style=\"font-family:Times New Roman; font-size:20pt\">\n",
       "    &nbsp;&nbsp;&nbsp;&nbsp;WA-J.IF:MA74X \n",
       "</hspan>"
      ],
      "text/plain": [
       "<IPython.core.display.HTML object>"
      ]
     },
     "metadata": {},
     "output_type": "display_data"
    },
    {
     "data": {
      "text/html": [
       "\n",
       "<span style=\"font-family:Times New Roman; font-size:20pt\">\n",
       "    &nbsp;&nbsp;&nbsp;&nbsp;conjunct\n",
       "</hspan>"
      ],
      "text/plain": [
       "<IPython.core.display.HTML object>"
      ]
     },
     "metadata": {},
     "output_type": "display_data"
    },
    {
     "data": {
      "text/html": [
       "\n",
       "<span style=\"font-family:Times New Roman; font-size:20pt\">\n",
       "    <hr>\n",
       "</hspan>"
      ],
      "text/plain": [
       "<IPython.core.display.HTML object>"
      ]
     },
     "metadata": {},
     "output_type": "display_data"
    },
    {
     "name": "stdout",
     "output_type": "stream",
     "text": [
      "225400 ('Isaiah', 39, 2)\n"
     ]
    },
    {
     "data": {
      "text/html": [
       "\n",
       "<span style=\"font-family:Times New Roman; font-size:20pt\">\n",
       "    יִּשְׂמַ֣ח  | וַיִּשְׂמַ֣ח \n",
       "</hspan>"
      ],
      "text/plain": [
       "<IPython.core.display.HTML object>"
      ]
     },
     "metadata": {},
     "output_type": "display_data"
    },
    {
     "data": {
      "text/html": [
       "\n",
       "<span style=\"font-family:Times New Roman; font-size:20pt\">\n",
       "    &nbsp;&nbsp;&nbsp;&nbsp;WA-J.IF:MA74X \n",
       "</hspan>"
      ],
      "text/plain": [
       "<IPython.core.display.HTML object>"
      ]
     },
     "metadata": {},
     "output_type": "display_data"
    },
    {
     "data": {
      "text/html": [
       "\n",
       "<span style=\"font-family:Times New Roman; font-size:20pt\">\n",
       "    &nbsp;&nbsp;&nbsp;&nbsp;conjunct\n",
       "</hspan>"
      ],
      "text/plain": [
       "<IPython.core.display.HTML object>"
      ]
     },
     "metadata": {},
     "output_type": "display_data"
    },
    {
     "data": {
      "text/html": [
       "\n",
       "<span style=\"font-family:Times New Roman; font-size:20pt\">\n",
       "    <hr>\n",
       "</hspan>"
      ],
      "text/plain": [
       "<IPython.core.display.HTML object>"
      ]
     },
     "metadata": {},
     "output_type": "display_data"
    },
    {
     "name": "stdout",
     "output_type": "stream",
     "text": [
      "225401 ('Isaiah', 39, 2)\n"
     ]
    },
    {
     "data": {
      "text/html": [
       "\n",
       "<span style=\"font-family:Times New Roman; font-size:20pt\">\n",
       "    עֲלֵיהֶם֮  | עֲלֵיהֶם֮ \n",
       "</hspan>"
      ],
      "text/plain": [
       "<IPython.core.display.HTML object>"
      ]
     },
     "metadata": {},
     "output_type": "display_data"
    },
    {
     "data": {
      "text/html": [
       "\n",
       "<span style=\"font-family:Times New Roman; font-size:20pt\">\n",
       "    &nbsp;&nbsp;&nbsp;&nbsp;<:AL;JHEM02 \n",
       "</hspan>"
      ],
      "text/plain": [
       "<IPython.core.display.HTML object>"
      ]
     },
     "metadata": {},
     "output_type": "display_data"
    },
    {
     "data": {
      "text/html": [
       "\n",
       "<span style=\"font-family:Times New Roman; font-size:20pt\">\n",
       "    &nbsp;&nbsp;&nbsp;&nbsp;disjunct\n",
       "</hspan>"
      ],
      "text/plain": [
       "<IPython.core.display.HTML object>"
      ]
     },
     "metadata": {},
     "output_type": "display_data"
    },
    {
     "data": {
      "text/html": [
       "\n",
       "<span style=\"font-family:Times New Roman; font-size:20pt\">\n",
       "    <hr>\n",
       "</hspan>"
      ],
      "text/plain": [
       "<IPython.core.display.HTML object>"
      ]
     },
     "metadata": {},
     "output_type": "display_data"
    }
   ],
   "source": [
    "chapter = random.choice(list(F.otype.s('chapter')))\n",
    "\n",
    "\n",
    "show = [(w,) for w in L.d(chapter, 'word')]\n",
    "\n",
    "def show_accents(wset):\n",
    "    for s in wset:\n",
    "        word = s[0]\n",
    "        text = f'{T.text(word)} | {T.text(mwords[word])}'\n",
    "        trans = T.text(mwords[word], fmt='text-trans-full')\n",
    "        tab = '&nbsp;&nbsp;&nbsp;&nbsp;'\n",
    "        print(s[0], T.sectionFromNode(word))\n",
    "        beauty(text)\n",
    "        beauty(tab+trans)\n",
    "        beauty(tab+atype[word])\n",
    "        beauty('<hr>')\n",
    "        \n",
    "show_accents(show[:25])"
   ]
  },
  {
   "cell_type": "markdown",
   "metadata": {},
   "source": [
    "### Stats"
   ]
  },
  {
   "cell_type": "code",
   "execution_count": 15,
   "metadata": {},
   "outputs": [
    {
     "data": {
      "text/plain": [
       "[('disjunct', 272898), ('conjunct', 152669), ('unknown', 1017)]"
      ]
     },
     "execution_count": 15,
     "metadata": {},
     "output_type": "execute_result"
    }
   ],
   "source": [
    "labels = collections.Counter()\n",
    "\n",
    "for label, wset in atype2set.items():\n",
    "    labels[label] += len(wset)\n",
    "    \n",
    "labels.most_common()"
   ]
  },
  {
   "cell_type": "code",
   "execution_count": 16,
   "metadata": {},
   "outputs": [
    {
     "name": "stdout",
     "output_type": "stream",
     "text": [
      "17920 ('Genesis', 32, 24)\n"
     ]
    },
    {
     "data": {
      "text/html": [
       "\n",
       "<span style=\"font-family:Times New Roman; font-size:20pt\">\n",
       "    אֶת־ | אֶת־אֲשֶׁר־לֹו׃ \n",
       "</hspan>"
      ],
      "text/plain": [
       "<IPython.core.display.HTML object>"
      ]
     },
     "metadata": {},
     "output_type": "display_data"
    },
    {
     "data": {
      "text/html": [
       "\n",
       "<span style=\"font-family:Times New Roman; font-size:20pt\">\n",
       "    &nbsp;&nbsp;&nbsp;&nbsp;>ET&>:ACER&LOW00 \n",
       "</hspan>"
      ],
      "text/plain": [
       "<IPython.core.display.HTML object>"
      ]
     },
     "metadata": {},
     "output_type": "display_data"
    },
    {
     "data": {
      "text/html": [
       "\n",
       "<span style=\"font-family:Times New Roman; font-size:20pt\">\n",
       "    &nbsp;&nbsp;&nbsp;&nbsp;unknown\n",
       "</hspan>"
      ],
      "text/plain": [
       "<IPython.core.display.HTML object>"
      ]
     },
     "metadata": {},
     "output_type": "display_data"
    },
    {
     "data": {
      "text/html": [
       "\n",
       "<span style=\"font-family:Times New Roman; font-size:20pt\">\n",
       "    <hr>\n",
       "</hspan>"
      ],
      "text/plain": [
       "<IPython.core.display.HTML object>"
      ]
     },
     "metadata": {},
     "output_type": "display_data"
    },
    {
     "name": "stdout",
     "output_type": "stream",
     "text": [
      "17921 ('Genesis', 32, 24)\n"
     ]
    },
    {
     "data": {
      "text/html": [
       "\n",
       "<span style=\"font-family:Times New Roman; font-size:20pt\">\n",
       "    אֲשֶׁר־ | אֶת־אֲשֶׁר־לֹו׃ \n",
       "</hspan>"
      ],
      "text/plain": [
       "<IPython.core.display.HTML object>"
      ]
     },
     "metadata": {},
     "output_type": "display_data"
    },
    {
     "data": {
      "text/html": [
       "\n",
       "<span style=\"font-family:Times New Roman; font-size:20pt\">\n",
       "    &nbsp;&nbsp;&nbsp;&nbsp;>ET&>:ACER&LOW00 \n",
       "</hspan>"
      ],
      "text/plain": [
       "<IPython.core.display.HTML object>"
      ]
     },
     "metadata": {},
     "output_type": "display_data"
    },
    {
     "data": {
      "text/html": [
       "\n",
       "<span style=\"font-family:Times New Roman; font-size:20pt\">\n",
       "    &nbsp;&nbsp;&nbsp;&nbsp;unknown\n",
       "</hspan>"
      ],
      "text/plain": [
       "<IPython.core.display.HTML object>"
      ]
     },
     "metadata": {},
     "output_type": "display_data"
    },
    {
     "data": {
      "text/html": [
       "\n",
       "<span style=\"font-family:Times New Roman; font-size:20pt\">\n",
       "    <hr>\n",
       "</hspan>"
      ],
      "text/plain": [
       "<IPython.core.display.HTML object>"
      ]
     },
     "metadata": {},
     "output_type": "display_data"
    },
    {
     "name": "stdout",
     "output_type": "stream",
     "text": [
      "17922 ('Genesis', 32, 24)\n"
     ]
    },
    {
     "data": {
      "text/html": [
       "\n",
       "<span style=\"font-family:Times New Roman; font-size:20pt\">\n",
       "    לֹו׃  | אֶת־אֲשֶׁר־לֹו׃ \n",
       "</hspan>"
      ],
      "text/plain": [
       "<IPython.core.display.HTML object>"
      ]
     },
     "metadata": {},
     "output_type": "display_data"
    },
    {
     "data": {
      "text/html": [
       "\n",
       "<span style=\"font-family:Times New Roman; font-size:20pt\">\n",
       "    &nbsp;&nbsp;&nbsp;&nbsp;>ET&>:ACER&LOW00 \n",
       "</hspan>"
      ],
      "text/plain": [
       "<IPython.core.display.HTML object>"
      ]
     },
     "metadata": {},
     "output_type": "display_data"
    },
    {
     "data": {
      "text/html": [
       "\n",
       "<span style=\"font-family:Times New Roman; font-size:20pt\">\n",
       "    &nbsp;&nbsp;&nbsp;&nbsp;unknown\n",
       "</hspan>"
      ],
      "text/plain": [
       "<IPython.core.display.HTML object>"
      ]
     },
     "metadata": {},
     "output_type": "display_data"
    },
    {
     "data": {
      "text/html": [
       "\n",
       "<span style=\"font-family:Times New Roman; font-size:20pt\">\n",
       "    <hr>\n",
       "</hspan>"
      ],
      "text/plain": [
       "<IPython.core.display.HTML object>"
      ]
     },
     "metadata": {},
     "output_type": "display_data"
    },
    {
     "name": "stdout",
     "output_type": "stream",
     "text": [
      "30384 ('Exodus', 4, 10)\n"
     ]
    },
    {
     "data": {
      "text/html": [
       "\n",
       "<span style=\"font-family:Times New Roman; font-size:20pt\">\n",
       "    דַּבֶּרְךָ  | דַּבֶּרְךָ \n",
       "</hspan>"
      ],
      "text/plain": [
       "<IPython.core.display.HTML object>"
      ]
     },
     "metadata": {},
     "output_type": "display_data"
    },
    {
     "data": {
      "text/html": [
       "\n",
       "<span style=\"font-family:Times New Roman; font-size:20pt\">\n",
       "    &nbsp;&nbsp;&nbsp;&nbsp;D.AB.ER:K@ \n",
       "</hspan>"
      ],
      "text/plain": [
       "<IPython.core.display.HTML object>"
      ]
     },
     "metadata": {},
     "output_type": "display_data"
    },
    {
     "data": {
      "text/html": [
       "\n",
       "<span style=\"font-family:Times New Roman; font-size:20pt\">\n",
       "    &nbsp;&nbsp;&nbsp;&nbsp;unknown\n",
       "</hspan>"
      ],
      "text/plain": [
       "<IPython.core.display.HTML object>"
      ]
     },
     "metadata": {},
     "output_type": "display_data"
    },
    {
     "data": {
      "text/html": [
       "\n",
       "<span style=\"font-family:Times New Roman; font-size:20pt\">\n",
       "    <hr>\n",
       "</hspan>"
      ],
      "text/plain": [
       "<IPython.core.display.HTML object>"
      ]
     },
     "metadata": {},
     "output_type": "display_data"
    },
    {
     "name": "stdout",
     "output_type": "stream",
     "text": [
      "33479 ('Exodus', 9, 22)\n"
     ]
    },
    {
     "data": {
      "text/html": [
       "\n",
       "<span style=\"font-family:Times New Roman; font-size:20pt\">\n",
       "    אֶל־ | אֶל־מֹשֶׁה \n",
       "</hspan>"
      ],
      "text/plain": [
       "<IPython.core.display.HTML object>"
      ]
     },
     "metadata": {},
     "output_type": "display_data"
    },
    {
     "data": {
      "text/html": [
       "\n",
       "<span style=\"font-family:Times New Roman; font-size:20pt\">\n",
       "    &nbsp;&nbsp;&nbsp;&nbsp;>EL&MOCEH \n",
       "</hspan>"
      ],
      "text/plain": [
       "<IPython.core.display.HTML object>"
      ]
     },
     "metadata": {},
     "output_type": "display_data"
    },
    {
     "data": {
      "text/html": [
       "\n",
       "<span style=\"font-family:Times New Roman; font-size:20pt\">\n",
       "    &nbsp;&nbsp;&nbsp;&nbsp;unknown\n",
       "</hspan>"
      ],
      "text/plain": [
       "<IPython.core.display.HTML object>"
      ]
     },
     "metadata": {},
     "output_type": "display_data"
    },
    {
     "data": {
      "text/html": [
       "\n",
       "<span style=\"font-family:Times New Roman; font-size:20pt\">\n",
       "    <hr>\n",
       "</hspan>"
      ],
      "text/plain": [
       "<IPython.core.display.HTML object>"
      ]
     },
     "metadata": {},
     "output_type": "display_data"
    },
    {
     "name": "stdout",
     "output_type": "stream",
     "text": [
      "33480 ('Exodus', 9, 22)\n"
     ]
    },
    {
     "data": {
      "text/html": [
       "\n",
       "<span style=\"font-family:Times New Roman; font-size:20pt\">\n",
       "    מֹשֶׁה  | אֶל־מֹשֶׁה \n",
       "</hspan>"
      ],
      "text/plain": [
       "<IPython.core.display.HTML object>"
      ]
     },
     "metadata": {},
     "output_type": "display_data"
    },
    {
     "data": {
      "text/html": [
       "\n",
       "<span style=\"font-family:Times New Roman; font-size:20pt\">\n",
       "    &nbsp;&nbsp;&nbsp;&nbsp;>EL&MOCEH \n",
       "</hspan>"
      ],
      "text/plain": [
       "<IPython.core.display.HTML object>"
      ]
     },
     "metadata": {},
     "output_type": "display_data"
    },
    {
     "data": {
      "text/html": [
       "\n",
       "<span style=\"font-family:Times New Roman; font-size:20pt\">\n",
       "    &nbsp;&nbsp;&nbsp;&nbsp;unknown\n",
       "</hspan>"
      ],
      "text/plain": [
       "<IPython.core.display.HTML object>"
      ]
     },
     "metadata": {},
     "output_type": "display_data"
    },
    {
     "data": {
      "text/html": [
       "\n",
       "<span style=\"font-family:Times New Roman; font-size:20pt\">\n",
       "    <hr>\n",
       "</hspan>"
      ],
      "text/plain": [
       "<IPython.core.display.HTML object>"
      ]
     },
     "metadata": {},
     "output_type": "display_data"
    },
    {
     "name": "stdout",
     "output_type": "stream",
     "text": [
      "33805 ('Exodus', 10, 1)\n"
     ]
    },
    {
     "data": {
      "text/html": [
       "\n",
       "<span style=\"font-family:Times New Roman; font-size:20pt\">\n",
       "    בְּ | בְּקִרְבֹּו׃ \n",
       "</hspan>"
      ],
      "text/plain": [
       "<IPython.core.display.HTML object>"
      ]
     },
     "metadata": {},
     "output_type": "display_data"
    },
    {
     "data": {
      "text/html": [
       "\n",
       "<span style=\"font-family:Times New Roman; font-size:20pt\">\n",
       "    &nbsp;&nbsp;&nbsp;&nbsp;B.:-QIR:B.OW00 \n",
       "</hspan>"
      ],
      "text/plain": [
       "<IPython.core.display.HTML object>"
      ]
     },
     "metadata": {},
     "output_type": "display_data"
    },
    {
     "data": {
      "text/html": [
       "\n",
       "<span style=\"font-family:Times New Roman; font-size:20pt\">\n",
       "    &nbsp;&nbsp;&nbsp;&nbsp;unknown\n",
       "</hspan>"
      ],
      "text/plain": [
       "<IPython.core.display.HTML object>"
      ]
     },
     "metadata": {},
     "output_type": "display_data"
    },
    {
     "data": {
      "text/html": [
       "\n",
       "<span style=\"font-family:Times New Roman; font-size:20pt\">\n",
       "    <hr>\n",
       "</hspan>"
      ],
      "text/plain": [
       "<IPython.core.display.HTML object>"
      ]
     },
     "metadata": {},
     "output_type": "display_data"
    },
    {
     "name": "stdout",
     "output_type": "stream",
     "text": [
      "33806 ('Exodus', 10, 1)\n"
     ]
    },
    {
     "data": {
      "text/html": [
       "\n",
       "<span style=\"font-family:Times New Roman; font-size:20pt\">\n",
       "    קִרְבֹּו׃  | בְּקִרְבֹּו׃ \n",
       "</hspan>"
      ],
      "text/plain": [
       "<IPython.core.display.HTML object>"
      ]
     },
     "metadata": {},
     "output_type": "display_data"
    },
    {
     "data": {
      "text/html": [
       "\n",
       "<span style=\"font-family:Times New Roman; font-size:20pt\">\n",
       "    &nbsp;&nbsp;&nbsp;&nbsp;B.:-QIR:B.OW00 \n",
       "</hspan>"
      ],
      "text/plain": [
       "<IPython.core.display.HTML object>"
      ]
     },
     "metadata": {},
     "output_type": "display_data"
    },
    {
     "data": {
      "text/html": [
       "\n",
       "<span style=\"font-family:Times New Roman; font-size:20pt\">\n",
       "    &nbsp;&nbsp;&nbsp;&nbsp;unknown\n",
       "</hspan>"
      ],
      "text/plain": [
       "<IPython.core.display.HTML object>"
      ]
     },
     "metadata": {},
     "output_type": "display_data"
    },
    {
     "data": {
      "text/html": [
       "\n",
       "<span style=\"font-family:Times New Roman; font-size:20pt\">\n",
       "    <hr>\n",
       "</hspan>"
      ],
      "text/plain": [
       "<IPython.core.display.HTML object>"
      ]
     },
     "metadata": {},
     "output_type": "display_data"
    },
    {
     "name": "stdout",
     "output_type": "stream",
     "text": [
      "65256 ('Leviticus', 21, 18)\n"
     ]
    },
    {
     "data": {
      "text/html": [
       "\n",
       "<span style=\"font-family:Times New Roman; font-size:20pt\">\n",
       "    שָׂרֽוּעַ׃  | שָׂרֽוּעַ׃ \n",
       "</hspan>"
      ],
      "text/plain": [
       "<IPython.core.display.HTML object>"
      ]
     },
     "metadata": {},
     "output_type": "display_data"
    },
    {
     "data": {
      "text/html": [
       "\n",
       "<span style=\"font-family:Times New Roman; font-size:20pt\">\n",
       "    &nbsp;&nbsp;&nbsp;&nbsp;F@R25W.<A00 \n",
       "</hspan>"
      ],
      "text/plain": [
       "<IPython.core.display.HTML object>"
      ]
     },
     "metadata": {},
     "output_type": "display_data"
    },
    {
     "data": {
      "text/html": [
       "\n",
       "<span style=\"font-family:Times New Roman; font-size:20pt\">\n",
       "    &nbsp;&nbsp;&nbsp;&nbsp;unknown\n",
       "</hspan>"
      ],
      "text/plain": [
       "<IPython.core.display.HTML object>"
      ]
     },
     "metadata": {},
     "output_type": "display_data"
    },
    {
     "data": {
      "text/html": [
       "\n",
       "<span style=\"font-family:Times New Roman; font-size:20pt\">\n",
       "    <hr>\n",
       "</hspan>"
      ],
      "text/plain": [
       "<IPython.core.display.HTML object>"
      ]
     },
     "metadata": {},
     "output_type": "display_data"
    },
    {
     "name": "stdout",
     "output_type": "stream",
     "text": [
      "68621 ('Leviticus', 26, 28)\n"
     ]
    },
    {
     "data": {
      "text/html": [
       "\n",
       "<span style=\"font-family:Times New Roman; font-size:20pt\">\n",
       "    עַל־ | עַל־חַטֹּאתֵיכֶם׃ \n",
       "</hspan>"
      ],
      "text/plain": [
       "<IPython.core.display.HTML object>"
      ]
     },
     "metadata": {},
     "output_type": "display_data"
    },
    {
     "data": {
      "text/html": [
       "\n",
       "<span style=\"font-family:Times New Roman; font-size:20pt\">\n",
       "    &nbsp;&nbsp;&nbsp;&nbsp;<AL&XAV.O>T;JKEM00 \n",
       "</hspan>"
      ],
      "text/plain": [
       "<IPython.core.display.HTML object>"
      ]
     },
     "metadata": {},
     "output_type": "display_data"
    },
    {
     "data": {
      "text/html": [
       "\n",
       "<span style=\"font-family:Times New Roman; font-size:20pt\">\n",
       "    &nbsp;&nbsp;&nbsp;&nbsp;unknown\n",
       "</hspan>"
      ],
      "text/plain": [
       "<IPython.core.display.HTML object>"
      ]
     },
     "metadata": {},
     "output_type": "display_data"
    },
    {
     "data": {
      "text/html": [
       "\n",
       "<span style=\"font-family:Times New Roman; font-size:20pt\">\n",
       "    <hr>\n",
       "</hspan>"
      ],
      "text/plain": [
       "<IPython.core.display.HTML object>"
      ]
     },
     "metadata": {},
     "output_type": "display_data"
    },
    {
     "name": "stdout",
     "output_type": "stream",
     "text": [
      "68622 ('Leviticus', 26, 28)\n"
     ]
    },
    {
     "data": {
      "text/html": [
       "\n",
       "<span style=\"font-family:Times New Roman; font-size:20pt\">\n",
       "    חַטֹּאתֵיכֶם׃  | עַל־חַטֹּאתֵיכֶם׃ \n",
       "</hspan>"
      ],
      "text/plain": [
       "<IPython.core.display.HTML object>"
      ]
     },
     "metadata": {},
     "output_type": "display_data"
    },
    {
     "data": {
      "text/html": [
       "\n",
       "<span style=\"font-family:Times New Roman; font-size:20pt\">\n",
       "    &nbsp;&nbsp;&nbsp;&nbsp;<AL&XAV.O>T;JKEM00 \n",
       "</hspan>"
      ],
      "text/plain": [
       "<IPython.core.display.HTML object>"
      ]
     },
     "metadata": {},
     "output_type": "display_data"
    },
    {
     "data": {
      "text/html": [
       "\n",
       "<span style=\"font-family:Times New Roman; font-size:20pt\">\n",
       "    &nbsp;&nbsp;&nbsp;&nbsp;unknown\n",
       "</hspan>"
      ],
      "text/plain": [
       "<IPython.core.display.HTML object>"
      ]
     },
     "metadata": {},
     "output_type": "display_data"
    },
    {
     "data": {
      "text/html": [
       "\n",
       "<span style=\"font-family:Times New Roman; font-size:20pt\">\n",
       "    <hr>\n",
       "</hspan>"
      ],
      "text/plain": [
       "<IPython.core.display.HTML object>"
      ]
     },
     "metadata": {},
     "output_type": "display_data"
    },
    {
     "name": "stdout",
     "output_type": "stream",
     "text": [
      "77731 ('Numbers', 12, 9)\n"
     ]
    },
    {
     "data": {
      "text/html": [
       "\n",
       "<span style=\"font-family:Times New Roman; font-size:20pt\">\n",
       "    וַ | וַיִּֽחַר \n",
       "</hspan>"
      ],
      "text/plain": [
       "<IPython.core.display.HTML object>"
      ]
     },
     "metadata": {},
     "output_type": "display_data"
    },
    {
     "data": {
      "text/html": [
       "\n",
       "<span style=\"font-family:Times New Roman; font-size:20pt\">\n",
       "    &nbsp;&nbsp;&nbsp;&nbsp;WA-J.I45XAR \n",
       "</hspan>"
      ],
      "text/plain": [
       "<IPython.core.display.HTML object>"
      ]
     },
     "metadata": {},
     "output_type": "display_data"
    },
    {
     "data": {
      "text/html": [
       "\n",
       "<span style=\"font-family:Times New Roman; font-size:20pt\">\n",
       "    &nbsp;&nbsp;&nbsp;&nbsp;unknown\n",
       "</hspan>"
      ],
      "text/plain": [
       "<IPython.core.display.HTML object>"
      ]
     },
     "metadata": {},
     "output_type": "display_data"
    },
    {
     "data": {
      "text/html": [
       "\n",
       "<span style=\"font-family:Times New Roman; font-size:20pt\">\n",
       "    <hr>\n",
       "</hspan>"
      ],
      "text/plain": [
       "<IPython.core.display.HTML object>"
      ]
     },
     "metadata": {},
     "output_type": "display_data"
    },
    {
     "name": "stdout",
     "output_type": "stream",
     "text": [
      "77732 ('Numbers', 12, 9)\n"
     ]
    },
    {
     "data": {
      "text/html": [
       "\n",
       "<span style=\"font-family:Times New Roman; font-size:20pt\">\n",
       "    יִּֽחַר  | וַיִּֽחַר \n",
       "</hspan>"
      ],
      "text/plain": [
       "<IPython.core.display.HTML object>"
      ]
     },
     "metadata": {},
     "output_type": "display_data"
    },
    {
     "data": {
      "text/html": [
       "\n",
       "<span style=\"font-family:Times New Roman; font-size:20pt\">\n",
       "    &nbsp;&nbsp;&nbsp;&nbsp;WA-J.I45XAR \n",
       "</hspan>"
      ],
      "text/plain": [
       "<IPython.core.display.HTML object>"
      ]
     },
     "metadata": {},
     "output_type": "display_data"
    },
    {
     "data": {
      "text/html": [
       "\n",
       "<span style=\"font-family:Times New Roman; font-size:20pt\">\n",
       "    &nbsp;&nbsp;&nbsp;&nbsp;unknown\n",
       "</hspan>"
      ],
      "text/plain": [
       "<IPython.core.display.HTML object>"
      ]
     },
     "metadata": {},
     "output_type": "display_data"
    },
    {
     "data": {
      "text/html": [
       "\n",
       "<span style=\"font-family:Times New Roman; font-size:20pt\">\n",
       "    <hr>\n",
       "</hspan>"
      ],
      "text/plain": [
       "<IPython.core.display.HTML object>"
      ]
     },
     "metadata": {},
     "output_type": "display_data"
    },
    {
     "name": "stdout",
     "output_type": "stream",
     "text": [
      "87066 ('Numbers', 27, 9)\n"
     ]
    },
    {
     "data": {
      "text/html": [
       "\n",
       "<span style=\"font-family:Times New Roman; font-size:20pt\">\n",
       "    לְ | לְאֶחָיו׃ \n",
       "</hspan>"
      ],
      "text/plain": [
       "<IPython.core.display.HTML object>"
      ]
     },
     "metadata": {},
     "output_type": "display_data"
    },
    {
     "data": {
      "text/html": [
       "\n",
       "<span style=\"font-family:Times New Roman; font-size:20pt\">\n",
       "    &nbsp;&nbsp;&nbsp;&nbsp;L:->EX@JW00 \n",
       "</hspan>"
      ],
      "text/plain": [
       "<IPython.core.display.HTML object>"
      ]
     },
     "metadata": {},
     "output_type": "display_data"
    },
    {
     "data": {
      "text/html": [
       "\n",
       "<span style=\"font-family:Times New Roman; font-size:20pt\">\n",
       "    &nbsp;&nbsp;&nbsp;&nbsp;unknown\n",
       "</hspan>"
      ],
      "text/plain": [
       "<IPython.core.display.HTML object>"
      ]
     },
     "metadata": {},
     "output_type": "display_data"
    },
    {
     "data": {
      "text/html": [
       "\n",
       "<span style=\"font-family:Times New Roman; font-size:20pt\">\n",
       "    <hr>\n",
       "</hspan>"
      ],
      "text/plain": [
       "<IPython.core.display.HTML object>"
      ]
     },
     "metadata": {},
     "output_type": "display_data"
    },
    {
     "name": "stdout",
     "output_type": "stream",
     "text": [
      "87067 ('Numbers', 27, 9)\n"
     ]
    },
    {
     "data": {
      "text/html": [
       "\n",
       "<span style=\"font-family:Times New Roman; font-size:20pt\">\n",
       "    אֶחָיו׃  | לְאֶחָיו׃ \n",
       "</hspan>"
      ],
      "text/plain": [
       "<IPython.core.display.HTML object>"
      ]
     },
     "metadata": {},
     "output_type": "display_data"
    },
    {
     "data": {
      "text/html": [
       "\n",
       "<span style=\"font-family:Times New Roman; font-size:20pt\">\n",
       "    &nbsp;&nbsp;&nbsp;&nbsp;L:->EX@JW00 \n",
       "</hspan>"
      ],
      "text/plain": [
       "<IPython.core.display.HTML object>"
      ]
     },
     "metadata": {},
     "output_type": "display_data"
    },
    {
     "data": {
      "text/html": [
       "\n",
       "<span style=\"font-family:Times New Roman; font-size:20pt\">\n",
       "    &nbsp;&nbsp;&nbsp;&nbsp;unknown\n",
       "</hspan>"
      ],
      "text/plain": [
       "<IPython.core.display.HTML object>"
      ]
     },
     "metadata": {},
     "output_type": "display_data"
    },
    {
     "data": {
      "text/html": [
       "\n",
       "<span style=\"font-family:Times New Roman; font-size:20pt\">\n",
       "    <hr>\n",
       "</hspan>"
      ],
      "text/plain": [
       "<IPython.core.display.HTML object>"
      ]
     },
     "metadata": {},
     "output_type": "display_data"
    },
    {
     "name": "stdout",
     "output_type": "stream",
     "text": [
      "96253 ('Deuteronomy', 4, 46)\n"
     ]
    },
    {
     "data": {
      "text/html": [
       "\n",
       "<span style=\"font-family:Times New Roman; font-size:20pt\">\n",
       "    וּ | וּבְנֵֽי \n",
       "</hspan>"
      ],
      "text/plain": [
       "<IPython.core.display.HTML object>"
      ]
     },
     "metadata": {},
     "output_type": "display_data"
    },
    {
     "data": {
      "text/html": [
       "\n",
       "<span style=\"font-family:Times New Roman; font-size:20pt\">\n",
       "    &nbsp;&nbsp;&nbsp;&nbsp;W.-B:N;45J \n",
       "</hspan>"
      ],
      "text/plain": [
       "<IPython.core.display.HTML object>"
      ]
     },
     "metadata": {},
     "output_type": "display_data"
    },
    {
     "data": {
      "text/html": [
       "\n",
       "<span style=\"font-family:Times New Roman; font-size:20pt\">\n",
       "    &nbsp;&nbsp;&nbsp;&nbsp;unknown\n",
       "</hspan>"
      ],
      "text/plain": [
       "<IPython.core.display.HTML object>"
      ]
     },
     "metadata": {},
     "output_type": "display_data"
    },
    {
     "data": {
      "text/html": [
       "\n",
       "<span style=\"font-family:Times New Roman; font-size:20pt\">\n",
       "    <hr>\n",
       "</hspan>"
      ],
      "text/plain": [
       "<IPython.core.display.HTML object>"
      ]
     },
     "metadata": {},
     "output_type": "display_data"
    },
    {
     "name": "stdout",
     "output_type": "stream",
     "text": [
      "96254 ('Deuteronomy', 4, 46)\n"
     ]
    },
    {
     "data": {
      "text/html": [
       "\n",
       "<span style=\"font-family:Times New Roman; font-size:20pt\">\n",
       "    בְנֵֽי  | וּבְנֵֽי \n",
       "</hspan>"
      ],
      "text/plain": [
       "<IPython.core.display.HTML object>"
      ]
     },
     "metadata": {},
     "output_type": "display_data"
    },
    {
     "data": {
      "text/html": [
       "\n",
       "<span style=\"font-family:Times New Roman; font-size:20pt\">\n",
       "    &nbsp;&nbsp;&nbsp;&nbsp;W.-B:N;45J \n",
       "</hspan>"
      ],
      "text/plain": [
       "<IPython.core.display.HTML object>"
      ]
     },
     "metadata": {},
     "output_type": "display_data"
    },
    {
     "data": {
      "text/html": [
       "\n",
       "<span style=\"font-family:Times New Roman; font-size:20pt\">\n",
       "    &nbsp;&nbsp;&nbsp;&nbsp;unknown\n",
       "</hspan>"
      ],
      "text/plain": [
       "<IPython.core.display.HTML object>"
      ]
     },
     "metadata": {},
     "output_type": "display_data"
    },
    {
     "data": {
      "text/html": [
       "\n",
       "<span style=\"font-family:Times New Roman; font-size:20pt\">\n",
       "    <hr>\n",
       "</hspan>"
      ],
      "text/plain": [
       "<IPython.core.display.HTML object>"
      ]
     },
     "metadata": {},
     "output_type": "display_data"
    },
    {
     "name": "stdout",
     "output_type": "stream",
     "text": [
      "99272 ('Deuteronomy', 10, 7)\n"
     ]
    },
    {
     "data": {
      "text/html": [
       "\n",
       "<span style=\"font-family:Times New Roman; font-size:20pt\">\n",
       "    נַֽחֲלֵי  | נַֽחֲלֵי \n",
       "</hspan>"
      ],
      "text/plain": [
       "<IPython.core.display.HTML object>"
      ]
     },
     "metadata": {},
     "output_type": "display_data"
    },
    {
     "data": {
      "text/html": [
       "\n",
       "<span style=\"font-family:Times New Roman; font-size:20pt\">\n",
       "    &nbsp;&nbsp;&nbsp;&nbsp;NA45X:AL;J \n",
       "</hspan>"
      ],
      "text/plain": [
       "<IPython.core.display.HTML object>"
      ]
     },
     "metadata": {},
     "output_type": "display_data"
    },
    {
     "data": {
      "text/html": [
       "\n",
       "<span style=\"font-family:Times New Roman; font-size:20pt\">\n",
       "    &nbsp;&nbsp;&nbsp;&nbsp;unknown\n",
       "</hspan>"
      ],
      "text/plain": [
       "<IPython.core.display.HTML object>"
      ]
     },
     "metadata": {},
     "output_type": "display_data"
    },
    {
     "data": {
      "text/html": [
       "\n",
       "<span style=\"font-family:Times New Roman; font-size:20pt\">\n",
       "    <hr>\n",
       "</hspan>"
      ],
      "text/plain": [
       "<IPython.core.display.HTML object>"
      ]
     },
     "metadata": {},
     "output_type": "display_data"
    },
    {
     "name": "stdout",
     "output_type": "stream",
     "text": [
      "100363 ('Deuteronomy', 12, 2)\n"
     ]
    },
    {
     "data": {
      "text/html": [
       "\n",
       "<span style=\"font-family:Times New Roman; font-size:20pt\">\n",
       "    רַעֲנָן׃  | רַעֲנָן׃ \n",
       "</hspan>"
      ],
      "text/plain": [
       "<IPython.core.display.HTML object>"
      ]
     },
     "metadata": {},
     "output_type": "display_data"
    },
    {
     "data": {
      "text/html": [
       "\n",
       "<span style=\"font-family:Times New Roman; font-size:20pt\">\n",
       "    &nbsp;&nbsp;&nbsp;&nbsp;RA<:AN@N00 \n",
       "</hspan>"
      ],
      "text/plain": [
       "<IPython.core.display.HTML object>"
      ]
     },
     "metadata": {},
     "output_type": "display_data"
    },
    {
     "data": {
      "text/html": [
       "\n",
       "<span style=\"font-family:Times New Roman; font-size:20pt\">\n",
       "    &nbsp;&nbsp;&nbsp;&nbsp;unknown\n",
       "</hspan>"
      ],
      "text/plain": [
       "<IPython.core.display.HTML object>"
      ]
     },
     "metadata": {},
     "output_type": "display_data"
    },
    {
     "data": {
      "text/html": [
       "\n",
       "<span style=\"font-family:Times New Roman; font-size:20pt\">\n",
       "    <hr>\n",
       "</hspan>"
      ],
      "text/plain": [
       "<IPython.core.display.HTML object>"
      ]
     },
     "metadata": {},
     "output_type": "display_data"
    },
    {
     "name": "stdout",
     "output_type": "stream",
     "text": [
      "106199 ('Deuteronomy', 23, 18)\n"
     ]
    },
    {
     "data": {
      "text/html": [
       "\n",
       "<span style=\"font-family:Times New Roman; font-size:20pt\">\n",
       "    יִשְׂרָאֵל׃  | יִשְׂרָאֵל׃ \n",
       "</hspan>"
      ],
      "text/plain": [
       "<IPython.core.display.HTML object>"
      ]
     },
     "metadata": {},
     "output_type": "display_data"
    },
    {
     "data": {
      "text/html": [
       "\n",
       "<span style=\"font-family:Times New Roman; font-size:20pt\">\n",
       "    &nbsp;&nbsp;&nbsp;&nbsp;JIF:R@>;L00 \n",
       "</hspan>"
      ],
      "text/plain": [
       "<IPython.core.display.HTML object>"
      ]
     },
     "metadata": {},
     "output_type": "display_data"
    },
    {
     "data": {
      "text/html": [
       "\n",
       "<span style=\"font-family:Times New Roman; font-size:20pt\">\n",
       "    &nbsp;&nbsp;&nbsp;&nbsp;unknown\n",
       "</hspan>"
      ],
      "text/plain": [
       "<IPython.core.display.HTML object>"
      ]
     },
     "metadata": {},
     "output_type": "display_data"
    },
    {
     "data": {
      "text/html": [
       "\n",
       "<span style=\"font-family:Times New Roman; font-size:20pt\">\n",
       "    <hr>\n",
       "</hspan>"
      ],
      "text/plain": [
       "<IPython.core.display.HTML object>"
      ]
     },
     "metadata": {},
     "output_type": "display_data"
    },
    {
     "name": "stdout",
     "output_type": "stream",
     "text": [
      "106556 ('Deuteronomy', 24, 10)\n"
     ]
    },
    {
     "data": {
      "text/html": [
       "\n",
       "<span style=\"font-family:Times New Roman; font-size:20pt\">\n",
       "    בְ | בְרֵֽעֲךָ \n",
       "</hspan>"
      ],
      "text/plain": [
       "<IPython.core.display.HTML object>"
      ]
     },
     "metadata": {},
     "output_type": "display_data"
    },
    {
     "data": {
      "text/html": [
       "\n",
       "<span style=\"font-family:Times New Roman; font-size:20pt\">\n",
       "    &nbsp;&nbsp;&nbsp;&nbsp;B:-R;45<:AK@ \n",
       "</hspan>"
      ],
      "text/plain": [
       "<IPython.core.display.HTML object>"
      ]
     },
     "metadata": {},
     "output_type": "display_data"
    },
    {
     "data": {
      "text/html": [
       "\n",
       "<span style=\"font-family:Times New Roman; font-size:20pt\">\n",
       "    &nbsp;&nbsp;&nbsp;&nbsp;unknown\n",
       "</hspan>"
      ],
      "text/plain": [
       "<IPython.core.display.HTML object>"
      ]
     },
     "metadata": {},
     "output_type": "display_data"
    },
    {
     "data": {
      "text/html": [
       "\n",
       "<span style=\"font-family:Times New Roman; font-size:20pt\">\n",
       "    <hr>\n",
       "</hspan>"
      ],
      "text/plain": [
       "<IPython.core.display.HTML object>"
      ]
     },
     "metadata": {},
     "output_type": "display_data"
    },
    {
     "name": "stdout",
     "output_type": "stream",
     "text": [
      "106557 ('Deuteronomy', 24, 10)\n"
     ]
    },
    {
     "data": {
      "text/html": [
       "\n",
       "<span style=\"font-family:Times New Roman; font-size:20pt\">\n",
       "    רֵֽעֲךָ  | בְרֵֽעֲךָ \n",
       "</hspan>"
      ],
      "text/plain": [
       "<IPython.core.display.HTML object>"
      ]
     },
     "metadata": {},
     "output_type": "display_data"
    },
    {
     "data": {
      "text/html": [
       "\n",
       "<span style=\"font-family:Times New Roman; font-size:20pt\">\n",
       "    &nbsp;&nbsp;&nbsp;&nbsp;B:-R;45<:AK@ \n",
       "</hspan>"
      ],
      "text/plain": [
       "<IPython.core.display.HTML object>"
      ]
     },
     "metadata": {},
     "output_type": "display_data"
    },
    {
     "data": {
      "text/html": [
       "\n",
       "<span style=\"font-family:Times New Roman; font-size:20pt\">\n",
       "    &nbsp;&nbsp;&nbsp;&nbsp;unknown\n",
       "</hspan>"
      ],
      "text/plain": [
       "<IPython.core.display.HTML object>"
      ]
     },
     "metadata": {},
     "output_type": "display_data"
    },
    {
     "data": {
      "text/html": [
       "\n",
       "<span style=\"font-family:Times New Roman; font-size:20pt\">\n",
       "    <hr>\n",
       "</hspan>"
      ],
      "text/plain": [
       "<IPython.core.display.HTML object>"
      ]
     },
     "metadata": {},
     "output_type": "display_data"
    },
    {
     "name": "stdout",
     "output_type": "stream",
     "text": [
      "112656 ('Deuteronomy', 33, 28)\n"
     ]
    },
    {
     "data": {
      "text/html": [
       "\n",
       "<span style=\"font-family:Times New Roman; font-size:20pt\">\n",
       "    יַֽעַרְפוּ  | יַֽעַרְפוּ \n",
       "</hspan>"
      ],
      "text/plain": [
       "<IPython.core.display.HTML object>"
      ]
     },
     "metadata": {},
     "output_type": "display_data"
    },
    {
     "data": {
      "text/html": [
       "\n",
       "<span style=\"font-family:Times New Roman; font-size:20pt\">\n",
       "    &nbsp;&nbsp;&nbsp;&nbsp;JA45<AR:PW. \n",
       "</hspan>"
      ],
      "text/plain": [
       "<IPython.core.display.HTML object>"
      ]
     },
     "metadata": {},
     "output_type": "display_data"
    },
    {
     "data": {
      "text/html": [
       "\n",
       "<span style=\"font-family:Times New Roman; font-size:20pt\">\n",
       "    &nbsp;&nbsp;&nbsp;&nbsp;unknown\n",
       "</hspan>"
      ],
      "text/plain": [
       "<IPython.core.display.HTML object>"
      ]
     },
     "metadata": {},
     "output_type": "display_data"
    },
    {
     "data": {
      "text/html": [
       "\n",
       "<span style=\"font-family:Times New Roman; font-size:20pt\">\n",
       "    <hr>\n",
       "</hspan>"
      ],
      "text/plain": [
       "<IPython.core.display.HTML object>"
      ]
     },
     "metadata": {},
     "output_type": "display_data"
    },
    {
     "name": "stdout",
     "output_type": "stream",
     "text": [
      "130445 ('Judges', 6, 2)\n"
     ]
    },
    {
     "data": {
      "text/html": [
       "\n",
       "<span style=\"font-family:Times New Roman; font-size:20pt\">\n",
       "    עָשֽׂוּ  | עָשֽׂוּ \n",
       "</hspan>"
      ],
      "text/plain": [
       "<IPython.core.display.HTML object>"
      ]
     },
     "metadata": {},
     "output_type": "display_data"
    },
    {
     "data": {
      "text/html": [
       "\n",
       "<span style=\"font-family:Times New Roman; font-size:20pt\">\n",
       "    &nbsp;&nbsp;&nbsp;&nbsp;<@F45W. \n",
       "</hspan>"
      ],
      "text/plain": [
       "<IPython.core.display.HTML object>"
      ]
     },
     "metadata": {},
     "output_type": "display_data"
    },
    {
     "data": {
      "text/html": [
       "\n",
       "<span style=\"font-family:Times New Roman; font-size:20pt\">\n",
       "    &nbsp;&nbsp;&nbsp;&nbsp;unknown\n",
       "</hspan>"
      ],
      "text/plain": [
       "<IPython.core.display.HTML object>"
      ]
     },
     "metadata": {},
     "output_type": "display_data"
    },
    {
     "data": {
      "text/html": [
       "\n",
       "<span style=\"font-family:Times New Roman; font-size:20pt\">\n",
       "    <hr>\n",
       "</hspan>"
      ],
      "text/plain": [
       "<IPython.core.display.HTML object>"
      ]
     },
     "metadata": {},
     "output_type": "display_data"
    },
    {
     "name": "stdout",
     "output_type": "stream",
     "text": [
      "137795 ('Judges', 16, 25)\n"
     ]
    },
    {
     "data": {
      "text/html": [
       "\n",
       "<span style=\"font-family:Times New Roman; font-size:20pt\">\n",
       "    כְּ | כְּ\n",
       "</hspan>"
      ],
      "text/plain": [
       "<IPython.core.display.HTML object>"
      ]
     },
     "metadata": {},
     "output_type": "display_data"
    },
    {
     "data": {
      "text/html": [
       "\n",
       "<span style=\"font-family:Times New Roman; font-size:20pt\">\n",
       "    &nbsp;&nbsp;&nbsp;&nbsp;K.:\n",
       "</hspan>"
      ],
      "text/plain": [
       "<IPython.core.display.HTML object>"
      ]
     },
     "metadata": {},
     "output_type": "display_data"
    },
    {
     "data": {
      "text/html": [
       "\n",
       "<span style=\"font-family:Times New Roman; font-size:20pt\">\n",
       "    &nbsp;&nbsp;&nbsp;&nbsp;unknown\n",
       "</hspan>"
      ],
      "text/plain": [
       "<IPython.core.display.HTML object>"
      ]
     },
     "metadata": {},
     "output_type": "display_data"
    },
    {
     "data": {
      "text/html": [
       "\n",
       "<span style=\"font-family:Times New Roman; font-size:20pt\">\n",
       "    <hr>\n",
       "</hspan>"
      ],
      "text/plain": [
       "<IPython.core.display.HTML object>"
      ]
     },
     "metadata": {},
     "output_type": "display_data"
    }
   ],
   "source": [
    "show_accents(atype2set['unknown'][:25])"
   ]
  },
  {
   "cell_type": "markdown",
   "metadata": {},
   "source": [
    "### accent match types"
   ]
  },
  {
   "cell_type": "code",
   "execution_count": 17,
   "metadata": {},
   "outputs": [
    {
     "data": {
      "text/plain": [
       "[(('tiphchah',), 62516),\n",
       " (('munach',), 59426),\n",
       " (('mereka',), 53378),\n",
       " (('zaqeph qaton',), 41739),\n",
       " (('silluq',), 36480),\n",
       " (('atnach',), 34553),\n",
       " (('pashta',), 34346),\n",
       " (('mehuppak',), 19466),\n",
       " (('rebia',), 16542),\n",
       " (('tebir',), 12439),\n",
       " (('azla/qadma',), 11390),\n",
       " (('geresh',), 6566),\n",
       " (('darga',), 5228),\n",
       " (('rebia', 'rebia mugrash'), 4837),\n",
       " (('dechi',), 3829),\n",
       " (('gershayim',), 3273),\n",
       " (('telisha qetannah',), 3036),\n",
       " (('zaqeph gadol',), 3002),\n",
       " (('paseq',), 2650),\n",
       " (('telisha gedola',), 2108),\n",
       " (('zarqa',), 1698),\n",
       " (('segolta',), 1596),\n",
       " (('pazer qaton',), 1528),\n",
       " (('yetiv',), 1169),\n",
       " (('oleh weyored',), 550),\n",
       " (('paseq', 'azla legarmeh'), 443),\n",
       " (('yerah',), 364),\n",
       " (('paseq', 'mehuppak legarmeh'), 354),\n",
       " (('illuy',), 257),\n",
       " (('tsinor',), 227),\n",
       " (('pazer',), 133),\n",
       " (('paseq', 'shalshelet gedolah'), 51),\n",
       " (('qarney parah',), 31),\n",
       " (('mehuppak', 'azla/qadma'), 19),\n",
       " (('atnach', 'tiphchah'), 18),\n",
       " (('silluq', 'tiphchah'), 18),\n",
       " (('munach', 'mereka'), 18),\n",
       " (('paseq', 'mehuppak legarmeh', 'azla legarmeh'), 17),\n",
       " (('mereka', 'azla/qadma'), 16),\n",
       " (('paseq', 'shalshelet'), 15),\n",
       " (('merekah kefula',), 14),\n",
       " (('silluq', 'rebia'), 13),\n",
       " (('paseq', 'pashta'), 11),\n",
       " (('mereka', 'mehuppak'), 11),\n",
       " (('munach', 'mehuppak'), 10),\n",
       " (('atnach', 'silluq'), 9),\n",
       " (('zaqeph qaton', 'pazer qaton'), 9),\n",
       " (('paseq', 'tiphchah'), 9),\n",
       " (('pashta', 'tiphchah'), 8),\n",
       " (('atnach', 'zaqeph qaton'), 7),\n",
       " (('zaqeph qaton', 'pashta'), 7),\n",
       " (('atnach', 'geresh'), 6),\n",
       " (('rebia', 'telisha gedola'), 6),\n",
       " (('paseq', 'tsinor'), 6),\n",
       " (('mereka', 'telisha qetannah'), 6),\n",
       " (('mehuppak', 'mereka'), 6),\n",
       " (('darga', 'azla/qadma'), 6),\n",
       " (('atnach', 'pashta'), 5),\n",
       " (('rebia', 'dechi'), 5),\n",
       " (('zaqeph qaton', 'tiphchah'), 5),\n",
       " (('paseq', 'zaqeph qaton'), 4),\n",
       " (('yetiv', 'tebir'), 4),\n",
       " (('geresh', 'tiphchah'), 4),\n",
       " (('silluq', 'segolta', 'yetiv'), 4),\n",
       " (('zaqeph qaton', 'geresh'), 4),\n",
       " (('silluq', 'zaqeph qaton'), 4),\n",
       " (('geresh', 'telisha gedola'), 4),\n",
       " (('paseq', 'atnach'), 4),\n",
       " (('munach', 'telisha qetannah'), 4),\n",
       " (('gershayim', 'telisha gedola'), 3),\n",
       " (('zaqeph qaton', 'rebia'), 3),\n",
       " (('zaqeph gadol', 'tiphchah'), 3),\n",
       " (('rebia', 'tsinor'), 3),\n",
       " (('zaqeph gadol', 'pashta'), 2),\n",
       " (('zarqa', 'tiphchah'), 2),\n",
       " (('atnach', 'segolta'), 2),\n",
       " (('zaqeph qaton', 'zarqa'), 2),\n",
       " (('atnach', 'rebia'), 2),\n",
       " (('geresh', 'pazer qaton'), 2),\n",
       " (('pashta', 'yetiv', 'geresh'), 2),\n",
       " (('rebia', 'gershayim'), 2),\n",
       " (('yetiv', 'geresh'), 2),\n",
       " (('munach', 'mereka', 'azla/qadma'), 2),\n",
       " (('munach', 'azla/qadma'), 2),\n",
       " (('munach', 'mehuppak', 'mereka'), 2),\n",
       " (('azla/qadma', 'telisha qetannah'), 2),\n",
       " (('darga', 'telisha qetannah'), 2),\n",
       " (('yerah', 'mehuppak'), 2),\n",
       " (('munach', 'darga'), 2),\n",
       " (('zaqeph qaton', 'yetiv'), 1),\n",
       " (('paseq', 'pazer'), 1)]"
      ]
     },
     "execution_count": 17,
     "metadata": {},
     "output_type": "execute_result"
    }
   ],
   "source": [
    "mtypes = collections.Counter()\n",
    "\n",
    "for kind, matches in atype2name2set.items():\n",
    "    for match, wset in matches.items():\n",
    "        mtypes[match] += len(wset)\n",
    "        \n",
    "mtypes.most_common()"
   ]
  },
  {
   "cell_type": "markdown",
   "metadata": {},
   "source": [
    "### Conjunction Pairs"
   ]
  },
  {
   "cell_type": "code",
   "execution_count": 20,
   "metadata": {},
   "outputs": [],
   "source": [
    "M = Mom(53, A, quants=wsets.quants, preps=wsets.preps, noms=wsets.nominals)\n",
    "\n",
    "M.every()"
   ]
  },
  {
   "cell_type": "code",
   "execution_count": 21,
   "metadata": {},
   "outputs": [
    {
     "name": "stdout",
     "output_type": "stream",
     "text": [
      "node 55\n",
      "\tP(0) not in preps                              True\n",
      "\tP(1,'sp') == 'conj'                            True\n",
      "\tP(2,'sp') in nominals                          True\n",
      "\tP(2) not in preps                             False\n",
      "node 56\n",
      "\tP(0) not in preps                              True\n",
      "\tP(1,'sp') == 'conj'                            True\n",
      "\tP(2,'sp') == 'art'                            False\n",
      "node 56\n",
      "\tP(1,'sp') == 'conj'                            True\n",
      "\tP(2) in preps                                  True\n",
      "\tP(3,'sp') in nominals                         False\n",
      "\tP(-1) in preps                                False\n",
      "node 57\n",
      "\tP(1,'sp') == 'conj'                            True\n",
      "\tP(2) in preps                                  True\n",
      "\tP(3,'sp') == 'art'                             True\n",
      "\tP(-1,'sp') == 'art'                            True\n",
      "\tP(-2) in preps                                 True\n"
     ]
    }
   ],
   "source": [
    "showconds(M.explain['coord'])"
   ]
  },
  {
   "cell_type": "code",
   "execution_count": 22,
   "metadata": {},
   "outputs": [],
   "source": [
    "conjpairs = wsets.conjs.pairs\n",
    "cpairresults = wsets.conjs.pairresults"
   ]
  },
  {
   "cell_type": "markdown",
   "metadata": {},
   "source": [
    "#### Random Inspections"
   ]
  },
  {
   "cell_type": "code",
   "execution_count": 75,
   "metadata": {},
   "outputs": [
    {
     "data": {
      "text/html": [
       "<table>\n",
       "<tr class=\"tf\">\n",
       "  <th class=\"tf\">n</th><th class=\"tf\">p</th>\n",
       "  <th class=\"tf\">phrase</th><th>word</th><th>word</th>\n",
       "</tr>\n",
       "\n",
       "<tr class=\"tf\"><td class=\"tf\">1</td><td class=\"tf\"> <a href=\"https://shebanq.ancient-data.org/hebrew/text?book=Samuel_I&amp;chapter=2&amp;verse=14&amp;version=c&amp;mr=m&amp;qw=q&amp;tp=txt_p&amp;tr=hb&amp;wget=v&amp;qget=v&amp;nget=vt\" title=\"show this passage in SHEBANQ\" sec=\"1_Samuel 2:14\">1_Samuel 2:14</a></td><td class=\"tf\"><span class=\"hb\"><a href=\"https://shebanq.ancient-data.org/hebrew/text?book=Samuel_I&amp;chapter=2&amp;verse=14&amp;version=c&amp;mr=m&amp;qw=q&amp;tp=txt_p&amp;tr=hb&amp;wget=v&amp;qget=v&amp;nget=vt\" title=\"1_Samuel 2:14\" sec=\"1_Samuel 2:14\"><span  class=\"hlup\" >בַ</span><span  class=\"hlup\" ></span><span  class=\"hlup\" >כִּיֹּ֜ור </span><span  class=\"hlup\" >אֹ֣ו </span><span  class=\"hlup\" >בַ</span><span  class=\"hlup\" ></span><span  class=\"hl hlup\" >דּ֗וּד </span><span  class=\"hlup\" >אֹ֤ו </span><span  class=\"hlup\" >בַ</span><span  class=\"hlup\" ></span><span  class=\"hl hlup\" >קַּלַּ֨חַת֙ </span><span  class=\"hlup\" >אֹ֣ו </span><span  class=\"hlup\" >בַ</span><span  class=\"hlup\" ></span><span  class=\"hlup\" >פָּר֔וּר </span></a></span> <i>732134</i> </td><td class=\"tf\"><span class=\"hb\"><span  class=\"hl hlup\" >דּ֗וּד </span></span> <i>142326</i> </td><td class=\"tf\"><span class=\"hb\"><span  class=\"hl hlup\" >קַּלַּ֨חַת֙ </span></span> <i>142330</i> </td></tr>\n",
       "<tr class=\"tf\"><td class=\"tf\">2</td><td class=\"tf\"> <a href=\"https://shebanq.ancient-data.org/hebrew/text?book=Josua&amp;chapter=15&amp;verse=44&amp;version=c&amp;mr=m&amp;qw=q&amp;tp=txt_p&amp;tr=hb&amp;wget=v&amp;qget=v&amp;nget=vt\" title=\"show this passage in SHEBANQ\" sec=\"Joshua 15:44\">Joshua 15:44</a></td><td class=\"tf\"><span class=\"hb\"><a href=\"https://shebanq.ancient-data.org/hebrew/text?book=Josua&amp;chapter=15&amp;verse=44&amp;version=c&amp;mr=m&amp;qw=q&amp;tp=txt_p&amp;tr=hb&amp;wget=v&amp;qget=v&amp;nget=vt\" title=\"Joshua 15:44\" sec=\"Joshua 15:44\"><span  class=\"hl hlup\" >קְעִילָ֥ה </span><span  class=\"hlup\" >וְ</span><span  class=\"hl hlup\" >אַכְזִ֖יב </span><span  class=\"hlup\" >וּ</span><span  class=\"hlup\" >מָֽרֵאשָׁ֑ה </span></a></span> <i>720398</i> </td><td class=\"tf\"><span class=\"hb\"><span  class=\"hl hlup\" >אַכְזִ֖יב </span></span> <i>121996</i> </td><td class=\"tf\"><span class=\"hb\"><span  class=\"hl hlup\" >קְעִילָ֥ה </span></span> <i>121994</i> </td></tr>\n",
       "<tr class=\"tf\"><td class=\"tf\">3</td><td class=\"tf\"> <a href=\"https://shebanq.ancient-data.org/hebrew/text?book=Nehemia&amp;chapter=7&amp;verse=61&amp;version=c&amp;mr=m&amp;qw=q&amp;tp=txt_p&amp;tr=hb&amp;wget=v&amp;qget=v&amp;nget=vt\" title=\"show this passage in SHEBANQ\" sec=\"Nehemiah 7:61\">Nehemiah 7:61</a></td><td class=\"tf\"><span class=\"hb\"><a href=\"https://shebanq.ancient-data.org/hebrew/text?book=Nehemia&amp;chapter=7&amp;verse=61&amp;version=c&amp;mr=m&amp;qw=q&amp;tp=txt_p&amp;tr=hb&amp;wget=v&amp;qget=v&amp;nget=vt\" title=\"Nehemiah 7:61\" sec=\"Nehemiah 7:61\"><span  class=\"hlup\" >מִ</span><span  class=\"hlup\" >תֵּ֥ל מֶ֨לַח֙ </span><span  class=\"hlup\" >תֵּ֣ל חַרְשָׁ֔א </span><span  class=\"hlup\" >כְּר֥וּב </span><span  class=\"hl hlup\" >אַדֹּ֖ון </span><span  class=\"hlup\" >וְ</span><span  class=\"hl hlup\" >אִמֵּ֑ר </span></a></span> <i>885488</i> </td><td class=\"tf\"><span class=\"hb\"><span  class=\"hl hlup\" >אִמֵּ֑ר </span></span> <i>386924</i> </td><td class=\"tf\"><span class=\"hb\"><span  class=\"hl hlup\" >אַדֹּ֖ון </span></span> <i>386922</i> </td></tr>\n",
       "<tr class=\"tf\"><td class=\"tf\">4</td><td class=\"tf\"> <a href=\"https://shebanq.ancient-data.org/hebrew/text?book=Reges_II&amp;chapter=20&amp;verse=20&amp;version=c&amp;mr=m&amp;qw=q&amp;tp=txt_p&amp;tr=hb&amp;wget=v&amp;qget=v&amp;nget=vt\" title=\"show this passage in SHEBANQ\" sec=\"2_Kings 20:20\">2_Kings 20:20</a></td><td class=\"tf\"><span class=\"hb\"><a href=\"https://shebanq.ancient-data.org/hebrew/text?book=Reges_II&amp;chapter=20&amp;verse=20&amp;version=c&amp;mr=m&amp;qw=q&amp;tp=txt_p&amp;tr=hb&amp;wget=v&amp;qget=v&amp;nget=vt\" title=\"2_Kings 20:20\" sec=\"2_Kings 20:20\"><span  class=\"hlup\" >אֶת־</span><span  class=\"hlup\" >הַ</span><span  class=\"hl hlup\" >בְּרֵכָה֙ </span><span  class=\"hlup\" >וְ</span><span  class=\"hlup\" >אֶת־</span><span  class=\"hlup\" >הַ</span><span  class=\"hl hlup\" >תְּעָלָ֔ה </span></a></span> <i>772447</i> </td><td class=\"tf\"><span class=\"hb\"><span  class=\"hl hlup\" >תְּעָלָ֔ה </span></span> <i>208646</i> </td><td class=\"tf\"><span class=\"hb\"><span  class=\"hl hlup\" >בְּרֵכָה֙ </span></span> <i>208642</i> </td></tr>\n",
       "<tr class=\"tf\"><td class=\"tf\">5</td><td class=\"tf\"> <a href=\"https://shebanq.ancient-data.org/hebrew/text?book=Jesaia&amp;chapter=30&amp;verse=6&amp;version=c&amp;mr=m&amp;qw=q&amp;tp=txt_p&amp;tr=hb&amp;wget=v&amp;qget=v&amp;nget=vt\" title=\"show this passage in SHEBANQ\" sec=\"Isaiah 30:6\">Isaiah 30:6</a></td><td class=\"tf\"><span class=\"hb\"><a href=\"https://shebanq.ancient-data.org/hebrew/text?book=Jesaia&amp;chapter=30&amp;verse=6&amp;version=c&amp;mr=m&amp;qw=q&amp;tp=txt_p&amp;tr=hb&amp;wget=v&amp;qget=v&amp;nget=vt\" title=\"Isaiah 30:6\" sec=\"Isaiah 30:6\"><span  class=\"hl hlup\" >לָבִ֧יא </span><span  class=\"hlup\" >וָ</span><span  class=\"hl hlup\" >לַ֣יִשׁ </span></a></span> <i>780152</i> </td><td class=\"tf\"><span class=\"hb\"><span  class=\"hl hlup\" >לָבִ֧יא </span></span> <i>221889</i> </td><td class=\"tf\"><span class=\"hb\"><span  class=\"hl hlup\" >לַ֣יִשׁ </span></span> <i>221891</i> </td></tr>\n",
       "<tr class=\"tf\"><td class=\"tf\">6</td><td class=\"tf\"> <a href=\"https://shebanq.ancient-data.org/hebrew/text?book=Chronica_II&amp;chapter=35&amp;verse=13&amp;version=c&amp;mr=m&amp;qw=q&amp;tp=txt_p&amp;tr=hb&amp;wget=v&amp;qget=v&amp;nget=vt\" title=\"show this passage in SHEBANQ\" sec=\"2_Chronicles 35:13\">2_Chronicles 35:13</a></td><td class=\"tf\"><span class=\"hb\"><a href=\"https://shebanq.ancient-data.org/hebrew/text?book=Chronica_II&amp;chapter=35&amp;verse=13&amp;version=c&amp;mr=m&amp;qw=q&amp;tp=txt_p&amp;tr=hb&amp;wget=v&amp;qget=v&amp;nget=vt\" title=\"2_Chronicles 35:13\" sec=\"2_Chronicles 35:13\"><span  class=\"hlup\" >בַּ</span><span  class=\"hlup\" ></span><span  class=\"hlup\" >סִּירֹ֤ות </span><span  class=\"hlup\" >וּ</span><span  class=\"hlup\" >בַ</span><span  class=\"hlup\" ></span><span  class=\"hl hlup\" >דְּוָדִים֙ </span><span  class=\"hlup\" >וּ</span><span  class=\"hlup\" >בַ</span><span  class=\"hlup\" ></span><span  class=\"hl hlup\" >צֵּ֣לָחֹ֔ות </span></a></span> <i>904300</i> </td><td class=\"tf\"><span class=\"hb\"><span  class=\"hl hlup\" >צֵּ֣לָחֹ֔ות </span></span> <i>425695</i> </td><td class=\"tf\"><span class=\"hb\"><span  class=\"hl hlup\" >דְּוָדִים֙ </span></span> <i>425691</i> </td></tr>\n",
       "<tr class=\"tf\"><td class=\"tf\">7</td><td class=\"tf\"> <a href=\"https://shebanq.ancient-data.org/hebrew/text?book=Jeremia&amp;chapter=6&amp;verse=7&amp;version=c&amp;mr=m&amp;qw=q&amp;tp=txt_p&amp;tr=hb&amp;wget=v&amp;qget=v&amp;nget=vt\" title=\"show this passage in SHEBANQ\" sec=\"Jeremiah 6:7\">Jeremiah 6:7</a></td><td class=\"tf\"><span class=\"hb\"><a href=\"https://shebanq.ancient-data.org/hebrew/text?book=Jeremia&amp;chapter=6&amp;verse=7&amp;version=c&amp;mr=m&amp;qw=q&amp;tp=txt_p&amp;tr=hb&amp;wget=v&amp;qget=v&amp;nget=vt\" title=\"Jeremiah 6:7\" sec=\"Jeremiah 6:7\"><span  class=\"hl hlup\" >חֳלִ֥י </span><span  class=\"hlup\" >וּ</span><span  class=\"hl hlup\" >מַכָּֽה׃ </span></a></span> <i>791211</i> </td><td class=\"tf\"><span class=\"hb\"><span  class=\"hl hlup\" >חֳלִ֥י </span></span> <i>237775</i> </td><td class=\"tf\"><span class=\"hb\"><span  class=\"hl hlup\" >מַכָּֽה׃ </span></span> <i>237777</i> </td></tr>\n",
       "<tr class=\"tf\"><td class=\"tf\">8</td><td class=\"tf\"> <a href=\"https://shebanq.ancient-data.org/hebrew/text?book=Genesis&amp;chapter=36&amp;verse=26&amp;version=c&amp;mr=m&amp;qw=q&amp;tp=txt_p&amp;tr=hb&amp;wget=v&amp;qget=v&amp;nget=vt\" title=\"show this passage in SHEBANQ\" sec=\"Genesis 36:26\">Genesis 36:26</a></td><td class=\"tf\"><span class=\"hb\"><a href=\"https://shebanq.ancient-data.org/hebrew/text?book=Genesis&amp;chapter=36&amp;verse=26&amp;version=c&amp;mr=m&amp;qw=q&amp;tp=txt_p&amp;tr=hb&amp;wget=v&amp;qget=v&amp;nget=vt\" title=\"Genesis 36:26\" sec=\"Genesis 36:26\"><span  class=\"hl hlup\" >חֶמְדָּ֥ן </span><span  class=\"hlup\" >וְ</span><span  class=\"hl hlup\" >אֶשְׁבָּ֖ן </span><span  class=\"hlup\" >וְ</span><span  class=\"hlup\" >יִתְרָ֥ן </span><span  class=\"hlup\" >וּ</span><span  class=\"hlup\" >כְרָֽן׃ </span></a></span> <i>663784</i> </td><td class=\"tf\"><span class=\"hb\"><span  class=\"hl hlup\" >אֶשְׁבָּ֖ן </span></span> <i>19954</i> </td><td class=\"tf\"><span class=\"hb\"><span  class=\"hl hlup\" >חֶמְדָּ֥ן </span></span> <i>19952</i> </td></tr>\n",
       "<tr class=\"tf\"><td class=\"tf\">9</td><td class=\"tf\"> <a href=\"https://shebanq.ancient-data.org/hebrew/text?book=Jeremia&amp;chapter=41&amp;verse=16&amp;version=c&amp;mr=m&amp;qw=q&amp;tp=txt_p&amp;tr=hb&amp;wget=v&amp;qget=v&amp;nget=vt\" title=\"show this passage in SHEBANQ\" sec=\"Jeremiah 41:16\">Jeremiah 41:16</a></td><td class=\"tf\"><span class=\"hb\"><a href=\"https://shebanq.ancient-data.org/hebrew/text?book=Jeremia&amp;chapter=41&amp;verse=16&amp;version=c&amp;mr=m&amp;qw=q&amp;tp=txt_p&amp;tr=hb&amp;wget=v&amp;qget=v&amp;nget=vt\" title=\"Jeremiah 41:16\" sec=\"Jeremiah 41:16\"><span  class=\"hlup\" >גְּבָרִ֞ים </span><span  class=\"hlup\" >אַנְשֵׁ֣י </span><span  class=\"hlup\" >הַ</span><span  class=\"hl hlup\" >מִּלְחָמָ֗ה </span><span  class=\"hlup\" >וְ</span><span  class=\"hl hlup\" >נָשִׁ֤ים </span><span  class=\"hlup\" >וְ</span><span  class=\"hlup\" >טַף֙ </span><span  class=\"hlup\" >וְ</span><span  class=\"hlup\" >סָ֣רִסִ֔ים </span></a></span> <i>802676</i> </td><td class=\"tf\"><span class=\"hb\"><span  class=\"hl hlup\" >נָשִׁ֤ים </span></span> <i>257745</i> </td><td class=\"tf\"><span class=\"hb\"><span  class=\"hl hlup\" >מִּלְחָמָ֗ה </span></span> <i>257743</i> </td></tr>\n",
       "<tr class=\"tf\"><td class=\"tf\">10</td><td class=\"tf\"> <a href=\"https://shebanq.ancient-data.org/hebrew/text?book=Genesis&amp;chapter=46&amp;verse=21&amp;version=c&amp;mr=m&amp;qw=q&amp;tp=txt_p&amp;tr=hb&amp;wget=v&amp;qget=v&amp;nget=vt\" title=\"show this passage in SHEBANQ\" sec=\"Genesis 46:21\">Genesis 46:21</a></td><td class=\"tf\"><span class=\"hb\"><a href=\"https://shebanq.ancient-data.org/hebrew/text?book=Genesis&amp;chapter=46&amp;verse=21&amp;version=c&amp;mr=m&amp;qw=q&amp;tp=txt_p&amp;tr=hb&amp;wget=v&amp;qget=v&amp;nget=vt\" title=\"Genesis 46:21\" sec=\"Genesis 46:21\"><span  class=\"hlup\" >בֶּ֤לַע </span><span  class=\"hlup\" >וָ</span><span  class=\"hlup\" >בֶ֨כֶר֙ </span><span  class=\"hlup\" >וְ</span><span  class=\"hlup\" >אַשְׁבֵּ֔ל </span><span  class=\"hlup\" >גֵּרָ֥א </span><span  class=\"hlup\" >וְ</span><span  class=\"hlup\" >נַעֲמָ֖ן </span><span  class=\"hlup\" >אֵחִ֣י </span><span  class=\"hlup\" >וָ</span><span  class=\"hlup\" >רֹ֑אשׁ </span><span  class=\"hl hlup\" >מֻפִּ֥ים </span><span  class=\"hlup\" >וְ</span><span  class=\"hl hlup\" >חֻפִּ֖ים </span><span  class=\"hlup\" >וָ</span><span  class=\"hlup\" >אָֽרְדְּ׃ </span></a></span> <i>668007</i> </td><td class=\"tf\"><span class=\"hb\"><span  class=\"hl hlup\" >חֻפִּ֖ים </span></span> <i>26332</i> </td><td class=\"tf\"><span class=\"hb\"><span  class=\"hl hlup\" >מֻפִּ֥ים </span></span> <i>26330</i> </td></tr>\n",
       "<tr class=\"tf\"><td class=\"tf\">11</td><td class=\"tf\"> <a href=\"https://shebanq.ancient-data.org/hebrew/text?book=Ezechiel&amp;chapter=6&amp;verse=3&amp;version=c&amp;mr=m&amp;qw=q&amp;tp=txt_p&amp;tr=hb&amp;wget=v&amp;qget=v&amp;nget=vt\" title=\"show this passage in SHEBANQ\" sec=\"Ezekiel 6:3\">Ezekiel 6:3</a></td><td class=\"tf\"><span class=\"hb\"><a href=\"https://shebanq.ancient-data.org/hebrew/text?book=Ezechiel&amp;chapter=6&amp;verse=3&amp;version=c&amp;mr=m&amp;qw=q&amp;tp=txt_p&amp;tr=hb&amp;wget=v&amp;qget=v&amp;nget=vt\" title=\"Ezekiel 6:3\" sec=\"Ezekiel 6:3\"><span  class=\"hlup\" >לֶ</span><span  class=\"hlup\" ></span><span  class=\"hlup\" >הָרִ֨ים </span><span  class=\"hlup\" >וְ</span><span  class=\"hlup\" >לַ</span><span  class=\"hlup\" ></span><span  class=\"hlup\" >גְּבָעֹ֜ות </span><span  class=\"hlup\" >לָ</span><span  class=\"hlup\" ></span><span  class=\"hl hlup\" >אֲפִיקִ֣ים </span><span  class=\"hlup\" >וְ</span><span  class=\"hlup\" >לַ</span><span  class=\"hlup\" ></span><span  class=\"hl hlup\" >גֵּאָיֹ֗ות </span></a></span> <i>808087</i> </td><td class=\"tf\"><span class=\"hb\"><span  class=\"hl hlup\" >אֲפִיקִ֣ים </span></span> <i>266865</i> </td><td class=\"tf\"><span class=\"hb\"><span  class=\"hl hlup\" >גֵּאָיֹ֗ות </span></span> <i>266869</i> </td></tr>\n",
       "<tr class=\"tf\"><td class=\"tf\">12</td><td class=\"tf\"> <a href=\"https://shebanq.ancient-data.org/hebrew/text?book=Genesis&amp;chapter=46&amp;verse=16&amp;version=c&amp;mr=m&amp;qw=q&amp;tp=txt_p&amp;tr=hb&amp;wget=v&amp;qget=v&amp;nget=vt\" title=\"show this passage in SHEBANQ\" sec=\"Genesis 46:16\">Genesis 46:16</a></td><td class=\"tf\"><span class=\"hb\"><a href=\"https://shebanq.ancient-data.org/hebrew/text?book=Genesis&amp;chapter=46&amp;verse=16&amp;version=c&amp;mr=m&amp;qw=q&amp;tp=txt_p&amp;tr=hb&amp;wget=v&amp;qget=v&amp;nget=vt\" title=\"Genesis 46:16\" sec=\"Genesis 46:16\"><span  class=\"hlup\" >צִפְיֹ֥ון </span><span  class=\"hlup\" >וְ</span><span  class=\"hlup\" >חַגִּ֖י </span><span  class=\"hlup\" >שׁוּנִ֣י </span><span  class=\"hlup\" >וְ</span><span  class=\"hlup\" >אֶצְבֹּ֑ן </span><span  class=\"hl hlup\" >עֵרִ֥י </span><span  class=\"hlup\" >וַֽ</span><span  class=\"hl hlup\" >אֲרֹודִ֖י </span><span  class=\"hlup\" >וְ</span><span  class=\"hlup\" >אַרְאֵלִֽי׃ </span></a></span> <i>667976</i> </td><td class=\"tf\"><span class=\"hb\"><span  class=\"hl hlup\" >אֲרֹודִ֖י </span></span> <i>26249</i> </td><td class=\"tf\"><span class=\"hb\"><span  class=\"hl hlup\" >עֵרִ֥י </span></span> <i>26247</i> </td></tr>\n",
       "<tr class=\"tf\"><td class=\"tf\">13</td><td class=\"tf\"> <a href=\"https://shebanq.ancient-data.org/hebrew/text?book=Psalmi&amp;chapter=119&amp;verse=168&amp;version=c&amp;mr=m&amp;qw=q&amp;tp=txt_p&amp;tr=hb&amp;wget=v&amp;qget=v&amp;nget=vt\" title=\"show this passage in SHEBANQ\" sec=\"Psalms 119:168\">Psalms 119:168</a></td><td class=\"tf\"><span class=\"hb\"><a href=\"https://shebanq.ancient-data.org/hebrew/text?book=Psalmi&amp;chapter=119&amp;verse=168&amp;version=c&amp;mr=m&amp;qw=q&amp;tp=txt_p&amp;tr=hb&amp;wget=v&amp;qget=v&amp;nget=vt\" title=\"Psalms 119:168\" sec=\"Psalms 119:168\"><span  class=\"hl hlup\" >פִ֭קּוּדֶיךָ </span><span  class=\"hlup\" >וְ</span><span  class=\"hl hlup\" >עֵדֹתֶ֑יךָ </span></a></span> <i>850745</i> </td><td class=\"tf\"><span class=\"hb\"><span  class=\"hl hlup\" >פִ֭קּוּדֶיךָ </span></span> <i>332589</i> </td><td class=\"tf\"><span class=\"hb\"><span  class=\"hl hlup\" >עֵדֹתֶ֑יךָ </span></span> <i>332591</i> </td></tr>\n",
       "<tr class=\"tf\"><td class=\"tf\">14</td><td class=\"tf\"> <a href=\"https://shebanq.ancient-data.org/hebrew/text?book=Psalmi&amp;chapter=8&amp;verse=8&amp;version=c&amp;mr=m&amp;qw=q&amp;tp=txt_p&amp;tr=hb&amp;wget=v&amp;qget=v&amp;nget=vt\" title=\"show this passage in SHEBANQ\" sec=\"Psalms 8:8\">Psalms 8:8</a></td><td class=\"tf\"><span class=\"hb\"><a href=\"https://shebanq.ancient-data.org/hebrew/text?book=Psalmi&amp;chapter=8&amp;verse=8&amp;version=c&amp;mr=m&amp;qw=q&amp;tp=txt_p&amp;tr=hb&amp;wget=v&amp;qget=v&amp;nget=vt\" title=\"Psalms 8:8\" sec=\"Psalms 8:8\"><span  class=\"hl hlup\" >צֹנֶ֣ה </span><span  class=\"hlup\" >וַ</span><span  class=\"hl hlup\" >אֲלָפִ֣ים </span><span  class=\"hlup\" >כֻּלָּ֑ם </span></a></span> <i>835983</i> </td><td class=\"tf\"><span class=\"hb\"><span  class=\"hl hlup\" >צֹנֶ֣ה </span></span> <i>311531</i> </td><td class=\"tf\"><span class=\"hb\"><span  class=\"hl hlup\" >אֲלָפִ֣ים </span></span> <i>311533</i> </td></tr>\n",
       "<tr class=\"tf\"><td class=\"tf\">15</td><td class=\"tf\"> <a href=\"https://shebanq.ancient-data.org/hebrew/text?book=Deuteronomium&amp;chapter=27&amp;verse=13&amp;version=c&amp;mr=m&amp;qw=q&amp;tp=txt_p&amp;tr=hb&amp;wget=v&amp;qget=v&amp;nget=vt\" title=\"show this passage in SHEBANQ\" sec=\"Deuteronomy 27:13\">Deuteronomy 27:13</a></td><td class=\"tf\"><span class=\"hb\"><a href=\"https://shebanq.ancient-data.org/hebrew/text?book=Deuteronomium&amp;chapter=27&amp;verse=13&amp;version=c&amp;mr=m&amp;qw=q&amp;tp=txt_p&amp;tr=hb&amp;wget=v&amp;qget=v&amp;nget=vt\" title=\"Deuteronomy 27:13\" sec=\"Deuteronomy 27:13\"><span  class=\"hlup\" >רְאוּבֵן֙ </span><span  class=\"hlup\" >גָּ֣ד </span><span  class=\"hlup\" >וְ</span><span  class=\"hl hlup\" >אָשֵׁ֔ר </span><span  class=\"hlup\" >וּ</span><span  class=\"hl hlup\" >זְבוּלֻ֖ן </span><span  class=\"hlup\" >דָּ֥ן </span><span  class=\"hlup\" >וְ</span><span  class=\"hlup\" >נַפְתָּלִֽי׃ </span></a></span> <i>712834</i> </td><td class=\"tf\"><span class=\"hb\"><span  class=\"hl hlup\" >זְבוּלֻ֖ן </span></span> <i>107920</i> </td><td class=\"tf\"><span class=\"hb\"><span  class=\"hl hlup\" >אָשֵׁ֔ר </span></span> <i>107918</i> </td></tr>\n",
       "<tr class=\"tf\"><td class=\"tf\">16</td><td class=\"tf\"> <a href=\"https://shebanq.ancient-data.org/hebrew/text?book=Josua&amp;chapter=19&amp;verse=27&amp;version=c&amp;mr=m&amp;qw=q&amp;tp=txt_p&amp;tr=hb&amp;wget=v&amp;qget=v&amp;nget=vt\" title=\"show this passage in SHEBANQ\" sec=\"Joshua 19:27\">Joshua 19:27</a></td><td class=\"tf\"><span class=\"hb\"><a href=\"https://shebanq.ancient-data.org/hebrew/text?book=Josua&amp;chapter=19&amp;verse=27&amp;version=c&amp;mr=m&amp;qw=q&amp;tp=txt_p&amp;tr=hb&amp;wget=v&amp;qget=v&amp;nget=vt\" title=\"Joshua 19:27\" sec=\"Joshua 19:27\"><span  class=\"hlup\" >בִּ֠</span><span  class=\"hlup\" >זְבֻלוּן </span><span  class=\"hlup\" >וּ</span><span  class=\"hlup\" >בְ</span><span  class=\"hlup\" >גֵ֨י </span><span  class=\"hlup\" >יִפְתַּח־אֵ֥ל </span><span  class=\"hlup\" >צָפֹ֛ונָה </span><span  class=\"hl hlup\" >בֵּ֥ית הָעֵ֖מֶק </span><span  class=\"hlup\" >וּ</span><span  class=\"hl hlup\" >נְעִיאֵ֑ל </span></a></span> <i>721203</i> </td><td class=\"tf\"><span class=\"hb\"><span  class=\"hl hlup\" >נְעִיאֵ֑ל </span></span> <i>123766</i> </td><td class=\"tf\"><span class=\"hb\"><span  class=\"hl hlup\" >בֵּ֥ית הָעֵ֖מֶק </span></span> <i>123764</i> </td></tr>\n",
       "<tr class=\"tf\"><td class=\"tf\">17</td><td class=\"tf\"> <a href=\"https://shebanq.ancient-data.org/hebrew/text?book=Reges_I&amp;chapter=7&amp;verse=31&amp;version=c&amp;mr=m&amp;qw=q&amp;tp=txt_p&amp;tr=hb&amp;wget=v&amp;qget=v&amp;nget=vt\" title=\"show this passage in SHEBANQ\" sec=\"1_Kings 7:31\">1_Kings 7:31</a></td><td class=\"tf\"><span class=\"hb\"><a href=\"https://shebanq.ancient-data.org/hebrew/text?book=Reges_I&amp;chapter=7&amp;verse=31&amp;version=c&amp;mr=m&amp;qw=q&amp;tp=txt_p&amp;tr=hb&amp;wget=v&amp;qget=v&amp;nget=vt\" title=\"1_Kings 7:31\" sec=\"1_Kings 7:31\"><span  class=\"hl hlup\" >מִקְלָעֹ֔ות </span><span  class=\"hlup\" >וּ</span><span  class=\"hl hlup\" >מִסְגְּרֹתֵיהֶ֥ם </span></a></span> <i>756361</i> </td><td class=\"tf\"><span class=\"hb\"><span  class=\"hl hlup\" >מִקְלָעֹ֔ות </span></span> <i>181572</i> </td><td class=\"tf\"><span class=\"hb\"><span  class=\"hl hlup\" >מִסְגְּרֹתֵיהֶ֥ם </span></span> <i>181574</i> </td></tr>\n",
       "<tr class=\"tf\"><td class=\"tf\">18</td><td class=\"tf\"> <a href=\"https://shebanq.ancient-data.org/hebrew/text?book=Reges_II&amp;chapter=22&amp;verse=14&amp;version=c&amp;mr=m&amp;qw=q&amp;tp=txt_p&amp;tr=hb&amp;wget=v&amp;qget=v&amp;nget=vt\" title=\"show this passage in SHEBANQ\" sec=\"2_Kings 22:14\">2_Kings 22:14</a></td><td class=\"tf\"><span class=\"hb\"><a href=\"https://shebanq.ancient-data.org/hebrew/text?book=Reges_II&amp;chapter=22&amp;verse=14&amp;version=c&amp;mr=m&amp;qw=q&amp;tp=txt_p&amp;tr=hb&amp;wget=v&amp;qget=v&amp;nget=vt\" title=\"2_Kings 22:14\" sec=\"2_Kings 22:14\"><span  class=\"hlup\" >חִלְקִיָּ֣הוּ </span><span  class=\"hlup\" >הַ֠</span><span  class=\"hlup\" >כֹּהֵן </span><span  class=\"hlup\" >וַ</span><span  class=\"hlup\" >אֲחִיקָ֨ם </span><span  class=\"hlup\" >וְ</span><span  class=\"hl hlup\" >עַכְבֹּ֜ור </span><span  class=\"hlup\" >וְ</span><span  class=\"hl hlup\" >שָׁפָ֣ן </span><span  class=\"hlup\" >וַ</span><span  class=\"hlup\" >עֲשָׂיָ֗ה </span></a></span> <i>772936</i> </td><td class=\"tf\"><span class=\"hb\"><span  class=\"hl hlup\" >שָׁפָ֣ן </span></span> <i>209576</i> </td><td class=\"tf\"><span class=\"hb\"><span  class=\"hl hlup\" >עַכְבֹּ֜ור </span></span> <i>209574</i> </td></tr>\n",
       "<tr class=\"tf\"><td class=\"tf\">19</td><td class=\"tf\"> <a href=\"https://shebanq.ancient-data.org/hebrew/text?book=Sacharia&amp;chapter=7&amp;verse=2&amp;version=c&amp;mr=m&amp;qw=q&amp;tp=txt_p&amp;tr=hb&amp;wget=v&amp;qget=v&amp;nget=vt\" title=\"show this passage in SHEBANQ\" sec=\"Zechariah 7:2\">Zechariah 7:2</a></td><td class=\"tf\"><span class=\"hb\"><a href=\"https://shebanq.ancient-data.org/hebrew/text?book=Sacharia&amp;chapter=7&amp;verse=2&amp;version=c&amp;mr=m&amp;qw=q&amp;tp=txt_p&amp;tr=hb&amp;wget=v&amp;qget=v&amp;nget=vt\" title=\"Zechariah 7:2\" sec=\"Zechariah 7:2\"><span  class=\"hl hlup\" >שַׂר־אֶ֕צֶר </span><span  class=\"hlup\" >וְ</span><span  class=\"hlup\" >רֶ֥גֶם מֶ֖לֶךְ </span><span  class=\"hlup\" >וַֽ</span><span  class=\"hl hlup\" >אֲנָשָׁ֑יו </span></a></span> <i>832922</i> </td><td class=\"tf\"><span class=\"hb\"><span  class=\"hl hlup\" >שַׂר־אֶ֕צֶר </span></span> <i>306723</i> </td><td class=\"tf\"><span class=\"hb\"><span  class=\"hl hlup\" >אֲנָשָׁ֑יו </span></span> <i>306727</i> </td></tr>\n",
       "<tr class=\"tf\"><td class=\"tf\">20</td><td class=\"tf\"> <a href=\"https://shebanq.ancient-data.org/hebrew/text?book=Josua&amp;chapter=15&amp;verse=49&amp;version=c&amp;mr=m&amp;qw=q&amp;tp=txt_p&amp;tr=hb&amp;wget=v&amp;qget=v&amp;nget=vt\" title=\"show this passage in SHEBANQ\" sec=\"Joshua 15:49\">Joshua 15:49</a></td><td class=\"tf\"><span class=\"hb\"><a href=\"https://shebanq.ancient-data.org/hebrew/text?book=Josua&amp;chapter=15&amp;verse=49&amp;version=c&amp;mr=m&amp;qw=q&amp;tp=txt_p&amp;tr=hb&amp;wget=v&amp;qget=v&amp;nget=vt\" title=\"Joshua 15:49\" sec=\"Joshua 15:49\"><span  class=\"hl hlup\" >דַנָּ֥ה </span><span  class=\"hlup\" >וְ</span><span  class=\"hl hlup\" >קִרְיַת־סַנָּ֖ה </span></a></span> <i>720412</i> </td><td class=\"tf\"><span class=\"hb\"><span  class=\"hl hlup\" >דַנָּ֥ה </span></span> <i>122047</i> </td><td class=\"tf\"><span class=\"hb\"><span  class=\"hl hlup\" >קִרְיַת־סַנָּ֖ה </span></span> <i>122049</i> </td></tr>\n",
       "<tr class=\"tf\"><td class=\"tf\">21</td><td class=\"tf\"> <a href=\"https://shebanq.ancient-data.org/hebrew/text?book=Deuteronomium&amp;chapter=28&amp;verse=28&amp;version=c&amp;mr=m&amp;qw=q&amp;tp=txt_p&amp;tr=hb&amp;wget=v&amp;qget=v&amp;nget=vt\" title=\"show this passage in SHEBANQ\" sec=\"Deuteronomy 28:28\">Deuteronomy 28:28</a></td><td class=\"tf\"><span class=\"hb\"><a href=\"https://shebanq.ancient-data.org/hebrew/text?book=Deuteronomium&amp;chapter=28&amp;verse=28&amp;version=c&amp;mr=m&amp;qw=q&amp;tp=txt_p&amp;tr=hb&amp;wget=v&amp;qget=v&amp;nget=vt\" title=\"Deuteronomy 28:28\" sec=\"Deuteronomy 28:28\"><span  class=\"hlup\" >בְּ</span><span  class=\"hlup\" >שִׁגָּעֹ֖ון </span><span  class=\"hlup\" >וּ</span><span  class=\"hlup\" >בְ</span><span  class=\"hl hlup\" >עִוָּרֹ֑ון </span><span  class=\"hlup\" >וּ</span><span  class=\"hlup\" >בְ</span><span  class=\"hl hlup\" >תִמְהֹ֖ון </span><span  class=\"hlup\" >לֵבָֽב׃ </span></a></span> <i>713224</i> </td><td class=\"tf\"><span class=\"hb\"><span  class=\"hl hlup\" >תִמְהֹ֖ון </span></span> <i>108639</i> </td><td class=\"tf\"><span class=\"hb\"><span  class=\"hl hlup\" >עִוָּרֹ֑ון </span></span> <i>108636</i> </td></tr>\n",
       "<tr class=\"tf\"><td class=\"tf\">22</td><td class=\"tf\"> <a href=\"https://shebanq.ancient-data.org/hebrew/text?book=Reges_I&amp;chapter=7&amp;verse=14&amp;version=c&amp;mr=m&amp;qw=q&amp;tp=txt_p&amp;tr=hb&amp;wget=v&amp;qget=v&amp;nget=vt\" title=\"show this passage in SHEBANQ\" sec=\"1_Kings 7:14\">1_Kings 7:14</a></td><td class=\"tf\"><span class=\"hb\"><a href=\"https://shebanq.ancient-data.org/hebrew/text?book=Reges_I&amp;chapter=7&amp;verse=14&amp;version=c&amp;mr=m&amp;qw=q&amp;tp=txt_p&amp;tr=hb&amp;wget=v&amp;qget=v&amp;nget=vt\" title=\"1_Kings 7:14\" sec=\"1_Kings 7:14\"><span  class=\"hlup\" >אֶת־</span><span  class=\"hlup\" >הַ</span><span  class=\"hl hlup\" >חָכְמָ֤ה </span><span  class=\"hlup\" >וְ</span><span  class=\"hlup\" >אֶת־</span><span  class=\"hlup\" >הַ</span><span  class=\"hlup\" >תְּבוּנָה֙ </span><span  class=\"hlup\" >וְ</span><span  class=\"hlup\" >אֶת־</span><span  class=\"hlup\" >הַ</span><span  class=\"hl hlup\" >דַּ֔עַת </span></a></span> <i>756154</i> </td><td class=\"tf\"><span class=\"hb\"><span  class=\"hl hlup\" >דַּ֔עַת </span></span> <i>181125</i> </td><td class=\"tf\"><span class=\"hb\"><span  class=\"hl hlup\" >חָכְמָ֤ה </span></span> <i>181117</i> </td></tr>\n",
       "<tr class=\"tf\"><td class=\"tf\">23</td><td class=\"tf\"> <a href=\"https://shebanq.ancient-data.org/hebrew/text?book=Nehemia&amp;chapter=12&amp;verse=36&amp;version=c&amp;mr=m&amp;qw=q&amp;tp=txt_p&amp;tr=hb&amp;wget=v&amp;qget=v&amp;nget=vt\" title=\"show this passage in SHEBANQ\" sec=\"Nehemiah 12:36\">Nehemiah 12:36</a></td><td class=\"tf\"><span class=\"hb\"><a href=\"https://shebanq.ancient-data.org/hebrew/text?book=Nehemia&amp;chapter=12&amp;verse=36&amp;version=c&amp;mr=m&amp;qw=q&amp;tp=txt_p&amp;tr=hb&amp;wget=v&amp;qget=v&amp;nget=vt\" title=\"Nehemiah 12:36\" sec=\"Nehemiah 12:36\"><span  class=\"hlup\" >אֶחָ֡יו </span><span  class=\"hlup\" >שְֽׁמַעְיָ֡ה </span><span  class=\"hlup\" >וַ</span><span  class=\"hlup\" >עֲזַרְאֵ֡ל </span><span  class=\"hlup\" >מִֽלֲלַ֡י </span><span  class=\"hlup\" >גִּֽלֲלַ֡י </span><span  class=\"hlup\" >מָעַ֞י </span><span  class=\"hl hlup\" >נְתַנְאֵ֤ל </span><span  class=\"hlup\" >וִֽ</span><span  class=\"hl hlup\" >יהוּדָה֙ </span><span  class=\"hlup\" >חֲנָ֔נִי </span></a></span> <i>886917</i> </td><td class=\"tf\"><span class=\"hb\"><span  class=\"hl hlup\" >נְתַנְאֵ֤ל </span></span> <i>390198</i> </td><td class=\"tf\"><span class=\"hb\"><span  class=\"hl hlup\" >יהוּדָה֙ </span></span> <i>390200</i> </td></tr>\n",
       "<tr class=\"tf\"><td class=\"tf\">24</td><td class=\"tf\"> <a href=\"https://shebanq.ancient-data.org/hebrew/text?book=Chronica_I&amp;chapter=8&amp;verse=26&amp;version=c&amp;mr=m&amp;qw=q&amp;tp=txt_p&amp;tr=hb&amp;wget=v&amp;qget=v&amp;nget=vt\" title=\"show this passage in SHEBANQ\" sec=\"1_Chronicles 8:26\">1_Chronicles 8:26</a></td><td class=\"tf\"><span class=\"hb\"><a href=\"https://shebanq.ancient-data.org/hebrew/text?book=Chronica_I&amp;chapter=8&amp;verse=26&amp;version=c&amp;mr=m&amp;qw=q&amp;tp=txt_p&amp;tr=hb&amp;wget=v&amp;qget=v&amp;nget=vt\" title=\"1_Chronicles 8:26\" sec=\"1_Chronicles 8:26\"><span  class=\"hl hlup\" >שַׁמְשְׁרַ֥י </span><span  class=\"hlup\" >וּ</span><span  class=\"hl hlup\" >שְׁחַרְיָ֖ה </span><span  class=\"hlup\" >וַ</span><span  class=\"hlup\" >עֲתַלְיָֽה׃ </span></a></span> <i>889275</i> </td><td class=\"tf\"><span class=\"hb\"><span  class=\"hl hlup\" >שַׁמְשְׁרַ֥י </span></span> <i>395802</i> </td><td class=\"tf\"><span class=\"hb\"><span  class=\"hl hlup\" >שְׁחַרְיָ֖ה </span></span> <i>395804</i> </td></tr>\n",
       "<tr class=\"tf\"><td class=\"tf\">25</td><td class=\"tf\"> <a href=\"https://shebanq.ancient-data.org/hebrew/text?book=Sacharia&amp;chapter=7&amp;verse=2&amp;version=c&amp;mr=m&amp;qw=q&amp;tp=txt_p&amp;tr=hb&amp;wget=v&amp;qget=v&amp;nget=vt\" title=\"show this passage in SHEBANQ\" sec=\"Zechariah 7:2\">Zechariah 7:2</a></td><td class=\"tf\"><span class=\"hb\"><a href=\"https://shebanq.ancient-data.org/hebrew/text?book=Sacharia&amp;chapter=7&amp;verse=2&amp;version=c&amp;mr=m&amp;qw=q&amp;tp=txt_p&amp;tr=hb&amp;wget=v&amp;qget=v&amp;nget=vt\" title=\"Zechariah 7:2\" sec=\"Zechariah 7:2\"><span  class=\"hl hlup\" >שַׂר־אֶ֕צֶר </span><span  class=\"hlup\" >וְ</span><span  class=\"hl hlup\" >רֶ֥גֶם מֶ֖לֶךְ </span><span  class=\"hlup\" >וַֽ</span><span  class=\"hlup\" >אֲנָשָׁ֑יו </span></a></span> <i>832922</i> </td><td class=\"tf\"><span class=\"hb\"><span  class=\"hl hlup\" >שַׂר־אֶ֕צֶר </span></span> <i>306723</i> </td><td class=\"tf\"><span class=\"hb\"><span  class=\"hl hlup\" >רֶ֥גֶם מֶ֖לֶךְ </span></span> <i>306725</i> </td></tr>\n",
       "<tr class=\"tf\"><td class=\"tf\">26</td><td class=\"tf\"> <a href=\"https://shebanq.ancient-data.org/hebrew/text?book=Chronica_I&amp;chapter=11&amp;verse=44&amp;version=c&amp;mr=m&amp;qw=q&amp;tp=txt_p&amp;tr=hb&amp;wget=v&amp;qget=v&amp;nget=vt\" title=\"show this passage in SHEBANQ\" sec=\"1_Chronicles 11:44\">1_Chronicles 11:44</a></td><td class=\"tf\"><span class=\"hb\"><a href=\"https://shebanq.ancient-data.org/hebrew/text?book=Chronica_I&amp;chapter=11&amp;verse=44&amp;version=c&amp;mr=m&amp;qw=q&amp;tp=txt_p&amp;tr=hb&amp;wget=v&amp;qget=v&amp;nget=vt\" title=\"1_Chronicles 11:44\" sec=\"1_Chronicles 11:44\"><span  class=\"hlup\" >עֻזִיָּ֖א </span><span  class=\"hlup\" >הָ</span><span  class=\"hlup\" >עֲשְׁתְּרָתִ֑י </span><span  class=\"hl hlup\" >שָׁמָע֙ </span><span  class=\"hlup\" >וִֽ</span><span  class=\"hl hlup\" >יעִיאֵ֔ל </span><span  class=\"hlup\" >בְּנֵ֖י </span><span  class=\"hlup\" >חֹותָ֥ם </span><span  class=\"hlup\" >הָ</span><span  class=\"hlup\" >עֲרֹעֵרִֽי׃ ס </span></a></span> <i>890166</i> </td><td class=\"tf\"><span class=\"hb\"><span  class=\"hl hlup\" >שָׁמָע֙ </span></span> <i>397689</i> </td><td class=\"tf\"><span class=\"hb\"><span  class=\"hl hlup\" >יעִיאֵ֔ל </span></span> <i>397691</i> </td></tr>\n",
       "<tr class=\"tf\"><td class=\"tf\">27</td><td class=\"tf\"> <a href=\"https://shebanq.ancient-data.org/hebrew/text?book=Numeri&amp;chapter=6&amp;verse=4&amp;version=c&amp;mr=m&amp;qw=q&amp;tp=txt_p&amp;tr=hb&amp;wget=v&amp;qget=v&amp;nget=vt\" title=\"show this passage in SHEBANQ\" sec=\"Numbers 6:4\">Numbers 6:4</a></td><td class=\"tf\"><span class=\"hb\"><a href=\"https://shebanq.ancient-data.org/hebrew/text?book=Numeri&amp;chapter=6&amp;verse=4&amp;version=c&amp;mr=m&amp;qw=q&amp;tp=txt_p&amp;tr=hb&amp;wget=v&amp;qget=v&amp;nget=vt\" title=\"Numbers 6:4\" sec=\"Numbers 6:4\"><span  class=\"hlup\" >מֵ</span><span  class=\"hl hlup\" >חַרְצַנִּ֛ים </span><span  class=\"hlup\" >וְ</span><span  class=\"hlup\" >עַד־</span><span  class=\"hl hlup\" >זָ֖ג </span></a></span> <i>693937</i> </td><td class=\"tf\"><span class=\"hb\"><span  class=\"hl hlup\" >זָ֖ג </span></span> <i>73464</i> </td><td class=\"tf\"><span class=\"hb\"><span  class=\"hl hlup\" >חַרְצַנִּ֛ים </span></span> <i>73461</i> </td></tr>\n",
       "<tr class=\"tf\"><td class=\"tf\">28</td><td class=\"tf\"> <a href=\"https://shebanq.ancient-data.org/hebrew/text?book=Exodus&amp;chapter=24&amp;verse=13&amp;version=c&amp;mr=m&amp;qw=q&amp;tp=txt_p&amp;tr=hb&amp;wget=v&amp;qget=v&amp;nget=vt\" title=\"show this passage in SHEBANQ\" sec=\"Exodus 24:13\">Exodus 24:13</a></td><td class=\"tf\"><span class=\"hb\"><a href=\"https://shebanq.ancient-data.org/hebrew/text?book=Exodus&amp;chapter=24&amp;verse=13&amp;version=c&amp;mr=m&amp;qw=q&amp;tp=txt_p&amp;tr=hb&amp;wget=v&amp;qget=v&amp;nget=vt\" title=\"Exodus 24:13\" sec=\"Exodus 24:13\"><span  class=\"hl hlup\" >מֹשֶׁ֔ה </span><span  class=\"hlup\" >וִ</span><span  class=\"hl hlup\" >יהֹושֻׁ֖עַ </span><span  class=\"hlup\" >מְשָׁרְתֹ֑ו </span></a></span> <i>677538</i> </td><td class=\"tf\"><span class=\"hb\"><span  class=\"hl hlup\" >מֹשֶׁ֔ה </span></span> <i>41863</i> </td><td class=\"tf\"><span class=\"hb\"><span  class=\"hl hlup\" >יהֹושֻׁ֖עַ </span></span> <i>41865</i> </td></tr>\n",
       "<tr class=\"tf\"><td class=\"tf\">29</td><td class=\"tf\"> <a href=\"https://shebanq.ancient-data.org/hebrew/text?book=Nehemia&amp;chapter=2&amp;verse=16&amp;version=c&amp;mr=m&amp;qw=q&amp;tp=txt_p&amp;tr=hb&amp;wget=v&amp;qget=v&amp;nget=vt\" title=\"show this passage in SHEBANQ\" sec=\"Nehemiah 2:16\">Nehemiah 2:16</a></td><td class=\"tf\"><span class=\"hb\"><a href=\"https://shebanq.ancient-data.org/hebrew/text?book=Nehemia&amp;chapter=2&amp;verse=16&amp;version=c&amp;mr=m&amp;qw=q&amp;tp=txt_p&amp;tr=hb&amp;wget=v&amp;qget=v&amp;nget=vt\" title=\"Nehemiah 2:16\" sec=\"Nehemiah 2:16\"><span  class=\"hlup\" >לַ</span><span  class=\"hlup\" ></span><span  class=\"hlup\" >יְּהוּדִ֨ים </span><span  class=\"hlup\" >וְ</span><span  class=\"hlup\" >לַ</span><span  class=\"hlup\" ></span><span  class=\"hl hlup\" >כֹּהֲנִ֜ים </span><span  class=\"hlup\" >וְ</span><span  class=\"hlup\" >לַ</span><span  class=\"hlup\" ></span><span  class=\"hlup\" >חֹרִ֣ים </span><span  class=\"hlup\" >וְ</span><span  class=\"hlup\" >לַ</span><span  class=\"hlup\" ></span><span  class=\"hl hlup\" >סְּגָנִ֗ים </span><span  class=\"hlup\" >וּ</span><span  class=\"hlup\" >לְ</span><span  class=\"hlup\" >יֶ֨תֶר֙ </span><span  class=\"hlup\" >עֹשֵׂ֣ה </span><span  class=\"hlup\" >הַ</span><span  class=\"hlup\" >מְּלָאכָ֔ה </span></a></span> <i>884093</i> </td><td class=\"tf\"><span class=\"hb\"><span  class=\"hl hlup\" >כֹּהֲנִ֜ים </span></span> <i>384118</i> </td><td class=\"tf\"><span class=\"hb\"><span  class=\"hl hlup\" >סְּגָנִ֗ים </span></span> <i>384126</i> </td></tr>\n",
       "<tr class=\"tf\"><td class=\"tf\">30</td><td class=\"tf\"> <a href=\"https://shebanq.ancient-data.org/hebrew/text?book=Chronica_I&amp;chapter=14&amp;verse=7&amp;version=c&amp;mr=m&amp;qw=q&amp;tp=txt_p&amp;tr=hb&amp;wget=v&amp;qget=v&amp;nget=vt\" title=\"show this passage in SHEBANQ\" sec=\"1_Chronicles 14:7\">1_Chronicles 14:7</a></td><td class=\"tf\"><span class=\"hb\"><a href=\"https://shebanq.ancient-data.org/hebrew/text?book=Chronica_I&amp;chapter=14&amp;verse=7&amp;version=c&amp;mr=m&amp;qw=q&amp;tp=txt_p&amp;tr=hb&amp;wget=v&amp;qget=v&amp;nget=vt\" title=\"1_Chronicles 14:7\" sec=\"1_Chronicles 14:7\"><span  class=\"hlup\" >אֱלִישָׁמָ֥ע </span><span  class=\"hlup\" >וּ</span><span  class=\"hl hlup\" >בְעֶלְיָדָ֖ע </span><span  class=\"hlup\" >וֶ</span><span  class=\"hl hlup\" >אֱלִיפָֽלֶט׃ </span></a></span> <i>890702</i> </td><td class=\"tf\"><span class=\"hb\"><span  class=\"hl hlup\" >בְעֶלְיָדָ֖ע </span></span> <i>398850</i> </td><td class=\"tf\"><span class=\"hb\"><span  class=\"hl hlup\" >אֱלִיפָֽלֶט׃ </span></span> <i>398852</i> </td></tr>\n",
       "<tr class=\"tf\"><td class=\"tf\">31</td><td class=\"tf\"> <a href=\"https://shebanq.ancient-data.org/hebrew/text?book=Jesaia&amp;chapter=30&amp;verse=6&amp;version=c&amp;mr=m&amp;qw=q&amp;tp=txt_p&amp;tr=hb&amp;wget=v&amp;qget=v&amp;nget=vt\" title=\"show this passage in SHEBANQ\" sec=\"Isaiah 30:6\">Isaiah 30:6</a></td><td class=\"tf\"><span class=\"hb\"><a href=\"https://shebanq.ancient-data.org/hebrew/text?book=Jesaia&amp;chapter=30&amp;verse=6&amp;version=c&amp;mr=m&amp;qw=q&amp;tp=txt_p&amp;tr=hb&amp;wget=v&amp;qget=v&amp;nget=vt\" title=\"Isaiah 30:6\" sec=\"Isaiah 30:6\"><span  class=\"hl hlup\" >לָבִ֧יא </span><span  class=\"hlup\" >וָ</span><span  class=\"hl hlup\" >לַ֣יִשׁ </span></a></span> <i>780152</i> </td><td class=\"tf\"><span class=\"hb\"><span  class=\"hl hlup\" >לַ֣יִשׁ </span></span> <i>221891</i> </td><td class=\"tf\"><span class=\"hb\"><span  class=\"hl hlup\" >לָבִ֧יא </span></span> <i>221889</i> </td></tr>\n",
       "<tr class=\"tf\"><td class=\"tf\">32</td><td class=\"tf\"> <a href=\"https://shebanq.ancient-data.org/hebrew/text?book=Reges_I&amp;chapter=4&amp;verse=10&amp;version=c&amp;mr=m&amp;qw=q&amp;tp=txt_p&amp;tr=hb&amp;wget=v&amp;qget=v&amp;nget=vt\" title=\"show this passage in SHEBANQ\" sec=\"1_Kings 4:10\">1_Kings 4:10</a></td><td class=\"tf\"><span class=\"hb\"><a href=\"https://shebanq.ancient-data.org/hebrew/text?book=Reges_I&amp;chapter=4&amp;verse=10&amp;version=c&amp;mr=m&amp;qw=q&amp;tp=txt_p&amp;tr=hb&amp;wget=v&amp;qget=v&amp;nget=vt\" title=\"1_Kings 4:10\" sec=\"1_Kings 4:10\"><span  class=\"hl hlup\" >שֹׂכֹ֖ה </span><span  class=\"hlup\" >וְ</span><span  class=\"hl hlup\" >כָל־</span><span  class=\"hlup\" >אֶ֥רֶץ </span><span  class=\"hlup\" >חֵֽפֶר׃ ס </span></a></span> <i>755273</i> </td><td class=\"tf\"><span class=\"hb\"><span  class=\"hl hlup\" >שֹׂכֹ֖ה </span></span> <i>179200</i> </td><td class=\"tf\"><span class=\"hb\"><span  class=\"hl hlup\" >כָל־</span></span> <i>179202</i> </td></tr>\n",
       "<tr class=\"tf\"><td class=\"tf\">33</td><td class=\"tf\"> <a href=\"https://shebanq.ancient-data.org/hebrew/text?book=Genesis&amp;chapter=22&amp;verse=24&amp;version=c&amp;mr=m&amp;qw=q&amp;tp=txt_p&amp;tr=hb&amp;wget=v&amp;qget=v&amp;nget=vt\" title=\"show this passage in SHEBANQ\" sec=\"Genesis 22:24\">Genesis 22:24</a></td><td class=\"tf\"><span class=\"hb\"><a href=\"https://shebanq.ancient-data.org/hebrew/text?book=Genesis&amp;chapter=22&amp;verse=24&amp;version=c&amp;mr=m&amp;qw=q&amp;tp=txt_p&amp;tr=hb&amp;wget=v&amp;qget=v&amp;nget=vt\" title=\"Genesis 22:24\" sec=\"Genesis 22:24\"><span  class=\"hlup\" >אֶת־</span><span  class=\"hlup\" >טֶ֣בַח </span><span  class=\"hlup\" >וְ</span><span  class=\"hlup\" >אֶת־</span><span  class=\"hl hlup\" >גַּ֔חַם </span><span  class=\"hlup\" >וְ</span><span  class=\"hlup\" >אֶת־</span><span  class=\"hl hlup\" >תַּ֖חַשׁ </span><span  class=\"hlup\" >וְ</span><span  class=\"hlup\" >אֶֽת־</span><span  class=\"hlup\" >מַעֲכָֽה׃ ס </span></a></span> <i>657812</i> </td><td class=\"tf\"><span class=\"hb\"><span  class=\"hl hlup\" >תַּ֖חַשׁ </span></span> <i>10731</i> </td><td class=\"tf\"><span class=\"hb\"><span  class=\"hl hlup\" >גַּ֔חַם </span></span> <i>10728</i> </td></tr>\n",
       "<tr class=\"tf\"><td class=\"tf\">34</td><td class=\"tf\"> <a href=\"https://shebanq.ancient-data.org/hebrew/text?book=Jesaia&amp;chapter=60&amp;verse=13&amp;version=c&amp;mr=m&amp;qw=q&amp;tp=txt_p&amp;tr=hb&amp;wget=v&amp;qget=v&amp;nget=vt\" title=\"show this passage in SHEBANQ\" sec=\"Isaiah 60:13\">Isaiah 60:13</a></td><td class=\"tf\"><span class=\"hb\"><a href=\"https://shebanq.ancient-data.org/hebrew/text?book=Jesaia&amp;chapter=60&amp;verse=13&amp;version=c&amp;mr=m&amp;qw=q&amp;tp=txt_p&amp;tr=hb&amp;wget=v&amp;qget=v&amp;nget=vt\" title=\"Isaiah 60:13\" sec=\"Isaiah 60:13\"><span  class=\"hlup\" >כְּבֹ֤וד </span><span  class=\"hlup\" >הַ</span><span  class=\"hlup\" >לְּבָנֹון֙ </span><span  class=\"hlup\" >בְּרֹ֛ושׁ </span><span  class=\"hl hlup\" >תִּדְהָ֥ר </span><span  class=\"hlup\" >וּ</span><span  class=\"hl hlup\" >תְאַשּׁ֖וּר </span><span  class=\"hlup\" >יַחְדָּ֑ו </span></a></span> <i>787844</i> </td><td class=\"tf\"><span class=\"hb\"><span  class=\"hl hlup\" >תְאַשּׁ֖וּר </span></span> <i>232830</i> </td><td class=\"tf\"><span class=\"hb\"><span  class=\"hl hlup\" >תִּדְהָ֥ר </span></span> <i>232828</i> </td></tr>\n",
       "<tr class=\"tf\"><td class=\"tf\">35</td><td class=\"tf\"> <a href=\"https://shebanq.ancient-data.org/hebrew/text?book=Chronica_I&amp;chapter=5&amp;verse=24&amp;version=c&amp;mr=m&amp;qw=q&amp;tp=txt_p&amp;tr=hb&amp;wget=v&amp;qget=v&amp;nget=vt\" title=\"show this passage in SHEBANQ\" sec=\"1_Chronicles 5:24\">1_Chronicles 5:24</a></td><td class=\"tf\"><span class=\"hb\"><a href=\"https://shebanq.ancient-data.org/hebrew/text?book=Chronica_I&amp;chapter=5&amp;verse=24&amp;version=c&amp;mr=m&amp;qw=q&amp;tp=txt_p&amp;tr=hb&amp;wget=v&amp;qget=v&amp;nget=vt\" title=\"1_Chronicles 5:24\" sec=\"1_Chronicles 5:24\"><span  class=\"hl hlup\" >עֵ֡פֶר </span><span  class=\"hlup\" >וְ</span><span  class=\"hlup\" >יִשְׁעִ֡י </span><span  class=\"hlup\" >וֶ</span><span  class=\"hlup\" >אֱלִיאֵ֡ל </span><span  class=\"hlup\" >וְ֠</span><span  class=\"hl hlup\" >עַזְרִיאֵל </span><span  class=\"hlup\" >וְ</span><span  class=\"hlup\" >יִרְמְיָ֨ה </span><span  class=\"hlup\" >וְ</span><span  class=\"hlup\" >הֹודַוְיָ֜ה </span><span  class=\"hlup\" >וְ</span><span  class=\"hlup\" >יַחְדִּיאֵ֗ל </span></a></span> <i>888576</i> </td><td class=\"tf\"><span class=\"hb\"><span  class=\"hl hlup\" >עַזְרִיאֵל </span></span> <i>393861</i> </td><td class=\"tf\"><span class=\"hb\"><span  class=\"hl hlup\" >עֵ֡פֶר </span></span> <i>393855</i> </td></tr>\n",
       "<tr class=\"tf\"><td class=\"tf\">36</td><td class=\"tf\"> <a href=\"https://shebanq.ancient-data.org/hebrew/text?book=Psalmi&amp;chapter=46&amp;verse=2&amp;version=c&amp;mr=m&amp;qw=q&amp;tp=txt_p&amp;tr=hb&amp;wget=v&amp;qget=v&amp;nget=vt\" title=\"show this passage in SHEBANQ\" sec=\"Psalms 46:2\">Psalms 46:2</a></td><td class=\"tf\"><span class=\"hb\"><a href=\"https://shebanq.ancient-data.org/hebrew/text?book=Psalmi&amp;chapter=46&amp;verse=2&amp;version=c&amp;mr=m&amp;qw=q&amp;tp=txt_p&amp;tr=hb&amp;wget=v&amp;qget=v&amp;nget=vt\" title=\"Psalms 46:2\" sec=\"Psalms 46:2\"><span  class=\"hl hlup\" >מַחֲסֶ֣ה </span><span  class=\"hlup\" >וָ</span><span  class=\"hl hlup\" >עֹ֑ז </span></a></span> <i>840641</i> </td><td class=\"tf\"><span class=\"hb\"><span  class=\"hl hlup\" >מַחֲסֶ֣ה </span></span> <i>318089</i> </td><td class=\"tf\"><span class=\"hb\"><span  class=\"hl hlup\" >עֹ֑ז </span></span> <i>318091</i> </td></tr>\n",
       "<tr class=\"tf\"><td class=\"tf\">37</td><td class=\"tf\"> <a href=\"https://shebanq.ancient-data.org/hebrew/text?book=Genesis&amp;chapter=14&amp;verse=24&amp;version=c&amp;mr=m&amp;qw=q&amp;tp=txt_p&amp;tr=hb&amp;wget=v&amp;qget=v&amp;nget=vt\" title=\"show this passage in SHEBANQ\" sec=\"Genesis 14:24\">Genesis 14:24</a></td><td class=\"tf\"><span class=\"hb\"><a href=\"https://shebanq.ancient-data.org/hebrew/text?book=Genesis&amp;chapter=14&amp;verse=24&amp;version=c&amp;mr=m&amp;qw=q&amp;tp=txt_p&amp;tr=hb&amp;wget=v&amp;qget=v&amp;nget=vt\" title=\"Genesis 14:24\" sec=\"Genesis 14:24\"><span  class=\"hlup\" >חֵ֨לֶק֙ </span><span  class=\"hlup\" >הָֽ</span><span  class=\"hlup\" >אֲנָשִׁ֔ים </span><span  class=\"hlup\" >עָנֵר֙ </span><span  class=\"hl hlup\" >אֶשְׁכֹּ֣ל </span><span  class=\"hlup\" >וּ</span><span  class=\"hl hlup\" >מַמְרֵ֔א </span></a></span> <i>655178</i> </td><td class=\"tf\"><span class=\"hb\"><span  class=\"hl hlup\" >מַמְרֵ֔א </span></span> <i>6666</i> </td><td class=\"tf\"><span class=\"hb\"><span  class=\"hl hlup\" >אֶשְׁכֹּ֣ל </span></span> <i>6664</i> </td></tr>\n",
       "<tr class=\"tf\"><td class=\"tf\">38</td><td class=\"tf\"> <a href=\"https://shebanq.ancient-data.org/hebrew/text?book=Chronica_I&amp;chapter=7&amp;verse=38&amp;version=c&amp;mr=m&amp;qw=q&amp;tp=txt_p&amp;tr=hb&amp;wget=v&amp;qget=v&amp;nget=vt\" title=\"show this passage in SHEBANQ\" sec=\"1_Chronicles 7:38\">1_Chronicles 7:38</a></td><td class=\"tf\"><span class=\"hb\"><a href=\"https://shebanq.ancient-data.org/hebrew/text?book=Chronica_I&amp;chapter=7&amp;verse=38&amp;version=c&amp;mr=m&amp;qw=q&amp;tp=txt_p&amp;tr=hb&amp;wget=v&amp;qget=v&amp;nget=vt\" title=\"1_Chronicles 7:38\" sec=\"1_Chronicles 7:38\"><span  class=\"hlup\" >יְפֻנֶּ֥ה </span><span  class=\"hlup\" >וּ</span><span  class=\"hl hlup\" >פִסְפָּ֖ה </span><span  class=\"hlup\" >וַ</span><span  class=\"hl hlup\" >אְרָֽא׃ </span></a></span> <i>889169</i> </td><td class=\"tf\"><span class=\"hb\"><span  class=\"hl hlup\" >פִסְפָּ֖ה </span></span> <i>395526</i> </td><td class=\"tf\"><span class=\"hb\"><span  class=\"hl hlup\" >אְרָֽא׃ </span></span> <i>395528</i> </td></tr>\n",
       "<tr class=\"tf\"><td class=\"tf\">39</td><td class=\"tf\"> <a href=\"https://shebanq.ancient-data.org/hebrew/text?book=Chronica_I&amp;chapter=11&amp;verse=46&amp;version=c&amp;mr=m&amp;qw=q&amp;tp=txt_p&amp;tr=hb&amp;wget=v&amp;qget=v&amp;nget=vt\" title=\"show this passage in SHEBANQ\" sec=\"1_Chronicles 11:46\">1_Chronicles 11:46</a></td><td class=\"tf\"><span class=\"hb\"><a href=\"https://shebanq.ancient-data.org/hebrew/text?book=Chronica_I&amp;chapter=11&amp;verse=46&amp;version=c&amp;mr=m&amp;qw=q&amp;tp=txt_p&amp;tr=hb&amp;wget=v&amp;qget=v&amp;nget=vt\" title=\"1_Chronicles 11:46\" sec=\"1_Chronicles 11:46\"><span  class=\"hlup\" >אֱלִיאֵל֙ </span><span  class=\"hlup\" >הַֽ</span><span  class=\"hlup\" >מַּחֲוִ֔ים </span><span  class=\"hlup\" >וִ</span><span  class=\"hl hlup\" >ירִיבַ֥י </span><span  class=\"hlup\" >וְ</span><span  class=\"hl hlup\" >יֹושַׁוְיָ֖ה </span><span  class=\"hlup\" >בְּנֵ֣י </span><span  class=\"hlup\" >אֶלְנָ֑עַם </span><span  class=\"hlup\" >וְ</span><span  class=\"hlup\" >יִתְמָ֖ה </span><span  class=\"hlup\" >הַ</span><span  class=\"hlup\" >מֹּואָבִֽי׃ </span></a></span> <i>890168</i> </td><td class=\"tf\"><span class=\"hb\"><span  class=\"hl hlup\" >ירִיבַ֥י </span></span> <i>397708</i> </td><td class=\"tf\"><span class=\"hb\"><span  class=\"hl hlup\" >יֹושַׁוְיָ֖ה </span></span> <i>397710</i> </td></tr>\n",
       "<tr class=\"tf\"><td class=\"tf\">40</td><td class=\"tf\"> <a href=\"https://shebanq.ancient-data.org/hebrew/text?book=Josua&amp;chapter=23&amp;verse=13&amp;version=c&amp;mr=m&amp;qw=q&amp;tp=txt_p&amp;tr=hb&amp;wget=v&amp;qget=v&amp;nget=vt\" title=\"show this passage in SHEBANQ\" sec=\"Joshua 23:13\">Joshua 23:13</a></td><td class=\"tf\"><span class=\"hb\"><a href=\"https://shebanq.ancient-data.org/hebrew/text?book=Josua&amp;chapter=23&amp;verse=13&amp;version=c&amp;mr=m&amp;qw=q&amp;tp=txt_p&amp;tr=hb&amp;wget=v&amp;qget=v&amp;nget=vt\" title=\"Joshua 23:13\" sec=\"Joshua 23:13\"><span  class=\"hlup\" >לְ</span><span  class=\"hlup\" >פַ֣ח </span><span  class=\"hlup\" >וּ</span><span  class=\"hlup\" >לְ</span><span  class=\"hl hlup\" >מֹוקֵ֗שׁ </span><span  class=\"hlup\" >וּ</span><span  class=\"hlup\" >לְ</span><span  class=\"hl hlup\" >שֹׁטֵ֤ט </span><span  class=\"hlup\" >בְּ</span><span  class=\"hlup\" >צִדֵּיכֶם֙ </span><span  class=\"hlup\" >וְ</span><span  class=\"hlup\" >לִ</span><span  class=\"hlup\" >צְנִנִ֣ים </span><span  class=\"hlup\" >בְּ</span><span  class=\"hlup\" >עֵינֵיכֶ֔ם </span></a></span> <i>722361</i> </td><td class=\"tf\"><span class=\"hb\"><span  class=\"hl hlup\" >שֹׁטֵ֤ט </span></span> <i>126488</i> </td><td class=\"tf\"><span class=\"hb\"><span  class=\"hl hlup\" >מֹוקֵ֗שׁ </span></span> <i>126485</i> </td></tr>\n",
       "<tr class=\"tf\"><td class=\"tf\">41</td><td class=\"tf\"> <a href=\"https://shebanq.ancient-data.org/hebrew/text?book=Esther&amp;chapter=1&amp;verse=10&amp;version=c&amp;mr=m&amp;qw=q&amp;tp=txt_p&amp;tr=hb&amp;wget=v&amp;qget=v&amp;nget=vt\" title=\"show this passage in SHEBANQ\" sec=\"Esther 1:10\">Esther 1:10</a></td><td class=\"tf\"><span class=\"hb\"><a href=\"https://shebanq.ancient-data.org/hebrew/text?book=Esther&amp;chapter=1&amp;verse=10&amp;version=c&amp;mr=m&amp;qw=q&amp;tp=txt_p&amp;tr=hb&amp;wget=v&amp;qget=v&amp;nget=vt\" title=\"Esther 1:10\" sec=\"Esther 1:10\"><span  class=\"hlup\" >לִ֠</span><span  class=\"hlup\" >מְהוּמָן </span><span  class=\"hlup\" >בִּזְּתָ֨א </span><span  class=\"hlup\" >חַרְבֹונָ֜א </span><span  class=\"hl hlup\" >בִּגְתָ֤א </span><span  class=\"hlup\" >וַ</span><span  class=\"hl hlup\" >אֲבַגְתָא֙ </span><span  class=\"hlup\" >זֵתַ֣ר </span><span  class=\"hlup\" >וְ</span><span  class=\"hlup\" >כַרְכַּ֔ס </span><span  class=\"hlup\" >שִׁבְעַת֙ </span><span  class=\"hlup\" >הַ</span><span  class=\"hlup\" >סָּ֣רִיסִ֔ים </span></a></span> <i>874004</i> </td><td class=\"tf\"><span class=\"hb\"><span  class=\"hl hlup\" >בִּגְתָ֤א </span></span> <i>365672</i> </td><td class=\"tf\"><span class=\"hb\"><span  class=\"hl hlup\" >אֲבַגְתָא֙ </span></span> <i>365674</i> </td></tr>\n",
       "<tr class=\"tf\"><td class=\"tf\">42</td><td class=\"tf\"> <a href=\"https://shebanq.ancient-data.org/hebrew/text?book=Nehemia&amp;chapter=11&amp;verse=26&amp;version=c&amp;mr=m&amp;qw=q&amp;tp=txt_p&amp;tr=hb&amp;wget=v&amp;qget=v&amp;nget=vt\" title=\"show this passage in SHEBANQ\" sec=\"Nehemiah 11:26\">Nehemiah 11:26</a></td><td class=\"tf\"><span class=\"hb\"><a href=\"https://shebanq.ancient-data.org/hebrew/text?book=Nehemia&amp;chapter=11&amp;verse=26&amp;version=c&amp;mr=m&amp;qw=q&amp;tp=txt_p&amp;tr=hb&amp;wget=v&amp;qget=v&amp;nget=vt\" title=\"Nehemiah 11:26\" sec=\"Nehemiah 11:26\"><span  class=\"hlup\" >בְ</span><span  class=\"hl hlup\" >יֵשׁ֥וּעַ </span><span  class=\"hlup\" >וּ</span><span  class=\"hlup\" >בְ</span><span  class=\"hl hlup\" >מֹולָדָ֖ה </span><span  class=\"hlup\" >וּ</span><span  class=\"hlup\" >בְ</span><span  class=\"hlup\" >בֵ֥ית פָּֽלֶט׃ </span></a></span> <i>886715</i> </td><td class=\"tf\"><span class=\"hb\"><span  class=\"hl hlup\" >מֹולָדָ֖ה </span></span> <i>389687</i> </td><td class=\"tf\"><span class=\"hb\"><span  class=\"hl hlup\" >יֵשׁ֥וּעַ </span></span> <i>389684</i> </td></tr>\n",
       "<tr class=\"tf\"><td class=\"tf\">43</td><td class=\"tf\"> <a href=\"https://shebanq.ancient-data.org/hebrew/text?book=Ezechiel&amp;chapter=5&amp;verse=15&amp;version=c&amp;mr=m&amp;qw=q&amp;tp=txt_p&amp;tr=hb&amp;wget=v&amp;qget=v&amp;nget=vt\" title=\"show this passage in SHEBANQ\" sec=\"Ezekiel 5:15\">Ezekiel 5:15</a></td><td class=\"tf\"><span class=\"hb\"><a href=\"https://shebanq.ancient-data.org/hebrew/text?book=Ezechiel&amp;chapter=5&amp;verse=15&amp;version=c&amp;mr=m&amp;qw=q&amp;tp=txt_p&amp;tr=hb&amp;wget=v&amp;qget=v&amp;nget=vt\" title=\"Ezekiel 5:15\" sec=\"Ezekiel 5:15\"><span  class=\"hl hlup\" >חֶרְפָּ֤ה </span><span  class=\"hlup\" >וּ</span><span  class=\"hl hlup\" >גְדוּפָה֙ </span><span  class=\"hlup\" >מוּסָ֣ר </span><span  class=\"hlup\" >וּ</span><span  class=\"hlup\" >מְשַׁמָּ֔ה </span></a></span> <i>808023</i> </td><td class=\"tf\"><span class=\"hb\"><span  class=\"hl hlup\" >גְדוּפָה֙ </span></span> <i>266753</i> </td><td class=\"tf\"><span class=\"hb\"><span  class=\"hl hlup\" >חֶרְפָּ֤ה </span></span> <i>266751</i> </td></tr>\n",
       "<tr class=\"tf\"><td class=\"tf\">44</td><td class=\"tf\"> <a href=\"https://shebanq.ancient-data.org/hebrew/text?book=Reges_II&amp;chapter=24&amp;verse=14&amp;version=c&amp;mr=m&amp;qw=q&amp;tp=txt_p&amp;tr=hb&amp;wget=v&amp;qget=v&amp;nget=vt\" title=\"show this passage in SHEBANQ\" sec=\"2_Kings 24:14\">2_Kings 24:14</a></td><td class=\"tf\"><span class=\"hb\"><a href=\"https://shebanq.ancient-data.org/hebrew/text?book=Reges_II&amp;chapter=24&amp;verse=14&amp;version=c&amp;mr=m&amp;qw=q&amp;tp=txt_p&amp;tr=hb&amp;wget=v&amp;qget=v&amp;nget=vt\" title=\"2_Kings 24:14\" sec=\"2_Kings 24:14\"><span  class=\"hlup\" >אֶת־</span><span  class=\"hlup\" >כָּל־</span><span  class=\"hlup\" >יְ֠רוּשָׁלִַם </span><span  class=\"hlup\" >וְֽ</span><span  class=\"hlup\" >אֶת־</span><span  class=\"hlup\" >כָּל־</span><span  class=\"hlup\" >הַ</span><span  class=\"hlup\" >שָּׂרִ֞ים </span><span  class=\"hlup\" >וְ</span><span  class=\"hlup\" >אֵ֣ת׀ </span><span  class=\"hlup\" >כָּל־</span><span  class=\"hlup\" >גִּבֹּורֵ֣י </span><span  class=\"hlup\" >הַ</span><span  class=\"hlup\" >חַ֗יִל </span><span  class=\"hlup\" >וְ</span><span  class=\"hlup\" >כָל־</span><span  class=\"hlup\" >הֶ</span><span  class=\"hl hlup\" >חָרָ֖שׁ </span><span  class=\"hlup\" >וְ</span><span  class=\"hlup\" >הַ</span><span  class=\"hl hlup\" >מַּסְגֵּ֑ר </span></a></span> <i>773709</i> </td><td class=\"tf\"><span class=\"hb\"><span  class=\"hl hlup\" >מַּסְגֵּ֑ר </span></span> <i>211187</i> </td><td class=\"tf\"><span class=\"hb\"><span  class=\"hl hlup\" >חָרָ֖שׁ </span></span> <i>211184</i> </td></tr>\n",
       "<tr class=\"tf\"><td class=\"tf\">45</td><td class=\"tf\"> <a href=\"https://shebanq.ancient-data.org/hebrew/text?book=Numeri&amp;chapter=31&amp;verse=50&amp;version=c&amp;mr=m&amp;qw=q&amp;tp=txt_p&amp;tr=hb&amp;wget=v&amp;qget=v&amp;nget=vt\" title=\"show this passage in SHEBANQ\" sec=\"Numbers 31:50\">Numbers 31:50</a></td><td class=\"tf\"><span class=\"hb\"><a href=\"https://shebanq.ancient-data.org/hebrew/text?book=Numeri&amp;chapter=31&amp;verse=50&amp;version=c&amp;mr=m&amp;qw=q&amp;tp=txt_p&amp;tr=hb&amp;wget=v&amp;qget=v&amp;nget=vt\" title=\"Numbers 31:50\" sec=\"Numbers 31:50\"><span  class=\"hlup\" >כְלִֽי־</span><span  class=\"hlup\" >זָהָב֙ </span><span  class=\"hlup\" >אֶצְעָדָ֣ה </span><span  class=\"hlup\" >וְ</span><span  class=\"hlup\" >צָמִ֔יד </span><span  class=\"hlup\" >טַבַּ֖עַת </span><span  class=\"hl hlup\" >עָגִ֣יל </span><span  class=\"hlup\" >וְ</span><span  class=\"hl hlup\" >כוּמָ֑ז </span></a></span> <i>702573</i> </td><td class=\"tf\"><span class=\"hb\"><span  class=\"hl hlup\" >עָגִ֣יל </span></span> <i>89795</i> </td><td class=\"tf\"><span class=\"hb\"><span  class=\"hl hlup\" >כוּמָ֑ז </span></span> <i>89797</i> </td></tr>\n",
       "<tr class=\"tf\"><td class=\"tf\">46</td><td class=\"tf\"> <a href=\"https://shebanq.ancient-data.org/hebrew/text?book=Esra&amp;chapter=10&amp;verse=39&amp;version=c&amp;mr=m&amp;qw=q&amp;tp=txt_p&amp;tr=hb&amp;wget=v&amp;qget=v&amp;nget=vt\" title=\"show this passage in SHEBANQ\" sec=\"Ezra 10:39\">Ezra 10:39</a></td><td class=\"tf\"><span class=\"hb\"><a href=\"https://shebanq.ancient-data.org/hebrew/text?book=Esra&amp;chapter=10&amp;verse=39&amp;version=c&amp;mr=m&amp;qw=q&amp;tp=txt_p&amp;tr=hb&amp;wget=v&amp;qget=v&amp;nget=vt\" title=\"Ezra 10:39\" sec=\"Ezra 10:39\"><span  class=\"hl hlup\" >שֶֽׁלֶמְיָ֥ה </span><span  class=\"hlup\" >וְ</span><span  class=\"hl hlup\" >נָתָ֖ן </span><span  class=\"hlup\" >וַ</span><span  class=\"hlup\" >עֲדָיָֽה׃ </span></a></span> <i>883664</i> </td><td class=\"tf\"><span class=\"hb\"><span  class=\"hl hlup\" >נָתָ֖ן </span></span> <i>383379</i> </td><td class=\"tf\"><span class=\"hb\"><span  class=\"hl hlup\" >שֶֽׁלֶמְיָ֥ה </span></span> <i>383377</i> </td></tr>\n",
       "<tr class=\"tf\"><td class=\"tf\">47</td><td class=\"tf\"> <a href=\"https://shebanq.ancient-data.org/hebrew/text?book=Jeremia&amp;chapter=10&amp;verse=11&amp;version=c&amp;mr=m&amp;qw=q&amp;tp=txt_p&amp;tr=hb&amp;wget=v&amp;qget=v&amp;nget=vt\" title=\"show this passage in SHEBANQ\" sec=\"Jeremiah 10:11\">Jeremiah 10:11</a></td><td class=\"tf\"><span class=\"hb\"><a href=\"https://shebanq.ancient-data.org/hebrew/text?book=Jeremia&amp;chapter=10&amp;verse=11&amp;version=c&amp;mr=m&amp;qw=q&amp;tp=txt_p&amp;tr=hb&amp;wget=v&amp;qget=v&amp;nget=vt\" title=\"Jeremiah 10:11\" sec=\"Jeremiah 10:11\"><span  class=\"hl hlup\" >שְׁמַיָּ֥א </span><span  class=\"hlup\" >וְ</span><span  class=\"hl hlup\" >אַרְקָ֖א </span></a></span> <i>792678</i> </td><td class=\"tf\"><span class=\"hb\"><span  class=\"hl hlup\" >שְׁמַיָּ֥א </span></span> <i>240079</i> </td><td class=\"tf\"><span class=\"hb\"><span  class=\"hl hlup\" >אַרְקָ֖א </span></span> <i>240081</i> </td></tr>\n",
       "<tr class=\"tf\"><td class=\"tf\">48</td><td class=\"tf\"> <a href=\"https://shebanq.ancient-data.org/hebrew/text?book=Daniel&amp;chapter=9&amp;verse=16&amp;version=c&amp;mr=m&amp;qw=q&amp;tp=txt_p&amp;tr=hb&amp;wget=v&amp;qget=v&amp;nget=vt\" title=\"show this passage in SHEBANQ\" sec=\"Daniel 9:16\">Daniel 9:16</a></td><td class=\"tf\"><span class=\"hb\"><a href=\"https://shebanq.ancient-data.org/hebrew/text?book=Daniel&amp;chapter=9&amp;verse=16&amp;version=c&amp;mr=m&amp;qw=q&amp;tp=txt_p&amp;tr=hb&amp;wget=v&amp;qget=v&amp;nget=vt\" title=\"Daniel 9:16\" sec=\"Daniel 9:16\"><span  class=\"hlup\" >בַ</span><span  class=\"hl hlup\" >חֲטָאֵ֨ינוּ֙ </span><span  class=\"hlup\" >וּ</span><span  class=\"hlup\" >בַ</span><span  class=\"hl hlup\" >עֲוֹנֹ֣ות </span><span  class=\"hlup\" >אֲבֹתֵ֔ינוּ </span></a></span> <i>880030</i> </td><td class=\"tf\"><span class=\"hb\"><span  class=\"hl hlup\" >חֲטָאֵ֨ינוּ֙ </span></span> <i>376132</i> </td><td class=\"tf\"><span class=\"hb\"><span  class=\"hl hlup\" >עֲוֹנֹ֣ות </span></span> <i>376135</i> </td></tr>\n",
       "<tr class=\"tf\"><td class=\"tf\">49</td><td class=\"tf\"> <a href=\"https://shebanq.ancient-data.org/hebrew/text?book=Judices&amp;chapter=9&amp;verse=11&amp;version=c&amp;mr=m&amp;qw=q&amp;tp=txt_p&amp;tr=hb&amp;wget=v&amp;qget=v&amp;nget=vt\" title=\"show this passage in SHEBANQ\" sec=\"Judges 9:11\">Judges 9:11</a></td><td class=\"tf\"><span class=\"hb\"><a href=\"https://shebanq.ancient-data.org/hebrew/text?book=Judices&amp;chapter=9&amp;verse=11&amp;version=c&amp;mr=m&amp;qw=q&amp;tp=txt_p&amp;tr=hb&amp;wget=v&amp;qget=v&amp;nget=vt\" title=\"Judges 9:11\" sec=\"Judges 9:11\"><span  class=\"hlup\" >אֶת־</span><span  class=\"hl hlup\" >מָתְקִ֔י </span><span  class=\"hlup\" >וְ</span><span  class=\"hlup\" >אֶת־</span><span  class=\"hl hlup\" >תְּנוּבָתִ֖י </span><span  class=\"hlup\" >הַ</span><span  class=\"hlup\" >טֹּובָ֑ה </span></a></span> <i>726304</i> </td><td class=\"tf\"><span class=\"hb\"><span  class=\"hl hlup\" >תְּנוּבָתִ֖י </span></span> <i>133100</i> </td><td class=\"tf\"><span class=\"hb\"><span  class=\"hl hlup\" >מָתְקִ֔י </span></span> <i>133097</i> </td></tr>\n",
       "<tr class=\"tf\"><td class=\"tf\">50</td><td class=\"tf\"> <a href=\"https://shebanq.ancient-data.org/hebrew/text?book=Ezechiel&amp;chapter=12&amp;verse=18&amp;version=c&amp;mr=m&amp;qw=q&amp;tp=txt_p&amp;tr=hb&amp;wget=v&amp;qget=v&amp;nget=vt\" title=\"show this passage in SHEBANQ\" sec=\"Ezekiel 12:18\">Ezekiel 12:18</a></td><td class=\"tf\"><span class=\"hb\"><a href=\"https://shebanq.ancient-data.org/hebrew/text?book=Ezechiel&amp;chapter=12&amp;verse=18&amp;version=c&amp;mr=m&amp;qw=q&amp;tp=txt_p&amp;tr=hb&amp;wget=v&amp;qget=v&amp;nget=vt\" title=\"Ezekiel 12:18\" sec=\"Ezekiel 12:18\"><span  class=\"hlup\" >בְּ</span><span  class=\"hl hlup\" >רָגְזָ֥ה </span><span  class=\"hlup\" >וּ</span><span  class=\"hlup\" >בִ</span><span  class=\"hl hlup\" >דְאָגָ֖ה </span></a></span> <i>809852</i> </td><td class=\"tf\"><span class=\"hb\"><span  class=\"hl hlup\" >רָגְזָ֥ה </span></span> <i>269670</i> </td><td class=\"tf\"><span class=\"hb\"><span  class=\"hl hlup\" >דְאָגָ֖ה </span></span> <i>269673</i> </td></tr>\n",
       "<tr class=\"tf\"><td class=\"tf\">51</td><td class=\"tf\"> <a href=\"https://shebanq.ancient-data.org/hebrew/text?book=Iob&amp;chapter=30&amp;verse=3&amp;version=c&amp;mr=m&amp;qw=q&amp;tp=txt_p&amp;tr=hb&amp;wget=v&amp;qget=v&amp;nget=vt\" title=\"show this passage in SHEBANQ\" sec=\"Job 30:3\">Job 30:3</a></td><td class=\"tf\"><span class=\"hb\"><a href=\"https://shebanq.ancient-data.org/hebrew/text?book=Iob&amp;chapter=30&amp;verse=3&amp;version=c&amp;mr=m&amp;qw=q&amp;tp=txt_p&amp;tr=hb&amp;wget=v&amp;qget=v&amp;nget=vt\" title=\"Job 30:3\" sec=\"Job 30:3\"><span  class=\"hlup\" >בְּ</span><span  class=\"hl hlup\" >חֶ֥סֶר </span><span  class=\"hlup\" >וּ</span><span  class=\"hlup\" >בְ</span><span  class=\"hl hlup\" >כָפָ֗ן </span></a></span> <i>858522</i> </td><td class=\"tf\"><span class=\"hb\"><span  class=\"hl hlup\" >חֶ֥סֶר </span></span> <i>343128</i> </td><td class=\"tf\"><span class=\"hb\"><span  class=\"hl hlup\" >כָפָ֗ן </span></span> <i>343131</i> </td></tr>\n",
       "<tr class=\"tf\"><td class=\"tf\">52</td><td class=\"tf\"> <a href=\"https://shebanq.ancient-data.org/hebrew/text?book=Judices&amp;chapter=18&amp;verse=4&amp;version=c&amp;mr=m&amp;qw=q&amp;tp=txt_p&amp;tr=hb&amp;wget=v&amp;qget=v&amp;nget=vt\" title=\"show this passage in SHEBANQ\" sec=\"Judges 18:4\">Judges 18:4</a></td><td class=\"tf\"><span class=\"hb\"><a href=\"https://shebanq.ancient-data.org/hebrew/text?book=Judices&amp;chapter=18&amp;verse=4&amp;version=c&amp;mr=m&amp;qw=q&amp;tp=txt_p&amp;tr=hb&amp;wget=v&amp;qget=v&amp;nget=vt\" title=\"Judges 18:4\" sec=\"Judges 18:4\"><span  class=\"hlup\" >כָּ</span><span  class=\"hl hlup\" >זֹ֣ה </span><span  class=\"hlup\" >וְ</span><span  class=\"hlup\" >כָ</span><span  class=\"hl hlup\" >זֶ֔ה </span></a></span> <i>729750</i> </td><td class=\"tf\"><span class=\"hb\"><span  class=\"hl hlup\" >זֹ֣ה </span></span> <i>138409</i> </td><td class=\"tf\"><span class=\"hb\"><span  class=\"hl hlup\" >זֶ֔ה </span></span> <i>138412</i> </td></tr>\n",
       "<tr class=\"tf\"><td class=\"tf\">53</td><td class=\"tf\"> <a href=\"https://shebanq.ancient-data.org/hebrew/text?book=Leviticus&amp;chapter=11&amp;verse=30&amp;version=c&amp;mr=m&amp;qw=q&amp;tp=txt_p&amp;tr=hb&amp;wget=v&amp;qget=v&amp;nget=vt\" title=\"show this passage in SHEBANQ\" sec=\"Leviticus 11:30\">Leviticus 11:30</a></td><td class=\"tf\"><span class=\"hb\"><a href=\"https://shebanq.ancient-data.org/hebrew/text?book=Leviticus&amp;chapter=11&amp;verse=30&amp;version=c&amp;mr=m&amp;qw=q&amp;tp=txt_p&amp;tr=hb&amp;wget=v&amp;qget=v&amp;nget=vt\" title=\"Leviticus 11:30\" sec=\"Leviticus 11:30\"><span  class=\"hlup\" >הָ</span><span  class=\"hlup\" >אֲנָקָ֥ה </span><span  class=\"hlup\" >וְ</span><span  class=\"hlup\" >הַ</span><span  class=\"hl hlup\" >כֹּ֖חַ </span><span  class=\"hlup\" >וְ</span><span  class=\"hlup\" >הַ</span><span  class=\"hl hlup\" >לְּטָאָ֑ה </span><span  class=\"hlup\" >וְ</span><span  class=\"hlup\" >הַ</span><span  class=\"hlup\" >חֹ֖מֶט </span><span  class=\"hlup\" >וְ</span><span  class=\"hlup\" >הַ</span><span  class=\"hlup\" >תִּנְשָֽׁמֶת׃ </span></a></span> <i>685821</i> </td><td class=\"tf\"><span class=\"hb\"><span  class=\"hl hlup\" >כֹּ֖חַ </span></span> <i>58353</i> </td><td class=\"tf\"><span class=\"hb\"><span  class=\"hl hlup\" >לְּטָאָ֑ה </span></span> <i>58356</i> </td></tr>\n",
       "<tr class=\"tf\"><td class=\"tf\">54</td><td class=\"tf\"> <a href=\"https://shebanq.ancient-data.org/hebrew/text?book=Ecclesiastes&amp;chapter=4&amp;verse=13&amp;version=c&amp;mr=m&amp;qw=q&amp;tp=txt_p&amp;tr=hb&amp;wget=v&amp;qget=v&amp;nget=vt\" title=\"show this passage in SHEBANQ\" sec=\"Ecclesiastes 4:13\">Ecclesiastes 4:13</a></td><td class=\"tf\"><span class=\"hb\"><a href=\"https://shebanq.ancient-data.org/hebrew/text?book=Ecclesiastes&amp;chapter=4&amp;verse=13&amp;version=c&amp;mr=m&amp;qw=q&amp;tp=txt_p&amp;tr=hb&amp;wget=v&amp;qget=v&amp;nget=vt\" title=\"Ecclesiastes 4:13\" sec=\"Ecclesiastes 4:13\"><span  class=\"hlup\" >יֶ֥לֶד </span><span  class=\"hl hlup\" >מִסְכֵּ֖ן </span><span  class=\"hlup\" >וְ</span><span  class=\"hl hlup\" >חָכָ֑ם </span></a></span> <i>870832</i> </td><td class=\"tf\"><span class=\"hb\"><span  class=\"hl hlup\" >מִסְכֵּ֖ן </span></span> <i>360775</i> </td><td class=\"tf\"><span class=\"hb\"><span  class=\"hl hlup\" >חָכָ֑ם </span></span> <i>360777</i> </td></tr>\n",
       "<tr class=\"tf\"><td class=\"tf\">55</td><td class=\"tf\"> <a href=\"https://shebanq.ancient-data.org/hebrew/text?book=Jesaia&amp;chapter=36&amp;verse=11&amp;version=c&amp;mr=m&amp;qw=q&amp;tp=txt_p&amp;tr=hb&amp;wget=v&amp;qget=v&amp;nget=vt\" title=\"show this passage in SHEBANQ\" sec=\"Isaiah 36:11\">Isaiah 36:11</a></td><td class=\"tf\"><span class=\"hb\"><a href=\"https://shebanq.ancient-data.org/hebrew/text?book=Jesaia&amp;chapter=36&amp;verse=11&amp;version=c&amp;mr=m&amp;qw=q&amp;tp=txt_p&amp;tr=hb&amp;wget=v&amp;qget=v&amp;nget=vt\" title=\"Isaiah 36:11\" sec=\"Isaiah 36:11\"><span  class=\"hl hlup\" >אֶלְיָקִים֩ </span><span  class=\"hlup\" >וְ</span><span  class=\"hlup\" >שֶׁבְנָ֨א </span><span  class=\"hlup\" >וְ</span><span  class=\"hl hlup\" >יֹואָ֜ח </span></a></span> <i>781489</i> </td><td class=\"tf\"><span class=\"hb\"><span  class=\"hl hlup\" >יֹואָ֜ח </span></span> <i>223984</i> </td><td class=\"tf\"><span class=\"hb\"><span  class=\"hl hlup\" >אֶלְיָקִים֩ </span></span> <i>223980</i> </td></tr>\n",
       "<tr class=\"tf\"><td class=\"tf\">56</td><td class=\"tf\"> <a href=\"https://shebanq.ancient-data.org/hebrew/text?book=Chronica_I&amp;chapter=9&amp;verse=39&amp;version=c&amp;mr=m&amp;qw=q&amp;tp=txt_p&amp;tr=hb&amp;wget=v&amp;qget=v&amp;nget=vt\" title=\"show this passage in SHEBANQ\" sec=\"1_Chronicles 9:39\">1_Chronicles 9:39</a></td><td class=\"tf\"><span class=\"hb\"><a href=\"https://shebanq.ancient-data.org/hebrew/text?book=Chronica_I&amp;chapter=9&amp;verse=39&amp;version=c&amp;mr=m&amp;qw=q&amp;tp=txt_p&amp;tr=hb&amp;wget=v&amp;qget=v&amp;nget=vt\" title=\"1_Chronicles 9:39\" sec=\"1_Chronicles 9:39\"><span  class=\"hlup\" >אֶת־</span><span  class=\"hl hlup\" >יְהֹֽונָתָן֙ </span><span  class=\"hlup\" >וְ</span><span  class=\"hlup\" >אֶת־</span><span  class=\"hlup\" >מַלְכִּי־שׁ֔וּעַ </span><span  class=\"hlup\" >וְ</span><span  class=\"hlup\" >אֶת־</span><span  class=\"hlup\" >אֲבִינָדָ֖ב </span><span  class=\"hlup\" >וְ</span><span  class=\"hlup\" >אֶת־</span><span  class=\"hl hlup\" >אֶשְׁבָּֽעַל׃ </span></a></span> <i>889595</i> </td><td class=\"tf\"><span class=\"hb\"><span  class=\"hl hlup\" >אֶשְׁבָּֽעַל׃ </span></span> <i>396634</i> </td><td class=\"tf\"><span class=\"hb\"><span  class=\"hl hlup\" >יְהֹֽונָתָן֙ </span></span> <i>396625</i> </td></tr>\n",
       "<tr class=\"tf\"><td class=\"tf\">57</td><td class=\"tf\"> <a href=\"https://shebanq.ancient-data.org/hebrew/text?book=Esra&amp;chapter=1&amp;verse=4&amp;version=c&amp;mr=m&amp;qw=q&amp;tp=txt_p&amp;tr=hb&amp;wget=v&amp;qget=v&amp;nget=vt\" title=\"show this passage in SHEBANQ\" sec=\"Ezra 1:4\">Ezra 1:4</a></td><td class=\"tf\"><span class=\"hb\"><a href=\"https://shebanq.ancient-data.org/hebrew/text?book=Esra&amp;chapter=1&amp;verse=4&amp;version=c&amp;mr=m&amp;qw=q&amp;tp=txt_p&amp;tr=hb&amp;wget=v&amp;qget=v&amp;nget=vt\" title=\"Ezra 1:4\" sec=\"Ezra 1:4\"><span  class=\"hlup\" >בְּ</span><span  class=\"hlup\" >כֶ֥סֶף </span><span  class=\"hlup\" >וּ</span><span  class=\"hlup\" >בְ</span><span  class=\"hl hlup\" >זָהָ֖ב </span><span  class=\"hlup\" >וּ</span><span  class=\"hlup\" >בִ</span><span  class=\"hlup\" >רְכ֣וּשׁ </span><span  class=\"hlup\" >וּ</span><span  class=\"hlup\" >בִ</span><span  class=\"hl hlup\" >בְהֵמָ֑ה </span></a></span> <i>881355</i> </td><td class=\"tf\"><span class=\"hb\"><span  class=\"hl hlup\" >זָהָ֖ב </span></span> <i>378256</i> </td><td class=\"tf\"><span class=\"hb\"><span  class=\"hl hlup\" >בְהֵמָ֑ה </span></span> <i>378262</i> </td></tr>\n",
       "<tr class=\"tf\"><td class=\"tf\">58</td><td class=\"tf\"> <a href=\"https://shebanq.ancient-data.org/hebrew/text?book=Daniel&amp;chapter=9&amp;verse=16&amp;version=c&amp;mr=m&amp;qw=q&amp;tp=txt_p&amp;tr=hb&amp;wget=v&amp;qget=v&amp;nget=vt\" title=\"show this passage in SHEBANQ\" sec=\"Daniel 9:16\">Daniel 9:16</a></td><td class=\"tf\"><span class=\"hb\"><a href=\"https://shebanq.ancient-data.org/hebrew/text?book=Daniel&amp;chapter=9&amp;verse=16&amp;version=c&amp;mr=m&amp;qw=q&amp;tp=txt_p&amp;tr=hb&amp;wget=v&amp;qget=v&amp;nget=vt\" title=\"Daniel 9:16\" sec=\"Daniel 9:16\"><span  class=\"hlup\" >בַ</span><span  class=\"hl hlup\" >חֲטָאֵ֨ינוּ֙ </span><span  class=\"hlup\" >וּ</span><span  class=\"hlup\" >בַ</span><span  class=\"hl hlup\" >עֲוֹנֹ֣ות </span><span  class=\"hlup\" >אֲבֹתֵ֔ינוּ </span></a></span> <i>880030</i> </td><td class=\"tf\"><span class=\"hb\"><span  class=\"hl hlup\" >חֲטָאֵ֨ינוּ֙ </span></span> <i>376132</i> </td><td class=\"tf\"><span class=\"hb\"><span  class=\"hl hlup\" >עֲוֹנֹ֣ות </span></span> <i>376135</i> </td></tr>\n",
       "<tr class=\"tf\"><td class=\"tf\">59</td><td class=\"tf\"> <a href=\"https://shebanq.ancient-data.org/hebrew/text?book=Esther&amp;chapter=1&amp;verse=10&amp;version=c&amp;mr=m&amp;qw=q&amp;tp=txt_p&amp;tr=hb&amp;wget=v&amp;qget=v&amp;nget=vt\" title=\"show this passage in SHEBANQ\" sec=\"Esther 1:10\">Esther 1:10</a></td><td class=\"tf\"><span class=\"hb\"><a href=\"https://shebanq.ancient-data.org/hebrew/text?book=Esther&amp;chapter=1&amp;verse=10&amp;version=c&amp;mr=m&amp;qw=q&amp;tp=txt_p&amp;tr=hb&amp;wget=v&amp;qget=v&amp;nget=vt\" title=\"Esther 1:10\" sec=\"Esther 1:10\"><span  class=\"hlup\" >לִ֠</span><span  class=\"hlup\" >מְהוּמָן </span><span  class=\"hlup\" >בִּזְּתָ֨א </span><span  class=\"hlup\" >חַרְבֹונָ֜א </span><span  class=\"hlup\" >בִּגְתָ֤א </span><span  class=\"hlup\" >וַ</span><span  class=\"hlup\" >אֲבַגְתָא֙ </span><span  class=\"hl hlup\" >זֵתַ֣ר </span><span  class=\"hlup\" >וְ</span><span  class=\"hl hlup\" >כַרְכַּ֔ס </span><span  class=\"hlup\" >שִׁבְעַת֙ </span><span  class=\"hlup\" >הַ</span><span  class=\"hlup\" >סָּ֣רִיסִ֔ים </span></a></span> <i>874004</i> </td><td class=\"tf\"><span class=\"hb\"><span  class=\"hl hlup\" >זֵתַ֣ר </span></span> <i>365675</i> </td><td class=\"tf\"><span class=\"hb\"><span  class=\"hl hlup\" >כַרְכַּ֔ס </span></span> <i>365677</i> </td></tr>\n",
       "<tr class=\"tf\"><td class=\"tf\">60</td><td class=\"tf\"> <a href=\"https://shebanq.ancient-data.org/hebrew/text?book=Psalmi&amp;chapter=86&amp;verse=5&amp;version=c&amp;mr=m&amp;qw=q&amp;tp=txt_p&amp;tr=hb&amp;wget=v&amp;qget=v&amp;nget=vt\" title=\"show this passage in SHEBANQ\" sec=\"Psalms 86:5\">Psalms 86:5</a></td><td class=\"tf\"><span class=\"hb\"><a href=\"https://shebanq.ancient-data.org/hebrew/text?book=Psalmi&amp;chapter=86&amp;verse=5&amp;version=c&amp;mr=m&amp;qw=q&amp;tp=txt_p&amp;tr=hb&amp;wget=v&amp;qget=v&amp;nget=vt\" title=\"Psalms 86:5\" sec=\"Psalms 86:5\"><span  class=\"hlup\" >טֹ֣וב </span><span  class=\"hlup\" >וְ</span><span  class=\"hl hlup\" >סַלָּ֑ח </span><span  class=\"hlup\" >וְ</span><span  class=\"hl hlup\" >רַב־</span><span  class=\"hlup\" >חֶ֝֗סֶד </span></a></span> <i>845695</i> </td><td class=\"tf\"><span class=\"hb\"><span  class=\"hl hlup\" >רַב־</span></span> <i>325323</i> </td><td class=\"tf\"><span class=\"hb\"><span  class=\"hl hlup\" >סַלָּ֑ח </span></span> <i>325321</i> </td></tr>\n",
       "<tr class=\"tf\"><td class=\"tf\">61</td><td class=\"tf\"> <a href=\"https://shebanq.ancient-data.org/hebrew/text?book=Genesis&amp;chapter=10&amp;verse=11&amp;version=c&amp;mr=m&amp;qw=q&amp;tp=txt_p&amp;tr=hb&amp;wget=v&amp;qget=v&amp;nget=vt\" title=\"show this passage in SHEBANQ\" sec=\"Genesis 10:11\">Genesis 10:11</a></td><td class=\"tf\"><span class=\"hb\"><a href=\"https://shebanq.ancient-data.org/hebrew/text?book=Genesis&amp;chapter=10&amp;verse=11&amp;version=c&amp;mr=m&amp;qw=q&amp;tp=txt_p&amp;tr=hb&amp;wget=v&amp;qget=v&amp;nget=vt\" title=\"Genesis 10:11\" sec=\"Genesis 10:11\"><span  class=\"hlup\" >אֶת־</span><span  class=\"hlup\" >נִ֣ינְוֵ֔ה </span><span  class=\"hlup\" >וְ</span><span  class=\"hlup\" >אֶת־</span><span  class=\"hl hlup\" >רְחֹבֹ֥ת עִ֖יר </span><span  class=\"hlup\" >וְ</span><span  class=\"hlup\" >אֶת־</span><span  class=\"hl hlup\" >כָּֽלַח׃ </span></a></span> <i>654092</i> </td><td class=\"tf\"><span class=\"hb\"><span  class=\"hl hlup\" >כָּֽלַח׃ </span></span> <i>4690</i> </td><td class=\"tf\"><span class=\"hb\"><span  class=\"hl hlup\" >רְחֹבֹ֥ת עִ֖יר </span></span> <i>4687</i> </td></tr>\n",
       "<tr class=\"tf\"><td class=\"tf\">62</td><td class=\"tf\"> <a href=\"https://shebanq.ancient-data.org/hebrew/text?book=Leviticus&amp;chapter=11&amp;verse=36&amp;version=c&amp;mr=m&amp;qw=q&amp;tp=txt_p&amp;tr=hb&amp;wget=v&amp;qget=v&amp;nget=vt\" title=\"show this passage in SHEBANQ\" sec=\"Leviticus 11:36\">Leviticus 11:36</a></td><td class=\"tf\"><span class=\"hb\"><a href=\"https://shebanq.ancient-data.org/hebrew/text?book=Leviticus&amp;chapter=11&amp;verse=36&amp;version=c&amp;mr=m&amp;qw=q&amp;tp=txt_p&amp;tr=hb&amp;wget=v&amp;qget=v&amp;nget=vt\" title=\"Leviticus 11:36\" sec=\"Leviticus 11:36\"><span  class=\"hlup\" >אַ֣ךְ </span><span  class=\"hl hlup\" >מַעְיָ֥ן </span><span  class=\"hlup\" >וּ</span><span  class=\"hl hlup\" >בֹ֛ור </span><span  class=\"hlup\" >מִקְוֵה־</span><span  class=\"hlup\" >מַ֖יִם </span></a></span> <i>685894</i> </td><td class=\"tf\"><span class=\"hb\"><span  class=\"hl hlup\" >בֹ֛ור </span></span> <i>58475</i> </td><td class=\"tf\"><span class=\"hb\"><span  class=\"hl hlup\" >מַעְיָ֥ן </span></span> <i>58473</i> </td></tr>\n",
       "<tr class=\"tf\"><td class=\"tf\">63</td><td class=\"tf\"> <a href=\"https://shebanq.ancient-data.org/hebrew/text?book=Psalmi&amp;chapter=19&amp;verse=11&amp;version=c&amp;mr=m&amp;qw=q&amp;tp=txt_p&amp;tr=hb&amp;wget=v&amp;qget=v&amp;nget=vt\" title=\"show this passage in SHEBANQ\" sec=\"Psalms 19:11\">Psalms 19:11</a></td><td class=\"tf\"><span class=\"hb\"><a href=\"https://shebanq.ancient-data.org/hebrew/text?book=Psalmi&amp;chapter=19&amp;verse=11&amp;version=c&amp;mr=m&amp;qw=q&amp;tp=txt_p&amp;tr=hb&amp;wget=v&amp;qget=v&amp;nget=vt\" title=\"Psalms 19:11\" sec=\"Psalms 19:11\"><span  class=\"hlup\" >מִ֝</span><span  class=\"hl hlup\" >דְּבַ֗שׁ </span><span  class=\"hlup\" >וְ</span><span  class=\"hl hlup\" >נֹ֣פֶת </span><span  class=\"hlup\" >צוּפִֽים׃ </span></a></span> <i>837230</i> </td><td class=\"tf\"><span class=\"hb\"><span  class=\"hl hlup\" >נֹ֣פֶת </span></span> <i>313298</i> </td><td class=\"tf\"><span class=\"hb\"><span  class=\"hl hlup\" >דְּבַ֗שׁ </span></span> <i>313296</i> </td></tr>\n",
       "<tr class=\"tf\"><td class=\"tf\">64</td><td class=\"tf\"> <a href=\"https://shebanq.ancient-data.org/hebrew/text?book=Ezechiel&amp;chapter=17&amp;verse=22&amp;version=c&amp;mr=m&amp;qw=q&amp;tp=txt_p&amp;tr=hb&amp;wget=v&amp;qget=v&amp;nget=vt\" title=\"show this passage in SHEBANQ\" sec=\"Ezekiel 17:22\">Ezekiel 17:22</a></td><td class=\"tf\"><span class=\"hb\"><a href=\"https://shebanq.ancient-data.org/hebrew/text?book=Ezechiel&amp;chapter=17&amp;verse=22&amp;version=c&amp;mr=m&amp;qw=q&amp;tp=txt_p&amp;tr=hb&amp;wget=v&amp;qget=v&amp;nget=vt\" title=\"Ezekiel 17:22\" sec=\"Ezekiel 17:22\"><span  class=\"hlup\" >עַ֥ל </span><span  class=\"hlup\" >הַר־</span><span  class=\"hl hlup\" >גָּבֹ֖הַ </span><span  class=\"hlup\" >וְ</span><span  class=\"hl hlup\" >תָלֽוּל׃ </span></a></span> <i>811837</i> </td><td class=\"tf\"><span class=\"hb\"><span  class=\"hl hlup\" >תָלֽוּל׃ </span></span> <i>272642</i> </td><td class=\"tf\"><span class=\"hb\"><span  class=\"hl hlup\" >גָּבֹ֖הַ </span></span> <i>272640</i> </td></tr>\n",
       "<tr class=\"tf\"><td class=\"tf\">65</td><td class=\"tf\"> <a href=\"https://shebanq.ancient-data.org/hebrew/text?book=Samuel_II&amp;chapter=6&amp;verse=3&amp;version=c&amp;mr=m&amp;qw=q&amp;tp=txt_p&amp;tr=hb&amp;wget=v&amp;qget=v&amp;nget=vt\" title=\"show this passage in SHEBANQ\" sec=\"2_Samuel 6:3\">2_Samuel 6:3</a></td><td class=\"tf\"><span class=\"hb\"><a href=\"https://shebanq.ancient-data.org/hebrew/text?book=Samuel_II&amp;chapter=6&amp;verse=3&amp;version=c&amp;mr=m&amp;qw=q&amp;tp=txt_p&amp;tr=hb&amp;wget=v&amp;qget=v&amp;nget=vt\" title=\"2_Samuel 6:3\" sec=\"2_Samuel 6:3\"><span  class=\"hl hlup\" >עֻזָּ֣א </span><span  class=\"hlup\" >וְ</span><span  class=\"hl hlup\" >אַחְיֹ֗ו </span><span  class=\"hlup\" >בְּנֵי֙ </span><span  class=\"hlup\" >אֲבִ֣ינָדָ֔ב </span></a></span> <i>745613</i> </td><td class=\"tf\"><span class=\"hb\"><span  class=\"hl hlup\" >עֻזָּ֣א </span></span> <i>163480</i> </td><td class=\"tf\"><span class=\"hb\"><span  class=\"hl hlup\" >אַחְיֹ֗ו </span></span> <i>163482</i> </td></tr>\n",
       "<tr class=\"tf\"><td class=\"tf\">66</td><td class=\"tf\"> <a href=\"https://shebanq.ancient-data.org/hebrew/text?book=Chronica_I&amp;chapter=2&amp;verse=28&amp;version=c&amp;mr=m&amp;qw=q&amp;tp=txt_p&amp;tr=hb&amp;wget=v&amp;qget=v&amp;nget=vt\" title=\"show this passage in SHEBANQ\" sec=\"1_Chronicles 2:28\">1_Chronicles 2:28</a></td><td class=\"tf\"><span class=\"hb\"><a href=\"https://shebanq.ancient-data.org/hebrew/text?book=Chronica_I&amp;chapter=2&amp;verse=28&amp;version=c&amp;mr=m&amp;qw=q&amp;tp=txt_p&amp;tr=hb&amp;wget=v&amp;qget=v&amp;nget=vt\" title=\"1_Chronicles 2:28\" sec=\"1_Chronicles 2:28\"><span  class=\"hl hlup\" >שַׁמַּ֣י </span><span  class=\"hlup\" >וְ</span><span  class=\"hl hlup\" >יָדָ֑ע </span></a></span> <i>887825</i> </td><td class=\"tf\"><span class=\"hb\"><span  class=\"hl hlup\" >יָדָ֑ע </span></span> <i>392202</i> </td><td class=\"tf\"><span class=\"hb\"><span  class=\"hl hlup\" >שַׁמַּ֣י </span></span> <i>392200</i> </td></tr>\n",
       "<tr class=\"tf\"><td class=\"tf\">67</td><td class=\"tf\"> <a href=\"https://shebanq.ancient-data.org/hebrew/text?book=Genesis&amp;chapter=10&amp;verse=23&amp;version=c&amp;mr=m&amp;qw=q&amp;tp=txt_p&amp;tr=hb&amp;wget=v&amp;qget=v&amp;nget=vt\" title=\"show this passage in SHEBANQ\" sec=\"Genesis 10:23\">Genesis 10:23</a></td><td class=\"tf\"><span class=\"hb\"><a href=\"https://shebanq.ancient-data.org/hebrew/text?book=Genesis&amp;chapter=10&amp;verse=23&amp;version=c&amp;mr=m&amp;qw=q&amp;tp=txt_p&amp;tr=hb&amp;wget=v&amp;qget=v&amp;nget=vt\" title=\"Genesis 10:23\" sec=\"Genesis 10:23\"><span  class=\"hl hlup\" >ע֥וּץ </span><span  class=\"hlup\" >וְ</span><span  class=\"hlup\" >ח֖וּל </span><span  class=\"hlup\" >וְ</span><span  class=\"hlup\" >גֶ֥תֶר </span><span  class=\"hlup\" >וָ</span><span  class=\"hl hlup\" >מַֽשׁ׃ </span></a></span> <i>654147</i> </td><td class=\"tf\"><span class=\"hb\"><span  class=\"hl hlup\" >ע֥וּץ </span></span> <i>4843</i> </td><td class=\"tf\"><span class=\"hb\"><span  class=\"hl hlup\" >מַֽשׁ׃ </span></span> <i>4849</i> </td></tr>\n",
       "<tr class=\"tf\"><td class=\"tf\">68</td><td class=\"tf\"> <a href=\"https://shebanq.ancient-data.org/hebrew/text?book=Jeremia&amp;chapter=9&amp;verse=25&amp;version=c&amp;mr=m&amp;qw=q&amp;tp=txt_p&amp;tr=hb&amp;wget=v&amp;qget=v&amp;nget=vt\" title=\"show this passage in SHEBANQ\" sec=\"Jeremiah 9:25\">Jeremiah 9:25</a></td><td class=\"tf\"><span class=\"hb\"><a href=\"https://shebanq.ancient-data.org/hebrew/text?book=Jeremia&amp;chapter=9&amp;verse=25&amp;version=c&amp;mr=m&amp;qw=q&amp;tp=txt_p&amp;tr=hb&amp;wget=v&amp;qget=v&amp;nget=vt\" title=\"Jeremiah 9:25\" sec=\"Jeremiah 9:25\"><span  class=\"hlup\" >עַל־</span><span  class=\"hlup\" >מִצְרַ֣יִם </span><span  class=\"hlup\" >וְ</span><span  class=\"hlup\" >עַל־</span><span  class=\"hl hlup\" >יְהוּדָ֗ה </span><span  class=\"hlup\" >וְ</span><span  class=\"hlup\" >עַל־</span><span  class=\"hl hlup\" >אֱדֹ֞ום </span><span  class=\"hlup\" >וְ</span><span  class=\"hlup\" >עַל־</span><span  class=\"hlup\" >בְּנֵ֤י </span><span  class=\"hlup\" >עַמֹּון֙ </span><span  class=\"hlup\" >וְ</span><span  class=\"hlup\" >עַל־</span><span  class=\"hlup\" >מֹואָ֔ב </span><span  class=\"hlup\" >וְ</span><span  class=\"hlup\" >עַל֙ </span><span  class=\"hlup\" >כָּל־</span><span  class=\"hlup\" >קְצוּצֵ֣י </span><span  class=\"hlup\" >פֵאָ֔ה </span></a></span> <i>792552</i> </td><td class=\"tf\"><span class=\"hb\"><span  class=\"hl hlup\" >אֱדֹ֞ום </span></span> <i>239873</i> </td><td class=\"tf\"><span class=\"hb\"><span  class=\"hl hlup\" >יְהוּדָ֗ה </span></span> <i>239870</i> </td></tr>\n",
       "<tr class=\"tf\"><td class=\"tf\">69</td><td class=\"tf\"> <a href=\"https://shebanq.ancient-data.org/hebrew/text?book=Chronica_I&amp;chapter=4&amp;verse=12&amp;version=c&amp;mr=m&amp;qw=q&amp;tp=txt_p&amp;tr=hb&amp;wget=v&amp;qget=v&amp;nget=vt\" title=\"show this passage in SHEBANQ\" sec=\"1_Chronicles 4:12\">1_Chronicles 4:12</a></td><td class=\"tf\"><span class=\"hb\"><a href=\"https://shebanq.ancient-data.org/hebrew/text?book=Chronica_I&amp;chapter=4&amp;verse=12&amp;version=c&amp;mr=m&amp;qw=q&amp;tp=txt_p&amp;tr=hb&amp;wget=v&amp;qget=v&amp;nget=vt\" title=\"1_Chronicles 4:12\" sec=\"1_Chronicles 4:12\"><span  class=\"hlup\" >אֶת־</span><span  class=\"hlup\" >בֵּ֤ית </span><span  class=\"hlup\" >רָפָא֙ </span><span  class=\"hlup\" >וְ</span><span  class=\"hlup\" >אֶת־</span><span  class=\"hl hlup\" >פָּסֵ֔חַ </span><span  class=\"hlup\" >וְ</span><span  class=\"hlup\" >אֶת־</span><span  class=\"hl hlup\" >תְּחִנָּ֖ה </span><span  class=\"hlup\" >אֲבִ֣י </span><span  class=\"hlup\" >עִ֣יר נָחָ֑שׁ </span></a></span> <i>888234</i> </td><td class=\"tf\"><span class=\"hb\"><span  class=\"hl hlup\" >פָּסֵ֔חַ </span></span> <i>392986</i> </td><td class=\"tf\"><span class=\"hb\"><span  class=\"hl hlup\" >תְּחִנָּ֖ה </span></span> <i>392989</i> </td></tr>\n",
       "<tr class=\"tf\"><td class=\"tf\">70</td><td class=\"tf\"> <a href=\"https://shebanq.ancient-data.org/hebrew/text?book=Deuteronomium&amp;chapter=14&amp;verse=26&amp;version=c&amp;mr=m&amp;qw=q&amp;tp=txt_p&amp;tr=hb&amp;wget=v&amp;qget=v&amp;nget=vt\" title=\"show this passage in SHEBANQ\" sec=\"Deuteronomy 14:26\">Deuteronomy 14:26</a></td><td class=\"tf\"><span class=\"hb\"><a href=\"https://shebanq.ancient-data.org/hebrew/text?book=Deuteronomium&amp;chapter=14&amp;verse=26&amp;version=c&amp;mr=m&amp;qw=q&amp;tp=txt_p&amp;tr=hb&amp;wget=v&amp;qget=v&amp;nget=vt\" title=\"Deuteronomy 14:26\" sec=\"Deuteronomy 14:26\"><span  class=\"hlup\" >בְּ</span><span  class=\"hlup\" >כֹל֩ </span><span  class=\"hlup\" >בַּ</span><span  class=\"hlup\" ></span><span  class=\"hlup\" >בָּקָ֣ר </span><span  class=\"hlup\" >וּ</span><span  class=\"hlup\" >בַ</span><span  class=\"hlup\" ></span><span  class=\"hl hlup\" >צֹּ֗אן </span><span  class=\"hlup\" >וּ</span><span  class=\"hlup\" >בַ</span><span  class=\"hlup\" ></span><span  class=\"hlup\" >יַּ֨יִן֙ </span><span  class=\"hlup\" >וּ</span><span  class=\"hlup\" >בַ</span><span  class=\"hlup\" ></span><span  class=\"hl hlup\" >שֵּׁכָ֔ר </span><span  class=\"hlup\" >וּ</span><span  class=\"hlup\" >בְ</span><span  class=\"hlup\" >כֹ֛ל </span></a></span> <i>709209</i> </td><td class=\"tf\"><span class=\"hb\"><span  class=\"hl hlup\" >שֵּׁכָ֔ר </span></span> <i>101902</i> </td><td class=\"tf\"><span class=\"hb\"><span  class=\"hl hlup\" >צֹּ֗אן </span></span> <i>101894</i> </td></tr>\n",
       "<tr class=\"tf\"><td class=\"tf\">71</td><td class=\"tf\"> <a href=\"https://shebanq.ancient-data.org/hebrew/text?book=Josua&amp;chapter=19&amp;verse=4&amp;version=c&amp;mr=m&amp;qw=q&amp;tp=txt_p&amp;tr=hb&amp;wget=v&amp;qget=v&amp;nget=vt\" title=\"show this passage in SHEBANQ\" sec=\"Joshua 19:4\">Joshua 19:4</a></td><td class=\"tf\"><span class=\"hb\"><a href=\"https://shebanq.ancient-data.org/hebrew/text?book=Josua&amp;chapter=19&amp;verse=4&amp;version=c&amp;mr=m&amp;qw=q&amp;tp=txt_p&amp;tr=hb&amp;wget=v&amp;qget=v&amp;nget=vt\" title=\"Joshua 19:4\" sec=\"Joshua 19:4\"><span  class=\"hlup\" >אֶלְתֹּולַ֥ד </span><span  class=\"hlup\" >וּ</span><span  class=\"hl hlup\" >בְת֖וּל </span><span  class=\"hlup\" >וְ</span><span  class=\"hl hlup\" >חָרְמָֽה׃ </span></a></span> <i>721079</i> </td><td class=\"tf\"><span class=\"hb\"><span  class=\"hl hlup\" >בְת֖וּל </span></span> <i>123454</i> </td><td class=\"tf\"><span class=\"hb\"><span  class=\"hl hlup\" >חָרְמָֽה׃ </span></span> <i>123456</i> </td></tr>\n",
       "<tr class=\"tf\"><td class=\"tf\">72</td><td class=\"tf\"> <a href=\"https://shebanq.ancient-data.org/hebrew/text?book=Iob&amp;chapter=10&amp;verse=17&amp;version=c&amp;mr=m&amp;qw=q&amp;tp=txt_p&amp;tr=hb&amp;wget=v&amp;qget=v&amp;nget=vt\" title=\"show this passage in SHEBANQ\" sec=\"Job 10:17\">Job 10:17</a></td><td class=\"tf\"><span class=\"hb\"><a href=\"https://shebanq.ancient-data.org/hebrew/text?book=Iob&amp;chapter=10&amp;verse=17&amp;version=c&amp;mr=m&amp;qw=q&amp;tp=txt_p&amp;tr=hb&amp;wget=v&amp;qget=v&amp;nget=vt\" title=\"Job 10:17\" sec=\"Job 10:17\"><span  class=\"hl hlup\" >חֲלִיפֹ֖ות </span><span  class=\"hlup\" >וְ</span><span  class=\"hl hlup\" >צָבָ֣א </span></a></span> <i>855091</i> </td><td class=\"tf\"><span class=\"hb\"><span  class=\"hl hlup\" >צָבָ֣א </span></span> <i>338753</i> </td><td class=\"tf\"><span class=\"hb\"><span  class=\"hl hlup\" >חֲלִיפֹ֖ות </span></span> <i>338751</i> </td></tr>\n",
       "<tr class=\"tf\"><td class=\"tf\">73</td><td class=\"tf\"> <a href=\"https://shebanq.ancient-data.org/hebrew/text?book=Exodus&amp;chapter=35&amp;verse=14&amp;version=c&amp;mr=m&amp;qw=q&amp;tp=txt_p&amp;tr=hb&amp;wget=v&amp;qget=v&amp;nget=vt\" title=\"show this passage in SHEBANQ\" sec=\"Exodus 35:14\">Exodus 35:14</a></td><td class=\"tf\"><span class=\"hb\"><a href=\"https://shebanq.ancient-data.org/hebrew/text?book=Exodus&amp;chapter=35&amp;verse=14&amp;version=c&amp;mr=m&amp;qw=q&amp;tp=txt_p&amp;tr=hb&amp;wget=v&amp;qget=v&amp;nget=vt\" title=\"Exodus 35:14\" sec=\"Exodus 35:14\"><span  class=\"hlup\" >אֶת־</span><span  class=\"hlup\" >מְנֹרַ֧ת </span><span  class=\"hlup\" >הַ</span><span  class=\"hlup\" >מָּאֹ֛ור </span><span  class=\"hlup\" >וְ</span><span  class=\"hlup\" >אֶת־</span><span  class=\"hl hlup\" >כֵּלֶ֖יהָ </span><span  class=\"hlup\" >וְ</span><span  class=\"hlup\" >אֶת־</span><span  class=\"hl hlup\" >נֵרֹתֶ֑יהָ </span><span  class=\"hlup\" >וְ</span><span  class=\"hlup\" >אֵ֖ת </span><span  class=\"hlup\" >שֶׁ֥מֶן </span><span  class=\"hlup\" >הַ</span><span  class=\"hlup\" >מָּאֹֽור׃ </span></a></span> <i>681126</i> </td><td class=\"tf\"><span class=\"hb\"><span  class=\"hl hlup\" >נֵרֹתֶ֑יהָ </span></span> <i>48712</i> </td><td class=\"tf\"><span class=\"hb\"><span  class=\"hl hlup\" >כֵּלֶ֖יהָ </span></span> <i>48709</i> </td></tr>\n",
       "<tr class=\"tf\"><td class=\"tf\">74</td><td class=\"tf\"> <a href=\"https://shebanq.ancient-data.org/hebrew/text?book=Jesaia&amp;chapter=60&amp;verse=6&amp;version=c&amp;mr=m&amp;qw=q&amp;tp=txt_p&amp;tr=hb&amp;wget=v&amp;qget=v&amp;nget=vt\" title=\"show this passage in SHEBANQ\" sec=\"Isaiah 60:6\">Isaiah 60:6</a></td><td class=\"tf\"><span class=\"hb\"><a href=\"https://shebanq.ancient-data.org/hebrew/text?book=Jesaia&amp;chapter=60&amp;verse=6&amp;version=c&amp;mr=m&amp;qw=q&amp;tp=txt_p&amp;tr=hb&amp;wget=v&amp;qget=v&amp;nget=vt\" title=\"Isaiah 60:6\" sec=\"Isaiah 60:6\"><span  class=\"hl hlup\" >זָהָ֤ב </span><span  class=\"hlup\" >וּ</span><span  class=\"hl hlup\" >לְבֹונָה֙ </span></a></span> <i>787770</i> </td><td class=\"tf\"><span class=\"hb\"><span  class=\"hl hlup\" >זָהָ֤ב </span></span> <i>232709</i> </td><td class=\"tf\"><span class=\"hb\"><span  class=\"hl hlup\" >לְבֹונָה֙ </span></span> <i>232711</i> </td></tr>\n",
       "<tr class=\"tf\"><td class=\"tf\">75</td><td class=\"tf\"> <a href=\"https://shebanq.ancient-data.org/hebrew/text?book=Ezechiel&amp;chapter=20&amp;verse=39&amp;version=c&amp;mr=m&amp;qw=q&amp;tp=txt_p&amp;tr=hb&amp;wget=v&amp;qget=v&amp;nget=vt\" title=\"show this passage in SHEBANQ\" sec=\"Ezekiel 20:39\">Ezekiel 20:39</a></td><td class=\"tf\"><span class=\"hb\"><a href=\"https://shebanq.ancient-data.org/hebrew/text?book=Ezechiel&amp;chapter=20&amp;verse=39&amp;version=c&amp;mr=m&amp;qw=q&amp;tp=txt_p&amp;tr=hb&amp;wget=v&amp;qget=v&amp;nget=vt\" title=\"Ezekiel 20:39\" sec=\"Ezekiel 20:39\"><span  class=\"hlup\" >בְּ</span><span  class=\"hl hlup\" >מַתְּנֹֽותֵיכֶ֖ם </span><span  class=\"hlup\" >וּ</span><span  class=\"hlup\" >בְ</span><span  class=\"hl hlup\" >גִלּוּלֵיכֶֽם׃ </span></a></span> <i>813041</i> </td><td class=\"tf\"><span class=\"hb\"><span  class=\"hl hlup\" >מַתְּנֹֽותֵיכֶ֖ם </span></span> <i>274393</i> </td><td class=\"tf\"><span class=\"hb\"><span  class=\"hl hlup\" >גִלּוּלֵיכֶֽם׃ </span></span> <i>274396</i> </td></tr>\n",
       "<tr class=\"tf\"><td class=\"tf\">76</td><td class=\"tf\"> <a href=\"https://shebanq.ancient-data.org/hebrew/text?book=Genesis&amp;chapter=21&amp;verse=22&amp;version=c&amp;mr=m&amp;qw=q&amp;tp=txt_p&amp;tr=hb&amp;wget=v&amp;qget=v&amp;nget=vt\" title=\"show this passage in SHEBANQ\" sec=\"Genesis 21:22\">Genesis 21:22</a></td><td class=\"tf\"><span class=\"hb\"><a href=\"https://shebanq.ancient-data.org/hebrew/text?book=Genesis&amp;chapter=21&amp;verse=22&amp;version=c&amp;mr=m&amp;qw=q&amp;tp=txt_p&amp;tr=hb&amp;wget=v&amp;qget=v&amp;nget=vt\" title=\"Genesis 21:22\" sec=\"Genesis 21:22\"><span  class=\"hl hlup\" >אֲבִימֶ֗לֶךְ </span><span  class=\"hlup\" >וּ</span><span  class=\"hl hlup\" >פִיכֹל֙ </span><span  class=\"hlup\" >שַׂר־</span><span  class=\"hlup\" >צְבָאֹ֔ו </span></a></span> <i>657374</i> </td><td class=\"tf\"><span class=\"hb\"><span  class=\"hl hlup\" >פִיכֹל֙ </span></span> <i>10016</i> </td><td class=\"tf\"><span class=\"hb\"><span  class=\"hl hlup\" >אֲבִימֶ֗לֶךְ </span></span> <i>10014</i> </td></tr>\n",
       "<tr class=\"tf\"><td class=\"tf\">77</td><td class=\"tf\"> <a href=\"https://shebanq.ancient-data.org/hebrew/text?book=Reges_I&amp;chapter=10&amp;verse=22&amp;version=c&amp;mr=m&amp;qw=q&amp;tp=txt_p&amp;tr=hb&amp;wget=v&amp;qget=v&amp;nget=vt\" title=\"show this passage in SHEBANQ\" sec=\"1_Kings 10:22\">1_Kings 10:22</a></td><td class=\"tf\"><span class=\"hb\"><a href=\"https://shebanq.ancient-data.org/hebrew/text?book=Reges_I&amp;chapter=10&amp;verse=22&amp;version=c&amp;mr=m&amp;qw=q&amp;tp=txt_p&amp;tr=hb&amp;wget=v&amp;qget=v&amp;nget=vt\" title=\"1_Kings 10:22\" sec=\"1_Kings 10:22\"><span  class=\"hlup\" >זָהָ֣ב </span><span  class=\"hlup\" >וָ</span><span  class=\"hlup\" >כֶ֔סֶף </span><span  class=\"hl hlup\" >שֶׁנְהַבִּ֥ים </span><span  class=\"hlup\" >וְ</span><span  class=\"hlup\" >קֹפִ֖ים </span><span  class=\"hlup\" >וְ</span><span  class=\"hl hlup\" >תֻכִּיִּֽים׃ </span></a></span> <i>757954</i> </td><td class=\"tf\"><span class=\"hb\"><span  class=\"hl hlup\" >תֻכִּיִּֽים׃ </span></span> <i>184854</i> </td><td class=\"tf\"><span class=\"hb\"><span  class=\"hl hlup\" >שֶׁנְהַבִּ֥ים </span></span> <i>184850</i> </td></tr>\n",
       "<tr class=\"tf\"><td class=\"tf\">78</td><td class=\"tf\"> <a href=\"https://shebanq.ancient-data.org/hebrew/text?book=Chronica_I&amp;chapter=8&amp;verse=3&amp;version=c&amp;mr=m&amp;qw=q&amp;tp=txt_p&amp;tr=hb&amp;wget=v&amp;qget=v&amp;nget=vt\" title=\"show this passage in SHEBANQ\" sec=\"1_Chronicles 8:3\">1_Chronicles 8:3</a></td><td class=\"tf\"><span class=\"hb\"><a href=\"https://shebanq.ancient-data.org/hebrew/text?book=Chronica_I&amp;chapter=8&amp;verse=3&amp;version=c&amp;mr=m&amp;qw=q&amp;tp=txt_p&amp;tr=hb&amp;wget=v&amp;qget=v&amp;nget=vt\" title=\"1_Chronicles 8:3\" sec=\"1_Chronicles 8:3\"><span  class=\"hlup\" >אַדָּ֥ר </span><span  class=\"hlup\" >וְ</span><span  class=\"hl hlup\" >גֵרָ֖א </span><span  class=\"hlup\" >וַ</span><span  class=\"hl hlup\" >אֲבִיהֽוּד׃ </span></a></span> <i>889193</i> </td><td class=\"tf\"><span class=\"hb\"><span  class=\"hl hlup\" >אֲבִיהֽוּד׃ </span></span> <i>395594</i> </td><td class=\"tf\"><span class=\"hb\"><span  class=\"hl hlup\" >גֵרָ֖א </span></span> <i>395592</i> </td></tr>\n",
       "<tr class=\"tf\"><td class=\"tf\">79</td><td class=\"tf\"> <a href=\"https://shebanq.ancient-data.org/hebrew/text?book=Josua&amp;chapter=15&amp;verse=32&amp;version=c&amp;mr=m&amp;qw=q&amp;tp=txt_p&amp;tr=hb&amp;wget=v&amp;qget=v&amp;nget=vt\" title=\"show this passage in SHEBANQ\" sec=\"Joshua 15:32\">Joshua 15:32</a></td><td class=\"tf\"><span class=\"hb\"><a href=\"https://shebanq.ancient-data.org/hebrew/text?book=Josua&amp;chapter=15&amp;verse=32&amp;version=c&amp;mr=m&amp;qw=q&amp;tp=txt_p&amp;tr=hb&amp;wget=v&amp;qget=v&amp;nget=vt\" title=\"Joshua 15:32\" sec=\"Joshua 15:32\"><span  class=\"hlup\" >לְבָאֹ֥ות </span><span  class=\"hlup\" >וְ</span><span  class=\"hl hlup\" >שִׁלְחִ֖ים </span><span  class=\"hlup\" >וְ</span><span  class=\"hl hlup\" >עַ֣יִן וְרִמֹּ֑ון </span></a></span> <i>720374</i> </td><td class=\"tf\"><span class=\"hb\"><span  class=\"hl hlup\" >שִׁלְחִ֖ים </span></span> <i>121901</i> </td><td class=\"tf\"><span class=\"hb\"><span  class=\"hl hlup\" >עַ֣יִן וְרִמֹּ֑ון </span></span> <i>121903</i> </td></tr>\n",
       "<tr class=\"tf\"><td class=\"tf\">80</td><td class=\"tf\"> <a href=\"https://shebanq.ancient-data.org/hebrew/text?book=Jesaia&amp;chapter=34&amp;verse=11&amp;version=c&amp;mr=m&amp;qw=q&amp;tp=txt_p&amp;tr=hb&amp;wget=v&amp;qget=v&amp;nget=vt\" title=\"show this passage in SHEBANQ\" sec=\"Isaiah 34:11\">Isaiah 34:11</a></td><td class=\"tf\"><span class=\"hb\"><a href=\"https://shebanq.ancient-data.org/hebrew/text?book=Jesaia&amp;chapter=34&amp;verse=11&amp;version=c&amp;mr=m&amp;qw=q&amp;tp=txt_p&amp;tr=hb&amp;wget=v&amp;qget=v&amp;nget=vt\" title=\"Isaiah 34:11\" sec=\"Isaiah 34:11\"><span  class=\"hl hlup\" >קָאַ֣ת </span><span  class=\"hlup\" >וְ</span><span  class=\"hl hlup\" >קִפֹּ֔וד </span></a></span> <i>781158</i> </td><td class=\"tf\"><span class=\"hb\"><span  class=\"hl hlup\" >קִפֹּ֔וד </span></span> <i>223443</i> </td><td class=\"tf\"><span class=\"hb\"><span  class=\"hl hlup\" >קָאַ֣ת </span></span> <i>223441</i> </td></tr>\n",
       "<tr class=\"tf\"><td class=\"tf\">81</td><td class=\"tf\"> <a href=\"https://shebanq.ancient-data.org/hebrew/text?book=Canticum&amp;chapter=2&amp;verse=9&amp;version=c&amp;mr=m&amp;qw=q&amp;tp=txt_p&amp;tr=hb&amp;wget=v&amp;qget=v&amp;nget=vt\" title=\"show this passage in SHEBANQ\" sec=\"Song_of_songs 2:9\">Song_of_songs 2:9</a></td><td class=\"tf\"><span class=\"hb\"><a href=\"https://shebanq.ancient-data.org/hebrew/text?book=Canticum&amp;chapter=2&amp;verse=9&amp;version=c&amp;mr=m&amp;qw=q&amp;tp=txt_p&amp;tr=hb&amp;wget=v&amp;qget=v&amp;nget=vt\" title=\"Song_of_songs 2:9\" sec=\"Song_of_songs 2:9\"><span  class=\"hlup\" >לִ</span><span  class=\"hl hlup\" >צְבִ֔י </span><span  class=\"hlup\" >אֹ֖ו </span><span  class=\"hlup\" >לְ</span><span  class=\"hl hlup\" >עֹ֣פֶר </span><span  class=\"hlup\" >הָֽ</span><span  class=\"hlup\" >אַיָּלִ֑ים </span></a></span> <i>869010</i> </td><td class=\"tf\"><span class=\"hb\"><span  class=\"hl hlup\" >עֹ֣פֶר </span></span> <i>357891</i> </td><td class=\"tf\"><span class=\"hb\"><span  class=\"hl hlup\" >צְבִ֔י </span></span> <i>357888</i> </td></tr>\n",
       "<tr class=\"tf\"><td class=\"tf\">82</td><td class=\"tf\"> <a href=\"https://shebanq.ancient-data.org/hebrew/text?book=Nehemia&amp;chapter=11&amp;verse=21&amp;version=c&amp;mr=m&amp;qw=q&amp;tp=txt_p&amp;tr=hb&amp;wget=v&amp;qget=v&amp;nget=vt\" title=\"show this passage in SHEBANQ\" sec=\"Nehemiah 11:21\">Nehemiah 11:21</a></td><td class=\"tf\"><span class=\"hb\"><a href=\"https://shebanq.ancient-data.org/hebrew/text?book=Nehemia&amp;chapter=11&amp;verse=21&amp;version=c&amp;mr=m&amp;qw=q&amp;tp=txt_p&amp;tr=hb&amp;wget=v&amp;qget=v&amp;nget=vt\" title=\"Nehemiah 11:21\" sec=\"Nehemiah 11:21\"><span  class=\"hl hlup\" >צִיחָ֥א </span><span  class=\"hlup\" >וְ</span><span  class=\"hl hlup\" >גִשְׁפָּ֖א </span></a></span> <i>886689</i> </td><td class=\"tf\"><span class=\"hb\"><span  class=\"hl hlup\" >צִיחָ֥א </span></span> <i>389593</i> </td><td class=\"tf\"><span class=\"hb\"><span  class=\"hl hlup\" >גִשְׁפָּ֖א </span></span> <i>389595</i> </td></tr>\n",
       "<tr class=\"tf\"><td class=\"tf\">83</td><td class=\"tf\"> <a href=\"https://shebanq.ancient-data.org/hebrew/text?book=Deuteronomium&amp;chapter=12&amp;verse=17&amp;version=c&amp;mr=m&amp;qw=q&amp;tp=txt_p&amp;tr=hb&amp;wget=v&amp;qget=v&amp;nget=vt\" title=\"show this passage in SHEBANQ\" sec=\"Deuteronomy 12:17\">Deuteronomy 12:17</a></td><td class=\"tf\"><span class=\"hb\"><a href=\"https://shebanq.ancient-data.org/hebrew/text?book=Deuteronomium&amp;chapter=12&amp;verse=17&amp;version=c&amp;mr=m&amp;qw=q&amp;tp=txt_p&amp;tr=hb&amp;wget=v&amp;qget=v&amp;nget=vt\" title=\"Deuteronomy 12:17\" sec=\"Deuteronomy 12:17\"><span  class=\"hlup\" >מַעְשַׂ֤ר </span><span  class=\"hlup\" >דְּגָֽנְךָ֙ </span><span  class=\"hlup\" >וְ</span><span  class=\"hlup\" >תִֽירֹשְׁךָ֣ </span><span  class=\"hlup\" >וְ</span><span  class=\"hl hlup\" >יִצְהָרֶ֔ךָ </span><span  class=\"hlup\" >וּ</span><span  class=\"hl hlup\" >בְכֹרֹ֥ת </span><span  class=\"hlup\" >בְּקָרְךָ֖ </span><span  class=\"hlup\" >וְ</span><span  class=\"hlup\" >צֹאנֶ֑ךָ </span><span  class=\"hlup\" >וְ</span><span  class=\"hlup\" >כָל־</span><span  class=\"hlup\" >נְדָרֶ֨יךָ֙ </span><span  class=\"hlup\" >וְ</span><span  class=\"hlup\" >נִדְבֹתֶ֖יךָ </span><span  class=\"hlup\" >וּ</span><span  class=\"hlup\" >תְרוּמַ֥ת </span><span  class=\"hlup\" >יָדֶֽךָ׃ </span></a></span> <i>708536</i> </td><td class=\"tf\"><span class=\"hb\"><span  class=\"hl hlup\" >בְכֹרֹ֥ת </span></span> <i>100673</i> </td><td class=\"tf\"><span class=\"hb\"><span  class=\"hl hlup\" >יִצְהָרֶ֔ךָ </span></span> <i>100671</i> </td></tr>\n",
       "<tr class=\"tf\"><td class=\"tf\">84</td><td class=\"tf\"> <a href=\"https://shebanq.ancient-data.org/hebrew/text?book=Chronica_II&amp;chapter=16&amp;verse=4&amp;version=c&amp;mr=m&amp;qw=q&amp;tp=txt_p&amp;tr=hb&amp;wget=v&amp;qget=v&amp;nget=vt\" title=\"show this passage in SHEBANQ\" sec=\"2_Chronicles 16:4\">2_Chronicles 16:4</a></td><td class=\"tf\"><span class=\"hb\"><a href=\"https://shebanq.ancient-data.org/hebrew/text?book=Chronica_II&amp;chapter=16&amp;verse=4&amp;version=c&amp;mr=m&amp;qw=q&amp;tp=txt_p&amp;tr=hb&amp;wget=v&amp;qget=v&amp;nget=vt\" title=\"2_Chronicles 16:4\" sec=\"2_Chronicles 16:4\"><span  class=\"hlup\" >אֶת־</span><span  class=\"hlup\" >עִיֹּ֣ון </span><span  class=\"hlup\" >וְ</span><span  class=\"hlup\" >אֶת־</span><span  class=\"hl hlup\" >דָּ֔ן </span><span  class=\"hlup\" >וְ</span><span  class=\"hlup\" >אֵ֖ת </span><span  class=\"hl hlup\" >אָבֵ֣ל מָ֑יִם </span><span  class=\"hlup\" >וְ</span><span  class=\"hlup\" >אֵ֥ת </span><span  class=\"hlup\" >כָּֽל־</span><span  class=\"hlup\" >מִסְכְּנֹ֖ות </span><span  class=\"hlup\" >עָרֵ֥י </span><span  class=\"hlup\" >נַפְתָּלִֽי׃ </span></a></span> <i>898411</i> </td><td class=\"tf\"><span class=\"hb\"><span  class=\"hl hlup\" >דָּ֔ן </span></span> <i>414303</i> </td><td class=\"tf\"><span class=\"hb\"><span  class=\"hl hlup\" >אָבֵ֣ל מָ֑יִם </span></span> <i>414306</i> </td></tr>\n",
       "<tr class=\"tf\"><td class=\"tf\">85</td><td class=\"tf\"> <a href=\"https://shebanq.ancient-data.org/hebrew/text?book=Chronica_I&amp;chapter=7&amp;verse=30&amp;version=c&amp;mr=m&amp;qw=q&amp;tp=txt_p&amp;tr=hb&amp;wget=v&amp;qget=v&amp;nget=vt\" title=\"show this passage in SHEBANQ\" sec=\"1_Chronicles 7:30\">1_Chronicles 7:30</a></td><td class=\"tf\"><span class=\"hb\"><a href=\"https://shebanq.ancient-data.org/hebrew/text?book=Chronica_I&amp;chapter=7&amp;verse=30&amp;version=c&amp;mr=m&amp;qw=q&amp;tp=txt_p&amp;tr=hb&amp;wget=v&amp;qget=v&amp;nget=vt\" title=\"1_Chronicles 7:30\" sec=\"1_Chronicles 7:30\"><span  class=\"hl hlup\" >יִמְנָ֧ה </span><span  class=\"hlup\" >וְ</span><span  class=\"hlup\" >יִשְׁוָ֛ה </span><span  class=\"hlup\" >וְ</span><span  class=\"hlup\" >יִשְׁוִ֥י </span><span  class=\"hlup\" >וּ</span><span  class=\"hl hlup\" >בְרִיעָ֖ה </span></a></span> <i>889140</i> </td><td class=\"tf\"><span class=\"hb\"><span  class=\"hl hlup\" >בְרִיעָ֖ה </span></span> <i>395439</i> </td><td class=\"tf\"><span class=\"hb\"><span  class=\"hl hlup\" >יִמְנָ֧ה </span></span> <i>395433</i> </td></tr>\n",
       "<tr class=\"tf\"><td class=\"tf\">86</td><td class=\"tf\"> <a href=\"https://shebanq.ancient-data.org/hebrew/text?book=Samuel_I&amp;chapter=14&amp;verse=40&amp;version=c&amp;mr=m&amp;qw=q&amp;tp=txt_p&amp;tr=hb&amp;wget=v&amp;qget=v&amp;nget=vt\" title=\"show this passage in SHEBANQ\" sec=\"1_Samuel 14:40\">1_Samuel 14:40</a></td><td class=\"tf\"><span class=\"hb\"><a href=\"https://shebanq.ancient-data.org/hebrew/text?book=Samuel_I&amp;chapter=14&amp;verse=40&amp;version=c&amp;mr=m&amp;qw=q&amp;tp=txt_p&amp;tr=hb&amp;wget=v&amp;qget=v&amp;nget=vt\" title=\"1_Samuel 14:40\" sec=\"1_Samuel 14:40\"><span  class=\"hl hlup\" >אֲנִי֙ </span><span  class=\"hlup\" >וְ</span><span  class=\"hl hlup\" >יֹונָתָ֣ן </span><span  class=\"hlup\" >בְּנִ֔י </span></a></span> <i>736546</i> </td><td class=\"tf\"><span class=\"hb\"><span  class=\"hl hlup\" >יֹונָתָ֣ן </span></span> <i>149266</i> </td><td class=\"tf\"><span class=\"hb\"><span  class=\"hl hlup\" >אֲנִי֙ </span></span> <i>149264</i> </td></tr>\n",
       "<tr class=\"tf\"><td class=\"tf\">87</td><td class=\"tf\"> <a href=\"https://shebanq.ancient-data.org/hebrew/text?book=Nehemia&amp;chapter=11&amp;verse=31&amp;version=c&amp;mr=m&amp;qw=q&amp;tp=txt_p&amp;tr=hb&amp;wget=v&amp;qget=v&amp;nget=vt\" title=\"show this passage in SHEBANQ\" sec=\"Nehemiah 11:31\">Nehemiah 11:31</a></td><td class=\"tf\"><span class=\"hb\"><a href=\"https://shebanq.ancient-data.org/hebrew/text?book=Nehemia&amp;chapter=11&amp;verse=31&amp;version=c&amp;mr=m&amp;qw=q&amp;tp=txt_p&amp;tr=hb&amp;wget=v&amp;qget=v&amp;nget=vt\" title=\"Nehemiah 11:31\" sec=\"Nehemiah 11:31\"><span  class=\"hlup\" >מִכְמָ֣שׂ </span><span  class=\"hlup\" >וְ</span><span  class=\"hl hlup\" >עַיָּ֔ה </span><span  class=\"hlup\" >וּ</span><span  class=\"hlup\" >בֵֽית־אֵ֖ל </span><span  class=\"hlup\" >וּ</span><span  class=\"hl hlup\" >בְנֹתֶֽיהָ׃ </span></a></span> <i>886732</i> </td><td class=\"tf\"><span class=\"hb\"><span  class=\"hl hlup\" >עַיָּ֔ה </span></span> <i>389743</i> </td><td class=\"tf\"><span class=\"hb\"><span  class=\"hl hlup\" >בְנֹתֶֽיהָ׃ </span></span> <i>389747</i> </td></tr>\n",
       "<tr class=\"tf\"><td class=\"tf\">88</td><td class=\"tf\"> <a href=\"https://shebanq.ancient-data.org/hebrew/text?book=Chronica_I&amp;chapter=8&amp;verse=26&amp;version=c&amp;mr=m&amp;qw=q&amp;tp=txt_p&amp;tr=hb&amp;wget=v&amp;qget=v&amp;nget=vt\" title=\"show this passage in SHEBANQ\" sec=\"1_Chronicles 8:26\">1_Chronicles 8:26</a></td><td class=\"tf\"><span class=\"hb\"><a href=\"https://shebanq.ancient-data.org/hebrew/text?book=Chronica_I&amp;chapter=8&amp;verse=26&amp;version=c&amp;mr=m&amp;qw=q&amp;tp=txt_p&amp;tr=hb&amp;wget=v&amp;qget=v&amp;nget=vt\" title=\"1_Chronicles 8:26\" sec=\"1_Chronicles 8:26\"><span  class=\"hlup\" >שַׁמְשְׁרַ֥י </span><span  class=\"hlup\" >וּ</span><span  class=\"hl hlup\" >שְׁחַרְיָ֖ה </span><span  class=\"hlup\" >וַ</span><span  class=\"hl hlup\" >עֲתַלְיָֽה׃ </span></a></span> <i>889275</i> </td><td class=\"tf\"><span class=\"hb\"><span  class=\"hl hlup\" >שְׁחַרְיָ֖ה </span></span> <i>395804</i> </td><td class=\"tf\"><span class=\"hb\"><span  class=\"hl hlup\" >עֲתַלְיָֽה׃ </span></span> <i>395806</i> </td></tr>\n",
       "<tr class=\"tf\"><td class=\"tf\">89</td><td class=\"tf\"> <a href=\"https://shebanq.ancient-data.org/hebrew/text?book=Chronica_I&amp;chapter=23&amp;verse=28&amp;version=c&amp;mr=m&amp;qw=q&amp;tp=txt_p&amp;tr=hb&amp;wget=v&amp;qget=v&amp;nget=vt\" title=\"show this passage in SHEBANQ\" sec=\"1_Chronicles 23:28\">1_Chronicles 23:28</a></td><td class=\"tf\"><span class=\"hb\"><a href=\"https://shebanq.ancient-data.org/hebrew/text?book=Chronica_I&amp;chapter=23&amp;verse=28&amp;version=c&amp;mr=m&amp;qw=q&amp;tp=txt_p&amp;tr=hb&amp;wget=v&amp;qget=v&amp;nget=vt\" title=\"1_Chronicles 23:28\" sec=\"1_Chronicles 23:28\"><span  class=\"hlup\" >עַל־</span><span  class=\"hlup\" >הַ</span><span  class=\"hl hlup\" >חֲצֵרֹות֙ </span><span  class=\"hlup\" >וְ</span><span  class=\"hlup\" >עַל־</span><span  class=\"hlup\" >הַ</span><span  class=\"hl hlup\" >לְּשָׁכֹ֔ות </span></a></span> <i>893228</i> </td><td class=\"tf\"><span class=\"hb\"><span  class=\"hl hlup\" >לְּשָׁכֹ֔ות </span></span> <i>403349</i> </td><td class=\"tf\"><span class=\"hb\"><span  class=\"hl hlup\" >חֲצֵרֹות֙ </span></span> <i>403345</i> </td></tr>\n",
       "<tr class=\"tf\"><td class=\"tf\">90</td><td class=\"tf\"> <a href=\"https://shebanq.ancient-data.org/hebrew/text?book=Chronica_II&amp;chapter=23&amp;verse=20&amp;version=c&amp;mr=m&amp;qw=q&amp;tp=txt_p&amp;tr=hb&amp;wget=v&amp;qget=v&amp;nget=vt\" title=\"show this passage in SHEBANQ\" sec=\"2_Chronicles 23:20\">2_Chronicles 23:20</a></td><td class=\"tf\"><span class=\"hb\"><a href=\"https://shebanq.ancient-data.org/hebrew/text?book=Chronica_II&amp;chapter=23&amp;verse=20&amp;version=c&amp;mr=m&amp;qw=q&amp;tp=txt_p&amp;tr=hb&amp;wget=v&amp;qget=v&amp;nget=vt\" title=\"2_Chronicles 23:20\" sec=\"2_Chronicles 23:20\"><span  class=\"hlup\" >אֶת־</span><span  class=\"hlup\" >שָׂרֵ֣י </span><span  class=\"hlup\" >הַ</span><span  class=\"hlup\" >מֵּאֹ֡ות </span><span  class=\"hlup\" >וְ</span><span  class=\"hlup\" >אֶת־</span><span  class=\"hlup\" >הָֽ</span><span  class=\"hl hlup\" >אַדִּירִים֩ </span><span  class=\"hlup\" >וְ</span><span  class=\"hlup\" >אֶת־</span><span  class=\"hlup\" >הַ</span><span  class=\"hl hlup\" >מֹּֽושְׁלִ֨ים </span><span  class=\"hlup\" >בָּ</span><span  class=\"hlup\" ></span><span  class=\"hlup\" >עָ֜ם </span><span  class=\"hlup\" >וְ</span><span  class=\"hlup\" >אֵ֣ת׀ </span><span  class=\"hlup\" >כָּל־</span><span  class=\"hlup\" >עַ֣ם </span><span  class=\"hlup\" >הָ</span><span  class=\"hlup\" >אָ֗רֶץ </span></a></span> <i>900520</i> </td><td class=\"tf\"><span class=\"hb\"><span  class=\"hl hlup\" >מֹּֽושְׁלִ֨ים </span></span> <i>418164</i> </td><td class=\"tf\"><span class=\"hb\"><span  class=\"hl hlup\" >אַדִּירִים֩ </span></span> <i>418160</i> </td></tr>\n",
       "<tr class=\"tf\"><td class=\"tf\">91</td><td class=\"tf\"> <a href=\"https://shebanq.ancient-data.org/hebrew/text?book=Chronica_I&amp;chapter=23&amp;verse=15&amp;version=c&amp;mr=m&amp;qw=q&amp;tp=txt_p&amp;tr=hb&amp;wget=v&amp;qget=v&amp;nget=vt\" title=\"show this passage in SHEBANQ\" sec=\"1_Chronicles 23:15\">1_Chronicles 23:15</a></td><td class=\"tf\"><span class=\"hb\"><a href=\"https://shebanq.ancient-data.org/hebrew/text?book=Chronica_I&amp;chapter=23&amp;verse=15&amp;version=c&amp;mr=m&amp;qw=q&amp;tp=txt_p&amp;tr=hb&amp;wget=v&amp;qget=v&amp;nget=vt\" title=\"1_Chronicles 23:15\" sec=\"1_Chronicles 23:15\"><span  class=\"hl hlup\" >גֵּרְשֹׁ֖ם </span><span  class=\"hlup\" >וֶ</span><span  class=\"hl hlup\" >אֱלִיעֶֽזֶר׃ </span></a></span> <i>893141</i> </td><td class=\"tf\"><span class=\"hb\"><span  class=\"hl hlup\" >אֱלִיעֶֽזֶר׃ </span></span> <i>403165</i> </td><td class=\"tf\"><span class=\"hb\"><span  class=\"hl hlup\" >גֵּרְשֹׁ֖ם </span></span> <i>403163</i> </td></tr>\n",
       "<tr class=\"tf\"><td class=\"tf\">92</td><td class=\"tf\"> <a href=\"https://shebanq.ancient-data.org/hebrew/text?book=Genesis&amp;chapter=25&amp;verse=14&amp;version=c&amp;mr=m&amp;qw=q&amp;tp=txt_p&amp;tr=hb&amp;wget=v&amp;qget=v&amp;nget=vt\" title=\"show this passage in SHEBANQ\" sec=\"Genesis 25:14\">Genesis 25:14</a></td><td class=\"tf\"><span class=\"hb\"><a href=\"https://shebanq.ancient-data.org/hebrew/text?book=Genesis&amp;chapter=25&amp;verse=14&amp;version=c&amp;mr=m&amp;qw=q&amp;tp=txt_p&amp;tr=hb&amp;wget=v&amp;qget=v&amp;nget=vt\" title=\"Genesis 25:14\" sec=\"Genesis 25:14\"><span  class=\"hl hlup\" >מִשְׁמָ֥ע </span><span  class=\"hlup\" >וְ</span><span  class=\"hlup\" >דוּמָ֖ה </span><span  class=\"hlup\" >וּ</span><span  class=\"hl hlup\" >מַשָּֽׂא׃ </span></a></span> <i>658990</i> </td><td class=\"tf\"><span class=\"hb\"><span  class=\"hl hlup\" >מַשָּֽׂא׃ </span></span> <i>12643</i> </td><td class=\"tf\"><span class=\"hb\"><span  class=\"hl hlup\" >מִשְׁמָ֥ע </span></span> <i>12639</i> </td></tr>\n",
       "<tr class=\"tf\"><td class=\"tf\">93</td><td class=\"tf\"> <a href=\"https://shebanq.ancient-data.org/hebrew/text?book=Josua&amp;chapter=19&amp;verse=20&amp;version=c&amp;mr=m&amp;qw=q&amp;tp=txt_p&amp;tr=hb&amp;wget=v&amp;qget=v&amp;nget=vt\" title=\"show this passage in SHEBANQ\" sec=\"Joshua 19:20\">Joshua 19:20</a></td><td class=\"tf\"><span class=\"hb\"><a href=\"https://shebanq.ancient-data.org/hebrew/text?book=Josua&amp;chapter=19&amp;verse=20&amp;version=c&amp;mr=m&amp;qw=q&amp;tp=txt_p&amp;tr=hb&amp;wget=v&amp;qget=v&amp;nget=vt\" title=\"Joshua 19:20\" sec=\"Joshua 19:20\"><span  class=\"hlup\" >הָֽ</span><span  class=\"hl hlup\" >רַבִּ֥ית </span><span  class=\"hlup\" >וְ</span><span  class=\"hl hlup\" >קִשְׁיֹ֖ון </span><span  class=\"hlup\" >וָ</span><span  class=\"hlup\" >אָֽבֶץ׃ </span></a></span> <i>721167</i> </td><td class=\"tf\"><span class=\"hb\"><span  class=\"hl hlup\" >רַבִּ֥ית </span></span> <i>123667</i> </td><td class=\"tf\"><span class=\"hb\"><span  class=\"hl hlup\" >קִשְׁיֹ֖ון </span></span> <i>123669</i> </td></tr>\n",
       "<tr class=\"tf\"><td class=\"tf\">94</td><td class=\"tf\"> <a href=\"https://shebanq.ancient-data.org/hebrew/text?book=Leviticus&amp;chapter=22&amp;verse=22&amp;version=c&amp;mr=m&amp;qw=q&amp;tp=txt_p&amp;tr=hb&amp;wget=v&amp;qget=v&amp;nget=vt\" title=\"show this passage in SHEBANQ\" sec=\"Leviticus 22:22\">Leviticus 22:22</a></td><td class=\"tf\"><span class=\"hb\"><a href=\"https://shebanq.ancient-data.org/hebrew/text?book=Leviticus&amp;chapter=22&amp;verse=22&amp;version=c&amp;mr=m&amp;qw=q&amp;tp=txt_p&amp;tr=hb&amp;wget=v&amp;qget=v&amp;nget=vt\" title=\"Leviticus 22:22\" sec=\"Leviticus 22:22\"><span  class=\"hlup\" >עַוֶּרֶת֩ </span><span  class=\"hlup\" >אֹ֨ו </span><span  class=\"hlup\" >שָׁב֜וּר </span><span  class=\"hlup\" >אֹו־</span><span  class=\"hlup\" >חָר֣וּץ </span><span  class=\"hlup\" >אֹֽו־</span><span  class=\"hl hlup\" >יַבֶּ֗לֶת </span><span  class=\"hlup\" >אֹ֤ו </span><span  class=\"hlup\" >גָרָב֙ </span><span  class=\"hlup\" >אֹ֣ו </span><span  class=\"hl hlup\" >יַלֶּ֔פֶת </span></a></span> <i>690070</i> </td><td class=\"tf\"><span class=\"hb\"><span  class=\"hl hlup\" >יַלֶּ֔פֶת </span></span> <i>65768</i> </td><td class=\"tf\"><span class=\"hb\"><span  class=\"hl hlup\" >יַבֶּ֗לֶת </span></span> <i>65764</i> </td></tr>\n",
       "<tr class=\"tf\"><td class=\"tf\">95</td><td class=\"tf\"> <a href=\"https://shebanq.ancient-data.org/hebrew/text?book=Chronica_II&amp;chapter=16&amp;verse=4&amp;version=c&amp;mr=m&amp;qw=q&amp;tp=txt_p&amp;tr=hb&amp;wget=v&amp;qget=v&amp;nget=vt\" title=\"show this passage in SHEBANQ\" sec=\"2_Chronicles 16:4\">2_Chronicles 16:4</a></td><td class=\"tf\"><span class=\"hb\"><a href=\"https://shebanq.ancient-data.org/hebrew/text?book=Chronica_II&amp;chapter=16&amp;verse=4&amp;version=c&amp;mr=m&amp;qw=q&amp;tp=txt_p&amp;tr=hb&amp;wget=v&amp;qget=v&amp;nget=vt\" title=\"2_Chronicles 16:4\" sec=\"2_Chronicles 16:4\"><span  class=\"hlup\" >אֶת־</span><span  class=\"hlup\" >עִיֹּ֣ון </span><span  class=\"hlup\" >וְ</span><span  class=\"hlup\" >אֶת־</span><span  class=\"hlup\" >דָּ֔ן </span><span  class=\"hlup\" >וְ</span><span  class=\"hlup\" >אֵ֖ת </span><span  class=\"hl hlup\" >אָבֵ֣ל מָ֑יִם </span><span  class=\"hlup\" >וְ</span><span  class=\"hlup\" >אֵ֥ת </span><span  class=\"hl hlup\" >כָּֽל־</span><span  class=\"hlup\" >מִסְכְּנֹ֖ות </span><span  class=\"hlup\" >עָרֵ֥י </span><span  class=\"hlup\" >נַפְתָּלִֽי׃ </span></a></span> <i>898411</i> </td><td class=\"tf\"><span class=\"hb\"><span  class=\"hl hlup\" >אָבֵ֣ל מָ֑יִם </span></span> <i>414306</i> </td><td class=\"tf\"><span class=\"hb\"><span  class=\"hl hlup\" >כָּֽל־</span></span> <i>414309</i> </td></tr>\n",
       "<tr class=\"tf\"><td class=\"tf\">96</td><td class=\"tf\"> <a href=\"https://shebanq.ancient-data.org/hebrew/text?book=Josua&amp;chapter=19&amp;verse=20&amp;version=c&amp;mr=m&amp;qw=q&amp;tp=txt_p&amp;tr=hb&amp;wget=v&amp;qget=v&amp;nget=vt\" title=\"show this passage in SHEBANQ\" sec=\"Joshua 19:20\">Joshua 19:20</a></td><td class=\"tf\"><span class=\"hb\"><a href=\"https://shebanq.ancient-data.org/hebrew/text?book=Josua&amp;chapter=19&amp;verse=20&amp;version=c&amp;mr=m&amp;qw=q&amp;tp=txt_p&amp;tr=hb&amp;wget=v&amp;qget=v&amp;nget=vt\" title=\"Joshua 19:20\" sec=\"Joshua 19:20\"><span  class=\"hlup\" >הָֽ</span><span  class=\"hl hlup\" >רַבִּ֥ית </span><span  class=\"hlup\" >וְ</span><span  class=\"hlup\" >קִשְׁיֹ֖ון </span><span  class=\"hlup\" >וָ</span><span  class=\"hl hlup\" >אָֽבֶץ׃ </span></a></span> <i>721167</i> </td><td class=\"tf\"><span class=\"hb\"><span  class=\"hl hlup\" >אָֽבֶץ׃ </span></span> <i>123671</i> </td><td class=\"tf\"><span class=\"hb\"><span  class=\"hl hlup\" >רַבִּ֥ית </span></span> <i>123667</i> </td></tr>\n",
       "<tr class=\"tf\"><td class=\"tf\">97</td><td class=\"tf\"> <a href=\"https://shebanq.ancient-data.org/hebrew/text?book=Deuteronomium&amp;chapter=8&amp;verse=8&amp;version=c&amp;mr=m&amp;qw=q&amp;tp=txt_p&amp;tr=hb&amp;wget=v&amp;qget=v&amp;nget=vt\" title=\"show this passage in SHEBANQ\" sec=\"Deuteronomy 8:8\">Deuteronomy 8:8</a></td><td class=\"tf\"><span class=\"hb\"><a href=\"https://shebanq.ancient-data.org/hebrew/text?book=Deuteronomium&amp;chapter=8&amp;verse=8&amp;version=c&amp;mr=m&amp;qw=q&amp;tp=txt_p&amp;tr=hb&amp;wget=v&amp;qget=v&amp;nget=vt\" title=\"Deuteronomy 8:8\" sec=\"Deuteronomy 8:8\"><span  class=\"hlup\" >אֶ֤רֶץ </span><span  class=\"hlup\" >חִטָּה֙ </span><span  class=\"hlup\" >וּ</span><span  class=\"hlup\" >שְׂעֹרָ֔ה </span><span  class=\"hlup\" >וְ</span><span  class=\"hl hlup\" >גֶ֥פֶן </span><span  class=\"hlup\" >וּ</span><span  class=\"hlup\" >תְאֵנָ֖ה </span><span  class=\"hlup\" >וְ</span><span  class=\"hl hlup\" >רִמֹּ֑ון </span><span  class=\"hlup\" >אֶֽרֶץ־</span><span  class=\"hlup\" >זֵ֥ית </span><span  class=\"hlup\" >שֶׁ֖מֶן </span><span  class=\"hlup\" >וּ</span><span  class=\"hlup\" >דְבָֽשׁ׃ </span></a></span> <i>707136</i> </td><td class=\"tf\"><span class=\"hb\"><span  class=\"hl hlup\" >גֶ֥פֶן </span></span> <i>98157</i> </td><td class=\"tf\"><span class=\"hb\"><span  class=\"hl hlup\" >רִמֹּ֑ון </span></span> <i>98161</i> </td></tr>\n",
       "<tr class=\"tf\"><td class=\"tf\">98</td><td class=\"tf\"> <a href=\"https://shebanq.ancient-data.org/hebrew/text?book=Leviticus&amp;chapter=11&amp;verse=35&amp;version=c&amp;mr=m&amp;qw=q&amp;tp=txt_p&amp;tr=hb&amp;wget=v&amp;qget=v&amp;nget=vt\" title=\"show this passage in SHEBANQ\" sec=\"Leviticus 11:35\">Leviticus 11:35</a></td><td class=\"tf\"><span class=\"hb\"><a href=\"https://shebanq.ancient-data.org/hebrew/text?book=Leviticus&amp;chapter=11&amp;verse=35&amp;version=c&amp;mr=m&amp;qw=q&amp;tp=txt_p&amp;tr=hb&amp;wget=v&amp;qget=v&amp;nget=vt\" title=\"Leviticus 11:35\" sec=\"Leviticus 11:35\"><span  class=\"hl hlup\" >תַּנּ֧וּר </span><span  class=\"hlup\" >וְ</span><span  class=\"hl hlup\" >כִירַ֛יִם </span></a></span> <i>685886</i> </td><td class=\"tf\"><span class=\"hb\"><span  class=\"hl hlup\" >כִירַ֛יִם </span></span> <i>58464</i> </td><td class=\"tf\"><span class=\"hb\"><span  class=\"hl hlup\" >תַּנּ֧וּר </span></span> <i>58462</i> </td></tr>\n",
       "<tr class=\"tf\"><td class=\"tf\">99</td><td class=\"tf\"> <a href=\"https://shebanq.ancient-data.org/hebrew/text?book=Jeremia&amp;chapter=36&amp;verse=25&amp;version=c&amp;mr=m&amp;qw=q&amp;tp=txt_p&amp;tr=hb&amp;wget=v&amp;qget=v&amp;nget=vt\" title=\"show this passage in SHEBANQ\" sec=\"Jeremiah 36:25\">Jeremiah 36:25</a></td><td class=\"tf\"><span class=\"hb\"><a href=\"https://shebanq.ancient-data.org/hebrew/text?book=Jeremia&amp;chapter=36&amp;verse=25&amp;version=c&amp;mr=m&amp;qw=q&amp;tp=txt_p&amp;tr=hb&amp;wget=v&amp;qget=v&amp;nget=vt\" title=\"Jeremiah 36:25\" sec=\"Jeremiah 36:25\"><span  class=\"hlup\" >גַם֩ </span><span  class=\"hlup\" >אֶלְנָתָ֨ן </span><span  class=\"hlup\" >וּ</span><span  class=\"hl hlup\" >דְלָיָ֤הוּ </span><span  class=\"hlup\" >וּ</span><span  class=\"hl hlup\" >גְמַרְיָ֨הוּ֙ </span></a></span> <i>801122</i> </td><td class=\"tf\"><span class=\"hb\"><span  class=\"hl hlup\" >גְמַרְיָ֨הוּ֙ </span></span> <i>254858</i> </td><td class=\"tf\"><span class=\"hb\"><span  class=\"hl hlup\" >דְלָיָ֤הוּ </span></span> <i>254856</i> </td></tr>\n",
       "<tr class=\"tf\"><td class=\"tf\">100</td><td class=\"tf\"> <a href=\"https://shebanq.ancient-data.org/hebrew/text?book=Josua&amp;chapter=15&amp;verse=59&amp;version=c&amp;mr=m&amp;qw=q&amp;tp=txt_p&amp;tr=hb&amp;wget=v&amp;qget=v&amp;nget=vt\" title=\"show this passage in SHEBANQ\" sec=\"Joshua 15:59\">Joshua 15:59</a></td><td class=\"tf\"><span class=\"hb\"><a href=\"https://shebanq.ancient-data.org/hebrew/text?book=Josua&amp;chapter=15&amp;verse=59&amp;version=c&amp;mr=m&amp;qw=q&amp;tp=txt_p&amp;tr=hb&amp;wget=v&amp;qget=v&amp;nget=vt\" title=\"Joshua 15:59\" sec=\"Joshua 15:59\"><span  class=\"hlup\" >מַעֲרָ֥ת </span><span  class=\"hlup\" >וּ</span><span  class=\"hl hlup\" >בֵית־עֲנֹ֖ות </span><span  class=\"hlup\" >וְ</span><span  class=\"hl hlup\" >אֶלְתְּקֹ֑ן </span></a></span> <i>720435</i> </td><td class=\"tf\"><span class=\"hb\"><span  class=\"hl hlup\" >בֵית־עֲנֹ֖ות </span></span> <i>122120</i> </td><td class=\"tf\"><span class=\"hb\"><span  class=\"hl hlup\" >אֶלְתְּקֹ֑ן </span></span> <i>122122</i> </td></tr></table>"
      ],
      "text/plain": [
       "<IPython.core.display.HTML object>"
      ]
     },
     "metadata": {},
     "output_type": "display_data"
    }
   ],
   "source": [
    "showme = []\n",
    "for i in range(1, 101):\n",
    "    firstnoun = random.choice(list(cpairresults))\n",
    "    secondnoun = random.choice(list(cpairresults[firstnoun]))\n",
    "    result = random.choice(cpairresults[firstnoun][secondnoun])\n",
    "    result = L.u(result[0], 'phrase') + result\n",
    "    showme.append(result)\n",
    "    \n",
    "A.table(showme, withNodes=True)"
   ]
  },
  {
   "cell_type": "markdown",
   "metadata": {},
   "source": [
    "### Stats"
   ]
  },
  {
   "cell_type": "code",
   "execution_count": 76,
   "metadata": {},
   "outputs": [
    {
     "data": {
      "text/plain": [
       "3018"
      ]
     },
     "execution_count": 76,
     "metadata": {},
     "output_type": "execute_result"
    }
   ],
   "source": [
    "len(conjpairs)"
   ]
  },
  {
   "cell_type": "markdown",
   "metadata": {},
   "source": [
    "### Construct Pairs"
   ]
  },
  {
   "cell_type": "code",
   "execution_count": 77,
   "metadata": {},
   "outputs": [],
   "source": [
    "conpairs = wsets.consts.pairs\n",
    "conpairresults = wsets.consts.pairresults"
   ]
  },
  {
   "cell_type": "code",
   "execution_count": 78,
   "metadata": {},
   "outputs": [
    {
     "data": {
      "text/html": [
       "<table>\n",
       "<tr class=\"tf\">\n",
       "  <th class=\"tf\">n</th><th class=\"tf\">p</th>\n",
       "  <th class=\"tf\">phrase</th><th>word</th><th>word</th>\n",
       "</tr>\n",
       "\n",
       "<tr class=\"tf\"><td class=\"tf\">1</td><td class=\"tf\"> <a href=\"https://shebanq.ancient-data.org/hebrew/text?book=Iob&amp;chapter=32&amp;verse=8&amp;version=c&amp;mr=m&amp;qw=q&amp;tp=txt_p&amp;tr=hb&amp;wget=v&amp;qget=v&amp;nget=vt\" title=\"show this passage in SHEBANQ\" sec=\"Job 32:8\">Job 32:8</a></td><td class=\"tf\"><span class=\"hb\"><a href=\"https://shebanq.ancient-data.org/hebrew/text?book=Iob&amp;chapter=32&amp;verse=8&amp;version=c&amp;mr=m&amp;qw=q&amp;tp=txt_p&amp;tr=hb&amp;wget=v&amp;qget=v&amp;nget=vt\" title=\"Job 32:8\" sec=\"Job 32:8\"><span  class=\"hl hlup\" >נִשְׁמַ֖ת </span><span  class=\"hl hlup\" >שַׁדַּ֣י </span></a></span> <i>859104</i> </td><td class=\"tf\"><span class=\"hb\"><span  class=\"hl hlup\" >נִשְׁמַ֖ת </span></span> <i>343920</i> </td><td class=\"tf\"><span class=\"hb\"><span  class=\"hl hlup\" >שַׁדַּ֣י </span></span> <i>343921</i> </td></tr>\n",
       "<tr class=\"tf\"><td class=\"tf\">2</td><td class=\"tf\"> <a href=\"https://shebanq.ancient-data.org/hebrew/text?book=Ezechiel&amp;chapter=17&amp;verse=9&amp;version=c&amp;mr=m&amp;qw=q&amp;tp=txt_p&amp;tr=hb&amp;wget=v&amp;qget=v&amp;nget=vt\" title=\"show this passage in SHEBANQ\" sec=\"Ezekiel 17:9\">Ezekiel 17:9</a></td><td class=\"tf\"><span class=\"hb\"><a href=\"https://shebanq.ancient-data.org/hebrew/text?book=Ezechiel&amp;chapter=17&amp;verse=9&amp;version=c&amp;mr=m&amp;qw=q&amp;tp=txt_p&amp;tr=hb&amp;wget=v&amp;qget=v&amp;nget=vt\" title=\"Ezekiel 17:9\" sec=\"Ezekiel 17:9\"><span  class=\"hlup\" >כָּל־</span><span  class=\"hl hlup\" >טַרְפֵּ֤י </span><span  class=\"hl hlup\" >צִמְחָהּ֙ </span></a></span> <i>811641</i> </td><td class=\"tf\"><span class=\"hb\"><span  class=\"hl hlup\" >טַרְפֵּ֤י </span></span> <i>272350</i> </td><td class=\"tf\"><span class=\"hb\"><span  class=\"hl hlup\" >צִמְחָהּ֙ </span></span> <i>272351</i> </td></tr>\n",
       "<tr class=\"tf\"><td class=\"tf\">3</td><td class=\"tf\"> <a href=\"https://shebanq.ancient-data.org/hebrew/text?book=Iob&amp;chapter=26&amp;verse=14&amp;version=c&amp;mr=m&amp;qw=q&amp;tp=txt_p&amp;tr=hb&amp;wget=v&amp;qget=v&amp;nget=vt\" title=\"show this passage in SHEBANQ\" sec=\"Job 26:14\">Job 26:14</a></td><td class=\"tf\"><span class=\"hb\"><a href=\"https://shebanq.ancient-data.org/hebrew/text?book=Iob&amp;chapter=26&amp;verse=14&amp;version=c&amp;mr=m&amp;qw=q&amp;tp=txt_p&amp;tr=hb&amp;wget=v&amp;qget=v&amp;nget=vt\" title=\"Job 26:14\" sec=\"Job 26:14\"><span  class=\"hl hlup\" >שֵּׁ֣מֶץ </span><span  class=\"hl hlup\" >דָּ֭בָר </span></a></span> <i>857937</i> </td><td class=\"tf\"><span class=\"hb\"><span  class=\"hl hlup\" >שֵּׁ֣מֶץ </span></span> <i>342362</i> </td><td class=\"tf\"><span class=\"hb\"><span  class=\"hl hlup\" >דָּ֭בָר </span></span> <i>342363</i> </td></tr>\n",
       "<tr class=\"tf\"><td class=\"tf\">4</td><td class=\"tf\"> <a href=\"https://shebanq.ancient-data.org/hebrew/text?book=Ezechiel&amp;chapter=9&amp;verse=4&amp;version=c&amp;mr=m&amp;qw=q&amp;tp=txt_p&amp;tr=hb&amp;wget=v&amp;qget=v&amp;nget=vt\" title=\"show this passage in SHEBANQ\" sec=\"Ezekiel 9:4\">Ezekiel 9:4</a></td><td class=\"tf\"><span class=\"hb\"><a href=\"https://shebanq.ancient-data.org/hebrew/text?book=Ezechiel&amp;chapter=9&amp;verse=4&amp;version=c&amp;mr=m&amp;qw=q&amp;tp=txt_p&amp;tr=hb&amp;wget=v&amp;qget=v&amp;nget=vt\" title=\"Ezekiel 9:4\" sec=\"Ezekiel 9:4\"><span  class=\"hlup\" >עַל־</span><span  class=\"hl hlup\" >מִצְחֹ֣ות </span><span  class=\"hlup\" >הָ</span><span  class=\"hl hlup\" >אֲנָשִׁ֗ים </span></a></span> <i>808935</i> </td><td class=\"tf\"><span class=\"hb\"><span  class=\"hl hlup\" >מִצְחֹ֣ות </span></span> <i>268180</i> </td><td class=\"tf\"><span class=\"hb\"><span  class=\"hl hlup\" >אֲנָשִׁ֗ים </span></span> <i>268182</i> </td></tr>\n",
       "<tr class=\"tf\"><td class=\"tf\">5</td><td class=\"tf\"> <a href=\"https://shebanq.ancient-data.org/hebrew/text?book=Esra&amp;chapter=8&amp;verse=36&amp;version=c&amp;mr=m&amp;qw=q&amp;tp=txt_p&amp;tr=hb&amp;wget=v&amp;qget=v&amp;nget=vt\" title=\"show this passage in SHEBANQ\" sec=\"Ezra 8:36\">Ezra 8:36</a></td><td class=\"tf\"><span class=\"hb\"><a href=\"https://shebanq.ancient-data.org/hebrew/text?book=Esra&amp;chapter=8&amp;verse=36&amp;version=c&amp;mr=m&amp;qw=q&amp;tp=txt_p&amp;tr=hb&amp;wget=v&amp;qget=v&amp;nget=vt\" title=\"Ezra 8:36\" sec=\"Ezra 8:36\"><span  class=\"hlup\" >לַ</span><span  class=\"hl hlup\" >אֲחַשְׁדַּרְפְּנֵי֙ </span><span  class=\"hlup\" >הַ</span><span  class=\"hl hlup\" >מֶּ֔לֶךְ </span><span  class=\"hlup\" >וּ</span><span  class=\"hlup\" >פַחֲוֹ֖ות </span><span  class=\"hlup\" >עֵ֣בֶר </span><span  class=\"hlup\" >הַ</span><span  class=\"hlup\" >נָּהָ֑ר </span></a></span> <i>883124</i> </td><td class=\"tf\"><span class=\"hb\"><span  class=\"hl hlup\" >אֲחַשְׁדַּרְפְּנֵי֙ </span></span> <i>382245</i> </td><td class=\"tf\"><span class=\"hb\"><span  class=\"hl hlup\" >מֶּ֔לֶךְ </span></span> <i>382247</i> </td></tr>\n",
       "<tr class=\"tf\"><td class=\"tf\">6</td><td class=\"tf\"> <a href=\"https://shebanq.ancient-data.org/hebrew/text?book=Ezechiel&amp;chapter=23&amp;verse=21&amp;version=c&amp;mr=m&amp;qw=q&amp;tp=txt_p&amp;tr=hb&amp;wget=v&amp;qget=v&amp;nget=vt\" title=\"show this passage in SHEBANQ\" sec=\"Ezekiel 23:21\">Ezekiel 23:21</a></td><td class=\"tf\"><span class=\"hb\"><a href=\"https://shebanq.ancient-data.org/hebrew/text?book=Ezechiel&amp;chapter=23&amp;verse=21&amp;version=c&amp;mr=m&amp;qw=q&amp;tp=txt_p&amp;tr=hb&amp;wget=v&amp;qget=v&amp;nget=vt\" title=\"Ezekiel 23:21\" sec=\"Ezekiel 23:21\"><span  class=\"hlup\" >לְמַ֖עַן </span><span  class=\"hl hlup\" >שְׁדֵ֥י </span><span  class=\"hl hlup\" >נְעוּרָֽיִךְ׃ ס </span></a></span> <i>814124</i> </td><td class=\"tf\"><span class=\"hb\"><span  class=\"hl hlup\" >שְׁדֵ֥י </span></span> <i>276030</i> </td><td class=\"tf\"><span class=\"hb\"><span  class=\"hl hlup\" >נְעוּרָֽיִךְ׃ ס </span></span> <i>276031</i> </td></tr>\n",
       "<tr class=\"tf\"><td class=\"tf\">7</td><td class=\"tf\"> <a href=\"https://shebanq.ancient-data.org/hebrew/text?book=Psalmi&amp;chapter=77&amp;verse=5&amp;version=c&amp;mr=m&amp;qw=q&amp;tp=txt_p&amp;tr=hb&amp;wget=v&amp;qget=v&amp;nget=vt\" title=\"show this passage in SHEBANQ\" sec=\"Psalms 77:5\">Psalms 77:5</a></td><td class=\"tf\"><span class=\"hb\"><a href=\"https://shebanq.ancient-data.org/hebrew/text?book=Psalmi&amp;chapter=77&amp;verse=5&amp;version=c&amp;mr=m&amp;qw=q&amp;tp=txt_p&amp;tr=hb&amp;wget=v&amp;qget=v&amp;nget=vt\" title=\"Psalms 77:5\" sec=\"Psalms 77:5\"><span  class=\"hl hlup\" >שְׁמֻרֹ֣ות </span><span  class=\"hl hlup\" >עֵינָ֑י </span></a></span> <i>844310</i> </td><td class=\"tf\"><span class=\"hb\"><span  class=\"hl hlup\" >שְׁמֻרֹ֣ות </span></span> <i>323299</i> </td><td class=\"tf\"><span class=\"hb\"><span  class=\"hl hlup\" >עֵינָ֑י </span></span> <i>323300</i> </td></tr>\n",
       "<tr class=\"tf\"><td class=\"tf\">8</td><td class=\"tf\"> <a href=\"https://shebanq.ancient-data.org/hebrew/text?book=Jeremia&amp;chapter=2&amp;verse=24&amp;version=c&amp;mr=m&amp;qw=q&amp;tp=txt_p&amp;tr=hb&amp;wget=v&amp;qget=v&amp;nget=vt\" title=\"show this passage in SHEBANQ\" sec=\"Jeremiah 2:24\">Jeremiah 2:24</a></td><td class=\"tf\"><span class=\"hb\"><a href=\"https://shebanq.ancient-data.org/hebrew/text?book=Jeremia&amp;chapter=2&amp;verse=24&amp;version=c&amp;mr=m&amp;qw=q&amp;tp=txt_p&amp;tr=hb&amp;wget=v&amp;qget=v&amp;nget=vt\" title=\"Jeremiah 2:24\" sec=\"Jeremiah 2:24\"><span  class=\"hl hlup\" >לִמֻּ֣ד </span><span  class=\"hl hlup\" >מִדְבָּ֗ר </span></a></span> <i>789833</i> </td><td class=\"tf\"><span class=\"hb\"><span  class=\"hl hlup\" >לִמֻּ֣ד </span></span> <i>235773</i> </td><td class=\"tf\"><span class=\"hb\"><span  class=\"hl hlup\" >מִדְבָּ֗ר </span></span> <i>235774</i> </td></tr>\n",
       "<tr class=\"tf\"><td class=\"tf\">9</td><td class=\"tf\"> <a href=\"https://shebanq.ancient-data.org/hebrew/text?book=Jesaia&amp;chapter=61&amp;verse=3&amp;version=c&amp;mr=m&amp;qw=q&amp;tp=txt_p&amp;tr=hb&amp;wget=v&amp;qget=v&amp;nget=vt\" title=\"show this passage in SHEBANQ\" sec=\"Isaiah 61:3\">Isaiah 61:3</a></td><td class=\"tf\"><span class=\"hb\"><a href=\"https://shebanq.ancient-data.org/hebrew/text?book=Jesaia&amp;chapter=61&amp;verse=3&amp;version=c&amp;mr=m&amp;qw=q&amp;tp=txt_p&amp;tr=hb&amp;wget=v&amp;qget=v&amp;nget=vt\" title=\"Isaiah 61:3\" sec=\"Isaiah 61:3\"><span  class=\"hl hlup\" >מַעֲטֵ֣ה </span><span  class=\"hl hlup\" >תְהִלָּ֔ה </span></a></span> <i>788007</i> </td><td class=\"tf\"><span class=\"hb\"><span  class=\"hl hlup\" >מַעֲטֵ֣ה </span></span> <i>233075</i> </td><td class=\"tf\"><span class=\"hb\"><span  class=\"hl hlup\" >תְהִלָּ֔ה </span></span> <i>233076</i> </td></tr>\n",
       "<tr class=\"tf\"><td class=\"tf\">10</td><td class=\"tf\"> <a href=\"https://shebanq.ancient-data.org/hebrew/text?book=Proverbia&amp;chapter=11&amp;verse=29&amp;version=c&amp;mr=m&amp;qw=q&amp;tp=txt_p&amp;tr=hb&amp;wget=v&amp;qget=v&amp;nget=vt\" title=\"show this passage in SHEBANQ\" sec=\"Proverbs 11:29\">Proverbs 11:29</a></td><td class=\"tf\"><span class=\"hb\"><a href=\"https://shebanq.ancient-data.org/hebrew/text?book=Proverbia&amp;chapter=11&amp;verse=29&amp;version=c&amp;mr=m&amp;qw=q&amp;tp=txt_p&amp;tr=hb&amp;wget=v&amp;qget=v&amp;nget=vt\" title=\"Proverbs 11:29\" sec=\"Proverbs 11:29\"><span  class=\"hlup\" >לַ</span><span  class=\"hl hlup\" >חֲכַם־</span><span  class=\"hl hlup\" >לֵֽב׃ </span></a></span> <i>863427</i> </td><td class=\"tf\"><span class=\"hb\"><span  class=\"hl hlup\" >חֲכַם־</span></span> <i>349893</i> </td><td class=\"tf\"><span class=\"hb\"><span  class=\"hl hlup\" >לֵֽב׃ </span></span> <i>349894</i> </td></tr>\n",
       "<tr class=\"tf\"><td class=\"tf\">11</td><td class=\"tf\"> <a href=\"https://shebanq.ancient-data.org/hebrew/text?book=Esra&amp;chapter=8&amp;verse=35&amp;version=c&amp;mr=m&amp;qw=q&amp;tp=txt_p&amp;tr=hb&amp;wget=v&amp;qget=v&amp;nget=vt\" title=\"show this passage in SHEBANQ\" sec=\"Ezra 8:35\">Ezra 8:35</a></td><td class=\"tf\"><span class=\"hb\"><a href=\"https://shebanq.ancient-data.org/hebrew/text?book=Esra&amp;chapter=8&amp;verse=35&amp;version=c&amp;mr=m&amp;qw=q&amp;tp=txt_p&amp;tr=hb&amp;wget=v&amp;qget=v&amp;nget=vt\" title=\"Ezra 8:35\" sec=\"Ezra 8:35\"><span  class=\"hlup\" >עֹלֹ֣ות׀ </span><span  class=\"hlup\" >פָּרִ֨ים </span><span  class=\"hlup\" >שְׁנֵים־</span><span  class=\"hlup\" >עָשָׂ֤ר </span><span  class=\"hlup\" >עַל־</span><span  class=\"hlup\" >כָּל־</span><span  class=\"hlup\" >יִשְׂרָאֵל֙ </span><span  class=\"hlup\" >אֵילִ֣ים׀ </span><span  class=\"hlup\" >תִּשְׁעִ֣ים </span><span  class=\"hlup\" >וְ</span><span  class=\"hlup\" >שִׁשָּׁ֗ה </span><span  class=\"hlup\" >כְּבָשִׂים֙ </span><span  class=\"hlup\" >שִׁבְעִ֣ים </span><span  class=\"hlup\" >וְ</span><span  class=\"hlup\" >שִׁבְעָ֔ה </span><span  class=\"hl hlup\" >צְפִירֵ֥י </span><span  class=\"hl hlup\" >חַטָּ֖את </span><span  class=\"hlup\" >שְׁנֵ֣ים </span><span  class=\"hlup\" >עָשָׂ֑ר </span></a></span> <i>883117</i> </td><td class=\"tf\"><span class=\"hb\"><span  class=\"hl hlup\" >צְפִירֵ֥י </span></span> <i>382229</i> </td><td class=\"tf\"><span class=\"hb\"><span  class=\"hl hlup\" >חַטָּ֖את </span></span> <i>382230</i> </td></tr>\n",
       "<tr class=\"tf\"><td class=\"tf\">12</td><td class=\"tf\"> <a href=\"https://shebanq.ancient-data.org/hebrew/text?book=Psalmi&amp;chapter=106&amp;verse=5&amp;version=c&amp;mr=m&amp;qw=q&amp;tp=txt_p&amp;tr=hb&amp;wget=v&amp;qget=v&amp;nget=vt\" title=\"show this passage in SHEBANQ\" sec=\"Psalms 106:5\">Psalms 106:5</a></td><td class=\"tf\"><span class=\"hb\"><a href=\"https://shebanq.ancient-data.org/hebrew/text?book=Psalmi&amp;chapter=106&amp;verse=5&amp;version=c&amp;mr=m&amp;qw=q&amp;tp=txt_p&amp;tr=hb&amp;wget=v&amp;qget=v&amp;nget=vt\" title=\"Psalms 106:5\" sec=\"Psalms 106:5\"><span  class=\"hlup\" >בְּ</span><span  class=\"hl hlup\" >טֹ֘ובַ֤ת </span><span  class=\"hl hlup\" >בְּחִירֶ֗יךָ </span></a></span> <i>848226</i> </td><td class=\"tf\"><span class=\"hb\"><span  class=\"hl hlup\" >טֹ֘ובַ֤ת </span></span> <i>329007</i> </td><td class=\"tf\"><span class=\"hb\"><span  class=\"hl hlup\" >בְּחִירֶ֗יךָ </span></span> <i>329008</i> </td></tr>\n",
       "<tr class=\"tf\"><td class=\"tf\">13</td><td class=\"tf\"> <a href=\"https://shebanq.ancient-data.org/hebrew/text?book=Samuel_II&amp;chapter=20&amp;verse=11&amp;version=c&amp;mr=m&amp;qw=q&amp;tp=txt_p&amp;tr=hb&amp;wget=v&amp;qget=v&amp;nget=vt\" title=\"show this passage in SHEBANQ\" sec=\"2_Samuel 20:11\">2_Samuel 20:11</a></td><td class=\"tf\"><span class=\"hb\"><a href=\"https://shebanq.ancient-data.org/hebrew/text?book=Samuel_II&amp;chapter=20&amp;verse=11&amp;version=c&amp;mr=m&amp;qw=q&amp;tp=txt_p&amp;tr=hb&amp;wget=v&amp;qget=v&amp;nget=vt\" title=\"2_Samuel 20:11\" sec=\"2_Samuel 20:11\"><span  class=\"hlup\" >אִישׁ֙ </span><span  class=\"hlup\" >מִֽ</span><span  class=\"hl hlup\" >נַּעֲרֵ֖י </span><span  class=\"hl hlup\" >יֹואָ֑ב </span></a></span> <i>751785</i> </td><td class=\"tf\"><span class=\"hb\"><span  class=\"hl hlup\" >נַּעֲרֵ֖י </span></span> <i>173361</i> </td><td class=\"tf\"><span class=\"hb\"><span  class=\"hl hlup\" >יֹואָ֑ב </span></span> <i>173362</i> </td></tr>\n",
       "<tr class=\"tf\"><td class=\"tf\">14</td><td class=\"tf\"> <a href=\"https://shebanq.ancient-data.org/hebrew/text?book=Psalmi&amp;chapter=71&amp;verse=20&amp;version=c&amp;mr=m&amp;qw=q&amp;tp=txt_p&amp;tr=hb&amp;wget=v&amp;qget=v&amp;nget=vt\" title=\"show this passage in SHEBANQ\" sec=\"Psalms 71:20\">Psalms 71:20</a></td><td class=\"tf\"><span class=\"hb\"><a href=\"https://shebanq.ancient-data.org/hebrew/text?book=Psalmi&amp;chapter=71&amp;verse=20&amp;version=c&amp;mr=m&amp;qw=q&amp;tp=txt_p&amp;tr=hb&amp;wget=v&amp;qget=v&amp;nget=vt\" title=\"Psalms 71:20\" sec=\"Psalms 71:20\"><span  class=\"hlup\" >מִ</span><span  class=\"hl hlup\" >תְּהֹמֹ֥ות </span><span  class=\"hlup\" >הָ֝</span><span  class=\"hl hlup\" >אָ֗רֶץ </span></a></span> <i>843596</i> </td><td class=\"tf\"><span class=\"hb\"><span  class=\"hl hlup\" >תְּהֹמֹ֥ות </span></span> <i>322261</i> </td><td class=\"tf\"><span class=\"hb\"><span  class=\"hl hlup\" >אָ֗רֶץ </span></span> <i>322263</i> </td></tr>\n",
       "<tr class=\"tf\"><td class=\"tf\">15</td><td class=\"tf\"> <a href=\"https://shebanq.ancient-data.org/hebrew/text?book=Numeri&amp;chapter=33&amp;verse=50&amp;version=c&amp;mr=m&amp;qw=q&amp;tp=txt_p&amp;tr=hb&amp;wget=v&amp;qget=v&amp;nget=vt\" title=\"show this passage in SHEBANQ\" sec=\"Numbers 33:50\">Numbers 33:50</a></td><td class=\"tf\"><span class=\"hb\"><a href=\"https://shebanq.ancient-data.org/hebrew/text?book=Numeri&amp;chapter=33&amp;verse=50&amp;version=c&amp;mr=m&amp;qw=q&amp;tp=txt_p&amp;tr=hb&amp;wget=v&amp;qget=v&amp;nget=vt\" title=\"Numbers 33:50\" sec=\"Numbers 33:50\"><span  class=\"hlup\" >בְּ</span><span  class=\"hl hlup\" >עַֽרְבֹ֣ת </span><span  class=\"hl hlup\" >מֹואָ֑ב </span></a></span> <i>703352</i> </td><td class=\"tf\"><span class=\"hb\"><span  class=\"hl hlup\" >עַֽרְבֹ֣ת </span></span> <i>91254</i> </td><td class=\"tf\"><span class=\"hb\"><span  class=\"hl hlup\" >מֹואָ֑ב </span></span> <i>91255</i> </td></tr>\n",
       "<tr class=\"tf\"><td class=\"tf\">16</td><td class=\"tf\"> <a href=\"https://shebanq.ancient-data.org/hebrew/text?book=Esra&amp;chapter=9&amp;verse=11&amp;version=c&amp;mr=m&amp;qw=q&amp;tp=txt_p&amp;tr=hb&amp;wget=v&amp;qget=v&amp;nget=vt\" title=\"show this passage in SHEBANQ\" sec=\"Ezra 9:11\">Ezra 9:11</a></td><td class=\"tf\"><span class=\"hb\"><a href=\"https://shebanq.ancient-data.org/hebrew/text?book=Esra&amp;chapter=9&amp;verse=11&amp;version=c&amp;mr=m&amp;qw=q&amp;tp=txt_p&amp;tr=hb&amp;wget=v&amp;qget=v&amp;nget=vt\" title=\"Ezra 9:11\" sec=\"Ezra 9:11\"><span  class=\"hlup\" >בְּ</span><span  class=\"hl hlup\" >נִדַּ֖ת </span><span  class=\"hl hlup\" >עַמֵּ֣י </span><span  class=\"hlup\" >הָ</span><span  class=\"hlup\" >אֲרָצֹ֑ות </span><span  class=\"hlup\" >בְּ</span><span  class=\"hlup\" >תֹועֲבֹֽתֵיהֶ֗ם </span></a></span> <i>883286</i> </td><td class=\"tf\"><span class=\"hb\"><span  class=\"hl hlup\" >נִדַּ֖ת </span></span> <i>382580</i> </td><td class=\"tf\"><span class=\"hb\"><span  class=\"hl hlup\" >עַמֵּ֣י </span></span> <i>382581</i> </td></tr>\n",
       "<tr class=\"tf\"><td class=\"tf\">17</td><td class=\"tf\"> <a href=\"https://shebanq.ancient-data.org/hebrew/text?book=Iob&amp;chapter=33&amp;verse=15&amp;version=c&amp;mr=m&amp;qw=q&amp;tp=txt_p&amp;tr=hb&amp;wget=v&amp;qget=v&amp;nget=vt\" title=\"show this passage in SHEBANQ\" sec=\"Job 33:15\">Job 33:15</a></td><td class=\"tf\"><span class=\"hb\"><a href=\"https://shebanq.ancient-data.org/hebrew/text?book=Iob&amp;chapter=33&amp;verse=15&amp;version=c&amp;mr=m&amp;qw=q&amp;tp=txt_p&amp;tr=hb&amp;wget=v&amp;qget=v&amp;nget=vt\" title=\"Job 33:15\" sec=\"Job 33:15\"><span  class=\"hlup\" >בַּ</span><span  class=\"hlup\" >חֲלֹ֤ום׀ </span><span  class=\"hl hlup\" >חֶזְיֹ֬ון </span><span  class=\"hl hlup\" >לַ֗יְלָה </span></a></span> <i>859312</i> </td><td class=\"tf\"><span class=\"hb\"><span  class=\"hl hlup\" >חֶזְיֹ֬ון </span></span> <i>344170</i> </td><td class=\"tf\"><span class=\"hb\"><span  class=\"hl hlup\" >לַ֗יְלָה </span></span> <i>344171</i> </td></tr>\n",
       "<tr class=\"tf\"><td class=\"tf\">18</td><td class=\"tf\"> <a href=\"https://shebanq.ancient-data.org/hebrew/text?book=Leviticus&amp;chapter=16&amp;verse=4&amp;version=c&amp;mr=m&amp;qw=q&amp;tp=txt_p&amp;tr=hb&amp;wget=v&amp;qget=v&amp;nget=vt\" title=\"show this passage in SHEBANQ\" sec=\"Leviticus 16:4\">Leviticus 16:4</a></td><td class=\"tf\"><span class=\"hb\"><a href=\"https://shebanq.ancient-data.org/hebrew/text?book=Leviticus&amp;chapter=16&amp;verse=4&amp;version=c&amp;mr=m&amp;qw=q&amp;tp=txt_p&amp;tr=hb&amp;wget=v&amp;qget=v&amp;nget=vt\" title=\"Leviticus 16:4\" sec=\"Leviticus 16:4\"><span  class=\"hlup\" >בְ</span><span  class=\"hl hlup\" >אַבְנֵ֥ט </span><span  class=\"hl hlup\" >בַּד֙ </span></a></span> <i>687975</i> </td><td class=\"tf\"><span class=\"hb\"><span  class=\"hl hlup\" >אַבְנֵ֥ט </span></span> <i>62265</i> </td><td class=\"tf\"><span class=\"hb\"><span  class=\"hl hlup\" >בַּד֙ </span></span> <i>62266</i> </td></tr>\n",
       "<tr class=\"tf\"><td class=\"tf\">19</td><td class=\"tf\"> <a href=\"https://shebanq.ancient-data.org/hebrew/text?book=Judices&amp;chapter=14&amp;verse=8&amp;version=c&amp;mr=m&amp;qw=q&amp;tp=txt_p&amp;tr=hb&amp;wget=v&amp;qget=v&amp;nget=vt\" title=\"show this passage in SHEBANQ\" sec=\"Judges 14:8\">Judges 14:8</a></td><td class=\"tf\"><span class=\"hb\"><a href=\"https://shebanq.ancient-data.org/hebrew/text?book=Judices&amp;chapter=14&amp;verse=8&amp;version=c&amp;mr=m&amp;qw=q&amp;tp=txt_p&amp;tr=hb&amp;wget=v&amp;qget=v&amp;nget=vt\" title=\"Judges 14:8\" sec=\"Judges 14:8\"><span  class=\"hlup\" >אֵ֖ת </span><span  class=\"hl hlup\" >מַפֶּ֣לֶת </span><span  class=\"hlup\" >הָ</span><span  class=\"hl hlup\" >אַרְיֵ֑ה </span></a></span> <i>728400</i> </td><td class=\"tf\"><span class=\"hb\"><span  class=\"hl hlup\" >מַפֶּ֣לֶת </span></span> <i>136410</i> </td><td class=\"tf\"><span class=\"hb\"><span  class=\"hl hlup\" >אַרְיֵ֑ה </span></span> <i>136412</i> </td></tr>\n",
       "<tr class=\"tf\"><td class=\"tf\">20</td><td class=\"tf\"> <a href=\"https://shebanq.ancient-data.org/hebrew/text?book=Proverbia&amp;chapter=16&amp;verse=11&amp;version=c&amp;mr=m&amp;qw=q&amp;tp=txt_p&amp;tr=hb&amp;wget=v&amp;qget=v&amp;nget=vt\" title=\"show this passage in SHEBANQ\" sec=\"Proverbs 16:11\">Proverbs 16:11</a></td><td class=\"tf\"><span class=\"hb\"><a href=\"https://shebanq.ancient-data.org/hebrew/text?book=Proverbia&amp;chapter=16&amp;verse=11&amp;version=c&amp;mr=m&amp;qw=q&amp;tp=txt_p&amp;tr=hb&amp;wget=v&amp;qget=v&amp;nget=vt\" title=\"Proverbs 16:11\" sec=\"Proverbs 16:11\"><span  class=\"hlup\" >פֶּ֤לֶס׀ </span><span  class=\"hlup\" >וּ</span><span  class=\"hl hlup\" >מֹאזְנֵ֣י </span><span  class=\"hl hlup\" >מִ֭שְׁפָּט </span></a></span> <i>864282</i> </td><td class=\"tf\"><span class=\"hb\"><span  class=\"hl hlup\" >מֹאזְנֵ֣י </span></span> <i>351113</i> </td><td class=\"tf\"><span class=\"hb\"><span  class=\"hl hlup\" >מִ֭שְׁפָּט </span></span> <i>351114</i> </td></tr>\n",
       "<tr class=\"tf\"><td class=\"tf\">21</td><td class=\"tf\"> <a href=\"https://shebanq.ancient-data.org/hebrew/text?book=Canticum&amp;chapter=4&amp;verse=13&amp;version=c&amp;mr=m&amp;qw=q&amp;tp=txt_p&amp;tr=hb&amp;wget=v&amp;qget=v&amp;nget=vt\" title=\"show this passage in SHEBANQ\" sec=\"Song_of_songs 4:13\">Song_of_songs 4:13</a></td><td class=\"tf\"><span class=\"hb\"><a href=\"https://shebanq.ancient-data.org/hebrew/text?book=Canticum&amp;chapter=4&amp;verse=13&amp;version=c&amp;mr=m&amp;qw=q&amp;tp=txt_p&amp;tr=hb&amp;wget=v&amp;qget=v&amp;nget=vt\" title=\"Song_of_songs 4:13\" sec=\"Song_of_songs 4:13\"><span  class=\"hl hlup\" >פַּרְדֵּ֣ס </span><span  class=\"hl hlup\" >רִמֹּונִ֔ים </span></a></span> <i>869311</i> </td><td class=\"tf\"><span class=\"hb\"><span  class=\"hl hlup\" >פַּרְדֵּ֣ס </span></span> <i>358401</i> </td><td class=\"tf\"><span class=\"hb\"><span  class=\"hl hlup\" >רִמֹּונִ֔ים </span></span> <i>358402</i> </td></tr>\n",
       "<tr class=\"tf\"><td class=\"tf\">22</td><td class=\"tf\"> <a href=\"https://shebanq.ancient-data.org/hebrew/text?book=Chronica_I&amp;chapter=7&amp;verse=4&amp;version=c&amp;mr=m&amp;qw=q&amp;tp=txt_p&amp;tr=hb&amp;wget=v&amp;qget=v&amp;nget=vt\" title=\"show this passage in SHEBANQ\" sec=\"1_Chronicles 7:4\">1_Chronicles 7:4</a></td><td class=\"tf\"><span class=\"hb\"><a href=\"https://shebanq.ancient-data.org/hebrew/text?book=Chronica_I&amp;chapter=7&amp;verse=4&amp;version=c&amp;mr=m&amp;qw=q&amp;tp=txt_p&amp;tr=hb&amp;wget=v&amp;qget=v&amp;nget=vt\" title=\"1_Chronicles 7:4\" sec=\"1_Chronicles 7:4\"><span  class=\"hl hlup\" >גְּדוּדֵי֙ </span><span  class=\"hl hlup\" >צְבָ֣א </span><span  class=\"hlup\" >מִלְחָמָ֔ה </span></a></span> <i>888958</i> </td><td class=\"tf\"><span class=\"hb\"><span  class=\"hl hlup\" >גְּדוּדֵי֙ </span></span> <i>395021</i> </td><td class=\"tf\"><span class=\"hb\"><span  class=\"hl hlup\" >צְבָ֣א </span></span> <i>395022</i> </td></tr>\n",
       "<tr class=\"tf\"><td class=\"tf\">23</td><td class=\"tf\"> <a href=\"https://shebanq.ancient-data.org/hebrew/text?book=Jeremia&amp;chapter=33&amp;verse=6&amp;version=c&amp;mr=m&amp;qw=q&amp;tp=txt_p&amp;tr=hb&amp;wget=v&amp;qget=v&amp;nget=vt\" title=\"show this passage in SHEBANQ\" sec=\"Jeremiah 33:6\">Jeremiah 33:6</a></td><td class=\"tf\"><span class=\"hb\"><a href=\"https://shebanq.ancient-data.org/hebrew/text?book=Jeremia&amp;chapter=33&amp;verse=6&amp;version=c&amp;mr=m&amp;qw=q&amp;tp=txt_p&amp;tr=hb&amp;wget=v&amp;qget=v&amp;nget=vt\" title=\"Jeremiah 33:6\" sec=\"Jeremiah 33:6\"><span  class=\"hl hlup\" >עֲתֶ֥רֶת </span><span  class=\"hl hlup\" >שָׁלֹ֖ום </span><span  class=\"hlup\" >וֶ</span><span  class=\"hlup\" >אֱמֶֽת׃ </span></a></span> <i>799991</i> </td><td class=\"tf\"><span class=\"hb\"><span  class=\"hl hlup\" >עֲתֶ֥רֶת </span></span> <i>252663</i> </td><td class=\"tf\"><span class=\"hb\"><span  class=\"hl hlup\" >שָׁלֹ֖ום </span></span> <i>252664</i> </td></tr>\n",
       "<tr class=\"tf\"><td class=\"tf\">24</td><td class=\"tf\"> <a href=\"https://shebanq.ancient-data.org/hebrew/text?book=Jeremia&amp;chapter=30&amp;verse=24&amp;version=c&amp;mr=m&amp;qw=q&amp;tp=txt_p&amp;tr=hb&amp;wget=v&amp;qget=v&amp;nget=vt\" title=\"show this passage in SHEBANQ\" sec=\"Jeremiah 30:24\">Jeremiah 30:24</a></td><td class=\"tf\"><span class=\"hb\"><a href=\"https://shebanq.ancient-data.org/hebrew/text?book=Jeremia&amp;chapter=30&amp;verse=24&amp;version=c&amp;mr=m&amp;qw=q&amp;tp=txt_p&amp;tr=hb&amp;wget=v&amp;qget=v&amp;nget=vt\" title=\"Jeremiah 30:24\" sec=\"Jeremiah 30:24\"><span  class=\"hl hlup\" >מְזִמֹּ֣ות </span><span  class=\"hl hlup\" >לִבֹּ֑ו </span></a></span> <i>798859</i> </td><td class=\"tf\"><span class=\"hb\"><span  class=\"hl hlup\" >מְזִמֹּ֣ות </span></span> <i>250634</i> </td><td class=\"tf\"><span class=\"hb\"><span  class=\"hl hlup\" >לִבֹּ֑ו </span></span> <i>250635</i> </td></tr>\n",
       "<tr class=\"tf\"><td class=\"tf\">25</td><td class=\"tf\"> <a href=\"https://shebanq.ancient-data.org/hebrew/text?book=Sacharia&amp;chapter=9&amp;verse=12&amp;version=c&amp;mr=m&amp;qw=q&amp;tp=txt_p&amp;tr=hb&amp;wget=v&amp;qget=v&amp;nget=vt\" title=\"show this passage in SHEBANQ\" sec=\"Zechariah 9:12\">Zechariah 9:12</a></td><td class=\"tf\"><span class=\"hb\"><a href=\"https://shebanq.ancient-data.org/hebrew/text?book=Sacharia&amp;chapter=9&amp;verse=12&amp;version=c&amp;mr=m&amp;qw=q&amp;tp=txt_p&amp;tr=hb&amp;wget=v&amp;qget=v&amp;nget=vt\" title=\"Zechariah 9:12\" sec=\"Zechariah 9:12\"><span  class=\"hl hlup\" >אֲסִירֵ֖י </span><span  class=\"hlup\" >הַ</span><span  class=\"hl hlup\" >תִּקְוָ֑ה </span></a></span> <i>833476</i> </td><td class=\"tf\"><span class=\"hb\"><span  class=\"hl hlup\" >אֲסִירֵ֖י </span></span> <i>307687</i> </td><td class=\"tf\"><span class=\"hb\"><span  class=\"hl hlup\" >תִּקְוָ֑ה </span></span> <i>307689</i> </td></tr>\n",
       "<tr class=\"tf\"><td class=\"tf\">26</td><td class=\"tf\"> <a href=\"https://shebanq.ancient-data.org/hebrew/text?book=Genesis&amp;chapter=49&amp;verse=12&amp;version=c&amp;mr=m&amp;qw=q&amp;tp=txt_p&amp;tr=hb&amp;wget=v&amp;qget=v&amp;nget=vt\" title=\"show this passage in SHEBANQ\" sec=\"Genesis 49:12\">Genesis 49:12</a></td><td class=\"tf\"><span class=\"hb\"><a href=\"https://shebanq.ancient-data.org/hebrew/text?book=Genesis&amp;chapter=49&amp;verse=12&amp;version=c&amp;mr=m&amp;qw=q&amp;tp=txt_p&amp;tr=hb&amp;wget=v&amp;qget=v&amp;nget=vt\" title=\"Genesis 49:12\" sec=\"Genesis 49:12\"><span  class=\"hl hlup\" >לְבֶן־</span><span  class=\"hl hlup\" >שִׁנַּ֖יִם </span></a></span> <i>669011</i> </td><td class=\"tf\"><span class=\"hb\"><span  class=\"hl hlup\" >לְבֶן־</span></span> <i>27946</i> </td><td class=\"tf\"><span class=\"hb\"><span  class=\"hl hlup\" >שִׁנַּ֖יִם </span></span> <i>27947</i> </td></tr>\n",
       "<tr class=\"tf\"><td class=\"tf\">27</td><td class=\"tf\"> <a href=\"https://shebanq.ancient-data.org/hebrew/text?book=Samuel_I&amp;chapter=5&amp;verse=12&amp;version=c&amp;mr=m&amp;qw=q&amp;tp=txt_p&amp;tr=hb&amp;wget=v&amp;qget=v&amp;nget=vt\" title=\"show this passage in SHEBANQ\" sec=\"1_Samuel 5:12\">1_Samuel 5:12</a></td><td class=\"tf\"><span class=\"hb\"><a href=\"https://shebanq.ancient-data.org/hebrew/text?book=Samuel_I&amp;chapter=5&amp;verse=12&amp;version=c&amp;mr=m&amp;qw=q&amp;tp=txt_p&amp;tr=hb&amp;wget=v&amp;qget=v&amp;nget=vt\" title=\"1_Samuel 5:12\" sec=\"1_Samuel 5:12\"><span  class=\"hl hlup\" >שַֽׁוְעַ֥ת </span><span  class=\"hlup\" >הָ</span><span  class=\"hl hlup\" >עִ֖יר </span></a></span> <i>733307</i> </td><td class=\"tf\"><span class=\"hb\"><span  class=\"hl hlup\" >שַֽׁוְעַ֥ת </span></span> <i>144118</i> </td><td class=\"tf\"><span class=\"hb\"><span  class=\"hl hlup\" >עִ֖יר </span></span> <i>144120</i> </td></tr>\n",
       "<tr class=\"tf\"><td class=\"tf\">28</td><td class=\"tf\"> <a href=\"https://shebanq.ancient-data.org/hebrew/text?book=Jesaia&amp;chapter=9&amp;verse=6&amp;version=c&amp;mr=m&amp;qw=q&amp;tp=txt_p&amp;tr=hb&amp;wget=v&amp;qget=v&amp;nget=vt\" title=\"show this passage in SHEBANQ\" sec=\"Isaiah 9:6\">Isaiah 9:6</a></td><td class=\"tf\"><span class=\"hb\"><a href=\"https://shebanq.ancient-data.org/hebrew/text?book=Jesaia&amp;chapter=9&amp;verse=6&amp;version=c&amp;mr=m&amp;qw=q&amp;tp=txt_p&amp;tr=hb&amp;wget=v&amp;qget=v&amp;nget=vt\" title=\"Isaiah 9:6\" sec=\"Isaiah 9:6\"><span  class=\"hlup\" >לְ</span><span  class=\"hl hlup\" >מַרְבֵּ֨ה </span><span  class=\"hlup\" >הַ</span><span  class=\"hl hlup\" >מִּשְׂרָ֜ה </span><span  class=\"hlup\" >וּ</span><span  class=\"hlup\" >לְ</span><span  class=\"hlup\" >שָׁלֹ֣ום </span></a></span> <i>776012</i> </td><td class=\"tf\"><span class=\"hb\"><span  class=\"hl hlup\" >מַרְבֵּ֨ה </span></span> <i>215253</i> </td><td class=\"tf\"><span class=\"hb\"><span  class=\"hl hlup\" >מִּשְׂרָ֜ה </span></span> <i>215255</i> </td></tr>\n",
       "<tr class=\"tf\"><td class=\"tf\">29</td><td class=\"tf\"> <a href=\"https://shebanq.ancient-data.org/hebrew/text?book=Nahum&amp;chapter=3&amp;verse=2&amp;version=c&amp;mr=m&amp;qw=q&amp;tp=txt_p&amp;tr=hb&amp;wget=v&amp;qget=v&amp;nget=vt\" title=\"show this passage in SHEBANQ\" sec=\"Nahum 3:2\">Nahum 3:2</a></td><td class=\"tf\"><span class=\"hb\"><a href=\"https://shebanq.ancient-data.org/hebrew/text?book=Nahum&amp;chapter=3&amp;verse=2&amp;version=c&amp;mr=m&amp;qw=q&amp;tp=txt_p&amp;tr=hb&amp;wget=v&amp;qget=v&amp;nget=vt\" title=\"Nahum 3:2\" sec=\"Nahum 3:2\"><span  class=\"hlup\" >קֹ֖ול </span><span  class=\"hl hlup\" >רַ֣עַשׁ </span><span  class=\"hl hlup\" >אֹופָ֑ן </span></a></span> <i>829949</i> </td><td class=\"tf\"><span class=\"hb\"><span  class=\"hl hlup\" >רַ֣עַשׁ </span></span> <i>301888</i> </td><td class=\"tf\"><span class=\"hb\"><span  class=\"hl hlup\" >אֹופָ֑ן </span></span> <i>301889</i> </td></tr>\n",
       "<tr class=\"tf\"><td class=\"tf\">30</td><td class=\"tf\"> <a href=\"https://shebanq.ancient-data.org/hebrew/text?book=Reges_I&amp;chapter=22&amp;verse=13&amp;version=c&amp;mr=m&amp;qw=q&amp;tp=txt_p&amp;tr=hb&amp;wget=v&amp;qget=v&amp;nget=vt\" title=\"show this passage in SHEBANQ\" sec=\"1_Kings 22:13\">1_Kings 22:13</a></td><td class=\"tf\"><span class=\"hb\"><a href=\"https://shebanq.ancient-data.org/hebrew/text?book=Reges_I&amp;chapter=22&amp;verse=13&amp;version=c&amp;mr=m&amp;qw=q&amp;tp=txt_p&amp;tr=hb&amp;wget=v&amp;qget=v&amp;nget=vt\" title=\"1_Kings 22:13\" sec=\"1_Kings 22:13\"><span  class=\"hlup\" >כִּ</span><span  class=\"hl hlup\" >דְבַ֛ר </span><span  class=\"hl hlup\" >אַחַ֥ד </span><span  class=\"hlup\" >מֵהֶ֖ם </span></a></span> <i>763550</i> </td><td class=\"tf\"><span class=\"hb\"><span  class=\"hl hlup\" >דְבַ֛ר </span></span> <i>193932</i> </td><td class=\"tf\"><span class=\"hb\"><span  class=\"hl hlup\" >אַחַ֥ד </span></span> <i>193933</i> </td></tr>\n",
       "<tr class=\"tf\"><td class=\"tf\">31</td><td class=\"tf\"> <a href=\"https://shebanq.ancient-data.org/hebrew/text?book=Psalmi&amp;chapter=46&amp;verse=5&amp;version=c&amp;mr=m&amp;qw=q&amp;tp=txt_p&amp;tr=hb&amp;wget=v&amp;qget=v&amp;nget=vt\" title=\"show this passage in SHEBANQ\" sec=\"Psalms 46:5\">Psalms 46:5</a></td><td class=\"tf\"><span class=\"hb\"><a href=\"https://shebanq.ancient-data.org/hebrew/text?book=Psalmi&amp;chapter=46&amp;verse=5&amp;version=c&amp;mr=m&amp;qw=q&amp;tp=txt_p&amp;tr=hb&amp;wget=v&amp;qget=v&amp;nget=vt\" title=\"Psalms 46:5\" sec=\"Psalms 46:5\"><span  class=\"hlup\" >עִיר־</span><span  class=\"hlup\" >אֱלֹהִ֑ים </span><span  class=\"hl hlup\" >קְ֝דֹ֗שׁ </span><span  class=\"hl hlup\" >מִשְׁכְּנֵ֥י </span><span  class=\"hlup\" >עֶלְיֹֽון׃ </span></a></span> <i>840665</i> </td><td class=\"tf\"><span class=\"hb\"><span  class=\"hl hlup\" >קְ֝דֹ֗שׁ </span></span> <i>318124</i> </td><td class=\"tf\"><span class=\"hb\"><span  class=\"hl hlup\" >מִשְׁכְּנֵ֥י </span></span> <i>318125</i> </td></tr>\n",
       "<tr class=\"tf\"><td class=\"tf\">32</td><td class=\"tf\"> <a href=\"https://shebanq.ancient-data.org/hebrew/text?book=Exodus&amp;chapter=40&amp;verse=19&amp;version=c&amp;mr=m&amp;qw=q&amp;tp=txt_p&amp;tr=hb&amp;wget=v&amp;qget=v&amp;nget=vt\" title=\"show this passage in SHEBANQ\" sec=\"Exodus 40:19\">Exodus 40:19</a></td><td class=\"tf\"><span class=\"hb\"><a href=\"https://shebanq.ancient-data.org/hebrew/text?book=Exodus&amp;chapter=40&amp;verse=19&amp;version=c&amp;mr=m&amp;qw=q&amp;tp=txt_p&amp;tr=hb&amp;wget=v&amp;qget=v&amp;nget=vt\" title=\"Exodus 40:19\" sec=\"Exodus 40:19\"><span  class=\"hlup\" >אֶת־</span><span  class=\"hl hlup\" >מִכְסֵ֥ה </span><span  class=\"hlup\" >הָ</span><span  class=\"hl hlup\" >אֹ֛הֶל </span></a></span> <i>682581</i> </td><td class=\"tf\"><span class=\"hb\"><span  class=\"hl hlup\" >מִכְסֵ֥ה </span></span> <i>52167</i> </td><td class=\"tf\"><span class=\"hb\"><span  class=\"hl hlup\" >אֹ֛הֶל </span></span> <i>52169</i> </td></tr>\n",
       "<tr class=\"tf\"><td class=\"tf\">33</td><td class=\"tf\"> <a href=\"https://shebanq.ancient-data.org/hebrew/text?book=Genesis&amp;chapter=31&amp;verse=47&amp;version=c&amp;mr=m&amp;qw=q&amp;tp=txt_p&amp;tr=hb&amp;wget=v&amp;qget=v&amp;nget=vt\" title=\"show this passage in SHEBANQ\" sec=\"Genesis 31:47\">Genesis 31:47</a></td><td class=\"tf\"><span class=\"hb\"><a href=\"https://shebanq.ancient-data.org/hebrew/text?book=Genesis&amp;chapter=31&amp;verse=47&amp;version=c&amp;mr=m&amp;qw=q&amp;tp=txt_p&amp;tr=hb&amp;wget=v&amp;qget=v&amp;nget=vt\" title=\"Genesis 31:47\" sec=\"Genesis 31:47\"><span  class=\"hl hlup\" >יְגַ֖ר </span><span  class=\"hl hlup\" >שָׂהֲדוּתָ֑א </span></a></span> <i>662181</i> </td><td class=\"tf\"><span class=\"hb\"><span  class=\"hl hlup\" >יְגַ֖ר </span></span> <i>17277</i> </td><td class=\"tf\"><span class=\"hb\"><span  class=\"hl hlup\" >שָׂהֲדוּתָ֑א </span></span> <i>17278</i> </td></tr>\n",
       "<tr class=\"tf\"><td class=\"tf\">34</td><td class=\"tf\"> <a href=\"https://shebanq.ancient-data.org/hebrew/text?book=Iob&amp;chapter=38&amp;verse=18&amp;version=c&amp;mr=m&amp;qw=q&amp;tp=txt_p&amp;tr=hb&amp;wget=v&amp;qget=v&amp;nget=vt\" title=\"show this passage in SHEBANQ\" sec=\"Job 38:18\">Job 38:18</a></td><td class=\"tf\"><span class=\"hb\"><a href=\"https://shebanq.ancient-data.org/hebrew/text?book=Iob&amp;chapter=38&amp;verse=18&amp;version=c&amp;mr=m&amp;qw=q&amp;tp=txt_p&amp;tr=hb&amp;wget=v&amp;qget=v&amp;nget=vt\" title=\"Job 38:18\" sec=\"Job 38:18\"><span  class=\"hlup\" >עַד־</span><span  class=\"hl hlup\" >רַחֲבֵי־</span><span  class=\"hl hlup\" >אָ֑רֶץ </span></a></span> <i>860394</i> </td><td class=\"tf\"><span class=\"hb\"><span  class=\"hl hlup\" >רַחֲבֵי־</span></span> <i>345599</i> </td><td class=\"tf\"><span class=\"hb\"><span  class=\"hl hlup\" >אָ֑רֶץ </span></span> <i>345600</i> </td></tr>\n",
       "<tr class=\"tf\"><td class=\"tf\">35</td><td class=\"tf\"> <a href=\"https://shebanq.ancient-data.org/hebrew/text?book=Exodus&amp;chapter=28&amp;verse=33&amp;version=c&amp;mr=m&amp;qw=q&amp;tp=txt_p&amp;tr=hb&amp;wget=v&amp;qget=v&amp;nget=vt\" title=\"show this passage in SHEBANQ\" sec=\"Exodus 28:33\">Exodus 28:33</a></td><td class=\"tf\"><span class=\"hb\"><a href=\"https://shebanq.ancient-data.org/hebrew/text?book=Exodus&amp;chapter=28&amp;verse=33&amp;version=c&amp;mr=m&amp;qw=q&amp;tp=txt_p&amp;tr=hb&amp;wget=v&amp;qget=v&amp;nget=vt\" title=\"Exodus 28:33\" sec=\"Exodus 28:33\"><span  class=\"hl hlup\" >רִמֹּנֵי֙ </span><span  class=\"hl hlup\" >תְּכֵ֤לֶת </span><span  class=\"hlup\" >וְ</span><span  class=\"hlup\" >אַרְגָּמָן֙ </span><span  class=\"hlup\" >וְ</span><span  class=\"hlup\" >תֹולַ֣עַת </span><span  class=\"hlup\" >שָׁנִ֔י </span></a></span> <i>678700</i> </td><td class=\"tf\"><span class=\"hb\"><span  class=\"hl hlup\" >רִמֹּנֵי֙ </span></span> <i>44320</i> </td><td class=\"tf\"><span class=\"hb\"><span  class=\"hl hlup\" >תְּכֵ֤לֶת </span></span> <i>44321</i> </td></tr>\n",
       "<tr class=\"tf\"><td class=\"tf\">36</td><td class=\"tf\"> <a href=\"https://shebanq.ancient-data.org/hebrew/text?book=Jesaia&amp;chapter=16&amp;verse=5&amp;version=c&amp;mr=m&amp;qw=q&amp;tp=txt_p&amp;tr=hb&amp;wget=v&amp;qget=v&amp;nget=vt\" title=\"show this passage in SHEBANQ\" sec=\"Isaiah 16:5\">Isaiah 16:5</a></td><td class=\"tf\"><span class=\"hb\"><a href=\"https://shebanq.ancient-data.org/hebrew/text?book=Jesaia&amp;chapter=16&amp;verse=5&amp;version=c&amp;mr=m&amp;qw=q&amp;tp=txt_p&amp;tr=hb&amp;wget=v&amp;qget=v&amp;nget=vt\" title=\"Isaiah 16:5\" sec=\"Isaiah 16:5\"><span  class=\"hl hlup\" >מְהִ֥ר </span><span  class=\"hl hlup\" >צֶֽדֶק׃ </span></a></span> <i>777484</i> </td><td class=\"tf\"><span class=\"hb\"><span  class=\"hl hlup\" >מְהִ֥ר </span></span> <i>217550</i> </td><td class=\"tf\"><span class=\"hb\"><span  class=\"hl hlup\" >צֶֽדֶק׃ </span></span> <i>217551</i> </td></tr>\n",
       "<tr class=\"tf\"><td class=\"tf\">37</td><td class=\"tf\"> <a href=\"https://shebanq.ancient-data.org/hebrew/text?book=Ezechiel&amp;chapter=41&amp;verse=7&amp;version=c&amp;mr=m&amp;qw=q&amp;tp=txt_p&amp;tr=hb&amp;wget=v&amp;qget=v&amp;nget=vt\" title=\"show this passage in SHEBANQ\" sec=\"Ezekiel 41:7\">Ezekiel 41:7</a></td><td class=\"tf\"><span class=\"hb\"><a href=\"https://shebanq.ancient-data.org/hebrew/text?book=Ezechiel&amp;chapter=41&amp;verse=7&amp;version=c&amp;mr=m&amp;qw=q&amp;tp=txt_p&amp;tr=hb&amp;wget=v&amp;qget=v&amp;nget=vt\" title=\"Ezekiel 41:7\" sec=\"Ezekiel 41:7\"><span  class=\"hl hlup\" >מֽוּסַב־</span><span  class=\"hlup\" >הַ֠</span><span  class=\"hl hlup\" >בַּיִת </span></a></span> <i>820293</i> </td><td class=\"tf\"><span class=\"hb\"><span  class=\"hl hlup\" >מֽוּסַב־</span></span> <i>286248</i> </td><td class=\"tf\"><span class=\"hb\"><span  class=\"hl hlup\" >בַּיִת </span></span> <i>286250</i> </td></tr>\n",
       "<tr class=\"tf\"><td class=\"tf\">38</td><td class=\"tf\"> <a href=\"https://shebanq.ancient-data.org/hebrew/text?book=Ezechiel&amp;chapter=4&amp;verse=15&amp;version=c&amp;mr=m&amp;qw=q&amp;tp=txt_p&amp;tr=hb&amp;wget=v&amp;qget=v&amp;nget=vt\" title=\"show this passage in SHEBANQ\" sec=\"Ezekiel 4:15\">Ezekiel 4:15</a></td><td class=\"tf\"><span class=\"hb\"><a href=\"https://shebanq.ancient-data.org/hebrew/text?book=Ezechiel&amp;chapter=4&amp;verse=15&amp;version=c&amp;mr=m&amp;qw=q&amp;tp=txt_p&amp;tr=hb&amp;wget=v&amp;qget=v&amp;nget=vt\" title=\"Ezekiel 4:15\" sec=\"Ezekiel 4:15\"><span  class=\"hlup\" >אֶת־</span><span  class=\"hl hlup\" >צְפִיעֵ֣י </span><span  class=\"hlup\" >הַ</span><span  class=\"hl hlup\" >בָּקָ֔ר </span><span  class=\"hlup\" >תַּ֖חַת </span><span  class=\"hlup\" >גֶּלְלֵ֣י </span><span  class=\"hlup\" >הָֽ</span><span  class=\"hlup\" >אָדָ֑ם </span></a></span> <i>807772</i> </td><td class=\"tf\"><span class=\"hb\"><span  class=\"hl hlup\" >צְפִיעֵ֣י </span></span> <i>266371</i> </td><td class=\"tf\"><span class=\"hb\"><span  class=\"hl hlup\" >בָּקָ֔ר </span></span> <i>266373</i> </td></tr>\n",
       "<tr class=\"tf\"><td class=\"tf\">39</td><td class=\"tf\"> <a href=\"https://shebanq.ancient-data.org/hebrew/text?book=Daniel&amp;chapter=2&amp;verse=23&amp;version=c&amp;mr=m&amp;qw=q&amp;tp=txt_p&amp;tr=hb&amp;wget=v&amp;qget=v&amp;nget=vt\" title=\"show this passage in SHEBANQ\" sec=\"Daniel 2:23\">Daniel 2:23</a></td><td class=\"tf\"><span class=\"hb\"><a href=\"https://shebanq.ancient-data.org/hebrew/text?book=Daniel&amp;chapter=2&amp;verse=23&amp;version=c&amp;mr=m&amp;qw=q&amp;tp=txt_p&amp;tr=hb&amp;wget=v&amp;qget=v&amp;nget=vt\" title=\"Daniel 2:23\" sec=\"Daniel 2:23\"><span  class=\"hl hlup\" >מִלַּ֥ת </span><span  class=\"hl hlup\" >מַלְכָּ֖א </span></a></span> <i>876761</i> </td><td class=\"tf\"><span class=\"hb\"><span  class=\"hl hlup\" >מִלַּ֥ת </span></span> <i>370993</i> </td><td class=\"tf\"><span class=\"hb\"><span  class=\"hl hlup\" >מַלְכָּ֖א </span></span> <i>370994</i> </td></tr>\n",
       "<tr class=\"tf\"><td class=\"tf\">40</td><td class=\"tf\"> <a href=\"https://shebanq.ancient-data.org/hebrew/text?book=Genesis&amp;chapter=16&amp;verse=13&amp;version=c&amp;mr=m&amp;qw=q&amp;tp=txt_p&amp;tr=hb&amp;wget=v&amp;qget=v&amp;nget=vt\" title=\"show this passage in SHEBANQ\" sec=\"Genesis 16:13\">Genesis 16:13</a></td><td class=\"tf\"><span class=\"hb\"><a href=\"https://shebanq.ancient-data.org/hebrew/text?book=Genesis&amp;chapter=16&amp;verse=13&amp;version=c&amp;mr=m&amp;qw=q&amp;tp=txt_p&amp;tr=hb&amp;wget=v&amp;qget=v&amp;nget=vt\" title=\"Genesis 16:13\" sec=\"Genesis 16:13\"><span  class=\"hl hlup\" >אֵ֣ל </span><span  class=\"hl hlup\" >רֳאִ֑י </span></a></span> <i>655576</i> </td><td class=\"tf\"><span class=\"hb\"><span  class=\"hl hlup\" >אֵ֣ל </span></span> <i>7270</i> </td><td class=\"tf\"><span class=\"hb\"><span  class=\"hl hlup\" >רֳאִ֑י </span></span> <i>7271</i> </td></tr>\n",
       "<tr class=\"tf\"><td class=\"tf\">41</td><td class=\"tf\"> <a href=\"https://shebanq.ancient-data.org/hebrew/text?book=Ezechiel&amp;chapter=23&amp;verse=8&amp;version=c&amp;mr=m&amp;qw=q&amp;tp=txt_p&amp;tr=hb&amp;wget=v&amp;qget=v&amp;nget=vt\" title=\"show this passage in SHEBANQ\" sec=\"Ezekiel 23:8\">Ezekiel 23:8</a></td><td class=\"tf\"><span class=\"hb\"><a href=\"https://shebanq.ancient-data.org/hebrew/text?book=Ezechiel&amp;chapter=23&amp;verse=8&amp;version=c&amp;mr=m&amp;qw=q&amp;tp=txt_p&amp;tr=hb&amp;wget=v&amp;qget=v&amp;nget=vt\" title=\"Ezekiel 23:8\" sec=\"Ezekiel 23:8\"><span  class=\"hl hlup\" >דַּדֵּ֣י </span><span  class=\"hl hlup\" >בְתוּלֶ֑יהָ </span></a></span> <i>813994</i> </td><td class=\"tf\"><span class=\"hb\"><span  class=\"hl hlup\" >דַּדֵּ֣י </span></span> <i>275830</i> </td><td class=\"tf\"><span class=\"hb\"><span  class=\"hl hlup\" >בְתוּלֶ֑יהָ </span></span> <i>275831</i> </td></tr>\n",
       "<tr class=\"tf\"><td class=\"tf\">42</td><td class=\"tf\"> <a href=\"https://shebanq.ancient-data.org/hebrew/text?book=Numeri&amp;chapter=19&amp;verse=6&amp;version=c&amp;mr=m&amp;qw=q&amp;tp=txt_p&amp;tr=hb&amp;wget=v&amp;qget=v&amp;nget=vt\" title=\"show this passage in SHEBANQ\" sec=\"Numbers 19:6\">Numbers 19:6</a></td><td class=\"tf\"><span class=\"hb\"><a href=\"https://shebanq.ancient-data.org/hebrew/text?book=Numeri&amp;chapter=19&amp;verse=6&amp;version=c&amp;mr=m&amp;qw=q&amp;tp=txt_p&amp;tr=hb&amp;wget=v&amp;qget=v&amp;nget=vt\" title=\"Numbers 19:6\" sec=\"Numbers 19:6\"><span  class=\"hlup\" >אֶל־</span><span  class=\"hlup\" >תֹּ֖וךְ </span><span  class=\"hl hlup\" >שְׂרֵפַ֥ת </span><span  class=\"hlup\" >הַ</span><span  class=\"hl hlup\" >פָּרָֽה׃ </span></a></span> <i>698527</i> </td><td class=\"tf\"><span class=\"hb\"><span  class=\"hl hlup\" >שְׂרֵפַ֥ת </span></span> <i>82118</i> </td><td class=\"tf\"><span class=\"hb\"><span  class=\"hl hlup\" >פָּרָֽה׃ </span></span> <i>82120</i> </td></tr>\n",
       "<tr class=\"tf\"><td class=\"tf\">43</td><td class=\"tf\"> <a href=\"https://shebanq.ancient-data.org/hebrew/text?book=Ezechiel&amp;chapter=7&amp;verse=24&amp;version=c&amp;mr=m&amp;qw=q&amp;tp=txt_p&amp;tr=hb&amp;wget=v&amp;qget=v&amp;nget=vt\" title=\"show this passage in SHEBANQ\" sec=\"Ezekiel 7:24\">Ezekiel 7:24</a></td><td class=\"tf\"><span class=\"hb\"><a href=\"https://shebanq.ancient-data.org/hebrew/text?book=Ezechiel&amp;chapter=7&amp;verse=24&amp;version=c&amp;mr=m&amp;qw=q&amp;tp=txt_p&amp;tr=hb&amp;wget=v&amp;qget=v&amp;nget=vt\" title=\"Ezekiel 7:24\" sec=\"Ezekiel 7:24\"><span  class=\"hl hlup\" >רָעֵ֣י </span><span  class=\"hl hlup\" >גֹויִ֔ם </span></a></span> <i>808546</i> </td><td class=\"tf\"><span class=\"hb\"><span  class=\"hl hlup\" >רָעֵ֣י </span></span> <i>267551</i> </td><td class=\"tf\"><span class=\"hb\"><span  class=\"hl hlup\" >גֹויִ֔ם </span></span> <i>267552</i> </td></tr>\n",
       "<tr class=\"tf\"><td class=\"tf\">44</td><td class=\"tf\"> <a href=\"https://shebanq.ancient-data.org/hebrew/text?book=Jeremia&amp;chapter=34&amp;verse=19&amp;version=c&amp;mr=m&amp;qw=q&amp;tp=txt_p&amp;tr=hb&amp;wget=v&amp;qget=v&amp;nget=vt\" title=\"show this passage in SHEBANQ\" sec=\"Jeremiah 34:19\">Jeremiah 34:19</a></td><td class=\"tf\"><span class=\"hb\"><a href=\"https://shebanq.ancient-data.org/hebrew/text?book=Jeremia&amp;chapter=34&amp;verse=19&amp;version=c&amp;mr=m&amp;qw=q&amp;tp=txt_p&amp;tr=hb&amp;wget=v&amp;qget=v&amp;nget=vt\" title=\"Jeremiah 34:19\" sec=\"Jeremiah 34:19\"><span  class=\"hlup\" >בֵּ֖ין </span><span  class=\"hl hlup\" >בִּתְרֵ֥י </span><span  class=\"hlup\" >הָ</span><span  class=\"hl hlup\" >עֵֽגֶל׃ </span></a></span> <i>800516</i> </td><td class=\"tf\"><span class=\"hb\"><span  class=\"hl hlup\" >בִּתְרֵ֥י </span></span> <i>253649</i> </td><td class=\"tf\"><span class=\"hb\"><span  class=\"hl hlup\" >עֵֽגֶל׃ </span></span> <i>253651</i> </td></tr>\n",
       "<tr class=\"tf\"><td class=\"tf\">45</td><td class=\"tf\"> <a href=\"https://shebanq.ancient-data.org/hebrew/text?book=Jeremia&amp;chapter=49&amp;verse=36&amp;version=c&amp;mr=m&amp;qw=q&amp;tp=txt_p&amp;tr=hb&amp;wget=v&amp;qget=v&amp;nget=vt\" title=\"show this passage in SHEBANQ\" sec=\"Jeremiah 49:36\">Jeremiah 49:36</a></td><td class=\"tf\"><span class=\"hb\"><a href=\"https://shebanq.ancient-data.org/hebrew/text?book=Jeremia&amp;chapter=49&amp;verse=36&amp;version=c&amp;mr=m&amp;qw=q&amp;tp=txt_p&amp;tr=hb&amp;wget=v&amp;qget=v&amp;nget=vt\" title=\"Jeremiah 49:36\" sec=\"Jeremiah 49:36\"><span  class=\"hlup\" >מֵֽ</span><span  class=\"hlup\" >אַרְבַּע֙ </span><span  class=\"hl hlup\" >קְצֹ֣ות </span><span  class=\"hlup\" >הַ</span><span  class=\"hl hlup\" >שָּׁמַ֔יִם </span></a></span> <i>805051</i> </td><td class=\"tf\"><span class=\"hb\"><span  class=\"hl hlup\" >קְצֹ֣ות </span></span> <i>261792</i> </td><td class=\"tf\"><span class=\"hb\"><span  class=\"hl hlup\" >שָּׁמַ֔יִם </span></span> <i>261794</i> </td></tr>\n",
       "<tr class=\"tf\"><td class=\"tf\">46</td><td class=\"tf\"> <a href=\"https://shebanq.ancient-data.org/hebrew/text?book=Exodus&amp;chapter=25&amp;verse=17&amp;version=c&amp;mr=m&amp;qw=q&amp;tp=txt_p&amp;tr=hb&amp;wget=v&amp;qget=v&amp;nget=vt\" title=\"show this passage in SHEBANQ\" sec=\"Exodus 25:17\">Exodus 25:17</a></td><td class=\"tf\"><span class=\"hb\"><a href=\"https://shebanq.ancient-data.org/hebrew/text?book=Exodus&amp;chapter=25&amp;verse=17&amp;version=c&amp;mr=m&amp;qw=q&amp;tp=txt_p&amp;tr=hb&amp;wget=v&amp;qget=v&amp;nget=vt\" title=\"Exodus 25:17\" sec=\"Exodus 25:17\"><span  class=\"hl hlup\" >כַפֹּ֖רֶת </span><span  class=\"hl hlup\" >זָהָ֣ב </span><span  class=\"hlup\" >טָהֹ֑ור </span></a></span> <i>677708</i> </td><td class=\"tf\"><span class=\"hb\"><span  class=\"hl hlup\" >כַפֹּ֖רֶת </span></span> <i>42197</i> </td><td class=\"tf\"><span class=\"hb\"><span  class=\"hl hlup\" >זָהָ֣ב </span></span> <i>42198</i> </td></tr>\n",
       "<tr class=\"tf\"><td class=\"tf\">47</td><td class=\"tf\"> <a href=\"https://shebanq.ancient-data.org/hebrew/text?book=Jesaia&amp;chapter=40&amp;verse=19&amp;version=c&amp;mr=m&amp;qw=q&amp;tp=txt_p&amp;tr=hb&amp;wget=v&amp;qget=v&amp;nget=vt\" title=\"show this passage in SHEBANQ\" sec=\"Isaiah 40:19\">Isaiah 40:19</a></td><td class=\"tf\"><span class=\"hb\"><a href=\"https://shebanq.ancient-data.org/hebrew/text?book=Jesaia&amp;chapter=40&amp;verse=19&amp;version=c&amp;mr=m&amp;qw=q&amp;tp=txt_p&amp;tr=hb&amp;wget=v&amp;qget=v&amp;nget=vt\" title=\"Isaiah 40:19\" sec=\"Isaiah 40:19\"><span  class=\"hl hlup\" >רְתֻקֹ֥ות </span><span  class=\"hl hlup\" >כֶּ֖סֶף </span></a></span> <i>782675</i> </td><td class=\"tf\"><span class=\"hb\"><span  class=\"hl hlup\" >רְתֻקֹ֥ות </span></span> <i>225859</i> </td><td class=\"tf\"><span class=\"hb\"><span  class=\"hl hlup\" >כֶּ֖סֶף </span></span> <i>225860</i> </td></tr>\n",
       "<tr class=\"tf\"><td class=\"tf\">48</td><td class=\"tf\"> <a href=\"https://shebanq.ancient-data.org/hebrew/text?book=Iob&amp;chapter=24&amp;verse=17&amp;version=c&amp;mr=m&amp;qw=q&amp;tp=txt_p&amp;tr=hb&amp;wget=v&amp;qget=v&amp;nget=vt\" title=\"show this passage in SHEBANQ\" sec=\"Job 24:17\">Job 24:17</a></td><td class=\"tf\"><span class=\"hb\"><a href=\"https://shebanq.ancient-data.org/hebrew/text?book=Iob&amp;chapter=24&amp;verse=17&amp;version=c&amp;mr=m&amp;qw=q&amp;tp=txt_p&amp;tr=hb&amp;wget=v&amp;qget=v&amp;nget=vt\" title=\"Job 24:17\" sec=\"Job 24:17\"><span  class=\"hl hlup\" >בַּלְהֹ֥ות </span><span  class=\"hl hlup\" >צַלְמָֽוֶת׃ </span></a></span> <i>857741</i> </td><td class=\"tf\"><span class=\"hb\"><span  class=\"hl hlup\" >בַּלְהֹ֥ות </span></span> <i>342097</i> </td><td class=\"tf\"><span class=\"hb\"><span  class=\"hl hlup\" >צַלְמָֽוֶת׃ </span></span> <i>342098</i> </td></tr>\n",
       "<tr class=\"tf\"><td class=\"tf\">49</td><td class=\"tf\"> <a href=\"https://shebanq.ancient-data.org/hebrew/text?book=Proverbia&amp;chapter=5&amp;verse=19&amp;version=c&amp;mr=m&amp;qw=q&amp;tp=txt_p&amp;tr=hb&amp;wget=v&amp;qget=v&amp;nget=vt\" title=\"show this passage in SHEBANQ\" sec=\"Proverbs 5:19\">Proverbs 5:19</a></td><td class=\"tf\"><span class=\"hb\"><a href=\"https://shebanq.ancient-data.org/hebrew/text?book=Proverbia&amp;chapter=5&amp;verse=19&amp;version=c&amp;mr=m&amp;qw=q&amp;tp=txt_p&amp;tr=hb&amp;wget=v&amp;qget=v&amp;nget=vt\" title=\"Proverbs 5:19\" sec=\"Proverbs 5:19\"><span  class=\"hlup\" >אַיֶּ֥לֶת </span><span  class=\"hlup\" >אֲהָבִ֗ים </span><span  class=\"hlup\" >וְֽ</span><span  class=\"hl hlup\" >יַעֲלַ֫ת־</span><span  class=\"hl hlup\" >חֵ֥ן </span></a></span> <i>862245</i> </td><td class=\"tf\"><span class=\"hb\"><span  class=\"hl hlup\" >יַעֲלַ֫ת־</span></span> <i>348195</i> </td><td class=\"tf\"><span class=\"hb\"><span  class=\"hl hlup\" >חֵ֥ן </span></span> <i>348196</i> </td></tr>\n",
       "<tr class=\"tf\"><td class=\"tf\">50</td><td class=\"tf\"> <a href=\"https://shebanq.ancient-data.org/hebrew/text?book=Daniel&amp;chapter=11&amp;verse=20&amp;version=c&amp;mr=m&amp;qw=q&amp;tp=txt_p&amp;tr=hb&amp;wget=v&amp;qget=v&amp;nget=vt\" title=\"show this passage in SHEBANQ\" sec=\"Daniel 11:20\">Daniel 11:20</a></td><td class=\"tf\"><span class=\"hb\"><a href=\"https://shebanq.ancient-data.org/hebrew/text?book=Daniel&amp;chapter=11&amp;verse=20&amp;version=c&amp;mr=m&amp;qw=q&amp;tp=txt_p&amp;tr=hb&amp;wget=v&amp;qget=v&amp;nget=vt\" title=\"Daniel 11:20\" sec=\"Daniel 11:20\"><span  class=\"hl hlup\" >הֶ֣דֶר </span><span  class=\"hl hlup\" >מַלְכ֑וּת </span></a></span> <i>880816</i> </td><td class=\"tf\"><span class=\"hb\"><span  class=\"hl hlup\" >הֶ֣דֶר </span></span> <i>377345</i> </td><td class=\"tf\"><span class=\"hb\"><span  class=\"hl hlup\" >מַלְכ֑וּת </span></span> <i>377346</i> </td></tr>\n",
       "<tr class=\"tf\"><td class=\"tf\">51</td><td class=\"tf\"> <a href=\"https://shebanq.ancient-data.org/hebrew/text?book=Reges_I&amp;chapter=8&amp;verse=30&amp;version=c&amp;mr=m&amp;qw=q&amp;tp=txt_p&amp;tr=hb&amp;wget=v&amp;qget=v&amp;nget=vt\" title=\"show this passage in SHEBANQ\" sec=\"1_Kings 8:30\">1_Kings 8:30</a></td><td class=\"tf\"><span class=\"hb\"><a href=\"https://shebanq.ancient-data.org/hebrew/text?book=Reges_I&amp;chapter=8&amp;verse=30&amp;version=c&amp;mr=m&amp;qw=q&amp;tp=txt_p&amp;tr=hb&amp;wget=v&amp;qget=v&amp;nget=vt\" title=\"1_Kings 8:30\" sec=\"1_Kings 8:30\"><span  class=\"hlup\" >אֶל־</span><span  class=\"hl hlup\" >תְּחִנַּ֤ת </span><span  class=\"hl hlup\" >עַבְדְּךָ֙ </span><span  class=\"hlup\" >וְ</span><span  class=\"hlup\" >עַמְּךָ֣ </span><span  class=\"hlup\" >יִשְׂרָאֵ֔ל </span></a></span> <i>756878</i> </td><td class=\"tf\"><span class=\"hb\"><span  class=\"hl hlup\" >תְּחִנַּ֤ת </span></span> <i>182729</i> </td><td class=\"tf\"><span class=\"hb\"><span  class=\"hl hlup\" >עַבְדְּךָ֙ </span></span> <i>182730</i> </td></tr>\n",
       "<tr class=\"tf\"><td class=\"tf\">52</td><td class=\"tf\"> <a href=\"https://shebanq.ancient-data.org/hebrew/text?book=Ezechiel&amp;chapter=24&amp;verse=25&amp;version=c&amp;mr=m&amp;qw=q&amp;tp=txt_p&amp;tr=hb&amp;wget=v&amp;qget=v&amp;nget=vt\" title=\"show this passage in SHEBANQ\" sec=\"Ezekiel 24:25\">Ezekiel 24:25</a></td><td class=\"tf\"><span class=\"hb\"><a href=\"https://shebanq.ancient-data.org/hebrew/text?book=Ezechiel&amp;chapter=24&amp;verse=25&amp;version=c&amp;mr=m&amp;qw=q&amp;tp=txt_p&amp;tr=hb&amp;wget=v&amp;qget=v&amp;nget=vt\" title=\"Ezekiel 24:25\" sec=\"Ezekiel 24:25\"><span  class=\"hlup\" >אֶת־</span><span  class=\"hlup\" >מָ֣עוּזָּ֔ם </span><span  class=\"hlup\" >מְשֹׂ֖ושׂ </span><span  class=\"hlup\" >תִּפְאַרְתָּ֑ם </span><span  class=\"hlup\" >אֶת־</span><span  class=\"hl hlup\" >מַחְמַ֤ד </span><span  class=\"hl hlup\" >עֵֽינֵיהֶם֙ </span><span  class=\"hlup\" >וְ</span><span  class=\"hlup\" >אֶת־</span><span  class=\"hlup\" >מַשָּׂ֣א </span><span  class=\"hlup\" >נַפְשָׁ֔ם </span><span  class=\"hlup\" >בְּנֵיהֶ֖ם </span><span  class=\"hlup\" >וּ</span><span  class=\"hlup\" >בְנֹותֵיהֶֽם׃ </span></a></span> <i>814779</i> </td><td class=\"tf\"><span class=\"hb\"><span  class=\"hl hlup\" >מַחְמַ֤ד </span></span> <i>277011</i> </td><td class=\"tf\"><span class=\"hb\"><span  class=\"hl hlup\" >עֵֽינֵיהֶם֙ </span></span> <i>277012</i> </td></tr>\n",
       "<tr class=\"tf\"><td class=\"tf\">53</td><td class=\"tf\"> <a href=\"https://shebanq.ancient-data.org/hebrew/text?book=Chronica_I&amp;chapter=6&amp;verse=16&amp;version=c&amp;mr=m&amp;qw=q&amp;tp=txt_p&amp;tr=hb&amp;wget=v&amp;qget=v&amp;nget=vt\" title=\"show this passage in SHEBANQ\" sec=\"1_Chronicles 6:16\">1_Chronicles 6:16</a></td><td class=\"tf\"><span class=\"hb\"><a href=\"https://shebanq.ancient-data.org/hebrew/text?book=Chronica_I&amp;chapter=6&amp;verse=16&amp;version=c&amp;mr=m&amp;qw=q&amp;tp=txt_p&amp;tr=hb&amp;wget=v&amp;qget=v&amp;nget=vt\" title=\"1_Chronicles 6:16\" sec=\"1_Chronicles 6:16\"><span  class=\"hlup\" >מִ</span><span  class=\"hl hlup\" >מְּנֹ֖וחַ </span><span  class=\"hlup\" >הָ</span><span  class=\"hl hlup\" >אָרֹֽון׃ </span></a></span> <i>888749</i> </td><td class=\"tf\"><span class=\"hb\"><span  class=\"hl hlup\" >מְּנֹ֖וחַ </span></span> <i>394228</i> </td><td class=\"tf\"><span class=\"hb\"><span  class=\"hl hlup\" >אָרֹֽון׃ </span></span> <i>394230</i> </td></tr>\n",
       "<tr class=\"tf\"><td class=\"tf\">54</td><td class=\"tf\"> <a href=\"https://shebanq.ancient-data.org/hebrew/text?book=Jeremia&amp;chapter=19&amp;verse=1&amp;version=c&amp;mr=m&amp;qw=q&amp;tp=txt_p&amp;tr=hb&amp;wget=v&amp;qget=v&amp;nget=vt\" title=\"show this passage in SHEBANQ\" sec=\"Jeremiah 19:1\">Jeremiah 19:1</a></td><td class=\"tf\"><span class=\"hb\"><a href=\"https://shebanq.ancient-data.org/hebrew/text?book=Jeremia&amp;chapter=19&amp;verse=1&amp;version=c&amp;mr=m&amp;qw=q&amp;tp=txt_p&amp;tr=hb&amp;wget=v&amp;qget=v&amp;nget=vt\" title=\"Jeremiah 19:1\" sec=\"Jeremiah 19:1\"><span  class=\"hlup\" >בַקְבֻּ֖ק </span><span  class=\"hl hlup\" >יֹוצֵ֣ר </span><span  class=\"hl hlup\" >חָ֑רֶשׂ </span></a></span> <i>795271</i> </td><td class=\"tf\"><span class=\"hb\"><span  class=\"hl hlup\" >יֹוצֵ֣ר </span></span> <i>244132</i> </td><td class=\"tf\"><span class=\"hb\"><span  class=\"hl hlup\" >חָ֑רֶשׂ </span></span> <i>244133</i> </td></tr>\n",
       "<tr class=\"tf\"><td class=\"tf\">55</td><td class=\"tf\"> <a href=\"https://shebanq.ancient-data.org/hebrew/text?book=Jesaia&amp;chapter=60&amp;verse=21&amp;version=c&amp;mr=m&amp;qw=q&amp;tp=txt_p&amp;tr=hb&amp;wget=v&amp;qget=v&amp;nget=vt\" title=\"show this passage in SHEBANQ\" sec=\"Isaiah 60:21\">Isaiah 60:21</a></td><td class=\"tf\"><span class=\"hb\"><a href=\"https://shebanq.ancient-data.org/hebrew/text?book=Jesaia&amp;chapter=60&amp;verse=21&amp;version=c&amp;mr=m&amp;qw=q&amp;tp=txt_p&amp;tr=hb&amp;wget=v&amp;qget=v&amp;nget=vt\" title=\"Isaiah 60:21\" sec=\"Isaiah 60:21\"><span  class=\"hl hlup\" >נֵ֧צֶר </span><span  class=\"hl hlup\" >מַטָּעַ֛י </span><span  class=\"hlup\" >מַעֲשֵׂ֥ה </span><span  class=\"hlup\" >יָדַ֖י </span></a></span> <i>787963</i> </td><td class=\"tf\"><span class=\"hb\"><span  class=\"hl hlup\" >נֵ֧צֶר </span></span> <i>232997</i> </td><td class=\"tf\"><span class=\"hb\"><span  class=\"hl hlup\" >מַטָּעַ֛י </span></span> <i>232998</i> </td></tr>\n",
       "<tr class=\"tf\"><td class=\"tf\">56</td><td class=\"tf\"> <a href=\"https://shebanq.ancient-data.org/hebrew/text?book=Ezechiel&amp;chapter=27&amp;verse=15&amp;version=c&amp;mr=m&amp;qw=q&amp;tp=txt_p&amp;tr=hb&amp;wget=v&amp;qget=v&amp;nget=vt\" title=\"show this passage in SHEBANQ\" sec=\"Ezekiel 27:15\">Ezekiel 27:15</a></td><td class=\"tf\"><span class=\"hb\"><a href=\"https://shebanq.ancient-data.org/hebrew/text?book=Ezechiel&amp;chapter=27&amp;verse=15&amp;version=c&amp;mr=m&amp;qw=q&amp;tp=txt_p&amp;tr=hb&amp;wget=v&amp;qget=v&amp;nget=vt\" title=\"Ezekiel 27:15\" sec=\"Ezekiel 27:15\"><span  class=\"hl hlup\" >סְחֹרַ֣ת </span><span  class=\"hl hlup\" >יָדֵ֑ךְ </span></a></span> <i>815401</i> </td><td class=\"tf\"><span class=\"hb\"><span  class=\"hl hlup\" >סְחֹרַ֣ת </span></span> <i>278034</i> </td><td class=\"tf\"><span class=\"hb\"><span  class=\"hl hlup\" >יָדֵ֑ךְ </span></span> <i>278035</i> </td></tr>\n",
       "<tr class=\"tf\"><td class=\"tf\">57</td><td class=\"tf\"> <a href=\"https://shebanq.ancient-data.org/hebrew/text?book=Deuteronomium&amp;chapter=28&amp;verse=65&amp;version=c&amp;mr=m&amp;qw=q&amp;tp=txt_p&amp;tr=hb&amp;wget=v&amp;qget=v&amp;nget=vt\" title=\"show this passage in SHEBANQ\" sec=\"Deuteronomy 28:65\">Deuteronomy 28:65</a></td><td class=\"tf\"><span class=\"hb\"><a href=\"https://shebanq.ancient-data.org/hebrew/text?book=Deuteronomium&amp;chapter=28&amp;verse=65&amp;version=c&amp;mr=m&amp;qw=q&amp;tp=txt_p&amp;tr=hb&amp;wget=v&amp;qget=v&amp;nget=vt\" title=\"Deuteronomy 28:65\" sec=\"Deuteronomy 28:65\"><span  class=\"hlup\" >לֵ֣ב </span><span  class=\"hlup\" >רַגָּ֔ז </span><span  class=\"hlup\" >וְ</span><span  class=\"hl hlup\" >כִלְיֹ֥ון </span><span  class=\"hl hlup\" >עֵינַ֖יִם </span><span  class=\"hlup\" >וְ</span><span  class=\"hlup\" >דַֽאֲבֹ֥ון </span><span  class=\"hlup\" >נָֽפֶשׁ׃ </span></a></span> <i>713678</i> </td><td class=\"tf\"><span class=\"hb\"><span  class=\"hl hlup\" >כִלְיֹ֥ון </span></span> <i>109428</i> </td><td class=\"tf\"><span class=\"hb\"><span  class=\"hl hlup\" >עֵינַ֖יִם </span></span> <i>109429</i> </td></tr>\n",
       "<tr class=\"tf\"><td class=\"tf\">58</td><td class=\"tf\"> <a href=\"https://shebanq.ancient-data.org/hebrew/text?book=Amos&amp;chapter=6&amp;verse=3&amp;version=c&amp;mr=m&amp;qw=q&amp;tp=txt_p&amp;tr=hb&amp;wget=v&amp;qget=v&amp;nget=vt\" title=\"show this passage in SHEBANQ\" sec=\"Amos 6:3\">Amos 6:3</a></td><td class=\"tf\"><span class=\"hb\"><a href=\"https://shebanq.ancient-data.org/hebrew/text?book=Amos&amp;chapter=6&amp;verse=3&amp;version=c&amp;mr=m&amp;qw=q&amp;tp=txt_p&amp;tr=hb&amp;wget=v&amp;qget=v&amp;nget=vt\" title=\"Amos 6:3\" sec=\"Amos 6:3\"><span  class=\"hl hlup\" >שֶׁ֥בֶת </span><span  class=\"hl hlup\" >חָמָֽס׃ </span></a></span> <i>826646</i> </td><td class=\"tf\"><span class=\"hb\"><span  class=\"hl hlup\" >שֶׁ֥בֶת </span></span> <i>296992</i> </td><td class=\"tf\"><span class=\"hb\"><span  class=\"hl hlup\" >חָמָֽס׃ </span></span> <i>296993</i> </td></tr>\n",
       "<tr class=\"tf\"><td class=\"tf\">59</td><td class=\"tf\"> <a href=\"https://shebanq.ancient-data.org/hebrew/text?book=Reges_II&amp;chapter=12&amp;verse=14&amp;version=c&amp;mr=m&amp;qw=q&amp;tp=txt_p&amp;tr=hb&amp;wget=v&amp;qget=v&amp;nget=vt\" title=\"show this passage in SHEBANQ\" sec=\"2_Kings 12:14\">2_Kings 12:14</a></td><td class=\"tf\"><span class=\"hb\"><a href=\"https://shebanq.ancient-data.org/hebrew/text?book=Reges_II&amp;chapter=12&amp;verse=14&amp;version=c&amp;mr=m&amp;qw=q&amp;tp=txt_p&amp;tr=hb&amp;wget=v&amp;qget=v&amp;nget=vt\" title=\"2_Kings 12:14\" sec=\"2_Kings 12:14\"><span  class=\"hl hlup\" >סִפֹּ֥ות </span><span  class=\"hl hlup\" >כֶּ֨סֶף֙ </span><span  class=\"hlup\" >מְזַמְּרֹ֤ות </span><span  class=\"hlup\" >מִזְרָקֹות֙ </span><span  class=\"hlup\" >חֲצֹ֣צְרֹ֔ות </span><span  class=\"hlup\" >כָּל־</span><span  class=\"hlup\" >כְּלִ֥י </span><span  class=\"hlup\" >זָהָ֖ב </span><span  class=\"hlup\" >וּ</span><span  class=\"hlup\" >כְלִי־</span><span  class=\"hlup\" >כָ֑סֶף </span></a></span> <i>769258</i> </td><td class=\"tf\"><span class=\"hb\"><span  class=\"hl hlup\" >סִפֹּ֥ות </span></span> <i>202886</i> </td><td class=\"tf\"><span class=\"hb\"><span  class=\"hl hlup\" >כֶּ֨סֶף֙ </span></span> <i>202887</i> </td></tr>\n",
       "<tr class=\"tf\"><td class=\"tf\">60</td><td class=\"tf\"> <a href=\"https://shebanq.ancient-data.org/hebrew/text?book=Reges_I&amp;chapter=20&amp;verse=27&amp;version=c&amp;mr=m&amp;qw=q&amp;tp=txt_p&amp;tr=hb&amp;wget=v&amp;qget=v&amp;nget=vt\" title=\"show this passage in SHEBANQ\" sec=\"1_Kings 20:27\">1_Kings 20:27</a></td><td class=\"tf\"><span class=\"hb\"><a href=\"https://shebanq.ancient-data.org/hebrew/text?book=Reges_I&amp;chapter=20&amp;verse=27&amp;version=c&amp;mr=m&amp;qw=q&amp;tp=txt_p&amp;tr=hb&amp;wget=v&amp;qget=v&amp;nget=vt\" title=\"1_Kings 20:27\" sec=\"1_Kings 20:27\"><span  class=\"hlup\" >כִּ</span><span  class=\"hlup\" >שְׁנֵי֙ </span><span  class=\"hl hlup\" >חֲשִׂפֵ֣י </span><span  class=\"hl hlup\" >עִזִּ֔ים </span></a></span> <i>762621</i> </td><td class=\"tf\"><span class=\"hb\"><span  class=\"hl hlup\" >חֲשִׂפֵ֣י </span></span> <i>192546</i> </td><td class=\"tf\"><span class=\"hb\"><span  class=\"hl hlup\" >עִזִּ֔ים </span></span> <i>192547</i> </td></tr>\n",
       "<tr class=\"tf\"><td class=\"tf\">61</td><td class=\"tf\"> <a href=\"https://shebanq.ancient-data.org/hebrew/text?book=Samuel_II&amp;chapter=2&amp;verse=16&amp;version=c&amp;mr=m&amp;qw=q&amp;tp=txt_p&amp;tr=hb&amp;wget=v&amp;qget=v&amp;nget=vt\" title=\"show this passage in SHEBANQ\" sec=\"2_Samuel 2:16\">2_Samuel 2:16</a></td><td class=\"tf\"><span class=\"hb\"><a href=\"https://shebanq.ancient-data.org/hebrew/text?book=Samuel_II&amp;chapter=2&amp;verse=16&amp;version=c&amp;mr=m&amp;qw=q&amp;tp=txt_p&amp;tr=hb&amp;wget=v&amp;qget=v&amp;nget=vt\" title=\"2_Samuel 2:16\" sec=\"2_Samuel 2:16\"><span  class=\"hlup\" >בְּ</span><span  class=\"hl hlup\" >צַ֣ד </span><span  class=\"hl hlup\" >רֵעֵ֔הוּ </span></a></span> <i>744307</i> </td><td class=\"tf\"><span class=\"hb\"><span  class=\"hl hlup\" >צַ֣ד </span></span> <i>161289</i> </td><td class=\"tf\"><span class=\"hb\"><span  class=\"hl hlup\" >רֵעֵ֔הוּ </span></span> <i>161290</i> </td></tr>\n",
       "<tr class=\"tf\"><td class=\"tf\">62</td><td class=\"tf\"> <a href=\"https://shebanq.ancient-data.org/hebrew/text?book=Psalmi&amp;chapter=58&amp;verse=9&amp;version=c&amp;mr=m&amp;qw=q&amp;tp=txt_p&amp;tr=hb&amp;wget=v&amp;qget=v&amp;nget=vt\" title=\"show this passage in SHEBANQ\" sec=\"Psalms 58:9\">Psalms 58:9</a></td><td class=\"tf\"><span class=\"hb\"><a href=\"https://shebanq.ancient-data.org/hebrew/text?book=Psalmi&amp;chapter=58&amp;verse=9&amp;version=c&amp;mr=m&amp;qw=q&amp;tp=txt_p&amp;tr=hb&amp;wget=v&amp;qget=v&amp;nget=vt\" title=\"Psalms 58:9\" sec=\"Psalms 58:9\"><span  class=\"hl hlup\" >נֵ֥פֶל </span><span  class=\"hl hlup\" >אֵ֝֗שֶׁת </span></a></span> <i>841990</i> </td><td class=\"tf\"><span class=\"hb\"><span  class=\"hl hlup\" >נֵ֥פֶל </span></span> <i>319983</i> </td><td class=\"tf\"><span class=\"hb\"><span  class=\"hl hlup\" >אֵ֝֗שֶׁת </span></span> <i>319984</i> </td></tr>\n",
       "<tr class=\"tf\"><td class=\"tf\">63</td><td class=\"tf\"> <a href=\"https://shebanq.ancient-data.org/hebrew/text?book=Genesis&amp;chapter=8&amp;verse=11&amp;version=c&amp;mr=m&amp;qw=q&amp;tp=txt_p&amp;tr=hb&amp;wget=v&amp;qget=v&amp;nget=vt\" title=\"show this passage in SHEBANQ\" sec=\"Genesis 8:11\">Genesis 8:11</a></td><td class=\"tf\"><span class=\"hb\"><a href=\"https://shebanq.ancient-data.org/hebrew/text?book=Genesis&amp;chapter=8&amp;verse=11&amp;version=c&amp;mr=m&amp;qw=q&amp;tp=txt_p&amp;tr=hb&amp;wget=v&amp;qget=v&amp;nget=vt\" title=\"Genesis 8:11\" sec=\"Genesis 8:11\"><span  class=\"hl hlup\" >עֲלֵה־</span><span  class=\"hl hlup\" >זַ֖יִת </span><span  class=\"hlup\" >טָרָ֣ף </span></a></span> <i>653635</i> </td><td class=\"tf\"><span class=\"hb\"><span  class=\"hl hlup\" >עֲלֵה־</span></span> <i>3764</i> </td><td class=\"tf\"><span class=\"hb\"><span  class=\"hl hlup\" >זַ֖יִת </span></span> <i>3765</i> </td></tr>\n",
       "<tr class=\"tf\"><td class=\"tf\">64</td><td class=\"tf\"> <a href=\"https://shebanq.ancient-data.org/hebrew/text?book=Proverbia&amp;chapter=16&amp;verse=22&amp;version=c&amp;mr=m&amp;qw=q&amp;tp=txt_p&amp;tr=hb&amp;wget=v&amp;qget=v&amp;nget=vt\" title=\"show this passage in SHEBANQ\" sec=\"Proverbs 16:22\">Proverbs 16:22</a></td><td class=\"tf\"><span class=\"hb\"><a href=\"https://shebanq.ancient-data.org/hebrew/text?book=Proverbia&amp;chapter=16&amp;verse=22&amp;version=c&amp;mr=m&amp;qw=q&amp;tp=txt_p&amp;tr=hb&amp;wget=v&amp;qget=v&amp;nget=vt\" title=\"Proverbs 16:22\" sec=\"Proverbs 16:22\"><span  class=\"hl hlup\" >מוּסַ֖ר </span><span  class=\"hl hlup\" >אֱוִלִ֣ים </span></a></span> <i>864356</i> </td><td class=\"tf\"><span class=\"hb\"><span  class=\"hl hlup\" >מוּסַ֖ר </span></span> <i>351222</i> </td><td class=\"tf\"><span class=\"hb\"><span  class=\"hl hlup\" >אֱוִלִ֣ים </span></span> <i>351223</i> </td></tr>\n",
       "<tr class=\"tf\"><td class=\"tf\">65</td><td class=\"tf\"> <a href=\"https://shebanq.ancient-data.org/hebrew/text?book=Leviticus&amp;chapter=14&amp;verse=24&amp;version=c&amp;mr=m&amp;qw=q&amp;tp=txt_p&amp;tr=hb&amp;wget=v&amp;qget=v&amp;nget=vt\" title=\"show this passage in SHEBANQ\" sec=\"Leviticus 14:24\">Leviticus 14:24</a></td><td class=\"tf\"><span class=\"hb\"><a href=\"https://shebanq.ancient-data.org/hebrew/text?book=Leviticus&amp;chapter=14&amp;verse=24&amp;version=c&amp;mr=m&amp;qw=q&amp;tp=txt_p&amp;tr=hb&amp;wget=v&amp;qget=v&amp;nget=vt\" title=\"Leviticus 14:24\" sec=\"Leviticus 14:24\"><span  class=\"hlup\" >אֶת־</span><span  class=\"hl hlup\" >כֶּ֥בֶשׂ </span><span  class=\"hlup\" >הָ</span><span  class=\"hl hlup\" >אָשָׁ֖ם </span><span  class=\"hlup\" >וְ</span><span  class=\"hlup\" >אֶת־</span><span  class=\"hlup\" >לֹ֣ג </span><span  class=\"hlup\" >הַ</span><span  class=\"hlup\" >שָּׁ֑מֶן </span></a></span> <i>687157</i> </td><td class=\"tf\"><span class=\"hb\"><span  class=\"hl hlup\" >כֶּ֥בֶשׂ </span></span> <i>60778</i> </td><td class=\"tf\"><span class=\"hb\"><span  class=\"hl hlup\" >אָשָׁ֖ם </span></span> <i>60780</i> </td></tr>\n",
       "<tr class=\"tf\"><td class=\"tf\">66</td><td class=\"tf\"> <a href=\"https://shebanq.ancient-data.org/hebrew/text?book=Chronica_II&amp;chapter=4&amp;verse=17&amp;version=c&amp;mr=m&amp;qw=q&amp;tp=txt_p&amp;tr=hb&amp;wget=v&amp;qget=v&amp;nget=vt\" title=\"show this passage in SHEBANQ\" sec=\"2_Chronicles 4:17\">2_Chronicles 4:17</a></td><td class=\"tf\"><span class=\"hb\"><a href=\"https://shebanq.ancient-data.org/hebrew/text?book=Chronica_II&amp;chapter=4&amp;verse=17&amp;version=c&amp;mr=m&amp;qw=q&amp;tp=txt_p&amp;tr=hb&amp;wget=v&amp;qget=v&amp;nget=vt\" title=\"2_Chronicles 4:17\" sec=\"2_Chronicles 4:17\"><span  class=\"hlup\" >בַּ</span><span  class=\"hl hlup\" >עֲבִ֖י </span><span  class=\"hlup\" >הָ</span><span  class=\"hl hlup\" >אֲדָמָ֑ה </span><span  class=\"hlup\" >בֵּ֥ין </span><span  class=\"hlup\" >סֻכֹּ֖ות </span><span  class=\"hlup\" >וּ</span><span  class=\"hlup\" >בֵ֥ין </span><span  class=\"hlup\" >צְרֵדָֽתָה׃ </span></a></span> <i>895386</i> </td><td class=\"tf\"><span class=\"hb\"><span  class=\"hl hlup\" >עֲבִ֖י </span></span> <i>408474</i> </td><td class=\"tf\"><span class=\"hb\"><span  class=\"hl hlup\" >אֲדָמָ֑ה </span></span> <i>408476</i> </td></tr>\n",
       "<tr class=\"tf\"><td class=\"tf\">67</td><td class=\"tf\"> <a href=\"https://shebanq.ancient-data.org/hebrew/text?book=Ezechiel&amp;chapter=40&amp;verse=48&amp;version=c&amp;mr=m&amp;qw=q&amp;tp=txt_p&amp;tr=hb&amp;wget=v&amp;qget=v&amp;nget=vt\" title=\"show this passage in SHEBANQ\" sec=\"Ezekiel 40:48\">Ezekiel 40:48</a></td><td class=\"tf\"><span class=\"hb\"><a href=\"https://shebanq.ancient-data.org/hebrew/text?book=Ezechiel&amp;chapter=40&amp;verse=48&amp;version=c&amp;mr=m&amp;qw=q&amp;tp=txt_p&amp;tr=hb&amp;wget=v&amp;qget=v&amp;nget=vt\" title=\"Ezekiel 40:48\" sec=\"Ezekiel 40:48\"><span  class=\"hl hlup\" >אֵ֣ל </span><span  class=\"hl hlup\" >אֻלָ֔ם </span></a></span> <i>820176</i> </td><td class=\"tf\"><span class=\"hb\"><span  class=\"hl hlup\" >אֵ֣ל </span></span> <i>286034</i> </td><td class=\"tf\"><span class=\"hb\"><span  class=\"hl hlup\" >אֻלָ֔ם </span></span> <i>286035</i> </td></tr>\n",
       "<tr class=\"tf\"><td class=\"tf\">68</td><td class=\"tf\"> <a href=\"https://shebanq.ancient-data.org/hebrew/text?book=Exodus&amp;chapter=23&amp;verse=19&amp;version=c&amp;mr=m&amp;qw=q&amp;tp=txt_p&amp;tr=hb&amp;wget=v&amp;qget=v&amp;nget=vt\" title=\"show this passage in SHEBANQ\" sec=\"Exodus 23:19\">Exodus 23:19</a></td><td class=\"tf\"><span class=\"hb\"><a href=\"https://shebanq.ancient-data.org/hebrew/text?book=Exodus&amp;chapter=23&amp;verse=19&amp;version=c&amp;mr=m&amp;qw=q&amp;tp=txt_p&amp;tr=hb&amp;wget=v&amp;qget=v&amp;nget=vt\" title=\"Exodus 23:19\" sec=\"Exodus 23:19\"><span  class=\"hlup\" >רֵאשִׁ֗ית </span><span  class=\"hl hlup\" >בִּכּוּרֵי֙ </span><span  class=\"hl hlup\" >אַדְמָ֣תְךָ֔ </span></a></span> <i>677225</i> </td><td class=\"tf\"><span class=\"hb\"><span  class=\"hl hlup\" >בִּכּוּרֵי֙ </span></span> <i>41332</i> </td><td class=\"tf\"><span class=\"hb\"><span  class=\"hl hlup\" >אַדְמָ֣תְךָ֔ </span></span> <i>41333</i> </td></tr>\n",
       "<tr class=\"tf\"><td class=\"tf\">69</td><td class=\"tf\"> <a href=\"https://shebanq.ancient-data.org/hebrew/text?book=Ezechiel&amp;chapter=23&amp;verse=44&amp;version=c&amp;mr=m&amp;qw=q&amp;tp=txt_p&amp;tr=hb&amp;wget=v&amp;qget=v&amp;nget=vt\" title=\"show this passage in SHEBANQ\" sec=\"Ezekiel 23:44\">Ezekiel 23:44</a></td><td class=\"tf\"><span class=\"hb\"><a href=\"https://shebanq.ancient-data.org/hebrew/text?book=Ezechiel&amp;chapter=23&amp;verse=44&amp;version=c&amp;mr=m&amp;qw=q&amp;tp=txt_p&amp;tr=hb&amp;wget=v&amp;qget=v&amp;nget=vt\" title=\"Ezekiel 23:44\" sec=\"Ezekiel 23:44\"><span  class=\"hlup\" >אֶֽל־</span><span  class=\"hlup\" >אָֽהֳלָה֙ </span><span  class=\"hlup\" >וְ</span><span  class=\"hlup\" >אֶל־</span><span  class=\"hlup\" >אָ֣הֳלִיבָ֔ה </span><span  class=\"hl hlup\" >אִשֹּׁ֖ת </span><span  class=\"hlup\" >הַ</span><span  class=\"hl hlup\" >זִּמָּֽה׃ </span></a></span> <i>814407</i> </td><td class=\"tf\"><span class=\"hb\"><span  class=\"hl hlup\" >אִשֹּׁ֖ת </span></span> <i>276467</i> </td><td class=\"tf\"><span class=\"hb\"><span  class=\"hl hlup\" >זִּמָּֽה׃ </span></span> <i>276469</i> </td></tr>\n",
       "<tr class=\"tf\"><td class=\"tf\">70</td><td class=\"tf\"> <a href=\"https://shebanq.ancient-data.org/hebrew/text?book=Exodus&amp;chapter=25&amp;verse=25&amp;version=c&amp;mr=m&amp;qw=q&amp;tp=txt_p&amp;tr=hb&amp;wget=v&amp;qget=v&amp;nget=vt\" title=\"show this passage in SHEBANQ\" sec=\"Exodus 25:25\">Exodus 25:25</a></td><td class=\"tf\"><span class=\"hb\"><a href=\"https://shebanq.ancient-data.org/hebrew/text?book=Exodus&amp;chapter=25&amp;verse=25&amp;version=c&amp;mr=m&amp;qw=q&amp;tp=txt_p&amp;tr=hb&amp;wget=v&amp;qget=v&amp;nget=vt\" title=\"Exodus 25:25\" sec=\"Exodus 25:25\"><span  class=\"hl hlup\" >מִסְגֶּ֛רֶת </span><span  class=\"hl hlup\" >טֹ֖פַח </span></a></span> <i>677799</i> </td><td class=\"tf\"><span class=\"hb\"><span  class=\"hl hlup\" >מִסְגֶּ֛רֶת </span></span> <i>42353</i> </td><td class=\"tf\"><span class=\"hb\"><span  class=\"hl hlup\" >טֹ֖פַח </span></span> <i>42354</i> </td></tr>\n",
       "<tr class=\"tf\"><td class=\"tf\">71</td><td class=\"tf\"> <a href=\"https://shebanq.ancient-data.org/hebrew/text?book=Jeremia&amp;chapter=3&amp;verse=3&amp;version=c&amp;mr=m&amp;qw=q&amp;tp=txt_p&amp;tr=hb&amp;wget=v&amp;qget=v&amp;nget=vt\" title=\"show this passage in SHEBANQ\" sec=\"Jeremiah 3:3\">Jeremiah 3:3</a></td><td class=\"tf\"><span class=\"hb\"><a href=\"https://shebanq.ancient-data.org/hebrew/text?book=Jeremia&amp;chapter=3&amp;verse=3&amp;version=c&amp;mr=m&amp;qw=q&amp;tp=txt_p&amp;tr=hb&amp;wget=v&amp;qget=v&amp;nget=vt\" title=\"Jeremiah 3:3\" sec=\"Jeremiah 3:3\"><span  class=\"hl hlup\" >מֵ֨צַח </span><span  class=\"hl hlup\" >אִשָּׁ֤ה </span><span  class=\"hlup\" >זֹונָה֙ </span></a></span> <i>790056</i> </td><td class=\"tf\"><span class=\"hb\"><span  class=\"hl hlup\" >מֵ֨צַח </span></span> <i>236078</i> </td><td class=\"tf\"><span class=\"hb\"><span  class=\"hl hlup\" >אִשָּׁ֤ה </span></span> <i>236079</i> </td></tr>\n",
       "<tr class=\"tf\"><td class=\"tf\">72</td><td class=\"tf\"> <a href=\"https://shebanq.ancient-data.org/hebrew/text?book=Psalmi&amp;chapter=74&amp;verse=15&amp;version=c&amp;mr=m&amp;qw=q&amp;tp=txt_p&amp;tr=hb&amp;wget=v&amp;qget=v&amp;nget=vt\" title=\"show this passage in SHEBANQ\" sec=\"Psalms 74:15\">Psalms 74:15</a></td><td class=\"tf\"><span class=\"hb\"><a href=\"https://shebanq.ancient-data.org/hebrew/text?book=Psalmi&amp;chapter=74&amp;verse=15&amp;version=c&amp;mr=m&amp;qw=q&amp;tp=txt_p&amp;tr=hb&amp;wget=v&amp;qget=v&amp;nget=vt\" title=\"Psalms 74:15\" sec=\"Psalms 74:15\"><span  class=\"hl hlup\" >נַהֲרֹ֥ות </span><span  class=\"hl hlup\" >אֵיתָֽן׃ </span></a></span> <i>844060</i> </td><td class=\"tf\"><span class=\"hb\"><span  class=\"hl hlup\" >נַהֲרֹ֥ות </span></span> <i>322939</i> </td><td class=\"tf\"><span class=\"hb\"><span  class=\"hl hlup\" >אֵיתָֽן׃ </span></span> <i>322940</i> </td></tr>\n",
       "<tr class=\"tf\"><td class=\"tf\">73</td><td class=\"tf\"> <a href=\"https://shebanq.ancient-data.org/hebrew/text?book=Genesis&amp;chapter=16&amp;verse=12&amp;version=c&amp;mr=m&amp;qw=q&amp;tp=txt_p&amp;tr=hb&amp;wget=v&amp;qget=v&amp;nget=vt\" title=\"show this passage in SHEBANQ\" sec=\"Genesis 16:12\">Genesis 16:12</a></td><td class=\"tf\"><span class=\"hb\"><a href=\"https://shebanq.ancient-data.org/hebrew/text?book=Genesis&amp;chapter=16&amp;verse=12&amp;version=c&amp;mr=m&amp;qw=q&amp;tp=txt_p&amp;tr=hb&amp;wget=v&amp;qget=v&amp;nget=vt\" title=\"Genesis 16:12\" sec=\"Genesis 16:12\"><span  class=\"hl hlup\" >פֶּ֣רֶא </span><span  class=\"hl hlup\" >אָדָ֔ם </span></a></span> <i>655560</i> </td><td class=\"tf\"><span class=\"hb\"><span  class=\"hl hlup\" >פֶּ֣רֶא </span></span> <i>7246</i> </td><td class=\"tf\"><span class=\"hb\"><span  class=\"hl hlup\" >אָדָ֔ם </span></span> <i>7247</i> </td></tr>\n",
       "<tr class=\"tf\"><td class=\"tf\">74</td><td class=\"tf\"> <a href=\"https://shebanq.ancient-data.org/hebrew/text?book=Hosea&amp;chapter=10&amp;verse=5&amp;version=c&amp;mr=m&amp;qw=q&amp;tp=txt_p&amp;tr=hb&amp;wget=v&amp;qget=v&amp;nget=vt\" title=\"show this passage in SHEBANQ\" sec=\"Hosea 10:5\">Hosea 10:5</a></td><td class=\"tf\"><span class=\"hb\"><a href=\"https://shebanq.ancient-data.org/hebrew/text?book=Hosea&amp;chapter=10&amp;verse=5&amp;version=c&amp;mr=m&amp;qw=q&amp;tp=txt_p&amp;tr=hb&amp;wget=v&amp;qget=v&amp;nget=vt\" title=\"Hosea 10:5\" sec=\"Hosea 10:5\"><span  class=\"hl hlup\" >שְׁכַ֣ן </span><span  class=\"hl hlup\" >שֹֽׁמְרֹ֑ון </span></a></span> <i>824064</i> </td><td class=\"tf\"><span class=\"hb\"><span  class=\"hl hlup\" >שְׁכַ֣ן </span></span> <i>293126</i> </td><td class=\"tf\"><span class=\"hb\"><span  class=\"hl hlup\" >שֹֽׁמְרֹ֑ון </span></span> <i>293127</i> </td></tr>\n",
       "<tr class=\"tf\"><td class=\"tf\">75</td><td class=\"tf\"> <a href=\"https://shebanq.ancient-data.org/hebrew/text?book=Jesaia&amp;chapter=63&amp;verse=1&amp;version=c&amp;mr=m&amp;qw=q&amp;tp=txt_p&amp;tr=hb&amp;wget=v&amp;qget=v&amp;nget=vt\" title=\"show this passage in SHEBANQ\" sec=\"Isaiah 63:1\">Isaiah 63:1</a></td><td class=\"tf\"><span class=\"hb\"><a href=\"https://shebanq.ancient-data.org/hebrew/text?book=Jesaia&amp;chapter=63&amp;verse=1&amp;version=c&amp;mr=m&amp;qw=q&amp;tp=txt_p&amp;tr=hb&amp;wget=v&amp;qget=v&amp;nget=vt\" title=\"Isaiah 63:1\" sec=\"Isaiah 63:1\"><span  class=\"hl hlup\" >חֲמ֤וּץ </span><span  class=\"hl hlup\" >בְּגָדִים֙ </span><span  class=\"hlup\" >מִ</span><span  class=\"hlup\" >בָּצְרָ֔ה </span></a></span> <i>788283</i> </td><td class=\"tf\"><span class=\"hb\"><span  class=\"hl hlup\" >חֲמ֤וּץ </span></span> <i>233466</i> </td><td class=\"tf\"><span class=\"hb\"><span  class=\"hl hlup\" >בְּגָדִים֙ </span></span> <i>233467</i> </td></tr>\n",
       "<tr class=\"tf\"><td class=\"tf\">76</td><td class=\"tf\"> <a href=\"https://shebanq.ancient-data.org/hebrew/text?book=Reges_II&amp;chapter=4&amp;verse=2&amp;version=c&amp;mr=m&amp;qw=q&amp;tp=txt_p&amp;tr=hb&amp;wget=v&amp;qget=v&amp;nget=vt\" title=\"show this passage in SHEBANQ\" sec=\"2_Kings 4:2\">2_Kings 4:2</a></td><td class=\"tf\"><span class=\"hb\"><a href=\"https://shebanq.ancient-data.org/hebrew/text?book=Reges_II&amp;chapter=4&amp;verse=2&amp;version=c&amp;mr=m&amp;qw=q&amp;tp=txt_p&amp;tr=hb&amp;wget=v&amp;qget=v&amp;nget=vt\" title=\"2_Kings 4:2\" sec=\"2_Kings 4:2\"><span  class=\"hl hlup\" >אָס֥וּךְ </span><span  class=\"hl hlup\" >שָֽׁמֶן׃ </span></a></span> <i>765242</i> </td><td class=\"tf\"><span class=\"hb\"><span  class=\"hl hlup\" >אָס֥וּךְ </span></span> <i>196520</i> </td><td class=\"tf\"><span class=\"hb\"><span  class=\"hl hlup\" >שָֽׁמֶן׃ </span></span> <i>196521</i> </td></tr>\n",
       "<tr class=\"tf\"><td class=\"tf\">77</td><td class=\"tf\"> <a href=\"https://shebanq.ancient-data.org/hebrew/text?book=Iob&amp;chapter=20&amp;verse=8&amp;version=c&amp;mr=m&amp;qw=q&amp;tp=txt_p&amp;tr=hb&amp;wget=v&amp;qget=v&amp;nget=vt\" title=\"show this passage in SHEBANQ\" sec=\"Job 20:8\">Job 20:8</a></td><td class=\"tf\"><span class=\"hb\"><a href=\"https://shebanq.ancient-data.org/hebrew/text?book=Iob&amp;chapter=20&amp;verse=8&amp;version=c&amp;mr=m&amp;qw=q&amp;tp=txt_p&amp;tr=hb&amp;wget=v&amp;qget=v&amp;nget=vt\" title=\"Job 20:8\" sec=\"Job 20:8\"><span  class=\"hlup\" >כְּ</span><span  class=\"hl hlup\" >חֶזְיֹ֥ון </span><span  class=\"hl hlup\" >לָֽיְלָה׃ </span></a></span> <i>856848</i> </td><td class=\"tf\"><span class=\"hb\"><span  class=\"hl hlup\" >חֶזְיֹ֥ון </span></span> <i>340982</i> </td><td class=\"tf\"><span class=\"hb\"><span  class=\"hl hlup\" >לָֽיְלָה׃ </span></span> <i>340983</i> </td></tr>\n",
       "<tr class=\"tf\"><td class=\"tf\">78</td><td class=\"tf\"> <a href=\"https://shebanq.ancient-data.org/hebrew/text?book=Zephania&amp;chapter=2&amp;verse=6&amp;version=c&amp;mr=m&amp;qw=q&amp;tp=txt_p&amp;tr=hb&amp;wget=v&amp;qget=v&amp;nget=vt\" title=\"show this passage in SHEBANQ\" sec=\"Zephaniah 2:6\">Zephaniah 2:6</a></td><td class=\"tf\"><span class=\"hb\"><a href=\"https://shebanq.ancient-data.org/hebrew/text?book=Zephania&amp;chapter=2&amp;verse=6&amp;version=c&amp;mr=m&amp;qw=q&amp;tp=txt_p&amp;tr=hb&amp;wget=v&amp;qget=v&amp;nget=vt\" title=\"Zephaniah 2:6\" sec=\"Zephaniah 2:6\"><span  class=\"hlup\" >נְוֹ֛ת </span><span  class=\"hl hlup\" >כְּרֹ֥ת </span><span  class=\"hl hlup\" >רֹעִ֖ים </span><span  class=\"hlup\" >וְ</span><span  class=\"hlup\" >גִדְרֹ֥ות </span><span  class=\"hlup\" >צֹֽאן׃ </span></a></span> <i>831056</i> </td><td class=\"tf\"><span class=\"hb\"><span  class=\"hl hlup\" >כְּרֹ֥ת </span></span> <i>303559</i> </td><td class=\"tf\"><span class=\"hb\"><span  class=\"hl hlup\" >רֹעִ֖ים </span></span> <i>303560</i> </td></tr>\n",
       "<tr class=\"tf\"><td class=\"tf\">79</td><td class=\"tf\"> <a href=\"https://shebanq.ancient-data.org/hebrew/text?book=Ezechiel&amp;chapter=4&amp;verse=12&amp;version=c&amp;mr=m&amp;qw=q&amp;tp=txt_p&amp;tr=hb&amp;wget=v&amp;qget=v&amp;nget=vt\" title=\"show this passage in SHEBANQ\" sec=\"Ezekiel 4:12\">Ezekiel 4:12</a></td><td class=\"tf\"><span class=\"hb\"><a href=\"https://shebanq.ancient-data.org/hebrew/text?book=Ezechiel&amp;chapter=4&amp;verse=12&amp;version=c&amp;mr=m&amp;qw=q&amp;tp=txt_p&amp;tr=hb&amp;wget=v&amp;qget=v&amp;nget=vt\" title=\"Ezekiel 4:12\" sec=\"Ezekiel 4:12\"><span  class=\"hl hlup\" >עֻגַ֥ת </span><span  class=\"hl hlup\" >שְׂעֹרִ֖ים </span></a></span> <i>807729</i> </td><td class=\"tf\"><span class=\"hb\"><span  class=\"hl hlup\" >עֻגַ֥ת </span></span> <i>266308</i> </td><td class=\"tf\"><span class=\"hb\"><span  class=\"hl hlup\" >שְׂעֹרִ֖ים </span></span> <i>266309</i> </td></tr>\n",
       "<tr class=\"tf\"><td class=\"tf\">80</td><td class=\"tf\"> <a href=\"https://shebanq.ancient-data.org/hebrew/text?book=Psalmi&amp;chapter=140&amp;verse=9&amp;version=c&amp;mr=m&amp;qw=q&amp;tp=txt_p&amp;tr=hb&amp;wget=v&amp;qget=v&amp;nget=vt\" title=\"show this passage in SHEBANQ\" sec=\"Psalms 140:9\">Psalms 140:9</a></td><td class=\"tf\"><span class=\"hb\"><a href=\"https://shebanq.ancient-data.org/hebrew/text?book=Psalmi&amp;chapter=140&amp;verse=9&amp;version=c&amp;mr=m&amp;qw=q&amp;tp=txt_p&amp;tr=hb&amp;wget=v&amp;qget=v&amp;nget=vt\" title=\"Psalms 140:9\" sec=\"Psalms 140:9\"><span  class=\"hl hlup\" >מַאֲוַיֵּ֣י </span><span  class=\"hl hlup\" >רָשָׁ֑ע </span></a></span> <i>852138</i> </td><td class=\"tf\"><span class=\"hb\"><span  class=\"hl hlup\" >מַאֲוַיֵּ֣י </span></span> <i>334657</i> </td><td class=\"tf\"><span class=\"hb\"><span  class=\"hl hlup\" >רָשָׁ֑ע </span></span> <i>334658</i> </td></tr>\n",
       "<tr class=\"tf\"><td class=\"tf\">81</td><td class=\"tf\"> <a href=\"https://shebanq.ancient-data.org/hebrew/text?book=Deuteronomium&amp;chapter=28&amp;verse=59&amp;version=c&amp;mr=m&amp;qw=q&amp;tp=txt_p&amp;tr=hb&amp;wget=v&amp;qget=v&amp;nget=vt\" title=\"show this passage in SHEBANQ\" sec=\"Deuteronomy 28:59\">Deuteronomy 28:59</a></td><td class=\"tf\"><span class=\"hb\"><a href=\"https://shebanq.ancient-data.org/hebrew/text?book=Deuteronomium&amp;chapter=28&amp;verse=59&amp;version=c&amp;mr=m&amp;qw=q&amp;tp=txt_p&amp;tr=hb&amp;wget=v&amp;qget=v&amp;nget=vt\" title=\"Deuteronomy 28:59\" sec=\"Deuteronomy 28:59\"><span  class=\"hlup\" >אֶת־</span><span  class=\"hlup\" >מַכֹּ֣תְךָ֔ </span><span  class=\"hlup\" >וְ</span><span  class=\"hlup\" >אֵ֖ת </span><span  class=\"hl hlup\" >מַכֹּ֣ות </span><span  class=\"hl hlup\" >זַרְעֶ֑ךָ </span><span  class=\"hlup\" >מַכֹּ֤ות </span><span  class=\"hlup\" >גְּדֹלֹות֙ </span><span  class=\"hlup\" >וְ</span><span  class=\"hlup\" >נֶ֣אֱמָנֹ֔ות </span><span  class=\"hlup\" >וָ</span><span  class=\"hlup\" >חֳלָיִ֥ם </span><span  class=\"hlup\" >רָעִ֖ים </span><span  class=\"hlup\" >וְ</span><span  class=\"hlup\" >נֶאֱמָנִֽים׃ </span></a></span> <i>713593</i> </td><td class=\"tf\"><span class=\"hb\"><span  class=\"hl hlup\" >מַכֹּ֣ות </span></span> <i>109272</i> </td><td class=\"tf\"><span class=\"hb\"><span  class=\"hl hlup\" >זַרְעֶ֑ךָ </span></span> <i>109273</i> </td></tr>\n",
       "<tr class=\"tf\"><td class=\"tf\">82</td><td class=\"tf\"> <a href=\"https://shebanq.ancient-data.org/hebrew/text?book=Ezechiel&amp;chapter=10&amp;verse=2&amp;version=c&amp;mr=m&amp;qw=q&amp;tp=txt_p&amp;tr=hb&amp;wget=v&amp;qget=v&amp;nget=vt\" title=\"show this passage in SHEBANQ\" sec=\"Ezekiel 10:2\">Ezekiel 10:2</a></td><td class=\"tf\"><span class=\"hb\"><a href=\"https://shebanq.ancient-data.org/hebrew/text?book=Ezechiel&amp;chapter=10&amp;verse=2&amp;version=c&amp;mr=m&amp;qw=q&amp;tp=txt_p&amp;tr=hb&amp;wget=v&amp;qget=v&amp;nget=vt\" title=\"Ezekiel 10:2\" sec=\"Ezekiel 10:2\"><span  class=\"hl hlup\" >גַֽחֲלֵי־</span><span  class=\"hl hlup\" >אֵשׁ֙ </span><span  class=\"hlup\" >מִ</span><span  class=\"hlup\" >בֵּינֹ֣ות </span><span  class=\"hlup\" >לַ</span><span  class=\"hlup\" ></span><span  class=\"hlup\" >כְּרֻבִ֔ים </span></a></span> <i>809084</i> </td><td class=\"tf\"><span class=\"hb\"><span  class=\"hl hlup\" >גַֽחֲלֵי־</span></span> <i>268416</i> </td><td class=\"tf\"><span class=\"hb\"><span  class=\"hl hlup\" >אֵשׁ֙ </span></span> <i>268417</i> </td></tr>\n",
       "<tr class=\"tf\"><td class=\"tf\">83</td><td class=\"tf\"> <a href=\"https://shebanq.ancient-data.org/hebrew/text?book=Ecclesiastes&amp;chapter=12&amp;verse=13&amp;version=c&amp;mr=m&amp;qw=q&amp;tp=txt_p&amp;tr=hb&amp;wget=v&amp;qget=v&amp;nget=vt\" title=\"show this passage in SHEBANQ\" sec=\"Ecclesiastes 12:13\">Ecclesiastes 12:13</a></td><td class=\"tf\"><span class=\"hb\"><a href=\"https://shebanq.ancient-data.org/hebrew/text?book=Ecclesiastes&amp;chapter=12&amp;verse=13&amp;version=c&amp;mr=m&amp;qw=q&amp;tp=txt_p&amp;tr=hb&amp;wget=v&amp;qget=v&amp;nget=vt\" title=\"Ecclesiastes 12:13\" sec=\"Ecclesiastes 12:13\"><span  class=\"hl hlup\" >סֹ֥וף </span><span  class=\"hl hlup\" >דָּבָ֖ר </span></a></span> <i>872574</i> </td><td class=\"tf\"><span class=\"hb\"><span  class=\"hl hlup\" >סֹ֥וף </span></span> <i>363474</i> </td><td class=\"tf\"><span class=\"hb\"><span  class=\"hl hlup\" >דָּבָ֖ר </span></span> <i>363475</i> </td></tr>\n",
       "<tr class=\"tf\"><td class=\"tf\">84</td><td class=\"tf\"> <a href=\"https://shebanq.ancient-data.org/hebrew/text?book=Genesis&amp;chapter=41&amp;verse=18&amp;version=c&amp;mr=m&amp;qw=q&amp;tp=txt_p&amp;tr=hb&amp;wget=v&amp;qget=v&amp;nget=vt\" title=\"show this passage in SHEBANQ\" sec=\"Genesis 41:18\">Genesis 41:18</a></td><td class=\"tf\"><span class=\"hb\"><a href=\"https://shebanq.ancient-data.org/hebrew/text?book=Genesis&amp;chapter=41&amp;verse=18&amp;version=c&amp;mr=m&amp;qw=q&amp;tp=txt_p&amp;tr=hb&amp;wget=v&amp;qget=v&amp;nget=vt\" title=\"Genesis 41:18\" sec=\"Genesis 41:18\"><span  class=\"hlup\" >שֶׁ֣בַע </span><span  class=\"hlup\" >פָּרֹ֔ות </span><span  class=\"hl hlup\" >בְּרִיאֹ֥ות </span><span  class=\"hl hlup\" >בָּשָׂ֖ר </span><span  class=\"hlup\" >וִ</span><span  class=\"hlup\" >יפֹ֣ת </span><span  class=\"hlup\" >תֹּ֑אַר </span></a></span> <i>665594</i> </td><td class=\"tf\"><span class=\"hb\"><span  class=\"hl hlup\" >בְּרִיאֹ֥ות </span></span> <i>22674</i> </td><td class=\"tf\"><span class=\"hb\"><span  class=\"hl hlup\" >בָּשָׂ֖ר </span></span> <i>22675</i> </td></tr>\n",
       "<tr class=\"tf\"><td class=\"tf\">85</td><td class=\"tf\"> <a href=\"https://shebanq.ancient-data.org/hebrew/text?book=Daniel&amp;chapter=12&amp;verse=8&amp;version=c&amp;mr=m&amp;qw=q&amp;tp=txt_p&amp;tr=hb&amp;wget=v&amp;qget=v&amp;nget=vt\" title=\"show this passage in SHEBANQ\" sec=\"Daniel 12:8\">Daniel 12:8</a></td><td class=\"tf\"><span class=\"hb\"><a href=\"https://shebanq.ancient-data.org/hebrew/text?book=Daniel&amp;chapter=12&amp;verse=8&amp;version=c&amp;mr=m&amp;qw=q&amp;tp=txt_p&amp;tr=hb&amp;wget=v&amp;qget=v&amp;nget=vt\" title=\"Daniel 12:8\" sec=\"Daniel 12:8\"><span  class=\"hl hlup\" >אַחֲרִ֖ית </span><span  class=\"hl hlup\" >אֵֽלֶּה׃ פ </span></a></span> <i>881244</i> </td><td class=\"tf\"><span class=\"hb\"><span  class=\"hl hlup\" >אַחֲרִ֖ית </span></span> <i>378069</i> </td><td class=\"tf\"><span class=\"hb\"><span  class=\"hl hlup\" >אֵֽלֶּה׃ פ </span></span> <i>378070</i> </td></tr>\n",
       "<tr class=\"tf\"><td class=\"tf\">86</td><td class=\"tf\"> <a href=\"https://shebanq.ancient-data.org/hebrew/text?book=Ezechiel&amp;chapter=21&amp;verse=11&amp;version=c&amp;mr=m&amp;qw=q&amp;tp=txt_p&amp;tr=hb&amp;wget=v&amp;qget=v&amp;nget=vt\" title=\"show this passage in SHEBANQ\" sec=\"Ezekiel 21:11\">Ezekiel 21:11</a></td><td class=\"tf\"><span class=\"hb\"><a href=\"https://shebanq.ancient-data.org/hebrew/text?book=Ezechiel&amp;chapter=21&amp;verse=11&amp;version=c&amp;mr=m&amp;qw=q&amp;tp=txt_p&amp;tr=hb&amp;wget=v&amp;qget=v&amp;nget=vt\" title=\"Ezekiel 21:11\" sec=\"Ezekiel 21:11\"><span  class=\"hlup\" >בְּ</span><span  class=\"hl hlup\" >שִׁבְרֹ֤ון </span><span  class=\"hl hlup\" >מָתְנַ֨יִם֙ </span></a></span> <i>813224</i> </td><td class=\"tf\"><span class=\"hb\"><span  class=\"hl hlup\" >שִׁבְרֹ֤ון </span></span> <i>274694</i> </td><td class=\"tf\"><span class=\"hb\"><span  class=\"hl hlup\" >מָתְנַ֨יִם֙ </span></span> <i>274695</i> </td></tr>\n",
       "<tr class=\"tf\"><td class=\"tf\">87</td><td class=\"tf\"> <a href=\"https://shebanq.ancient-data.org/hebrew/text?book=Daniel&amp;chapter=3&amp;verse=27&amp;version=c&amp;mr=m&amp;qw=q&amp;tp=txt_p&amp;tr=hb&amp;wget=v&amp;qget=v&amp;nget=vt\" title=\"show this passage in SHEBANQ\" sec=\"Daniel 3:27\">Daniel 3:27</a></td><td class=\"tf\"><span class=\"hb\"><a href=\"https://shebanq.ancient-data.org/hebrew/text?book=Daniel&amp;chapter=3&amp;verse=27&amp;version=c&amp;mr=m&amp;qw=q&amp;tp=txt_p&amp;tr=hb&amp;wget=v&amp;qget=v&amp;nget=vt\" title=\"Daniel 3:27\" sec=\"Daniel 3:27\"><span  class=\"hlup\" >אֲחַשְׁדַּרְפְּנַיָּ֞א </span><span  class=\"hlup\" >סִגְנַיָּ֣א </span><span  class=\"hlup\" >וּ</span><span  class=\"hlup\" >פַחֲוָתָא֮ </span><span  class=\"hlup\" >וְ</span><span  class=\"hl hlup\" >הַדָּבְרֵ֣י </span><span  class=\"hl hlup\" >מַלְכָּא֒ </span></a></span> <i>877514</i> </td><td class=\"tf\"><span class=\"hb\"><span  class=\"hl hlup\" >הַדָּבְרֵ֣י </span></span> <i>372225</i> </td><td class=\"tf\"><span class=\"hb\"><span  class=\"hl hlup\" >מַלְכָּא֒ </span></span> <i>372226</i> </td></tr>\n",
       "<tr class=\"tf\"><td class=\"tf\">88</td><td class=\"tf\"> <a href=\"https://shebanq.ancient-data.org/hebrew/text?book=Chronica_I&amp;chapter=28&amp;verse=21&amp;version=c&amp;mr=m&amp;qw=q&amp;tp=txt_p&amp;tr=hb&amp;wget=v&amp;qget=v&amp;nget=vt\" title=\"show this passage in SHEBANQ\" sec=\"1_Chronicles 28:21\">1_Chronicles 28:21</a></td><td class=\"tf\"><span class=\"hb\"><a href=\"https://shebanq.ancient-data.org/hebrew/text?book=Chronica_I&amp;chapter=28&amp;verse=21&amp;version=c&amp;mr=m&amp;qw=q&amp;tp=txt_p&amp;tr=hb&amp;wget=v&amp;qget=v&amp;nget=vt\" title=\"1_Chronicles 28:21\" sec=\"1_Chronicles 28:21\"><span  class=\"hl hlup\" >מַחְלְקֹות֙ </span><span  class=\"hlup\" >הַ</span><span  class=\"hl hlup\" >כֹּהֲנִ֣ים </span><span  class=\"hlup\" >וְ</span><span  class=\"hlup\" >הַ</span><span  class=\"hlup\" >לְוִיִּ֔ם </span></a></span> <i>894237</i> </td><td class=\"tf\"><span class=\"hb\"><span  class=\"hl hlup\" >מַחְלְקֹות֙ </span></span> <i>406042</i> </td><td class=\"tf\"><span class=\"hb\"><span  class=\"hl hlup\" >כֹּהֲנִ֣ים </span></span> <i>406044</i> </td></tr>\n",
       "<tr class=\"tf\"><td class=\"tf\">89</td><td class=\"tf\"> <a href=\"https://shebanq.ancient-data.org/hebrew/text?book=Hosea&amp;chapter=2&amp;verse=20&amp;version=c&amp;mr=m&amp;qw=q&amp;tp=txt_p&amp;tr=hb&amp;wget=v&amp;qget=v&amp;nget=vt\" title=\"show this passage in SHEBANQ\" sec=\"Hosea 2:20\">Hosea 2:20</a></td><td class=\"tf\"><span class=\"hb\"><a href=\"https://shebanq.ancient-data.org/hebrew/text?book=Hosea&amp;chapter=2&amp;verse=20&amp;version=c&amp;mr=m&amp;qw=q&amp;tp=txt_p&amp;tr=hb&amp;wget=v&amp;qget=v&amp;nget=vt\" title=\"Hosea 2:20\" sec=\"Hosea 2:20\"><span  class=\"hlup\" >עִם־</span><span  class=\"hlup\" >חַיַּ֤ת </span><span  class=\"hlup\" >הַ</span><span  class=\"hlup\" >שָּׂדֶה֙ </span><span  class=\"hlup\" >וְ</span><span  class=\"hlup\" >עִם־</span><span  class=\"hlup\" >עֹ֣וף </span><span  class=\"hlup\" >הַ</span><span  class=\"hlup\" >שָּׁמַ֔יִם </span><span  class=\"hlup\" >וְ</span><span  class=\"hl hlup\" >רֶ֖מֶשׂ </span><span  class=\"hlup\" >הָֽ</span><span  class=\"hl hlup\" >אֲדָמָ֑ה </span></a></span> <i>822886</i> </td><td class=\"tf\"><span class=\"hb\"><span  class=\"hl hlup\" >רֶ֖מֶשׂ </span></span> <i>291479</i> </td><td class=\"tf\"><span class=\"hb\"><span  class=\"hl hlup\" >אֲדָמָ֑ה </span></span> <i>291481</i> </td></tr>\n",
       "<tr class=\"tf\"><td class=\"tf\">90</td><td class=\"tf\"> <a href=\"https://shebanq.ancient-data.org/hebrew/text?book=Leviticus&amp;chapter=13&amp;verse=43&amp;version=c&amp;mr=m&amp;qw=q&amp;tp=txt_p&amp;tr=hb&amp;wget=v&amp;qget=v&amp;nget=vt\" title=\"show this passage in SHEBANQ\" sec=\"Leviticus 13:43\">Leviticus 13:43</a></td><td class=\"tf\"><span class=\"hb\"><a href=\"https://shebanq.ancient-data.org/hebrew/text?book=Leviticus&amp;chapter=13&amp;verse=43&amp;version=c&amp;mr=m&amp;qw=q&amp;tp=txt_p&amp;tr=hb&amp;wget=v&amp;qget=v&amp;nget=vt\" title=\"Leviticus 13:43\" sec=\"Leviticus 13:43\"><span  class=\"hl hlup\" >שְׂאֵת־</span><span  class=\"hlup\" >הַ</span><span  class=\"hl hlup\" >נֶּ֨גַע֙ </span></a></span> <i>686717</i> </td><td class=\"tf\"><span class=\"hb\"><span  class=\"hl hlup\" >שְׂאֵת־</span></span> <i>59785</i> </td><td class=\"tf\"><span class=\"hb\"><span  class=\"hl hlup\" >נֶּ֨גַע֙ </span></span> <i>59787</i> </td></tr>\n",
       "<tr class=\"tf\"><td class=\"tf\">91</td><td class=\"tf\"> <a href=\"https://shebanq.ancient-data.org/hebrew/text?book=Jesaia&amp;chapter=56&amp;verse=11&amp;version=c&amp;mr=m&amp;qw=q&amp;tp=txt_p&amp;tr=hb&amp;wget=v&amp;qget=v&amp;nget=vt\" title=\"show this passage in SHEBANQ\" sec=\"Isaiah 56:11\">Isaiah 56:11</a></td><td class=\"tf\"><span class=\"hb\"><a href=\"https://shebanq.ancient-data.org/hebrew/text?book=Jesaia&amp;chapter=56&amp;verse=11&amp;version=c&amp;mr=m&amp;qw=q&amp;tp=txt_p&amp;tr=hb&amp;wget=v&amp;qget=v&amp;nget=vt\" title=\"Isaiah 56:11\" sec=\"Isaiah 56:11\"><span  class=\"hl hlup\" >עַזֵּי־</span><span  class=\"hl hlup\" >נֶ֗פֶשׁ </span></a></span> <i>786909</i> </td><td class=\"tf\"><span class=\"hb\"><span  class=\"hl hlup\" >עַזֵּי־</span></span> <i>231518</i> </td><td class=\"tf\"><span class=\"hb\"><span  class=\"hl hlup\" >נֶ֗פֶשׁ </span></span> <i>231519</i> </td></tr>\n",
       "<tr class=\"tf\"><td class=\"tf\">92</td><td class=\"tf\"> <a href=\"https://shebanq.ancient-data.org/hebrew/text?book=Samuel_II&amp;chapter=20&amp;verse=9&amp;version=c&amp;mr=m&amp;qw=q&amp;tp=txt_p&amp;tr=hb&amp;wget=v&amp;qget=v&amp;nget=vt\" title=\"show this passage in SHEBANQ\" sec=\"2_Samuel 20:9\">2_Samuel 20:9</a></td><td class=\"tf\"><span class=\"hb\"><a href=\"https://shebanq.ancient-data.org/hebrew/text?book=Samuel_II&amp;chapter=20&amp;verse=9&amp;version=c&amp;mr=m&amp;qw=q&amp;tp=txt_p&amp;tr=hb&amp;wget=v&amp;qget=v&amp;nget=vt\" title=\"2_Samuel 20:9\" sec=\"2_Samuel 20:9\"><span  class=\"hlup\" >יַד־</span><span  class=\"hl hlup\" >יְמִ֥ין </span><span  class=\"hl hlup\" >יֹואָ֛ב </span></a></span> <i>751755</i> </td><td class=\"tf\"><span class=\"hb\"><span  class=\"hl hlup\" >יְמִ֥ין </span></span> <i>173311</i> </td><td class=\"tf\"><span class=\"hb\"><span  class=\"hl hlup\" >יֹואָ֛ב </span></span> <i>173312</i> </td></tr>\n",
       "<tr class=\"tf\"><td class=\"tf\">93</td><td class=\"tf\"> <a href=\"https://shebanq.ancient-data.org/hebrew/text?book=Psalmi&amp;chapter=140&amp;verse=9&amp;version=c&amp;mr=m&amp;qw=q&amp;tp=txt_p&amp;tr=hb&amp;wget=v&amp;qget=v&amp;nget=vt\" title=\"show this passage in SHEBANQ\" sec=\"Psalms 140:9\">Psalms 140:9</a></td><td class=\"tf\"><span class=\"hb\"><a href=\"https://shebanq.ancient-data.org/hebrew/text?book=Psalmi&amp;chapter=140&amp;verse=9&amp;version=c&amp;mr=m&amp;qw=q&amp;tp=txt_p&amp;tr=hb&amp;wget=v&amp;qget=v&amp;nget=vt\" title=\"Psalms 140:9\" sec=\"Psalms 140:9\"><span  class=\"hl hlup\" >מַאֲוַיֵּ֣י </span><span  class=\"hl hlup\" >רָשָׁ֑ע </span></a></span> <i>852138</i> </td><td class=\"tf\"><span class=\"hb\"><span  class=\"hl hlup\" >מַאֲוַיֵּ֣י </span></span> <i>334657</i> </td><td class=\"tf\"><span class=\"hb\"><span  class=\"hl hlup\" >רָשָׁ֑ע </span></span> <i>334658</i> </td></tr>\n",
       "<tr class=\"tf\"><td class=\"tf\">94</td><td class=\"tf\"> <a href=\"https://shebanq.ancient-data.org/hebrew/text?book=Jeremia&amp;chapter=20&amp;verse=11&amp;version=c&amp;mr=m&amp;qw=q&amp;tp=txt_p&amp;tr=hb&amp;wget=v&amp;qget=v&amp;nget=vt\" title=\"show this passage in SHEBANQ\" sec=\"Jeremiah 20:11\">Jeremiah 20:11</a></td><td class=\"tf\"><span class=\"hb\"><a href=\"https://shebanq.ancient-data.org/hebrew/text?book=Jeremia&amp;chapter=20&amp;verse=11&amp;version=c&amp;mr=m&amp;qw=q&amp;tp=txt_p&amp;tr=hb&amp;wget=v&amp;qget=v&amp;nget=vt\" title=\"Jeremiah 20:11\" sec=\"Jeremiah 20:11\"><span  class=\"hl hlup\" >כְּלִמַּ֥ת </span><span  class=\"hl hlup\" >עֹולָ֖ם </span></a></span> <i>795646</i> </td><td class=\"tf\"><span class=\"hb\"><span  class=\"hl hlup\" >כְּלִמַּ֥ת </span></span> <i>244810</i> </td><td class=\"tf\"><span class=\"hb\"><span  class=\"hl hlup\" >עֹולָ֖ם </span></span> <i>244811</i> </td></tr>\n",
       "<tr class=\"tf\"><td class=\"tf\">95</td><td class=\"tf\"> <a href=\"https://shebanq.ancient-data.org/hebrew/text?book=Psalmi&amp;chapter=45&amp;verse=13&amp;version=c&amp;mr=m&amp;qw=q&amp;tp=txt_p&amp;tr=hb&amp;wget=v&amp;qget=v&amp;nget=vt\" title=\"show this passage in SHEBANQ\" sec=\"Psalms 45:13\">Psalms 45:13</a></td><td class=\"tf\"><span class=\"hb\"><a href=\"https://shebanq.ancient-data.org/hebrew/text?book=Psalmi&amp;chapter=45&amp;verse=13&amp;version=c&amp;mr=m&amp;qw=q&amp;tp=txt_p&amp;tr=hb&amp;wget=v&amp;qget=v&amp;nget=vt\" title=\"Psalms 45:13\" sec=\"Psalms 45:13\"><span  class=\"hl hlup\" >עֲשִׁ֣ירֵי </span><span  class=\"hl hlup\" >עָֽם׃ </span></a></span> <i>840604</i> </td><td class=\"tf\"><span class=\"hb\"><span  class=\"hl hlup\" >עֲשִׁ֣ירֵי </span></span> <i>318021</i> </td><td class=\"tf\"><span class=\"hb\"><span  class=\"hl hlup\" >עָֽם׃ </span></span> <i>318022</i> </td></tr>\n",
       "<tr class=\"tf\"><td class=\"tf\">96</td><td class=\"tf\"> <a href=\"https://shebanq.ancient-data.org/hebrew/text?book=Numeri&amp;chapter=11&amp;verse=31&amp;version=c&amp;mr=m&amp;qw=q&amp;tp=txt_p&amp;tr=hb&amp;wget=v&amp;qget=v&amp;nget=vt\" title=\"show this passage in SHEBANQ\" sec=\"Numbers 11:31\">Numbers 11:31</a></td><td class=\"tf\"><span class=\"hb\"><a href=\"https://shebanq.ancient-data.org/hebrew/text?book=Numeri&amp;chapter=11&amp;verse=31&amp;version=c&amp;mr=m&amp;qw=q&amp;tp=txt_p&amp;tr=hb&amp;wget=v&amp;qget=v&amp;nget=vt\" title=\"Numbers 11:31\" sec=\"Numbers 11:31\"><span  class=\"hlup\" >כְּ</span><span  class=\"hlup\" >דֶ֧רֶךְ </span><span  class=\"hlup\" >יֹ֣ום </span><span  class=\"hlup\" >כֹּ֗ה </span><span  class=\"hlup\" >וּ</span><span  class=\"hlup\" >כְ</span><span  class=\"hlup\" >דֶ֤רֶךְ </span><span  class=\"hlup\" >יֹום֙ </span><span  class=\"hlup\" >כֹּ֔ה </span><span  class=\"hl hlup\" >סְבִיבֹ֖ות </span><span  class=\"hlup\" >הַֽ</span><span  class=\"hl hlup\" >מַּחֲנֶ֑ה </span><span  class=\"hlup\" >וּ</span><span  class=\"hlup\" >כְ</span><span  class=\"hlup\" >אַמָּתַ֖יִם </span><span  class=\"hlup\" >עַל־</span><span  class=\"hlup\" >פְּנֵ֥י </span><span  class=\"hlup\" >הָ</span><span  class=\"hlup\" >אָֽרֶץ׃ </span></a></span> <i>695929</i> </td><td class=\"tf\"><span class=\"hb\"><span  class=\"hl hlup\" >סְבִיבֹ֖ות </span></span> <i>77493</i> </td><td class=\"tf\"><span class=\"hb\"><span  class=\"hl hlup\" >מַּחֲנֶ֑ה </span></span> <i>77495</i> </td></tr>\n",
       "<tr class=\"tf\"><td class=\"tf\">97</td><td class=\"tf\"> <a href=\"https://shebanq.ancient-data.org/hebrew/text?book=Deuteronomium&amp;chapter=32&amp;verse=13&amp;version=c&amp;mr=m&amp;qw=q&amp;tp=txt_p&amp;tr=hb&amp;wget=v&amp;qget=v&amp;nget=vt\" title=\"show this passage in SHEBANQ\" sec=\"Deuteronomy 32:13\">Deuteronomy 32:13</a></td><td class=\"tf\"><span class=\"hb\"><a href=\"https://shebanq.ancient-data.org/hebrew/text?book=Deuteronomium&amp;chapter=32&amp;verse=13&amp;version=c&amp;mr=m&amp;qw=q&amp;tp=txt_p&amp;tr=hb&amp;wget=v&amp;qget=v&amp;nget=vt\" title=\"Deuteronomy 32:13\" sec=\"Deuteronomy 32:13\"><span  class=\"hlup\" >מֵ</span><span  class=\"hl hlup\" >חַלְמִ֥ישׁ </span><span  class=\"hl hlup\" >צֽוּר׃ </span></a></span> <i>714906</i> </td><td class=\"tf\"><span class=\"hb\"><span  class=\"hl hlup\" >חַלְמִ֥ישׁ </span></span> <i>111616</i> </td><td class=\"tf\"><span class=\"hb\"><span  class=\"hl hlup\" >צֽוּר׃ </span></span> <i>111617</i> </td></tr>\n",
       "<tr class=\"tf\"><td class=\"tf\">98</td><td class=\"tf\"> <a href=\"https://shebanq.ancient-data.org/hebrew/text?book=Jesaia&amp;chapter=3&amp;verse=24&amp;version=c&amp;mr=m&amp;qw=q&amp;tp=txt_p&amp;tr=hb&amp;wget=v&amp;qget=v&amp;nget=vt\" title=\"show this passage in SHEBANQ\" sec=\"Isaiah 3:24\">Isaiah 3:24</a></td><td class=\"tf\"><span class=\"hb\"><a href=\"https://shebanq.ancient-data.org/hebrew/text?book=Jesaia&amp;chapter=3&amp;verse=24&amp;version=c&amp;mr=m&amp;qw=q&amp;tp=txt_p&amp;tr=hb&amp;wget=v&amp;qget=v&amp;nget=vt\" title=\"Isaiah 3:24\" sec=\"Isaiah 3:24\"><span  class=\"hl hlup\" >מַחֲגֹ֣רֶת </span><span  class=\"hl hlup\" >שָׂ֑ק </span></a></span> <i>774788</i> </td><td class=\"tf\"><span class=\"hb\"><span  class=\"hl hlup\" >מַחֲגֹ֣רֶת </span></span> <i>213259</i> </td><td class=\"tf\"><span class=\"hb\"><span  class=\"hl hlup\" >שָׂ֑ק </span></span> <i>213260</i> </td></tr>\n",
       "<tr class=\"tf\"><td class=\"tf\">99</td><td class=\"tf\"> <a href=\"https://shebanq.ancient-data.org/hebrew/text?book=Samuel_II&amp;chapter=9&amp;verse=7&amp;version=c&amp;mr=m&amp;qw=q&amp;tp=txt_p&amp;tr=hb&amp;wget=v&amp;qget=v&amp;nget=vt\" title=\"show this passage in SHEBANQ\" sec=\"2_Samuel 9:7\">2_Samuel 9:7</a></td><td class=\"tf\"><span class=\"hb\"><a href=\"https://shebanq.ancient-data.org/hebrew/text?book=Samuel_II&amp;chapter=9&amp;verse=7&amp;version=c&amp;mr=m&amp;qw=q&amp;tp=txt_p&amp;tr=hb&amp;wget=v&amp;qget=v&amp;nget=vt\" title=\"2_Samuel 9:7\" sec=\"2_Samuel 9:7\"><span  class=\"hlup\" >אֶֽת־</span><span  class=\"hlup\" >כָּל־</span><span  class=\"hl hlup\" >שְׂדֵ֖ה </span><span  class=\"hl hlup\" >שָׁא֣וּל </span><span  class=\"hlup\" >אָבִ֑יךָ </span></a></span> <i>746551</i> </td><td class=\"tf\"><span class=\"hb\"><span  class=\"hl hlup\" >שְׂדֵ֖ה </span></span> <i>165108</i> </td><td class=\"tf\"><span class=\"hb\"><span  class=\"hl hlup\" >שָׁא֣וּל </span></span> <i>165109</i> </td></tr>\n",
       "<tr class=\"tf\"><td class=\"tf\">100</td><td class=\"tf\"> <a href=\"https://shebanq.ancient-data.org/hebrew/text?book=Ezechiel&amp;chapter=23&amp;verse=24&amp;version=c&amp;mr=m&amp;qw=q&amp;tp=txt_p&amp;tr=hb&amp;wget=v&amp;qget=v&amp;nget=vt\" title=\"show this passage in SHEBANQ\" sec=\"Ezekiel 23:24\">Ezekiel 23:24</a></td><td class=\"tf\"><span class=\"hb\"><a href=\"https://shebanq.ancient-data.org/hebrew/text?book=Ezechiel&amp;chapter=23&amp;verse=24&amp;version=c&amp;mr=m&amp;qw=q&amp;tp=txt_p&amp;tr=hb&amp;wget=v&amp;qget=v&amp;nget=vt\" title=\"Ezekiel 23:24\" sec=\"Ezekiel 23:24\"><span  class=\"hl hlup\" >הֹ֠צֶן </span><span  class=\"hl hlup\" >רֶ֤כֶב </span><span  class=\"hlup\" >וְ</span><span  class=\"hlup\" >גַלְגַּל֙ </span></a></span> <i>814154</i> </td><td class=\"tf\"><span class=\"hb\"><span  class=\"hl hlup\" >הֹ֠צֶן </span></span> <i>276082</i> </td><td class=\"tf\"><span class=\"hb\"><span  class=\"hl hlup\" >רֶ֤כֶב </span></span> <i>276083</i> </td></tr></table>"
      ],
      "text/plain": [
       "<IPython.core.display.HTML object>"
      ]
     },
     "metadata": {},
     "output_type": "display_data"
    }
   ],
   "source": [
    "showme = []\n",
    "for i in range(1, 101):\n",
    "    firstnoun = random.choice(list(conpairresults))\n",
    "    secondnoun = random.choice(list(conpairresults[firstnoun]))\n",
    "    result = random.choice(conpairresults[firstnoun][secondnoun])\n",
    "    result = L.u(result[0], 'phrase') + result\n",
    "    showme.append(result)\n",
    "    \n",
    "A.table(showme, withNodes=True)"
   ]
  },
  {
   "cell_type": "markdown",
   "metadata": {},
   "source": [
    "### Stats"
   ]
  },
  {
   "cell_type": "code",
   "execution_count": 79,
   "metadata": {},
   "outputs": [
    {
     "data": {
      "text/plain": [
       "1831"
      ]
     },
     "execution_count": 79,
     "metadata": {},
     "output_type": "execute_result"
    }
   ],
   "source": [
    "len(conpairs)"
   ]
  }
 ],
 "metadata": {
  "kernelspec": {
   "display_name": "Python 3",
   "language": "python",
   "name": "python3"
  },
  "language_info": {
   "codemirror_mode": {
    "name": "ipython",
    "version": 3
   },
   "file_extension": ".py",
   "mimetype": "text/x-python",
   "name": "python",
   "nbconvert_exporter": "python",
   "pygments_lexer": "ipython3",
   "version": "3.7.0"
  }
 },
 "nbformat": 4,
 "nbformat_minor": 2
}
