{
 "cells": [
  {
   "cell_type": "markdown",
   "metadata": {},
   "source": [
    "# [best viewed in NBviewer](https://nbviewer.jupyter.org/github/ETCBC/heads/blob/master/phrase_heads.ipynb)"
   ]
  },
  {
   "cell_type": "markdown",
   "metadata": {},
   "source": [
    "# Phrase Heads\n",
    "\n",
    "This notebook aims to develop a new method of head detection using insights gained from the first version of this data. This new effort improves on the previous one in two main ways:\n",
    "\n",
    "* head selection is performed using Text Fabric templates, which offers a clearer, more transparent way to select and filter data\n",
    "* aims to track and address all edge cases\n",
    "\n",
    "Most of the rationale and rules generated in [getting_heads.ipynb](getting_heads.ipynb) are carried over to this present notebook."
   ]
  },
  {
   "cell_type": "code",
   "execution_count": 81,
   "metadata": {},
   "outputs": [],
   "source": [
    "version = '2021' # configure version here"
   ]
  },
  {
   "cell_type": "markdown",
   "metadata": {},
   "source": [
    "<hr>"
   ]
  },
  {
   "cell_type": "code",
   "execution_count": 82,
   "metadata": {},
   "outputs": [],
   "source": [
    "from tf.app import use\n",
    "from tf.fabric import Fabric\n",
    "from IPython.display import display\n",
    "import collections, random, csv, re, textwrap\n",
    "import pandas as pd\n",
    "import matplotlib.pyplot as plt\n",
    "import seaborn as sns"
   ]
  },
  {
   "cell_type": "code",
   "execution_count": 83,
   "metadata": {},
   "outputs": [
    {
     "data": {
      "text/markdown": [
       "**Locating corpus resources ...**"
      ],
      "text/plain": [
       "<IPython.core.display.Markdown object>"
      ]
     },
     "metadata": {},
     "output_type": "display_data"
    },
    {
     "data": {
      "text/html": [
       "<b title=\"local commit\">app:</b> <span title=\"#b83bcaee62ada4d03547df0b0e7aac2fd5de3f67 offline under /Users/cody/text-fabric-data/github\">~/text-fabric-data/github/ETCBC/bhsa/app</span>"
      ],
      "text/plain": [
       "<IPython.core.display.HTML object>"
      ]
     },
     "metadata": {},
     "output_type": "display_data"
    },
    {
     "data": {
      "text/html": [
       "<b title=\"local release\">data:</b> <span title=\"rv1.7.3=#af70cebe9d23ea736bb40e3ccd6768875b52a49d offline under /Users/cody/text-fabric-data/github\">~/text-fabric-data/github/ETCBC/bhsa/tf/2021</span>"
      ],
      "text/plain": [
       "<IPython.core.display.HTML object>"
      ]
     },
     "metadata": {},
     "output_type": "display_data"
    },
    {
     "data": {
      "text/html": [
       "<b title=\"local release\">data:</b> <span title=\"rv2.1=#aba4367b49750089e4e4122415a77cac43bd97bc offline under /Users/cody/text-fabric-data/github\">~/text-fabric-data/github/etcbc/phono/tf/2021</span>"
      ],
      "text/plain": [
       "<IPython.core.display.HTML object>"
      ]
     },
     "metadata": {},
     "output_type": "display_data"
    },
    {
     "data": {
      "text/html": [
       "<b title=\"local release\">data:</b> <span title=\"rv2.1=#f45f6cc3c4f933dba6e649f49cdb14a40dcf333f offline under /Users/cody/text-fabric-data/github\">~/text-fabric-data/github/ETCBC/parallels/tf/2021</span>"
      ],
      "text/plain": [
       "<IPython.core.display.HTML object>"
      ]
     },
     "metadata": {},
     "output_type": "display_data"
    },
    {
     "data": {
      "text/html": [
       "\n",
       "            <b>Text-Fabric:</b> <a target=\"_blank\" href=\"https://annotation.github.io/text-fabric/tf/cheatsheet.html\" title=\"text-fabric-api\">Text-Fabric API 11.4.4</a>, <a target=\"_blank\" href=\"https://github.com/ETCBC/bhsa/blob/master/app\" title=\"ETCBC/bhsa app\">ETCBC/bhsa/app  v3</a>, <a target=\"_blank\" href=\"https://annotation.github.io/text-fabric/tf/about/searchusage.html\" title=\"Search Templates Introduction and Reference\">Search Reference</a><br>\n",
       "            <b>Data:</b> <a target=\"_blank\" href=\"https://ETCBC.github.io/bhsa/0_home\" title=\"provenance of BHSA = Biblia Hebraica Stuttgartensia Amstelodamensis\">ETCBC - bhsa 2021</a>, <a target=\"_blank\" href=\"https://annotation.github.io/text-fabric/tf/writing/hebrew.html\" title=\"How TF features represent text\">Character table</a>, <a target=\"_blank\" href=\"https://ETCBC.github.io/bhsa/features/0_home\" title=\"ETCBC - bhsa feature documentation\">Feature docs</a><br>\n",
       "            <details class=\"nodeinfo\"><summary><b>Node types</b></summary>\n",
       "<table class=\"nodeinfo\">\n",
       "    <tr>\n",
       "        <th>Name</th>\n",
       "        <th># of nodes</th>\n",
       "        <th># slots/node</th>\n",
       "        <th>% coverage</th>\n",
       "    </tr>\n",
       "\n",
       "<tr>\n",
       "    <th>book</th>\n",
       "    <td>39</td>\n",
       "    <td>10938.21</td>\n",
       "    <td><b>100</b></td>\n",
       "</tr>\n",
       "\n",
       "<tr>\n",
       "    <th>chapter</th>\n",
       "    <td>929</td>\n",
       "    <td>459.19</td>\n",
       "    <td><b>100</b></td>\n",
       "</tr>\n",
       "\n",
       "<tr>\n",
       "    <th>lex</th>\n",
       "    <td>9230</td>\n",
       "    <td>46.22</td>\n",
       "    <td><b>100</b></td>\n",
       "</tr>\n",
       "\n",
       "<tr>\n",
       "    <th>verse</th>\n",
       "    <td>23213</td>\n",
       "    <td>18.38</td>\n",
       "    <td><b>100</b></td>\n",
       "</tr>\n",
       "\n",
       "<tr>\n",
       "    <th>half_verse</th>\n",
       "    <td>45179</td>\n",
       "    <td>9.44</td>\n",
       "    <td><b>100</b></td>\n",
       "</tr>\n",
       "\n",
       "<tr>\n",
       "    <th>sentence</th>\n",
       "    <td>63717</td>\n",
       "    <td>6.70</td>\n",
       "    <td><b>100</b></td>\n",
       "</tr>\n",
       "\n",
       "<tr>\n",
       "    <th>sentence_atom</th>\n",
       "    <td>64514</td>\n",
       "    <td>6.61</td>\n",
       "    <td><b>100</b></td>\n",
       "</tr>\n",
       "\n",
       "<tr>\n",
       "    <th>clause</th>\n",
       "    <td>88131</td>\n",
       "    <td>4.84</td>\n",
       "    <td><b>100</b></td>\n",
       "</tr>\n",
       "\n",
       "<tr>\n",
       "    <th>clause_atom</th>\n",
       "    <td>90704</td>\n",
       "    <td>4.70</td>\n",
       "    <td><b>100</b></td>\n",
       "</tr>\n",
       "\n",
       "<tr>\n",
       "    <th>phrase</th>\n",
       "    <td>253203</td>\n",
       "    <td>1.68</td>\n",
       "    <td><b>100</b></td>\n",
       "</tr>\n",
       "\n",
       "<tr>\n",
       "    <th>phrase_atom</th>\n",
       "    <td>267532</td>\n",
       "    <td>1.59</td>\n",
       "    <td><b>100</b></td>\n",
       "</tr>\n",
       "\n",
       "<tr>\n",
       "    <th>subphrase</th>\n",
       "    <td>113850</td>\n",
       "    <td>1.42</td>\n",
       "    <td>38</td>\n",
       "</tr>\n",
       "\n",
       "<tr>\n",
       "    <th><i>word</i></th>\n",
       "    <td>426590</td>\n",
       "    <td>1.00</td>\n",
       "    <td><b>100</b></td>\n",
       "</tr>\n",
       "</table></details>\n",
       "            <b>Sets:</b> no custom sets<br>\n",
       "            <b>Features:</b><br>\n",
       "<details><summary><b>Parallel Passages</b></summary>\n",
       "    <div class=\"fcorpus\">\n",
       "\n",
       "<div class=\"frow\">\n",
       "    <div class=\"fnamecat edge\">\n",
       "<a target=\"_blank\" href=\"https://nbviewer.jupyter.org/github/ETCBC/parallels/blob/master/programs/parallels.ipynb\" title=\"~/text-fabric-data/github/ETCBC/parallels/tf/2021/crossref.tf\">crossref</a>\n",
       "</div>\n",
       "<div class=\"fmono\">int</div>\n",
       "\n",
       "<span> 🆗 links between similar passages</span>\n",
       "\n",
       "</div>\n",
       "\n",
       "    </div>\n",
       "</details>\n",
       "\n",
       "<details><summary><b>BHSA = Biblia Hebraica Stuttgartensia Amstelodamensis</b></summary>\n",
       "    <div class=\"fcorpus\">\n",
       "\n",
       "<div class=\"frow\">\n",
       "    <div class=\"fnamecat \">\n",
       "<a target=\"_blank\" href=\"https://ETCBC.github.io/bhsa/features/book\" title=\"~/text-fabric-data/github/ETCBC/bhsa/tf/2021/book.tf\">book</a>\n",
       "</div>\n",
       "<div class=\"fmono\">str</div>\n",
       "\n",
       "<span> ✅ book name in Latin (Genesis; Numeri; Reges1; ...)</span>\n",
       "\n",
       "</div>\n",
       "\n",
       "<div class=\"frow\">\n",
       "    <div class=\"fnamecat \">\n",
       "<a target=\"_blank\" href=\"https://ETCBC.github.io/bhsa/features/book@ll\" title=\"~/text-fabric-data/github/ETCBC/bhsa/tf/2021/book@am.tf\">book@ll</a>\n",
       "</div>\n",
       "<div class=\"fmono\">str</div>\n",
       "\n",
       "<span> ✅ book name in amharic (ኣማርኛ)</span>\n",
       "\n",
       "</div>\n",
       "\n",
       "<div class=\"frow\">\n",
       "    <div class=\"fnamecat \">\n",
       "<a target=\"_blank\" href=\"https://ETCBC.github.io/bhsa/features/chapter\" title=\"~/text-fabric-data/github/ETCBC/bhsa/tf/2021/chapter.tf\">chapter</a>\n",
       "</div>\n",
       "<div class=\"fmono\">int</div>\n",
       "\n",
       "<span> ✅ chapter number (1; 2; 3; ...)</span>\n",
       "\n",
       "</div>\n",
       "\n",
       "<div class=\"frow\">\n",
       "    <div class=\"fnamecat \">\n",
       "<a target=\"_blank\" href=\"https://ETCBC.github.io/bhsa/features/code\" title=\"~/text-fabric-data/github/ETCBC/bhsa/tf/2021/code.tf\">code</a>\n",
       "</div>\n",
       "<div class=\"fmono\">int</div>\n",
       "\n",
       "<span> ✅ identifier of a clause atom relationship (0; 74; 367; ...)</span>\n",
       "\n",
       "</div>\n",
       "\n",
       "<div class=\"frow\">\n",
       "    <div class=\"fnamecat \">\n",
       "<a target=\"_blank\" href=\"https://ETCBC.github.io/bhsa/features/det\" title=\"~/text-fabric-data/github/ETCBC/bhsa/tf/2021/det.tf\">det</a>\n",
       "</div>\n",
       "<div class=\"fmono\">str</div>\n",
       "\n",
       "<span> ✅ determinedness of phrase(atom) (det; und; NA.)</span>\n",
       "\n",
       "</div>\n",
       "\n",
       "<div class=\"frow\">\n",
       "    <div class=\"fnamecat \">\n",
       "<a target=\"_blank\" href=\"https://ETCBC.github.io/bhsa/features/domain\" title=\"~/text-fabric-data/github/ETCBC/bhsa/tf/2021/domain.tf\">domain</a>\n",
       "</div>\n",
       "<div class=\"fmono\">str</div>\n",
       "\n",
       "<span> ✅ text type of clause (? (Unknown); N (narrative); D (discursive); Q (Quotation).)</span>\n",
       "\n",
       "</div>\n",
       "\n",
       "<div class=\"frow\">\n",
       "    <div class=\"fnamecat \">\n",
       "<a target=\"_blank\" href=\"https://ETCBC.github.io/bhsa/features/freq_lex\" title=\"~/text-fabric-data/github/ETCBC/bhsa/tf/2021/freq_lex.tf\">freq_lex</a>\n",
       "</div>\n",
       "<div class=\"fmono\">int</div>\n",
       "\n",
       "<span> ✅ frequency of lexemes</span>\n",
       "\n",
       "</div>\n",
       "\n",
       "<div class=\"frow\">\n",
       "    <div class=\"fnamecat \">\n",
       "<a target=\"_blank\" href=\"https://ETCBC.github.io/bhsa/features/function\" title=\"~/text-fabric-data/github/ETCBC/bhsa/tf/2021/function.tf\">function</a>\n",
       "</div>\n",
       "<div class=\"fmono\">str</div>\n",
       "\n",
       "<span> ✅ syntactic function of phrase (Cmpl; Objc; Pred; ...)</span>\n",
       "\n",
       "</div>\n",
       "\n",
       "<div class=\"frow\">\n",
       "    <div class=\"fnamecat \">\n",
       "<a target=\"_blank\" href=\"https://ETCBC.github.io/bhsa/features/g_cons\" title=\"~/text-fabric-data/github/ETCBC/bhsa/tf/2021/g_cons.tf\">g_cons</a>\n",
       "</div>\n",
       "<div class=\"fmono\">str</div>\n",
       "\n",
       "<span> ✅ word consonantal-transliterated (B R>CJT BR> >LHJM ...)</span>\n",
       "\n",
       "</div>\n",
       "\n",
       "<div class=\"frow\">\n",
       "    <div class=\"fnamecat \">\n",
       "<a target=\"_blank\" href=\"https://ETCBC.github.io/bhsa/features/g_cons_utf8\" title=\"~/text-fabric-data/github/ETCBC/bhsa/tf/2021/g_cons_utf8.tf\">g_cons_utf8</a>\n",
       "</div>\n",
       "<div class=\"fmono\">str</div>\n",
       "\n",
       "<span> ✅ word consonantal-Hebrew (ב ראשׁית ברא אלהים)</span>\n",
       "\n",
       "</div>\n",
       "\n",
       "<div class=\"frow\">\n",
       "    <div class=\"fnamecat \">\n",
       "<a target=\"_blank\" href=\"https://ETCBC.github.io/bhsa/features/g_lex\" title=\"~/text-fabric-data/github/ETCBC/bhsa/tf/2021/g_lex.tf\">g_lex</a>\n",
       "</div>\n",
       "<div class=\"fmono\">str</div>\n",
       "\n",
       "<span> ✅ lexeme pointed-transliterated (B.:- R;>CIJT B.@R@> >:ELOH ...)</span>\n",
       "\n",
       "</div>\n",
       "\n",
       "<div class=\"frow\">\n",
       "    <div class=\"fnamecat \">\n",
       "<a target=\"_blank\" href=\"https://ETCBC.github.io/bhsa/features/g_lex_utf8\" title=\"~/text-fabric-data/github/ETCBC/bhsa/tf/2021/g_lex_utf8.tf\">g_lex_utf8</a>\n",
       "</div>\n",
       "<div class=\"fmono\">str</div>\n",
       "\n",
       "<span> ✅ lexeme pointed-Hebrew (בְּ רֵאשִׁית בָּרָא אֱלֹה)</span>\n",
       "\n",
       "</div>\n",
       "\n",
       "<div class=\"frow\">\n",
       "    <div class=\"fnamecat \">\n",
       "<a target=\"_blank\" href=\"https://ETCBC.github.io/bhsa/features/g_word\" title=\"~/text-fabric-data/github/ETCBC/bhsa/tf/2021/g_word.tf\">g_word</a>\n",
       "</div>\n",
       "<div class=\"fmono\">str</div>\n",
       "\n",
       "<span> ✅ word pointed-transliterated (B.:- R;>CI73JT B.@R@74> >:ELOHI92JM)</span>\n",
       "\n",
       "</div>\n",
       "\n",
       "<div class=\"frow\">\n",
       "    <div class=\"fnamecat \">\n",
       "<a target=\"_blank\" href=\"https://ETCBC.github.io/bhsa/features/g_word_utf8\" title=\"~/text-fabric-data/github/ETCBC/bhsa/tf/2021/g_word_utf8.tf\">g_word_utf8</a>\n",
       "</div>\n",
       "<div class=\"fmono\">str</div>\n",
       "\n",
       "<span> ✅ word pointed-Hebrew (בְּ רֵאשִׁ֖ית בָּרָ֣א אֱלֹהִ֑ים)</span>\n",
       "\n",
       "</div>\n",
       "\n",
       "<div class=\"frow\">\n",
       "    <div class=\"fnamecat \">\n",
       "<a target=\"_blank\" href=\"https://ETCBC.github.io/bhsa/features/gloss\" title=\"~/text-fabric-data/github/ETCBC/bhsa/tf/2021/gloss.tf\">gloss</a>\n",
       "</div>\n",
       "<div class=\"fmono\">str</div>\n",
       "\n",
       "<span> 🆗 english translation of lexeme (beginning create god(s))</span>\n",
       "\n",
       "</div>\n",
       "\n",
       "<div class=\"frow\">\n",
       "    <div class=\"fnamecat \">\n",
       "<a target=\"_blank\" href=\"https://ETCBC.github.io/bhsa/features/gn\" title=\"~/text-fabric-data/github/ETCBC/bhsa/tf/2021/gn.tf\">gn</a>\n",
       "</div>\n",
       "<div class=\"fmono\">str</div>\n",
       "\n",
       "<span> ✅ grammatical gender (m; f; NA; unknown.)</span>\n",
       "\n",
       "</div>\n",
       "\n",
       "<div class=\"frow\">\n",
       "    <div class=\"fnamecat \">\n",
       "<a target=\"_blank\" href=\"https://ETCBC.github.io/bhsa/features/label\" title=\"~/text-fabric-data/github/ETCBC/bhsa/tf/2021/label.tf\">label</a>\n",
       "</div>\n",
       "<div class=\"fmono\">str</div>\n",
       "\n",
       "<span> ✅ (half-)verse label (half verses: A; B; C; verses:  GEN 01,02)</span>\n",
       "\n",
       "</div>\n",
       "\n",
       "<div class=\"frow\">\n",
       "    <div class=\"fnamecat \">\n",
       "<a target=\"_blank\" href=\"https://ETCBC.github.io/bhsa/features/language\" title=\"~/text-fabric-data/github/ETCBC/bhsa/tf/2021/language.tf\">language</a>\n",
       "</div>\n",
       "<div class=\"fmono\">str</div>\n",
       "\n",
       "<span> ✅ of word or lexeme (Hebrew; Aramaic.)</span>\n",
       "\n",
       "</div>\n",
       "\n",
       "<div class=\"frow\">\n",
       "    <div class=\"fnamecat \">\n",
       "<a target=\"_blank\" href=\"https://ETCBC.github.io/bhsa/features/lex\" title=\"~/text-fabric-data/github/ETCBC/bhsa/tf/2021/lex.tf\">lex</a>\n",
       "</div>\n",
       "<div class=\"fmono\">str</div>\n",
       "\n",
       "<span> ✅ lexeme consonantal-transliterated (B R>CJT/ BR>[ >LHJM/)</span>\n",
       "\n",
       "</div>\n",
       "\n",
       "<div class=\"frow\">\n",
       "    <div class=\"fnamecat \">\n",
       "<a target=\"_blank\" href=\"https://ETCBC.github.io/bhsa/features/lex_utf8\" title=\"~/text-fabric-data/github/ETCBC/bhsa/tf/2021/lex_utf8.tf\">lex_utf8</a>\n",
       "</div>\n",
       "<div class=\"fmono\">str</div>\n",
       "\n",
       "<span> ✅ lexeme consonantal-Hebrew (ב ראשׁית֜ ברא אלהים֜)</span>\n",
       "\n",
       "</div>\n",
       "\n",
       "<div class=\"frow\">\n",
       "    <div class=\"fnamecat \">\n",
       "<a target=\"_blank\" href=\"https://ETCBC.github.io/bhsa/features/ls\" title=\"~/text-fabric-data/github/ETCBC/bhsa/tf/2021/ls.tf\">ls</a>\n",
       "</div>\n",
       "<div class=\"fmono\">str</div>\n",
       "\n",
       "<span> ✅ lexical set, subclassification of part-of-speech (card; ques; mult)</span>\n",
       "\n",
       "</div>\n",
       "\n",
       "<div class=\"frow\">\n",
       "    <div class=\"fnamecat \">\n",
       "<a target=\"_blank\" href=\"https://ETCBC.github.io/bhsa/features/nametype\" title=\"~/text-fabric-data/github/ETCBC/bhsa/tf/2021/nametype.tf\">nametype</a>\n",
       "</div>\n",
       "<div class=\"fmono\">str</div>\n",
       "\n",
       "<span> ⚠️ named entity type (pers; mens; gens; topo; ppde.)</span>\n",
       "\n",
       "</div>\n",
       "\n",
       "<div class=\"frow\">\n",
       "    <div class=\"fnamecat \">\n",
       "<a target=\"_blank\" href=\"https://ETCBC.github.io/bhsa/features/nme\" title=\"~/text-fabric-data/github/ETCBC/bhsa/tf/2021/nme.tf\">nme</a>\n",
       "</div>\n",
       "<div class=\"fmono\">str</div>\n",
       "\n",
       "<span> ✅ nominal ending consonantal-transliterated (absent; n/a; JM, ...)</span>\n",
       "\n",
       "</div>\n",
       "\n",
       "<div class=\"frow\">\n",
       "    <div class=\"fnamecat \">\n",
       "<a target=\"_blank\" href=\"https://ETCBC.github.io/bhsa/features/nu\" title=\"~/text-fabric-data/github/ETCBC/bhsa/tf/2021/nu.tf\">nu</a>\n",
       "</div>\n",
       "<div class=\"fmono\">str</div>\n",
       "\n",
       "<span> ✅ grammatical number (sg; du; pl; NA; unknown.)</span>\n",
       "\n",
       "</div>\n",
       "\n",
       "<div class=\"frow\">\n",
       "    <div class=\"fnamecat \">\n",
       "<a target=\"_blank\" href=\"https://ETCBC.github.io/bhsa/features/number\" title=\"~/text-fabric-data/github/ETCBC/bhsa/tf/2021/number.tf\">number</a>\n",
       "</div>\n",
       "<div class=\"fmono\">int</div>\n",
       "\n",
       "<span> ✅ sequence number of an object within its context</span>\n",
       "\n",
       "</div>\n",
       "\n",
       "<div class=\"frow\">\n",
       "    <div class=\"fnamecat \">\n",
       "<a target=\"_blank\" href=\"https://ETCBC.github.io/bhsa/features/otype\" title=\"~/text-fabric-data/github/ETCBC/bhsa/tf/2021/otype.tf\">otype</a>\n",
       "</div>\n",
       "<div class=\"fmono\">str</div>\n",
       "\n",
       "<span> </span>\n",
       "\n",
       "</div>\n",
       "\n",
       "<div class=\"frow\">\n",
       "    <div class=\"fnamecat \">\n",
       "<a target=\"_blank\" href=\"https://ETCBC.github.io/bhsa/features/pargr\" title=\"~/text-fabric-data/github/ETCBC/bhsa/tf/2021/pargr.tf\">pargr</a>\n",
       "</div>\n",
       "<div class=\"fmono\">str</div>\n",
       "\n",
       "<span> 🆗 hierarchical paragraph number (1; 1.2; 1.2.3.4; ...)</span>\n",
       "\n",
       "</div>\n",
       "\n",
       "<div class=\"frow\">\n",
       "    <div class=\"fnamecat \">\n",
       "<a target=\"_blank\" href=\"https://ETCBC.github.io/bhsa/features/pdp\" title=\"~/text-fabric-data/github/ETCBC/bhsa/tf/2021/pdp.tf\">pdp</a>\n",
       "</div>\n",
       "<div class=\"fmono\">str</div>\n",
       "\n",
       "<span> ✅ phrase dependent part-of-speech (art; verb; subs; nmpr, ...)</span>\n",
       "\n",
       "</div>\n",
       "\n",
       "<div class=\"frow\">\n",
       "    <div class=\"fnamecat \">\n",
       "<a target=\"_blank\" href=\"https://ETCBC.github.io/bhsa/features/pfm\" title=\"~/text-fabric-data/github/ETCBC/bhsa/tf/2021/pfm.tf\">pfm</a>\n",
       "</div>\n",
       "<div class=\"fmono\">str</div>\n",
       "\n",
       "<span> ✅ preformative consonantal-transliterated (absent; n/a; J, ...)</span>\n",
       "\n",
       "</div>\n",
       "\n",
       "<div class=\"frow\">\n",
       "    <div class=\"fnamecat \">\n",
       "<a target=\"_blank\" href=\"https://ETCBC.github.io/bhsa/features/prs\" title=\"~/text-fabric-data/github/ETCBC/bhsa/tf/2021/prs.tf\">prs</a>\n",
       "</div>\n",
       "<div class=\"fmono\">str</div>\n",
       "\n",
       "<span> ✅ pronominal suffix consonantal-transliterated (absent; n/a; W; ...)</span>\n",
       "\n",
       "</div>\n",
       "\n",
       "<div class=\"frow\">\n",
       "    <div class=\"fnamecat \">\n",
       "<a target=\"_blank\" href=\"https://ETCBC.github.io/bhsa/features/prs_gn\" title=\"~/text-fabric-data/github/ETCBC/bhsa/tf/2021/prs_gn.tf\">prs_gn</a>\n",
       "</div>\n",
       "<div class=\"fmono\">str</div>\n",
       "\n",
       "<span> ✅ pronominal suffix gender (m; f; NA; unknown.)</span>\n",
       "\n",
       "</div>\n",
       "\n",
       "<div class=\"frow\">\n",
       "    <div class=\"fnamecat \">\n",
       "<a target=\"_blank\" href=\"https://ETCBC.github.io/bhsa/features/prs_nu\" title=\"~/text-fabric-data/github/ETCBC/bhsa/tf/2021/prs_nu.tf\">prs_nu</a>\n",
       "</div>\n",
       "<div class=\"fmono\">str</div>\n",
       "\n",
       "<span> ✅ pronominal suffix number (sg; du; pl; NA; unknown.)</span>\n",
       "\n",
       "</div>\n",
       "\n",
       "<div class=\"frow\">\n",
       "    <div class=\"fnamecat \">\n",
       "<a target=\"_blank\" href=\"https://ETCBC.github.io/bhsa/features/prs_ps\" title=\"~/text-fabric-data/github/ETCBC/bhsa/tf/2021/prs_ps.tf\">prs_ps</a>\n",
       "</div>\n",
       "<div class=\"fmono\">str</div>\n",
       "\n",
       "<span> ✅ pronominal suffix person (p1; p2; p3; NA; unknown.)</span>\n",
       "\n",
       "</div>\n",
       "\n",
       "<div class=\"frow\">\n",
       "    <div class=\"fnamecat \">\n",
       "<a target=\"_blank\" href=\"https://ETCBC.github.io/bhsa/features/ps\" title=\"~/text-fabric-data/github/ETCBC/bhsa/tf/2021/ps.tf\">ps</a>\n",
       "</div>\n",
       "<div class=\"fmono\">str</div>\n",
       "\n",
       "<span> ✅ grammatical person (p1; p2; p3; NA; unknown.)</span>\n",
       "\n",
       "</div>\n",
       "\n",
       "<div class=\"frow\">\n",
       "    <div class=\"fnamecat \">\n",
       "<a target=\"_blank\" href=\"https://ETCBC.github.io/bhsa/features/qere\" title=\"~/text-fabric-data/github/ETCBC/bhsa/tf/2021/qere.tf\">qere</a>\n",
       "</div>\n",
       "<div class=\"fmono\">str</div>\n",
       "\n",
       "<span> ✅ word pointed-transliterated masoretic reading correction</span>\n",
       "\n",
       "</div>\n",
       "\n",
       "<div class=\"frow\">\n",
       "    <div class=\"fnamecat \">\n",
       "<a target=\"_blank\" href=\"https://ETCBC.github.io/bhsa/features/qere_trailer\" title=\"~/text-fabric-data/github/ETCBC/bhsa/tf/2021/qere_trailer.tf\">qere_trailer</a>\n",
       "</div>\n",
       "<div class=\"fmono\">str</div>\n",
       "\n",
       "<span> ✅ interword material -pointed-transliterated (Masoretic correction)</span>\n",
       "\n",
       "</div>\n",
       "\n",
       "<div class=\"frow\">\n",
       "    <div class=\"fnamecat \">\n",
       "<a target=\"_blank\" href=\"https://ETCBC.github.io/bhsa/features/qere_trailer_utf8\" title=\"~/text-fabric-data/github/ETCBC/bhsa/tf/2021/qere_trailer_utf8.tf\">qere_trailer_utf8</a>\n",
       "</div>\n",
       "<div class=\"fmono\">str</div>\n",
       "\n",
       "<span> ✅ interword material -pointed-transliterated (Masoretic correction)</span>\n",
       "\n",
       "</div>\n",
       "\n",
       "<div class=\"frow\">\n",
       "    <div class=\"fnamecat \">\n",
       "<a target=\"_blank\" href=\"https://ETCBC.github.io/bhsa/features/qere_utf8\" title=\"~/text-fabric-data/github/ETCBC/bhsa/tf/2021/qere_utf8.tf\">qere_utf8</a>\n",
       "</div>\n",
       "<div class=\"fmono\">str</div>\n",
       "\n",
       "<span> ✅ word pointed-Hebrew masoretic reading correction</span>\n",
       "\n",
       "</div>\n",
       "\n",
       "<div class=\"frow\">\n",
       "    <div class=\"fnamecat \">\n",
       "<a target=\"_blank\" href=\"https://ETCBC.github.io/bhsa/features/rank_lex\" title=\"~/text-fabric-data/github/ETCBC/bhsa/tf/2021/rank_lex.tf\">rank_lex</a>\n",
       "</div>\n",
       "<div class=\"fmono\">int</div>\n",
       "\n",
       "<span> ✅ ranking of lexemes based on freqnuecy</span>\n",
       "\n",
       "</div>\n",
       "\n",
       "<div class=\"frow\">\n",
       "    <div class=\"fnamecat \">\n",
       "<a target=\"_blank\" href=\"https://ETCBC.github.io/bhsa/features/rela\" title=\"~/text-fabric-data/github/ETCBC/bhsa/tf/2021/rela.tf\">rela</a>\n",
       "</div>\n",
       "<div class=\"fmono\">str</div>\n",
       "\n",
       "<span> ✅ linguistic relation between clause/(sub)phrase(atom) (ADJ; MOD; ATR; ...)</span>\n",
       "\n",
       "</div>\n",
       "\n",
       "<div class=\"frow\">\n",
       "    <div class=\"fnamecat \">\n",
       "<a target=\"_blank\" href=\"https://ETCBC.github.io/bhsa/features/sp\" title=\"~/text-fabric-data/github/ETCBC/bhsa/tf/2021/sp.tf\">sp</a>\n",
       "</div>\n",
       "<div class=\"fmono\">str</div>\n",
       "\n",
       "<span> ✅ part-of-speech (art; verb; subs; nmpr, ...)</span>\n",
       "\n",
       "</div>\n",
       "\n",
       "<div class=\"frow\">\n",
       "    <div class=\"fnamecat \">\n",
       "<a target=\"_blank\" href=\"https://ETCBC.github.io/bhsa/features/st\" title=\"~/text-fabric-data/github/ETCBC/bhsa/tf/2021/st.tf\">st</a>\n",
       "</div>\n",
       "<div class=\"fmono\">str</div>\n",
       "\n",
       "<span> ✅ state of a noun (a (absolute); c (construct); e (emphatic).)</span>\n",
       "\n",
       "</div>\n",
       "\n",
       "<div class=\"frow\">\n",
       "    <div class=\"fnamecat \">\n",
       "<a target=\"_blank\" href=\"https://ETCBC.github.io/bhsa/features/tab\" title=\"~/text-fabric-data/github/ETCBC/bhsa/tf/2021/tab.tf\">tab</a>\n",
       "</div>\n",
       "<div class=\"fmono\">int</div>\n",
       "\n",
       "<span> ✅ clause atom: its level in the linguistic embedding</span>\n",
       "\n",
       "</div>\n",
       "\n",
       "<div class=\"frow\">\n",
       "    <div class=\"fnamecat \">\n",
       "<a target=\"_blank\" href=\"https://ETCBC.github.io/bhsa/features/trailer\" title=\"~/text-fabric-data/github/ETCBC/bhsa/tf/2021/trailer.tf\">trailer</a>\n",
       "</div>\n",
       "<div class=\"fmono\">str</div>\n",
       "\n",
       "<span> ✅ interword material pointed-transliterated (& 00 05 00_P ...)</span>\n",
       "\n",
       "</div>\n",
       "\n",
       "<div class=\"frow\">\n",
       "    <div class=\"fnamecat \">\n",
       "<a target=\"_blank\" href=\"https://ETCBC.github.io/bhsa/features/trailer_utf8\" title=\"~/text-fabric-data/github/ETCBC/bhsa/tf/2021/trailer_utf8.tf\">trailer_utf8</a>\n",
       "</div>\n",
       "<div class=\"fmono\">str</div>\n",
       "\n",
       "<span> ✅ interword material pointed-Hebrew (־ ׃)</span>\n",
       "\n",
       "</div>\n",
       "\n",
       "<div class=\"frow\">\n",
       "    <div class=\"fnamecat \">\n",
       "<a target=\"_blank\" href=\"https://ETCBC.github.io/bhsa/features/txt\" title=\"~/text-fabric-data/github/ETCBC/bhsa/tf/2021/txt.tf\">txt</a>\n",
       "</div>\n",
       "<div class=\"fmono\">str</div>\n",
       "\n",
       "<span> ✅ text type of clause and surrounding (repetion of ? N D Q as in feature domain)</span>\n",
       "\n",
       "</div>\n",
       "\n",
       "<div class=\"frow\">\n",
       "    <div class=\"fnamecat \">\n",
       "<a target=\"_blank\" href=\"https://ETCBC.github.io/bhsa/features/typ\" title=\"~/text-fabric-data/github/ETCBC/bhsa/tf/2021/typ.tf\">typ</a>\n",
       "</div>\n",
       "<div class=\"fmono\">str</div>\n",
       "\n",
       "<span> ✅ clause/phrase(atom) type (VP; NP; Ellp; Ptcp; WayX)</span>\n",
       "\n",
       "</div>\n",
       "\n",
       "<div class=\"frow\">\n",
       "    <div class=\"fnamecat \">\n",
       "<a target=\"_blank\" href=\"https://ETCBC.github.io/bhsa/features/uvf\" title=\"~/text-fabric-data/github/ETCBC/bhsa/tf/2021/uvf.tf\">uvf</a>\n",
       "</div>\n",
       "<div class=\"fmono\">str</div>\n",
       "\n",
       "<span> ✅ univalent final consonant consonantal-transliterated (absent; N; J; ...)</span>\n",
       "\n",
       "</div>\n",
       "\n",
       "<div class=\"frow\">\n",
       "    <div class=\"fnamecat \">\n",
       "<a target=\"_blank\" href=\"https://ETCBC.github.io/bhsa/features/vbe\" title=\"~/text-fabric-data/github/ETCBC/bhsa/tf/2021/vbe.tf\">vbe</a>\n",
       "</div>\n",
       "<div class=\"fmono\">str</div>\n",
       "\n",
       "<span> ✅ verbal ending consonantal-transliterated (n/a; W; ...)</span>\n",
       "\n",
       "</div>\n",
       "\n",
       "<div class=\"frow\">\n",
       "    <div class=\"fnamecat \">\n",
       "<a target=\"_blank\" href=\"https://ETCBC.github.io/bhsa/features/vbs\" title=\"~/text-fabric-data/github/ETCBC/bhsa/tf/2021/vbs.tf\">vbs</a>\n",
       "</div>\n",
       "<div class=\"fmono\">str</div>\n",
       "\n",
       "<span> ✅ root formation consonantal-transliterated (absent; n/a; H; ...)</span>\n",
       "\n",
       "</div>\n",
       "\n",
       "<div class=\"frow\">\n",
       "    <div class=\"fnamecat \">\n",
       "<a target=\"_blank\" href=\"https://ETCBC.github.io/bhsa/features/verse\" title=\"~/text-fabric-data/github/ETCBC/bhsa/tf/2021/verse.tf\">verse</a>\n",
       "</div>\n",
       "<div class=\"fmono\">int</div>\n",
       "\n",
       "<span> ✅ verse number</span>\n",
       "\n",
       "</div>\n",
       "\n",
       "<div class=\"frow\">\n",
       "    <div class=\"fnamecat \">\n",
       "<a target=\"_blank\" href=\"https://ETCBC.github.io/bhsa/features/voc_lex\" title=\"~/text-fabric-data/github/ETCBC/bhsa/tf/2021/voc_lex.tf\">voc_lex</a>\n",
       "</div>\n",
       "<div class=\"fmono\">str</div>\n",
       "\n",
       "<span> ✅ vocalized lexeme pointed-transliterated (B.: R;>CIJT BR> >:ELOHIJM)</span>\n",
       "\n",
       "</div>\n",
       "\n",
       "<div class=\"frow\">\n",
       "    <div class=\"fnamecat \">\n",
       "<a target=\"_blank\" href=\"https://ETCBC.github.io/bhsa/features/voc_lex_utf8\" title=\"~/text-fabric-data/github/ETCBC/bhsa/tf/2021/voc_lex_utf8.tf\">voc_lex_utf8</a>\n",
       "</div>\n",
       "<div class=\"fmono\">str</div>\n",
       "\n",
       "<span> ✅ vocalized lexeme pointed-Hebrew (בְּ רֵאשִׁית ברא אֱלֹהִים)</span>\n",
       "\n",
       "</div>\n",
       "\n",
       "<div class=\"frow\">\n",
       "    <div class=\"fnamecat \">\n",
       "<a target=\"_blank\" href=\"https://ETCBC.github.io/bhsa/features/vs\" title=\"~/text-fabric-data/github/ETCBC/bhsa/tf/2021/vs.tf\">vs</a>\n",
       "</div>\n",
       "<div class=\"fmono\">str</div>\n",
       "\n",
       "<span> ✅ verbal stem (qal; piel; hif; apel; pael)</span>\n",
       "\n",
       "</div>\n",
       "\n",
       "<div class=\"frow\">\n",
       "    <div class=\"fnamecat \">\n",
       "<a target=\"_blank\" href=\"https://ETCBC.github.io/bhsa/features/vt\" title=\"~/text-fabric-data/github/ETCBC/bhsa/tf/2021/vt.tf\">vt</a>\n",
       "</div>\n",
       "<div class=\"fmono\">str</div>\n",
       "\n",
       "<span> ✅ verbal tense (perf; impv; wayq; infc)</span>\n",
       "\n",
       "</div>\n",
       "\n",
       "<div class=\"frow\">\n",
       "    <div class=\"fnamecat edge\">\n",
       "<a target=\"_blank\" href=\"https://ETCBC.github.io/bhsa/features/mother\" title=\"~/text-fabric-data/github/ETCBC/bhsa/tf/2021/mother.tf\">mother</a>\n",
       "</div>\n",
       "<div class=\"fmono\">none</div>\n",
       "\n",
       "<span> ✅ linguistic dependency between textual objects</span>\n",
       "\n",
       "</div>\n",
       "\n",
       "<div class=\"frow\">\n",
       "    <div class=\"fnamecat edge\">\n",
       "<a target=\"_blank\" href=\"https://ETCBC.github.io/bhsa/features/oslots\" title=\"~/text-fabric-data/github/ETCBC/bhsa/tf/2021/oslots.tf\">oslots</a>\n",
       "</div>\n",
       "<div class=\"fmono\">none</div>\n",
       "\n",
       "<span> </span>\n",
       "\n",
       "</div>\n",
       "\n",
       "    </div>\n",
       "</details>\n",
       "\n",
       "<details><summary><b>Phonetic Transcriptions</b></summary>\n",
       "    <div class=\"fcorpus\">\n",
       "\n",
       "<div class=\"frow\">\n",
       "    <div class=\"fnamecat \">\n",
       "<a target=\"_blank\" href=\"https://nbviewer.jupyter.org/github/etcbc/phono/blob/master/programs/phono.ipynb\" title=\"~/text-fabric-data/github/etcbc/phono/tf/2021/phono.tf\">phono</a>\n",
       "</div>\n",
       "<div class=\"fmono\">str</div>\n",
       "\n",
       "<span> 🆗 phonological transcription (bᵊ rēšˌîṯ bārˈā ʔᵉlōhˈîm)</span>\n",
       "\n",
       "</div>\n",
       "\n",
       "<div class=\"frow\">\n",
       "    <div class=\"fnamecat \">\n",
       "<a target=\"_blank\" href=\"https://nbviewer.jupyter.org/github/etcbc/phono/blob/master/programs/phono.ipynb\" title=\"~/text-fabric-data/github/etcbc/phono/tf/2021/phono_trailer.tf\">phono_trailer</a>\n",
       "</div>\n",
       "<div class=\"fmono\">str</div>\n",
       "\n",
       "<span> 🆗 interword material in phonological transcription</span>\n",
       "\n",
       "</div>\n",
       "\n",
       "    </div>\n",
       "</details>\n",
       "\n"
      ],
      "text/plain": [
       "<IPython.core.display.HTML object>"
      ]
     },
     "metadata": {},
     "output_type": "display_data"
    },
    {
     "data": {
      "text/html": [
       "<style>tr.tf.ltr, td.tf.ltr, th.tf.ltr { text-align: left ! important;}\n",
       "tr.tf.rtl, td.tf.rtl, th.tf.rtl { text-align: right ! important;}\n",
       "@font-face {\n",
       "  font-family: \"Gentium Plus\";\n",
       "  src: local('Gentium Plus'), local('GentiumPlus'),\n",
       "    url('/server/static/fonts/GentiumPlus-R.woff') format('woff'),\n",
       "    url('https://github.com/annotation/text-fabric/blob/master/tf/server/static/fonts/GentiumPlus-R.woff?raw=true') format('woff');\n",
       "}\n",
       "\n",
       "@font-face {\n",
       "  font-family: \"Ezra SIL\";\n",
       "  src: local('Ezra SIL'), local('EzraSIL'),\n",
       "    url('/server/static/fonts/SILEOT.woff') format('woff'),\n",
       "    url('https://github.com/annotation/text-fabric/blob/master/tf/server/static/fonts/SILEOT.woff?raw=true') format('woff');\n",
       "}\n",
       "\n",
       "@font-face {\n",
       "  font-family: \"SBL Hebrew\";\n",
       "  src: local('SBL Hebrew'), local('SBLHebrew'),\n",
       "    url('/server/static/fonts/SBL_Hbrw.woff') format('woff'),\n",
       "    url('https://github.com/annotation/text-fabric/blob/master/tf/server/static/fonts/SBL_Hbrw.woff?raw=true') format('woff');\n",
       "}\n",
       "\n",
       "@font-face {\n",
       "  font-family: \"Estrangelo Edessa\";\n",
       "  src: local('Estrangelo Edessa'), local('EstrangeloEdessa');\n",
       "    url('/server/static/fonts/SyrCOMEdessa.woff') format('woff'),\n",
       "    url('https://github.com/annotation/text-fabric/blob/master/tf/server/static/fonts/SyrCOMEdessa.woff?raw=true') format('woff');\n",
       "}\n",
       "\n",
       "@font-face {\n",
       "  font-family: AmiriQuran;\n",
       "  font-style: normal;\n",
       "  font-weight: 400;\n",
       "  src: local('Amiri Quran'), local('AmiriQuran'),\n",
       "    url('/server/static/fonts/AmiriQuran.woff') format('woff'),\n",
       "    url('https://github.com/annotation/text-fabric/blob/master/tf/server/static/fonts/AmiriQuran.woff?raw=true') format('woff');\n",
       "}\n",
       "\n",
       "@font-face {\n",
       "  font-family: AmiriQuranColored;\n",
       "  font-style: normal;\n",
       "  font-weight: 400;\n",
       "  src: local('Amiri Quran Colored'), local('AmiriQuranColored'),\n",
       "    url('/server/static/fonts/AmiriQuranColored.woff') format('woff'),\n",
       "    url('https://github.com/annotation/text-fabric/blob/master/tf/server/static/fonts/AmiriQuranColored.woff?raw=true') format('woff');\n",
       "}\n",
       "\n",
       "@font-face {\n",
       "  font-family: \"Santakku\";\n",
       "  src: local('Santakku'),\n",
       "    url('/server/static/fonts/Santakku.woff') format('woff'),\n",
       "    url('https://github.com/annotation/text-fabric/blob/master/tf/server/static/fonts/Santakku.woff?raw=true') format('woff');\n",
       "}\n",
       "\n",
       "@font-face {\n",
       "  font-family: \"SantakkuM\";\n",
       "  src: local('SantakkuM'),\n",
       "    url('/server/static/fonts/SantakkuM.woff') format('woff'),\n",
       "    url('https://github.com/annotation/text-fabric/blob/master/tf/server/static/fonts/SantakkuM.woff?raw=true') format('woff');\n",
       "}\n",
       "/* bypassing some classical notebook settings */\n",
       "div#notebook {\n",
       "  line-height: unset;\n",
       "}\n",
       "/* neutral text */\n",
       ".txtn,.txtn a:visited,.txtn a:link {\n",
       "    font-family: sans-serif;\n",
       "    font-size: medium;\n",
       "    direction: ltr;\n",
       "    unicode-bidi: embed;\n",
       "    text-decoration: none;\n",
       "    color: var(--text-color);\n",
       "}\n",
       "/* transcription text */\n",
       ".txtt,.txtt a:visited,.txtt a:link {\n",
       "    font-family: monospace;\n",
       "    font-size: medium;\n",
       "    direction: ltr;\n",
       "    unicode-bidi: embed;\n",
       "    text-decoration: none;\n",
       "    color: var(--text-color);\n",
       "}\n",
       "/* source text */\n",
       ".txto,.txto a:visited,.txto a:link {\n",
       "    font-family: serif;\n",
       "    font-size: medium;\n",
       "    direction: ltr;\n",
       "    unicode-bidi: embed;\n",
       "    text-decoration: none;\n",
       "    color: var(--text-color);\n",
       "}\n",
       "/* phonetic text */\n",
       ".txtp,.txtp a:visited,.txtp a:link {\n",
       "    font-family: Gentium, sans-serif;\n",
       "    font-size: medium;\n",
       "    direction: ltr;\n",
       "    unicode-bidi: embed;\n",
       "    text-decoration: none;\n",
       "    color: var(--text-color);\n",
       "}\n",
       "/* original script text */\n",
       ".txtu,.txtu a:visited,.txtu a:link {\n",
       "    font-family: Gentium, sans-serif;\n",
       "    font-size: medium;\n",
       "    text-decoration: none;\n",
       "    color: var(--text-color);\n",
       "}\n",
       "/* hebrew */\n",
       ".txtu.hbo,.lex.hbo {\n",
       "    font-family: \"Ezra SIL\", \"SBL Hebrew\", sans-serif;\n",
       "    font-size: large;\n",
       "    direction: rtl ! important;\n",
       "    unicode-bidi: embed;\n",
       "}\n",
       "/* syriac */\n",
       ".txtu.syc,.lex.syc {\n",
       "    font-family: \"Estrangelo Edessa\", sans-serif;\n",
       "    font-size: medium;\n",
       "    direction: rtl ! important;\n",
       "    unicode-bidi: embed;\n",
       "}\n",
       "/* neo aramaic */\n",
       ".txtu.cld,.lex.cld {\n",
       "    font-family: \"CharisSIL-R\", sans-serif;\n",
       "    font-size: medium;\n",
       "    direction: ltr ! important;\n",
       "    unicode-bidi: embed;\n",
       "}\n",
       "/* standard arabic */\n",
       ".txtu.ara,.lex.ara {\n",
       "    font-family: \"AmiriQuran\", sans-serif;\n",
       "    font-size: large;\n",
       "    direction: rtl ! important;\n",
       "    unicode-bidi: embed;\n",
       "}\n",
       "/* cuneiform */\n",
       ".txtu.akk,.lex.akk {\n",
       "    font-family: Santakku, sans-serif;\n",
       "    font-size: large;\n",
       "    direction: ltr ! important;\n",
       "    unicode-bidi: embed;\n",
       "}\n",
       "/* greek */\n",
       ".txtu.grc,.lex.grc a:link {\n",
       "    font-family: Gentium, sans-serif;\n",
       "    font-size: medium;\n",
       "    direction: ltr ! important;\n",
       "    unicode-bidi: embed;\n",
       "}\n",
       "a:hover {\n",
       "    text-decoration: underline | important;\n",
       "    color: #0000ff | important;\n",
       "}\n",
       ".ltr {\n",
       "    direction: ltr ! important;\n",
       "    unicode-bidi: embed;\n",
       "}\n",
       ".rtl {\n",
       "    direction: rtl ! important;\n",
       "    unicode-bidi: embed;\n",
       "}\n",
       ".ubd {\n",
       "    unicode-bidi: embed;\n",
       "}\n",
       ".col {\n",
       "   display: inline-block;\n",
       "}\n",
       ".features {\n",
       "    font-family: monospace;\n",
       "    font-size: medium;\n",
       "    font-weight: bold;\n",
       "    color: var(--features);\n",
       "    display: flex;\n",
       "    flex-flow: column nowrap;\n",
       "    justify-content: flex-start;\n",
       "    align-items: flex-start;\n",
       "    align-content: flex-start;\n",
       "    padding: 2px;\n",
       "    margin: 2px;\n",
       "    direction: ltr;\n",
       "    unicode-bidi: embed;\n",
       "    border: var(--meta-width) solid var(--meta-color);\n",
       "    border-radius: var(--meta-width);\n",
       "}\n",
       ".features div,.features span {\n",
       "    padding: 0;\n",
       "    margin: -2px 0;\n",
       "}\n",
       ".features .f {\n",
       "    font-family: sans-serif;\n",
       "    font-size: small;\n",
       "    font-weight: normal;\n",
       "    color: #5555bb;\n",
       "}\n",
       ".features .xft {\n",
       "  color: #000000;\n",
       "  background-color: #eeeeee;\n",
       "  font-size: medium;\n",
       "  margin: 2px 0px;\n",
       "}\n",
       ".features .xft .f {\n",
       "  color: #000000;\n",
       "  background-color: #eeeeee;\n",
       "  font-size: small;\n",
       "  font-weight: normal;\n",
       "}\n",
       ".tfsechead {\n",
       "    font-family: sans-serif;\n",
       "    font-size: small;\n",
       "    font-weight: bold;\n",
       "    color: var(--tfsechead);\n",
       "    unicode-bidi: embed;\n",
       "    text-align: start;\n",
       "}\n",
       ".structure {\n",
       "    font-family: sans-serif;\n",
       "    font-size: small;\n",
       "    font-weight: bold;\n",
       "    color: var(--structure);\n",
       "    unicode-bidi: embed;\n",
       "    text-align: start;\n",
       "}\n",
       ".comments {\n",
       "    display: flex;\n",
       "    justify-content: flex-start;\n",
       "    align-items: flex-start;\n",
       "    align-content: flex-start;\n",
       "    flex-flow: column nowrap;\n",
       "}\n",
       ".nd, a:link.nd {\n",
       "    font-family: sans-serif;\n",
       "    font-size: small;\n",
       "    color: var(--node);\n",
       "    vertical-align: super;\n",
       "    direction: ltr ! important;\n",
       "    unicode-bidi: embed;\n",
       "}\n",
       ".lex {\n",
       "  color: var(--lex-color);;\n",
       "}\n",
       ".children,.children.ltr {\n",
       "    display: flex;\n",
       "    border: 0;\n",
       "    background-color: #ffffff;\n",
       "    justify-content: flex-start;\n",
       "    align-items: flex-start;\n",
       "    align-content: flex-start;\n",
       "}\n",
       ".children.stretch {\n",
       "    align-items: stretch;\n",
       "}\n",
       ".children.hor {\n",
       "    flex-flow: row nowrap;\n",
       "}\n",
       ".children.hor.wrap {\n",
       "    flex-flow: row wrap;\n",
       "}\n",
       ".children.ver {\n",
       "    flex-flow: column nowrap;\n",
       "}\n",
       ".children.ver.wrap {\n",
       "    flex-flow: column wrap;\n",
       "}\n",
       ".contnr {\n",
       "    width: fit-content;\n",
       "    display: flex;\n",
       "    justify-content: flex-start;\n",
       "    align-items: flex-start;\n",
       "    align-content: flex-start;\n",
       "    flex-flow: column nowrap;\n",
       "    background: #ffffff none repeat scroll 0 0;\n",
       "    padding:  10px 2px 2px 2px;\n",
       "    margin: 16px 2px 2px 2px;\n",
       "    border-style: solid;\n",
       "    font-size: small;\n",
       "}\n",
       ".contnr.trm {\n",
       "    background-attachment: local;\n",
       "}\n",
       ".contnr.cnul {\n",
       "    padding:  0;\n",
       "    margin: 0;\n",
       "    border-style: solid;\n",
       "    font-size: xx-small;\n",
       "}\n",
       ".contnr.cnul,.lbl.cnul {\n",
       "    border-color: var(--border-color-nul);\n",
       "    border-width: var(--border-width-nul);\n",
       "    border-radius: var(--border-width-nul);\n",
       "}\n",
       ".contnr.c0,.lbl.c0 {\n",
       "    border-color: var(--border-color0);\n",
       "    border-width: var(--border-width0);\n",
       "    border-radius: var(--border-width0);\n",
       "}\n",
       ".contnr.c1,.lbl.c1 {\n",
       "    border-color: var(--border-color1);\n",
       "    border-width: var(--border-width1);\n",
       "    border-radius: var(--border-width1);\n",
       "}\n",
       ".contnr.c2,.lbl.c2 {\n",
       "    border-color: var(--border-color2);\n",
       "    border-width: var(--border-width2);\n",
       "    border-radius: var(--border-width2);\n",
       "}\n",
       ".contnr.c3,.lbl.c3 {\n",
       "    border-color: var(--border-color3);\n",
       "    border-width: var(--border-width3);\n",
       "    border-radius: var(--border-width3);\n",
       "}\n",
       ".contnr.c4,.lbl.c4 {\n",
       "    border-color: var(--border-color4);\n",
       "    border-width: var(--border-width4);\n",
       "    border-radius: var(--border-width4);\n",
       "}\n",
       "span.plain {\n",
       "    /*display: inline-block;*/\n",
       "    display: inline-flex;\n",
       "    flex-flow: row wrap;\n",
       "    white-space: pre-wrap;\n",
       "}\n",
       "span.break {\n",
       "  flex-basis: 100%;\n",
       "  height: 0;\n",
       "}\n",
       ".plain {\n",
       "    background-color: #ffffff;\n",
       "}\n",
       ".plain.l,.contnr.l,.contnr.l>.lbl {\n",
       "    border-left-style: dotted\n",
       "}\n",
       ".plain.r,.contnr.r,.contnr.r>.lbl {\n",
       "    border-right-style: dotted\n",
       "}\n",
       ".plain.lno,.contnr.lno,.contnr.lno>.lbl {\n",
       "    border-left-style: none\n",
       "}\n",
       ".plain.rno,.contnr.rno,.contnr.rno>.lbl {\n",
       "    border-right-style: none\n",
       "}\n",
       ".plain.l {\n",
       "    padding-left: 4px;\n",
       "    margin-left: 2px;\n",
       "    border-width: var(--border-width-plain);\n",
       "}\n",
       ".plain.r {\n",
       "    padding-right: 4px;\n",
       "    margin-right: 2px;\n",
       "    border-width: var(--border-width-plain);\n",
       "}\n",
       ".lbl {\n",
       "    font-family: monospace;\n",
       "    margin-top: -24px;\n",
       "    margin-left: 20px;\n",
       "    background: #ffffff none repeat scroll 0 0;\n",
       "    padding: 0 6px;\n",
       "    border-style: solid;\n",
       "    display: block;\n",
       "    color: var(--label)\n",
       "}\n",
       ".lbl.trm {\n",
       "    background-attachment: local;\n",
       "    margin-top: 2px;\n",
       "    margin-left: 2px;\n",
       "    padding: 2px 2px;\n",
       "    border-style: none;\n",
       "}\n",
       ".lbl.cnul {\n",
       "    font-size: xx-small;\n",
       "}\n",
       ".lbl.c0 {\n",
       "    font-size: small;\n",
       "}\n",
       ".lbl.c1 {\n",
       "    font-size: small;\n",
       "}\n",
       ".lbl.c2 {\n",
       "    font-size: medium;\n",
       "}\n",
       ".lbl.c3 {\n",
       "    font-size: medium;\n",
       "}\n",
       ".lbl.c4 {\n",
       "    font-size: large;\n",
       "}\n",
       ".occs, a:link.occs {\n",
       "    font-size: small;\n",
       "}\n",
       "\n",
       "/* PROVENANCE */\n",
       "\n",
       "div.prov {\n",
       "\tmargin: 40px;\n",
       "\tpadding: 20px;\n",
       "\tborder: 2px solid var(--fog-rim);\n",
       "}\n",
       "div.pline {\n",
       "\tdisplay: flex;\n",
       "\tflex-flow: row nowrap;\n",
       "\tjustify-content: stretch;\n",
       "\talign-items: baseline;\n",
       "}\n",
       "div.p2line {\n",
       "\tmargin-left: 2em;\n",
       "\tdisplay: flex;\n",
       "\tflex-flow: row nowrap;\n",
       "\tjustify-content: stretch;\n",
       "\talign-items: baseline;\n",
       "}\n",
       "div.psline {\n",
       "\tdisplay: flex;\n",
       "\tflex-flow: row nowrap;\n",
       "\tjustify-content: stretch;\n",
       "\talign-items: baseline;\n",
       "\tbackground-color: var(--gold-mist-back);\n",
       "}\n",
       "div.pname {\n",
       "\tflex: 0 0 5rem;\n",
       "\tfont-weight: bold;\n",
       "}\n",
       "div.pval {\n",
       "    flex: 1 1 auto;\n",
       "}\n",
       "\n",
       "/* KEYBOARD */\n",
       ".ccoff {\n",
       "  background-color: inherit;\n",
       "}\n",
       ".ccon {\n",
       "  background-color: yellow ! important;\n",
       "}\n",
       ".ccon,.ccoff {\n",
       "  padding: 0.2rem;\n",
       "  margin: 0.2rem;\n",
       "  border: 0.1rem solid var(--letter-box-border);\n",
       "  border-radius: 0.1rem;\n",
       "}\n",
       ".ccline {\n",
       "  font-size: xx-large ! important;\n",
       "  font-weight: bold;\n",
       "  line-height: 2em ! important;\n",
       "}\n",
       "/* TF header */\n",
       "\n",
       "summary {\n",
       "  /* needed to override the normalize.less\n",
       "   * in the classical jupyter notebook\n",
       "   */\n",
       "  display: list-item ! important;\n",
       "}\n",
       "\n",
       ".fcorpus {\n",
       "  display: flex;\n",
       "  flex-flow: column nowrap;\n",
       "  justify-content: flex-start;\n",
       "  align-items: flex-start;\n",
       "  align-content: flex-start;\n",
       "}\n",
       ".frow {\n",
       "  display: flex;\n",
       "  flex-flow: row nowrap;\n",
       "  justify-content: flex-start;\n",
       "  align-items: flex-start;\n",
       "  align-content: flex-start;\n",
       "}\n",
       ".fmeta {\n",
       "  display: flex;\n",
       "  flex-flow: column nowrap;\n",
       "  justify-content: flex-start;\n",
       "  align-items: flex-start;\n",
       "  align-content: flex-start;\n",
       "}\n",
       ".fmetarow {\n",
       "  display: flex;\n",
       "  flex-flow: row nowrap;\n",
       "  justify-content: flex-start;\n",
       "  align-items: flex-start;\n",
       "  align-content: flex-start;\n",
       "}\n",
       ".fmetakey {\n",
       "  min-width: 8em;\n",
       "  font-family: monospace;\n",
       "}\n",
       ".fnamecat {\n",
       "  min-width: 8em;\n",
       "}\n",
       ".fnamecat.edge {\n",
       "  font-weight: bold;\n",
       "  font-style: italic;\n",
       "}\n",
       ".fmono {\n",
       "    font-family: monospace;\n",
       "}\n",
       "\n",
       ":root {\n",
       "\t--node:               hsla(120, 100%,  20%, 1.0  );\n",
       "\t--label:              hsla(  0, 100%,  20%, 1.0  );\n",
       "\t--tfsechead:          hsla(  0, 100%,  25%, 1.0  );\n",
       "\t--structure:          hsla(120, 100%,  25%, 1.0  );\n",
       "\t--features:           hsla(  0,   0%,  30%, 1.0  );\n",
       "  --text-color:         hsla( 60,  80%,  10%, 1.0  );\n",
       "  --lex-color:          hsla(220,  90%,  60%, 1.0  );\n",
       "  --meta-color:         hsla(  0,   0%,  90%, 0.7  );\n",
       "  --meta-width:         3px;\n",
       "  --border-color-nul:   hsla(  0,   0%,  90%, 0.5  );\n",
       "  --border-color0:      hsla(  0,   0%,  90%, 0.9  );\n",
       "  --border-color1:      hsla(  0,   0%,  80%, 0.9  );\n",
       "  --border-color2:      hsla(  0,   0%,  70%, 0.9  );\n",
       "  --border-color3:      hsla(  0,   0%,  80%, 0.8  );\n",
       "  --border-color4:      hsla(  0,   0%,  60%, 0.9  );\n",
       "\t--letter-box-border:  hsla(  0,   0%,  80%, 0.5  );\n",
       "  --border-width-nul:   2px;\n",
       "  --border-width0:      2px;\n",
       "  --border-width1:      3px;\n",
       "  --border-width2:      4px;\n",
       "  --border-width3:      6px;\n",
       "  --border-width4:      5px;\n",
       "  --border-width-plain: 2px;\n",
       "}\n",
       ".hl {\n",
       "  background-color: var(--hl-strong);\n",
       "}\n",
       "span.hl {\n",
       "\tbackground-color: var(--hl-strong);\n",
       "\tborder-width: 0;\n",
       "\tborder-radius: 2px;\n",
       "\tborder-style: solid;\n",
       "}\n",
       "div.contnr.hl,div.lbl.hl {\n",
       "  background-color: var(--hl-strong);\n",
       "}\n",
       "div.contnr.hl {\n",
       "  border-color: var(--hl-rim) ! important;\n",
       "\tborder-width: 4px ! important;\n",
       "}\n",
       "\n",
       "span.hlbx {\n",
       "\tborder-color: var(--hl-rim);\n",
       "\tborder-width: 4px ! important;\n",
       "\tborder-style: solid;\n",
       "\tborder-radius: 6px;\n",
       "  padding: 4px;\n",
       "  margin: 4px;\n",
       "}\n",
       "\n",
       ":root {\n",
       "\t--hl-strong:        hsla( 60, 100%,  70%, 0.9  );\n",
       "\t--hl-rim:           hsla( 55,  80%,  50%, 1.0  );\n",
       "}\n",
       "</style>"
      ],
      "text/plain": [
       "<IPython.core.display.HTML object>"
      ]
     },
     "metadata": {},
     "output_type": "display_data"
    },
    {
     "data": {
      "text/html": [
       "\n",
       "<script>\n",
       "globalThis.copyChar = (el, c) => {\n",
       "    for (const el of document.getElementsByClassName('ccon')) {\n",
       "        el.className = 'ccoff'\n",
       "    }\n",
       "    el.className = 'ccon'\n",
       "    navigator.clipboard.writeText(String.fromCharCode(c))\n",
       "}\n",
       "</script>\n"
      ],
      "text/plain": [
       "<IPython.core.display.HTML object>"
      ]
     },
     "metadata": {},
     "output_type": "display_data"
    },
    {
     "data": {
      "text/html": [
       "<div><b>Text-Fabric API:</b> names <a target=\"_blank\" href=\"https://annotation.github.io/text-fabric/tf/cheatsheet.html\" title=\"doc\">N F E L T S C TF</a> directly usable</div><hr>"
      ],
      "text/plain": [
       "<IPython.core.display.HTML object>"
      ]
     },
     "metadata": {},
     "output_type": "display_data"
    },
    {
     "data": {
      "text/plain": [
       "True"
      ]
     },
     "execution_count": 83,
     "metadata": {},
     "output_type": "execute_result"
    }
   ],
   "source": [
    "A = use('ETCBC/bhsa', version=version, hoist=globals())\n",
    "A.api.TF.load('g_cons_utf8 prs', add=True)"
   ]
  },
  {
   "cell_type": "code",
   "execution_count": 84,
   "metadata": {},
   "outputs": [],
   "source": [
    "# configure display\n",
    "A.displaySetup(condenseType='phrase', withNodes=True, end=50, extraFeatures={'st'})"
   ]
  },
  {
   "cell_type": "code",
   "execution_count": 85,
   "metadata": {},
   "outputs": [],
   "source": [
    "def show_subphrases(phrase, direction=L.d):\n",
    "    '''\n",
    "    A simple function to print subphrases\n",
    "    and their relations to each other.\n",
    "    '''\n",
    "    for sp in direction(phrase, 'subphrase'):\n",
    "        \n",
    "        mother = E.mother.f(sp)[0] if E.mother.f(sp) else ''\n",
    "        mother_text = T.text(mother)\n",
    "        \n",
    "        print('-'*7 + str(sp) + '-'*16)\n",
    "        print()\n",
    "        print(f'{T.text(sp)} -{F.rela.v(sp)}-> {mother_text}')\n",
    "        print(f'nodes:  {sp} -{F.rela.v(sp)}-> {mother}')\n",
    "        print(f'slots:  {L.d(sp, \"word\")} -{F.rela.v(sp)}-> {L.d(mother or 0, \"word\")}')\n",
    "        print('-'*30)"
   ]
  },
  {
   "cell_type": "markdown",
   "metadata": {},
   "source": [
    "# Defining Heads\n",
    "\n",
    "A \"semantic\" head is the primary content word of a phrase, following Croft's \"Primary Information Bearing Unit\":\n",
    "\n",
    "> **The noun and the verb are the PRIMARY INFORMATION_BEARING UNITS (PIBUs) of the phrase and clause respectively. In common parlance, they are the content words. PIBUs have major informational content that functional elements such as articles and [auxiliaries] do not have. (Croft, *Radical Construction Grammar*, 2001, 258; see also Shead, *Radical Frame Semantics and Biblical Hebrew*, 104)**\n",
    "\n",
    "> **A (semantic) head is the profile equivalent that is the primary information-bearing unit, that is, the most contentful item that most closely profiles the same kind of thing that the whole constituent profiles. (ibid., 259)**\n",
    "\n",
    "Croft also provides an additional criterion to \"profile equivalence\":\n",
    "\n",
    "> **If the criterion of profile equivalence produces two candidates for headhood, the less schematic meaning is the PIBU; that is, the PIBU is the one with the narrower extension, in the formal semantic sense of that term (ibid., 259)**\n",
    "\n",
    "The definition of a semantic head can be compared with the traditional definition of syntactic heads:\n",
    "- the word with a part of speech after which a phrase type is named\n",
    "- the word which semantically determines grammatical agreement\n",
    "\n",
    "In this traditional, syntactic definition, the head of a prepositional phrase is a preposition, whereas a semantic head would be lexical item subsumed under the preposition.\n",
    "\n",
    "## Capturing Semantic Heads Algorithmically\n",
    "\n",
    "The problem of selecting semantic heads cannot be comprehensively solved with rules-based methods, as it is a construction- and category- specific item. However, syntactic relations can be used to capture a large majority of semantic heads. This is because syntactic constructions tend to put the primary profiled lexical item in a particular slot. In a noun phrase, for instance, the PIBU is typically found as a stand-alone term that does not function as a modifier (thus excluding adjectives, articles, quantifiers, etc.). In a prepositional phrase, the definition is the same, where the preposition is excluded since it is considered a modifier of the PIBU.\n",
    "\n",
    "Thus **the goal of this NB, and project, is to provide semantic head data that is accurate for the majority of cases.** This means that even a 60% level of accuracy is deemed a success.\n",
    "\n",
    "## Use Cases\n",
    "\n",
    "Semantic head data, since not 100% accurate, should not be used on its own. But it can be used for generating automatic labels that can be hand-checked / adjusted. It can also be useful for cursory explorations and data collection.\n",
    "\n",
    "\n",
    "# Preprocessing Data\n",
    "\n",
    "Before beginning the head selections, a number of important preprocessing tasks must be performed. This includes building up necessary custom sets that can be used to correctly select the heads, as well as accounting for shortcomings in the BHSA data. In this section the preprocessing is done."
   ]
  },
  {
   "cell_type": "markdown",
   "metadata": {},
   "source": [
    "## Prepare Custom Sets\n",
    "\n",
    "Below I prepare a series of custom sets that can in turn be used in the head search templates. `A.search` takes an optional argument `sets` which is a dictionary of string keys and set values. The string keys can be written into search templates, so that a key of \"wordKind\", for instance, can be entered into the template as if it is an object. All of the instantiations of \"wordKind\" are identified by looking at the set, which contains object nodes (e.g. word nodes). "
   ]
  },
  {
   "cell_type": "code",
   "execution_count": 86,
   "metadata": {},
   "outputs": [],
   "source": [
    "sets = {}"
   ]
  },
  {
   "cell_type": "markdown",
   "metadata": {},
   "source": [
    "### `iphrase_atom` (independent phrase atom)\n",
    "\n",
    "Below is a set of independent phrase atoms. This set is needed since phrase atoms can exist within a chain of other coordinate phrase atoms, which itself may begin with a dependent element. By definition, a head is not a dependent element. So only phrase atoms in independent chains should be allowed. This requires a recursive check down the phrase atom chain to ensure all relations are independent."
   ]
  },
  {
   "cell_type": "code",
   "execution_count": 87,
   "metadata": {},
   "outputs": [
    {
     "name": "stdout",
     "output_type": "stream",
     "text": [
      "254621 independent phrase atoms ready...\n"
     ]
    }
   ],
   "source": [
    "def climb_pa_chain(relalist, phrase_atom):\n",
    "    '''\n",
    "    Recursive function that climbs \n",
    "    down phrase_atom parallel chains\n",
    "    to identify all relations in the chain.\n",
    "    '''\n",
    "    mother = E.mother.f(phrase_atom)[0]\n",
    "    relalist.append(F.rela.v(mother))\n",
    "    if F.rela.v(mother) == 'Para':\n",
    "        climb_pa_chain(relalist, mother)\n",
    "        \n",
    "# iterate through phrase atoms, apply climb_pa_chain, use resulting relations to select iphrase_atoms:\n",
    "independent_phrasea = [pa for pa in F.otype.s('phrase_atom') if F.rela.v(pa) == 'NA']\n",
    "for pa in F.rela.s('Para'):  \n",
    "    chained_relas = []\n",
    "    climb_pa_chain(chained_relas, pa)\n",
    "    if not set(chained_relas) - {'NA', 'Para'}: # <- dependency check happens here: only allowable relas are NA and Para\n",
    "        independent_phrasea.append(pa)\n",
    "        \n",
    "iphrase_atom = set(independent_phrasea)\n",
    "\n",
    "sets['iphrase_atom'] = iphrase_atom\n",
    "\n",
    "print(f'{len(iphrase_atom)} independent phrase atoms ready...')"
   ]
  },
  {
   "cell_type": "markdown",
   "metadata": {},
   "source": [
    "### Substantival Adjectives\n",
    "\n",
    "Several modifiers in the Hebrew Bible occur substantively without any dependent relations. The most prominent species of these kinds of modifiers are quantifiers, including terms such as כל and מעט. (see also Waltke-O'Connor's helpful discussion at §14.3.1c). However, other kinds of non-quantifying adjectives are included here. One example is the substantive עצם, which often functions attributively to words like יום (as in Gen 7:13 et al., בעצם היום הזה). \n",
    "\n",
    "Below these words are identified with a series of sets and queries. In some cases, an entire lexeme can be considered a substantival modifier. In other cases, a query is made which stipulates conditions to trigger the adjectival sense.\n",
    "\n",
    "#### `quant` (quantifiers)\n",
    "\n",
    "Different lexemes are used to quantify nouns in the Hebrew Bible. Cardinal numbers are indicated in the BHSA with the feature `ls` (lexical set) and a value of `card`. However, other, more qualitative quantifiers are not formally marked, including lemmas such as כל or חצי. Also not included is the use of בן + cardinal number, where בן functions idiomatically as a part of the quantifying phrase rather than a true head. These cases are defined below and gathered into a `quant` set. "
   ]
  },
  {
   "cell_type": "code",
   "execution_count": 88,
   "metadata": {},
   "outputs": [
    {
     "name": "stdout",
     "output_type": "stream",
     "text": [
      "13073 custom quantifiers ready...\n"
     ]
    }
   ],
   "source": [
    "custom_quants = {'KL/', 'M<V/', 'JTR/',\n",
    "                 'M<FR/', 'XYJ/', '<FRWN/',\n",
    "                 'C>R=/', 'MSPR/', 'XYWT/', \n",
    "                 'RB/', 'RB=/', 'MXYJT/'}\n",
    "quantlexs = '|'.join(custom_quants) # pipe separated string for optional use in search templates\n",
    "\n",
    "# put quantifier word nodes in here\n",
    "quantifiers = [w for w in F.otype.s('word')\n",
    "                   if F.lex.v(w) in custom_quants\n",
    "                   or F.ls.v(w) == 'card']\n",
    "\n",
    "# for the Hebrew idiom: בנ + quantifier for age\n",
    "quantifiers.extend(A.search('''\n",
    "\n",
    "quant:word lex=BN/ st=c nu=sg\n",
    "/with/\n",
    "phrase_atom\n",
    "    quant\n",
    "    <: word ls=card\n",
    "/-/\n",
    "\n",
    "''', shallow=True, silent=True))\n",
    "\n",
    "quantifiers = set(quantifiers)\n",
    "sets['quant'] = quantifiers\n",
    "\n",
    "print(f'{len(quantifiers)} custom quantifiers ready...')"
   ]
  },
  {
   "cell_type": "markdown",
   "metadata": {},
   "source": [
    "### modis (modifiers)\n",
    "\n",
    "This set consists of substantival terms in the Hebrew Bible such as עצם \"same\". Other cases will be added in the future as needed."
   ]
  },
  {
   "cell_type": "code",
   "execution_count": 89,
   "metadata": {},
   "outputs": [
    {
     "name": "stdout",
     "output_type": "stream",
     "text": [
      "  0.75s 20 results\n"
     ]
    }
   ],
   "source": [
    "etsem = set(res[1] for res in A.search('''\n",
    "\n",
    "phrase_atom\n",
    "    word lex=<YM/ nu=sg\n",
    "    <mother- subphrase rela=rec\n",
    "        word pdp=subs lex#>DM/\n",
    "\n",
    "'''))\n",
    "\n",
    "modifiers = set()\n",
    "\n",
    "modifiers |= etsem"
   ]
  },
  {
   "cell_type": "markdown",
   "metadata": {},
   "source": [
    "### Merging Modifiers into Quantifiers\n",
    "\n",
    "The original logic of this production line included only quantifiers. But as I have used heads, I have seen the need for an expanded set that also includes substantival adjectives. Rather than modify all of the quantifier names, for the time being I include the modifiers into the quantifier set itself. So in some places the documentation or code may refer to quantifiers where the implementation actually also includes modifiers."
   ]
  },
  {
   "cell_type": "code",
   "execution_count": 90,
   "metadata": {},
   "outputs": [],
   "source": [
    "sets['quant'] |= modifiers"
   ]
  },
  {
   "cell_type": "markdown",
   "metadata": {},
   "source": [
    "### Further Research Needed"
   ]
  },
  {
   "cell_type": "markdown",
   "metadata": {},
   "source": [
    "Note that numerous other cases need to be investigated. These can be isolated using the final heads feature with the following query:"
   ]
  },
  {
   "cell_type": "code",
   "execution_count": 91,
   "metadata": {},
   "outputs": [],
   "source": [
    "adjectival_np_heads = '''\n",
    "\n",
    "phrase typ=NP\n",
    "    <head- word pdp=adjv vt#ptca|ptcp\n",
    "    \n",
    "'''"
   ]
  },
  {
   "cell_type": "markdown",
   "metadata": {},
   "source": [
    "The query finds about 100 or so cases, several of which should somehow be incorporated with the sets above. But there are a number of complexities that prevent a simple assignment. Many of the adjectival relations are verbal in nature, with the substantive in construct serving as an object (e.g. יראי אלהים in Ps 66:16). **Thus, this section requires further research and development.**"
   ]
  },
  {
   "cell_type": "markdown",
   "metadata": {},
   "source": [
    "### `prep` (prepositions)\n",
    "\n",
    "Many prepositions are marked in BHSA with the feature `pdp` (phrase dependent part of speech) with a value of `prep`. However, this is not true of all prepositions. Other prepositions are marked with the `ls` (lexical set) feature with a value of `ppre` (potential preposition). Still other semi-prepositional lemmas are missed, such as פנה when used before ל (as in לפני), words indicating position, such as תוך (middle), קץ (end), or those indicating continuity such as עוד (still).\n",
    "\n",
    "Preposition definitions need to be further investigated and defended. Some terms that are pseudo-prepositional, such as פתח \"entrance\" (e.g. in פתח אהל \"entrance of a tent\"), are not included. More investigation is needed to determine sound criteria for prepositions as a discrete class."
   ]
  },
  {
   "cell_type": "code",
   "execution_count": 92,
   "metadata": {},
   "outputs": [],
   "source": [
    "# prepare prepositions set\n",
    "\n",
    "preps = [w for w in F.otype.s('word') if F.pdp.v(w) == 'prep']\n",
    "\n",
    "# add special בד \"alone\" when it is \n",
    "# preceded by ל, with a meaning of \"except\"\n",
    "preps.extend(A.search('''\n",
    "\n",
    "prep:word lex=BD/\n",
    "/with/\n",
    "phrase_atom\n",
    "    word pdp=prep lex=L\n",
    "    <: prep\n",
    "/-/\n",
    "\n",
    "''', shallow=True, silent=True))\n",
    "\n",
    "# The prepositions below are lemma sets like פנה or תוך\n",
    "# These sets could benefit from further investigation\n",
    "preps.extend(A.search('''\n",
    "\n",
    "prep:word prs=absent lex=PNH/|TWK/|QY/|QYH=/|QYT/|<WD/\n",
    "/with/\n",
    "% ensure potential prep is preceded by:\n",
    "% prep, potential prep (ls), or כל\n",
    "% else there should be no interruption\n",
    "phrase_atom\n",
    "    word\n",
    "    /with/\n",
    "    pdp=prep\n",
    "    /or/\n",
    "    ls=ppre\n",
    "    /or/\n",
    "    lex=KL/\n",
    "    /-/\n",
    "    <: prep\n",
    "/-/\n",
    "/with/\n",
    "% ensure prep is followed by at least one non ו word\n",
    "phrase_atom\n",
    "    prep\n",
    "    <: word lex#W\n",
    "/-/\n",
    "\n",
    "''', shallow=True, silent=True))\n",
    "\n",
    "# several cases of אחרית are substantive in nature, e.g. אחרית רשׁעים \"end of evil doers\" (Ps 37:38)\n",
    "# others are used prepositionally to indicate position\n",
    "# the semantics of the phrase is important for determining which sense is employed\n",
    "# all cases in Time Phrases appear prepositional\n",
    "# if used with an animate noun, it appears that אחרית is used substantivally\n",
    "# those cases can be manually excluded with a lexeme exclusion\n",
    "# NB: גים in Jer 50:12 is used non-personally and thus not excluded\n",
    "# Excluded: איוב and רשעים\n",
    "preps.extend(A.search('''\n",
    "\n",
    "prep:word lex=>XRJT/\n",
    "/with/\n",
    "phrase_atom\n",
    "    prep\n",
    "    <mother- subphrase rela=rec\n",
    "        word pdp=subs lex#>JWB/|RC</\n",
    "/-/\n",
    "\n",
    "''', shallow=True, silent=True))"
   ]
  },
  {
   "cell_type": "code",
   "execution_count": 93,
   "metadata": {},
   "outputs": [
    {
     "name": "stdout",
     "output_type": "stream",
     "text": [
      "78154 custom prepositions ready...\n"
     ]
    }
   ],
   "source": [
    "# Below potential preps are added, but דרך is excluded\n",
    "# since this is a more speculative preposition\n",
    "preps.extend(A.search('''\n",
    "\n",
    "word ls=ppre st=c lex#DRK/\n",
    "\n",
    "''', shallow=True, silent=True))\n",
    "\n",
    "print(f'{len(preps)} custom prepositions ready...')"
   ]
  },
  {
   "cell_type": "markdown",
   "metadata": {},
   "source": [
    "#### Finalize Preps Set"
   ]
  },
  {
   "cell_type": "code",
   "execution_count": 94,
   "metadata": {},
   "outputs": [],
   "source": [
    "preps = set(preps)\n",
    "sets['prep'] = preps"
   ]
  },
  {
   "cell_type": "code",
   "execution_count": 95,
   "metadata": {},
   "outputs": [
    {
     "data": {
      "text/plain": [
       "76914"
      ]
     },
     "execution_count": 95,
     "metadata": {},
     "output_type": "execute_result"
    }
   ],
   "source": [
    "len(preps)"
   ]
  },
  {
   "cell_type": "markdown",
   "metadata": {},
   "source": [
    "### `nonprep`, `quantprep`, and `nonquantprep`\n",
    "\n",
    "The custom prepositions defined below are often marked in BHSA with a `pdp` (phrase dependent part of speech) of `subs` (substantive) rather than `prep`. This results in unwanted selections. Furthermore, there are many cases where the selection of a quantifier is to be explicitly disallowed. The sets `nonprep`, `quantprep`, and `nonquantprep` enable exclusions or selections to be made without lengthening the search templates. "
   ]
  },
  {
   "cell_type": "code",
   "execution_count": 96,
   "metadata": {},
   "outputs": [
    {
     "name": "stdout",
     "output_type": "stream",
     "text": [
      "413497 non-quantifying words ready\n",
      "349676 non-prepositional words ready\n",
      "336583 non-prepositional, non-quantifier words ready\n"
     ]
    }
   ],
   "source": [
    "quantpreps = quantifiers|preps\n",
    "\n",
    "# non quantifiers\n",
    "non_quant = set(w for w in F.otype.s('word') if w not in quantifiers)\n",
    "\n",
    "# non prepositions\n",
    "non_prep = set(w for w in F.otype.s('word') if w not in preps)\n",
    "\n",
    "# non quantifiers or prepositions\n",
    "nonquantprep = set(w for w in F.otype.s('word') if w not in quantpreps)\n",
    "\n",
    "sets['nonprep'] = non_prep\n",
    "sets['nonquant'] = non_quant\n",
    "sets['nonquantprep'] = nonquantprep\n",
    "\n",
    "print(f'{len(non_quant)} non-quantifying words ready')\n",
    "print(f'{len(non_prep)} non-prepositional words ready')\n",
    "print(f'{len(nonquantprep)} non-prepositional, non-quantifier words ready')"
   ]
  },
  {
   "cell_type": "markdown",
   "metadata": {},
   "source": [
    "### `postprep` and `nonpostprep`\n",
    "\n",
    "It is often necessary to ensure a word is or isn't preceded immediately by a preposition. Due to the potential presence of an intermediating article, these cases can become lengthy within the templates. These two sets provide a way to reference these words simply."
   ]
  },
  {
   "cell_type": "code",
   "execution_count": 97,
   "metadata": {},
   "outputs": [
    {
     "name": "stdout",
     "output_type": "stream",
     "text": [
      "76191 post prepositional words ready...\n",
      "350399 non-post prepositional words ready...\n"
     ]
    }
   ],
   "source": [
    "precede_prep = A.search('''\n",
    "\n",
    "word\n",
    "/with/\n",
    "phrase_atom\n",
    "    prep\n",
    "    <: ..\n",
    "/or/\n",
    "phrase_atom\n",
    "    prep\n",
    "    <: word pdp=art\n",
    "    <: ..\n",
    "/-/\n",
    "''', shallow=True, sets=sets, silent=True)\n",
    "\n",
    "postprep = set(precede_prep)\n",
    "nonpostprep = set(w for w in F.otype.s('word') if w not in postprep)\n",
    "\n",
    "sets['postprep'] = postprep\n",
    "sets['nonpostprep'] = nonpostprep\n",
    "\n",
    "print(f'{len(postprep)} post prepositional words ready...')\n",
    "print(f'{len(nonpostprep)} non-post prepositional words ready...')"
   ]
  },
  {
   "cell_type": "markdown",
   "metadata": {},
   "source": [
    "## Missing Relation Problems in BHSA\n",
    "\n",
    "The BHSA subphrases have several missing relations that prevent correct head selection. These missing relations illustrate the urgent need for a new data model that can address the shortcomings. Some of these issues may be due to limitations in the ETCBC data creation pipeline. For instance, in that pipeline, a word can only exist in a maximum of 3 subphrase relations. This limitation is caused by the outdated file format of [ps3.p](http://www.etcbc.nl/datacreation/#ps3.p). A BHSA2 that is native to Text-Fabric could address this shortcoming easily.\n",
    "\n",
    "As a temporary solution, a set is created (`dword`, dependent word), which contains all words that *should* be in a dependent subphrase relation but are not. This set is in turn used to make a set of `iword` (independent_word). For the heads selections, all templates will search for `iword` objects rather than simple `word`. "
   ]
  },
  {
   "cell_type": "code",
   "execution_count": 98,
   "metadata": {},
   "outputs": [],
   "source": [
    "dwords = set()"
   ]
  },
  {
   "cell_type": "markdown",
   "metadata": {},
   "source": [
    "### Missing `atr` and `rec`\n",
    "\n",
    "There are at least 96 cases in BHSA, found below, which lack a proper `atr` (attribution) or `rec` (nomen regens/rectum) subphrase relation. Manual inspection of the subphrase structures show that this is frequently the case due to the word existing in more than 3 subphrases (the max for ps3.p). Selecting these cases consists of the following parameters:\n",
    "\n",
    "* find all cases of `subs + subs` or `subs + adjv` in adjacent relation; intervention of a definite article is allowed\n",
    "* ensure that there is no subphrase that relates the second nominal element to the first\n",
    "* ensure that the first nominal is in the construct relation\n",
    "* OR ensure that (1) second nominal is an adjective, or (2) first nominal ends with maqqeph (e.g. כל־), or (3) nominal 1 and 2 occur together and alone in a subphrase.\n",
    "\n",
    "Coding all of these requirements results in a bit of a lengthy search pattern, but it is effective in isolating the relevant cases. The cases are searched for and displayed below. The head noun is highlighted in green, while the word in relation to it is in pink. Again, the pink words are words which SHOULD have a relation to the green word, but do not have one in BHSA."
   ]
  },
  {
   "cell_type": "code",
   "execution_count": 99,
   "metadata": {},
   "outputs": [
    {
     "name": "stdout",
     "output_type": "stream",
     "text": [
      "  0.95s 46 results\n",
      "  1.09s 33 results\n"
     ]
    }
   ],
   "source": [
    "missing_atr_rec = A.search('''\n",
    "\n",
    "phrase\n",
    "    phrase_atom\n",
    "        subs:nonquantprep pdp=subs|nmpr    \n",
    "% stipulate that this word has some relation to the following word\n",
    "% there are various checks to weed out spurious results:\n",
    "        /with/\n",
    "        st=c\n",
    "        /or/\n",
    "        <: word pdp=adjv\n",
    "        /or/\n",
    "        trailer=&\n",
    "        /or/\n",
    "        s1:subphrase\n",
    "            =: subs\n",
    "            <: w1:word pdp=adjv|subs\n",
    "        w1 := s1\n",
    "        /-/\n",
    "        \n",
    "        <: ad:word pdp=adjv|subs\n",
    "% stipulate that this^ word has no relation to the first\n",
    "        /without/\n",
    "        s1:subphrase\n",
    "            w1:word\n",
    "        s2:subphrase rela=atr|adj|par|mod\n",
    "            w2:word\n",
    "        s1 <mother- s2\n",
    "        w1 <: w2\n",
    "        ad = w2\n",
    "        /-/\n",
    "        /without/\n",
    "        w1:word\n",
    "        s1:subphrase rela=rec\n",
    "            w2:word\n",
    "        w1 <mother- s1\n",
    "        w1 <: w2\n",
    "        ad = w2\n",
    "        /-/\n",
    "\n",
    "''', sets={'nonquantprep':nonquantprep}) + A.search('''\n",
    "\n",
    "phrase\n",
    "    phrase_atom\n",
    "        nonquantprep pdp=subs|nmpr\n",
    "        <: word pdp=art\n",
    "        <: ad:word pdp=adjv|subs\n",
    "% stipulate that this^ word has no relation to the first\n",
    "        /without/\n",
    "        s1:subphrase\n",
    "            w1:word pdp=subs|nmpr\n",
    "        s2:subphrase rela=atr|adj|par|mod\n",
    "            w2:word pdp=art\n",
    "            <: w3:word\n",
    "            \n",
    "        s1 <mother- s2\n",
    "        w1 <: w2\n",
    "        ad = w3\n",
    "        /-/\n",
    "        \n",
    "        /without/\n",
    "        w1:word pdp=subs|nmpr\n",
    "        s1:subphrase rela=rec\n",
    "            w2:word pdp=art\n",
    "            w3:word\n",
    "            \n",
    "        w1 <mother- s1\n",
    "        w1 <: w2\n",
    "        ad = w3\n",
    "        /-/\n",
    "''', sets={'nonquantprep':nonquantprep})"
   ]
  },
  {
   "cell_type": "code",
   "execution_count": 100,
   "metadata": {},
   "outputs": [],
   "source": [
    "random.shuffle(missing_atr_rec)"
   ]
  },
  {
   "cell_type": "code",
   "execution_count": 101,
   "metadata": {},
   "outputs": [
    {
     "data": {
      "text/html": [
       "<p><b>result</b> <i>1</i>"
      ],
      "text/plain": [
       "<IPython.core.display.HTML object>"
      ]
     },
     "metadata": {},
     "output_type": "display_data"
    },
    {
     "data": {
      "text/html": [
       "<div class=\"tfsechead rtl\"><span class=\"ltr\"><a target=\"_blank\" href=\"https://shebanq.ancient-data.org/hebrew/text?book=Chronica_II&amp;chapter=30&amp;verse=12&amp;version=2021&amp;mr=m&amp;qw=q&amp;tp=txt_p&amp;tr=hb&amp;wget=v&amp;qget=v&amp;nget=vt\" title=\"Show this on SHEBANQ\" sec=\"2_Chronicles 30:12\">2_Chronicles 30:12</a></span></div><div class=\"rtl children\"><div class=\"contnr c1  rtl  \" ><div class=\"lbl c1  \" ><span class=\"nd\">phrase:902616 </span> <span class=\"\"><span title=\"typ\">NP</span> <span title=\"function\">Objc</span></span></div><div class=\"children hor wrap rtl\"><div class=\"contnr c0 trm rtl  hl\"  style=\"background-color: lightgreen;\" ><div class=\"lbl c0 trm hl\"  style=\"background-color: lightgreen;\" ><span class=\"nd\">422137 </span> <a class=\" txtu hbo\" target=\"_blank\" href=\"https://shebanq.ancient-data.org/hebrew/word?version=2021&amp;id=1MYWHn\" title=\"Show this on SHEBANQ\"><span class=\"txtu hbo\">מִצְוַ֥ת </span></a></div><div class=\"features\"><span class=\"st xft\" ><span class=\"f\">st=</span>c</span></div></div><div class=\"contnr c0 trm rtl  hl\" ><div class=\"lbl c0 trm hl\" ><span class=\"nd\">422138 </span> <a class=\" txtu hbo\" target=\"_blank\" href=\"https://shebanq.ancient-data.org/hebrew/word?version=2021&amp;id=1H\" title=\"Show this on SHEBANQ\"><span class=\"txtu hbo\">הַ</span></a></div></div><div class=\"contnr c0 trm rtl  hl\"  style=\"background-color: pink;\" ><div class=\"lbl c0 trm hl\"  style=\"background-color: pink;\" ><span class=\"nd\">422139 </span> <a class=\" txtu hbo\" target=\"_blank\" href=\"https://shebanq.ancient-data.org/hebrew/word?version=2021&amp;id=1MLKn\" title=\"Show this on SHEBANQ\"><span class=\"txtu hbo\">מֶּ֛לֶךְ </span></a></div><div class=\"features\"><span class=\"st xft\" ><span class=\"f\">st=</span>a</span></div></div><div class=\"contnr c0 trm rtl  \" ><div class=\"lbl c0 trm \" ><span class=\"nd\">422140 </span> <a class=\" txtu hbo\" target=\"_blank\" href=\"https://shebanq.ancient-data.org/hebrew/word?version=2021&amp;id=1W\" title=\"Show this on SHEBANQ\"><span class=\"txtu hbo\">וְ</span></a></div></div><div class=\"contnr c0 trm rtl  \" ><div class=\"lbl c0 trm \" ><span class=\"nd\">422141 </span> <a class=\" txtu hbo\" target=\"_blank\" href=\"https://shebanq.ancient-data.org/hebrew/word?version=2021&amp;id=1H\" title=\"Show this on SHEBANQ\"><span class=\"txtu hbo\">הַ</span></a></div></div><div class=\"contnr c0 trm rtl  \" ><div class=\"lbl c0 trm \" ><span class=\"nd\">422142 </span> <a class=\" txtu hbo\" target=\"_blank\" href=\"https://shebanq.ancient-data.org/hebrew/word?version=2021&amp;id=1FRn\" title=\"Show this on SHEBANQ\"><span class=\"txtu hbo\">שָּׂרִ֖ים </span></a></div><div class=\"features\"><span class=\"st xft\" ><span class=\"f\">st=</span>a</span></div></div></div></div></div>"
      ],
      "text/plain": [
       "<IPython.core.display.HTML object>"
      ]
     },
     "metadata": {},
     "output_type": "display_data"
    },
    {
     "data": {
      "text/html": [
       "<p><b>result</b> <i>2</i>"
      ],
      "text/plain": [
       "<IPython.core.display.HTML object>"
      ]
     },
     "metadata": {},
     "output_type": "display_data"
    },
    {
     "data": {
      "text/html": [
       "<div class=\"tfsechead rtl\"><span class=\"ltr\"><a target=\"_blank\" href=\"https://shebanq.ancient-data.org/hebrew/text?book=Josua&amp;chapter=13&amp;verse=11&amp;version=2021&amp;mr=m&amp;qw=q&amp;tp=txt_p&amp;tr=hb&amp;wget=v&amp;qget=v&amp;nget=vt\" title=\"Show this on SHEBANQ\" sec=\"Joshua 13:11\">Joshua 13:11</a></span></div><div class=\"rtl children\"><div class=\"contnr c1  rtl  \" ><div class=\"lbl c1  \" ><span class=\"nd\">phrase:719796 </span> <span class=\"\"><span title=\"typ\">PrNP</span> <span title=\"function\">Loca</span></span></div><div class=\"children hor wrap rtl\"><div class=\"contnr c0 trm rtl  \" ><div class=\"lbl c0 trm \" ><span class=\"nd\">120580 </span> <a class=\" txtu hbo\" target=\"_blank\" href=\"https://shebanq.ancient-data.org/hebrew/word?version=2021&amp;id=1H\" title=\"Show this on SHEBANQ\"><span class=\"txtu hbo\">הַ</span></a></div></div><div class=\"contnr c0 trm rtl  \" ><div class=\"lbl c0 trm \" ><span class=\"nd\">120581 </span> <a class=\" txtu hbo\" target=\"_blank\" href=\"https://shebanq.ancient-data.org/hebrew/word?version=2021&amp;id=1GLODn\" title=\"Show this on SHEBANQ\"><span class=\"txtu hbo\">גִּלְעָ֞ד </span></a></div><div class=\"features\"><span class=\"st xft\" ><span class=\"f\">st=</span>a</span></div></div><div class=\"contnr c0 trm rtl  \" ><div class=\"lbl c0 trm \" ><span class=\"nd\">120582 </span> <a class=\" txtu hbo\" target=\"_blank\" href=\"https://shebanq.ancient-data.org/hebrew/word?version=2021&amp;id=1W\" title=\"Show this on SHEBANQ\"><span class=\"txtu hbo\">וּ</span></a></div></div><div class=\"contnr c0 trm rtl  hl\"  style=\"background-color: lightgreen;\" ><div class=\"lbl c0 trm hl\"  style=\"background-color: lightgreen;\" ><span class=\"nd\">120583 </span> <a class=\" txtu hbo\" target=\"_blank\" href=\"https://shebanq.ancient-data.org/hebrew/word?version=2021&amp;id=1GBWLn\" title=\"Show this on SHEBANQ\"><span class=\"txtu hbo\">גְב֧וּל </span></a></div><div class=\"features\"><span class=\"st xft\" ><span class=\"f\">st=</span>c</span></div></div><div class=\"contnr c0 trm rtl  hl\" ><div class=\"lbl c0 trm hl\" ><span class=\"nd\">120584 </span> <a class=\" txtu hbo\" target=\"_blank\" href=\"https://shebanq.ancient-data.org/hebrew/word?version=2021&amp;id=1H\" title=\"Show this on SHEBANQ\"><span class=\"txtu hbo\">הַ</span></a></div></div><div class=\"contnr c0 trm rtl  hl\"  style=\"background-color: pink;\" ><div class=\"lbl c0 trm hl\"  style=\"background-color: pink;\" ><span class=\"nd\">120585 </span> <a class=\" txtu hbo\" target=\"_blank\" href=\"https://shebanq.ancient-data.org/hebrew/word?version=2021&amp;id=1GCWRJn\" title=\"Show this on SHEBANQ\"><span class=\"txtu hbo\">גְּשׁוּרִ֣י </span></a></div><div class=\"features\"><span class=\"st xft\" ><span class=\"f\">st=</span>a</span></div></div><div class=\"contnr c0 trm rtl  \" ><div class=\"lbl c0 trm \" ><span class=\"nd\">120586 </span> <a class=\" txtu hbo\" target=\"_blank\" href=\"https://shebanq.ancient-data.org/hebrew/word?version=2021&amp;id=1W\" title=\"Show this on SHEBANQ\"><span class=\"txtu hbo\">וְ</span></a></div></div><div class=\"contnr c0 trm rtl  \" ><div class=\"lbl c0 trm \" ><span class=\"nd\">120587 </span> <a class=\" txtu hbo\" target=\"_blank\" href=\"https://shebanq.ancient-data.org/hebrew/word?version=2021&amp;id=1H\" title=\"Show this on SHEBANQ\"><span class=\"txtu hbo\">הַ</span></a></div></div><div class=\"contnr c0 trm rtl  \" ><div class=\"lbl c0 trm \" ><span class=\"nd\">120588 </span> <a class=\" txtu hbo\" target=\"_blank\" href=\"https://shebanq.ancient-data.org/hebrew/word?version=2021&amp;id=1MOKTJn\" title=\"Show this on SHEBANQ\"><span class=\"txtu hbo\">מַּעֲכָתִ֗י </span></a></div><div class=\"features\"><span class=\"st xft\" ><span class=\"f\">st=</span>a</span></div></div><div class=\"contnr c0 trm rtl  \" ><div class=\"lbl c0 trm \" ><span class=\"nd\">120589 </span> <a class=\" txtu hbo\" target=\"_blank\" href=\"https://shebanq.ancient-data.org/hebrew/word?version=2021&amp;id=1W\" title=\"Show this on SHEBANQ\"><span class=\"txtu hbo\">וְ</span></a></div></div><div class=\"contnr c0 trm rtl  \" ><div class=\"lbl c0 trm \" ><span class=\"nd\">120590 </span> <a class=\" txtu hbo\" target=\"_blank\" href=\"https://shebanq.ancient-data.org/hebrew/word?version=2021&amp;id=1KLn\" title=\"Show this on SHEBANQ\"><span class=\"txtu hbo\">כֹ֨ל </span></a></div><div class=\"features\"><span class=\"st xft\" ><span class=\"f\">st=</span>c</span></div></div><div class=\"contnr c0 trm rtl  \" ><div class=\"lbl c0 trm \" ><span class=\"nd\">120591 </span> <a class=\" txtu hbo\" target=\"_blank\" href=\"https://shebanq.ancient-data.org/hebrew/word?version=2021&amp;id=1HRn\" title=\"Show this on SHEBANQ\"><span class=\"txtu hbo\">הַ֥ר </span></a></div><div class=\"features\"><span class=\"st xft\" ><span class=\"f\">st=</span>c</span></div></div><div class=\"contnr c0 trm rtl  \" ><div class=\"lbl c0 trm \" ><span class=\"nd\">120592 </span> <a class=\" txtu hbo\" target=\"_blank\" href=\"https://shebanq.ancient-data.org/hebrew/word?version=2021&amp;id=1XRMWNn\" title=\"Show this on SHEBANQ\"><span class=\"txtu hbo\">חֶרְמֹ֛ון </span></a></div><div class=\"features\"><span class=\"st xft\" ><span class=\"f\">st=</span>a</span></div></div><div class=\"contnr c0 trm rtl  \" ><div class=\"lbl c0 trm \" ><span class=\"nd\">120593 </span> <a class=\" txtu hbo\" target=\"_blank\" href=\"https://shebanq.ancient-data.org/hebrew/word?version=2021&amp;id=1W\" title=\"Show this on SHEBANQ\"><span class=\"txtu hbo\">וְ</span></a></div></div><div class=\"contnr c0 trm rtl  \" ><div class=\"lbl c0 trm \" ><span class=\"nd\">120594 </span> <a class=\" txtu hbo\" target=\"_blank\" href=\"https://shebanq.ancient-data.org/hebrew/word?version=2021&amp;id=1KLn\" title=\"Show this on SHEBANQ\"><span class=\"txtu hbo\">כָל־</span></a></div><div class=\"features\"><span class=\"st xft\" ><span class=\"f\">st=</span>c</span></div></div><div class=\"contnr c0 trm rtl  \" ><div class=\"lbl c0 trm \" ><span class=\"nd\">120595 </span> <a class=\" txtu hbo\" target=\"_blank\" href=\"https://shebanq.ancient-data.org/hebrew/word?version=2021&amp;id=1H\" title=\"Show this on SHEBANQ\"><span class=\"txtu hbo\">הַ</span></a></div></div><div class=\"contnr c0 trm rtl  \" ><div class=\"lbl c0 trm \" ><span class=\"nd\">120596 </span> <a class=\" txtu hbo\" target=\"_blank\" href=\"https://shebanq.ancient-data.org/hebrew/word?version=2021&amp;id=1BCNn\" title=\"Show this on SHEBANQ\"><span class=\"txtu hbo\">בָּשָׁ֖ן </span></a></div><div class=\"features\"><span class=\"st xft\" ><span class=\"f\">st=</span>a</span></div></div><div class=\"contnr c0 trm rtl  \" ><div class=\"lbl c0 trm \" ><span class=\"nd\">120597 </span> <a class=\" txtu hbo\" target=\"_blank\" href=\"https://shebanq.ancient-data.org/hebrew/word?version=2021&amp;id=1OD\" title=\"Show this on SHEBANQ\"><span class=\"txtu hbo\">עַד־</span></a></div></div><div class=\"contnr c0 trm rtl  \" ><div class=\"lbl c0 trm \" ><span class=\"nd\">120598 </span> <a class=\" txtu hbo\" target=\"_blank\" href=\"https://shebanq.ancient-data.org/hebrew/word?version=2021&amp;id=1SLKHn\" title=\"Show this on SHEBANQ\"><span class=\"txtu hbo\">סַלְכָֽה׃ </span></a></div><div class=\"features\"><span class=\"st xft\" ><span class=\"f\">st=</span>a</span></div></div></div></div></div>"
      ],
      "text/plain": [
       "<IPython.core.display.HTML object>"
      ]
     },
     "metadata": {},
     "output_type": "display_data"
    },
    {
     "data": {
      "text/html": [
       "<p><b>result</b> <i>3</i>"
      ],
      "text/plain": [
       "<IPython.core.display.HTML object>"
      ]
     },
     "metadata": {},
     "output_type": "display_data"
    },
    {
     "data": {
      "text/html": [
       "<div class=\"tfsechead rtl\"><span class=\"ltr\"><a target=\"_blank\" href=\"https://shebanq.ancient-data.org/hebrew/text?book=Jeremia&amp;chapter=38&amp;verse=12&amp;version=2021&amp;mr=m&amp;qw=q&amp;tp=txt_p&amp;tr=hb&amp;wget=v&amp;qget=v&amp;nget=vt\" title=\"Show this on SHEBANQ\" sec=\"Jeremiah 38:12\">Jeremiah 38:12</a></span></div><div class=\"rtl children\"><div class=\"contnr c1  rtl  \" ><div class=\"lbl c1  \" ><span class=\"nd\">phrase:801726 </span> <span class=\"\"><span title=\"typ\">NP</span> <span title=\"function\">Objc</span></span></div><div class=\"children hor wrap rtl\"><div class=\"contnr c0 trm rtl  hl\"  style=\"background-color: lightgreen;\" ><div class=\"lbl c0 trm hl\"  style=\"background-color: lightgreen;\" ><span class=\"nd\">255930 </span> <a class=\" txtu hbo\" target=\"_blank\" href=\"https://shebanq.ancient-data.org/hebrew/word?version=2021&amp;id=1BLWJn\" title=\"Show this on SHEBANQ\"><span class=\"txtu hbo\">בְּלֹואֵ֨י </span></a></div><div class=\"features\"><span class=\"st xft\" ><span class=\"f\">st=</span>c</span></div></div><div class=\"contnr c0 trm rtl  hl\" ><div class=\"lbl c0 trm hl\" ><span class=\"nd\">255931 </span> <a class=\" txtu hbo\" target=\"_blank\" href=\"https://shebanq.ancient-data.org/hebrew/word?version=2021&amp;id=1H\" title=\"Show this on SHEBANQ\"><span class=\"txtu hbo\">הַ</span></a></div></div><div class=\"contnr c0 trm rtl  hl\"  style=\"background-color: pink;\" ><div class=\"lbl c0 trm hl\"  style=\"background-color: pink;\" ><span class=\"nd\">255932 </span> <a class=\" txtu hbo\" target=\"_blank\" href=\"https://shebanq.ancient-data.org/hebrew/word?version=2021&amp;id=1SXBWTn\" title=\"Show this on SHEBANQ\"><span class=\"txtu hbo\">סְּחָבֹ֤ות </span></a></div><div class=\"features\"><span class=\"st xft\" ><span class=\"f\">st=</span>a</span></div></div><div class=\"contnr c0 trm rtl  \" ><div class=\"lbl c0 trm \" ><span class=\"nd\">255933 </span> <a class=\" txtu hbo\" target=\"_blank\" href=\"https://shebanq.ancient-data.org/hebrew/word?version=2021&amp;id=1W\" title=\"Show this on SHEBANQ\"><span class=\"txtu hbo\">וְ</span></a></div></div><div class=\"contnr c0 trm rtl  \" ><div class=\"lbl c0 trm \" ><span class=\"nd\">255934 </span> <a class=\" txtu hbo\" target=\"_blank\" href=\"https://shebanq.ancient-data.org/hebrew/word?version=2021&amp;id=1H\" title=\"Show this on SHEBANQ\"><span class=\"txtu hbo\">הַ</span></a></div></div><div class=\"contnr c0 trm rtl  \" ><div class=\"lbl c0 trm \" ><span class=\"nd\">255935 </span> <a class=\" txtu hbo\" target=\"_blank\" href=\"https://shebanq.ancient-data.org/hebrew/word?version=2021&amp;id=1MLXiin\" title=\"Show this on SHEBANQ\"><span class=\"txtu hbo\">מְּלָחִים֙ </span></a></div><div class=\"features\"><span class=\"st xft\" ><span class=\"f\">st=</span>a</span></div></div></div></div></div>"
      ],
      "text/plain": [
       "<IPython.core.display.HTML object>"
      ]
     },
     "metadata": {},
     "output_type": "display_data"
    },
    {
     "data": {
      "text/html": [
       "<p><b>result</b> <i>4</i>"
      ],
      "text/plain": [
       "<IPython.core.display.HTML object>"
      ]
     },
     "metadata": {},
     "output_type": "display_data"
    },
    {
     "data": {
      "text/html": [
       "<div class=\"tfsechead rtl\"><span class=\"ltr\"><a target=\"_blank\" href=\"https://shebanq.ancient-data.org/hebrew/text?book=Genesis&amp;chapter=19&amp;verse=28&amp;version=2021&amp;mr=m&amp;qw=q&amp;tp=txt_p&amp;tr=hb&amp;wget=v&amp;qget=v&amp;nget=vt\" title=\"Show this on SHEBANQ\" sec=\"Genesis 19:28\">Genesis 19:28</a></span></div><div class=\"rtl children\"><div class=\"contnr c1  rtl  \" ><div class=\"lbl c1  \" ><span class=\"nd\">phrase:656733 </span> <span class=\"\"><span title=\"typ\">PP</span> <span title=\"function\">Cmpl</span></span></div><div class=\"children hor wrap rtl\"><div class=\"contnr c0 trm rtl  \" ><div class=\"lbl c0 trm \" ><span class=\"nd\">9005 </span> <a class=\" txtu hbo\" target=\"_blank\" href=\"https://shebanq.ancient-data.org/hebrew/word?version=2021&amp;id=1OL\" title=\"Show this on SHEBANQ\"><span class=\"txtu hbo\">עַל־</span></a></div></div><div class=\"contnr c0 trm rtl  \" ><div class=\"lbl c0 trm \" ><span class=\"nd\">9006 </span> <a class=\" txtu hbo\" target=\"_blank\" href=\"https://shebanq.ancient-data.org/hebrew/word?version=2021&amp;id=1PNHn\" title=\"Show this on SHEBANQ\"><span class=\"txtu hbo\">פְּנֵ֤י </span></a></div><div class=\"features\"><span class=\"st xft\" ><span class=\"f\">st=</span>c</span></div></div><div class=\"contnr c0 trm rtl  \" ><div class=\"lbl c0 trm \" ><span class=\"nd\">9007 </span> <a class=\" txtu hbo\" target=\"_blank\" href=\"https://shebanq.ancient-data.org/hebrew/word?version=2021&amp;id=1SDMn\" title=\"Show this on SHEBANQ\"><span class=\"txtu hbo\">סְדֹם֙ </span></a></div><div class=\"features\"><span class=\"st xft\" ><span class=\"f\">st=</span>a</span></div></div><div class=\"contnr c0 trm rtl  \" ><div class=\"lbl c0 trm \" ><span class=\"nd\">9008 </span> <a class=\" txtu hbo\" target=\"_blank\" href=\"https://shebanq.ancient-data.org/hebrew/word?version=2021&amp;id=1W\" title=\"Show this on SHEBANQ\"><span class=\"txtu hbo\">וַ</span></a></div></div><div class=\"contnr c0 trm rtl  \" ><div class=\"lbl c0 trm \" ><span class=\"nd\">9009 </span> <a class=\" txtu hbo\" target=\"_blank\" href=\"https://shebanq.ancient-data.org/hebrew/word?version=2021&amp;id=1OMRHn\" title=\"Show this on SHEBANQ\"><span class=\"txtu hbo\">עֲמֹרָ֔ה </span></a></div><div class=\"features\"><span class=\"st xft\" ><span class=\"f\">st=</span>a</span></div></div><div class=\"contnr c0 trm rtl  \" ><div class=\"lbl c0 trm \" ><span class=\"nd\">9010 </span> <a class=\" txtu hbo\" target=\"_blank\" href=\"https://shebanq.ancient-data.org/hebrew/word?version=2021&amp;id=1W\" title=\"Show this on SHEBANQ\"><span class=\"txtu hbo\">וְ</span></a></div></div><div class=\"contnr c0 trm rtl  \" ><div class=\"lbl c0 trm \" ><span class=\"nd\">9011 </span> <a class=\" txtu hbo\" target=\"_blank\" href=\"https://shebanq.ancient-data.org/hebrew/word?version=2021&amp;id=1OL\" title=\"Show this on SHEBANQ\"><span class=\"txtu hbo\">עַֽל־</span></a></div></div><div class=\"contnr c0 trm rtl  \" ><div class=\"lbl c0 trm \" ><span class=\"nd\">9012 </span> <a class=\" txtu hbo\" target=\"_blank\" href=\"https://shebanq.ancient-data.org/hebrew/word?version=2021&amp;id=1KLn\" title=\"Show this on SHEBANQ\"><span class=\"txtu hbo\">כָּל־</span></a></div><div class=\"features\"><span class=\"st xft\" ><span class=\"f\">st=</span>c</span></div></div><div class=\"contnr c0 trm rtl  \" ><div class=\"lbl c0 trm \" ><span class=\"nd\">9013 </span> <a class=\" txtu hbo\" target=\"_blank\" href=\"https://shebanq.ancient-data.org/hebrew/word?version=2021&amp;id=1PNHn\" title=\"Show this on SHEBANQ\"><span class=\"txtu hbo\">פְּנֵ֖י </span></a></div><div class=\"features\"><span class=\"st xft\" ><span class=\"f\">st=</span>c</span></div></div><div class=\"contnr c0 trm rtl  hl\"  style=\"background-color: lightgreen;\" ><div class=\"lbl c0 trm hl\"  style=\"background-color: lightgreen;\" ><span class=\"nd\">9014 </span> <a class=\" txtu hbo\" target=\"_blank\" href=\"https://shebanq.ancient-data.org/hebrew/word?version=2021&amp;id=1ARYn\" title=\"Show this on SHEBANQ\"><span class=\"txtu hbo\">אֶ֣רֶץ </span></a></div><div class=\"features\"><span class=\"st xft\" ><span class=\"f\">st=</span>c</span></div></div><div class=\"contnr c0 trm rtl  hl\" ><div class=\"lbl c0 trm hl\" ><span class=\"nd\">9015 </span> <a class=\" txtu hbo\" target=\"_blank\" href=\"https://shebanq.ancient-data.org/hebrew/word?version=2021&amp;id=1H\" title=\"Show this on SHEBANQ\"><span class=\"txtu hbo\">הַ</span></a></div></div><div class=\"contnr c0 trm rtl  hl\"  style=\"background-color: pink;\" ><div class=\"lbl c0 trm hl\"  style=\"background-color: pink;\" ><span class=\"nd\">9016 </span> <a class=\" txtu hbo\" target=\"_blank\" href=\"https://shebanq.ancient-data.org/hebrew/word?version=2021&amp;id=1KKRn\" title=\"Show this on SHEBANQ\"><span class=\"txtu hbo\">כִּכָּ֑ר </span></a></div><div class=\"features\"><span class=\"st xft\" ><span class=\"f\">st=</span>a</span></div></div></div></div></div>"
      ],
      "text/plain": [
       "<IPython.core.display.HTML object>"
      ]
     },
     "metadata": {},
     "output_type": "display_data"
    },
    {
     "data": {
      "text/html": [
       "<p><b>result</b> <i>5</i>"
      ],
      "text/plain": [
       "<IPython.core.display.HTML object>"
      ]
     },
     "metadata": {},
     "output_type": "display_data"
    },
    {
     "data": {
      "text/html": [
       "<div class=\"tfsechead rtl\"><span class=\"ltr\"><a target=\"_blank\" href=\"https://shebanq.ancient-data.org/hebrew/text?book=Jesaia&amp;chapter=36&amp;verse=9&amp;version=2021&amp;mr=m&amp;qw=q&amp;tp=txt_p&amp;tr=hb&amp;wget=v&amp;qget=v&amp;nget=vt\" title=\"Show this on SHEBANQ\" sec=\"Isaiah 36:9\">Isaiah 36:9</a></span></div><div class=\"rtl children\"><div class=\"contnr c1  rtl  \" ><div class=\"lbl c1  \" ><span class=\"nd\">phrase:781499 </span> <span class=\"\"><span title=\"typ\">PP</span> <span title=\"function\">Objc</span></span></div><div class=\"children hor wrap rtl\"><div class=\"contnr c0 trm rtl  \" ><div class=\"lbl c0 trm \" ><span class=\"nd\">223938 </span> <a class=\" txtu hbo\" target=\"_blank\" href=\"https://shebanq.ancient-data.org/hebrew/word?version=2021&amp;id=1AT\" title=\"Show this on SHEBANQ\"><span class=\"txtu hbo\">אֵ֠ת </span></a></div></div><div class=\"contnr c0 trm rtl  \" ><div class=\"lbl c0 trm \" ><span class=\"nd\">223939 </span> <a class=\" txtu hbo\" target=\"_blank\" href=\"https://shebanq.ancient-data.org/hebrew/word?version=2021&amp;id=1PNHn\" title=\"Show this on SHEBANQ\"><span class=\"txtu hbo\">פְּנֵ֨י </span></a></div><div class=\"features\"><span class=\"st xft\" ><span class=\"f\">st=</span>c</span></div></div><div class=\"contnr c0 trm rtl  \" ><div class=\"lbl c0 trm \" ><span class=\"nd\">223940 </span> <a class=\" txtu hbo\" target=\"_blank\" href=\"https://shebanq.ancient-data.org/hebrew/word?version=2021&amp;id=1PXHn\" title=\"Show this on SHEBANQ\"><span class=\"txtu hbo\">פַחַ֥ת </span></a></div><div class=\"features\"><span class=\"st xft\" ><span class=\"f\">st=</span>c</span></div></div><div class=\"contnr c0 trm rtl  \" ><div class=\"lbl c0 trm \" ><span class=\"nd\">223941 </span> <a class=\" txtu hbo\" target=\"_blank\" href=\"https://shebanq.ancient-data.org/hebrew/word?version=2021&amp;id=1AXDn\" title=\"Show this on SHEBANQ\"><span class=\"txtu hbo\">אַחַ֛ד </span></a></div><div class=\"features\"><span class=\"st xft\" ><span class=\"f\">st=</span>c</span></div></div><div class=\"contnr c0 trm rtl  hl\"  style=\"background-color: lightgreen;\" ><div class=\"lbl c0 trm hl\"  style=\"background-color: lightgreen;\" ><span class=\"nd\">223942 </span> <a class=\" txtu hbo\" target=\"_blank\" href=\"https://shebanq.ancient-data.org/hebrew/word?version=2021&amp;id=1OBDn\" title=\"Show this on SHEBANQ\"><span class=\"txtu hbo\">עַבְדֵ֥י </span></a></div><div class=\"features\"><span class=\"st xft\" ><span class=\"f\">st=</span>c</span></div></div><div class=\"contnr c0 trm rtl  hl\"  style=\"background-color: pink;\" ><div class=\"lbl c0 trm hl\"  style=\"background-color: pink;\" ><span class=\"nd\">223943 </span> <a class=\" txtu hbo\" target=\"_blank\" href=\"https://shebanq.ancient-data.org/hebrew/word?version=2021&amp;id=1ADWNn\" title=\"Show this on SHEBANQ\"><span class=\"txtu hbo\">אֲדֹנִ֖י </span></a></div><div class=\"features\"><span class=\"st xft\" ><span class=\"f\">st=</span>a</span></div></div><div class=\"contnr c0 trm rtl  \" ><div class=\"lbl c0 trm \" ><span class=\"nd\">223944 </span> <a class=\" txtu hbo\" target=\"_blank\" href=\"https://shebanq.ancient-data.org/hebrew/word?version=2021&amp;id=1H\" title=\"Show this on SHEBANQ\"><span class=\"txtu hbo\">הַ</span></a></div></div><div class=\"contnr c0 trm rtl  \" ><div class=\"lbl c0 trm \" ><span class=\"nd\">223945 </span> <a class=\" txtu hbo\" target=\"_blank\" href=\"https://shebanq.ancient-data.org/hebrew/word?version=2021&amp;id=1QVNin\" title=\"Show this on SHEBANQ\"><span class=\"txtu hbo\">קְטַנִּ֑ים </span></a></div><div class=\"features\"><span class=\"st xft\" ><span class=\"f\">st=</span>a</span></div></div></div></div></div>"
      ],
      "text/plain": [
       "<IPython.core.display.HTML object>"
      ]
     },
     "metadata": {},
     "output_type": "display_data"
    },
    {
     "name": "stdout",
     "output_type": "stream",
     "text": [
      "\t\t\t\t...RESULTS CUT OFF AT 5...\n"
     ]
    }
   ],
   "source": [
    "cutoff = 5\n",
    "\n",
    "for i, res in enumerate(missing_atr_rec[:cutoff]):\n",
    "    subs = res[2]\n",
    "    atr = res[3] if len(res) == 4 else res[4]\n",
    "    highlights = {subs:'lightgreen', atr:'pink'}\n",
    "    A.prettyTuple(res, end=100, seq=i+1, highlights=highlights)\n",
    "\n",
    "print(f'\\t\\t\\t\\t...RESULTS CUT OFF AT {cutoff}...')"
   ]
  },
  {
   "cell_type": "markdown",
   "metadata": {},
   "source": [
    "For all of these cases, we add the second substantive (pink) into the `dwords` set:"
   ]
  },
  {
   "cell_type": "code",
   "execution_count": 102,
   "metadata": {},
   "outputs": [
    {
     "name": "stdout",
     "output_type": "stream",
     "text": [
      "79 words added to dwords...\n"
     ]
    }
   ],
   "source": [
    "dwordsadded = 0\n",
    "for res in missing_atr_rec:\n",
    "    dword = res[3] if len(res) == 4 else res[4]\n",
    "    dwords.add(dword)\n",
    "    dwordsadded += 1\n",
    "print(f'{dwordsadded} words added to dwords...')"
   ]
  },
  {
   "cell_type": "markdown",
   "metadata": {},
   "source": [
    "#### Coordinations with Modifying Term\n",
    "\n",
    "There remain multiple cases where the modifying words selected above have a coordinate word. We isolate those cases below and add them to `dwords`. "
   ]
  },
  {
   "cell_type": "code",
   "execution_count": 103,
   "metadata": {},
   "outputs": [
    {
     "name": "stdout",
     "output_type": "stream",
     "text": [
      "  0.70s 5 results\n",
      "  0.70s 13 results\n",
      "13 new dwords added to dword set...\n"
     ]
    }
   ],
   "source": [
    "par_dwords = A.search('''\n",
    "\n",
    "phrase\n",
    "    s1:subphrase\n",
    "    /without/\n",
    "        quant\n",
    "    /-/\n",
    "        =: dword\n",
    "    s2:subphrase rela=par\n",
    "        w:word pdp=subs|nmpr|adjv\n",
    "        /without/\n",
    "        subphrase rela=NA\n",
    "            w\n",
    "        /-/\n",
    "s1 <mother- s2\n",
    "\n",
    "''', sets={'dword':dwords, 'quant': quantifiers}) + A.search('''\n",
    "\n",
    "phrase\n",
    "    s1:subphrase\n",
    "    /without/\n",
    "        quant\n",
    "    /-/\n",
    "        := dword\n",
    "    s2:subphrase rela=par\n",
    "        w:word pdp=subs|nmpr|adjv\n",
    "        /without/\n",
    "        subphrase rela=NA\n",
    "            w\n",
    "        /-/\n",
    "s1 <mother- s2\n",
    "\n",
    "''', sets={'dword':dwords, 'quant': quantifiers})\n",
    "\n",
    "\n",
    "new_par_dwords = set()\n",
    "\n",
    "for res in par_dwords:    \n",
    "    newdword = res[4]\n",
    "    new_par_dwords.add(newdword)\n",
    "    dwords.add(newdword)\n",
    "    \n",
    "print(f'{len(new_par_dwords)} new dwords added to dword set...')"
   ]
  },
  {
   "cell_type": "code",
   "execution_count": 104,
   "metadata": {
    "collapsed": true,
    "jupyter": {
     "outputs_hidden": true
    },
    "tags": []
   },
   "outputs": [
    {
     "name": "stdout",
     "output_type": "stream",
     "text": [
      "  0.20s 1 result\n"
     ]
    },
    {
     "data": {
      "text/html": [
       "<p><b>result</b> <i>0</i>"
      ],
      "text/plain": [
       "<IPython.core.display.HTML object>"
      ]
     },
     "metadata": {},
     "output_type": "display_data"
    },
    {
     "data": {
      "text/html": [
       "<div class=\"tfsechead rtl\"><span class=\"ltr\"><a target=\"_blank\" href=\"https://shebanq.ancient-data.org/hebrew/text?book=Daniel&amp;chapter=3&amp;verse=23&amp;version=2021&amp;mr=m&amp;qw=q&amp;tp=txt_p&amp;tr=hb&amp;wget=v&amp;qget=v&amp;nget=vt\" title=\"Show this on SHEBANQ\" sec=\"Daniel 3:23\">Daniel 3:23</a></span></div><div class=\"rtl children\"><div class=\"contnr c1  rtl  \" ><div class=\"lbl c1  \" ><span class=\"nd\">phrase:877484 </span> <span class=\"\"><span title=\"typ\">NP</span> <span title=\"function\">Subj</span></span></div><div class=\"features\"><span class=\"number xft\" ><span class=\"f\">number=</span>2</span></div><div class=\"children hor wrap rtl\"><div class=\"contnr c0 trm rtl  \" ><div class=\"lbl c0 trm \" ><span class=\"nd\">372120 </span> <a class=\" txtu hbo\" target=\"_blank\" href=\"https://shebanq.ancient-data.org/hebrew/word?version=2021&amp;id=2GBRn\" title=\"Show this on SHEBANQ\"><span class=\"txtu hbo\">גֻבְרַיָּ֤א </span></a></div><div class=\"features\"><span class=\"number xft\" ><span class=\"f\">number=</span>2042</span><span class=\"st xft\" ><span class=\"f\">st=</span>e</span></div></div><div class=\"contnr c0 trm rtl  \" ><div class=\"lbl c0 trm \" ><span class=\"nd\">372121 </span> <a class=\" txtu hbo\" target=\"_blank\" href=\"https://shebanq.ancient-data.org/hebrew/word?version=2021&amp;id=2ALK\" title=\"Show this on SHEBANQ\"><span class=\"txtu hbo\">אִלֵּךְ֙ </span></a></div><div class=\"features\"><span class=\"number xft\" ><span class=\"f\">number=</span>2043</span></div></div><div class=\"contnr c0 trm rtl  \" ><div class=\"lbl c0 trm \" ><span class=\"nd\">372122 </span> <a class=\" txtu hbo\" target=\"_blank\" href=\"https://shebanq.ancient-data.org/hebrew/word?version=2021&amp;id=2TLTn\" title=\"Show this on SHEBANQ\"><span class=\"txtu hbo\">תְּלָ֣תֵּהֹ֔ון </span></a></div><div class=\"features\"><span class=\"number xft\" ><span class=\"f\">number=</span>2044</span><span class=\"st xft\" ><span class=\"f\">st=</span>a</span></div></div><div class=\"contnr c0 trm rtl  \" ><div class=\"lbl c0 trm \" ><span class=\"nd\">372123 </span> <a class=\" txtu hbo\" target=\"_blank\" href=\"https://shebanq.ancient-data.org/hebrew/word?version=2021&amp;id=2CDRKn\" title=\"Show this on SHEBANQ\"><span class=\"txtu hbo\">שַׁדְרַ֥ךְ </span></a></div><div class=\"features\"><span class=\"number xft\" ><span class=\"f\">number=</span>2045</span><span class=\"st xft\" ><span class=\"f\">st=</span>a</span></div></div><div class=\"contnr c0 trm rtl  \" ><div class=\"lbl c0 trm \" ><span class=\"nd\">372124 </span> <a class=\" txtu hbo\" target=\"_blank\" href=\"https://shebanq.ancient-data.org/hebrew/word?version=2021&amp;id=2MJCKn\" title=\"Show this on SHEBANQ\"><span class=\"txtu hbo\">מֵישַׁ֖ךְ </span></a></div><div class=\"features\"><span class=\"number xft\" ><span class=\"f\">number=</span>2046</span><span class=\"st xft\" ><span class=\"f\">st=</span>a</span></div></div><div class=\"contnr c0 trm rtl  \" ><div class=\"lbl c0 trm \" ><span class=\"nd\">372125 </span> <a class=\" txtu hbo\" target=\"_blank\" href=\"https://shebanq.ancient-data.org/hebrew/word?version=2021&amp;id=2W\" title=\"Show this on SHEBANQ\"><span class=\"txtu hbo\">וַ</span></a></div><div class=\"features\"><span class=\"number xft\" ><span class=\"f\">number=</span>2047</span></div></div><div class=\"contnr c0 trm rtl  \" ><div class=\"lbl c0 trm \" ><span class=\"nd\">372126 </span> <a class=\" txtu hbo\" target=\"_blank\" href=\"https://shebanq.ancient-data.org/hebrew/word?version=2021&amp;id=2OBD_NGWn\" title=\"Show this on SHEBANQ\"><span class=\"txtu hbo\">עֲבֵ֣ד נְגֹ֑ו </span></a></div><div class=\"features\"><span class=\"number xft\" ><span class=\"f\">number=</span>2048</span><span class=\"st xft\" ><span class=\"f\">st=</span>a</span></div></div></div></div></div>"
      ],
      "text/plain": [
       "<IPython.core.display.HTML object>"
      ]
     },
     "metadata": {},
     "output_type": "display_data"
    },
    {
     "name": "stdout",
     "output_type": "stream",
     "text": [
      "subphrase relations:\n",
      "-------1395339----------------\n",
      "\n",
      "גֻבְרַיָּ֤א  -NA-> \n",
      "nodes:  1395339 -NA-> \n",
      "slots:  (372120,) -NA-> ()\n",
      "------------------------------\n",
      "-------1395340----------------\n",
      "\n",
      "אִלֵּךְ֙  -dem-> גֻבְרַיָּ֤א \n",
      "nodes:  1395340 -dem-> 1395339\n",
      "slots:  (372121,) -dem-> (372120,)\n",
      "------------------------------\n",
      "-------1395341----------------\n",
      "\n",
      "שַׁדְרַ֥ךְ  -NA-> \n",
      "nodes:  1395341 -NA-> \n",
      "slots:  (372123,) -NA-> ()\n",
      "------------------------------\n",
      "-------1395342----------------\n",
      "\n",
      "מֵישַׁ֖ךְ  -par-> שַׁדְרַ֥ךְ \n",
      "nodes:  1395342 -par-> 1395341\n",
      "slots:  (372124,) -par-> (372123,)\n",
      "------------------------------\n",
      "-------1395343----------------\n",
      "\n",
      "מֵישַׁ֖ךְ  -NA-> \n",
      "nodes:  1395343 -NA-> \n",
      "slots:  (372124,) -NA-> ()\n",
      "------------------------------\n",
      "-------1395344----------------\n",
      "\n",
      "עֲבֵ֣ד נְגֹ֑ו  -par-> מֵישַׁ֖ךְ \n",
      "nodes:  1395344 -par-> 1395343\n",
      "slots:  (372126,) -par-> (372124,)\n",
      "------------------------------\n",
      "  0.20s 1 result\n"
     ]
    },
    {
     "data": {
      "text/html": [
       "<p><b>result</b> <i>0</i>"
      ],
      "text/plain": [
       "<IPython.core.display.HTML object>"
      ]
     },
     "metadata": {},
     "output_type": "display_data"
    },
    {
     "data": {
      "text/html": [
       "<div class=\"tfsechead rtl\"><span class=\"ltr\"><a target=\"_blank\" href=\"https://shebanq.ancient-data.org/hebrew/text?book=Daniel&amp;chapter=9&amp;verse=25&amp;version=2021&amp;mr=m&amp;qw=q&amp;tp=txt_p&amp;tr=hb&amp;wget=v&amp;qget=v&amp;nget=vt\" title=\"Show this on SHEBANQ\" sec=\"Daniel 9:25\">Daniel 9:25</a></span></div><div class=\"rtl children\"><div class=\"contnr c1  rtl  \" ><div class=\"lbl c1  \" ><span class=\"nd\">phrase:880205 </span> <span class=\"\"><span title=\"typ\">NP</span> <span title=\"function\">Time</span></span></div><div class=\"features\"><span class=\"number xft\" ><span class=\"f\">number=</span>2</span></div><div class=\"children hor wrap rtl\"><div class=\"contnr c0 trm rtl  \" ><div class=\"lbl c0 trm \" ><span class=\"nd\">376363 </span> <a class=\" txtu hbo\" target=\"_blank\" href=\"https://shebanq.ancient-data.org/hebrew/word?version=2021&amp;id=1CBWOn\" title=\"Show this on SHEBANQ\"><span class=\"txtu hbo\">שָׁבֻעִ֞ים </span></a></div><div class=\"features\"><span class=\"number xft\" ><span class=\"f\">number=</span>6285</span><span class=\"st xft\" ><span class=\"f\">st=</span>a</span></div></div><div class=\"contnr c0 trm rtl  \" ><div class=\"lbl c0 trm \" ><span class=\"nd\">376364 </span> <a class=\" txtu hbo\" target=\"_blank\" href=\"https://shebanq.ancient-data.org/hebrew/word?version=2021&amp;id=1CCn\" title=\"Show this on SHEBANQ\"><span class=\"txtu hbo\">שִׁשִּׁ֣ים </span></a></div><div class=\"features\"><span class=\"number xft\" ><span class=\"f\">number=</span>6286</span><span class=\"st xft\" ><span class=\"f\">st=</span>a</span></div></div><div class=\"contnr c0 trm rtl  \" ><div class=\"lbl c0 trm \" ><span class=\"nd\">376365 </span> <a class=\" txtu hbo\" target=\"_blank\" href=\"https://shebanq.ancient-data.org/hebrew/word?version=2021&amp;id=1W\" title=\"Show this on SHEBANQ\"><span class=\"txtu hbo\">וּ</span></a></div><div class=\"features\"><span class=\"number xft\" ><span class=\"f\">number=</span>6287</span></div></div><div class=\"contnr c0 trm rtl  \" ><div class=\"lbl c0 trm \" ><span class=\"nd\">376366 </span> <a class=\" txtu hbo\" target=\"_blank\" href=\"https://shebanq.ancient-data.org/hebrew/word?version=2021&amp;id=1CNJMn\" title=\"Show this on SHEBANQ\"><span class=\"txtu hbo\">שְׁנַ֗יִם </span></a></div><div class=\"features\"><span class=\"number xft\" ><span class=\"f\">number=</span>6288</span><span class=\"st xft\" ><span class=\"f\">st=</span>a</span></div></div></div></div></div>"
      ],
      "text/plain": [
       "<IPython.core.display.HTML object>"
      ]
     },
     "metadata": {},
     "output_type": "display_data"
    },
    {
     "name": "stdout",
     "output_type": "stream",
     "text": [
      "subphrase relations:\n",
      "-------1396409----------------\n",
      "\n",
      "שָׁבֻעִ֞ים שִׁשִּׁ֣ים  -NA-> \n",
      "nodes:  1396409 -NA-> \n",
      "slots:  (376363, 376364) -NA-> ()\n",
      "------------------------------\n",
      "-------1396407----------------\n",
      "\n",
      "שָׁבֻעִ֞ים  -NA-> \n",
      "nodes:  1396407 -NA-> \n",
      "slots:  (376363,) -NA-> ()\n",
      "------------------------------\n",
      "-------1396408----------------\n",
      "\n",
      "שִׁשִּׁ֣ים  -par-> שָׁבֻעִ֞ים \n",
      "nodes:  1396408 -par-> 1396407\n",
      "slots:  (376364,) -par-> (376363,)\n",
      "------------------------------\n",
      "-------1396410----------------\n",
      "\n",
      "שְׁנַ֗יִם  -par-> שָׁבֻעִ֞ים שִׁשִּׁ֣ים \n",
      "nodes:  1396410 -par-> 1396409\n",
      "slots:  (376366,) -par-> (376363, 376364)\n",
      "------------------------------\n",
      "  0.21s 1 result\n"
     ]
    },
    {
     "data": {
      "text/html": [
       "<p><b>result</b> <i>0</i>"
      ],
      "text/plain": [
       "<IPython.core.display.HTML object>"
      ]
     },
     "metadata": {},
     "output_type": "display_data"
    },
    {
     "data": {
      "text/html": [
       "<div class=\"tfsechead rtl\"><span class=\"ltr\"><a target=\"_blank\" href=\"https://shebanq.ancient-data.org/hebrew/text?book=Esra&amp;chapter=1&amp;verse=9&amp;version=2021&amp;mr=m&amp;qw=q&amp;tp=txt_p&amp;tr=hb&amp;wget=v&amp;qget=v&amp;nget=vt\" title=\"Show this on SHEBANQ\" sec=\"Ezra 1:9\">Ezra 1:9</a></span></div><div class=\"rtl children\"><div class=\"contnr c1  rtl  \" ><div class=\"lbl c1  \" ><span class=\"nd\">phrase:881432 </span> <span class=\"\"><span title=\"typ\">NP</span> <span title=\"function\">PreC</span></span></div><div class=\"features\"><span class=\"number xft\" ><span class=\"f\">number=</span>1</span></div><div class=\"children hor wrap rtl\"><div class=\"contnr c0 trm rtl  \" ><div class=\"lbl c0 trm \" ><span class=\"nd\">378383 </span> <a class=\" txtu hbo\" target=\"_blank\" href=\"https://shebanq.ancient-data.org/hebrew/word?version=2021&amp;id=1MXLPn\" title=\"Show this on SHEBANQ\"><span class=\"txtu hbo\">מַחֲלָפִ֖ים </span></a></div><div class=\"features\"><span class=\"number xft\" ><span class=\"f\">number=</span>233</span><span class=\"st xft\" ><span class=\"f\">st=</span>a</span></div></div><div class=\"contnr c0 trm rtl  \" ><div class=\"lbl c0 trm \" ><span class=\"nd\">378384 </span> <a class=\" txtu hbo\" target=\"_blank\" href=\"https://shebanq.ancient-data.org/hebrew/word?version=2021&amp;id=1TCOn\" title=\"Show this on SHEBANQ\"><span class=\"txtu hbo\">תִּשְׁעָ֥ה </span></a></div><div class=\"features\"><span class=\"number xft\" ><span class=\"f\">number=</span>234</span><span class=\"st xft\" ><span class=\"f\">st=</span>a</span></div></div><div class=\"contnr c0 trm rtl  \" ><div class=\"lbl c0 trm \" ><span class=\"nd\">378385 </span> <a class=\" txtu hbo\" target=\"_blank\" href=\"https://shebanq.ancient-data.org/hebrew/word?version=2021&amp;id=1W\" title=\"Show this on SHEBANQ\"><span class=\"txtu hbo\">וְ</span></a></div><div class=\"features\"><span class=\"number xft\" ><span class=\"f\">number=</span>235</span></div></div><div class=\"contnr c0 trm rtl  \" ><div class=\"lbl c0 trm \" ><span class=\"nd\">378386 </span> <a class=\" txtu hbo\" target=\"_blank\" href=\"https://shebanq.ancient-data.org/hebrew/word?version=2021&amp;id=1OFRJMn\" title=\"Show this on SHEBANQ\"><span class=\"txtu hbo\">עֶשְׂרִֽים׃ ס </span></a></div><div class=\"features\"><span class=\"number xft\" ><span class=\"f\">number=</span>236</span><span class=\"st xft\" ><span class=\"f\">st=</span>a</span></div></div></div></div></div>"
      ],
      "text/plain": [
       "<IPython.core.display.HTML object>"
      ]
     },
     "metadata": {},
     "output_type": "display_data"
    },
    {
     "name": "stdout",
     "output_type": "stream",
     "text": [
      "subphrase relations:\n",
      "-------1396959----------------\n",
      "\n",
      "מַחֲלָפִ֖ים תִּשְׁעָ֥ה  -NA-> \n",
      "nodes:  1396959 -NA-> \n",
      "slots:  (378383, 378384) -NA-> ()\n",
      "------------------------------\n",
      "-------1396957----------------\n",
      "\n",
      "מַחֲלָפִ֖ים  -NA-> \n",
      "nodes:  1396957 -NA-> \n",
      "slots:  (378383,) -NA-> ()\n",
      "------------------------------\n",
      "-------1396958----------------\n",
      "\n",
      "תִּשְׁעָ֥ה  -par-> מַחֲלָפִ֖ים \n",
      "nodes:  1396958 -par-> 1396957\n",
      "slots:  (378384,) -par-> (378383,)\n",
      "------------------------------\n",
      "-------1396960----------------\n",
      "\n",
      "עֶשְׂרִֽים׃ ס  -par-> מַחֲלָפִ֖ים תִּשְׁעָ֥ה \n",
      "nodes:  1396960 -par-> 1396959\n",
      "slots:  (378386,) -par-> (378383, 378384)\n",
      "------------------------------\n",
      "  0.21s 1 result\n"
     ]
    },
    {
     "data": {
      "text/html": [
       "<p><b>result</b> <i>0</i>"
      ],
      "text/plain": [
       "<IPython.core.display.HTML object>"
      ]
     },
     "metadata": {},
     "output_type": "display_data"
    },
    {
     "data": {
      "text/html": [
       "<div class=\"tfsechead rtl\"><span class=\"ltr\"><a target=\"_blank\" href=\"https://shebanq.ancient-data.org/hebrew/text?book=Esra&amp;chapter=1&amp;verse=10&amp;version=2021&amp;mr=m&amp;qw=q&amp;tp=txt_p&amp;tr=hb&amp;wget=v&amp;qget=v&amp;nget=vt\" title=\"Show this on SHEBANQ\" sec=\"Ezra 1:10\">Ezra 1:10</a></span></div><div class=\"rtl children\"><div class=\"contnr c1  rtl  \" ><div class=\"lbl c1  \" ><span class=\"nd\">phrase:881435 </span> <span class=\"\"><span title=\"typ\">NP</span> <span title=\"function\">PreC</span></span></div><div class=\"features\"><span class=\"number xft\" ><span class=\"f\">number=</span>1</span></div><div class=\"children hor wrap rtl\"><div class=\"contnr c0 trm rtl  \" ><div class=\"lbl c0 trm \" ><span class=\"nd\">378397 </span> <a class=\" txtu hbo\" target=\"_blank\" href=\"https://shebanq.ancient-data.org/hebrew/word?version=2021&amp;id=1KLJn\" title=\"Show this on SHEBANQ\"><span class=\"txtu hbo\">כֵּלִ֥ים </span></a></div><div class=\"features\"><span class=\"number xft\" ><span class=\"f\">number=</span>247</span><span class=\"st xft\" ><span class=\"f\">st=</span>a</span></div></div><div class=\"contnr c0 trm rtl  \" ><div class=\"lbl c0 trm \" ><span class=\"nd\">378398 </span> <a class=\" txtu hbo\" target=\"_blank\" href=\"https://shebanq.ancient-data.org/hebrew/word?version=2021&amp;id=1AXRin\" title=\"Show this on SHEBANQ\"><span class=\"txtu hbo\">אֲחֵרִ֖ים </span></a></div><div class=\"features\"><span class=\"number xft\" ><span class=\"f\">number=</span>248</span><span class=\"st xft\" ><span class=\"f\">st=</span>a</span></div></div><div class=\"contnr c0 trm rtl  \" ><div class=\"lbl c0 trm \" ><span class=\"nd\">378399 </span> <a class=\" txtu hbo\" target=\"_blank\" href=\"https://shebanq.ancient-data.org/hebrew/word?version=2021&amp;id=1ALPin\" title=\"Show this on SHEBANQ\"><span class=\"txtu hbo\">אָֽלֶף׃ ס </span></a></div><div class=\"features\"><span class=\"number xft\" ><span class=\"f\">number=</span>249</span><span class=\"st xft\" ><span class=\"f\">st=</span>a</span></div></div></div></div></div>"
      ],
      "text/plain": [
       "<IPython.core.display.HTML object>"
      ]
     },
     "metadata": {},
     "output_type": "display_data"
    },
    {
     "name": "stdout",
     "output_type": "stream",
     "text": [
      "subphrase relations:\n",
      "-------1396975----------------\n",
      "\n",
      "כֵּלִ֥ים  -NA-> \n",
      "nodes:  1396975 -NA-> \n",
      "slots:  (378397,) -NA-> ()\n",
      "------------------------------\n",
      "-------1396976----------------\n",
      "\n",
      "אֲחֵרִ֖ים  -atr-> כֵּלִ֥ים \n",
      "nodes:  1396976 -atr-> 1396975\n",
      "slots:  (378398,) -atr-> (378397,)\n",
      "------------------------------\n",
      "  0.21s 1 result\n"
     ]
    },
    {
     "data": {
      "text/html": [
       "<p><b>result</b> <i>0</i>"
      ],
      "text/plain": [
       "<IPython.core.display.HTML object>"
      ]
     },
     "metadata": {},
     "output_type": "display_data"
    },
    {
     "data": {
      "text/html": [
       "<div class=\"tfsechead rtl\"><span class=\"ltr\"><a target=\"_blank\" href=\"https://shebanq.ancient-data.org/hebrew/text?book=Esra&amp;chapter=8&amp;verse=20&amp;version=2021&amp;mr=m&amp;qw=q&amp;tp=txt_p&amp;tr=hb&amp;wget=v&amp;qget=v&amp;nget=vt\" title=\"Show this on SHEBANQ\" sec=\"Ezra 8:20\">Ezra 8:20</a></span></div><div class=\"rtl children\"><div class=\"contnr c1  rtl  \" ><div class=\"lbl c1  \" ><span class=\"nd\">phrase:883016 </span> <span class=\"\"><span title=\"typ\">NP</span> <span title=\"function\">Objc</span></span></div><div class=\"features\"><span class=\"number xft\" ><span class=\"f\">number=</span>3</span></div><div class=\"children hor wrap rtl\"><div class=\"contnr c0 trm rtl  \" ><div class=\"lbl c0 trm \" ><span class=\"nd\">381874 </span> <a class=\" txtu hbo\" target=\"_blank\" href=\"https://shebanq.ancient-data.org/hebrew/word?version=2021&amp;id=1NTJNn\" title=\"Show this on SHEBANQ\"><span class=\"txtu hbo\">נְתִינִ֖ים </span></a></div><div class=\"features\"><span class=\"number xft\" ><span class=\"f\">number=</span>3724</span><span class=\"st xft\" ><span class=\"f\">st=</span>a</span></div></div><div class=\"contnr c0 trm rtl  \" ><div class=\"lbl c0 trm \" ><span class=\"nd\">381875 </span> <a class=\" txtu hbo\" target=\"_blank\" href=\"https://shebanq.ancient-data.org/hebrew/word?version=2021&amp;id=1MAHn\" title=\"Show this on SHEBANQ\"><span class=\"txtu hbo\">מָאתַ֣יִם </span></a></div><div class=\"features\"><span class=\"number xft\" ><span class=\"f\">number=</span>3725</span><span class=\"st xft\" ><span class=\"f\">st=</span>a</span></div></div><div class=\"contnr c0 trm rtl  \" ><div class=\"lbl c0 trm \" ><span class=\"nd\">381876 </span> <a class=\" txtu hbo\" target=\"_blank\" href=\"https://shebanq.ancient-data.org/hebrew/word?version=2021&amp;id=1W\" title=\"Show this on SHEBANQ\"><span class=\"txtu hbo\">וְ</span></a></div><div class=\"features\"><span class=\"number xft\" ><span class=\"f\">number=</span>3726</span></div></div><div class=\"contnr c0 trm rtl  \" ><div class=\"lbl c0 trm \" ><span class=\"nd\">381877 </span> <a class=\" txtu hbo\" target=\"_blank\" href=\"https://shebanq.ancient-data.org/hebrew/word?version=2021&amp;id=1OFRJMn\" title=\"Show this on SHEBANQ\"><span class=\"txtu hbo\">עֶשְׂרִ֑ים </span></a></div><div class=\"features\"><span class=\"number xft\" ><span class=\"f\">number=</span>3727</span><span class=\"st xft\" ><span class=\"f\">st=</span>a</span></div></div></div></div></div>"
      ],
      "text/plain": [
       "<IPython.core.display.HTML object>"
      ]
     },
     "metadata": {},
     "output_type": "display_data"
    },
    {
     "name": "stdout",
     "output_type": "stream",
     "text": [
      "subphrase relations:\n",
      "-------1398659----------------\n",
      "\n",
      "נְתִינִ֖ים  -NA-> \n",
      "nodes:  1398659 -NA-> \n",
      "slots:  (381874,) -NA-> ()\n",
      "------------------------------\n",
      "-------1398660----------------\n",
      "\n",
      "מָאתַ֣יִם  -par-> נְתִינִ֖ים \n",
      "nodes:  1398660 -par-> 1398659\n",
      "slots:  (381875,) -par-> (381874,)\n",
      "------------------------------\n",
      "-------1398661----------------\n",
      "\n",
      "מָאתַ֣יִם  -NA-> \n",
      "nodes:  1398661 -NA-> \n",
      "slots:  (381875,) -NA-> ()\n",
      "------------------------------\n",
      "-------1398662----------------\n",
      "\n",
      "עֶשְׂרִ֑ים  -par-> מָאתַ֣יִם \n",
      "nodes:  1398662 -par-> 1398661\n",
      "slots:  (381877,) -par-> (381875,)\n",
      "------------------------------\n",
      "  0.21s 1 result\n"
     ]
    },
    {
     "data": {
      "text/html": [
       "<p><b>result</b> <i>0</i>"
      ],
      "text/plain": [
       "<IPython.core.display.HTML object>"
      ]
     },
     "metadata": {},
     "output_type": "display_data"
    },
    {
     "data": {
      "text/html": [
       "<div class=\"tfsechead rtl\"><span class=\"ltr\"><a target=\"_blank\" href=\"https://shebanq.ancient-data.org/hebrew/text?book=Chronica_I&amp;chapter=12&amp;verse=29&amp;version=2021&amp;mr=m&amp;qw=q&amp;tp=txt_p&amp;tr=hb&amp;wget=v&amp;qget=v&amp;nget=vt\" title=\"Show this on SHEBANQ\" sec=\"1_Chronicles 12:29\">1_Chronicles 12:29</a></span></div><div class=\"rtl children\"><div class=\"contnr c1  rtl  \" ><div class=\"lbl c1  \" ><span class=\"nd\">phrase:890418 </span> <span class=\"\"><span title=\"typ\">NP</span> <span title=\"function\">PreC</span></span></div><div class=\"features\"><span class=\"number xft\" ><span class=\"f\">number=</span>3</span></div><div class=\"children hor wrap rtl\"><div class=\"contnr c0 trm rtl  \" ><div class=\"lbl c0 trm \" ><span class=\"nd\">398213 </span> <a class=\" txtu hbo\" target=\"_blank\" href=\"https://shebanq.ancient-data.org/hebrew/word?version=2021&amp;id=1GBWRn\" title=\"Show this on SHEBANQ\"><span class=\"txtu hbo\">גִּבֹּ֣ור </span></a></div><div class=\"features\"><span class=\"number xft\" ><span class=\"f\">number=</span>6953</span><span class=\"st xft\" ><span class=\"f\">st=</span>c</span></div></div><div class=\"contnr c0 trm rtl  \" ><div class=\"lbl c0 trm \" ><span class=\"nd\">398214 </span> <a class=\" txtu hbo\" target=\"_blank\" href=\"https://shebanq.ancient-data.org/hebrew/word?version=2021&amp;id=1XJLn\" title=\"Show this on SHEBANQ\"><span class=\"txtu hbo\">חָ֑יִל </span></a></div><div class=\"features\"><span class=\"number xft\" ><span class=\"f\">number=</span>6954</span><span class=\"st xft\" ><span class=\"f\">st=</span>a</span></div></div></div></div></div>"
      ],
      "text/plain": [
       "<IPython.core.display.HTML object>"
      ]
     },
     "metadata": {},
     "output_type": "display_data"
    },
    {
     "name": "stdout",
     "output_type": "stream",
     "text": [
      "subphrase relations:\n",
      "-------1405387----------------\n",
      "\n",
      "גִּבֹּ֣ור  -NA-> \n",
      "nodes:  1405387 -NA-> \n",
      "slots:  (398213,) -NA-> ()\n",
      "------------------------------\n",
      "-------1405388----------------\n",
      "\n",
      "חָ֑יִל  -rec-> גִּבֹּ֣ור \n",
      "nodes:  1405388 -rec-> 398213\n",
      "slots:  (398214,) -rec-> ()\n",
      "------------------------------\n"
     ]
    }
   ],
   "source": [
    "phrases_to_patch = []\n",
    "\n",
    "# book, chapter, verse, clause_atom number, phrase number\n",
    "missing_quant_relas = [('Daniel', 3, 23, 444, 2),\n",
    "                       ('Daniel', 9, 25, 1423, 2),\n",
    "                       ('Ezra', 1, 9, 39, 1),\n",
    "                       ('Ezra', 1, 10, 42, 1),\n",
    "                       ('Ezra', 8, 20, 621, 3),\n",
    "                       ('1_Chronicles', 12, 29, 1071, 3)]\n",
    "\n",
    "for book, chapter, verse, clat_nu, phrase_nu  in missing_quant_relas:\n",
    "    findit = f'''    \n",
    "    book book@en={book}\n",
    "        chapter chapter={chapter}\n",
    "            verse verse={verse}\n",
    "                clause_atom number={clat_nu}\n",
    "                    phrase number={phrase_nu}\n",
    "    '''\n",
    "    phrase = A.search(textwrap.dedent(findit))[0][4]\n",
    "    \n",
    "    A.prettyTuple((phrase,), seq=0)\n",
    "    print('subphrase relations:')\n",
    "    show_subphrases(phrase)\n",
    "        \n",
    "    phrases_to_patch.append(phrase)"
   ]
  },
  {
   "cell_type": "markdown",
   "metadata": {},
   "source": [
    "Perhaps it is significant that all of these examples come from the same cluster of books: Daniel, Ezra, and 1 Chronicles. This may indicate that the individual who encoded these texts did not understand the standard for relations of quantification in the ETCBC database. These are all cases that a `BHSA2` should address. For now, it is fair to correct them manually by removing all quantifiers selected as heads from these phrses.\n",
    "\n",
    "The template below is tuned to pick out these examples: primarily they are cases where a phrase atom contains a quantified substantive, and this substantive has no dependent subphrase relations. Two additional checks are made with `/or/` to cover the peculiar cases of Ezra 1:20 (כלים אחרים אלף, i.e. adjv intervenes between quantifier) and Daniel 3:23 (גבריא אלך תלתהן, i.e. where a demonstrative intervenes)."
   ]
  },
  {
   "cell_type": "code",
   "execution_count": 105,
   "metadata": {},
   "outputs": [
    {
     "name": "stdout",
     "output_type": "stream",
     "text": [
      "  1.02s 25 results\n"
     ]
    }
   ],
   "source": [
    "non_rela_cardinals = A.search('''\n",
    "phrase\n",
    "    phrase_atom\n",
    "        \n",
    "        w1:word ls=card\n",
    "        \n",
    "        /without/\n",
    "        subphrase rela=atr|adj|rec\n",
    "            w1\n",
    "        /-/\n",
    "        /with/\n",
    "        phrase_atom\n",
    "            nonquantprep pdp=subs|nmpr\n",
    "            <: word ls=card prs=absent\n",
    "            < w1 prs=absent\n",
    "        /or/\n",
    "        phrase_atom\n",
    "            nonquantprep pdp=subs|nmpr\n",
    "            <: word pdp=prde\n",
    "            <: w1\n",
    "        /or/\n",
    "        phrase_atom\n",
    "            nonquantprep pdp=subs|nmpr\n",
    "            <: word pdp=adjv\n",
    "            < w1 prs=absent\n",
    "        /-/\n",
    "        \n",
    "''', sets=sets)"
   ]
  },
  {
   "cell_type": "code",
   "execution_count": 106,
   "metadata": {
    "collapsed": true,
    "jupyter": {
     "outputs_hidden": true
    },
    "tags": []
   },
   "outputs": [
    {
     "data": {
      "text/html": [
       "<p><b>result</b> <i>1</i>"
      ],
      "text/plain": [
       "<IPython.core.display.HTML object>"
      ]
     },
     "metadata": {},
     "output_type": "display_data"
    },
    {
     "data": {
      "text/html": [
       "<div class=\"tfsechead rtl\"><span class=\"ltr\"><a target=\"_blank\" href=\"https://shebanq.ancient-data.org/hebrew/text?book=Daniel&amp;chapter=3&amp;verse=23&amp;version=2021&amp;mr=m&amp;qw=q&amp;tp=txt_p&amp;tr=hb&amp;wget=v&amp;qget=v&amp;nget=vt\" title=\"Show this on SHEBANQ\" sec=\"Daniel 3:23\">Daniel 3:23</a></span></div><div class=\"rtl children\"><div class=\"contnr c1  rtl  \" ><div class=\"lbl c1  \" ><span class=\"nd\">phrase:877484 </span> <span class=\"\"><span title=\"typ\">NP</span> <span title=\"function\">Subj</span></span></div><div class=\"children hor wrap rtl\"><div class=\"contnr c0 trm rtl  \" ><div class=\"lbl c0 trm \" ><span class=\"nd\">372120 </span> <a class=\" txtu hbo\" target=\"_blank\" href=\"https://shebanq.ancient-data.org/hebrew/word?version=2021&amp;id=2GBRn\" title=\"Show this on SHEBANQ\"><span class=\"txtu hbo\">גֻבְרַיָּ֤א </span></a></div><div class=\"features\"><span class=\"st xft\" ><span class=\"f\">st=</span>e</span></div></div><div class=\"contnr c0 trm rtl  \" ><div class=\"lbl c0 trm \" ><span class=\"nd\">372121 </span> <a class=\" txtu hbo\" target=\"_blank\" href=\"https://shebanq.ancient-data.org/hebrew/word?version=2021&amp;id=2ALK\" title=\"Show this on SHEBANQ\"><span class=\"txtu hbo\">אִלֵּךְ֙ </span></a></div></div><div class=\"contnr c0 trm rtl  hl\" ><div class=\"lbl c0 trm hl\" ><span class=\"nd\">372122 </span> <a class=\" txtu hbo\" target=\"_blank\" href=\"https://shebanq.ancient-data.org/hebrew/word?version=2021&amp;id=2TLTn\" title=\"Show this on SHEBANQ\"><span class=\"txtu hbo\">תְּלָ֣תֵּהֹ֔ון </span></a></div><div class=\"features\"><span class=\"ls xft\" ><span class=\"f\">ls=</span>card</span><span class=\"st xft\" ><span class=\"f\">st=</span>a</span></div></div><div class=\"contnr c0 trm rtl  \" ><div class=\"lbl c0 trm \" ><span class=\"nd\">372123 </span> <a class=\" txtu hbo\" target=\"_blank\" href=\"https://shebanq.ancient-data.org/hebrew/word?version=2021&amp;id=2CDRKn\" title=\"Show this on SHEBANQ\"><span class=\"txtu hbo\">שַׁדְרַ֥ךְ </span></a></div><div class=\"features\"><span class=\"st xft\" ><span class=\"f\">st=</span>a</span></div></div><div class=\"contnr c0 trm rtl  \" ><div class=\"lbl c0 trm \" ><span class=\"nd\">372124 </span> <a class=\" txtu hbo\" target=\"_blank\" href=\"https://shebanq.ancient-data.org/hebrew/word?version=2021&amp;id=2MJCKn\" title=\"Show this on SHEBANQ\"><span class=\"txtu hbo\">מֵישַׁ֖ךְ </span></a></div><div class=\"features\"><span class=\"st xft\" ><span class=\"f\">st=</span>a</span></div></div><div class=\"contnr c0 trm rtl  \" ><div class=\"lbl c0 trm \" ><span class=\"nd\">372125 </span> <a class=\" txtu hbo\" target=\"_blank\" href=\"https://shebanq.ancient-data.org/hebrew/word?version=2021&amp;id=2W\" title=\"Show this on SHEBANQ\"><span class=\"txtu hbo\">וַ</span></a></div></div><div class=\"contnr c0 trm rtl  \" ><div class=\"lbl c0 trm \" ><span class=\"nd\">372126 </span> <a class=\" txtu hbo\" target=\"_blank\" href=\"https://shebanq.ancient-data.org/hebrew/word?version=2021&amp;id=2OBD_NGWn\" title=\"Show this on SHEBANQ\"><span class=\"txtu hbo\">עֲבֵ֣ד נְגֹ֑ו </span></a></div><div class=\"features\"><span class=\"st xft\" ><span class=\"f\">st=</span>a</span></div></div></div></div></div>"
      ],
      "text/plain": [
       "<IPython.core.display.HTML object>"
      ]
     },
     "metadata": {},
     "output_type": "display_data"
    },
    {
     "data": {
      "text/html": [
       "<p><b>result</b> <i>2</i>"
      ],
      "text/plain": [
       "<IPython.core.display.HTML object>"
      ]
     },
     "metadata": {},
     "output_type": "display_data"
    },
    {
     "data": {
      "text/html": [
       "<div class=\"tfsechead rtl\"><span class=\"ltr\"><a target=\"_blank\" href=\"https://shebanq.ancient-data.org/hebrew/text?book=Daniel&amp;chapter=9&amp;verse=25&amp;version=2021&amp;mr=m&amp;qw=q&amp;tp=txt_p&amp;tr=hb&amp;wget=v&amp;qget=v&amp;nget=vt\" title=\"Show this on SHEBANQ\" sec=\"Daniel 9:25\">Daniel 9:25</a></span></div><div class=\"rtl children\"><div class=\"contnr c1  rtl  \" ><div class=\"lbl c1  \" ><span class=\"nd\">phrase:880205 </span> <span class=\"\"><span title=\"typ\">NP</span> <span title=\"function\">Time</span></span></div><div class=\"children hor wrap rtl\"><div class=\"contnr c0 trm rtl  \" ><div class=\"lbl c0 trm \" ><span class=\"nd\">376363 </span> <a class=\" txtu hbo\" target=\"_blank\" href=\"https://shebanq.ancient-data.org/hebrew/word?version=2021&amp;id=1CBWOn\" title=\"Show this on SHEBANQ\"><span class=\"txtu hbo\">שָׁבֻעִ֞ים </span></a></div><div class=\"features\"><span class=\"st xft\" ><span class=\"f\">st=</span>a</span></div></div><div class=\"contnr c0 trm rtl  \" ><div class=\"lbl c0 trm \" ><span class=\"nd\">376364 </span> <a class=\" txtu hbo\" target=\"_blank\" href=\"https://shebanq.ancient-data.org/hebrew/word?version=2021&amp;id=1CCn\" title=\"Show this on SHEBANQ\"><span class=\"txtu hbo\">שִׁשִּׁ֣ים </span></a></div><div class=\"features\"><span class=\"ls xft\" ><span class=\"f\">ls=</span>card</span><span class=\"st xft\" ><span class=\"f\">st=</span>a</span></div></div><div class=\"contnr c0 trm rtl  \" ><div class=\"lbl c0 trm \" ><span class=\"nd\">376365 </span> <a class=\" txtu hbo\" target=\"_blank\" href=\"https://shebanq.ancient-data.org/hebrew/word?version=2021&amp;id=1W\" title=\"Show this on SHEBANQ\"><span class=\"txtu hbo\">וּ</span></a></div></div><div class=\"contnr c0 trm rtl  hl\" ><div class=\"lbl c0 trm hl\" ><span class=\"nd\">376366 </span> <a class=\" txtu hbo\" target=\"_blank\" href=\"https://shebanq.ancient-data.org/hebrew/word?version=2021&amp;id=1CNJMn\" title=\"Show this on SHEBANQ\"><span class=\"txtu hbo\">שְׁנַ֗יִם </span></a></div><div class=\"features\"><span class=\"ls xft\" ><span class=\"f\">ls=</span>card</span><span class=\"st xft\" ><span class=\"f\">st=</span>a</span></div></div></div></div></div>"
      ],
      "text/plain": [
       "<IPython.core.display.HTML object>"
      ]
     },
     "metadata": {},
     "output_type": "display_data"
    },
    {
     "data": {
      "text/html": [
       "<p><b>result</b> <i>3</i>"
      ],
      "text/plain": [
       "<IPython.core.display.HTML object>"
      ]
     },
     "metadata": {},
     "output_type": "display_data"
    },
    {
     "data": {
      "text/html": [
       "<div class=\"tfsechead rtl\"><span class=\"ltr\"><a target=\"_blank\" href=\"https://shebanq.ancient-data.org/hebrew/text?book=Esra&amp;chapter=1&amp;verse=9&amp;version=2021&amp;mr=m&amp;qw=q&amp;tp=txt_p&amp;tr=hb&amp;wget=v&amp;qget=v&amp;nget=vt\" title=\"Show this on SHEBANQ\" sec=\"Ezra 1:9\">Ezra 1:9</a></span></div><div class=\"rtl children\"><div class=\"contnr c1  rtl  \" ><div class=\"lbl c1  \" ><span class=\"nd\">phrase:881432 </span> <span class=\"\"><span title=\"typ\">NP</span> <span title=\"function\">PreC</span></span></div><div class=\"children hor wrap rtl\"><div class=\"contnr c0 trm rtl  \" ><div class=\"lbl c0 trm \" ><span class=\"nd\">378383 </span> <a class=\" txtu hbo\" target=\"_blank\" href=\"https://shebanq.ancient-data.org/hebrew/word?version=2021&amp;id=1MXLPn\" title=\"Show this on SHEBANQ\"><span class=\"txtu hbo\">מַחֲלָפִ֖ים </span></a></div><div class=\"features\"><span class=\"st xft\" ><span class=\"f\">st=</span>a</span></div></div><div class=\"contnr c0 trm rtl  \" ><div class=\"lbl c0 trm \" ><span class=\"nd\">378384 </span> <a class=\" txtu hbo\" target=\"_blank\" href=\"https://shebanq.ancient-data.org/hebrew/word?version=2021&amp;id=1TCOn\" title=\"Show this on SHEBANQ\"><span class=\"txtu hbo\">תִּשְׁעָ֥ה </span></a></div><div class=\"features\"><span class=\"ls xft\" ><span class=\"f\">ls=</span>card</span><span class=\"st xft\" ><span class=\"f\">st=</span>a</span></div></div><div class=\"contnr c0 trm rtl  \" ><div class=\"lbl c0 trm \" ><span class=\"nd\">378385 </span> <a class=\" txtu hbo\" target=\"_blank\" href=\"https://shebanq.ancient-data.org/hebrew/word?version=2021&amp;id=1W\" title=\"Show this on SHEBANQ\"><span class=\"txtu hbo\">וְ</span></a></div></div><div class=\"contnr c0 trm rtl  hl\" ><div class=\"lbl c0 trm hl\" ><span class=\"nd\">378386 </span> <a class=\" txtu hbo\" target=\"_blank\" href=\"https://shebanq.ancient-data.org/hebrew/word?version=2021&amp;id=1OFRJMn\" title=\"Show this on SHEBANQ\"><span class=\"txtu hbo\">עֶשְׂרִֽים׃ ס </span></a></div><div class=\"features\"><span class=\"ls xft\" ><span class=\"f\">ls=</span>card</span><span class=\"st xft\" ><span class=\"f\">st=</span>a</span></div></div></div></div></div>"
      ],
      "text/plain": [
       "<IPython.core.display.HTML object>"
      ]
     },
     "metadata": {},
     "output_type": "display_data"
    },
    {
     "data": {
      "text/html": [
       "<p><b>result</b> <i>4</i>"
      ],
      "text/plain": [
       "<IPython.core.display.HTML object>"
      ]
     },
     "metadata": {},
     "output_type": "display_data"
    },
    {
     "data": {
      "text/html": [
       "<div class=\"tfsechead rtl\"><span class=\"ltr\"><a target=\"_blank\" href=\"https://shebanq.ancient-data.org/hebrew/text?book=Esra&amp;chapter=1&amp;verse=10&amp;version=2021&amp;mr=m&amp;qw=q&amp;tp=txt_p&amp;tr=hb&amp;wget=v&amp;qget=v&amp;nget=vt\" title=\"Show this on SHEBANQ\" sec=\"Ezra 1:10\">Ezra 1:10</a></span></div><div class=\"rtl children\"><div class=\"contnr c1  rtl  \" ><div class=\"lbl c1  \" ><span class=\"nd\">phrase:881435 </span> <span class=\"\"><span title=\"typ\">NP</span> <span title=\"function\">PreC</span></span></div><div class=\"children hor wrap rtl\"><div class=\"contnr c0 trm rtl  \" ><div class=\"lbl c0 trm \" ><span class=\"nd\">378397 </span> <a class=\" txtu hbo\" target=\"_blank\" href=\"https://shebanq.ancient-data.org/hebrew/word?version=2021&amp;id=1KLJn\" title=\"Show this on SHEBANQ\"><span class=\"txtu hbo\">כֵּלִ֥ים </span></a></div><div class=\"features\"><span class=\"st xft\" ><span class=\"f\">st=</span>a</span></div></div><div class=\"contnr c0 trm rtl  \" ><div class=\"lbl c0 trm \" ><span class=\"nd\">378398 </span> <a class=\" txtu hbo\" target=\"_blank\" href=\"https://shebanq.ancient-data.org/hebrew/word?version=2021&amp;id=1AXRin\" title=\"Show this on SHEBANQ\"><span class=\"txtu hbo\">אֲחֵרִ֖ים </span></a></div><div class=\"features\"><span class=\"st xft\" ><span class=\"f\">st=</span>a</span></div></div><div class=\"contnr c0 trm rtl  hl\" ><div class=\"lbl c0 trm hl\" ><span class=\"nd\">378399 </span> <a class=\" txtu hbo\" target=\"_blank\" href=\"https://shebanq.ancient-data.org/hebrew/word?version=2021&amp;id=1ALPin\" title=\"Show this on SHEBANQ\"><span class=\"txtu hbo\">אָֽלֶף׃ ס </span></a></div><div class=\"features\"><span class=\"ls xft\" ><span class=\"f\">ls=</span>card</span><span class=\"st xft\" ><span class=\"f\">st=</span>a</span></div></div></div></div></div>"
      ],
      "text/plain": [
       "<IPython.core.display.HTML object>"
      ]
     },
     "metadata": {},
     "output_type": "display_data"
    },
    {
     "data": {
      "text/html": [
       "<p><b>result</b> <i>5</i>"
      ],
      "text/plain": [
       "<IPython.core.display.HTML object>"
      ]
     },
     "metadata": {},
     "output_type": "display_data"
    },
    {
     "data": {
      "text/html": [
       "<div class=\"tfsechead rtl\"><span class=\"ltr\"><a target=\"_blank\" href=\"https://shebanq.ancient-data.org/hebrew/text?book=Esra&amp;chapter=8&amp;verse=20&amp;version=2021&amp;mr=m&amp;qw=q&amp;tp=txt_p&amp;tr=hb&amp;wget=v&amp;qget=v&amp;nget=vt\" title=\"Show this on SHEBANQ\" sec=\"Ezra 8:20\">Ezra 8:20</a></span></div><div class=\"rtl children\"><div class=\"contnr c1  rtl  \" ><div class=\"lbl c1  \" ><span class=\"nd\">phrase:883016 </span> <span class=\"\"><span title=\"typ\">NP</span> <span title=\"function\">Objc</span></span></div><div class=\"children hor wrap rtl\"><div class=\"contnr c0 trm rtl  \" ><div class=\"lbl c0 trm \" ><span class=\"nd\">381874 </span> <a class=\" txtu hbo\" target=\"_blank\" href=\"https://shebanq.ancient-data.org/hebrew/word?version=2021&amp;id=1NTJNn\" title=\"Show this on SHEBANQ\"><span class=\"txtu hbo\">נְתִינִ֖ים </span></a></div><div class=\"features\"><span class=\"st xft\" ><span class=\"f\">st=</span>a</span></div></div><div class=\"contnr c0 trm rtl  \" ><div class=\"lbl c0 trm \" ><span class=\"nd\">381875 </span> <a class=\" txtu hbo\" target=\"_blank\" href=\"https://shebanq.ancient-data.org/hebrew/word?version=2021&amp;id=1MAHn\" title=\"Show this on SHEBANQ\"><span class=\"txtu hbo\">מָאתַ֣יִם </span></a></div><div class=\"features\"><span class=\"ls xft\" ><span class=\"f\">ls=</span>card</span><span class=\"st xft\" ><span class=\"f\">st=</span>a</span></div></div><div class=\"contnr c0 trm rtl  \" ><div class=\"lbl c0 trm \" ><span class=\"nd\">381876 </span> <a class=\" txtu hbo\" target=\"_blank\" href=\"https://shebanq.ancient-data.org/hebrew/word?version=2021&amp;id=1W\" title=\"Show this on SHEBANQ\"><span class=\"txtu hbo\">וְ</span></a></div></div><div class=\"contnr c0 trm rtl  hl\" ><div class=\"lbl c0 trm hl\" ><span class=\"nd\">381877 </span> <a class=\" txtu hbo\" target=\"_blank\" href=\"https://shebanq.ancient-data.org/hebrew/word?version=2021&amp;id=1OFRJMn\" title=\"Show this on SHEBANQ\"><span class=\"txtu hbo\">עֶשְׂרִ֑ים </span></a></div><div class=\"features\"><span class=\"ls xft\" ><span class=\"f\">ls=</span>card</span><span class=\"st xft\" ><span class=\"f\">st=</span>a</span></div></div></div></div></div>"
      ],
      "text/plain": [
       "<IPython.core.display.HTML object>"
      ]
     },
     "metadata": {},
     "output_type": "display_data"
    }
   ],
   "source": [
    "A.show([res for res in non_rela_cardinals if res[0] in phrases_to_patch])"
   ]
  },
  {
   "cell_type": "markdown",
   "metadata": {},
   "source": [
    "Below we check to see how many of our cases are covered by these criteria."
   ]
  },
  {
   "cell_type": "code",
   "execution_count": 107,
   "metadata": {},
   "outputs": [
    {
     "data": {
      "text/plain": [
       "5"
      ]
     },
     "execution_count": 107,
     "metadata": {},
     "output_type": "execute_result"
    }
   ],
   "source": [
    "accounted = set(phrases_to_patch) & set(res[0] for res in non_rela_cardinals)\n",
    "len(accounted)"
   ]
  },
  {
   "cell_type": "markdown",
   "metadata": {},
   "source": [
    "This covers all the missed quantifiers above as well as a few extra that I have manually inspected to ensure none are good heads."
   ]
  },
  {
   "cell_type": "code",
   "execution_count": 108,
   "metadata": {},
   "outputs": [
    {
     "name": "stdout",
     "output_type": "stream",
     "text": [
      "25 words added to dwords...\n"
     ]
    }
   ],
   "source": [
    "dwordsadded = 0\n",
    "for res in non_rela_cardinals:\n",
    "    dword = res[2]\n",
    "    dwords.add(dword)\n",
    "    dwordsadded += 1\n",
    "print(f'{dwordsadded} words added to dwords...')"
   ]
  },
  {
   "cell_type": "markdown",
   "metadata": {},
   "source": [
    "## Incorrect Relation Assignment\n",
    "\n",
    "There are a handfull of cases where the ETCBC data has a relation that points at the wrong object. The few cases below are those which could not be fixed programmatically due to the complexity of the problem.\n",
    "\n",
    "### Incorrect `par` Relations"
   ]
  },
  {
   "cell_type": "code",
   "execution_count": 109,
   "metadata": {},
   "outputs": [],
   "source": [
    "bad_pars = []\n",
    "\n",
    "bad_par1 = '''\n",
    "\n",
    "book book@en=Jeremiah\n",
    "    chapter chapter=32\n",
    "        verse verse=32\n",
    "            phrase\n",
    "                word lex=BN/\n",
    "                <: word lex=JHWDH/\n",
    "'''\n",
    "badpar1_note = 'בני־יהודה should be parallel to בני־ישראל rather than רעת בני־ישראל'\n",
    "bad_pars.append({'template':bad_par1, 'phrasei':3, 'badi':4, 'note':badpar1_note})\n",
    "\n",
    "bad_par2 = '''\n",
    "\n",
    "book book@en=Jeremiah\n",
    "    chapter chapter=40\n",
    "        verse verse=1\n",
    "            phrase\n",
    "                word lex=JHWDH/\n",
    "'''\n",
    "badpar2_note = 'יהודה should be parallel to ירושלים rather than גלות־ירושלים'\n",
    "bad_pars.append({'template':bad_par2, 'phrasei':3, 'badi':4, 'note':badpar2_note})"
   ]
  },
  {
   "cell_type": "code",
   "execution_count": 110,
   "metadata": {
    "tags": []
   },
   "outputs": [
    {
     "name": "stdout",
     "output_type": "stream",
     "text": [
      "  0.54s 1 result\n",
      "\n"
     ]
    },
    {
     "data": {
      "text/html": [
       "<p><b>result</b> <i>בני־יהודה should be parallel to בני־ישראל rather than רעת בני־ישראל</i>"
      ],
      "text/plain": [
       "<IPython.core.display.HTML object>"
      ]
     },
     "metadata": {},
     "output_type": "display_data"
    },
    {
     "data": {
      "text/html": [
       "<div class=\"tfsechead rtl\"><span class=\"ltr\"><a target=\"_blank\" href=\"https://shebanq.ancient-data.org/hebrew/text?book=Jeremia&amp;chapter=32&amp;verse=32&amp;version=2021&amp;mr=m&amp;qw=q&amp;tp=txt_p&amp;tr=hb&amp;wget=v&amp;qget=v&amp;nget=vt\" title=\"Show this on SHEBANQ\" sec=\"Jeremiah 32:32\">Jeremiah 32:32</a></span></div><div class=\"rtl children\"><div class=\"contnr c1  rtl  \" ><div class=\"lbl c1  \" ><span class=\"nd\">phrase:799794 </span> <span class=\"\"><span title=\"typ\">PP</span> <span title=\"function\">Adju</span></span></div><div class=\"children hor wrap rtl\"><div class=\"contnr c0 trm rtl  \" ><div class=\"lbl c0 trm \" ><span class=\"nd\">252222 </span> <a class=\" txtu hbo\" target=\"_blank\" href=\"https://shebanq.ancient-data.org/hebrew/word?version=2021&amp;id=1OL\" title=\"Show this on SHEBANQ\"><span class=\"txtu hbo\">עַל֩ </span></a></div><div class=\"features\"><span class=\"lex xft\" ><span class=\"f\">lex=</span>&lt;L</span></div></div><div class=\"contnr c0 trm rtl  \" ><div class=\"lbl c0 trm \" ><span class=\"nd\">252223 </span> <a class=\" txtu hbo\" target=\"_blank\" href=\"https://shebanq.ancient-data.org/hebrew/word?version=2021&amp;id=1KLn\" title=\"Show this on SHEBANQ\"><span class=\"txtu hbo\">כָּל־</span></a></div><div class=\"features\"><span class=\"lex xft\" ><span class=\"f\">lex=</span>KL/</span><span class=\"st xft\" ><span class=\"f\">st=</span>c</span></div></div><div class=\"contnr c0 trm rtl  \" ><div class=\"lbl c0 trm \" ><span class=\"nd\">252224 </span> <a class=\" txtu hbo\" target=\"_blank\" href=\"https://shebanq.ancient-data.org/hebrew/word?version=2021&amp;id=1ROHn\" title=\"Show this on SHEBANQ\"><span class=\"txtu hbo\">רָעַ֨ת </span></a></div><div class=\"features\"><span class=\"lex xft\" ><span class=\"f\">lex=</span>R&lt;H/</span><span class=\"st xft\" ><span class=\"f\">st=</span>c</span></div></div><div class=\"contnr c0 trm rtl  \" ><div class=\"lbl c0 trm \" ><span class=\"nd\">252225 </span> <a class=\" txtu hbo\" target=\"_blank\" href=\"https://shebanq.ancient-data.org/hebrew/word?version=2021&amp;id=1BNn\" title=\"Show this on SHEBANQ\"><span class=\"txtu hbo\">בְּנֵֽי־</span></a></div><div class=\"features\"><span class=\"lex xft\" ><span class=\"f\">lex=</span>BN/</span><span class=\"st xft\" ><span class=\"f\">st=</span>c</span></div></div><div class=\"contnr c0 trm rtl  \" ><div class=\"lbl c0 trm \" ><span class=\"nd\">252226 </span> <a class=\" txtu hbo\" target=\"_blank\" href=\"https://shebanq.ancient-data.org/hebrew/word?version=2021&amp;id=1JFRALn\" title=\"Show this on SHEBANQ\"><span class=\"txtu hbo\">יִשְׂרָאֵ֜ל </span></a></div><div class=\"features\"><span class=\"lex xft\" ><span class=\"f\">lex=</span>JFR>L/</span><span class=\"st xft\" ><span class=\"f\">st=</span>a</span></div></div><div class=\"contnr c0 trm rtl  \" ><div class=\"lbl c0 trm \" ><span class=\"nd\">252227 </span> <a class=\" txtu hbo\" target=\"_blank\" href=\"https://shebanq.ancient-data.org/hebrew/word?version=2021&amp;id=1W\" title=\"Show this on SHEBANQ\"><span class=\"txtu hbo\">וּ</span></a></div><div class=\"features\"><span class=\"lex xft\" ><span class=\"f\">lex=</span>W</span></div></div><div class=\"contnr c0 trm rtl  hl\" ><div class=\"lbl c0 trm hl\" ><span class=\"nd\">252228 </span> <a class=\" txtu hbo\" target=\"_blank\" href=\"https://shebanq.ancient-data.org/hebrew/word?version=2021&amp;id=1BNn\" title=\"Show this on SHEBANQ\"><span class=\"txtu hbo\">בְנֵ֣י </span></a></div><div class=\"features\"><span class=\"lex xft\" ><span class=\"f\">lex=</span>BN/</span><span class=\"st xft\" ><span class=\"f\">st=</span>c</span></div></div><div class=\"contnr c0 trm rtl  \" ><div class=\"lbl c0 trm \" ><span class=\"nd\">252229 </span> <a class=\" txtu hbo\" target=\"_blank\" href=\"https://shebanq.ancient-data.org/hebrew/word?version=2021&amp;id=1JHWDHn\" title=\"Show this on SHEBANQ\"><span class=\"txtu hbo\">יְהוּדָ֗ה </span></a></div><div class=\"features\"><span class=\"lex xft\" ><span class=\"f\">lex=</span>JHWDH/</span><span class=\"st xft\" ><span class=\"f\">st=</span>a</span></div></div></div></div></div>"
      ],
      "text/plain": [
       "<IPython.core.display.HTML object>"
      ]
     },
     "metadata": {},
     "output_type": "display_data"
    },
    {
     "name": "stdout",
     "output_type": "stream",
     "text": [
      "subphrases containing slot 252228\n",
      "-------1366903----------------\n",
      "\n",
      "בְנֵ֣י  -NA-> \n",
      "nodes:  1366903 -NA-> \n",
      "slots:  (252228,) -NA-> ()\n",
      "------------------------------\n",
      "-------1366905----------------\n",
      "\n",
      "בְנֵ֣י יְהוּדָ֗ה  -par-> רָעַ֨ת בְּנֵֽי־יִשְׂרָאֵ֜ל \n",
      "nodes:  1366905 -par-> 1366902\n",
      "slots:  (252228, 252229) -par-> (252224, 252225, 252226)\n",
      "------------------------------\n",
      "-------1366906----------------\n",
      "\n",
      "רָעַ֨ת בְּנֵֽי־יִשְׂרָאֵ֜ל וּבְנֵ֣י יְהוּדָ֗ה  -rec-> כָּל־\n",
      "nodes:  1366906 -rec-> 252223\n",
      "slots:  (252224, 252225, 252226, 252227, 252228, 252229) -rec-> ()\n",
      "------------------------------\n",
      "  0.41s 1 result\n",
      "\n"
     ]
    },
    {
     "data": {
      "text/html": [
       "<p><b>result</b> <i>יהודה should be parallel to ירושלים rather than גלות־ירושלים</i>"
      ],
      "text/plain": [
       "<IPython.core.display.HTML object>"
      ]
     },
     "metadata": {},
     "output_type": "display_data"
    },
    {
     "data": {
      "text/html": [
       "<div class=\"tfsechead rtl\"><span class=\"ltr\"><a target=\"_blank\" href=\"https://shebanq.ancient-data.org/hebrew/text?book=Jeremia&amp;chapter=40&amp;verse=1&amp;version=2021&amp;mr=m&amp;qw=q&amp;tp=txt_p&amp;tr=hb&amp;wget=v&amp;qget=v&amp;nget=vt\" title=\"Show this on SHEBANQ\" sec=\"Jeremiah 40:1\">Jeremiah 40:1</a></span></div><div class=\"rtl children\"><div class=\"contnr c1  rtl  \" ><div class=\"lbl c1  \" ><span class=\"nd\">phrase:802227 </span> <span class=\"\"><span title=\"typ\">PP</span> <span title=\"function\">Adju</span></span></div><div class=\"children hor wrap rtl\"><div class=\"contnr c0 trm rtl  \" ><div class=\"lbl c0 trm \" ><span class=\"nd\">256810 </span> <a class=\" txtu hbo\" target=\"_blank\" href=\"https://shebanq.ancient-data.org/hebrew/word?version=2021&amp;id=1B\" title=\"Show this on SHEBANQ\"><span class=\"txtu hbo\">בְּ</span></a></div><div class=\"features\"><span class=\"lex xft\" ><span class=\"f\">lex=</span>B</span></div></div><div class=\"contnr c0 trm rtl  \" ><div class=\"lbl c0 trm \" ><span class=\"nd\">256811 </span> <a class=\" txtu hbo\" target=\"_blank\" href=\"https://shebanq.ancient-data.org/hebrew/word?version=2021&amp;id=1TWKn\" title=\"Show this on SHEBANQ\"><span class=\"txtu hbo\">תֹ֨וךְ </span></a></div><div class=\"features\"><span class=\"lex xft\" ><span class=\"f\">lex=</span>TWK/</span><span class=\"st xft\" ><span class=\"f\">st=</span>c</span></div></div><div class=\"contnr c0 trm rtl  \" ><div class=\"lbl c0 trm \" ><span class=\"nd\">256812 </span> <a class=\" txtu hbo\" target=\"_blank\" href=\"https://shebanq.ancient-data.org/hebrew/word?version=2021&amp;id=1KLn\" title=\"Show this on SHEBANQ\"><span class=\"txtu hbo\">כָּל־</span></a></div><div class=\"features\"><span class=\"lex xft\" ><span class=\"f\">lex=</span>KL/</span><span class=\"st xft\" ><span class=\"f\">st=</span>c</span></div></div><div class=\"contnr c0 trm rtl  \" ><div class=\"lbl c0 trm \" ><span class=\"nd\">256813 </span> <a class=\" txtu hbo\" target=\"_blank\" href=\"https://shebanq.ancient-data.org/hebrew/word?version=2021&amp;id=1GLWTn\" title=\"Show this on SHEBANQ\"><span class=\"txtu hbo\">גָּל֤וּת </span></a></div><div class=\"features\"><span class=\"lex xft\" ><span class=\"f\">lex=</span>GLWT/</span><span class=\"st xft\" ><span class=\"f\">st=</span>c</span></div></div><div class=\"contnr c0 trm rtl  \" ><div class=\"lbl c0 trm \" ><span class=\"nd\">256814 </span> <a class=\" txtu hbo\" target=\"_blank\" href=\"https://shebanq.ancient-data.org/hebrew/word?version=2021&amp;id=1JRWCLMn\" title=\"Show this on SHEBANQ\"><span class=\"txtu hbo\">יְרוּשָׁלִַ֨ם֙ </span></a></div><div class=\"features\"><span class=\"lex xft\" ><span class=\"f\">lex=</span>JRWCLM/</span><span class=\"st xft\" ><span class=\"f\">st=</span>a</span></div></div><div class=\"contnr c0 trm rtl  \" ><div class=\"lbl c0 trm \" ><span class=\"nd\">256815 </span> <a class=\" txtu hbo\" target=\"_blank\" href=\"https://shebanq.ancient-data.org/hebrew/word?version=2021&amp;id=1W\" title=\"Show this on SHEBANQ\"><span class=\"txtu hbo\">וִֽ</span></a></div><div class=\"features\"><span class=\"lex xft\" ><span class=\"f\">lex=</span>W</span></div></div><div class=\"contnr c0 trm rtl  hl\" ><div class=\"lbl c0 trm hl\" ><span class=\"nd\">256816 </span> <a class=\" txtu hbo\" target=\"_blank\" href=\"https://shebanq.ancient-data.org/hebrew/word?version=2021&amp;id=1JHWDHn\" title=\"Show this on SHEBANQ\"><span class=\"txtu hbo\">יהוּדָ֔ה </span></a></div><div class=\"features\"><span class=\"lex xft\" ><span class=\"f\">lex=</span>JHWDH/</span><span class=\"st xft\" ><span class=\"f\">st=</span>a</span></div></div></div></div></div>"
      ],
      "text/plain": [
       "<IPython.core.display.HTML object>"
      ]
     },
     "metadata": {},
     "output_type": "display_data"
    },
    {
     "name": "stdout",
     "output_type": "stream",
     "text": [
      "subphrases containing slot 256816\n",
      "-------1368210----------------\n",
      "\n",
      "יהוּדָ֔ה  -par-> גָּל֤וּת יְרוּשָׁלִַ֨ם֙ \n",
      "nodes:  1368210 -par-> 1368209\n",
      "slots:  (256816,) -par-> (256813, 256814)\n",
      "------------------------------\n",
      "-------1368211----------------\n",
      "\n",
      "גָּל֤וּת יְרוּשָׁלִַ֨ם֙ וִֽיהוּדָ֔ה  -rec-> כָּל־\n",
      "nodes:  1368211 -rec-> 256812\n",
      "slots:  (256813, 256814, 256815, 256816) -rec-> ()\n",
      "------------------------------\n",
      "-------1368212----------------\n",
      "\n",
      "כָּל־גָּל֤וּת יְרוּשָׁלִַ֨ם֙ וִֽיהוּדָ֔ה  -rec-> תֹ֨וךְ \n",
      "nodes:  1368212 -rec-> 256811\n",
      "slots:  (256812, 256813, 256814, 256815, 256816) -rec-> ()\n",
      "------------------------------\n"
     ]
    }
   ],
   "source": [
    "bad_par_dwords = set()\n",
    "\n",
    "for i, bp in enumerate(bad_pars):\n",
    "    bp_res = A.search(bp['template'], silent=False)\n",
    "    phrase = bp_res[0][bp['phrasei']]\n",
    "    bad = bp_res[0][bp['badi']]\n",
    "    bad_par_dwords.add(bad)\n",
    "    \n",
    "    print()\n",
    "    A.prettyTuple((phrase, bad), seq=bp['note'])\n",
    "    print(f'subphrases containing slot {bad}')\n",
    "    show_subphrases(bad, direction=L.u)"
   ]
  },
  {
   "cell_type": "markdown",
   "metadata": {},
   "source": [
    "As can be seen in the subphrase printouts, these parallel relations do not point to the best subphrase. These problems are fixed below by adding the paralleled terms to `dwords`."
   ]
  },
  {
   "cell_type": "code",
   "execution_count": 111,
   "metadata": {},
   "outputs": [
    {
     "data": {
      "text/plain": [
       "True"
      ]
     },
     "execution_count": 111,
     "metadata": {},
     "output_type": "execute_result"
    }
   ],
   "source": [
    "dwords |= bad_par_dwords\n",
    "list(bad_par_dwords)[0] in dwords # sanity check"
   ]
  },
  {
   "cell_type": "markdown",
   "metadata": {},
   "source": [
    "## Missed Parallels (due to ~bad Spec relations)\n",
    "\n",
    "Some phrases are inconsistently marked as `Spec` (specification) instead of `Para` in the phrase atom assignment, whereas they are assigned as \"par\" elsewhere in the subphrase. Below a search is made for such cases.\n",
    "\n",
    "These cases can be isolated by finding a phrase_atom and its daughter, wherein the daughter has a relation of `Spec` (specification), the daughter is a word-for-word a mirror of the mother, and the two phrase atoms are adjacent to each other.\n",
    "\n",
    "It is perhaps debateable what it actually means for these items to designated \"parallel\" instead of \"specification.\" But it does not seem, on the surface, that the repeated element really specifies the first as much as it works in conjunction with it to produce plurality. For this reason, these cases are treated as instances of `Para` relations rather than their designation as `Spec` in BHSA. "
   ]
  },
  {
   "cell_type": "code",
   "execution_count": 112,
   "metadata": {},
   "outputs": [],
   "source": [
    "def tokenPhrase(phrasenode):\n",
    "    '''\n",
    "    Tokenizer to compare phrase atoms w/out vocalization.\n",
    "    '''\n",
    "    return '.'.join([(F.g_cons_utf8.v(w) if F.lex.v(w) != 'H' else 'ה') for w in L.d(phrasenode, 'word')])"
   ]
  },
  {
   "cell_type": "code",
   "execution_count": 113,
   "metadata": {},
   "outputs": [
    {
     "data": {
      "text/plain": [
       "19"
      ]
     },
     "execution_count": 113,
     "metadata": {},
     "output_type": "execute_result"
    }
   ],
   "source": [
    "tagged = []\n",
    "\n",
    "for phrasea in F.otype.s('phrase_atom'):\n",
    "    \n",
    "    token = tokenPhrase(phrasea)\n",
    "    daughters = [d for d in E.mother.t(phrasea) # get daughters\n",
    "                     if F.rela.v(d) == 'Spec' # must have spec rela\n",
    "                     and tokenPhrase(d) == token # must be identical to mother\n",
    "                     and d-phrasea == 1] # must be adjacent to mother\n",
    "    \n",
    "    if daughters:\n",
    "        tagged.append((phrasea, daughters))\n",
    "        \n",
    "len(tagged)"
   ]
  },
  {
   "cell_type": "markdown",
   "metadata": {},
   "source": [
    "The cases in question are displayed and highlighted below. "
   ]
  },
  {
   "cell_type": "code",
   "execution_count": 114,
   "metadata": {
    "collapsed": true,
    "jupyter": {
     "outputs_hidden": true
    },
    "tags": []
   },
   "outputs": [
    {
     "data": {
      "text/html": [
       "<p><b>result</b> <i>0</i>"
      ],
      "text/plain": [
       "<IPython.core.display.HTML object>"
      ]
     },
     "metadata": {},
     "output_type": "display_data"
    },
    {
     "data": {
      "text/html": [
       "<div class=\"tfsechead rtl\"><span class=\"ltr\"><a target=\"_blank\" href=\"https://shebanq.ancient-data.org/hebrew/text?book=Genesis&amp;chapter=7&amp;verse=3&amp;version=2021&amp;mr=m&amp;qw=q&amp;tp=txt_p&amp;tr=hb&amp;wget=v&amp;qget=v&amp;nget=vt\" title=\"Show this on SHEBANQ\" sec=\"Genesis 7:3\">Genesis 7:3</a></span></div><div class=\"rtl children\"><div class=\"contnr c1  rtl  \" ><div class=\"lbl c1  \" ><span class=\"nd\">phrase:653373 </span> <span class=\"\"><span title=\"typ\">NP</span> <span title=\"function\">Objc</span></span></div><div class=\"children hor wrap rtl\"><div class=\"contnr c0 trm rtl  \" ><div class=\"lbl c0 trm \" ><span class=\"nd\">3092 </span> <a class=\" txtu hbo\" target=\"_blank\" href=\"https://shebanq.ancient-data.org/hebrew/word?version=2021&amp;id=1CBOn\" title=\"Show this on SHEBANQ\"><span class=\"txtu hbo\">שִׁבְעָ֥ה </span></a></div><div class=\"features\"><span class=\"lex xft\" ><span class=\"f\">lex=</span>CB&lt;/</span><span class=\"st xft\" ><span class=\"f\">st=</span>a</span></div></div><div class=\"contnr c0 trm rtl  \" ><div class=\"lbl c0 trm \" ><span class=\"nd\">3093 </span> <a class=\" txtu hbo\" target=\"_blank\" href=\"https://shebanq.ancient-data.org/hebrew/word?version=2021&amp;id=1CBOn\" title=\"Show this on SHEBANQ\"><span class=\"txtu hbo\">שִׁבְעָ֖ה </span></a></div><div class=\"features\"><span class=\"lex xft\" ><span class=\"f\">lex=</span>CB&lt;/</span><span class=\"st xft\" ><span class=\"f\">st=</span>a</span></div></div><div class=\"contnr c0 trm rtl  \" ><div class=\"lbl c0 trm \" ><span class=\"nd\">3094 </span> <a class=\" txtu hbo\" target=\"_blank\" href=\"https://shebanq.ancient-data.org/hebrew/word?version=2021&amp;id=1ZKRin\" title=\"Show this on SHEBANQ\"><span class=\"txtu hbo\">זָכָ֣ר </span></a></div><div class=\"features\"><span class=\"lex xft\" ><span class=\"f\">lex=</span>ZKR=/</span><span class=\"st xft\" ><span class=\"f\">st=</span>a</span></div></div><div class=\"contnr c0 trm rtl  \" ><div class=\"lbl c0 trm \" ><span class=\"nd\">3095 </span> <a class=\" txtu hbo\" target=\"_blank\" href=\"https://shebanq.ancient-data.org/hebrew/word?version=2021&amp;id=1W\" title=\"Show this on SHEBANQ\"><span class=\"txtu hbo\">וּ</span></a></div><div class=\"features\"><span class=\"lex xft\" ><span class=\"f\">lex=</span>W</span></div></div><div class=\"contnr c0 trm rtl  \" ><div class=\"lbl c0 trm \" ><span class=\"nd\">3096 </span> <a class=\" txtu hbo\" target=\"_blank\" href=\"https://shebanq.ancient-data.org/hebrew/word?version=2021&amp;id=1NQBHn\" title=\"Show this on SHEBANQ\"><span class=\"txtu hbo\">נְקֵבָ֑ה </span></a></div><div class=\"features\"><span class=\"lex xft\" ><span class=\"f\">lex=</span>NQBH/</span><span class=\"st xft\" ><span class=\"f\">st=</span>a</span></div></div></div></div></div>"
      ],
      "text/plain": [
       "<IPython.core.display.HTML object>"
      ]
     },
     "metadata": {},
     "output_type": "display_data"
    },
    {
     "data": {
      "text/html": [
       "<p><b>result</b> <i>0</i>"
      ],
      "text/plain": [
       "<IPython.core.display.HTML object>"
      ]
     },
     "metadata": {},
     "output_type": "display_data"
    },
    {
     "data": {
      "text/html": [
       "<div class=\"tfsechead rtl\"><span class=\"ltr\"><a target=\"_blank\" href=\"https://shebanq.ancient-data.org/hebrew/text?book=Leviticus&amp;chapter=24&amp;verse=8&amp;version=2021&amp;mr=m&amp;qw=q&amp;tp=txt_p&amp;tr=hb&amp;wget=v&amp;qget=v&amp;nget=vt\" title=\"Show this on SHEBANQ\" sec=\"Leviticus 24:8\">Leviticus 24:8</a></span></div><div class=\"rtl children\"><div class=\"contnr c1  rtl  \" ><div class=\"lbl c1  \" ><span class=\"nd\">phrase:690650 </span> <span class=\"\"><span title=\"typ\">PP</span> <span title=\"function\">Time</span></span></div><div class=\"children hor wrap rtl\"><div class=\"contnr c0 trm rtl  \" ><div class=\"lbl c0 trm \" ><span class=\"nd\">66887 </span> <a class=\" txtu hbo\" target=\"_blank\" href=\"https://shebanq.ancient-data.org/hebrew/word?version=2021&amp;id=1B\" title=\"Show this on SHEBANQ\"><span class=\"txtu hbo\">בְּ</span></a></div><div class=\"features\"><span class=\"lex xft\" ><span class=\"f\">lex=</span>B</span></div></div><div class=\"contnr c0 trm rtl  \" ><div class=\"lbl c0 trm \" ><span class=\"nd\">66888 </span> <a class=\" txtu hbo\" target=\"_blank\" href=\"https://shebanq.ancient-data.org/hebrew/word?version=2021&amp;id=1JWMn\" title=\"Show this on SHEBANQ\"><span class=\"txtu hbo\">יֹ֨ום </span></a></div><div class=\"features\"><span class=\"lex xft\" ><span class=\"f\">lex=</span>JWM/</span><span class=\"st xft\" ><span class=\"f\">st=</span>c</span></div></div><div class=\"contnr c0 trm rtl  \" ><div class=\"lbl c0 trm \" ><span class=\"nd\">66889 </span> <a class=\" txtu hbo\" target=\"_blank\" href=\"https://shebanq.ancient-data.org/hebrew/word?version=2021&amp;id=1H\" title=\"Show this on SHEBANQ\"><span class=\"txtu hbo\">הַ</span></a></div><div class=\"features\"><span class=\"lex xft\" ><span class=\"f\">lex=</span>H</span></div></div><div class=\"contnr c0 trm rtl  \" ><div class=\"lbl c0 trm \" ><span class=\"nd\">66890 </span> <a class=\" txtu hbo\" target=\"_blank\" href=\"https://shebanq.ancient-data.org/hebrew/word?version=2021&amp;id=1CBTn\" title=\"Show this on SHEBANQ\"><span class=\"txtu hbo\">שַּׁבָּ֜ת </span></a></div><div class=\"features\"><span class=\"lex xft\" ><span class=\"f\">lex=</span>CBT/</span><span class=\"st xft\" ><span class=\"f\">st=</span>a</span></div></div><div class=\"contnr c0 trm rtl  \" ><div class=\"lbl c0 trm \" ><span class=\"nd\">66891 </span> <a class=\" txtu hbo\" target=\"_blank\" href=\"https://shebanq.ancient-data.org/hebrew/word?version=2021&amp;id=1B\" title=\"Show this on SHEBANQ\"><span class=\"txtu hbo\">בְּ</span></a></div><div class=\"features\"><span class=\"lex xft\" ><span class=\"f\">lex=</span>B</span></div></div><div class=\"contnr c0 trm rtl  \" ><div class=\"lbl c0 trm \" ><span class=\"nd\">66892 </span> <a class=\" txtu hbo\" target=\"_blank\" href=\"https://shebanq.ancient-data.org/hebrew/word?version=2021&amp;id=1JWMn\" title=\"Show this on SHEBANQ\"><span class=\"txtu hbo\">יֹ֣ום </span></a></div><div class=\"features\"><span class=\"lex xft\" ><span class=\"f\">lex=</span>JWM/</span><span class=\"st xft\" ><span class=\"f\">st=</span>c</span></div></div><div class=\"contnr c0 trm rtl  \" ><div class=\"lbl c0 trm \" ><span class=\"nd\">66893 </span> <a class=\" txtu hbo\" target=\"_blank\" href=\"https://shebanq.ancient-data.org/hebrew/word?version=2021&amp;id=1H\" title=\"Show this on SHEBANQ\"><span class=\"txtu hbo\">הַ</span></a></div><div class=\"features\"><span class=\"lex xft\" ><span class=\"f\">lex=</span>H</span></div></div><div class=\"contnr c0 trm rtl  \" ><div class=\"lbl c0 trm \" ><span class=\"nd\">66894 </span> <a class=\" txtu hbo\" target=\"_blank\" href=\"https://shebanq.ancient-data.org/hebrew/word?version=2021&amp;id=1CBTn\" title=\"Show this on SHEBANQ\"><span class=\"txtu hbo\">שַּׁבָּ֗ת </span></a></div><div class=\"features\"><span class=\"lex xft\" ><span class=\"f\">lex=</span>CBT/</span><span class=\"st xft\" ><span class=\"f\">st=</span>a</span></div></div></div></div></div>"
      ],
      "text/plain": [
       "<IPython.core.display.HTML object>"
      ]
     },
     "metadata": {},
     "output_type": "display_data"
    },
    {
     "data": {
      "text/html": [
       "<p><b>result</b> <i>0</i>"
      ],
      "text/plain": [
       "<IPython.core.display.HTML object>"
      ]
     },
     "metadata": {},
     "output_type": "display_data"
    },
    {
     "data": {
      "text/html": [
       "<div class=\"tfsechead rtl\"><span class=\"ltr\"><a target=\"_blank\" href=\"https://shebanq.ancient-data.org/hebrew/text?book=Numeri&amp;chapter=7&amp;verse=86&amp;version=2021&amp;mr=m&amp;qw=q&amp;tp=txt_p&amp;tr=hb&amp;wget=v&amp;qget=v&amp;nget=vt\" title=\"Show this on SHEBANQ\" sec=\"Numbers 7:86\">Numbers 7:86</a></span></div><div class=\"rtl children\"><div class=\"contnr c1  rtl  \" ><div class=\"lbl c1  \" ><span class=\"nd\">phrase:694620 </span> <span class=\"\"><span title=\"typ\">NP</span> <span title=\"function\">PreC</span></span></div><div class=\"children hor wrap rtl\"><div class=\"contnr c0 trm rtl  \" ><div class=\"lbl c0 trm \" ><span class=\"nd\">75146 </span> <a class=\" txtu hbo\" target=\"_blank\" href=\"https://shebanq.ancient-data.org/hebrew/word?version=2021&amp;id=1OFRHin\" title=\"Show this on SHEBANQ\"><span class=\"txtu hbo\">עֲשָׂרָ֧ה </span></a></div><div class=\"features\"><span class=\"lex xft\" ><span class=\"f\">lex=</span>&lt;FRH=/</span><span class=\"st xft\" ><span class=\"f\">st=</span>a</span></div></div><div class=\"contnr c0 trm rtl  \" ><div class=\"lbl c0 trm \" ><span class=\"nd\">75147 </span> <a class=\" txtu hbo\" target=\"_blank\" href=\"https://shebanq.ancient-data.org/hebrew/word?version=2021&amp;id=1OFRHin\" title=\"Show this on SHEBANQ\"><span class=\"txtu hbo\">עֲשָׂרָ֛ה </span></a></div><div class=\"features\"><span class=\"lex xft\" ><span class=\"f\">lex=</span>&lt;FRH=/</span><span class=\"st xft\" ><span class=\"f\">st=</span>a</span></div></div></div></div></div>"
      ],
      "text/plain": [
       "<IPython.core.display.HTML object>"
      ]
     },
     "metadata": {},
     "output_type": "display_data"
    },
    {
     "data": {
      "text/html": [
       "<p><b>result</b> <i>0</i>"
      ],
      "text/plain": [
       "<IPython.core.display.HTML object>"
      ]
     },
     "metadata": {},
     "output_type": "display_data"
    },
    {
     "data": {
      "text/html": [
       "<div class=\"tfsechead rtl\"><span class=\"ltr\"><a target=\"_blank\" href=\"https://shebanq.ancient-data.org/hebrew/text?book=Numeri&amp;chapter=13&amp;verse=2&amp;version=2021&amp;mr=m&amp;qw=q&amp;tp=txt_p&amp;tr=hb&amp;wget=v&amp;qget=v&amp;nget=vt\" title=\"Show this on SHEBANQ\" sec=\"Numbers 13:2\">Numbers 13:2</a></span></div><div class=\"rtl children\"><div class=\"contnr c1  rtl  \" ><div class=\"lbl c1  \" ><span class=\"nd\">phrase:696207 </span> <span class=\"\"><span title=\"typ\">NP</span> <span title=\"function\">Objc</span></span></div><div class=\"children hor wrap rtl\"><div class=\"contnr c0 trm rtl  \" ><div class=\"lbl c0 trm \" ><span class=\"nd\">77885 </span> <a class=\" txtu hbo\" target=\"_blank\" href=\"https://shebanq.ancient-data.org/hebrew/word?version=2021&amp;id=1AJCn\" title=\"Show this on SHEBANQ\"><span class=\"txtu hbo\">אִ֣ישׁ </span></a></div><div class=\"features\"><span class=\"lex xft\" ><span class=\"f\">lex=</span>>JC/</span><span class=\"st xft\" ><span class=\"f\">st=</span>a</span></div></div><div class=\"contnr c0 trm rtl  \" ><div class=\"lbl c0 trm \" ><span class=\"nd\">77886 </span> <a class=\" txtu hbo\" target=\"_blank\" href=\"https://shebanq.ancient-data.org/hebrew/word?version=2021&amp;id=1AXDn\" title=\"Show this on SHEBANQ\"><span class=\"txtu hbo\">אֶחָד֩ </span></a></div><div class=\"features\"><span class=\"lex xft\" ><span class=\"f\">lex=</span>>XD/</span><span class=\"st xft\" ><span class=\"f\">st=</span>a</span></div></div><div class=\"contnr c0 trm rtl  \" ><div class=\"lbl c0 trm \" ><span class=\"nd\">77887 </span> <a class=\" txtu hbo\" target=\"_blank\" href=\"https://shebanq.ancient-data.org/hebrew/word?version=2021&amp;id=1AJCn\" title=\"Show this on SHEBANQ\"><span class=\"txtu hbo\">אִ֨ישׁ </span></a></div><div class=\"features\"><span class=\"lex xft\" ><span class=\"f\">lex=</span>>JC/</span><span class=\"st xft\" ><span class=\"f\">st=</span>a</span></div></div><div class=\"contnr c0 trm rtl  \" ><div class=\"lbl c0 trm \" ><span class=\"nd\">77888 </span> <a class=\" txtu hbo\" target=\"_blank\" href=\"https://shebanq.ancient-data.org/hebrew/word?version=2021&amp;id=1AXDn\" title=\"Show this on SHEBANQ\"><span class=\"txtu hbo\">אֶחָ֜ד </span></a></div><div class=\"features\"><span class=\"lex xft\" ><span class=\"f\">lex=</span>>XD/</span><span class=\"st xft\" ><span class=\"f\">st=</span>a</span></div></div><div class=\"contnr c0 trm rtl  \" ><div class=\"lbl c0 trm \" ><span class=\"nd\">77889 </span> <a class=\" txtu hbo\" target=\"_blank\" href=\"https://shebanq.ancient-data.org/hebrew/word?version=2021&amp;id=1L\" title=\"Show this on SHEBANQ\"><span class=\"txtu hbo\">לְ</span></a></div><div class=\"features\"><span class=\"lex xft\" ><span class=\"f\">lex=</span>L</span></div></div><div class=\"contnr c0 trm rtl  \" ><div class=\"lbl c0 trm \" ><span class=\"nd\">77890 </span> <a class=\" txtu hbo\" target=\"_blank\" href=\"https://shebanq.ancient-data.org/hebrew/word?version=2021&amp;id=1MVHn\" title=\"Show this on SHEBANQ\"><span class=\"txtu hbo\">מַטֵּ֤ה </span></a></div><div class=\"features\"><span class=\"lex xft\" ><span class=\"f\">lex=</span>MVH/</span><span class=\"st xft\" ><span class=\"f\">st=</span>c</span></div></div><div class=\"contnr c0 trm rtl  \" ><div class=\"lbl c0 trm \" ><span class=\"nd\">77891 </span> <a class=\" txtu hbo\" target=\"_blank\" href=\"https://shebanq.ancient-data.org/hebrew/word?version=2021&amp;id=1ABn\" title=\"Show this on SHEBANQ\"><span class=\"txtu hbo\">אֲבֹתָיו֙ </span></a></div><div class=\"features\"><span class=\"lex xft\" ><span class=\"f\">lex=</span>>B/</span><span class=\"st xft\" ><span class=\"f\">st=</span>a</span></div></div></div></div></div>"
      ],
      "text/plain": [
       "<IPython.core.display.HTML object>"
      ]
     },
     "metadata": {},
     "output_type": "display_data"
    },
    {
     "data": {
      "text/html": [
       "<p><b>result</b> <i>0</i>"
      ],
      "text/plain": [
       "<IPython.core.display.HTML object>"
      ]
     },
     "metadata": {},
     "output_type": "display_data"
    },
    {
     "data": {
      "text/html": [
       "<div class=\"tfsechead rtl\"><span class=\"ltr\"><a target=\"_blank\" href=\"https://shebanq.ancient-data.org/hebrew/text?book=Numeri&amp;chapter=34&amp;verse=18&amp;version=2021&amp;mr=m&amp;qw=q&amp;tp=txt_p&amp;tr=hb&amp;wget=v&amp;qget=v&amp;nget=vt\" title=\"Show this on SHEBANQ\" sec=\"Numbers 34:18\">Numbers 34:18</a></span></div><div class=\"rtl children\"><div class=\"contnr c1  rtl  \" ><div class=\"lbl c1  \" ><span class=\"nd\">phrase:703650 </span> <span class=\"\"><span title=\"typ\">NP</span> <span title=\"function\">Objc</span></span></div><div class=\"children hor wrap rtl\"><div class=\"contnr c0 trm rtl  \" ><div class=\"lbl c0 trm \" ><span class=\"nd\">91699 </span> <a class=\" txtu hbo\" target=\"_blank\" href=\"https://shebanq.ancient-data.org/hebrew/word?version=2021&amp;id=1NFJAn\" title=\"Show this on SHEBANQ\"><span class=\"txtu hbo\">נָשִׂ֥יא </span></a></div><div class=\"features\"><span class=\"lex xft\" ><span class=\"f\">lex=</span>NFJ>/</span><span class=\"st xft\" ><span class=\"f\">st=</span>a</span></div></div><div class=\"contnr c0 trm rtl  \" ><div class=\"lbl c0 trm \" ><span class=\"nd\">91700 </span> <a class=\" txtu hbo\" target=\"_blank\" href=\"https://shebanq.ancient-data.org/hebrew/word?version=2021&amp;id=1AXDn\" title=\"Show this on SHEBANQ\"><span class=\"txtu hbo\">אֶחָ֛ד </span></a></div><div class=\"features\"><span class=\"lex xft\" ><span class=\"f\">lex=</span>>XD/</span><span class=\"st xft\" ><span class=\"f\">st=</span>a</span></div></div><div class=\"contnr c0 trm rtl  \" ><div class=\"lbl c0 trm \" ><span class=\"nd\">91701 </span> <a class=\" txtu hbo\" target=\"_blank\" href=\"https://shebanq.ancient-data.org/hebrew/word?version=2021&amp;id=1NFJAn\" title=\"Show this on SHEBANQ\"><span class=\"txtu hbo\">נָשִׂ֥יא </span></a></div><div class=\"features\"><span class=\"lex xft\" ><span class=\"f\">lex=</span>NFJ>/</span><span class=\"st xft\" ><span class=\"f\">st=</span>a</span></div></div><div class=\"contnr c0 trm rtl  \" ><div class=\"lbl c0 trm \" ><span class=\"nd\">91702 </span> <a class=\" txtu hbo\" target=\"_blank\" href=\"https://shebanq.ancient-data.org/hebrew/word?version=2021&amp;id=1AXDn\" title=\"Show this on SHEBANQ\"><span class=\"txtu hbo\">אֶחָ֖ד </span></a></div><div class=\"features\"><span class=\"lex xft\" ><span class=\"f\">lex=</span>>XD/</span><span class=\"st xft\" ><span class=\"f\">st=</span>a</span></div></div></div></div></div>"
      ],
      "text/plain": [
       "<IPython.core.display.HTML object>"
      ]
     },
     "metadata": {},
     "output_type": "display_data"
    },
    {
     "data": {
      "text/html": [
       "<p><b>result</b> <i>0</i>"
      ],
      "text/plain": [
       "<IPython.core.display.HTML object>"
      ]
     },
     "metadata": {},
     "output_type": "display_data"
    },
    {
     "data": {
      "text/html": [
       "<div class=\"tfsechead rtl\"><span class=\"ltr\"><a target=\"_blank\" href=\"https://shebanq.ancient-data.org/hebrew/text?book=Deuteronomium&amp;chapter=2&amp;verse=27&amp;version=2021&amp;mr=m&amp;qw=q&amp;tp=txt_p&amp;tr=hb&amp;wget=v&amp;qget=v&amp;nget=vt\" title=\"Show this on SHEBANQ\" sec=\"Deuteronomy 2:27\">Deuteronomy 2:27</a></span></div><div class=\"rtl children\"><div class=\"contnr c1  rtl  \" ><div class=\"lbl c1  \" ><span class=\"nd\">phrase:705082 </span> <span class=\"\"><span title=\"typ\">PP</span> <span title=\"function\">Cmpl</span></span></div><div class=\"children hor wrap rtl\"><div class=\"contnr c0 trm rtl  \" ><div class=\"lbl c0 trm \" ><span class=\"nd\">94258 </span> <a class=\" txtu hbo\" target=\"_blank\" href=\"https://shebanq.ancient-data.org/hebrew/word?version=2021&amp;id=1B\" title=\"Show this on SHEBANQ\"><span class=\"txtu hbo\">בַּ</span></a></div><div class=\"features\"><span class=\"lex xft\" ><span class=\"f\">lex=</span>B</span></div></div><div class=\"contnr c0 trm rtl  \" ><div class=\"lbl c0 trm \" ><span class=\"nd\">94259 </span> <a class=\" txtu hbo\" target=\"_blank\" href=\"https://shebanq.ancient-data.org/hebrew/word?version=2021&amp;id=1H\" title=\"Show this on SHEBANQ\"></a></div><div class=\"features\"><span class=\"lex xft\" ><span class=\"f\">lex=</span>H</span></div></div><div class=\"contnr c0 trm rtl  \" ><div class=\"lbl c0 trm \" ><span class=\"nd\">94260 </span> <a class=\" txtu hbo\" target=\"_blank\" href=\"https://shebanq.ancient-data.org/hebrew/word?version=2021&amp;id=1DRKn\" title=\"Show this on SHEBANQ\"><span class=\"txtu hbo\">דֶּ֥רֶךְ </span></a></div><div class=\"features\"><span class=\"lex xft\" ><span class=\"f\">lex=</span>DRK/</span><span class=\"st xft\" ><span class=\"f\">st=</span>a</span></div></div><div class=\"contnr c0 trm rtl  \" ><div class=\"lbl c0 trm \" ><span class=\"nd\">94261 </span> <a class=\" txtu hbo\" target=\"_blank\" href=\"https://shebanq.ancient-data.org/hebrew/word?version=2021&amp;id=1B\" title=\"Show this on SHEBANQ\"><span class=\"txtu hbo\">בַּ</span></a></div><div class=\"features\"><span class=\"lex xft\" ><span class=\"f\">lex=</span>B</span></div></div><div class=\"contnr c0 trm rtl  \" ><div class=\"lbl c0 trm \" ><span class=\"nd\">94262 </span> <a class=\" txtu hbo\" target=\"_blank\" href=\"https://shebanq.ancient-data.org/hebrew/word?version=2021&amp;id=1H\" title=\"Show this on SHEBANQ\"></a></div><div class=\"features\"><span class=\"lex xft\" ><span class=\"f\">lex=</span>H</span></div></div><div class=\"contnr c0 trm rtl  \" ><div class=\"lbl c0 trm \" ><span class=\"nd\">94263 </span> <a class=\" txtu hbo\" target=\"_blank\" href=\"https://shebanq.ancient-data.org/hebrew/word?version=2021&amp;id=1DRKn\" title=\"Show this on SHEBANQ\"><span class=\"txtu hbo\">דֶּ֖רֶךְ </span></a></div><div class=\"features\"><span class=\"lex xft\" ><span class=\"f\">lex=</span>DRK/</span><span class=\"st xft\" ><span class=\"f\">st=</span>a</span></div></div></div></div></div>"
      ],
      "text/plain": [
       "<IPython.core.display.HTML object>"
      ]
     },
     "metadata": {},
     "output_type": "display_data"
    },
    {
     "data": {
      "text/html": [
       "<p><b>result</b> <i>0</i>"
      ],
      "text/plain": [
       "<IPython.core.display.HTML object>"
      ]
     },
     "metadata": {},
     "output_type": "display_data"
    },
    {
     "data": {
      "text/html": [
       "<div class=\"tfsechead rtl\"><span class=\"ltr\"><a target=\"_blank\" href=\"https://shebanq.ancient-data.org/hebrew/text?book=Deuteronomium&amp;chapter=16&amp;verse=20&amp;version=2021&amp;mr=m&amp;qw=q&amp;tp=txt_p&amp;tr=hb&amp;wget=v&amp;qget=v&amp;nget=vt\" title=\"Show this on SHEBANQ\" sec=\"Deuteronomy 16:20\">Deuteronomy 16:20</a></span></div><div class=\"rtl children\"><div class=\"contnr c1  rtl  \" ><div class=\"lbl c1  \" ><span class=\"nd\">phrase:709808 </span> <span class=\"\"><span title=\"typ\">NP</span> <span title=\"function\">Objc</span></span></div><div class=\"children hor wrap rtl\"><div class=\"contnr c0 trm rtl  \" ><div class=\"lbl c0 trm \" ><span class=\"nd\">102900 </span> <a class=\" txtu hbo\" target=\"_blank\" href=\"https://shebanq.ancient-data.org/hebrew/word?version=2021&amp;id=1YDQn\" title=\"Show this on SHEBANQ\"><span class=\"txtu hbo\">צֶ֥דֶק </span></a></div><div class=\"features\"><span class=\"lex xft\" ><span class=\"f\">lex=</span>YDQ/</span><span class=\"st xft\" ><span class=\"f\">st=</span>a</span></div></div><div class=\"contnr c0 trm rtl  \" ><div class=\"lbl c0 trm \" ><span class=\"nd\">102901 </span> <a class=\" txtu hbo\" target=\"_blank\" href=\"https://shebanq.ancient-data.org/hebrew/word?version=2021&amp;id=1YDQn\" title=\"Show this on SHEBANQ\"><span class=\"txtu hbo\">צֶ֖דֶק </span></a></div><div class=\"features\"><span class=\"lex xft\" ><span class=\"f\">lex=</span>YDQ/</span><span class=\"st xft\" ><span class=\"f\">st=</span>a</span></div></div></div></div></div>"
      ],
      "text/plain": [
       "<IPython.core.display.HTML object>"
      ]
     },
     "metadata": {},
     "output_type": "display_data"
    },
    {
     "data": {
      "text/html": [
       "<p><b>result</b> <i>0</i>"
      ],
      "text/plain": [
       "<IPython.core.display.HTML object>"
      ]
     },
     "metadata": {},
     "output_type": "display_data"
    },
    {
     "data": {
      "text/html": [
       "<div class=\"tfsechead rtl\"><span class=\"ltr\"><a target=\"_blank\" href=\"https://shebanq.ancient-data.org/hebrew/text?book=Josua&amp;chapter=21&amp;verse=42&amp;version=2021&amp;mr=m&amp;qw=q&amp;tp=txt_p&amp;tr=hb&amp;wget=v&amp;qget=v&amp;nget=vt\" title=\"Show this on SHEBANQ\" sec=\"Joshua 21:42\">Joshua 21:42</a></span></div><div class=\"rtl children\"><div class=\"contnr c1  rtl  \" ><div class=\"lbl c1  \" ><span class=\"nd\">phrase:721716 </span> <span class=\"\"><span title=\"typ\">NP</span> <span title=\"function\">PreC</span></span></div><div class=\"children hor wrap rtl\"><div class=\"contnr c0 trm rtl  \" ><div class=\"lbl c0 trm \" ><span class=\"nd\">125158 </span> <a class=\" txtu hbo\" target=\"_blank\" href=\"https://shebanq.ancient-data.org/hebrew/word?version=2021&amp;id=1OJRn\" title=\"Show this on SHEBANQ\"><span class=\"txtu hbo\">עִ֣יר </span></a></div><div class=\"features\"><span class=\"lex xft\" ><span class=\"f\">lex=</span>&lt;JR/</span><span class=\"st xft\" ><span class=\"f\">st=</span>a</span></div></div><div class=\"contnr c0 trm rtl  \" ><div class=\"lbl c0 trm \" ><span class=\"nd\">125159 </span> <a class=\" txtu hbo\" target=\"_blank\" href=\"https://shebanq.ancient-data.org/hebrew/word?version=2021&amp;id=1OJRn\" title=\"Show this on SHEBANQ\"><span class=\"txtu hbo\">עִ֔יר </span></a></div><div class=\"features\"><span class=\"lex xft\" ><span class=\"f\">lex=</span>&lt;JR/</span><span class=\"st xft\" ><span class=\"f\">st=</span>a</span></div></div></div></div></div>"
      ],
      "text/plain": [
       "<IPython.core.display.HTML object>"
      ]
     },
     "metadata": {},
     "output_type": "display_data"
    },
    {
     "data": {
      "text/html": [
       "<p><b>result</b> <i>0</i>"
      ],
      "text/plain": [
       "<IPython.core.display.HTML object>"
      ]
     },
     "metadata": {},
     "output_type": "display_data"
    },
    {
     "data": {
      "text/html": [
       "<div class=\"tfsechead rtl\"><span class=\"ltr\"><a target=\"_blank\" href=\"https://shebanq.ancient-data.org/hebrew/text?book=Samuel_I&amp;chapter=2&amp;verse=3&amp;version=2021&amp;mr=m&amp;qw=q&amp;tp=txt_p&amp;tr=hb&amp;wget=v&amp;qget=v&amp;nget=vt\" title=\"Show this on SHEBANQ\" sec=\"1_Samuel 2:3\">1_Samuel 2:3</a></span></div><div class=\"rtl children\"><div class=\"contnr c1  rtl  \" ><div class=\"lbl c1  \" ><span class=\"nd\">phrase:732044 </span> <span class=\"\"><span title=\"typ\">NP</span> <span title=\"function\">Objc</span></span></div><div class=\"children hor wrap rtl\"><div class=\"contnr c0 trm rtl  \" ><div class=\"lbl c0 trm \" ><span class=\"nd\">142152 </span> <a class=\" txtu hbo\" target=\"_blank\" href=\"https://shebanq.ancient-data.org/hebrew/word?version=2021&amp;id=1GBHn\" title=\"Show this on SHEBANQ\"><span class=\"txtu hbo\">גְּבֹהָ֣ה </span></a></div><div class=\"features\"><span class=\"lex xft\" ><span class=\"f\">lex=</span>GBH/</span><span class=\"st xft\" ><span class=\"f\">st=</span>a</span></div></div><div class=\"contnr c0 trm rtl  \" ><div class=\"lbl c0 trm \" ><span class=\"nd\">142153 </span> <a class=\" txtu hbo\" target=\"_blank\" href=\"https://shebanq.ancient-data.org/hebrew/word?version=2021&amp;id=1GBHn\" title=\"Show this on SHEBANQ\"><span class=\"txtu hbo\">גְבֹהָ֔ה </span></a></div><div class=\"features\"><span class=\"lex xft\" ><span class=\"f\">lex=</span>GBH/</span><span class=\"st xft\" ><span class=\"f\">st=</span>a</span></div></div></div></div></div>"
      ],
      "text/plain": [
       "<IPython.core.display.HTML object>"
      ]
     },
     "metadata": {},
     "output_type": "display_data"
    },
    {
     "data": {
      "text/html": [
       "<p><b>result</b> <i>0</i>"
      ],
      "text/plain": [
       "<IPython.core.display.HTML object>"
      ]
     },
     "metadata": {},
     "output_type": "display_data"
    },
    {
     "data": {
      "text/html": [
       "<div class=\"tfsechead rtl\"><span class=\"ltr\"><a target=\"_blank\" href=\"https://shebanq.ancient-data.org/hebrew/text?book=Samuel_II&amp;chapter=13&amp;verse=4&amp;version=2021&amp;mr=m&amp;qw=q&amp;tp=txt_p&amp;tr=hb&amp;wget=v&amp;qget=v&amp;nget=vt\" title=\"Show this on SHEBANQ\" sec=\"2_Samuel 13:4\">2_Samuel 13:4</a></span></div><div class=\"rtl children\"><div class=\"contnr c1  rtl  \" ><div class=\"lbl c1  \" ><span class=\"nd\">phrase:747922 </span> <span class=\"\"><span title=\"typ\">PP</span> <span title=\"function\">Time</span></span></div><div class=\"children hor wrap rtl\"><div class=\"contnr c0 trm rtl  \" ><div class=\"lbl c0 trm \" ><span class=\"nd\">167189 </span> <a class=\" txtu hbo\" target=\"_blank\" href=\"https://shebanq.ancient-data.org/hebrew/word?version=2021&amp;id=1B\" title=\"Show this on SHEBANQ\"><span class=\"txtu hbo\">בַּ</span></a></div><div class=\"features\"><span class=\"lex xft\" ><span class=\"f\">lex=</span>B</span></div></div><div class=\"contnr c0 trm rtl  \" ><div class=\"lbl c0 trm \" ><span class=\"nd\">167190 </span> <a class=\" txtu hbo\" target=\"_blank\" href=\"https://shebanq.ancient-data.org/hebrew/word?version=2021&amp;id=1H\" title=\"Show this on SHEBANQ\"></a></div><div class=\"features\"><span class=\"lex xft\" ><span class=\"f\">lex=</span>H</span></div></div><div class=\"contnr c0 trm rtl  \" ><div class=\"lbl c0 trm \" ><span class=\"nd\">167191 </span> <a class=\" txtu hbo\" target=\"_blank\" href=\"https://shebanq.ancient-data.org/hebrew/word?version=2021&amp;id=1BQRin\" title=\"Show this on SHEBANQ\"><span class=\"txtu hbo\">בֹּ֣קֶר </span></a></div><div class=\"features\"><span class=\"lex xft\" ><span class=\"f\">lex=</span>BQR=/</span><span class=\"st xft\" ><span class=\"f\">st=</span>a</span></div></div><div class=\"contnr c0 trm rtl  \" ><div class=\"lbl c0 trm \" ><span class=\"nd\">167192 </span> <a class=\" txtu hbo\" target=\"_blank\" href=\"https://shebanq.ancient-data.org/hebrew/word?version=2021&amp;id=1B\" title=\"Show this on SHEBANQ\"><span class=\"txtu hbo\">בַּ</span></a></div><div class=\"features\"><span class=\"lex xft\" ><span class=\"f\">lex=</span>B</span></div></div><div class=\"contnr c0 trm rtl  \" ><div class=\"lbl c0 trm \" ><span class=\"nd\">167193 </span> <a class=\" txtu hbo\" target=\"_blank\" href=\"https://shebanq.ancient-data.org/hebrew/word?version=2021&amp;id=1H\" title=\"Show this on SHEBANQ\"></a></div><div class=\"features\"><span class=\"lex xft\" ><span class=\"f\">lex=</span>H</span></div></div><div class=\"contnr c0 trm rtl  \" ><div class=\"lbl c0 trm \" ><span class=\"nd\">167194 </span> <a class=\" txtu hbo\" target=\"_blank\" href=\"https://shebanq.ancient-data.org/hebrew/word?version=2021&amp;id=1BQRin\" title=\"Show this on SHEBANQ\"><span class=\"txtu hbo\">בֹּ֔קֶר </span></a></div><div class=\"features\"><span class=\"lex xft\" ><span class=\"f\">lex=</span>BQR=/</span><span class=\"st xft\" ><span class=\"f\">st=</span>a</span></div></div></div></div></div>"
      ],
      "text/plain": [
       "<IPython.core.display.HTML object>"
      ]
     },
     "metadata": {},
     "output_type": "display_data"
    },
    {
     "data": {
      "text/html": [
       "<p><b>result</b> <i>0</i>"
      ],
      "text/plain": [
       "<IPython.core.display.HTML object>"
      ]
     },
     "metadata": {},
     "output_type": "display_data"
    },
    {
     "data": {
      "text/html": [
       "<div class=\"tfsechead rtl\"><span class=\"ltr\"><a target=\"_blank\" href=\"https://shebanq.ancient-data.org/hebrew/text?book=Reges_II&amp;chapter=3&amp;verse=16&amp;version=2021&amp;mr=m&amp;qw=q&amp;tp=txt_p&amp;tr=hb&amp;wget=v&amp;qget=v&amp;nget=vt\" title=\"Show this on SHEBANQ\" sec=\"2_Kings 3:16\">2_Kings 3:16</a></span></div><div class=\"rtl children\"><div class=\"contnr c1  rtl  \" ><div class=\"lbl c1  \" ><span class=\"nd\">phrase:765052 </span> <span class=\"\"><span title=\"typ\">NP</span> <span title=\"function\">Objc</span></span></div><div class=\"children hor wrap rtl\"><div class=\"contnr c0 trm rtl  \" ><div class=\"lbl c0 trm \" ><span class=\"nd\">196189 </span> <a class=\" txtu hbo\" target=\"_blank\" href=\"https://shebanq.ancient-data.org/hebrew/word?version=2021&amp;id=1GBin\" title=\"Show this on SHEBANQ\"><span class=\"txtu hbo\">גֵּבִ֥ים׀ </span></a></div><div class=\"features\"><span class=\"lex xft\" ><span class=\"f\">lex=</span>GB=/</span><span class=\"st xft\" ><span class=\"f\">st=</span>a</span></div></div><div class=\"contnr c0 trm rtl  \" ><div class=\"lbl c0 trm \" ><span class=\"nd\">196190 </span> <a class=\" txtu hbo\" target=\"_blank\" href=\"https://shebanq.ancient-data.org/hebrew/word?version=2021&amp;id=1GBin\" title=\"Show this on SHEBANQ\"><span class=\"txtu hbo\">גֵּבִֽים׃ </span></a></div><div class=\"features\"><span class=\"lex xft\" ><span class=\"f\">lex=</span>GB=/</span><span class=\"st xft\" ><span class=\"f\">st=</span>a</span></div></div></div></div></div>"
      ],
      "text/plain": [
       "<IPython.core.display.HTML object>"
      ]
     },
     "metadata": {},
     "output_type": "display_data"
    },
    {
     "data": {
      "text/html": [
       "<p><b>result</b> <i>0</i>"
      ],
      "text/plain": [
       "<IPython.core.display.HTML object>"
      ]
     },
     "metadata": {},
     "output_type": "display_data"
    },
    {
     "data": {
      "text/html": [
       "<div class=\"tfsechead rtl\"><span class=\"ltr\"><a target=\"_blank\" href=\"https://shebanq.ancient-data.org/hebrew/text?book=Reges_II&amp;chapter=25&amp;verse=15&amp;version=2021&amp;mr=m&amp;qw=q&amp;tp=txt_p&amp;tr=hb&amp;wget=v&amp;qget=v&amp;nget=vt\" title=\"Show this on SHEBANQ\" sec=\"2_Kings 25:15\">2_Kings 25:15</a></span></div><div class=\"rtl children\"><div class=\"contnr c1  rtl  \" ><div class=\"lbl c1  \" ><span class=\"nd\">phrase:773943 </span> <span class=\"\"><span title=\"typ\">NP</span> <span title=\"function\">PreC</span></span></div><div class=\"children hor wrap rtl\"><div class=\"contnr c0 trm rtl  \" ><div class=\"lbl c0 trm \" ><span class=\"nd\">211652 </span> <a class=\" txtu hbo\" target=\"_blank\" href=\"https://shebanq.ancient-data.org/hebrew/word?version=2021&amp;id=1ZHBn\" title=\"Show this on SHEBANQ\"><span class=\"txtu hbo\">זָהָב֙ </span></a></div><div class=\"features\"><span class=\"lex xft\" ><span class=\"f\">lex=</span>ZHB/</span><span class=\"st xft\" ><span class=\"f\">st=</span>a</span></div></div><div class=\"contnr c0 trm rtl  \" ><div class=\"lbl c0 trm \" ><span class=\"nd\">211653 </span> <a class=\" txtu hbo\" target=\"_blank\" href=\"https://shebanq.ancient-data.org/hebrew/word?version=2021&amp;id=1ZHBn\" title=\"Show this on SHEBANQ\"><span class=\"txtu hbo\">זָהָ֔ב </span></a></div><div class=\"features\"><span class=\"lex xft\" ><span class=\"f\">lex=</span>ZHB/</span><span class=\"st xft\" ><span class=\"f\">st=</span>a</span></div></div></div></div></div>"
      ],
      "text/plain": [
       "<IPython.core.display.HTML object>"
      ]
     },
     "metadata": {},
     "output_type": "display_data"
    },
    {
     "data": {
      "text/html": [
       "<p><b>result</b> <i>0</i>"
      ],
      "text/plain": [
       "<IPython.core.display.HTML object>"
      ]
     },
     "metadata": {},
     "output_type": "display_data"
    },
    {
     "data": {
      "text/html": [
       "<div class=\"tfsechead rtl\"><span class=\"ltr\"><a target=\"_blank\" href=\"https://shebanq.ancient-data.org/hebrew/text?book=Reges_II&amp;chapter=25&amp;verse=15&amp;version=2021&amp;mr=m&amp;qw=q&amp;tp=txt_p&amp;tr=hb&amp;wget=v&amp;qget=v&amp;nget=vt\" title=\"Show this on SHEBANQ\" sec=\"2_Kings 25:15\">2_Kings 25:15</a></span></div><div class=\"rtl children\"><div class=\"contnr c1  rtl  \" ><div class=\"lbl c1  \" ><span class=\"nd\">phrase:773946 </span> <span class=\"\"><span title=\"typ\">NP</span> <span title=\"function\">PreC</span></span></div><div class=\"children hor wrap rtl\"><div class=\"contnr c0 trm rtl  \" ><div class=\"lbl c0 trm \" ><span class=\"nd\">211656 </span> <a class=\" txtu hbo\" target=\"_blank\" href=\"https://shebanq.ancient-data.org/hebrew/word?version=2021&amp;id=1KSPn\" title=\"Show this on SHEBANQ\"><span class=\"txtu hbo\">כֶּ֖סֶף </span></a></div><div class=\"features\"><span class=\"lex xft\" ><span class=\"f\">lex=</span>KSP/</span><span class=\"st xft\" ><span class=\"f\">st=</span>a</span></div></div><div class=\"contnr c0 trm rtl  \" ><div class=\"lbl c0 trm \" ><span class=\"nd\">211657 </span> <a class=\" txtu hbo\" target=\"_blank\" href=\"https://shebanq.ancient-data.org/hebrew/word?version=2021&amp;id=1KSPn\" title=\"Show this on SHEBANQ\"><span class=\"txtu hbo\">כָּ֑סֶף </span></a></div><div class=\"features\"><span class=\"lex xft\" ><span class=\"f\">lex=</span>KSP/</span><span class=\"st xft\" ><span class=\"f\">st=</span>a</span></div></div></div></div></div>"
      ],
      "text/plain": [
       "<IPython.core.display.HTML object>"
      ]
     },
     "metadata": {},
     "output_type": "display_data"
    },
    {
     "data": {
      "text/html": [
       "<p><b>result</b> <i>0</i>"
      ],
      "text/plain": [
       "<IPython.core.display.HTML object>"
      ]
     },
     "metadata": {},
     "output_type": "display_data"
    },
    {
     "data": {
      "text/html": [
       "<div class=\"tfsechead rtl\"><span class=\"ltr\"><a target=\"_blank\" href=\"https://shebanq.ancient-data.org/hebrew/text?book=Jeremia&amp;chapter=52&amp;verse=19&amp;version=2021&amp;mr=m&amp;qw=q&amp;tp=txt_p&amp;tr=hb&amp;wget=v&amp;qget=v&amp;nget=vt\" title=\"Show this on SHEBANQ\" sec=\"Jeremiah 52:19\">Jeremiah 52:19</a></span></div><div class=\"rtl children\"><div class=\"contnr c1  rtl  \" ><div class=\"lbl c1  \" ><span class=\"nd\">phrase:806605 </span> <span class=\"\"><span title=\"typ\">NP</span> <span title=\"function\">PreC</span></span></div><div class=\"children hor wrap rtl\"><div class=\"contnr c0 trm rtl  \" ><div class=\"lbl c0 trm \" ><span class=\"nd\">264373 </span> <a class=\" txtu hbo\" target=\"_blank\" href=\"https://shebanq.ancient-data.org/hebrew/word?version=2021&amp;id=1ZHBn\" title=\"Show this on SHEBANQ\"><span class=\"txtu hbo\">זָהָב֙ </span></a></div><div class=\"features\"><span class=\"lex xft\" ><span class=\"f\">lex=</span>ZHB/</span><span class=\"st xft\" ><span class=\"f\">st=</span>a</span></div></div><div class=\"contnr c0 trm rtl  \" ><div class=\"lbl c0 trm \" ><span class=\"nd\">264374 </span> <a class=\" txtu hbo\" target=\"_blank\" href=\"https://shebanq.ancient-data.org/hebrew/word?version=2021&amp;id=1ZHBn\" title=\"Show this on SHEBANQ\"><span class=\"txtu hbo\">זָהָ֔ב </span></a></div><div class=\"features\"><span class=\"lex xft\" ><span class=\"f\">lex=</span>ZHB/</span><span class=\"st xft\" ><span class=\"f\">st=</span>a</span></div></div></div></div></div>"
      ],
      "text/plain": [
       "<IPython.core.display.HTML object>"
      ]
     },
     "metadata": {},
     "output_type": "display_data"
    },
    {
     "data": {
      "text/html": [
       "<p><b>result</b> <i>0</i>"
      ],
      "text/plain": [
       "<IPython.core.display.HTML object>"
      ]
     },
     "metadata": {},
     "output_type": "display_data"
    },
    {
     "data": {
      "text/html": [
       "<div class=\"tfsechead rtl\"><span class=\"ltr\"><a target=\"_blank\" href=\"https://shebanq.ancient-data.org/hebrew/text?book=Jeremia&amp;chapter=52&amp;verse=19&amp;version=2021&amp;mr=m&amp;qw=q&amp;tp=txt_p&amp;tr=hb&amp;wget=v&amp;qget=v&amp;nget=vt\" title=\"Show this on SHEBANQ\" sec=\"Jeremiah 52:19\">Jeremiah 52:19</a></span></div><div class=\"rtl children\"><div class=\"contnr c1  rtl  \" ><div class=\"lbl c1  \" ><span class=\"nd\">phrase:806608 </span> <span class=\"\"><span title=\"typ\">NP</span> <span title=\"function\">PreC</span></span></div><div class=\"children hor wrap rtl\"><div class=\"contnr c0 trm rtl  \" ><div class=\"lbl c0 trm \" ><span class=\"nd\">264377 </span> <a class=\" txtu hbo\" target=\"_blank\" href=\"https://shebanq.ancient-data.org/hebrew/word?version=2021&amp;id=1KSPn\" title=\"Show this on SHEBANQ\"><span class=\"txtu hbo\">כֶּ֖סֶף </span></a></div><div class=\"features\"><span class=\"lex xft\" ><span class=\"f\">lex=</span>KSP/</span><span class=\"st xft\" ><span class=\"f\">st=</span>a</span></div></div><div class=\"contnr c0 trm rtl  \" ><div class=\"lbl c0 trm \" ><span class=\"nd\">264378 </span> <a class=\" txtu hbo\" target=\"_blank\" href=\"https://shebanq.ancient-data.org/hebrew/word?version=2021&amp;id=1KSPn\" title=\"Show this on SHEBANQ\"><span class=\"txtu hbo\">כָּ֑סֶף </span></a></div><div class=\"features\"><span class=\"lex xft\" ><span class=\"f\">lex=</span>KSP/</span><span class=\"st xft\" ><span class=\"f\">st=</span>a</span></div></div></div></div></div>"
      ],
      "text/plain": [
       "<IPython.core.display.HTML object>"
      ]
     },
     "metadata": {},
     "output_type": "display_data"
    },
    {
     "data": {
      "text/html": [
       "<p><b>result</b> <i>0</i>"
      ],
      "text/plain": [
       "<IPython.core.display.HTML object>"
      ]
     },
     "metadata": {},
     "output_type": "display_data"
    },
    {
     "data": {
      "text/html": [
       "<div class=\"tfsechead rtl\"><span class=\"ltr\"><a target=\"_blank\" href=\"https://shebanq.ancient-data.org/hebrew/text?book=Ezechiel&amp;chapter=44&amp;verse=19&amp;version=2021&amp;mr=m&amp;qw=q&amp;tp=txt_p&amp;tr=hb&amp;wget=v&amp;qget=v&amp;nget=vt\" title=\"Show this on SHEBANQ\" sec=\"Ezekiel 44:19\">Ezekiel 44:19</a></span></div><div class=\"rtl children\"><div class=\"contnr c1  rtl  \" ><div class=\"lbl c1  \" ><span class=\"nd\">phrase:821266 </span> <span class=\"\"><span title=\"typ\">PP</span> <span title=\"function\">Cmpl</span></span></div><div class=\"children hor wrap rtl\"><div class=\"contnr c0 trm rtl  \" ><div class=\"lbl c0 trm \" ><span class=\"nd\">288175 </span> <a class=\" txtu hbo\" target=\"_blank\" href=\"https://shebanq.ancient-data.org/hebrew/word?version=2021&amp;id=1AL\" title=\"Show this on SHEBANQ\"><span class=\"txtu hbo\">אֶל־</span></a></div><div class=\"features\"><span class=\"lex xft\" ><span class=\"f\">lex=</span>>L</span></div></div><div class=\"contnr c0 trm rtl  \" ><div class=\"lbl c0 trm \" ><span class=\"nd\">288176 </span> <a class=\" txtu hbo\" target=\"_blank\" href=\"https://shebanq.ancient-data.org/hebrew/word?version=2021&amp;id=1H\" title=\"Show this on SHEBANQ\"><span class=\"txtu hbo\">הֶ</span></a></div><div class=\"features\"><span class=\"lex xft\" ><span class=\"f\">lex=</span>H</span></div></div><div class=\"contnr c0 trm rtl  \" ><div class=\"lbl c0 trm \" ><span class=\"nd\">288177 </span> <a class=\" txtu hbo\" target=\"_blank\" href=\"https://shebanq.ancient-data.org/hebrew/word?version=2021&amp;id=1XYRn\" title=\"Show this on SHEBANQ\"><span class=\"txtu hbo\">חָצֵ֨ר </span></a></div><div class=\"features\"><span class=\"lex xft\" ><span class=\"f\">lex=</span>XYR/</span><span class=\"st xft\" ><span class=\"f\">st=</span>a</span></div></div><div class=\"contnr c0 trm rtl  \" ><div class=\"lbl c0 trm \" ><span class=\"nd\">288178 </span> <a class=\" txtu hbo\" target=\"_blank\" href=\"https://shebanq.ancient-data.org/hebrew/word?version=2021&amp;id=1H\" title=\"Show this on SHEBANQ\"><span class=\"txtu hbo\">הַ</span></a></div><div class=\"features\"><span class=\"lex xft\" ><span class=\"f\">lex=</span>H</span></div></div><div class=\"contnr c0 trm rtl  \" ><div class=\"lbl c0 trm \" ><span class=\"nd\">288179 </span> <a class=\" txtu hbo\" target=\"_blank\" href=\"https://shebanq.ancient-data.org/hebrew/word?version=2021&amp;id=1XJYWNn\" title=\"Show this on SHEBANQ\"><span class=\"txtu hbo\">חִיצֹונָ֜ה </span></a></div><div class=\"features\"><span class=\"lex xft\" ><span class=\"f\">lex=</span>XJYWN/</span><span class=\"st xft\" ><span class=\"f\">st=</span>a</span></div></div><div class=\"contnr c0 trm rtl  \" ><div class=\"lbl c0 trm \" ><span class=\"nd\">288180 </span> <a class=\" txtu hbo\" target=\"_blank\" href=\"https://shebanq.ancient-data.org/hebrew/word?version=2021&amp;id=1AL\" title=\"Show this on SHEBANQ\"><span class=\"txtu hbo\">אֶל־</span></a></div><div class=\"features\"><span class=\"lex xft\" ><span class=\"f\">lex=</span>>L</span></div></div><div class=\"contnr c0 trm rtl  \" ><div class=\"lbl c0 trm \" ><span class=\"nd\">288181 </span> <a class=\" txtu hbo\" target=\"_blank\" href=\"https://shebanq.ancient-data.org/hebrew/word?version=2021&amp;id=1H\" title=\"Show this on SHEBANQ\"><span class=\"txtu hbo\">הֶ</span></a></div><div class=\"features\"><span class=\"lex xft\" ><span class=\"f\">lex=</span>H</span></div></div><div class=\"contnr c0 trm rtl  \" ><div class=\"lbl c0 trm \" ><span class=\"nd\">288182 </span> <a class=\" txtu hbo\" target=\"_blank\" href=\"https://shebanq.ancient-data.org/hebrew/word?version=2021&amp;id=1XYRn\" title=\"Show this on SHEBANQ\"><span class=\"txtu hbo\">חָצֵ֣ר </span></a></div><div class=\"features\"><span class=\"lex xft\" ><span class=\"f\">lex=</span>XYR/</span><span class=\"st xft\" ><span class=\"f\">st=</span>a</span></div></div><div class=\"contnr c0 trm rtl  \" ><div class=\"lbl c0 trm \" ><span class=\"nd\">288183 </span> <a class=\" txtu hbo\" target=\"_blank\" href=\"https://shebanq.ancient-data.org/hebrew/word?version=2021&amp;id=1H\" title=\"Show this on SHEBANQ\"><span class=\"txtu hbo\">הַ</span></a></div><div class=\"features\"><span class=\"lex xft\" ><span class=\"f\">lex=</span>H</span></div></div><div class=\"contnr c0 trm rtl  \" ><div class=\"lbl c0 trm \" ><span class=\"nd\">288184 </span> <a class=\" txtu hbo\" target=\"_blank\" href=\"https://shebanq.ancient-data.org/hebrew/word?version=2021&amp;id=1XJYWNn\" title=\"Show this on SHEBANQ\"><span class=\"txtu hbo\">חִיצֹונָה֮ </span></a></div><div class=\"features\"><span class=\"lex xft\" ><span class=\"f\">lex=</span>XJYWN/</span><span class=\"st xft\" ><span class=\"f\">st=</span>a</span></div></div><div class=\"contnr c0 trm rtl  \" ><div class=\"lbl c0 trm \" ><span class=\"nd\">288185 </span> <a class=\" txtu hbo\" target=\"_blank\" href=\"https://shebanq.ancient-data.org/hebrew/word?version=2021&amp;id=1AL\" title=\"Show this on SHEBANQ\"><span class=\"txtu hbo\">אֶל־</span></a></div><div class=\"features\"><span class=\"lex xft\" ><span class=\"f\">lex=</span>>L</span></div></div><div class=\"contnr c0 trm rtl  \" ><div class=\"lbl c0 trm \" ><span class=\"nd\">288186 </span> <a class=\" txtu hbo\" target=\"_blank\" href=\"https://shebanq.ancient-data.org/hebrew/word?version=2021&amp;id=1H\" title=\"Show this on SHEBANQ\"><span class=\"txtu hbo\">הָ</span></a></div><div class=\"features\"><span class=\"lex xft\" ><span class=\"f\">lex=</span>H</span></div></div><div class=\"contnr c0 trm rtl  \" ><div class=\"lbl c0 trm \" ><span class=\"nd\">288187 </span> <a class=\" txtu hbo\" target=\"_blank\" href=\"https://shebanq.ancient-data.org/hebrew/word?version=2021&amp;id=1OMn\" title=\"Show this on SHEBANQ\"><span class=\"txtu hbo\">עָם֒ </span></a></div><div class=\"features\"><span class=\"lex xft\" ><span class=\"f\">lex=</span>&lt;M/</span><span class=\"st xft\" ><span class=\"f\">st=</span>a</span></div></div></div></div></div>"
      ],
      "text/plain": [
       "<IPython.core.display.HTML object>"
      ]
     },
     "metadata": {},
     "output_type": "display_data"
    },
    {
     "data": {
      "text/html": [
       "<p><b>result</b> <i>0</i>"
      ],
      "text/plain": [
       "<IPython.core.display.HTML object>"
      ]
     },
     "metadata": {},
     "output_type": "display_data"
    },
    {
     "data": {
      "text/html": [
       "<div class=\"tfsechead rtl\"><span class=\"ltr\"><a target=\"_blank\" href=\"https://shebanq.ancient-data.org/hebrew/text?book=Hosea&amp;chapter=5&amp;verse=14&amp;version=2021&amp;mr=m&amp;qw=q&amp;tp=txt_p&amp;tr=hb&amp;wget=v&amp;qget=v&amp;nget=vt\" title=\"Show this on SHEBANQ\" sec=\"Hosea 5:14\">Hosea 5:14</a></span></div><div class=\"rtl children\"><div class=\"contnr c1  rtl  \" ><div class=\"lbl c1  \" ><span class=\"nd\">phrase:823415 </span> <span class=\"\"><span title=\"typ\">PPrP</span> <span title=\"function\">Subj</span></span></div><div class=\"children hor wrap rtl\"><div class=\"contnr c0 trm rtl  \" ><div class=\"lbl c0 trm \" ><span class=\"nd\">292206 </span> <a class=\" txtu hbo\" target=\"_blank\" href=\"https://shebanq.ancient-data.org/hebrew/word?version=2021&amp;id=1ANJ\" title=\"Show this on SHEBANQ\"><span class=\"txtu hbo\">אֲנִ֨י </span></a></div><div class=\"features\"><span class=\"lex xft\" ><span class=\"f\">lex=</span>>NJ</span></div></div><div class=\"contnr c0 trm rtl  \" ><div class=\"lbl c0 trm \" ><span class=\"nd\">292207 </span> <a class=\" txtu hbo\" target=\"_blank\" href=\"https://shebanq.ancient-data.org/hebrew/word?version=2021&amp;id=1ANJ\" title=\"Show this on SHEBANQ\"><span class=\"txtu hbo\">אֲנִ֤י </span></a></div><div class=\"features\"><span class=\"lex xft\" ><span class=\"f\">lex=</span>>NJ</span></div></div></div></div></div>"
      ],
      "text/plain": [
       "<IPython.core.display.HTML object>"
      ]
     },
     "metadata": {},
     "output_type": "display_data"
    },
    {
     "data": {
      "text/html": [
       "<p><b>result</b> <i>0</i>"
      ],
      "text/plain": [
       "<IPython.core.display.HTML object>"
      ]
     },
     "metadata": {},
     "output_type": "display_data"
    },
    {
     "data": {
      "text/html": [
       "<div class=\"tfsechead rtl\"><span class=\"ltr\"><a target=\"_blank\" href=\"https://shebanq.ancient-data.org/hebrew/text?book=Chronica_I&amp;chapter=9&amp;verse=27&amp;version=2021&amp;mr=m&amp;qw=q&amp;tp=txt_p&amp;tr=hb&amp;wget=v&amp;qget=v&amp;nget=vt\" title=\"Show this on SHEBANQ\" sec=\"1_Chronicles 9:27\">1_Chronicles 9:27</a></span></div><div class=\"rtl children\"><div class=\"contnr c1  rtl  \" ><div class=\"lbl c1  \" ><span class=\"nd\">phrase:889544 </span> <span class=\"\"><span title=\"typ\">PP</span> <span title=\"function\">Time</span></span></div><div class=\"children hor wrap rtl\"><div class=\"contnr c0 trm rtl  \" ><div class=\"lbl c0 trm \" ><span class=\"nd\">396439 </span> <a class=\" txtu hbo\" target=\"_blank\" href=\"https://shebanq.ancient-data.org/hebrew/word?version=2021&amp;id=1L\" title=\"Show this on SHEBANQ\"><span class=\"txtu hbo\">לַ</span></a></div><div class=\"features\"><span class=\"lex xft\" ><span class=\"f\">lex=</span>L</span></div></div><div class=\"contnr c0 trm rtl  \" ><div class=\"lbl c0 trm \" ><span class=\"nd\">396440 </span> <a class=\" txtu hbo\" target=\"_blank\" href=\"https://shebanq.ancient-data.org/hebrew/word?version=2021&amp;id=1H\" title=\"Show this on SHEBANQ\"></a></div><div class=\"features\"><span class=\"lex xft\" ><span class=\"f\">lex=</span>H</span></div></div><div class=\"contnr c0 trm rtl  \" ><div class=\"lbl c0 trm \" ><span class=\"nd\">396441 </span> <a class=\" txtu hbo\" target=\"_blank\" href=\"https://shebanq.ancient-data.org/hebrew/word?version=2021&amp;id=1BQRin\" title=\"Show this on SHEBANQ\"><span class=\"txtu hbo\">בֹּ֥קֶר </span></a></div><div class=\"features\"><span class=\"lex xft\" ><span class=\"f\">lex=</span>BQR=/</span><span class=\"st xft\" ><span class=\"f\">st=</span>a</span></div></div><div class=\"contnr c0 trm rtl  \" ><div class=\"lbl c0 trm \" ><span class=\"nd\">396442 </span> <a class=\" txtu hbo\" target=\"_blank\" href=\"https://shebanq.ancient-data.org/hebrew/word?version=2021&amp;id=1L\" title=\"Show this on SHEBANQ\"><span class=\"txtu hbo\">לַ</span></a></div><div class=\"features\"><span class=\"lex xft\" ><span class=\"f\">lex=</span>L</span></div></div><div class=\"contnr c0 trm rtl  \" ><div class=\"lbl c0 trm \" ><span class=\"nd\">396443 </span> <a class=\" txtu hbo\" target=\"_blank\" href=\"https://shebanq.ancient-data.org/hebrew/word?version=2021&amp;id=1H\" title=\"Show this on SHEBANQ\"></a></div><div class=\"features\"><span class=\"lex xft\" ><span class=\"f\">lex=</span>H</span></div></div><div class=\"contnr c0 trm rtl  \" ><div class=\"lbl c0 trm \" ><span class=\"nd\">396444 </span> <a class=\" txtu hbo\" target=\"_blank\" href=\"https://shebanq.ancient-data.org/hebrew/word?version=2021&amp;id=1BQRin\" title=\"Show this on SHEBANQ\"><span class=\"txtu hbo\">בֹּֽקֶר׃ </span></a></div><div class=\"features\"><span class=\"lex xft\" ><span class=\"f\">lex=</span>BQR=/</span><span class=\"st xft\" ><span class=\"f\">st=</span>a</span></div></div></div></div></div>"
      ],
      "text/plain": [
       "<IPython.core.display.HTML object>"
      ]
     },
     "metadata": {},
     "output_type": "display_data"
    },
    {
     "data": {
      "text/html": [
       "<p><b>result</b> <i>0</i>"
      ],
      "text/plain": [
       "<IPython.core.display.HTML object>"
      ]
     },
     "metadata": {},
     "output_type": "display_data"
    },
    {
     "data": {
      "text/html": [
       "<div class=\"tfsechead rtl\"><span class=\"ltr\"><a target=\"_blank\" href=\"https://shebanq.ancient-data.org/hebrew/text?book=Chronica_I&amp;chapter=23&amp;verse=30&amp;version=2021&amp;mr=m&amp;qw=q&amp;tp=txt_p&amp;tr=hb&amp;wget=v&amp;qget=v&amp;nget=vt\" title=\"Show this on SHEBANQ\" sec=\"1_Chronicles 23:30\">1_Chronicles 23:30</a></span></div><div class=\"rtl children\"><div class=\"contnr c1  rtl  \" ><div class=\"lbl c1  \" ><span class=\"nd\">phrase:893264 </span> <span class=\"\"><span title=\"typ\">PP</span> <span title=\"function\">Time</span></span></div><div class=\"children hor wrap rtl\"><div class=\"contnr c0 trm rtl  \" ><div class=\"lbl c0 trm \" ><span class=\"nd\">403400 </span> <a class=\" txtu hbo\" target=\"_blank\" href=\"https://shebanq.ancient-data.org/hebrew/word?version=2021&amp;id=1B\" title=\"Show this on SHEBANQ\"><span class=\"txtu hbo\">בַּ</span></a></div><div class=\"features\"><span class=\"lex xft\" ><span class=\"f\">lex=</span>B</span></div></div><div class=\"contnr c0 trm rtl  \" ><div class=\"lbl c0 trm \" ><span class=\"nd\">403401 </span> <a class=\" txtu hbo\" target=\"_blank\" href=\"https://shebanq.ancient-data.org/hebrew/word?version=2021&amp;id=1H\" title=\"Show this on SHEBANQ\"></a></div><div class=\"features\"><span class=\"lex xft\" ><span class=\"f\">lex=</span>H</span></div></div><div class=\"contnr c0 trm rtl  \" ><div class=\"lbl c0 trm \" ><span class=\"nd\">403402 </span> <a class=\" txtu hbo\" target=\"_blank\" href=\"https://shebanq.ancient-data.org/hebrew/word?version=2021&amp;id=1BQRin\" title=\"Show this on SHEBANQ\"><span class=\"txtu hbo\">בֹּ֣קֶר </span></a></div><div class=\"features\"><span class=\"lex xft\" ><span class=\"f\">lex=</span>BQR=/</span><span class=\"st xft\" ><span class=\"f\">st=</span>a</span></div></div><div class=\"contnr c0 trm rtl  \" ><div class=\"lbl c0 trm \" ><span class=\"nd\">403403 </span> <a class=\" txtu hbo\" target=\"_blank\" href=\"https://shebanq.ancient-data.org/hebrew/word?version=2021&amp;id=1B\" title=\"Show this on SHEBANQ\"><span class=\"txtu hbo\">בַּ</span></a></div><div class=\"features\"><span class=\"lex xft\" ><span class=\"f\">lex=</span>B</span></div></div><div class=\"contnr c0 trm rtl  \" ><div class=\"lbl c0 trm \" ><span class=\"nd\">403404 </span> <a class=\" txtu hbo\" target=\"_blank\" href=\"https://shebanq.ancient-data.org/hebrew/word?version=2021&amp;id=1H\" title=\"Show this on SHEBANQ\"></a></div><div class=\"features\"><span class=\"lex xft\" ><span class=\"f\">lex=</span>H</span></div></div><div class=\"contnr c0 trm rtl  \" ><div class=\"lbl c0 trm \" ><span class=\"nd\">403405 </span> <a class=\" txtu hbo\" target=\"_blank\" href=\"https://shebanq.ancient-data.org/hebrew/word?version=2021&amp;id=1BQRin\" title=\"Show this on SHEBANQ\"><span class=\"txtu hbo\">בֹּ֔קֶר </span></a></div><div class=\"features\"><span class=\"lex xft\" ><span class=\"f\">lex=</span>BQR=/</span><span class=\"st xft\" ><span class=\"f\">st=</span>a</span></div></div></div></div></div>"
      ],
      "text/plain": [
       "<IPython.core.display.HTML object>"
      ]
     },
     "metadata": {},
     "output_type": "display_data"
    }
   ],
   "source": [
    "for data in tagged:\n",
    "    show = (data[0],)+tuple(data[1])\n",
    "    A.prettyTuple(show, seq=0)"
   ]
  },
  {
   "cell_type": "markdown",
   "metadata": {},
   "source": [
    "Since the second phrase atom has a `Spec` designation, it is left out of the `iphrase_atom` set, and hence not selected by the parameters further below. We make an exception for these cases by adding the second phrase_atom to the `iphrase_atom` set below."
   ]
  },
  {
   "cell_type": "code",
   "execution_count": 115,
   "metadata": {},
   "outputs": [],
   "source": [
    "for para_data in tagged:\n",
    "    para = para_data[1][0]\n",
    "    sets['iphrase_atom'].add(para)"
   ]
  },
  {
   "cell_type": "markdown",
   "metadata": {},
   "source": [
    "## Missed Parallels (due to ~bad adj relations in subphrases)"
   ]
  },
  {
   "cell_type": "markdown",
   "metadata": {},
   "source": [
    "A select number of cases resemble the problem above, except expressed via the `adj` subphrase relation, which should instead reflect a `par` relation. These cases are difficult to isolate successfully, and there are 4 exclusions that need to be made due to the inadequate nature of the subphrase relations. These cases are manually excluded via reference. The remaining cases are placed in a set which allows them to be excluded from other subphrase exclusions."
   ]
  },
  {
   "cell_type": "code",
   "execution_count": 116,
   "metadata": {},
   "outputs": [
    {
     "data": {
      "text/plain": [
       "5"
      ]
     },
     "execution_count": 116,
     "metadata": {},
     "output_type": "execute_result"
    }
   ],
   "source": [
    "tagged_sp = []\n",
    "\n",
    "for subphrase in F.otype.s('subphrase'):\n",
    "    \n",
    "    # manual exclusion\n",
    "    if T.sectionFromNode(subphrase) in [('Isaiah', 18, 2), \n",
    "                                        ('Isaiah', 18, 7),\n",
    "                                        ('Daniel', 9, 24), \n",
    "                                        ('2_Chronicles', 30, 10)]:\n",
    "        continue\n",
    "    \n",
    "    token = tokenPhrase(subphrase)\n",
    "    daughters = [d for d in E.mother.t(subphrase) # get daughters\n",
    "                     if F.rela.v(d) == 'adj' # must have spec rela\n",
    "                     and tokenPhrase(d) == token # must be identical to mother\n",
    "                     and d-subphrase == 1] # must be adjacent to mother\n",
    "                    #and L.d(d, 'word')[0] - L.d(subphrase, 'word')[-1] == 1] # must be adjacent to mother\n",
    "\n",
    "    \n",
    "    if daughters:\n",
    "        tagged_sp.append((subphrase, daughters))\n",
    "        \n",
    "len(tagged_sp)"
   ]
  },
  {
   "cell_type": "code",
   "execution_count": 117,
   "metadata": {
    "collapsed": true,
    "jupyter": {
     "outputs_hidden": true
    },
    "tags": []
   },
   "outputs": [
    {
     "data": {
      "text/html": [
       "<p><b>result</b> <i>0</i>"
      ],
      "text/plain": [
       "<IPython.core.display.HTML object>"
      ]
     },
     "metadata": {},
     "output_type": "display_data"
    },
    {
     "data": {
      "text/html": [
       "<div class=\"tfsechead rtl\"><span class=\"ltr\"><a target=\"_blank\" href=\"https://shebanq.ancient-data.org/hebrew/text?book=Exodus&amp;chapter=16&amp;verse=21&amp;version=2021&amp;mr=m&amp;qw=q&amp;tp=txt_p&amp;tr=hb&amp;wget=v&amp;qget=v&amp;nget=vt\" title=\"Show this on SHEBANQ\" sec=\"Exodus 16:21\">Exodus 16:21</a></span></div><div class=\"rtl children\"><div class=\"contnr c1  rtl  \" ><div class=\"lbl c1  \" ><span class=\"nd\">phrase:674998 </span> <span class=\"\"><span title=\"typ\">PP</span> <span title=\"function\">Time</span></span></div><div class=\"children hor wrap rtl\"><div class=\"contnr c0 trm rtl  hl\"  style=\"background-color: pink;\" ><div class=\"lbl c0 trm hl\"  style=\"background-color: pink;\" ><span class=\"nd\">37804 </span> <a class=\" txtu hbo\" target=\"_blank\" href=\"https://shebanq.ancient-data.org/hebrew/word?version=2021&amp;id=1B\" title=\"Show this on SHEBANQ\"><span class=\"txtu hbo\">בַּ</span></a></div><div class=\"features\"><span class=\"lex xft\" ><span class=\"f\">lex=</span>B</span></div></div><div class=\"contnr c0 trm rtl  hl\"  style=\"background-color: pink;\" ><div class=\"lbl c0 trm hl\"  style=\"background-color: pink;\" ><span class=\"nd\">37805 </span> <a class=\" txtu hbo\" target=\"_blank\" href=\"https://shebanq.ancient-data.org/hebrew/word?version=2021&amp;id=1H\" title=\"Show this on SHEBANQ\"></a></div><div class=\"features\"><span class=\"lex xft\" ><span class=\"f\">lex=</span>H</span></div></div><div class=\"contnr c0 trm rtl  hl\"  style=\"background-color: pink;\" ><div class=\"lbl c0 trm hl\"  style=\"background-color: pink;\" ><span class=\"nd\">37806 </span> <a class=\" txtu hbo\" target=\"_blank\" href=\"https://shebanq.ancient-data.org/hebrew/word?version=2021&amp;id=1BQRin\" title=\"Show this on SHEBANQ\"><span class=\"txtu hbo\">בֹּ֣קֶר </span></a></div><div class=\"features\"><span class=\"lex xft\" ><span class=\"f\">lex=</span>BQR=/</span><span class=\"st xft\" ><span class=\"f\">st=</span>a</span></div></div><div class=\"contnr c0 trm rtl  hl\"  style=\"background-color: lightblue;\" ><div class=\"lbl c0 trm hl\"  style=\"background-color: lightblue;\" ><span class=\"nd\">37807 </span> <a class=\" txtu hbo\" target=\"_blank\" href=\"https://shebanq.ancient-data.org/hebrew/word?version=2021&amp;id=1B\" title=\"Show this on SHEBANQ\"><span class=\"txtu hbo\">בַּ</span></a></div><div class=\"features\"><span class=\"lex xft\" ><span class=\"f\">lex=</span>B</span></div></div><div class=\"contnr c0 trm rtl  hl\"  style=\"background-color: lightblue;\" ><div class=\"lbl c0 trm hl\"  style=\"background-color: lightblue;\" ><span class=\"nd\">37808 </span> <a class=\" txtu hbo\" target=\"_blank\" href=\"https://shebanq.ancient-data.org/hebrew/word?version=2021&amp;id=1H\" title=\"Show this on SHEBANQ\"></a></div><div class=\"features\"><span class=\"lex xft\" ><span class=\"f\">lex=</span>H</span></div></div><div class=\"contnr c0 trm rtl  hl\"  style=\"background-color: lightblue;\" ><div class=\"lbl c0 trm hl\"  style=\"background-color: lightblue;\" ><span class=\"nd\">37809 </span> <a class=\" txtu hbo\" target=\"_blank\" href=\"https://shebanq.ancient-data.org/hebrew/word?version=2021&amp;id=1BQRin\" title=\"Show this on SHEBANQ\"><span class=\"txtu hbo\">בֹּ֔קֶר </span></a></div><div class=\"features\"><span class=\"lex xft\" ><span class=\"f\">lex=</span>BQR=/</span><span class=\"st xft\" ><span class=\"f\">st=</span>a</span></div></div></div></div></div>"
      ],
      "text/plain": [
       "<IPython.core.display.HTML object>"
      ]
     },
     "metadata": {},
     "output_type": "display_data"
    },
    {
     "data": {
      "text/html": [
       "<p><b>result</b> <i>0</i>"
      ],
      "text/plain": [
       "<IPython.core.display.HTML object>"
      ]
     },
     "metadata": {},
     "output_type": "display_data"
    },
    {
     "data": {
      "text/html": [
       "<div class=\"tfsechead rtl\"><span class=\"ltr\"><a target=\"_blank\" href=\"https://shebanq.ancient-data.org/hebrew/text?book=Exodus&amp;chapter=30&amp;verse=7&amp;version=2021&amp;mr=m&amp;qw=q&amp;tp=txt_p&amp;tr=hb&amp;wget=v&amp;qget=v&amp;nget=vt\" title=\"Show this on SHEBANQ\" sec=\"Exodus 30:7\">Exodus 30:7</a></span></div><div class=\"rtl children\"><div class=\"contnr c1  rtl  \" ><div class=\"lbl c1  \" ><span class=\"nd\">phrase:679386 </span> <span class=\"\"><span title=\"typ\">PP</span> <span title=\"function\">Time</span></span></div><div class=\"children hor wrap rtl\"><div class=\"contnr c0 trm rtl  hl\"  style=\"background-color: pink;\" ><div class=\"lbl c0 trm hl\"  style=\"background-color: pink;\" ><span class=\"nd\">45629 </span> <a class=\" txtu hbo\" target=\"_blank\" href=\"https://shebanq.ancient-data.org/hebrew/word?version=2021&amp;id=1B\" title=\"Show this on SHEBANQ\"><span class=\"txtu hbo\">בַּ</span></a></div><div class=\"features\"><span class=\"lex xft\" ><span class=\"f\">lex=</span>B</span></div></div><div class=\"contnr c0 trm rtl  hl\"  style=\"background-color: pink;\" ><div class=\"lbl c0 trm hl\"  style=\"background-color: pink;\" ><span class=\"nd\">45630 </span> <a class=\" txtu hbo\" target=\"_blank\" href=\"https://shebanq.ancient-data.org/hebrew/word?version=2021&amp;id=1H\" title=\"Show this on SHEBANQ\"></a></div><div class=\"features\"><span class=\"lex xft\" ><span class=\"f\">lex=</span>H</span></div></div><div class=\"contnr c0 trm rtl  hl\"  style=\"background-color: pink;\" ><div class=\"lbl c0 trm hl\"  style=\"background-color: pink;\" ><span class=\"nd\">45631 </span> <a class=\" txtu hbo\" target=\"_blank\" href=\"https://shebanq.ancient-data.org/hebrew/word?version=2021&amp;id=1BQRin\" title=\"Show this on SHEBANQ\"><span class=\"txtu hbo\">בֹּ֣קֶר </span></a></div><div class=\"features\"><span class=\"lex xft\" ><span class=\"f\">lex=</span>BQR=/</span><span class=\"st xft\" ><span class=\"f\">st=</span>a</span></div></div><div class=\"contnr c0 trm rtl  hl\"  style=\"background-color: lightblue;\" ><div class=\"lbl c0 trm hl\"  style=\"background-color: lightblue;\" ><span class=\"nd\">45632 </span> <a class=\" txtu hbo\" target=\"_blank\" href=\"https://shebanq.ancient-data.org/hebrew/word?version=2021&amp;id=1B\" title=\"Show this on SHEBANQ\"><span class=\"txtu hbo\">בַּ</span></a></div><div class=\"features\"><span class=\"lex xft\" ><span class=\"f\">lex=</span>B</span></div></div><div class=\"contnr c0 trm rtl  hl\"  style=\"background-color: lightblue;\" ><div class=\"lbl c0 trm hl\"  style=\"background-color: lightblue;\" ><span class=\"nd\">45633 </span> <a class=\" txtu hbo\" target=\"_blank\" href=\"https://shebanq.ancient-data.org/hebrew/word?version=2021&amp;id=1H\" title=\"Show this on SHEBANQ\"></a></div><div class=\"features\"><span class=\"lex xft\" ><span class=\"f\">lex=</span>H</span></div></div><div class=\"contnr c0 trm rtl  hl\"  style=\"background-color: lightblue;\" ><div class=\"lbl c0 trm hl\"  style=\"background-color: lightblue;\" ><span class=\"nd\">45634 </span> <a class=\" txtu hbo\" target=\"_blank\" href=\"https://shebanq.ancient-data.org/hebrew/word?version=2021&amp;id=1BQRin\" title=\"Show this on SHEBANQ\"><span class=\"txtu hbo\">בֹּ֗קֶר </span></a></div><div class=\"features\"><span class=\"lex xft\" ><span class=\"f\">lex=</span>BQR=/</span><span class=\"st xft\" ><span class=\"f\">st=</span>a</span></div></div></div></div></div>"
      ],
      "text/plain": [
       "<IPython.core.display.HTML object>"
      ]
     },
     "metadata": {},
     "output_type": "display_data"
    },
    {
     "data": {
      "text/html": [
       "<p><b>result</b> <i>0</i>"
      ],
      "text/plain": [
       "<IPython.core.display.HTML object>"
      ]
     },
     "metadata": {},
     "output_type": "display_data"
    },
    {
     "data": {
      "text/html": [
       "<div class=\"tfsechead rtl\"><span class=\"ltr\"><a target=\"_blank\" href=\"https://shebanq.ancient-data.org/hebrew/text?book=Exodus&amp;chapter=36&amp;verse=3&amp;version=2021&amp;mr=m&amp;qw=q&amp;tp=txt_p&amp;tr=hb&amp;wget=v&amp;qget=v&amp;nget=vt\" title=\"Show this on SHEBANQ\" sec=\"Exodus 36:3\">Exodus 36:3</a></span></div><div class=\"rtl children\"><div class=\"contnr c1  rtl  \" ><div class=\"lbl c1  \" ><span class=\"nd\">phrase:681342 </span> <span class=\"\"><span title=\"typ\">PP</span> <span title=\"function\">Time</span></span></div><div class=\"children hor wrap rtl\"><div class=\"contnr c0 trm rtl  hl\"  style=\"background-color: pink;\" ><div class=\"lbl c0 trm hl\"  style=\"background-color: pink;\" ><span class=\"nd\">49255 </span> <a class=\" txtu hbo\" target=\"_blank\" href=\"https://shebanq.ancient-data.org/hebrew/word?version=2021&amp;id=1B\" title=\"Show this on SHEBANQ\"><span class=\"txtu hbo\">בַּ</span></a></div><div class=\"features\"><span class=\"lex xft\" ><span class=\"f\">lex=</span>B</span></div></div><div class=\"contnr c0 trm rtl  hl\"  style=\"background-color: pink;\" ><div class=\"lbl c0 trm hl\"  style=\"background-color: pink;\" ><span class=\"nd\">49256 </span> <a class=\" txtu hbo\" target=\"_blank\" href=\"https://shebanq.ancient-data.org/hebrew/word?version=2021&amp;id=1H\" title=\"Show this on SHEBANQ\"></a></div><div class=\"features\"><span class=\"lex xft\" ><span class=\"f\">lex=</span>H</span></div></div><div class=\"contnr c0 trm rtl  hl\"  style=\"background-color: pink;\" ><div class=\"lbl c0 trm hl\"  style=\"background-color: pink;\" ><span class=\"nd\">49257 </span> <a class=\" txtu hbo\" target=\"_blank\" href=\"https://shebanq.ancient-data.org/hebrew/word?version=2021&amp;id=1BQRin\" title=\"Show this on SHEBANQ\"><span class=\"txtu hbo\">בֹּ֥קֶר </span></a></div><div class=\"features\"><span class=\"lex xft\" ><span class=\"f\">lex=</span>BQR=/</span><span class=\"st xft\" ><span class=\"f\">st=</span>a</span></div></div><div class=\"contnr c0 trm rtl  hl\"  style=\"background-color: lightblue;\" ><div class=\"lbl c0 trm hl\"  style=\"background-color: lightblue;\" ><span class=\"nd\">49258 </span> <a class=\" txtu hbo\" target=\"_blank\" href=\"https://shebanq.ancient-data.org/hebrew/word?version=2021&amp;id=1B\" title=\"Show this on SHEBANQ\"><span class=\"txtu hbo\">בַּ</span></a></div><div class=\"features\"><span class=\"lex xft\" ><span class=\"f\">lex=</span>B</span></div></div><div class=\"contnr c0 trm rtl  hl\"  style=\"background-color: lightblue;\" ><div class=\"lbl c0 trm hl\"  style=\"background-color: lightblue;\" ><span class=\"nd\">49259 </span> <a class=\" txtu hbo\" target=\"_blank\" href=\"https://shebanq.ancient-data.org/hebrew/word?version=2021&amp;id=1H\" title=\"Show this on SHEBANQ\"></a></div><div class=\"features\"><span class=\"lex xft\" ><span class=\"f\">lex=</span>H</span></div></div><div class=\"contnr c0 trm rtl  hl\"  style=\"background-color: lightblue;\" ><div class=\"lbl c0 trm hl\"  style=\"background-color: lightblue;\" ><span class=\"nd\">49260 </span> <a class=\" txtu hbo\" target=\"_blank\" href=\"https://shebanq.ancient-data.org/hebrew/word?version=2021&amp;id=1BQRin\" title=\"Show this on SHEBANQ\"><span class=\"txtu hbo\">בֹּֽקֶר׃ </span></a></div><div class=\"features\"><span class=\"lex xft\" ><span class=\"f\">lex=</span>BQR=/</span><span class=\"st xft\" ><span class=\"f\">st=</span>a</span></div></div></div></div></div>"
      ],
      "text/plain": [
       "<IPython.core.display.HTML object>"
      ]
     },
     "metadata": {},
     "output_type": "display_data"
    },
    {
     "data": {
      "text/html": [
       "<p><b>result</b> <i>0</i>"
      ],
      "text/plain": [
       "<IPython.core.display.HTML object>"
      ]
     },
     "metadata": {},
     "output_type": "display_data"
    },
    {
     "data": {
      "text/html": [
       "<div class=\"tfsechead rtl\"><span class=\"ltr\"><a target=\"_blank\" href=\"https://shebanq.ancient-data.org/hebrew/text?book=Leviticus&amp;chapter=6&amp;verse=5&amp;version=2021&amp;mr=m&amp;qw=q&amp;tp=txt_p&amp;tr=hb&amp;wget=v&amp;qget=v&amp;nget=vt\" title=\"Show this on SHEBANQ\" sec=\"Leviticus 6:5\">Leviticus 6:5</a></span></div><div class=\"rtl children\"><div class=\"contnr c1  rtl  \" ><div class=\"lbl c1  \" ><span class=\"nd\">phrase:684164 </span> <span class=\"\"><span title=\"typ\">PP</span> <span title=\"function\">Time</span></span></div><div class=\"children hor wrap rtl\"><div class=\"contnr c0 trm rtl  hl\"  style=\"background-color: pink;\" ><div class=\"lbl c0 trm hl\"  style=\"background-color: pink;\" ><span class=\"nd\">55005 </span> <a class=\" txtu hbo\" target=\"_blank\" href=\"https://shebanq.ancient-data.org/hebrew/word?version=2021&amp;id=1B\" title=\"Show this on SHEBANQ\"><span class=\"txtu hbo\">בַּ</span></a></div><div class=\"features\"><span class=\"lex xft\" ><span class=\"f\">lex=</span>B</span></div></div><div class=\"contnr c0 trm rtl  hl\"  style=\"background-color: pink;\" ><div class=\"lbl c0 trm hl\"  style=\"background-color: pink;\" ><span class=\"nd\">55006 </span> <a class=\" txtu hbo\" target=\"_blank\" href=\"https://shebanq.ancient-data.org/hebrew/word?version=2021&amp;id=1H\" title=\"Show this on SHEBANQ\"></a></div><div class=\"features\"><span class=\"lex xft\" ><span class=\"f\">lex=</span>H</span></div></div><div class=\"contnr c0 trm rtl  hl\"  style=\"background-color: pink;\" ><div class=\"lbl c0 trm hl\"  style=\"background-color: pink;\" ><span class=\"nd\">55007 </span> <a class=\" txtu hbo\" target=\"_blank\" href=\"https://shebanq.ancient-data.org/hebrew/word?version=2021&amp;id=1BQRin\" title=\"Show this on SHEBANQ\"><span class=\"txtu hbo\">בֹּ֣קֶר </span></a></div><div class=\"features\"><span class=\"lex xft\" ><span class=\"f\">lex=</span>BQR=/</span><span class=\"st xft\" ><span class=\"f\">st=</span>a</span></div></div><div class=\"contnr c0 trm rtl  hl\"  style=\"background-color: lightblue;\" ><div class=\"lbl c0 trm hl\"  style=\"background-color: lightblue;\" ><span class=\"nd\">55008 </span> <a class=\" txtu hbo\" target=\"_blank\" href=\"https://shebanq.ancient-data.org/hebrew/word?version=2021&amp;id=1B\" title=\"Show this on SHEBANQ\"><span class=\"txtu hbo\">בַּ</span></a></div><div class=\"features\"><span class=\"lex xft\" ><span class=\"f\">lex=</span>B</span></div></div><div class=\"contnr c0 trm rtl  hl\"  style=\"background-color: lightblue;\" ><div class=\"lbl c0 trm hl\"  style=\"background-color: lightblue;\" ><span class=\"nd\">55009 </span> <a class=\" txtu hbo\" target=\"_blank\" href=\"https://shebanq.ancient-data.org/hebrew/word?version=2021&amp;id=1H\" title=\"Show this on SHEBANQ\"></a></div><div class=\"features\"><span class=\"lex xft\" ><span class=\"f\">lex=</span>H</span></div></div><div class=\"contnr c0 trm rtl  hl\"  style=\"background-color: lightblue;\" ><div class=\"lbl c0 trm hl\"  style=\"background-color: lightblue;\" ><span class=\"nd\">55010 </span> <a class=\" txtu hbo\" target=\"_blank\" href=\"https://shebanq.ancient-data.org/hebrew/word?version=2021&amp;id=1BQRin\" title=\"Show this on SHEBANQ\"><span class=\"txtu hbo\">בֹּ֑קֶר </span></a></div><div class=\"features\"><span class=\"lex xft\" ><span class=\"f\">lex=</span>BQR=/</span><span class=\"st xft\" ><span class=\"f\">st=</span>a</span></div></div></div></div></div>"
      ],
      "text/plain": [
       "<IPython.core.display.HTML object>"
      ]
     },
     "metadata": {},
     "output_type": "display_data"
    },
    {
     "data": {
      "text/html": [
       "<p><b>result</b> <i>0</i>"
      ],
      "text/plain": [
       "<IPython.core.display.HTML object>"
      ]
     },
     "metadata": {},
     "output_type": "display_data"
    },
    {
     "data": {
      "text/html": [
       "<div class=\"tfsechead rtl\"><span class=\"ltr\"><a target=\"_blank\" href=\"https://shebanq.ancient-data.org/hebrew/text?book=Jesaia&amp;chapter=28&amp;verse=19&amp;version=2021&amp;mr=m&amp;qw=q&amp;tp=txt_p&amp;tr=hb&amp;wget=v&amp;qget=v&amp;nget=vt\" title=\"Show this on SHEBANQ\" sec=\"Isaiah 28:19\">Isaiah 28:19</a></span></div><div class=\"rtl children\"><div class=\"contnr c1  rtl  \" ><div class=\"lbl c1  \" ><span class=\"nd\">phrase:779679 </span> <span class=\"\"><span title=\"typ\">PP</span> <span title=\"function\">Time</span></span></div><div class=\"children hor wrap rtl\"><div class=\"contnr c0 trm rtl  hl\"  style=\"background-color: pink;\" ><div class=\"lbl c0 trm hl\"  style=\"background-color: pink;\" ><span class=\"nd\">221155 </span> <a class=\" txtu hbo\" target=\"_blank\" href=\"https://shebanq.ancient-data.org/hebrew/word?version=2021&amp;id=1B\" title=\"Show this on SHEBANQ\"><span class=\"txtu hbo\">בַ</span></a></div><div class=\"features\"><span class=\"lex xft\" ><span class=\"f\">lex=</span>B</span></div></div><div class=\"contnr c0 trm rtl  hl\"  style=\"background-color: pink;\" ><div class=\"lbl c0 trm hl\"  style=\"background-color: pink;\" ><span class=\"nd\">221156 </span> <a class=\" txtu hbo\" target=\"_blank\" href=\"https://shebanq.ancient-data.org/hebrew/word?version=2021&amp;id=1H\" title=\"Show this on SHEBANQ\"></a></div><div class=\"features\"><span class=\"lex xft\" ><span class=\"f\">lex=</span>H</span></div></div><div class=\"contnr c0 trm rtl  hl\"  style=\"background-color: pink;\" ><div class=\"lbl c0 trm hl\"  style=\"background-color: pink;\" ><span class=\"nd\">221157 </span> <a class=\" txtu hbo\" target=\"_blank\" href=\"https://shebanq.ancient-data.org/hebrew/word?version=2021&amp;id=1BQRin\" title=\"Show this on SHEBANQ\"><span class=\"txtu hbo\">בֹּ֧קֶר </span></a></div><div class=\"features\"><span class=\"lex xft\" ><span class=\"f\">lex=</span>BQR=/</span><span class=\"st xft\" ><span class=\"f\">st=</span>a</span></div></div><div class=\"contnr c0 trm rtl  hl\"  style=\"background-color: lightblue;\" ><div class=\"lbl c0 trm hl\"  style=\"background-color: lightblue;\" ><span class=\"nd\">221158 </span> <a class=\" txtu hbo\" target=\"_blank\" href=\"https://shebanq.ancient-data.org/hebrew/word?version=2021&amp;id=1B\" title=\"Show this on SHEBANQ\"><span class=\"txtu hbo\">בַּ</span></a></div><div class=\"features\"><span class=\"lex xft\" ><span class=\"f\">lex=</span>B</span></div></div><div class=\"contnr c0 trm rtl  hl\"  style=\"background-color: lightblue;\" ><div class=\"lbl c0 trm hl\"  style=\"background-color: lightblue;\" ><span class=\"nd\">221159 </span> <a class=\" txtu hbo\" target=\"_blank\" href=\"https://shebanq.ancient-data.org/hebrew/word?version=2021&amp;id=1H\" title=\"Show this on SHEBANQ\"></a></div><div class=\"features\"><span class=\"lex xft\" ><span class=\"f\">lex=</span>H</span></div></div><div class=\"contnr c0 trm rtl  hl\"  style=\"background-color: lightblue;\" ><div class=\"lbl c0 trm hl\"  style=\"background-color: lightblue;\" ><span class=\"nd\">221160 </span> <a class=\" txtu hbo\" target=\"_blank\" href=\"https://shebanq.ancient-data.org/hebrew/word?version=2021&amp;id=1BQRin\" title=\"Show this on SHEBANQ\"><span class=\"txtu hbo\">בֹּ֛קֶר </span></a></div><div class=\"features\"><span class=\"lex xft\" ><span class=\"f\">lex=</span>BQR=/</span><span class=\"st xft\" ><span class=\"f\">st=</span>a</span></div></div></div></div></div>"
      ],
      "text/plain": [
       "<IPython.core.display.HTML object>"
      ]
     },
     "metadata": {},
     "output_type": "display_data"
    }
   ],
   "source": [
    "for data in tagged_sp:\n",
    "    highlights={}\n",
    "    \n",
    "    for w in L.d(data[0], 'word'):\n",
    "        highlights[w]='pink'\n",
    "    for w in L.d(data[1][0], 'word'):\n",
    "        highlights[w]='lightblue'\n",
    "    \n",
    "    show = L.d(data[0], 'word') + L.d(data[1][0], 'word')\n",
    "    A.prettyTuple(show, seq=0, highlights=highlights)"
   ]
  },
  {
   "cell_type": "code",
   "execution_count": 118,
   "metadata": {},
   "outputs": [],
   "source": [
    "goodsubphrases = set()\n",
    "\n",
    "for data in tagged_sp:\n",
    "    good_sp = data[1][0]\n",
    "    goodsubphrases.add(good_sp)"
   ]
  },
  {
   "cell_type": "code",
   "execution_count": 119,
   "metadata": {},
   "outputs": [],
   "source": [
    "sets['goodsp'] = goodsubphrases"
   ]
  },
  {
   "cell_type": "markdown",
   "metadata": {},
   "source": [
    "### NB: `goodsp` is only needed, and hence only used, in the prepositional phrase selection, since that is the only attested phrase type above. This prevents unnecessary editing for now. However, if `goodsp` is needed later on, it will need to be added to all of the search templates!"
   ]
  },
  {
   "cell_type": "markdown",
   "metadata": {},
   "source": [
    "## Completing `iword`\n",
    "\n",
    "Below `dword` is finalized and used to create the `iword` set."
   ]
  },
  {
   "cell_type": "code",
   "execution_count": 120,
   "metadata": {},
   "outputs": [],
   "source": [
    "iwords = set(w for w in F.otype.s('word') if w not in dwords)\n",
    "sets['iword'] = iwords\n",
    "sets['dword'] = dwords"
   ]
  },
  {
   "cell_type": "markdown",
   "metadata": {},
   "source": [
    "# Selecting Heads\n",
    "\n",
    "Now that the preprocessing procedures are complete, they can be applied to the search templates to find the phrase heads. I will follow a process of deduction for assigning heads to phrases. So, we first select all phrases, and then track which heads are accounted for."
   ]
  },
  {
   "cell_type": "code",
   "execution_count": 121,
   "metadata": {},
   "outputs": [
    {
     "name": "stdout",
     "output_type": "stream",
     "text": [
      "  0.18s 253203 results\n"
     ]
    }
   ],
   "source": [
    "remaining_phrases = set(result[0] for result in A.search('phrase')) # get all phrases\n",
    "covered_phrases = set() # put covered phrases here\n",
    "remaining_types = list(feat[0] for feat in F.typ.freqList(nodeTypes='phrase')) # track and elminate phrase types"
   ]
  },
  {
   "cell_type": "markdown",
   "metadata": {},
   "source": [
    "**All phrase to head assignments will be made in the dictionary below:**"
   ]
  },
  {
   "cell_type": "code",
   "execution_count": 122,
   "metadata": {},
   "outputs": [],
   "source": [
    "phrase2heads = collections.defaultdict(set)"
   ]
  },
  {
   "cell_type": "markdown",
   "metadata": {},
   "source": [
    "In order to assist the process of elimination, the functions below programmatically record the heads in `phrase2heads` and remove them from the remaining set. `query_heads` iterates through a dictionary of queries and calls `record_head` on each result. `heads_status` provides a simple readout of what phrases remain to be analyzed."
   ]
  },
  {
   "cell_type": "code",
   "execution_count": 123,
   "metadata": {},
   "outputs": [],
   "source": [
    "def record_head(phrase, head, mapping=phrase2heads, remaining=remaining_phrases, covered=covered_phrases):\n",
    "    '''\n",
    "    Simple function to track phrases\n",
    "    with heads that are accounted for\n",
    "    and to modify the phrase2heads\n",
    "    dict, which is a mapping from a phrase\n",
    "    node to its head nodes.\n",
    "    '''\n",
    "    # try/except accounts for phrases with plural heads, \n",
    "    # one of which is already recorded\n",
    "    try:\n",
    "          remaining.remove(phrase)\n",
    "    except: \n",
    "        pass\n",
    "    \n",
    "    if F.otype.v(phrase) == 'word':\n",
    "        raise Exception(f'node {phrase} is a word not a phrase!')\n",
    "    \n",
    "    mapping[phrase].add(head) # record it\n",
    "    covered.add(phrase)\n",
    "    \n",
    "def query_heads(querydict, phrasei=0, headi=1, sets={}):\n",
    "    '''\n",
    "    Runs queries on phrasetype/query dict.\n",
    "    Reports results.\n",
    "    Adds results.\n",
    "    \n",
    "    phrasei - the index of the phrase result in the search template.\n",
    "    headi - the index of the head result in the search template.\n",
    "    sets - custom sets for TF search\n",
    "    '''\n",
    "    for phrasetype, query in querydict.items():\n",
    "        print(f'running query on {phrasetype}')\n",
    "        results = A.search(query, silent=True, sets=sets)\n",
    "        print(f'\\t{len(results)} results found')\n",
    "        for res in results:\n",
    "            phrase, head = res[phrasei], res[headi]\n",
    "            record_head(phrase, head)\n",
    "            \n",
    "def heads_status():\n",
    "    # simply prints accounted vs unaccounted heads\n",
    "    print(f'{len(covered_phrases)} phrases matched with a head...')\n",
    "    print(f'{len(remaining_phrases)} phrases remaining...')"
   ]
  },
  {
   "cell_type": "markdown",
   "metadata": {},
   "source": [
    "## Simple Heads\n",
    "\n",
    "The selection of heads for certain phrase types is very straightforward. Those are defined in the templates below and are subsequently applied. These phrase types are selected based on the survey of their subphrase relations as found in the old notebook."
   ]
  },
  {
   "cell_type": "code",
   "execution_count": 124,
   "metadata": {},
   "outputs": [],
   "source": [
    "simp_heads = dict(\n",
    "\n",
    "PPrP = '''\n",
    "% personal pronoun\n",
    "\n",
    "phrase typ=PPrP\n",
    "    iphrase_atom\n",
    "        iword pdp=prps\n",
    "\n",
    "''',\n",
    "\n",
    "DPrP = '''\n",
    "% demonstrative pronoun\n",
    "\n",
    "phrase typ=DPrP\n",
    "    iphrase_atom\n",
    "        iword pdp=prde\n",
    "\n",
    "''',\n",
    "\n",
    "InjP = '''\n",
    "% interjectional\n",
    "\n",
    "phrase typ=InjP\n",
    "    iphrase_atom\n",
    "        iword pdp=intj\n",
    "\n",
    "''',\n",
    "\n",
    "NegP = '''\n",
    "% negative\n",
    "\n",
    "phrase typ=NegP\n",
    "    iphrase_atom\n",
    "        iword pdp=nega\n",
    "\n",
    "''',\n",
    "\n",
    "InrP = '''\n",
    "% interrogative\n",
    "\n",
    "phrase typ=InrP\n",
    "    iphrase_atom\n",
    "        iword pdp=inrg\n",
    "\n",
    "''',\n",
    "    \n",
    "IPrP = '''\n",
    "% interrogative pronoun\n",
    "\n",
    "phrase typ=IPrP\n",
    "    iphrase_atom\n",
    "        iword pdp=prin\n",
    "\n",
    "''',\n",
    "\n",
    ") # end of dictionary"
   ]
  },
  {
   "cell_type": "markdown",
   "metadata": {},
   "source": [
    "### Make Queries, Record Heads, See What Remains\n",
    "\n",
    "Here we run the queries and run `record_head` over each result. In all of the templates the head is the second item in the result tuple."
   ]
  },
  {
   "cell_type": "code",
   "execution_count": 125,
   "metadata": {},
   "outputs": [
    {
     "name": "stdout",
     "output_type": "stream",
     "text": [
      "running query on PPrP\n",
      "\t4387 results found\n",
      "running query on DPrP\n",
      "\t790 results found\n",
      "running query on InjP\n",
      "\t1883 results found\n",
      "running query on NegP\n",
      "\t6742 results found\n",
      "running query on InrP\n",
      "\t1291 results found\n",
      "running query on IPrP\n",
      "\t798 results found\n",
      "\n",
      " <><><><><><><><><><><><><><><><><><><><> \n",
      "\n",
      "15866 phrases matched with a head...\n",
      "237337 phrases remaining...\n"
     ]
    }
   ],
   "source": [
    "query_heads(simp_heads, headi=2, sets=sets)\n",
    "        \n",
    "print('\\n', '<>'*20, '\\n')\n",
    "heads_status()"
   ]
  },
  {
   "cell_type": "markdown",
   "metadata": {},
   "source": [
    "### Find Remaining Phrases\n",
    "\n",
    "What phrases with the above types remain unaccounted for?"
   ]
  },
  {
   "cell_type": "code",
   "execution_count": 126,
   "metadata": {},
   "outputs": [
    {
     "data": {
      "text/plain": [
       "0"
      ]
     },
     "execution_count": 126,
     "metadata": {},
     "output_type": "execute_result"
    }
   ],
   "source": [
    "unaccounted_simp = set(phrase for phrase in remaining_phrases\n",
    "                          if F.typ.v(phrase) in simp_heads)\n",
    "len(unaccounted_simp)"
   ]
  },
  {
   "cell_type": "code",
   "execution_count": 127,
   "metadata": {},
   "outputs": [
    {
     "name": "stdout",
     "output_type": "stream",
     "text": [
      "['VP', 'PP', 'CP', 'NP', 'PrNP', 'AdvP', 'AdjP']\n"
     ]
    }
   ],
   "source": [
    "for typ in simp_heads:\n",
    "    remaining_types.remove(typ)\n",
    "print(remaining_types)"
   ]
  },
  {
   "cell_type": "markdown",
   "metadata": {},
   "source": [
    "## Mostly Simple Heads\n",
    "\n",
    "The next set of heads require a bit more care since they can contain a bigger variety of relationships."
   ]
  },
  {
   "cell_type": "markdown",
   "metadata": {},
   "source": [
    "### VP\n",
    "There is only one complication for the VP: that is that there is one VP that has more than one verb:"
   ]
  },
  {
   "cell_type": "code",
   "execution_count": 128,
   "metadata": {},
   "outputs": [
    {
     "name": "stdout",
     "output_type": "stream",
     "text": [
      "  0.69s 1 result\n"
     ]
    },
    {
     "data": {
      "text/html": [
       "<p><b>result</b> <i>1</i>"
      ],
      "text/plain": [
       "<IPython.core.display.HTML object>"
      ]
     },
     "metadata": {},
     "output_type": "display_data"
    },
    {
     "data": {
      "text/html": [
       "<div class=\"tfsechead rtl\"><span class=\"ltr\"><a target=\"_blank\" href=\"https://shebanq.ancient-data.org/hebrew/text?book=Chronica_I&amp;chapter=24&amp;verse=6&amp;version=2021&amp;mr=m&amp;qw=q&amp;tp=txt_p&amp;tr=hb&amp;wget=v&amp;qget=v&amp;nget=vt\" title=\"Show this on SHEBANQ\" sec=\"1_Chronicles 24:6\">1_Chronicles 24:6</a></span></div><div class=\"rtl children\"><div class=\"contnr c2  rtl  \" ><div class=\"lbl c2  \" ><span class=\"nd\">clause:511884 </span> <span class=\"\"><span title=\"typ\">Ptcp</span> <span title=\"rela\">NA</span></span></div><div class=\"features\"><span class=\"typ xft\" ><span class=\"f\">typ=</span>Ptcp</span></div><div class=\"children hor wrap rtl\"><div class=\"contnr c1  rtl  \" ><div class=\"lbl c1  \" ><span class=\"nd\">phrase:893338 </span> <span class=\"\"><span title=\"typ\">CP</span> <span title=\"function\">Conj</span></span></div><div class=\"features\"><span class=\"typ xft\" ><span class=\"f\">typ=</span>CP</span></div><div class=\"children hor wrap rtl\"><div class=\"contnr c0 trm rtl  \" ><div class=\"lbl c0 trm \" ><span class=\"nd\">403607 </span> <a class=\" txtu hbo\" target=\"_blank\" href=\"https://shebanq.ancient-data.org/hebrew/word?version=2021&amp;id=1W\" title=\"Show this on SHEBANQ\"><span class=\"txtu hbo\">וְ</span></a></div></div></div></div><div class=\"contnr c1  rtl  hl\" ><div class=\"lbl c1  hl\" ><span class=\"nd\">phrase:893339 </span> <span class=\"\"><span title=\"typ\">VP</span> <span title=\"function\">PreC</span></span></div><div class=\"features\"><span class=\"typ xft\" ><span class=\"f\">typ=</span>VP</span></div><div class=\"children hor wrap rtl\"><div class=\"contnr c0 trm rtl  \" ><div class=\"lbl c0 trm \" ><span class=\"nd\">403608 </span> <a class=\" txtu hbo\" target=\"_blank\" href=\"https://shebanq.ancient-data.org/hebrew/word?version=2021&amp;id=1AXZv\" title=\"Show this on SHEBANQ\"><span class=\"txtu hbo\">אָחֻ֥ז׀ </span></a></div><div class=\"features\"><span class=\"st xft\" ><span class=\"f\">st=</span>a</span></div></div><div class=\"contnr c0 trm rtl  \" ><div class=\"lbl c0 trm \" ><span class=\"nd\">403609 </span> <a class=\" txtu hbo\" target=\"_blank\" href=\"https://shebanq.ancient-data.org/hebrew/word?version=2021&amp;id=1AXZv\" title=\"Show this on SHEBANQ\"><span class=\"txtu hbo\">אָחֻ֖ז </span></a></div><div class=\"features\"><span class=\"st xft\" ><span class=\"f\">st=</span>a</span></div></div></div></div><div class=\"contnr c1  rtl  \" ><div class=\"lbl c1  \" ><span class=\"nd\">phrase:893340 </span> <span class=\"\"><span title=\"typ\">PP</span> <span title=\"function\">Adju</span></span></div><div class=\"features\"><span class=\"typ xft\" ><span class=\"f\">typ=</span>PP</span></div><div class=\"children hor wrap rtl\"><div class=\"contnr c0 trm rtl  \" ><div class=\"lbl c0 trm \" ><span class=\"nd\">403610 </span> <a class=\" txtu hbo\" target=\"_blank\" href=\"https://shebanq.ancient-data.org/hebrew/word?version=2021&amp;id=1L\" title=\"Show this on SHEBANQ\"><span class=\"txtu hbo\">לְ</span></a></div></div><div class=\"contnr c0 trm rtl  \" ><div class=\"lbl c0 trm \" ><span class=\"nd\">403611 </span> <a class=\" txtu hbo\" target=\"_blank\" href=\"https://shebanq.ancient-data.org/hebrew/word?version=2021&amp;id=1AJTMRn\" title=\"Show this on SHEBANQ\"><span class=\"txtu hbo\">אִיתָמָֽר׃ פ </span></a></div><div class=\"features\"><span class=\"st xft\" ><span class=\"f\">st=</span>a</span></div></div></div></div></div></div></div>"
      ],
      "text/plain": [
       "<IPython.core.display.HTML object>"
      ]
     },
     "metadata": {},
     "output_type": "display_data"
    }
   ],
   "source": [
    "mult_verbs = A.search('''\n",
    "\n",
    "phrase typ=VP\n",
    "/with/\n",
    "    word pdp=verb\n",
    "    < word pdp=verb\n",
    "/-/\n",
    "''')\n",
    "A.show(mult_verbs, condenseType='clause')"
   ]
  },
  {
   "cell_type": "markdown",
   "metadata": {},
   "source": [
    "The template below excludes this case without ignoring VP's that do not necessarily begin with a verb."
   ]
  },
  {
   "cell_type": "code",
   "execution_count": 129,
   "metadata": {},
   "outputs": [
    {
     "name": "stdout",
     "output_type": "stream",
     "text": [
      "  0.83s 69024 results\n",
      "84890 phrases matched with a head...\n",
      "168313 phrases remaining...\n"
     ]
    }
   ],
   "source": [
    "VP = '''\n",
    "\n",
    "phrase typ=VP\n",
    "    \n",
    "    head:iword pdp=verb\n",
    "    \n",
    "    /without/\n",
    "    phrase\n",
    "        word pdp=verb\n",
    "        < head\n",
    "    /-/\n",
    "\n",
    "'''\n",
    "\n",
    "VP_search = A.search(VP, sets=sets)\n",
    "\n",
    "for phrase, head in VP_search:\n",
    "    record_head(phrase, head)\n",
    "    \n",
    "heads_status()"
   ]
  },
  {
   "cell_type": "markdown",
   "metadata": {},
   "source": [
    "See what's left..."
   ]
  },
  {
   "cell_type": "code",
   "execution_count": 130,
   "metadata": {},
   "outputs": [
    {
     "data": {
      "text/plain": [
       "0"
      ]
     },
     "execution_count": 130,
     "metadata": {},
     "output_type": "execute_result"
    }
   ],
   "source": [
    "unaccounted_vp = set(phrase for phrase in remaining_phrases\n",
    "                          if F.typ.v(phrase) == 'VP')\n",
    "len(unaccounted_vp)"
   ]
  },
  {
   "cell_type": "code",
   "execution_count": 131,
   "metadata": {},
   "outputs": [
    {
     "name": "stdout",
     "output_type": "stream",
     "text": [
      "['PP', 'CP', 'NP', 'PrNP', 'AdvP', 'AdjP']\n"
     ]
    }
   ],
   "source": [
    "remaining_types.remove('VP')\n",
    "print(remaining_types)"
   ]
  },
  {
   "cell_type": "markdown",
   "metadata": {},
   "source": [
    "### CP\n",
    "\n",
    "The conjunction phrase is relatively straightforward. But there are 1140 cases where the conjunction is technically headed by a preposition in the ETCBC data. These are phrases such as בטרם and בעבור (see the more detailed analysis in the prev. notebook). It is not clear at all why the ETCBC encodes these as conjunction phrases. This is almost certainly a confusion of the formal `typ` value and the functional `function` label (with a value of `Conj`). Nevertheless, here we make a choice to select the preposition as the true head.\n",
    "\n",
    "In a BHSA2, these cases ought to be repaired."
   ]
  },
  {
   "cell_type": "code",
   "execution_count": 132,
   "metadata": {},
   "outputs": [],
   "source": [
    "cp_heads = dict(\n",
    "\n",
    "conj = '''\n",
    "\n",
    "phrase typ=CP\n",
    "/without/\n",
    "    word pdp=prep\n",
    "/-/\n",
    "    iphrase_atom\n",
    "        head:iword pdp=conj\n",
    "        /without/\n",
    "        phrase_atom\n",
    "            word pdp=conj\n",
    "            <: head\n",
    "        /-/\n",
    "\n",
    "''',\n",
    "    \n",
    "prep_conj = '''\n",
    "\n",
    "phrase typ=CP\n",
    "    iphrase_atom\n",
    "        =: word pdp=prep\n",
    "\n",
    "'''\n",
    "\n",
    ")\n",
    "\n"
   ]
  },
  {
   "cell_type": "code",
   "execution_count": 133,
   "metadata": {},
   "outputs": [
    {
     "name": "stdout",
     "output_type": "stream",
     "text": [
      "running query on conj\n",
      "\t51341 results found\n",
      "running query on prep_conj\n",
      "\t1140 results found\n",
      "\n",
      " <><><><><><><><><><><><><><><><><><><><> \n",
      "\n",
      "137371 phrases matched with a head...\n",
      "115832 phrases remaining...\n"
     ]
    }
   ],
   "source": [
    "query_heads(cp_heads, headi=2, sets=sets)\n",
    "        \n",
    "print('\\n', '<>'*20, '\\n')\n",
    "heads_status()"
   ]
  },
  {
   "cell_type": "markdown",
   "metadata": {},
   "source": [
    "#### CP Sanity Check"
   ]
  },
  {
   "cell_type": "code",
   "execution_count": 134,
   "metadata": {},
   "outputs": [
    {
     "data": {
      "text/plain": [
       "0"
      ]
     },
     "execution_count": 134,
     "metadata": {},
     "output_type": "execute_result"
    }
   ],
   "source": [
    "unaccounted_cp = set(phrase for phrase in remaining_phrases\n",
    "                          if F.typ.v(phrase) == 'CP')\n",
    "len(unaccounted_cp)"
   ]
  },
  {
   "cell_type": "code",
   "execution_count": 135,
   "metadata": {},
   "outputs": [
    {
     "name": "stdout",
     "output_type": "stream",
     "text": [
      "['PP', 'NP', 'PrNP', 'AdvP', 'AdjP']\n"
     ]
    }
   ],
   "source": [
    "remaining_types.remove('CP')\n",
    "print(remaining_types)"
   ]
  },
  {
   "cell_type": "markdown",
   "metadata": {},
   "source": [
    "### AdjP\n",
    "\n",
    "The adjective phrase always occurs with a word that has a `pdp` of adjective: "
   ]
  },
  {
   "cell_type": "code",
   "execution_count": 136,
   "metadata": {},
   "outputs": [
    {
     "name": "stdout",
     "output_type": "stream",
     "text": [
      "  0.34s 0 results\n"
     ]
    },
    {
     "data": {
      "text/plain": [
       "[]"
      ]
     },
     "execution_count": 136,
     "metadata": {},
     "output_type": "execute_result"
    }
   ],
   "source": [
    "A.search('''\n",
    "\n",
    "phrase typ=AdjP\n",
    "/without/\n",
    "    word pdp=adjv\n",
    "/-/\n",
    "\n",
    "''')"
   ]
  },
  {
   "cell_type": "markdown",
   "metadata": {},
   "source": [
    "By playing with the `head:word pdp=` value below, I ascertain that there are 8 uses of `subs` as a head in this phrase type, and 1 use of `advb` as a head. These variants are due to the phrase containing multiple heads, with the first having a `pdp` of `adjv`, formally making the phrase an `AdjP`. \n",
    "\n",
    "The selection criteria is as follows. We want all cases in an adjective phrase where the word has a `pdp` of `adjv`, `subs`, or `advb`. The head candidate must not be found in a modifying subphrase, defined as `rela=adj|atr|rec|mod|dem` (remember that a word can often occur in multiple subphrases); and the only acceptable values for phrase_atom and subphrase relations are either `NA` (no relation), or `Para`/`par` (coordinate relation). In this latter case, it is expected here that the first requirement will prevent spurious parallel results (that is, words that are parallel not to a head but to a modiying element).\n",
    "\n",
    "The requirements are set in the pattern below."
   ]
  },
  {
   "cell_type": "code",
   "execution_count": 137,
   "metadata": {},
   "outputs": [
    {
     "name": "stdout",
     "output_type": "stream",
     "text": [
      "  0.87s 1871 results\n",
      "139120 phrases matched with a head...\n",
      "114083 phrases remaining...\n"
     ]
    }
   ],
   "source": [
    "AdjP = '''\n",
    "\n",
    "phrase typ=AdjP\n",
    "    iphrase_atom\n",
    "        head:iword pdp=adjv|subs|advb\n",
    "        \n",
    "% require either NA subphrase relation\n",
    "% or no subphrase embedding:\n",
    "        /with/\n",
    "        subphrase rela=NA|par\n",
    "            head\n",
    "        /or/\n",
    "        /without/\n",
    "        subphrase\n",
    "            head\n",
    "        /-/\n",
    "        /-/\n",
    "        \n",
    "% exclude uses as modifier:\n",
    "        /without/\n",
    "        subphrase rela=adj|atr|rec|mod|dem\n",
    "            head\n",
    "        /-/\n",
    "        \n",
    "% ensure word is not immediately preceded by a construct form\n",
    "        /without/\n",
    "        phrase_atom\n",
    "            word st=c\n",
    "            <: head\n",
    "        /-/\n",
    "'''\n",
    "AdjP = A.search(AdjP, sets=sets)\n",
    "\n",
    "for res in AdjP:\n",
    "    phrase, head = res[0], res[2]\n",
    "    record_head(phrase, head)\n",
    "    \n",
    "heads_status()"
   ]
  },
  {
   "cell_type": "code",
   "execution_count": 138,
   "metadata": {},
   "outputs": [
    {
     "data": {
      "text/plain": [
       "0"
      ]
     },
     "execution_count": 138,
     "metadata": {},
     "output_type": "execute_result"
    }
   ],
   "source": [
    "unaccounted_AdjP = set(phrase for phrase in remaining_phrases\n",
    "                          if F.typ.v(phrase) == 'AdjP')\n",
    "len(unaccounted_AdjP)"
   ]
  },
  {
   "cell_type": "code",
   "execution_count": 139,
   "metadata": {},
   "outputs": [
    {
     "name": "stdout",
     "output_type": "stream",
     "text": [
      "['PP', 'NP', 'PrNP', 'AdvP']\n"
     ]
    }
   ],
   "source": [
    "remaining_types.remove('AdjP')\n",
    "print(remaining_types)"
   ]
  },
  {
   "cell_type": "markdown",
   "metadata": {},
   "source": [
    "### AdvP\n",
    "\n",
    "The adverb phrase has similar internal relations to AdjP. Thus, we apply the same basic template search.\n",
    "\n",
    "By modifying `pdp=` parameter, I have found 2 examples of a preposition in the AdvP, which is caused by a prepositional phrase_atom coordinated with the `AdvP` phrase atom. These mixed cases must be dealt with imperfectly by taking the preposition head literally. It is then up to the user of the heads feature to include/exclude cases such as these, or to depend on the phrase_atoms.\n",
    "\n",
    "There are two cases where an `inrg` serves as a head element. These are incorrect encodings, as they belong under their own phrase type of `InrP`. These should be fixed in BHSA2. For now the `inrg` is excluded as a phrase head as they are followed by a `advb` which is probably triggering these phrases' classification.\n",
    "\n",
    "There is one case in sentence 68 from Exodus 8:20 where a כל quantifier is incorrectly identified as a phrase head. This is because it precedes a prepositional element. That case is also excluded below."
   ]
  },
  {
   "cell_type": "code",
   "execution_count": 140,
   "metadata": {},
   "outputs": [
    {
     "name": "stdout",
     "output_type": "stream",
     "text": [
      "  1.04s 5777 results\n",
      "144780 phrases matched with a head...\n",
      "108423 phrases remaining...\n"
     ]
    }
   ],
   "source": [
    "AdvP = '''\n",
    "\n",
    "phrase typ=AdvP\n",
    "    iphrase_atom\n",
    "        head:iword pdp=advb|subs|nmpr|prep\n",
    "        \n",
    "% require either NA subphrase relation\n",
    "% or no subphrase embedding:\n",
    "        /with/\n",
    "        subphrase rela=NA|par\n",
    "            head\n",
    "        /or/\n",
    "        /without/\n",
    "        subphrase\n",
    "            head\n",
    "        /-/\n",
    "        /-/\n",
    "        \n",
    "% exclude uses as modifier:\n",
    "        /without/\n",
    "        subphrase rela=adj|atr|rec|mod|dem\n",
    "            head\n",
    "        /-/\n",
    "        \n",
    "% ensure word is not immediately preceded by a construct form\n",
    "        /without/\n",
    "        phrase_atom\n",
    "            word st=c\n",
    "            <: head\n",
    "        /-/\n",
    "        \n",
    "% ensure word is not immediately preceded by a prepositional form\n",
    "        /without/\n",
    "        phrase_atom\n",
    "            word pdp=prep\n",
    "            <: head\n",
    "        /-/\n",
    "'''\n",
    "AdvP = A.search(AdvP, sets=sets)\n",
    "\n",
    "for res in AdvP:\n",
    "    phrase, head = res[0], res[2]\n",
    "    record_head(phrase, head)\n",
    "    \n",
    "heads_status()"
   ]
  },
  {
   "cell_type": "code",
   "execution_count": 141,
   "metadata": {},
   "outputs": [
    {
     "data": {
      "text/plain": [
       "0"
      ]
     },
     "execution_count": 141,
     "metadata": {},
     "output_type": "execute_result"
    }
   ],
   "source": [
    "unaccounted_AdvP = set(phrase for phrase in remaining_phrases\n",
    "                          if F.typ.v(phrase) == 'AdvP')\n",
    "len(unaccounted_AdvP)"
   ]
  },
  {
   "cell_type": "code",
   "execution_count": 142,
   "metadata": {},
   "outputs": [
    {
     "name": "stdout",
     "output_type": "stream",
     "text": [
      "['PP', 'NP', 'PrNP']\n"
     ]
    }
   ],
   "source": [
    "remaining_types.remove('AdvP')\n",
    "print(remaining_types)"
   ]
  },
  {
   "cell_type": "markdown",
   "metadata": {},
   "source": [
    "### PP\n",
    "\n",
    "The same method used above applies to prepositional phrases."
   ]
  },
  {
   "cell_type": "code",
   "execution_count": 143,
   "metadata": {},
   "outputs": [
    {
     "name": "stdout",
     "output_type": "stream",
     "text": [
      "  0.97s 61509 results\n",
      "202263 phrases matched with a head...\n",
      "50940 phrases remaining...\n"
     ]
    }
   ],
   "source": [
    "PP = '''\n",
    "\n",
    "phrase typ=PP\n",
    "    iphrase_atom\n",
    "        head:iword pdp=prep\n",
    "        \n",
    "% require either NA subphrase relation\n",
    "% or no subphrase embedding:\n",
    "        /with/\n",
    "        subphrase rela=NA|par\n",
    "            head\n",
    "        /or/\n",
    "        /without/\n",
    "        subphrase\n",
    "            head\n",
    "        /-/\n",
    "        /or/\n",
    "        goodsp\n",
    "            head\n",
    "        /-/\n",
    "        \n",
    "% exclude uses as modifier:\n",
    "        /with/\n",
    "        /without/\n",
    "        subphrase rela=adj|atr|rec|mod|dem\n",
    "            head\n",
    "        /-/\n",
    "        /or/\n",
    "        goodsp\n",
    "            head\n",
    "        /-/\n",
    "        \n",
    "% ensure word is not immediately preceded by a construct form\n",
    "        /without/\n",
    "        phrase_atom\n",
    "            word st=c\n",
    "            <: head\n",
    "        /-/\n",
    "        \n",
    "% ensure word is not immediately preceded by a preposition\n",
    "        /without/\n",
    "        phrase_atom\n",
    "            word pdp=prep\n",
    "            <: head\n",
    "        /-/\n",
    "'''\n",
    "PP = A.search(PP, sets=sets)\n",
    "\n",
    "for res in PP:\n",
    "    phrase, head = res[0], res[2]\n",
    "    record_head(phrase, head)\n",
    "    \n",
    "heads_status()"
   ]
  },
  {
   "cell_type": "code",
   "execution_count": 144,
   "metadata": {},
   "outputs": [
    {
     "data": {
      "text/plain": [
       "0"
      ]
     },
     "execution_count": 144,
     "metadata": {},
     "output_type": "execute_result"
    }
   ],
   "source": [
    "unaccounted_PP = set(phrase for phrase in remaining_phrases\n",
    "                          if F.typ.v(phrase) == 'PP')\n",
    "len(unaccounted_PP)"
   ]
  },
  {
   "cell_type": "code",
   "execution_count": 145,
   "metadata": {},
   "outputs": [
    {
     "name": "stdout",
     "output_type": "stream",
     "text": [
      "['NP', 'PrNP']\n"
     ]
    }
   ],
   "source": [
    "remaining_types.remove('PP')\n",
    "print(remaining_types)"
   ]
  },
  {
   "cell_type": "markdown",
   "metadata": {},
   "source": [
    "## Complex Heads\n",
    "\n",
    "In contrast to the preceding phrase types, the noun phrase is much more complicated for head selection due to the presence of quantifers. The search templates are thus quite lengthy. Each one has been rigorously tested, and each change has been run against a previous version of the template to ensure that any edits did not accidentally shorten or expand the search results beyond the desired effect. "
   ]
  },
  {
   "cell_type": "markdown",
   "metadata": {},
   "source": [
    "### NP and PrNP\n",
    "\n",
    "\n",
    "Note that some noun phrases contain other phrase types, such as `PP` or even `AdjP` that are not indicated in the present implementation of the data. BHSA2 should seek to remedy this by spinning new phrases with their own types for these."
   ]
  },
  {
   "cell_type": "code",
   "execution_count": 146,
   "metadata": {},
   "outputs": [
    {
     "name": "stdout",
     "output_type": "stream",
     "text": [
      "running query on NP_noqant\n",
      "\t56963 results found\n",
      "running query on NP_quant_alone\n",
      "\t1813 results found\n",
      "running query on NP_quantified\n",
      "\t5709 results found\n",
      "\n",
      " <><><><><><><><><><><><><><><><><><><><> \n",
      "\n",
      "253200 phrases matched with a head...\n",
      "3 phrases remaining...\n"
     ]
    }
   ],
   "source": [
    "NP_heads = dict(\n",
    "    \n",
    "NP_noqant = f'''\n",
    "\n",
    "phrase typ=NP|PrNP|DPrP|PPrP\n",
    "    iphrase_atom\n",
    "        head:nonquant pdp=subs|adjv|nmpr|prde|prps\n",
    "\n",
    "% require either NA subphrase relation\n",
    "% or no subphrase embedding:\n",
    "        /with/\n",
    "        subphrase rela=NA|par\n",
    "            head\n",
    "        /or/\n",
    "        /without/\n",
    "        subphrase\n",
    "            head\n",
    "        /-/\n",
    "        /-/\n",
    "        /with/\n",
    "        = iword\n",
    "        /-/\n",
    "        \n",
    "% exclude uses as modifier:\n",
    "        /without/\n",
    "        subphrase rela=adj|atr|rec|mod|dem\n",
    "            head\n",
    "        /-/\n",
    "        \n",
    "% ensure word is not immediately preceded by a construct form\n",
    "        /without/\n",
    "        phrase_atom\n",
    "            word st=c\n",
    "            <: head\n",
    "        /-/\n",
    "        \n",
    "% ensure word is not immediately preceded by a verb (participle) + preposition\n",
    "        /without/\n",
    "        phrase_atom\n",
    "            word sp=verb\n",
    "            <: prep\n",
    "            <: head\n",
    "        /-/\n",
    "        /without/\n",
    "        phrase_atom\n",
    "            word sp=verb\n",
    "            <: prep\n",
    "            <: word pdp=art\n",
    "            <: head\n",
    "        /-/\n",
    "''',\n",
    "\n",
    "NP_quant_alone = f'''\n",
    "\n",
    "phrase typ=NP|PrNP|DPrP|PPrP\n",
    "    iphrase_atom\n",
    "        quantifier:quant\n",
    "\n",
    "% quantifier does not precede a quantified element within a subphrase\n",
    "        /without/\n",
    "        subphrase\n",
    "            quantifier\n",
    "            < w1:nonquantprep pdp=adjv|subs|nmpr|prde|prps\n",
    "            /with/\n",
    "            = nonpostprep\n",
    "            /-/\n",
    "        /-/ \n",
    "\n",
    "% quantifier not immediately adjacent to quantified element within a phrase_atom\n",
    "        /without/\n",
    "        phrase_atom\n",
    "            quantifier\n",
    "            <: w1:nonquantprep pdp=subs|nmpr|prde|prps\n",
    "        /-/\n",
    "        /without/\n",
    "        phrase_atom\n",
    "            quantifier\n",
    "            <: word pdp=art\n",
    "            <: w1:nonquantprep pdp=subs|nmpr|prde|prps\n",
    "        /-/\n",
    "        /without/\n",
    "        phrase_atom\n",
    "            w1:nonquantprep pdp=subs|nmpr|prde|prps\n",
    "            <: quantifier\n",
    "        /-/\n",
    "        /without/\n",
    "        phrase_atom\n",
    "            w1:nonquantprep pdp=subs|nmpr|prde|prps\n",
    "            <: word pdp=art\n",
    "            <: quantifier\n",
    "        /-/\n",
    "        \n",
    "        \n",
    "% quantifier is not construct with quantified element\n",
    "        /without/\n",
    "        quantifier\n",
    "        <mother- subphrase rela=rec\n",
    "            nonquantprep pdp=subs|nmpr|prde|prps\n",
    "        /-/\n",
    "        /without/\n",
    "        phrase_atom\n",
    "            quantifier st=c\n",
    "            <: nonquantprep pdp=subs|nmpr|prde|prps\n",
    "        /-/\n",
    "    \n",
    "% quantifier is not in another relation with a quantified element\n",
    "        /without/\n",
    "        s1:subphrase\n",
    "            quantifier\n",
    "        s2:subphrase rela=adj|atr|dem\n",
    "            w1:nonquantprep pdp=subs|nmpr|prde|prps\n",
    "            /with/\n",
    "            = nonpostprep\n",
    "            /-/\n",
    "% exclude cases where a prepositional object occurs non-adjacently\n",
    "            /without/\n",
    "            subphrase\n",
    "            /without/\n",
    "                quant\n",
    "            /-/\n",
    "                =: prep\n",
    "                w1\n",
    "            /-/\n",
    "        s1 <mother- s2\n",
    "        /-/\n",
    "\n",
    "% ensure quantifer is not in a quantifying chain\n",
    "% there are numerous possible relations\n",
    "        /without/\n",
    "        phrase\n",
    "            phrase_atom rela=NA|Para\n",
    "            /with/\n",
    "                s1:subphrase\n",
    "                    nonquantprep pdp=subs|nmpr|prde|prps\n",
    "                s2:subphrase rela=adj|atr\n",
    "                    word ls=card\n",
    "                s1 <mother- s2\n",
    "            /or/\n",
    "                s1:subphrase\n",
    "                    word ls=card\n",
    "                s2:subphrase rela=adj|atr\n",
    "                    nonquantprep pdp=subs|nmpr|prde|prps\n",
    "                    /with/\n",
    "                    = nonpostprep\n",
    "                    /-/\n",
    "                s1 <mother- s2\n",
    "            /or/\n",
    "                word ls=card\n",
    "                <mother- subphrase rela=rec\n",
    "                    nonquantprep pdp=subs|nmpr|prde|prps\n",
    "            /or/\n",
    "                nonquantprep pdp=subs|nmpr|prde|prps\n",
    "                <mother- subphrase rela=rec\n",
    "                    word ls=card\n",
    "            /or/\n",
    "                nonquantprep pdp=subs|nmpr|prde|prps st=c\n",
    "                <: word ls=card\n",
    "            /-/\n",
    "% quantifier is either a cardinal number of BN/ in chain\n",
    "            w1:word\n",
    "            /with/\n",
    "            ls=card prs=absent\n",
    "            /or/\n",
    "            lex=BN/ prs=absent\n",
    "            /-/\n",
    "            \n",
    "            quantifier = w1\n",
    "        /-/\n",
    "\n",
    "% exclude uses as modifier:\n",
    "        /without/\n",
    "        subphrase rela=adj|atr|rec|mod|dem\n",
    "            quantifier\n",
    "        /-/\n",
    "        /with/\n",
    "        = iword\n",
    "        /-/\n",
    "''',)\n",
    "\n",
    "NP_complex = dict(NP_quantified = '''\n",
    "\n",
    "phrase typ=NP|PrNP|DPrP|PPrP\n",
    "    iphrase_atom\n",
    "   \n",
    "% ensure that word is quantified with a head-word quantifier\n",
    "% NB: what follows is a long chain of specs on quantifier\n",
    "\n",
    "        quantifier:quant\n",
    "\n",
    "% quantifier not used in rec relations to non-prepositions\n",
    "        /without/\n",
    "        nonprep\n",
    "        <mother- subphrase rela=rec\n",
    "            quantifier\n",
    "            w1:word\n",
    "            /without/\n",
    "            phrase_atom\n",
    "                prep\n",
    "                <: w1\n",
    "            /-/\n",
    "            /without/\n",
    "            phrase_atom\n",
    "                prep\n",
    "                <: word pdp=art\n",
    "                <: w1\n",
    "            /-/\n",
    "            w1 = quantifier\n",
    "        /-/\n",
    "\n",
    "% quantifier not used in adj relations to non-quantifiers\n",
    "        /without/\n",
    "        subphrase\n",
    "        /with/\n",
    "            nonquant pdp#conj|art\n",
    "        /-/\n",
    "        <mother- subphrase rela=adj\n",
    "            quantifier\n",
    "        /-/\n",
    "\n",
    "% ------------------------------\n",
    "% NB: what follows is a long chain of specs on head\n",
    "\n",
    "% require adjacency to quantifier\n",
    "        <1: subphrase\n",
    "            head:nonquant pdp=subs|adjv|advb|nmpr|prde|prps\n",
    "    \n",
    "% quantified word is not a dependent modifier\n",
    "% exclude non-quant construct state\n",
    "            /without/\n",
    "            nonquant st=c\n",
    "            <: head\n",
    "            /-/\n",
    "            /without/\n",
    "            nonquant st=c\n",
    "            <: word pdp=art\n",
    "            <: head\n",
    "            /-/\n",
    "\n",
    "% exclude non-quant rec relas\n",
    "            /without/\n",
    "            nonquantprep\n",
    "            <mother- subphrase rela=rec\n",
    "                head\n",
    "            /-/\n",
    "    \n",
    "% exclude non-quant para rec relas\n",
    "            /without/\n",
    "            nonquantprep\n",
    "            <mother- subphrase rela=rec\n",
    "            <mother- subphrase rela=par\n",
    "                head\n",
    "            /-/\n",
    "        \n",
    "% exclude non-quant adjunct relas\n",
    "            /without/\n",
    "            subphrase\n",
    "            /without/\n",
    "                := quant\n",
    "            /-/\n",
    "            <mother- subphrase rela=adj\n",
    "                head \n",
    "            /-/\n",
    "    \n",
    "% exclude non-quant para adjunct relas\n",
    "            /without/\n",
    "            subphrase\n",
    "            /without/\n",
    "                := quant\n",
    "            /-/\n",
    "            <mother- subphrase rela=adj\n",
    "            <mother- subphrase rela=par\n",
    "                head\n",
    "            /-/\n",
    "\n",
    "% exclude demonstrative relas when demonstrative points to subphrase with words other than quantifiers\n",
    "            /without/\n",
    "            subphrase\n",
    "            /with/\n",
    "                nonquant pdp#art|conj\n",
    "            /-/\n",
    "            <mother- subphrase rela=dem\n",
    "                head \n",
    "            /-/\n",
    "\n",
    "% exclude all other kinds of relations\n",
    "            /without/\n",
    "            subphrase rela=atr|mod\n",
    "                head\n",
    "            /-/\n",
    "            /with/\n",
    "            = iword\n",
    "            /or/\n",
    "            quant\n",
    "            <: head\n",
    "            /or/\n",
    "            quant\n",
    "            <: word pdp=art\n",
    "            <: head\n",
    "            /or/\n",
    "            head\n",
    "            <: quant\n",
    "            /-/\n",
    "            \n",
    "% exclude words with immediately preceding prepositions\n",
    "            /without/\n",
    "            prep\n",
    "            <: head\n",
    "            /-/\n",
    "            /without/\n",
    "            prep\n",
    "            <: word pdp=art\n",
    "            <: head\n",
    "            /-/\n",
    "''',)\n",
    "\n",
    "query_heads(NP_heads, headi=2, sets=sets)\n",
    "query_heads(NP_complex, headi=4, sets=sets)\n",
    "print('\\n', '<>'*20, '\\n')\n",
    "heads_status()"
   ]
  },
  {
   "cell_type": "markdown",
   "metadata": {},
   "source": [
    "# `obj_prep`\n",
    "\n",
    "The feature `prep_obj` in `v.1` was an edge feature from a word to its governing preposition. As is done with the nouns above, this would would be a nominal element that is disambiguated from its quantifiers. Since there is no dependency of a prepositional object, the nominal templates developed above can be used with the single change that the phrase type is a `PP` or `CP` (which also has prepositional objects!). \n",
    "\n",
    "Since `v.2` will encode edges from words to phrases rather than the other way around, this feature will encode an edge from the object to the preposition, hence the new feature name."
   ]
  },
  {
   "cell_type": "markdown",
   "metadata": {},
   "source": [
    "<hr>"
   ]
  },
  {
   "cell_type": "code",
   "execution_count": 147,
   "metadata": {},
   "outputs": [
    {
     "name": "stdout",
     "output_type": "stream",
     "text": [
      "running query on PP_noqant...\n",
      "  1.00s 65920 results\n",
      "\tprocessing prepositions...\n",
      "running query on PP_quant_alone...\n",
      "  0.10s 910 results\n",
      "\tprocessing prepositions...\n",
      "running query on PP_quantified...\n",
      "  0.49s 5409 results\n",
      "\tprocessing prepositions...\n",
      "running query on special_quantified...\n",
      "  0.28s 2038 results\n",
      "\tprocessing prepositions...\n",
      "running query on PP_to_PP...\n",
      "  0.10s 2944 results\n",
      "\tprocessing prepositions...\n",
      "running query on PP_to_conj...\n",
      "  0.25s 1055 results\n",
      "\tprocessing prepositions...\n",
      "running query on PP_negation...\n",
      "  0.28s 1 result\n",
      "\tprocessing prepositions...\n",
      "\n",
      " <><><><><><><><><><><><><><><><><><><><> \n",
      "\n",
      "queries complete with 64260 object of preposition mappings...\n"
     ]
    }
   ],
   "source": [
    "pp_obj_queries = {}\n",
    "    \n",
    "PP_noqant = f'''\n",
    "\n",
    "phrase_atom\n",
    "    prep prs=absent\n",
    "    < head:nonquant pdp#conj|art|prep|nega\n",
    "\n",
    "% either word is adjacent to prep\n",
    "    /with/\n",
    "    phrase_atom\n",
    "        prep\n",
    "        <: head\n",
    "        \n",
    "% or word is adjacent to prep but interrupted by article\n",
    "    /or/\n",
    "    phrase_atom\n",
    "        prep\n",
    "        <: word pdp=art\n",
    "        <: head\n",
    "    \n",
    "    /or/\n",
    "\n",
    "% or word is w1, an independent, non-modifying word\n",
    "% what follows is a long description for that situation\n",
    "\n",
    "    w1:word\n",
    "\n",
    "% exclude w1 uses as modifier\n",
    "    /with/\n",
    "    /without/\n",
    "    subphrase rela=adj|atr|mod|dem\n",
    "        w1\n",
    "    /-/\n",
    "    /or/\n",
    "    goodsp\n",
    "        w1\n",
    "    /-/\n",
    "    /with/\n",
    "    = iword\n",
    "    /-/\n",
    "\n",
    "% exclude w1 rec relations to non-prepositions\n",
    "    /without/\n",
    "    nonprep\n",
    "    <mother- subphrase rela=rec\n",
    "        w1\n",
    "    /-/\n",
    "\n",
    "% ensure w1 is not immediately preceded by a construct form\n",
    "    /without/\n",
    "    phrase_atom\n",
    "        nonprep st=c\n",
    "        <: w1\n",
    "    /-/\n",
    "    \n",
    "\n",
    "% exclude cases where word occurs in a subphrase immediately before a preposition\n",
    "% only 1 case of this, but may be other edge cases this misses.\n",
    "    /without/\n",
    "    s1:subphrase\n",
    "        prep\n",
    "    s2:subphrase rela=par\n",
    "        w1\n",
    "        <: prep\n",
    "    s1 <mother- s2\n",
    "    /-/\n",
    "    \n",
    "    w1 = head\n",
    "    /-/\n",
    "\n",
    "'''\n",
    "\n",
    "pp_obj_queries['PP_noqant'] = {'template': PP_noqant,\n",
    "                               'prepi': 1,\n",
    "                               'obji': 2}\n",
    "\n",
    "PP_quant_alone = f'''\n",
    "\n",
    "phrase_atom\n",
    "    prep prs=absent\n",
    "    < quantifier:quant\n",
    "\n",
    "% quantifier does not precede a quantified element within a subphrase\n",
    "    /without/\n",
    "    subphrase\n",
    "        quantifier\n",
    "        < w1:nonquantprep pdp=subs|adjv|advb|nmpr|prde|prps\n",
    "    \n",
    "        /without/\n",
    "        = postprep\n",
    "        /-/\n",
    "        \n",
    "        /without/\n",
    "        subphrase\n",
    "        /without/\n",
    "            quant\n",
    "        /-/\n",
    "            prep\n",
    "            < w1\n",
    "        /-/\n",
    "    /-/ \n",
    "    \n",
    "\n",
    "% quantifier not immediately adjacent to quantified element within a phrase_atom\n",
    "    /without/\n",
    "    phrase_atom\n",
    "        quantifier\n",
    "        <: w1:nonquantprep pdp=subs|nmpr|prde|prps\n",
    "    /-/\n",
    "    /without/\n",
    "    phrase_atom\n",
    "        quantifier\n",
    "        <: word pdp=art\n",
    "        <: w1:nonquantprep pdp=subs|nmpr|prde|prps\n",
    "    /-/\n",
    "    /without/\n",
    "    phrase_atom\n",
    "        w1:nonquantprep pdp=subs|nmpr|prde|prps\n",
    "        <: quantifier\n",
    "    /-/\n",
    "    /without/\n",
    "    phrase_atom\n",
    "        w1:nonquantprep pdp=subs|nmpr|prde|prps\n",
    "        <: word pdp=art\n",
    "        <: quantifier\n",
    "    /-/\n",
    "        \n",
    "% quantifier is not construct with quantified element\n",
    "    /without/\n",
    "    quantifier\n",
    "    <mother- subphrase rela=rec\n",
    "        nonquantprep pdp=subs|adjv|advb|nmpr|prde|prps\n",
    "    /-/\n",
    "    /without/\n",
    "    phrase_atom\n",
    "        quantifier st=c\n",
    "        <: nonquantprep pdp=subs|adjv|advb|nmpr|prde|prps\n",
    "    /-/\n",
    "    \n",
    "% quantifier is not in another relation with a quantified element\n",
    "    /without/\n",
    "    s1:subphrase\n",
    "        quantifier\n",
    "    s2:subphrase rela=adj|atr|dem\n",
    "        w1:nonquantprep pdp=subs|adjv|advb|nmpr|prde|prps \n",
    "        /without/\n",
    "        = postprep\n",
    "        /-/\n",
    "        /without/\n",
    "        subphrase\n",
    "        /without/\n",
    "            quant\n",
    "        /-/\n",
    "            < prep\n",
    "            w1\n",
    "        /-/\n",
    "        \n",
    "    s1 <mother- s2\n",
    "    /-/\n",
    "\n",
    "% ensure quantifer is not in a quantifying chain\n",
    "    /without/\n",
    "    phrase_atom\n",
    "    /with/\n",
    "        s1:subphrase\n",
    "            nonprep pdp=subs|adjv|nmpr|prde|prps lex#{quantlexs} ls#card\n",
    "        s2:subphrase rela=adj|atr\n",
    "            word ls=card\n",
    "        s1 <mother- s2\n",
    "    /or/\n",
    "        s1:subphrase\n",
    "            word ls=card\n",
    "        s2:subphrase rela=adj|atr\n",
    "            w1:nonprep pdp=subs|adjv|nmpr|prde|prps lex#{quantlexs} ls#card\n",
    "            /without/\n",
    "            = postprep\n",
    "            /-/\n",
    "            /without/\n",
    "            subphrase\n",
    "            /without/\n",
    "                quant\n",
    "            /-/\n",
    "                < prep\n",
    "                w1\n",
    "            /-/\n",
    "        s1 <mother- s2\n",
    "    /-/\n",
    "        quantifier ls=card prs=absent\n",
    "    /-/\n",
    "\n",
    "% exclude uses as modifier:\n",
    "    /without/\n",
    "    subphrase rela=adj|atr|rec|mod|dem\n",
    "        quantifier\n",
    "        w1:word\n",
    "        /without/\n",
    "        = postprep\n",
    "        /-/\n",
    "        quantifier = w1\n",
    "    /-/\n",
    "    /with/\n",
    "    = iword\n",
    "    /-/\n",
    "'''\n",
    "\n",
    "pp_obj_queries['PP_quant_alone'] = {'template': PP_quant_alone,\n",
    "                                    'prepi': 1,\n",
    "                                    'obji': 2}\n",
    "\n",
    "PP_quantified = f'''\n",
    "\n",
    "\n",
    "phrase_atom\n",
    "    prep prs=absent\n",
    "   \n",
    "% ensure that word is quantified with a head-word quantifier\n",
    "% NB: what follows is a long chain of specs on quantifier\n",
    "\n",
    "    < quantifier:quant\n",
    "\n",
    "    /with/\n",
    "    phrase_atom\n",
    "        prep\n",
    "        <: quantifier\n",
    "    /or/\n",
    "    \n",
    "% quantifier not used in rec relations to non-prepositions\n",
    "    /without/\n",
    "    nonprep\n",
    "    <mother- subphrase rela=rec\n",
    "        quantifier\n",
    "        w1:word\n",
    "        /without/\n",
    "        phrase_atom\n",
    "            prep\n",
    "            <: w1\n",
    "        /-/\n",
    "        /without/\n",
    "        phrase_atom\n",
    "            prep\n",
    "            <: word pdp=art\n",
    "            <: w1\n",
    "        /-/\n",
    "        w1 = quantifier\n",
    "    /-/\n",
    "\n",
    "% quantifier not used in adj relations to non-quantifiers\n",
    "    /without/\n",
    "    subphrase\n",
    "    /with/\n",
    "        nonquant pdp#conj|art\n",
    "    /-/\n",
    "    <mother- subphrase rela=adj\n",
    "        quantifier\n",
    "        w1:word\n",
    "        /without/\n",
    "        prep\n",
    "        <: w1\n",
    "        /-/\n",
    "        w1 = quantifier\n",
    "    /-/\n",
    "    /-/\n",
    "\n",
    "% ------------------------------\n",
    "% NB: what follows is a long chain of specs on head\n",
    "\n",
    "% require adjacency to quantifier\n",
    "    <1: subphrase\n",
    "        head:nonquant pdp=subs|adjv|advb|nmpr|prde|prps\n",
    "        \n",
    "        /with/\n",
    "        phrase_atom\n",
    "            prep\n",
    "            <: quant\n",
    "            <: head\n",
    "\n",
    "        /or/\n",
    "        phrase_atom\n",
    "            prep\n",
    "            <: quant\n",
    "            <: word pdp=art\n",
    "            <: head\n",
    "        \n",
    "        /or/\n",
    "    \n",
    "% quantified word is not a dependent modifier\n",
    "% exclude construct state to non quants/preps\n",
    "        /without/\n",
    "        nonquantprep st=c\n",
    "        <: head\n",
    "        /-/\n",
    "        /without/\n",
    "        nonquantprep st=c\n",
    "        <: word pdp=art\n",
    "        <: head\n",
    "        /-/\n",
    "\n",
    "% iword requirements\n",
    "        /with/\n",
    "        = iword\n",
    "        /or/\n",
    "        quant\n",
    "        <: head\n",
    "        /or/\n",
    "        quant\n",
    "        <: word pdp=art\n",
    "        <: head\n",
    "        /or/\n",
    "        head\n",
    "        <: quant\n",
    "        /-/\n",
    "\n",
    "% exclude non-quant/prep rec relas\n",
    "        /without/\n",
    "        nonquantprep\n",
    "        <mother- subphrase rela=rec\n",
    "            head\n",
    "        /-/\n",
    "    \n",
    "% exclude non-quant para rec relas\n",
    "        /without/\n",
    "        nonquantprep\n",
    "        <mother- subphrase rela=rec\n",
    "        <mother- subphrase rela=par\n",
    "            head\n",
    "        /-/\n",
    "        \n",
    "% exclude non-quant adjunct relas\n",
    "        /without/\n",
    "        subphrase\n",
    "        /without/\n",
    "            := quant\n",
    "        /-/\n",
    "        <mother- subphrase rela=adj\n",
    "            head\n",
    "        /-/\n",
    "    \n",
    "% exclude non-quant para adjunct relas\n",
    "        /without/\n",
    "        subphrase\n",
    "        /without/\n",
    "            := quant\n",
    "        /-/\n",
    "        <mother- subphrase rela=adj\n",
    "        <mother- subphrase rela=par\n",
    "            head\n",
    "        /-/\n",
    "\n",
    "% exclude demonstrative relas when demonstrative points to subphrase with words other than quantifiers\n",
    "        /without/\n",
    "        subphrase\n",
    "        /with/\n",
    "            nonquant pdp#art|conj\n",
    "        /-/\n",
    "        <mother- subphrase rela=dem\n",
    "            head \n",
    "        /-/\n",
    "\n",
    "% exclude all other kinds of relations\n",
    "        /without/\n",
    "        subphrase rela=atr|mod\n",
    "            head\n",
    "        /-/\n",
    "        /-/\n",
    "'''\n",
    "\n",
    "pp_obj_queries['PP_quantified'] = {'template': PP_quantified,\n",
    "                                   'prepi': 1,\n",
    "                                   'obji': 4}\n",
    "    \n",
    "special_quantified = '''\n",
    "\n",
    "% necessary due to technical limitation in search patterns\n",
    "phrase_atom\n",
    "    prep\n",
    "    <: quant\n",
    "    <: nonquant pdp=subs|adjv|advb|nmpr|prde|prps\n",
    "'''\n",
    "pp_obj_queries['special_quantified'] = {'template': special_quantified,\n",
    "                                        'prepi': 1,\n",
    "                                        'obji': 3}\n",
    "    \n",
    "PP_to_PP = '''\n",
    "\n",
    "phrase_atom\n",
    "    prep\n",
    "    <: prep\n",
    "'''\n",
    "\n",
    "pp_obj_queries['PP_to_PP'] = {'template': PP_to_PP,\n",
    "                              'prepi': 1,\n",
    "                              'obji': 2}\n",
    "    \n",
    "PP_to_conj = '''\n",
    "\n",
    "phrase_atom\n",
    "    prep\n",
    "    <: w:word pdp=conj\n",
    "    \n",
    "    /with/\n",
    "    phrase_atom typ=CP\n",
    "        w\n",
    "    /or/\n",
    "    lex=C|>CR\n",
    "    /-/\n",
    "'''\n",
    "\n",
    "pp_obj_queries['PP_to_conj'] = {'template': PP_to_conj,\n",
    "                                'prepi': 1,\n",
    "                                'obji': 2}\n",
    "\n",
    "PP_negation = '''\n",
    "\n",
    "pa:phrase_atom\n",
    "    pp:prep\n",
    "    neg:word pdp=nega\n",
    "\n",
    "pa =: pp\n",
    "pa := neg\n",
    "pp # neg\n",
    "'''\n",
    "pp_obj_queries['PP_negation'] = {'template': PP_negation,\n",
    "                                'prepi': 1,\n",
    "                                'obji': 2}\n",
    "\n",
    "\n",
    "\n",
    "obj2prep = collections.defaultdict()\n",
    "prep2obj = collections.defaultdict(set)\n",
    "\n",
    "for name, query in pp_obj_queries.items():\n",
    "    template = query['template']\n",
    "    prepi = query['prepi']\n",
    "    obji = query['obji']\n",
    "    \n",
    "    print(f'running query on {name}...')\n",
    "    results = A.search(template, sets=sets)\n",
    "\n",
    "    print('\\tprocessing prepositions...')\n",
    "    for res in results:\n",
    "        obj = res[obji]\n",
    "        # back up one slot until a preposition is found\n",
    "        prep = None\n",
    "        cur_slot = obj\n",
    "        while not prep:\n",
    "            cur_slot -= 1\n",
    "            if cur_slot in preps:\n",
    "                prep = cur_slot\n",
    "                \n",
    "        obj2prep[obj] = prep\n",
    "        prep2obj[prep].add(obj)\n",
    "        \n",
    "print('\\n', '<>'*20, '\\n')\n",
    "print(f'queries complete with {len(obj2prep)} object of preposition mappings...')"
   ]
  },
  {
   "cell_type": "markdown",
   "metadata": {},
   "source": [
    "## Check for Missing Prepositional Objects\n"
   ]
  },
  {
   "cell_type": "code",
   "execution_count": 148,
   "metadata": {},
   "outputs": [],
   "source": [
    "# for testing:\n",
    "for sp in L.d(0, 'subphrase'):\n",
    "    print(sp, F.rela.v(sp), E.mother.f(sp), T.text(sp))\n",
    "    print(L.d(sp, 'word'))\n",
    "    print()"
   ]
  },
  {
   "cell_type": "code",
   "execution_count": 149,
   "metadata": {},
   "outputs": [
    {
     "name": "stdout",
     "output_type": "stream",
     "text": [
      "  0.68s 62468 results\n",
      "0 prepositions missing...\n"
     ]
    }
   ],
   "source": [
    "simple_check_results = A.search('''\n",
    "\n",
    "phrase_atom\n",
    "    prep prs=absent\n",
    "    <: word pdp#conj\n",
    "    \n",
    "''', sets={'prep': preps})\n",
    "\n",
    "simple_check_prep = [res for res in simple_check_results if res[1] not in prep2obj]\n",
    "\n",
    "print(f'{len(simple_check_prep)} prepositions missing...')\n",
    "\n",
    "A.show(simple_check_prep, withNodes=True, condenseType='phrase_atom', end=100)"
   ]
  },
  {
   "cell_type": "markdown",
   "metadata": {},
   "source": [
    "# `nheads`\n",
    "\n",
    "In many cases one does not want to go through prepositions to reach the nominal head elements (i.e. independent substantive, adjective, etc.) in a phrase. For this we can export an additional feature, called `nheads` (\"nominal heads\"), which simply ignores any prepositions and selects the nominal elements from the phrase and phrase atoms. This feature is built up using the `phrase2heads` and `prep2obj` features already calculated above. \n",
    "\n",
    "### Note on AdjP\n",
    "This feature does not select nominals that are embedded within an adjective phrase (`AdjP`), but those can be selected with the following pattern:"
   ]
  },
  {
   "cell_type": "code",
   "execution_count": 150,
   "metadata": {},
   "outputs": [
    {
     "name": "stdout",
     "output_type": "stream",
     "text": [
      "  0.52s 201 results\n"
     ]
    },
    {
     "data": {
      "text/html": [
       "<p><b>result</b> <i>1</i>"
      ],
      "text/plain": [
       "<IPython.core.display.HTML object>"
      ]
     },
     "metadata": {},
     "output_type": "display_data"
    },
    {
     "data": {
      "text/html": [
       "<div class=\"tfsechead rtl\"><span class=\"ltr\"><a target=\"_blank\" href=\"https://shebanq.ancient-data.org/hebrew/text?book=Genesis&amp;chapter=22&amp;verse=12&amp;version=2021&amp;mr=m&amp;qw=q&amp;tp=txt_p&amp;tr=hb&amp;wget=v&amp;qget=v&amp;nget=vt\" title=\"Show this on SHEBANQ\" sec=\"Genesis 22:12\">Genesis 22:12</a></span></div><div class=\"rtl children\"><div class=\"contnr c1  rtl  \" ><div class=\"lbl c1  \" ><span class=\"nd\">phrase_atom:911205 </span> <span class=\"\"><span title=\"typ\">AdjP</span> <span title=\"rela\">NA</span></span></div><div class=\"features\"><span class=\"typ xft\" ><span class=\"f\">typ=</span>AdjP</span></div><div class=\"children hor wrap rtl\"><div class=\"contnr c0 trm rtl  \" ><div class=\"lbl c0 trm \" ><span class=\"nd\">10502 </span> <a class=\" txtu hbo\" target=\"_blank\" href=\"https://shebanq.ancient-data.org/hebrew/word?version=2021&amp;id=1JRAn\" title=\"Show this on SHEBANQ\"><span class=\"txtu hbo\">יְרֵ֤א </span></a></div><div class=\"features\"><span class=\"st xft\" ><span class=\"f\">st=</span>c</span></div></div><div class=\"contnr c0 trm rtl  hl\" ><div class=\"lbl c0 trm hl\" ><span class=\"nd\">10503 </span> <a class=\" txtu hbo\" target=\"_blank\" href=\"https://shebanq.ancient-data.org/hebrew/word?version=2021&amp;id=1ALHJMn\" title=\"Show this on SHEBANQ\"><span class=\"txtu hbo\">אֱלֹהִים֙ </span></a></div><div class=\"features\"><span class=\"st xft\" ><span class=\"f\">st=</span>a</span></div></div></div></div></div>"
      ],
      "text/plain": [
       "<IPython.core.display.HTML object>"
      ]
     },
     "metadata": {},
     "output_type": "display_data"
    },
    {
     "data": {
      "text/html": [
       "<p><b>result</b> <i>2</i>"
      ],
      "text/plain": [
       "<IPython.core.display.HTML object>"
      ]
     },
     "metadata": {},
     "output_type": "display_data"
    },
    {
     "data": {
      "text/html": [
       "<div class=\"tfsechead rtl\"><span class=\"ltr\"><a target=\"_blank\" href=\"https://shebanq.ancient-data.org/hebrew/text?book=Genesis&amp;chapter=24&amp;verse=16&amp;version=2021&amp;mr=m&amp;qw=q&amp;tp=txt_p&amp;tr=hb&amp;wget=v&amp;qget=v&amp;nget=vt\" title=\"Show this on SHEBANQ\" sec=\"Genesis 24:16\">Genesis 24:16</a></span></div><div class=\"rtl children\"><div class=\"contnr c1  rtl  \" ><div class=\"lbl c1  \" ><span class=\"nd\">phrase_atom:911784 </span> <span class=\"\"><span title=\"typ\">AdjP</span> <span title=\"rela\">NA</span></span></div><div class=\"features\"><span class=\"typ xft\" ><span class=\"f\">typ=</span>AdjP</span></div><div class=\"children hor wrap rtl\"><div class=\"contnr c0 trm rtl  \" ><div class=\"lbl c0 trm \" ><span class=\"nd\">11446 </span> <a class=\" txtu hbo\" target=\"_blank\" href=\"https://shebanq.ancient-data.org/hebrew/word?version=2021&amp;id=1VWBn\" title=\"Show this on SHEBANQ\"><span class=\"txtu hbo\">טֹבַ֤ת </span></a></div><div class=\"features\"><span class=\"st xft\" ><span class=\"f\">st=</span>c</span></div></div><div class=\"contnr c0 trm rtl  hl\" ><div class=\"lbl c0 trm hl\" ><span class=\"nd\">11447 </span> <a class=\" txtu hbo\" target=\"_blank\" href=\"https://shebanq.ancient-data.org/hebrew/word?version=2021&amp;id=1MRAHn\" title=\"Show this on SHEBANQ\"><span class=\"txtu hbo\">מַרְאֶה֙ </span></a></div><div class=\"features\"><span class=\"st xft\" ><span class=\"f\">st=</span>a</span></div></div><div class=\"contnr c0 trm rtl  \" ><div class=\"lbl c0 trm \" ><span class=\"nd\">11448 </span> <a class=\" txtu hbo\" target=\"_blank\" href=\"https://shebanq.ancient-data.org/hebrew/word?version=2021&amp;id=1MADn\" title=\"Show this on SHEBANQ\"><span class=\"txtu hbo\">מְאֹ֔ד </span></a></div><div class=\"features\"><span class=\"st xft\" ><span class=\"f\">st=</span>a</span></div></div></div></div></div>"
      ],
      "text/plain": [
       "<IPython.core.display.HTML object>"
      ]
     },
     "metadata": {},
     "output_type": "display_data"
    },
    {
     "data": {
      "text/html": [
       "<p><b>result</b> <i>3</i>"
      ],
      "text/plain": [
       "<IPython.core.display.HTML object>"
      ]
     },
     "metadata": {},
     "output_type": "display_data"
    },
    {
     "data": {
      "text/html": [
       "<div class=\"tfsechead rtl\"><span class=\"ltr\"><a target=\"_blank\" href=\"https://shebanq.ancient-data.org/hebrew/text?book=Genesis&amp;chapter=26&amp;verse=7&amp;version=2021&amp;mr=m&amp;qw=q&amp;tp=txt_p&amp;tr=hb&amp;wget=v&amp;qget=v&amp;nget=vt\" title=\"Show this on SHEBANQ\" sec=\"Genesis 26:7\">Genesis 26:7</a></span></div><div class=\"rtl children\"><div class=\"contnr c1  rtl  \" ><div class=\"lbl c1  \" ><span class=\"nd\">phrase_atom:912900 </span> <span class=\"\"><span title=\"typ\">AdjP</span> <span title=\"rela\">NA</span></span></div><div class=\"features\"><span class=\"typ xft\" ><span class=\"f\">typ=</span>AdjP</span></div><div class=\"children hor wrap rtl\"><div class=\"contnr c0 trm rtl  \" ><div class=\"lbl c0 trm \" ><span class=\"nd\">13121 </span> <a class=\" txtu hbo\" target=\"_blank\" href=\"https://shebanq.ancient-data.org/hebrew/word?version=2021&amp;id=1VWBn\" title=\"Show this on SHEBANQ\"><span class=\"txtu hbo\">טֹובַ֥ת </span></a></div><div class=\"features\"><span class=\"st xft\" ><span class=\"f\">st=</span>c</span></div></div><div class=\"contnr c0 trm rtl  hl\" ><div class=\"lbl c0 trm hl\" ><span class=\"nd\">13122 </span> <a class=\" txtu hbo\" target=\"_blank\" href=\"https://shebanq.ancient-data.org/hebrew/word?version=2021&amp;id=1MRAHn\" title=\"Show this on SHEBANQ\"><span class=\"txtu hbo\">מַרְאֶ֖ה </span></a></div><div class=\"features\"><span class=\"st xft\" ><span class=\"f\">st=</span>a</span></div></div></div></div></div>"
      ],
      "text/plain": [
       "<IPython.core.display.HTML object>"
      ]
     },
     "metadata": {},
     "output_type": "display_data"
    },
    {
     "data": {
      "text/html": [
       "<p><b>result</b> <i>4</i>"
      ],
      "text/plain": [
       "<IPython.core.display.HTML object>"
      ]
     },
     "metadata": {},
     "output_type": "display_data"
    },
    {
     "data": {
      "text/html": [
       "<div class=\"tfsechead rtl\"><span class=\"ltr\"><a target=\"_blank\" href=\"https://shebanq.ancient-data.org/hebrew/text?book=Genesis&amp;chapter=29&amp;verse=17&amp;version=2021&amp;mr=m&amp;qw=q&amp;tp=txt_p&amp;tr=hb&amp;wget=v&amp;qget=v&amp;nget=vt\" title=\"Show this on SHEBANQ\" sec=\"Genesis 29:17\">Genesis 29:17</a></span></div><div class=\"rtl children\"><div class=\"contnr c1  rtl  \" ><div class=\"lbl c1  \" ><span class=\"nd\">phrase_atom:914487 </span> <span class=\"\"><span title=\"typ\">AdjP</span> <span title=\"rela\">NA</span></span></div><div class=\"features\"><span class=\"typ xft\" ><span class=\"f\">typ=</span>AdjP</span></div><div class=\"children hor wrap rtl\"><div class=\"contnr c0 trm rtl  \" ><div class=\"lbl c0 trm \" ><span class=\"nd\">15277 </span> <a class=\" txtu hbo\" target=\"_blank\" href=\"https://shebanq.ancient-data.org/hebrew/word?version=2021&amp;id=1JPHn\" title=\"Show this on SHEBANQ\"><span class=\"txtu hbo\">יְפַת־</span></a></div><div class=\"features\"><span class=\"st xft\" ><span class=\"f\">st=</span>c</span></div></div><div class=\"contnr c0 trm rtl  hl\" ><div class=\"lbl c0 trm hl\" ><span class=\"nd\">15278 </span> <a class=\" txtu hbo\" target=\"_blank\" href=\"https://shebanq.ancient-data.org/hebrew/word?version=2021&amp;id=1TARn\" title=\"Show this on SHEBANQ\"><span class=\"txtu hbo\">תֹּ֖אַר </span></a></div><div class=\"features\"><span class=\"st xft\" ><span class=\"f\">st=</span>a</span></div></div><div class=\"contnr c0 trm rtl  \" ><div class=\"lbl c0 trm \" ><span class=\"nd\">15279 </span> <a class=\" txtu hbo\" target=\"_blank\" href=\"https://shebanq.ancient-data.org/hebrew/word?version=2021&amp;id=1W\" title=\"Show this on SHEBANQ\"><span class=\"txtu hbo\">וִ</span></a></div></div><div class=\"contnr c0 trm rtl  \" ><div class=\"lbl c0 trm \" ><span class=\"nd\">15280 </span> <a class=\" txtu hbo\" target=\"_blank\" href=\"https://shebanq.ancient-data.org/hebrew/word?version=2021&amp;id=1JPHn\" title=\"Show this on SHEBANQ\"><span class=\"txtu hbo\">יפַ֥ת </span></a></div><div class=\"features\"><span class=\"st xft\" ><span class=\"f\">st=</span>c</span></div></div><div class=\"contnr c0 trm rtl  \" ><div class=\"lbl c0 trm \" ><span class=\"nd\">15281 </span> <a class=\" txtu hbo\" target=\"_blank\" href=\"https://shebanq.ancient-data.org/hebrew/word?version=2021&amp;id=1MRAHn\" title=\"Show this on SHEBANQ\"><span class=\"txtu hbo\">מַרְאֶֽה׃ </span></a></div><div class=\"features\"><span class=\"st xft\" ><span class=\"f\">st=</span>a</span></div></div></div></div></div>"
      ],
      "text/plain": [
       "<IPython.core.display.HTML object>"
      ]
     },
     "metadata": {},
     "output_type": "display_data"
    },
    {
     "data": {
      "text/html": [
       "<p><b>result</b> <i>5</i>"
      ],
      "text/plain": [
       "<IPython.core.display.HTML object>"
      ]
     },
     "metadata": {},
     "output_type": "display_data"
    },
    {
     "data": {
      "text/html": [
       "<div class=\"tfsechead rtl\"><span class=\"ltr\"><a target=\"_blank\" href=\"https://shebanq.ancient-data.org/hebrew/text?book=Genesis&amp;chapter=29&amp;verse=17&amp;version=2021&amp;mr=m&amp;qw=q&amp;tp=txt_p&amp;tr=hb&amp;wget=v&amp;qget=v&amp;nget=vt\" title=\"Show this on SHEBANQ\" sec=\"Genesis 29:17\">Genesis 29:17</a></span></div><div class=\"rtl children\"><div class=\"contnr c1  rtl  \" ><div class=\"lbl c1  \" ><span class=\"nd\">phrase_atom:914487 </span> <span class=\"\"><span title=\"typ\">AdjP</span> <span title=\"rela\">NA</span></span></div><div class=\"features\"><span class=\"typ xft\" ><span class=\"f\">typ=</span>AdjP</span></div><div class=\"children hor wrap rtl\"><div class=\"contnr c0 trm rtl  \" ><div class=\"lbl c0 trm \" ><span class=\"nd\">15277 </span> <a class=\" txtu hbo\" target=\"_blank\" href=\"https://shebanq.ancient-data.org/hebrew/word?version=2021&amp;id=1JPHn\" title=\"Show this on SHEBANQ\"><span class=\"txtu hbo\">יְפַת־</span></a></div><div class=\"features\"><span class=\"st xft\" ><span class=\"f\">st=</span>c</span></div></div><div class=\"contnr c0 trm rtl  \" ><div class=\"lbl c0 trm \" ><span class=\"nd\">15278 </span> <a class=\" txtu hbo\" target=\"_blank\" href=\"https://shebanq.ancient-data.org/hebrew/word?version=2021&amp;id=1TARn\" title=\"Show this on SHEBANQ\"><span class=\"txtu hbo\">תֹּ֖אַר </span></a></div><div class=\"features\"><span class=\"st xft\" ><span class=\"f\">st=</span>a</span></div></div><div class=\"contnr c0 trm rtl  \" ><div class=\"lbl c0 trm \" ><span class=\"nd\">15279 </span> <a class=\" txtu hbo\" target=\"_blank\" href=\"https://shebanq.ancient-data.org/hebrew/word?version=2021&amp;id=1W\" title=\"Show this on SHEBANQ\"><span class=\"txtu hbo\">וִ</span></a></div></div><div class=\"contnr c0 trm rtl  \" ><div class=\"lbl c0 trm \" ><span class=\"nd\">15280 </span> <a class=\" txtu hbo\" target=\"_blank\" href=\"https://shebanq.ancient-data.org/hebrew/word?version=2021&amp;id=1JPHn\" title=\"Show this on SHEBANQ\"><span class=\"txtu hbo\">יפַ֥ת </span></a></div><div class=\"features\"><span class=\"st xft\" ><span class=\"f\">st=</span>c</span></div></div><div class=\"contnr c0 trm rtl  hl\" ><div class=\"lbl c0 trm hl\" ><span class=\"nd\">15281 </span> <a class=\" txtu hbo\" target=\"_blank\" href=\"https://shebanq.ancient-data.org/hebrew/word?version=2021&amp;id=1MRAHn\" title=\"Show this on SHEBANQ\"><span class=\"txtu hbo\">מַרְאֶֽה׃ </span></a></div><div class=\"features\"><span class=\"st xft\" ><span class=\"f\">st=</span>a</span></div></div></div></div></div>"
      ],
      "text/plain": [
       "<IPython.core.display.HTML object>"
      ]
     },
     "metadata": {},
     "output_type": "display_data"
    }
   ],
   "source": [
    "adj_nhead = '''\n",
    "\n",
    "phrase_atom typ=AdjP\n",
    "    w1:word \n",
    "    /with/\n",
    "    word pdp=adjv\n",
    "    <mother- subphrase rela=rec\n",
    "        w1\n",
    "    /-/\n",
    "\n",
    "'''\n",
    "\n",
    "A.show(A.search(adj_nhead), condenseType='phrase_atom', end=5)"
   ]
  },
  {
   "cell_type": "code",
   "execution_count": 151,
   "metadata": {},
   "outputs": [],
   "source": [
    "def find_prep_nominal(preposition, nominals=[]):\n",
    "    '''\n",
    "    This function recursively\n",
    "    moves through prepositional\n",
    "    chains to obtain the ultimate \n",
    "    governed nominal element.\n",
    "    '''\n",
    "    objects = prep2obj.get(preposition, None)\n",
    "    if objects:\n",
    "        for obj in objects:\n",
    "            if obj not in sets['prep']:\n",
    "                nominals.append(obj)\n",
    "            else:\n",
    "                find_prep_nominal(obj, nominals=nominals)"
   ]
  },
  {
   "cell_type": "code",
   "execution_count": 152,
   "metadata": {},
   "outputs": [
    {
     "name": "stdout",
     "output_type": "stream",
     "text": [
      "253200 nheads assigned...\n",
      "0 phrases not assigned an nhead...\n"
     ]
    }
   ],
   "source": [
    "nheads = collections.defaultdict(set)\n",
    "\n",
    "for phrase, heads in phrase2heads.items():\n",
    "    for head in heads:\n",
    "        if head not in sets['prep']:\n",
    "            nheads[phrase].add(head)\n",
    "        else:\n",
    "            nominals = []\n",
    "            find_prep_nominal(head, nominals=nominals)\n",
    "            if nominals:\n",
    "                nheads[phrase] |= set(nominals)\n",
    "            else:\n",
    "                nheads[phrase].add(head) # added 22.03.19: keep nhead feature for preps without objects\n",
    "            \n",
    "print(f'{len(nheads)} nheads assigned...')\n",
    "print(f'{len(phrase2heads)-len(nheads)} phrases not assigned an nhead...')"
   ]
  },
  {
   "cell_type": "code",
   "execution_count": 153,
   "metadata": {},
   "outputs": [],
   "source": [
    "examples = [(phrase,)+tuple(heads) for phrase, heads in nheads.items()\n",
    "               #if F.typ.v(phrase) == 'PP'\n",
    "                if len(heads) > 1\n",
    "           ]\n",
    "\n",
    "random.shuffle(examples)"
   ]
  },
  {
   "cell_type": "code",
   "execution_count": 154,
   "metadata": {},
   "outputs": [
    {
     "data": {
      "text/html": [
       "<p><b>result</b> <i>888765</i>"
      ],
      "text/plain": [
       "<IPython.core.display.HTML object>"
      ]
     },
     "metadata": {},
     "output_type": "display_data"
    },
    {
     "data": {
      "text/html": [
       "<div class=\"tfsechead rtl\"><span class=\"ltr\"><a target=\"_blank\" href=\"https://shebanq.ancient-data.org/hebrew/text?book=Chronica_I&amp;chapter=6&amp;verse=11&amp;version=2021&amp;mr=m&amp;qw=q&amp;tp=txt_p&amp;tr=hb&amp;wget=v&amp;qget=v&amp;nget=vt\" title=\"Show this on SHEBANQ\" sec=\"1_Chronicles 6:11\">1_Chronicles 6:11</a></span></div><div class=\"rtl children\"><div class=\"contnr c1  rtl  \" ><div class=\"lbl c1  \" ><span class=\"nd\">phrase:888765 </span> <span class=\"\"><span title=\"typ\">PrNP</span> <span title=\"function\">PreC</span></span></div><div class=\"features\"><span class=\"typ xft\" ><span class=\"f\">typ=</span>PrNP</span></div><div class=\"children hor wrap rtl\"><div class=\"contnr c0 trm rtl  hl\" ><div class=\"lbl c0 trm hl\" ><span class=\"nd\">394187 </span> <a class=\" txtu hbo\" target=\"_blank\" href=\"https://shebanq.ancient-data.org/hebrew/word?version=2021&amp;id=1YWPJn\" title=\"Show this on SHEBANQ\"><span class=\"txtu hbo\">צֹופַ֥י </span></a></div><div class=\"features\"><span class=\"st xft\" ><span class=\"f\">st=</span>a</span></div></div><div class=\"contnr c0 trm rtl  \" ><div class=\"lbl c0 trm \" ><span class=\"nd\">394188 </span> <a class=\" txtu hbo\" target=\"_blank\" href=\"https://shebanq.ancient-data.org/hebrew/word?version=2021&amp;id=1BNn\" title=\"Show this on SHEBANQ\"><span class=\"txtu hbo\">בְּנֹ֖ו </span></a></div><div class=\"features\"><span class=\"st xft\" ><span class=\"f\">st=</span>a</span></div></div><div class=\"contnr c0 trm rtl  \" ><div class=\"lbl c0 trm \" ><span class=\"nd\">394189 </span> <a class=\" txtu hbo\" target=\"_blank\" href=\"https://shebanq.ancient-data.org/hebrew/word?version=2021&amp;id=1W\" title=\"Show this on SHEBANQ\"><span class=\"txtu hbo\">וְ</span></a></div></div><div class=\"contnr c0 trm rtl  hl\" ><div class=\"lbl c0 trm hl\" ><span class=\"nd\">394190 </span> <a class=\" txtu hbo\" target=\"_blank\" href=\"https://shebanq.ancient-data.org/hebrew/word?version=2021&amp;id=1NXTiiin\" title=\"Show this on SHEBANQ\"><span class=\"txtu hbo\">נַ֥חַת </span></a></div><div class=\"features\"><span class=\"st xft\" ><span class=\"f\">st=</span>a</span></div></div><div class=\"contnr c0 trm rtl  \" ><div class=\"lbl c0 trm \" ><span class=\"nd\">394191 </span> <a class=\" txtu hbo\" target=\"_blank\" href=\"https://shebanq.ancient-data.org/hebrew/word?version=2021&amp;id=1BNn\" title=\"Show this on SHEBANQ\"><span class=\"txtu hbo\">בְּנֹֽו׃ </span></a></div><div class=\"features\"><span class=\"st xft\" ><span class=\"f\">st=</span>a</span></div></div></div></div></div>"
      ],
      "text/plain": [
       "<IPython.core.display.HTML object>"
      ]
     },
     "metadata": {},
     "output_type": "display_data"
    },
    {
     "data": {
      "text/html": [
       "<p><b>result</b> <i>843740</i>"
      ],
      "text/plain": [
       "<IPython.core.display.HTML object>"
      ]
     },
     "metadata": {},
     "output_type": "display_data"
    },
    {
     "data": {
      "text/html": [
       "<div class=\"tfsechead rtl\"><span class=\"ltr\"><a target=\"_blank\" href=\"https://shebanq.ancient-data.org/hebrew/text?book=Psalmi&amp;chapter=72&amp;verse=13&amp;version=2021&amp;mr=m&amp;qw=q&amp;tp=txt_p&amp;tr=hb&amp;wget=v&amp;qget=v&amp;nget=vt\" title=\"Show this on SHEBANQ\" sec=\"Psalms 72:13\">Psalms 72:13</a></span></div><div class=\"rtl children\"><div class=\"contnr c1  rtl  \" ><div class=\"lbl c1  \" ><span class=\"nd\">phrase:843740 </span> <span class=\"\"><span title=\"typ\">PP</span> <span title=\"function\">Cmpl</span></span></div><div class=\"features\"><span class=\"typ xft\" ><span class=\"f\">typ=</span>PP</span></div><div class=\"children hor wrap rtl\"><div class=\"contnr c0 trm rtl  \" ><div class=\"lbl c0 trm \" ><span class=\"nd\">322430 </span> <a class=\" txtu hbo\" target=\"_blank\" href=\"https://shebanq.ancient-data.org/hebrew/word?version=2021&amp;id=1OL\" title=\"Show this on SHEBANQ\"><span class=\"txtu hbo\">עַל־</span></a></div></div><div class=\"contnr c0 trm rtl  hl\" ><div class=\"lbl c0 trm hl\" ><span class=\"nd\">322431 </span> <a class=\" txtu hbo\" target=\"_blank\" href=\"https://shebanq.ancient-data.org/hebrew/word?version=2021&amp;id=1DLn\" title=\"Show this on SHEBANQ\"><span class=\"txtu hbo\">דַּ֣ל </span></a></div><div class=\"features\"><span class=\"st xft\" ><span class=\"f\">st=</span>a</span></div></div><div class=\"contnr c0 trm rtl  \" ><div class=\"lbl c0 trm \" ><span class=\"nd\">322432 </span> <a class=\" txtu hbo\" target=\"_blank\" href=\"https://shebanq.ancient-data.org/hebrew/word?version=2021&amp;id=1W\" title=\"Show this on SHEBANQ\"><span class=\"txtu hbo\">וְ</span></a></div></div><div class=\"contnr c0 trm rtl  hl\" ><div class=\"lbl c0 trm hl\" ><span class=\"nd\">322433 </span> <a class=\" txtu hbo\" target=\"_blank\" href=\"https://shebanq.ancient-data.org/hebrew/word?version=2021&amp;id=1ABJWNn\" title=\"Show this on SHEBANQ\"><span class=\"txtu hbo\">אֶבְיֹ֑ון </span></a></div><div class=\"features\"><span class=\"st xft\" ><span class=\"f\">st=</span>a</span></div></div></div></div></div>"
      ],
      "text/plain": [
       "<IPython.core.display.HTML object>"
      ]
     },
     "metadata": {},
     "output_type": "display_data"
    },
    {
     "data": {
      "text/html": [
       "<p><b>result</b> <i>741315</i>"
      ],
      "text/plain": [
       "<IPython.core.display.HTML object>"
      ]
     },
     "metadata": {},
     "output_type": "display_data"
    },
    {
     "data": {
      "text/html": [
       "<div class=\"tfsechead rtl\"><span class=\"ltr\"><a target=\"_blank\" href=\"https://shebanq.ancient-data.org/hebrew/text?book=Samuel_I&amp;chapter=25&amp;verse=3&amp;version=2021&amp;mr=m&amp;qw=q&amp;tp=txt_p&amp;tr=hb&amp;wget=v&amp;qget=v&amp;nget=vt\" title=\"Show this on SHEBANQ\" sec=\"1_Samuel 25:3\">1_Samuel 25:3</a></span></div><div class=\"rtl children\"><div class=\"contnr c1  rtl  \" ><div class=\"lbl c1  \" ><span class=\"nd\">phrase:741315 </span> <span class=\"\"><span title=\"typ\">AdjP</span> <span title=\"function\">PreC</span></span></div><div class=\"features\"><span class=\"typ xft\" ><span class=\"f\">typ=</span>AdjP</span></div><div class=\"children hor wrap rtl\"><div class=\"contnr c0 trm rtl  hl\" ><div class=\"lbl c0 trm hl\" ><span class=\"nd\">156551 </span> <a class=\" txtu hbo\" target=\"_blank\" href=\"https://shebanq.ancient-data.org/hebrew/word?version=2021&amp;id=1VWBn\" title=\"Show this on SHEBANQ\"><span class=\"txtu hbo\">טֹֽובַת־</span></a></div><div class=\"features\"><span class=\"st xft\" ><span class=\"f\">st=</span>c</span></div></div><div class=\"contnr c0 trm rtl  \" ><div class=\"lbl c0 trm \" ><span class=\"nd\">156552 </span> <a class=\" txtu hbo\" target=\"_blank\" href=\"https://shebanq.ancient-data.org/hebrew/word?version=2021&amp;id=1FKLn\" title=\"Show this on SHEBANQ\"><span class=\"txtu hbo\">שֶׂ֨כֶל֙ </span></a></div><div class=\"features\"><span class=\"st xft\" ><span class=\"f\">st=</span>a</span></div></div><div class=\"contnr c0 trm rtl  \" ><div class=\"lbl c0 trm \" ><span class=\"nd\">156553 </span> <a class=\" txtu hbo\" target=\"_blank\" href=\"https://shebanq.ancient-data.org/hebrew/word?version=2021&amp;id=1W\" title=\"Show this on SHEBANQ\"><span class=\"txtu hbo\">וִ֣</span></a></div></div><div class=\"contnr c0 trm rtl  hl\" ><div class=\"lbl c0 trm hl\" ><span class=\"nd\">156554 </span> <a class=\" txtu hbo\" target=\"_blank\" href=\"https://shebanq.ancient-data.org/hebrew/word?version=2021&amp;id=1JPHn\" title=\"Show this on SHEBANQ\"><span class=\"txtu hbo\">יפַת </span></a></div><div class=\"features\"><span class=\"st xft\" ><span class=\"f\">st=</span>c</span></div></div><div class=\"contnr c0 trm rtl  \" ><div class=\"lbl c0 trm \" ><span class=\"nd\">156555 </span> <a class=\" txtu hbo\" target=\"_blank\" href=\"https://shebanq.ancient-data.org/hebrew/word?version=2021&amp;id=1TARn\" title=\"Show this on SHEBANQ\"><span class=\"txtu hbo\">תֹּ֔אַר </span></a></div><div class=\"features\"><span class=\"st xft\" ><span class=\"f\">st=</span>a</span></div></div></div></div></div>"
      ],
      "text/plain": [
       "<IPython.core.display.HTML object>"
      ]
     },
     "metadata": {},
     "output_type": "display_data"
    },
    {
     "data": {
      "text/html": [
       "<p><b>result</b> <i>888971</i>"
      ],
      "text/plain": [
       "<IPython.core.display.HTML object>"
      ]
     },
     "metadata": {},
     "output_type": "display_data"
    },
    {
     "data": {
      "text/html": [
       "<div class=\"tfsechead rtl\"><span class=\"ltr\"><a target=\"_blank\" href=\"https://shebanq.ancient-data.org/hebrew/text?book=Chronica_I&amp;chapter=7&amp;verse=2&amp;version=2021&amp;mr=m&amp;qw=q&amp;tp=txt_p&amp;tr=hb&amp;wget=v&amp;qget=v&amp;nget=vt\" title=\"Show this on SHEBANQ\" sec=\"1_Chronicles 7:2\">1_Chronicles 7:2</a></span></div><div class=\"rtl children\"><div class=\"contnr c1  rtl  \" ><div class=\"lbl c1  \" ><span class=\"nd\">phrase:888971 </span> <span class=\"\"><span title=\"typ\">PrNP</span> <span title=\"function\">PreC</span></span></div><div class=\"features\"><span class=\"typ xft\" ><span class=\"f\">typ=</span>PrNP</span></div><div class=\"children hor wrap rtl\"><div class=\"contnr c0 trm rtl  hl\" ><div class=\"lbl c0 trm hl\" ><span class=\"nd\">394970 </span> <a class=\" txtu hbo\" target=\"_blank\" href=\"https://shebanq.ancient-data.org/hebrew/word?version=2021&amp;id=1OZJn\" title=\"Show this on SHEBANQ\"><span class=\"txtu hbo\">עֻזִּ֡י </span></a></div><div class=\"features\"><span class=\"st xft\" ><span class=\"f\">st=</span>a</span></div></div><div class=\"contnr c0 trm rtl  \" ><div class=\"lbl c0 trm \" ><span class=\"nd\">394971 </span> <a class=\" txtu hbo\" target=\"_blank\" href=\"https://shebanq.ancient-data.org/hebrew/word?version=2021&amp;id=1W\" title=\"Show this on SHEBANQ\"><span class=\"txtu hbo\">וּ</span></a></div></div><div class=\"contnr c0 trm rtl  hl\" ><div class=\"lbl c0 trm hl\" ><span class=\"nd\">394972 </span> <a class=\" txtu hbo\" target=\"_blank\" href=\"https://shebanq.ancient-data.org/hebrew/word?version=2021&amp;id=1RPJHn\" title=\"Show this on SHEBANQ\"><span class=\"txtu hbo\">רְפָיָ֡ה </span></a></div><div class=\"features\"><span class=\"st xft\" ><span class=\"f\">st=</span>a</span></div></div><div class=\"contnr c0 trm rtl  \" ><div class=\"lbl c0 trm \" ><span class=\"nd\">394973 </span> <a class=\" txtu hbo\" target=\"_blank\" href=\"https://shebanq.ancient-data.org/hebrew/word?version=2021&amp;id=1W\" title=\"Show this on SHEBANQ\"><span class=\"txtu hbo\">וִֽ֠</span></a></div></div><div class=\"contnr c0 trm rtl  hl\" ><div class=\"lbl c0 trm hl\" ><span class=\"nd\">394974 </span> <a class=\" txtu hbo\" target=\"_blank\" href=\"https://shebanq.ancient-data.org/hebrew/word?version=2021&amp;id=1JRJALn\" title=\"Show this on SHEBANQ\"><span class=\"txtu hbo\">ירִיאֵל </span></a></div><div class=\"features\"><span class=\"st xft\" ><span class=\"f\">st=</span>a</span></div></div><div class=\"contnr c0 trm rtl  \" ><div class=\"lbl c0 trm \" ><span class=\"nd\">394975 </span> <a class=\" txtu hbo\" target=\"_blank\" href=\"https://shebanq.ancient-data.org/hebrew/word?version=2021&amp;id=1W\" title=\"Show this on SHEBANQ\"><span class=\"txtu hbo\">וְ</span></a></div></div><div class=\"contnr c0 trm rtl  hl\" ><div class=\"lbl c0 trm hl\" ><span class=\"nd\">394976 </span> <a class=\" txtu hbo\" target=\"_blank\" href=\"https://shebanq.ancient-data.org/hebrew/word?version=2021&amp;id=1JXMJn\" title=\"Show this on SHEBANQ\"><span class=\"txtu hbo\">יַחְמַ֨י </span></a></div><div class=\"features\"><span class=\"st xft\" ><span class=\"f\">st=</span>a</span></div></div><div class=\"contnr c0 trm rtl  \" ><div class=\"lbl c0 trm \" ><span class=\"nd\">394977 </span> <a class=\" txtu hbo\" target=\"_blank\" href=\"https://shebanq.ancient-data.org/hebrew/word?version=2021&amp;id=1W\" title=\"Show this on SHEBANQ\"><span class=\"txtu hbo\">וְ</span></a></div></div><div class=\"contnr c0 trm rtl  hl\" ><div class=\"lbl c0 trm hl\" ><span class=\"nd\">394978 </span> <a class=\" txtu hbo\" target=\"_blank\" href=\"https://shebanq.ancient-data.org/hebrew/word?version=2021&amp;id=1JBFMn\" title=\"Show this on SHEBANQ\"><span class=\"txtu hbo\">יִבְשָׂ֜ם </span></a></div><div class=\"features\"><span class=\"st xft\" ><span class=\"f\">st=</span>a</span></div></div><div class=\"contnr c0 trm rtl  \" ><div class=\"lbl c0 trm \" ><span class=\"nd\">394979 </span> <a class=\" txtu hbo\" target=\"_blank\" href=\"https://shebanq.ancient-data.org/hebrew/word?version=2021&amp;id=1W\" title=\"Show this on SHEBANQ\"><span class=\"txtu hbo\">וּ</span></a></div></div><div class=\"contnr c0 trm rtl  hl\" ><div class=\"lbl c0 trm hl\" ><span class=\"nd\">394980 </span> <a class=\" txtu hbo\" target=\"_blank\" href=\"https://shebanq.ancient-data.org/hebrew/word?version=2021&amp;id=1CMWALn\" title=\"Show this on SHEBANQ\"><span class=\"txtu hbo\">שְׁמוּאֵ֗ל </span></a></div><div class=\"features\"><span class=\"st xft\" ><span class=\"f\">st=</span>a</span></div></div></div></div></div>"
      ],
      "text/plain": [
       "<IPython.core.display.HTML object>"
      ]
     },
     "metadata": {},
     "output_type": "display_data"
    },
    {
     "data": {
      "text/html": [
       "<p><b>result</b> <i>653001</i>"
      ],
      "text/plain": [
       "<IPython.core.display.HTML object>"
      ]
     },
     "metadata": {},
     "output_type": "display_data"
    },
    {
     "data": {
      "text/html": [
       "<div class=\"tfsechead rtl\"><span class=\"ltr\"><a target=\"_blank\" href=\"https://shebanq.ancient-data.org/hebrew/text?book=Genesis&amp;chapter=5&amp;verse=19&amp;version=2021&amp;mr=m&amp;qw=q&amp;tp=txt_p&amp;tr=hb&amp;wget=v&amp;qget=v&amp;nget=vt\" title=\"Show this on SHEBANQ\" sec=\"Genesis 5:19\">Genesis 5:19</a></span></div><div class=\"rtl children\"><div class=\"contnr c1  rtl  \" ><div class=\"lbl c1  \" ><span class=\"nd\">phrase:653001 </span> <span class=\"\"><span title=\"typ\">NP</span> <span title=\"function\">Objc</span></span></div><div class=\"features\"><span class=\"typ xft\" ><span class=\"f\">typ=</span>NP</span></div><div class=\"children hor wrap rtl\"><div class=\"contnr c0 trm rtl  hl\" ><div class=\"lbl c0 trm hl\" ><span class=\"nd\">2394 </span> <a class=\" txtu hbo\" target=\"_blank\" href=\"https://shebanq.ancient-data.org/hebrew/word?version=2021&amp;id=1BNn\" title=\"Show this on SHEBANQ\"><span class=\"txtu hbo\">בָּנִ֖ים </span></a></div><div class=\"features\"><span class=\"st xft\" ><span class=\"f\">st=</span>a</span></div></div><div class=\"contnr c0 trm rtl  \" ><div class=\"lbl c0 trm \" ><span class=\"nd\">2395 </span> <a class=\" txtu hbo\" target=\"_blank\" href=\"https://shebanq.ancient-data.org/hebrew/word?version=2021&amp;id=1W\" title=\"Show this on SHEBANQ\"><span class=\"txtu hbo\">וּ</span></a></div></div><div class=\"contnr c0 trm rtl  hl\" ><div class=\"lbl c0 trm hl\" ><span class=\"nd\">2396 </span> <a class=\" txtu hbo\" target=\"_blank\" href=\"https://shebanq.ancient-data.org/hebrew/word?version=2021&amp;id=1BTn\" title=\"Show this on SHEBANQ\"><span class=\"txtu hbo\">בָנֹֽות׃ </span></a></div><div class=\"features\"><span class=\"st xft\" ><span class=\"f\">st=</span>a</span></div></div></div></div></div>"
      ],
      "text/plain": [
       "<IPython.core.display.HTML object>"
      ]
     },
     "metadata": {},
     "output_type": "display_data"
    },
    {
     "data": {
      "text/html": [
       "<p><b>result</b> <i>716238</i>"
      ],
      "text/plain": [
       "<IPython.core.display.HTML object>"
      ]
     },
     "metadata": {},
     "output_type": "display_data"
    },
    {
     "data": {
      "text/html": [
       "<div class=\"tfsechead rtl\"><span class=\"ltr\"><a target=\"_blank\" href=\"https://shebanq.ancient-data.org/hebrew/text?book=Josua&amp;chapter=2&amp;verse=14&amp;version=2021&amp;mr=m&amp;qw=q&amp;tp=txt_p&amp;tr=hb&amp;wget=v&amp;qget=v&amp;nget=vt\" title=\"Show this on SHEBANQ\" sec=\"Joshua 2:14\">Joshua 2:14</a></span></div><div class=\"rtl children\"><div class=\"contnr c1  rtl  \" ><div class=\"lbl c1  \" ><span class=\"nd\">phrase:716238 </span> <span class=\"\"><span title=\"typ\">NP</span> <span title=\"function\">Objc</span></span></div><div class=\"features\"><span class=\"typ xft\" ><span class=\"f\">typ=</span>NP</span></div><div class=\"children hor wrap rtl\"><div class=\"contnr c0 trm rtl  hl\" ><div class=\"lbl c0 trm hl\" ><span class=\"nd\">113706 </span> <a class=\" txtu hbo\" target=\"_blank\" href=\"https://shebanq.ancient-data.org/hebrew/word?version=2021&amp;id=1XSDn\" title=\"Show this on SHEBANQ\"><span class=\"txtu hbo\">חֶ֥סֶד </span></a></div><div class=\"features\"><span class=\"st xft\" ><span class=\"f\">st=</span>a</span></div></div><div class=\"contnr c0 trm rtl  \" ><div class=\"lbl c0 trm \" ><span class=\"nd\">113707 </span> <a class=\" txtu hbo\" target=\"_blank\" href=\"https://shebanq.ancient-data.org/hebrew/word?version=2021&amp;id=1W\" title=\"Show this on SHEBANQ\"><span class=\"txtu hbo\">וֶ</span></a></div></div><div class=\"contnr c0 trm rtl  hl\" ><div class=\"lbl c0 trm hl\" ><span class=\"nd\">113708 </span> <a class=\" txtu hbo\" target=\"_blank\" href=\"https://shebanq.ancient-data.org/hebrew/word?version=2021&amp;id=1AMTn\" title=\"Show this on SHEBANQ\"><span class=\"txtu hbo\">אֱמֶֽת׃ </span></a></div><div class=\"features\"><span class=\"st xft\" ><span class=\"f\">st=</span>a</span></div></div></div></div></div>"
      ],
      "text/plain": [
       "<IPython.core.display.HTML object>"
      ]
     },
     "metadata": {},
     "output_type": "display_data"
    },
    {
     "data": {
      "text/html": [
       "<p><b>result</b> <i>677052</i>"
      ],
      "text/plain": [
       "<IPython.core.display.HTML object>"
      ]
     },
     "metadata": {},
     "output_type": "display_data"
    },
    {
     "data": {
      "text/html": [
       "<div class=\"tfsechead rtl\"><span class=\"ltr\"><a target=\"_blank\" href=\"https://shebanq.ancient-data.org/hebrew/text?book=Exodus&amp;chapter=22&amp;verse=28&amp;version=2021&amp;mr=m&amp;qw=q&amp;tp=txt_p&amp;tr=hb&amp;wget=v&amp;qget=v&amp;nget=vt\" title=\"Show this on SHEBANQ\" sec=\"Exodus 22:28\">Exodus 22:28</a></span></div><div class=\"rtl children\"><div class=\"contnr c1  rtl  \" ><div class=\"lbl c1  \" ><span class=\"nd\">phrase:677052 </span> <span class=\"\"><span title=\"typ\">NP</span> <span title=\"function\">Objc</span></span></div><div class=\"features\"><span class=\"typ xft\" ><span class=\"f\">typ=</span>NP</span></div><div class=\"children hor wrap rtl\"><div class=\"contnr c0 trm rtl  hl\" ><div class=\"lbl c0 trm hl\" ><span class=\"nd\">41018 </span> <a class=\" txtu hbo\" target=\"_blank\" href=\"https://shebanq.ancient-data.org/hebrew/word?version=2021&amp;id=1MLAHn\" title=\"Show this on SHEBANQ\"><span class=\"txtu hbo\">מְלֵאָתְךָ֥ </span></a></div><div class=\"features\"><span class=\"st xft\" ><span class=\"f\">st=</span>a</span></div></div><div class=\"contnr c0 trm rtl  \" ><div class=\"lbl c0 trm \" ><span class=\"nd\">41019 </span> <a class=\" txtu hbo\" target=\"_blank\" href=\"https://shebanq.ancient-data.org/hebrew/word?version=2021&amp;id=1W\" title=\"Show this on SHEBANQ\"><span class=\"txtu hbo\">וְ</span></a></div></div><div class=\"contnr c0 trm rtl  hl\" ><div class=\"lbl c0 trm hl\" ><span class=\"nd\">41020 </span> <a class=\" txtu hbo\" target=\"_blank\" href=\"https://shebanq.ancient-data.org/hebrew/word?version=2021&amp;id=1DMOn\" title=\"Show this on SHEBANQ\"><span class=\"txtu hbo\">דִמְעֲךָ֖ </span></a></div><div class=\"features\"><span class=\"st xft\" ><span class=\"f\">st=</span>a</span></div></div></div></div></div>"
      ],
      "text/plain": [
       "<IPython.core.display.HTML object>"
      ]
     },
     "metadata": {},
     "output_type": "display_data"
    },
    {
     "data": {
      "text/html": [
       "<p><b>result</b> <i>746853</i>"
      ],
      "text/plain": [
       "<IPython.core.display.HTML object>"
      ]
     },
     "metadata": {},
     "output_type": "display_data"
    },
    {
     "data": {
      "text/html": [
       "<div class=\"tfsechead rtl\"><span class=\"ltr\"><a target=\"_blank\" href=\"https://shebanq.ancient-data.org/hebrew/text?book=Samuel_II&amp;chapter=10&amp;verse=13&amp;version=2021&amp;mr=m&amp;qw=q&amp;tp=txt_p&amp;tr=hb&amp;wget=v&amp;qget=v&amp;nget=vt\" title=\"Show this on SHEBANQ\" sec=\"2_Samuel 10:13\">2_Samuel 10:13</a></span></div><div class=\"rtl children\"><div class=\"contnr c1  rtl  \" ><div class=\"lbl c1  \" ><span class=\"nd\">phrase:746853 </span> <span class=\"\"><span title=\"typ\">PrNP</span> <span title=\"function\">Subj</span></span></div><div class=\"features\"><span class=\"typ xft\" ><span class=\"f\">typ=</span>PrNP</span></div><div class=\"children hor wrap rtl\"><div class=\"contnr c0 trm rtl  hl\" ><div class=\"lbl c0 trm hl\" ><span class=\"nd\">165551 </span> <a class=\" txtu hbo\" target=\"_blank\" href=\"https://shebanq.ancient-data.org/hebrew/word?version=2021&amp;id=1JWABn\" title=\"Show this on SHEBANQ\"><span class=\"txtu hbo\">יֹואָ֗ב </span></a></div><div class=\"features\"><span class=\"st xft\" ><span class=\"f\">st=</span>a</span></div></div><div class=\"contnr c0 trm rtl  \" ><div class=\"lbl c0 trm \" ><span class=\"nd\">165552 </span> <a class=\" txtu hbo\" target=\"_blank\" href=\"https://shebanq.ancient-data.org/hebrew/word?version=2021&amp;id=1W\" title=\"Show this on SHEBANQ\"><span class=\"txtu hbo\">וְ</span></a></div></div><div class=\"contnr c0 trm rtl  \" ><div class=\"lbl c0 trm \" ><span class=\"nd\">165553 </span> <a class=\" txtu hbo\" target=\"_blank\" href=\"https://shebanq.ancient-data.org/hebrew/word?version=2021&amp;id=1H\" title=\"Show this on SHEBANQ\"><span class=\"txtu hbo\">הָ</span></a></div></div><div class=\"contnr c0 trm rtl  hl\" ><div class=\"lbl c0 trm hl\" ><span class=\"nd\">165554 </span> <a class=\" txtu hbo\" target=\"_blank\" href=\"https://shebanq.ancient-data.org/hebrew/word?version=2021&amp;id=1OMn\" title=\"Show this on SHEBANQ\"><span class=\"txtu hbo\">עָם֙ </span></a></div><div class=\"features\"><span class=\"st xft\" ><span class=\"f\">st=</span>a</span></div></div></div></div></div>"
      ],
      "text/plain": [
       "<IPython.core.display.HTML object>"
      ]
     },
     "metadata": {},
     "output_type": "display_data"
    },
    {
     "data": {
      "text/html": [
       "<p><b>result</b> <i>814265</i>"
      ],
      "text/plain": [
       "<IPython.core.display.HTML object>"
      ]
     },
     "metadata": {},
     "output_type": "display_data"
    },
    {
     "data": {
      "text/html": [
       "<div class=\"tfsechead rtl\"><span class=\"ltr\"><a target=\"_blank\" href=\"https://shebanq.ancient-data.org/hebrew/text?book=Ezechiel&amp;chapter=23&amp;verse=29&amp;version=2021&amp;mr=m&amp;qw=q&amp;tp=txt_p&amp;tr=hb&amp;wget=v&amp;qget=v&amp;nget=vt\" title=\"Show this on SHEBANQ\" sec=\"Ezekiel 23:29\">Ezekiel 23:29</a></span></div><div class=\"rtl children\"><div class=\"contnr c1  rtl  \" ><div class=\"lbl c1  \" ><span class=\"nd\">phrase:814265 </span> <span class=\"\"><span title=\"typ\">NP</span> <span title=\"function\">PrAd</span></span></div><div class=\"features\"><span class=\"typ xft\" ><span class=\"f\">typ=</span>NP</span></div><div class=\"children hor wrap rtl\"><div class=\"contnr c0 trm rtl  hl\" ><div class=\"lbl c0 trm hl\" ><span class=\"nd\">276196 </span> <a class=\" txtu hbo\" target=\"_blank\" href=\"https://shebanq.ancient-data.org/hebrew/word?version=2021&amp;id=1OJRMn\" title=\"Show this on SHEBANQ\"><span class=\"txtu hbo\">עֵירֹ֣ם </span></a></div><div class=\"features\"><span class=\"st xft\" ><span class=\"f\">st=</span>a</span></div></div><div class=\"contnr c0 trm rtl  \" ><div class=\"lbl c0 trm \" ><span class=\"nd\">276197 </span> <a class=\" txtu hbo\" target=\"_blank\" href=\"https://shebanq.ancient-data.org/hebrew/word?version=2021&amp;id=1W\" title=\"Show this on SHEBANQ\"><span class=\"txtu hbo\">וְ</span></a></div></div><div class=\"contnr c0 trm rtl  hl\" ><div class=\"lbl c0 trm hl\" ><span class=\"nd\">276198 </span> <a class=\" txtu hbo\" target=\"_blank\" href=\"https://shebanq.ancient-data.org/hebrew/word?version=2021&amp;id=1ORJHn\" title=\"Show this on SHEBANQ\"><span class=\"txtu hbo\">עֶרְיָ֑ה </span></a></div><div class=\"features\"><span class=\"st xft\" ><span class=\"f\">st=</span>a</span></div></div></div></div></div>"
      ],
      "text/plain": [
       "<IPython.core.display.HTML object>"
      ]
     },
     "metadata": {},
     "output_type": "display_data"
    },
    {
     "data": {
      "text/html": [
       "<p><b>result</b> <i>876306</i>"
      ],
      "text/plain": [
       "<IPython.core.display.HTML object>"
      ]
     },
     "metadata": {},
     "output_type": "display_data"
    },
    {
     "data": {
      "text/html": [
       "<div class=\"tfsechead rtl\"><span class=\"ltr\"><a target=\"_blank\" href=\"https://shebanq.ancient-data.org/hebrew/text?book=Daniel&amp;chapter=1&amp;verse=5&amp;version=2021&amp;mr=m&amp;qw=q&amp;tp=txt_p&amp;tr=hb&amp;wget=v&amp;qget=v&amp;nget=vt\" title=\"Show this on SHEBANQ\" sec=\"Daniel 1:5\">Daniel 1:5</a></span></div><div class=\"rtl children\"><div class=\"contnr c1  rtl  \" ><div class=\"lbl c1  \" ><span class=\"nd\">phrase:876306 </span> <span class=\"\"><span title=\"typ\">PP</span> <span title=\"function\">Cmpl</span></span></div><div class=\"features\"><span class=\"typ xft\" ><span class=\"f\">typ=</span>PP</span></div><div class=\"children hor wrap rtl\"><div class=\"contnr c0 trm rtl  \" ><div class=\"lbl c0 trm \" ><span class=\"nd\">370193 </span> <a class=\" txtu hbo\" target=\"_blank\" href=\"https://shebanq.ancient-data.org/hebrew/word?version=2021&amp;id=1MN\" title=\"Show this on SHEBANQ\"><span class=\"txtu hbo\">מִ</span></a></div></div><div class=\"contnr c0 trm rtl  hl\" ><div class=\"lbl c0 trm hl\" ><span class=\"nd\">370194 </span> <a class=\" txtu hbo\" target=\"_blank\" href=\"https://shebanq.ancient-data.org/hebrew/word?version=2021&amp;id=1PTBGn\" title=\"Show this on SHEBANQ\"><span class=\"txtu hbo\">פַּת־בַּ֤ג </span></a></div><div class=\"features\"><span class=\"st xft\" ><span class=\"f\">st=</span>c</span></div></div><div class=\"contnr c0 trm rtl  \" ><div class=\"lbl c0 trm \" ><span class=\"nd\">370195 </span> <a class=\" txtu hbo\" target=\"_blank\" href=\"https://shebanq.ancient-data.org/hebrew/word?version=2021&amp;id=1H\" title=\"Show this on SHEBANQ\"><span class=\"txtu hbo\">הַ</span></a></div></div><div class=\"contnr c0 trm rtl  \" ><div class=\"lbl c0 trm \" ><span class=\"nd\">370196 </span> <a class=\" txtu hbo\" target=\"_blank\" href=\"https://shebanq.ancient-data.org/hebrew/word?version=2021&amp;id=1MLKn\" title=\"Show this on SHEBANQ\"><span class=\"txtu hbo\">מֶּ֨לֶךְ֙ </span></a></div><div class=\"features\"><span class=\"st xft\" ><span class=\"f\">st=</span>a</span></div></div><div class=\"contnr c0 trm rtl  \" ><div class=\"lbl c0 trm \" ><span class=\"nd\">370197 </span> <a class=\" txtu hbo\" target=\"_blank\" href=\"https://shebanq.ancient-data.org/hebrew/word?version=2021&amp;id=1W\" title=\"Show this on SHEBANQ\"><span class=\"txtu hbo\">וּ</span></a></div></div><div class=\"contnr c0 trm rtl  \" ><div class=\"lbl c0 trm \" ><span class=\"nd\">370198 </span> <a class=\" txtu hbo\" target=\"_blank\" href=\"https://shebanq.ancient-data.org/hebrew/word?version=2021&amp;id=1MN\" title=\"Show this on SHEBANQ\"><span class=\"txtu hbo\">מִ</span></a></div></div><div class=\"contnr c0 trm rtl  hl\" ><div class=\"lbl c0 trm hl\" ><span class=\"nd\">370199 </span> <a class=\" txtu hbo\" target=\"_blank\" href=\"https://shebanq.ancient-data.org/hebrew/word?version=2021&amp;id=1JJNn\" title=\"Show this on SHEBANQ\"><span class=\"txtu hbo\">יֵּ֣ין </span></a></div><div class=\"features\"><span class=\"st xft\" ><span class=\"f\">st=</span>c</span></div></div><div class=\"contnr c0 trm rtl  \" ><div class=\"lbl c0 trm \" ><span class=\"nd\">370200 </span> <a class=\" txtu hbo\" target=\"_blank\" href=\"https://shebanq.ancient-data.org/hebrew/word?version=2021&amp;id=1MCTHn\" title=\"Show this on SHEBANQ\"><span class=\"txtu hbo\">מִשְׁתָּ֔יו </span></a></div><div class=\"features\"><span class=\"st xft\" ><span class=\"f\">st=</span>a</span></div></div></div></div></div>"
      ],
      "text/plain": [
       "<IPython.core.display.HTML object>"
      ]
     },
     "metadata": {},
     "output_type": "display_data"
    }
   ],
   "source": [
    "for res in examples[:10]:\n",
    "    A.prettyTuple(res, condenseType='phrase', withNodes=True, seq=res[0])"
   ]
  },
  {
   "cell_type": "markdown",
   "metadata": {},
   "source": [
    "# Export TF Data\n",
    "\n",
    "In this section the dictionaries built up in this notebook are converted to TF data files.\n"
   ]
  },
  {
   "cell_type": "code",
   "execution_count": 155,
   "metadata": {},
   "outputs": [],
   "source": [
    "# reverse phrase2heads, nheads mappings for head feature\n",
    "head = {head:{phrase} for phrase, heads in phrase2heads.items() for head in heads}\n",
    "nhead = {head:{phrase} for phrase, heads in nheads.items() for head in heads}\n",
    "obj_prep = {obj:{prep} for obj, prep in obj2prep.items()}\n",
    "\n",
    "# prep sem_set feature\n",
    "sem_set = {node:feature for feature, fset in {'prep': preps, 'quant':quantifiers}.items() for node in fset}"
   ]
  },
  {
   "cell_type": "code",
   "execution_count": 156,
   "metadata": {},
   "outputs": [
    {
     "name": "stdout",
     "output_type": "stream",
     "text": [
      "  0.00s Exporting 1 node and 3 edge and 0 config features to ~/github/etcbc/heads/tf/2021:\n",
      "   |     0.05s T sem_set              to ~/github/etcbc/heads/tf/2021\n",
      "   |     0.29s T head                 to ~/github/etcbc/heads/tf/2021\n",
      "   |     0.32s T nhead                to ~/github/etcbc/heads/tf/2021\n",
      "   |     0.08s T obj_prep             to ~/github/etcbc/heads/tf/2021\n",
      "  0.74s Exported 1 node features and 3 edge features and 0 config features to ~/github/etcbc/heads/tf/2021\n",
      "BHSA 2021 EXPORT COMPLETE!\n"
     ]
    }
   ],
   "source": [
    "# put features in edge/node dicts for TF.save\n",
    "edge_features = {'head': head,\n",
    "                 'obj_prep': obj_prep,\n",
    "                 'nhead': nhead}\n",
    "node_features = {'sem_set': sem_set}\n",
    "\n",
    "# metadata needed to write the features\n",
    "meta = {\n",
    "    \n",
    "'': {'created_by': 'Cody Kingham',\n",
    "     'coreData': 'BHSA',\n",
    "     'coreVersion': version,\n",
    "     'source': 'see the creation notebooks at https://github.com/etcbc/heads'},\n",
    "        \n",
    "'head' : {'valueType': 'int',\n",
    "          'edgeValues': False},\n",
    "        \n",
    "'obj_prep': {'valueType': 'int',\n",
    "            'edgeValues': False},\n",
    "        \n",
    "'nhead': {'valueType': 'int',\n",
    "          'edgeValues': False},\n",
    "        \n",
    "'sem_set':{'valueType':'str'},\n",
    "    \n",
    "}\n",
    "\n",
    "TF = Fabric(locations='~/github/etcbc/heads/tf', modules=version, silent=True)\n",
    "TF_api = TF.load('', silent=True)\n",
    "TF.save(nodeFeatures=node_features, edgeFeatures=edge_features, metaData=meta)\n",
    "print(f'BHSA {version} EXPORT COMPLETE!')"
   ]
  },
  {
   "cell_type": "code",
   "execution_count": null,
   "metadata": {},
   "outputs": [],
   "source": []
  }
 ],
 "metadata": {
  "kernelspec": {
   "display_name": "thesis",
   "language": "python",
   "name": "thesis"
  },
  "language_info": {
   "codemirror_mode": {
    "name": "ipython",
    "version": 3
   },
   "file_extension": ".py",
   "mimetype": "text/x-python",
   "name": "python",
   "nbconvert_exporter": "python",
   "pygments_lexer": "ipython3",
   "version": "3.10.0"
  }
 },
 "nbformat": 4,
 "nbformat_minor": 4
}
