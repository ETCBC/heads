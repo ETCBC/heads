{
 "cells": [
  {
   "cell_type": "markdown",
   "metadata": {},
   "source": [
    "# Going Subphraseless\n",
    "\n",
    "The current method for isolating phrase heads ([here](https://nbviewer.jupyter.org/github/ETCBC/heads/blob/master/phrase_heads.ipynb)) requires strenuous and ineloquent processing of BHSA subphrase relations. The subphrases are not always consistently encoded and suffer from numerous exceptional cases. The result is that the method is rather convoluted and ineloquent.\n",
    "\n",
    "This notebook will explore the possibility of disconnecting semantic head analysis from the ETCBC subphrase encoding. \n",
    "\n",
    "A \"semantic\" head is the primary content word of a phrase, following Croft's \"Primary Information Bearing Unit\":\n",
    "\n",
    "> **The noun and the verb are the PRIMARY INFORMATION_BEARING UNITS (PIBUs) of the phrase and clause respectively. In common parlance, they are the content words. PIBUs have major informational content that functional elements such as articles and [auxiliaries] do not have. (Croft, *Radical Construction Grammar*, 2001, 258; see also Shead, *Radical Frame Semantics and Biblical Hebrew*, 104)**\n",
    "\n",
    "> **A (semantic) head is the profile equivalent that is the primary information-bearing unit, that is, the most contentful item that most closely profiles the same kind of thing that the whole constituent profiles. (ibid., 259)**\n",
    "\n",
    "Croft also provides an additional criterion to \"profile equivalence\":\n",
    "\n",
    "> **If the criterion of profile equivalence produces two candidates for headhood, the less schematic meaning is the PIBU; that is, the PIBU is the one with the narrower extension, in the formal semantic sense of that term (ibid., 259)**\n",
    "\n",
    "## Inquiry\n",
    "\n",
    "Can we isolate semantic phrase heads in BHSA using only the phrase_atom and phrase limits? This question indeed means that we  take the phrase_atom/phrase boundaries for granted. Empirically, the validity of BHSA phrase boundaries needs to be tested. But for now, the exercise of isolating semantic phrase heads could be seen as the first step towards reproducible phrase boundaries.\n",
    "\n",
    "## Basic Concepts\n",
    "\n",
    "A semantic head will most often stand in a syntactically independent position. For Hebrew nominal phrases, that essentially means a word which is not precided by a construct, and which is semantically central (excluding attributive slots (e.g. H + noun + H + ATTRIBUTIVE) or an adjectival slots (e.g. noun + noun as in אישׁ טוב).\n",
    "\n",
    "Quantifier expressions present unique cases, which may be syntactically independent but semantically secondary. These are expressed through specialized lexical items such as cardinal numbers and qualitative quantifiers (e.g.  \"כל\" and \"חצי\").\n",
    "\n",
    "Another complication is the use of nouns as prepositional items. Such uses can be seen with words like פני \"face\" such as לפני \"in front,\" and even words like ראשׁ as in ראשׁ החדשׁ \"beginning of the month.\" \n",
    "\n",
    "Other expressions of quantity, quality, and function provide similar complexities. These cases have to be specified in advance.\n",
    "\n",
    "### Ambiguity\n",
    "\n",
    "Considerable ambiguity is present in several of cases:\n",
    "\n",
    "**`A B and C`**<br>\n",
    "Given A, B, C == nominal words. Is their relationship `A // B // C` or `A+B // C`. In other words: **what is the relationship of two adjacent nominal words given a list?** Is B a descriptor of A or is it an independent element? \n",
    "\n",
    "**`A of B and C`**<br>\n",
    "Is it, `(A of B) // (C)` or `(A of (B // C)`\n",
    "\n",
    "Or even:\n",
    "\n",
    "**`A of B C and D`**<br>\n",
    "This pattern combines elements from both ambiguous cases.\n",
    "\n",
    "To address these ambiguities we will apply a battery of disambiguation attempts. Some of those attempts will draw from corpus data, i.e. do we ever see `B and C` with the conjunction explicitly elsewhere in the corpus? Or do we ever see a `A of C` excplicitly in the corpus? Accents may also play a role: do we see a conjunctive or disjunctive accent between `B C`? \n",
    "\n",
    "## Prerequisites\n",
    "\n",
    "A number of pre-defined word sets are needed for processing quantification and ambiguous adjacency. These sets are made available in the form of `wsets`, a dictionary containing word sets that are calculated in to the `wordsets` directory of this repository. The following wordsets have been defined:\n",
    "\n",
    "* nominals – a set of word nodes with parts of speech and participles that have the potential to function as nominalized elements. The selected parts of speech are quite permissive: `{'subs', 'nmpr', 'adjv', 'advb', 'prde', 'prps', 'prin', 'inrg'}`. Since parts of speech are not taken as universal linguistic categories but only summaries of language-specific word tendencies (cf. Croft, *Radical Construction Grammar*, 2001), we consider that almost any part of speech can be used in a nominal pattern (or construction). There are some upper limits to this assumption, though. For instance, we exclude cojunctions, articles, prepositions, and negators. \n",
    "* prepositions – a word set consisting of words with a part of speech category of `prep`, a lexical set (`ls`) feature of `ppre` (\"potential preposition\"), as well as a select group of nouns like פני \"face\" which have been processed for prepositionality. \n",
    "* quantifiers - consists of word nodes that are cardinal numbers or qualitative quantifiers such as כל.\n",
    "* mword – mapping from a word to its phonological word group (\"masoretic word\"); joins words on maqqeph and ø space\n",
    "* accent_type – a mapping from a word to its accent type: conjunctive or disjunctive\n",
    "* conj_pairs – a dict of observed conjunction pairings of lexemes in the corpus: `A & B`\n",
    "* cons_pairs – a dict of observed construct pairings of lexemes in the corpus: `A of B`\n",
    "* mom – mapping from word node to its mother word node for a specified relationship: `mom[A]['coord'] = B`\n",
    "* kid – opposite of mom; mapping from word to its children nodes for a relationship: `kid[A]['cons'] = B`\n",
    "\n",
    "**Let's get started**. We load the necessary functions and BHSA data (straight from source)."
   ]
  },
  {
   "cell_type": "code",
   "execution_count": 156,
   "metadata": {},
   "outputs": [
    {
     "name": "stdout",
     "output_type": "stream",
     "text": [
      "   |     0.00s No structure info in otext, the structure part of the T-API cannot be used\n"
     ]
    },
    {
     "data": {
      "text/html": [
       "<style>\n",
       "@font-face {\n",
       "  font-family: \"Ezra SIL\";\n",
       "  src:\n",
       "    local(\"SILEOT.ttf\"),\n",
       "    url(\"https://github.com/annotation/text-fabric/blob/master/tf/server/static/fonts/SILEOT.woff?raw=true\");\n",
       "}\n",
       ".features {\n",
       "    font-family: monospace;\n",
       "    font-size: medium;\n",
       "    font-weight: bold;\n",
       "    color: #0a6611;\n",
       "    display: flex;\n",
       "    flex-flow: column nowrap;\n",
       "    padding: 0.1em;\n",
       "    margin: 0.1em;\n",
       "    direction: ltr;\n",
       "}\n",
       ".features div,.features span {\n",
       "    padding: 0;\n",
       "    margin: -0.1rem 0;\n",
       "}\n",
       ".features .f {\n",
       "    font-family: sans-serif;\n",
       "    font-size: x-small;\n",
       "    font-weight: normal;\n",
       "    color: #5555bb;\n",
       "}\n",
       ".features .xft {\n",
       "  color: #000000;\n",
       "  background-color: #eeeeee;\n",
       "  font-size: medium;\n",
       "  margin: 0.1em 0em;\n",
       "}\n",
       ".features .xft .f {\n",
       "  color: #000000;\n",
       "  background-color: #eeeeee;\n",
       "  font-style: italic;\n",
       "  font-size: small;\n",
       "  font-weight: normal;\n",
       "}\n",
       ".ltr {\n",
       "    direction: ltr ! important;\n",
       "}\n",
       ".verse {\n",
       "    display: flex;\n",
       "    flex-flow: row wrap;\n",
       "    direction: rtl;\n",
       "}\n",
       ".vl {\n",
       "    display: flex;\n",
       "    flex-flow: column nowrap;\n",
       "    justify-content: flex-end;\n",
       "    align-items: flex-end;\n",
       "    direction: ltr;\n",
       "    width: 100%;\n",
       "}\n",
       ".outeritem {\n",
       "    display: flex;\n",
       "    flex-flow: row wrap;\n",
       "    direction: rtl;\n",
       "}\n",
       ".sentence,.clause,.phrase {\n",
       "    margin-top: -1.2em;\n",
       "    margin-left: 1em;\n",
       "    background: #ffffff none repeat scroll 0 0;\n",
       "    padding: 0 0.3em;\n",
       "    border-style: solid;\n",
       "    border-radius: 0.2em;\n",
       "    font-size: small;\n",
       "    display: block;\n",
       "    width: fit-content;\n",
       "    max-width: fit-content;\n",
       "    direction: ltr;\n",
       "}\n",
       ".atoms {\n",
       "    display: flex;\n",
       "    flex-flow: row wrap;\n",
       "    margin: 0.3em;\n",
       "    padding: 0.3em;\n",
       "    direction: rtl;\n",
       "    background-color: #ffffff;\n",
       "}\n",
       ".satom,.catom,.patom {\n",
       "    margin: 0.3em;\n",
       "    padding: 0.3em;\n",
       "    border-radius: 0.3em;\n",
       "    border-style: solid;\n",
       "    display: flex;\n",
       "    flex-flow: column nowrap;\n",
       "    direction: rtl;\n",
       "    background-color: #ffffff;\n",
       "}\n",
       ".sentence {\n",
       "    border-color: #aa3333;\n",
       "    border-width: 1px;\n",
       "}\n",
       ".clause {\n",
       "    border-color: #aaaa33;\n",
       "    border-width: 1px;\n",
       "}\n",
       ".phrase {\n",
       "    border-color: #33aaaa;\n",
       "    border-width: 1px;\n",
       "}\n",
       ".satom {\n",
       "    border-color: #aa3333;\n",
       "    border-width: 4px;\n",
       "}\n",
       ".catom {\n",
       "    border-color: #aaaa33;\n",
       "    border-width: 3px;\n",
       "}\n",
       ".patom {\n",
       "    border-color: #33aaaa;\n",
       "    border-width: 3px;\n",
       "}\n",
       ".word {\n",
       "    padding: 0.1em;\n",
       "    margin: 0.1em;\n",
       "    border-radius: 0.1em;\n",
       "    border: 1px solid #cccccc;\n",
       "    display: flex;\n",
       "    flex-flow: column nowrap;\n",
       "    direction: rtl;\n",
       "    background-color: #ffffff;\n",
       "}\n",
       ".lextp {\n",
       "    padding: 0.1em;\n",
       "    margin: 0.1em;\n",
       "    border-radius: 0.1em;\n",
       "    border: 2px solid #888888;\n",
       "    width: fit-content;\n",
       "    display: flex;\n",
       "    flex-flow: column nowrap;\n",
       "    direction: rtl;\n",
       "    background-color: #ffffff;\n",
       "}\n",
       ".occs {\n",
       "    font-size: x-small;\n",
       "}\n",
       ".satom.l,.catom.l,.patom.l {\n",
       "    border-left-style: dotted\n",
       "}\n",
       ".satom.r,.catom.r,.patom.r {\n",
       "    border-right-style: dotted\n",
       "}\n",
       ".satom.lno,.catom.lno,.patom.lno {\n",
       "    border-left-style: none\n",
       "}\n",
       ".satom.rno,.catom.rno,.patom.rno {\n",
       "    border-right-style: none\n",
       "}\n",
       ".tr,.tr a:visited,.tr a:link {\n",
       "    font-family: sans-serif;\n",
       "    font-size: large;\n",
       "    color: #000044;\n",
       "    direction: ltr;\n",
       "    text-decoration: none;\n",
       "}\n",
       ".trb,.trb a:visited,.trb a:link {\n",
       "    font-family: sans-serif;\n",
       "    font-size: normal;\n",
       "    direction: ltr;\n",
       "    text-decoration: none;\n",
       "}\n",
       ".prb,.prb a:visited,.prb a:link {\n",
       "    font-family: sans-serif;\n",
       "    font-size: large;\n",
       "    direction: ltr;\n",
       "    text-decoration: none;\n",
       "}\n",
       ".h,.h a:visited,.h a:link {\n",
       "    font-family: \"Ezra SIL\", \"SBL Hebrew\", sans-serif;\n",
       "    font-size: large;\n",
       "    color: #000044;\n",
       "    direction: rtl;\n",
       "    text-decoration: none;\n",
       "}\n",
       ".hb,.hb a:visited,.hb a:link {\n",
       "    font-family: \"Ezra SIL\", \"SBL Hebrew\", sans-serif;\n",
       "    font-size: large;\n",
       "    line-height: 2;\n",
       "    direction: rtl;\n",
       "    text-decoration: none;\n",
       "}\n",
       ".vn {\n",
       "  font-size: small !important;\n",
       "  padding-right: 1em;\n",
       "}\n",
       ".rela,.function,.typ {\n",
       "    font-family: monospace;\n",
       "    font-size: small;\n",
       "    color: #0000bb;\n",
       "}\n",
       ".pdp,.pdp a:visited,.pdp a:link {\n",
       "    font-family: monospace;\n",
       "    font-size: medium;\n",
       "    color: #0000bb;\n",
       "    text-decoration: none;\n",
       "}\n",
       ".voc_lex {\n",
       "    font-family: monospace;\n",
       "    font-size: medium;\n",
       "    color: #0000bb;\n",
       "}\n",
       ".vs {\n",
       "    font-family: monospace;\n",
       "    font-size: medium;\n",
       "    font-weight: bold;\n",
       "    color: #0000bb;\n",
       "}\n",
       ".vt {\n",
       "    font-family: monospace;\n",
       "    font-size: medium;\n",
       "    font-weight: bold;\n",
       "    color: #0000bb;\n",
       "}\n",
       ".gloss {\n",
       "    font-family: sans-serif;\n",
       "    font-size: small;\n",
       "    font-weight: normal;\n",
       "    color: #444444;\n",
       "}\n",
       ".vrs {\n",
       "    font-family: sans-serif;\n",
       "    font-size: small;\n",
       "    font-weight: bold;\n",
       "    color: #444444;\n",
       "}\n",
       ".nd {\n",
       "    font-family: monospace;\n",
       "    font-size: x-small;\n",
       "    color: #999999;\n",
       "}\n",
       ".hl {\n",
       "    background-color: #ffee66;\n",
       "}\n",
       "\n",
       "tr.tf, td.tf, th.tf {\n",
       "  text-align: left;\n",
       "}\n",
       "\n",
       "span.hldot {\n",
       "\tbackground-color: var(--hl-strong);\n",
       "\tborder: 0.2rem solid var(--hl-rim);\n",
       "\tborder-radius: 0.4rem;\n",
       "\t/*\n",
       "\tdisplay: inline-block;\n",
       "\twidth: 0.8rem;\n",
       "\theight: 0.8rem;\n",
       "\t*/\n",
       "}\n",
       "span.hl {\n",
       "\tbackground-color: var(--hl-strong);\n",
       "\tborder-width: 0;\n",
       "\tborder-radius: 0.1rem;\n",
       "\tborder-style: solid;\n",
       "}\n",
       "\n",
       "span.hlup {\n",
       "\tborder-color: var(--hl-dark);\n",
       "\tborder-width: 0.1rem;\n",
       "\tborder-style: solid;\n",
       "\tborder-radius: 0.2rem;\n",
       "  padding: 0.2rem;\n",
       "}\n",
       "\n",
       ":root {\n",
       "\t--hl-strong:        hsla( 60, 100%,  70%, 0.9  );\n",
       "\t--hl-rim:           hsla( 55, 100%,  60%, 0.9  );\n",
       "\t--hl-dark:          hsla( 55, 100%,  40%, 0.9  );\n",
       "}\n",
       "</style>"
      ],
      "text/plain": [
       "<IPython.core.display.HTML object>"
      ]
     },
     "metadata": {},
     "output_type": "display_data"
    }
   ],
   "source": [
    "import collections\n",
    "import pickle\n",
    "import random\n",
    "import re\n",
    "from IPython.display import display, HTML\n",
    "from pprint import pprint\n",
    "from tf.app import use\n",
    "wsets = pickle.load(open('wordsets/wsets.pickle', 'rb'))\n",
    "A = use('bhsa', hoist=globals(), silent=True)"
   ]
  },
  {
   "cell_type": "markdown",
   "metadata": {},
   "source": [
    "### Wordsets"
   ]
  },
  {
   "cell_type": "code",
   "execution_count": 2,
   "metadata": {},
   "outputs": [
    {
     "data": {
      "text/plain": [
       "dict_keys(['noms', 'preps', 'quants', 'accent_type', 'mwords', 'conj_pairs', 'cons_pairs', 'mom', 'kid'])"
      ]
     },
     "execution_count": 2,
     "metadata": {},
     "output_type": "execute_result"
    }
   ],
   "source": [
    "wsets.keys()"
   ]
  },
  {
   "cell_type": "code",
   "execution_count": 3,
   "metadata": {},
   "outputs": [
    {
     "data": {
      "text/plain": [
       "[]"
      ]
     },
     "execution_count": 3,
     "metadata": {},
     "output_type": "execute_result"
    }
   ],
   "source": [
    "list(wsets['cons_pairs'].keys())[:10]"
   ]
  },
  {
   "cell_type": "markdown",
   "metadata": {},
   "source": [
    "### Machinery\n",
    "\n",
    "We could use some machinery to do the hard work of looking in and around a node. In the older approach we used TF search templates. But these are not very efficient at scale, and they are always bound by the limits of the query language. I take another approach here: a class which, when called, can give all sorts of contextual information about any node which is fed in. This class is related to the `Mom` class used in wordsets ([here](wordsets/context.py)), and in fact it depends on the output of that class which is stored in the `mom` and `kid` word sets.\n",
    "\n",
    "The \"machines\" we use are defined in the positions module. They are series of position testers for a node and string evaluators. By writing our conditions as strings, we can maintain a mapping between the truth conditions and their results. This is intended to aid debugging and the process of elimination which we apply herein."
   ]
  },
  {
   "cell_type": "code",
   "execution_count": 5,
   "metadata": {},
   "outputs": [],
   "source": [
    "from wordsets.positions import Getter, Positions, Evaluator, showconds\n",
    "from wordsets.context import Mom, Relas"
   ]
  },
  {
   "cell_type": "markdown",
   "metadata": {},
   "source": [
    "### Mom"
   ]
  },
  {
   "cell_type": "code",
   "execution_count": 87,
   "metadata": {},
   "outputs": [],
   "source": [
    "# relas = Relas(A, **wsets)\n",
    "# mom = relas.mom\n",
    "# kid = relas.kid"
   ]
  },
  {
   "cell_type": "markdown",
   "metadata": {},
   "source": [
    "## Construction\n",
    "\n",
    "Let's begin constructing the heads evaluator."
   ]
  },
  {
   "cell_type": "code",
   "execution_count": 158,
   "metadata": {},
   "outputs": [],
   "source": [
    "class Relations:\n",
    "    \n",
    "    '''\n",
    "    Tags relations within a phrase or phrase_atom.\n",
    "    '''\n",
    "    \n",
    "    def __init__(self, phrase, wsets, tf):\n",
    "        \n",
    "        # TF and sets\n",
    "        self.tf = tf\n",
    "        self.phrase = phrase\n",
    "        self.F, self.T, self.L = tf.api.F, tf.api.T, tf.api.L\n",
    "        self.wsets = wsets\n",
    "        self.noms = wsets['noms']\n",
    "        self.quants = wsets['quants']\n",
    "        self.preps = wsets['preps']\n",
    "        \n",
    "        # evaluators\n",
    "        self.evaler = Evaluator(locals())\n",
    "        self.eval = self.evaler.evaluate\n",
    "        self.conddict = self.evaler.conddict\n",
    "    \n",
    "        # put relations here\n",
    "        self.rela = collections.defaultdict(lambda: collections.defaultdict())\n",
    "        self.explain = collections.defaultdict(lambda: collections.defaultdict())\n",
    "        \n",
    "        # run relation taggings\n",
    "        self.construct()\n",
    "    \n",
    "    def search(self, relastr, *searchdicts):\n",
    "        '''\n",
    "        Identifies relations in the phrase\n",
    "        that match a supplied set of conditions.\n",
    "        Requires a relation string and a series \n",
    "        of search dicts with keys: {src, tgt, cnd}\n",
    "        \n",
    "        -- src -- \n",
    "        the origin of the relation, position zero, i.e. P(0)\n",
    "        \n",
    "        -- tgt-- \n",
    "        the target of the relation, position +/- from origin\n",
    "        \n",
    "        --cnd-- \n",
    "        a set of conditional strings in a tuple which should \n",
    "        be evaluated against the populated namespace.\n",
    "        Search populates the namespace of a custom Evaluation class before\n",
    "        evaluating the strings. Strings are used instead of raw code\n",
    "        so that a mapping can be preserved between a condition and its \n",
    "        truth value. \n",
    "        '''\n",
    "        \n",
    "        # cycle through phrase words\n",
    "        for w in self.L.d(self.phrase, 'word'):\n",
    "            \n",
    "            # set up positions and namespaces\n",
    "            noms, quants, preps = self.noms, self.quants, self.preps\n",
    "            P = Positions(w, self.F.otype.v(self.phrase), self.tf).get\n",
    "            self.evaler.update(locals())\n",
    "            \n",
    "            # evaluate conditions\n",
    "            matches = []\n",
    "            evaled = [] # keep track for explain\n",
    "            for search in searchdicts:  \n",
    "                source = self.eval(search['src'])\n",
    "                target = self.eval(search['tgt'])\n",
    "                conds = self.conddict(*search['cnd'])\n",
    "                evaled.append((source, target, conds)) # for explain\n",
    "                if all(conds.values()):\n",
    "                    matches.append((source, target))\n",
    "\n",
    "            # assume first valid match is good\n",
    "            match = Getter(matches)[0]\n",
    "            \n",
    "            if match:\n",
    "                \n",
    "                # unpack match data\n",
    "                source, target = match\n",
    "                \n",
    "                # assign match data\n",
    "                self.rela[relastr][source] = target\n",
    "                self.explain[relastr][source] = evaled\n",
    "                \n",
    "\n",
    "    def construct(self):\n",
    "\n",
    "        self.search('cons',\n",
    "                    \n",
    "            {\n",
    "                'src': 'P(0)',\n",
    "                'tgt': 'P(1)',\n",
    "                'cnd': (\n",
    "                    \"P(0,'st') == 'c'\",\n",
    "                    \"P(0) not in quants|preps\",\n",
    "                    \"P(1,'sp') != 'art'\"\n",
    "                )\n",
    "            },\n",
    "            \n",
    "            {\n",
    "                'src': 'P(0)',\n",
    "                'tgt': 'P(2)',\n",
    "                'cnd': (\n",
    "                    \"P(0,'st') == 'c'\",\n",
    "                    \"P(0, 'st') not in quants|preps\",\n",
    "                    \"P(1, 'sp') == 'art'\"\n",
    "                )\n",
    "                \n",
    "            }\n",
    "        )\n",
    "        \n",
    "    def adjective(self):\n",
    "        \n",
    "        self.search('adjc',\n",
    "                    \n",
    "            {\n",
    "                'src': 'P(0)',\n",
    "                'tgt': 'P(-1)',\n",
    "                'cnd': (\n",
    "                    \"P(0,'st') in {'NA', 'a'}\",\n",
    "                    \"P(0, 'st') in noms\",\n",
    "                    \"P(0,'sp') in {'adjv', 'advb'}\",\n",
    "                )\n",
    "            }\n",
    "        \n",
    "        )\n",
    "        \n",
    "def prettyconds(condsdict):\n",
    "    '''\n",
    "    Iterate through an explain dict for a rela\n",
    "    and print out all of checked conditions.\n",
    "    '''\n",
    "    for source, searches in condsdict.items():\n",
    "        for search in searches:\n",
    "            src, target, conds = search\n",
    "            print(f'{source} -> {target}')\n",
    "            for cond, value in conds.items():\n",
    "                print('\\t{:<30} {:>30}'.format(cond, str(value)))\n",
    "            print()\n",
    "        \n",
    "def search_phrases(relastr, end=10):\n",
    "    '''\n",
    "    Searches phrases with the specified relation \n",
    "    and prints out their descriptive explanation.\n",
    "    '''\n",
    "    \n",
    "    matches = []\n",
    "    for ph in F.otype.s('phrase_atom'):\n",
    "        R = Relations(ph, wsets, A)\n",
    "        if R[relastr]:\n",
    "            matches.append(R)\n",
    "        \n",
    "    # display\n",
    "    for match in matches[:end]:\n",
    "        A.pretty(match.phrase, withNodes=True)\n",
    "        prettyconds(match.rela[relastr])\n",
    "        display(HTML('<hr>'))"
   ]
  },
  {
   "cell_type": "code",
   "execution_count": 126,
   "metadata": {},
   "outputs": [],
   "source": [
    "test = 904941\n",
    "\n",
    "R = Relations(test, wsets,  A)"
   ]
  },
  {
   "cell_type": "code",
   "execution_count": 154,
   "metadata": {},
   "outputs": [],
   "source": []
  },
  {
   "cell_type": "code",
   "execution_count": 155,
   "metadata": {},
   "outputs": [
    {
     "name": "stdout",
     "output_type": "stream",
     "text": [
      "307 -> 308\n",
      "\tP(0,'st') == 'c'                                         True\n",
      "\tP(0) not in quants|preps                                 True\n",
      "\tP(1,'sp') != 'art'                                      False\n",
      "\n",
      "307 -> 309\n",
      "\tP(0,'st') == 'c'                                         True\n",
      "\tP(0, 'st') not in quants|preps                           True\n",
      "\tP(1, 'sp') in {'art'}                                    True\n",
      "\n"
     ]
    }
   ],
   "source": [
    "prettyconds(R.explain['cons'])"
   ]
  },
  {
   "cell_type": "code",
   "execution_count": 79,
   "metadata": {},
   "outputs": [
    {
     "name": "stdout",
     "output_type": "stream",
     "text": [
      "cons\n",
      "[(25,\n",
      "  26,\n",
      "  {'P(0) not in quants': True,\n",
      "   \"P(0,'st') == 'c'\": True,\n",
      "   \"P(1,'sp') != 'art'\": True})]\n"
     ]
    }
   ],
   "source": [
    "for rel, ex in R.explain[25].items():\n",
    "    print(rel)\n",
    "    pprint(ex)"
   ]
  },
  {
   "cell_type": "code",
   "execution_count": 125,
   "metadata": {},
   "outputs": [
    {
     "name": "stdout",
     "output_type": "stream",
     "text": [
      "  0.66s 245354 results\n"
     ]
    },
    {
     "data": {
      "text/html": [
       "<table>\n",
       "<tr class=\"tf\">\n",
       "  <th class=\"tf\">n</th><th class=\"tf\">p</th>\n",
       "  <th class=\"tf\">word</th>\n",
       "</tr>\n",
       "\n",
       "<tr class=\"tf\"><td class=\"tf\">1</td><td class=\"tf\"> <a href=\"https://shebanq.ancient-data.org/hebrew/text?book=Genesis&amp;chapter=1&amp;verse=1&amp;version=c&amp;mr=m&amp;qw=q&amp;tp=txt_p&amp;tr=hb&amp;wget=v&amp;qget=v&amp;nget=vt\" title=\"show this passage in SHEBANQ\" sec=\"Genesis 1:1\">Genesis 1:1</a></td><td class=\"tf\"><span class=\"hb\"><a href=\"https://shebanq.ancient-data.org/hebrew/text?book=Genesis&amp;chapter=1&amp;verse=1&amp;version=c&amp;mr=m&amp;qw=q&amp;tp=txt_p&amp;tr=hb&amp;wget=v&amp;qget=v&amp;nget=vt\" title=\"Genesis 1:1\" sec=\"Genesis 1:1\"><span  class=\"hl\" >בְּ</span></a></span></td></tr>\n",
       "<tr class=\"tf\"><td class=\"tf\">2</td><td class=\"tf\"> <a href=\"https://shebanq.ancient-data.org/hebrew/text?book=Genesis&amp;chapter=1&amp;verse=1&amp;version=c&amp;mr=m&amp;qw=q&amp;tp=txt_p&amp;tr=hb&amp;wget=v&amp;qget=v&amp;nget=vt\" title=\"show this passage in SHEBANQ\" sec=\"Genesis 1:1\">Genesis 1:1</a></td><td class=\"tf\"><span class=\"hb\"><a href=\"https://shebanq.ancient-data.org/hebrew/text?book=Genesis&amp;chapter=1&amp;verse=1&amp;version=c&amp;mr=m&amp;qw=q&amp;tp=txt_p&amp;tr=hb&amp;wget=v&amp;qget=v&amp;nget=vt\" title=\"Genesis 1:1\" sec=\"Genesis 1:1\"><span  class=\"hl\" >בָּרָ֣א </span></a></span></td></tr>\n",
       "<tr class=\"tf\"><td class=\"tf\">3</td><td class=\"tf\"> <a href=\"https://shebanq.ancient-data.org/hebrew/text?book=Genesis&amp;chapter=1&amp;verse=1&amp;version=c&amp;mr=m&amp;qw=q&amp;tp=txt_p&amp;tr=hb&amp;wget=v&amp;qget=v&amp;nget=vt\" title=\"show this passage in SHEBANQ\" sec=\"Genesis 1:1\">Genesis 1:1</a></td><td class=\"tf\"><span class=\"hb\"><a href=\"https://shebanq.ancient-data.org/hebrew/text?book=Genesis&amp;chapter=1&amp;verse=1&amp;version=c&amp;mr=m&amp;qw=q&amp;tp=txt_p&amp;tr=hb&amp;wget=v&amp;qget=v&amp;nget=vt\" title=\"Genesis 1:1\" sec=\"Genesis 1:1\"><span  class=\"hl\" >אֵ֥ת </span></a></span></td></tr>\n",
       "<tr class=\"tf\"><td class=\"tf\">4</td><td class=\"tf\"> <a href=\"https://shebanq.ancient-data.org/hebrew/text?book=Genesis&amp;chapter=1&amp;verse=1&amp;version=c&amp;mr=m&amp;qw=q&amp;tp=txt_p&amp;tr=hb&amp;wget=v&amp;qget=v&amp;nget=vt\" title=\"show this passage in SHEBANQ\" sec=\"Genesis 1:1\">Genesis 1:1</a></td><td class=\"tf\"><span class=\"hb\"><a href=\"https://shebanq.ancient-data.org/hebrew/text?book=Genesis&amp;chapter=1&amp;verse=1&amp;version=c&amp;mr=m&amp;qw=q&amp;tp=txt_p&amp;tr=hb&amp;wget=v&amp;qget=v&amp;nget=vt\" title=\"Genesis 1:1\" sec=\"Genesis 1:1\"><span  class=\"hl\" >הַ</span></a></span></td></tr>\n",
       "<tr class=\"tf\"><td class=\"tf\">5</td><td class=\"tf\"> <a href=\"https://shebanq.ancient-data.org/hebrew/text?book=Genesis&amp;chapter=1&amp;verse=1&amp;version=c&amp;mr=m&amp;qw=q&amp;tp=txt_p&amp;tr=hb&amp;wget=v&amp;qget=v&amp;nget=vt\" title=\"show this passage in SHEBANQ\" sec=\"Genesis 1:1\">Genesis 1:1</a></td><td class=\"tf\"><span class=\"hb\"><a href=\"https://shebanq.ancient-data.org/hebrew/text?book=Genesis&amp;chapter=1&amp;verse=1&amp;version=c&amp;mr=m&amp;qw=q&amp;tp=txt_p&amp;tr=hb&amp;wget=v&amp;qget=v&amp;nget=vt\" title=\"Genesis 1:1\" sec=\"Genesis 1:1\"><span  class=\"hl\" >וְ</span></a></span></td></tr></table>"
      ],
      "text/plain": [
       "<IPython.core.display.HTML object>"
      ]
     },
     "metadata": {},
     "output_type": "display_data"
    }
   ],
   "source": [
    "A.table(A.search('''\n",
    "\n",
    "word st=a\n",
    "\n",
    "'''), end=5)"
   ]
  },
  {
   "cell_type": "code",
   "execution_count": 107,
   "metadata": {},
   "outputs": [
    {
     "data": {
      "text/plain": [
       "'לְמֶמְשֶׁ֣לֶת הַלַּ֔יְלָה '"
      ]
     },
     "execution_count": 107,
     "metadata": {},
     "output_type": "execute_result"
    }
   ],
   "source": [
    "T.text(t)"
   ]
  },
  {
   "cell_type": "code",
   "execution_count": 108,
   "metadata": {},
   "outputs": [
    {
     "data": {
      "text/plain": [
       "(904941,)"
      ]
     },
     "execution_count": 108,
     "metadata": {},
     "output_type": "execute_result"
    }
   ],
   "source": [
    "t"
   ]
  },
  {
   "cell_type": "markdown",
   "metadata": {},
   "source": [
    "### Testing"
   ]
  },
  {
   "cell_type": "markdown",
   "metadata": {},
   "source": [
    "This machinery will allow us to write large yet concise conditional statements that test all kinds of parameters around the context."
   ]
  },
  {
   "cell_type": "markdown",
   "metadata": {},
   "source": [
    "Let's make a set of all NPs in the corpus from which we can gradually work from. We will work with phrase_atoms for now."
   ]
  },
  {
   "cell_type": "code",
   "execution_count": 19,
   "metadata": {},
   "outputs": [
    {
     "name": "stdout",
     "output_type": "stream",
     "text": [
      "47504\n"
     ]
    }
   ],
   "source": [
    "nps = set(F.typ.s('NP')) & set(F.otype.s('phrase_atom'))\n",
    "covered = set()\n",
    "\n",
    "def prog():\n",
    "    # print remaining cases\n",
    "    print(len(nps)-len(covered))\n",
    "\n",
    "print(len(nps))"
   ]
  },
  {
   "cell_type": "markdown",
   "metadata": {},
   "source": [
    "Let's eliminate all options that have no other choices but a candidate."
   ]
  },
  {
   "cell_type": "code",
   "execution_count": 20,
   "metadata": {},
   "outputs": [
    {
     "data": {
      "text/plain": [
       "27766"
      ]
     },
     "execution_count": 20,
     "metadata": {},
     "output_type": "execute_result"
    }
   ],
   "source": [
    "simpleres = []\n",
    "\n",
    "for p in nps:\n",
    "    cands = [w for w in L.d(p, 'word') if F.sp.v(w) in cand_sps]\n",
    "    if len(cands) == 1:\n",
    "        simpleres.append((p, cands[0]))\n",
    "        \n",
    "len(simpleres)"
   ]
  },
  {
   "cell_type": "code",
   "execution_count": 9,
   "metadata": {},
   "outputs": [],
   "source": [
    "def get_quantified(word, tf, **wsets):\n",
    "    '''\n",
    "    Recursively calls down a quantifier chain until\n",
    "    finding a quantified word.\n",
    "    '''\n",
    "    \n",
    "    quants, noms = wsets['quants'], wsets['noms']\n",
    "\n",
    "    P = Positions(word, 'phrase_atom', tf).get\n",
    "\n",
    "    target = (\n",
    "        lambda n: P(n), \n",
    "        lambda n: P(n) not in quants,\n",
    "        lambda n: P(n, 'sp') in noms,\n",
    "    )\n",
    "\n",
    "    # check this word\n",
    "    if all(cond(0) for cond in target):\n",
    "        return word\n",
    "    \n",
    "    # check next word\n",
    "    elif all(cond(P(1)) for cond in target):\n",
    "        return P(1)\n",
    "    \n",
    "    # move up one\n",
    "    else:\n",
    "        return get_quantified(P(1))"
   ]
  },
  {
   "cell_type": "code",
   "execution_count": null,
   "metadata": {},
   "outputs": [],
   "source": []
  }
 ],
 "metadata": {
  "kernelspec": {
   "display_name": "Python 3",
   "language": "python",
   "name": "python3"
  },
  "language_info": {
   "codemirror_mode": {
    "name": "ipython",
    "version": 3
   },
   "file_extension": ".py",
   "mimetype": "text/x-python",
   "name": "python",
   "nbconvert_exporter": "python",
   "pygments_lexer": "ipython3",
   "version": "3.7.0"
  }
 },
 "nbformat": 4,
 "nbformat_minor": 2
}
