{
 "cells": [
  {
   "cell_type": "markdown",
   "metadata": {},
   "source": [
    "# Going Subphraseless\n",
    "\n",
    "The current method for isolating phrase heads ([here](https://nbviewer.jupyter.org/github/ETCBC/heads/blob/master/phrase_heads.ipynb)) requires strenuous and ineloquent processing of BHSA subphrase relations. The subphrases are not always consistently encoded and suffer from numerous exceptional cases. The result is that the method is rather convoluted and ineloquent.\n",
    "\n",
    "This notebook will explore the possibility of disconnecting semantic head analysis from the ETCBC subphrase encoding. \n",
    "\n",
    "A \"semantic\" head is the primary content word of a phrase, following Croft's \"Primary Information Bearing Unit\":\n",
    "\n",
    "> **The noun and the verb are the PRIMARY INFORMATION_BEARING UNITS (PIBUs) of the phrase and clause respectively. In common parlance, they are the content words. PIBUs have major informational content that functional elements such as articles and [auxiliaries] do not have. (Croft, *Radical Construction Grammar*, 2001, 258; see also Shead, *Radical Frame Semantics and Biblical Hebrew*, 104)**\n",
    "\n",
    "> **A (semantic) head is the profile equivalent that is the primary information-bearing unit, that is, the most contentful item that most closely profiles the same kind of thing that the whole constituent profiles. (ibid., 259)**\n",
    "\n",
    "Croft also provides an additional criterion to \"profile equivalence\":\n",
    "\n",
    "> **If the criterion of profile equivalence produces two candidates for headhood, the less schematic meaning is the PIBU; that is, the PIBU is the one with the narrower extension, in the formal semantic sense of that term (ibid., 259)**\n",
    "\n",
    "## Inquiry\n",
    "\n",
    "Can we isolate semantic phrase heads in BHSA using only the phrase_atom and phrase limits? This question indeed means that we  take the phrase_atom/phrase boundaries for granted. Empirically, the validity of BHSA phrase boundaries needs to be tested. But for now, the exercise of isolating semantic phrase heads could be seen as the first step towards reproducible phrase boundaries.\n",
    "\n",
    "## Basic Concepts\n",
    "\n",
    "A semantic head will most often stand in a syntactically independent position. For Hebrew nominal phrases, that essentially means a word which is not precided by a construct, which is not in an attributive slot (e.g. H + noun + H + ATTRIBUTIVE), and which is not in an adjectival slot (e.g. noun + noun as in אישׁ טוב).\n",
    "\n",
    "The situation is slightly complicated by quantifier expressions, which may be syntactically independent but semantically secondary. These are expressed through specialized lexical items such as cardinal numbers and qualitative quantifiers (e.g.  \"כל\" and \"חצי\").\n",
    "\n",
    "Another complication is the use of nouns as prepositional items. Such uses can be seen with words like פני \"face\" such as לפני \"in front,\" and even words like ראשׁ as in ראשׁ החדשׁ \"beginning of the month.\" \n",
    "\n",
    "Other expressions of quantity, quality, and function provide similar complexities. These cases have to be specified in advance.\n",
    "\n",
    "## Prerequisites\n",
    "\n",
    "As discussed above, lexical-semantic information is crucial in separating instances of quantification. These sets have to be defined in advance. As already noted, the BHSA phrase_atom/phrase boundaries are also taken for granted.\n",
    "\n",
    "## The Noun Phrase\n",
    "\n",
    "The focus of this initial inquiry is the noun phrase. All of the most complicated problems can be found in this group. Solving the problems in NP classification will likewise allow PP classification to easily follow. In cognitive linguistics, nouns are considered the semantic heads of prepositional phrases. That same definition will be adopted herein.\n",
    "\n",
    "### A Process of Elimination\n",
    "\n",
    "This exploratory analysis will proceed via a process of elimination, advancing from simple cases towards the complex ones.\n",
    "\n",
    "**Let's get started**. We load the necessary functions and BHSA data (straight from source)."
   ]
  },
  {
   "cell_type": "code",
   "execution_count": 103,
   "metadata": {},
   "outputs": [
    {
     "name": "stdout",
     "output_type": "stream",
     "text": [
      "   |     0.00s No structure info in otext, the structure part of the T-API cannot be used\n"
     ]
    },
    {
     "data": {
      "text/html": [
       "<style>\n",
       "@font-face {\n",
       "  font-family: \"Ezra SIL\";\n",
       "  src:\n",
       "    local(\"SILEOT.ttf\"),\n",
       "    url(\"https://github.com/annotation/text-fabric/blob/master/tf/server/static/fonts/SILEOT.woff?raw=true\");\n",
       "}\n",
       ".features {\n",
       "    font-family: monospace;\n",
       "    font-size: medium;\n",
       "    font-weight: bold;\n",
       "    color: #0a6611;\n",
       "    display: flex;\n",
       "    flex-flow: column nowrap;\n",
       "    padding: 0.1em;\n",
       "    margin: 0.1em;\n",
       "    direction: ltr;\n",
       "}\n",
       ".features div,.features span {\n",
       "    padding: 0;\n",
       "    margin: -0.1rem 0;\n",
       "}\n",
       ".features .f {\n",
       "    font-family: sans-serif;\n",
       "    font-size: x-small;\n",
       "    font-weight: normal;\n",
       "    color: #5555bb;\n",
       "}\n",
       ".features .xft {\n",
       "  color: #000000;\n",
       "  background-color: #eeeeee;\n",
       "  font-size: medium;\n",
       "  margin: 0.1em 0em;\n",
       "}\n",
       ".features .xft .f {\n",
       "  color: #000000;\n",
       "  background-color: #eeeeee;\n",
       "  font-style: italic;\n",
       "  font-size: small;\n",
       "  font-weight: normal;\n",
       "}\n",
       ".ltr {\n",
       "    direction: ltr ! important;\n",
       "}\n",
       ".verse {\n",
       "    display: flex;\n",
       "    flex-flow: row wrap;\n",
       "    direction: rtl;\n",
       "}\n",
       ".vl {\n",
       "    display: flex;\n",
       "    flex-flow: column nowrap;\n",
       "    justify-content: flex-end;\n",
       "    align-items: flex-end;\n",
       "    direction: ltr;\n",
       "    width: 100%;\n",
       "}\n",
       ".outeritem {\n",
       "    display: flex;\n",
       "    flex-flow: row wrap;\n",
       "    direction: rtl;\n",
       "}\n",
       ".sentence,.clause,.phrase {\n",
       "    margin-top: -1.2em;\n",
       "    margin-left: 1em;\n",
       "    background: #ffffff none repeat scroll 0 0;\n",
       "    padding: 0 0.3em;\n",
       "    border-style: solid;\n",
       "    border-radius: 0.2em;\n",
       "    font-size: small;\n",
       "    display: block;\n",
       "    width: fit-content;\n",
       "    max-width: fit-content;\n",
       "    direction: ltr;\n",
       "}\n",
       ".atoms {\n",
       "    display: flex;\n",
       "    flex-flow: row wrap;\n",
       "    margin: 0.3em;\n",
       "    padding: 0.3em;\n",
       "    direction: rtl;\n",
       "    background-color: #ffffff;\n",
       "}\n",
       ".satom,.catom,.patom {\n",
       "    margin: 0.3em;\n",
       "    padding: 0.3em;\n",
       "    border-radius: 0.3em;\n",
       "    border-style: solid;\n",
       "    display: flex;\n",
       "    flex-flow: column nowrap;\n",
       "    direction: rtl;\n",
       "    background-color: #ffffff;\n",
       "}\n",
       ".sentence {\n",
       "    border-color: #aa3333;\n",
       "    border-width: 1px;\n",
       "}\n",
       ".clause {\n",
       "    border-color: #aaaa33;\n",
       "    border-width: 1px;\n",
       "}\n",
       ".phrase {\n",
       "    border-color: #33aaaa;\n",
       "    border-width: 1px;\n",
       "}\n",
       ".satom {\n",
       "    border-color: #aa3333;\n",
       "    border-width: 4px;\n",
       "}\n",
       ".catom {\n",
       "    border-color: #aaaa33;\n",
       "    border-width: 3px;\n",
       "}\n",
       ".patom {\n",
       "    border-color: #33aaaa;\n",
       "    border-width: 3px;\n",
       "}\n",
       ".word {\n",
       "    padding: 0.1em;\n",
       "    margin: 0.1em;\n",
       "    border-radius: 0.1em;\n",
       "    border: 1px solid #cccccc;\n",
       "    display: flex;\n",
       "    flex-flow: column nowrap;\n",
       "    direction: rtl;\n",
       "    background-color: #ffffff;\n",
       "}\n",
       ".lextp {\n",
       "    padding: 0.1em;\n",
       "    margin: 0.1em;\n",
       "    border-radius: 0.1em;\n",
       "    border: 2px solid #888888;\n",
       "    width: fit-content;\n",
       "    display: flex;\n",
       "    flex-flow: column nowrap;\n",
       "    direction: rtl;\n",
       "    background-color: #ffffff;\n",
       "}\n",
       ".occs {\n",
       "    font-size: x-small;\n",
       "}\n",
       ".satom.l,.catom.l,.patom.l {\n",
       "    border-left-style: dotted\n",
       "}\n",
       ".satom.r,.catom.r,.patom.r {\n",
       "    border-right-style: dotted\n",
       "}\n",
       ".satom.lno,.catom.lno,.patom.lno {\n",
       "    border-left-style: none\n",
       "}\n",
       ".satom.rno,.catom.rno,.patom.rno {\n",
       "    border-right-style: none\n",
       "}\n",
       ".tr,.tr a:visited,.tr a:link {\n",
       "    font-family: sans-serif;\n",
       "    font-size: large;\n",
       "    color: #000044;\n",
       "    direction: ltr;\n",
       "    text-decoration: none;\n",
       "}\n",
       ".trb,.trb a:visited,.trb a:link {\n",
       "    font-family: sans-serif;\n",
       "    font-size: normal;\n",
       "    direction: ltr;\n",
       "    text-decoration: none;\n",
       "}\n",
       ".prb,.prb a:visited,.prb a:link {\n",
       "    font-family: sans-serif;\n",
       "    font-size: large;\n",
       "    direction: ltr;\n",
       "    text-decoration: none;\n",
       "}\n",
       ".h,.h a:visited,.h a:link {\n",
       "    font-family: \"Ezra SIL\", \"SBL Hebrew\", sans-serif;\n",
       "    font-size: large;\n",
       "    color: #000044;\n",
       "    direction: rtl;\n",
       "    text-decoration: none;\n",
       "}\n",
       ".hb,.hb a:visited,.hb a:link {\n",
       "    font-family: \"Ezra SIL\", \"SBL Hebrew\", sans-serif;\n",
       "    font-size: large;\n",
       "    line-height: 2;\n",
       "    direction: rtl;\n",
       "    text-decoration: none;\n",
       "}\n",
       ".vn {\n",
       "  font-size: small !important;\n",
       "  padding-right: 1em;\n",
       "}\n",
       ".rela,.function,.typ {\n",
       "    font-family: monospace;\n",
       "    font-size: small;\n",
       "    color: #0000bb;\n",
       "}\n",
       ".pdp,.pdp a:visited,.pdp a:link {\n",
       "    font-family: monospace;\n",
       "    font-size: medium;\n",
       "    color: #0000bb;\n",
       "    text-decoration: none;\n",
       "}\n",
       ".voc_lex {\n",
       "    font-family: monospace;\n",
       "    font-size: medium;\n",
       "    color: #0000bb;\n",
       "}\n",
       ".vs {\n",
       "    font-family: monospace;\n",
       "    font-size: medium;\n",
       "    font-weight: bold;\n",
       "    color: #0000bb;\n",
       "}\n",
       ".vt {\n",
       "    font-family: monospace;\n",
       "    font-size: medium;\n",
       "    font-weight: bold;\n",
       "    color: #0000bb;\n",
       "}\n",
       ".gloss {\n",
       "    font-family: sans-serif;\n",
       "    font-size: small;\n",
       "    font-weight: normal;\n",
       "    color: #444444;\n",
       "}\n",
       ".vrs {\n",
       "    font-family: sans-serif;\n",
       "    font-size: small;\n",
       "    font-weight: bold;\n",
       "    color: #444444;\n",
       "}\n",
       ".nd {\n",
       "    font-family: monospace;\n",
       "    font-size: x-small;\n",
       "    color: #999999;\n",
       "}\n",
       ".hl {\n",
       "    background-color: #ffee66;\n",
       "}\n",
       "\n",
       "tr.tf, td.tf, th.tf {\n",
       "  text-align: left;\n",
       "}\n",
       "\n",
       "span.hldot {\n",
       "\tbackground-color: var(--hl-strong);\n",
       "\tborder: 0.2rem solid var(--hl-rim);\n",
       "\tborder-radius: 0.4rem;\n",
       "\t/*\n",
       "\tdisplay: inline-block;\n",
       "\twidth: 0.8rem;\n",
       "\theight: 0.8rem;\n",
       "\t*/\n",
       "}\n",
       "span.hl {\n",
       "\tbackground-color: var(--hl-strong);\n",
       "\tborder-width: 0;\n",
       "\tborder-radius: 0.1rem;\n",
       "\tborder-style: solid;\n",
       "}\n",
       "\n",
       "span.hlup {\n",
       "\tborder-color: var(--hl-dark);\n",
       "\tborder-width: 0.1rem;\n",
       "\tborder-style: solid;\n",
       "\tborder-radius: 0.2rem;\n",
       "  padding: 0.2rem;\n",
       "}\n",
       "\n",
       ":root {\n",
       "\t--hl-strong:        hsla( 60, 100%,  70%, 0.9  );\n",
       "\t--hl-rim:           hsla( 55, 100%,  60%, 0.9  );\n",
       "\t--hl-dark:          hsla( 55, 100%,  40%, 0.9  );\n",
       "}\n",
       "</style>"
      ],
      "text/plain": [
       "<IPython.core.display.HTML object>"
      ]
     },
     "metadata": {},
     "output_type": "display_data"
    }
   ],
   "source": [
    "import collections\n",
    "import random\n",
    "import re\n",
    "import fasttext\n",
    "from scipy.spatial.distance import cosine\n",
    "from tf.app import use\n",
    "A = use('bhsa', hoist=globals(), silent=True)\n",
    "\n",
    "good_chars = set(char for word in F.otype.s('word') for char in F.voc_lex_utf8.v(word))\n",
    "good_chars.remove('־') # remove maqqeph\n",
    "def rem_accent(word):\n",
    "    # Remove accents from words\n",
    "    return ''.join(c for c in word if c in good_chars)"
   ]
  },
  {
   "cell_type": "code",
   "execution_count": 2,
   "metadata": {},
   "outputs": [
    {
     "name": "stderr",
     "output_type": "stream",
     "text": [
      "\n"
     ]
    }
   ],
   "source": [
    "model = fasttext.load_model('/Users/cody/github/codykingham/bhsa_vectors/model.bin') # get semantic data"
   ]
  },
  {
   "cell_type": "markdown",
   "metadata": {},
   "source": [
    "As a first step, we need to define what word types will become elligible candidates for noun heads. Parts of speech are frequently construed into various roles. As a result, we must be prepared to accept a variety of potential candidates.\n",
    "\n",
    "Instead of the BHSA `pdp` (\"phrase dependent part of speech\") feature, we will rely on the `sp` (\"part of speech\") feature, which is derived directly from the lexicon.\n",
    "\n",
    "Let's have a look at the potential `sp` values in the dataset."
   ]
  },
  {
   "cell_type": "code",
   "execution_count": 3,
   "metadata": {},
   "outputs": [
    {
     "data": {
      "text/plain": [
       "(('subs', 125581),\n",
       " ('verb', 75450),\n",
       " ('prep', 73298),\n",
       " ('conj', 62737),\n",
       " ('nmpr', 35696),\n",
       " ('art', 30387),\n",
       " ('adjv', 10052),\n",
       " ('nega', 6059),\n",
       " ('prps', 5035),\n",
       " ('advb', 4603),\n",
       " ('prde', 2678),\n",
       " ('intj', 1912),\n",
       " ('inrg', 1303),\n",
       " ('prin', 1026))"
      ]
     },
     "execution_count": 3,
     "metadata": {},
     "output_type": "execute_result"
    }
   ],
   "source": [
    "F.sp.freqList()"
   ]
  },
  {
   "cell_type": "markdown",
   "metadata": {},
   "source": [
    "See the short descriptions for the values [here](https://etcbc.github.io/bhsa/features/sp/). \n",
    "\n",
    "The following parts of speech could be expected to be construed as NP sem. heads: substantives (`subs`), verbs (i.e. as participles), proper nouns (`nmpr`), adjectives (`adjv`), personal pronouns (`prps`, most often found exclusively in phrases marked a \"Personal Pronoun Phrases\", but in cases of noun coordination BHSA will not distinguish!), demonstrative pronouns (`prde`). \n",
    "\n",
    "It is unknown whether adverbs (`advb`) or interrogative particles (`inrg`) might also function as semantic heads in BHSA phrases. Let's do a quick check. We look for cases where a word with a `sp` value of `advb` becomes a `subs` in its `pdp` feature."
   ]
  },
  {
   "cell_type": "code",
   "execution_count": 4,
   "metadata": {},
   "outputs": [
    {
     "name": "stdout",
     "output_type": "stream",
     "text": [
      "  0.55s 0 results\n"
     ]
    }
   ],
   "source": [
    "find_advb = A.search('word sp=advb pdp=subs')"
   ]
  },
  {
   "cell_type": "markdown",
   "metadata": {},
   "source": [
    "We don't find any cases. How about the interrogative particle inside phrases marked as `NP`?"
   ]
  },
  {
   "cell_type": "code",
   "execution_count": 5,
   "metadata": {},
   "outputs": [
    {
     "name": "stdout",
     "output_type": "stream",
     "text": [
      "  0.88s 1 result\n"
     ]
    }
   ],
   "source": [
    "find_intr = A.search('''\n",
    "\n",
    "clause\n",
    "    phrase typ=NP\n",
    "        word sp=inrg\n",
    "\n",
    "''')"
   ]
  },
  {
   "cell_type": "code",
   "execution_count": 6,
   "metadata": {},
   "outputs": [
    {
     "data": {
      "text/html": [
       "<table>\n",
       "<tr class=\"tf\">\n",
       "  <th class=\"tf\">n</th><th class=\"tf\">p</th>\n",
       "  <th class=\"tf\">clause</th><th>phrase</th><th>word</th>\n",
       "</tr>\n",
       "\n",
       "<tr class=\"tf\"><td class=\"tf\">1</td><td class=\"tf\"> <a href=\"https://shebanq.ancient-data.org/hebrew/text?book=Chronica_I&amp;chapter=17&amp;verse=6&amp;version=c&amp;mr=m&amp;qw=q&amp;tp=txt_p&amp;tr=hb&amp;wget=v&amp;qget=v&amp;nget=vt\" title=\"show this passage in SHEBANQ\" sec=\"1_Chronicles 17:6\">1_Chronicles 17:6</a></td><td class=\"tf\"><span class=\"hb\"><a href=\"https://shebanq.ancient-data.org/hebrew/text?book=Chronica_I&amp;chapter=17&amp;verse=6&amp;version=c&amp;mr=m&amp;qw=q&amp;tp=txt_p&amp;tr=hb&amp;wget=v&amp;qget=v&amp;nget=vt\" title=\"1_Chronicles 17:6\" sec=\"1_Chronicles 17:6\">בְּכֹ֥ל <span  class=\"hl hlup\" >הֲ</span><span  class=\"hlup\" >דָבָ֣ר </span>דִּבַּ֗רְתִּי אֶת־אַחַד֙ שֹׁפְטֵ֣י יִשְׂרָאֵ֔ל </a></span></td><td class=\"tf\"><span class=\"hb\"><span  class=\"hl hlup\" >הֲ</span><span  class=\"hlup\" >דָבָ֣ר </span></span></td><td class=\"tf\"><span class=\"hb\"><span  class=\"hl hlup\" >הֲ</span></span></td></tr></table>"
      ],
      "text/plain": [
       "<IPython.core.display.HTML object>"
      ]
     },
     "metadata": {},
     "output_type": "display_data"
    }
   ],
   "source": [
    "A.table(find_intr, condenseType='clause')"
   ]
  },
  {
   "cell_type": "markdown",
   "metadata": {},
   "source": [
    "The interrogative does not function as a semantic head here.\n",
    "\n",
    "Ok. So this leaves us with the other potential part of speech values. Are these iron-clad? Let's do this: we can be even more sure we have the right set by making a broader query: for any word with a `pdp=subs` wherein the `sp != subs`.\n",
    "\n",
    "We expect to see only: `subs`, `nmpr`, and `adjv`. The values `prps` and `prde` are not likely to change in `pdp`."
   ]
  },
  {
   "cell_type": "code",
   "execution_count": 7,
   "metadata": {},
   "outputs": [
    {
     "data": {
      "text/plain": [
       "{'adjv', 'verb'}"
      ]
     },
     "execution_count": 7,
     "metadata": {},
     "output_type": "execute_result"
    }
   ],
   "source": [
    "set(F.sp.v(w) for w in F.otype.s('word')\n",
    "        if F.pdp.v(w) == 'subs' and F.sp.v(w) != 'subs')"
   ]
  },
  {
   "cell_type": "markdown",
   "metadata": {},
   "source": [
    "This is *mostly* what we expected. But I did forget that `nmpr` will also *not* change inside the NP. So `adjv` and `verb` is exactly what we want to see here.\n",
    "\n",
    "I see that I've also included `prde` \"demonstratives\" in the list here. I now very much doubt whether this is ever the case. I'll make a query here to see whether any demonstratives occur outside of a modifying position. Specifically, we require that the demonstrative is not preceded by an article (excludes the attributive pattern H + noun + H + demonstrative) or a noun, and the demonstrative does not precede a noun. "
   ]
  },
  {
   "cell_type": "code",
   "execution_count": 8,
   "metadata": {},
   "outputs": [
    {
     "name": "stdout",
     "output_type": "stream",
     "text": [
      "  2.11s 2 results\n"
     ]
    }
   ],
   "source": [
    "find_demo = A.search('''\n",
    "\n",
    "phrase typ=NP\n",
    "    word sp#art|subs|adjv\n",
    "    <: word sp=prde\n",
    "    <: word sp#subs|adjv\n",
    "''')"
   ]
  },
  {
   "cell_type": "code",
   "execution_count": 9,
   "metadata": {},
   "outputs": [
    {
     "data": {
      "text/html": [
       "<table>\n",
       "<tr class=\"tf\">\n",
       "  <th class=\"tf\">n</th><th class=\"tf\">p</th>\n",
       "  <th class=\"tf\">phrase</th><th>word</th><th>word</th><th>word</th>\n",
       "</tr>\n",
       "\n",
       "<tr class=\"tf\"><td class=\"tf\">1</td><td class=\"tf\"> <a href=\"https://shebanq.ancient-data.org/hebrew/text?book=Exodus&amp;chapter=26&amp;verse=13&amp;version=c&amp;mr=m&amp;qw=q&amp;tp=txt_p&amp;tr=hb&amp;wget=v&amp;qget=v&amp;nget=vt\" title=\"show this passage in SHEBANQ\" sec=\"Exodus 26:13\">Exodus 26:13</a></td><td class=\"tf\"><span class=\"hb\"><a href=\"https://shebanq.ancient-data.org/hebrew/text?book=Exodus&amp;chapter=26&amp;verse=13&amp;version=c&amp;mr=m&amp;qw=q&amp;tp=txt_p&amp;tr=hb&amp;wget=v&amp;qget=v&amp;nget=vt\" title=\"Exodus 26:13\" sec=\"Exodus 26:13\"><span  class=\"hlup\" >הָ</span><span  class=\"hlup\" >אַמָּ֨ה </span><span  class=\"hl hlup\" >מִ</span><span  class=\"hl hlup\" >זֶּ֜ה </span><span  class=\"hl hlup\" >וְ</span><span  class=\"hlup\" >הָ</span><span  class=\"hlup\" >אַמָּ֤ה </span><span  class=\"hlup\" >מִ</span><span  class=\"hlup\" >זֶּה֙ </span></a></span> <i>678044</i> </td><td class=\"tf\"><span class=\"hb\"><span  class=\"hl hlup\" >מִ</span></span> <i>42881</i> </td><td class=\"tf\"><span class=\"hb\"><span  class=\"hl hlup\" >זֶּ֜ה </span></span> <i>42882</i> </td><td class=\"tf\"><span class=\"hb\"><span  class=\"hl hlup\" >וְ</span></span> <i>42883</i> </td></tr>\n",
       "<tr class=\"tf\"><td class=\"tf\">2</td><td class=\"tf\"> <a href=\"https://shebanq.ancient-data.org/hebrew/text?book=Chronica_II&amp;chapter=9&amp;verse=18&amp;version=c&amp;mr=m&amp;qw=q&amp;tp=txt_p&amp;tr=hb&amp;wget=v&amp;qget=v&amp;nget=vt\" title=\"show this passage in SHEBANQ\" sec=\"2_Chronicles 9:18\">2_Chronicles 9:18</a></td><td class=\"tf\"><span class=\"hb\"><a href=\"https://shebanq.ancient-data.org/hebrew/text?book=Chronica_II&amp;chapter=9&amp;verse=18&amp;version=c&amp;mr=m&amp;qw=q&amp;tp=txt_p&amp;tr=hb&amp;wget=v&amp;qget=v&amp;nget=vt\" title=\"2_Chronicles 9:18\" sec=\"2_Chronicles 9:18\"><span  class=\"hlup\" >יָדֹ֛ות </span><span  class=\"hl hlup\" >מִ</span><span  class=\"hl hlup\" >זֶּ֥ה </span><span  class=\"hl hlup\" >וּ</span><span  class=\"hlup\" >מִ</span><span  class=\"hlup\" >זֶּ֖ה </span></a></span> <i>896933</i> </td><td class=\"tf\"><span class=\"hb\"><span  class=\"hl hlup\" >מִ</span></span> <i>411458</i> </td><td class=\"tf\"><span class=\"hb\"><span  class=\"hl hlup\" >זֶּ֥ה </span></span> <i>411459</i> </td><td class=\"tf\"><span class=\"hb\"><span  class=\"hl hlup\" >וּ</span></span> <i>411460</i> </td></tr></table>"
      ],
      "text/plain": [
       "<IPython.core.display.HTML object>"
      ]
     },
     "metadata": {},
     "output_type": "display_data"
    }
   ],
   "source": [
    "A.table(find_demo, withNodes=True, extraFeatures='sp')"
   ]
  },
  {
   "cell_type": "markdown",
   "metadata": {},
   "source": [
    "These cases are slightly complicated by the fact that at a higher level they do govern their own phrase, but at the level of the whole phrase they do not. Is this fact reflected in the BHSA phrase structure?"
   ]
  },
  {
   "cell_type": "code",
   "execution_count": 10,
   "metadata": {},
   "outputs": [
    {
     "data": {
      "text/html": [
       "<a href=\"https://shebanq.ancient-data.org/hebrew/text?book=Exodus&amp;chapter=26&amp;verse=13&amp;version=c&amp;mr=m&amp;qw=q&amp;tp=txt_p&amp;tr=hb&amp;wget=v&amp;qget=v&amp;nget=vt\" title=\"show this passage in SHEBANQ\" sec=\"Exodus 26:13\">Exodus 26:13</a>\n",
       "<div class=\"atoms  \" >\n",
       "<a href=\"#\" class=\"nd\">678044</a>\n",
       "\n",
       "\n",
       "\n",
       "<div class=\"patom  l \" >\n",
       "\n",
       "    <div class=\"phrase \" >\n",
       "        <a href=\"https://shebanq.ancient-data.org/hebrew/text?book=Exodus&amp;chapter=26&amp;verse=13&amp;version=c&amp;mr=m&amp;qw=q&amp;tp=txt_p&amp;tr=hb&amp;wget=v&amp;qget=v&amp;nget=vt\" title=\"Exodus 26:13\" sec=\"Exodus 26:13\">phrase</a> <a href=\"#\" class=\"nd\">678044</a>  <span class=\"function\">Subj</span> <span class=\"typ\">NP</span>\n",
       "    </div>\n",
       "    <div class=\"atoms\">\n",
       "\n",
       "<div class=\"word  \" >\n",
       "<a href=\"#\" class=\"nd\">42879</a>\n",
       "<div class=\"h\"><a target=\"_blank\" href=\"https://shebanq.ancient-data.org/hebrew/word?version=c&amp;id=1H\" title=\"show this lexeme in SHEBANQ\">הָ</a></div>\n",
       "<div class=\"features\"> <span class=\"pdp\"><a href=\"https://shebanq.ancient-data.org/hebrew/text?book=Exodus&amp;chapter=26&amp;verse=13&amp;version=c&amp;mr=m&amp;qw=q&amp;tp=txt_p&amp;tr=hb&amp;wget=v&amp;qget=v&amp;nget=vt\" title=\"Exodus 26:13\" sec=\"Exodus 26:13\">art</a></span> <span class=\"gloss\">the</span> <span class=\"sp xft\"><span class=\"f\">sp=</span>art</span></div>\n",
       "\n",
       "\n",
       "</div>\n",
       "\n",
       "<div class=\"word  \" >\n",
       "<a href=\"#\" class=\"nd\">42880</a>\n",
       "<div class=\"h\"><a target=\"_blank\" href=\"https://shebanq.ancient-data.org/hebrew/word?version=c&amp;id=1AMHin\" title=\"show this lexeme in SHEBANQ\">אַמָּ֨ה </a></div>\n",
       "<div class=\"features\"> <span class=\"pdp\"><a href=\"https://shebanq.ancient-data.org/hebrew/text?book=Exodus&amp;chapter=26&amp;verse=13&amp;version=c&amp;mr=m&amp;qw=q&amp;tp=txt_p&amp;tr=hb&amp;wget=v&amp;qget=v&amp;nget=vt\" title=\"Exodus 26:13\" sec=\"Exodus 26:13\">subs</a></span> <span class=\"gloss\">cubit</span> <span class=\"sp xft\"><span class=\"f\">sp=</span>subs</span></div>\n",
       "\n",
       "\n",
       "</div>\n",
       "\n",
       "\n",
       "    </div>\n",
       "\n",
       "\n",
       "</div>\n",
       "\n",
       "<div class=\"patom  r l \" >\n",
       "\n",
       "    <div class=\"phrase \" >\n",
       "        <a href=\"https://shebanq.ancient-data.org/hebrew/text?book=Exodus&amp;chapter=26&amp;verse=13&amp;version=c&amp;mr=m&amp;qw=q&amp;tp=txt_p&amp;tr=hb&amp;wget=v&amp;qget=v&amp;nget=vt\" title=\"Exodus 26:13\" sec=\"Exodus 26:13\">phrase</a> <a href=\"#\" class=\"nd\">678044</a>  <span class=\"function\">Subj</span> <span class=\"typ\">NP|PP</span>\n",
       "    </div>\n",
       "    <div class=\"atoms\">\n",
       "\n",
       "<div class=\"word  \" >\n",
       "<a href=\"#\" class=\"nd\">42881</a>\n",
       "<div class=\"h\"><a target=\"_blank\" href=\"https://shebanq.ancient-data.org/hebrew/word?version=c&amp;id=1MN\" title=\"show this lexeme in SHEBANQ\">מִ</a></div>\n",
       "<div class=\"features\"> <span class=\"pdp\"><a href=\"https://shebanq.ancient-data.org/hebrew/text?book=Exodus&amp;chapter=26&amp;verse=13&amp;version=c&amp;mr=m&amp;qw=q&amp;tp=txt_p&amp;tr=hb&amp;wget=v&amp;qget=v&amp;nget=vt\" title=\"Exodus 26:13\" sec=\"Exodus 26:13\">prep</a></span> <span class=\"gloss\">from</span> <span class=\"sp xft\"><span class=\"f\">sp=</span>prep</span></div>\n",
       "\n",
       "\n",
       "</div>\n",
       "\n",
       "<div class=\"word  \" >\n",
       "<a href=\"#\" class=\"nd\">42882</a>\n",
       "<div class=\"h\"><a target=\"_blank\" href=\"https://shebanq.ancient-data.org/hebrew/word?version=c&amp;id=1ZH\" title=\"show this lexeme in SHEBANQ\">זֶּ֜ה </a></div>\n",
       "<div class=\"features\"> <span class=\"pdp\"><a href=\"https://shebanq.ancient-data.org/hebrew/text?book=Exodus&amp;chapter=26&amp;verse=13&amp;version=c&amp;mr=m&amp;qw=q&amp;tp=txt_p&amp;tr=hb&amp;wget=v&amp;qget=v&amp;nget=vt\" title=\"Exodus 26:13\" sec=\"Exodus 26:13\">prde</a></span> <span class=\"gloss\">this</span> <span class=\"sp xft\"><span class=\"f\">sp=</span>prde</span></div>\n",
       "\n",
       "\n",
       "</div>\n",
       "\n",
       "\n",
       "    </div>\n",
       "\n",
       "\n",
       "</div>\n",
       "\n",
       "<div class=\"patom  r l \" >\n",
       "\n",
       "    <div class=\"phrase \" >\n",
       "        <a href=\"https://shebanq.ancient-data.org/hebrew/text?book=Exodus&amp;chapter=26&amp;verse=13&amp;version=c&amp;mr=m&amp;qw=q&amp;tp=txt_p&amp;tr=hb&amp;wget=v&amp;qget=v&amp;nget=vt\" title=\"Exodus 26:13\" sec=\"Exodus 26:13\">phrase</a> <a href=\"#\" class=\"nd\">678044</a>  <span class=\"function\">Subj</span> <span class=\"typ\">NP|CP</span>\n",
       "    </div>\n",
       "    <div class=\"atoms\">\n",
       "\n",
       "<div class=\"word  \" >\n",
       "<a href=\"#\" class=\"nd\">42883</a>\n",
       "<div class=\"h\"><a target=\"_blank\" href=\"https://shebanq.ancient-data.org/hebrew/word?version=c&amp;id=1W\" title=\"show this lexeme in SHEBANQ\">וְ</a></div>\n",
       "<div class=\"features\"> <span class=\"pdp\"><a href=\"https://shebanq.ancient-data.org/hebrew/text?book=Exodus&amp;chapter=26&amp;verse=13&amp;version=c&amp;mr=m&amp;qw=q&amp;tp=txt_p&amp;tr=hb&amp;wget=v&amp;qget=v&amp;nget=vt\" title=\"Exodus 26:13\" sec=\"Exodus 26:13\">conj</a></span> <span class=\"gloss\">and</span> <span class=\"sp xft\"><span class=\"f\">sp=</span>conj</span></div>\n",
       "\n",
       "\n",
       "</div>\n",
       "\n",
       "\n",
       "    </div>\n",
       "\n",
       "\n",
       "</div>\n",
       "\n",
       "<div class=\"patom  r l \" >\n",
       "\n",
       "    <div class=\"phrase \" >\n",
       "        <a href=\"https://shebanq.ancient-data.org/hebrew/text?book=Exodus&amp;chapter=26&amp;verse=13&amp;version=c&amp;mr=m&amp;qw=q&amp;tp=txt_p&amp;tr=hb&amp;wget=v&amp;qget=v&amp;nget=vt\" title=\"Exodus 26:13\" sec=\"Exodus 26:13\">phrase</a> <a href=\"#\" class=\"nd\">678044</a>  <span class=\"function\">Subj</span> <span class=\"typ\">NP</span>\n",
       "    </div>\n",
       "    <div class=\"atoms\">\n",
       "\n",
       "<div class=\"word  \" >\n",
       "<a href=\"#\" class=\"nd\">42884</a>\n",
       "<div class=\"h\"><a target=\"_blank\" href=\"https://shebanq.ancient-data.org/hebrew/word?version=c&amp;id=1H\" title=\"show this lexeme in SHEBANQ\">הָ</a></div>\n",
       "<div class=\"features\"> <span class=\"pdp\"><a href=\"https://shebanq.ancient-data.org/hebrew/text?book=Exodus&amp;chapter=26&amp;verse=13&amp;version=c&amp;mr=m&amp;qw=q&amp;tp=txt_p&amp;tr=hb&amp;wget=v&amp;qget=v&amp;nget=vt\" title=\"Exodus 26:13\" sec=\"Exodus 26:13\">art</a></span> <span class=\"gloss\">the</span> <span class=\"sp xft\"><span class=\"f\">sp=</span>art</span></div>\n",
       "\n",
       "\n",
       "</div>\n",
       "\n",
       "<div class=\"word  \" >\n",
       "<a href=\"#\" class=\"nd\">42885</a>\n",
       "<div class=\"h\"><a target=\"_blank\" href=\"https://shebanq.ancient-data.org/hebrew/word?version=c&amp;id=1AMHin\" title=\"show this lexeme in SHEBANQ\">אַמָּ֤ה </a></div>\n",
       "<div class=\"features\"> <span class=\"pdp\"><a href=\"https://shebanq.ancient-data.org/hebrew/text?book=Exodus&amp;chapter=26&amp;verse=13&amp;version=c&amp;mr=m&amp;qw=q&amp;tp=txt_p&amp;tr=hb&amp;wget=v&amp;qget=v&amp;nget=vt\" title=\"Exodus 26:13\" sec=\"Exodus 26:13\">subs</a></span> <span class=\"gloss\">cubit</span> <span class=\"sp xft\"><span class=\"f\">sp=</span>subs</span></div>\n",
       "\n",
       "\n",
       "</div>\n",
       "\n",
       "\n",
       "    </div>\n",
       "\n",
       "\n",
       "</div>\n",
       "\n",
       "<div class=\"patom  r \" >\n",
       "\n",
       "    <div class=\"phrase \" >\n",
       "        <a href=\"https://shebanq.ancient-data.org/hebrew/text?book=Exodus&amp;chapter=26&amp;verse=13&amp;version=c&amp;mr=m&amp;qw=q&amp;tp=txt_p&amp;tr=hb&amp;wget=v&amp;qget=v&amp;nget=vt\" title=\"Exodus 26:13\" sec=\"Exodus 26:13\">phrase</a> <a href=\"#\" class=\"nd\">678044</a>  <span class=\"function\">Subj</span> <span class=\"typ\">NP|PP</span>\n",
       "    </div>\n",
       "    <div class=\"atoms\">\n",
       "\n",
       "<div class=\"word  \" >\n",
       "<a href=\"#\" class=\"nd\">42886</a>\n",
       "<div class=\"h\"><a target=\"_blank\" href=\"https://shebanq.ancient-data.org/hebrew/word?version=c&amp;id=1MN\" title=\"show this lexeme in SHEBANQ\">מִ</a></div>\n",
       "<div class=\"features\"> <span class=\"pdp\"><a href=\"https://shebanq.ancient-data.org/hebrew/text?book=Exodus&amp;chapter=26&amp;verse=13&amp;version=c&amp;mr=m&amp;qw=q&amp;tp=txt_p&amp;tr=hb&amp;wget=v&amp;qget=v&amp;nget=vt\" title=\"Exodus 26:13\" sec=\"Exodus 26:13\">prep</a></span> <span class=\"gloss\">from</span> <span class=\"sp xft\"><span class=\"f\">sp=</span>prep</span></div>\n",
       "\n",
       "\n",
       "</div>\n",
       "\n",
       "<div class=\"word  \" >\n",
       "<a href=\"#\" class=\"nd\">42887</a>\n",
       "<div class=\"h\"><a target=\"_blank\" href=\"https://shebanq.ancient-data.org/hebrew/word?version=c&amp;id=1ZH\" title=\"show this lexeme in SHEBANQ\">זֶּה֙ </a></div>\n",
       "<div class=\"features\"> <span class=\"pdp\"><a href=\"https://shebanq.ancient-data.org/hebrew/text?book=Exodus&amp;chapter=26&amp;verse=13&amp;version=c&amp;mr=m&amp;qw=q&amp;tp=txt_p&amp;tr=hb&amp;wget=v&amp;qget=v&amp;nget=vt\" title=\"Exodus 26:13\" sec=\"Exodus 26:13\">prde</a></span> <span class=\"gloss\">this</span> <span class=\"sp xft\"><span class=\"f\">sp=</span>prde</span></div>\n",
       "\n",
       "\n",
       "</div>\n",
       "\n",
       "\n",
       "    </div>\n",
       "\n",
       "\n",
       "</div>\n",
       "\n",
       "\n",
       "</div>\n"
      ],
      "text/plain": [
       "<IPython.core.display.HTML object>"
      ]
     },
     "metadata": {},
     "output_type": "display_data"
    }
   ],
   "source": [
    "A.pretty(678044, withNodes=True)"
   ]
  },
  {
   "cell_type": "markdown",
   "metadata": {},
   "source": [
    "So we see a separate phrase atom encoded here. What kind of phrase type value is coded on that phrase atom?"
   ]
  },
  {
   "cell_type": "code",
   "execution_count": 11,
   "metadata": {},
   "outputs": [
    {
     "data": {
      "text/plain": [
       "'PP'"
      ]
     },
     "execution_count": 11,
     "metadata": {},
     "output_type": "execute_result"
    }
   ],
   "source": [
    "F.typ.v(L.u(42882, 'phrase_atom')[0])"
   ]
  },
  {
   "cell_type": "markdown",
   "metadata": {},
   "source": [
    "Ok, BHSA simply encodes this as a prepositional phrase. However, our algorithm ought to work also with such prepositional phrases. This presents a slight complicating factor. On the one hand, a demonstrative pronoun might be treated like any other substantive, yet it is functionally different in nearly all cases. For example, many cases would consist of a demonstrative + noun pattern. The algorithm might see: noun_candidateA (זה) + noun_candidateB; it sees that noun_candidateB agrees with noun_candidateA in gender and number; pursuant to the rule on adjectives, i.e. Gesenius §132.1a, the algorithm (incorrectly) classifies noun_candidateA as syntactically autonomous and thus the top candidate for semantic headedness.\n",
    "\n",
    "What to do?\n",
    "\n",
    "The idea of a \"ranking\" system is intriguing. In such a system, cases like this receive a ranking based purely on the syntactic patterning. But we can introduce a lexical processing stage that adjusts ranks based on lexical rules. That also helps us handle complex cases such as quantifiers. \n",
    "\n",
    "Other cases may be very complicated. An example can be found in the following English noun phrase:\n",
    "\n",
    "> a. Tim drank a **cup** of coffee.<br>\n",
    "> b. \\*Tim broke a **cup** of coffee. <br>\n",
    "> <br>\n",
    "> (Croft, *Radical Construction Grammar*, 262)\n",
    "\n",
    "The reason statement b is awkward is because \"coffee\" functions here as a functional head, despite \"cup\" being in a syntactically autonomous position. This case can be analyzed as the English  [CONTAINER of] (e.g. \"cup of\") construction in English, which indicates a measure of a substance. A heads algorithm needs to be able to take into account such idiosyncrasies. That information simply has to be hardwired in.\n",
    "\n",
    "We can now confidently say that valid NP head candidates should have only the following `sp` values: `subs`, `nmpr`, `adjv`, `verb`, `prps`, with some allowances made for `prde`."
   ]
  },
  {
   "cell_type": "code",
   "execution_count": 12,
   "metadata": {},
   "outputs": [],
   "source": [
    "cand_sps = {'subs', 'nmpr', 'verb', 'adjv', 'prps', 'prde'}"
   ]
  },
  {
   "cell_type": "markdown",
   "metadata": {},
   "source": [
    "\n",
    "\n",
    "\n",
    "\n",
    "**It's time to define a custom set of quantifiers and idiosyncratic heads.** All of these values are taken from the [notebook](https://nbviewer.jupyter.org/github/ETCBC/heads/blob/master/phrase_heads.ipynb) that utilizes subphrase relations."
   ]
  },
  {
   "cell_type": "markdown",
   "metadata": {},
   "source": [
    "### Machinery\n",
    "\n",
    "We could use some machinery to do the hard work of looking in and around a node. In the older approach we used TF search templates. But these are not very efficient at scale, and they are always bound by the limits of the query language. I take another approach here: a class which, when called, can give all sorts of contextual information about any node which is fed in."
   ]
  },
  {
   "cell_type": "code",
   "execution_count": 15,
   "metadata": {},
   "outputs": [],
   "source": [
    "class Positions:\n",
    "    '''\n",
    "    For a given node, provides access to nodes\n",
    "    that are (+/-)N positions away in terms of \n",
    "    node adjacency within a given context.\n",
    "    The context must be a nodeType that is larger\n",
    "    than the supplied node.\n",
    "    '''\n",
    "    \n",
    "    def __init__(self, n, context):\n",
    "        self.n = n\n",
    "        self.thisotype = F.otype.v(n)\n",
    "        self.context = self.get_context(context)\n",
    "    \n",
    "    def get(self, position, features=None):\n",
    "        '''\n",
    "        Get a node (+/-)N positions away, \n",
    "        with an option to get values for specified features.\n",
    "        '''\n",
    "        \n",
    "        positions = set(L.d(self.context, self.thisotype))\n",
    "        \n",
    "        if position < 0:\n",
    "            method = L.p\n",
    "        else:\n",
    "            method = L.n\n",
    "            \n",
    "        get_pos = self.n\n",
    "        for count in range(0, abs(position)):\n",
    "            get_pos = Getter(method(get_pos, self.thisotype))[0]\n",
    "        \n",
    "        # return None, empty string, or empty set if beyond boundaries\n",
    "        if get_pos not in positions:\n",
    "            if not features:\n",
    "                return None\n",
    "            elif len(features.split())==1:\n",
    "                return ''\n",
    "            else:\n",
    "                return set()\n",
    "        \n",
    "        # simple node return\n",
    "        if not features:\n",
    "            return get_pos\n",
    "        \n",
    "        # give single feature\n",
    "        if len(features.split())==1:\n",
    "            return Fs(features).v(get_pos)\n",
    "        \n",
    "        # give pl features\n",
    "        elif features:\n",
    "            feats = set()\n",
    "            for f in features.split():\n",
    "                feats.add(Fs(f).v(get_pos))\n",
    "            return feats\n",
    "    \n",
    "    def get_context(self, otype):\n",
    "        '''\n",
    "        Returns a requested context node.\n",
    "        '''\n",
    "        if otypeRank[self.thisotype] > otypeRank[otype]:\n",
    "            raise Exception('Provided context is smaller than the provided node!')\n",
    "        else:\n",
    "            return Getter(L.u(self.n, otype))[0]"
   ]
  },
  {
   "cell_type": "code",
   "execution_count": 16,
   "metadata": {},
   "outputs": [],
   "source": [
    "custom_quants = set()\n",
    "custom_quants |= set(F.ls.s('card')) & set(F.otype.s('word'))\n",
    "custom_quants |= set(F.ls.s('ordn')) & set(F.otype.s('word'))\n",
    "\n",
    "quant_lexs = '|'.join(['KL/', 'M<V/', 'JTR/',\n",
    "                         'M<FR/', 'XYJ/', '<FRWN/',\n",
    "                         'C>R=/', 'MSPR/', 'RB/', 'RB=/',\n",
    "                         'XMJCJT/'])\n",
    "custom_quants |= set(A.search(f'word lex={quant_lexs}', shallow=True, silent=True))\n",
    "\n",
    "# for the Hebrew idiom: בנ + quantifier for age\n",
    "for w in set(F.otype.s('word')) & set(F.lex.s('BN/')):\n",
    "    pos = Positions(w, 'phrase_atom').get\n",
    "    if all([F.ls.v(pos(1)) == 'card',\n",
    "            F.st.v(w) == 'c',\n",
    "            F.nu.v(w) == 'sg']):\n",
    "        custom_quants.add(w)\n",
    "        \n",
    "len(custom_quants)\n",
    "\n",
    "custom_preps = set()"
   ]
  },
  {
   "cell_type": "markdown",
   "metadata": {},
   "source": [
    "#### Disjunctive Accents\n",
    "\n",
    "Data needed to process whether a word contains a disjunctive accent or not."
   ]
  },
  {
   "cell_type": "code",
   "execution_count": 309,
   "metadata": {},
   "outputs": [],
   "source": [
    "dis21 = {\n",
    "    \n",
    "    'atnach': {'regex':'.*\\u0591', 'etcbc':'92'},\n",
    "#    'tiphchah': {'regex':'.*\\u0596', 'etcbc':'73'},\n",
    "    'zaqeph qaton': {'regex':'.*\\u0594', 'etcbc':'80'},\n",
    "    'zaqeph gadol': {'regex':'.*\\u0595', 'etcbc':'85'},\n",
    "    'segolta': {'regex':'.*\\u0592', 'etcbc':'01'},\n",
    "    'shalshelet': {'regex':'.*\\u0593', 'etcbc':'65'},\n",
    "    'rebia': {'regex':'.*\\u0597', 'etcbc':'81'},\n",
    "    'zarqa': {'regex':'.*\\u05AE', 'etcbc':'02'},\n",
    "    'pashta': {'regex':'.*\\u0599', 'etcbc':'03'},\n",
    "    'yetiv': {'regex':'.*\\u059A', 'etcbc':'10'}, \n",
    "    'tebir': {'regex':'.*\\u059B', 'etcbc':'91'},\n",
    "    'geresh': {'regex':'.*\\u059C', 'etcbc':'61'},\n",
    "    'gershayim': {'regex':'.*\\u059E', 'etcbc':'62'},\n",
    "    'legarmeh': {'regex':'.*\\u05A3.*\\u05C0', 'etcbc':'[74...05]'},\n",
    "    'pazer qaton': {'regex':'.*\\u05A1', 'etcbc':'83'},\n",
    "    'pazer gadol': {'regex':'.*\\u059F', 'etcbc':'84'},\n",
    "    'telisha gedola': {'regex':'.*\\u05A0', 'etcbc':'14|44'},\n",
    "}\n",
    "\n",
    "dis3 = {\n",
    "    'atnach': {'regex':'.*\\u0591', 'etcbc':'92'},\n",
    "    'rebia': {'regex':'.*\\u0597', 'etcbc':'81'},\n",
    "    'oleh weyored': {'regex':'.*\\u05AB.*\\u05A5', 'etcbc':'.*60.*71'},\n",
    "    'rebia mugrash': {'regex':'.*\\u059D.*\\u0597', 'etcbc':'.*11.*81'},\n",
    "    'shalshelet gedolah': {'regex':'.*\\u0593.*\\u05C0', 'etcbc':'[65...05]'},\n",
    "    'tsinor': {'regex':'.*\\u0598', 'etcbc':'82'},\n",
    "    'dechi': {'regex':'.*\\u05AD', 'etcbc':'13'},\n",
    "    'pazer': {'regex':'.*\\u05A1', 'etcbc':'83'},\n",
    "    'mehuppak legarmeh': {'regex':'.*\\u05A4.*\\u05C0', 'etcbc':'[70...05]'},\n",
    "    'azla legarmeh': {'regex':'.*\\u05A8.*\\u05C0', 'etcbc':'[63|33...05]'}\n",
    "}\n",
    "\n",
    "# prepare book 2 conjunction regex mapping\n",
    "dis21_re = '|'.join(d['regex'] for n, d in dis21.items())\n",
    "dis3_re = '|'.join(d['regex'] for n, d in dis3.items())\n",
    "book2dis = {}\n",
    "for b in F.otype.s('book'):\n",
    "    if F.book.v(b) in ('Psalmi', 'Job', 'Proverbia'):\n",
    "        book2dis[b] = dis3_re\n",
    "    else:\n",
    "        book2dis[b] = dis21_re"
   ]
  },
  {
   "cell_type": "code",
   "execution_count": 310,
   "metadata": {},
   "outputs": [],
   "source": [
    "class Getter:\n",
    "    '''\n",
    "    A class to safely index beyond the limits of\n",
    "    an iterable with a default returned.\n",
    "    Like dict.get but for iterables.\n",
    "    '''\n",
    "    \n",
    "    def __init__(self, iterable, default=None):\n",
    "        self.iterable = iterable\n",
    "        self.default = default\n",
    "        \n",
    "    def __iter__(self):\n",
    "        for i in self.iterable:\n",
    "            yield i\n",
    "        \n",
    "    def __getitem__(self, key):\n",
    "        try:\n",
    "            return self.iterable[key]\n",
    "        except IndexError:\n",
    "            return self.default\n",
    "        \n",
    "    def index(self, i):\n",
    "        try:\n",
    "            return self.iterable.index(i)\n",
    "        except ValueError:\n",
    "            return self.default\n",
    "\n",
    "def clear(iterable):\n",
    "    '''\n",
    "    Clears iterables of any \n",
    "    False or Nonetype objects.\n",
    "    '''\n",
    "    return [i for i in iterable if i]\n",
    "    \n",
    "class Context:\n",
    "    '''\n",
    "    Provides access to a nominal's (non-verb/prep) \n",
    "    surrounding grammatical context based on \n",
    "    adjacency or its neighborhod. The algorithm \n",
    "    assumes that the provided noun has already\n",
    "    been checked for nominal status (e.g. in the \n",
    "    case of verbs and participles). The algorithm \n",
    "    assumes no hard boundaries between noun and \n",
    "    adjective classes, on the basis that nouns can \n",
    "    often serve multiple roles. As such, a nominal can\n",
    "    govern (\"mom\") or be governed (\"kid\") depending\n",
    "    on its use. Thus, symmetrical data is provided\n",
    "    in the form of self.mom and self.kid for all\n",
    "    contexts that are queried, wherein a mom is\n",
    "    governing this word, and a kid is governed.\n",
    "    '''\n",
    "    \n",
    "    def __init__(self, n):\n",
    "        p = Positions(n, 'phrase_atom').get\n",
    "        self.mom = collections.defaultdict(list)\n",
    "        self.kid = collections.defaultdict(list)\n",
    "        \n",
    "        # RETRIEVE RELATIONSHIPS\n",
    "        \n",
    "        # ** construct patterns **\n",
    "\n",
    "        # -- mom\n",
    "        const_m = clear([\n",
    "            \n",
    "            (p(-1) \n",
    "                if p(-1,'st') == 'c'\n",
    "                else None),\n",
    "\n",
    "            (p(-2) \n",
    "                if p(-2,'st') == 'c'\n",
    "                and p(-1,'sp') == 'art'\n",
    "                else None),\n",
    "        ])\n",
    "        \n",
    "        \n",
    "        # -- kid\n",
    "        const_k = clear([\n",
    "            \n",
    "            (p(1) \n",
    "                if p(0,'st') == 'c'\n",
    "                and p(1,'sp') != 'art'\n",
    "                else None),\n",
    "\n",
    "            (p(2) \n",
    "                if p(0,'st') == 'c' \n",
    "                and p(1,'sp') == 'art'\n",
    "                else None),\n",
    "        ])\n",
    "        \n",
    "        self.mom['const'] = Getter(const_m)[0]\n",
    "        self.kid['const'] = Getter(const_k)[0]\n",
    "    \n",
    "        # ** adjective patterns **\n",
    "        \n",
    "        # -- mom\n",
    "        adjv_m = clear([\n",
    "            \n",
    "            (p(-1) \n",
    "                if p(0, 'sp') == 'adjv'\n",
    "                and p(-1, 'nu') == p(0,'nu')\n",
    "                and p(-1, 'st') == 'a'\n",
    "                else None),\n",
    "\n",
    "            (p(-1) \n",
    "                if p(-1,'sp vt').issubset({'verb', 'ptcp', 'ptca'})\n",
    "                and p(-1,'nu') == p(0,'nu')\n",
    "                and p(0,'st') == 'a'\n",
    "                else None),\n",
    "\n",
    "            (p(-2) \n",
    "                if p(-1,'sp') == 'art'\n",
    "                and p(-2,'sp') in {'subs','nmpr','adjv'}\n",
    "                and p(-2,'nu') == p(0,'nu')\n",
    "                and p(-2,'st') == 'a'\n",
    "                else None),\n",
    "        ])\n",
    "        \n",
    "        # -- kid\n",
    "        adjv_k = clear([\n",
    "            \n",
    "            (p(1)\n",
    "                if p(1,'sp') == 'adjv'\n",
    "                and p(1,'nu') == p(0,'nu')\n",
    "                and p(0,'st') == 'a'\n",
    "                else None),\n",
    "\n",
    "            (p(1)\n",
    "                if p(1,'sp vt').issubset({'verb', 'ptcp', 'ptca'})\n",
    "                and p(1,'nu') == p(0,'nu')\n",
    "                and p(0,'st') == 'a'\n",
    "                else None),\n",
    "\n",
    "            (p(2)\n",
    "                if p(1,'sp') == 'art'\n",
    "                and p(2,'sp') in ('subs','nmpr','adjv')\n",
    "                and p(2,'nu') == p(0,'nu')\n",
    "                and p(0,'st') == 'a'\n",
    "                else None),\n",
    "        ])\n",
    "        \n",
    "        self.mom['adjv'] = Getter(adjv_m)[0]\n",
    "        self.kid['adjv'] = Getter(adjv_k)[0]\n",
    "        \n",
    "        # ** preposition patterns (mother only) **\n",
    "        \n",
    "        prep_m = clear([ \n",
    "            \n",
    "            (p(-1)\n",
    "                if p(-1,'sp') == 'prep' or p(-1) in custom_preps\n",
    "                else None),\n",
    "\n",
    "            (p(-2)\n",
    "                if p(-1,'sp') == 'art'\n",
    "                and p(-2,'sp') == 'prep' or p(-2) in custom_preps\n",
    "                else None),\n",
    "        ])\n",
    "        \n",
    "        self.mom['prep'] = Getter(prep_m)[0]\n",
    "    \n",
    "        # ** coordinate patterns **\n",
    "        # NB: before == mom; after == kid\n",
    "        \n",
    "        # -- mom\n",
    "        coord_m = clear([\n",
    "            \n",
    "            (p(-2) \n",
    "                if p(-1,'sp') == 'conj'\n",
    "                else None),\n",
    "\n",
    "            (p(-3)\n",
    "                if p(-1,'sp') == 'art'\n",
    "                and p(-2,'sp') == 'conj'\n",
    "                else None),\n",
    "\n",
    "            (p(-3)\n",
    "                if p(-1,'sp') == 'prep'\n",
    "                and p(-2,'sp') == 'conj'\n",
    "                else None),\n",
    "\n",
    "            (p(-4)\n",
    "                if p(-1,'sp') == 'art'\n",
    "                and p(-2,'sp') == 'prep' or p(-2) in custom_preps\n",
    "                and p(-3,'sp') == 'conj'\n",
    "                else None),\n",
    "        ])\n",
    "        \n",
    "        # -- kid\n",
    "        coord_k = clear([\n",
    "            \n",
    "            (p(2)\n",
    "                if p(1,'sp') == 'conj'\n",
    "                else None),\n",
    "            \n",
    "            (p(3)\n",
    "                if p(1,'sp') == 'conj'\n",
    "                and p(2, 'sp') == 'art'\n",
    "                else None),\n",
    "            \n",
    "            (p(3)\n",
    "                if p(1,'sp') == 'conj'\n",
    "                and p(2,'sp') == 'prep' or p(2) in custom_preps\n",
    "                and p(3,'sp') != 'art'\n",
    "                else None),\n",
    "            \n",
    "            (p(4)\n",
    "                if p(1,'sp') == 'conj'\n",
    "                and p(2,'sp') == 'prep' or p(2) in custom_preps\n",
    "                and p(3,'sp') == 'art'\n",
    "                else None),\n",
    "            \n",
    "        ])\n",
    "        \n",
    "        self.mom['coord'] = Getter(coord_m)[0]\n",
    "        self.kid['coord'] = Getter(coord_k)[0]\n",
    "    \n",
    "        # ** quantifier patterns **\n",
    "        \n",
    "        # -- mom\n",
    "        quant_m = clear([\n",
    "            \n",
    "            (p(-1)\n",
    "                if p(0) in custom_quants\n",
    "                and p(-1) not in custom_quants\n",
    "                and p(-1,'sp') in {'subs', 'adjv'}\n",
    "                else None),\n",
    "            \n",
    "            (p(-2)\n",
    "                if p(0) in custom_quants\n",
    "                and p(-2) not in custom_quants\n",
    "                and p(-1,'sp') == 'art'\n",
    "                else None),\n",
    "            \n",
    "            (p(1) \n",
    "                if p(0) in custom_quants\n",
    "                and p(1) not in custom_quants\n",
    "                and p(1,'sp') in {'subs', 'adjv'}\n",
    "                else None),\n",
    "            \n",
    "            (p(2)\n",
    "                if p(0) in custom_quants\n",
    "                and p(2) not in custom_quants\n",
    "                and p(1,'sp') == 'art'\n",
    "                else None),\n",
    "        \n",
    "        ])\n",
    "        \n",
    "        # -- kid\n",
    "        quant_k = clear([\n",
    "            \n",
    "            (p(1) \n",
    "                if p(0) not in custom_quants\n",
    "                and p(1) in custom_quants\n",
    "                and p(1,'sp') in {'subs', 'adjv'}\n",
    "                else None),\n",
    "\n",
    "            (p(2) \n",
    "                if p(0) not in custom_quants\n",
    "                and p(2) in custom_quants\n",
    "                and p(1,'sp') == 'art'\n",
    "                and p(2,'sp') in {'subs', 'adjv'}\n",
    "                else None),\n",
    "\n",
    "            (p(-1) \n",
    "                if p(0) not in custom_quants\n",
    "                and p(-1) in custom_quants\n",
    "                and p(-1,'sp') in {'subs', 'adjv'}\n",
    "                else None),\n",
    "\n",
    "            (p(-2) \n",
    "                if p(0) not in custom_quants\n",
    "                and p(-2) in custom_quants\n",
    "                and p(-1,'sp') == 'art'\n",
    "                and p(-2,'sp') in {'subs', 'adjv'}\n",
    "                else None),\n",
    "            \n",
    "        ])\n",
    "        \n",
    "        self.mom['quant'] = Getter(quant_m)[0]\n",
    "        self.kid['quant'] = Getter(quant_k)[0]"
   ]
  },
  {
   "cell_type": "code",
   "execution_count": 18,
   "metadata": {},
   "outputs": [],
   "source": [
    "p = Positions(647, 'phrase_atom').get # test"
   ]
  },
  {
   "cell_type": "markdown",
   "metadata": {},
   "source": [
    "### Testing"
   ]
  },
  {
   "cell_type": "code",
   "execution_count": 17,
   "metadata": {},
   "outputs": [],
   "source": [
    "t = Context(66227)"
   ]
  },
  {
   "cell_type": "code",
   "execution_count": 18,
   "metadata": {},
   "outputs": [
    {
     "data": {
      "text/plain": [
       "66226"
      ]
     },
     "execution_count": 18,
     "metadata": {},
     "output_type": "execute_result"
    }
   ],
   "source": [
    "t.kid['quant']"
   ]
  },
  {
   "cell_type": "code",
   "execution_count": 307,
   "metadata": {},
   "outputs": [
    {
     "data": {
      "text/plain": [
       "<re.Match object; span=(0, 8), match='שָׁבֻעִ֖'>"
      ]
     },
     "execution_count": 307,
     "metadata": {},
     "output_type": "execute_result"
    }
   ],
   "source": [
    "re.match(dis21_re, T.text(376501))"
   ]
  },
  {
   "cell_type": "code",
   "execution_count": 308,
   "metadata": {},
   "outputs": [
    {
     "name": "stdout",
     "output_type": "stream",
     "text": [
      "ש 0x5e9\n",
      "\n",
      "ׁ 0x5c1\n",
      "\n",
      "ָ 0x5b8\n",
      "\n",
      "ב 0x5d1\n",
      "\n",
      "ֻ 0x5bb\n",
      "\n",
      "ע 0x5e2\n",
      "\n",
      "ִ 0x5b4\n",
      "\n",
      "֖ 0x596\n",
      "\n",
      "י 0x5d9\n",
      "\n",
      "ם 0x5dd\n",
      "\n",
      "  0x20\n",
      "\n"
     ]
    }
   ],
   "source": [
    "for c in T.text(376501):\n",
    "    print(c, hex(ord(c)))\n",
    "    print()"
   ]
  },
  {
   "cell_type": "code",
   "execution_count": 290,
   "metadata": {},
   "outputs": [
    {
     "data": {
      "text/plain": [
       "'.*֣.*׀'"
      ]
     },
     "execution_count": 290,
     "metadata": {},
     "output_type": "execute_result"
    }
   ],
   "source": [
    "dis21[\"legarmeh\"][\"regex\"]"
   ]
  },
  {
   "cell_type": "code",
   "execution_count": 289,
   "metadata": {},
   "outputs": [
    {
     "name": "stdout",
     "output_type": "stream",
     "text": [
      "  0.58s 0 results\n"
     ]
    },
    {
     "data": {
      "text/plain": [
       "False"
      ]
     },
     "execution_count": 289,
     "metadata": {},
     "output_type": "execute_result"
    }
   ],
   "source": [
    "236884 in set(A.search(f'word g_word_utf8~{dis21[\"legarmeh\"][\"regex\"]}', shallow=True))"
   ]
  },
  {
   "cell_type": "code",
   "execution_count": 311,
   "metadata": {},
   "outputs": [
    {
     "name": "stdout",
     "output_type": "stream",
     "text": [
      "  2.89s 146 results\n"
     ]
    }
   ],
   "source": [
    "t = A.search(f'''\n",
    "\n",
    "book book#Psalmi|Job|Proverbia\n",
    "    phrase_atom\n",
    "        word pdp=subs st=a ls#card g_word_utf8~{dis21_re}\n",
    "        <: word sp=subs ls#card st=a \n",
    "''')"
   ]
  },
  {
   "cell_type": "code",
   "execution_count": 312,
   "metadata": {},
   "outputs": [
    {
     "data": {
      "text/html": [
       "<table>\n",
       "<tr class=\"tf\">\n",
       "  <th class=\"tf\">n</th><th class=\"tf\">p</th>\n",
       "  <th class=\"tf\">book</th><th>phrase_atom</th><th>word</th><th>word</th>\n",
       "</tr>\n",
       "\n",
       "<tr class=\"tf\"><td class=\"tf\">1</td><td class=\"tf\"> <a href=\"https://shebanq.ancient-data.org/hebrew/text?book=Daniel&amp;chapter=2&amp;verse=27&amp;version=c&amp;mr=m&amp;qw=q&amp;tp=txt_p&amp;tr=hb&amp;wget=v&amp;qget=v&amp;nget=vt\" title=\"show this passage in SHEBANQ\" sec=\"Daniel 2:27\">Daniel 2:27</a></td><td class=\"tf\"><span class=\"trb\"><a href=\"https://shebanq.ancient-data.org/hebrew/text?book=Daniel&amp;chapter=1&amp;verse=1&amp;version=c&amp;mr=m&amp;qw=q&amp;tp=txt_p&amp;tr=hb&amp;wget=v&amp;qget=v&amp;nget=vt\" title=\"Daniel\" sec=\"Daniel\"></a></span> <i>426619</i> </td><td class=\"tf\"><span class=\"hb\">חַכִּימִ֣ין <span  class=\"hl\" >אָֽשְׁפִ֗ין </span><span  class=\"hl\" >חַרְטֻמִּין֙ </span>גָּזְרִ֔ין </span> <i>1141276</i> </td><td class=\"tf\"><span class=\"hb\"><span  class=\"hl\" >אָֽשְׁפִ֗ין </span></span> <i>371087</i> </td><td class=\"tf\"><span class=\"hb\"><span  class=\"hl\" >חַרְטֻמִּין֙ </span></span> <i>371088</i> </td></tr>\n",
       "<tr class=\"tf\"><td class=\"tf\">2</td><td class=\"tf\"> <a href=\"https://shebanq.ancient-data.org/hebrew/text?book=Deuteronomium&amp;chapter=5&amp;verse=21&amp;version=c&amp;mr=m&amp;qw=q&amp;tp=txt_p&amp;tr=hb&amp;wget=v&amp;qget=v&amp;nget=vt\" title=\"show this passage in SHEBANQ\" sec=\"Deuteronomy 5:21\">Deuteronomy 5:21</a></td><td class=\"tf\"><span class=\"trb\"><a href=\"https://shebanq.ancient-data.org/hebrew/text?book=Deuteronomium&amp;chapter=1&amp;verse=1&amp;version=c&amp;mr=m&amp;qw=q&amp;tp=txt_p&amp;tr=hb&amp;wget=v&amp;qget=v&amp;nget=vt\" title=\"Deuteronomy\" sec=\"Deuteronomy\"></a></span> <i>426589</i> </td><td class=\"tf\"><span class=\"hb\">שָׂדֵ֜הוּ וְעַבְדֹּ֤ו וַ<span  class=\"hl\" >אֲמָתֹו֙ </span><span  class=\"hl\" >שֹׁורֹ֣ו </span>וַחֲמֹרֹ֔ו וְכֹ֖ל </span> <i>962646</i> </td><td class=\"tf\"><span class=\"hb\"><span  class=\"hl\" >אֲמָתֹו֙ </span></span> <i>96663</i> </td><td class=\"tf\"><span class=\"hb\"><span  class=\"hl\" >שֹׁורֹ֣ו </span></span> <i>96664</i> </td></tr>\n",
       "<tr class=\"tf\"><td class=\"tf\">3</td><td class=\"tf\"> <a href=\"https://shebanq.ancient-data.org/hebrew/text?book=Chronica_II&amp;chapter=28&amp;verse=8&amp;version=c&amp;mr=m&amp;qw=q&amp;tp=txt_p&amp;tr=hb&amp;wget=v&amp;qget=v&amp;nget=vt\" title=\"show this passage in SHEBANQ\" sec=\"2_Chronicles 28:8\">2_Chronicles 28:8</a></td><td class=\"tf\"><span class=\"trb\"><a href=\"https://shebanq.ancient-data.org/hebrew/text?book=Chronica_II&amp;chapter=1&amp;verse=1&amp;version=c&amp;mr=m&amp;qw=q&amp;tp=txt_p&amp;tr=hb&amp;wget=v&amp;qget=v&amp;nget=vt\" title=\"2_Chronicles\" sec=\"2_Chronicles\"></a></span> <i>426623</i> </td><td class=\"tf\"><span class=\"hb\">מָאתַ֣יִם אֶ֗לֶף <span  class=\"hl\" >נָשִׁים֙ </span><span  class=\"hl\" >בָּנִ֣ים </span>וּבָנֹ֔ות </span> <i>1168966</i> </td><td class=\"tf\"><span class=\"hb\"><span  class=\"hl\" >נָשִׁים֙ </span></span> <i>420488</i> </td><td class=\"tf\"><span class=\"hb\"><span  class=\"hl\" >בָּנִ֣ים </span></span> <i>420489</i> </td></tr>\n",
       "<tr class=\"tf\"><td class=\"tf\">4</td><td class=\"tf\"> <a href=\"https://shebanq.ancient-data.org/hebrew/text?book=Esther&amp;chapter=9&amp;verse=28&amp;version=c&amp;mr=m&amp;qw=q&amp;tp=txt_p&amp;tr=hb&amp;wget=v&amp;qget=v&amp;nget=vt\" title=\"show this passage in SHEBANQ\" sec=\"Esther 9:28\">Esther 9:28</a></td><td class=\"tf\"><span class=\"trb\"><a href=\"https://shebanq.ancient-data.org/hebrew/text?book=Esther&amp;chapter=1&amp;verse=1&amp;version=c&amp;mr=m&amp;qw=q&amp;tp=txt_p&amp;tr=hb&amp;wget=v&amp;qget=v&amp;nget=vt\" title=\"Esther\" sec=\"Esther\"></a></span> <i>426618</i> </td><td class=\"tf\"><span class=\"hb\">בְּכָל־דֹּ֣ור וָ<span  class=\"hl\" >דֹ֗ור </span><span  class=\"hl\" >מִשְׁפָּחָה֙ </span>וּמִשְׁפָּחָ֔ה מְדִינָ֥ה וּמְדִינָ֖ה וְעִ֣יר וָעִ֑יר </span> <i>1140555</i> </td><td class=\"tf\"><span class=\"hb\"><span  class=\"hl\" >דֹ֗ור </span></span> <i>369883</i> </td><td class=\"tf\"><span class=\"hb\"><span  class=\"hl\" >מִשְׁפָּחָה֙ </span></span> <i>369884</i> </td></tr>\n",
       "<tr class=\"tf\"><td class=\"tf\">5</td><td class=\"tf\"> <a href=\"https://shebanq.ancient-data.org/hebrew/text?book=Ezechiel&amp;chapter=27&amp;verse=27&amp;version=c&amp;mr=m&amp;qw=q&amp;tp=txt_p&amp;tr=hb&amp;wget=v&amp;qget=v&amp;nget=vt\" title=\"show this passage in SHEBANQ\" sec=\"Ezekiel 27:27\">Ezekiel 27:27</a></td><td class=\"tf\"><span class=\"trb\"><a href=\"https://shebanq.ancient-data.org/hebrew/text?book=Ezechiel&amp;chapter=1&amp;verse=1&amp;version=c&amp;mr=m&amp;qw=q&amp;tp=txt_p&amp;tr=hb&amp;wget=v&amp;qget=v&amp;nget=vt\" title=\"Ezekiel\" sec=\"Ezekiel\"></a></span> <i>426598</i> </td><td class=\"tf\"><span class=\"hb\">הֹונֵךְ֙ וְעִזְבֹונַ֔יִךְ <span  class=\"hl\" >מַעֲרָבֵ֕ךְ </span><span  class=\"hl\" >מַלָּחַ֖יִךְ </span>וְחֹבְלָ֑יִךְ מַחֲזִיקֵ֣י בִדְקֵ֣ך וְֽעֹרְבֵ֣י מַ֠עֲרָבֵךְ וְכָל־אַנְשֵׁ֨י מִלְחַמְתֵּ֜ךְ </span> <i>1078127</i> </td><td class=\"tf\"><span class=\"hb\"><span  class=\"hl\" >מַעֲרָבֵ֕ךְ </span></span> <i>278212</i> </td><td class=\"tf\"><span class=\"hb\"><span  class=\"hl\" >מַלָּחַ֖יִךְ </span></span> <i>278213</i> </td></tr>\n",
       "<tr class=\"tf\"><td class=\"tf\">6</td><td class=\"tf\"> <a href=\"https://shebanq.ancient-data.org/hebrew/text?book=Esra&amp;chapter=6&amp;verse=9&amp;version=c&amp;mr=m&amp;qw=q&amp;tp=txt_p&amp;tr=hb&amp;wget=v&amp;qget=v&amp;nget=vt\" title=\"show this passage in SHEBANQ\" sec=\"Ezra 6:9\">Ezra 6:9</a></td><td class=\"tf\"><span class=\"trb\"><a href=\"https://shebanq.ancient-data.org/hebrew/text?book=Esra&amp;chapter=1&amp;verse=1&amp;version=c&amp;mr=m&amp;qw=q&amp;tp=txt_p&amp;tr=hb&amp;wget=v&amp;qget=v&amp;nget=vt\" title=\"Ezra\" sec=\"Ezra\"></a></span> <i>426620</i> </td><td class=\"tf\"><span class=\"hb\"><span  class=\"hl\" >חִנְטִ֞ין </span><span  class=\"hl\" >מְלַ֣ח׀ </span>חֲמַ֣ר וּמְשַׁ֗ח </span> <i>1147247</i> </td><td class=\"tf\"><span class=\"hb\"><span  class=\"hl\" >חִנְטִ֞ין </span></span> <i>380631</i> </td><td class=\"tf\"><span class=\"hb\"><span  class=\"hl\" >מְלַ֣ח׀ </span></span> <i>380632</i> </td></tr>\n",
       "<tr class=\"tf\"><td class=\"tf\">7</td><td class=\"tf\"> <a href=\"https://shebanq.ancient-data.org/hebrew/text?book=Numeri&amp;chapter=31&amp;verse=50&amp;version=c&amp;mr=m&amp;qw=q&amp;tp=txt_p&amp;tr=hb&amp;wget=v&amp;qget=v&amp;nget=vt\" title=\"show this passage in SHEBANQ\" sec=\"Numbers 31:50\">Numbers 31:50</a></td><td class=\"tf\"><span class=\"trb\"><a href=\"https://shebanq.ancient-data.org/hebrew/text?book=Numeri&amp;chapter=1&amp;verse=1&amp;version=c&amp;mr=m&amp;qw=q&amp;tp=txt_p&amp;tr=hb&amp;wget=v&amp;qget=v&amp;nget=vt\" title=\"Numbers\" sec=\"Numbers\"></a></span> <i>426588</i> </td><td class=\"tf\"><span class=\"hb\">כְלִֽי־<span  class=\"hl\" >זָהָב֙ </span><span  class=\"hl\" >אֶצְעָדָ֣ה </span>וְצָמִ֔יד טַבַּ֖עַת עָגִ֣יל וְכוּמָ֑ז </span> <i>958619</i> </td><td class=\"tf\"><span class=\"hb\"><span  class=\"hl\" >זָהָב֙ </span></span> <i>89790</i> </td><td class=\"tf\"><span class=\"hb\"><span  class=\"hl\" >אֶצְעָדָ֣ה </span></span> <i>89791</i> </td></tr>\n",
       "<tr class=\"tf\"><td class=\"tf\">8</td><td class=\"tf\"> <a href=\"https://shebanq.ancient-data.org/hebrew/text?book=Nehemia&amp;chapter=4&amp;verse=7&amp;version=c&amp;mr=m&amp;qw=q&amp;tp=txt_p&amp;tr=hb&amp;wget=v&amp;qget=v&amp;nget=vt\" title=\"show this passage in SHEBANQ\" sec=\"Nehemiah 4:7\">Nehemiah 4:7</a></td><td class=\"tf\"><span class=\"trb\"><a href=\"https://shebanq.ancient-data.org/hebrew/text?book=Nehemia&amp;chapter=1&amp;verse=1&amp;version=c&amp;mr=m&amp;qw=q&amp;tp=txt_p&amp;tr=hb&amp;wget=v&amp;qget=v&amp;nget=vt\" title=\"Nehemiah\" sec=\"Nehemiah\"></a></span> <i>426621</i> </td><td class=\"tf\"><span class=\"hb\">עִם־<span  class=\"hl\" >חַרְבֹתֵיהֶ֛ם </span><span  class=\"hl\" >רָמְחֵיהֶ֖ם </span>וְקַשְּׁתֹתֵיהֶֽם׃ </span> <i>1149728</i> </td><td class=\"tf\"><span class=\"hb\"><span  class=\"hl\" >חַרְבֹתֵיהֶ֛ם </span></span> <i>385159</i> </td><td class=\"tf\"><span class=\"hb\"><span  class=\"hl\" >רָמְחֵיהֶ֖ם </span></span> <i>385160</i> </td></tr>\n",
       "<tr class=\"tf\"><td class=\"tf\">9</td><td class=\"tf\"> <a href=\"https://shebanq.ancient-data.org/hebrew/text?book=Chronica_II&amp;chapter=31&amp;verse=5&amp;version=c&amp;mr=m&amp;qw=q&amp;tp=txt_p&amp;tr=hb&amp;wget=v&amp;qget=v&amp;nget=vt\" title=\"show this passage in SHEBANQ\" sec=\"2_Chronicles 31:5\">2_Chronicles 31:5</a></td><td class=\"tf\"><span class=\"trb\"><a href=\"https://shebanq.ancient-data.org/hebrew/text?book=Chronica_II&amp;chapter=1&amp;verse=1&amp;version=c&amp;mr=m&amp;qw=q&amp;tp=txt_p&amp;tr=hb&amp;wget=v&amp;qget=v&amp;nget=vt\" title=\"2_Chronicles\" sec=\"2_Chronicles\"></a></span> <i>426623</i> </td><td class=\"tf\"><span class=\"hb\">רֵאשִׁ֣ית <span  class=\"hl\" >דָּגָ֗ן </span><span  class=\"hl\" >תִּירֹ֤ושׁ </span>וְיִצְהָר֙ וּדְבַ֔שׁ וְכֹ֖ל תְּבוּאַ֣ת שָׂדֶ֑ה </span> <i>1170149</i> </td><td class=\"tf\"><span class=\"hb\"><span  class=\"hl\" >דָּגָ֗ן </span></span> <i>422659</i> </td><td class=\"tf\"><span class=\"hb\"><span  class=\"hl\" >תִּירֹ֤ושׁ </span></span> <i>422660</i> </td></tr>\n",
       "<tr class=\"tf\"><td class=\"tf\">10</td><td class=\"tf\"> <a href=\"https://shebanq.ancient-data.org/hebrew/text?book=Hosea&amp;chapter=6&amp;verse=9&amp;version=c&amp;mr=m&amp;qw=q&amp;tp=txt_p&amp;tr=hb&amp;wget=v&amp;qget=v&amp;nget=vt\" title=\"show this passage in SHEBANQ\" sec=\"Hosea 6:9\">Hosea 6:9</a></td><td class=\"tf\"><span class=\"trb\"><a href=\"https://shebanq.ancient-data.org/hebrew/text?book=Hosea&amp;chapter=1&amp;verse=1&amp;version=c&amp;mr=m&amp;qw=q&amp;tp=txt_p&amp;tr=hb&amp;wget=v&amp;qget=v&amp;nget=vt\" title=\"Hosea\" sec=\"Hosea\"></a></span> <i>426599</i> </td><td class=\"tf\"><span class=\"hb\">כְחַכֵּ֨י <span  class=\"hl\" >אִ֜ישׁ </span><span  class=\"hl\" >גְּדוּדִ֗ים </span></span> <i>1086524</i> </td><td class=\"tf\"><span class=\"hb\"><span  class=\"hl\" >אִ֜ישׁ </span></span> <i>292337</i> </td><td class=\"tf\"><span class=\"hb\"><span  class=\"hl\" >גְּדוּדִ֗ים </span></span> <i>292338</i> </td></tr>\n",
       "<tr class=\"tf\"><td class=\"tf\">11</td><td class=\"tf\"> <a href=\"https://shebanq.ancient-data.org/hebrew/text?book=Numeri&amp;chapter=31&amp;verse=50&amp;version=c&amp;mr=m&amp;qw=q&amp;tp=txt_p&amp;tr=hb&amp;wget=v&amp;qget=v&amp;nget=vt\" title=\"show this passage in SHEBANQ\" sec=\"Numbers 31:50\">Numbers 31:50</a></td><td class=\"tf\"><span class=\"trb\"><a href=\"https://shebanq.ancient-data.org/hebrew/text?book=Numeri&amp;chapter=1&amp;verse=1&amp;version=c&amp;mr=m&amp;qw=q&amp;tp=txt_p&amp;tr=hb&amp;wget=v&amp;qget=v&amp;nget=vt\" title=\"Numbers\" sec=\"Numbers\"></a></span> <i>426588</i> </td><td class=\"tf\"><span class=\"hb\">כְלִֽי־זָהָב֙ אֶצְעָדָ֣ה וְ<span  class=\"hl\" >צָמִ֔יד </span><span  class=\"hl\" >טַבַּ֖עַת </span>עָגִ֣יל וְכוּמָ֑ז </span> <i>958619</i> </td><td class=\"tf\"><span class=\"hb\"><span  class=\"hl\" >צָמִ֔יד </span></span> <i>89793</i> </td><td class=\"tf\"><span class=\"hb\"><span  class=\"hl\" >טַבַּ֖עַת </span></span> <i>89794</i> </td></tr>\n",
       "<tr class=\"tf\"><td class=\"tf\">12</td><td class=\"tf\"> <a href=\"https://shebanq.ancient-data.org/hebrew/text?book=Numeri&amp;chapter=29&amp;verse=15&amp;version=c&amp;mr=m&amp;qw=q&amp;tp=txt_p&amp;tr=hb&amp;wget=v&amp;qget=v&amp;nget=vt\" title=\"show this passage in SHEBANQ\" sec=\"Numbers 29:15\">Numbers 29:15</a></td><td class=\"tf\"><span class=\"trb\"><a href=\"https://shebanq.ancient-data.org/hebrew/text?book=Numeri&amp;chapter=1&amp;verse=1&amp;version=c&amp;mr=m&amp;qw=q&amp;tp=txt_p&amp;tr=hb&amp;wget=v&amp;qget=v&amp;nget=vt\" title=\"Numbers\" sec=\"Numbers\"></a></span> <i>426588</i> </td><td class=\"tf\"><span class=\"hb\"><span  class=\"hl\" >עִשָּׂרֹוׄנ֙ </span><span  class=\"hl\" >עִשָּׂרֹ֔ון </span></span> <i>957863</i> </td><td class=\"tf\"><span class=\"hb\"><span  class=\"hl\" >עִשָּׂרֹוׄנ֙ </span></span> <i>88140</i> </td><td class=\"tf\"><span class=\"hb\"><span  class=\"hl\" >עִשָּׂרֹ֔ון </span></span> <i>88141</i> </td></tr>\n",
       "<tr class=\"tf\"><td class=\"tf\">13</td><td class=\"tf\"> <a href=\"https://shebanq.ancient-data.org/hebrew/text?book=Jeremia&amp;chapter=32&amp;verse=32&amp;version=c&amp;mr=m&amp;qw=q&amp;tp=txt_p&amp;tr=hb&amp;wget=v&amp;qget=v&amp;nget=vt\" title=\"show this passage in SHEBANQ\" sec=\"Jeremiah 32:32\">Jeremiah 32:32</a></td><td class=\"tf\"><span class=\"trb\"><a href=\"https://shebanq.ancient-data.org/hebrew/text?book=Jeremia&amp;chapter=1&amp;verse=1&amp;version=c&amp;mr=m&amp;qw=q&amp;tp=txt_p&amp;tr=hb&amp;wget=v&amp;qget=v&amp;nget=vt\" title=\"Jeremiah\" sec=\"Jeremiah\"></a></span> <i>426597</i> </td><td class=\"tf\"><span class=\"hb\">הֵ֤מָּה מַלְכֵיהֶם֙ <span  class=\"hl\" >שָֽׂרֵיהֶ֔ם </span><span  class=\"hl\" >כֹּהֲנֵיהֶ֖ם </span>וּנְבִֽיאֵיהֶ֑ם וְאִ֣ישׁ יְהוּדָ֔ה וְיֹשְׁבֵ֖י יְרוּשָׁלִָֽם׃ </span> <i>1061564</i> </td><td class=\"tf\"><span class=\"hb\"><span  class=\"hl\" >שָֽׂרֵיהֶ֔ם </span></span> <i>252233</i> </td><td class=\"tf\"><span class=\"hb\"><span  class=\"hl\" >כֹּהֲנֵיהֶ֖ם </span></span> <i>252234</i> </td></tr>\n",
       "<tr class=\"tf\"><td class=\"tf\">14</td><td class=\"tf\"> <a href=\"https://shebanq.ancient-data.org/hebrew/text?book=Genesis&amp;chapter=18&amp;verse=6&amp;version=c&amp;mr=m&amp;qw=q&amp;tp=txt_p&amp;tr=hb&amp;wget=v&amp;qget=v&amp;nget=vt\" title=\"show this passage in SHEBANQ\" sec=\"Genesis 18:6\">Genesis 18:6</a></td><td class=\"tf\"><span class=\"trb\"><a href=\"https://shebanq.ancient-data.org/hebrew/text?book=Genesis&amp;chapter=1&amp;verse=1&amp;version=c&amp;mr=m&amp;qw=q&amp;tp=txt_p&amp;tr=hb&amp;wget=v&amp;qget=v&amp;nget=vt\" title=\"Genesis\" sec=\"Genesis\"></a></span> <i>426585</i> </td><td class=\"tf\"><span class=\"hb\">שְׁלֹ֤שׁ <span  class=\"hl\" >סְאִים֙ </span><span  class=\"hl\" >קֶ֣מַח </span>סֹ֔לֶת </span> <i>909405</i> </td><td class=\"tf\"><span class=\"hb\"><span  class=\"hl\" >סְאִים֙ </span></span> <i>7902</i> </td><td class=\"tf\"><span class=\"hb\"><span  class=\"hl\" >קֶ֣מַח </span></span> <i>7903</i> </td></tr>\n",
       "<tr class=\"tf\"><td class=\"tf\">15</td><td class=\"tf\"> <a href=\"https://shebanq.ancient-data.org/hebrew/text?book=Nehemia&amp;chapter=9&amp;verse=34&amp;version=c&amp;mr=m&amp;qw=q&amp;tp=txt_p&amp;tr=hb&amp;wget=v&amp;qget=v&amp;nget=vt\" title=\"show this passage in SHEBANQ\" sec=\"Nehemiah 9:34\">Nehemiah 9:34</a></td><td class=\"tf\"><span class=\"trb\"><a href=\"https://shebanq.ancient-data.org/hebrew/text?book=Nehemia&amp;chapter=1&amp;verse=1&amp;version=c&amp;mr=m&amp;qw=q&amp;tp=txt_p&amp;tr=hb&amp;wget=v&amp;qget=v&amp;nget=vt\" title=\"Nehemiah\" sec=\"Nehemiah\"></a></span> <i>426621</i> </td><td class=\"tf\"><span class=\"hb\">אֶת־מְלָכֵ֤ינוּ <span  class=\"hl\" >שָׂרֵ֨ינוּ֙ </span><span  class=\"hl\" >כֹּהֲנֵ֣ינוּ </span>וַאֲבֹתֵ֔ינוּ </span> <i>1151552</i> </td><td class=\"tf\"><span class=\"hb\"><span  class=\"hl\" >שָׂרֵ֨ינוּ֙ </span></span> <i>388613</i> </td><td class=\"tf\"><span class=\"hb\"><span  class=\"hl\" >כֹּהֲנֵ֣ינוּ </span></span> <i>388614</i> </td></tr>\n",
       "<tr class=\"tf\"><td class=\"tf\">16</td><td class=\"tf\"> <a href=\"https://shebanq.ancient-data.org/hebrew/text?book=Nehemia&amp;chapter=5&amp;verse=11&amp;version=c&amp;mr=m&amp;qw=q&amp;tp=txt_p&amp;tr=hb&amp;wget=v&amp;qget=v&amp;nget=vt\" title=\"show this passage in SHEBANQ\" sec=\"Nehemiah 5:11\">Nehemiah 5:11</a></td><td class=\"tf\"><span class=\"trb\"><a href=\"https://shebanq.ancient-data.org/hebrew/text?book=Nehemia&amp;chapter=1&amp;verse=1&amp;version=c&amp;mr=m&amp;qw=q&amp;tp=txt_p&amp;tr=hb&amp;wget=v&amp;qget=v&amp;nget=vt\" title=\"Nehemiah\" sec=\"Nehemiah\"></a></span> <i>426621</i> </td><td class=\"tf\"><span class=\"hb\"><span  class=\"hl\" >שְׂדֹתֵיהֶ֛ם </span><span  class=\"hl\" >כַּרְמֵיהֶ֥ם </span>זֵיתֵיהֶ֖ם וּבָתֵּיהֶ֑ם וּמְאַ֨ת הַכֶּ֤סֶף וְהַדָּגָן֙ הַתִּירֹ֣ושׁ וְהַיִּצְהָ֔ר </span> <i>1150003</i> </td><td class=\"tf\"><span class=\"hb\"><span  class=\"hl\" >שְׂדֹתֵיהֶ֛ם </span></span> <i>385625</i> </td><td class=\"tf\"><span class=\"hb\"><span  class=\"hl\" >כַּרְמֵיהֶ֥ם </span></span> <i>385626</i> </td></tr>\n",
       "<tr class=\"tf\"><td class=\"tf\">17</td><td class=\"tf\"> <a href=\"https://shebanq.ancient-data.org/hebrew/text?book=Numeri&amp;chapter=29&amp;verse=31&amp;version=c&amp;mr=m&amp;qw=q&amp;tp=txt_p&amp;tr=hb&amp;wget=v&amp;qget=v&amp;nget=vt\" title=\"show this passage in SHEBANQ\" sec=\"Numbers 29:31\">Numbers 29:31</a></td><td class=\"tf\"><span class=\"trb\"><a href=\"https://shebanq.ancient-data.org/hebrew/text?book=Numeri&amp;chapter=1&amp;verse=1&amp;version=c&amp;mr=m&amp;qw=q&amp;tp=txt_p&amp;tr=hb&amp;wget=v&amp;qget=v&amp;nget=vt\" title=\"Numbers\" sec=\"Numbers\"></a></span> <i>426588</i> </td><td class=\"tf\"><span class=\"hb\">מִלְּבַד֙ עֹלַ֣ת הַ<span  class=\"hl\" >תָּמִ֔יד </span><span  class=\"hl\" >מִנְחָתָ֖הּ </span>וּנְסָכֶֽיהָ׃ פ </span> <i>957925</i> </td><td class=\"tf\"><span class=\"hb\"><span  class=\"hl\" >תָּמִ֔יד </span></span> <i>88409</i> </td><td class=\"tf\"><span class=\"hb\"><span  class=\"hl\" >מִנְחָתָ֖הּ </span></span> <i>88410</i> </td></tr>\n",
       "<tr class=\"tf\"><td class=\"tf\">18</td><td class=\"tf\"> <a href=\"https://shebanq.ancient-data.org/hebrew/text?book=Esther&amp;chapter=9&amp;verse=28&amp;version=c&amp;mr=m&amp;qw=q&amp;tp=txt_p&amp;tr=hb&amp;wget=v&amp;qget=v&amp;nget=vt\" title=\"show this passage in SHEBANQ\" sec=\"Esther 9:28\">Esther 9:28</a></td><td class=\"tf\"><span class=\"trb\"><a href=\"https://shebanq.ancient-data.org/hebrew/text?book=Esther&amp;chapter=1&amp;verse=1&amp;version=c&amp;mr=m&amp;qw=q&amp;tp=txt_p&amp;tr=hb&amp;wget=v&amp;qget=v&amp;nget=vt\" title=\"Esther\" sec=\"Esther\"></a></span> <i>426618</i> </td><td class=\"tf\"><span class=\"hb\">בְּכָל־דֹּ֣ור וָדֹ֗ור מִשְׁפָּחָה֙ וּ<span  class=\"hl\" >מִשְׁפָּחָ֔ה </span><span  class=\"hl\" >מְדִינָ֥ה </span>וּמְדִינָ֖ה וְעִ֣יר וָעִ֑יר </span> <i>1140555</i> </td><td class=\"tf\"><span class=\"hb\"><span  class=\"hl\" >מִשְׁפָּחָ֔ה </span></span> <i>369886</i> </td><td class=\"tf\"><span class=\"hb\"><span  class=\"hl\" >מְדִינָ֥ה </span></span> <i>369887</i> </td></tr>\n",
       "<tr class=\"tf\"><td class=\"tf\">19</td><td class=\"tf\"> <a href=\"https://shebanq.ancient-data.org/hebrew/text?book=Chronica_II&amp;chapter=35&amp;verse=7&amp;version=c&amp;mr=m&amp;qw=q&amp;tp=txt_p&amp;tr=hb&amp;wget=v&amp;qget=v&amp;nget=vt\" title=\"show this passage in SHEBANQ\" sec=\"2_Chronicles 35:7\">2_Chronicles 35:7</a></td><td class=\"tf\"><span class=\"trb\"><a href=\"https://shebanq.ancient-data.org/hebrew/text?book=Chronica_II&amp;chapter=1&amp;verse=1&amp;version=c&amp;mr=m&amp;qw=q&amp;tp=txt_p&amp;tr=hb&amp;wget=v&amp;qget=v&amp;nget=vt\" title=\"2_Chronicles\" sec=\"2_Chronicles\"></a></span> <i>426623</i> </td><td class=\"tf\"><span class=\"hb\"><span  class=\"hl\" >צֹ֞אן </span><span  class=\"hl\" >כְּבָשִׂ֣ים </span>וּבְנֵֽי־עִזִּים֮ </span> <i>1171720</i> </td><td class=\"tf\"><span class=\"hb\"><span  class=\"hl\" >צֹ֞אן </span></span> <i>425513</i> </td><td class=\"tf\"><span class=\"hb\"><span  class=\"hl\" >כְּבָשִׂ֣ים </span></span> <i>425514</i> </td></tr>\n",
       "<tr class=\"tf\"><td class=\"tf\">20</td><td class=\"tf\"> <a href=\"https://shebanq.ancient-data.org/hebrew/text?book=Esra&amp;chapter=8&amp;verse=26&amp;version=c&amp;mr=m&amp;qw=q&amp;tp=txt_p&amp;tr=hb&amp;wget=v&amp;qget=v&amp;nget=vt\" title=\"show this passage in SHEBANQ\" sec=\"Ezra 8:26\">Ezra 8:26</a></td><td class=\"tf\"><span class=\"trb\"><a href=\"https://shebanq.ancient-data.org/hebrew/text?book=Esra&amp;chapter=1&amp;verse=1&amp;version=c&amp;mr=m&amp;qw=q&amp;tp=txt_p&amp;tr=hb&amp;wget=v&amp;qget=v&amp;nget=vt\" title=\"Ezra\" sec=\"Ezra\"></a></span> <i>426620</i> </td><td class=\"tf\"><span class=\"hb\">כְלֵי־כֶ֥סֶף מֵאָ֖ה לְ<span  class=\"hl\" >כִכָּרִ֑ים </span><span  class=\"hl\" >זָהָ֖ב </span>מֵאָ֥ה כִכָּֽר׃ </span> <i>1147973</i> </td><td class=\"tf\"><span class=\"hb\"><span  class=\"hl\" >כִכָּרִ֑ים </span></span> <i>382014</i> </td><td class=\"tf\"><span class=\"hb\"><span  class=\"hl\" >זָהָ֖ב </span></span> <i>382015</i> </td></tr>\n",
       "<tr class=\"tf\"><td class=\"tf\">21</td><td class=\"tf\"> <a href=\"https://shebanq.ancient-data.org/hebrew/text?book=Daniel&amp;chapter=5&amp;verse=2&amp;version=c&amp;mr=m&amp;qw=q&amp;tp=txt_p&amp;tr=hb&amp;wget=v&amp;qget=v&amp;nget=vt\" title=\"show this passage in SHEBANQ\" sec=\"Daniel 5:2\">Daniel 5:2</a></td><td class=\"tf\"><span class=\"trb\"><a href=\"https://shebanq.ancient-data.org/hebrew/text?book=Daniel&amp;chapter=1&amp;verse=1&amp;version=c&amp;mr=m&amp;qw=q&amp;tp=txt_p&amp;tr=hb&amp;wget=v&amp;qget=v&amp;nget=vt\" title=\"Daniel\" sec=\"Daniel\"></a></span> <i>426619</i> </td><td class=\"tf\"><span class=\"hb\">מַלְכָּא֙ וְ<span  class=\"hl\" >רַבְרְבָנֹ֔והִי </span><span  class=\"hl\" >שֵׁגְלָתֵ֖הּ </span>וּלְחֵנָתֵֽהּ׃ </span> <i>1142702</i> </td><td class=\"tf\"><span class=\"hb\"><span  class=\"hl\" >רַבְרְבָנֹ֔והִי </span></span> <i>373203</i> </td><td class=\"tf\"><span class=\"hb\"><span  class=\"hl\" >שֵׁגְלָתֵ֖הּ </span></span> <i>373204</i> </td></tr>\n",
       "<tr class=\"tf\"><td class=\"tf\">22</td><td class=\"tf\"> <a href=\"https://shebanq.ancient-data.org/hebrew/text?book=Chronica_II&amp;chapter=27&amp;verse=5&amp;version=c&amp;mr=m&amp;qw=q&amp;tp=txt_p&amp;tr=hb&amp;wget=v&amp;qget=v&amp;nget=vt\" title=\"show this passage in SHEBANQ\" sec=\"2_Chronicles 27:5\">2_Chronicles 27:5</a></td><td class=\"tf\"><span class=\"trb\"><a href=\"https://shebanq.ancient-data.org/hebrew/text?book=Chronica_II&amp;chapter=1&amp;verse=1&amp;version=c&amp;mr=m&amp;qw=q&amp;tp=txt_p&amp;tr=hb&amp;wget=v&amp;qget=v&amp;nget=vt\" title=\"2_Chronicles\" sec=\"2_Chronicles\"></a></span> <i>426623</i> </td><td class=\"tf\"><span class=\"hb\">מֵאָה֙ כִּכַּר־כֶּ֔סֶף וַעֲשֶׂ֨רֶת אֲלָפִ֤ים <span  class=\"hl\" >כֹּרִים֙ </span><span  class=\"hl\" >חִטִּ֔ים </span>וּשְׂעֹורִ֖ים עֲשֶׂ֣רֶת אֲלָפִ֑ים </span> <i>1168832</i> </td><td class=\"tf\"><span class=\"hb\"><span  class=\"hl\" >כֹּרִים֙ </span></span> <i>420248</i> </td><td class=\"tf\"><span class=\"hb\"><span  class=\"hl\" >חִטִּ֔ים </span></span> <i>420249</i> </td></tr>\n",
       "<tr class=\"tf\"><td class=\"tf\">23</td><td class=\"tf\"> <a href=\"https://shebanq.ancient-data.org/hebrew/text?book=Jesaia&amp;chapter=41&amp;verse=19&amp;version=c&amp;mr=m&amp;qw=q&amp;tp=txt_p&amp;tr=hb&amp;wget=v&amp;qget=v&amp;nget=vt\" title=\"show this passage in SHEBANQ\" sec=\"Isaiah 41:19\">Isaiah 41:19</a></td><td class=\"tf\"><span class=\"trb\"><a href=\"https://shebanq.ancient-data.org/hebrew/text?book=Jesaia&amp;chapter=1&amp;verse=1&amp;version=c&amp;mr=m&amp;qw=q&amp;tp=txt_p&amp;tr=hb&amp;wget=v&amp;qget=v&amp;nget=vt\" title=\"Isaiah\" sec=\"Isaiah\"></a></span> <i>426596</i> </td><td class=\"tf\"><span class=\"hb\"><span  class=\"hl\" >בְּרֹ֛ושׁ </span><span  class=\"hl\" >תִּדְהָ֥ר </span>וּתְאַשּׁ֖וּר </span> <i>1044201</i> </td><td class=\"tf\"><span class=\"hb\"><span  class=\"hl\" >בְּרֹ֛ושׁ </span></span> <i>226365</i> </td><td class=\"tf\"><span class=\"hb\"><span  class=\"hl\" >תִּדְהָ֥ר </span></span> <i>226366</i> </td></tr>\n",
       "<tr class=\"tf\"><td class=\"tf\">24</td><td class=\"tf\"> <a href=\"https://shebanq.ancient-data.org/hebrew/text?book=Exodus&amp;chapter=20&amp;verse=10&amp;version=c&amp;mr=m&amp;qw=q&amp;tp=txt_p&amp;tr=hb&amp;wget=v&amp;qget=v&amp;nget=vt\" title=\"show this passage in SHEBANQ\" sec=\"Exodus 20:10\">Exodus 20:10</a></td><td class=\"tf\"><span class=\"trb\"><a href=\"https://shebanq.ancient-data.org/hebrew/text?book=Exodus&amp;chapter=1&amp;verse=1&amp;version=c&amp;mr=m&amp;qw=q&amp;tp=txt_p&amp;tr=hb&amp;wget=v&amp;qget=v&amp;nget=vt\" title=\"Exodus\" sec=\"Exodus\"></a></span> <i>426586</i> </td><td class=\"tf\"><span class=\"hb\">אַתָּ֣ה׀ וּבִנְךָֽ֣־וּ֠<span  class=\"hl\" >בִתֶּ֗ךָ </span><span  class=\"hl\" >עַבְדְּךָ֤֨ </span>וַאֲמָֽתְךָ֜֙ וּבְהֶמְתֶּ֔֗ךָ וְגֵרְךָ֖֙ </span> <i>930322</i> </td><td class=\"tf\"><span class=\"hb\"><span  class=\"hl\" >בִתֶּ֗ךָ </span></span> <i>39740</i> </td><td class=\"tf\"><span class=\"hb\"><span  class=\"hl\" >עַבְדְּךָ֤֨ </span></span> <i>39741</i> </td></tr>\n",
       "<tr class=\"tf\"><td class=\"tf\">25</td><td class=\"tf\"> <a href=\"https://shebanq.ancient-data.org/hebrew/text?book=Jeremia&amp;chapter=51&amp;verse=57&amp;version=c&amp;mr=m&amp;qw=q&amp;tp=txt_p&amp;tr=hb&amp;wget=v&amp;qget=v&amp;nget=vt\" title=\"show this passage in SHEBANQ\" sec=\"Jeremiah 51:57\">Jeremiah 51:57</a></td><td class=\"tf\"><span class=\"trb\"><a href=\"https://shebanq.ancient-data.org/hebrew/text?book=Jeremia&amp;chapter=1&amp;verse=1&amp;version=c&amp;mr=m&amp;qw=q&amp;tp=txt_p&amp;tr=hb&amp;wget=v&amp;qget=v&amp;nget=vt\" title=\"Jeremiah\" sec=\"Jeremiah\"></a></span> <i>426597</i> </td><td class=\"tf\"><span class=\"hb\">שָׂרֶ֨יהָ וַ<span  class=\"hl\" >חֲכָמֶ֜יהָ </span><span  class=\"hl\" >פַּחֹותֶ֤יהָ </span>וּסְגָנֶ֨יהָ֙ וְגִבֹּורֶ֔יהָ </span> <i>1068615</i> </td><td class=\"tf\"><span class=\"hb\"><span  class=\"hl\" >חֲכָמֶ֜יהָ </span></span> <i>263720</i> </td><td class=\"tf\"><span class=\"hb\"><span  class=\"hl\" >פַּחֹותֶ֤יהָ </span></span> <i>263721</i> </td></tr>\n",
       "<tr class=\"tf\"><td class=\"tf\">26</td><td class=\"tf\"> <a href=\"https://shebanq.ancient-data.org/hebrew/text?book=Canticum&amp;chapter=4&amp;verse=14&amp;version=c&amp;mr=m&amp;qw=q&amp;tp=txt_p&amp;tr=hb&amp;wget=v&amp;qget=v&amp;nget=vt\" title=\"show this passage in SHEBANQ\" sec=\"Song_of_songs 4:14\">Song_of_songs 4:14</a></td><td class=\"tf\"><span class=\"trb\"><a href=\"https://shebanq.ancient-data.org/hebrew/text?book=Canticum&amp;chapter=1&amp;verse=1&amp;version=c&amp;mr=m&amp;qw=q&amp;tp=txt_p&amp;tr=hb&amp;wget=v&amp;qget=v&amp;nget=vt\" title=\"Song_of_songs\" sec=\"Song_of_songs\"></a></span> <i>426615</i> </td><td class=\"tf\"><span class=\"hb\">נֵ֣רְדְּ׀ וְ<span  class=\"hl\" >כַרְכֹּ֗ם </span><span  class=\"hl\" >קָנֶה֙ </span>וְקִנָּמֹ֔ון </span> <i>1133430</i> </td><td class=\"tf\"><span class=\"hb\"><span  class=\"hl\" >כַרְכֹּ֗ם </span></span> <i>358411</i> </td><td class=\"tf\"><span class=\"hb\"><span  class=\"hl\" >קָנֶה֙ </span></span> <i>358412</i> </td></tr>\n",
       "<tr class=\"tf\"><td class=\"tf\">27</td><td class=\"tf\"> <a href=\"https://shebanq.ancient-data.org/hebrew/text?book=Sacharia&amp;chapter=7&amp;verse=10&amp;version=c&amp;mr=m&amp;qw=q&amp;tp=txt_p&amp;tr=hb&amp;wget=v&amp;qget=v&amp;nget=vt\" title=\"show this passage in SHEBANQ\" sec=\"Zechariah 7:10\">Zechariah 7:10</a></td><td class=\"tf\"><span class=\"trb\"><a href=\"https://shebanq.ancient-data.org/hebrew/text?book=Sacharia&amp;chapter=1&amp;verse=1&amp;version=c&amp;mr=m&amp;qw=q&amp;tp=txt_p&amp;tr=hb&amp;wget=v&amp;qget=v&amp;nget=vt\" title=\"Zechariah\" sec=\"Zechariah\"></a></span> <i>426609</i> </td><td class=\"tf\"><span class=\"hb\">אַלְמָנָ֧ה וְ<span  class=\"hl\" >יָתֹ֛ום </span><span  class=\"hl\" >גֵּ֥ר </span>וְעָנִ֖י </span> <i>1096345</i> </td><td class=\"tf\"><span class=\"hb\"><span  class=\"hl\" >יָתֹ֛ום </span></span> <i>306876</i> </td><td class=\"tf\"><span class=\"hb\"><span  class=\"hl\" >גֵּ֥ר </span></span> <i>306877</i> </td></tr>\n",
       "<tr class=\"tf\"><td class=\"tf\">28</td><td class=\"tf\"> <a href=\"https://shebanq.ancient-data.org/hebrew/text?book=Daniel&amp;chapter=3&amp;verse=7&amp;version=c&amp;mr=m&amp;qw=q&amp;tp=txt_p&amp;tr=hb&amp;wget=v&amp;qget=v&amp;nget=vt\" title=\"show this passage in SHEBANQ\" sec=\"Daniel 3:7\">Daniel 3:7</a></td><td class=\"tf\"><span class=\"trb\"><a href=\"https://shebanq.ancient-data.org/hebrew/text?book=Daniel&amp;chapter=1&amp;verse=1&amp;version=c&amp;mr=m&amp;qw=q&amp;tp=txt_p&amp;tr=hb&amp;wget=v&amp;qget=v&amp;nget=vt\" title=\"Daniel\" sec=\"Daniel\"></a></span> <i>426619</i> </td><td class=\"tf\"><span class=\"hb\">קָ֣ל קַרְנָא֩ מַשְׁרֹ֨וקִיתָ֜א קַתְרֹ֤וס <span  class=\"hl\" >שַׂבְּכָא֙ </span><span  class=\"hl\" >פְּסַנְטֵרִ֔ין </span>וְכֹ֖ל זְנֵ֣י זְמָרָ֑א </span> <i>1141706</i> </td><td class=\"tf\"><span class=\"hb\"><span  class=\"hl\" >שַׂבְּכָא֙ </span></span> <i>371751</i> </td><td class=\"tf\"><span class=\"hb\"><span  class=\"hl\" >פְּסַנְטֵרִ֔ין </span></span> <i>371752</i> </td></tr>\n",
       "<tr class=\"tf\"><td class=\"tf\">29</td><td class=\"tf\"> <a href=\"https://shebanq.ancient-data.org/hebrew/text?book=Leviticus&amp;chapter=23&amp;verse=17&amp;version=c&amp;mr=m&amp;qw=q&amp;tp=txt_p&amp;tr=hb&amp;wget=v&amp;qget=v&amp;nget=vt\" title=\"show this passage in SHEBANQ\" sec=\"Leviticus 23:17\">Leviticus 23:17</a></td><td class=\"tf\"><span class=\"trb\"><a href=\"https://shebanq.ancient-data.org/hebrew/text?book=Leviticus&amp;chapter=1&amp;verse=1&amp;version=c&amp;mr=m&amp;qw=q&amp;tp=txt_p&amp;tr=hb&amp;wget=v&amp;qget=v&amp;nget=vt\" title=\"Leviticus\" sec=\"Leviticus\"></a></span> <i>426587</i> </td><td class=\"tf\"><span class=\"hb\">שְׁנֵ֣י <span  class=\"hl\" >עֶשְׂרֹנִ֔ים </span><span  class=\"hl\" >סֹ֣לֶת </span></span> <i>945228</i> </td><td class=\"tf\"><span class=\"hb\"><span  class=\"hl\" >עֶשְׂרֹנִ֔ים </span></span> <i>66226</i> </td><td class=\"tf\"><span class=\"hb\"><span  class=\"hl\" >סֹ֣לֶת </span></span> <i>66227</i> </td></tr>\n",
       "<tr class=\"tf\"><td class=\"tf\">30</td><td class=\"tf\"> <a href=\"https://shebanq.ancient-data.org/hebrew/text?book=Deuteronomium&amp;chapter=14&amp;verse=23&amp;version=c&amp;mr=m&amp;qw=q&amp;tp=txt_p&amp;tr=hb&amp;wget=v&amp;qget=v&amp;nget=vt\" title=\"show this passage in SHEBANQ\" sec=\"Deuteronomy 14:23\">Deuteronomy 14:23</a></td><td class=\"tf\"><span class=\"trb\"><a href=\"https://shebanq.ancient-data.org/hebrew/text?book=Deuteronomium&amp;chapter=1&amp;verse=1&amp;version=c&amp;mr=m&amp;qw=q&amp;tp=txt_p&amp;tr=hb&amp;wget=v&amp;qget=v&amp;nget=vt\" title=\"Deuteronomy\" sec=\"Deuteronomy\"></a></span> <i>426589</i> </td><td class=\"tf\"><span class=\"hb\">מַעְשַׂ֤ר <span  class=\"hl\" >דְּגָֽנְךָ֙ </span><span  class=\"hl\" >תִּֽירֹשְׁךָ֣ </span>וְיִצְהָרֶ֔ךָ וּבְכֹרֹ֥ת בְּקָרְךָ֖ וְצֹאנֶ֑ךָ </span> <i>965755</i> </td><td class=\"tf\"><span class=\"hb\"><span  class=\"hl\" >דְּגָֽנְךָ֙ </span></span> <i>101812</i> </td><td class=\"tf\"><span class=\"hb\"><span  class=\"hl\" >תִּֽירֹשְׁךָ֣ </span></span> <i>101813</i> </td></tr>\n",
       "<tr class=\"tf\"><td class=\"tf\">31</td><td class=\"tf\"> <a href=\"https://shebanq.ancient-data.org/hebrew/text?book=Exodus&amp;chapter=21&amp;verse=10&amp;version=c&amp;mr=m&amp;qw=q&amp;tp=txt_p&amp;tr=hb&amp;wget=v&amp;qget=v&amp;nget=vt\" title=\"show this passage in SHEBANQ\" sec=\"Exodus 21:10\">Exodus 21:10</a></td><td class=\"tf\"><span class=\"trb\"><a href=\"https://shebanq.ancient-data.org/hebrew/text?book=Exodus&amp;chapter=1&amp;verse=1&amp;version=c&amp;mr=m&amp;qw=q&amp;tp=txt_p&amp;tr=hb&amp;wget=v&amp;qget=v&amp;nget=vt\" title=\"Exodus\" sec=\"Exodus\"></a></span> <i>426586</i> </td><td class=\"tf\"><span class=\"hb\"><span  class=\"hl\" >שְׁאֵרָ֛הּ </span><span  class=\"hl\" >כְּסוּתָ֥הּ </span>וְעֹנָתָ֖הּ </span> <i>930593</i> </td><td class=\"tf\"><span class=\"hb\"><span  class=\"hl\" >שְׁאֵרָ֛הּ </span></span> <i>40170</i> </td><td class=\"tf\"><span class=\"hb\"><span  class=\"hl\" >כְּסוּתָ֥הּ </span></span> <i>40171</i> </td></tr>\n",
       "<tr class=\"tf\"><td class=\"tf\">32</td><td class=\"tf\"> <a href=\"https://shebanq.ancient-data.org/hebrew/text?book=Chronica_II&amp;chapter=20&amp;verse=9&amp;version=c&amp;mr=m&amp;qw=q&amp;tp=txt_p&amp;tr=hb&amp;wget=v&amp;qget=v&amp;nget=vt\" title=\"show this passage in SHEBANQ\" sec=\"2_Chronicles 20:9\">2_Chronicles 20:9</a></td><td class=\"tf\"><span class=\"trb\"><a href=\"https://shebanq.ancient-data.org/hebrew/text?book=Chronica_II&amp;chapter=1&amp;verse=1&amp;version=c&amp;mr=m&amp;qw=q&amp;tp=txt_p&amp;tr=hb&amp;wget=v&amp;qget=v&amp;nget=vt\" title=\"2_Chronicles\" sec=\"2_Chronicles\"></a></span> <i>426623</i> </td><td class=\"tf\"><span class=\"hb\"><span  class=\"hl\" >חֶרֶב֮ </span><span  class=\"hl\" >שְׁפֹוט֮ </span>וְדֶ֣בֶר וְרָעָב֒ </span> <i>1166437</i> </td><td class=\"tf\"><span class=\"hb\"><span  class=\"hl\" >חֶרֶב֮ </span></span> <i>416144</i> </td><td class=\"tf\"><span class=\"hb\"><span  class=\"hl\" >שְׁפֹוט֮ </span></span> <i>416145</i> </td></tr>\n",
       "<tr class=\"tf\"><td class=\"tf\">33</td><td class=\"tf\"> <a href=\"https://shebanq.ancient-data.org/hebrew/text?book=Exodus&amp;chapter=39&amp;verse=26&amp;version=c&amp;mr=m&amp;qw=q&amp;tp=txt_p&amp;tr=hb&amp;wget=v&amp;qget=v&amp;nget=vt\" title=\"show this passage in SHEBANQ\" sec=\"Exodus 39:26\">Exodus 39:26</a></td><td class=\"tf\"><span class=\"trb\"><a href=\"https://shebanq.ancient-data.org/hebrew/text?book=Exodus&amp;chapter=1&amp;verse=1&amp;version=c&amp;mr=m&amp;qw=q&amp;tp=txt_p&amp;tr=hb&amp;wget=v&amp;qget=v&amp;nget=vt\" title=\"Exodus\" sec=\"Exodus\"></a></span> <i>426586</i> </td><td class=\"tf\"><span class=\"hb\">פַּעֲמֹ֤ן וְ<span  class=\"hl\" >רִמֹּן֙ </span><span  class=\"hl\" >פַּעֲמֹ֣ן </span>וְרִמֹּ֔ן </span> <i>936807</i> </td><td class=\"tf\"><span class=\"hb\"><span  class=\"hl\" >רִמֹּן֙ </span></span> <i>51521</i> </td><td class=\"tf\"><span class=\"hb\"><span  class=\"hl\" >פַּעֲמֹ֣ן </span></span> <i>51522</i> </td></tr>\n",
       "<tr class=\"tf\"><td class=\"tf\">34</td><td class=\"tf\"> <a href=\"https://shebanq.ancient-data.org/hebrew/text?book=Ecclesiastes&amp;chapter=4&amp;verse=6&amp;version=c&amp;mr=m&amp;qw=q&amp;tp=txt_p&amp;tr=hb&amp;wget=v&amp;qget=v&amp;nget=vt\" title=\"show this passage in SHEBANQ\" sec=\"Ecclesiastes 4:6\">Ecclesiastes 4:6</a></td><td class=\"tf\"><span class=\"trb\"><a href=\"https://shebanq.ancient-data.org/hebrew/text?book=Ecclesiastes&amp;chapter=1&amp;verse=1&amp;version=c&amp;mr=m&amp;qw=q&amp;tp=txt_p&amp;tr=hb&amp;wget=v&amp;qget=v&amp;nget=vt\" title=\"Ecclesiastes\" sec=\"Ecclesiastes\"></a></span> <i>426616</i> </td><td class=\"tf\"><span class=\"hb\">מִמְּלֹ֥א <span  class=\"hl\" >חָפְנַ֛יִם </span><span  class=\"hl\" >עָמָ֖ל </span>וּרְע֥וּת רֽוּחַ׃ </span> <i>1134911</i> </td><td class=\"tf\"><span class=\"hb\"><span  class=\"hl\" >חָפְנַ֛יִם </span></span> <i>360656</i> </td><td class=\"tf\"><span class=\"hb\"><span  class=\"hl\" >עָמָ֖ל </span></span> <i>360657</i> </td></tr>\n",
       "<tr class=\"tf\"><td class=\"tf\">35</td><td class=\"tf\"> <a href=\"https://shebanq.ancient-data.org/hebrew/text?book=Numeri&amp;chapter=28&amp;verse=12&amp;version=c&amp;mr=m&amp;qw=q&amp;tp=txt_p&amp;tr=hb&amp;wget=v&amp;qget=v&amp;nget=vt\" title=\"show this passage in SHEBANQ\" sec=\"Numbers 28:12\">Numbers 28:12</a></td><td class=\"tf\"><span class=\"trb\"><a href=\"https://shebanq.ancient-data.org/hebrew/text?book=Numeri&amp;chapter=1&amp;verse=1&amp;version=c&amp;mr=m&amp;qw=q&amp;tp=txt_p&amp;tr=hb&amp;wget=v&amp;qget=v&amp;nget=vt\" title=\"Numbers\" sec=\"Numbers\"></a></span> <i>426588</i> </td><td class=\"tf\"><span class=\"hb\">שְׁנֵ֣י <span  class=\"hl\" >עֶשְׂרֹנִ֗ים </span><span  class=\"hl\" >סֹ֤לֶת </span></span> <i>957597</i> </td><td class=\"tf\"><span class=\"hb\"><span  class=\"hl\" >עֶשְׂרֹנִ֗ים </span></span> <i>87543</i> </td><td class=\"tf\"><span class=\"hb\"><span  class=\"hl\" >סֹ֤לֶת </span></span> <i>87544</i> </td></tr>\n",
       "<tr class=\"tf\"><td class=\"tf\">36</td><td class=\"tf\"> <a href=\"https://shebanq.ancient-data.org/hebrew/text?book=Numeri&amp;chapter=28&amp;verse=29&amp;version=c&amp;mr=m&amp;qw=q&amp;tp=txt_p&amp;tr=hb&amp;wget=v&amp;qget=v&amp;nget=vt\" title=\"show this passage in SHEBANQ\" sec=\"Numbers 28:29\">Numbers 28:29</a></td><td class=\"tf\"><span class=\"trb\"><a href=\"https://shebanq.ancient-data.org/hebrew/text?book=Numeri&amp;chapter=1&amp;verse=1&amp;version=c&amp;mr=m&amp;qw=q&amp;tp=txt_p&amp;tr=hb&amp;wget=v&amp;qget=v&amp;nget=vt\" title=\"Numbers\" sec=\"Numbers\"></a></span> <i>426588</i> </td><td class=\"tf\"><span class=\"hb\"><span  class=\"hl\" >עִשָּׂרֹון֙ </span><span  class=\"hl\" >עִשָּׂרֹ֔ון </span></span> <i>957739</i> </td><td class=\"tf\"><span class=\"hb\"><span  class=\"hl\" >עִשָּׂרֹון֙ </span></span> <i>87836</i> </td><td class=\"tf\"><span class=\"hb\"><span  class=\"hl\" >עִשָּׂרֹ֔ון </span></span> <i>87837</i> </td></tr>\n",
       "<tr class=\"tf\"><td class=\"tf\">37</td><td class=\"tf\"> <a href=\"https://shebanq.ancient-data.org/hebrew/text?book=Exodus&amp;chapter=26&amp;verse=1&amp;version=c&amp;mr=m&amp;qw=q&amp;tp=txt_p&amp;tr=hb&amp;wget=v&amp;qget=v&amp;nget=vt\" title=\"show this passage in SHEBANQ\" sec=\"Exodus 26:1\">Exodus 26:1</a></td><td class=\"tf\"><span class=\"trb\"><a href=\"https://shebanq.ancient-data.org/hebrew/text?book=Exodus&amp;chapter=1&amp;verse=1&amp;version=c&amp;mr=m&amp;qw=q&amp;tp=txt_p&amp;tr=hb&amp;wget=v&amp;qget=v&amp;nget=vt\" title=\"Exodus\" sec=\"Exodus\"></a></span> <i>426586</i> </td><td class=\"tf\"><span class=\"hb\">שֵׁ֣שׁ מָשְׁזָ֗ר וּתְכֵ֤לֶת וְאַרְגָּמָן֙ וְתֹלַ֣עַת <span  class=\"hl\" >שָׁנִ֔י </span><span  class=\"hl\" >כְּרֻבִ֛ים </span></span> <i>932146</i> </td><td class=\"tf\"><span class=\"hb\"><span  class=\"hl\" >שָׁנִ֔י </span></span> <i>42621</i> </td><td class=\"tf\"><span class=\"hb\"><span  class=\"hl\" >כְּרֻבִ֛ים </span></span> <i>42622</i> </td></tr>\n",
       "<tr class=\"tf\"><td class=\"tf\">38</td><td class=\"tf\"> <a href=\"https://shebanq.ancient-data.org/hebrew/text?book=Chronica_II&amp;chapter=8&amp;verse=5&amp;version=c&amp;mr=m&amp;qw=q&amp;tp=txt_p&amp;tr=hb&amp;wget=v&amp;qget=v&amp;nget=vt\" title=\"show this passage in SHEBANQ\" sec=\"2_Chronicles 8:5\">2_Chronicles 8:5</a></td><td class=\"tf\"><span class=\"trb\"><a href=\"https://shebanq.ancient-data.org/hebrew/text?book=Chronica_II&amp;chapter=1&amp;verse=1&amp;version=c&amp;mr=m&amp;qw=q&amp;tp=txt_p&amp;tr=hb&amp;wget=v&amp;qget=v&amp;nget=vt\" title=\"2_Chronicles\" sec=\"2_Chronicles\"></a></span> <i>426623</i> </td><td class=\"tf\"><span class=\"hb\">עָרֵ֣י <span  class=\"hl\" >מָצֹ֔ור </span><span  class=\"hl\" >חֹומֹ֖ות </span>דְּלָתַ֥יִם וּבְרִֽיחַ׃ </span> <i>1163294</i> </td><td class=\"tf\"><span class=\"hb\"><span  class=\"hl\" >מָצֹ֔ור </span></span> <i>410675</i> </td><td class=\"tf\"><span class=\"hb\"><span  class=\"hl\" >חֹומֹ֖ות </span></span> <i>410676</i> </td></tr>\n",
       "<tr class=\"tf\"><td class=\"tf\">39</td><td class=\"tf\"> <a href=\"https://shebanq.ancient-data.org/hebrew/text?book=Exodus&amp;chapter=39&amp;verse=5&amp;version=c&amp;mr=m&amp;qw=q&amp;tp=txt_p&amp;tr=hb&amp;wget=v&amp;qget=v&amp;nget=vt\" title=\"show this passage in SHEBANQ\" sec=\"Exodus 39:5\">Exodus 39:5</a></td><td class=\"tf\"><span class=\"trb\"><a href=\"https://shebanq.ancient-data.org/hebrew/text?book=Exodus&amp;chapter=1&amp;verse=1&amp;version=c&amp;mr=m&amp;qw=q&amp;tp=txt_p&amp;tr=hb&amp;wget=v&amp;qget=v&amp;nget=vt\" title=\"Exodus\" sec=\"Exodus\"></a></span> <i>426586</i> </td><td class=\"tf\"><span class=\"hb\"><span  class=\"hl\" >זָהָ֗ב </span><span  class=\"hl\" >תְּכֵ֧לֶת </span>וְאַרְגָּמָ֛ן וְתֹולַ֥עַת שָׁנִ֖י וְשֵׁ֣שׁ מָשְׁזָ֑ר </span> <i>936646</i> </td><td class=\"tf\"><span class=\"hb\"><span  class=\"hl\" >זָהָ֗ב </span></span> <i>51157</i> </td><td class=\"tf\"><span class=\"hb\"><span  class=\"hl\" >תְּכֵ֧לֶת </span></span> <i>51158</i> </td></tr>\n",
       "<tr class=\"tf\"><td class=\"tf\">40</td><td class=\"tf\"> <a href=\"https://shebanq.ancient-data.org/hebrew/text?book=Chronica_I&amp;chapter=25&amp;verse=6&amp;version=c&amp;mr=m&amp;qw=q&amp;tp=txt_p&amp;tr=hb&amp;wget=v&amp;qget=v&amp;nget=vt\" title=\"show this passage in SHEBANQ\" sec=\"1_Chronicles 25:6\">1_Chronicles 25:6</a></td><td class=\"tf\"><span class=\"trb\"><a href=\"https://shebanq.ancient-data.org/hebrew/text?book=Chronica_I&amp;chapter=1&amp;verse=1&amp;version=c&amp;mr=m&amp;qw=q&amp;tp=txt_p&amp;tr=hb&amp;wget=v&amp;qget=v&amp;nget=vt\" title=\"1_Chronicles\" sec=\"1_Chronicles\"></a></span> <i>426622</i> </td><td class=\"tf\"><span class=\"hb\">בִּ<span  class=\"hl\" >מְצִלְתַּ֨יִם֙ </span><span  class=\"hl\" >נְבָלִ֣ים </span>וְכִנֹּרֹ֔ות </span> <i>1159763</i> </td><td class=\"tf\"><span class=\"hb\"><span  class=\"hl\" >מְצִלְתַּ֨יִם֙ </span></span> <i>404012</i> </td><td class=\"tf\"><span class=\"hb\"><span  class=\"hl\" >נְבָלִ֣ים </span></span> <i>404013</i> </td></tr>\n",
       "<tr class=\"tf\"><td class=\"tf\">41</td><td class=\"tf\"> <a href=\"https://shebanq.ancient-data.org/hebrew/text?book=Exodus&amp;chapter=25&amp;verse=31&amp;version=c&amp;mr=m&amp;qw=q&amp;tp=txt_p&amp;tr=hb&amp;wget=v&amp;qget=v&amp;nget=vt\" title=\"show this passage in SHEBANQ\" sec=\"Exodus 25:31\">Exodus 25:31</a></td><td class=\"tf\"><span class=\"trb\"><a href=\"https://shebanq.ancient-data.org/hebrew/text?book=Exodus&amp;chapter=1&amp;verse=1&amp;version=c&amp;mr=m&amp;qw=q&amp;tp=txt_p&amp;tr=hb&amp;wget=v&amp;qget=v&amp;nget=vt\" title=\"Exodus\" sec=\"Exodus\"></a></span> <i>426586</i> </td><td class=\"tf\"><span class=\"hb\"><span  class=\"hl\" >גְּבִיעֶ֛יהָ </span><span  class=\"hl\" >כַּפְתֹּרֶ֥יהָ </span>וּפְרָחֶ֖יהָ </span> <i>932064</i> </td><td class=\"tf\"><span class=\"hb\"><span  class=\"hl\" >גְּבִיעֶ֛יהָ </span></span> <i>42453</i> </td><td class=\"tf\"><span class=\"hb\"><span  class=\"hl\" >כַּפְתֹּרֶ֥יהָ </span></span> <i>42454</i> </td></tr>\n",
       "<tr class=\"tf\"><td class=\"tf\">42</td><td class=\"tf\"> <a href=\"https://shebanq.ancient-data.org/hebrew/text?book=Deuteronomium&amp;chapter=18&amp;verse=4&amp;version=c&amp;mr=m&amp;qw=q&amp;tp=txt_p&amp;tr=hb&amp;wget=v&amp;qget=v&amp;nget=vt\" title=\"show this passage in SHEBANQ\" sec=\"Deuteronomy 18:4\">Deuteronomy 18:4</a></td><td class=\"tf\"><span class=\"trb\"><a href=\"https://shebanq.ancient-data.org/hebrew/text?book=Deuteronomium&amp;chapter=1&amp;verse=1&amp;version=c&amp;mr=m&amp;qw=q&amp;tp=txt_p&amp;tr=hb&amp;wget=v&amp;qget=v&amp;nget=vt\" title=\"Deuteronomy\" sec=\"Deuteronomy\"></a></span> <i>426589</i> </td><td class=\"tf\"><span class=\"hb\">רֵאשִׁ֨ית <span  class=\"hl\" >דְּגָֽנְךָ֜ </span><span  class=\"hl\" >תִּֽירֹשְׁךָ֣ </span>וְיִצְהָרֶ֗ךָ וְרֵאשִׁ֛ית גֵּ֥ז צֹאנְךָ֖ </span> <i>966787</i> </td><td class=\"tf\"><span class=\"hb\"><span  class=\"hl\" >דְּגָֽנְךָ֜ </span></span> <i>103520</i> </td><td class=\"tf\"><span class=\"hb\"><span  class=\"hl\" >תִּֽירֹשְׁךָ֣ </span></span> <i>103521</i> </td></tr>\n",
       "<tr class=\"tf\"><td class=\"tf\">43</td><td class=\"tf\"> <a href=\"https://shebanq.ancient-data.org/hebrew/text?book=Reges_I&amp;chapter=8&amp;verse=37&amp;version=c&amp;mr=m&amp;qw=q&amp;tp=txt_p&amp;tr=hb&amp;wget=v&amp;qget=v&amp;nget=vt\" title=\"show this passage in SHEBANQ\" sec=\"1_Kings 8:37\">1_Kings 8:37</a></td><td class=\"tf\"><span class=\"trb\"><a href=\"https://shebanq.ancient-data.org/hebrew/text?book=Reges_I&amp;chapter=1&amp;verse=1&amp;version=c&amp;mr=m&amp;qw=q&amp;tp=txt_p&amp;tr=hb&amp;wget=v&amp;qget=v&amp;nget=vt\" title=\"1_Kings\" sec=\"1_Kings\"></a></span> <i>426594</i> </td><td class=\"tf\"><span class=\"hb\">שִׁדָּפֹ֨ון <span  class=\"hl\" >יֵרָקֹ֜ון </span><span  class=\"hl\" >אַרְבֶּ֤ה </span>חָסִיל֙ </span> <i>1016509</i> </td><td class=\"tf\"><span class=\"hb\"><span  class=\"hl\" >יֵרָקֹ֜ון </span></span> <i>182923</i> </td><td class=\"tf\"><span class=\"hb\"><span  class=\"hl\" >אַרְבֶּ֤ה </span></span> <i>182924</i> </td></tr>\n",
       "<tr class=\"tf\"><td class=\"tf\">44</td><td class=\"tf\"> <a href=\"https://shebanq.ancient-data.org/hebrew/text?book=Numeri&amp;chapter=32&amp;verse=26&amp;version=c&amp;mr=m&amp;qw=q&amp;tp=txt_p&amp;tr=hb&amp;wget=v&amp;qget=v&amp;nget=vt\" title=\"show this passage in SHEBANQ\" sec=\"Numbers 32:26\">Numbers 32:26</a></td><td class=\"tf\"><span class=\"trb\"><a href=\"https://shebanq.ancient-data.org/hebrew/text?book=Numeri&amp;chapter=1&amp;verse=1&amp;version=c&amp;mr=m&amp;qw=q&amp;tp=txt_p&amp;tr=hb&amp;wget=v&amp;qget=v&amp;nget=vt\" title=\"Numbers\" sec=\"Numbers\"></a></span> <i>426588</i> </td><td class=\"tf\"><span class=\"hb\">טַפֵּ֣נוּ <span  class=\"hl\" >נָשֵׁ֔ינוּ </span><span  class=\"hl\" >מִקְנֵ֖נוּ </span>וְכָל־בְּהֶמְתֵּ֑נוּ </span> <i>958935</i> </td><td class=\"tf\"><span class=\"hb\"><span  class=\"hl\" >נָשֵׁ֔ינוּ </span></span> <i>90371</i> </td><td class=\"tf\"><span class=\"hb\"><span  class=\"hl\" >מִקְנֵ֖נוּ </span></span> <i>90372</i> </td></tr>\n",
       "<tr class=\"tf\"><td class=\"tf\">45</td><td class=\"tf\"> <a href=\"https://shebanq.ancient-data.org/hebrew/text?book=Nehemia&amp;chapter=4&amp;verse=8&amp;version=c&amp;mr=m&amp;qw=q&amp;tp=txt_p&amp;tr=hb&amp;wget=v&amp;qget=v&amp;nget=vt\" title=\"show this passage in SHEBANQ\" sec=\"Nehemiah 4:8\">Nehemiah 4:8</a></td><td class=\"tf\"><span class=\"trb\"><a href=\"https://shebanq.ancient-data.org/hebrew/text?book=Nehemia&amp;chapter=1&amp;verse=1&amp;version=c&amp;mr=m&amp;qw=q&amp;tp=txt_p&amp;tr=hb&amp;wget=v&amp;qget=v&amp;nget=vt\" title=\"Nehemiah\" sec=\"Nehemiah\"></a></span> <i>426621</i> </td><td class=\"tf\"><span class=\"hb\">עַל־<span  class=\"hl\" >אֲחֵיכֶם֙ </span><span  class=\"hl\" >בְּנֵיכֶ֣ם </span>וּבְנֹתֵיכֶ֔ם נְשֵׁיכֶ֖ם וּבָתֵּיכֶֽם׃ פ </span> <i>1149743</i> </td><td class=\"tf\"><span class=\"hb\"><span  class=\"hl\" >אֲחֵיכֶם֙ </span></span> <i>385196</i> </td><td class=\"tf\"><span class=\"hb\"><span  class=\"hl\" >בְּנֵיכֶ֣ם </span></span> <i>385197</i> </td></tr>\n",
       "<tr class=\"tf\"><td class=\"tf\">46</td><td class=\"tf\"> <a href=\"https://shebanq.ancient-data.org/hebrew/text?book=Ezechiel&amp;chapter=39&amp;verse=20&amp;version=c&amp;mr=m&amp;qw=q&amp;tp=txt_p&amp;tr=hb&amp;wget=v&amp;qget=v&amp;nget=vt\" title=\"show this passage in SHEBANQ\" sec=\"Ezekiel 39:20\">Ezekiel 39:20</a></td><td class=\"tf\"><span class=\"trb\"><a href=\"https://shebanq.ancient-data.org/hebrew/text?book=Ezechiel&amp;chapter=1&amp;verse=1&amp;version=c&amp;mr=m&amp;qw=q&amp;tp=txt_p&amp;tr=hb&amp;wget=v&amp;qget=v&amp;nget=vt\" title=\"Ezekiel\" sec=\"Ezekiel\"></a></span> <i>426598</i> </td><td class=\"tf\"><span class=\"hb\">ס֣וּס וָ<span  class=\"hl\" >רֶ֔כֶב </span><span  class=\"hl\" >גִּבֹּ֖ור </span>וְכָל־אִ֣ישׁ מִלְחָמָ֑ה </span> <i>1082353</i> </td><td class=\"tf\"><span class=\"hb\"><span  class=\"hl\" >רֶ֔כֶב </span></span> <i>284756</i> </td><td class=\"tf\"><span class=\"hb\"><span  class=\"hl\" >גִּבֹּ֖ור </span></span> <i>284757</i> </td></tr>\n",
       "<tr class=\"tf\"><td class=\"tf\">47</td><td class=\"tf\"> <a href=\"https://shebanq.ancient-data.org/hebrew/text?book=Exodus&amp;chapter=25&amp;verse=39&amp;version=c&amp;mr=m&amp;qw=q&amp;tp=txt_p&amp;tr=hb&amp;wget=v&amp;qget=v&amp;nget=vt\" title=\"show this passage in SHEBANQ\" sec=\"Exodus 25:39\">Exodus 25:39</a></td><td class=\"tf\"><span class=\"trb\"><a href=\"https://shebanq.ancient-data.org/hebrew/text?book=Exodus&amp;chapter=1&amp;verse=1&amp;version=c&amp;mr=m&amp;qw=q&amp;tp=txt_p&amp;tr=hb&amp;wget=v&amp;qget=v&amp;nget=vt\" title=\"Exodus\" sec=\"Exodus\"></a></span> <i>426586</i> </td><td class=\"tf\"><span class=\"hb\"><span  class=\"hl\" >כִּכָּ֛ר </span><span  class=\"hl\" >זָהָ֥ב </span>טָהֹ֖ור </span> <i>932129</i> </td><td class=\"tf\"><span class=\"hb\"><span  class=\"hl\" >כִּכָּ֛ר </span></span> <i>42583</i> </td><td class=\"tf\"><span class=\"hb\"><span  class=\"hl\" >זָהָ֥ב </span></span> <i>42584</i> </td></tr>\n",
       "<tr class=\"tf\"><td class=\"tf\">48</td><td class=\"tf\"> <a href=\"https://shebanq.ancient-data.org/hebrew/text?book=Jeremia&amp;chapter=9&amp;verse=23&amp;version=c&amp;mr=m&amp;qw=q&amp;tp=txt_p&amp;tr=hb&amp;wget=v&amp;qget=v&amp;nget=vt\" title=\"show this passage in SHEBANQ\" sec=\"Jeremiah 9:23\">Jeremiah 9:23</a></td><td class=\"tf\"><span class=\"trb\"><a href=\"https://shebanq.ancient-data.org/hebrew/text?book=Jeremia&amp;chapter=1&amp;verse=1&amp;version=c&amp;mr=m&amp;qw=q&amp;tp=txt_p&amp;tr=hb&amp;wget=v&amp;qget=v&amp;nget=vt\" title=\"Jeremiah\" sec=\"Jeremiah\"></a></span> <i>426597</i> </td><td class=\"tf\"><span class=\"hb\"><span  class=\"hl\" >חֶ֛סֶד </span><span  class=\"hl\" >מִשְׁפָּ֥ט </span>וּצְדָקָ֖ה </span> <i>1053969</i> </td><td class=\"tf\"><span class=\"hb\"><span  class=\"hl\" >חֶ֛סֶד </span></span> <i>239841</i> </td><td class=\"tf\"><span class=\"hb\"><span  class=\"hl\" >מִשְׁפָּ֥ט </span></span> <i>239842</i> </td></tr>\n",
       "<tr class=\"tf\"><td class=\"tf\">49</td><td class=\"tf\"> <a href=\"https://shebanq.ancient-data.org/hebrew/text?book=Jeremia&amp;chapter=47&amp;verse=2&amp;version=c&amp;mr=m&amp;qw=q&amp;tp=txt_p&amp;tr=hb&amp;wget=v&amp;qget=v&amp;nget=vt\" title=\"show this passage in SHEBANQ\" sec=\"Jeremiah 47:2\">Jeremiah 47:2</a></td><td class=\"tf\"><span class=\"trb\"><a href=\"https://shebanq.ancient-data.org/hebrew/text?book=Jeremia&amp;chapter=1&amp;verse=1&amp;version=c&amp;mr=m&amp;qw=q&amp;tp=txt_p&amp;tr=hb&amp;wget=v&amp;qget=v&amp;nget=vt\" title=\"Jeremiah\" sec=\"Jeremiah\"></a></span> <i>426597</i> </td><td class=\"tf\"><span class=\"hb\">אֶ֣רֶץ וּ<span  class=\"hl\" >מְלֹואָ֔הּ </span><span  class=\"hl\" >עִ֖יר </span>וְיֹ֣שְׁבֵי בָ֑הּ </span> <i>1066337</i> </td><td class=\"tf\"><span class=\"hb\"><span  class=\"hl\" >מְלֹואָ֔הּ </span></span> <i>260268</i> </td><td class=\"tf\"><span class=\"hb\"><span  class=\"hl\" >עִ֖יר </span></span> <i>260269</i> </td></tr>\n",
       "<tr class=\"tf\"><td class=\"tf\">50</td><td class=\"tf\"> <a href=\"https://shebanq.ancient-data.org/hebrew/text?book=Daniel&amp;chapter=11&amp;verse=8&amp;version=c&amp;mr=m&amp;qw=q&amp;tp=txt_p&amp;tr=hb&amp;wget=v&amp;qget=v&amp;nget=vt\" title=\"show this passage in SHEBANQ\" sec=\"Daniel 11:8\">Daniel 11:8</a></td><td class=\"tf\"><span class=\"trb\"><a href=\"https://shebanq.ancient-data.org/hebrew/text?book=Daniel&amp;chapter=1&amp;verse=1&amp;version=c&amp;mr=m&amp;qw=q&amp;tp=txt_p&amp;tr=hb&amp;wget=v&amp;qget=v&amp;nget=vt\" title=\"Daniel\" sec=\"Daniel\"></a></span> <i>426619</i> </td><td class=\"tf\"><span class=\"hb\">עִם־כְּלֵ֨י <span  class=\"hl\" >חֶמְדָּתָ֜ם </span><span  class=\"hl\" >כֶּ֧סֶף </span>וְזָהָ֛ב </span> <i>1145273</i> </td><td class=\"tf\"><span class=\"hb\"><span  class=\"hl\" >חֶמְדָּתָ֜ם </span></span> <i>377097</i> </td><td class=\"tf\"><span class=\"hb\"><span  class=\"hl\" >כֶּ֧סֶף </span></span> <i>377098</i> </td></tr>\n",
       "<tr class=\"tf\"><td class=\"tf\">51</td><td class=\"tf\"> <a href=\"https://shebanq.ancient-data.org/hebrew/text?book=Chronica_I&amp;chapter=12&amp;verse=41&amp;version=c&amp;mr=m&amp;qw=q&amp;tp=txt_p&amp;tr=hb&amp;wget=v&amp;qget=v&amp;nget=vt\" title=\"show this passage in SHEBANQ\" sec=\"1_Chronicles 12:41\">1_Chronicles 12:41</a></td><td class=\"tf\"><span class=\"trb\"><a href=\"https://shebanq.ancient-data.org/hebrew/text?book=Chronica_I&amp;chapter=1&amp;verse=1&amp;version=c&amp;mr=m&amp;qw=q&amp;tp=txt_p&amp;tr=hb&amp;wget=v&amp;qget=v&amp;nget=vt\" title=\"1_Chronicles\" sec=\"1_Chronicles\"></a></span> <i>426622</i> </td><td class=\"tf\"><span class=\"hb\"><span  class=\"hl\" >מַאֲכָ֡ל </span><span  class=\"hl\" >קֶ֠מַח </span>דְּבֵלִ֨ים וְצִמּוּקִ֧ים וְיַֽיִן־וְשֶׁ֛מֶן וּבָקָ֥ר וְצֹ֖אן </span> <i>1156542</i> </td><td class=\"tf\"><span class=\"hb\"><span  class=\"hl\" >מַאֲכָ֡ל </span></span> <i>398443</i> </td><td class=\"tf\"><span class=\"hb\"><span  class=\"hl\" >קֶ֠מַח </span></span> <i>398444</i> </td></tr>\n",
       "<tr class=\"tf\"><td class=\"tf\">52</td><td class=\"tf\"> <a href=\"https://shebanq.ancient-data.org/hebrew/text?book=Esra&amp;chapter=7&amp;verse=22&amp;version=c&amp;mr=m&amp;qw=q&amp;tp=txt_p&amp;tr=hb&amp;wget=v&amp;qget=v&amp;nget=vt\" title=\"show this passage in SHEBANQ\" sec=\"Ezra 7:22\">Ezra 7:22</a></td><td class=\"tf\"><span class=\"trb\"><a href=\"https://shebanq.ancient-data.org/hebrew/text?book=Esra&amp;chapter=1&amp;verse=1&amp;version=c&amp;mr=m&amp;qw=q&amp;tp=txt_p&amp;tr=hb&amp;wget=v&amp;qget=v&amp;nget=vt\" title=\"Ezra\" sec=\"Ezra\"></a></span> <i>426620</i> </td><td class=\"tf\"><span class=\"hb\">עַד־<span  class=\"hl\" >חִנְטִין֙ </span><span  class=\"hl\" >כֹּרִ֣ין </span>מְאָ֔ה </span> <i>1147623</i> </td><td class=\"tf\"><span class=\"hb\"><span  class=\"hl\" >חִנְטִין֙ </span></span> <i>381350</i> </td><td class=\"tf\"><span class=\"hb\"><span  class=\"hl\" >כֹּרִ֣ין </span></span> <i>381351</i> </td></tr>\n",
       "<tr class=\"tf\"><td class=\"tf\">53</td><td class=\"tf\"> <a href=\"https://shebanq.ancient-data.org/hebrew/text?book=Jeremia&amp;chapter=35&amp;verse=8&amp;version=c&amp;mr=m&amp;qw=q&amp;tp=txt_p&amp;tr=hb&amp;wget=v&amp;qget=v&amp;nget=vt\" title=\"show this passage in SHEBANQ\" sec=\"Jeremiah 35:8\">Jeremiah 35:8</a></td><td class=\"tf\"><span class=\"trb\"><a href=\"https://shebanq.ancient-data.org/hebrew/text?book=Jeremia&amp;chapter=1&amp;verse=1&amp;version=c&amp;mr=m&amp;qw=q&amp;tp=txt_p&amp;tr=hb&amp;wget=v&amp;qget=v&amp;nget=vt\" title=\"Jeremiah\" sec=\"Jeremiah\"></a></span> <i>426597</i> </td><td class=\"tf\"><span class=\"hb\">אֲנַ֣חְנוּ <span  class=\"hl\" >נָשֵׁ֔ינוּ </span><span  class=\"hl\" >בָּנֵ֖ינוּ </span>וּבְנֹתֵֽינוּ׃ </span> <i>1062505</i> </td><td class=\"tf\"><span class=\"hb\"><span  class=\"hl\" >נָשֵׁ֔ינוּ </span></span> <i>253916</i> </td><td class=\"tf\"><span class=\"hb\"><span  class=\"hl\" >בָּנֵ֖ינוּ </span></span> <i>253917</i> </td></tr>\n",
       "<tr class=\"tf\"><td class=\"tf\">54</td><td class=\"tf\"> <a href=\"https://shebanq.ancient-data.org/hebrew/text?book=Ezechiel&amp;chapter=39&amp;verse=18&amp;version=c&amp;mr=m&amp;qw=q&amp;tp=txt_p&amp;tr=hb&amp;wget=v&amp;qget=v&amp;nget=vt\" title=\"show this passage in SHEBANQ\" sec=\"Ezekiel 39:18\">Ezekiel 39:18</a></td><td class=\"tf\"><span class=\"trb\"><a href=\"https://shebanq.ancient-data.org/hebrew/text?book=Ezechiel&amp;chapter=1&amp;verse=1&amp;version=c&amp;mr=m&amp;qw=q&amp;tp=txt_p&amp;tr=hb&amp;wget=v&amp;qget=v&amp;nget=vt\" title=\"Ezekiel\" sec=\"Ezekiel\"></a></span> <i>426598</i> </td><td class=\"tf\"><span class=\"hb\">אֵילִ֨ים כָּרִ֤ים וְ<span  class=\"hl\" >עַתּוּדִים֙ </span><span  class=\"hl\" >פָּרִ֔ים </span></span> <i>1082335</i> </td><td class=\"tf\"><span class=\"hb\"><span  class=\"hl\" >עַתּוּדִים֙ </span></span> <i>284730</i> </td><td class=\"tf\"><span class=\"hb\"><span  class=\"hl\" >פָּרִ֔ים </span></span> <i>284731</i> </td></tr>\n",
       "<tr class=\"tf\"><td class=\"tf\">55</td><td class=\"tf\"> <a href=\"https://shebanq.ancient-data.org/hebrew/text?book=Chronica_II&amp;chapter=6&amp;verse=28&amp;version=c&amp;mr=m&amp;qw=q&amp;tp=txt_p&amp;tr=hb&amp;wget=v&amp;qget=v&amp;nget=vt\" title=\"show this passage in SHEBANQ\" sec=\"2_Chronicles 6:28\">2_Chronicles 6:28</a></td><td class=\"tf\"><span class=\"trb\"><a href=\"https://shebanq.ancient-data.org/hebrew/text?book=Chronica_II&amp;chapter=1&amp;verse=1&amp;version=c&amp;mr=m&amp;qw=q&amp;tp=txt_p&amp;tr=hb&amp;wget=v&amp;qget=v&amp;nget=vt\" title=\"2_Chronicles\" sec=\"2_Chronicles\"></a></span> <i>426623</i> </td><td class=\"tf\"><span class=\"hb\">שִׁדָּפֹ֨ון וְ<span  class=\"hl\" >יֵרָקֹ֜ון </span><span  class=\"hl\" >אַרְבֶּ֤ה </span>וְחָסִיל֙ </span> <i>1162678</i> </td><td class=\"tf\"><span class=\"hb\"><span  class=\"hl\" >יֵרָקֹ֜ון </span></span> <i>409627</i> </td><td class=\"tf\"><span class=\"hb\"><span  class=\"hl\" >אַרְבֶּ֤ה </span></span> <i>409628</i> </td></tr>\n",
       "<tr class=\"tf\"><td class=\"tf\">56</td><td class=\"tf\"> <a href=\"https://shebanq.ancient-data.org/hebrew/text?book=Numeri&amp;chapter=15&amp;verse=4&amp;version=c&amp;mr=m&amp;qw=q&amp;tp=txt_p&amp;tr=hb&amp;wget=v&amp;qget=v&amp;nget=vt\" title=\"show this passage in SHEBANQ\" sec=\"Numbers 15:4\">Numbers 15:4</a></td><td class=\"tf\"><span class=\"trb\"><a href=\"https://shebanq.ancient-data.org/hebrew/text?book=Numeri&amp;chapter=1&amp;verse=1&amp;version=c&amp;mr=m&amp;qw=q&amp;tp=txt_p&amp;tr=hb&amp;wget=v&amp;qget=v&amp;nget=vt\" title=\"Numbers\" sec=\"Numbers\"></a></span> <i>426588</i> </td><td class=\"tf\"><span class=\"hb\"><span  class=\"hl\" >מִנְחָה֙ </span><span  class=\"hl\" >סֹ֣לֶת </span>עִשָּׂרֹ֔ון </span> <i>952640</i> </td><td class=\"tf\"><span class=\"hb\"><span  class=\"hl\" >מִנְחָה֙ </span></span> <i>79379</i> </td><td class=\"tf\"><span class=\"hb\"><span  class=\"hl\" >סֹ֣לֶת </span></span> <i>79380</i> </td></tr>\n",
       "<tr class=\"tf\"><td class=\"tf\">57</td><td class=\"tf\"> <a href=\"https://shebanq.ancient-data.org/hebrew/text?book=Ezechiel&amp;chapter=28&amp;verse=13&amp;version=c&amp;mr=m&amp;qw=q&amp;tp=txt_p&amp;tr=hb&amp;wget=v&amp;qget=v&amp;nget=vt\" title=\"show this passage in SHEBANQ\" sec=\"Ezekiel 28:13\">Ezekiel 28:13</a></td><td class=\"tf\"><span class=\"trb\"><a href=\"https://shebanq.ancient-data.org/hebrew/text?book=Ezechiel&amp;chapter=1&amp;verse=1&amp;version=c&amp;mr=m&amp;qw=q&amp;tp=txt_p&amp;tr=hb&amp;wget=v&amp;qget=v&amp;nget=vt\" title=\"Ezekiel\" sec=\"Ezekiel\"></a></span> <i>426598</i> </td><td class=\"tf\"><span class=\"hb\">אֹ֣דֶם פִּטְדָ֞ה וְ<span  class=\"hl\" >יָהֲלֹ֗ם </span><span  class=\"hl\" >תַּרְשִׁ֥ישׁ </span>שֹׁ֨הַם֙ וְיָ֣שְׁפֵ֔ה סַפִּ֣יר נֹ֔פֶךְ וּבָרְקַ֖ת </span> <i>1078341</i> </td><td class=\"tf\"><span class=\"hb\"><span  class=\"hl\" >יָהֲלֹ֗ם </span></span> <i>278554</i> </td><td class=\"tf\"><span class=\"hb\"><span  class=\"hl\" >תַּרְשִׁ֥ישׁ </span></span> <i>278555</i> </td></tr>\n",
       "<tr class=\"tf\"><td class=\"tf\">58</td><td class=\"tf\"> <a href=\"https://shebanq.ancient-data.org/hebrew/text?book=Josua&amp;chapter=22&amp;verse=27&amp;version=c&amp;mr=m&amp;qw=q&amp;tp=txt_p&amp;tr=hb&amp;wget=v&amp;qget=v&amp;nget=vt\" title=\"show this passage in SHEBANQ\" sec=\"Joshua 22:27\">Joshua 22:27</a></td><td class=\"tf\"><span class=\"trb\"><a href=\"https://shebanq.ancient-data.org/hebrew/text?book=Josua&amp;chapter=1&amp;verse=1&amp;version=c&amp;mr=m&amp;qw=q&amp;tp=txt_p&amp;tr=hb&amp;wget=v&amp;qget=v&amp;nget=vt\" title=\"Joshua\" sec=\"Joshua\"></a></span> <i>426590</i> </td><td class=\"tf\"><span class=\"hb\">בֵּינֵ֣ינוּ וּבֵינֵיכֶ֗ם וּבֵ֣ין <span  class=\"hl\" >דֹּרֹותֵינוּ֮ </span><span  class=\"hl\" >אַחֲרֵינוּ֒ </span></span> <i>979706</i> </td><td class=\"tf\"><span class=\"hb\"><span  class=\"hl\" >דֹּרֹותֵינוּ֮ </span></span> <i>125937</i> </td><td class=\"tf\"><span class=\"hb\"><span  class=\"hl\" >אַחֲרֵינוּ֒ </span></span> <i>125938</i> </td></tr>\n",
       "<tr class=\"tf\"><td class=\"tf\">59</td><td class=\"tf\"> <a href=\"https://shebanq.ancient-data.org/hebrew/text?book=Exodus&amp;chapter=37&amp;verse=17&amp;version=c&amp;mr=m&amp;qw=q&amp;tp=txt_p&amp;tr=hb&amp;wget=v&amp;qget=v&amp;nget=vt\" title=\"show this passage in SHEBANQ\" sec=\"Exodus 37:17\">Exodus 37:17</a></td><td class=\"tf\"><span class=\"trb\"><a href=\"https://shebanq.ancient-data.org/hebrew/text?book=Exodus&amp;chapter=1&amp;verse=1&amp;version=c&amp;mr=m&amp;qw=q&amp;tp=txt_p&amp;tr=hb&amp;wget=v&amp;qget=v&amp;nget=vt\" title=\"Exodus\" sec=\"Exodus\"></a></span> <i>426586</i> </td><td class=\"tf\"><span class=\"hb\">יְרֵכָ֣הּ וְ<span  class=\"hl\" >קָנָ֔הּ </span><span  class=\"hl\" >גְּבִיעֶ֛יהָ </span>כַּפְתֹּרֶ֥יהָ וּפְרָחֶ֖יהָ </span> <i>936221</i> </td><td class=\"tf\"><span class=\"hb\"><span  class=\"hl\" >קָנָ֔הּ </span></span> <i>50223</i> </td><td class=\"tf\"><span class=\"hb\"><span  class=\"hl\" >גְּבִיעֶ֛יהָ </span></span> <i>50224</i> </td></tr>\n",
       "<tr class=\"tf\"><td class=\"tf\">60</td><td class=\"tf\"> <a href=\"https://shebanq.ancient-data.org/hebrew/text?book=Exodus&amp;chapter=28&amp;verse=15&amp;version=c&amp;mr=m&amp;qw=q&amp;tp=txt_p&amp;tr=hb&amp;wget=v&amp;qget=v&amp;nget=vt\" title=\"show this passage in SHEBANQ\" sec=\"Exodus 28:15\">Exodus 28:15</a></td><td class=\"tf\"><span class=\"trb\"><a href=\"https://shebanq.ancient-data.org/hebrew/text?book=Exodus&amp;chapter=1&amp;verse=1&amp;version=c&amp;mr=m&amp;qw=q&amp;tp=txt_p&amp;tr=hb&amp;wget=v&amp;qget=v&amp;nget=vt\" title=\"Exodus\" sec=\"Exodus\"></a></span> <i>426586</i> </td><td class=\"tf\"><span class=\"hb\"><span  class=\"hl\" >זָ֠הָב </span><span  class=\"hl\" >תְּכֵ֨לֶת </span>וְאַרְגָּמָ֜ן וְתֹולַ֧עַת שָׁנִ֛י וְשֵׁ֥שׁ מָשְׁזָ֖ר </span> <i>932819</i> </td><td class=\"tf\"><span class=\"hb\"><span  class=\"hl\" >זָ֠הָב </span></span> <i>43992</i> </td><td class=\"tf\"><span class=\"hb\"><span  class=\"hl\" >תְּכֵ֨לֶת </span></span> <i>43993</i> </td></tr></table>"
      ],
      "text/plain": [
       "<IPython.core.display.HTML object>"
      ]
     },
     "metadata": {},
     "output_type": "display_data"
    }
   ],
   "source": [
    "random.shuffle(t)\n",
    "\n",
    "A.table(t[:60], withNodes=True, extraFeatures='pdp st', condenseType='phrase_atom')"
   ]
  },
  {
   "cell_type": "markdown",
   "metadata": {},
   "source": [
    "This machinery will allow us to write large yet concise conditional statements that test all kinds of parameters around the context."
   ]
  },
  {
   "cell_type": "markdown",
   "metadata": {},
   "source": [
    "Let's make a set of all NPs in the corpus from which we can gradually work from. We will work with phrase_atoms for now."
   ]
  },
  {
   "cell_type": "code",
   "execution_count": 19,
   "metadata": {},
   "outputs": [
    {
     "name": "stdout",
     "output_type": "stream",
     "text": [
      "47504\n"
     ]
    }
   ],
   "source": [
    "nps = set(F.typ.s('NP')) & set(F.otype.s('phrase_atom'))\n",
    "covered = set()\n",
    "\n",
    "def prog():\n",
    "    # print remaining cases\n",
    "    print(len(nps)-len(covered))\n",
    "\n",
    "print(len(nps))"
   ]
  },
  {
   "cell_type": "markdown",
   "metadata": {},
   "source": [
    "Let's eliminate all options that have no other choices but a candidate."
   ]
  },
  {
   "cell_type": "code",
   "execution_count": 20,
   "metadata": {},
   "outputs": [
    {
     "data": {
      "text/plain": [
       "27766"
      ]
     },
     "execution_count": 20,
     "metadata": {},
     "output_type": "execute_result"
    }
   ],
   "source": [
    "simpleres = []\n",
    "\n",
    "for p in nps:\n",
    "    cands = [w for w in L.d(p, 'word') if F.sp.v(w) in cand_sps]\n",
    "    if len(cands) == 1:\n",
    "        simpleres.append((p, cands[0]))\n",
    "        \n",
    "len(simpleres)"
   ]
  },
  {
   "cell_type": "markdown",
   "metadata": {},
   "source": [
    "Let's inspect the cases to be sure. You can run the next cell to shuffle the results. This helps to identify problems that may be widespread."
   ]
  },
  {
   "cell_type": "code",
   "execution_count": 21,
   "metadata": {},
   "outputs": [
    {
     "data": {
      "text/html": [
       "<table>\n",
       "<tr class=\"tf\">\n",
       "  <th class=\"tf\">n</th><th class=\"tf\">p</th>\n",
       "  <th class=\"tf\">phrase_atom</th><th>word</th>\n",
       "</tr>\n",
       "\n",
       "<tr class=\"tf\"><td class=\"tf\">1</td><td class=\"tf\"> <a href=\"https://shebanq.ancient-data.org/hebrew/text?book=Chronica_I&amp;chapter=26&amp;verse=10&amp;version=c&amp;mr=m&amp;qw=q&amp;tp=txt_p&amp;tr=hb&amp;wget=v&amp;qget=v&amp;nget=vt\" title=\"show this passage in SHEBANQ\" sec=\"1_Chronicles 26:10\">1_Chronicles 26:10</a></td><td class=\"tf\"><span class=\"hb\"><a href=\"https://shebanq.ancient-data.org/hebrew/text?book=Chronica_I&amp;chapter=26&amp;verse=10&amp;version=c&amp;mr=m&amp;qw=q&amp;tp=txt_p&amp;tr=hb&amp;wget=v&amp;qget=v&amp;nget=vt\" title=\"1_Chronicles 26:10\" sec=\"1_Chronicles 26:10\"><span  class=\"hl hlup\" >בְכֹ֔ור </span></a></span> <i>1159966</i> </td><td class=\"tf\"><span class=\"hb\"><span  class=\"hl hlup\" >בְכֹ֔ור </span></span> <i>404431</i> </td></tr>\n",
       "<tr class=\"tf\"><td class=\"tf\">2</td><td class=\"tf\"> <a href=\"https://shebanq.ancient-data.org/hebrew/text?book=Proverbia&amp;chapter=7&amp;verse=15&amp;version=c&amp;mr=m&amp;qw=q&amp;tp=txt_p&amp;tr=hb&amp;wget=v&amp;qget=v&amp;nget=vt\" title=\"show this passage in SHEBANQ\" sec=\"Proverbs 7:15\">Proverbs 7:15</a></td><td class=\"tf\"><span class=\"hb\"><a href=\"https://shebanq.ancient-data.org/hebrew/text?book=Proverbia&amp;chapter=7&amp;verse=15&amp;version=c&amp;mr=m&amp;qw=q&amp;tp=txt_p&amp;tr=hb&amp;wget=v&amp;qget=v&amp;nget=vt\" title=\"Proverbs 7:15\" sec=\"Proverbs 7:15\"><span  class=\"hl hlup\" >פָּ֝נֶ֗יךָ </span></a></span> <i>1126566</i> </td><td class=\"tf\"><span class=\"hb\"><span  class=\"hl hlup\" >פָּ֝נֶ֗יךָ </span></span> <i>348726</i> </td></tr>\n",
       "<tr class=\"tf\"><td class=\"tf\">3</td><td class=\"tf\"> <a href=\"https://shebanq.ancient-data.org/hebrew/text?book=Ezechiel&amp;chapter=37&amp;verse=12&amp;version=c&amp;mr=m&amp;qw=q&amp;tp=txt_p&amp;tr=hb&amp;wget=v&amp;qget=v&amp;nget=vt\" title=\"show this passage in SHEBANQ\" sec=\"Ezekiel 37:12\">Ezekiel 37:12</a></td><td class=\"tf\"><span class=\"hb\"><a href=\"https://shebanq.ancient-data.org/hebrew/text?book=Ezechiel&amp;chapter=37&amp;verse=12&amp;version=c&amp;mr=m&amp;qw=q&amp;tp=txt_p&amp;tr=hb&amp;wget=v&amp;qget=v&amp;nget=vt\" title=\"Ezekiel 37:12\" sec=\"Ezekiel 37:12\"><span  class=\"hl hlup\" >עַמִּ֑י </span></a></span> <i>1081555</i> </td><td class=\"tf\"><span class=\"hb\"><span  class=\"hl hlup\" >עַמִּ֑י </span></span> <i>283450</i> </td></tr>\n",
       "<tr class=\"tf\"><td class=\"tf\">4</td><td class=\"tf\"> <a href=\"https://shebanq.ancient-data.org/hebrew/text?book=Deuteronomium&amp;chapter=11&amp;verse=17&amp;version=c&amp;mr=m&amp;qw=q&amp;tp=txt_p&amp;tr=hb&amp;wget=v&amp;qget=v&amp;nget=vt\" title=\"show this passage in SHEBANQ\" sec=\"Deuteronomy 11:17\">Deuteronomy 11:17</a></td><td class=\"tf\"><span class=\"hb\"><a href=\"https://shebanq.ancient-data.org/hebrew/text?book=Deuteronomium&amp;chapter=11&amp;verse=17&amp;version=c&amp;mr=m&amp;qw=q&amp;tp=txt_p&amp;tr=hb&amp;wget=v&amp;qget=v&amp;nget=vt\" title=\"Deuteronomy 11:17\" sec=\"Deuteronomy 11:17\"><span  class=\"hlup\" >הָ֣</span><span  class=\"hl hlup\" >אֲדָמָ֔ה </span></a></span> <i>964651</i> </td><td class=\"tf\"><span class=\"hb\"><span  class=\"hl hlup\" >אֲדָמָ֔ה </span></span> <i>99951</i> </td></tr>\n",
       "<tr class=\"tf\"><td class=\"tf\">5</td><td class=\"tf\"> <a href=\"https://shebanq.ancient-data.org/hebrew/text?book=Samuel_I&amp;chapter=20&amp;verse=35&amp;version=c&amp;mr=m&amp;qw=q&amp;tp=txt_p&amp;tr=hb&amp;wget=v&amp;qget=v&amp;nget=vt\" title=\"show this passage in SHEBANQ\" sec=\"1_Samuel 20:35\">1_Samuel 20:35</a></td><td class=\"tf\"><span class=\"hb\"><a href=\"https://shebanq.ancient-data.org/hebrew/text?book=Samuel_I&amp;chapter=20&amp;verse=35&amp;version=c&amp;mr=m&amp;qw=q&amp;tp=txt_p&amp;tr=hb&amp;wget=v&amp;qget=v&amp;nget=vt\" title=\"1_Samuel 20:35\" sec=\"1_Samuel 20:35\"><span  class=\"hlup\" >הַ</span><span  class=\"hl hlup\" >שָּׂדֶ֖ה </span></a></span> <i>998057</i> </td><td class=\"tf\"><span class=\"hb\"><span  class=\"hl hlup\" >שָּׂדֶ֖ה </span></span> <i>154184</i> </td></tr>\n",
       "<tr class=\"tf\"><td class=\"tf\">6</td><td class=\"tf\"> <a href=\"https://shebanq.ancient-data.org/hebrew/text?book=Samuel_II&amp;chapter=12&amp;verse=20&amp;version=c&amp;mr=m&amp;qw=q&amp;tp=txt_p&amp;tr=hb&amp;wget=v&amp;qget=v&amp;nget=vt\" title=\"show this passage in SHEBANQ\" sec=\"2_Samuel 12:20\">2_Samuel 12:20</a></td><td class=\"tf\"><span class=\"hb\"><a href=\"https://shebanq.ancient-data.org/hebrew/text?book=Samuel_II&amp;chapter=12&amp;verse=20&amp;version=c&amp;mr=m&amp;qw=q&amp;tp=txt_p&amp;tr=hb&amp;wget=v&amp;qget=v&amp;nget=vt\" title=\"2_Samuel 12:20\" sec=\"2_Samuel 12:20\"><span  class=\"hl hlup\" >לֶ֖חֶם </span></a></span> <i>1006398</i> </td><td class=\"tf\"><span class=\"hb\"><span  class=\"hl hlup\" >לֶ֖חֶם </span></span> <i>166868</i> </td></tr>\n",
       "<tr class=\"tf\"><td class=\"tf\">7</td><td class=\"tf\"> <a href=\"https://shebanq.ancient-data.org/hebrew/text?book=Leviticus&amp;chapter=21&amp;verse=21&amp;version=c&amp;mr=m&amp;qw=q&amp;tp=txt_p&amp;tr=hb&amp;wget=v&amp;qget=v&amp;nget=vt\" title=\"show this passage in SHEBANQ\" sec=\"Leviticus 21:21\">Leviticus 21:21</a></td><td class=\"tf\"><span class=\"hb\"><a href=\"https://shebanq.ancient-data.org/hebrew/text?book=Leviticus&amp;chapter=21&amp;verse=21&amp;version=c&amp;mr=m&amp;qw=q&amp;tp=txt_p&amp;tr=hb&amp;wget=v&amp;qget=v&amp;nget=vt\" title=\"Leviticus 21:21\" sec=\"Leviticus 21:21\"><span  class=\"hlup\" >הַ</span><span  class=\"hl hlup\" >כֹּהֵ֔ן </span></a></span> <i>944667</i> </td><td class=\"tf\"><span class=\"hb\"><span  class=\"hl hlup\" >כֹּהֵ֔ן </span></span> <i>65291</i> </td></tr>\n",
       "<tr class=\"tf\"><td class=\"tf\">8</td><td class=\"tf\"> <a href=\"https://shebanq.ancient-data.org/hebrew/text?book=Iob&amp;chapter=1&amp;verse=14&amp;version=c&amp;mr=m&amp;qw=q&amp;tp=txt_p&amp;tr=hb&amp;wget=v&amp;qget=v&amp;nget=vt\" title=\"show this passage in SHEBANQ\" sec=\"Job 1:14\">Job 1:14</a></td><td class=\"tf\"><span class=\"hb\"><a href=\"https://shebanq.ancient-data.org/hebrew/text?book=Iob&amp;chapter=1&amp;verse=14&amp;version=c&amp;mr=m&amp;qw=q&amp;tp=txt_p&amp;tr=hb&amp;wget=v&amp;qget=v&amp;nget=vt\" title=\"Job 1:14\" sec=\"Job 1:14\"><span  class=\"hlup\" >הָ</span><span  class=\"hl hlup\" >אֲתֹנֹ֖ות </span></a></span> <i>1117088</i> </td><td class=\"tf\"><span class=\"hb\"><span  class=\"hl hlup\" >אֲתֹנֹ֖ות </span></span> <i>336329</i> </td></tr>\n",
       "<tr class=\"tf\"><td class=\"tf\">9</td><td class=\"tf\"> <a href=\"https://shebanq.ancient-data.org/hebrew/text?book=Psalmi&amp;chapter=34&amp;verse=11&amp;version=c&amp;mr=m&amp;qw=q&amp;tp=txt_p&amp;tr=hb&amp;wget=v&amp;qget=v&amp;nget=vt\" title=\"show this passage in SHEBANQ\" sec=\"Psalms 34:11\">Psalms 34:11</a></td><td class=\"tf\"><span class=\"hb\"><a href=\"https://shebanq.ancient-data.org/hebrew/text?book=Psalmi&amp;chapter=34&amp;verse=11&amp;version=c&amp;mr=m&amp;qw=q&amp;tp=txt_p&amp;tr=hb&amp;wget=v&amp;qget=v&amp;nget=vt\" title=\"Psalms 34:11\" sec=\"Psalms 34:11\"><span  class=\"hl hlup\" >כְּ֭פִירִים </span></a></span> <i>1102369</i> </td><td class=\"tf\"><span class=\"hb\"><span  class=\"hl hlup\" >כְּ֭פִירִים </span></span> <i>315677</i> </td></tr>\n",
       "<tr class=\"tf\"><td class=\"tf\">10</td><td class=\"tf\"> <a href=\"https://shebanq.ancient-data.org/hebrew/text?book=Jeremia&amp;chapter=25&amp;verse=34&amp;version=c&amp;mr=m&amp;qw=q&amp;tp=txt_p&amp;tr=hb&amp;wget=v&amp;qget=v&amp;nget=vt\" title=\"show this passage in SHEBANQ\" sec=\"Jeremiah 25:34\">Jeremiah 25:34</a></td><td class=\"tf\"><span class=\"hb\"><a href=\"https://shebanq.ancient-data.org/hebrew/text?book=Jeremia&amp;chapter=25&amp;verse=34&amp;version=c&amp;mr=m&amp;qw=q&amp;tp=txt_p&amp;tr=hb&amp;wget=v&amp;qget=v&amp;nget=vt\" title=\"Jeremiah 25:34\" sec=\"Jeremiah 25:34\"><span  class=\"hl hlup\" >יְמֵיכֶ֖ם </span></a></span> <i>1058935</i> </td><td class=\"tf\"><span class=\"hb\"><span  class=\"hl hlup\" >יְמֵיכֶ֖ם </span></span> <i>247783</i> </td></tr>\n",
       "<tr class=\"tf\"><td class=\"tf\">11</td><td class=\"tf\"> <a href=\"https://shebanq.ancient-data.org/hebrew/text?book=Jeremia&amp;chapter=51&amp;verse=51&amp;version=c&amp;mr=m&amp;qw=q&amp;tp=txt_p&amp;tr=hb&amp;wget=v&amp;qget=v&amp;nget=vt\" title=\"show this passage in SHEBANQ\" sec=\"Jeremiah 51:51\">Jeremiah 51:51</a></td><td class=\"tf\"><span class=\"hb\"><a href=\"https://shebanq.ancient-data.org/hebrew/text?book=Jeremia&amp;chapter=51&amp;verse=51&amp;version=c&amp;mr=m&amp;qw=q&amp;tp=txt_p&amp;tr=hb&amp;wget=v&amp;qget=v&amp;nget=vt\" title=\"Jeremiah 51:51\" sec=\"Jeremiah 51:51\"><span  class=\"hl hlup\" >זָרִ֔ים </span></a></span> <i>1068552</i> </td><td class=\"tf\"><span class=\"hb\"><span  class=\"hl hlup\" >זָרִ֔ים </span></span> <i>263632</i> </td></tr>\n",
       "<tr class=\"tf\"><td class=\"tf\">12</td><td class=\"tf\"> <a href=\"https://shebanq.ancient-data.org/hebrew/text?book=Psalmi&amp;chapter=147&amp;verse=8&amp;version=c&amp;mr=m&amp;qw=q&amp;tp=txt_p&amp;tr=hb&amp;wget=v&amp;qget=v&amp;nget=vt\" title=\"show this passage in SHEBANQ\" sec=\"Psalms 147:8\">Psalms 147:8</a></td><td class=\"tf\"><span class=\"hb\"><a href=\"https://shebanq.ancient-data.org/hebrew/text?book=Psalmi&amp;chapter=147&amp;verse=8&amp;version=c&amp;mr=m&amp;qw=q&amp;tp=txt_p&amp;tr=hb&amp;wget=v&amp;qget=v&amp;nget=vt\" title=\"Psalms 147:8\" sec=\"Psalms 147:8\"><span  class=\"hl hlup\" >הָרִ֣ים </span></a></span> <i>1116655</i> </td><td class=\"tf\"><span class=\"hb\"><span  class=\"hl hlup\" >הָרִ֣ים </span></span> <i>335629</i> </td></tr>\n",
       "<tr class=\"tf\"><td class=\"tf\">13</td><td class=\"tf\"> <a href=\"https://shebanq.ancient-data.org/hebrew/text?book=Reges_II&amp;chapter=6&amp;verse=12&amp;version=c&amp;mr=m&amp;qw=q&amp;tp=txt_p&amp;tr=hb&amp;wget=v&amp;qget=v&amp;nget=vt\" title=\"show this passage in SHEBANQ\" sec=\"2_Kings 6:12\">2_Kings 6:12</a></td><td class=\"tf\"><span class=\"hb\"><a href=\"https://shebanq.ancient-data.org/hebrew/text?book=Reges_II&amp;chapter=6&amp;verse=12&amp;version=c&amp;mr=m&amp;qw=q&amp;tp=txt_p&amp;tr=hb&amp;wget=v&amp;qget=v&amp;nget=vt\" title=\"2_Kings 6:12\" sec=\"2_Kings 6:12\"><span  class=\"hlup\" >הַ</span><span  class=\"hl hlup\" >נָּבִיא֙ </span></a></span> <i>1026563</i> </td><td class=\"tf\"><span class=\"hb\"><span  class=\"hl hlup\" >נָּבִיא֙ </span></span> <i>198384</i> </td></tr>\n",
       "<tr class=\"tf\"><td class=\"tf\">14</td><td class=\"tf\"> <a href=\"https://shebanq.ancient-data.org/hebrew/text?book=Daniel&amp;chapter=7&amp;verse=19&amp;version=c&amp;mr=m&amp;qw=q&amp;tp=txt_p&amp;tr=hb&amp;wget=v&amp;qget=v&amp;nget=vt\" title=\"show this passage in SHEBANQ\" sec=\"Daniel 7:19\">Daniel 7:19</a></td><td class=\"tf\"><span class=\"hb\"><a href=\"https://shebanq.ancient-data.org/hebrew/text?book=Daniel&amp;chapter=7&amp;verse=19&amp;version=c&amp;mr=m&amp;qw=q&amp;tp=txt_p&amp;tr=hb&amp;wget=v&amp;qget=v&amp;nget=vt\" title=\"Daniel 7:19\" sec=\"Daniel 7:19\"><span  class=\"hl hlup\" >שְׁאָרָ֖א </span></a></span> <i>1143921</i> </td><td class=\"tf\"><span class=\"hb\"><span  class=\"hl hlup\" >שְׁאָרָ֖א </span></span> <i>374971</i> </td></tr>\n",
       "<tr class=\"tf\"><td class=\"tf\">15</td><td class=\"tf\"> <a href=\"https://shebanq.ancient-data.org/hebrew/text?book=Proverbia&amp;chapter=12&amp;verse=17&amp;version=c&amp;mr=m&amp;qw=q&amp;tp=txt_p&amp;tr=hb&amp;wget=v&amp;qget=v&amp;nget=vt\" title=\"show this passage in SHEBANQ\" sec=\"Proverbs 12:17\">Proverbs 12:17</a></td><td class=\"tf\"><span class=\"hb\"><a href=\"https://shebanq.ancient-data.org/hebrew/text?book=Proverbia&amp;chapter=12&amp;verse=17&amp;version=c&amp;mr=m&amp;qw=q&amp;tp=txt_p&amp;tr=hb&amp;wget=v&amp;qget=v&amp;nget=vt\" title=\"Proverbs 12:17\" sec=\"Proverbs 12:17\"><span  class=\"hl hlup\" >אֱ֭מוּנָה </span></a></span> <i>1127521</i> </td><td class=\"tf\"><span class=\"hb\"><span  class=\"hl hlup\" >אֱ֭מוּנָה </span></span> <i>350062</i> </td></tr>\n",
       "<tr class=\"tf\"><td class=\"tf\">16</td><td class=\"tf\"> <a href=\"https://shebanq.ancient-data.org/hebrew/text?book=Daniel&amp;chapter=8&amp;verse=26&amp;version=c&amp;mr=m&amp;qw=q&amp;tp=txt_p&amp;tr=hb&amp;wget=v&amp;qget=v&amp;nget=vt\" title=\"show this passage in SHEBANQ\" sec=\"Daniel 8:26\">Daniel 8:26</a></td><td class=\"tf\"><span class=\"hb\"><a href=\"https://shebanq.ancient-data.org/hebrew/text?book=Daniel&amp;chapter=8&amp;verse=26&amp;version=c&amp;mr=m&amp;qw=q&amp;tp=txt_p&amp;tr=hb&amp;wget=v&amp;qget=v&amp;nget=vt\" title=\"Daniel 8:26\" sec=\"Daniel 8:26\"><span  class=\"hlup\" >הֶֽ</span><span  class=\"hl hlup\" >חָזֹ֔ון </span></a></span> <i>1144416</i> </td><td class=\"tf\"><span class=\"hb\"><span  class=\"hl hlup\" >חָזֹ֔ון </span></span> <i>375733</i> </td></tr>\n",
       "<tr class=\"tf\"><td class=\"tf\">17</td><td class=\"tf\"> <a href=\"https://shebanq.ancient-data.org/hebrew/text?book=Samuel_I&amp;chapter=25&amp;verse=25&amp;version=c&amp;mr=m&amp;qw=q&amp;tp=txt_p&amp;tr=hb&amp;wget=v&amp;qget=v&amp;nget=vt\" title=\"show this passage in SHEBANQ\" sec=\"1_Samuel 25:25\">1_Samuel 25:25</a></td><td class=\"tf\"><span class=\"hb\"><a href=\"https://shebanq.ancient-data.org/hebrew/text?book=Samuel_I&amp;chapter=25&amp;verse=25&amp;version=c&amp;mr=m&amp;qw=q&amp;tp=txt_p&amp;tr=hb&amp;wget=v&amp;qget=v&amp;nget=vt\" title=\"1_Samuel 25:25\" sec=\"1_Samuel 25:25\"><span  class=\"hl hlup\" >נְבָלָ֖ה </span></a></span> <i>1000009</i> </td><td class=\"tf\"><span class=\"hb\"><span  class=\"hl hlup\" >נְבָלָ֖ה </span></span> <i>157068</i> </td></tr>\n",
       "<tr class=\"tf\"><td class=\"tf\">18</td><td class=\"tf\"> <a href=\"https://shebanq.ancient-data.org/hebrew/text?book=Esra&amp;chapter=5&amp;verse=12&amp;version=c&amp;mr=m&amp;qw=q&amp;tp=txt_p&amp;tr=hb&amp;wget=v&amp;qget=v&amp;nget=vt\" title=\"show this passage in SHEBANQ\" sec=\"Ezra 5:12\">Ezra 5:12</a></td><td class=\"tf\"><span class=\"hb\"><a href=\"https://shebanq.ancient-data.org/hebrew/text?book=Esra&amp;chapter=5&amp;verse=12&amp;version=c&amp;mr=m&amp;qw=q&amp;tp=txt_p&amp;tr=hb&amp;wget=v&amp;qget=v&amp;nget=vt\" title=\"Ezra 5:12\" sec=\"Ezra 5:12\"><span  class=\"hl hlup\" >כַּסְדָּאָ֑ה </span></a></span> <i>1147015</i> </td><td class=\"tf\"><span class=\"hb\"><span  class=\"hl hlup\" >כַּסְדָּאָ֑ה </span></span> <i>380280</i> </td></tr>\n",
       "<tr class=\"tf\"><td class=\"tf\">19</td><td class=\"tf\"> <a href=\"https://shebanq.ancient-data.org/hebrew/text?book=Leviticus&amp;chapter=14&amp;verse=26&amp;version=c&amp;mr=m&amp;qw=q&amp;tp=txt_p&amp;tr=hb&amp;wget=v&amp;qget=v&amp;nget=vt\" title=\"show this passage in SHEBANQ\" sec=\"Leviticus 14:26\">Leviticus 14:26</a></td><td class=\"tf\"><span class=\"hb\"><a href=\"https://shebanq.ancient-data.org/hebrew/text?book=Leviticus&amp;chapter=14&amp;verse=26&amp;version=c&amp;mr=m&amp;qw=q&amp;tp=txt_p&amp;tr=hb&amp;wget=v&amp;qget=v&amp;nget=vt\" title=\"Leviticus 14:26\" sec=\"Leviticus 14:26\"><span  class=\"hlup\" >הַ</span><span  class=\"hl hlup\" >כֹּהֵ֑ן </span></a></span> <i>941963</i> </td><td class=\"tf\"><span class=\"hb\"><span  class=\"hl hlup\" >כֹּהֵ֑ן </span></span> <i>60836</i> </td></tr>\n",
       "<tr class=\"tf\"><td class=\"tf\">20</td><td class=\"tf\"> <a href=\"https://shebanq.ancient-data.org/hebrew/text?book=Judices&amp;chapter=19&amp;verse=5&amp;version=c&amp;mr=m&amp;qw=q&amp;tp=txt_p&amp;tr=hb&amp;wget=v&amp;qget=v&amp;nget=vt\" title=\"show this passage in SHEBANQ\" sec=\"Judges 19:5\">Judges 19:5</a></td><td class=\"tf\"><span class=\"hb\"><a href=\"https://shebanq.ancient-data.org/hebrew/text?book=Judices&amp;chapter=19&amp;verse=5&amp;version=c&amp;mr=m&amp;qw=q&amp;tp=txt_p&amp;tr=hb&amp;wget=v&amp;qget=v&amp;nget=vt\" title=\"Judges 19:5\" sec=\"Judges 19:5\"><span  class=\"hl hlup\" >לִבְּךָ֛ </span></a></span> <i>988237</i> </td><td class=\"tf\"><span class=\"hb\"><span  class=\"hl hlup\" >לִבְּךָ֛ </span></span> <i>139206</i> </td></tr></table>"
      ],
      "text/plain": [
       "<IPython.core.display.HTML object>"
      ]
     },
     "metadata": {},
     "output_type": "display_data"
    }
   ],
   "source": [
    "random.shuffle(simpleres)\n",
    "A.table(simpleres, end=20, withNodes=True)"
   ]
  },
  {
   "cell_type": "markdown",
   "metadata": {},
   "source": [
    "These cases are great. We add them and continue on with the quest."
   ]
  },
  {
   "cell_type": "code",
   "execution_count": 22,
   "metadata": {},
   "outputs": [],
   "source": [
    "covered |= set(simpleres)"
   ]
  },
  {
   "cell_type": "code",
   "execution_count": 23,
   "metadata": {},
   "outputs": [
    {
     "name": "stdout",
     "output_type": "stream",
     "text": [
      "19738\n"
     ]
    }
   ],
   "source": [
    "prog() # progress"
   ]
  },
  {
   "cell_type": "markdown",
   "metadata": {},
   "source": [
    "**From now on, things get complicated.** We need a function that tests a candidate's syntactic autonomy. That is done by looking at the positions before and after the candidate within the phrase_atom and by applying classical rules of Hebrew noun syntax."
   ]
  },
  {
   "cell_type": "markdown",
   "metadata": {},
   "source": [
    "### Valid Pair Disambiguation\n",
    "\n",
    "In many cases a valid coordinate pair is invalidated due to the immediately preceding term. An example might be found in Hosea 1:2:\n",
    "\n",
    "> Hosea 1:2 אֵ֤שֶׁת זְנוּנִים֙ וְיַלְדֵ֣י זְנוּנִ֔ים\n",
    "\n",
    "Here both אשׁה and ילד should be selected as semantic heads. But the algorithm would see ינונים וילדי and assume that ילד is connected with ינונים rather than אשׁה. As a result, the algorithm will evaluate ילד as coordinate with a non-head word and thus eliminate it as a candidate. \n",
    "\n",
    "How might we disambiguate such cases?\n",
    "\n",
    "I propose that the item `B` in an `A & B` coordination are more semantically similar than other words. One way to detect this is to find examples of `A & B` pairs across the corpus where there are no intervening words.\n",
    "\n",
    "***Shallow Method***\n",
    "> if `A & B`<br>\n",
    "> then `A of C & B == A & B`\n",
    "\n",
    "I do not yet know whether this method alone is powerful enough to disambiguate all cases. As a last resort, we may eventually require vector semantic data. Then we could say:\n",
    "\n",
    "***Vector Semantic Method***\n",
    "> if `A ~ B`<br>\n",
    "> then `A of C & B == A & B`"
   ]
  },
  {
   "cell_type": "markdown",
   "metadata": {},
   "source": [
    "#### The Shallow Method\n",
    "\n",
    "Herein we make mappings of acceptable lexeme pairings. Everywhere in the HB that `A & B` is found, we make a mapping of `A` to `B` and `B` to `A`. We can maximize the method's effectiveness by also recording pairwise relations across all pairs in a conjunction chain, so that:\n",
    "\n",
    "> given `A & B & C` <br>\n",
    "> then `A ~ C` <br>\n",
    "> and `B ~ C` <br>\n",
    "> etc."
   ]
  },
  {
   "cell_type": "code",
   "execution_count": 24,
   "metadata": {},
   "outputs": [
    {
     "name": "stdout",
     "output_type": "stream",
     "text": [
      "3025 valid pairs added...\n"
     ]
    }
   ],
   "source": [
    "subs = {'subs', 'nmpr', 'adjv'}\n",
    "\n",
    "def conj_climber(a):\n",
    "    '''\n",
    "    Climbs down conjunction chains recursively\n",
    "    and yields the words. Start with first word.\n",
    "    '''\n",
    "    yield a\n",
    "    \n",
    "    pos = Positions(a, 'phrase')\n",
    "    \n",
    "    b = (\n",
    "        (pos[2] if F.sp.v(pos[1])=='conj' and F.sp.v(pos[2])!='art' and F.sp.v(pos[2]) in subs else None)\n",
    "    \n",
    "        or (pos[3] if F.sp.v(pos[-1])=='art' and F.sp.v(pos[1])=='conj'\n",
    "                and F.sp.v(pos[2])=='art' and F.sp.v(pos[2]) in subs else None)\n",
    "    \n",
    "        or (pos[3] if F.sp.v(pos[-1])=='prep' and F.sp.v(pos[1])=='conj'\n",
    "                and F.sp.v(pos[2])=='prep' and F.sp.v(pos[3]) in subs else None)\n",
    "    \n",
    "        or (pos[3] if F.sp.v(pos[-1])=='art' and F.sp.v(pos[-2])=='prep' \n",
    "               and F.sp.v(pos[1])=='conj' and F.sp.v(pos[2])=='art' and F.sp.v(pos[3])=='prep'\n",
    "               and F.sp.v(pos[4]) in subs else None)\n",
    "        )\n",
    "    \n",
    "    if b:\n",
    "        yield from conj_climber(b)\n",
    "        \n",
    "\n",
    "covered = set() # skip items already matched\n",
    "valid_pairs = collections.defaultdict(set)\n",
    "\n",
    "for w in F.otype.s('word'):\n",
    "    \n",
    "    # skip words already visited in a chain\n",
    "    if w in covered:\n",
    "        continue\n",
    "        \n",
    "    # check for chain\n",
    "    chain = list(conj_climber(w))\n",
    "    if not chain:\n",
    "        continue\n",
    "        \n",
    "    # add pairs\n",
    "    for i in chain:\n",
    "        for j in chain:\n",
    "            \n",
    "#             if F.lex.v(i)=='>RY/' and F.lex.v(j) == '<WP/':\n",
    "#                 raise Exception(w, chain)\n",
    "            \n",
    "            if i == j:\n",
    "                continue\n",
    "            valid_pairs[F.lex.v(i)].add(F.lex.v(j))\n",
    "            \n",
    "print(len(valid_pairs), 'valid pairs added...')"
   ]
  },
  {
   "cell_type": "code",
   "execution_count": 25,
   "metadata": {},
   "outputs": [
    {
     "name": "stdout",
     "output_type": "stream",
     "text": [
      "3025 valid pairs added...\n"
     ]
    }
   ],
   "source": [
    "# expand the set\n",
    "\n",
    "expanded_pairs = collections.defaultdict(set)\n",
    "\n",
    "for lex, pairs in valid_pairs.items():\n",
    "    for paired in pairs:\n",
    "        expanded_pairs[lex] |= valid_pairs[paired]\n",
    "\n",
    "print(len(valid_pairs), 'valid pairs added...')"
   ]
  },
  {
   "cell_type": "code",
   "execution_count": 245,
   "metadata": {},
   "outputs": [],
   "source": [
    "#expanded_pairs['>RY/']"
   ]
  },
  {
   "cell_type": "code",
   "execution_count": 249,
   "metadata": {},
   "outputs": [
    {
     "data": {
      "text/plain": [
       "False"
      ]
     },
     "execution_count": 249,
     "metadata": {},
     "output_type": "execute_result"
    }
   ],
   "source": [
    "'DGH/' in expanded_pairs['<WP/']"
   ]
  },
  {
   "cell_type": "code",
   "execution_count": 261,
   "metadata": {},
   "outputs": [
    {
     "data": {
      "text/plain": [
       "{'<NN/',\n",
       " '>JC/',\n",
       " '>RJH/',\n",
       " 'BKJ/',\n",
       " 'BRD/',\n",
       " 'BRQ/',\n",
       " 'FFWN/',\n",
       " 'KNWR/',\n",
       " 'MVR/',\n",
       " 'R<C/',\n",
       " 'R<M/',\n",
       " 'TRW<H/',\n",
       " 'TWDH/',\n",
       " 'XTN/',\n",
       " 'XYYRH/'}"
      ]
     },
     "execution_count": 261,
     "metadata": {},
     "output_type": "execute_result"
    }
   ],
   "source": [
    "valid_pairs['QWL/']"
   ]
  },
  {
   "cell_type": "code",
   "execution_count": 251,
   "metadata": {},
   "outputs": [
    {
     "data": {
      "text/plain": [
       "{'>LHJM/', '>RY/', 'BJN/', 'CMJM/', 'DG/', 'KL/', 'KSJL=/', 'RMF/', 'XJH/'}"
      ]
     },
     "execution_count": 251,
     "metadata": {},
     "output_type": "execute_result"
    }
   ],
   "source": [
    "valid_pairs['CMJM/']"
   ]
  },
  {
   "cell_type": "code",
   "execution_count": 240,
   "metadata": {},
   "outputs": [
    {
     "data": {
      "text/plain": [
       "{'>LHJM/', '>RY/', 'BJN/', 'CMJM/', 'DG/', 'KL/', 'KSJL=/', 'RMF/', 'XJH/'}"
      ]
     },
     "execution_count": 240,
     "metadata": {},
     "output_type": "execute_result"
    }
   ],
   "source": [
    "valid_pairs['CMJM/']"
   ]
  },
  {
   "cell_type": "code",
   "execution_count": 225,
   "metadata": {},
   "outputs": [
    {
     "data": {
      "text/plain": [
       "1414379"
      ]
     },
     "execution_count": 225,
     "metadata": {},
     "output_type": "execute_result"
    }
   ],
   "source": [
    "T.nodeFromSection(('Genesis', 1, 26))"
   ]
  },
  {
   "cell_type": "code",
   "execution_count": 248,
   "metadata": {},
   "outputs": [
    {
     "data": {
      "text/plain": [
       "'DGH/'"
      ]
     },
     "execution_count": 248,
     "metadata": {},
     "output_type": "execute_result"
    }
   ],
   "source": [
    "F.lex.v(507)"
   ]
  },
  {
   "cell_type": "markdown",
   "metadata": {},
   "source": [
    "The example below shows that I will need a more robust disambiguation method. I am now considering options."
   ]
  },
  {
   "cell_type": "code",
   "execution_count": 229,
   "metadata": {},
   "outputs": [
    {
     "data": {
      "text/html": [
       "<a href=\"https://shebanq.ancient-data.org/hebrew/text?book=Genesis&amp;chapter=1&amp;verse=26&amp;version=c&amp;mr=m&amp;qw=q&amp;tp=txt_p&amp;tr=hb&amp;wget=v&amp;qget=v&amp;nget=vt\" title=\"show this passage in SHEBANQ\" sec=\"Genesis 1:26\">Genesis 1:26</a>\n",
       "<div class=\"atoms  \" >\n",
       "<a href=\"#\" class=\"nd\">651834</a>\n",
       "\n",
       "\n",
       "\n",
       "<div class=\"patom  l \" >\n",
       "\n",
       "    <div class=\"phrase \" >\n",
       "        <a href=\"https://shebanq.ancient-data.org/hebrew/text?book=Genesis&amp;chapter=1&amp;verse=26&amp;version=c&amp;mr=m&amp;qw=q&amp;tp=txt_p&amp;tr=hb&amp;wget=v&amp;qget=v&amp;nget=vt\" title=\"Genesis 1:26\" sec=\"Genesis 1:26\">phrase</a> <a href=\"#\" class=\"nd\">651834</a>  <span class=\"function\">Cmpl</span> <span class=\"typ\">PP</span>\n",
       "    </div>\n",
       "    <div class=\"atoms\">\n",
       "\n",
       "<div class=\"word  \" >\n",
       "<a href=\"#\" class=\"nd\">506</a>\n",
       "<div class=\"h\"><a target=\"_blank\" href=\"https://shebanq.ancient-data.org/hebrew/word?version=c&amp;id=1B\" title=\"show this lexeme in SHEBANQ\">בִ</a></div>\n",
       "<div class=\"features\"> <span class=\"pdp\"><a href=\"https://shebanq.ancient-data.org/hebrew/text?book=Genesis&amp;chapter=1&amp;verse=26&amp;version=c&amp;mr=m&amp;qw=q&amp;tp=txt_p&amp;tr=hb&amp;wget=v&amp;qget=v&amp;nget=vt\" title=\"Genesis 1:26\" sec=\"Genesis 1:26\">prep</a></span> <span class=\"gloss\">in</span> <span class=\"sp xft\"><span class=\"f\">sp=</span>prep</span></div>\n",
       "\n",
       "\n",
       "</div>\n",
       "\n",
       "<div class=\"word  \" >\n",
       "<a href=\"#\" class=\"nd\">507</a>\n",
       "<div class=\"h\"><a target=\"_blank\" href=\"https://shebanq.ancient-data.org/hebrew/word?version=c&amp;id=1DGHn\" title=\"show this lexeme in SHEBANQ\">דְגַ֨ת </a></div>\n",
       "<div class=\"features\"> <span class=\"pdp\"><a href=\"https://shebanq.ancient-data.org/hebrew/text?book=Genesis&amp;chapter=1&amp;verse=26&amp;version=c&amp;mr=m&amp;qw=q&amp;tp=txt_p&amp;tr=hb&amp;wget=v&amp;qget=v&amp;nget=vt\" title=\"Genesis 1:26\" sec=\"Genesis 1:26\">subs</a></span> <span class=\"gloss\">fish</span> <span class=\"sp xft\"><span class=\"f\">sp=</span>subs</span></div>\n",
       "\n",
       "\n",
       "</div>\n",
       "\n",
       "<div class=\"word  \" >\n",
       "<a href=\"#\" class=\"nd\">508</a>\n",
       "<div class=\"h\"><a target=\"_blank\" href=\"https://shebanq.ancient-data.org/hebrew/word?version=c&amp;id=1H\" title=\"show this lexeme in SHEBANQ\">הַ</a></div>\n",
       "<div class=\"features\"> <span class=\"pdp\"><a href=\"https://shebanq.ancient-data.org/hebrew/text?book=Genesis&amp;chapter=1&amp;verse=26&amp;version=c&amp;mr=m&amp;qw=q&amp;tp=txt_p&amp;tr=hb&amp;wget=v&amp;qget=v&amp;nget=vt\" title=\"Genesis 1:26\" sec=\"Genesis 1:26\">art</a></span> <span class=\"gloss\">the</span> <span class=\"sp xft\"><span class=\"f\">sp=</span>art</span></div>\n",
       "\n",
       "\n",
       "</div>\n",
       "\n",
       "<div class=\"word  \" >\n",
       "<a href=\"#\" class=\"nd\">509</a>\n",
       "<div class=\"h\"><a target=\"_blank\" href=\"https://shebanq.ancient-data.org/hebrew/word?version=c&amp;id=1JMn\" title=\"show this lexeme in SHEBANQ\">יָּ֜ם </a></div>\n",
       "<div class=\"features\"> <span class=\"pdp\"><a href=\"https://shebanq.ancient-data.org/hebrew/text?book=Genesis&amp;chapter=1&amp;verse=26&amp;version=c&amp;mr=m&amp;qw=q&amp;tp=txt_p&amp;tr=hb&amp;wget=v&amp;qget=v&amp;nget=vt\" title=\"Genesis 1:26\" sec=\"Genesis 1:26\">subs</a></span> <span class=\"gloss\">sea</span> <span class=\"sp xft\"><span class=\"f\">sp=</span>subs</span></div>\n",
       "\n",
       "\n",
       "</div>\n",
       "\n",
       "<div class=\"word  \" >\n",
       "<a href=\"#\" class=\"nd\">510</a>\n",
       "<div class=\"h\"><a target=\"_blank\" href=\"https://shebanq.ancient-data.org/hebrew/word?version=c&amp;id=1W\" title=\"show this lexeme in SHEBANQ\">וּ</a></div>\n",
       "<div class=\"features\"> <span class=\"pdp\"><a href=\"https://shebanq.ancient-data.org/hebrew/text?book=Genesis&amp;chapter=1&amp;verse=26&amp;version=c&amp;mr=m&amp;qw=q&amp;tp=txt_p&amp;tr=hb&amp;wget=v&amp;qget=v&amp;nget=vt\" title=\"Genesis 1:26\" sec=\"Genesis 1:26\">conj</a></span> <span class=\"gloss\">and</span> <span class=\"sp xft\"><span class=\"f\">sp=</span>conj</span></div>\n",
       "\n",
       "\n",
       "</div>\n",
       "\n",
       "<div class=\"word  \" >\n",
       "<a href=\"#\" class=\"nd\">511</a>\n",
       "<div class=\"h\"><a target=\"_blank\" href=\"https://shebanq.ancient-data.org/hebrew/word?version=c&amp;id=1B\" title=\"show this lexeme in SHEBANQ\">בְ</a></div>\n",
       "<div class=\"features\"> <span class=\"pdp\"><a href=\"https://shebanq.ancient-data.org/hebrew/text?book=Genesis&amp;chapter=1&amp;verse=26&amp;version=c&amp;mr=m&amp;qw=q&amp;tp=txt_p&amp;tr=hb&amp;wget=v&amp;qget=v&amp;nget=vt\" title=\"Genesis 1:26\" sec=\"Genesis 1:26\">prep</a></span> <span class=\"gloss\">in</span> <span class=\"sp xft\"><span class=\"f\">sp=</span>prep</span></div>\n",
       "\n",
       "\n",
       "</div>\n",
       "\n",
       "<div class=\"word  \" >\n",
       "<a href=\"#\" class=\"nd\">512</a>\n",
       "<div class=\"h\"><a target=\"_blank\" href=\"https://shebanq.ancient-data.org/hebrew/word?version=c&amp;id=1OWPn\" title=\"show this lexeme in SHEBANQ\">עֹ֣וף </a></div>\n",
       "<div class=\"features\"> <span class=\"pdp\"><a href=\"https://shebanq.ancient-data.org/hebrew/text?book=Genesis&amp;chapter=1&amp;verse=26&amp;version=c&amp;mr=m&amp;qw=q&amp;tp=txt_p&amp;tr=hb&amp;wget=v&amp;qget=v&amp;nget=vt\" title=\"Genesis 1:26\" sec=\"Genesis 1:26\">subs</a></span> <span class=\"gloss\">birds</span> <span class=\"sp xft\"><span class=\"f\">sp=</span>subs</span></div>\n",
       "\n",
       "\n",
       "</div>\n",
       "\n",
       "<div class=\"word  \" >\n",
       "<a href=\"#\" class=\"nd\">513</a>\n",
       "<div class=\"h\"><a target=\"_blank\" href=\"https://shebanq.ancient-data.org/hebrew/word?version=c&amp;id=1H\" title=\"show this lexeme in SHEBANQ\">הַ</a></div>\n",
       "<div class=\"features\"> <span class=\"pdp\"><a href=\"https://shebanq.ancient-data.org/hebrew/text?book=Genesis&amp;chapter=1&amp;verse=26&amp;version=c&amp;mr=m&amp;qw=q&amp;tp=txt_p&amp;tr=hb&amp;wget=v&amp;qget=v&amp;nget=vt\" title=\"Genesis 1:26\" sec=\"Genesis 1:26\">art</a></span> <span class=\"gloss\">the</span> <span class=\"sp xft\"><span class=\"f\">sp=</span>art</span></div>\n",
       "\n",
       "\n",
       "</div>\n",
       "\n",
       "<div class=\"word  \" >\n",
       "<a href=\"#\" class=\"nd\">514</a>\n",
       "<div class=\"h\"><a target=\"_blank\" href=\"https://shebanq.ancient-data.org/hebrew/word?version=c&amp;id=1CMJMn\" title=\"show this lexeme in SHEBANQ\">שָּׁמַ֗יִם </a></div>\n",
       "<div class=\"features\"> <span class=\"pdp\"><a href=\"https://shebanq.ancient-data.org/hebrew/text?book=Genesis&amp;chapter=1&amp;verse=26&amp;version=c&amp;mr=m&amp;qw=q&amp;tp=txt_p&amp;tr=hb&amp;wget=v&amp;qget=v&amp;nget=vt\" title=\"Genesis 1:26\" sec=\"Genesis 1:26\">subs</a></span> <span class=\"gloss\">heavens</span> <span class=\"sp xft\"><span class=\"f\">sp=</span>subs</span></div>\n",
       "\n",
       "\n",
       "</div>\n",
       "\n",
       "<div class=\"word  \" >\n",
       "<a href=\"#\" class=\"nd\">515</a>\n",
       "<div class=\"h\"><a target=\"_blank\" href=\"https://shebanq.ancient-data.org/hebrew/word?version=c&amp;id=1W\" title=\"show this lexeme in SHEBANQ\">וּ</a></div>\n",
       "<div class=\"features\"> <span class=\"pdp\"><a href=\"https://shebanq.ancient-data.org/hebrew/text?book=Genesis&amp;chapter=1&amp;verse=26&amp;version=c&amp;mr=m&amp;qw=q&amp;tp=txt_p&amp;tr=hb&amp;wget=v&amp;qget=v&amp;nget=vt\" title=\"Genesis 1:26\" sec=\"Genesis 1:26\">conj</a></span> <span class=\"gloss\">and</span> <span class=\"sp xft\"><span class=\"f\">sp=</span>conj</span></div>\n",
       "\n",
       "\n",
       "</div>\n",
       "\n",
       "<div class=\"word  \" >\n",
       "<a href=\"#\" class=\"nd\">516</a>\n",
       "<div class=\"h\"><a target=\"_blank\" href=\"https://shebanq.ancient-data.org/hebrew/word?version=c&amp;id=1B\" title=\"show this lexeme in SHEBANQ\">בַ</a></div>\n",
       "<div class=\"features\"> <span class=\"pdp\"><a href=\"https://shebanq.ancient-data.org/hebrew/text?book=Genesis&amp;chapter=1&amp;verse=26&amp;version=c&amp;mr=m&amp;qw=q&amp;tp=txt_p&amp;tr=hb&amp;wget=v&amp;qget=v&amp;nget=vt\" title=\"Genesis 1:26\" sec=\"Genesis 1:26\">prep</a></span> <span class=\"gloss\">in</span> <span class=\"sp xft\"><span class=\"f\">sp=</span>prep</span></div>\n",
       "\n",
       "\n",
       "</div>\n",
       "\n",
       "<div class=\"word  \" >\n",
       "<a href=\"#\" class=\"nd\">517</a>\n",
       "<div class=\"h\"><a target=\"_blank\" href=\"https://shebanq.ancient-data.org/hebrew/word?version=c&amp;id=1H\" title=\"show this lexeme in SHEBANQ\"></a></div>\n",
       "<div class=\"features\"> <span class=\"pdp\"><a href=\"https://shebanq.ancient-data.org/hebrew/text?book=Genesis&amp;chapter=1&amp;verse=26&amp;version=c&amp;mr=m&amp;qw=q&amp;tp=txt_p&amp;tr=hb&amp;wget=v&amp;qget=v&amp;nget=vt\" title=\"Genesis 1:26\" sec=\"Genesis 1:26\">art</a></span> <span class=\"gloss\">the</span> <span class=\"sp xft\"><span class=\"f\">sp=</span>art</span></div>\n",
       "\n",
       "\n",
       "</div>\n",
       "\n",
       "<div class=\"word  \" >\n",
       "<a href=\"#\" class=\"nd\">518</a>\n",
       "<div class=\"h\"><a target=\"_blank\" href=\"https://shebanq.ancient-data.org/hebrew/word?version=c&amp;id=1BHMHn\" title=\"show this lexeme in SHEBANQ\">בְּהֵמָה֙ </a></div>\n",
       "<div class=\"features\"> <span class=\"pdp\"><a href=\"https://shebanq.ancient-data.org/hebrew/text?book=Genesis&amp;chapter=1&amp;verse=26&amp;version=c&amp;mr=m&amp;qw=q&amp;tp=txt_p&amp;tr=hb&amp;wget=v&amp;qget=v&amp;nget=vt\" title=\"Genesis 1:26\" sec=\"Genesis 1:26\">subs</a></span> <span class=\"gloss\">cattle</span> <span class=\"sp xft\"><span class=\"f\">sp=</span>subs</span></div>\n",
       "\n",
       "\n",
       "</div>\n",
       "\n",
       "<div class=\"word  \" >\n",
       "<a href=\"#\" class=\"nd\">519</a>\n",
       "<div class=\"h\"><a target=\"_blank\" href=\"https://shebanq.ancient-data.org/hebrew/word?version=c&amp;id=1W\" title=\"show this lexeme in SHEBANQ\">וּ</a></div>\n",
       "<div class=\"features\"> <span class=\"pdp\"><a href=\"https://shebanq.ancient-data.org/hebrew/text?book=Genesis&amp;chapter=1&amp;verse=26&amp;version=c&amp;mr=m&amp;qw=q&amp;tp=txt_p&amp;tr=hb&amp;wget=v&amp;qget=v&amp;nget=vt\" title=\"Genesis 1:26\" sec=\"Genesis 1:26\">conj</a></span> <span class=\"gloss\">and</span> <span class=\"sp xft\"><span class=\"f\">sp=</span>conj</span></div>\n",
       "\n",
       "\n",
       "</div>\n",
       "\n",
       "<div class=\"word  \" >\n",
       "<a href=\"#\" class=\"nd\">520</a>\n",
       "<div class=\"h\"><a target=\"_blank\" href=\"https://shebanq.ancient-data.org/hebrew/word?version=c&amp;id=1B\" title=\"show this lexeme in SHEBANQ\">בְ</a></div>\n",
       "<div class=\"features\"> <span class=\"pdp\"><a href=\"https://shebanq.ancient-data.org/hebrew/text?book=Genesis&amp;chapter=1&amp;verse=26&amp;version=c&amp;mr=m&amp;qw=q&amp;tp=txt_p&amp;tr=hb&amp;wget=v&amp;qget=v&amp;nget=vt\" title=\"Genesis 1:26\" sec=\"Genesis 1:26\">prep</a></span> <span class=\"gloss\">in</span> <span class=\"sp xft\"><span class=\"f\">sp=</span>prep</span></div>\n",
       "\n",
       "\n",
       "</div>\n",
       "\n",
       "<div class=\"word  \" >\n",
       "<a href=\"#\" class=\"nd\">521</a>\n",
       "<div class=\"h\"><a target=\"_blank\" href=\"https://shebanq.ancient-data.org/hebrew/word?version=c&amp;id=1KLn\" title=\"show this lexeme in SHEBANQ\">כָל־</a></div>\n",
       "<div class=\"features\"> <span class=\"pdp\"><a href=\"https://shebanq.ancient-data.org/hebrew/text?book=Genesis&amp;chapter=1&amp;verse=26&amp;version=c&amp;mr=m&amp;qw=q&amp;tp=txt_p&amp;tr=hb&amp;wget=v&amp;qget=v&amp;nget=vt\" title=\"Genesis 1:26\" sec=\"Genesis 1:26\">subs</a></span> <span class=\"gloss\">whole</span> <span class=\"sp xft\"><span class=\"f\">sp=</span>subs</span></div>\n",
       "\n",
       "\n",
       "</div>\n",
       "\n",
       "<div class=\"word  \" >\n",
       "<a href=\"#\" class=\"nd\">522</a>\n",
       "<div class=\"h\"><a target=\"_blank\" href=\"https://shebanq.ancient-data.org/hebrew/word?version=c&amp;id=1H\" title=\"show this lexeme in SHEBANQ\">הָ</a></div>\n",
       "<div class=\"features\"> <span class=\"pdp\"><a href=\"https://shebanq.ancient-data.org/hebrew/text?book=Genesis&amp;chapter=1&amp;verse=26&amp;version=c&amp;mr=m&amp;qw=q&amp;tp=txt_p&amp;tr=hb&amp;wget=v&amp;qget=v&amp;nget=vt\" title=\"Genesis 1:26\" sec=\"Genesis 1:26\">art</a></span> <span class=\"gloss\">the</span> <span class=\"sp xft\"><span class=\"f\">sp=</span>art</span></div>\n",
       "\n",
       "\n",
       "</div>\n",
       "\n",
       "<div class=\"word  \" >\n",
       "<a href=\"#\" class=\"nd\">523</a>\n",
       "<div class=\"h\"><a target=\"_blank\" href=\"https://shebanq.ancient-data.org/hebrew/word?version=c&amp;id=1ARYn\" title=\"show this lexeme in SHEBANQ\">אָ֔רֶץ </a></div>\n",
       "<div class=\"features\"> <span class=\"pdp\"><a href=\"https://shebanq.ancient-data.org/hebrew/text?book=Genesis&amp;chapter=1&amp;verse=26&amp;version=c&amp;mr=m&amp;qw=q&amp;tp=txt_p&amp;tr=hb&amp;wget=v&amp;qget=v&amp;nget=vt\" title=\"Genesis 1:26\" sec=\"Genesis 1:26\">subs</a></span> <span class=\"gloss\">earth</span> <span class=\"sp xft\"><span class=\"f\">sp=</span>subs</span></div>\n",
       "\n",
       "\n",
       "</div>\n",
       "\n",
       "\n",
       "    </div>\n",
       "\n",
       "\n",
       "</div>\n",
       "\n",
       "<div class=\"patom  r l \" >\n",
       "\n",
       "    <div class=\"phrase \" >\n",
       "        <a href=\"https://shebanq.ancient-data.org/hebrew/text?book=Genesis&amp;chapter=1&amp;verse=26&amp;version=c&amp;mr=m&amp;qw=q&amp;tp=txt_p&amp;tr=hb&amp;wget=v&amp;qget=v&amp;nget=vt\" title=\"Genesis 1:26\" sec=\"Genesis 1:26\">phrase</a> <a href=\"#\" class=\"nd\">651834</a>  <span class=\"function\">Cmpl</span> <span class=\"typ\">PP|CP</span>\n",
       "    </div>\n",
       "    <div class=\"atoms\">\n",
       "\n",
       "<div class=\"word  \" >\n",
       "<a href=\"#\" class=\"nd\">524</a>\n",
       "<div class=\"h\"><a target=\"_blank\" href=\"https://shebanq.ancient-data.org/hebrew/word?version=c&amp;id=1W\" title=\"show this lexeme in SHEBANQ\">וּ</a></div>\n",
       "<div class=\"features\"> <span class=\"pdp\"><a href=\"https://shebanq.ancient-data.org/hebrew/text?book=Genesis&amp;chapter=1&amp;verse=26&amp;version=c&amp;mr=m&amp;qw=q&amp;tp=txt_p&amp;tr=hb&amp;wget=v&amp;qget=v&amp;nget=vt\" title=\"Genesis 1:26\" sec=\"Genesis 1:26\">conj</a></span> <span class=\"gloss\">and</span> <span class=\"sp xft\"><span class=\"f\">sp=</span>conj</span></div>\n",
       "\n",
       "\n",
       "</div>\n",
       "\n",
       "\n",
       "    </div>\n",
       "\n",
       "\n",
       "</div>\n",
       "\n",
       "<div class=\"patom  r \" >\n",
       "\n",
       "    <div class=\"phrase \" >\n",
       "        <a href=\"https://shebanq.ancient-data.org/hebrew/text?book=Genesis&amp;chapter=1&amp;verse=26&amp;version=c&amp;mr=m&amp;qw=q&amp;tp=txt_p&amp;tr=hb&amp;wget=v&amp;qget=v&amp;nget=vt\" title=\"Genesis 1:26\" sec=\"Genesis 1:26\">phrase</a> <a href=\"#\" class=\"nd\">651834</a>  <span class=\"function\">Cmpl</span> <span class=\"typ\">PP</span>\n",
       "    </div>\n",
       "    <div class=\"atoms\">\n",
       "\n",
       "<div class=\"word  \" >\n",
       "<a href=\"#\" class=\"nd\">525</a>\n",
       "<div class=\"h\"><a target=\"_blank\" href=\"https://shebanq.ancient-data.org/hebrew/word?version=c&amp;id=1B\" title=\"show this lexeme in SHEBANQ\">בְ</a></div>\n",
       "<div class=\"features\"> <span class=\"pdp\"><a href=\"https://shebanq.ancient-data.org/hebrew/text?book=Genesis&amp;chapter=1&amp;verse=26&amp;version=c&amp;mr=m&amp;qw=q&amp;tp=txt_p&amp;tr=hb&amp;wget=v&amp;qget=v&amp;nget=vt\" title=\"Genesis 1:26\" sec=\"Genesis 1:26\">prep</a></span> <span class=\"gloss\">in</span> <span class=\"sp xft\"><span class=\"f\">sp=</span>prep</span></div>\n",
       "\n",
       "\n",
       "</div>\n",
       "\n",
       "<div class=\"word  \" >\n",
       "<a href=\"#\" class=\"nd\">526</a>\n",
       "<div class=\"h\"><a target=\"_blank\" href=\"https://shebanq.ancient-data.org/hebrew/word?version=c&amp;id=1KLn\" title=\"show this lexeme in SHEBANQ\">כָל־</a></div>\n",
       "<div class=\"features\"> <span class=\"pdp\"><a href=\"https://shebanq.ancient-data.org/hebrew/text?book=Genesis&amp;chapter=1&amp;verse=26&amp;version=c&amp;mr=m&amp;qw=q&amp;tp=txt_p&amp;tr=hb&amp;wget=v&amp;qget=v&amp;nget=vt\" title=\"Genesis 1:26\" sec=\"Genesis 1:26\">subs</a></span> <span class=\"gloss\">whole</span> <span class=\"sp xft\"><span class=\"f\">sp=</span>subs</span></div>\n",
       "\n",
       "\n",
       "</div>\n",
       "\n",
       "<div class=\"word  \" >\n",
       "<a href=\"#\" class=\"nd\">527</a>\n",
       "<div class=\"h\"><a target=\"_blank\" href=\"https://shebanq.ancient-data.org/hebrew/word?version=c&amp;id=1H\" title=\"show this lexeme in SHEBANQ\">הָ</a></div>\n",
       "<div class=\"features\"> <span class=\"pdp\"><a href=\"https://shebanq.ancient-data.org/hebrew/text?book=Genesis&amp;chapter=1&amp;verse=26&amp;version=c&amp;mr=m&amp;qw=q&amp;tp=txt_p&amp;tr=hb&amp;wget=v&amp;qget=v&amp;nget=vt\" title=\"Genesis 1:26\" sec=\"Genesis 1:26\">art</a></span> <span class=\"gloss\">the</span> <span class=\"sp xft\"><span class=\"f\">sp=</span>art</span></div>\n",
       "\n",
       "\n",
       "</div>\n",
       "\n",
       "<div class=\"word  \" >\n",
       "<a href=\"#\" class=\"nd\">528</a>\n",
       "<div class=\"h\"><a target=\"_blank\" href=\"https://shebanq.ancient-data.org/hebrew/word?version=c&amp;id=1RMFn\" title=\"show this lexeme in SHEBANQ\">רֶ֖מֶשׂ </a></div>\n",
       "<div class=\"features\"> <span class=\"pdp\"><a href=\"https://shebanq.ancient-data.org/hebrew/text?book=Genesis&amp;chapter=1&amp;verse=26&amp;version=c&amp;mr=m&amp;qw=q&amp;tp=txt_p&amp;tr=hb&amp;wget=v&amp;qget=v&amp;nget=vt\" title=\"Genesis 1:26\" sec=\"Genesis 1:26\">subs</a></span> <span class=\"gloss\">creeping animals</span> <span class=\"sp xft\"><span class=\"f\">sp=</span>subs</span></div>\n",
       "\n",
       "\n",
       "</div>\n",
       "\n",
       "\n",
       "    </div>\n",
       "\n",
       "\n",
       "</div>\n",
       "\n",
       "\n",
       "</div>\n"
      ],
      "text/plain": [
       "<IPython.core.display.HTML object>"
      ]
     },
     "metadata": {},
     "output_type": "display_data"
    }
   ],
   "source": [
    "A.pretty(651834, withNodes=True)"
   ]
  },
  {
   "cell_type": "markdown",
   "metadata": {},
   "source": [
    "### The Function"
   ]
  },
  {
   "cell_type": "code",
   "execution_count": 123,
   "metadata": {},
   "outputs": [],
   "source": [
    "ptcp = {'ptca', 'ptcp'} # participles\n",
    "\n",
    "# gather all candidates\n",
    "cands = [w for w in F.otype.s('word')\n",
    "            if F.sp.v(w) in cand_sps-{'verb'}] \n",
    "cands.extend(w for w in F.otype.s('word')\n",
    "                if F.sp.v(w) == 'verb' and F.vt.v(w) in ptcp)\n",
    "\n",
    "def val_head(cand, talk=False):\n",
    "    '''\n",
    "    Checks for the syntactic autonomy of a \n",
    "    provided NP head candidate (wordnode).\n",
    "    Arguments are loaded into a list with \n",
    "    the `check` function, which returns a \n",
    "    requested item if the arguments are valid.\n",
    "    '''\n",
    "    \n",
    "    if talk:\n",
    "        print(f'\\tprocessing {T.text(cand or 0)}', cand)\n",
    "    \n",
    "    # for recursive calls within phrase\n",
    "    if cand == None:\n",
    "        return False\n",
    "    \n",
    "    # get word positions around candidate\n",
    "    pos = Positions(cand, 'phrase_atom')\n",
    "    sp = F.sp.v(cand)\n",
    "    good = cand in cands\n",
    "    \n",
    "    # rules for classifying particular parts of speech\n",
    "    pos_rules = {\n",
    "        \n",
    "        'verb': F.vt.v(cand) in ptcp,\n",
    "        'prde': not any([F.sp.v(pos[-1]) in {'art', 'subs', 'adjv'},\n",
    "                         F.sp.v(pos[1] in {'subs', 'adjv'})])\n",
    "                }\n",
    "    \n",
    "    # construct pattern\n",
    "    const = clear([pos[-1] if F.st.v(pos[-1])=='c' else None,\n",
    "                   pos[-2] if F.st.v(pos[-2])=='c' and F.sp.v(pos[-1])=='art' else None\n",
    "                  ])\n",
    "    \n",
    "\n",
    "    # adjective patterns\n",
    "    adjv = clear([\n",
    "                  pos[-2] if (F.sp.v(pos[-1])=='art' and pos[-2] in cands) else None,\n",
    "                  pos[-1] if val_head(pos[-1]) else None\n",
    "        \n",
    "                 ])\n",
    "    \n",
    "    # prepositional modifier pattern\n",
    "    prep = clear([\n",
    "                  pos[-2] if (F.sp.v(pos[-1])=='prep' and val_head(pos[-2])) else None,\n",
    "                  pos[-3] if (F.sp.v(pos[-1])=='art' and F.sp.v(pos[-2])=='prep'\\\n",
    "                                  and val_head(pos[-3])) else None\n",
    "                ])\n",
    "    \n",
    "    # coordinate check\n",
    "    coord = clear([pos[-2] if F.sp.v(pos[-1])=='conj' and not val_head(pos[-2]) else None,\n",
    "                   pos[-3] if (F.sp.v(pos[-1])=='art' and F.sp.v(pos[-2])=='conj'\\\n",
    "                                   and not val_head(pos[-3])) else None,\n",
    "                   pos[-1] if not val_head(pos[-1]) and pos[-1] in cands else None # adjacent coordination: e.g. dog, cat, and man\n",
    "                  ])\n",
    "    \n",
    "    # quant check\n",
    "    quant = any([cand in quantifiers and pos[1] not in quantifiers,\n",
    "                 cand in quantifiers and pos[-1] not in quantifiers,\n",
    "                 cand in quantifiers and F.sp.v(pos[1])=='art' and pos[2] not in quantifiers,\n",
    "                ])\n",
    "    \n",
    "    # independence check\n",
    "    # quantifiers and modifiers are handled here\n",
    "    inde = []\n",
    "    inde.extend(c for c in const if not (c in quantifiers and cand not in quantifiers))\n",
    "    inde.extend(a for a in adjv if not (a in quantifiers and cand not in quantifiers))\n",
    "    inde.extend(c for c in coord if not (c in quantifiers and cand not in quantifiers))\n",
    "    inde_check = not inde and not prep and not quant\n",
    "    \n",
    "    # check all rules\n",
    "    if talk:\n",
    "        print('\\t\\t', inde)\n",
    "        print({'adjv': adjv,})\n",
    "        print('\\t\\t', good, pos_rules.get(sp, True),\n",
    "                inde_check)\n",
    "    \n",
    "    return all([\n",
    "                good, \n",
    "                pos_rules.get(sp, True),\n",
    "                inde_check\n",
    "               ])"
   ]
  },
  {
   "cell_type": "code",
   "execution_count": 84,
   "metadata": {},
   "outputs": [
    {
     "data": {
      "text/plain": [
       "892"
      ]
     },
     "execution_count": 84,
     "metadata": {},
     "output_type": "execute_result"
    }
   ],
   "source": [
    "# get complicated test phrases\n",
    "\n",
    "testers = []\n",
    "\n",
    "for p in nps:\n",
    "    \n",
    "    cands = [w for w in L.d(p, 'word') if F.sp.v(w) in cand_sps]\n",
    "    \n",
    "    if len(cands) == 4:\n",
    "        testers.append((p,))\n",
    "        \n",
    "len(testers)"
   ]
  },
  {
   "cell_type": "code",
   "execution_count": 126,
   "metadata": {},
   "outputs": [],
   "source": [
    "random.shuffle(testers)"
   ]
  },
  {
   "cell_type": "code",
   "execution_count": 127,
   "metadata": {},
   "outputs": [
    {
     "name": "stdout",
     "output_type": "stream",
     "text": [
      "\n"
     ]
    },
    {
     "data": {
      "text/html": [
       "<a href=\"https://shebanq.ancient-data.org/hebrew/text?book=Hosea&amp;chapter=1&amp;verse=2&amp;version=c&amp;mr=m&amp;qw=q&amp;tp=txt_p&amp;tr=hb&amp;wget=v&amp;qget=v&amp;nget=vt\" title=\"show this passage in SHEBANQ\" sec=\"Hosea 1:2\">Hosea 1:2</a>&nbsp;<span class=\"hb\"><a href=\"https://shebanq.ancient-data.org/hebrew/text?book=Hosea&amp;chapter=1&amp;verse=2&amp;version=c&amp;mr=m&amp;qw=q&amp;tp=txt_p&amp;tr=hb&amp;wget=v&amp;qget=v&amp;nget=vt\" title=\"Hosea 1:2\" sec=\"Hosea 1:2\">אֵ֤שֶׁת זְנוּנִים֙ וְיַלְדֵ֣י זְנוּנִ֔ים </a></span>"
      ],
      "text/plain": [
       "<IPython.core.display.HTML object>"
      ]
     },
     "metadata": {},
     "output_type": "display_data"
    },
    {
     "name": "stdout",
     "output_type": "stream",
     "text": [
      "\n",
      "\t\t\t\tHEADs: ['אֵ֤שֶׁת ']\n",
      "\n",
      "---------------\n",
      "\n"
     ]
    },
    {
     "data": {
      "text/html": [
       "<a href=\"https://shebanq.ancient-data.org/hebrew/text?book=Chronica_I&amp;chapter=29&amp;verse=18&amp;version=c&amp;mr=m&amp;qw=q&amp;tp=txt_p&amp;tr=hb&amp;wget=v&amp;qget=v&amp;nget=vt\" title=\"show this passage in SHEBANQ\" sec=\"1_Chronicles 29:18\">1_Chronicles 29:18</a>&nbsp;<span class=\"hb\"><a href=\"https://shebanq.ancient-data.org/hebrew/text?book=Chronica_I&amp;chapter=29&amp;verse=18&amp;version=c&amp;mr=m&amp;qw=q&amp;tp=txt_p&amp;tr=hb&amp;wget=v&amp;qget=v&amp;nget=vt\" title=\"1_Chronicles 29:18\" sec=\"1_Chronicles 29:18\">אֱ֠לֹהֵי אַבְרָהָ֞ם יִצְחָ֤ק וְיִשְׂרָאֵל֙ </a></span>"
      ],
      "text/plain": [
       "<IPython.core.display.HTML object>"
      ]
     },
     "metadata": {},
     "output_type": "display_data"
    },
    {
     "name": "stdout",
     "output_type": "stream",
     "text": [
      "\n",
      "\t\t\t\tHEADs: ['אֱ֠לֹהֵי ']\n",
      "\n",
      "---------------\n",
      "\n"
     ]
    },
    {
     "data": {
      "text/html": [
       "<a href=\"https://shebanq.ancient-data.org/hebrew/text?book=Nehemia&amp;chapter=3&amp;verse=18&amp;version=c&amp;mr=m&amp;qw=q&amp;tp=txt_p&amp;tr=hb&amp;wget=v&amp;qget=v&amp;nget=vt\" title=\"show this passage in SHEBANQ\" sec=\"Nehemiah 3:18\">Nehemiah 3:18</a>&nbsp;<span class=\"hb\"><a href=\"https://shebanq.ancient-data.org/hebrew/text?book=Nehemia&amp;chapter=3&amp;verse=18&amp;version=c&amp;mr=m&amp;qw=q&amp;tp=txt_p&amp;tr=hb&amp;wget=v&amp;qget=v&amp;nget=vt\" title=\"Nehemiah 3:18\" sec=\"Nehemiah 3:18\">שַׂ֕ר חֲצִ֖י פֶּ֥לֶךְ קְעִילָֽה׃ ס </a></span>"
      ],
      "text/plain": [
       "<IPython.core.display.HTML object>"
      ]
     },
     "metadata": {},
     "output_type": "display_data"
    },
    {
     "name": "stdout",
     "output_type": "stream",
     "text": [
      "\n",
      "\t\t\t\tHEADs: ['שַׂ֕ר ', 'פֶּ֥לֶךְ ']\n",
      "\n",
      "---------------\n",
      "\n"
     ]
    },
    {
     "data": {
      "text/html": [
       "<a href=\"https://shebanq.ancient-data.org/hebrew/text?book=Jesaia&amp;chapter=1&amp;verse=11&amp;version=c&amp;mr=m&amp;qw=q&amp;tp=txt_p&amp;tr=hb&amp;wget=v&amp;qget=v&amp;nget=vt\" title=\"show this passage in SHEBANQ\" sec=\"Isaiah 1:11\">Isaiah 1:11</a>&nbsp;<span class=\"hb\"><a href=\"https://shebanq.ancient-data.org/hebrew/text?book=Jesaia&amp;chapter=1&amp;verse=11&amp;version=c&amp;mr=m&amp;qw=q&amp;tp=txt_p&amp;tr=hb&amp;wget=v&amp;qget=v&amp;nget=vt\" title=\"Isaiah 1:11\" sec=\"Isaiah 1:11\">עֹלֹ֥ות אֵילִ֖ים וְחֵ֣לֶב מְרִיאִ֑ים </a></span>"
      ],
      "text/plain": [
       "<IPython.core.display.HTML object>"
      ]
     },
     "metadata": {},
     "output_type": "display_data"
    },
    {
     "name": "stdout",
     "output_type": "stream",
     "text": [
      "\n",
      "\t\t\t\tHEADs: ['עֹלֹ֥ות ']\n",
      "\n",
      "---------------\n",
      "\n"
     ]
    },
    {
     "data": {
      "text/html": [
       "<a href=\"https://shebanq.ancient-data.org/hebrew/text?book=Joel&amp;chapter=3&amp;verse=4&amp;version=c&amp;mr=m&amp;qw=q&amp;tp=txt_p&amp;tr=hb&amp;wget=v&amp;qget=v&amp;nget=vt\" title=\"show this passage in SHEBANQ\" sec=\"Joel 3:4\">Joel 3:4</a>&nbsp;<span class=\"hb\"><a href=\"https://shebanq.ancient-data.org/hebrew/text?book=Joel&amp;chapter=3&amp;verse=4&amp;version=c&amp;mr=m&amp;qw=q&amp;tp=txt_p&amp;tr=hb&amp;wget=v&amp;qget=v&amp;nget=vt\" title=\"Joel 3:4\" sec=\"Joel 3:4\">יֹ֣ום יְהוָ֔ה הַגָּדֹ֖ול וְהַנֹּורָֽא׃ </a></span>"
      ],
      "text/plain": [
       "<IPython.core.display.HTML object>"
      ]
     },
     "metadata": {},
     "output_type": "display_data"
    },
    {
     "name": "stdout",
     "output_type": "stream",
     "text": [
      "\n",
      "\t\t\t\tHEADs: ['יֹ֣ום ']\n",
      "\n",
      "---------------\n"
     ]
    }
   ],
   "source": [
    "test = testers[0][0]\n",
    "\n",
    "\n",
    "for p in testers[:5]:\n",
    "    \n",
    "    heads = []\n",
    "    \n",
    "    test = p[0]\n",
    "    \n",
    "    for w in L.d(test, 'word'):\n",
    "\n",
    "        if val_head(w):\n",
    "            heads.append(w)\n",
    "    \n",
    "    print()\n",
    "    A.plain(test)\n",
    "    print()\n",
    "    print(f'\\t\\t\\t\\tHEADs: {[T.text(h) for h in heads]}')\n",
    "    print()\n",
    "    print('-'*15)"
   ]
  },
  {
   "cell_type": "code",
   "execution_count": 274,
   "metadata": {},
   "outputs": [],
   "source": [
    "# A.table(A.search('''\n",
    "\n",
    "# phrase\n",
    "#     word pdp=subs st=c ls#card lex#BN/ sp#verb\n",
    "#     <: word pdp=subs st=a\n",
    "#     <: word sp=conj\n",
    "#     <: word pdp=subs st=a\n",
    "    \n",
    "# '''), withNodes=True)"
   ]
  }
 ],
 "metadata": {
  "kernelspec": {
   "display_name": "Python 3",
   "language": "python",
   "name": "python3"
  },
  "language_info": {
   "codemirror_mode": {
    "name": "ipython",
    "version": 3
   },
   "file_extension": ".py",
   "mimetype": "text/x-python",
   "name": "python",
   "nbconvert_exporter": "python",
   "pygments_lexer": "ipython3",
   "version": "3.7.0"
  }
 },
 "nbformat": 4,
 "nbformat_minor": 2
}
