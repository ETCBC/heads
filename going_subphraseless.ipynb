{
 "cells": [
  {
   "cell_type": "markdown",
   "metadata": {},
   "source": [
    "# Going Subphraseless\n",
    "\n",
    "The current method for isolating phrase heads ([here](https://nbviewer.jupyter.org/github/ETCBC/heads/blob/master/phrase_heads.ipynb)) requires strenuous and ineloquent processing of BHSA subphrase relations. The subphrases are not always consistently encoded and suffer from numerous exceptional cases. The result is that the method is rather convoluted and ineloquent.\n",
    "\n",
    "This notebook will explore the possibility of disconnecting semantic head analysis from the ETCBC subphrase encoding. \n",
    "\n",
    "A \"semantic\" head is the primary content word of a phrase, following Croft's \"Primary Information Bearing Unit\":\n",
    "\n",
    "> **The noun and the verb are the PRIMARY INFORMATION_BEARING UNITS (PIBUs) of the phrase and clause respectively. In common parlance, they are the content words. PIBUs have major informational content that functional elements such as articles and [auxiliaries] do not have. (Croft, *Radical Construction Grammar*, 2001, 258; see also Shead, *Radical Frame Semantics and Biblical Hebrew*, 104)**\n",
    "\n",
    "> **A (semantic) head is the profile equivalent that is the primary information-bearing unit, that is, the most contentful item that most closely profiles the same kind of thing that the whole constituent profiles. (ibid., 259)**\n",
    "\n",
    "Croft also provides an additional criterion to \"profile equivalence\":\n",
    "\n",
    "> **If the criterion of profile equivalence produces two candidates for headhood, the less schematic meaning is the PIBU; that is, the PIBU is the one with the narrower extension, in the formal semantic sense of that term (ibid., 259)**\n",
    "\n",
    "## Inquiry\n",
    "\n",
    "Can we isolate semantic phrase heads in BHSA using only the phrase_atom and phrase limits? This question indeed means that we  take the phrase_atom/phrase boundaries for granted. Empirically, the validity of BHSA phrase boundaries needs to be tested. But for now, the exercise of isolating semantic phrase heads could be seen as the first step towards reproducible phrase boundaries.\n",
    "\n",
    "## Basic Concepts\n",
    "\n",
    "A semantic head will most often stand in a syntactically independent position. For Hebrew nominal phrases, that essentially means a word which is not precided by a construct, which is not in an attributive slot (e.g. H + noun + H + ATTRIBUTIVE), and which is not in an adjectival slot (e.g. noun + noun as in אישׁ טוב).\n",
    "\n",
    "The situation is slightly complicated by quantifier expressions, which may be syntactically independent but semantically secondary. These are expressed through specialized lexical items such as cardinal numbers and qualitative quantifiers (e.g.  \"כל\" and \"חצי\").\n",
    "\n",
    "Another complication is the use of nouns as prepositional items. Such uses can be seen with words like פני \"face\" such as לפני \"in front,\" and even words like ראשׁ as in ראשׁ החדשׁ \"beginning of the month.\" \n",
    "\n",
    "Other expressions of quantity, quality, and function provide similar complexities. These cases have to be specified in advance.\n",
    "\n",
    "## Prerequisites\n",
    "\n",
    "As discussed above, lexical-semantic information is crucial in separating instances of quantification. These sets have to be defined in advance. As already noted, the BHSA phrase_atom/phrase boundaries are also taken for granted.\n",
    "\n",
    "## The Noun Phrase\n",
    "\n",
    "The focus of this initial inquiry is the noun phrase. All of the most complicated problems can be found in this group. Solving the problems in NP classification will likewise allow PP classification to easily follow. In cognitive linguistics, nouns are considered the semantic heads of prepositional phrases. That same definition will be adopted herein.\n",
    "\n",
    "### A Process of Elimination\n",
    "\n",
    "This exploratory analysis will proceed via a process of elimination, advancing from simple cases towards the complex ones.\n",
    "\n",
    "**Let's get started**. We load the necessary functions and BHSA data (straight from source)."
   ]
  },
  {
   "cell_type": "code",
   "execution_count": 1,
   "metadata": {},
   "outputs": [
    {
     "name": "stdout",
     "output_type": "stream",
     "text": [
      "\tconnecting to online GitHub repo annotation/app-bhsa ... connected\n",
      "Using TF-app in /Users/cody/text-fabric-data/annotation/app-bhsa/code:\n",
      "\trv1.2=#5fdf1778d51d938bfe80b37b415e36618e50190c (latest release)\n",
      "\tconnecting to online GitHub repo etcbc/bhsa ... connected\n",
      "Using data in /Users/cody/text-fabric-data/etcbc/bhsa/tf/c:\n",
      "\trv1.6 (latest release)\n",
      "\tconnecting to online GitHub repo etcbc/phono ... connected\n",
      "Using data in /Users/cody/text-fabric-data/etcbc/phono/tf/c:\n",
      "\tr1.2 (latest release)\n",
      "\tconnecting to online GitHub repo etcbc/parallels ... connected\n",
      "Using data in /Users/cody/text-fabric-data/etcbc/parallels/tf/c:\n",
      "\tr1.2 (latest release)\n",
      "   |     0.00s No structure info in otext, the structure part of the T-API cannot be used\n"
     ]
    },
    {
     "data": {
      "text/html": [
       "<b>Documentation:</b> <a target=\"_blank\" href=\"https://etcbc.github.io/bhsa\" title=\"provenance of BHSA = Biblia Hebraica Stuttgartensia Amstelodamensis\">BHSA</a> <a target=\"_blank\" href=\"https://annotation.github.io/text-fabric/Writing/Hebrew\" title=\"('Hebrew characters and transcriptions',)\">Character table</a> <a target=\"_blank\" href=\"https://etcbc.github.io/bhsa/features/0_home\" title=\"BHSA feature documentation\">Feature docs</a> <a target=\"_blank\" href=\"https://github.com/annotation/app-bhsa\" title=\"bhsa API documentation\">bhsa API</a> <a target=\"_blank\" href=\"https://annotation.github.io/text-fabric/Api/Fabric/\" title=\"text-fabric-api\">Text-Fabric API 7.8.10</a> <a target=\"_blank\" href=\"https://annotation.github.io/text-fabric/Use/Search/\" title=\"Search Templates Introduction and Reference\">Search Reference</a><details open><summary><b>Loaded features</b>:</summary>\n",
       "<p><b>BHSA = Biblia Hebraica Stuttgartensia Amstelodamensis</b>: <a target=\"_blank\" href=\"https://etcbc.github.io/bhsa/features/book\" title=\"/Users/cody/text-fabric-data/etcbc/bhsa/tf/c/book.tf\">book</a>  <a target=\"_blank\" href=\"https://etcbc.github.io/bhsa/features/book@ll\" title=\"/Users/cody/text-fabric-data/etcbc/bhsa/tf/c/book@am.tf\">book@ll</a>  <a target=\"_blank\" href=\"https://etcbc.github.io/bhsa/features/chapter\" title=\"/Users/cody/text-fabric-data/etcbc/bhsa/tf/c/chapter.tf\">chapter</a>  <a target=\"_blank\" href=\"https://etcbc.github.io/bhsa/features/code\" title=\"/Users/cody/text-fabric-data/etcbc/bhsa/tf/c/code.tf\">code</a>  <a target=\"_blank\" href=\"https://etcbc.github.io/bhsa/features/det\" title=\"/Users/cody/text-fabric-data/etcbc/bhsa/tf/c/det.tf\">det</a>  <a target=\"_blank\" href=\"https://etcbc.github.io/bhsa/features/domain\" title=\"/Users/cody/text-fabric-data/etcbc/bhsa/tf/c/domain.tf\">domain</a>  <a target=\"_blank\" href=\"https://etcbc.github.io/bhsa/features/freq_lex\" title=\"/Users/cody/text-fabric-data/etcbc/bhsa/tf/c/freq_lex.tf\">freq_lex</a>  <a target=\"_blank\" href=\"https://etcbc.github.io/bhsa/features/function\" title=\"/Users/cody/text-fabric-data/etcbc/bhsa/tf/c/function.tf\">function</a>  <a target=\"_blank\" href=\"https://etcbc.github.io/bhsa/features/g_cons\" title=\"/Users/cody/text-fabric-data/etcbc/bhsa/tf/c/g_cons.tf\">g_cons</a>  <a target=\"_blank\" href=\"https://etcbc.github.io/bhsa/features/g_cons_utf8\" title=\"/Users/cody/text-fabric-data/etcbc/bhsa/tf/c/g_cons_utf8.tf\">g_cons_utf8</a>  <a target=\"_blank\" href=\"https://etcbc.github.io/bhsa/features/g_lex\" title=\"/Users/cody/text-fabric-data/etcbc/bhsa/tf/c/g_lex.tf\">g_lex</a>  <a target=\"_blank\" href=\"https://etcbc.github.io/bhsa/features/g_lex_utf8\" title=\"/Users/cody/text-fabric-data/etcbc/bhsa/tf/c/g_lex_utf8.tf\">g_lex_utf8</a>  <a target=\"_blank\" href=\"https://etcbc.github.io/bhsa/features/g_word\" title=\"/Users/cody/text-fabric-data/etcbc/bhsa/tf/c/g_word.tf\">g_word</a>  <a target=\"_blank\" href=\"https://etcbc.github.io/bhsa/features/g_word_utf8\" title=\"/Users/cody/text-fabric-data/etcbc/bhsa/tf/c/g_word_utf8.tf\">g_word_utf8</a>  <a target=\"_blank\" href=\"https://etcbc.github.io/bhsa/features/gloss\" title=\"/Users/cody/text-fabric-data/etcbc/bhsa/tf/c/gloss.tf\">gloss</a>  <a target=\"_blank\" href=\"https://etcbc.github.io/bhsa/features/gn\" title=\"/Users/cody/text-fabric-data/etcbc/bhsa/tf/c/gn.tf\">gn</a>  <a target=\"_blank\" href=\"https://etcbc.github.io/bhsa/features/label\" title=\"/Users/cody/text-fabric-data/etcbc/bhsa/tf/c/label.tf\">label</a>  <a target=\"_blank\" href=\"https://etcbc.github.io/bhsa/features/language\" title=\"/Users/cody/text-fabric-data/etcbc/bhsa/tf/c/language.tf\">language</a>  <a target=\"_blank\" href=\"https://etcbc.github.io/bhsa/features/lex\" title=\"/Users/cody/text-fabric-data/etcbc/bhsa/tf/c/lex.tf\">lex</a>  <a target=\"_blank\" href=\"https://etcbc.github.io/bhsa/features/lex_utf8\" title=\"/Users/cody/text-fabric-data/etcbc/bhsa/tf/c/lex_utf8.tf\">lex_utf8</a>  <a target=\"_blank\" href=\"https://etcbc.github.io/bhsa/features/ls\" title=\"/Users/cody/text-fabric-data/etcbc/bhsa/tf/c/ls.tf\">ls</a>  <a target=\"_blank\" href=\"https://etcbc.github.io/bhsa/features/nametype\" title=\"/Users/cody/text-fabric-data/etcbc/bhsa/tf/c/nametype.tf\">nametype</a>  <a target=\"_blank\" href=\"https://etcbc.github.io/bhsa/features/nme\" title=\"/Users/cody/text-fabric-data/etcbc/bhsa/tf/c/nme.tf\">nme</a>  <a target=\"_blank\" href=\"https://etcbc.github.io/bhsa/features/nu\" title=\"/Users/cody/text-fabric-data/etcbc/bhsa/tf/c/nu.tf\">nu</a>  <a target=\"_blank\" href=\"https://etcbc.github.io/bhsa/features/number\" title=\"/Users/cody/text-fabric-data/etcbc/bhsa/tf/c/number.tf\">number</a>  <a target=\"_blank\" href=\"https://etcbc.github.io/bhsa/features/otype\" title=\"/Users/cody/text-fabric-data/etcbc/bhsa/tf/c/otype.tf\">otype</a>  <a target=\"_blank\" href=\"https://etcbc.github.io/bhsa/features/pargr\" title=\"/Users/cody/text-fabric-data/etcbc/bhsa/tf/c/pargr.tf\">pargr</a>  <a target=\"_blank\" href=\"https://etcbc.github.io/bhsa/features/pdp\" title=\"/Users/cody/text-fabric-data/etcbc/bhsa/tf/c/pdp.tf\">pdp</a>  <a target=\"_blank\" href=\"https://etcbc.github.io/bhsa/features/pfm\" title=\"/Users/cody/text-fabric-data/etcbc/bhsa/tf/c/pfm.tf\">pfm</a>  <a target=\"_blank\" href=\"https://etcbc.github.io/bhsa/features/prs\" title=\"/Users/cody/text-fabric-data/etcbc/bhsa/tf/c/prs.tf\">prs</a>  <a target=\"_blank\" href=\"https://etcbc.github.io/bhsa/features/prs_gn\" title=\"/Users/cody/text-fabric-data/etcbc/bhsa/tf/c/prs_gn.tf\">prs_gn</a>  <a target=\"_blank\" href=\"https://etcbc.github.io/bhsa/features/prs_nu\" title=\"/Users/cody/text-fabric-data/etcbc/bhsa/tf/c/prs_nu.tf\">prs_nu</a>  <a target=\"_blank\" href=\"https://etcbc.github.io/bhsa/features/prs_ps\" title=\"/Users/cody/text-fabric-data/etcbc/bhsa/tf/c/prs_ps.tf\">prs_ps</a>  <a target=\"_blank\" href=\"https://etcbc.github.io/bhsa/features/ps\" title=\"/Users/cody/text-fabric-data/etcbc/bhsa/tf/c/ps.tf\">ps</a>  <a target=\"_blank\" href=\"https://etcbc.github.io/bhsa/features/qere\" title=\"/Users/cody/text-fabric-data/etcbc/bhsa/tf/c/qere.tf\">qere</a>  <a target=\"_blank\" href=\"https://etcbc.github.io/bhsa/features/qere_trailer\" title=\"/Users/cody/text-fabric-data/etcbc/bhsa/tf/c/qere_trailer.tf\">qere_trailer</a>  <a target=\"_blank\" href=\"https://etcbc.github.io/bhsa/features/qere_trailer_utf8\" title=\"/Users/cody/text-fabric-data/etcbc/bhsa/tf/c/qere_trailer_utf8.tf\">qere_trailer_utf8</a>  <a target=\"_blank\" href=\"https://etcbc.github.io/bhsa/features/qere_utf8\" title=\"/Users/cody/text-fabric-data/etcbc/bhsa/tf/c/qere_utf8.tf\">qere_utf8</a>  <a target=\"_blank\" href=\"https://etcbc.github.io/bhsa/features/rank_lex\" title=\"/Users/cody/text-fabric-data/etcbc/bhsa/tf/c/rank_lex.tf\">rank_lex</a>  <a target=\"_blank\" href=\"https://etcbc.github.io/bhsa/features/rela\" title=\"/Users/cody/text-fabric-data/etcbc/bhsa/tf/c/rela.tf\">rela</a>  <a target=\"_blank\" href=\"https://etcbc.github.io/bhsa/features/sp\" title=\"/Users/cody/text-fabric-data/etcbc/bhsa/tf/c/sp.tf\">sp</a>  <a target=\"_blank\" href=\"https://etcbc.github.io/bhsa/features/st\" title=\"/Users/cody/text-fabric-data/etcbc/bhsa/tf/c/st.tf\">st</a>  <a target=\"_blank\" href=\"https://etcbc.github.io/bhsa/features/tab\" title=\"/Users/cody/text-fabric-data/etcbc/bhsa/tf/c/tab.tf\">tab</a>  <a target=\"_blank\" href=\"https://etcbc.github.io/bhsa/features/trailer\" title=\"/Users/cody/text-fabric-data/etcbc/bhsa/tf/c/trailer.tf\">trailer</a>  <a target=\"_blank\" href=\"https://etcbc.github.io/bhsa/features/trailer_utf8\" title=\"/Users/cody/text-fabric-data/etcbc/bhsa/tf/c/trailer_utf8.tf\">trailer_utf8</a>  <a target=\"_blank\" href=\"https://etcbc.github.io/bhsa/features/txt\" title=\"/Users/cody/text-fabric-data/etcbc/bhsa/tf/c/txt.tf\">txt</a>  <a target=\"_blank\" href=\"https://etcbc.github.io/bhsa/features/typ\" title=\"/Users/cody/text-fabric-data/etcbc/bhsa/tf/c/typ.tf\">typ</a>  <a target=\"_blank\" href=\"https://etcbc.github.io/bhsa/features/uvf\" title=\"/Users/cody/text-fabric-data/etcbc/bhsa/tf/c/uvf.tf\">uvf</a>  <a target=\"_blank\" href=\"https://etcbc.github.io/bhsa/features/vbe\" title=\"/Users/cody/text-fabric-data/etcbc/bhsa/tf/c/vbe.tf\">vbe</a>  <a target=\"_blank\" href=\"https://etcbc.github.io/bhsa/features/vbs\" title=\"/Users/cody/text-fabric-data/etcbc/bhsa/tf/c/vbs.tf\">vbs</a>  <a target=\"_blank\" href=\"https://etcbc.github.io/bhsa/features/verse\" title=\"/Users/cody/text-fabric-data/etcbc/bhsa/tf/c/verse.tf\">verse</a>  <a target=\"_blank\" href=\"https://etcbc.github.io/bhsa/features/voc_lex\" title=\"/Users/cody/text-fabric-data/etcbc/bhsa/tf/c/voc_lex.tf\">voc_lex</a>  <a target=\"_blank\" href=\"https://etcbc.github.io/bhsa/features/voc_lex_utf8\" title=\"/Users/cody/text-fabric-data/etcbc/bhsa/tf/c/voc_lex_utf8.tf\">voc_lex_utf8</a>  <a target=\"_blank\" href=\"https://etcbc.github.io/bhsa/features/vs\" title=\"/Users/cody/text-fabric-data/etcbc/bhsa/tf/c/vs.tf\">vs</a>  <a target=\"_blank\" href=\"https://etcbc.github.io/bhsa/features/vt\" title=\"/Users/cody/text-fabric-data/etcbc/bhsa/tf/c/vt.tf\">vt</a>  <b><i><a target=\"_blank\" href=\"https://etcbc.github.io/bhsa/features/mother\" title=\"/Users/cody/text-fabric-data/etcbc/bhsa/tf/c/mother.tf\">mother</a></i></b>  <b><i><a target=\"_blank\" href=\"https://etcbc.github.io/bhsa/features/oslots\" title=\"/Users/cody/text-fabric-data/etcbc/bhsa/tf/c/oslots.tf\">oslots</a></i></b> </p><p><b>Parallel Passages</b>: <b><i><a target=\"_blank\" href=\"https://nbviewer.jupyter.org/github/etcbc/parallels/blob/master/programs/parallels.ipynb\" title=\"/Users/cody/text-fabric-data/etcbc/parallels/tf/c/crossref.tf\">crossref</a></i></b> </p><p><b>Phonetic Transcriptions</b>: <a target=\"_blank\" href=\"https://nbviewer.jupyter.org/github/etcbc/phono/blob/master/programs/phono.ipynb\" title=\"/Users/cody/text-fabric-data/etcbc/phono/tf/c/phono.tf\">phono</a>  <a target=\"_blank\" href=\"https://nbviewer.jupyter.org/github/etcbc/phono/blob/master/programs/phono.ipynb\" title=\"/Users/cody/text-fabric-data/etcbc/phono/tf/c/phono_trailer.tf\">phono_trailer</a> </p></details>"
      ],
      "text/plain": [
       "<IPython.core.display.HTML object>"
      ]
     },
     "metadata": {},
     "output_type": "display_data"
    },
    {
     "data": {
      "text/html": [
       "<style>\n",
       "@font-face {\n",
       "  font-family: \"Ezra SIL\";\n",
       "  src:\n",
       "    local(\"SILEOT.ttf\"),\n",
       "    url(\"https://github.com/annotation/text-fabric/blob/master/tf/server/static/fonts/SILEOT.woff?raw=true\");\n",
       "}\n",
       ".features {\n",
       "    font-family: monospace;\n",
       "    font-size: medium;\n",
       "    font-weight: bold;\n",
       "    color: #0a6611;\n",
       "    display: flex;\n",
       "    flex-flow: column nowrap;\n",
       "    padding: 0.1em;\n",
       "    margin: 0.1em;\n",
       "    direction: ltr;\n",
       "}\n",
       ".features div,.features span {\n",
       "    padding: 0;\n",
       "    margin: -0.1rem 0;\n",
       "}\n",
       ".features .f {\n",
       "    font-family: sans-serif;\n",
       "    font-size: x-small;\n",
       "    font-weight: normal;\n",
       "    color: #5555bb;\n",
       "}\n",
       ".features .xft {\n",
       "  color: #000000;\n",
       "  background-color: #eeeeee;\n",
       "  font-size: medium;\n",
       "  margin: 0.1em 0em;\n",
       "}\n",
       ".features .xft .f {\n",
       "  color: #000000;\n",
       "  background-color: #eeeeee;\n",
       "  font-style: italic;\n",
       "  font-size: small;\n",
       "  font-weight: normal;\n",
       "}\n",
       ".ltr {\n",
       "    direction: ltr ! important;\n",
       "}\n",
       ".verse {\n",
       "    display: flex;\n",
       "    flex-flow: row wrap;\n",
       "    direction: rtl;\n",
       "}\n",
       ".vl {\n",
       "    display: flex;\n",
       "    flex-flow: column nowrap;\n",
       "    justify-content: flex-end;\n",
       "    align-items: flex-end;\n",
       "    direction: ltr;\n",
       "    width: 100%;\n",
       "}\n",
       ".outeritem {\n",
       "    display: flex;\n",
       "    flex-flow: row wrap;\n",
       "    direction: rtl;\n",
       "}\n",
       ".sentence,.clause,.phrase {\n",
       "    margin-top: -1.2em;\n",
       "    margin-left: 1em;\n",
       "    background: #ffffff none repeat scroll 0 0;\n",
       "    padding: 0 0.3em;\n",
       "    border-style: solid;\n",
       "    border-radius: 0.2em;\n",
       "    font-size: small;\n",
       "    display: block;\n",
       "    width: fit-content;\n",
       "    max-width: fit-content;\n",
       "    direction: ltr;\n",
       "}\n",
       ".atoms {\n",
       "    display: flex;\n",
       "    flex-flow: row wrap;\n",
       "    margin: 0.3em;\n",
       "    padding: 0.3em;\n",
       "    direction: rtl;\n",
       "    background-color: #ffffff;\n",
       "}\n",
       ".satom,.catom,.patom {\n",
       "    margin: 0.3em;\n",
       "    padding: 0.3em;\n",
       "    border-radius: 0.3em;\n",
       "    border-style: solid;\n",
       "    display: flex;\n",
       "    flex-flow: column nowrap;\n",
       "    direction: rtl;\n",
       "    background-color: #ffffff;\n",
       "}\n",
       ".sentence {\n",
       "    border-color: #aa3333;\n",
       "    border-width: 1px;\n",
       "}\n",
       ".clause {\n",
       "    border-color: #aaaa33;\n",
       "    border-width: 1px;\n",
       "}\n",
       ".phrase {\n",
       "    border-color: #33aaaa;\n",
       "    border-width: 1px;\n",
       "}\n",
       ".satom {\n",
       "    border-color: #aa3333;\n",
       "    border-width: 4px;\n",
       "}\n",
       ".catom {\n",
       "    border-color: #aaaa33;\n",
       "    border-width: 3px;\n",
       "}\n",
       ".patom {\n",
       "    border-color: #33aaaa;\n",
       "    border-width: 3px;\n",
       "}\n",
       ".word {\n",
       "    padding: 0.1em;\n",
       "    margin: 0.1em;\n",
       "    border-radius: 0.1em;\n",
       "    border: 1px solid #cccccc;\n",
       "    display: flex;\n",
       "    flex-flow: column nowrap;\n",
       "    direction: rtl;\n",
       "    background-color: #ffffff;\n",
       "}\n",
       ".lextp {\n",
       "    padding: 0.1em;\n",
       "    margin: 0.1em;\n",
       "    border-radius: 0.1em;\n",
       "    border: 2px solid #888888;\n",
       "    width: fit-content;\n",
       "    display: flex;\n",
       "    flex-flow: column nowrap;\n",
       "    direction: rtl;\n",
       "    background-color: #ffffff;\n",
       "}\n",
       ".occs {\n",
       "    font-size: x-small;\n",
       "}\n",
       ".satom.l,.catom.l,.patom.l {\n",
       "    border-left-style: dotted\n",
       "}\n",
       ".satom.r,.catom.r,.patom.r {\n",
       "    border-right-style: dotted\n",
       "}\n",
       ".satom.lno,.catom.lno,.patom.lno {\n",
       "    border-left-style: none\n",
       "}\n",
       ".satom.rno,.catom.rno,.patom.rno {\n",
       "    border-right-style: none\n",
       "}\n",
       ".tr,.tr a:visited,.tr a:link {\n",
       "    font-family: sans-serif;\n",
       "    font-size: large;\n",
       "    color: #000044;\n",
       "    direction: ltr;\n",
       "    text-decoration: none;\n",
       "}\n",
       ".trb,.trb a:visited,.trb a:link {\n",
       "    font-family: sans-serif;\n",
       "    font-size: normal;\n",
       "    direction: ltr;\n",
       "    text-decoration: none;\n",
       "}\n",
       ".prb,.prb a:visited,.prb a:link {\n",
       "    font-family: sans-serif;\n",
       "    font-size: large;\n",
       "    direction: ltr;\n",
       "    text-decoration: none;\n",
       "}\n",
       ".h,.h a:visited,.h a:link {\n",
       "    font-family: \"Ezra SIL\", \"SBL Hebrew\", sans-serif;\n",
       "    font-size: large;\n",
       "    color: #000044;\n",
       "    direction: rtl;\n",
       "    text-decoration: none;\n",
       "}\n",
       ".hb,.hb a:visited,.hb a:link {\n",
       "    font-family: \"Ezra SIL\", \"SBL Hebrew\", sans-serif;\n",
       "    font-size: large;\n",
       "    line-height: 2;\n",
       "    direction: rtl;\n",
       "    text-decoration: none;\n",
       "}\n",
       ".vn {\n",
       "  font-size: small !important;\n",
       "  padding-right: 1em;\n",
       "}\n",
       ".rela,.function,.typ {\n",
       "    font-family: monospace;\n",
       "    font-size: small;\n",
       "    color: #0000bb;\n",
       "}\n",
       ".pdp,.pdp a:visited,.pdp a:link {\n",
       "    font-family: monospace;\n",
       "    font-size: medium;\n",
       "    color: #0000bb;\n",
       "    text-decoration: none;\n",
       "}\n",
       ".voc_lex {\n",
       "    font-family: monospace;\n",
       "    font-size: medium;\n",
       "    color: #0000bb;\n",
       "}\n",
       ".vs {\n",
       "    font-family: monospace;\n",
       "    font-size: medium;\n",
       "    font-weight: bold;\n",
       "    color: #0000bb;\n",
       "}\n",
       ".vt {\n",
       "    font-family: monospace;\n",
       "    font-size: medium;\n",
       "    font-weight: bold;\n",
       "    color: #0000bb;\n",
       "}\n",
       ".gloss {\n",
       "    font-family: sans-serif;\n",
       "    font-size: small;\n",
       "    font-weight: normal;\n",
       "    color: #444444;\n",
       "}\n",
       ".vrs {\n",
       "    font-family: sans-serif;\n",
       "    font-size: small;\n",
       "    font-weight: bold;\n",
       "    color: #444444;\n",
       "}\n",
       ".nd {\n",
       "    font-family: monospace;\n",
       "    font-size: x-small;\n",
       "    color: #999999;\n",
       "}\n",
       ".hl {\n",
       "    background-color: #ffee66;\n",
       "}\n",
       "\n",
       "tr.tf, td.tf, th.tf {\n",
       "  text-align: left;\n",
       "}\n",
       "\n",
       "span.hldot {\n",
       "\tbackground-color: var(--hl-strong);\n",
       "\tborder: 0.2rem solid var(--hl-rim);\n",
       "\tborder-radius: 0.4rem;\n",
       "\t/*\n",
       "\tdisplay: inline-block;\n",
       "\twidth: 0.8rem;\n",
       "\theight: 0.8rem;\n",
       "\t*/\n",
       "}\n",
       "span.hl {\n",
       "\tbackground-color: var(--hl-strong);\n",
       "\tborder-width: 0;\n",
       "\tborder-radius: 0.1rem;\n",
       "\tborder-style: solid;\n",
       "}\n",
       "\n",
       "span.hlup {\n",
       "\tborder-color: var(--hl-dark);\n",
       "\tborder-width: 0.1rem;\n",
       "\tborder-style: solid;\n",
       "\tborder-radius: 0.2rem;\n",
       "  padding: 0.2rem;\n",
       "}\n",
       "\n",
       ":root {\n",
       "\t--hl-strong:        hsla( 60, 100%,  70%, 0.9  );\n",
       "\t--hl-rim:           hsla( 55, 100%,  60%, 0.9  );\n",
       "\t--hl-dark:          hsla( 55, 100%,  40%, 0.9  );\n",
       "}\n",
       "</style>"
      ],
      "text/plain": [
       "<IPython.core.display.HTML object>"
      ]
     },
     "metadata": {},
     "output_type": "display_data"
    },
    {
     "data": {
      "text/html": [
       "<details open><summary><b>API members</b>:</summary>\n",
       "<a target=\"_blank\" href=\"https://annotation.github.io/text-fabric/Api/Computed/#computed-data\" title=\"doc\">C Computed</a>, <a target=\"_blank\" href=\"https://annotation.github.io/text-fabric/Api/Computed/#computed-data\" title=\"doc\">Call AllComputeds</a>, <a target=\"_blank\" href=\"https://annotation.github.io/text-fabric/Api/Computed/#computed-data\" title=\"doc\">Cs ComputedString</a><br/>\n",
       "<a target=\"_blank\" href=\"https://annotation.github.io/text-fabric/Api/Features/#edge-features\" title=\"doc\">E Edge</a>, <a target=\"_blank\" href=\"https://annotation.github.io/text-fabric/Api/Features/#edge-features\" title=\"doc\">Eall AllEdges</a>, <a target=\"_blank\" href=\"https://annotation.github.io/text-fabric/Api/Features/#edge-features\" title=\"doc\">Es EdgeString</a><br/>\n",
       "<a target=\"_blank\" href=\"https://annotation.github.io/text-fabric/Api/Fabric/#loading\" title=\"doc\">ensureLoaded</a>, <a target=\"_blank\" href=\"https://annotation.github.io/text-fabric/Api/Fabric/#loading\" title=\"doc\">TF</a>, <a target=\"_blank\" href=\"https://annotation.github.io/text-fabric/Api/Fabric/#loading\" title=\"doc\">ignored</a>, <a target=\"_blank\" href=\"https://annotation.github.io/text-fabric/Api/Fabric/#loading\" title=\"doc\">loadLog</a><br/>\n",
       "<a target=\"_blank\" href=\"https://annotation.github.io/text-fabric/Api/Locality/#locality\" title=\"doc\">L Locality</a><br/>\n",
       "<a target=\"_blank\" href=\"https://annotation.github.io/text-fabric/Api/Misc/#messaging\" title=\"doc\">cache</a>, <a target=\"_blank\" href=\"https://annotation.github.io/text-fabric/Api/Misc/#messaging\" title=\"doc\">error</a>, <a target=\"_blank\" href=\"https://annotation.github.io/text-fabric/Api/Misc/#messaging\" title=\"doc\">indent</a>, <a target=\"_blank\" href=\"https://annotation.github.io/text-fabric/Api/Misc/#messaging\" title=\"doc\">info</a>, <a target=\"_blank\" href=\"https://annotation.github.io/text-fabric/Api/Misc/#messaging\" title=\"doc\">isSilent</a>, <a target=\"_blank\" href=\"https://annotation.github.io/text-fabric/Api/Misc/#messaging\" title=\"doc\">reset</a>, <a target=\"_blank\" href=\"https://annotation.github.io/text-fabric/Api/Misc/#messaging\" title=\"doc\">setSilent</a>, <a target=\"_blank\" href=\"https://annotation.github.io/text-fabric/Api/Misc/#messaging\" title=\"doc\">silentOff</a>, <a target=\"_blank\" href=\"https://annotation.github.io/text-fabric/Api/Misc/#messaging\" title=\"doc\">silentOn</a>, <a target=\"_blank\" href=\"https://annotation.github.io/text-fabric/Api/Misc/#messaging\" title=\"doc\">warning</a><br/>\n",
       "<a target=\"_blank\" href=\"https://annotation.github.io/text-fabric/Api/Nodes/#navigating-nodes\" title=\"doc\">N Nodes</a>, <a target=\"_blank\" href=\"https://annotation.github.io/text-fabric/Api/Nodes/#navigating-nodes\" title=\"doc\">sortKey</a>, <a target=\"_blank\" href=\"https://annotation.github.io/text-fabric/Api/Nodes/#navigating-nodes\" title=\"doc\">sortKeyTuple</a>, <a target=\"_blank\" href=\"https://annotation.github.io/text-fabric/Api/Nodes/#navigating-nodes\" title=\"doc\">otypeRank</a>, <a target=\"_blank\" href=\"https://annotation.github.io/text-fabric/Api/Nodes/#navigating-nodes\" title=\"doc\">sortNodes</a><br/>\n",
       "<a target=\"_blank\" href=\"https://annotation.github.io/text-fabric/Api/Features/#node-features\" title=\"doc\">F Feature</a>, <a target=\"_blank\" href=\"https://annotation.github.io/text-fabric/Api/Features/#node-features\" title=\"doc\">Fall AllFeatures</a>, <a target=\"_blank\" href=\"https://annotation.github.io/text-fabric/Api/Features/#node-features\" title=\"doc\">Fs FeatureString</a><br/>\n",
       "<a target=\"_blank\" href=\"https://annotation.github.io/text-fabric/Api/Search/#search\" title=\"doc\">S Search</a><br/>\n",
       "<a target=\"_blank\" href=\"https://annotation.github.io/text-fabric/Api/Text/#text\" title=\"doc\">T Text</a></details>"
      ],
      "text/plain": [
       "<IPython.core.display.HTML object>"
      ]
     },
     "metadata": {},
     "output_type": "display_data"
    }
   ],
   "source": [
    "31 Saint Bede's Gardensimport collections\n",
    "import random\n",
    "from tf.app import use\n",
    "A = use('bhsa', hoist=globals())"
   ]
  },
  {
   "cell_type": "markdown",
   "metadata": {},
   "source": [
    "As a first step, we need to define what word types will become elligible candidates for noun heads. Parts of speech are frequently construed into various roles. As a result, we must be prepared to accept a variety of potential candidates.\n",
    "\n",
    "Instead of the BHSA `pdp` (\"phrase dependent part of speech\") feature, we will rely on the `sp` (\"part of speech\") feature, which is derived directly from the lexicon.\n",
    "\n",
    "Let's have a look at the potential `sp` values in the dataset."
   ]
  },
  {
   "cell_type": "code",
   "execution_count": 2,
   "metadata": {},
   "outputs": [
    {
     "data": {
      "text/plain": [
       "(('subs', 125581),\n",
       " ('verb', 75450),\n",
       " ('prep', 73298),\n",
       " ('conj', 62737),\n",
       " ('nmpr', 35696),\n",
       " ('art', 30387),\n",
       " ('adjv', 10052),\n",
       " ('nega', 6059),\n",
       " ('prps', 5035),\n",
       " ('advb', 4603),\n",
       " ('prde', 2678),\n",
       " ('intj', 1912),\n",
       " ('inrg', 1303),\n",
       " ('prin', 1026))"
      ]
     },
     "execution_count": 2,
     "metadata": {},
     "output_type": "execute_result"
    }
   ],
   "source": [
    "F.sp.freqList()"
   ]
  },
  {
   "cell_type": "markdown",
   "metadata": {},
   "source": [
    "See the short descriptions for the values [here](https://etcbc.github.io/bhsa/features/sp/). \n",
    "\n",
    "The following parts of speech could be expected to be construed as NP sem. heads: substantives (`subs`), verbs (i.e. as participles), proper nouns (`nmpr`), adjectives (`adjv`), personal pronouns (`prps`, most often found exclusively in phrases marked a \"Personal Pronoun Phrases\", but in cases of noun coordination BHSA will not distinguish!), demonstrative pronouns (`prde`). \n",
    "\n",
    "It is unknown whether adverbs (`advb`) or interrogative particles (`inrg`) might also function as semantic heads in BHSA phrases. Let's do a quick check. We look for cases where a word with a `sp` value of `advb` becomes a `subs` in its `pdp` feature."
   ]
  },
  {
   "cell_type": "code",
   "execution_count": 3,
   "metadata": {},
   "outputs": [
    {
     "name": "stdout",
     "output_type": "stream",
     "text": [
      "  0.51s 0 results\n"
     ]
    }
   ],
   "source": [
    "find_advb = A.search('word sp=advb pdp=subs')"
   ]
  },
  {
   "cell_type": "markdown",
   "metadata": {},
   "source": [
    "We don't find any cases. How about the interrogative particle inside phrases marked as `NP`?"
   ]
  },
  {
   "cell_type": "code",
   "execution_count": 4,
   "metadata": {},
   "outputs": [
    {
     "name": "stdout",
     "output_type": "stream",
     "text": [
      "  0.75s 1 result\n"
     ]
    }
   ],
   "source": [
    "find_intr = A.search('''\n",
    "\n",
    "clause\n",
    "    phrase typ=NP\n",
    "        word sp=inrg\n",
    "\n",
    "''')"
   ]
  },
  {
   "cell_type": "code",
   "execution_count": 5,
   "metadata": {},
   "outputs": [
    {
     "data": {
      "text/html": [
       "<table>\n",
       "<tr class=\"tf\">\n",
       "  <th class=\"tf\">n</th><th class=\"tf\">p</th>\n",
       "  <th class=\"tf\">clause</th><th>phrase</th><th>word</th>\n",
       "</tr>\n",
       "\n",
       "<tr class=\"tf\"><td class=\"tf\">1</td><td class=\"tf\"> <a href=\"https://shebanq.ancient-data.org/hebrew/text?book=Chronica_I&amp;chapter=17&amp;verse=6&amp;version=c&amp;mr=m&amp;qw=q&amp;tp=txt_p&amp;tr=hb&amp;wget=v&amp;qget=v&amp;nget=vt\" title=\"show this passage in SHEBANQ\" sec=\"1_Chronicles 17:6\">1_Chronicles 17:6</a></td><td class=\"tf\"><span class=\"hb\"><a href=\"https://shebanq.ancient-data.org/hebrew/text?book=Chronica_I&amp;chapter=17&amp;verse=6&amp;version=c&amp;mr=m&amp;qw=q&amp;tp=txt_p&amp;tr=hb&amp;wget=v&amp;qget=v&amp;nget=vt\" title=\"1_Chronicles 17:6\" sec=\"1_Chronicles 17:6\">בְּכֹ֥ל <span  class=\"hl hlup\" >הֲ</span><span  class=\"hlup\" >דָבָ֣ר </span>דִּבַּ֗רְתִּי אֶת־אַחַד֙ שֹׁפְטֵ֣י יִשְׂרָאֵ֔ל </a></span></td><td class=\"tf\"><span class=\"hb\"><span  class=\"hl hlup\" >הֲ</span><span  class=\"hlup\" >דָבָ֣ר </span></span></td><td class=\"tf\"><span class=\"hb\"><span  class=\"hl hlup\" >הֲ</span></span></td></tr></table>"
      ],
      "text/plain": [
       "<IPython.core.display.HTML object>"
      ]
     },
     "metadata": {},
     "output_type": "display_data"
    }
   ],
   "source": [
    "A.table(find_intr, condenseType='clause')"
   ]
  },
  {
   "cell_type": "markdown",
   "metadata": {},
   "source": [
    "The interrogative does not function as a semantic head here.\n",
    "\n",
    "Ok. So this leaves us with the other potential part of speech values. Are these iron-clad? Let's do this: we can be even more sure we have the right set by making a broader query: for any word with a `pdp=subs` wherein the `sp != subs`.\n",
    "\n",
    "We expect to see only: `subs`, `nmpr`, and `adjv`. The values `prps` and `prde` are not likely to change in `pdp`."
   ]
  },
  {
   "cell_type": "code",
   "execution_count": 6,
   "metadata": {},
   "outputs": [
    {
     "data": {
      "text/plain": [
       "{'adjv', 'verb'}"
      ]
     },
     "execution_count": 6,
     "metadata": {},
     "output_type": "execute_result"
    }
   ],
   "source": [
    "set(F.sp.v(w) for w in F.otype.s('word')\n",
    "        if F.pdp.v(w) == 'subs' and F.sp.v(w) != 'subs')"
   ]
  },
  {
   "cell_type": "markdown",
   "metadata": {},
   "source": [
    "This is *mostly* what we expected. But I did forget that `nmpr` will also *not* change inside the NP. So `adjv` and `verb` is exactly what we want to see here.\n",
    "\n",
    "I see that I've also included `prde` \"demonstratives\" in the list here. I now very much doubt whether this is ever the case. I'll make a query here to see whether any demonstratives occur outside of a modifying position. Specifically, we require that the demonstrative is not preceded by an article (excludes the attributive pattern H + noun + H + demonstrative) or a noun, and the demonstrative does not precede a noun. "
   ]
  },
  {
   "cell_type": "code",
   "execution_count": 7,
   "metadata": {},
   "outputs": [
    {
     "name": "stdout",
     "output_type": "stream",
     "text": [
      "  2.00s 2 results\n"
     ]
    }
   ],
   "source": [
    "find_demo = A.search('''\n",
    "\n",
    "phrase typ=NP\n",
    "    word sp#art|subs|adjv\n",
    "    <: word sp=prde\n",
    "    <: word sp#subs|adjv\n",
    "''')"
   ]
  },
  {
   "cell_type": "code",
   "execution_count": 8,
   "metadata": {},
   "outputs": [
    {
     "data": {
      "text/html": [
       "<table>\n",
       "<tr class=\"tf\">\n",
       "  <th class=\"tf\">n</th><th class=\"tf\">p</th>\n",
       "  <th class=\"tf\">phrase</th><th>word</th><th>word</th><th>word</th>\n",
       "</tr>\n",
       "\n",
       "<tr class=\"tf\"><td class=\"tf\">1</td><td class=\"tf\"> <a href=\"https://shebanq.ancient-data.org/hebrew/text?book=Exodus&amp;chapter=26&amp;verse=13&amp;version=c&amp;mr=m&amp;qw=q&amp;tp=txt_p&amp;tr=hb&amp;wget=v&amp;qget=v&amp;nget=vt\" title=\"show this passage in SHEBANQ\" sec=\"Exodus 26:13\">Exodus 26:13</a></td><td class=\"tf\"><span class=\"hb\"><a href=\"https://shebanq.ancient-data.org/hebrew/text?book=Exodus&amp;chapter=26&amp;verse=13&amp;version=c&amp;mr=m&amp;qw=q&amp;tp=txt_p&amp;tr=hb&amp;wget=v&amp;qget=v&amp;nget=vt\" title=\"Exodus 26:13\" sec=\"Exodus 26:13\"><span  class=\"hlup\" >הָ</span><span  class=\"hlup\" >אַמָּ֨ה </span><span  class=\"hl hlup\" >מִ</span><span  class=\"hl hlup\" >זֶּ֜ה </span><span  class=\"hl hlup\" >וְ</span><span  class=\"hlup\" >הָ</span><span  class=\"hlup\" >אַמָּ֤ה </span><span  class=\"hlup\" >מִ</span><span  class=\"hlup\" >זֶּה֙ </span></a></span> <i>678044</i> </td><td class=\"tf\"><span class=\"hb\"><span  class=\"hl hlup\" >מִ</span></span> <i>42881</i> </td><td class=\"tf\"><span class=\"hb\"><span  class=\"hl hlup\" >זֶּ֜ה </span></span> <i>42882</i> </td><td class=\"tf\"><span class=\"hb\"><span  class=\"hl hlup\" >וְ</span></span> <i>42883</i> </td></tr>\n",
       "<tr class=\"tf\"><td class=\"tf\">2</td><td class=\"tf\"> <a href=\"https://shebanq.ancient-data.org/hebrew/text?book=Chronica_II&amp;chapter=9&amp;verse=18&amp;version=c&amp;mr=m&amp;qw=q&amp;tp=txt_p&amp;tr=hb&amp;wget=v&amp;qget=v&amp;nget=vt\" title=\"show this passage in SHEBANQ\" sec=\"2_Chronicles 9:18\">2_Chronicles 9:18</a></td><td class=\"tf\"><span class=\"hb\"><a href=\"https://shebanq.ancient-data.org/hebrew/text?book=Chronica_II&amp;chapter=9&amp;verse=18&amp;version=c&amp;mr=m&amp;qw=q&amp;tp=txt_p&amp;tr=hb&amp;wget=v&amp;qget=v&amp;nget=vt\" title=\"2_Chronicles 9:18\" sec=\"2_Chronicles 9:18\"><span  class=\"hlup\" >יָדֹ֛ות </span><span  class=\"hl hlup\" >מִ</span><span  class=\"hl hlup\" >זֶּ֥ה </span><span  class=\"hl hlup\" >וּ</span><span  class=\"hlup\" >מִ</span><span  class=\"hlup\" >זֶּ֖ה </span></a></span> <i>896933</i> </td><td class=\"tf\"><span class=\"hb\"><span  class=\"hl hlup\" >מִ</span></span> <i>411458</i> </td><td class=\"tf\"><span class=\"hb\"><span  class=\"hl hlup\" >זֶּ֥ה </span></span> <i>411459</i> </td><td class=\"tf\"><span class=\"hb\"><span  class=\"hl hlup\" >וּ</span></span> <i>411460</i> </td></tr></table>"
      ],
      "text/plain": [
       "<IPython.core.display.HTML object>"
      ]
     },
     "metadata": {},
     "output_type": "display_data"
    }
   ],
   "source": [
    "A.table(find_demo, withNodes=True, extraFeatures='sp')"
   ]
  },
  {
   "cell_type": "markdown",
   "metadata": {},
   "source": [
    "These cases are slightly complicated by the fact that at a higher level they do govern their own phrase, but at the level of the whole phrase they do not. Is this fact reflected in the BHSA phrase structure?"
   ]
  },
  {
   "cell_type": "code",
   "execution_count": 9,
   "metadata": {},
   "outputs": [
    {
     "data": {
      "text/html": [
       "<a href=\"https://shebanq.ancient-data.org/hebrew/text?book=Exodus&amp;chapter=26&amp;verse=13&amp;version=c&amp;mr=m&amp;qw=q&amp;tp=txt_p&amp;tr=hb&amp;wget=v&amp;qget=v&amp;nget=vt\" title=\"show this passage in SHEBANQ\" sec=\"Exodus 26:13\">Exodus 26:13</a>\n",
       "<div class=\"atoms  \" >\n",
       "<a href=\"#\" class=\"nd\">678044</a>\n",
       "\n",
       "\n",
       "\n",
       "<div class=\"patom  l \" >\n",
       "\n",
       "    <div class=\"phrase \" >\n",
       "        <a href=\"https://shebanq.ancient-data.org/hebrew/text?book=Exodus&amp;chapter=26&amp;verse=13&amp;version=c&amp;mr=m&amp;qw=q&amp;tp=txt_p&amp;tr=hb&amp;wget=v&amp;qget=v&amp;nget=vt\" title=\"Exodus 26:13\" sec=\"Exodus 26:13\">phrase</a> <a href=\"#\" class=\"nd\">678044</a>  <span class=\"function\">Subj</span> <span class=\"typ\">NP</span>\n",
       "    </div>\n",
       "    <div class=\"atoms\">\n",
       "\n",
       "<div class=\"word  \" >\n",
       "<a href=\"#\" class=\"nd\">42879</a>\n",
       "<div class=\"h\"><a target=\"_blank\" href=\"https://shebanq.ancient-data.org/hebrew/word?version=c&amp;id=1H\" title=\"show this lexeme in SHEBANQ\">הָ</a></div>\n",
       "<div class=\"features\"> <span class=\"pdp\"><a href=\"https://shebanq.ancient-data.org/hebrew/text?book=Exodus&amp;chapter=26&amp;verse=13&amp;version=c&amp;mr=m&amp;qw=q&amp;tp=txt_p&amp;tr=hb&amp;wget=v&amp;qget=v&amp;nget=vt\" title=\"Exodus 26:13\" sec=\"Exodus 26:13\">art</a></span> <span class=\"gloss\">the</span> <span class=\"sp xft\"><span class=\"f\">sp=</span>art</span></div>\n",
       "\n",
       "\n",
       "</div>\n",
       "\n",
       "<div class=\"word  \" >\n",
       "<a href=\"#\" class=\"nd\">42880</a>\n",
       "<div class=\"h\"><a target=\"_blank\" href=\"https://shebanq.ancient-data.org/hebrew/word?version=c&amp;id=1AMHin\" title=\"show this lexeme in SHEBANQ\">אַמָּ֨ה </a></div>\n",
       "<div class=\"features\"> <span class=\"pdp\"><a href=\"https://shebanq.ancient-data.org/hebrew/text?book=Exodus&amp;chapter=26&amp;verse=13&amp;version=c&amp;mr=m&amp;qw=q&amp;tp=txt_p&amp;tr=hb&amp;wget=v&amp;qget=v&amp;nget=vt\" title=\"Exodus 26:13\" sec=\"Exodus 26:13\">subs</a></span> <span class=\"gloss\">cubit</span> <span class=\"sp xft\"><span class=\"f\">sp=</span>subs</span></div>\n",
       "\n",
       "\n",
       "</div>\n",
       "\n",
       "\n",
       "    </div>\n",
       "\n",
       "\n",
       "</div>\n",
       "\n",
       "<div class=\"patom  r l \" >\n",
       "\n",
       "    <div class=\"phrase \" >\n",
       "        <a href=\"https://shebanq.ancient-data.org/hebrew/text?book=Exodus&amp;chapter=26&amp;verse=13&amp;version=c&amp;mr=m&amp;qw=q&amp;tp=txt_p&amp;tr=hb&amp;wget=v&amp;qget=v&amp;nget=vt\" title=\"Exodus 26:13\" sec=\"Exodus 26:13\">phrase</a> <a href=\"#\" class=\"nd\">678044</a>  <span class=\"function\">Subj</span> <span class=\"typ\">NP|PP</span>\n",
       "    </div>\n",
       "    <div class=\"atoms\">\n",
       "\n",
       "<div class=\"word  \" >\n",
       "<a href=\"#\" class=\"nd\">42881</a>\n",
       "<div class=\"h\"><a target=\"_blank\" href=\"https://shebanq.ancient-data.org/hebrew/word?version=c&amp;id=1MN\" title=\"show this lexeme in SHEBANQ\">מִ</a></div>\n",
       "<div class=\"features\"> <span class=\"pdp\"><a href=\"https://shebanq.ancient-data.org/hebrew/text?book=Exodus&amp;chapter=26&amp;verse=13&amp;version=c&amp;mr=m&amp;qw=q&amp;tp=txt_p&amp;tr=hb&amp;wget=v&amp;qget=v&amp;nget=vt\" title=\"Exodus 26:13\" sec=\"Exodus 26:13\">prep</a></span> <span class=\"gloss\">from</span> <span class=\"sp xft\"><span class=\"f\">sp=</span>prep</span></div>\n",
       "\n",
       "\n",
       "</div>\n",
       "\n",
       "<div class=\"word  \" >\n",
       "<a href=\"#\" class=\"nd\">42882</a>\n",
       "<div class=\"h\"><a target=\"_blank\" href=\"https://shebanq.ancient-data.org/hebrew/word?version=c&amp;id=1ZH\" title=\"show this lexeme in SHEBANQ\">זֶּ֜ה </a></div>\n",
       "<div class=\"features\"> <span class=\"pdp\"><a href=\"https://shebanq.ancient-data.org/hebrew/text?book=Exodus&amp;chapter=26&amp;verse=13&amp;version=c&amp;mr=m&amp;qw=q&amp;tp=txt_p&amp;tr=hb&amp;wget=v&amp;qget=v&amp;nget=vt\" title=\"Exodus 26:13\" sec=\"Exodus 26:13\">prde</a></span> <span class=\"gloss\">this</span> <span class=\"sp xft\"><span class=\"f\">sp=</span>prde</span></div>\n",
       "\n",
       "\n",
       "</div>\n",
       "\n",
       "\n",
       "    </div>\n",
       "\n",
       "\n",
       "</div>\n",
       "\n",
       "<div class=\"patom  r l \" >\n",
       "\n",
       "    <div class=\"phrase \" >\n",
       "        <a href=\"https://shebanq.ancient-data.org/hebrew/text?book=Exodus&amp;chapter=26&amp;verse=13&amp;version=c&amp;mr=m&amp;qw=q&amp;tp=txt_p&amp;tr=hb&amp;wget=v&amp;qget=v&amp;nget=vt\" title=\"Exodus 26:13\" sec=\"Exodus 26:13\">phrase</a> <a href=\"#\" class=\"nd\">678044</a>  <span class=\"function\">Subj</span> <span class=\"typ\">NP|CP</span>\n",
       "    </div>\n",
       "    <div class=\"atoms\">\n",
       "\n",
       "<div class=\"word  \" >\n",
       "<a href=\"#\" class=\"nd\">42883</a>\n",
       "<div class=\"h\"><a target=\"_blank\" href=\"https://shebanq.ancient-data.org/hebrew/word?version=c&amp;id=1W\" title=\"show this lexeme in SHEBANQ\">וְ</a></div>\n",
       "<div class=\"features\"> <span class=\"pdp\"><a href=\"https://shebanq.ancient-data.org/hebrew/text?book=Exodus&amp;chapter=26&amp;verse=13&amp;version=c&amp;mr=m&amp;qw=q&amp;tp=txt_p&amp;tr=hb&amp;wget=v&amp;qget=v&amp;nget=vt\" title=\"Exodus 26:13\" sec=\"Exodus 26:13\">conj</a></span> <span class=\"gloss\">and</span> <span class=\"sp xft\"><span class=\"f\">sp=</span>conj</span></div>\n",
       "\n",
       "\n",
       "</div>\n",
       "\n",
       "\n",
       "    </div>\n",
       "\n",
       "\n",
       "</div>\n",
       "\n",
       "<div class=\"patom  r l \" >\n",
       "\n",
       "    <div class=\"phrase \" >\n",
       "        <a href=\"https://shebanq.ancient-data.org/hebrew/text?book=Exodus&amp;chapter=26&amp;verse=13&amp;version=c&amp;mr=m&amp;qw=q&amp;tp=txt_p&amp;tr=hb&amp;wget=v&amp;qget=v&amp;nget=vt\" title=\"Exodus 26:13\" sec=\"Exodus 26:13\">phrase</a> <a href=\"#\" class=\"nd\">678044</a>  <span class=\"function\">Subj</span> <span class=\"typ\">NP</span>\n",
       "    </div>\n",
       "    <div class=\"atoms\">\n",
       "\n",
       "<div class=\"word  \" >\n",
       "<a href=\"#\" class=\"nd\">42884</a>\n",
       "<div class=\"h\"><a target=\"_blank\" href=\"https://shebanq.ancient-data.org/hebrew/word?version=c&amp;id=1H\" title=\"show this lexeme in SHEBANQ\">הָ</a></div>\n",
       "<div class=\"features\"> <span class=\"pdp\"><a href=\"https://shebanq.ancient-data.org/hebrew/text?book=Exodus&amp;chapter=26&amp;verse=13&amp;version=c&amp;mr=m&amp;qw=q&amp;tp=txt_p&amp;tr=hb&amp;wget=v&amp;qget=v&amp;nget=vt\" title=\"Exodus 26:13\" sec=\"Exodus 26:13\">art</a></span> <span class=\"gloss\">the</span> <span class=\"sp xft\"><span class=\"f\">sp=</span>art</span></div>\n",
       "\n",
       "\n",
       "</div>\n",
       "\n",
       "<div class=\"word  \" >\n",
       "<a href=\"#\" class=\"nd\">42885</a>\n",
       "<div class=\"h\"><a target=\"_blank\" href=\"https://shebanq.ancient-data.org/hebrew/word?version=c&amp;id=1AMHin\" title=\"show this lexeme in SHEBANQ\">אַמָּ֤ה </a></div>\n",
       "<div class=\"features\"> <span class=\"pdp\"><a href=\"https://shebanq.ancient-data.org/hebrew/text?book=Exodus&amp;chapter=26&amp;verse=13&amp;version=c&amp;mr=m&amp;qw=q&amp;tp=txt_p&amp;tr=hb&amp;wget=v&amp;qget=v&amp;nget=vt\" title=\"Exodus 26:13\" sec=\"Exodus 26:13\">subs</a></span> <span class=\"gloss\">cubit</span> <span class=\"sp xft\"><span class=\"f\">sp=</span>subs</span></div>\n",
       "\n",
       "\n",
       "</div>\n",
       "\n",
       "\n",
       "    </div>\n",
       "\n",
       "\n",
       "</div>\n",
       "\n",
       "<div class=\"patom  r \" >\n",
       "\n",
       "    <div class=\"phrase \" >\n",
       "        <a href=\"https://shebanq.ancient-data.org/hebrew/text?book=Exodus&amp;chapter=26&amp;verse=13&amp;version=c&amp;mr=m&amp;qw=q&amp;tp=txt_p&amp;tr=hb&amp;wget=v&amp;qget=v&amp;nget=vt\" title=\"Exodus 26:13\" sec=\"Exodus 26:13\">phrase</a> <a href=\"#\" class=\"nd\">678044</a>  <span class=\"function\">Subj</span> <span class=\"typ\">NP|PP</span>\n",
       "    </div>\n",
       "    <div class=\"atoms\">\n",
       "\n",
       "<div class=\"word  \" >\n",
       "<a href=\"#\" class=\"nd\">42886</a>\n",
       "<div class=\"h\"><a target=\"_blank\" href=\"https://shebanq.ancient-data.org/hebrew/word?version=c&amp;id=1MN\" title=\"show this lexeme in SHEBANQ\">מִ</a></div>\n",
       "<div class=\"features\"> <span class=\"pdp\"><a href=\"https://shebanq.ancient-data.org/hebrew/text?book=Exodus&amp;chapter=26&amp;verse=13&amp;version=c&amp;mr=m&amp;qw=q&amp;tp=txt_p&amp;tr=hb&amp;wget=v&amp;qget=v&amp;nget=vt\" title=\"Exodus 26:13\" sec=\"Exodus 26:13\">prep</a></span> <span class=\"gloss\">from</span> <span class=\"sp xft\"><span class=\"f\">sp=</span>prep</span></div>\n",
       "\n",
       "\n",
       "</div>\n",
       "\n",
       "<div class=\"word  \" >\n",
       "<a href=\"#\" class=\"nd\">42887</a>\n",
       "<div class=\"h\"><a target=\"_blank\" href=\"https://shebanq.ancient-data.org/hebrew/word?version=c&amp;id=1ZH\" title=\"show this lexeme in SHEBANQ\">זֶּה֙ </a></div>\n",
       "<div class=\"features\"> <span class=\"pdp\"><a href=\"https://shebanq.ancient-data.org/hebrew/text?book=Exodus&amp;chapter=26&amp;verse=13&amp;version=c&amp;mr=m&amp;qw=q&amp;tp=txt_p&amp;tr=hb&amp;wget=v&amp;qget=v&amp;nget=vt\" title=\"Exodus 26:13\" sec=\"Exodus 26:13\">prde</a></span> <span class=\"gloss\">this</span> <span class=\"sp xft\"><span class=\"f\">sp=</span>prde</span></div>\n",
       "\n",
       "\n",
       "</div>\n",
       "\n",
       "\n",
       "    </div>\n",
       "\n",
       "\n",
       "</div>\n",
       "\n",
       "\n",
       "</div>\n"
      ],
      "text/plain": [
       "<IPython.core.display.HTML object>"
      ]
     },
     "metadata": {},
     "output_type": "display_data"
    }
   ],
   "source": [
    "A.pretty(678044, withNodes=True)"
   ]
  },
  {
   "cell_type": "markdown",
   "metadata": {},
   "source": [
    "So we see a separate phrase atom encoded here. What kind of phrase type value is coded on that phrase atom?"
   ]
  },
  {
   "cell_type": "code",
   "execution_count": 10,
   "metadata": {},
   "outputs": [
    {
     "data": {
      "text/plain": [
       "'PP'"
      ]
     },
     "execution_count": 10,
     "metadata": {},
     "output_type": "execute_result"
    }
   ],
   "source": [
    "CB1 3UFF.typ.v(L.u(42882, 'phrase_atom')[0])"
   ]
  },
  {
   "cell_type": "markdown",
   "metadata": {},
   "source": [
    "Ok, BHSA simply encodes this as a prepositional phrase. However, our algorithm ought to work also with such prepositional phrases. This presents a slight complicating factor. On the one hand, a demonstrative pronoun might be treated like any other substantive, yet it is functionally different in nearly all cases. For example, many cases would consist of a demonstrative + noun pattern. The algorithm might see: noun_candidateA (זה) + noun_candidateB; it sees that noun_candidateB agrees with noun_candidateA in gender and number; pursuant to the rule on adjectives, i.e. Gesenius §132.1a, the algorithm (incorrectly) classifies noun_candidateA as syntactically autonomous and thus the top candidate for semantic headedness.\n",
    "\n",
    "What to do?\n",
    "\n",
    "The idea of a \"ranking\" system is intriguing. In such a system, cases like this receive a ranking based purely on the syntactic patterning. But we can introduce a lexical processing stage that adjusts ranks based on lexical rules. That also helps us handle complex cases such as quantifiers. \n",
    "\n",
    "Other cases may be very complicated. An example can be found in the following English noun phrase:\n",
    "\n",
    "> a. Tim drank a **cup** of coffee.<br>\n",
    "> b. \\*Tim broke a **cup** of coffee. <br>\n",
    "> <br>\n",
    "> (Croft, *Radical Construction Grammar*, 262)\n",
    "\n",
    "The reason statement b is awkward is because \"coffee\" functions here as a functional head, despite \"cup\" being in a syntactically autonomous position. This case can be analyzed as the English  [CONTAINER of] (e.g. \"cup of\") construction in English, which indicates a measure of a substance. A heads algorithm needs to be able to take into account such idiosyncrasies. That information simply has to be hardwired in.\n",
    "\n",
    "We can now confidently say that valid NP head candidates should have only the following `sp` values: `subs`, `nmpr`, `adjv`, `verb`, `prps`, with some allowances made for `prde`."
   ]
  },
  {
   "cell_type": "code",
   "execution_count": 11,
   "metadata": {},
   "outputs": [],
   "source": [
    "cand_sps = {'subs', 'nmpr', 'verb', 'adjv', 'prps', 'prde'}"
   ]
  },
  {
   "cell_type": "markdown",
   "metadata": {},
   "source": [
    "### Machinery\n",
    "\n",
    "We could use some machinery to do the hard work of looking in and around a node. In the older approach we used TF search templates. But these are not very efficient at scale, and they are always bound by the limits of the query language. I take another approach here: a class which, when called, can give all sorts of contextual information about any node which is fed in."
   ]
  },
  {
   "cell_type": "code",
   "execution_count": 12,
   "metadata": {},
   "outputs": [],
   "source": [
    "class Getter:\n",
    "    '''\n",
    "    A class to safely index \n",
    "    beyond the boundaries of\n",
    "    a given iterable with a \n",
    "    default returned.\n",
    "    '''\n",
    "    \n",
    "    def __init__(self, iterable, default=None):\n",
    "        self.iterable = iterable\n",
    "        self.default = default\n",
    "        \n",
    "    def __iter__(self):\n",
    "        for i in self.iterable:\n",
    "            yield i\n",
    "        \n",
    "    def __getitem__(self, key):\n",
    "        try:\n",
    "            return self.iterable[key]\n",
    "        except IndexError:\n",
    "            return self.default\n",
    "        \n",
    "    def index(self, i):\n",
    "        try:\n",
    "            return self.iterable.index(i)\n",
    "        except ValueError:\n",
    "            return self.default\n",
    "\n",
    "class Positions:\n",
    "    \n",
    "    def __init__(self, n, context):\n",
    "        self.n = n\n",
    "        self.thisotype = F.otype.v(n)\n",
    "        self.context = self.get_context(context)\n",
    "    \n",
    "    def __getitem__(self, position):\n",
    "        '''\n",
    "        Returns nodes positioned around \n",
    "        the node within a predefined context.\n",
    "        '''\n",
    "        positions = Getter(L.d(self.context, self.thisotype))\n",
    "        index = positions.index(self.n)\n",
    "        find = sum([index, position])\n",
    "        if find < 0:\n",
    "            return None\n",
    "        else:\n",
    "            return positions[find]\n",
    "    \n",
    "    def get_context(self, otype):\n",
    "        '''\n",
    "        Returns a requested context node.\n",
    "        '''\n",
    "        if otypeRank[self.thisotype] > otypeRank[otype]:\n",
    "            return L.d(self.n, otype)\n",
    "        else:\n",
    "            return Getter(L.u(self.n, otype))[0]"
   ]
  },
  {
   "cell_type": "markdown",
   "metadata": {},
   "source": [
    "This machinery will allow us to write large yet concise conditional statements that test all kinds of parameters around the context."
   ]
  },
  {
   "cell_type": "markdown",
   "metadata": {},
   "source": [
    "\n",
    "\n",
    "\n",
    "\n",
    "**It's time to define a custom set of quantifiers and idiosyncratic heads.** All of these values are taken from the [notebook](https://nbviewer.jupyter.org/github/ETCBC/heads/blob/master/phrase_heads.ipynb) that utilizes subphrase relations."
   ]
  },
  {
   "cell_type": "code",
   "execution_count": 72,
   "metadata": {},
   "outputs": [
    {
     "data": {
      "text/plain": [
       "13796"
      ]
     },
     "execution_count": 72,
     "metadata": {},
     "output_type": "execute_result"
    }
   ],
   "source": [
    "quantifiers = set()\n",
    "quantifiers |= set(F.ls.s('card')) & set(F.otype.s('word'))\n",
    "quantifiers |= set(F.ls.s('ordn')) & set(F.otype.s('word'))\n",
    "\n",
    "custom_quants = '|'.join(['KL/', 'M<V/', 'JTR/',\n",
    "                         'M<FR/', 'XYJ/', '<FRWN/',\n",
    "                         'C>R=/', 'MSPR/', 'RB/', 'RB=/',\n",
    "                         'XMJCJT/'])\n",
    "quantifiers |= set(A.search(f'word lex={custom_quants}', shallow=True, silent=True))\n",
    "\n",
    "# for the Hebrew idiom: בנ + quantifier for age\n",
    "\n",
    "\n",
    "for w in set(F.otype.s('word')) & set(F.lex.s('BN/')):\n",
    "    pos = Positions(w, 'phrase_atom')\n",
    "    if all([F.ls.v(pos[1]) == 'card',\n",
    "            F.st.v(w) == 'c',\n",
    "            F.nu.v(w) == 'sg']):\n",
    "        quantifiers.add(w)\n",
    "        \n",
    "len(quantifiers)"
   ]
  },
  {
   "cell_type": "markdown",
   "metadata": {},
   "source": [
    "Let's make a set of all NPs in the corpus from which we can gradually work from. We will work with phrase_atoms for now."
   ]
  },
  {
   "cell_type": "code",
   "execution_count": 14,
   "metadata": {},
   "outputs": [
    {
     "name": "stdout",
     "output_type": "stream",
     "text": [
      "47504\n"
     ]
    }
   ],
   "source": [
    "nps = set(F.typ.s('NP')) & set(F.otype.s('phrase_atom'))\n",
    "covered = set()\n",
    "\n",
    "def prog():\n",
    "    # print remaining cases\n",
    "    print(len(nps)-len(covered))\n",
    "\n",
    "print(len(nps))"
   ]
  },
  {
   "cell_type": "markdown",
   "metadata": {},
   "source": [
    "Let's eliminate all options that have no other choices but a candidate."
   ]
  },
  {
   "cell_type": "code",
   "execution_count": 15,
   "metadata": {},
   "outputs": [
    {
     "data": {
      "text/plain": [
       "27766"
      ]
     },
     "execution_count": 15,
     "metadata": {},
     "output_type": "execute_result"
    }
   ],
   "source": [
    "simpleres = []\n",
    "\n",
    "for p in nps:\n",
    "    cands = [w for w in L.d(p, 'word') if F.sp.v(w) in cand_sps]\n",
    "    if len(cands) == 1:\n",
    "        simpleres.append((p, cands[0]))\n",
    "        \n",
    "len(simpleres)"
   ]
  },
  {
   "cell_type": "markdown",
   "metadata": {},
   "source": [
    "Let's inspect the cases to be sure. You can run the next cell to shuffle the results. This helps to identify problems that may be widespread."
   ]
  },
  {
   "cell_type": "code",
   "execution_count": 16,
   "metadata": {},
   "outputs": [
    {
     "data": {
      "text/html": [
       "<table>\n",
       "<tr class=\"tf\">\n",
       "  <th class=\"tf\">n</th><th class=\"tf\">p</th>\n",
       "  <th class=\"tf\">phrase_atom</th><th>word</th>\n",
       "</tr>\n",
       "\n",
       "<tr class=\"tf\"><td class=\"tf\">1</td><td class=\"tf\"> <a href=\"https://shebanq.ancient-data.org/hebrew/text?book=Samuel_I&amp;chapter=18&amp;verse=11&amp;version=c&amp;mr=m&amp;qw=q&amp;tp=txt_p&amp;tr=hb&amp;wget=v&amp;qget=v&amp;nget=vt\" title=\"show this passage in SHEBANQ\" sec=\"1_Samuel 18:11\">1_Samuel 18:11</a></td><td class=\"tf\"><span class=\"hb\"><a href=\"https://shebanq.ancient-data.org/hebrew/text?book=Samuel_I&amp;chapter=18&amp;verse=11&amp;version=c&amp;mr=m&amp;qw=q&amp;tp=txt_p&amp;tr=hb&amp;wget=v&amp;qget=v&amp;nget=vt\" title=\"1_Samuel 18:11\" sec=\"1_Samuel 18:11\"><span  class=\"hl hlup\" >פַּעֲמָֽיִם׃ </span></a></span> <i>996805</i> </td><td class=\"tf\"><span class=\"hb\"><span  class=\"hl hlup\" >פַּעֲמָֽיִם׃ </span></span> <i>152405</i> </td></tr>\n",
       "<tr class=\"tf\"><td class=\"tf\">2</td><td class=\"tf\"> <a href=\"https://shebanq.ancient-data.org/hebrew/text?book=Haggai&amp;chapter=1&amp;verse=8&amp;version=c&amp;mr=m&amp;qw=q&amp;tp=txt_p&amp;tr=hb&amp;wget=v&amp;qget=v&amp;nget=vt\" title=\"show this passage in SHEBANQ\" sec=\"Haggai 1:8\">Haggai 1:8</a></td><td class=\"tf\"><span class=\"hb\"><a href=\"https://shebanq.ancient-data.org/hebrew/text?book=Haggai&amp;chapter=1&amp;verse=8&amp;version=c&amp;mr=m&amp;qw=q&amp;tp=txt_p&amp;tr=hb&amp;wget=v&amp;qget=v&amp;nget=vt\" title=\"Haggai 1:8\" sec=\"Haggai 1:8\"><span  class=\"hlup\" >הָ</span><span  class=\"hl hlup\" >הָ֛ר </span></a></span> <i>1094733</i> </td><td class=\"tf\"><span class=\"hb\"><span  class=\"hl hlup\" >הָ֛ר </span></span> <i>304251</i> </td></tr>\n",
       "<tr class=\"tf\"><td class=\"tf\">3</td><td class=\"tf\"> <a href=\"https://shebanq.ancient-data.org/hebrew/text?book=Jeremia&amp;chapter=37&amp;verse=13&amp;version=c&amp;mr=m&amp;qw=q&amp;tp=txt_p&amp;tr=hb&amp;wget=v&amp;qget=v&amp;nget=vt\" title=\"show this passage in SHEBANQ\" sec=\"Jeremiah 37:13\">Jeremiah 37:13</a></td><td class=\"tf\"><span class=\"hb\"><a href=\"https://shebanq.ancient-data.org/hebrew/text?book=Jeremia&amp;chapter=37&amp;verse=13&amp;version=c&amp;mr=m&amp;qw=q&amp;tp=txt_p&amp;tr=hb&amp;wget=v&amp;qget=v&amp;nget=vt\" title=\"Jeremiah 37:13\" sec=\"Jeremiah 37:13\"><span  class=\"hl hlup\" >שְׁמֹו֙ </span></a></span> <i>1063335</i> </td><td class=\"tf\"><span class=\"hb\"><span  class=\"hl hlup\" >שְׁמֹו֙ </span></span> <i>255347</i> </td></tr>\n",
       "<tr class=\"tf\"><td class=\"tf\">4</td><td class=\"tf\"> <a href=\"https://shebanq.ancient-data.org/hebrew/text?book=Ezechiel&amp;chapter=34&amp;verse=6&amp;version=c&amp;mr=m&amp;qw=q&amp;tp=txt_p&amp;tr=hb&amp;wget=v&amp;qget=v&amp;nget=vt\" title=\"show this passage in SHEBANQ\" sec=\"Ezekiel 34:6\">Ezekiel 34:6</a></td><td class=\"tf\"><span class=\"hb\"><a href=\"https://shebanq.ancient-data.org/hebrew/text?book=Ezechiel&amp;chapter=34&amp;verse=6&amp;version=c&amp;mr=m&amp;qw=q&amp;tp=txt_p&amp;tr=hb&amp;wget=v&amp;qget=v&amp;nget=vt\" title=\"Ezekiel 34:6\" sec=\"Ezekiel 34:6\"><span  class=\"hl hlup\" >מְבַקֵּֽשׁ׃ </span></a></span> <i>1080342</i> </td><td class=\"tf\"><span class=\"hb\"><span  class=\"hl hlup\" >מְבַקֵּֽשׁ׃ </span></span> <i>281653</i> </td></tr>\n",
       "<tr class=\"tf\"><td class=\"tf\">5</td><td class=\"tf\"> <a href=\"https://shebanq.ancient-data.org/hebrew/text?book=Psalmi&amp;chapter=136&amp;verse=8&amp;version=c&amp;mr=m&amp;qw=q&amp;tp=txt_p&amp;tr=hb&amp;wget=v&amp;qget=v&amp;nget=vt\" title=\"show this passage in SHEBANQ\" sec=\"Psalms 136:8\">Psalms 136:8</a></td><td class=\"tf\"><span class=\"hb\"><a href=\"https://shebanq.ancient-data.org/hebrew/text?book=Psalmi&amp;chapter=136&amp;verse=8&amp;version=c&amp;mr=m&amp;qw=q&amp;tp=txt_p&amp;tr=hb&amp;wget=v&amp;qget=v&amp;nget=vt\" title=\"Psalms 136:8\" sec=\"Psalms 136:8\"><span  class=\"hl hlup\" >חַסְדֹּֽו׃ </span></a></span> <i>1115472</i> </td><td class=\"tf\"><span class=\"hb\"><span  class=\"hl hlup\" >חַסְדֹּֽו׃ </span></span> <i>333985</i> </td></tr>\n",
       "<tr class=\"tf\"><td class=\"tf\">6</td><td class=\"tf\"> <a href=\"https://shebanq.ancient-data.org/hebrew/text?book=Samuel_I&amp;chapter=1&amp;verse=26&amp;version=c&amp;mr=m&amp;qw=q&amp;tp=txt_p&amp;tr=hb&amp;wget=v&amp;qget=v&amp;nget=vt\" title=\"show this passage in SHEBANQ\" sec=\"1_Samuel 1:26\">1_Samuel 1:26</a></td><td class=\"tf\"><span class=\"hb\"><a href=\"https://shebanq.ancient-data.org/hebrew/text?book=Samuel_I&amp;chapter=1&amp;verse=26&amp;version=c&amp;mr=m&amp;qw=q&amp;tp=txt_p&amp;tr=hb&amp;wget=v&amp;qget=v&amp;nget=vt\" title=\"1_Samuel 1:26\" sec=\"1_Samuel 1:26\"><span  class=\"hl hlup\" >נַפְשְׁךָ֖ </span></a></span> <i>990037</i> </td><td class=\"tf\"><span class=\"hb\"><span  class=\"hl hlup\" >נַפְשְׁךָ֖ </span></span> <i>142063</i> </td></tr>\n",
       "<tr class=\"tf\"><td class=\"tf\">7</td><td class=\"tf\"> <a href=\"https://shebanq.ancient-data.org/hebrew/text?book=Ecclesiastes&amp;chapter=3&amp;verse=2&amp;version=c&amp;mr=m&amp;qw=q&amp;tp=txt_p&amp;tr=hb&amp;wget=v&amp;qget=v&amp;nget=vt\" title=\"show this passage in SHEBANQ\" sec=\"Ecclesiastes 3:2\">Ecclesiastes 3:2</a></td><td class=\"tf\"><span class=\"hb\"><a href=\"https://shebanq.ancient-data.org/hebrew/text?book=Ecclesiastes&amp;chapter=3&amp;verse=2&amp;version=c&amp;mr=m&amp;qw=q&amp;tp=txt_p&amp;tr=hb&amp;wget=v&amp;qget=v&amp;nget=vt\" title=\"Ecclesiastes 3:2\" sec=\"Ecclesiastes 3:2\"><span  class=\"hl hlup\" >עֵ֣ת </span></a></span> <i>1134587</i> </td><td class=\"tf\"><span class=\"hb\"><span  class=\"hl hlup\" >עֵ֣ת </span></span> <i>360150</i> </td></tr>\n",
       "<tr class=\"tf\"><td class=\"tf\">8</td><td class=\"tf\"> <a href=\"https://shebanq.ancient-data.org/hebrew/text?book=Exodus&amp;chapter=12&amp;verse=37&amp;version=c&amp;mr=m&amp;qw=q&amp;tp=txt_p&amp;tr=hb&amp;wget=v&amp;qget=v&amp;nget=vt\" title=\"show this passage in SHEBANQ\" sec=\"Exodus 12:37\">Exodus 12:37</a></td><td class=\"tf\"><span class=\"hb\"><a href=\"https://shebanq.ancient-data.org/hebrew/text?book=Exodus&amp;chapter=12&amp;verse=37&amp;version=c&amp;mr=m&amp;qw=q&amp;tp=txt_p&amp;tr=hb&amp;wget=v&amp;qget=v&amp;nget=vt\" title=\"Exodus 12:37\" sec=\"Exodus 12:37\"><span  class=\"hlup\" >הַ</span><span  class=\"hl hlup\" >גְּבָרִ֖ים </span></a></span> <i>927681</i> </td><td class=\"tf\"><span class=\"hb\"><span  class=\"hl hlup\" >גְּבָרִ֖ים </span></span> <i>35515</i> </td></tr>\n",
       "<tr class=\"tf\"><td class=\"tf\">9</td><td class=\"tf\"> <a href=\"https://shebanq.ancient-data.org/hebrew/text?book=Proverbia&amp;chapter=2&amp;verse=18&amp;version=c&amp;mr=m&amp;qw=q&amp;tp=txt_p&amp;tr=hb&amp;wget=v&amp;qget=v&amp;nget=vt\" title=\"show this passage in SHEBANQ\" sec=\"Proverbs 2:18\">Proverbs 2:18</a></td><td class=\"tf\"><span class=\"hb\"><a href=\"https://shebanq.ancient-data.org/hebrew/text?book=Proverbia&amp;chapter=2&amp;verse=18&amp;version=c&amp;mr=m&amp;qw=q&amp;tp=txt_p&amp;tr=hb&amp;wget=v&amp;qget=v&amp;nget=vt\" title=\"Proverbs 2:18\" sec=\"Proverbs 2:18\"><span  class=\"hl hlup\" >בֵּיתָ֑הּ </span></a></span> <i>1125608</i> </td><td class=\"tf\"><span class=\"hb\"><span  class=\"hl hlup\" >בֵּיתָ֑הּ </span></span> <i>347398</i> </td></tr>\n",
       "<tr class=\"tf\"><td class=\"tf\">10</td><td class=\"tf\"> <a href=\"https://shebanq.ancient-data.org/hebrew/text?book=Jesaia&amp;chapter=28&amp;verse=9&amp;version=c&amp;mr=m&amp;qw=q&amp;tp=txt_p&amp;tr=hb&amp;wget=v&amp;qget=v&amp;nget=vt\" title=\"show this passage in SHEBANQ\" sec=\"Isaiah 28:9\">Isaiah 28:9</a></td><td class=\"tf\"><span class=\"hb\"><a href=\"https://shebanq.ancient-data.org/hebrew/text?book=Jesaia&amp;chapter=28&amp;verse=9&amp;version=c&amp;mr=m&amp;qw=q&amp;tp=txt_p&amp;tr=hb&amp;wget=v&amp;qget=v&amp;nget=vt\" title=\"Isaiah 28:9\" sec=\"Isaiah 28:9\"><span  class=\"hl hlup\" >שְׁמוּעָ֑ה </span></a></span> <i>1040518</i> </td><td class=\"tf\"><span class=\"hb\"><span  class=\"hl hlup\" >שְׁמוּעָ֑ה </span></span> <i>220960</i> </td></tr>\n",
       "<tr class=\"tf\"><td class=\"tf\">11</td><td class=\"tf\"> <a href=\"https://shebanq.ancient-data.org/hebrew/text?book=Chronica_I&amp;chapter=9&amp;verse=21&amp;version=c&amp;mr=m&amp;qw=q&amp;tp=txt_p&amp;tr=hb&amp;wget=v&amp;qget=v&amp;nget=vt\" title=\"show this passage in SHEBANQ\" sec=\"1_Chronicles 9:21\">1_Chronicles 9:21</a></td><td class=\"tf\"><span class=\"hb\"><a href=\"https://shebanq.ancient-data.org/hebrew/text?book=Chronica_I&amp;chapter=9&amp;verse=21&amp;version=c&amp;mr=m&amp;qw=q&amp;tp=txt_p&amp;tr=hb&amp;wget=v&amp;qget=v&amp;nget=vt\" title=\"1_Chronicles 9:21\" sec=\"1_Chronicles 9:21\"><span  class=\"hl hlup\" >שֹׁעֵ֥ר </span></a></span> <i>1155336</i> </td><td class=\"tf\"><span class=\"hb\"><span  class=\"hl hlup\" >שֹׁעֵ֥ר </span></span> <i>396324</i> </td></tr>\n",
       "<tr class=\"tf\"><td class=\"tf\">12</td><td class=\"tf\"> <a href=\"https://shebanq.ancient-data.org/hebrew/text?book=Jesaia&amp;chapter=28&amp;verse=19&amp;version=c&amp;mr=m&amp;qw=q&amp;tp=txt_p&amp;tr=hb&amp;wget=v&amp;qget=v&amp;nget=vt\" title=\"show this passage in SHEBANQ\" sec=\"Isaiah 28:19\">Isaiah 28:19</a></td><td class=\"tf\"><span class=\"hb\"><a href=\"https://shebanq.ancient-data.org/hebrew/text?book=Jesaia&amp;chapter=28&amp;verse=19&amp;version=c&amp;mr=m&amp;qw=q&amp;tp=txt_p&amp;tr=hb&amp;wget=v&amp;qget=v&amp;nget=vt\" title=\"Isaiah 28:19\" sec=\"Isaiah 28:19\"><span  class=\"hl hlup\" >זְוָעָ֖ה </span></a></span> <i>1040664</i> </td><td class=\"tf\"><span class=\"hb\"><span  class=\"hl hlup\" >זְוָעָ֖ה </span></span> <i>221169</i> </td></tr>\n",
       "<tr class=\"tf\"><td class=\"tf\">13</td><td class=\"tf\"> <a href=\"https://shebanq.ancient-data.org/hebrew/text?book=Genesis&amp;chapter=33&amp;verse=15&amp;version=c&amp;mr=m&amp;qw=q&amp;tp=txt_p&amp;tr=hb&amp;wget=v&amp;qget=v&amp;nget=vt\" title=\"show this passage in SHEBANQ\" sec=\"Genesis 33:15\">Genesis 33:15</a></td><td class=\"tf\"><span class=\"hb\"><a href=\"https://shebanq.ancient-data.org/hebrew/text?book=Genesis&amp;chapter=33&amp;verse=15&amp;version=c&amp;mr=m&amp;qw=q&amp;tp=txt_p&amp;tr=hb&amp;wget=v&amp;qget=v&amp;nget=vt\" title=\"Genesis 33:15\" sec=\"Genesis 33:15\"><span  class=\"hl hlup\" >חֵ֖ן </span></a></span> <i>916597</i> </td><td class=\"tf\"><span class=\"hb\"><span  class=\"hl hlup\" >חֵ֖ן </span></span> <i>18366</i> </td></tr>\n",
       "<tr class=\"tf\"><td class=\"tf\">14</td><td class=\"tf\"> <a href=\"https://shebanq.ancient-data.org/hebrew/text?book=Iob&amp;chapter=31&amp;verse=15&amp;version=c&amp;mr=m&amp;qw=q&amp;tp=txt_p&amp;tr=hb&amp;wget=v&amp;qget=v&amp;nget=vt\" title=\"show this passage in SHEBANQ\" sec=\"Job 31:15\">Job 31:15</a></td><td class=\"tf\"><span class=\"hb\"><a href=\"https://shebanq.ancient-data.org/hebrew/text?book=Iob&amp;chapter=31&amp;verse=15&amp;version=c&amp;mr=m&amp;qw=q&amp;tp=txt_p&amp;tr=hb&amp;wget=v&amp;qget=v&amp;nget=vt\" title=\"Job 31:15\" sec=\"Job 31:15\"><span  class=\"hl hlup\" >עֹשֵׂ֣נִי </span></a></span> <i>1122729</i> </td><td class=\"tf\"><span class=\"hb\"><span  class=\"hl hlup\" >עֹשֵׂ֣נִי </span></span> <i>343541</i> </td></tr>\n",
       "<tr class=\"tf\"><td class=\"tf\">15</td><td class=\"tf\"> <a href=\"https://shebanq.ancient-data.org/hebrew/text?book=Canticum&amp;chapter=7&amp;verse=2&amp;version=c&amp;mr=m&amp;qw=q&amp;tp=txt_p&amp;tr=hb&amp;wget=v&amp;qget=v&amp;nget=vt\" title=\"show this passage in SHEBANQ\" sec=\"Song_of_songs 7:2\">Song_of_songs 7:2</a></td><td class=\"tf\"><span class=\"hb\"><a href=\"https://shebanq.ancient-data.org/hebrew/text?book=Canticum&amp;chapter=7&amp;verse=2&amp;version=c&amp;mr=m&amp;qw=q&amp;tp=txt_p&amp;tr=hb&amp;wget=v&amp;qget=v&amp;nget=vt\" title=\"Song_of_songs 7:2\" sec=\"Song_of_songs 7:2\"><span  class=\"hl hlup\" >פְעָמַ֛יִךְ </span></a></span> <i>1133751</i> </td><td class=\"tf\"><span class=\"hb\"><span  class=\"hl hlup\" >פְעָמַ֛יִךְ </span></span> <i>358875</i> </td></tr>\n",
       "<tr class=\"tf\"><td class=\"tf\">16</td><td class=\"tf\"> <a href=\"https://shebanq.ancient-data.org/hebrew/text?book=Zephania&amp;chapter=3&amp;verse=18&amp;version=c&amp;mr=m&amp;qw=q&amp;tp=txt_p&amp;tr=hb&amp;wget=v&amp;qget=v&amp;nget=vt\" title=\"show this passage in SHEBANQ\" sec=\"Zephaniah 3:18\">Zephaniah 3:18</a></td><td class=\"tf\"><span class=\"hb\"><a href=\"https://shebanq.ancient-data.org/hebrew/text?book=Zephania&amp;chapter=3&amp;verse=18&amp;version=c&amp;mr=m&amp;qw=q&amp;tp=txt_p&amp;tr=hb&amp;wget=v&amp;qget=v&amp;nget=vt\" title=\"Zephaniah 3:18\" sec=\"Zephaniah 3:18\"><span  class=\"hl hlup\" >מַשְׂאֵ֥ת </span></a></span> <i>1094618</i> </td><td class=\"tf\"><span class=\"hb\"><span  class=\"hl hlup\" >מַשְׂאֵ֥ת </span></span> <i>304047</i> </td></tr>\n",
       "<tr class=\"tf\"><td class=\"tf\">17</td><td class=\"tf\"> <a href=\"https://shebanq.ancient-data.org/hebrew/text?book=Jesaia&amp;chapter=57&amp;verse=1&amp;version=c&amp;mr=m&amp;qw=q&amp;tp=txt_p&amp;tr=hb&amp;wget=v&amp;qget=v&amp;nget=vt\" title=\"show this passage in SHEBANQ\" sec=\"Isaiah 57:1\">Isaiah 57:1</a></td><td class=\"tf\"><span class=\"hb\"><a href=\"https://shebanq.ancient-data.org/hebrew/text?book=Jesaia&amp;chapter=57&amp;verse=1&amp;version=c&amp;mr=m&amp;qw=q&amp;tp=txt_p&amp;tr=hb&amp;wget=v&amp;qget=v&amp;nget=vt\" title=\"Isaiah 57:1\" sec=\"Isaiah 57:1\"><span  class=\"hl hlup\" >אִ֖ישׁ </span></a></span> <i>1048180</i> </td><td class=\"tf\"><span class=\"hb\"><span  class=\"hl hlup\" >אִ֖ישׁ </span></span> <i>231558</i> </td></tr>\n",
       "<tr class=\"tf\"><td class=\"tf\">18</td><td class=\"tf\"> <a href=\"https://shebanq.ancient-data.org/hebrew/text?book=Josua&amp;chapter=17&amp;verse=9&amp;version=c&amp;mr=m&amp;qw=q&amp;tp=txt_p&amp;tr=hb&amp;wget=v&amp;qget=v&amp;nget=vt\" title=\"show this passage in SHEBANQ\" sec=\"Joshua 17:9\">Joshua 17:9</a></td><td class=\"tf\"><span class=\"hb\"><a href=\"https://shebanq.ancient-data.org/hebrew/text?book=Josua&amp;chapter=17&amp;verse=9&amp;version=c&amp;mr=m&amp;qw=q&amp;tp=txt_p&amp;tr=hb&amp;wget=v&amp;qget=v&amp;nget=vt\" title=\"Joshua 17:9\" sec=\"Joshua 17:9\"><span  class=\"hlup\" >הַ</span><span  class=\"hl hlup\" >גְּבוּל֩ </span></a></span> <i>978049</i> </td><td class=\"tf\"><span class=\"hb\"><span  class=\"hl hlup\" >גְּבוּל֩ </span></span> <i>122578</i> </td></tr>\n",
       "<tr class=\"tf\"><td class=\"tf\">19</td><td class=\"tf\"> <a href=\"https://shebanq.ancient-data.org/hebrew/text?book=Jesaia&amp;chapter=49&amp;verse=17&amp;version=c&amp;mr=m&amp;qw=q&amp;tp=txt_p&amp;tr=hb&amp;wget=v&amp;qget=v&amp;nget=vt\" title=\"show this passage in SHEBANQ\" sec=\"Isaiah 49:17\">Isaiah 49:17</a></td><td class=\"tf\"><span class=\"hb\"><a href=\"https://shebanq.ancient-data.org/hebrew/text?book=Jesaia&amp;chapter=49&amp;verse=17&amp;version=c&amp;mr=m&amp;qw=q&amp;tp=txt_p&amp;tr=hb&amp;wget=v&amp;qget=v&amp;nget=vt\" title=\"Isaiah 49:17\" sec=\"Isaiah 49:17\"><span  class=\"hl hlup\" >בָּנָ֑יִךְ </span></a></span> <i>1046616</i> </td><td class=\"tf\"><span class=\"hb\"><span  class=\"hl hlup\" >בָּנָ֑יִךְ </span></span> <i>229430</i> </td></tr>\n",
       "<tr class=\"tf\"><td class=\"tf\">20</td><td class=\"tf\"> <a href=\"https://shebanq.ancient-data.org/hebrew/text?book=Esther&amp;chapter=1&amp;verse=5&amp;version=c&amp;mr=m&amp;qw=q&amp;tp=txt_p&amp;tr=hb&amp;wget=v&amp;qget=v&amp;nget=vt\" title=\"show this passage in SHEBANQ\" sec=\"Esther 1:5\">Esther 1:5</a></td><td class=\"tf\"><span class=\"hb\"><a href=\"https://shebanq.ancient-data.org/hebrew/text?book=Esther&amp;chapter=1&amp;verse=5&amp;version=c&amp;mr=m&amp;qw=q&amp;tp=txt_p&amp;tr=hb&amp;wget=v&amp;qget=v&amp;nget=vt\" title=\"Esther 1:5\" sec=\"Esther 1:5\"><span  class=\"hlup\" >הַ</span><span  class=\"hl hlup\" >בִּירָ֜ה </span></a></span> <i>1138179</i> </td><td class=\"tf\"><span class=\"hb\"><span  class=\"hl hlup\" >בִּירָ֜ה </span></span> <i>365552</i> </td></tr></table>"
      ],
      "text/plain": [
       "<IPython.core.display.HTML object>"
      ]
     },
     "metadata": {},
     "output_type": "display_data"
    }
   ],
   "source": [
    "random.shuffle(simpleres)\n",
    "A.table(simpleres, end=20, withNodes=True)"
   ]
  },
  {
   "cell_type": "markdown",
   "metadata": {},
   "source": [
    "These cases are great. We add them and continue on with the quest."
   ]
  },
  {
   "cell_type": "code",
   "execution_count": 17,
   "metadata": {},
   "outputs": [],
   "source": [
    "covered |= set(simpleres)"
   ]
  },
  {
   "cell_type": "code",
   "execution_count": 18,
   "metadata": {},
   "outputs": [
    {
     "name": "stdout",
     "output_type": "stream",
     "text": [
      "19738\n"
     ]
    }
   ],
   "source": [
    "prog() # progress"
   ]
  },
  {
   "cell_type": "markdown",
   "metadata": {},
   "source": [
    "**From now on, things get complicated.** We need a function that tests a candidate's syntactic autonomy. That is done by looking at the positions before and after the candidate within the phrase_atom and by applying classical rules of Hebrew noun syntax."
   ]
  },
  {
   "cell_type": "markdown",
   "metadata": {},
   "source": [
    "### Valid Pair Disambiguation\n",
    "\n",
    "In many cases a valid coordinate pair is invalidated due to the immediately preceding term. An example might be found in Hosea 1:2:\n",
    "\n",
    "> Hosea 1:2 אֵ֤שֶׁת זְנוּנִים֙ וְיַלְדֵ֣י זְנוּנִ֔ים\n",
    "\n",
    "Here both אשׁה and ילד should be selected as semantic heads. But the algorithm would see ינונים וילדי and assume that ילד is connected with ינונים rather than אשׁה. As a result, the algorithm will evaluate ילד as coordinate with a non-head word and thus eliminate it as a candidate. \n",
    "\n",
    "How might we disambiguate such cases?\n",
    "\n",
    "I propose that the item `B` in an `A & B` coordination are more semantically similar than other words. One way to detect this is to find examples of `A & B` pairs across the corpus where there are no intervening words.\n",
    "\n",
    "***Shallow Method***\n",
    "> if `A & B`<br>\n",
    "> then `A of C & B == A & B`\n",
    "\n",
    "I do not yet know whether this method alone is powerful enough to disambiguate all cases. As a last resort, we may eventually require vector semantic data. Then we could say:\n",
    "\n",
    "***Vector Semantic Method***\n",
    "> if `A ~ B`<br>\n",
    "> then `A of C & B == A & B`"
   ]
  },
  {
   "cell_type": "markdown",
   "metadata": {},
   "source": [
    "#### The Shallow Method\n",
    "\n",
    "Herein we make mappings of acceptable lexeme pairings. Everywhere in the HB that `A & B` is found, we make a mapping of `A` to `B` and `B` to `A`. We can maximize the method's effectiveness by also recording pairwise relations across all pairs in a conjunction chain, so that:\n",
    "\n",
    "> given `A & B & C` <br>\n",
    "> then `A ~ C` <br>\n",
    "> and `B ~ C` <br>\n",
    "> etc."
   ]
  },
  {
   "cell_type": "code",
   "execution_count": 233,
   "metadata": {},
   "outputs": [
    {
     "name": "stdout",
     "output_type": "stream",
     "text": [
      "3025 valid pairs added...\n"
     ]
    }
   ],
   "source": [
    "subs = {'subs', 'nmpr', 'adjv'}\n",
    "\n",
    "def conj_climber(a):\n",
    "    '''\n",
    "    Climbs down conjunction chains recursively\n",
    "    and yields the words. Start with first word.\n",
    "    '''\n",
    "    yield a\n",
    "    \n",
    "    pos = Positions(a, 'phrase')\n",
    "    \n",
    "    b = (\n",
    "        (pos[2] if F.sp.v(pos[1])=='conj' and F.sp.v(pos[2])!='art' and F.sp.v(pos[2]) in subs else None)\n",
    "    \n",
    "        or (pos[3] if F.sp.v(pos[-1])=='art' and F.sp.v(pos[1])=='conj'\n",
    "                and F.sp.v(pos[2])=='art' and F.sp.v(pos[2]) in subs else None)\n",
    "    \n",
    "        or (pos[3] if F.sp.v(pos[-1])=='prep' and F.sp.v(pos[1])=='conj'\n",
    "                and F.sp.v(pos[2])=='prep' and F.sp.v(pos[3]) in subs else None)\n",
    "    \n",
    "        or (pos[3] if F.sp.v(pos[-1])=='art' and F.sp.v(pos[-2])=='prep' \n",
    "               and F.sp.v(pos[1])=='conj' and F.sp.v(pos[2])=='art' and F.sp.v(pos[3])=='prep'\n",
    "               and F.sp.v(pos[4]) in subs else None)\n",
    "        )\n",
    "    \n",
    "    if b:\n",
    "        yield from conj_climber(b)\n",
    "        \n",
    "\n",
    "covered = set() # skip items already matched\n",
    "valid_pairs = collections.defaultdict(set)\n",
    "\n",
    "for w in F.otype.s('word'):\n",
    "    \n",
    "    # skip words already visited in a chain\n",
    "    if w in covered:\n",
    "        continue\n",
    "        \n",
    "    # check for chain\n",
    "    chain = list(conj_climber(w))\n",
    "    if not chain:\n",
    "        continue\n",
    "        \n",
    "    # add pairs\n",
    "    for i in chain:\n",
    "        for j in chain:\n",
    "            \n",
    "#             if F.lex.v(i)=='>RY/' and F.lex.v(j) == '<WP/':\n",
    "#                 raise Exception(w, chain)\n",
    "            \n",
    "            if i == j:\n",
    "                continue\n",
    "            valid_pairs[F.lex.v(i)].add(F.lex.v(j))\n",
    "            \n",
    "print(len(valid_pairs), 'valid pairs added...')"
   ]
  },
  {
   "cell_type": "code",
   "execution_count": 241,
   "metadata": {},
   "outputs": [
    {
     "name": "stdout",
     "output_type": "stream",
     "text": [
      "3025 valid pairs added...\n"
     ]
    }
   ],
   "source": [
    "# expand the set\n",
    "\n",
    "expanded_pairs = collections.defaultdict(set)\n",
    "\n",
    "for lex, pairs in valid_pairs.items():\n",
    "    for paired in pairs:\n",
    "        expanded_pairs[lex] |= valid_pairs[paired]\n",
    "\n",
    "print(len(valid_pairs), 'valid pairs added...')"
   ]
  },
  {
   "cell_type": "code",
   "execution_count": 245,
   "metadata": {},
   "outputs": [],
   "source": [
    "#expanded_pairs['>RY/']"
   ]
  },
  {
   "cell_type": "code",
   "execution_count": 249,
   "metadata": {},
   "outputs": [
    {
     "data": {
      "text/plain": [
       "False"
      ]
     },
     "execution_count": 249,
     "metadata": {},
     "output_type": "execute_result"
    }
   ],
   "source": [
    "'DGH/' in expanded_pairs['<WP/']"
   ]
  },
  {
   "cell_type": "code",
   "execution_count": 261,
   "metadata": {},
   "outputs": [
    {
     "data": {
      "text/plain": [
       "{'<NN/',\n",
       " '>JC/',\n",
       " '>RJH/',\n",
       " 'BKJ/',\n",
       " 'BRD/',\n",
       " 'BRQ/',\n",
       " 'FFWN/',\n",
       " 'KNWR/',\n",
       " 'MVR/',\n",
       " 'R<C/',\n",
       " 'R<M/',\n",
       " 'TRW<H/',\n",
       " 'TWDH/',\n",
       " 'XTN/',\n",
       " 'XYYRH/'}"
      ]
     },
     "execution_count": 261,
     "metadata": {},
     "output_type": "execute_result"
    }
   ],
   "source": [
    "valid_pairs['QWL/']"
   ]
  },
  {
   "cell_type": "code",
   "execution_count": 251,
   "metadata": {},
   "outputs": [
    {
     "data": {
      "text/plain": [
       "{'>LHJM/', '>RY/', 'BJN/', 'CMJM/', 'DG/', 'KL/', 'KSJL=/', 'RMF/', 'XJH/'}"
      ]
     },
     "execution_count": 251,
     "metadata": {},
     "output_type": "execute_result"
    }
   ],
   "source": [
    "valid_pairs['CMJM/']"
   ]
  },
  {
   "cell_type": "code",
   "execution_count": 240,
   "metadata": {},
   "outputs": [
    {
     "data": {
      "text/plain": [
       "{'>LHJM/', '>RY/', 'BJN/', 'CMJM/', 'DG/', 'KL/', 'KSJL=/', 'RMF/', 'XJH/'}"
      ]
     },
     "execution_count": 240,
     "metadata": {},
     "output_type": "execute_result"
    }
   ],
   "source": [
    "valid_pairs['CMJM/']"
   ]
  },
  {
   "cell_type": "code",
   "execution_count": 225,
   "metadata": {},
   "outputs": [
    {
     "data": {
      "text/plain": [
       "1414379"
      ]
     },
     "execution_count": 225,
     "metadata": {},
     "output_type": "execute_result"
    }
   ],
   "source": [
    "T.nodeFromSection(('Genesis', 1, 26))"
   ]
  },
  {
   "cell_type": "code",
   "execution_count": 248,
   "metadata": {},
   "outputs": [
    {
     "data": {
      "text/plain": [
       "'DGH/'"
      ]
     },
     "execution_count": 248,
     "metadata": {},
     "output_type": "execute_result"
    }
   ],
   "source": [
    "F.lex.v(507)"
   ]
  },
  {
   "cell_type": "markdown",
   "metadata": {},
   "source": [
    "The example below shows that I will need a more robust disambiguation method. I am now considering options."
   ]
  },
  {
   "cell_type": "code",
   "execution_count": 229,
   "metadata": {},
   "outputs": [
    {
     "data": {
      "text/html": [
       "<a href=\"https://shebanq.ancient-data.org/hebrew/text?book=Genesis&amp;chapter=1&amp;verse=26&amp;version=c&amp;mr=m&amp;qw=q&amp;tp=txt_p&amp;tr=hb&amp;wget=v&amp;qget=v&amp;nget=vt\" title=\"show this passage in SHEBANQ\" sec=\"Genesis 1:26\">Genesis 1:26</a>\n",
       "<div class=\"atoms  \" >\n",
       "<a href=\"#\" class=\"nd\">651834</a>\n",
       "\n",
       "\n",
       "\n",
       "<div class=\"patom  l \" >\n",
       "\n",
       "    <div class=\"phrase \" >\n",
       "        <a href=\"https://shebanq.ancient-data.org/hebrew/text?book=Genesis&amp;chapter=1&amp;verse=26&amp;version=c&amp;mr=m&amp;qw=q&amp;tp=txt_p&amp;tr=hb&amp;wget=v&amp;qget=v&amp;nget=vt\" title=\"Genesis 1:26\" sec=\"Genesis 1:26\">phrase</a> <a href=\"#\" class=\"nd\">651834</a>  <span class=\"function\">Cmpl</span> <span class=\"typ\">PP</span>\n",
       "    </div>\n",
       "    <div class=\"atoms\">\n",
       "\n",
       "<div class=\"word  \" >\n",
       "<a href=\"#\" class=\"nd\">506</a>\n",
       "<div class=\"h\"><a target=\"_blank\" href=\"https://shebanq.ancient-data.org/hebrew/word?version=c&amp;id=1B\" title=\"show this lexeme in SHEBANQ\">בִ</a></div>\n",
       "<div class=\"features\"> <span class=\"pdp\"><a href=\"https://shebanq.ancient-data.org/hebrew/text?book=Genesis&amp;chapter=1&amp;verse=26&amp;version=c&amp;mr=m&amp;qw=q&amp;tp=txt_p&amp;tr=hb&amp;wget=v&amp;qget=v&amp;nget=vt\" title=\"Genesis 1:26\" sec=\"Genesis 1:26\">prep</a></span> <span class=\"gloss\">in</span> <span class=\"sp xft\"><span class=\"f\">sp=</span>prep</span></div>\n",
       "\n",
       "\n",
       "</div>\n",
       "\n",
       "<div class=\"word  \" >\n",
       "<a href=\"#\" class=\"nd\">507</a>\n",
       "<div class=\"h\"><a target=\"_blank\" href=\"https://shebanq.ancient-data.org/hebrew/word?version=c&amp;id=1DGHn\" title=\"show this lexeme in SHEBANQ\">דְגַ֨ת </a></div>\n",
       "<div class=\"features\"> <span class=\"pdp\"><a href=\"https://shebanq.ancient-data.org/hebrew/text?book=Genesis&amp;chapter=1&amp;verse=26&amp;version=c&amp;mr=m&amp;qw=q&amp;tp=txt_p&amp;tr=hb&amp;wget=v&amp;qget=v&amp;nget=vt\" title=\"Genesis 1:26\" sec=\"Genesis 1:26\">subs</a></span> <span class=\"gloss\">fish</span> <span class=\"sp xft\"><span class=\"f\">sp=</span>subs</span></div>\n",
       "\n",
       "\n",
       "</div>\n",
       "\n",
       "<div class=\"word  \" >\n",
       "<a href=\"#\" class=\"nd\">508</a>\n",
       "<div class=\"h\"><a target=\"_blank\" href=\"https://shebanq.ancient-data.org/hebrew/word?version=c&amp;id=1H\" title=\"show this lexeme in SHEBANQ\">הַ</a></div>\n",
       "<div class=\"features\"> <span class=\"pdp\"><a href=\"https://shebanq.ancient-data.org/hebrew/text?book=Genesis&amp;chapter=1&amp;verse=26&amp;version=c&amp;mr=m&amp;qw=q&amp;tp=txt_p&amp;tr=hb&amp;wget=v&amp;qget=v&amp;nget=vt\" title=\"Genesis 1:26\" sec=\"Genesis 1:26\">art</a></span> <span class=\"gloss\">the</span> <span class=\"sp xft\"><span class=\"f\">sp=</span>art</span></div>\n",
       "\n",
       "\n",
       "</div>\n",
       "\n",
       "<div class=\"word  \" >\n",
       "<a href=\"#\" class=\"nd\">509</a>\n",
       "<div class=\"h\"><a target=\"_blank\" href=\"https://shebanq.ancient-data.org/hebrew/word?version=c&amp;id=1JMn\" title=\"show this lexeme in SHEBANQ\">יָּ֜ם </a></div>\n",
       "<div class=\"features\"> <span class=\"pdp\"><a href=\"https://shebanq.ancient-data.org/hebrew/text?book=Genesis&amp;chapter=1&amp;verse=26&amp;version=c&amp;mr=m&amp;qw=q&amp;tp=txt_p&amp;tr=hb&amp;wget=v&amp;qget=v&amp;nget=vt\" title=\"Genesis 1:26\" sec=\"Genesis 1:26\">subs</a></span> <span class=\"gloss\">sea</span> <span class=\"sp xft\"><span class=\"f\">sp=</span>subs</span></div>\n",
       "\n",
       "\n",
       "</div>\n",
       "\n",
       "<div class=\"word  \" >\n",
       "<a href=\"#\" class=\"nd\">510</a>\n",
       "<div class=\"h\"><a target=\"_blank\" href=\"https://shebanq.ancient-data.org/hebrew/word?version=c&amp;id=1W\" title=\"show this lexeme in SHEBANQ\">וּ</a></div>\n",
       "<div class=\"features\"> <span class=\"pdp\"><a href=\"https://shebanq.ancient-data.org/hebrew/text?book=Genesis&amp;chapter=1&amp;verse=26&amp;version=c&amp;mr=m&amp;qw=q&amp;tp=txt_p&amp;tr=hb&amp;wget=v&amp;qget=v&amp;nget=vt\" title=\"Genesis 1:26\" sec=\"Genesis 1:26\">conj</a></span> <span class=\"gloss\">and</span> <span class=\"sp xft\"><span class=\"f\">sp=</span>conj</span></div>\n",
       "\n",
       "\n",
       "</div>\n",
       "\n",
       "<div class=\"word  \" >\n",
       "<a href=\"#\" class=\"nd\">511</a>\n",
       "<div class=\"h\"><a target=\"_blank\" href=\"https://shebanq.ancient-data.org/hebrew/word?version=c&amp;id=1B\" title=\"show this lexeme in SHEBANQ\">בְ</a></div>\n",
       "<div class=\"features\"> <span class=\"pdp\"><a href=\"https://shebanq.ancient-data.org/hebrew/text?book=Genesis&amp;chapter=1&amp;verse=26&amp;version=c&amp;mr=m&amp;qw=q&amp;tp=txt_p&amp;tr=hb&amp;wget=v&amp;qget=v&amp;nget=vt\" title=\"Genesis 1:26\" sec=\"Genesis 1:26\">prep</a></span> <span class=\"gloss\">in</span> <span class=\"sp xft\"><span class=\"f\">sp=</span>prep</span></div>\n",
       "\n",
       "\n",
       "</div>\n",
       "\n",
       "<div class=\"word  \" >\n",
       "<a href=\"#\" class=\"nd\">512</a>\n",
       "<div class=\"h\"><a target=\"_blank\" href=\"https://shebanq.ancient-data.org/hebrew/word?version=c&amp;id=1OWPn\" title=\"show this lexeme in SHEBANQ\">עֹ֣וף </a></div>\n",
       "<div class=\"features\"> <span class=\"pdp\"><a href=\"https://shebanq.ancient-data.org/hebrew/text?book=Genesis&amp;chapter=1&amp;verse=26&amp;version=c&amp;mr=m&amp;qw=q&amp;tp=txt_p&amp;tr=hb&amp;wget=v&amp;qget=v&amp;nget=vt\" title=\"Genesis 1:26\" sec=\"Genesis 1:26\">subs</a></span> <span class=\"gloss\">birds</span> <span class=\"sp xft\"><span class=\"f\">sp=</span>subs</span></div>\n",
       "\n",
       "\n",
       "</div>\n",
       "\n",
       "<div class=\"word  \" >\n",
       "<a href=\"#\" class=\"nd\">513</a>\n",
       "<div class=\"h\"><a target=\"_blank\" href=\"https://shebanq.ancient-data.org/hebrew/word?version=c&amp;id=1H\" title=\"show this lexeme in SHEBANQ\">הַ</a></div>\n",
       "<div class=\"features\"> <span class=\"pdp\"><a href=\"https://shebanq.ancient-data.org/hebrew/text?book=Genesis&amp;chapter=1&amp;verse=26&amp;version=c&amp;mr=m&amp;qw=q&amp;tp=txt_p&amp;tr=hb&amp;wget=v&amp;qget=v&amp;nget=vt\" title=\"Genesis 1:26\" sec=\"Genesis 1:26\">art</a></span> <span class=\"gloss\">the</span> <span class=\"sp xft\"><span class=\"f\">sp=</span>art</span></div>\n",
       "\n",
       "\n",
       "</div>\n",
       "\n",
       "<div class=\"word  \" >\n",
       "<a href=\"#\" class=\"nd\">514</a>\n",
       "<div class=\"h\"><a target=\"_blank\" href=\"https://shebanq.ancient-data.org/hebrew/word?version=c&amp;id=1CMJMn\" title=\"show this lexeme in SHEBANQ\">שָּׁמַ֗יִם </a></div>\n",
       "<div class=\"features\"> <span class=\"pdp\"><a href=\"https://shebanq.ancient-data.org/hebrew/text?book=Genesis&amp;chapter=1&amp;verse=26&amp;version=c&amp;mr=m&amp;qw=q&amp;tp=txt_p&amp;tr=hb&amp;wget=v&amp;qget=v&amp;nget=vt\" title=\"Genesis 1:26\" sec=\"Genesis 1:26\">subs</a></span> <span class=\"gloss\">heavens</span> <span class=\"sp xft\"><span class=\"f\">sp=</span>subs</span></div>\n",
       "\n",
       "\n",
       "</div>\n",
       "\n",
       "<div class=\"word  \" >\n",
       "<a href=\"#\" class=\"nd\">515</a>\n",
       "<div class=\"h\"><a target=\"_blank\" href=\"https://shebanq.ancient-data.org/hebrew/word?version=c&amp;id=1W\" title=\"show this lexeme in SHEBANQ\">וּ</a></div>\n",
       "<div class=\"features\"> <span class=\"pdp\"><a href=\"https://shebanq.ancient-data.org/hebrew/text?book=Genesis&amp;chapter=1&amp;verse=26&amp;version=c&amp;mr=m&amp;qw=q&amp;tp=txt_p&amp;tr=hb&amp;wget=v&amp;qget=v&amp;nget=vt\" title=\"Genesis 1:26\" sec=\"Genesis 1:26\">conj</a></span> <span class=\"gloss\">and</span> <span class=\"sp xft\"><span class=\"f\">sp=</span>conj</span></div>\n",
       "\n",
       "\n",
       "</div>\n",
       "\n",
       "<div class=\"word  \" >\n",
       "<a href=\"#\" class=\"nd\">516</a>\n",
       "<div class=\"h\"><a target=\"_blank\" href=\"https://shebanq.ancient-data.org/hebrew/word?version=c&amp;id=1B\" title=\"show this lexeme in SHEBANQ\">בַ</a></div>\n",
       "<div class=\"features\"> <span class=\"pdp\"><a href=\"https://shebanq.ancient-data.org/hebrew/text?book=Genesis&amp;chapter=1&amp;verse=26&amp;version=c&amp;mr=m&amp;qw=q&amp;tp=txt_p&amp;tr=hb&amp;wget=v&amp;qget=v&amp;nget=vt\" title=\"Genesis 1:26\" sec=\"Genesis 1:26\">prep</a></span> <span class=\"gloss\">in</span> <span class=\"sp xft\"><span class=\"f\">sp=</span>prep</span></div>\n",
       "\n",
       "\n",
       "</div>\n",
       "\n",
       "<div class=\"word  \" >\n",
       "<a href=\"#\" class=\"nd\">517</a>\n",
       "<div class=\"h\"><a target=\"_blank\" href=\"https://shebanq.ancient-data.org/hebrew/word?version=c&amp;id=1H\" title=\"show this lexeme in SHEBANQ\"></a></div>\n",
       "<div class=\"features\"> <span class=\"pdp\"><a href=\"https://shebanq.ancient-data.org/hebrew/text?book=Genesis&amp;chapter=1&amp;verse=26&amp;version=c&amp;mr=m&amp;qw=q&amp;tp=txt_p&amp;tr=hb&amp;wget=v&amp;qget=v&amp;nget=vt\" title=\"Genesis 1:26\" sec=\"Genesis 1:26\">art</a></span> <span class=\"gloss\">the</span> <span class=\"sp xft\"><span class=\"f\">sp=</span>art</span></div>\n",
       "\n",
       "\n",
       "</div>\n",
       "\n",
       "<div class=\"word  \" >\n",
       "<a href=\"#\" class=\"nd\">518</a>\n",
       "<div class=\"h\"><a target=\"_blank\" href=\"https://shebanq.ancient-data.org/hebrew/word?version=c&amp;id=1BHMHn\" title=\"show this lexeme in SHEBANQ\">בְּהֵמָה֙ </a></div>\n",
       "<div class=\"features\"> <span class=\"pdp\"><a href=\"https://shebanq.ancient-data.org/hebrew/text?book=Genesis&amp;chapter=1&amp;verse=26&amp;version=c&amp;mr=m&amp;qw=q&amp;tp=txt_p&amp;tr=hb&amp;wget=v&amp;qget=v&amp;nget=vt\" title=\"Genesis 1:26\" sec=\"Genesis 1:26\">subs</a></span> <span class=\"gloss\">cattle</span> <span class=\"sp xft\"><span class=\"f\">sp=</span>subs</span></div>\n",
       "\n",
       "\n",
       "</div>\n",
       "\n",
       "<div class=\"word  \" >\n",
       "<a href=\"#\" class=\"nd\">519</a>\n",
       "<div class=\"h\"><a target=\"_blank\" href=\"https://shebanq.ancient-data.org/hebrew/word?version=c&amp;id=1W\" title=\"show this lexeme in SHEBANQ\">וּ</a></div>\n",
       "<div class=\"features\"> <span class=\"pdp\"><a href=\"https://shebanq.ancient-data.org/hebrew/text?book=Genesis&amp;chapter=1&amp;verse=26&amp;version=c&amp;mr=m&amp;qw=q&amp;tp=txt_p&amp;tr=hb&amp;wget=v&amp;qget=v&amp;nget=vt\" title=\"Genesis 1:26\" sec=\"Genesis 1:26\">conj</a></span> <span class=\"gloss\">and</span> <span class=\"sp xft\"><span class=\"f\">sp=</span>conj</span></div>\n",
       "\n",
       "\n",
       "</div>\n",
       "\n",
       "<div class=\"word  \" >\n",
       "<a href=\"#\" class=\"nd\">520</a>\n",
       "<div class=\"h\"><a target=\"_blank\" href=\"https://shebanq.ancient-data.org/hebrew/word?version=c&amp;id=1B\" title=\"show this lexeme in SHEBANQ\">בְ</a></div>\n",
       "<div class=\"features\"> <span class=\"pdp\"><a href=\"https://shebanq.ancient-data.org/hebrew/text?book=Genesis&amp;chapter=1&amp;verse=26&amp;version=c&amp;mr=m&amp;qw=q&amp;tp=txt_p&amp;tr=hb&amp;wget=v&amp;qget=v&amp;nget=vt\" title=\"Genesis 1:26\" sec=\"Genesis 1:26\">prep</a></span> <span class=\"gloss\">in</span> <span class=\"sp xft\"><span class=\"f\">sp=</span>prep</span></div>\n",
       "\n",
       "\n",
       "</div>\n",
       "\n",
       "<div class=\"word  \" >\n",
       "<a href=\"#\" class=\"nd\">521</a>\n",
       "<div class=\"h\"><a target=\"_blank\" href=\"https://shebanq.ancient-data.org/hebrew/word?version=c&amp;id=1KLn\" title=\"show this lexeme in SHEBANQ\">כָל־</a></div>\n",
       "<div class=\"features\"> <span class=\"pdp\"><a href=\"https://shebanq.ancient-data.org/hebrew/text?book=Genesis&amp;chapter=1&amp;verse=26&amp;version=c&amp;mr=m&amp;qw=q&amp;tp=txt_p&amp;tr=hb&amp;wget=v&amp;qget=v&amp;nget=vt\" title=\"Genesis 1:26\" sec=\"Genesis 1:26\">subs</a></span> <span class=\"gloss\">whole</span> <span class=\"sp xft\"><span class=\"f\">sp=</span>subs</span></div>\n",
       "\n",
       "\n",
       "</div>\n",
       "\n",
       "<div class=\"word  \" >\n",
       "<a href=\"#\" class=\"nd\">522</a>\n",
       "<div class=\"h\"><a target=\"_blank\" href=\"https://shebanq.ancient-data.org/hebrew/word?version=c&amp;id=1H\" title=\"show this lexeme in SHEBANQ\">הָ</a></div>\n",
       "<div class=\"features\"> <span class=\"pdp\"><a href=\"https://shebanq.ancient-data.org/hebrew/text?book=Genesis&amp;chapter=1&amp;verse=26&amp;version=c&amp;mr=m&amp;qw=q&amp;tp=txt_p&amp;tr=hb&amp;wget=v&amp;qget=v&amp;nget=vt\" title=\"Genesis 1:26\" sec=\"Genesis 1:26\">art</a></span> <span class=\"gloss\">the</span> <span class=\"sp xft\"><span class=\"f\">sp=</span>art</span></div>\n",
       "\n",
       "\n",
       "</div>\n",
       "\n",
       "<div class=\"word  \" >\n",
       "<a href=\"#\" class=\"nd\">523</a>\n",
       "<div class=\"h\"><a target=\"_blank\" href=\"https://shebanq.ancient-data.org/hebrew/word?version=c&amp;id=1ARYn\" title=\"show this lexeme in SHEBANQ\">אָ֔רֶץ </a></div>\n",
       "<div class=\"features\"> <span class=\"pdp\"><a href=\"https://shebanq.ancient-data.org/hebrew/text?book=Genesis&amp;chapter=1&amp;verse=26&amp;version=c&amp;mr=m&amp;qw=q&amp;tp=txt_p&amp;tr=hb&amp;wget=v&amp;qget=v&amp;nget=vt\" title=\"Genesis 1:26\" sec=\"Genesis 1:26\">subs</a></span> <span class=\"gloss\">earth</span> <span class=\"sp xft\"><span class=\"f\">sp=</span>subs</span></div>\n",
       "\n",
       "\n",
       "</div>\n",
       "\n",
       "\n",
       "    </div>\n",
       "\n",
       "\n",
       "</div>\n",
       "\n",
       "<div class=\"patom  r l \" >\n",
       "\n",
       "    <div class=\"phrase \" >\n",
       "        <a href=\"https://shebanq.ancient-data.org/hebrew/text?book=Genesis&amp;chapter=1&amp;verse=26&amp;version=c&amp;mr=m&amp;qw=q&amp;tp=txt_p&amp;tr=hb&amp;wget=v&amp;qget=v&amp;nget=vt\" title=\"Genesis 1:26\" sec=\"Genesis 1:26\">phrase</a> <a href=\"#\" class=\"nd\">651834</a>  <span class=\"function\">Cmpl</span> <span class=\"typ\">PP|CP</span>\n",
       "    </div>\n",
       "    <div class=\"atoms\">\n",
       "\n",
       "<div class=\"word  \" >\n",
       "<a href=\"#\" class=\"nd\">524</a>\n",
       "<div class=\"h\"><a target=\"_blank\" href=\"https://shebanq.ancient-data.org/hebrew/word?version=c&amp;id=1W\" title=\"show this lexeme in SHEBANQ\">וּ</a></div>\n",
       "<div class=\"features\"> <span class=\"pdp\"><a href=\"https://shebanq.ancient-data.org/hebrew/text?book=Genesis&amp;chapter=1&amp;verse=26&amp;version=c&amp;mr=m&amp;qw=q&amp;tp=txt_p&amp;tr=hb&amp;wget=v&amp;qget=v&amp;nget=vt\" title=\"Genesis 1:26\" sec=\"Genesis 1:26\">conj</a></span> <span class=\"gloss\">and</span> <span class=\"sp xft\"><span class=\"f\">sp=</span>conj</span></div>\n",
       "\n",
       "\n",
       "</div>\n",
       "\n",
       "\n",
       "    </div>\n",
       "\n",
       "\n",
       "</div>\n",
       "\n",
       "<div class=\"patom  r \" >\n",
       "\n",
       "    <div class=\"phrase \" >\n",
       "        <a href=\"https://shebanq.ancient-data.org/hebrew/text?book=Genesis&amp;chapter=1&amp;verse=26&amp;version=c&amp;mr=m&amp;qw=q&amp;tp=txt_p&amp;tr=hb&amp;wget=v&amp;qget=v&amp;nget=vt\" title=\"Genesis 1:26\" sec=\"Genesis 1:26\">phrase</a> <a href=\"#\" class=\"nd\">651834</a>  <span class=\"function\">Cmpl</span> <span class=\"typ\">PP</span>\n",
       "    </div>\n",
       "    <div class=\"atoms\">\n",
       "\n",
       "<div class=\"word  \" >\n",
       "<a href=\"#\" class=\"nd\">525</a>\n",
       "<div class=\"h\"><a target=\"_blank\" href=\"https://shebanq.ancient-data.org/hebrew/word?version=c&amp;id=1B\" title=\"show this lexeme in SHEBANQ\">בְ</a></div>\n",
       "<div class=\"features\"> <span class=\"pdp\"><a href=\"https://shebanq.ancient-data.org/hebrew/text?book=Genesis&amp;chapter=1&amp;verse=26&amp;version=c&amp;mr=m&amp;qw=q&amp;tp=txt_p&amp;tr=hb&amp;wget=v&amp;qget=v&amp;nget=vt\" title=\"Genesis 1:26\" sec=\"Genesis 1:26\">prep</a></span> <span class=\"gloss\">in</span> <span class=\"sp xft\"><span class=\"f\">sp=</span>prep</span></div>\n",
       "\n",
       "\n",
       "</div>\n",
       "\n",
       "<div class=\"word  \" >\n",
       "<a href=\"#\" class=\"nd\">526</a>\n",
       "<div class=\"h\"><a target=\"_blank\" href=\"https://shebanq.ancient-data.org/hebrew/word?version=c&amp;id=1KLn\" title=\"show this lexeme in SHEBANQ\">כָל־</a></div>\n",
       "<div class=\"features\"> <span class=\"pdp\"><a href=\"https://shebanq.ancient-data.org/hebrew/text?book=Genesis&amp;chapter=1&amp;verse=26&amp;version=c&amp;mr=m&amp;qw=q&amp;tp=txt_p&amp;tr=hb&amp;wget=v&amp;qget=v&amp;nget=vt\" title=\"Genesis 1:26\" sec=\"Genesis 1:26\">subs</a></span> <span class=\"gloss\">whole</span> <span class=\"sp xft\"><span class=\"f\">sp=</span>subs</span></div>\n",
       "\n",
       "\n",
       "</div>\n",
       "\n",
       "<div class=\"word  \" >\n",
       "<a href=\"#\" class=\"nd\">527</a>\n",
       "<div class=\"h\"><a target=\"_blank\" href=\"https://shebanq.ancient-data.org/hebrew/word?version=c&amp;id=1H\" title=\"show this lexeme in SHEBANQ\">הָ</a></div>\n",
       "<div class=\"features\"> <span class=\"pdp\"><a href=\"https://shebanq.ancient-data.org/hebrew/text?book=Genesis&amp;chapter=1&amp;verse=26&amp;version=c&amp;mr=m&amp;qw=q&amp;tp=txt_p&amp;tr=hb&amp;wget=v&amp;qget=v&amp;nget=vt\" title=\"Genesis 1:26\" sec=\"Genesis 1:26\">art</a></span> <span class=\"gloss\">the</span> <span class=\"sp xft\"><span class=\"f\">sp=</span>art</span></div>\n",
       "\n",
       "\n",
       "</div>\n",
       "\n",
       "<div class=\"word  \" >\n",
       "<a href=\"#\" class=\"nd\">528</a>\n",
       "<div class=\"h\"><a target=\"_blank\" href=\"https://shebanq.ancient-data.org/hebrew/word?version=c&amp;id=1RMFn\" title=\"show this lexeme in SHEBANQ\">רֶ֖מֶשׂ </a></div>\n",
       "<div class=\"features\"> <span class=\"pdp\"><a href=\"https://shebanq.ancient-data.org/hebrew/text?book=Genesis&amp;chapter=1&amp;verse=26&amp;version=c&amp;mr=m&amp;qw=q&amp;tp=txt_p&amp;tr=hb&amp;wget=v&amp;qget=v&amp;nget=vt\" title=\"Genesis 1:26\" sec=\"Genesis 1:26\">subs</a></span> <span class=\"gloss\">creeping animals</span> <span class=\"sp xft\"><span class=\"f\">sp=</span>subs</span></div>\n",
       "\n",
       "\n",
       "</div>\n",
       "\n",
       "\n",
       "    </div>\n",
       "\n",
       "\n",
       "</div>\n",
       "\n",
       "\n",
       "</div>\n"
      ],
      "text/plain": [
       "<IPython.core.display.HTML object>"
      ]
     },
     "metadata": {},
     "output_type": "display_data"
    }
   ],
   "source": [
    "A.pretty(651834, withNodes=True)"
   ]
  },
  {
   "cell_type": "markdown",
   "metadata": {},
   "source": [
    "### The Function"
   ]
  },
  {
   "cell_type": "code",
   "execution_count": 19,
   "metadata": {},
   "outputs": [],
   "source": [
    "def get(give, args):\n",
    "    '''\n",
    "    Checks truth condition of args,\n",
    "    if true, returns give.\n",
    "    '''\n",
    "    if args:\n",
    "        return give\n",
    "    \n",
    "def clear(iterable):\n",
    "    '''\n",
    "    Clears iterables of any \n",
    "    False or zero objects.\n",
    "    '''\n",
    "    return [i for i in iterable if i]"
   ]
  },
  {
   "cell_type": "code",
   "execution_count": 123,
   "metadata": {},
   "outputs": [],
   "source": [
    "ptcp = {'ptca', 'ptcp'} # participles\n",
    "\n",
    "# gather all candidates\n",
    "cands = [w for w in F.otype.s('word')\n",
    "            if F.sp.v(w) in cand_sps-{'verb'}] \n",
    "cands.extend(w for w in F.otype.s('word')\n",
    "                if F.sp.v(w) == 'verb' and F.vt.v(w) in ptcp)\n",
    "\n",
    "def val_head(cand, talk=False):\n",
    "    '''\n",
    "    Checks for the syntactic autonomy of a \n",
    "    provided NP head candidate (wordnode).\n",
    "    Arguments are loaded into a list with \n",
    "    the `check` function, which returns a \n",
    "    requested item if the arguments are valid.\n",
    "    '''\n",
    "    \n",
    "    if talk:\n",
    "        print(f'\\tprocessing {T.text(cand or 0)}', cand)\n",
    "    \n",
    "    # for recursive calls within phrase\n",
    "    if cand == None:\n",
    "        return False\n",
    "    \n",
    "    # get word positions around candidate\n",
    "    pos = Positions(cand, 'phrase_atom')\n",
    "    sp = F.sp.v(cand)\n",
    "    good = cand in cands\n",
    "    \n",
    "    # rules for classifying particular parts of speech\n",
    "    pos_rules = {\n",
    "        \n",
    "        'verb': F.vt.v(cand) in ptcp,\n",
    "        'prde': not any([F.sp.v(pos[-1]) in {'art', 'subs', 'adjv'},\n",
    "                         F.sp.v(pos[1] in {'subs', 'adjv'})])\n",
    "                }\n",
    "    \n",
    "    # construct pattern\n",
    "    const = clear([pos[-1] if F.st.v(pos[-1])=='c' else None,\n",
    "                   pos[-2] if F.st.v(pos[-2])=='c' and F.sp.v(pos[-1])=='art' else None\n",
    "                  ])\n",
    "    \n",
    "\n",
    "    # adjective patterns\n",
    "    adjv = clear([\n",
    "                  pos[-2] if (F.sp.v(pos[-1])=='art' and pos[-2] in cands) else None,\n",
    "                  pos[-1] if val_head(pos[-1]) else None\n",
    "        \n",
    "                 ])\n",
    "    \n",
    "    # prepositional modifier pattern\n",
    "    prep = clear([\n",
    "                  pos[-2] if (F.sp.v(pos[-1])=='prep' and val_head(pos[-2])) else None,\n",
    "                  pos[-3] if (F.sp.v(pos[-1])=='art' and F.sp.v(pos[-2])=='prep'\\\n",
    "                                  and val_head(pos[-3])) else None\n",
    "                ])\n",
    "    \n",
    "    # coordinate check\n",
    "    coord = clear([pos[-2] if F.sp.v(pos[-1])=='conj' and not val_head(pos[-2]) else None,\n",
    "                   pos[-3] if (F.sp.v(pos[-1])=='art' and F.sp.v(pos[-2])=='conj'\\\n",
    "                                   and not val_head(pos[-3])) else None,\n",
    "                   pos[-1] if not val_head(pos[-1]) and pos[-1] in cands else None # adjacent coordination: e.g. dog, cat, and man\n",
    "                  ])\n",
    "    \n",
    "    # quant check\n",
    "    quant = any([cand in quantifiers and pos[1] not in quantifiers,\n",
    "                 cand in quantifiers and pos[-1] not in quantifiers,\n",
    "                 cand in quantifiers and F.sp.v(pos[1])=='art' and pos[2] not in quantifiers,\n",
    "                ])\n",
    "    \n",
    "    # independence check\n",
    "    # quantifiers and modifiers are handled here\n",
    "    inde = []\n",
    "    inde.extend(c for c in const if not (c in quantifiers and cand not in quantifiers))\n",
    "    inde.extend(a for a in adjv if not (a in quantifiers and cand not in quantifiers))\n",
    "    inde.extend(c for c in coord if not (c in quantifiers and cand not in quantifiers))\n",
    "    inde_check = not inde and not prep and not quant\n",
    "    \n",
    "    # check all rules\n",
    "    if talk:\n",
    "        print('\\t\\t', inde)\n",
    "        print({'adjv': adjv,})\n",
    "        print('\\t\\t', good, pos_rules.get(sp, True),\n",
    "                inde_check)\n",
    "    \n",
    "    return all([\n",
    "                good, \n",
    "                pos_rules.get(sp, True),\n",
    "                inde_check\n",
    "               ])"
   ]
  },
  {
   "cell_type": "code",
   "execution_count": 84,
   "metadata": {},
   "outputs": [
    {
     "data": {
      "text/plain": [
       "892"
      ]
     },
     "execution_count": 84,
     "metadata": {},
     "output_type": "execute_result"
    }
   ],
   "source": [
    "# get complicated test phrases\n",
    "\n",
    "testers = []\n",
    "\n",
    "for p in nps:\n",
    "    \n",
    "    cands = [w for w in L.d(p, 'word') if F.sp.v(w) in cand_sps]\n",
    "    \n",
    "    if len(cands) == 4:\n",
    "        testers.append((p,))\n",
    "        \n",
    "len(testers)"
   ]
  },
  {
   "cell_type": "code",
   "execution_count": 126,
   "metadata": {},
   "outputs": [],
   "source": [
    "random.shuffle(testers)"
   ]
  },
  {
   "cell_type": "code",
   "execution_count": 127,
   "metadata": {},
   "outputs": [
    {
     "name": "stdout",
     "output_type": "stream",
     "text": [
      "\n"
     ]
    },
    {
     "data": {
      "text/html": [
       "<a href=\"https://shebanq.ancient-data.org/hebrew/text?book=Hosea&amp;chapter=1&amp;verse=2&amp;version=c&amp;mr=m&amp;qw=q&amp;tp=txt_p&amp;tr=hb&amp;wget=v&amp;qget=v&amp;nget=vt\" title=\"show this passage in SHEBANQ\" sec=\"Hosea 1:2\">Hosea 1:2</a>&nbsp;<span class=\"hb\"><a href=\"https://shebanq.ancient-data.org/hebrew/text?book=Hosea&amp;chapter=1&amp;verse=2&amp;version=c&amp;mr=m&amp;qw=q&amp;tp=txt_p&amp;tr=hb&amp;wget=v&amp;qget=v&amp;nget=vt\" title=\"Hosea 1:2\" sec=\"Hosea 1:2\">אֵ֤שֶׁת זְנוּנִים֙ וְיַלְדֵ֣י זְנוּנִ֔ים </a></span>"
      ],
      "text/plain": [
       "<IPython.core.display.HTML object>"
      ]
     },
     "metadata": {},
     "output_type": "display_data"
    },
    {
     "name": "stdout",
     "output_type": "stream",
     "text": [
      "\n",
      "\t\t\t\tHEADs: ['אֵ֤שֶׁת ']\n",
      "\n",
      "---------------\n",
      "\n"
     ]
    },
    {
     "data": {
      "text/html": [
       "<a href=\"https://shebanq.ancient-data.org/hebrew/text?book=Chronica_I&amp;chapter=29&amp;verse=18&amp;version=c&amp;mr=m&amp;qw=q&amp;tp=txt_p&amp;tr=hb&amp;wget=v&amp;qget=v&amp;nget=vt\" title=\"show this passage in SHEBANQ\" sec=\"1_Chronicles 29:18\">1_Chronicles 29:18</a>&nbsp;<span class=\"hb\"><a href=\"https://shebanq.ancient-data.org/hebrew/text?book=Chronica_I&amp;chapter=29&amp;verse=18&amp;version=c&amp;mr=m&amp;qw=q&amp;tp=txt_p&amp;tr=hb&amp;wget=v&amp;qget=v&amp;nget=vt\" title=\"1_Chronicles 29:18\" sec=\"1_Chronicles 29:18\">אֱ֠לֹהֵי אַבְרָהָ֞ם יִצְחָ֤ק וְיִשְׂרָאֵל֙ </a></span>"
      ],
      "text/plain": [
       "<IPython.core.display.HTML object>"
      ]
     },
     "metadata": {},
     "output_type": "display_data"
    },
    {
     "name": "stdout",
     "output_type": "stream",
     "text": [
      "\n",
      "\t\t\t\tHEADs: ['אֱ֠לֹהֵי ']\n",
      "\n",
      "---------------\n",
      "\n"
     ]
    },
    {
     "data": {
      "text/html": [
       "<a href=\"https://shebanq.ancient-data.org/hebrew/text?book=Nehemia&amp;chapter=3&amp;verse=18&amp;version=c&amp;mr=m&amp;qw=q&amp;tp=txt_p&amp;tr=hb&amp;wget=v&amp;qget=v&amp;nget=vt\" title=\"show this passage in SHEBANQ\" sec=\"Nehemiah 3:18\">Nehemiah 3:18</a>&nbsp;<span class=\"hb\"><a href=\"https://shebanq.ancient-data.org/hebrew/text?book=Nehemia&amp;chapter=3&amp;verse=18&amp;version=c&amp;mr=m&amp;qw=q&amp;tp=txt_p&amp;tr=hb&amp;wget=v&amp;qget=v&amp;nget=vt\" title=\"Nehemiah 3:18\" sec=\"Nehemiah 3:18\">שַׂ֕ר חֲצִ֖י פֶּ֥לֶךְ קְעִילָֽה׃ ס </a></span>"
      ],
      "text/plain": [
       "<IPython.core.display.HTML object>"
      ]
     },
     "metadata": {},
     "output_type": "display_data"
    },
    {
     "name": "stdout",
     "output_type": "stream",
     "text": [
      "\n",
      "\t\t\t\tHEADs: ['שַׂ֕ר ', 'פֶּ֥לֶךְ ']\n",
      "\n",
      "---------------\n",
      "\n"
     ]
    },
    {
     "data": {
      "text/html": [
       "<a href=\"https://shebanq.ancient-data.org/hebrew/text?book=Jesaia&amp;chapter=1&amp;verse=11&amp;version=c&amp;mr=m&amp;qw=q&amp;tp=txt_p&amp;tr=hb&amp;wget=v&amp;qget=v&amp;nget=vt\" title=\"show this passage in SHEBANQ\" sec=\"Isaiah 1:11\">Isaiah 1:11</a>&nbsp;<span class=\"hb\"><a href=\"https://shebanq.ancient-data.org/hebrew/text?book=Jesaia&amp;chapter=1&amp;verse=11&amp;version=c&amp;mr=m&amp;qw=q&amp;tp=txt_p&amp;tr=hb&amp;wget=v&amp;qget=v&amp;nget=vt\" title=\"Isaiah 1:11\" sec=\"Isaiah 1:11\">עֹלֹ֥ות אֵילִ֖ים וְחֵ֣לֶב מְרִיאִ֑ים </a></span>"
      ],
      "text/plain": [
       "<IPython.core.display.HTML object>"
      ]
     },
     "metadata": {},
     "output_type": "display_data"
    },
    {
     "name": "stdout",
     "output_type": "stream",
     "text": [
      "\n",
      "\t\t\t\tHEADs: ['עֹלֹ֥ות ']\n",
      "\n",
      "---------------\n",
      "\n"
     ]
    },
    {
     "data": {
      "text/html": [
       "<a href=\"https://shebanq.ancient-data.org/hebrew/text?book=Joel&amp;chapter=3&amp;verse=4&amp;version=c&amp;mr=m&amp;qw=q&amp;tp=txt_p&amp;tr=hb&amp;wget=v&amp;qget=v&amp;nget=vt\" title=\"show this passage in SHEBANQ\" sec=\"Joel 3:4\">Joel 3:4</a>&nbsp;<span class=\"hb\"><a href=\"https://shebanq.ancient-data.org/hebrew/text?book=Joel&amp;chapter=3&amp;verse=4&amp;version=c&amp;mr=m&amp;qw=q&amp;tp=txt_p&amp;tr=hb&amp;wget=v&amp;qget=v&amp;nget=vt\" title=\"Joel 3:4\" sec=\"Joel 3:4\">יֹ֣ום יְהוָ֔ה הַגָּדֹ֖ול וְהַנֹּורָֽא׃ </a></span>"
      ],
      "text/plain": [
       "<IPython.core.display.HTML object>"
      ]
     },
     "metadata": {},
     "output_type": "display_data"
    },
    {
     "name": "stdout",
     "output_type": "stream",
     "text": [
      "\n",
      "\t\t\t\tHEADs: ['יֹ֣ום ']\n",
      "\n",
      "---------------\n"
     ]
    }
   ],
   "source": [
    "test = testers[0][0]\n",
    "\n",
    "\n",
    "for p in testers[:5]:\n",
    "    \n",
    "    heads = []\n",
    "    \n",
    "    test = p[0]\n",
    "    \n",
    "    for w in L.d(test, 'word'):\n",
    "\n",
    "        if val_head(w):\n",
    "            heads.append(w)\n",
    "    \n",
    "    print()\n",
    "    A.plain(test)\n",
    "    print()\n",
    "    print(f'\\t\\t\\t\\tHEADs: {[T.text(h) for h in heads]}')\n",
    "    print()\n",
    "    print('-'*15)"
   ]
  },
  {
   "cell_type": "code",
   "execution_count": 274,
   "metadata": {},
   "outputs": [],
   "source": [
    "# A.table(A.search('''\n",
    "\n",
    "# phrase\n",
    "#     word pdp=subs st=c ls#card lex#BN/ sp#verb\n",
    "#     <: word pdp=subs st=a\n",
    "#     <: word sp=conj\n",
    "#     <: word pdp=subs st=a\n",
    "    \n",
    "# '''), withNodes=True)"
   ]
  }
 ],
 "metadata": {
  "kernelspec": {
   "display_name": "Python 3",
   "language": "python",
   "name": "python3"
  },
  "language_info": {
   "codemirror_mode": {
    "name": "ipython",
    "version": 3
   },
   "file_extension": ".py",
   "mimetype": "text/x-python",
   "name": "python",
   "nbconvert_exporter": "python",
   "pygments_lexer": "ipython3",
   "version": "3.7.0"
  }
 },
 "nbformat": 4,
 "nbformat_minor": 2
}
